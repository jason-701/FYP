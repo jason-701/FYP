{
 "cells": [
  {
   "cell_type": "code",
   "execution_count": 104,
   "metadata": {},
   "outputs": [],
   "source": [
    "import tensorflow"
   ]
  },
  {
   "cell_type": "code",
   "execution_count": 105,
   "metadata": {},
   "outputs": [],
   "source": [
    "import pandas as pd\n",
    "from sklearn.preprocessing import StandardScaler\n",
    "from sklearn.model_selection import train_test_split\n",
    "from tensorflow.keras.models import Model, Sequential, load_model\n",
    "from tensorflow.keras.layers import Dense, Input\n",
    "from tensorflow.keras.optimizers import Adam\n",
    "from tensorflow.keras.callbacks import EarlyStopping\n",
    "import numpy as np\n",
    "from sklearn.metrics import mean_squared_error\n",
    "import matplotlib.pyplot as plt\n",
    "from imblearn.over_sampling import SMOTE\n",
    "import os\n"
   ]
  },
  {
   "cell_type": "code",
   "execution_count": 106,
   "metadata": {},
   "outputs": [
    {
     "name": "stdout",
     "output_type": "stream",
     "text": [
      "Index(['gender', 'age', 'hypertension', 'heart_disease', 'smoking_history',\n",
      "       'bmi', 'HbA1c_level', 'blood_glucose_level', 'diabetes'],\n",
      "      dtype='object')\n"
     ]
    }
   ],
   "source": [
    "\n",
    "# Read the CSV file\n",
    "df = pd.read_csv('diabetes_prediction_dataset.csv')\n",
    "print(df.columns)"
   ]
  },
  {
   "cell_type": "markdown",
   "metadata": {},
   "source": [
    "## <span style=\"color:red\">Preprocessing</span>"
   ]
  },
  {
   "cell_type": "code",
   "execution_count": 107,
   "metadata": {},
   "outputs": [
    {
     "name": "stdout",
     "output_type": "stream",
     "text": [
      "gender                 0\n",
      "age                    0\n",
      "hypertension           0\n",
      "heart_disease          0\n",
      "smoking_history        0\n",
      "bmi                    0\n",
      "HbA1c_level            0\n",
      "blood_glucose_level    0\n",
      "diabetes               0\n",
      "dtype: int64\n"
     ]
    }
   ],
   "source": [
    "null_counts = df.isnull().sum()\n",
    "print(null_counts)"
   ]
  },
  {
   "cell_type": "markdown",
   "metadata": {},
   "source": [
    "### <span style=\"color:yellow\">No columns have null values</span>"
   ]
  },
  {
   "cell_type": "code",
   "execution_count": 108,
   "metadata": {},
   "outputs": [
    {
     "name": "stdout",
     "output_type": "stream",
     "text": [
      "number of unique values in gender : 3\n",
      "number of unique values in age : 102\n",
      "number of unique values in hypertension : 2\n",
      "number of unique values in heart_disease : 2\n",
      "number of unique values in smoking_history : 6\n",
      "number of unique values in bmi : 4247\n",
      "number of unique values in HbA1c_level : 18\n",
      "number of unique values in blood_glucose_level : 18\n",
      "number of unique values in diabetes : 2\n"
     ]
    }
   ],
   "source": [
    "for i in df.columns:\n",
    "    print(\"number of unique values in\", i, \":\", df[i].nunique())"
   ]
  },
  {
   "cell_type": "markdown",
   "metadata": {},
   "source": [
    "### <span style=\"color:yellow\">One-hot encoding for gender and smoking_history</span>"
   ]
  },
  {
   "cell_type": "code",
   "execution_count": 109,
   "metadata": {},
   "outputs": [
    {
     "name": "stdout",
     "output_type": "stream",
     "text": [
      "    age  hypertension  heart_disease    bmi  HbA1c_level  blood_glucose_level  \\\n",
      "0  80.0             0              1  25.19          6.6                  140   \n",
      "1  54.0             0              0  27.32          6.6                   80   \n",
      "2  28.0             0              0  27.32          5.7                  158   \n",
      "3  36.0             0              0  23.45          5.0                  155   \n",
      "4  76.0             1              1  20.14          4.8                  155   \n",
      "\n",
      "   diabetes  gender_Male  gender_Other  smoking_history_current  \\\n",
      "0         0        False         False                    False   \n",
      "1         0        False         False                    False   \n",
      "2         0         True         False                    False   \n",
      "3         0        False         False                     True   \n",
      "4         0         True         False                     True   \n",
      "\n",
      "   smoking_history_ever  smoking_history_former  smoking_history_never  \\\n",
      "0                 False                   False                   True   \n",
      "1                 False                   False                  False   \n",
      "2                 False                   False                   True   \n",
      "3                 False                   False                  False   \n",
      "4                 False                   False                  False   \n",
      "\n",
      "   smoking_history_not current  \n",
      "0                        False  \n",
      "1                        False  \n",
      "2                        False  \n",
      "3                        False  \n",
      "4                        False  \n"
     ]
    }
   ],
   "source": [
    "df_encoded = pd.get_dummies(df, columns=['gender', 'smoking_history'], drop_first=True)\n",
    "print(df_encoded.head())"
   ]
  },
  {
   "cell_type": "markdown",
   "metadata": {},
   "source": [
    "### <span style=\"color:yellow\">Normalizing the data</span>"
   ]
  },
  {
   "cell_type": "code",
   "execution_count": 110,
   "metadata": {},
   "outputs": [
    {
     "name": "stdout",
     "output_type": "stream",
     "text": [
      "Index(['gender_Male', 'gender_Other', 'smoking_history_current',\n",
      "       'smoking_history_ever', 'smoking_history_former',\n",
      "       'smoking_history_never', 'smoking_history_not current'],\n",
      "      dtype='object')\n",
      "Index(['age', 'hypertension', 'heart_disease', 'bmi', 'HbA1c_level',\n",
      "       'blood_glucose_level', 'diabetes'],\n",
      "      dtype='object')\n"
     ]
    }
   ],
   "source": [
    "boolean_columns = df_encoded.select_dtypes(include=bool).columns\n",
    "numerical_columns = df_encoded.select_dtypes(include=np.number).columns\n",
    "print(boolean_columns)\n",
    "print(numerical_columns)"
   ]
  },
  {
   "cell_type": "code",
   "execution_count": 111,
   "metadata": {},
   "outputs": [
    {
     "name": "stdout",
     "output_type": "stream",
     "text": [
      "Resampled and Scaled DataFrame:\n",
      "        age  hypertension  heart_disease       bmi  HbA1c_level  \\\n",
      "0  1.645531     -0.284262       4.941944 -0.350389     0.908296   \n",
      "1  0.493983     -0.284262      -0.202350 -0.034864     0.908296   \n",
      "2 -0.657565     -0.284262      -0.202350 -0.034864     0.094456   \n",
      "3 -0.303243     -0.284262      -0.202350 -0.608142    -0.538531   \n",
      "4  1.468370      3.517882       4.941944 -1.098465    -0.719385   \n",
      "\n",
      "   blood_glucose_level  gender_Male  gender_Other  smoking_history_current  \\\n",
      "0            -0.018695        False         False                    False   \n",
      "1            -1.399270        False         False                    False   \n",
      "2             0.395478         True         False                    False   \n",
      "3             0.326449        False         False                     True   \n",
      "4             0.326449         True         False                     True   \n",
      "\n",
      "   smoking_history_ever  smoking_history_former  smoking_history_never  \\\n",
      "0                 False                   False                   True   \n",
      "1                 False                   False                  False   \n",
      "2                 False                   False                   True   \n",
      "3                 False                   False                  False   \n",
      "4                 False                   False                  False   \n",
      "\n",
      "   smoking_history_not current  diabetes  \n",
      "0                        False         0  \n",
      "1                        False         0  \n",
      "2                        False         0  \n",
      "3                        False         0  \n",
      "4                        False         0  \n",
      "\n",
      "Class Distribution After Resampling:\n",
      "diabetes\n",
      "0    91500\n",
      "1    13725\n",
      "Name: count, dtype: int64\n"
     ]
    }
   ],
   "source": [
    "# Separate features and target\n",
    "X = df_encoded.drop(columns=['diabetes'])\n",
    "y = df_encoded['diabetes']\n",
    "\n",
    "# Identify numerical and boolean columns\n",
    "numerical_columns = X.select_dtypes(include=['float64', 'int64']).columns\n",
    "boolean_columns = X.select_dtypes(include=['bool']).columns\n",
    "\n",
    "# Resample the data using SMOTE\n",
    "smote = SMOTE(random_state=42, sampling_strategy=0.15)\n",
    "X_resampled, y_resampled = smote.fit_resample(X, y)\n",
    "\n",
    "# Normalize the numerical features\n",
    "scaler = StandardScaler()\n",
    "X_resampled_numerical = pd.DataFrame(scaler.fit_transform(X_resampled[numerical_columns]), columns=numerical_columns)\n",
    "\n",
    "# Combine the normalized numerical features with the boolean features\n",
    "X_resampled_scaled = pd.concat([X_resampled_numerical, X_resampled[boolean_columns].reset_index(drop=True)], axis=1)\n",
    "\n",
    "# Add the target variable back to the DataFrame\n",
    "df_resampled_scaled = pd.concat([X_resampled_scaled, y_resampled.reset_index(drop=True)], axis=1)\n",
    "\n",
    "# Display the first few rows of the resampled and scaled DataFrame\n",
    "print(\"Resampled and Scaled DataFrame:\")\n",
    "print(df_resampled_scaled.head())\n",
    "\n",
    "# Check the class distribution after resampling\n",
    "print(\"\\nClass Distribution After Resampling:\")\n",
    "print(df_resampled_scaled['diabetes'].value_counts())"
   ]
  },
  {
   "cell_type": "markdown",
   "metadata": {},
   "source": [
    "### <span style=\"color:yellow\">Train test split</span>"
   ]
  },
  {
   "cell_type": "code",
   "execution_count": 112,
   "metadata": {},
   "outputs": [],
   "source": [
    "x = df_resampled_scaled.drop('diabetes', axis=1)\n",
    "y = df_resampled_scaled['diabetes']\n",
    "x_train, x_test, y_train, y_test = train_test_split(x, y, test_size=0.2, random_state=42)"
   ]
  },
  {
   "cell_type": "markdown",
   "metadata": {},
   "source": [
    "### <span style=\"color:yellow\">Training an MLP model</span>"
   ]
  },
  {
   "cell_type": "code",
   "execution_count": 113,
   "metadata": {},
   "outputs": [
    {
     "name": "stdout",
     "output_type": "stream",
     "text": [
      "Model file does not exist. Training a new model...\n",
      "Epoch 1/50\n"
     ]
    },
    {
     "name": "stderr",
     "output_type": "stream",
     "text": [
      "d:\\FYP\\.venv\\lib\\site-packages\\keras\\src\\layers\\core\\dense.py:87: UserWarning: Do not pass an `input_shape`/`input_dim` argument to a layer. When using Sequential models, prefer using an `Input(shape)` object as the first layer in the model instead.\n",
      "  super().__init__(activity_regularizer=activity_regularizer, **kwargs)\n"
     ]
    },
    {
     "name": "stdout",
     "output_type": "stream",
     "text": [
      "\u001b[1m2105/2105\u001b[0m \u001b[32m━━━━━━━━━━━━━━━━━━━━\u001b[0m\u001b[37m\u001b[0m \u001b[1m5s\u001b[0m 2ms/step - loss: 0.0514 - val_loss: 0.0423\n",
      "Epoch 2/50\n",
      "\u001b[1m2105/2105\u001b[0m \u001b[32m━━━━━━━━━━━━━━━━━━━━\u001b[0m\u001b[37m\u001b[0m \u001b[1m4s\u001b[0m 2ms/step - loss: 0.0414 - val_loss: 0.0395\n",
      "Epoch 3/50\n",
      "\u001b[1m2105/2105\u001b[0m \u001b[32m━━━━━━━━━━━━━━━━━━━━\u001b[0m\u001b[37m\u001b[0m \u001b[1m4s\u001b[0m 2ms/step - loss: 0.0397 - val_loss: 0.0377\n",
      "Epoch 4/50\n",
      "\u001b[1m2105/2105\u001b[0m \u001b[32m━━━━━━━━━━━━━━━━━━━━\u001b[0m\u001b[37m\u001b[0m \u001b[1m4s\u001b[0m 2ms/step - loss: 0.0377 - val_loss: 0.0349\n",
      "Epoch 5/50\n",
      "\u001b[1m2105/2105\u001b[0m \u001b[32m━━━━━━━━━━━━━━━━━━━━\u001b[0m\u001b[37m\u001b[0m \u001b[1m4s\u001b[0m 2ms/step - loss: 0.0343 - val_loss: 0.0337\n",
      "Epoch 6/50\n",
      "\u001b[1m2105/2105\u001b[0m \u001b[32m━━━━━━━━━━━━━━━━━━━━\u001b[0m\u001b[37m\u001b[0m \u001b[1m4s\u001b[0m 2ms/step - loss: 0.0328 - val_loss: 0.0331\n",
      "Epoch 7/50\n",
      "\u001b[1m2105/2105\u001b[0m \u001b[32m━━━━━━━━━━━━━━━━━━━━\u001b[0m\u001b[37m\u001b[0m \u001b[1m4s\u001b[0m 2ms/step - loss: 0.0325 - val_loss: 0.0322\n",
      "Epoch 8/50\n",
      "\u001b[1m2105/2105\u001b[0m \u001b[32m━━━━━━━━━━━━━━━━━━━━\u001b[0m\u001b[37m\u001b[0m \u001b[1m4s\u001b[0m 2ms/step - loss: 0.0315 - val_loss: 0.0318\n",
      "Epoch 9/50\n",
      "\u001b[1m2105/2105\u001b[0m \u001b[32m━━━━━━━━━━━━━━━━━━━━\u001b[0m\u001b[37m\u001b[0m \u001b[1m4s\u001b[0m 2ms/step - loss: 0.0305 - val_loss: 0.0312\n",
      "Epoch 10/50\n",
      "\u001b[1m2105/2105\u001b[0m \u001b[32m━━━━━━━━━━━━━━━━━━━━\u001b[0m\u001b[37m\u001b[0m \u001b[1m4s\u001b[0m 2ms/step - loss: 0.0297 - val_loss: 0.0303\n",
      "Epoch 11/50\n",
      "\u001b[1m2105/2105\u001b[0m \u001b[32m━━━━━━━━━━━━━━━━━━━━\u001b[0m\u001b[37m\u001b[0m \u001b[1m4s\u001b[0m 2ms/step - loss: 0.0299 - val_loss: 0.0317\n",
      "Epoch 12/50\n",
      "\u001b[1m2105/2105\u001b[0m \u001b[32m━━━━━━━━━━━━━━━━━━━━\u001b[0m\u001b[37m\u001b[0m \u001b[1m4s\u001b[0m 2ms/step - loss: 0.0302 - val_loss: 0.0305\n",
      "Epoch 13/50\n",
      "\u001b[1m2105/2105\u001b[0m \u001b[32m━━━━━━━━━━━━━━━━━━━━\u001b[0m\u001b[37m\u001b[0m \u001b[1m4s\u001b[0m 2ms/step - loss: 0.0295 - val_loss: 0.0315\n",
      "Model trained and saved.\n"
     ]
    }
   ],
   "source": [
    "# Define the path to the saved model file\n",
    "model_file = './models/mlp_model_resampled_0.15.keras'\n",
    "\n",
    "# Check if the model file exists\n",
    "if os.path.exists(model_file):\n",
    "    print(\"Model file exists. Loading the model...\")\n",
    "    # Load the saved model\n",
    "    mlp_model = load_model(model_file)\n",
    "else:\n",
    "    print(\"Model file does not exist. Training a new model...\")\n",
    "    # Define the MLP model\n",
    "    mlp_model = Sequential([\n",
    "        Dense(64, activation='relu', input_shape=(x_train.shape[1],)),  # Input layer\n",
    "        Dense(32, activation='relu'),  # Hidden layer\n",
    "        Dense(1)  # Output layer for regression\n",
    "    ])\n",
    "\n",
    "    # Compile the model\n",
    "    mlp_model.compile(optimizer=Adam(learning_rate=0.001), loss='mse')\n",
    "\n",
    "    # Define early stopping callback\n",
    "    early_stopping = EarlyStopping(monitor='val_loss', patience=3, restore_best_weights=True)\n",
    "\n",
    "    # Train the model with early stopping\n",
    "    mlp_model.fit(x_train, y_train, epochs=50, validation_split=0.2, verbose=1, callbacks=[early_stopping])\n",
    "\n",
    "    # Save the trained model\n",
    "    mlp_model.save(model_file)\n",
    "    print(\"Model trained and saved.\")"
   ]
  },
  {
   "cell_type": "code",
   "execution_count": 114,
   "metadata": {},
   "outputs": [
    {
     "name": "stdout",
     "output_type": "stream",
     "text": [
      "\u001b[1m658/658\u001b[0m \u001b[32m━━━━━━━━━━━━━━━━━━━━\u001b[0m\u001b[37m\u001b[0m \u001b[1m1s\u001b[0m 1ms/step\n",
      "Mean Squared Error on Test Set: 0.028899969714189382\n",
      "Number of Correct Predictions: 20276\n",
      "Number of Wrong Predictions: 769\n",
      "Number of True Positives (1 predicted as 1): 1946\n",
      "Number of True Negatives (0 predicted as 0): 18330\n",
      "Number of False Positives (0 predicted as 1): 44\n",
      "Number of False Negatives (1 predicted as 0): 725\n"
     ]
    }
   ],
   "source": [
    "# Make predictions on the test data\n",
    "y_pred = mlp_model.predict(x_test)\n",
    "\n",
    "# Calculate the Mean Squared Error (MSE) on the test data\n",
    "mse = mean_squared_error(y_test, y_pred)\n",
    "print(f'Mean Squared Error on Test Set: {mse}')\n",
    "\n",
    "# Convert y_pred to binary predictions\n",
    "y_pred_binary = np.where(y_pred >= 0.5, 1, 0)\n",
    "\n",
    "# Ensure y_test is a numpy array and reshape if necessary\n",
    "y_test_array = y_test.values if hasattr(y_test, 'values') else y_test\n",
    "if y_test_array.ndim > 1:\n",
    "    y_test_array = y_test_array.reshape(-1)\n",
    "\n",
    "# Ensure y_pred_binary is a 1-dimensional array\n",
    "if y_pred_binary.ndim > 1:\n",
    "    y_pred_binary = y_pred_binary.reshape(-1)\n",
    "\n",
    "# Compare y_pred_binary with y_test\n",
    "correct_predictions = np.sum(y_pred_binary == y_test_array)\n",
    "wrong_predictions = np.sum(y_pred_binary != y_test_array)\n",
    "\n",
    "# Calculate additional metrics\n",
    "true_positives = np.sum((y_pred_binary == 1) & (y_test_array == 1))\n",
    "true_negatives = np.sum((y_pred_binary == 0) & (y_test_array == 0))\n",
    "false_positives = np.sum((y_pred_binary == 1) & (y_test_array == 0))\n",
    "false_negatives = np.sum((y_pred_binary == 0) & (y_test_array == 1))\n",
    "\n",
    "print(f\"Number of Correct Predictions: {correct_predictions}\")\n",
    "print(f\"Number of Wrong Predictions: {wrong_predictions}\")\n",
    "print(f\"Number of True Positives (1 predicted as 1): {true_positives}\")\n",
    "print(f\"Number of True Negatives (0 predicted as 0): {true_negatives}\")\n",
    "print(f\"Number of False Positives (0 predicted as 1): {false_positives}\")\n",
    "print(f\"Number of False Negatives (1 predicted as 0): {false_negatives}\")"
   ]
  },
  {
   "cell_type": "code",
   "execution_count": null,
   "metadata": {},
   "outputs": [],
   "source": []
  }
 ],
 "metadata": {
  "kernelspec": {
   "display_name": ".venv",
   "language": "python",
   "name": "python3"
  },
  "language_info": {
   "codemirror_mode": {
    "name": "ipython",
    "version": 3
   },
   "file_extension": ".py",
   "mimetype": "text/x-python",
   "name": "python",
   "nbconvert_exporter": "python",
   "pygments_lexer": "ipython3",
   "version": "3.10.6"
  }
 },
 "nbformat": 4,
 "nbformat_minor": 2
}
