{
  "cells": [
    {
      "cell_type": "code",
      "execution_count": 411,
      "metadata": {
        "id": "M_JutKiKPbgK"
      },
      "outputs": [],
      "source": [
        "import pandas as pd\n",
        "from sklearn.preprocessing import StandardScaler, MinMaxScaler, RobustScaler\n",
        "from sklearn.model_selection import train_test_split\n",
        "import numpy as np\n",
        "from sklearn.metrics import mean_squared_error\n",
        "import matplotlib.pyplot as plt\n",
        "import os\n",
        "import torch\n",
        "import torch.nn as nn\n",
        "import torch.optim as optim\n",
        "from torch.utils.data import DataLoader, TensorDataset\n",
        "from sklearn.manifold import TSNE\n",
        "from sklearn.decomposition import PCA\n",
        "from numpy.linalg import norm\n"
      ]
    },
    {
      "cell_type": "code",
      "execution_count": 412,
      "metadata": {
        "id": "gsObt5CZPbgM"
      },
      "outputs": [],
      "source": [
        "device = torch.device(\"cuda\" if torch.cuda.is_available() else \"cpu\")"
      ]
    },
    {
      "cell_type": "code",
      "execution_count": 413,
      "metadata": {
        "id": "Em0mlPWnPbgM"
      },
      "outputs": [],
      "source": [
        "# Load the data\n",
        "file_path = \"SPY_section_1.csv\"\n",
        "df = pd.read_csv(file_path)"
      ]
    },
    {
      "cell_type": "code",
      "execution_count": 414,
      "metadata": {
        "id": "kxFYjyboPbgN"
      },
      "outputs": [],
      "source": [
        "# Define Autoencoder\n",
        "class Autoencoder(nn.Module):\n",
        "    def __init__(self, input_dim, encoding_dim, dropout_rate):\n",
        "        super(Autoencoder, self).__init__()\n",
        "        self.encoder = nn.Sequential(\n",
        "            nn.Linear(input_dim, 128),\n",
        "            nn.ReLU(),\n",
        "            nn.Dropout(dropout_rate),\n",
        "            nn.Linear(128, 64),\n",
        "            nn.ReLU(),\n",
        "            nn.Dropout(dropout_rate),\n",
        "            nn.Linear(64, encoding_dim)\n",
        "        )\n",
        "        self.decoder = nn.Sequential(\n",
        "            nn.Linear(encoding_dim, 64),\n",
        "            nn.ReLU(),\n",
        "            nn.Dropout(dropout_rate),\n",
        "            nn.Linear(64, 128),\n",
        "            nn.ReLU(),\n",
        "            nn.Dropout(dropout_rate),\n",
        "            nn.Linear(128, input_dim)\n",
        "        )\n",
        "\n",
        "    def forward(self, x):\n",
        "        encoded = self.encoder(x)\n",
        "        decoded = self.decoder(encoded)\n",
        "        return decoded"
      ]
    },
    {
      "cell_type": "code",
      "execution_count": 415,
      "metadata": {
        "id": "8PoaIEg9PbgO"
      },
      "outputs": [],
      "source": [
        "# Define LSTM model\n",
        "class ComplexLSTMModel(nn.Module):\n",
        "    def __init__(self, input_size, hidden_size, num_layers, dropout_rate):\n",
        "        super(ComplexLSTMModel, self).__init__()\n",
        "        # Unidirectional LSTM for sequential stock price prediction\n",
        "        self.lstm = nn.LSTM(input_size, hidden_size, num_layers,\n",
        "                            batch_first=True, dropout=dropout_rate)  # Removed bidirectional=True\n",
        "\n",
        "        # Fully connected layers for added complexity\n",
        "        self.fc1 = nn.Linear(hidden_size, hidden_size // 2)\n",
        "        self.dropout1 = nn.Dropout(dropout_rate)\n",
        "        self.fc2 = nn.Linear(hidden_size // 2, hidden_size // 4)\n",
        "        self.dropout2 = nn.Dropout(dropout_rate)\n",
        "        self.fc3 = nn.Linear(hidden_size // 4, 1)\n",
        "\n",
        "    def forward(self, x):\n",
        "        # LSTM expects input of shape (batch_size, sequence_length, input_size)\n",
        "        out, _ = self.lstm(x)\n",
        "        # Use the output of the last time step\n",
        "        out = out[:, -1, :]  # Shape: (batch_size, hidden_size)\n",
        "\n",
        "        out = torch.relu(self.fc1(out))  # First fully connected layer\n",
        "        out = self.dropout1(out)\n",
        "        out = torch.relu(self.fc2(out))  # Second fully connected layer\n",
        "        out = self.dropout2(out)\n",
        "        out = self.fc3(out)  # Output layer (no activation for regression)\n",
        "        return out\n",
        "\n",
        "\n",
        "sequence_length = 10\n",
        "\n",
        "# Reshape data into sequences\n",
        "def create_sequences(data, target, seq_length):\n",
        "    X_seq, y_seq = [], []\n",
        "    for i in range(len(data) - seq_length):\n",
        "        X_seq.append(data[i:i + seq_length])\n",
        "        y_seq.append(target[i + seq_length])\n",
        "    return np.array(X_seq), np.array(y_seq)\n"
      ]
    },
    {
      "cell_type": "code",
      "execution_count": 416,
      "metadata": {
        "id": "YCcAOTVZPbgP"
      },
      "outputs": [],
      "source": [
        "# Define the target variable\n",
        "if \"Target\" not in df.columns:\n",
        "    # df[\"Target\"] = (df[\"Close\"].shift(-1) > df[\"Close\"]).astype(int)\n",
        "    df[\"Target\"] = df[\"Close\"].shift(-1)\n",
        "df = df.dropna()"
      ]
    },
    {
      "cell_type": "code",
      "execution_count": 417,
      "metadata": {
        "id": "wLsX8RMiPbgP"
      },
      "outputs": [],
      "source": [
        "# Adding SMA and EMA to the feature\n",
        "short_term_period = 20\n",
        "medium_term_period = 50\n",
        "long_term_period = 200\n",
        "\n",
        "# Compute the SMAs\n",
        "df['SMA_20'] = df['Close'].rolling(window=short_term_period).mean() # Short-term SMA\n",
        "df['SMA_50'] = df['Close'].rolling(window=medium_term_period).mean() # Medium-term SMA\n",
        "df['SMA_200'] = df['Close'].rolling(window=long_term_period).mean() # Long-term SMA\n",
        "\n",
        "df['EMA_10'] = df['Close'].ewm(span=10, adjust=False).mean()  # Short-term EMA\n",
        "df['EMA_50'] = df['Close'].ewm(span=50, adjust=False).mean()  # Medium-term EMA\n",
        "df['EMA_200'] = df['Close'].ewm(span=200, adjust=False).mean()  # Long-term EMA\n",
        "\n",
        "df = df.dropna()"
      ]
    },
    {
      "cell_type": "code",
      "execution_count": 418,
      "metadata": {
        "colab": {
          "base_uri": "https://localhost:8080/"
        },
        "id": "O4-4dr_aPbgQ",
        "outputId": "47f7108c-0ec8-43be-bc70-0c1c4404b326"
      },
      "outputs": [
        {
          "output_type": "stream",
          "name": "stdout",
          "text": [
            "Train: 1420, Val: 304, Test: 295\n",
            "(2029, 11)\n"
          ]
        }
      ],
      "source": [
        "X = df.drop(columns=[\"Date\", \"Target\"])\n",
        "y = df[\"Target\"]\n",
        "\n",
        "feature_columns = [\"Open\", \"High\", \"Low\", \"Close\", \"Volume\", \"SMA_20\", \"SMA_50\", \"SMA_200\", \"EMA_10\", \"EMA_50\", \"EMA_200\"]\n",
        "\n",
        "train_size = int(X.shape[0] * 0.7)\n",
        "val_size = int(X.shape[0] * 0.15)\n",
        "\n",
        "scaler = MinMaxScaler()\n",
        "\n",
        "# Split data into train, validation, and test\n",
        "temp_train = X[:train_size]\n",
        "temp_val = X[train_size:train_size + val_size]\n",
        "temp_test = X[train_size + val_size:]\n",
        "\n",
        "temp_train = temp_train[feature_columns]\n",
        "temp_val = temp_val[feature_columns]\n",
        "temp_test = temp_test[feature_columns]\n",
        "\n",
        "# Fit and transform for train, transform for validation and test\n",
        "temp_train = scaler.fit_transform(temp_train)\n",
        "temp_val = scaler.transform(temp_val)\n",
        "temp_test = scaler.transform(temp_test)\n",
        "\n",
        "# Convert NumPy arrays back to DataFrames\n",
        "temp_train = pd.DataFrame(temp_train, columns=feature_columns)\n",
        "temp_val = pd.DataFrame(temp_val, columns=feature_columns)\n",
        "temp_test = pd.DataFrame(temp_test, columns=feature_columns)\n",
        "\n",
        "# Concatenate the data\n",
        "X_scaled = pd.concat([temp_train, temp_val, temp_test], axis=0)\n",
        "\n",
        "X_seq, y_seq = create_sequences(X_scaled, y.values, sequence_length)\n",
        "\n",
        "# Split sequentially\n",
        "X_train, y_train = X_seq[:train_size], y_seq[:train_size]\n",
        "X_val, y_val = X_seq[train_size:train_size + val_size], y_seq[train_size:train_size + val_size]\n",
        "X_test, y_test = X_seq[train_size + val_size:], y_seq[train_size + val_size:]\n",
        "\n",
        "# Print sizes to confirm\n",
        "print(f\"Train: {len(X_train)}, Val: {len(X_val)}, Test: {len(X_test)}\")\n",
        "print(X_scaled.shape)"
      ]
    },
    {
      "cell_type": "code",
      "execution_count": 419,
      "metadata": {
        "id": "GBsQfpyQPbgQ"
      },
      "outputs": [],
      "source": [
        "# Convert to PyTorch tensors\n",
        "X_train_tensor = torch.tensor(X_train, dtype=torch.float32)\n",
        "y_train_tensor = torch.tensor(y_train, dtype=torch.float32)\n",
        "X_val_tensor = torch.tensor(X_val, dtype=torch.float32)\n",
        "y_val_tensor = torch.tensor(y_val, dtype=torch.float32)\n",
        "X_test_tensor = torch.tensor(X_test, dtype=torch.float32)\n",
        "y_test_tensor = torch.tensor(y_test, dtype=torch.float32)\n",
        "\n",
        "# Create DataLoaders\n",
        "train_dataset = TensorDataset(X_train_tensor, y_train_tensor)\n",
        "val_dataset = TensorDataset(X_val_tensor, y_val_tensor)\n",
        "test_dataset = TensorDataset(X_test_tensor, y_test_tensor)\n",
        "\n",
        "train_loader = DataLoader(train_dataset, batch_size=64, shuffle=True)\n",
        "val_loader = DataLoader(val_dataset, batch_size=64, shuffle=False)\n",
        "test_loader = DataLoader(test_dataset, batch_size=64, shuffle=False)\n"
      ]
    },
    {
      "cell_type": "markdown",
      "metadata": {
        "id": "XWSUtBcjPbgS"
      },
      "source": [
        "<span style=\"color: yellow; font-size: 40px;\">Evaluating original LSTM</span>"
      ]
    },
    {
      "cell_type": "code",
      "execution_count": 420,
      "metadata": {
        "id": "sTzSYPwxPbgT"
      },
      "outputs": [],
      "source": [
        "# Hyperparameters\n",
        "input_size = X_train.shape[2]  # Number of features\n",
        "hidden_size = 128\n",
        "num_layers = 2\n",
        "dropout_rate = 0.1\n",
        "learning_rate = 0.0005\n",
        "num_epochs = 500\n",
        "patience = 30"
      ]
    },
    {
      "cell_type": "code",
      "execution_count": 421,
      "metadata": {
        "colab": {
          "base_uri": "https://localhost:8080/",
          "height": 721
        },
        "id": "G6-GJJUSPbgU",
        "outputId": "c7732162-1644-473c-d116-2a9b53f28d67"
      },
      "outputs": [
        {
          "output_type": "stream",
          "name": "stdout",
          "text": [
            "\n",
            "===== Evaluation Results =====\n",
            "Test Loss: 36.7081\n",
            "Test MAE: 4.6086\n",
            "Average Error Percentage: 4.13%\n",
            "Largest Error Percentage: 13.03%\n"
          ]
        },
        {
          "output_type": "stream",
          "name": "stderr",
          "text": [
            "<ipython-input-421-e7c8f65edd49>:6: FutureWarning: You are using `torch.load` with `weights_only=False` (the current default value), which uses the default pickle module implicitly. It is possible to construct malicious pickle data which will execute arbitrary code during unpickling (See https://github.com/pytorch/pytorch/blob/main/SECURITY.md#untrusted-models for more details). In a future release, the default value for `weights_only` will be flipped to `True`. This limits the functions that could be executed during unpickling. Arbitrary objects will no longer be allowed to be loaded via this mode unless they are explicitly allowlisted by the user via `torch.serialization.add_safe_globals`. We recommend you start setting `weights_only=True` for any use case where you don't have full control of the loaded file. Please open an issue on GitHub for any issues related to this experimental feature.\n",
            "  LSTM_model.load_state_dict(torch.load(LSTM_model_path, map_location=torch.device('cpu')))\n",
            "/usr/local/lib/python3.11/dist-packages/torch/nn/modules/loss.py:608: UserWarning: Using a target size (torch.Size([64])) that is different to the input size (torch.Size([64, 1])). This will likely lead to incorrect results due to broadcasting. Please ensure they have the same size.\n",
            "  return F.mse_loss(input, target, reduction=self.reduction)\n",
            "/usr/local/lib/python3.11/dist-packages/torch/nn/modules/loss.py:608: UserWarning: Using a target size (torch.Size([39])) that is different to the input size (torch.Size([39, 1])). This will likely lead to incorrect results due to broadcasting. Please ensure they have the same size.\n",
            "  return F.mse_loss(input, target, reduction=self.reduction)\n"
          ]
        },
        {
          "output_type": "display_data",
          "data": {
            "text/plain": [
              "<Figure size 1000x500 with 1 Axes>"
            ],
            "image/png": "[encoded data removed]"
          },
          "metadata": {}
        }
      ],
      "source": [
        "# Define paths\n",
        "LSTM_model_path = \"./lstm_codes/lstm_models/lstm_section_1.pth\"  # Change this to your specific model file\n",
        "\n",
        "# Load the trained model\n",
        "LSTM_model = ComplexLSTMModel(input_size=input_size, hidden_size=hidden_size, num_layers=num_layers, dropout_rate=dropout_rate).to(device)\n",
        "LSTM_model.load_state_dict(torch.load(LSTM_model_path, map_location=torch.device('cpu')))\n",
        "LSTM_model.eval()\n",
        "\n",
        "# Define loss function\n",
        "criterion = torch.nn.MSELoss()\n",
        "\n",
        "# Evaluate on test data\n",
        "test_loss = 0.0\n",
        "test_mae = 0.0\n",
        "all_true = []\n",
        "all_preds = []\n",
        "\n",
        "with torch.no_grad():\n",
        "    for X_batch, y_batch in test_loader:\n",
        "        X_batch, y_batch = X_batch.to(device), y_batch.to(device)\n",
        "        outputs = LSTM_model(X_batch)\n",
        "        loss = criterion(outputs, y_batch)\n",
        "        mae = torch.mean(torch.abs(outputs - y_batch))\n",
        "\n",
        "        test_loss += loss.item() * X_batch.size(0)\n",
        "        test_mae += mae.item() * X_batch.size(0)\n",
        "\n",
        "        all_true.extend(y_batch.cpu().numpy())\n",
        "        all_preds.extend(outputs.cpu().numpy())\n",
        "\n",
        "# Compute final metrics\n",
        "test_loss /= len(test_loader.dataset)\n",
        "test_mae /= len(test_loader.dataset)\n",
        "\n",
        "# Compute error percentages\n",
        "all_true = np.array(all_true).flatten()\n",
        "all_preds = np.array(all_preds).flatten()\n",
        "error = np.abs(all_true - all_preds) / (np.abs(all_true) + 1e-8)\n",
        "avg_error = np.mean(error) * 100\n",
        "largest_error = np.max(error) * 100\n",
        "\n",
        "# Print results\n",
        "print(\"\\n===== Evaluation Results =====\")\n",
        "print(f\"Test Loss: {test_loss:.4f}\")\n",
        "print(f\"Test MAE: {test_mae:.4f}\")\n",
        "print(f\"Average Error Percentage: {avg_error:.2f}%\")\n",
        "print(f\"Largest Error Percentage: {largest_error:.2f}%\")\n",
        "\n",
        "# Plot actual vs predicted values\n",
        "plt.figure(figsize=(10, 5))\n",
        "plt.plot(all_true, label='True Values', color='blue')\n",
        "plt.plot(all_preds, label='Predicted Values', color='red')\n",
        "plt.xlabel('Time')\n",
        "plt.ylabel('Value')\n",
        "plt.title('Actual vs. Predicted Values')\n",
        "plt.legend()\n",
        "plt.show()\n"
      ]
    },
    {
      "cell_type": "markdown",
      "metadata": {
        "id": "DysuppZ-PbgU"
      },
      "source": [
        "<span style=\"color: yellow; font-size: 40px;\">Evaluating original autoencoder</span>"
      ]
    },
    {
      "cell_type": "code",
      "execution_count": 422,
      "metadata": {
        "id": "Brigs17kPbgV"
      },
      "outputs": [],
      "source": [
        "X_train = X_scaled[:train_size]\n",
        "X_val = X_scaled[train_size:train_size + val_size]\n",
        "X_test = X_scaled[train_size + val_size:]"
      ]
    },
    {
      "cell_type": "code",
      "execution_count": 423,
      "metadata": {
        "id": "FsfRmB9wPbgV"
      },
      "outputs": [],
      "source": [
        "X_train = X_train.values\n",
        "X_val = X_val.values\n",
        "X_test = X_test.values"
      ]
    },
    {
      "cell_type": "code",
      "execution_count": 424,
      "metadata": {
        "id": "n68TZ3ptPbgV"
      },
      "outputs": [],
      "source": [
        "\n",
        "# Convert data to PyTorch tensors\n",
        "X_train_tensor = torch.tensor(X_train, dtype=torch.float32)\n",
        "X_val_tensor = torch.tensor(X_val, dtype=torch.float32)\n",
        "X_test_tensor = torch.tensor(X_test, dtype=torch.float32)\n",
        "\n",
        "# Create DataLoader\n",
        "train_dataset = TensorDataset(X_train_tensor, X_train_tensor)\n",
        "val_dataset = TensorDataset(X_val_tensor, X_val_tensor)\n",
        "test_dataset = TensorDataset(X_test_tensor, X_test_tensor)\n",
        "train_loader = DataLoader(train_dataset, batch_size=16, shuffle=True)\n",
        "val_loader = DataLoader(val_dataset, batch_size=16, shuffle=False)\n",
        "test_loader = DataLoader(test_dataset, batch_size=16, shuffle=False)\n"
      ]
    },
    {
      "cell_type": "code",
      "execution_count": 425,
      "metadata": {
        "id": "hcUQ1lGxPbgW"
      },
      "outputs": [],
      "source": [
        "input_dim = X_train.shape[1]\n",
        "\n",
        "# Hyperparameters\n",
        "encoding_dim = 5\n",
        "learning_rate = 0.0005\n",
        "dropout_rate = 0.3\n",
        "epochs = 750\n",
        "batch_size = 16\n",
        "patience = 40"
      ]
    },
    {
      "cell_type": "code",
      "execution_count": 426,
      "metadata": {
        "colab": {
          "base_uri": "https://localhost:8080/"
        },
        "id": "6RSUrM-XPbgW",
        "outputId": "ad552c26-b370-468b-e786-5db214181efb"
      },
      "outputs": [
        {
          "output_type": "stream",
          "name": "stderr",
          "text": [
            "<ipython-input-426-163b13d6c5bf>:3: FutureWarning: You are using `torch.load` with `weights_only=False` (the current default value), which uses the default pickle module implicitly. It is possible to construct malicious pickle data which will execute arbitrary code during unpickling (See https://github.com/pytorch/pytorch/blob/main/SECURITY.md#untrusted-models for more details). In a future release, the default value for `weights_only` will be flipped to `True`. This limits the functions that could be executed during unpickling. Arbitrary objects will no longer be allowed to be loaded via this mode unless they are explicitly allowlisted by the user via `torch.serialization.add_safe_globals`. We recommend you start setting `weights_only=True` for any use case where you don't have full control of the loaded file. Please open an issue on GitHub for any issues related to this experimental feature.\n",
            "  autoencoder_model.load_state_dict(torch.load(autoencoder_model_path, map_location=torch.device('cpu')))\n"
          ]
        },
        {
          "output_type": "execute_result",
          "data": {
            "text/plain": [
              "<All keys matched successfully>"
            ]
          },
          "metadata": {},
          "execution_count": 426
        }
      ],
      "source": [
        "autoencoder_model_path = \"./autoencoder_codes/autoencoder_models/autoencoder_section_1.pth\"\n",
        "autoencoder_model = Autoencoder(input_dim=input_dim, encoding_dim=encoding_dim, dropout_rate=dropout_rate).to(device)\n",
        "autoencoder_model.load_state_dict(torch.load(autoencoder_model_path, map_location=torch.device('cpu')))"
      ]
    },
    {
      "cell_type": "code",
      "execution_count": 427,
      "metadata": {
        "colab": {
          "base_uri": "https://localhost:8080/"
        },
        "id": "ib1Drdq-PbgW",
        "outputId": "60d28a9e-ffec-4a62-8ce1-6ac398ce26dc"
      },
      "outputs": [
        {
          "output_type": "stream",
          "name": "stdout",
          "text": [
            "MSE: 0.0016, MAE: 0.0273, REE: 0.0377, Euclidean Distance: 0.1188, Average Error: 2.8993%\n"
          ]
        }
      ],
      "source": [
        "autoencoder_model.eval()\n",
        "with torch.no_grad():\n",
        "    reconstructed_test = autoencoder_model(torch.tensor(X_test, dtype=torch.float32).to(device)).cpu().numpy()\n",
        "mse = np.mean((X_test - reconstructed_test) ** 2)\n",
        "mae = np.mean(np.abs(X_test - reconstructed_test))\n",
        "ree = np.mean(np.linalg.norm(X_test - reconstructed_test, axis=1) / np.linalg.norm(X_test, axis=1))\n",
        "euclidean_dist = np.mean([norm(X_test[i] - reconstructed_test[i]) for i in range(len(X_test))])\n",
        "reconstruction_error_percentage = (\n",
        "    np.mean(np.abs(X_test - reconstructed_test) / (np.abs(X_test) + 1e-8), axis=1) * 100\n",
        ")\n",
        "average_error = np.mean(reconstruction_error_percentage)\n",
        "print(f'MSE: {mse:.4f}, MAE: {mae:.4f}, REE: {ree:.4f}, Euclidean Distance: {euclidean_dist:.4f}, Average Error: {average_error:.4f}%')"
      ]
    },
    {
      "cell_type": "code",
      "execution_count": 428,
      "metadata": {
        "colab": {
          "base_uri": "https://localhost:8080/",
          "height": 487
        },
        "id": "qQfQI-4iPbgW",
        "outputId": "2efe7a59-2d12-4bd2-ec21-ee831cae9757"
      },
      "outputs": [
        {
          "output_type": "display_data",
          "data": {
            "text/plain": [
              "<Figure size 1000x500 with 1 Axes>"
            ],
            "image/png": "[encoded data removed]"
          },
          "metadata": {}
        }
      ],
      "source": [
        "# Scatter plot of reconstruction error percentage\n",
        "plt.figure(figsize=(10, 5))\n",
        "plt.scatter(range(len(reconstruction_error_percentage)), reconstruction_error_percentage, alpha=0.5)\n",
        "plt.ylim(0, 50)\n",
        "plt.xlabel('Sample')\n",
        "plt.ylabel('Reconstruction Error Percentage')\n",
        "plt.title('Reconstruction Error Percentage')\n",
        "plt.show()\n"
      ]
    },
    {
      "cell_type": "markdown",
      "metadata": {
        "id": "9jJwk1fLPbgY"
      },
      "source": [
        "<span style=\"color: yellow; font-size: 40px;\">Bias correction model - single input</span>"
      ]
    },
    {
      "cell_type": "code",
      "execution_count": 429,
      "metadata": {
        "id": "uNOyKDulPbgY"
      },
      "outputs": [],
      "source": [
        "# import torch\n",
        "# import torch.nn as nn\n",
        "# import torch.nn.functional as F\n",
        "\n",
        "# class BiasPredictor(nn.Module):\n",
        "#     def __init__(self, input_size, hidden_size1, dropout_rate):\n",
        "#         super(BiasPredictor, self).__init__()\n",
        "\n",
        "#         hidden_size2 = hidden_size1 // 2\n",
        "#         hidden_size3 = hidden_size2 // 2\n",
        "#         hidden_size4 = hidden_size3 // 2  # New additional layer\n",
        "\n",
        "#         self.fc1 = nn.Linear(input_size, hidden_size1)\n",
        "#         self.dropout1 = nn.Dropout(dropout_rate)\n",
        "\n",
        "#         self.fc2 = nn.Linear(hidden_size1, hidden_size2)\n",
        "#         self.dropout2 = nn.Dropout(dropout_rate)\n",
        "\n",
        "#         self.fc3 = nn.Linear(hidden_size2, hidden_size3)\n",
        "#         self.dropout3 = nn.Dropout(dropout_rate)\n",
        "\n",
        "#         self.fc4 = nn.Linear(hidden_size3, hidden_size4)  # New additional layer\n",
        "#         self.dropout4 = nn.Dropout(dropout_rate)\n",
        "\n",
        "#         self.fc5 = nn.Linear(hidden_size4, 1)  # Final output layer\n",
        "\n",
        "#     def forward(self, x):\n",
        "#         x = F.relu(self.fc1(x))\n",
        "#         x = self.dropout1(x)\n",
        "\n",
        "#         x = F.relu(self.fc2(x))\n",
        "#         x = self.dropout2(x)\n",
        "\n",
        "#         x = F.relu(self.fc3(x))\n",
        "#         x = self.dropout3(x)\n",
        "\n",
        "#         x = F.relu(self.fc4(x))  # New layer\n",
        "#         x = self.dropout4(x)\n",
        "\n",
        "#         return self.fc5(x)\n",
        "\n",
        "##################################################################\n",
        "\n",
        "# import torch\n",
        "# import torch.nn as nn\n",
        "# import torch.nn.functional as F\n",
        "\n",
        "# class BiasPredictor(nn.Module):\n",
        "#     def __init__(self, input_size, hidden_size, dropout_rate):\n",
        "#         super(BiasPredictor, self).__init__()\n",
        "\n",
        "#         # Calculate progressively halved hidden sizes\n",
        "#         hidden_size2 = hidden_size // 2\n",
        "#         hidden_size3 = hidden_size2 // 2\n",
        "\n",
        "#         # Define layers\n",
        "#         self.fc1 = nn.Linear(input_size, hidden_size)\n",
        "#         self.dropout1 = nn.Dropout(dropout_rate)\n",
        "\n",
        "#         self.fc2 = nn.Linear(hidden_size, hidden_size2)\n",
        "#         self.dropout2 = nn.Dropout(dropout_rate)\n",
        "\n",
        "#         self.fc3 = nn.Linear(hidden_size2, hidden_size3)\n",
        "#         self.dropout3 = nn.Dropout(dropout_rate)\n",
        "\n",
        "#         self.fc4 = nn.Linear(hidden_size3, 1)  # Final output layer\n",
        "\n",
        "#     def forward(self, x):\n",
        "#         x = F.relu(self.fc1(x))\n",
        "#         x = self.dropout1(x)\n",
        "\n",
        "#         x = F.relu(self.fc2(x))\n",
        "#         x = self.dropout2(x)\n",
        "\n",
        "#         x = F.relu(self.fc3(x))\n",
        "#         x = self.dropout3(x)\n",
        "\n",
        "#         return self.fc4(x)  # Output layer without activation\n",
        "\n",
        "##################################################################\n",
        "\n",
        "import torch\n",
        "import torch.nn as nn\n",
        "import torch.nn.functional as F\n",
        "\n",
        "class BiasPredictor(nn.Module):\n",
        "    def __init__(self, input_size, hidden_size, dropout_rate):\n",
        "        super(BiasPredictor, self).__init__()\n",
        "\n",
        "        # Calculate progressively halved hidden sizes\n",
        "        hidden_size2 = hidden_size // 2\n",
        "\n",
        "        # Define layers\n",
        "        self.fc1 = nn.Linear(input_size, hidden_size)\n",
        "        self.dropout1 = nn.Dropout(dropout_rate)\n",
        "\n",
        "        self.fc2 = nn.Linear(hidden_size, hidden_size2)\n",
        "        self.dropout2 = nn.Dropout(dropout_rate)\n",
        "\n",
        "        self.fc3 = nn.Linear(hidden_size2, 1)  # Final output layer\n",
        "\n",
        "    def forward(self, x):\n",
        "        x = F.relu(self.fc1(x))\n",
        "        x = self.dropout1(x)\n",
        "\n",
        "        x = F.relu(self.fc2(x))\n",
        "        x = self.dropout2(x)\n",
        "\n",
        "        return self.fc3(x)  # Output layer without activation\n",
        "\n",
        "\n"
      ]
    },
    {
      "cell_type": "code",
      "execution_count": 430,
      "metadata": {
        "id": "8HSuPOWePbgY"
      },
      "outputs": [],
      "source": [
        "# Get LSTM predictions of entire dataset\n",
        "with torch.no_grad():\n",
        "    X_tensor = torch.tensor(X_seq, dtype=torch.float32).to(device)\n",
        "    LSTM_preds = LSTM_model(X_tensor).cpu().numpy()\n",
        "\n",
        "# Put LSTM predictions into a new DataFrame\n",
        "new_df = pd.DataFrame(LSTM_preds, columns=[\"LSTM_Pred\"])\n"
      ]
    },
    {
      "cell_type": "code",
      "execution_count": 431,
      "metadata": {
        "id": "Uj-dqer8PbgY"
      },
      "outputs": [],
      "source": [
        "# Drop the first sequence_length rows\n",
        "temp_y = y\n",
        "temp_y = temp_y[sequence_length:]\n",
        "\n",
        "# add the target variable to the new DataFrame\n",
        "new_df[\"Target\"] = temp_y.values"
      ]
    },
    {
      "cell_type": "code",
      "execution_count": 432,
      "metadata": {
        "id": "ZoOyqfK_PbgZ"
      },
      "outputs": [],
      "source": [
        "# Get reconstruction error percentage for the entire dataset\n",
        "autoencoder_model.eval()\n",
        "with torch.no_grad():\n",
        "    reconstructed = autoencoder_model(torch.tensor(X_scaled.values, dtype=torch.float32).to(device)).cpu().numpy()\n",
        "\n",
        "# Compute the MAE\n",
        "reconstruction_error = np.mean(np.abs(X_scaled.values - reconstructed), axis=1)\n",
        "\n",
        "# Compute the reconstruction error percentage\n",
        "# reconstruction_error = np.mean(np.abs(X_scaled.values - reconstructed) / (np.abs(X_scaled.values) + 1e-8), axis=1) * 100\n",
        "# reconstruction_error = np.mean((X_scaled.values - reconstructed) / ((X_scaled.values) + 1e-8), axis=1) * 100\n",
        "\n",
        "# Drop the first sequence_length rows\n",
        "reconstruction_error_new = reconstruction_error[sequence_length:]\n",
        "\n",
        "# Add the reconstruction error to the new DataFrame\n",
        "new_df[\"Reconstruction_error_single\"] = reconstruction_error_new\n",
        "\n",
        "# Get reconstruction error arr of past 10 days\n",
        "reconstruction_error_arr = []\n",
        "for i in range(sequence_length, len(reconstruction_error)):\n",
        "    reconstruction_error_arr.append(reconstruction_error[i - sequence_length:i])\n",
        "\n",
        "\n",
        "# Add the reconstruction error array to the new DataFrame\n",
        "new_df[\"Reconstruction_error_arr\"] = reconstruction_error_arr\n",
        "\n"
      ]
    },
    {
      "cell_type": "code",
      "execution_count": 433,
      "metadata": {
        "colab": {
          "base_uri": "https://localhost:8080/",
          "height": 487
        },
        "id": "d1h2wYSfPbgZ",
        "outputId": "0ae1b049-762f-4420-aaf5-479461fabf57"
      },
      "outputs": [
        {
          "output_type": "display_data",
          "data": {
            "text/plain": [
              "<Figure size 1000x500 with 1 Axes>"
            ],
            "image/png": "[encoded data removed]"
          },
          "metadata": {}
        }
      ],
      "source": [
        "# plot reconstruction error scatter plot\n",
        "plt.figure(figsize=(10, 5))\n",
        "plt.scatter(range(len(reconstruction_error)), reconstruction_error, alpha=0.5)\n",
        "plt.ylim(0, 0.5)\n",
        "plt.xlabel('Sample')\n",
        "# plt.ylabel('Reconstruction Error Percentage')\n",
        "# plt.title('Reconstruction Error Percentage')\n",
        "plt.ylabel('Reconstruction Error MAE')\n",
        "plt.title('Reconstruction Error MAE')\n",
        "plt.show()\n"
      ]
    },
    {
      "cell_type": "code",
      "execution_count": 434,
      "metadata": {
        "colab": {
          "base_uri": "https://localhost:8080/"
        },
        "id": "zpaba2jsPbgZ",
        "outputId": "3534455d-1aa7-4d51-fbe5-24d1c20dfaaa"
      },
      "outputs": [
        {
          "output_type": "execute_result",
          "data": {
            "text/plain": [
              "array([0.00189878, 0.00180704, 0.00187237, 0.00172222, 0.00195921,\n",
              "       0.00198496, 0.00210325, 0.00231761, 0.00201488, 0.00175625])"
            ]
          },
          "metadata": {},
          "execution_count": 434
        }
      ],
      "source": [
        "reconstruction_error_arr[0]"
      ]
    },
    {
      "cell_type": "code",
      "execution_count": 435,
      "metadata": {
        "id": "cK-bJ5TuPbga"
      },
      "outputs": [],
      "source": [
        "# Calculate the difference between the target and LSTM prediction\n",
        "new_df[\"Bias\"] = new_df[\"Target\"] - new_df[\"LSTM_Pred\"]"
      ]
    },
    {
      "cell_type": "code",
      "execution_count": 436,
      "metadata": {
        "id": "ZOk4bQp6Pbga"
      },
      "outputs": [],
      "source": [
        "y = new_df[\"Bias\"]\n",
        "X = new_df[\"Reconstruction_error_single\"]\n",
        "# X = new_df[\"Reconstruction_error_arr\"]"
      ]
    },
    {
      "cell_type": "code",
      "execution_count": 437,
      "metadata": {
        "colab": {
          "base_uri": "https://localhost:8080/"
        },
        "id": "sckHEj-UPbga",
        "outputId": "818e8258-0dab-403a-bd17-a24819eb4c43"
      },
      "outputs": [
        {
          "output_type": "stream",
          "name": "stdout",
          "text": [
            "Train: 1413, Val: 302, Test: 304\n"
          ]
        }
      ],
      "source": [
        "# Sequential split\n",
        "train_size = int(0.7 * len(X))\n",
        "val_size = int(0.15 * len(X))\n",
        "\n",
        "X_train_raw = X[:train_size]\n",
        "y_train_raw = y[:train_size]\n",
        "X_val_raw = X[train_size:train_size + val_size]\n",
        "y_val_raw = y[train_size:train_size + val_size]\n",
        "X_test_raw = X[train_size + val_size:]\n",
        "y_test_raw = y[train_size + val_size:]\n",
        "\n",
        "# Scale using StandardScaler (fit only on train data)\n",
        "# X_scaler = StandardScaler()\n",
        "X_scaler = RobustScaler()\n",
        "X_train_scaled = X_scaler.fit_transform(X_train_raw.values.reshape(-1, 1))\n",
        "X_val_scaled = X_scaler.transform(X_val_raw.values.reshape(-1, 1))\n",
        "X_test_scaled = X_scaler.transform(X_test_raw.values.reshape(-1, 1))\n",
        "\n",
        "# y_scaler = StandardScaler()\n",
        "y_scaler = RobustScaler()\n",
        "y_train_scaled = y_scaler.fit_transform(y_train_raw.values.reshape(-1, 1))\n",
        "y_val_scaled = y_scaler.transform(y_val_raw.values.reshape(-1, 1))\n",
        "y_test_scaled = y_scaler.transform(y_test_raw.values.reshape(-1, 1))\n",
        "\n",
        "# Convert data to PyTorch tensors\n",
        "X_train = torch.tensor(X_train_scaled, dtype=torch.float32).unsqueeze(1)\n",
        "y_train = torch.tensor(y_train_scaled, dtype=torch.float32).unsqueeze(1)\n",
        "X_val = torch.tensor(X_val_scaled, dtype=torch.float32).unsqueeze(1)\n",
        "y_val = torch.tensor(y_val_scaled, dtype=torch.float32).unsqueeze(1)\n",
        "X_test = torch.tensor(X_test_scaled, dtype=torch.float32).unsqueeze(1)\n",
        "y_test = torch.tensor(y_test_scaled, dtype=torch.float32).unsqueeze(1)\n",
        "\n",
        "# Print sizes\n",
        "print(f\"Train: {len(X_train)}, Val: {len(X_val)}, Test: {len(X_test)}\")"
      ]
    },
    {
      "cell_type": "code",
      "execution_count": 438,
      "metadata": {
        "colab": {
          "base_uri": "https://localhost:8080/"
        },
        "id": "_KQrET0zPbgb",
        "outputId": "4257c71a-865f-425b-f5e1-ffdbdf56a706"
      },
      "outputs": [
        {
          "output_type": "stream",
          "name": "stdout",
          "text": [
            "\n",
            " Running 1/81: H=32, D=0.0, LR=0.0001, B=8\n",
            "   Run 1/5 ...      Epoch 0: Train Loss = 0.9474, Val Loss = 6.3899\n",
            "     Epoch 5: Train Loss = 0.7377, Val Loss = 12.7133\n",
            "     Epoch 10: Train Loss = 0.7185, Val Loss = 15.4448\n",
            "     Epoch 15: Train Loss = 0.7170, Val Loss = 15.7660\n",
            "     Epoch 20: Train Loss = 0.7169, Val Loss = 15.6111\n",
            "    ⏹️ Early stopping at epoch 20\n",
            " Run 1 finished with best val loss: 6.3899\n",
            "Original Error Percentage (Test Dataset): 4.0399%\n",
            "Corrected Error Percentage (Test Dataset): 4.2606%\n",
            "   Run 2/5 ... "
          ]
        },
        {
          "output_type": "stream",
          "name": "stderr",
          "text": [
            "<ipython-input-438-ab28ec98d12e>:152: UserWarning: To copy construct from a tensor, it is recommended to use sourceTensor.clone().detach() or sourceTensor.clone().detach().requires_grad_(True), rather than torch.tensor(sourceTensor).\n",
            "  X_scaled_tensor = torch.tensor(combined_X, dtype=torch.float32).unsqueeze(1)\n"
          ]
        },
        {
          "output_type": "stream",
          "name": "stdout",
          "text": [
            "     Epoch 0: Train Loss = 0.7804, Val Loss = 9.7976\n",
            "     Epoch 5: Train Loss = 0.7205, Val Loss = 14.4448\n",
            "     Epoch 10: Train Loss = 0.7173, Val Loss = 15.2802\n",
            "     Epoch 15: Train Loss = 0.7164, Val Loss = 14.9517\n",
            "     Epoch 20: Train Loss = 0.7162, Val Loss = 14.9322\n",
            "    ⏹️ Early stopping at epoch 20\n",
            " Run 2 finished with best val loss: 9.7976\n",
            "Original Error Percentage (Test Dataset): 4.0399%\n",
            "Corrected Error Percentage (Test Dataset): 4.0715%\n",
            "   Run 3/5 ... "
          ]
        },
        {
          "output_type": "stream",
          "name": "stderr",
          "text": [
            "<ipython-input-438-ab28ec98d12e>:152: UserWarning: To copy construct from a tensor, it is recommended to use sourceTensor.clone().detach() or sourceTensor.clone().detach().requires_grad_(True), rather than torch.tensor(sourceTensor).\n",
            "  X_scaled_tensor = torch.tensor(combined_X, dtype=torch.float32).unsqueeze(1)\n"
          ]
        },
        {
          "output_type": "stream",
          "name": "stdout",
          "text": [
            "     Epoch 0: Train Loss = 0.9082, Val Loss = 6.4048\n",
            "     Epoch 5: Train Loss = 0.7383, Val Loss = 12.7513\n",
            "     Epoch 10: Train Loss = 0.7202, Val Loss = 15.3296\n",
            "     Epoch 15: Train Loss = 0.7177, Val Loss = 15.5505\n",
            "     Epoch 20: Train Loss = 0.7169, Val Loss = 15.5170\n",
            "    ⏹️ Early stopping at epoch 20\n",
            " Run 3 finished with best val loss: 6.4048\n",
            "Original Error Percentage (Test Dataset): 4.0399%\n",
            "Corrected Error Percentage (Test Dataset): 4.2126%\n",
            "   Run 4/5 ... "
          ]
        },
        {
          "output_type": "stream",
          "name": "stderr",
          "text": [
            "<ipython-input-438-ab28ec98d12e>:152: UserWarning: To copy construct from a tensor, it is recommended to use sourceTensor.clone().detach() or sourceTensor.clone().detach().requires_grad_(True), rather than torch.tensor(sourceTensor).\n",
            "  X_scaled_tensor = torch.tensor(combined_X, dtype=torch.float32).unsqueeze(1)\n"
          ]
        },
        {
          "output_type": "stream",
          "name": "stdout",
          "text": [
            "     Epoch 0: Train Loss = 0.8030, Val Loss = 7.0708\n",
            "     Epoch 5: Train Loss = 0.7304, Val Loss = 10.7414\n",
            "     Epoch 10: Train Loss = 0.7189, Val Loss = 11.8887\n",
            "     Epoch 15: Train Loss = 0.7168, Val Loss = 11.7897\n",
            "     Epoch 20: Train Loss = 0.7170, Val Loss = 11.9942\n",
            "    ⏹️ Early stopping at epoch 20\n",
            " Run 4 finished with best val loss: 7.0708\n",
            "Original Error Percentage (Test Dataset): 4.0399%\n",
            "Corrected Error Percentage (Test Dataset): 3.3375%\n",
            "   Run 5/5 ... "
          ]
        },
        {
          "output_type": "stream",
          "name": "stderr",
          "text": [
            "<ipython-input-438-ab28ec98d12e>:152: UserWarning: To copy construct from a tensor, it is recommended to use sourceTensor.clone().detach() or sourceTensor.clone().detach().requires_grad_(True), rather than torch.tensor(sourceTensor).\n",
            "  X_scaled_tensor = torch.tensor(combined_X, dtype=torch.float32).unsqueeze(1)\n"
          ]
        },
        {
          "output_type": "stream",
          "name": "stdout",
          "text": [
            "     Epoch 0: Train Loss = 0.8042, Val Loss = 5.6105\n",
            "     Epoch 5: Train Loss = 0.7539, Val Loss = 6.5498\n",
            "     Epoch 10: Train Loss = 0.7309, Val Loss = 7.9045\n",
            "     Epoch 15: Train Loss = 0.7207, Val Loss = 9.2558\n",
            "     Epoch 20: Train Loss = 0.7174, Val Loss = 10.2610\n",
            "    ⏹️ Early stopping at epoch 20\n",
            " Run 5 finished with best val loss: 5.6105\n",
            "Original Error Percentage (Test Dataset): 4.0399%\n",
            "Corrected Error Percentage (Test Dataset): 3.1413%\n",
            " Finished configuration H=32, D=0.0, LR=0.0001, B=8 → Avg Val Loss: 7.0547, Avg Accuracy: 3.8047%\n",
            "\n",
            " Running 2/81: H=32, D=0.0, LR=0.0001, B=16\n",
            "   Run 1/5 ...      Epoch 0: Train Loss = 0.8005, Val Loss = 6.5120\n"
          ]
        },
        {
          "output_type": "stream",
          "name": "stderr",
          "text": [
            "<ipython-input-438-ab28ec98d12e>:152: UserWarning: To copy construct from a tensor, it is recommended to use sourceTensor.clone().detach() or sourceTensor.clone().detach().requires_grad_(True), rather than torch.tensor(sourceTensor).\n",
            "  X_scaled_tensor = torch.tensor(combined_X, dtype=torch.float32).unsqueeze(1)\n"
          ]
        },
        {
          "output_type": "stream",
          "name": "stdout",
          "text": [
            "     Epoch 5: Train Loss = 0.7428, Val Loss = 8.9997\n",
            "     Epoch 10: Train Loss = 0.7238, Val Loss = 11.0223\n",
            "     Epoch 15: Train Loss = 0.7193, Val Loss = 12.0748\n",
            "     Epoch 20: Train Loss = 0.7180, Val Loss = 12.3747\n",
            "    ⏹️ Early stopping at epoch 20\n",
            " Run 1 finished with best val loss: 6.5120\n",
            "Original Error Percentage (Test Dataset): 4.0399%\n",
            "Corrected Error Percentage (Test Dataset): 3.4109%\n",
            "   Run 2/5 ...      Epoch 0: Train Loss = 0.8381, Val Loss = 5.6617\n"
          ]
        },
        {
          "output_type": "stream",
          "name": "stderr",
          "text": [
            "<ipython-input-438-ab28ec98d12e>:152: UserWarning: To copy construct from a tensor, it is recommended to use sourceTensor.clone().detach() or sourceTensor.clone().detach().requires_grad_(True), rather than torch.tensor(sourceTensor).\n",
            "  X_scaled_tensor = torch.tensor(combined_X, dtype=torch.float32).unsqueeze(1)\n"
          ]
        },
        {
          "output_type": "stream",
          "name": "stdout",
          "text": [
            "     Epoch 5: Train Loss = 0.7551, Val Loss = 7.3739\n",
            "     Epoch 10: Train Loss = 0.7266, Val Loss = 9.1561\n",
            "     Epoch 15: Train Loss = 0.7189, Val Loss = 10.4486\n",
            "     Epoch 20: Train Loss = 0.7171, Val Loss = 11.2569\n",
            "    ⏹️ Early stopping at epoch 20\n",
            " Run 2 finished with best val loss: 5.6617\n",
            "Original Error Percentage (Test Dataset): 4.0399%\n",
            "Corrected Error Percentage (Test Dataset): 3.2253%\n",
            "   Run 3/5 ...      Epoch 0: Train Loss = 0.9774, Val Loss = 5.5641\n"
          ]
        },
        {
          "output_type": "stream",
          "name": "stderr",
          "text": [
            "<ipython-input-438-ab28ec98d12e>:152: UserWarning: To copy construct from a tensor, it is recommended to use sourceTensor.clone().detach() or sourceTensor.clone().detach().requires_grad_(True), rather than torch.tensor(sourceTensor).\n",
            "  X_scaled_tensor = torch.tensor(combined_X, dtype=torch.float32).unsqueeze(1)\n"
          ]
        },
        {
          "output_type": "stream",
          "name": "stdout",
          "text": [
            "     Epoch 5: Train Loss = 0.7663, Val Loss = 9.2404\n",
            "     Epoch 10: Train Loss = 0.7279, Val Loss = 12.4941\n",
            "     Epoch 15: Train Loss = 0.7196, Val Loss = 14.2909\n",
            "     Epoch 20: Train Loss = 0.7175, Val Loss = 14.7204\n",
            "    ⏹️ Early stopping at epoch 20\n",
            " Run 3 finished with best val loss: 5.5641\n",
            "Original Error Percentage (Test Dataset): 4.0399%\n",
            "Corrected Error Percentage (Test Dataset): 4.0108%\n",
            "   Run 4/5 ...      Epoch 0: Train Loss = 0.8657, Val Loss = 5.3789\n"
          ]
        },
        {
          "output_type": "stream",
          "name": "stderr",
          "text": [
            "<ipython-input-438-ab28ec98d12e>:152: UserWarning: To copy construct from a tensor, it is recommended to use sourceTensor.clone().detach() or sourceTensor.clone().detach().requires_grad_(True), rather than torch.tensor(sourceTensor).\n",
            "  X_scaled_tensor = torch.tensor(combined_X, dtype=torch.float32).unsqueeze(1)\n"
          ]
        },
        {
          "output_type": "stream",
          "name": "stdout",
          "text": [
            "     Epoch 5: Train Loss = 0.7679, Val Loss = 7.7831\n",
            "     Epoch 10: Train Loss = 0.7290, Val Loss = 10.6485\n",
            "     Epoch 15: Train Loss = 0.7208, Val Loss = 12.1238\n",
            "     Epoch 20: Train Loss = 0.7182, Val Loss = 12.3953\n",
            "    ⏹️ Early stopping at epoch 20\n",
            " Run 4 finished with best val loss: 5.3789\n",
            "Original Error Percentage (Test Dataset): 4.0399%\n",
            "Corrected Error Percentage (Test Dataset): 3.4590%\n",
            "   Run 5/5 ...      Epoch 0: Train Loss = 0.8389, Val Loss = 5.5296\n"
          ]
        },
        {
          "output_type": "stream",
          "name": "stderr",
          "text": [
            "<ipython-input-438-ab28ec98d12e>:152: UserWarning: To copy construct from a tensor, it is recommended to use sourceTensor.clone().detach() or sourceTensor.clone().detach().requires_grad_(True), rather than torch.tensor(sourceTensor).\n",
            "  X_scaled_tensor = torch.tensor(combined_X, dtype=torch.float32).unsqueeze(1)\n"
          ]
        },
        {
          "output_type": "stream",
          "name": "stdout",
          "text": [
            "     Epoch 5: Train Loss = 0.7390, Val Loss = 8.2589\n",
            "     Epoch 10: Train Loss = 0.7199, Val Loss = 10.4628\n",
            "     Epoch 15: Train Loss = 0.7178, Val Loss = 11.3467\n",
            "     Epoch 20: Train Loss = 0.7170, Val Loss = 11.7247\n",
            "    ⏹️ Early stopping at epoch 20\n",
            " Run 5 finished with best val loss: 5.5296\n",
            "Original Error Percentage (Test Dataset): 4.0399%\n",
            "Corrected Error Percentage (Test Dataset): 3.2795%\n",
            " Finished configuration H=32, D=0.0, LR=0.0001, B=16 → Avg Val Loss: 5.7293, Avg Accuracy: 3.4771%\n",
            "\n",
            " Running 3/81: H=32, D=0.0, LR=0.0001, B=32\n",
            "   Run 1/5 ...      Epoch 0: Train Loss = 1.0618, Val Loss = 5.3140\n"
          ]
        },
        {
          "output_type": "stream",
          "name": "stderr",
          "text": [
            "<ipython-input-438-ab28ec98d12e>:152: UserWarning: To copy construct from a tensor, it is recommended to use sourceTensor.clone().detach() or sourceTensor.clone().detach().requires_grad_(True), rather than torch.tensor(sourceTensor).\n",
            "  X_scaled_tensor = torch.tensor(combined_X, dtype=torch.float32).unsqueeze(1)\n"
          ]
        },
        {
          "output_type": "stream",
          "name": "stdout",
          "text": [
            "     Epoch 5: Train Loss = 0.8354, Val Loss = 6.6167\n",
            "     Epoch 10: Train Loss = 0.7429, Val Loss = 9.9279\n",
            "     Epoch 15: Train Loss = 0.7218, Val Loss = 12.7270\n",
            "     Epoch 20: Train Loss = 0.7180, Val Loss = 13.6445\n",
            "    ⏹️ Early stopping at epoch 20\n",
            " Run 1 finished with best val loss: 5.3140\n",
            "Original Error Percentage (Test Dataset): 4.0399%\n",
            "Corrected Error Percentage (Test Dataset): 3.7132%\n",
            "   Run 2/5 ...      Epoch 0: Train Loss = 0.8465, Val Loss = 6.2366\n"
          ]
        },
        {
          "output_type": "stream",
          "name": "stderr",
          "text": [
            "<ipython-input-438-ab28ec98d12e>:152: UserWarning: To copy construct from a tensor, it is recommended to use sourceTensor.clone().detach() or sourceTensor.clone().detach().requires_grad_(True), rather than torch.tensor(sourceTensor).\n",
            "  X_scaled_tensor = torch.tensor(combined_X, dtype=torch.float32).unsqueeze(1)\n"
          ]
        },
        {
          "output_type": "stream",
          "name": "stdout",
          "text": [
            "     Epoch 5: Train Loss = 0.7583, Val Loss = 8.7520\n",
            "     Epoch 10: Train Loss = 0.7291, Val Loss = 10.9253\n",
            "     Epoch 15: Train Loss = 0.7203, Val Loss = 12.3344\n",
            "     Epoch 20: Train Loss = 0.7174, Val Loss = 12.9105\n",
            "    ⏹️ Early stopping at epoch 20\n",
            " Run 2 finished with best val loss: 6.2366\n",
            "Original Error Percentage (Test Dataset): 4.0399%\n",
            "Corrected Error Percentage (Test Dataset): 3.5546%\n",
            "   Run 3/5 ...      Epoch 0: Train Loss = 0.8306, Val Loss = 6.1167\n"
          ]
        },
        {
          "output_type": "stream",
          "name": "stderr",
          "text": [
            "<ipython-input-438-ab28ec98d12e>:152: UserWarning: To copy construct from a tensor, it is recommended to use sourceTensor.clone().detach() or sourceTensor.clone().detach().requires_grad_(True), rather than torch.tensor(sourceTensor).\n",
            "  X_scaled_tensor = torch.tensor(combined_X, dtype=torch.float32).unsqueeze(1)\n"
          ]
        },
        {
          "output_type": "stream",
          "name": "stdout",
          "text": [
            "     Epoch 5: Train Loss = 0.7514, Val Loss = 7.3425\n",
            "     Epoch 10: Train Loss = 0.7273, Val Loss = 8.7878\n",
            "     Epoch 15: Train Loss = 0.7191, Val Loss = 10.0652\n",
            "     Epoch 20: Train Loss = 0.7169, Val Loss = 10.8027\n",
            "    ⏹️ Early stopping at epoch 20\n",
            " Run 3 finished with best val loss: 6.1167\n",
            "Original Error Percentage (Test Dataset): 4.0399%\n",
            "Corrected Error Percentage (Test Dataset): 3.2067%\n",
            "   Run 4/5 ...      Epoch 0: Train Loss = 0.8183, Val Loss = 7.0959\n"
          ]
        },
        {
          "output_type": "stream",
          "name": "stderr",
          "text": [
            "<ipython-input-438-ab28ec98d12e>:152: UserWarning: To copy construct from a tensor, it is recommended to use sourceTensor.clone().detach() or sourceTensor.clone().detach().requires_grad_(True), rather than torch.tensor(sourceTensor).\n",
            "  X_scaled_tensor = torch.tensor(combined_X, dtype=torch.float32).unsqueeze(1)\n"
          ]
        },
        {
          "output_type": "stream",
          "name": "stdout",
          "text": [
            "     Epoch 5: Train Loss = 0.7625, Val Loss = 8.1282\n",
            "     Epoch 10: Train Loss = 0.7364, Val Loss = 9.4098\n",
            "     Epoch 15: Train Loss = 0.7241, Val Loss = 10.4207\n",
            "     Epoch 20: Train Loss = 0.7192, Val Loss = 11.2166\n",
            "    ⏹️ Early stopping at epoch 20\n",
            " Run 4 finished with best val loss: 7.0959\n",
            "Original Error Percentage (Test Dataset): 4.0399%\n",
            "Corrected Error Percentage (Test Dataset): 3.2274%\n",
            "   Run 5/5 ...      Epoch 0: Train Loss = 0.7668, Val Loss = 9.3242\n"
          ]
        },
        {
          "output_type": "stream",
          "name": "stderr",
          "text": [
            "<ipython-input-438-ab28ec98d12e>:152: UserWarning: To copy construct from a tensor, it is recommended to use sourceTensor.clone().detach() or sourceTensor.clone().detach().requires_grad_(True), rather than torch.tensor(sourceTensor).\n",
            "  X_scaled_tensor = torch.tensor(combined_X, dtype=torch.float32).unsqueeze(1)\n"
          ]
        },
        {
          "output_type": "stream",
          "name": "stdout",
          "text": [
            "     Epoch 5: Train Loss = 0.7365, Val Loss = 11.0874\n",
            "     Epoch 10: Train Loss = 0.7245, Val Loss = 12.3476\n",
            "     Epoch 15: Train Loss = 0.7204, Val Loss = 12.9284\n",
            "     Epoch 20: Train Loss = 0.7187, Val Loss = 13.5314\n",
            "    ⏹️ Early stopping at epoch 20\n",
            " Run 5 finished with best val loss: 9.3242\n",
            "Original Error Percentage (Test Dataset): 4.0399%\n",
            "Corrected Error Percentage (Test Dataset): 3.6936%\n",
            " Finished configuration H=32, D=0.0, LR=0.0001, B=32 → Avg Val Loss: 6.8175, Avg Accuracy: 3.4791%\n",
            "\n",
            " Running 4/81: H=32, D=0.0, LR=0.0005, B=8\n",
            "   Run 1/5 ... "
          ]
        },
        {
          "output_type": "stream",
          "name": "stderr",
          "text": [
            "<ipython-input-438-ab28ec98d12e>:152: UserWarning: To copy construct from a tensor, it is recommended to use sourceTensor.clone().detach() or sourceTensor.clone().detach().requires_grad_(True), rather than torch.tensor(sourceTensor).\n",
            "  X_scaled_tensor = torch.tensor(combined_X, dtype=torch.float32).unsqueeze(1)\n"
          ]
        },
        {
          "output_type": "stream",
          "name": "stdout",
          "text": [
            "     Epoch 0: Train Loss = 0.7593, Val Loss = 13.3517\n",
            "     Epoch 5: Train Loss = 0.7183, Val Loss = 14.5851\n",
            "     Epoch 10: Train Loss = 0.7179, Val Loss = 14.6066\n",
            "     Epoch 15: Train Loss = 0.7165, Val Loss = 14.5224\n",
            "     Epoch 20: Train Loss = 0.7163, Val Loss = 14.9695\n",
            "     Epoch 25: Train Loss = 0.7149, Val Loss = 15.0105\n",
            "     Epoch 30: Train Loss = 0.7147, Val Loss = 16.3942\n",
            "     Epoch 35: Train Loss = 0.7140, Val Loss = 16.5540\n",
            "    ⏹️ Early stopping at epoch 36\n",
            " Run 1 finished with best val loss: 13.2856\n",
            "Original Error Percentage (Test Dataset): 4.0399%\n",
            "Corrected Error Percentage (Test Dataset): 4.7371%\n",
            "   Run 2/5 ... "
          ]
        },
        {
          "output_type": "stream",
          "name": "stderr",
          "text": [
            "<ipython-input-438-ab28ec98d12e>:152: UserWarning: To copy construct from a tensor, it is recommended to use sourceTensor.clone().detach() or sourceTensor.clone().detach().requires_grad_(True), rather than torch.tensor(sourceTensor).\n",
            "  X_scaled_tensor = torch.tensor(combined_X, dtype=torch.float32).unsqueeze(1)\n"
          ]
        },
        {
          "output_type": "stream",
          "name": "stdout",
          "text": [
            "     Epoch 0: Train Loss = 0.7618, Val Loss = 11.6834\n",
            "     Epoch 5: Train Loss = 0.7176, Val Loss = 12.1871\n",
            "     Epoch 10: Train Loss = 0.7177, Val Loss = 13.1407\n",
            "     Epoch 15: Train Loss = 0.7163, Val Loss = 12.3580\n",
            "     Epoch 20: Train Loss = 0.7150, Val Loss = 13.8810\n",
            "     Epoch 25: Train Loss = 0.7151, Val Loss = 12.5183\n",
            "     Epoch 30: Train Loss = 0.7160, Val Loss = 14.0119\n",
            "    ⏹️ Early stopping at epoch 34\n",
            " Run 2 finished with best val loss: 10.7198\n",
            "Original Error Percentage (Test Dataset): 4.0399%\n",
            "Corrected Error Percentage (Test Dataset): 3.9285%\n",
            "   Run 3/5 ... "
          ]
        },
        {
          "output_type": "stream",
          "name": "stderr",
          "text": [
            "<ipython-input-438-ab28ec98d12e>:152: UserWarning: To copy construct from a tensor, it is recommended to use sourceTensor.clone().detach() or sourceTensor.clone().detach().requires_grad_(True), rather than torch.tensor(sourceTensor).\n",
            "  X_scaled_tensor = torch.tensor(combined_X, dtype=torch.float32).unsqueeze(1)\n"
          ]
        },
        {
          "output_type": "stream",
          "name": "stdout",
          "text": [
            "     Epoch 0: Train Loss = 0.7564, Val Loss = 11.2682\n",
            "     Epoch 5: Train Loss = 0.7192, Val Loss = 12.8728\n",
            "     Epoch 10: Train Loss = 0.7164, Val Loss = 13.5911\n",
            "     Epoch 15: Train Loss = 0.7181, Val Loss = 13.4701\n",
            "     Epoch 20: Train Loss = 0.7168, Val Loss = 12.9640\n",
            "    ⏹️ Early stopping at epoch 20\n",
            " Run 3 finished with best val loss: 11.2682\n",
            "Original Error Percentage (Test Dataset): 4.0399%\n",
            "Corrected Error Percentage (Test Dataset): 3.5970%\n",
            "   Run 4/5 ... "
          ]
        },
        {
          "output_type": "stream",
          "name": "stderr",
          "text": [
            "<ipython-input-438-ab28ec98d12e>:152: UserWarning: To copy construct from a tensor, it is recommended to use sourceTensor.clone().detach() or sourceTensor.clone().detach().requires_grad_(True), rather than torch.tensor(sourceTensor).\n",
            "  X_scaled_tensor = torch.tensor(combined_X, dtype=torch.float32).unsqueeze(1)\n"
          ]
        },
        {
          "output_type": "stream",
          "name": "stdout",
          "text": [
            "     Epoch 0: Train Loss = 0.7834, Val Loss = 9.1369\n",
            "     Epoch 5: Train Loss = 0.7165, Val Loss = 12.7853\n",
            "     Epoch 10: Train Loss = 0.7169, Val Loss = 12.4249\n",
            "     Epoch 15: Train Loss = 0.7164, Val Loss = 12.4733\n",
            "     Epoch 20: Train Loss = 0.7157, Val Loss = 13.6435\n",
            "    ⏹️ Early stopping at epoch 20\n",
            " Run 4 finished with best val loss: 9.1369\n",
            "Original Error Percentage (Test Dataset): 4.0399%\n",
            "Corrected Error Percentage (Test Dataset): 3.7038%\n",
            "   Run 5/5 ... "
          ]
        },
        {
          "output_type": "stream",
          "name": "stderr",
          "text": [
            "<ipython-input-438-ab28ec98d12e>:152: UserWarning: To copy construct from a tensor, it is recommended to use sourceTensor.clone().detach() or sourceTensor.clone().detach().requires_grad_(True), rather than torch.tensor(sourceTensor).\n",
            "  X_scaled_tensor = torch.tensor(combined_X, dtype=torch.float32).unsqueeze(1)\n"
          ]
        },
        {
          "output_type": "stream",
          "name": "stdout",
          "text": [
            "     Epoch 0: Train Loss = 0.7850, Val Loss = 14.5522\n",
            "     Epoch 5: Train Loss = 0.7187, Val Loss = 16.2558\n",
            "     Epoch 10: Train Loss = 0.7186, Val Loss = 15.4888\n",
            "     Epoch 15: Train Loss = 0.7191, Val Loss = 15.0570\n",
            "     Epoch 20: Train Loss = 0.7177, Val Loss = 15.2024\n",
            "     Epoch 25: Train Loss = 0.7175, Val Loss = 16.2069\n",
            "    ⏹️ Early stopping at epoch 28\n",
            " Run 5 finished with best val loss: 13.9994\n",
            "Original Error Percentage (Test Dataset): 4.0399%\n",
            "Corrected Error Percentage (Test Dataset): 4.2936%\n",
            " Finished configuration H=32, D=0.0, LR=0.0005, B=8 → Avg Val Loss: 11.6820, Avg Accuracy: 4.0520%\n",
            "\n",
            " Running 5/81: H=32, D=0.0, LR=0.0005, B=16\n",
            "   Run 1/5 ...      Epoch 0: Train Loss = 0.8671, Val Loss = 7.7386\n"
          ]
        },
        {
          "output_type": "stream",
          "name": "stderr",
          "text": [
            "<ipython-input-438-ab28ec98d12e>:152: UserWarning: To copy construct from a tensor, it is recommended to use sourceTensor.clone().detach() or sourceTensor.clone().detach().requires_grad_(True), rather than torch.tensor(sourceTensor).\n",
            "  X_scaled_tensor = torch.tensor(combined_X, dtype=torch.float32).unsqueeze(1)\n"
          ]
        },
        {
          "output_type": "stream",
          "name": "stdout",
          "text": [
            "     Epoch 5: Train Loss = 0.7178, Val Loss = 14.3465\n",
            "     Epoch 10: Train Loss = 0.7163, Val Loss = 14.2364\n",
            "     Epoch 15: Train Loss = 0.7164, Val Loss = 14.9041\n",
            "     Epoch 20: Train Loss = 0.7156, Val Loss = 15.2020\n",
            "    ⏹️ Early stopping at epoch 20\n",
            " Run 1 finished with best val loss: 7.7386\n",
            "Original Error Percentage (Test Dataset): 4.0399%\n",
            "Corrected Error Percentage (Test Dataset): 4.1153%\n",
            "   Run 2/5 ...      Epoch 0: Train Loss = 0.8056, Val Loss = 9.5514\n"
          ]
        },
        {
          "output_type": "stream",
          "name": "stderr",
          "text": [
            "<ipython-input-438-ab28ec98d12e>:152: UserWarning: To copy construct from a tensor, it is recommended to use sourceTensor.clone().detach() or sourceTensor.clone().detach().requires_grad_(True), rather than torch.tensor(sourceTensor).\n",
            "  X_scaled_tensor = torch.tensor(combined_X, dtype=torch.float32).unsqueeze(1)\n"
          ]
        },
        {
          "output_type": "stream",
          "name": "stdout",
          "text": [
            "     Epoch 5: Train Loss = 0.7180, Val Loss = 12.4497\n",
            "     Epoch 10: Train Loss = 0.7185, Val Loss = 11.9807\n",
            "     Epoch 15: Train Loss = 0.7163, Val Loss = 11.9049\n",
            "     Epoch 20: Train Loss = 0.7163, Val Loss = 12.0967\n",
            "    ⏹️ Early stopping at epoch 20\n",
            " Run 2 finished with best val loss: 9.5514\n",
            "Original Error Percentage (Test Dataset): 4.0399%\n",
            "Corrected Error Percentage (Test Dataset): 3.3650%\n",
            "   Run 3/5 ...      Epoch 0: Train Loss = 0.8364, Val Loss = 9.9516\n"
          ]
        },
        {
          "output_type": "stream",
          "name": "stderr",
          "text": [
            "<ipython-input-438-ab28ec98d12e>:152: UserWarning: To copy construct from a tensor, it is recommended to use sourceTensor.clone().detach() or sourceTensor.clone().detach().requires_grad_(True), rather than torch.tensor(sourceTensor).\n",
            "  X_scaled_tensor = torch.tensor(combined_X, dtype=torch.float32).unsqueeze(1)\n"
          ]
        },
        {
          "output_type": "stream",
          "name": "stdout",
          "text": [
            "     Epoch 5: Train Loss = 0.7180, Val Loss = 14.4065\n",
            "     Epoch 10: Train Loss = 0.7177, Val Loss = 14.7940\n",
            "     Epoch 15: Train Loss = 0.7166, Val Loss = 14.9255\n",
            "     Epoch 20: Train Loss = 0.7152, Val Loss = 15.0953\n",
            "    ⏹️ Early stopping at epoch 20\n",
            " Run 3 finished with best val loss: 9.9516\n",
            "Original Error Percentage (Test Dataset): 4.0399%\n",
            "Corrected Error Percentage (Test Dataset): 4.1511%\n",
            "   Run 4/5 ...      Epoch 0: Train Loss = 0.7572, Val Loss = 7.8684\n"
          ]
        },
        {
          "output_type": "stream",
          "name": "stderr",
          "text": [
            "<ipython-input-438-ab28ec98d12e>:152: UserWarning: To copy construct from a tensor, it is recommended to use sourceTensor.clone().detach() or sourceTensor.clone().detach().requires_grad_(True), rather than torch.tensor(sourceTensor).\n",
            "  X_scaled_tensor = torch.tensor(combined_X, dtype=torch.float32).unsqueeze(1)\n"
          ]
        },
        {
          "output_type": "stream",
          "name": "stdout",
          "text": [
            "     Epoch 5: Train Loss = 0.7171, Val Loss = 11.2302\n",
            "     Epoch 10: Train Loss = 0.7157, Val Loss = 12.2947\n",
            "     Epoch 15: Train Loss = 0.7147, Val Loss = 13.7716\n",
            "     Epoch 20: Train Loss = 0.7143, Val Loss = 13.8239\n",
            "    ⏹️ Early stopping at epoch 20\n",
            " Run 4 finished with best val loss: 7.8684\n",
            "Original Error Percentage (Test Dataset): 4.0399%\n",
            "Corrected Error Percentage (Test Dataset): 3.7913%\n",
            "   Run 5/5 ...      Epoch 0: Train Loss = 0.7806, Val Loss = 10.5192\n"
          ]
        },
        {
          "output_type": "stream",
          "name": "stderr",
          "text": [
            "<ipython-input-438-ab28ec98d12e>:152: UserWarning: To copy construct from a tensor, it is recommended to use sourceTensor.clone().detach() or sourceTensor.clone().detach().requires_grad_(True), rather than torch.tensor(sourceTensor).\n",
            "  X_scaled_tensor = torch.tensor(combined_X, dtype=torch.float32).unsqueeze(1)\n"
          ]
        },
        {
          "output_type": "stream",
          "name": "stdout",
          "text": [
            "     Epoch 5: Train Loss = 0.7185, Val Loss = 14.8638\n",
            "     Epoch 10: Train Loss = 0.7181, Val Loss = 14.9916\n",
            "     Epoch 15: Train Loss = 0.7153, Val Loss = 14.0614\n",
            "     Epoch 20: Train Loss = 0.7152, Val Loss = 14.2883\n",
            "    ⏹️ Early stopping at epoch 20\n",
            " Run 5 finished with best val loss: 10.5192\n",
            "Original Error Percentage (Test Dataset): 4.0399%\n",
            "Corrected Error Percentage (Test Dataset): 3.9844%\n",
            " Finished configuration H=32, D=0.0, LR=0.0005, B=16 → Avg Val Loss: 9.1258, Avg Accuracy: 3.8814%\n",
            "\n",
            " Running 6/81: H=32, D=0.0, LR=0.0005, B=32\n",
            "   Run 1/5 ...      Epoch 0: Train Loss = 0.7670, Val Loss = 12.7496\n"
          ]
        },
        {
          "output_type": "stream",
          "name": "stderr",
          "text": [
            "<ipython-input-438-ab28ec98d12e>:152: UserWarning: To copy construct from a tensor, it is recommended to use sourceTensor.clone().detach() or sourceTensor.clone().detach().requires_grad_(True), rather than torch.tensor(sourceTensor).\n",
            "  X_scaled_tensor = torch.tensor(combined_X, dtype=torch.float32).unsqueeze(1)\n"
          ]
        },
        {
          "output_type": "stream",
          "name": "stdout",
          "text": [
            "     Epoch 5: Train Loss = 0.7265, Val Loss = 15.6306\n",
            "     Epoch 10: Train Loss = 0.7203, Val Loss = 13.1219\n",
            "     Epoch 15: Train Loss = 0.7176, Val Loss = 13.1674\n",
            "     Epoch 20: Train Loss = 0.7158, Val Loss = 12.9990\n",
            "     Epoch 25: Train Loss = 0.7162, Val Loss = 11.5006\n",
            "     Epoch 30: Train Loss = 0.7178, Val Loss = 12.1232\n",
            "     Epoch 35: Train Loss = 0.7160, Val Loss = 12.6858\n",
            "     Epoch 40: Train Loss = 0.7153, Val Loss = 12.7196\n",
            "     Epoch 45: Train Loss = 0.7155, Val Loss = 12.6558\n",
            "    ⏹️ Early stopping at epoch 45\n",
            " Run 1 finished with best val loss: 11.5006\n",
            "Original Error Percentage (Test Dataset): 4.0399%\n",
            "Corrected Error Percentage (Test Dataset): 3.5068%\n",
            "   Run 2/5 ...      Epoch 0: Train Loss = 0.8574, Val Loss = 7.8487\n"
          ]
        },
        {
          "output_type": "stream",
          "name": "stderr",
          "text": [
            "<ipython-input-438-ab28ec98d12e>:152: UserWarning: To copy construct from a tensor, it is recommended to use sourceTensor.clone().detach() or sourceTensor.clone().detach().requires_grad_(True), rather than torch.tensor(sourceTensor).\n",
            "  X_scaled_tensor = torch.tensor(combined_X, dtype=torch.float32).unsqueeze(1)\n"
          ]
        },
        {
          "output_type": "stream",
          "name": "stdout",
          "text": [
            "     Epoch 5: Train Loss = 0.7174, Val Loss = 14.7526\n",
            "     Epoch 10: Train Loss = 0.7171, Val Loss = 13.7661\n",
            "     Epoch 15: Train Loss = 0.7158, Val Loss = 13.8581\n",
            "     Epoch 20: Train Loss = 0.7157, Val Loss = 13.5000\n",
            "    ⏹️ Early stopping at epoch 20\n",
            " Run 2 finished with best val loss: 7.8487\n",
            "Original Error Percentage (Test Dataset): 4.0399%\n",
            "Corrected Error Percentage (Test Dataset): 3.6953%\n",
            "   Run 3/5 ...      Epoch 0: Train Loss = 0.8074, Val Loss = 6.7174\n"
          ]
        },
        {
          "output_type": "stream",
          "name": "stderr",
          "text": [
            "<ipython-input-438-ab28ec98d12e>:152: UserWarning: To copy construct from a tensor, it is recommended to use sourceTensor.clone().detach() or sourceTensor.clone().detach().requires_grad_(True), rather than torch.tensor(sourceTensor).\n",
            "  X_scaled_tensor = torch.tensor(combined_X, dtype=torch.float32).unsqueeze(1)\n"
          ]
        },
        {
          "output_type": "stream",
          "name": "stdout",
          "text": [
            "     Epoch 5: Train Loss = 0.7171, Val Loss = 10.5906\n",
            "     Epoch 10: Train Loss = 0.7166, Val Loss = 11.1098\n",
            "     Epoch 15: Train Loss = 0.7168, Val Loss = 11.0258\n",
            "     Epoch 20: Train Loss = 0.7185, Val Loss = 11.3787\n",
            "    ⏹️ Early stopping at epoch 20\n",
            " Run 3 finished with best val loss: 6.7174\n",
            "Original Error Percentage (Test Dataset): 4.0399%\n",
            "Corrected Error Percentage (Test Dataset): 3.2582%\n",
            "   Run 4/5 ...      Epoch 0: Train Loss = 0.7917, Val Loss = 12.8384\n"
          ]
        },
        {
          "output_type": "stream",
          "name": "stderr",
          "text": [
            "<ipython-input-438-ab28ec98d12e>:152: UserWarning: To copy construct from a tensor, it is recommended to use sourceTensor.clone().detach() or sourceTensor.clone().detach().requires_grad_(True), rather than torch.tensor(sourceTensor).\n",
            "  X_scaled_tensor = torch.tensor(combined_X, dtype=torch.float32).unsqueeze(1)\n"
          ]
        },
        {
          "output_type": "stream",
          "name": "stdout",
          "text": [
            "     Epoch 5: Train Loss = 0.7214, Val Loss = 16.9469\n",
            "     Epoch 10: Train Loss = 0.7182, Val Loss = 15.3259\n",
            "     Epoch 15: Train Loss = 0.7167, Val Loss = 14.3790\n",
            "     Epoch 20: Train Loss = 0.7155, Val Loss = 14.0549\n",
            "    ⏹️ Early stopping at epoch 20\n",
            " Run 4 finished with best val loss: 12.8384\n",
            "Original Error Percentage (Test Dataset): 4.0399%\n",
            "Corrected Error Percentage (Test Dataset): 3.8685%\n",
            "   Run 5/5 ...      Epoch 0: Train Loss = 0.9397, Val Loss = 6.3268\n"
          ]
        },
        {
          "output_type": "stream",
          "name": "stderr",
          "text": [
            "<ipython-input-438-ab28ec98d12e>:152: UserWarning: To copy construct from a tensor, it is recommended to use sourceTensor.clone().detach() or sourceTensor.clone().detach().requires_grad_(True), rather than torch.tensor(sourceTensor).\n",
            "  X_scaled_tensor = torch.tensor(combined_X, dtype=torch.float32).unsqueeze(1)\n"
          ]
        },
        {
          "output_type": "stream",
          "name": "stdout",
          "text": [
            "     Epoch 5: Train Loss = 0.7188, Val Loss = 15.2163\n",
            "     Epoch 10: Train Loss = 0.7175, Val Loss = 14.0673\n",
            "     Epoch 15: Train Loss = 0.7164, Val Loss = 13.9504\n",
            "     Epoch 20: Train Loss = 0.7158, Val Loss = 14.2136\n",
            "    ⏹️ Early stopping at epoch 20\n",
            " Run 5 finished with best val loss: 6.3268\n",
            "Original Error Percentage (Test Dataset): 4.0399%\n",
            "Corrected Error Percentage (Test Dataset): 3.8553%\n",
            " Finished configuration H=32, D=0.0, LR=0.0005, B=32 → Avg Val Loss: 9.0464, Avg Accuracy: 3.6368%\n",
            "\n",
            " Running 7/81: H=32, D=0.0, LR=0.001, B=8\n",
            "   Run 1/5 ... "
          ]
        },
        {
          "output_type": "stream",
          "name": "stderr",
          "text": [
            "<ipython-input-438-ab28ec98d12e>:152: UserWarning: To copy construct from a tensor, it is recommended to use sourceTensor.clone().detach() or sourceTensor.clone().detach().requires_grad_(True), rather than torch.tensor(sourceTensor).\n",
            "  X_scaled_tensor = torch.tensor(combined_X, dtype=torch.float32).unsqueeze(1)\n"
          ]
        },
        {
          "output_type": "stream",
          "name": "stdout",
          "text": [
            "     Epoch 0: Train Loss = 0.7793, Val Loss = 11.5457\n",
            "     Epoch 5: Train Loss = 0.7207, Val Loss = 13.8252\n",
            "     Epoch 10: Train Loss = 0.7183, Val Loss = 14.4024\n",
            "     Epoch 15: Train Loss = 0.7179, Val Loss = 16.1656\n",
            "     Epoch 20: Train Loss = 0.7190, Val Loss = 19.5474\n",
            "    ⏹️ Early stopping at epoch 20\n",
            " Run 1 finished with best val loss: 11.5457\n",
            "Original Error Percentage (Test Dataset): 4.0399%\n",
            "Corrected Error Percentage (Test Dataset): 5.3045%\n",
            "   Run 2/5 ... "
          ]
        },
        {
          "output_type": "stream",
          "name": "stderr",
          "text": [
            "<ipython-input-438-ab28ec98d12e>:152: UserWarning: To copy construct from a tensor, it is recommended to use sourceTensor.clone().detach() or sourceTensor.clone().detach().requires_grad_(True), rather than torch.tensor(sourceTensor).\n",
            "  X_scaled_tensor = torch.tensor(combined_X, dtype=torch.float32).unsqueeze(1)\n"
          ]
        },
        {
          "output_type": "stream",
          "name": "stdout",
          "text": [
            "     Epoch 0: Train Loss = 0.7438, Val Loss = 15.8077\n",
            "     Epoch 5: Train Loss = 0.7222, Val Loss = 14.3236\n",
            "     Epoch 10: Train Loss = 0.7184, Val Loss = 14.0929\n",
            "     Epoch 15: Train Loss = 0.7202, Val Loss = 13.8376\n",
            "     Epoch 20: Train Loss = 0.7209, Val Loss = 12.8978\n",
            "     Epoch 25: Train Loss = 0.7177, Val Loss = 12.6696\n",
            "     Epoch 30: Train Loss = 0.7168, Val Loss = 14.5876\n",
            "    ⏹️ Early stopping at epoch 31\n",
            " Run 2 finished with best val loss: 11.7796\n",
            "Original Error Percentage (Test Dataset): 4.0399%\n",
            "Corrected Error Percentage (Test Dataset): 3.7060%\n",
            "   Run 3/5 ... "
          ]
        },
        {
          "output_type": "stream",
          "name": "stderr",
          "text": [
            "<ipython-input-438-ab28ec98d12e>:152: UserWarning: To copy construct from a tensor, it is recommended to use sourceTensor.clone().detach() or sourceTensor.clone().detach().requires_grad_(True), rather than torch.tensor(sourceTensor).\n",
            "  X_scaled_tensor = torch.tensor(combined_X, dtype=torch.float32).unsqueeze(1)\n"
          ]
        },
        {
          "output_type": "stream",
          "name": "stdout",
          "text": [
            "     Epoch 0: Train Loss = 0.7406, Val Loss = 12.4310\n",
            "     Epoch 5: Train Loss = 0.7198, Val Loss = 11.8016\n",
            "     Epoch 10: Train Loss = 0.7177, Val Loss = 13.8736\n",
            "     Epoch 15: Train Loss = 0.7172, Val Loss = 12.7548\n",
            "     Epoch 20: Train Loss = 0.7164, Val Loss = 12.9645\n",
            "    ⏹️ Early stopping at epoch 24\n",
            " Run 3 finished with best val loss: 11.5533\n",
            "Original Error Percentage (Test Dataset): 4.0399%\n",
            "Corrected Error Percentage (Test Dataset): 3.7770%\n",
            "   Run 4/5 ... "
          ]
        },
        {
          "output_type": "stream",
          "name": "stderr",
          "text": [
            "<ipython-input-438-ab28ec98d12e>:152: UserWarning: To copy construct from a tensor, it is recommended to use sourceTensor.clone().detach() or sourceTensor.clone().detach().requires_grad_(True), rather than torch.tensor(sourceTensor).\n",
            "  X_scaled_tensor = torch.tensor(combined_X, dtype=torch.float32).unsqueeze(1)\n"
          ]
        },
        {
          "output_type": "stream",
          "name": "stdout",
          "text": [
            "     Epoch 0: Train Loss = 0.7592, Val Loss = 9.1733\n",
            "     Epoch 5: Train Loss = 0.7184, Val Loss = 11.3267\n",
            "     Epoch 10: Train Loss = 0.7176, Val Loss = 10.9120\n",
            "     Epoch 15: Train Loss = 0.7168, Val Loss = 13.2880\n",
            "     Epoch 20: Train Loss = 0.7168, Val Loss = 12.8066\n",
            "    ⏹️ Early stopping at epoch 20\n",
            " Run 4 finished with best val loss: 9.1733\n",
            "Original Error Percentage (Test Dataset): 4.0399%\n",
            "Corrected Error Percentage (Test Dataset): 3.4687%\n",
            "   Run 5/5 ... "
          ]
        },
        {
          "output_type": "stream",
          "name": "stderr",
          "text": [
            "<ipython-input-438-ab28ec98d12e>:152: UserWarning: To copy construct from a tensor, it is recommended to use sourceTensor.clone().detach() or sourceTensor.clone().detach().requires_grad_(True), rather than torch.tensor(sourceTensor).\n",
            "  X_scaled_tensor = torch.tensor(combined_X, dtype=torch.float32).unsqueeze(1)\n"
          ]
        },
        {
          "output_type": "stream",
          "name": "stdout",
          "text": [
            "     Epoch 0: Train Loss = 0.7797, Val Loss = 14.1746\n",
            "     Epoch 5: Train Loss = 0.7195, Val Loss = 11.9285\n",
            "     Epoch 10: Train Loss = 0.7186, Val Loss = 12.9627\n",
            "     Epoch 15: Train Loss = 0.7188, Val Loss = 13.4817\n",
            "     Epoch 20: Train Loss = 0.7172, Val Loss = 13.4717\n",
            "     Epoch 25: Train Loss = 0.7182, Val Loss = 13.3974\n",
            "    ⏹️ Early stopping at epoch 29\n",
            " Run 5 finished with best val loss: 11.5892\n",
            "Original Error Percentage (Test Dataset): 4.0399%\n",
            "Corrected Error Percentage (Test Dataset): 3.8611%\n",
            " Finished configuration H=32, D=0.0, LR=0.001, B=8 → Avg Val Loss: 11.1282, Avg Accuracy: 4.0235%\n",
            "\n",
            " Running 8/81: H=32, D=0.0, LR=0.001, B=16\n",
            "   Run 1/5 ...      Epoch 0: Train Loss = 0.7653, Val Loss = 15.3241\n"
          ]
        },
        {
          "output_type": "stream",
          "name": "stderr",
          "text": [
            "<ipython-input-438-ab28ec98d12e>:152: UserWarning: To copy construct from a tensor, it is recommended to use sourceTensor.clone().detach() or sourceTensor.clone().detach().requires_grad_(True), rather than torch.tensor(sourceTensor).\n",
            "  X_scaled_tensor = torch.tensor(combined_X, dtype=torch.float32).unsqueeze(1)\n"
          ]
        },
        {
          "output_type": "stream",
          "name": "stdout",
          "text": [
            "     Epoch 5: Train Loss = 0.7181, Val Loss = 12.8819\n",
            "     Epoch 10: Train Loss = 0.7191, Val Loss = 13.1812\n",
            "     Epoch 15: Train Loss = 0.7164, Val Loss = 14.0044\n",
            "     Epoch 20: Train Loss = 0.7161, Val Loss = 14.4578\n",
            "     Epoch 25: Train Loss = 0.7145, Val Loss = 15.1570\n",
            "    ⏹️ Early stopping at epoch 25\n",
            " Run 1 finished with best val loss: 12.8819\n",
            "Original Error Percentage (Test Dataset): 4.0399%\n",
            "Corrected Error Percentage (Test Dataset): 4.1893%\n",
            "   Run 2/5 ...      Epoch 0: Train Loss = 0.7613, Val Loss = 11.6134\n"
          ]
        },
        {
          "output_type": "stream",
          "name": "stderr",
          "text": [
            "<ipython-input-438-ab28ec98d12e>:152: UserWarning: To copy construct from a tensor, it is recommended to use sourceTensor.clone().detach() or sourceTensor.clone().detach().requires_grad_(True), rather than torch.tensor(sourceTensor).\n",
            "  X_scaled_tensor = torch.tensor(combined_X, dtype=torch.float32).unsqueeze(1)\n"
          ]
        },
        {
          "output_type": "stream",
          "name": "stdout",
          "text": [
            "     Epoch 5: Train Loss = 0.7188, Val Loss = 12.5067\n",
            "     Epoch 10: Train Loss = 0.7165, Val Loss = 12.5303\n",
            "     Epoch 15: Train Loss = 0.7158, Val Loss = 13.3130\n",
            "     Epoch 20: Train Loss = 0.7157, Val Loss = 13.3108\n",
            "     Epoch 25: Train Loss = 0.7166, Val Loss = 13.6139\n",
            "    ⏹️ Early stopping at epoch 27\n",
            " Run 2 finished with best val loss: 11.0633\n",
            "Original Error Percentage (Test Dataset): 4.0399%\n",
            "Corrected Error Percentage (Test Dataset): 3.7530%\n",
            "   Run 3/5 ...      Epoch 0: Train Loss = 0.7926, Val Loss = 14.0304\n"
          ]
        },
        {
          "output_type": "stream",
          "name": "stderr",
          "text": [
            "<ipython-input-438-ab28ec98d12e>:152: UserWarning: To copy construct from a tensor, it is recommended to use sourceTensor.clone().detach() or sourceTensor.clone().detach().requires_grad_(True), rather than torch.tensor(sourceTensor).\n",
            "  X_scaled_tensor = torch.tensor(combined_X, dtype=torch.float32).unsqueeze(1)\n"
          ]
        },
        {
          "output_type": "stream",
          "name": "stdout",
          "text": [
            "     Epoch 5: Train Loss = 0.7162, Val Loss = 16.1830\n",
            "     Epoch 10: Train Loss = 0.7175, Val Loss = 15.3988\n",
            "     Epoch 15: Train Loss = 0.7171, Val Loss = 14.9452\n",
            "     Epoch 20: Train Loss = 0.7158, Val Loss = 15.9906\n",
            "    ⏹️ Early stopping at epoch 21\n",
            " Run 3 finished with best val loss: 13.7516\n",
            "Original Error Percentage (Test Dataset): 4.0399%\n",
            "Corrected Error Percentage (Test Dataset): 5.0182%\n",
            "   Run 4/5 ... "
          ]
        },
        {
          "output_type": "stream",
          "name": "stderr",
          "text": [
            "<ipython-input-438-ab28ec98d12e>:152: UserWarning: To copy construct from a tensor, it is recommended to use sourceTensor.clone().detach() or sourceTensor.clone().detach().requires_grad_(True), rather than torch.tensor(sourceTensor).\n",
            "  X_scaled_tensor = torch.tensor(combined_X, dtype=torch.float32).unsqueeze(1)\n"
          ]
        },
        {
          "output_type": "stream",
          "name": "stdout",
          "text": [
            "     Epoch 0: Train Loss = 0.7397, Val Loss = 12.2913\n",
            "     Epoch 5: Train Loss = 0.7206, Val Loss = 12.9005\n",
            "     Epoch 10: Train Loss = 0.7169, Val Loss = 14.9312\n",
            "     Epoch 15: Train Loss = 0.7170, Val Loss = 14.5825\n",
            "     Epoch 20: Train Loss = 0.7188, Val Loss = 15.1343\n",
            "    ⏹️ Early stopping at epoch 22\n",
            " Run 4 finished with best val loss: 11.3989\n",
            "Original Error Percentage (Test Dataset): 4.0399%\n",
            "Corrected Error Percentage (Test Dataset): 4.5537%\n",
            "   Run 5/5 ...      Epoch 0: Train Loss = 0.8027, Val Loss = 11.8752\n"
          ]
        },
        {
          "output_type": "stream",
          "name": "stderr",
          "text": [
            "<ipython-input-438-ab28ec98d12e>:152: UserWarning: To copy construct from a tensor, it is recommended to use sourceTensor.clone().detach() or sourceTensor.clone().detach().requires_grad_(True), rather than torch.tensor(sourceTensor).\n",
            "  X_scaled_tensor = torch.tensor(combined_X, dtype=torch.float32).unsqueeze(1)\n"
          ]
        },
        {
          "output_type": "stream",
          "name": "stdout",
          "text": [
            "     Epoch 5: Train Loss = 0.7189, Val Loss = 12.9412\n",
            "     Epoch 10: Train Loss = 0.7180, Val Loss = 13.8938\n",
            "     Epoch 15: Train Loss = 0.7164, Val Loss = 13.7617\n",
            "     Epoch 20: Train Loss = 0.7168, Val Loss = 14.5117\n",
            "    ⏹️ Early stopping at epoch 20\n",
            " Run 5 finished with best val loss: 11.8752\n",
            "Original Error Percentage (Test Dataset): 4.0399%\n",
            "Corrected Error Percentage (Test Dataset): 4.0455%\n",
            " Finished configuration H=32, D=0.0, LR=0.001, B=16 → Avg Val Loss: 12.1942, Avg Accuracy: 4.3119%\n",
            "\n",
            " Running 9/81: H=32, D=0.0, LR=0.001, B=32\n",
            "   Run 1/5 ...      Epoch 0: Train Loss = 0.8118, Val Loss = 11.2976\n"
          ]
        },
        {
          "output_type": "stream",
          "name": "stderr",
          "text": [
            "<ipython-input-438-ab28ec98d12e>:152: UserWarning: To copy construct from a tensor, it is recommended to use sourceTensor.clone().detach() or sourceTensor.clone().detach().requires_grad_(True), rather than torch.tensor(sourceTensor).\n",
            "  X_scaled_tensor = torch.tensor(combined_X, dtype=torch.float32).unsqueeze(1)\n"
          ]
        },
        {
          "output_type": "stream",
          "name": "stdout",
          "text": [
            "     Epoch 5: Train Loss = 0.7186, Val Loss = 11.7064\n",
            "     Epoch 10: Train Loss = 0.7178, Val Loss = 14.8614\n",
            "     Epoch 15: Train Loss = 0.7154, Val Loss = 13.6302\n",
            "     Epoch 20: Train Loss = 0.7201, Val Loss = 13.5603\n",
            "    ⏹️ Early stopping at epoch 20\n",
            " Run 1 finished with best val loss: 11.2976\n",
            "Original Error Percentage (Test Dataset): 4.0399%\n",
            "Corrected Error Percentage (Test Dataset): 3.7115%\n",
            "   Run 2/5 ...      Epoch 0: Train Loss = 0.7722, Val Loss = 11.9077\n"
          ]
        },
        {
          "output_type": "stream",
          "name": "stderr",
          "text": [
            "<ipython-input-438-ab28ec98d12e>:152: UserWarning: To copy construct from a tensor, it is recommended to use sourceTensor.clone().detach() or sourceTensor.clone().detach().requires_grad_(True), rather than torch.tensor(sourceTensor).\n",
            "  X_scaled_tensor = torch.tensor(combined_X, dtype=torch.float32).unsqueeze(1)\n"
          ]
        },
        {
          "output_type": "stream",
          "name": "stdout",
          "text": [
            "     Epoch 5: Train Loss = 0.7183, Val Loss = 12.3079\n",
            "     Epoch 10: Train Loss = 0.7169, Val Loss = 12.4859\n",
            "     Epoch 15: Train Loss = 0.7163, Val Loss = 13.0199\n",
            "     Epoch 20: Train Loss = 0.7165, Val Loss = 13.3139\n",
            "    ⏹️ Early stopping at epoch 20\n",
            " Run 2 finished with best val loss: 11.9077\n",
            "Original Error Percentage (Test Dataset): 4.0399%\n",
            "Corrected Error Percentage (Test Dataset): 3.6155%\n",
            "   Run 3/5 ...      Epoch 0: Train Loss = 0.7827, Val Loss = 13.2240\n"
          ]
        },
        {
          "output_type": "stream",
          "name": "stderr",
          "text": [
            "<ipython-input-438-ab28ec98d12e>:152: UserWarning: To copy construct from a tensor, it is recommended to use sourceTensor.clone().detach() or sourceTensor.clone().detach().requires_grad_(True), rather than torch.tensor(sourceTensor).\n",
            "  X_scaled_tensor = torch.tensor(combined_X, dtype=torch.float32).unsqueeze(1)\n"
          ]
        },
        {
          "output_type": "stream",
          "name": "stdout",
          "text": [
            "     Epoch 5: Train Loss = 0.7198, Val Loss = 12.9727\n",
            "     Epoch 10: Train Loss = 0.7151, Val Loss = 13.7815\n",
            "     Epoch 15: Train Loss = 0.7177, Val Loss = 14.2799\n",
            "     Epoch 20: Train Loss = 0.7155, Val Loss = 14.7365\n",
            "     Epoch 25: Train Loss = 0.7153, Val Loss = 15.6315\n",
            "    ⏹️ Early stopping at epoch 25\n",
            " Run 3 finished with best val loss: 12.9727\n",
            "Original Error Percentage (Test Dataset): 4.0399%\n",
            "Corrected Error Percentage (Test Dataset): 4.2990%\n",
            "   Run 4/5 ...      Epoch 0: Train Loss = 0.7504, Val Loss = 10.5354\n"
          ]
        },
        {
          "output_type": "stream",
          "name": "stderr",
          "text": [
            "<ipython-input-438-ab28ec98d12e>:152: UserWarning: To copy construct from a tensor, it is recommended to use sourceTensor.clone().detach() or sourceTensor.clone().detach().requires_grad_(True), rather than torch.tensor(sourceTensor).\n",
            "  X_scaled_tensor = torch.tensor(combined_X, dtype=torch.float32).unsqueeze(1)\n"
          ]
        },
        {
          "output_type": "stream",
          "name": "stdout",
          "text": [
            "     Epoch 5: Train Loss = 0.7175, Val Loss = 12.0501\n",
            "     Epoch 10: Train Loss = 0.7162, Val Loss = 12.6697\n",
            "     Epoch 15: Train Loss = 0.7163, Val Loss = 13.3017\n",
            "     Epoch 20: Train Loss = 0.7149, Val Loss = 13.7769\n",
            "    ⏹️ Early stopping at epoch 20\n",
            " Run 4 finished with best val loss: 10.5354\n",
            "Original Error Percentage (Test Dataset): 4.0399%\n",
            "Corrected Error Percentage (Test Dataset): 3.8115%\n",
            "   Run 5/5 ...      Epoch 0: Train Loss = 0.7781, Val Loss = 8.5091\n"
          ]
        },
        {
          "output_type": "stream",
          "name": "stderr",
          "text": [
            "<ipython-input-438-ab28ec98d12e>:152: UserWarning: To copy construct from a tensor, it is recommended to use sourceTensor.clone().detach() or sourceTensor.clone().detach().requires_grad_(True), rather than torch.tensor(sourceTensor).\n",
            "  X_scaled_tensor = torch.tensor(combined_X, dtype=torch.float32).unsqueeze(1)\n"
          ]
        },
        {
          "output_type": "stream",
          "name": "stdout",
          "text": [
            "     Epoch 5: Train Loss = 0.7191, Val Loss = 11.6867\n",
            "     Epoch 10: Train Loss = 0.7173, Val Loss = 12.1891\n",
            "     Epoch 15: Train Loss = 0.7183, Val Loss = 11.5464\n",
            "     Epoch 20: Train Loss = 0.7167, Val Loss = 12.8777\n",
            "    ⏹️ Early stopping at epoch 20\n",
            " Run 5 finished with best val loss: 8.5091\n",
            "Original Error Percentage (Test Dataset): 4.0399%\n",
            "Corrected Error Percentage (Test Dataset): 3.5280%\n",
            " Finished configuration H=32, D=0.0, LR=0.001, B=32 → Avg Val Loss: 11.0445, Avg Accuracy: 3.7931%\n",
            "\n",
            " Running 10/81: H=32, D=0.1, LR=0.0001, B=8\n",
            "   Run 1/5 ... "
          ]
        },
        {
          "output_type": "stream",
          "name": "stderr",
          "text": [
            "<ipython-input-438-ab28ec98d12e>:152: UserWarning: To copy construct from a tensor, it is recommended to use sourceTensor.clone().detach() or sourceTensor.clone().detach().requires_grad_(True), rather than torch.tensor(sourceTensor).\n",
            "  X_scaled_tensor = torch.tensor(combined_X, dtype=torch.float32).unsqueeze(1)\n"
          ]
        },
        {
          "output_type": "stream",
          "name": "stdout",
          "text": [
            "     Epoch 0: Train Loss = 0.8126, Val Loss = 6.9067\n",
            "     Epoch 5: Train Loss = 0.7370, Val Loss = 12.3965\n",
            "     Epoch 10: Train Loss = 0.7317, Val Loss = 13.9616\n",
            "     Epoch 15: Train Loss = 0.7207, Val Loss = 13.7656\n",
            "     Epoch 20: Train Loss = 0.7145, Val Loss = 14.0158\n",
            "    ⏹️ Early stopping at epoch 20\n",
            " Run 1 finished with best val loss: 6.9067\n",
            "Original Error Percentage (Test Dataset): 4.0399%\n",
            "Corrected Error Percentage (Test Dataset): 3.8713%\n",
            "   Run 2/5 ... "
          ]
        },
        {
          "output_type": "stream",
          "name": "stderr",
          "text": [
            "<ipython-input-438-ab28ec98d12e>:152: UserWarning: To copy construct from a tensor, it is recommended to use sourceTensor.clone().detach() or sourceTensor.clone().detach().requires_grad_(True), rather than torch.tensor(sourceTensor).\n",
            "  X_scaled_tensor = torch.tensor(combined_X, dtype=torch.float32).unsqueeze(1)\n"
          ]
        },
        {
          "output_type": "stream",
          "name": "stdout",
          "text": [
            "     Epoch 0: Train Loss = 0.9434, Val Loss = 6.7166\n",
            "     Epoch 5: Train Loss = 0.7323, Val Loss = 12.9642\n",
            "     Epoch 10: Train Loss = 0.7458, Val Loss = 14.4247\n",
            "     Epoch 15: Train Loss = 0.7268, Val Loss = 14.6741\n",
            "     Epoch 20: Train Loss = 0.7255, Val Loss = 14.5357\n",
            "    ⏹️ Early stopping at epoch 20\n",
            " Run 2 finished with best val loss: 6.7166\n",
            "Original Error Percentage (Test Dataset): 4.0399%\n",
            "Corrected Error Percentage (Test Dataset): 3.9485%\n",
            "   Run 3/5 ... "
          ]
        },
        {
          "output_type": "stream",
          "name": "stderr",
          "text": [
            "<ipython-input-438-ab28ec98d12e>:152: UserWarning: To copy construct from a tensor, it is recommended to use sourceTensor.clone().detach() or sourceTensor.clone().detach().requires_grad_(True), rather than torch.tensor(sourceTensor).\n",
            "  X_scaled_tensor = torch.tensor(combined_X, dtype=torch.float32).unsqueeze(1)\n"
          ]
        },
        {
          "output_type": "stream",
          "name": "stdout",
          "text": [
            "     Epoch 0: Train Loss = 0.8709, Val Loss = 7.5498\n",
            "     Epoch 5: Train Loss = 0.7313, Val Loss = 13.6732\n",
            "     Epoch 10: Train Loss = 0.7255, Val Loss = 14.5334\n",
            "     Epoch 15: Train Loss = 0.7430, Val Loss = 14.1389\n",
            "     Epoch 20: Train Loss = 0.7322, Val Loss = 14.5069\n",
            "    ⏹️ Early stopping at epoch 20\n",
            " Run 3 finished with best val loss: 7.5498\n",
            "Original Error Percentage (Test Dataset): 4.0399%\n",
            "Corrected Error Percentage (Test Dataset): 4.0029%\n",
            "   Run 4/5 ... "
          ]
        },
        {
          "output_type": "stream",
          "name": "stderr",
          "text": [
            "<ipython-input-438-ab28ec98d12e>:152: UserWarning: To copy construct from a tensor, it is recommended to use sourceTensor.clone().detach() or sourceTensor.clone().detach().requires_grad_(True), rather than torch.tensor(sourceTensor).\n",
            "  X_scaled_tensor = torch.tensor(combined_X, dtype=torch.float32).unsqueeze(1)\n"
          ]
        },
        {
          "output_type": "stream",
          "name": "stdout",
          "text": [
            "     Epoch 0: Train Loss = 0.7958, Val Loss = 8.1169\n",
            "     Epoch 5: Train Loss = 0.7401, Val Loss = 12.9852\n",
            "     Epoch 10: Train Loss = 0.7301, Val Loss = 14.1290\n",
            "     Epoch 15: Train Loss = 0.7379, Val Loss = 14.0462\n",
            "     Epoch 20: Train Loss = 0.7281, Val Loss = 14.1499\n",
            "    ⏹️ Early stopping at epoch 20\n",
            " Run 4 finished with best val loss: 8.1169\n",
            "Original Error Percentage (Test Dataset): 4.0399%\n",
            "Corrected Error Percentage (Test Dataset): 3.8998%\n",
            "   Run 5/5 ... "
          ]
        },
        {
          "output_type": "stream",
          "name": "stderr",
          "text": [
            "<ipython-input-438-ab28ec98d12e>:152: UserWarning: To copy construct from a tensor, it is recommended to use sourceTensor.clone().detach() or sourceTensor.clone().detach().requires_grad_(True), rather than torch.tensor(sourceTensor).\n",
            "  X_scaled_tensor = torch.tensor(combined_X, dtype=torch.float32).unsqueeze(1)\n"
          ]
        },
        {
          "output_type": "stream",
          "name": "stdout",
          "text": [
            "     Epoch 0: Train Loss = 0.8345, Val Loss = 6.0148\n",
            "     Epoch 5: Train Loss = 0.7476, Val Loss = 10.5174\n",
            "     Epoch 10: Train Loss = 0.7319, Val Loss = 13.4749\n",
            "     Epoch 15: Train Loss = 0.7210, Val Loss = 13.9753\n",
            "     Epoch 20: Train Loss = 0.7263, Val Loss = 14.0623\n",
            "    ⏹️ Early stopping at epoch 20\n",
            " Run 5 finished with best val loss: 6.0148\n",
            "Original Error Percentage (Test Dataset): 4.0399%\n",
            "Corrected Error Percentage (Test Dataset): 3.8335%\n",
            " Finished configuration H=32, D=0.1, LR=0.0001, B=8 → Avg Val Loss: 7.0610, Avg Accuracy: 3.9112%\n",
            "\n",
            " Running 11/81: H=32, D=0.1, LR=0.0001, B=16\n",
            "   Run 1/5 ...      Epoch 0: Train Loss = 1.0033, Val Loss = 5.5025\n"
          ]
        },
        {
          "output_type": "stream",
          "name": "stderr",
          "text": [
            "<ipython-input-438-ab28ec98d12e>:152: UserWarning: To copy construct from a tensor, it is recommended to use sourceTensor.clone().detach() or sourceTensor.clone().detach().requires_grad_(True), rather than torch.tensor(sourceTensor).\n",
            "  X_scaled_tensor = torch.tensor(combined_X, dtype=torch.float32).unsqueeze(1)\n"
          ]
        },
        {
          "output_type": "stream",
          "name": "stdout",
          "text": [
            "     Epoch 5: Train Loss = 0.7584, Val Loss = 12.4275\n",
            "     Epoch 10: Train Loss = 0.7347, Val Loss = 15.4575\n",
            "     Epoch 15: Train Loss = 0.7314, Val Loss = 15.9898\n",
            "     Epoch 20: Train Loss = 0.7363, Val Loss = 15.7298\n",
            "    ⏹️ Early stopping at epoch 20\n",
            " Run 1 finished with best val loss: 5.5025\n",
            "Original Error Percentage (Test Dataset): 4.0399%\n",
            "Corrected Error Percentage (Test Dataset): 4.2372%\n",
            "   Run 2/5 ...      Epoch 0: Train Loss = 0.8125, Val Loss = 6.0619\n"
          ]
        },
        {
          "output_type": "stream",
          "name": "stderr",
          "text": [
            "<ipython-input-438-ab28ec98d12e>:152: UserWarning: To copy construct from a tensor, it is recommended to use sourceTensor.clone().detach() or sourceTensor.clone().detach().requires_grad_(True), rather than torch.tensor(sourceTensor).\n",
            "  X_scaled_tensor = torch.tensor(combined_X, dtype=torch.float32).unsqueeze(1)\n"
          ]
        },
        {
          "output_type": "stream",
          "name": "stdout",
          "text": [
            "     Epoch 5: Train Loss = 0.7544, Val Loss = 7.6940\n",
            "     Epoch 10: Train Loss = 0.7352, Val Loss = 9.2253\n",
            "     Epoch 15: Train Loss = 0.7237, Val Loss = 10.0205\n",
            "     Epoch 20: Train Loss = 0.7188, Val Loss = 10.4746\n",
            "    ⏹️ Early stopping at epoch 20\n",
            " Run 2 finished with best val loss: 6.0619\n",
            "Original Error Percentage (Test Dataset): 4.0399%\n",
            "Corrected Error Percentage (Test Dataset): 3.1483%\n",
            "   Run 3/5 ...      Epoch 0: Train Loss = 0.8023, Val Loss = 6.6597\n"
          ]
        },
        {
          "output_type": "stream",
          "name": "stderr",
          "text": [
            "<ipython-input-438-ab28ec98d12e>:152: UserWarning: To copy construct from a tensor, it is recommended to use sourceTensor.clone().detach() or sourceTensor.clone().detach().requires_grad_(True), rather than torch.tensor(sourceTensor).\n",
            "  X_scaled_tensor = torch.tensor(combined_X, dtype=torch.float32).unsqueeze(1)\n"
          ]
        },
        {
          "output_type": "stream",
          "name": "stdout",
          "text": [
            "     Epoch 5: Train Loss = 0.7295, Val Loss = 8.8083\n",
            "     Epoch 10: Train Loss = 0.7314, Val Loss = 10.3418\n",
            "     Epoch 15: Train Loss = 0.7231, Val Loss = 11.0581\n",
            "     Epoch 20: Train Loss = 0.7270, Val Loss = 11.3823\n",
            "    ⏹️ Early stopping at epoch 20\n",
            " Run 3 finished with best val loss: 6.6597\n",
            "Original Error Percentage (Test Dataset): 4.0399%\n",
            "Corrected Error Percentage (Test Dataset): 3.2766%\n",
            "   Run 4/5 ...      Epoch 0: Train Loss = 0.8312, Val Loss = 7.1743\n"
          ]
        },
        {
          "output_type": "stream",
          "name": "stderr",
          "text": [
            "<ipython-input-438-ab28ec98d12e>:152: UserWarning: To copy construct from a tensor, it is recommended to use sourceTensor.clone().detach() or sourceTensor.clone().detach().requires_grad_(True), rather than torch.tensor(sourceTensor).\n",
            "  X_scaled_tensor = torch.tensor(combined_X, dtype=torch.float32).unsqueeze(1)\n"
          ]
        },
        {
          "output_type": "stream",
          "name": "stdout",
          "text": [
            "     Epoch 5: Train Loss = 0.7517, Val Loss = 10.7970\n",
            "     Epoch 10: Train Loss = 0.7350, Val Loss = 12.8247\n",
            "     Epoch 15: Train Loss = 0.7406, Val Loss = 13.2652\n",
            "     Epoch 20: Train Loss = 0.7324, Val Loss = 13.2451\n",
            "    ⏹️ Early stopping at epoch 20\n",
            " Run 4 finished with best val loss: 7.1743\n",
            "Original Error Percentage (Test Dataset): 4.0399%\n",
            "Corrected Error Percentage (Test Dataset): 3.5762%\n",
            "   Run 5/5 ... "
          ]
        },
        {
          "output_type": "stream",
          "name": "stderr",
          "text": [
            "<ipython-input-438-ab28ec98d12e>:152: UserWarning: To copy construct from a tensor, it is recommended to use sourceTensor.clone().detach() or sourceTensor.clone().detach().requires_grad_(True), rather than torch.tensor(sourceTensor).\n",
            "  X_scaled_tensor = torch.tensor(combined_X, dtype=torch.float32).unsqueeze(1)\n"
          ]
        },
        {
          "output_type": "stream",
          "name": "stdout",
          "text": [
            "     Epoch 0: Train Loss = 0.7885, Val Loss = 8.2978\n",
            "     Epoch 5: Train Loss = 0.7376, Val Loss = 9.6235\n",
            "     Epoch 10: Train Loss = 0.7194, Val Loss = 10.6070\n",
            "     Epoch 15: Train Loss = 0.7253, Val Loss = 10.8296\n",
            "     Epoch 20: Train Loss = 0.7227, Val Loss = 10.9028\n",
            "    ⏹️ Early stopping at epoch 20\n",
            " Run 5 finished with best val loss: 8.2978\n",
            "Original Error Percentage (Test Dataset): 4.0399%\n",
            "Corrected Error Percentage (Test Dataset): 3.1881%\n",
            " Finished configuration H=32, D=0.1, LR=0.0001, B=16 → Avg Val Loss: 6.7392, Avg Accuracy: 3.4853%\n",
            "\n",
            " Running 12/81: H=32, D=0.1, LR=0.0001, B=32\n",
            "   Run 1/5 ...      Epoch 0: Train Loss = 0.8198, Val Loss = 8.3499\n"
          ]
        },
        {
          "output_type": "stream",
          "name": "stderr",
          "text": [
            "<ipython-input-438-ab28ec98d12e>:152: UserWarning: To copy construct from a tensor, it is recommended to use sourceTensor.clone().detach() or sourceTensor.clone().detach().requires_grad_(True), rather than torch.tensor(sourceTensor).\n",
            "  X_scaled_tensor = torch.tensor(combined_X, dtype=torch.float32).unsqueeze(1)\n"
          ]
        },
        {
          "output_type": "stream",
          "name": "stdout",
          "text": [
            "     Epoch 5: Train Loss = 0.7708, Val Loss = 11.7487\n",
            "     Epoch 10: Train Loss = 0.7486, Val Loss = 14.7042\n",
            "     Epoch 15: Train Loss = 0.7387, Val Loss = 15.8597\n",
            "     Epoch 20: Train Loss = 0.7463, Val Loss = 16.8596\n",
            "    ⏹️ Early stopping at epoch 20\n",
            " Run 1 finished with best val loss: 8.3499\n",
            "Original Error Percentage (Test Dataset): 4.0399%\n",
            "Corrected Error Percentage (Test Dataset): 4.6836%\n",
            "   Run 2/5 ...      Epoch 0: Train Loss = 0.8451, Val Loss = 6.2953\n"
          ]
        },
        {
          "output_type": "stream",
          "name": "stderr",
          "text": [
            "<ipython-input-438-ab28ec98d12e>:152: UserWarning: To copy construct from a tensor, it is recommended to use sourceTensor.clone().detach() or sourceTensor.clone().detach().requires_grad_(True), rather than torch.tensor(sourceTensor).\n",
            "  X_scaled_tensor = torch.tensor(combined_X, dtype=torch.float32).unsqueeze(1)\n"
          ]
        },
        {
          "output_type": "stream",
          "name": "stdout",
          "text": [
            "     Epoch 5: Train Loss = 0.7827, Val Loss = 8.2281\n",
            "     Epoch 10: Train Loss = 0.7481, Val Loss = 10.4840\n",
            "     Epoch 15: Train Loss = 0.7323, Val Loss = 11.7483\n",
            "     Epoch 20: Train Loss = 0.7257, Val Loss = 12.4382\n",
            "    ⏹️ Early stopping at epoch 20\n",
            " Run 2 finished with best val loss: 6.2953\n",
            "Original Error Percentage (Test Dataset): 4.0399%\n",
            "Corrected Error Percentage (Test Dataset): 3.4572%\n",
            "   Run 3/5 ...      Epoch 0: Train Loss = 1.0578, Val Loss = 5.7216\n"
          ]
        },
        {
          "output_type": "stream",
          "name": "stderr",
          "text": [
            "<ipython-input-438-ab28ec98d12e>:152: UserWarning: To copy construct from a tensor, it is recommended to use sourceTensor.clone().detach() or sourceTensor.clone().detach().requires_grad_(True), rather than torch.tensor(sourceTensor).\n",
            "  X_scaled_tensor = torch.tensor(combined_X, dtype=torch.float32).unsqueeze(1)\n"
          ]
        },
        {
          "output_type": "stream",
          "name": "stdout",
          "text": [
            "     Epoch 5: Train Loss = 0.8394, Val Loss = 8.2246\n",
            "     Epoch 10: Train Loss = 0.7648, Val Loss = 11.3266\n",
            "     Epoch 15: Train Loss = 0.7384, Val Loss = 13.9480\n",
            "     Epoch 20: Train Loss = 0.7184, Val Loss = 15.8777\n",
            "    ⏹️ Early stopping at epoch 20\n",
            " Run 3 finished with best val loss: 5.7216\n",
            "Original Error Percentage (Test Dataset): 4.0399%\n",
            "Corrected Error Percentage (Test Dataset): 4.3300%\n",
            "   Run 4/5 ...      Epoch 0: Train Loss = 0.7822, Val Loss = 7.8250\n"
          ]
        },
        {
          "output_type": "stream",
          "name": "stderr",
          "text": [
            "<ipython-input-438-ab28ec98d12e>:152: UserWarning: To copy construct from a tensor, it is recommended to use sourceTensor.clone().detach() or sourceTensor.clone().detach().requires_grad_(True), rather than torch.tensor(sourceTensor).\n",
            "  X_scaled_tensor = torch.tensor(combined_X, dtype=torch.float32).unsqueeze(1)\n"
          ]
        },
        {
          "output_type": "stream",
          "name": "stdout",
          "text": [
            "     Epoch 5: Train Loss = 0.7516, Val Loss = 9.1452\n",
            "     Epoch 10: Train Loss = 0.7382, Val Loss = 10.2572\n",
            "     Epoch 15: Train Loss = 0.7266, Val Loss = 11.0287\n",
            "     Epoch 20: Train Loss = 0.7312, Val Loss = 11.3529\n",
            "    ⏹️ Early stopping at epoch 20\n",
            " Run 4 finished with best val loss: 7.8250\n",
            "Original Error Percentage (Test Dataset): 4.0399%\n",
            "Corrected Error Percentage (Test Dataset): 3.2628%\n",
            "   Run 5/5 ...      Epoch 0: Train Loss = 0.8188, Val Loss = 7.3182\n"
          ]
        },
        {
          "output_type": "stream",
          "name": "stderr",
          "text": [
            "<ipython-input-438-ab28ec98d12e>:152: UserWarning: To copy construct from a tensor, it is recommended to use sourceTensor.clone().detach() or sourceTensor.clone().detach().requires_grad_(True), rather than torch.tensor(sourceTensor).\n",
            "  X_scaled_tensor = torch.tensor(combined_X, dtype=torch.float32).unsqueeze(1)\n"
          ]
        },
        {
          "output_type": "stream",
          "name": "stdout",
          "text": [
            "     Epoch 5: Train Loss = 0.7633, Val Loss = 8.5738\n",
            "     Epoch 10: Train Loss = 0.7430, Val Loss = 9.6733\n",
            "     Epoch 15: Train Loss = 0.7348, Val Loss = 10.6658\n",
            "     Epoch 20: Train Loss = 0.7233, Val Loss = 11.4127\n",
            "    ⏹️ Early stopping at epoch 20\n",
            " Run 5 finished with best val loss: 7.3182\n",
            "Original Error Percentage (Test Dataset): 4.0399%\n",
            "Corrected Error Percentage (Test Dataset): 3.3318%\n",
            " Finished configuration H=32, D=0.1, LR=0.0001, B=32 → Avg Val Loss: 7.1020, Avg Accuracy: 3.8131%\n",
            "\n",
            " Running 13/81: H=32, D=0.1, LR=0.0005, B=8\n",
            "   Run 1/5 ... "
          ]
        },
        {
          "output_type": "stream",
          "name": "stderr",
          "text": [
            "<ipython-input-438-ab28ec98d12e>:152: UserWarning: To copy construct from a tensor, it is recommended to use sourceTensor.clone().detach() or sourceTensor.clone().detach().requires_grad_(True), rather than torch.tensor(sourceTensor).\n",
            "  X_scaled_tensor = torch.tensor(combined_X, dtype=torch.float32).unsqueeze(1)\n"
          ]
        },
        {
          "output_type": "stream",
          "name": "stdout",
          "text": [
            "     Epoch 0: Train Loss = 0.8255, Val Loss = 12.4004\n",
            "     Epoch 5: Train Loss = 0.7266, Val Loss = 15.1155\n",
            "     Epoch 10: Train Loss = 0.7309, Val Loss = 14.3307\n",
            "     Epoch 15: Train Loss = 0.7283, Val Loss = 14.4917\n",
            "     Epoch 20: Train Loss = 0.7117, Val Loss = 15.6368\n",
            "    ⏹️ Early stopping at epoch 20\n",
            " Run 1 finished with best val loss: 12.4004\n",
            "Original Error Percentage (Test Dataset): 4.0399%\n",
            "Corrected Error Percentage (Test Dataset): 4.2357%\n",
            "   Run 2/5 ... "
          ]
        },
        {
          "output_type": "stream",
          "name": "stderr",
          "text": [
            "<ipython-input-438-ab28ec98d12e>:152: UserWarning: To copy construct from a tensor, it is recommended to use sourceTensor.clone().detach() or sourceTensor.clone().detach().requires_grad_(True), rather than torch.tensor(sourceTensor).\n",
            "  X_scaled_tensor = torch.tensor(combined_X, dtype=torch.float32).unsqueeze(1)\n"
          ]
        },
        {
          "output_type": "stream",
          "name": "stdout",
          "text": [
            "     Epoch 0: Train Loss = 0.8415, Val Loss = 11.9798\n",
            "     Epoch 5: Train Loss = 0.7210, Val Loss = 16.7567\n",
            "     Epoch 10: Train Loss = 0.7213, Val Loss = 14.7747\n",
            "     Epoch 15: Train Loss = 0.7218, Val Loss = 13.8511\n",
            "     Epoch 20: Train Loss = 0.7154, Val Loss = 15.6253\n",
            "    ⏹️ Early stopping at epoch 20\n",
            " Run 2 finished with best val loss: 11.9798\n",
            "Original Error Percentage (Test Dataset): 4.0399%\n",
            "Corrected Error Percentage (Test Dataset): 4.3702%\n",
            "   Run 3/5 ... "
          ]
        },
        {
          "output_type": "stream",
          "name": "stderr",
          "text": [
            "<ipython-input-438-ab28ec98d12e>:152: UserWarning: To copy construct from a tensor, it is recommended to use sourceTensor.clone().detach() or sourceTensor.clone().detach().requires_grad_(True), rather than torch.tensor(sourceTensor).\n",
            "  X_scaled_tensor = torch.tensor(combined_X, dtype=torch.float32).unsqueeze(1)\n"
          ]
        },
        {
          "output_type": "stream",
          "name": "stdout",
          "text": [
            "     Epoch 0: Train Loss = 0.7798, Val Loss = 8.8342\n",
            "     Epoch 5: Train Loss = 0.7352, Val Loss = 10.6231\n",
            "     Epoch 10: Train Loss = 0.7333, Val Loss = 10.7736\n",
            "     Epoch 15: Train Loss = 0.7227, Val Loss = 11.3840\n",
            "     Epoch 20: Train Loss = 0.7178, Val Loss = 12.3221\n",
            "    ⏹️ Early stopping at epoch 20\n",
            " Run 3 finished with best val loss: 8.8342\n",
            "Original Error Percentage (Test Dataset): 4.0399%\n",
            "Corrected Error Percentage (Test Dataset): 3.4308%\n",
            "   Run 4/5 ... "
          ]
        },
        {
          "output_type": "stream",
          "name": "stderr",
          "text": [
            "<ipython-input-438-ab28ec98d12e>:152: UserWarning: To copy construct from a tensor, it is recommended to use sourceTensor.clone().detach() or sourceTensor.clone().detach().requires_grad_(True), rather than torch.tensor(sourceTensor).\n",
            "  X_scaled_tensor = torch.tensor(combined_X, dtype=torch.float32).unsqueeze(1)\n"
          ]
        },
        {
          "output_type": "stream",
          "name": "stdout",
          "text": [
            "     Epoch 0: Train Loss = 0.7753, Val Loss = 10.8440\n",
            "     Epoch 5: Train Loss = 0.7236, Val Loss = 13.5513\n",
            "     Epoch 10: Train Loss = 0.7286, Val Loss = 13.9616\n",
            "     Epoch 15: Train Loss = 0.7201, Val Loss = 13.8420\n",
            "     Epoch 20: Train Loss = 0.7250, Val Loss = 14.3510\n",
            "    ⏹️ Early stopping at epoch 20\n",
            " Run 4 finished with best val loss: 10.8440\n",
            "Original Error Percentage (Test Dataset): 4.0399%\n",
            "Corrected Error Percentage (Test Dataset): 3.9364%\n",
            "   Run 5/5 ... "
          ]
        },
        {
          "output_type": "stream",
          "name": "stderr",
          "text": [
            "<ipython-input-438-ab28ec98d12e>:152: UserWarning: To copy construct from a tensor, it is recommended to use sourceTensor.clone().detach() or sourceTensor.clone().detach().requires_grad_(True), rather than torch.tensor(sourceTensor).\n",
            "  X_scaled_tensor = torch.tensor(combined_X, dtype=torch.float32).unsqueeze(1)\n"
          ]
        },
        {
          "output_type": "stream",
          "name": "stdout",
          "text": [
            "     Epoch 0: Train Loss = 0.8206, Val Loss = 11.7874\n",
            "     Epoch 5: Train Loss = 0.7191, Val Loss = 13.3541\n",
            "     Epoch 10: Train Loss = 0.7259, Val Loss = 12.7392\n",
            "     Epoch 15: Train Loss = 0.7231, Val Loss = 12.3287\n",
            "     Epoch 20: Train Loss = 0.7338, Val Loss = 11.6647\n",
            "     Epoch 25: Train Loss = 0.7208, Val Loss = 13.2656\n",
            "     Epoch 30: Train Loss = 0.7201, Val Loss = 12.4928\n",
            "     Epoch 35: Train Loss = 0.7235, Val Loss = 12.1210\n",
            "     Epoch 40: Train Loss = 0.7256, Val Loss = 12.1163\n",
            "    ⏹️ Early stopping at epoch 40\n",
            " Run 5 finished with best val loss: 11.6647\n",
            "Original Error Percentage (Test Dataset): 4.0399%\n",
            "Corrected Error Percentage (Test Dataset): 3.4227%\n",
            " Finished configuration H=32, D=0.1, LR=0.0005, B=8 → Avg Val Loss: 11.1446, Avg Accuracy: 3.8792%\n",
            "\n",
            " Running 14/81: H=32, D=0.1, LR=0.0005, B=16\n",
            "   Run 1/5 ...      Epoch 0: Train Loss = 0.8231, Val Loss = 7.4199\n"
          ]
        },
        {
          "output_type": "stream",
          "name": "stderr",
          "text": [
            "<ipython-input-438-ab28ec98d12e>:152: UserWarning: To copy construct from a tensor, it is recommended to use sourceTensor.clone().detach() or sourceTensor.clone().detach().requires_grad_(True), rather than torch.tensor(sourceTensor).\n",
            "  X_scaled_tensor = torch.tensor(combined_X, dtype=torch.float32).unsqueeze(1)\n"
          ]
        },
        {
          "output_type": "stream",
          "name": "stdout",
          "text": [
            "     Epoch 5: Train Loss = 0.7268, Val Loss = 12.7975\n",
            "     Epoch 10: Train Loss = 0.7214, Val Loss = 13.1665\n",
            "     Epoch 15: Train Loss = 0.7212, Val Loss = 13.0594\n",
            "     Epoch 20: Train Loss = 0.7172, Val Loss = 13.6307\n",
            "    ⏹️ Early stopping at epoch 20\n",
            " Run 1 finished with best val loss: 7.4199\n",
            "Original Error Percentage (Test Dataset): 4.0399%\n",
            "Corrected Error Percentage (Test Dataset): 3.7504%\n",
            "   Run 2/5 ...      Epoch 0: Train Loss = 0.7799, Val Loss = 13.0535\n"
          ]
        },
        {
          "output_type": "stream",
          "name": "stderr",
          "text": [
            "<ipython-input-438-ab28ec98d12e>:152: UserWarning: To copy construct from a tensor, it is recommended to use sourceTensor.clone().detach() or sourceTensor.clone().detach().requires_grad_(True), rather than torch.tensor(sourceTensor).\n",
            "  X_scaled_tensor = torch.tensor(combined_X, dtype=torch.float32).unsqueeze(1)\n"
          ]
        },
        {
          "output_type": "stream",
          "name": "stdout",
          "text": [
            "     Epoch 5: Train Loss = 0.7437, Val Loss = 13.6653\n",
            "     Epoch 10: Train Loss = 0.7306, Val Loss = 13.2869\n",
            "     Epoch 15: Train Loss = 0.7284, Val Loss = 14.6365\n",
            "     Epoch 20: Train Loss = 0.7266, Val Loss = 13.3079\n",
            "    ⏹️ Early stopping at epoch 20\n",
            " Run 2 finished with best val loss: 13.0535\n",
            "Original Error Percentage (Test Dataset): 4.0399%\n",
            "Corrected Error Percentage (Test Dataset): 3.7624%\n",
            "   Run 3/5 ... "
          ]
        },
        {
          "output_type": "stream",
          "name": "stderr",
          "text": [
            "<ipython-input-438-ab28ec98d12e>:152: UserWarning: To copy construct from a tensor, it is recommended to use sourceTensor.clone().detach() or sourceTensor.clone().detach().requires_grad_(True), rather than torch.tensor(sourceTensor).\n",
            "  X_scaled_tensor = torch.tensor(combined_X, dtype=torch.float32).unsqueeze(1)\n"
          ]
        },
        {
          "output_type": "stream",
          "name": "stdout",
          "text": [
            "     Epoch 0: Train Loss = 1.0176, Val Loss = 7.9939\n",
            "     Epoch 5: Train Loss = 0.7352, Val Loss = 14.1996\n",
            "     Epoch 10: Train Loss = 0.7275, Val Loss = 13.4898\n",
            "     Epoch 15: Train Loss = 0.7158, Val Loss = 13.4696\n",
            "     Epoch 20: Train Loss = 0.7164, Val Loss = 14.7600\n",
            "    ⏹️ Early stopping at epoch 20\n",
            " Run 3 finished with best val loss: 7.9939\n",
            "Original Error Percentage (Test Dataset): 4.0399%\n",
            "Corrected Error Percentage (Test Dataset): 4.0554%\n",
            "   Run 4/5 ...      Epoch 0: Train Loss = 0.8214, Val Loss = 5.8187\n"
          ]
        },
        {
          "output_type": "stream",
          "name": "stderr",
          "text": [
            "<ipython-input-438-ab28ec98d12e>:152: UserWarning: To copy construct from a tensor, it is recommended to use sourceTensor.clone().detach() or sourceTensor.clone().detach().requires_grad_(True), rather than torch.tensor(sourceTensor).\n",
            "  X_scaled_tensor = torch.tensor(combined_X, dtype=torch.float32).unsqueeze(1)\n"
          ]
        },
        {
          "output_type": "stream",
          "name": "stdout",
          "text": [
            "     Epoch 5: Train Loss = 0.7355, Val Loss = 10.4940\n",
            "     Epoch 10: Train Loss = 0.7213, Val Loss = 11.7240\n",
            "     Epoch 15: Train Loss = 0.7218, Val Loss = 12.6590\n",
            "     Epoch 20: Train Loss = 0.7275, Val Loss = 12.4632\n",
            "    ⏹️ Early stopping at epoch 20\n",
            " Run 4 finished with best val loss: 5.8187\n",
            "Original Error Percentage (Test Dataset): 4.0399%\n",
            "Corrected Error Percentage (Test Dataset): 3.4913%\n",
            "   Run 5/5 ...      Epoch 0: Train Loss = 0.7697, Val Loss = 9.9379\n"
          ]
        },
        {
          "output_type": "stream",
          "name": "stderr",
          "text": [
            "<ipython-input-438-ab28ec98d12e>:152: UserWarning: To copy construct from a tensor, it is recommended to use sourceTensor.clone().detach() or sourceTensor.clone().detach().requires_grad_(True), rather than torch.tensor(sourceTensor).\n",
            "  X_scaled_tensor = torch.tensor(combined_X, dtype=torch.float32).unsqueeze(1)\n"
          ]
        },
        {
          "output_type": "stream",
          "name": "stdout",
          "text": [
            "     Epoch 5: Train Loss = 0.7228, Val Loss = 12.6616\n",
            "     Epoch 10: Train Loss = 0.7262, Val Loss = 12.1623\n",
            "     Epoch 15: Train Loss = 0.7187, Val Loss = 12.5149\n",
            "     Epoch 20: Train Loss = 0.7283, Val Loss = 12.2570\n",
            "    ⏹️ Early stopping at epoch 20\n",
            " Run 5 finished with best val loss: 9.9379\n",
            "Original Error Percentage (Test Dataset): 4.0399%\n",
            "Corrected Error Percentage (Test Dataset): 3.4763%\n",
            " Finished configuration H=32, D=0.1, LR=0.0005, B=16 → Avg Val Loss: 8.8448, Avg Accuracy: 3.7071%\n",
            "\n",
            " Running 15/81: H=32, D=0.1, LR=0.0005, B=32\n",
            "   Run 1/5 ...      Epoch 0: Train Loss = 0.8201, Val Loss = 7.3539\n"
          ]
        },
        {
          "output_type": "stream",
          "name": "stderr",
          "text": [
            "<ipython-input-438-ab28ec98d12e>:152: UserWarning: To copy construct from a tensor, it is recommended to use sourceTensor.clone().detach() or sourceTensor.clone().detach().requires_grad_(True), rather than torch.tensor(sourceTensor).\n",
            "  X_scaled_tensor = torch.tensor(combined_X, dtype=torch.float32).unsqueeze(1)\n"
          ]
        },
        {
          "output_type": "stream",
          "name": "stdout",
          "text": [
            "     Epoch 5: Train Loss = 0.7273, Val Loss = 13.3755\n",
            "     Epoch 10: Train Loss = 0.7222, Val Loss = 13.6835\n",
            "     Epoch 15: Train Loss = 0.7253, Val Loss = 14.4041\n",
            "     Epoch 20: Train Loss = 0.7181, Val Loss = 13.8752\n",
            "    ⏹️ Early stopping at epoch 20\n",
            " Run 1 finished with best val loss: 7.3539\n",
            "Original Error Percentage (Test Dataset): 4.0399%\n",
            "Corrected Error Percentage (Test Dataset): 3.8860%\n",
            "   Run 2/5 ...      Epoch 0: Train Loss = 0.8540, Val Loss = 5.6690\n"
          ]
        },
        {
          "output_type": "stream",
          "name": "stderr",
          "text": [
            "<ipython-input-438-ab28ec98d12e>:152: UserWarning: To copy construct from a tensor, it is recommended to use sourceTensor.clone().detach() or sourceTensor.clone().detach().requires_grad_(True), rather than torch.tensor(sourceTensor).\n",
            "  X_scaled_tensor = torch.tensor(combined_X, dtype=torch.float32).unsqueeze(1)\n"
          ]
        },
        {
          "output_type": "stream",
          "name": "stdout",
          "text": [
            "     Epoch 5: Train Loss = 0.7257, Val Loss = 10.2776\n",
            "     Epoch 10: Train Loss = 0.7216, Val Loss = 11.5375\n",
            "     Epoch 15: Train Loss = 0.7212, Val Loss = 11.4535\n",
            "     Epoch 20: Train Loss = 0.7165, Val Loss = 11.9624\n",
            "    ⏹️ Early stopping at epoch 20\n",
            " Run 2 finished with best val loss: 5.6690\n",
            "Original Error Percentage (Test Dataset): 4.0399%\n",
            "Corrected Error Percentage (Test Dataset): 3.3570%\n",
            "   Run 3/5 ...      Epoch 0: Train Loss = 0.8005, Val Loss = 10.1541\n"
          ]
        },
        {
          "output_type": "stream",
          "name": "stderr",
          "text": [
            "<ipython-input-438-ab28ec98d12e>:152: UserWarning: To copy construct from a tensor, it is recommended to use sourceTensor.clone().detach() or sourceTensor.clone().detach().requires_grad_(True), rather than torch.tensor(sourceTensor).\n",
            "  X_scaled_tensor = torch.tensor(combined_X, dtype=torch.float32).unsqueeze(1)\n"
          ]
        },
        {
          "output_type": "stream",
          "name": "stdout",
          "text": [
            "     Epoch 5: Train Loss = 0.7286, Val Loss = 14.4437\n",
            "     Epoch 10: Train Loss = 0.7194, Val Loss = 13.8256\n",
            "     Epoch 15: Train Loss = 0.7235, Val Loss = 14.4169\n",
            "     Epoch 20: Train Loss = 0.7257, Val Loss = 14.0684\n",
            "    ⏹️ Early stopping at epoch 20\n",
            " Run 3 finished with best val loss: 10.1541\n",
            "Original Error Percentage (Test Dataset): 4.0399%\n",
            "Corrected Error Percentage (Test Dataset): 3.9266%\n",
            "   Run 4/5 ...      Epoch 0: Train Loss = 0.8455, Val Loss = 7.1760\n"
          ]
        },
        {
          "output_type": "stream",
          "name": "stderr",
          "text": [
            "<ipython-input-438-ab28ec98d12e>:152: UserWarning: To copy construct from a tensor, it is recommended to use sourceTensor.clone().detach() or sourceTensor.clone().detach().requires_grad_(True), rather than torch.tensor(sourceTensor).\n",
            "  X_scaled_tensor = torch.tensor(combined_X, dtype=torch.float32).unsqueeze(1)\n"
          ]
        },
        {
          "output_type": "stream",
          "name": "stdout",
          "text": [
            "     Epoch 5: Train Loss = 0.7417, Val Loss = 13.3739\n",
            "     Epoch 10: Train Loss = 0.7286, Val Loss = 12.7931\n",
            "     Epoch 15: Train Loss = 0.7281, Val Loss = 12.4447\n",
            "     Epoch 20: Train Loss = 0.7269, Val Loss = 12.7826\n",
            "    ⏹️ Early stopping at epoch 20\n",
            " Run 4 finished with best val loss: 7.1760\n",
            "Original Error Percentage (Test Dataset): 4.0399%\n",
            "Corrected Error Percentage (Test Dataset): 3.4776%\n",
            "   Run 5/5 ...      Epoch 0: Train Loss = 0.8562, Val Loss = 6.7031\n"
          ]
        },
        {
          "output_type": "stream",
          "name": "stderr",
          "text": [
            "<ipython-input-438-ab28ec98d12e>:152: UserWarning: To copy construct from a tensor, it is recommended to use sourceTensor.clone().detach() or sourceTensor.clone().detach().requires_grad_(True), rather than torch.tensor(sourceTensor).\n",
            "  X_scaled_tensor = torch.tensor(combined_X, dtype=torch.float32).unsqueeze(1)\n"
          ]
        },
        {
          "output_type": "stream",
          "name": "stdout",
          "text": [
            "     Epoch 5: Train Loss = 0.7320, Val Loss = 12.2417\n",
            "     Epoch 10: Train Loss = 0.7123, Val Loss = 12.1550\n",
            "     Epoch 15: Train Loss = 0.7245, Val Loss = 12.2886\n",
            "     Epoch 20: Train Loss = 0.7238, Val Loss = 12.6504\n",
            "    ⏹️ Early stopping at epoch 20\n",
            " Run 5 finished with best val loss: 6.7031\n",
            "Original Error Percentage (Test Dataset): 4.0399%\n",
            "Corrected Error Percentage (Test Dataset): 3.4882%\n",
            " Finished configuration H=32, D=0.1, LR=0.0005, B=32 → Avg Val Loss: 7.4112, Avg Accuracy: 3.6271%\n",
            "\n",
            " Running 16/81: H=32, D=0.1, LR=0.001, B=8\n",
            "   Run 1/5 ... "
          ]
        },
        {
          "output_type": "stream",
          "name": "stderr",
          "text": [
            "<ipython-input-438-ab28ec98d12e>:152: UserWarning: To copy construct from a tensor, it is recommended to use sourceTensor.clone().detach() or sourceTensor.clone().detach().requires_grad_(True), rather than torch.tensor(sourceTensor).\n",
            "  X_scaled_tensor = torch.tensor(combined_X, dtype=torch.float32).unsqueeze(1)\n"
          ]
        },
        {
          "output_type": "stream",
          "name": "stdout",
          "text": [
            "     Epoch 0: Train Loss = 0.7765, Val Loss = 11.0177\n",
            "     Epoch 5: Train Loss = 0.7277, Val Loss = 12.8203\n",
            "     Epoch 10: Train Loss = 0.7184, Val Loss = 12.8304\n",
            "     Epoch 15: Train Loss = 0.7243, Val Loss = 11.6919\n",
            "     Epoch 20: Train Loss = 0.7236, Val Loss = 14.5243\n",
            "    ⏹️ Early stopping at epoch 20\n",
            " Run 1 finished with best val loss: 11.0177\n",
            "Original Error Percentage (Test Dataset): 4.0399%\n",
            "Corrected Error Percentage (Test Dataset): 3.9408%\n",
            "   Run 2/5 ... "
          ]
        },
        {
          "output_type": "stream",
          "name": "stderr",
          "text": [
            "<ipython-input-438-ab28ec98d12e>:152: UserWarning: To copy construct from a tensor, it is recommended to use sourceTensor.clone().detach() or sourceTensor.clone().detach().requires_grad_(True), rather than torch.tensor(sourceTensor).\n",
            "  X_scaled_tensor = torch.tensor(combined_X, dtype=torch.float32).unsqueeze(1)\n"
          ]
        },
        {
          "output_type": "stream",
          "name": "stdout",
          "text": [
            "     Epoch 0: Train Loss = 0.7442, Val Loss = 12.3183\n",
            "     Epoch 5: Train Loss = 0.7263, Val Loss = 12.8773\n",
            "     Epoch 10: Train Loss = 0.7262, Val Loss = 14.5104\n",
            "     Epoch 15: Train Loss = 0.7249, Val Loss = 13.8108\n",
            "     Epoch 20: Train Loss = 0.7145, Val Loss = 14.0056\n",
            "    ⏹️ Early stopping at epoch 21\n",
            " Run 2 finished with best val loss: 11.9425\n",
            "Original Error Percentage (Test Dataset): 4.0399%\n",
            "Corrected Error Percentage (Test Dataset): 4.3319%\n",
            "   Run 3/5 ... "
          ]
        },
        {
          "output_type": "stream",
          "name": "stderr",
          "text": [
            "<ipython-input-438-ab28ec98d12e>:152: UserWarning: To copy construct from a tensor, it is recommended to use sourceTensor.clone().detach() or sourceTensor.clone().detach().requires_grad_(True), rather than torch.tensor(sourceTensor).\n",
            "  X_scaled_tensor = torch.tensor(combined_X, dtype=torch.float32).unsqueeze(1)\n"
          ]
        },
        {
          "output_type": "stream",
          "name": "stdout",
          "text": [
            "     Epoch 0: Train Loss = 0.8238, Val Loss = 15.0023\n",
            "     Epoch 5: Train Loss = 0.7309, Val Loss = 13.2546\n",
            "     Epoch 10: Train Loss = 0.7129, Val Loss = 13.2308\n",
            "     Epoch 15: Train Loss = 0.7237, Val Loss = 14.0731\n",
            "     Epoch 20: Train Loss = 0.7223, Val Loss = 14.5424\n",
            "     Epoch 25: Train Loss = 0.7254, Val Loss = 12.6321\n",
            "    ⏹️ Early stopping at epoch 27\n",
            " Run 3 finished with best val loss: 11.9854\n",
            "Original Error Percentage (Test Dataset): 4.0399%\n",
            "Corrected Error Percentage (Test Dataset): 3.8455%\n",
            "   Run 4/5 ... "
          ]
        },
        {
          "output_type": "stream",
          "name": "stderr",
          "text": [
            "<ipython-input-438-ab28ec98d12e>:152: UserWarning: To copy construct from a tensor, it is recommended to use sourceTensor.clone().detach() or sourceTensor.clone().detach().requires_grad_(True), rather than torch.tensor(sourceTensor).\n",
            "  X_scaled_tensor = torch.tensor(combined_X, dtype=torch.float32).unsqueeze(1)\n"
          ]
        },
        {
          "output_type": "stream",
          "name": "stdout",
          "text": [
            "     Epoch 0: Train Loss = 0.7540, Val Loss = 10.7073\n",
            "     Epoch 5: Train Loss = 0.7255, Val Loss = 12.3931\n",
            "     Epoch 10: Train Loss = 0.7316, Val Loss = 10.6062\n",
            "     Epoch 15: Train Loss = 0.7130, Val Loss = 12.4337\n",
            "     Epoch 20: Train Loss = 0.7268, Val Loss = 10.9782\n",
            "    ⏹️ Early stopping at epoch 21\n",
            " Run 4 finished with best val loss: 9.8543\n",
            "Original Error Percentage (Test Dataset): 4.0399%\n",
            "Corrected Error Percentage (Test Dataset): 3.2842%\n",
            "   Run 5/5 ... "
          ]
        },
        {
          "output_type": "stream",
          "name": "stderr",
          "text": [
            "<ipython-input-438-ab28ec98d12e>:152: UserWarning: To copy construct from a tensor, it is recommended to use sourceTensor.clone().detach() or sourceTensor.clone().detach().requires_grad_(True), rather than torch.tensor(sourceTensor).\n",
            "  X_scaled_tensor = torch.tensor(combined_X, dtype=torch.float32).unsqueeze(1)\n"
          ]
        },
        {
          "output_type": "stream",
          "name": "stdout",
          "text": [
            "     Epoch 0: Train Loss = 0.7708, Val Loss = 15.3395\n",
            "     Epoch 5: Train Loss = 0.7415, Val Loss = 13.3743\n",
            "     Epoch 10: Train Loss = 0.7237, Val Loss = 14.2607\n",
            "     Epoch 15: Train Loss = 0.7259, Val Loss = 16.1920\n",
            "     Epoch 20: Train Loss = 0.7265, Val Loss = 13.4739\n",
            "    ⏹️ Early stopping at epoch 24\n",
            " Run 5 finished with best val loss: 12.1277\n",
            "Original Error Percentage (Test Dataset): 4.0399%\n",
            "Corrected Error Percentage (Test Dataset): 4.3559%\n",
            " Finished configuration H=32, D=0.1, LR=0.001, B=8 → Avg Val Loss: 11.3855, Avg Accuracy: 3.9517%\n",
            "\n",
            " Running 17/81: H=32, D=0.1, LR=0.001, B=16\n",
            "   Run 1/5 ...      Epoch 0: Train Loss = 0.7571, Val Loss = 12.3737\n"
          ]
        },
        {
          "output_type": "stream",
          "name": "stderr",
          "text": [
            "<ipython-input-438-ab28ec98d12e>:152: UserWarning: To copy construct from a tensor, it is recommended to use sourceTensor.clone().detach() or sourceTensor.clone().detach().requires_grad_(True), rather than torch.tensor(sourceTensor).\n",
            "  X_scaled_tensor = torch.tensor(combined_X, dtype=torch.float32).unsqueeze(1)\n"
          ]
        },
        {
          "output_type": "stream",
          "name": "stdout",
          "text": [
            "     Epoch 5: Train Loss = 0.7213, Val Loss = 12.0622\n",
            "     Epoch 10: Train Loss = 0.7293, Val Loss = 12.3427\n",
            "     Epoch 15: Train Loss = 0.7165, Val Loss = 13.6264\n",
            "     Epoch 20: Train Loss = 0.7214, Val Loss = 14.2490\n",
            "    ⏹️ Early stopping at epoch 21\n",
            " Run 1 finished with best val loss: 11.5490\n",
            "Original Error Percentage (Test Dataset): 4.0399%\n",
            "Corrected Error Percentage (Test Dataset): 3.6848%\n",
            "   Run 2/5 ... "
          ]
        },
        {
          "output_type": "stream",
          "name": "stderr",
          "text": [
            "<ipython-input-438-ab28ec98d12e>:152: UserWarning: To copy construct from a tensor, it is recommended to use sourceTensor.clone().detach() or sourceTensor.clone().detach().requires_grad_(True), rather than torch.tensor(sourceTensor).\n",
            "  X_scaled_tensor = torch.tensor(combined_X, dtype=torch.float32).unsqueeze(1)\n"
          ]
        },
        {
          "output_type": "stream",
          "name": "stdout",
          "text": [
            "     Epoch 0: Train Loss = 0.7822, Val Loss = 17.6858\n",
            "     Epoch 5: Train Loss = 0.7291, Val Loss = 14.9116\n",
            "     Epoch 10: Train Loss = 0.7270, Val Loss = 14.7368\n",
            "     Epoch 15: Train Loss = 0.7216, Val Loss = 17.4424\n",
            "     Epoch 20: Train Loss = 0.7256, Val Loss = 17.5642\n",
            "     Epoch 25: Train Loss = 0.7169, Val Loss = 16.0041\n",
            "     Epoch 30: Train Loss = 0.7284, Val Loss = 16.2393\n",
            "    ⏹️ Early stopping at epoch 33\n",
            " Run 2 finished with best val loss: 14.4298\n",
            "Original Error Percentage (Test Dataset): 4.0399%\n",
            "Corrected Error Percentage (Test Dataset): 5.0370%\n",
            "   Run 3/5 ...      Epoch 0: Train Loss = 0.7672, Val Loss = 9.7778\n"
          ]
        },
        {
          "output_type": "stream",
          "name": "stderr",
          "text": [
            "<ipython-input-438-ab28ec98d12e>:152: UserWarning: To copy construct from a tensor, it is recommended to use sourceTensor.clone().detach() or sourceTensor.clone().detach().requires_grad_(True), rather than torch.tensor(sourceTensor).\n",
            "  X_scaled_tensor = torch.tensor(combined_X, dtype=torch.float32).unsqueeze(1)\n"
          ]
        },
        {
          "output_type": "stream",
          "name": "stdout",
          "text": [
            "     Epoch 5: Train Loss = 0.7185, Val Loss = 12.1043\n",
            "     Epoch 10: Train Loss = 0.7187, Val Loss = 12.9563\n",
            "     Epoch 15: Train Loss = 0.7286, Val Loss = 13.9111\n",
            "     Epoch 20: Train Loss = 0.7175, Val Loss = 13.2979\n",
            "    ⏹️ Early stopping at epoch 20\n",
            " Run 3 finished with best val loss: 9.7778\n",
            "Original Error Percentage (Test Dataset): 4.0399%\n",
            "Corrected Error Percentage (Test Dataset): 3.7187%\n",
            "   Run 4/5 ...      Epoch 0: Train Loss = 0.7466, Val Loss = 11.5898\n"
          ]
        },
        {
          "output_type": "stream",
          "name": "stderr",
          "text": [
            "<ipython-input-438-ab28ec98d12e>:152: UserWarning: To copy construct from a tensor, it is recommended to use sourceTensor.clone().detach() or sourceTensor.clone().detach().requires_grad_(True), rather than torch.tensor(sourceTensor).\n",
            "  X_scaled_tensor = torch.tensor(combined_X, dtype=torch.float32).unsqueeze(1)\n"
          ]
        },
        {
          "output_type": "stream",
          "name": "stdout",
          "text": [
            "     Epoch 5: Train Loss = 0.7281, Val Loss = 12.1556\n",
            "     Epoch 10: Train Loss = 0.7187, Val Loss = 12.8199\n",
            "     Epoch 15: Train Loss = 0.7206, Val Loss = 12.3095\n",
            "     Epoch 20: Train Loss = 0.7184, Val Loss = 11.9911\n",
            "    ⏹️ Early stopping at epoch 22\n",
            " Run 4 finished with best val loss: 11.2037\n",
            "Original Error Percentage (Test Dataset): 4.0399%\n",
            "Corrected Error Percentage (Test Dataset): 3.6793%\n",
            "   Run 5/5 ... "
          ]
        },
        {
          "output_type": "stream",
          "name": "stderr",
          "text": [
            "<ipython-input-438-ab28ec98d12e>:152: UserWarning: To copy construct from a tensor, it is recommended to use sourceTensor.clone().detach() or sourceTensor.clone().detach().requires_grad_(True), rather than torch.tensor(sourceTensor).\n",
            "  X_scaled_tensor = torch.tensor(combined_X, dtype=torch.float32).unsqueeze(1)\n"
          ]
        },
        {
          "output_type": "stream",
          "name": "stdout",
          "text": [
            "     Epoch 0: Train Loss = 0.7830, Val Loss = 17.4477\n",
            "     Epoch 5: Train Loss = 0.7230, Val Loss = 15.3287\n",
            "     Epoch 10: Train Loss = 0.7334, Val Loss = 13.5988\n",
            "     Epoch 15: Train Loss = 0.7360, Val Loss = 14.2437\n",
            "     Epoch 20: Train Loss = 0.7249, Val Loss = 15.6709\n",
            "     Epoch 25: Train Loss = 0.7227, Val Loss = 16.1815\n",
            "     Epoch 30: Train Loss = 0.7277, Val Loss = 14.7464\n",
            "    ⏹️ Early stopping at epoch 30\n",
            " Run 5 finished with best val loss: 13.5988\n",
            "Original Error Percentage (Test Dataset): 4.0399%\n",
            "Corrected Error Percentage (Test Dataset): 4.1167%\n",
            " Finished configuration H=32, D=0.1, LR=0.001, B=16 → Avg Val Loss: 12.1118, Avg Accuracy: 4.0473%\n",
            "\n",
            " Running 18/81: H=32, D=0.1, LR=0.001, B=32\n",
            "   Run 1/5 ...      Epoch 0: Train Loss = 0.8019, Val Loss = 8.8999\n"
          ]
        },
        {
          "output_type": "stream",
          "name": "stderr",
          "text": [
            "<ipython-input-438-ab28ec98d12e>:152: UserWarning: To copy construct from a tensor, it is recommended to use sourceTensor.clone().detach() or sourceTensor.clone().detach().requires_grad_(True), rather than torch.tensor(sourceTensor).\n",
            "  X_scaled_tensor = torch.tensor(combined_X, dtype=torch.float32).unsqueeze(1)\n"
          ]
        },
        {
          "output_type": "stream",
          "name": "stdout",
          "text": [
            "     Epoch 5: Train Loss = 0.7258, Val Loss = 12.9160\n",
            "     Epoch 10: Train Loss = 0.7168, Val Loss = 13.7229\n",
            "     Epoch 15: Train Loss = 0.7173, Val Loss = 14.4555\n",
            "     Epoch 20: Train Loss = 0.7196, Val Loss = 14.9051\n",
            "    ⏹️ Early stopping at epoch 20\n",
            " Run 1 finished with best val loss: 8.8999\n",
            "Original Error Percentage (Test Dataset): 4.0399%\n",
            "Corrected Error Percentage (Test Dataset): 4.1159%\n",
            "   Run 2/5 ...      Epoch 0: Train Loss = 0.7815, Val Loss = 7.8047\n"
          ]
        },
        {
          "output_type": "stream",
          "name": "stderr",
          "text": [
            "<ipython-input-438-ab28ec98d12e>:152: UserWarning: To copy construct from a tensor, it is recommended to use sourceTensor.clone().detach() or sourceTensor.clone().detach().requires_grad_(True), rather than torch.tensor(sourceTensor).\n",
            "  X_scaled_tensor = torch.tensor(combined_X, dtype=torch.float32).unsqueeze(1)\n"
          ]
        },
        {
          "output_type": "stream",
          "name": "stdout",
          "text": [
            "     Epoch 5: Train Loss = 0.7174, Val Loss = 10.8032\n",
            "     Epoch 10: Train Loss = 0.7223, Val Loss = 11.3122\n",
            "     Epoch 15: Train Loss = 0.7244, Val Loss = 11.3766\n",
            "     Epoch 20: Train Loss = 0.7251, Val Loss = 11.4065\n",
            "    ⏹️ Early stopping at epoch 20\n",
            " Run 2 finished with best val loss: 7.8047\n",
            "Original Error Percentage (Test Dataset): 4.0399%\n",
            "Corrected Error Percentage (Test Dataset): 3.2762%\n",
            "   Run 3/5 ...      Epoch 0: Train Loss = 0.7842, Val Loss = 8.5946\n"
          ]
        },
        {
          "output_type": "stream",
          "name": "stderr",
          "text": [
            "<ipython-input-438-ab28ec98d12e>:152: UserWarning: To copy construct from a tensor, it is recommended to use sourceTensor.clone().detach() or sourceTensor.clone().detach().requires_grad_(True), rather than torch.tensor(sourceTensor).\n",
            "  X_scaled_tensor = torch.tensor(combined_X, dtype=torch.float32).unsqueeze(1)\n"
          ]
        },
        {
          "output_type": "stream",
          "name": "stdout",
          "text": [
            "     Epoch 5: Train Loss = 0.7331, Val Loss = 13.0924\n",
            "     Epoch 10: Train Loss = 0.7263, Val Loss = 13.6852\n",
            "     Epoch 15: Train Loss = 0.7176, Val Loss = 15.1706\n",
            "     Epoch 20: Train Loss = 0.7266, Val Loss = 14.7388\n",
            "    ⏹️ Early stopping at epoch 20\n",
            " Run 3 finished with best val loss: 8.5946\n",
            "Original Error Percentage (Test Dataset): 4.0399%\n",
            "Corrected Error Percentage (Test Dataset): 4.1681%\n",
            "   Run 4/5 ...      Epoch 0: Train Loss = 0.8013, Val Loss = 10.6891\n"
          ]
        },
        {
          "output_type": "stream",
          "name": "stderr",
          "text": [
            "<ipython-input-438-ab28ec98d12e>:152: UserWarning: To copy construct from a tensor, it is recommended to use sourceTensor.clone().detach() or sourceTensor.clone().detach().requires_grad_(True), rather than torch.tensor(sourceTensor).\n",
            "  X_scaled_tensor = torch.tensor(combined_X, dtype=torch.float32).unsqueeze(1)\n"
          ]
        },
        {
          "output_type": "stream",
          "name": "stdout",
          "text": [
            "     Epoch 5: Train Loss = 0.7223, Val Loss = 15.2979\n",
            "     Epoch 10: Train Loss = 0.7258, Val Loss = 14.6752\n",
            "     Epoch 15: Train Loss = 0.7281, Val Loss = 13.8859\n",
            "     Epoch 20: Train Loss = 0.7203, Val Loss = 15.2988\n",
            "    ⏹️ Early stopping at epoch 20\n",
            " Run 4 finished with best val loss: 10.6891\n",
            "Original Error Percentage (Test Dataset): 4.0399%\n",
            "Corrected Error Percentage (Test Dataset): 4.2395%\n",
            "   Run 5/5 ...      Epoch 0: Train Loss = 0.8547, Val Loss = 13.3121\n"
          ]
        },
        {
          "output_type": "stream",
          "name": "stderr",
          "text": [
            "<ipython-input-438-ab28ec98d12e>:152: UserWarning: To copy construct from a tensor, it is recommended to use sourceTensor.clone().detach() or sourceTensor.clone().detach().requires_grad_(True), rather than torch.tensor(sourceTensor).\n",
            "  X_scaled_tensor = torch.tensor(combined_X, dtype=torch.float32).unsqueeze(1)\n"
          ]
        },
        {
          "output_type": "stream",
          "name": "stdout",
          "text": [
            "     Epoch 5: Train Loss = 0.7319, Val Loss = 15.4311\n",
            "     Epoch 10: Train Loss = 0.7215, Val Loss = 13.6280\n",
            "     Epoch 15: Train Loss = 0.7223, Val Loss = 13.9023\n",
            "     Epoch 20: Train Loss = 0.7303, Val Loss = 13.7571\n",
            "     Epoch 25: Train Loss = 0.7241, Val Loss = 14.6000\n",
            "     Epoch 30: Train Loss = 0.7201, Val Loss = 14.9298\n",
            "     Epoch 35: Train Loss = 0.7219, Val Loss = 15.1086\n",
            "    ⏹️ Early stopping at epoch 39\n",
            " Run 5 finished with best val loss: 13.3045\n",
            "Original Error Percentage (Test Dataset): 4.0399%\n",
            "Corrected Error Percentage (Test Dataset): 4.2449%\n",
            " Finished configuration H=32, D=0.1, LR=0.001, B=32 → Avg Val Loss: 9.8585, Avg Accuracy: 4.0089%\n",
            "\n",
            " Running 19/81: H=32, D=0.2, LR=0.0001, B=8\n",
            "   Run 1/5 ... "
          ]
        },
        {
          "output_type": "stream",
          "name": "stderr",
          "text": [
            "<ipython-input-438-ab28ec98d12e>:152: UserWarning: To copy construct from a tensor, it is recommended to use sourceTensor.clone().detach() or sourceTensor.clone().detach().requires_grad_(True), rather than torch.tensor(sourceTensor).\n",
            "  X_scaled_tensor = torch.tensor(combined_X, dtype=torch.float32).unsqueeze(1)\n"
          ]
        },
        {
          "output_type": "stream",
          "name": "stdout",
          "text": [
            "     Epoch 0: Train Loss = 1.1041, Val Loss = 5.3912\n",
            "     Epoch 5: Train Loss = 0.7834, Val Loss = 9.1959\n",
            "     Epoch 10: Train Loss = 0.7428, Val Loss = 12.2653\n",
            "     Epoch 15: Train Loss = 0.7504, Val Loss = 13.0934\n",
            "     Epoch 20: Train Loss = 0.7356, Val Loss = 13.4651\n",
            "    ⏹️ Early stopping at epoch 20\n",
            " Run 1 finished with best val loss: 5.3912\n",
            "Original Error Percentage (Test Dataset): 4.0399%\n",
            "Corrected Error Percentage (Test Dataset): 3.7633%\n",
            "   Run 2/5 ... "
          ]
        },
        {
          "output_type": "stream",
          "name": "stderr",
          "text": [
            "<ipython-input-438-ab28ec98d12e>:152: UserWarning: To copy construct from a tensor, it is recommended to use sourceTensor.clone().detach() or sourceTensor.clone().detach().requires_grad_(True), rather than torch.tensor(sourceTensor).\n",
            "  X_scaled_tensor = torch.tensor(combined_X, dtype=torch.float32).unsqueeze(1)\n"
          ]
        },
        {
          "output_type": "stream",
          "name": "stdout",
          "text": [
            "     Epoch 0: Train Loss = 1.0859, Val Loss = 5.8535\n",
            "     Epoch 5: Train Loss = 0.7608, Val Loss = 10.0961\n",
            "     Epoch 10: Train Loss = 0.7410, Val Loss = 11.8203\n",
            "     Epoch 15: Train Loss = 0.7267, Val Loss = 12.7489\n",
            "     Epoch 20: Train Loss = 0.7312, Val Loss = 13.1570\n",
            "    ⏹️ Early stopping at epoch 20\n",
            " Run 2 finished with best val loss: 5.8535\n",
            "Original Error Percentage (Test Dataset): 4.0399%\n",
            "Corrected Error Percentage (Test Dataset): 3.6001%\n",
            "   Run 3/5 ... "
          ]
        },
        {
          "output_type": "stream",
          "name": "stderr",
          "text": [
            "<ipython-input-438-ab28ec98d12e>:152: UserWarning: To copy construct from a tensor, it is recommended to use sourceTensor.clone().detach() or sourceTensor.clone().detach().requires_grad_(True), rather than torch.tensor(sourceTensor).\n",
            "  X_scaled_tensor = torch.tensor(combined_X, dtype=torch.float32).unsqueeze(1)\n"
          ]
        },
        {
          "output_type": "stream",
          "name": "stdout",
          "text": [
            "     Epoch 0: Train Loss = 0.8695, Val Loss = 9.8324\n",
            "     Epoch 5: Train Loss = 0.7607, Val Loss = 17.1381\n",
            "     Epoch 10: Train Loss = 0.7535, Val Loss = 18.2200\n",
            "     Epoch 15: Train Loss = 0.7351, Val Loss = 17.4478\n",
            "     Epoch 20: Train Loss = 0.7441, Val Loss = 16.0320\n",
            "    ⏹️ Early stopping at epoch 20\n",
            " Run 3 finished with best val loss: 9.8324\n",
            "Original Error Percentage (Test Dataset): 4.0399%\n",
            "Corrected Error Percentage (Test Dataset): 4.3201%\n",
            "   Run 4/5 ... "
          ]
        },
        {
          "output_type": "stream",
          "name": "stderr",
          "text": [
            "<ipython-input-438-ab28ec98d12e>:152: UserWarning: To copy construct from a tensor, it is recommended to use sourceTensor.clone().detach() or sourceTensor.clone().detach().requires_grad_(True), rather than torch.tensor(sourceTensor).\n",
            "  X_scaled_tensor = torch.tensor(combined_X, dtype=torch.float32).unsqueeze(1)\n"
          ]
        },
        {
          "output_type": "stream",
          "name": "stdout",
          "text": [
            "     Epoch 0: Train Loss = 0.8300, Val Loss = 8.0555\n",
            "     Epoch 5: Train Loss = 0.7562, Val Loss = 12.8153\n",
            "     Epoch 10: Train Loss = 0.7325, Val Loss = 15.4514\n",
            "     Epoch 15: Train Loss = 0.7348, Val Loss = 15.7476\n",
            "     Epoch 20: Train Loss = 0.7272, Val Loss = 15.4817\n",
            "    ⏹️ Early stopping at epoch 20\n",
            " Run 4 finished with best val loss: 8.0555\n",
            "Original Error Percentage (Test Dataset): 4.0399%\n",
            "Corrected Error Percentage (Test Dataset): 4.2132%\n",
            "   Run 5/5 ... "
          ]
        },
        {
          "output_type": "stream",
          "name": "stderr",
          "text": [
            "<ipython-input-438-ab28ec98d12e>:152: UserWarning: To copy construct from a tensor, it is recommended to use sourceTensor.clone().detach() or sourceTensor.clone().detach().requires_grad_(True), rather than torch.tensor(sourceTensor).\n",
            "  X_scaled_tensor = torch.tensor(combined_X, dtype=torch.float32).unsqueeze(1)\n"
          ]
        },
        {
          "output_type": "stream",
          "name": "stdout",
          "text": [
            "     Epoch 0: Train Loss = 0.8677, Val Loss = 6.3110\n",
            "     Epoch 5: Train Loss = 0.7504, Val Loss = 10.4579\n",
            "     Epoch 10: Train Loss = 0.7523, Val Loss = 11.9761\n",
            "     Epoch 15: Train Loss = 0.7445, Val Loss = 12.3736\n",
            "     Epoch 20: Train Loss = 0.7295, Val Loss = 12.6143\n",
            "    ⏹️ Early stopping at epoch 20\n",
            " Run 5 finished with best val loss: 6.3110\n",
            "Original Error Percentage (Test Dataset): 4.0399%\n",
            "Corrected Error Percentage (Test Dataset): 3.5033%\n",
            " Finished configuration H=32, D=0.2, LR=0.0001, B=8 → Avg Val Loss: 7.0887, Avg Accuracy: 3.8800%\n",
            "\n",
            " Running 20/81: H=32, D=0.2, LR=0.0001, B=16\n",
            "   Run 1/5 ...      Epoch 0: Train Loss = 0.9094, Val Loss = 5.4279\n"
          ]
        },
        {
          "output_type": "stream",
          "name": "stderr",
          "text": [
            "<ipython-input-438-ab28ec98d12e>:152: UserWarning: To copy construct from a tensor, it is recommended to use sourceTensor.clone().detach() or sourceTensor.clone().detach().requires_grad_(True), rather than torch.tensor(sourceTensor).\n",
            "  X_scaled_tensor = torch.tensor(combined_X, dtype=torch.float32).unsqueeze(1)\n"
          ]
        },
        {
          "output_type": "stream",
          "name": "stdout",
          "text": [
            "     Epoch 5: Train Loss = 0.7763, Val Loss = 7.1923\n",
            "     Epoch 10: Train Loss = 0.7457, Val Loss = 8.9271\n",
            "     Epoch 15: Train Loss = 0.7353, Val Loss = 10.3347\n",
            "     Epoch 20: Train Loss = 0.7259, Val Loss = 11.3391\n",
            "    ⏹️ Early stopping at epoch 20\n",
            " Run 1 finished with best val loss: 5.4279\n",
            "Original Error Percentage (Test Dataset): 4.0399%\n",
            "Corrected Error Percentage (Test Dataset): 3.2701%\n",
            "   Run 2/5 ...      Epoch 0: Train Loss = 0.8628, Val Loss = 6.6788\n"
          ]
        },
        {
          "output_type": "stream",
          "name": "stderr",
          "text": [
            "<ipython-input-438-ab28ec98d12e>:152: UserWarning: To copy construct from a tensor, it is recommended to use sourceTensor.clone().detach() or sourceTensor.clone().detach().requires_grad_(True), rather than torch.tensor(sourceTensor).\n",
            "  X_scaled_tensor = torch.tensor(combined_X, dtype=torch.float32).unsqueeze(1)\n"
          ]
        },
        {
          "output_type": "stream",
          "name": "stdout",
          "text": [
            "     Epoch 5: Train Loss = 0.7852, Val Loss = 9.0995\n",
            "     Epoch 10: Train Loss = 0.7428, Val Loss = 11.6869\n",
            "     Epoch 15: Train Loss = 0.7458, Val Loss = 12.8575\n",
            "     Epoch 20: Train Loss = 0.7295, Val Loss = 13.4116\n",
            "    ⏹️ Early stopping at epoch 20\n",
            " Run 2 finished with best val loss: 6.6788\n",
            "Original Error Percentage (Test Dataset): 4.0399%\n",
            "Corrected Error Percentage (Test Dataset): 3.7014%\n",
            "   Run 3/5 ...      Epoch 0: Train Loss = 0.8149, Val Loss = 5.9042\n"
          ]
        },
        {
          "output_type": "stream",
          "name": "stderr",
          "text": [
            "<ipython-input-438-ab28ec98d12e>:152: UserWarning: To copy construct from a tensor, it is recommended to use sourceTensor.clone().detach() or sourceTensor.clone().detach().requires_grad_(True), rather than torch.tensor(sourceTensor).\n",
            "  X_scaled_tensor = torch.tensor(combined_X, dtype=torch.float32).unsqueeze(1)\n"
          ]
        },
        {
          "output_type": "stream",
          "name": "stdout",
          "text": [
            "     Epoch 5: Train Loss = 0.7691, Val Loss = 7.6256\n",
            "     Epoch 10: Train Loss = 0.7434, Val Loss = 9.0018\n",
            "     Epoch 15: Train Loss = 0.7409, Val Loss = 9.9419\n",
            "     Epoch 20: Train Loss = 0.7192, Val Loss = 10.4965\n",
            "    ⏹️ Early stopping at epoch 20\n",
            " Run 3 finished with best val loss: 5.9042\n",
            "Original Error Percentage (Test Dataset): 4.0399%\n",
            "Corrected Error Percentage (Test Dataset): 3.1648%\n",
            "   Run 4/5 ...      Epoch 0: Train Loss = 0.9328, Val Loss = 6.0073\n"
          ]
        },
        {
          "output_type": "stream",
          "name": "stderr",
          "text": [
            "<ipython-input-438-ab28ec98d12e>:152: UserWarning: To copy construct from a tensor, it is recommended to use sourceTensor.clone().detach() or sourceTensor.clone().detach().requires_grad_(True), rather than torch.tensor(sourceTensor).\n",
            "  X_scaled_tensor = torch.tensor(combined_X, dtype=torch.float32).unsqueeze(1)\n"
          ]
        },
        {
          "output_type": "stream",
          "name": "stdout",
          "text": [
            "     Epoch 5: Train Loss = 0.8109, Val Loss = 7.1134\n",
            "     Epoch 10: Train Loss = 0.7438, Val Loss = 8.9390\n",
            "     Epoch 15: Train Loss = 0.7565, Val Loss = 10.4597\n",
            "     Epoch 20: Train Loss = 0.7443, Val Loss = 11.1965\n",
            "    ⏹️ Early stopping at epoch 20\n",
            " Run 4 finished with best val loss: 6.0073\n",
            "Original Error Percentage (Test Dataset): 4.0399%\n",
            "Corrected Error Percentage (Test Dataset): 3.2691%\n",
            "   Run 5/5 ...      Epoch 0: Train Loss = 0.7700, Val Loss = 12.1777\n"
          ]
        },
        {
          "output_type": "stream",
          "name": "stderr",
          "text": [
            "<ipython-input-438-ab28ec98d12e>:152: UserWarning: To copy construct from a tensor, it is recommended to use sourceTensor.clone().detach() or sourceTensor.clone().detach().requires_grad_(True), rather than torch.tensor(sourceTensor).\n",
            "  X_scaled_tensor = torch.tensor(combined_X, dtype=torch.float32).unsqueeze(1)\n"
          ]
        },
        {
          "output_type": "stream",
          "name": "stdout",
          "text": [
            "     Epoch 5: Train Loss = 0.7357, Val Loss = 14.5896\n",
            "     Epoch 10: Train Loss = 0.7369, Val Loss = 15.4861\n",
            "     Epoch 15: Train Loss = 0.7483, Val Loss = 15.7595\n",
            "     Epoch 20: Train Loss = 0.7354, Val Loss = 15.8870\n",
            "    ⏹️ Early stopping at epoch 20\n",
            " Run 5 finished with best val loss: 12.1777\n",
            "Original Error Percentage (Test Dataset): 4.0399%\n",
            "Corrected Error Percentage (Test Dataset): 4.3422%\n",
            " Finished configuration H=32, D=0.2, LR=0.0001, B=16 → Avg Val Loss: 7.2392, Avg Accuracy: 3.5495%\n",
            "\n",
            " Running 21/81: H=32, D=0.2, LR=0.0001, B=32\n",
            "   Run 1/5 ...      Epoch 0: Train Loss = 0.9651, Val Loss = 6.3511\n"
          ]
        },
        {
          "output_type": "stream",
          "name": "stderr",
          "text": [
            "<ipython-input-438-ab28ec98d12e>:152: UserWarning: To copy construct from a tensor, it is recommended to use sourceTensor.clone().detach() or sourceTensor.clone().detach().requires_grad_(True), rather than torch.tensor(sourceTensor).\n",
            "  X_scaled_tensor = torch.tensor(combined_X, dtype=torch.float32).unsqueeze(1)\n"
          ]
        },
        {
          "output_type": "stream",
          "name": "stdout",
          "text": [
            "     Epoch 5: Train Loss = 0.8116, Val Loss = 8.4890\n",
            "     Epoch 10: Train Loss = 0.7619, Val Loss = 10.4702\n",
            "     Epoch 15: Train Loss = 0.7445, Val Loss = 11.7664\n",
            "     Epoch 20: Train Loss = 0.7584, Val Loss = 12.4496\n",
            "    ⏹️ Early stopping at epoch 20\n",
            " Run 1 finished with best val loss: 6.3511\n",
            "Original Error Percentage (Test Dataset): 4.0399%\n",
            "Corrected Error Percentage (Test Dataset): 3.5064%\n",
            "   Run 2/5 ...      Epoch 0: Train Loss = 0.8678, Val Loss = 6.6494\n"
          ]
        },
        {
          "output_type": "stream",
          "name": "stderr",
          "text": [
            "<ipython-input-438-ab28ec98d12e>:152: UserWarning: To copy construct from a tensor, it is recommended to use sourceTensor.clone().detach() or sourceTensor.clone().detach().requires_grad_(True), rather than torch.tensor(sourceTensor).\n",
            "  X_scaled_tensor = torch.tensor(combined_X, dtype=torch.float32).unsqueeze(1)\n"
          ]
        },
        {
          "output_type": "stream",
          "name": "stdout",
          "text": [
            "     Epoch 5: Train Loss = 0.7735, Val Loss = 9.1391\n",
            "     Epoch 10: Train Loss = 0.7472, Val Loss = 11.4899\n",
            "     Epoch 15: Train Loss = 0.7296, Val Loss = 13.0513\n",
            "     Epoch 20: Train Loss = 0.7369, Val Loss = 13.5296\n",
            "    ⏹️ Early stopping at epoch 20\n",
            " Run 2 finished with best val loss: 6.6494\n",
            "Original Error Percentage (Test Dataset): 4.0399%\n",
            "Corrected Error Percentage (Test Dataset): 3.7056%\n",
            "   Run 3/5 ...      Epoch 0: Train Loss = 0.8143, Val Loss = 6.3260\n"
          ]
        },
        {
          "output_type": "stream",
          "name": "stderr",
          "text": [
            "<ipython-input-438-ab28ec98d12e>:152: UserWarning: To copy construct from a tensor, it is recommended to use sourceTensor.clone().detach() or sourceTensor.clone().detach().requires_grad_(True), rather than torch.tensor(sourceTensor).\n",
            "  X_scaled_tensor = torch.tensor(combined_X, dtype=torch.float32).unsqueeze(1)\n"
          ]
        },
        {
          "output_type": "stream",
          "name": "stdout",
          "text": [
            "     Epoch 5: Train Loss = 0.7728, Val Loss = 7.6510\n",
            "     Epoch 10: Train Loss = 0.7475, Val Loss = 9.4456\n",
            "     Epoch 15: Train Loss = 0.7322, Val Loss = 11.0466\n",
            "     Epoch 20: Train Loss = 0.7319, Val Loss = 11.8562\n",
            "    ⏹️ Early stopping at epoch 20\n",
            " Run 3 finished with best val loss: 6.3260\n",
            "Original Error Percentage (Test Dataset): 4.0399%\n",
            "Corrected Error Percentage (Test Dataset): 3.3291%\n",
            "   Run 4/5 ...      Epoch 0: Train Loss = 1.0386, Val Loss = 5.8480\n"
          ]
        },
        {
          "output_type": "stream",
          "name": "stderr",
          "text": [
            "<ipython-input-438-ab28ec98d12e>:152: UserWarning: To copy construct from a tensor, it is recommended to use sourceTensor.clone().detach() or sourceTensor.clone().detach().requires_grad_(True), rather than torch.tensor(sourceTensor).\n",
            "  X_scaled_tensor = torch.tensor(combined_X, dtype=torch.float32).unsqueeze(1)\n"
          ]
        },
        {
          "output_type": "stream",
          "name": "stdout",
          "text": [
            "     Epoch 5: Train Loss = 0.8778, Val Loss = 8.0333\n",
            "     Epoch 10: Train Loss = 0.7881, Val Loss = 10.0422\n",
            "     Epoch 15: Train Loss = 0.7552, Val Loss = 11.7740\n",
            "     Epoch 20: Train Loss = 0.7572, Val Loss = 13.0244\n",
            "    ⏹️ Early stopping at epoch 20\n",
            " Run 4 finished with best val loss: 5.8480\n",
            "Original Error Percentage (Test Dataset): 4.0399%\n",
            "Corrected Error Percentage (Test Dataset): 3.6365%\n",
            "   Run 5/5 ...      Epoch 0: Train Loss = 0.8128, Val Loss = 6.8315\n"
          ]
        },
        {
          "output_type": "stream",
          "name": "stderr",
          "text": [
            "<ipython-input-438-ab28ec98d12e>:152: UserWarning: To copy construct from a tensor, it is recommended to use sourceTensor.clone().detach() or sourceTensor.clone().detach().requires_grad_(True), rather than torch.tensor(sourceTensor).\n",
            "  X_scaled_tensor = torch.tensor(combined_X, dtype=torch.float32).unsqueeze(1)\n"
          ]
        },
        {
          "output_type": "stream",
          "name": "stdout",
          "text": [
            "     Epoch 5: Train Loss = 0.7689, Val Loss = 8.1923\n",
            "     Epoch 10: Train Loss = 0.7290, Val Loss = 9.2278\n",
            "     Epoch 15: Train Loss = 0.7363, Val Loss = 10.0676\n",
            "     Epoch 20: Train Loss = 0.7434, Val Loss = 10.1961\n",
            "    ⏹️ Early stopping at epoch 20\n",
            " Run 5 finished with best val loss: 6.8315\n",
            "Original Error Percentage (Test Dataset): 4.0399%\n",
            "Corrected Error Percentage (Test Dataset): 3.1406%\n",
            " Finished configuration H=32, D=0.2, LR=0.0001, B=32 → Avg Val Loss: 6.4012, Avg Accuracy: 3.4636%\n",
            "\n",
            " Running 22/81: H=32, D=0.2, LR=0.0005, B=8\n",
            "   Run 1/5 ... "
          ]
        },
        {
          "output_type": "stream",
          "name": "stderr",
          "text": [
            "<ipython-input-438-ab28ec98d12e>:152: UserWarning: To copy construct from a tensor, it is recommended to use sourceTensor.clone().detach() or sourceTensor.clone().detach().requires_grad_(True), rather than torch.tensor(sourceTensor).\n",
            "  X_scaled_tensor = torch.tensor(combined_X, dtype=torch.float32).unsqueeze(1)\n"
          ]
        },
        {
          "output_type": "stream",
          "name": "stdout",
          "text": [
            "     Epoch 0: Train Loss = 0.8084, Val Loss = 8.7315\n",
            "     Epoch 5: Train Loss = 0.7340, Val Loss = 12.3970\n",
            "     Epoch 10: Train Loss = 0.7320, Val Loss = 10.8202\n",
            "     Epoch 15: Train Loss = 0.7406, Val Loss = 12.0696\n",
            "     Epoch 20: Train Loss = 0.7370, Val Loss = 12.7298\n",
            "    ⏹️ Early stopping at epoch 20\n",
            " Run 1 finished with best val loss: 8.7315\n",
            "Original Error Percentage (Test Dataset): 4.0399%\n",
            "Corrected Error Percentage (Test Dataset): 3.5734%\n",
            "   Run 2/5 ... "
          ]
        },
        {
          "output_type": "stream",
          "name": "stderr",
          "text": [
            "<ipython-input-438-ab28ec98d12e>:152: UserWarning: To copy construct from a tensor, it is recommended to use sourceTensor.clone().detach() or sourceTensor.clone().detach().requires_grad_(True), rather than torch.tensor(sourceTensor).\n",
            "  X_scaled_tensor = torch.tensor(combined_X, dtype=torch.float32).unsqueeze(1)\n"
          ]
        },
        {
          "output_type": "stream",
          "name": "stdout",
          "text": [
            "     Epoch 0: Train Loss = 0.7716, Val Loss = 14.1303\n",
            "     Epoch 5: Train Loss = 0.7315, Val Loss = 13.2239\n",
            "     Epoch 10: Train Loss = 0.7291, Val Loss = 12.7077\n",
            "     Epoch 15: Train Loss = 0.7295, Val Loss = 11.6071\n",
            "     Epoch 20: Train Loss = 0.7370, Val Loss = 10.9640\n",
            "     Epoch 25: Train Loss = 0.7194, Val Loss = 12.5610\n",
            "     Epoch 30: Train Loss = 0.7247, Val Loss = 13.2943\n",
            "     Epoch 35: Train Loss = 0.7211, Val Loss = 12.2712\n",
            "     Epoch 40: Train Loss = 0.7301, Val Loss = 11.8221\n",
            "    ⏹️ Early stopping at epoch 40\n",
            " Run 2 finished with best val loss: 10.9640\n",
            "Original Error Percentage (Test Dataset): 4.0399%\n",
            "Corrected Error Percentage (Test Dataset): 3.4050%\n",
            "   Run 3/5 ... "
          ]
        },
        {
          "output_type": "stream",
          "name": "stderr",
          "text": [
            "<ipython-input-438-ab28ec98d12e>:152: UserWarning: To copy construct from a tensor, it is recommended to use sourceTensor.clone().detach() or sourceTensor.clone().detach().requires_grad_(True), rather than torch.tensor(sourceTensor).\n",
            "  X_scaled_tensor = torch.tensor(combined_X, dtype=torch.float32).unsqueeze(1)\n"
          ]
        },
        {
          "output_type": "stream",
          "name": "stdout",
          "text": [
            "     Epoch 0: Train Loss = 0.7902, Val Loss = 10.7967\n",
            "     Epoch 5: Train Loss = 0.7252, Val Loss = 15.2201\n",
            "     Epoch 10: Train Loss = 0.7257, Val Loss = 16.5669\n",
            "     Epoch 15: Train Loss = 0.7319, Val Loss = 14.6570\n",
            "     Epoch 20: Train Loss = 0.7217, Val Loss = 15.2979\n",
            "    ⏹️ Early stopping at epoch 20\n",
            " Run 3 finished with best val loss: 10.7967\n",
            "Original Error Percentage (Test Dataset): 4.0399%\n",
            "Corrected Error Percentage (Test Dataset): 4.3888%\n",
            "   Run 4/5 ... "
          ]
        },
        {
          "output_type": "stream",
          "name": "stderr",
          "text": [
            "<ipython-input-438-ab28ec98d12e>:152: UserWarning: To copy construct from a tensor, it is recommended to use sourceTensor.clone().detach() or sourceTensor.clone().detach().requires_grad_(True), rather than torch.tensor(sourceTensor).\n",
            "  X_scaled_tensor = torch.tensor(combined_X, dtype=torch.float32).unsqueeze(1)\n"
          ]
        },
        {
          "output_type": "stream",
          "name": "stdout",
          "text": [
            "     Epoch 0: Train Loss = 0.7857, Val Loss = 9.6402\n",
            "     Epoch 5: Train Loss = 0.7437, Val Loss = 10.8089\n",
            "     Epoch 10: Train Loss = 0.7304, Val Loss = 11.8796\n",
            "     Epoch 15: Train Loss = 0.7410, Val Loss = 13.1116\n",
            "     Epoch 20: Train Loss = 0.7342, Val Loss = 13.4113\n",
            "    ⏹️ Early stopping at epoch 20\n",
            " Run 4 finished with best val loss: 9.6402\n",
            "Original Error Percentage (Test Dataset): 4.0399%\n",
            "Corrected Error Percentage (Test Dataset): 3.7326%\n",
            "   Run 5/5 ... "
          ]
        },
        {
          "output_type": "stream",
          "name": "stderr",
          "text": [
            "<ipython-input-438-ab28ec98d12e>:152: UserWarning: To copy construct from a tensor, it is recommended to use sourceTensor.clone().detach() or sourceTensor.clone().detach().requires_grad_(True), rather than torch.tensor(sourceTensor).\n",
            "  X_scaled_tensor = torch.tensor(combined_X, dtype=torch.float32).unsqueeze(1)\n"
          ]
        },
        {
          "output_type": "stream",
          "name": "stdout",
          "text": [
            "     Epoch 0: Train Loss = 0.7535, Val Loss = 11.1454\n",
            "     Epoch 5: Train Loss = 0.7317, Val Loss = 12.7831\n",
            "     Epoch 10: Train Loss = 0.7289, Val Loss = 13.3170\n",
            "     Epoch 15: Train Loss = 0.7179, Val Loss = 12.4341\n",
            "     Epoch 20: Train Loss = 0.7245, Val Loss = 13.2092\n",
            "    ⏹️ Early stopping at epoch 20\n",
            " Run 5 finished with best val loss: 11.1454\n",
            "Original Error Percentage (Test Dataset): 4.0399%\n",
            "Corrected Error Percentage (Test Dataset): 3.6687%\n",
            " Finished configuration H=32, D=0.2, LR=0.0005, B=8 → Avg Val Loss: 10.2555, Avg Accuracy: 3.7537%\n",
            "\n",
            " Running 23/81: H=32, D=0.2, LR=0.0005, B=16\n",
            "   Run 1/5 ...      Epoch 0: Train Loss = 0.8085, Val Loss = 10.6393\n"
          ]
        },
        {
          "output_type": "stream",
          "name": "stderr",
          "text": [
            "<ipython-input-438-ab28ec98d12e>:152: UserWarning: To copy construct from a tensor, it is recommended to use sourceTensor.clone().detach() or sourceTensor.clone().detach().requires_grad_(True), rather than torch.tensor(sourceTensor).\n",
            "  X_scaled_tensor = torch.tensor(combined_X, dtype=torch.float32).unsqueeze(1)\n"
          ]
        },
        {
          "output_type": "stream",
          "name": "stdout",
          "text": [
            "     Epoch 5: Train Loss = 0.7417, Val Loss = 14.2188\n",
            "     Epoch 10: Train Loss = 0.7431, Val Loss = 13.9040\n",
            "     Epoch 15: Train Loss = 0.7315, Val Loss = 13.3401\n",
            "     Epoch 20: Train Loss = 0.7224, Val Loss = 14.7426\n",
            "    ⏹️ Early stopping at epoch 20\n",
            " Run 1 finished with best val loss: 10.6393\n",
            "Original Error Percentage (Test Dataset): 4.0399%\n",
            "Corrected Error Percentage (Test Dataset): 4.0144%\n",
            "   Run 2/5 ...      Epoch 0: Train Loss = 0.8358, Val Loss = 8.9062\n"
          ]
        },
        {
          "output_type": "stream",
          "name": "stderr",
          "text": [
            "<ipython-input-438-ab28ec98d12e>:152: UserWarning: To copy construct from a tensor, it is recommended to use sourceTensor.clone().detach() or sourceTensor.clone().detach().requires_grad_(True), rather than torch.tensor(sourceTensor).\n",
            "  X_scaled_tensor = torch.tensor(combined_X, dtype=torch.float32).unsqueeze(1)\n"
          ]
        },
        {
          "output_type": "stream",
          "name": "stdout",
          "text": [
            "     Epoch 5: Train Loss = 0.7392, Val Loss = 13.3347\n",
            "     Epoch 10: Train Loss = 0.7390, Val Loss = 13.2647\n",
            "     Epoch 15: Train Loss = 0.7340, Val Loss = 13.9919\n",
            "     Epoch 20: Train Loss = 0.7316, Val Loss = 13.3622\n",
            "    ⏹️ Early stopping at epoch 20\n",
            " Run 2 finished with best val loss: 8.9062\n",
            "Original Error Percentage (Test Dataset): 4.0399%\n",
            "Corrected Error Percentage (Test Dataset): 3.7329%\n",
            "   Run 3/5 ...      Epoch 0: Train Loss = 0.7996, Val Loss = 6.7127\n"
          ]
        },
        {
          "output_type": "stream",
          "name": "stderr",
          "text": [
            "<ipython-input-438-ab28ec98d12e>:152: UserWarning: To copy construct from a tensor, it is recommended to use sourceTensor.clone().detach() or sourceTensor.clone().detach().requires_grad_(True), rather than torch.tensor(sourceTensor).\n",
            "  X_scaled_tensor = torch.tensor(combined_X, dtype=torch.float32).unsqueeze(1)\n"
          ]
        },
        {
          "output_type": "stream",
          "name": "stdout",
          "text": [
            "     Epoch 5: Train Loss = 0.7272, Val Loss = 9.7322\n",
            "     Epoch 10: Train Loss = 0.7426, Val Loss = 9.8809\n",
            "     Epoch 15: Train Loss = 0.7277, Val Loss = 10.7804\n",
            "     Epoch 20: Train Loss = 0.7345, Val Loss = 11.2132\n",
            "    ⏹️ Early stopping at epoch 20\n",
            " Run 3 finished with best val loss: 6.7127\n",
            "Original Error Percentage (Test Dataset): 4.0399%\n",
            "Corrected Error Percentage (Test Dataset): 3.2441%\n",
            "   Run 4/5 ...      Epoch 0: Train Loss = 0.8351, Val Loss = 7.7218\n"
          ]
        },
        {
          "output_type": "stream",
          "name": "stderr",
          "text": [
            "<ipython-input-438-ab28ec98d12e>:152: UserWarning: To copy construct from a tensor, it is recommended to use sourceTensor.clone().detach() or sourceTensor.clone().detach().requires_grad_(True), rather than torch.tensor(sourceTensor).\n",
            "  X_scaled_tensor = torch.tensor(combined_X, dtype=torch.float32).unsqueeze(1)\n"
          ]
        },
        {
          "output_type": "stream",
          "name": "stdout",
          "text": [
            "     Epoch 5: Train Loss = 0.7292, Val Loss = 13.9926\n",
            "     Epoch 10: Train Loss = 0.7330, Val Loss = 13.2516\n",
            "     Epoch 15: Train Loss = 0.7240, Val Loss = 14.6152\n",
            "     Epoch 20: Train Loss = 0.7238, Val Loss = 14.1454\n",
            "    ⏹️ Early stopping at epoch 20\n",
            " Run 4 finished with best val loss: 7.7218\n",
            "Original Error Percentage (Test Dataset): 4.0399%\n",
            "Corrected Error Percentage (Test Dataset): 3.9063%\n",
            "   Run 5/5 ...      Epoch 0: Train Loss = 0.8132, Val Loss = 6.8956\n"
          ]
        },
        {
          "output_type": "stream",
          "name": "stderr",
          "text": [
            "<ipython-input-438-ab28ec98d12e>:152: UserWarning: To copy construct from a tensor, it is recommended to use sourceTensor.clone().detach() or sourceTensor.clone().detach().requires_grad_(True), rather than torch.tensor(sourceTensor).\n",
            "  X_scaled_tensor = torch.tensor(combined_X, dtype=torch.float32).unsqueeze(1)\n"
          ]
        },
        {
          "output_type": "stream",
          "name": "stdout",
          "text": [
            "     Epoch 5: Train Loss = 0.7322, Val Loss = 11.6680\n",
            "     Epoch 10: Train Loss = 0.7298, Val Loss = 11.9385\n",
            "     Epoch 15: Train Loss = 0.7246, Val Loss = 12.1198\n",
            "     Epoch 20: Train Loss = 0.7280, Val Loss = 12.0639\n",
            "    ⏹️ Early stopping at epoch 20\n",
            " Run 5 finished with best val loss: 6.8956\n",
            "Original Error Percentage (Test Dataset): 4.0399%\n",
            "Corrected Error Percentage (Test Dataset): 3.3953%\n",
            " Finished configuration H=32, D=0.2, LR=0.0005, B=16 → Avg Val Loss: 8.1751, Avg Accuracy: 3.6586%\n",
            "\n",
            " Running 24/81: H=32, D=0.2, LR=0.0005, B=32\n",
            "   Run 1/5 ...      Epoch 0: Train Loss = 0.9174, Val Loss = 6.4720\n"
          ]
        },
        {
          "output_type": "stream",
          "name": "stderr",
          "text": [
            "<ipython-input-438-ab28ec98d12e>:152: UserWarning: To copy construct from a tensor, it is recommended to use sourceTensor.clone().detach() or sourceTensor.clone().detach().requires_grad_(True), rather than torch.tensor(sourceTensor).\n",
            "  X_scaled_tensor = torch.tensor(combined_X, dtype=torch.float32).unsqueeze(1)\n"
          ]
        },
        {
          "output_type": "stream",
          "name": "stdout",
          "text": [
            "     Epoch 5: Train Loss = 0.7509, Val Loss = 14.1855\n",
            "     Epoch 10: Train Loss = 0.7472, Val Loss = 14.4000\n",
            "     Epoch 15: Train Loss = 0.7457, Val Loss = 14.2053\n",
            "     Epoch 20: Train Loss = 0.7345, Val Loss = 12.9590\n",
            "    ⏹️ Early stopping at epoch 20\n",
            " Run 1 finished with best val loss: 6.4720\n",
            "Original Error Percentage (Test Dataset): 4.0399%\n",
            "Corrected Error Percentage (Test Dataset): 3.6274%\n",
            "   Run 2/5 ...      Epoch 0: Train Loss = 0.9682, Val Loss = 7.2089\n"
          ]
        },
        {
          "output_type": "stream",
          "name": "stderr",
          "text": [
            "<ipython-input-438-ab28ec98d12e>:152: UserWarning: To copy construct from a tensor, it is recommended to use sourceTensor.clone().detach() or sourceTensor.clone().detach().requires_grad_(True), rather than torch.tensor(sourceTensor).\n",
            "  X_scaled_tensor = torch.tensor(combined_X, dtype=torch.float32).unsqueeze(1)\n"
          ]
        },
        {
          "output_type": "stream",
          "name": "stdout",
          "text": [
            "     Epoch 5: Train Loss = 0.7515, Val Loss = 19.0398\n",
            "     Epoch 10: Train Loss = 0.7340, Val Loss = 18.3165\n",
            "     Epoch 15: Train Loss = 0.7322, Val Loss = 17.6719\n",
            "     Epoch 20: Train Loss = 0.7377, Val Loss = 16.2562\n",
            "    ⏹️ Early stopping at epoch 20\n",
            " Run 2 finished with best val loss: 7.2089\n",
            "Original Error Percentage (Test Dataset): 4.0399%\n",
            "Corrected Error Percentage (Test Dataset): 4.4644%\n",
            "   Run 3/5 ...      Epoch 0: Train Loss = 0.8660, Val Loss = 6.2065\n"
          ]
        },
        {
          "output_type": "stream",
          "name": "stderr",
          "text": [
            "<ipython-input-438-ab28ec98d12e>:152: UserWarning: To copy construct from a tensor, it is recommended to use sourceTensor.clone().detach() or sourceTensor.clone().detach().requires_grad_(True), rather than torch.tensor(sourceTensor).\n",
            "  X_scaled_tensor = torch.tensor(combined_X, dtype=torch.float32).unsqueeze(1)\n"
          ]
        },
        {
          "output_type": "stream",
          "name": "stdout",
          "text": [
            "     Epoch 5: Train Loss = 0.7633, Val Loss = 9.5690\n",
            "     Epoch 10: Train Loss = 0.7449, Val Loss = 10.9849\n",
            "     Epoch 15: Train Loss = 0.7286, Val Loss = 11.4065\n",
            "     Epoch 20: Train Loss = 0.7439, Val Loss = 11.6224\n",
            "    ⏹️ Early stopping at epoch 20\n",
            " Run 3 finished with best val loss: 6.2065\n",
            "Original Error Percentage (Test Dataset): 4.0399%\n",
            "Corrected Error Percentage (Test Dataset): 3.3258%\n",
            "   Run 4/5 ...      Epoch 0: Train Loss = 0.7854, Val Loss = 10.2658\n"
          ]
        },
        {
          "output_type": "stream",
          "name": "stderr",
          "text": [
            "<ipython-input-438-ab28ec98d12e>:152: UserWarning: To copy construct from a tensor, it is recommended to use sourceTensor.clone().detach() or sourceTensor.clone().detach().requires_grad_(True), rather than torch.tensor(sourceTensor).\n",
            "  X_scaled_tensor = torch.tensor(combined_X, dtype=torch.float32).unsqueeze(1)\n"
          ]
        },
        {
          "output_type": "stream",
          "name": "stdout",
          "text": [
            "     Epoch 5: Train Loss = 0.7382, Val Loss = 14.4101\n",
            "     Epoch 10: Train Loss = 0.7407, Val Loss = 13.2446\n",
            "     Epoch 15: Train Loss = 0.7167, Val Loss = 13.1082\n",
            "     Epoch 20: Train Loss = 0.7242, Val Loss = 12.9689\n",
            "    ⏹️ Early stopping at epoch 20\n",
            " Run 4 finished with best val loss: 10.2658\n",
            "Original Error Percentage (Test Dataset): 4.0399%\n",
            "Corrected Error Percentage (Test Dataset): 3.5812%\n",
            "   Run 5/5 ...      Epoch 0: Train Loss = 0.8120, Val Loss = 8.6464\n"
          ]
        },
        {
          "output_type": "stream",
          "name": "stderr",
          "text": [
            "<ipython-input-438-ab28ec98d12e>:152: UserWarning: To copy construct from a tensor, it is recommended to use sourceTensor.clone().detach() or sourceTensor.clone().detach().requires_grad_(True), rather than torch.tensor(sourceTensor).\n",
            "  X_scaled_tensor = torch.tensor(combined_X, dtype=torch.float32).unsqueeze(1)\n"
          ]
        },
        {
          "output_type": "stream",
          "name": "stdout",
          "text": [
            "     Epoch 5: Train Loss = 0.7291, Val Loss = 12.7144\n",
            "     Epoch 10: Train Loss = 0.7385, Val Loss = 11.7457\n",
            "     Epoch 15: Train Loss = 0.7283, Val Loss = 13.1007\n",
            "     Epoch 20: Train Loss = 0.7262, Val Loss = 12.4582\n",
            "    ⏹️ Early stopping at epoch 20\n",
            " Run 5 finished with best val loss: 8.6464\n",
            "Original Error Percentage (Test Dataset): 4.0399%\n",
            "Corrected Error Percentage (Test Dataset): 3.4917%\n",
            " Finished configuration H=32, D=0.2, LR=0.0005, B=32 → Avg Val Loss: 7.7599, Avg Accuracy: 3.6981%\n",
            "\n",
            " Running 25/81: H=32, D=0.2, LR=0.001, B=8\n",
            "   Run 1/5 ... "
          ]
        },
        {
          "output_type": "stream",
          "name": "stderr",
          "text": [
            "<ipython-input-438-ab28ec98d12e>:152: UserWarning: To copy construct from a tensor, it is recommended to use sourceTensor.clone().detach() or sourceTensor.clone().detach().requires_grad_(True), rather than torch.tensor(sourceTensor).\n",
            "  X_scaled_tensor = torch.tensor(combined_X, dtype=torch.float32).unsqueeze(1)\n"
          ]
        },
        {
          "output_type": "stream",
          "name": "stdout",
          "text": [
            "     Epoch 0: Train Loss = 0.9388, Val Loss = 9.0498\n",
            "     Epoch 5: Train Loss = 0.7405, Val Loss = 12.9257\n",
            "     Epoch 10: Train Loss = 0.7419, Val Loss = 11.4155\n",
            "     Epoch 15: Train Loss = 0.7237, Val Loss = 12.5084\n",
            "     Epoch 20: Train Loss = 0.7433, Val Loss = 10.1247\n",
            "    ⏹️ Early stopping at epoch 20\n",
            " Run 1 finished with best val loss: 9.0498\n",
            "Original Error Percentage (Test Dataset): 4.0399%\n",
            "Corrected Error Percentage (Test Dataset): 3.1743%\n",
            "   Run 2/5 ... "
          ]
        },
        {
          "output_type": "stream",
          "name": "stderr",
          "text": [
            "<ipython-input-438-ab28ec98d12e>:152: UserWarning: To copy construct from a tensor, it is recommended to use sourceTensor.clone().detach() or sourceTensor.clone().detach().requires_grad_(True), rather than torch.tensor(sourceTensor).\n",
            "  X_scaled_tensor = torch.tensor(combined_X, dtype=torch.float32).unsqueeze(1)\n"
          ]
        },
        {
          "output_type": "stream",
          "name": "stdout",
          "text": [
            "     Epoch 0: Train Loss = 0.7651, Val Loss = 10.1315\n",
            "     Epoch 5: Train Loss = 0.7320, Val Loss = 14.4750\n",
            "     Epoch 10: Train Loss = 0.7232, Val Loss = 13.3446\n",
            "     Epoch 15: Train Loss = 0.7310, Val Loss = 13.3183\n",
            "     Epoch 20: Train Loss = 0.7239, Val Loss = 16.0405\n",
            "    ⏹️ Early stopping at epoch 20\n",
            " Run 2 finished with best val loss: 10.1315\n",
            "Original Error Percentage (Test Dataset): 4.0399%\n",
            "Corrected Error Percentage (Test Dataset): 4.4397%\n",
            "   Run 3/5 ... "
          ]
        },
        {
          "output_type": "stream",
          "name": "stderr",
          "text": [
            "<ipython-input-438-ab28ec98d12e>:152: UserWarning: To copy construct from a tensor, it is recommended to use sourceTensor.clone().detach() or sourceTensor.clone().detach().requires_grad_(True), rather than torch.tensor(sourceTensor).\n",
            "  X_scaled_tensor = torch.tensor(combined_X, dtype=torch.float32).unsqueeze(1)\n"
          ]
        },
        {
          "output_type": "stream",
          "name": "stdout",
          "text": [
            "     Epoch 0: Train Loss = 0.7783, Val Loss = 11.5121\n",
            "     Epoch 5: Train Loss = 0.7311, Val Loss = 13.6758\n",
            "     Epoch 10: Train Loss = 0.7222, Val Loss = 12.8256\n",
            "     Epoch 15: Train Loss = 0.7337, Val Loss = 12.1241\n",
            "     Epoch 20: Train Loss = 0.7255, Val Loss = 10.9178\n",
            "     Epoch 25: Train Loss = 0.7191, Val Loss = 14.4625\n",
            "     Epoch 30: Train Loss = 0.7268, Val Loss = 14.0826\n",
            "     Epoch 35: Train Loss = 0.7299, Val Loss = 12.6790\n",
            "     Epoch 40: Train Loss = 0.7306, Val Loss = 13.4522\n",
            "    ⏹️ Early stopping at epoch 40\n",
            " Run 3 finished with best val loss: 10.9178\n",
            "Original Error Percentage (Test Dataset): 4.0399%\n",
            "Corrected Error Percentage (Test Dataset): 3.8135%\n",
            "   Run 4/5 ... "
          ]
        },
        {
          "output_type": "stream",
          "name": "stderr",
          "text": [
            "<ipython-input-438-ab28ec98d12e>:152: UserWarning: To copy construct from a tensor, it is recommended to use sourceTensor.clone().detach() or sourceTensor.clone().detach().requires_grad_(True), rather than torch.tensor(sourceTensor).\n",
            "  X_scaled_tensor = torch.tensor(combined_X, dtype=torch.float32).unsqueeze(1)\n"
          ]
        },
        {
          "output_type": "stream",
          "name": "stdout",
          "text": [
            "     Epoch 0: Train Loss = 0.7683, Val Loss = 13.4822\n",
            "     Epoch 5: Train Loss = 0.7218, Val Loss = 12.8095\n",
            "     Epoch 10: Train Loss = 0.7342, Val Loss = 11.7726\n",
            "     Epoch 15: Train Loss = 0.7224, Val Loss = 12.5155\n",
            "     Epoch 20: Train Loss = 0.7308, Val Loss = 13.0783\n",
            "    ⏹️ Early stopping at epoch 22\n",
            " Run 4 finished with best val loss: 11.1284\n",
            "Original Error Percentage (Test Dataset): 4.0399%\n",
            "Corrected Error Percentage (Test Dataset): 3.9639%\n",
            "   Run 5/5 ... "
          ]
        },
        {
          "output_type": "stream",
          "name": "stderr",
          "text": [
            "<ipython-input-438-ab28ec98d12e>:152: UserWarning: To copy construct from a tensor, it is recommended to use sourceTensor.clone().detach() or sourceTensor.clone().detach().requires_grad_(True), rather than torch.tensor(sourceTensor).\n",
            "  X_scaled_tensor = torch.tensor(combined_X, dtype=torch.float32).unsqueeze(1)\n"
          ]
        },
        {
          "output_type": "stream",
          "name": "stdout",
          "text": [
            "     Epoch 0: Train Loss = 0.7815, Val Loss = 11.7708\n",
            "     Epoch 5: Train Loss = 0.7369, Val Loss = 11.4475\n",
            "     Epoch 10: Train Loss = 0.7322, Val Loss = 10.8030\n",
            "     Epoch 15: Train Loss = 0.7282, Val Loss = 12.3371\n",
            "     Epoch 20: Train Loss = 0.7156, Val Loss = 12.0618\n",
            "    ⏹️ Early stopping at epoch 21\n",
            " Run 5 finished with best val loss: 8.9943\n",
            "Original Error Percentage (Test Dataset): 4.0399%\n",
            "Corrected Error Percentage (Test Dataset): 3.6723%\n",
            " Finished configuration H=32, D=0.2, LR=0.001, B=8 → Avg Val Loss: 10.0444, Avg Accuracy: 3.8127%\n",
            "\n",
            " Running 26/81: H=32, D=0.2, LR=0.001, B=16\n",
            "   Run 1/5 ...      Epoch 0: Train Loss = 0.7651, Val Loss = 10.8006\n"
          ]
        },
        {
          "output_type": "stream",
          "name": "stderr",
          "text": [
            "<ipython-input-438-ab28ec98d12e>:152: UserWarning: To copy construct from a tensor, it is recommended to use sourceTensor.clone().detach() or sourceTensor.clone().detach().requires_grad_(True), rather than torch.tensor(sourceTensor).\n",
            "  X_scaled_tensor = torch.tensor(combined_X, dtype=torch.float32).unsqueeze(1)\n"
          ]
        },
        {
          "output_type": "stream",
          "name": "stdout",
          "text": [
            "     Epoch 5: Train Loss = 0.7299, Val Loss = 13.5415\n",
            "     Epoch 10: Train Loss = 0.7273, Val Loss = 13.9827\n",
            "     Epoch 15: Train Loss = 0.7209, Val Loss = 14.0465\n",
            "     Epoch 20: Train Loss = 0.7206, Val Loss = 16.8873\n",
            "    ⏹️ Early stopping at epoch 20\n",
            " Run 1 finished with best val loss: 10.8006\n",
            "Original Error Percentage (Test Dataset): 4.0399%\n",
            "Corrected Error Percentage (Test Dataset): 4.6203%\n",
            "   Run 2/5 ...      Epoch 0: Train Loss = 0.7845, Val Loss = 10.1276\n"
          ]
        },
        {
          "output_type": "stream",
          "name": "stderr",
          "text": [
            "<ipython-input-438-ab28ec98d12e>:152: UserWarning: To copy construct from a tensor, it is recommended to use sourceTensor.clone().detach() or sourceTensor.clone().detach().requires_grad_(True), rather than torch.tensor(sourceTensor).\n",
            "  X_scaled_tensor = torch.tensor(combined_X, dtype=torch.float32).unsqueeze(1)\n"
          ]
        },
        {
          "output_type": "stream",
          "name": "stdout",
          "text": [
            "     Epoch 5: Train Loss = 0.7283, Val Loss = 13.9634\n",
            "     Epoch 10: Train Loss = 0.7318, Val Loss = 12.7654\n",
            "     Epoch 15: Train Loss = 0.7187, Val Loss = 14.6872\n",
            "     Epoch 20: Train Loss = 0.7272, Val Loss = 14.2228\n",
            "    ⏹️ Early stopping at epoch 20\n",
            " Run 2 finished with best val loss: 10.1276\n",
            "Original Error Percentage (Test Dataset): 4.0399%\n",
            "Corrected Error Percentage (Test Dataset): 3.9984%\n",
            "   Run 3/5 ...      Epoch 0: Train Loss = 0.8418, Val Loss = 6.4529\n"
          ]
        },
        {
          "output_type": "stream",
          "name": "stderr",
          "text": [
            "<ipython-input-438-ab28ec98d12e>:152: UserWarning: To copy construct from a tensor, it is recommended to use sourceTensor.clone().detach() or sourceTensor.clone().detach().requires_grad_(True), rather than torch.tensor(sourceTensor).\n",
            "  X_scaled_tensor = torch.tensor(combined_X, dtype=torch.float32).unsqueeze(1)\n"
          ]
        },
        {
          "output_type": "stream",
          "name": "stdout",
          "text": [
            "     Epoch 5: Train Loss = 0.7445, Val Loss = 10.4409\n",
            "     Epoch 10: Train Loss = 0.7286, Val Loss = 11.3281\n",
            "     Epoch 15: Train Loss = 0.7287, Val Loss = 12.8286\n",
            "     Epoch 20: Train Loss = 0.7236, Val Loss = 12.3219\n",
            "    ⏹️ Early stopping at epoch 20\n",
            " Run 3 finished with best val loss: 6.4529\n",
            "Original Error Percentage (Test Dataset): 4.0399%\n",
            "Corrected Error Percentage (Test Dataset): 3.4421%\n",
            "   Run 4/5 ...      Epoch 0: Train Loss = 0.7634, Val Loss = 13.6183\n"
          ]
        },
        {
          "output_type": "stream",
          "name": "stderr",
          "text": [
            "<ipython-input-438-ab28ec98d12e>:152: UserWarning: To copy construct from a tensor, it is recommended to use sourceTensor.clone().detach() or sourceTensor.clone().detach().requires_grad_(True), rather than torch.tensor(sourceTensor).\n",
            "  X_scaled_tensor = torch.tensor(combined_X, dtype=torch.float32).unsqueeze(1)\n"
          ]
        },
        {
          "output_type": "stream",
          "name": "stdout",
          "text": [
            "     Epoch 5: Train Loss = 0.7161, Val Loss = 13.9422\n",
            "     Epoch 10: Train Loss = 0.7230, Val Loss = 14.0179\n",
            "     Epoch 15: Train Loss = 0.7321, Val Loss = 13.4625\n",
            "     Epoch 20: Train Loss = 0.7357, Val Loss = 13.7815\n",
            "     Epoch 25: Train Loss = 0.7240, Val Loss = 14.6738\n",
            "    ⏹️ Early stopping at epoch 28\n",
            " Run 4 finished with best val loss: 13.1312\n",
            "Original Error Percentage (Test Dataset): 4.0399%\n",
            "Corrected Error Percentage (Test Dataset): 4.2702%\n",
            "   Run 5/5 ...      Epoch 0: Train Loss = 0.7870, Val Loss = 10.7966\n"
          ]
        },
        {
          "output_type": "stream",
          "name": "stderr",
          "text": [
            "<ipython-input-438-ab28ec98d12e>:152: UserWarning: To copy construct from a tensor, it is recommended to use sourceTensor.clone().detach() or sourceTensor.clone().detach().requires_grad_(True), rather than torch.tensor(sourceTensor).\n",
            "  X_scaled_tensor = torch.tensor(combined_X, dtype=torch.float32).unsqueeze(1)\n"
          ]
        },
        {
          "output_type": "stream",
          "name": "stdout",
          "text": [
            "     Epoch 5: Train Loss = 0.7307, Val Loss = 13.6329\n",
            "     Epoch 10: Train Loss = 0.7364, Val Loss = 14.6312\n",
            "     Epoch 15: Train Loss = 0.7266, Val Loss = 14.6792\n",
            "     Epoch 20: Train Loss = 0.7220, Val Loss = 14.7309\n",
            "    ⏹️ Early stopping at epoch 20\n",
            " Run 5 finished with best val loss: 10.7966\n",
            "Original Error Percentage (Test Dataset): 4.0399%\n",
            "Corrected Error Percentage (Test Dataset): 4.1886%\n",
            " Finished configuration H=32, D=0.2, LR=0.001, B=16 → Avg Val Loss: 10.2618, Avg Accuracy: 4.1039%\n",
            "\n",
            " Running 27/81: H=32, D=0.2, LR=0.001, B=32\n",
            "   Run 1/5 ...      Epoch 0: Train Loss = 0.8192, Val Loss = 12.0861\n"
          ]
        },
        {
          "output_type": "stream",
          "name": "stderr",
          "text": [
            "<ipython-input-438-ab28ec98d12e>:152: UserWarning: To copy construct from a tensor, it is recommended to use sourceTensor.clone().detach() or sourceTensor.clone().detach().requires_grad_(True), rather than torch.tensor(sourceTensor).\n",
            "  X_scaled_tensor = torch.tensor(combined_X, dtype=torch.float32).unsqueeze(1)\n"
          ]
        },
        {
          "output_type": "stream",
          "name": "stdout",
          "text": [
            "     Epoch 5: Train Loss = 0.7401, Val Loss = 12.9857\n",
            "     Epoch 10: Train Loss = 0.7349, Val Loss = 12.3379\n",
            "     Epoch 15: Train Loss = 0.7331, Val Loss = 12.7816\n",
            "     Epoch 20: Train Loss = 0.7219, Val Loss = 12.5681\n",
            "    ⏹️ Early stopping at epoch 20\n",
            " Run 1 finished with best val loss: 12.0861\n",
            "Original Error Percentage (Test Dataset): 4.0399%\n",
            "Corrected Error Percentage (Test Dataset): 3.5222%\n",
            "   Run 2/5 ...      Epoch 0: Train Loss = 0.8233, Val Loss = 9.8725\n"
          ]
        },
        {
          "output_type": "stream",
          "name": "stderr",
          "text": [
            "<ipython-input-438-ab28ec98d12e>:152: UserWarning: To copy construct from a tensor, it is recommended to use sourceTensor.clone().detach() or sourceTensor.clone().detach().requires_grad_(True), rather than torch.tensor(sourceTensor).\n",
            "  X_scaled_tensor = torch.tensor(combined_X, dtype=torch.float32).unsqueeze(1)\n"
          ]
        },
        {
          "output_type": "stream",
          "name": "stdout",
          "text": [
            "     Epoch 5: Train Loss = 0.7538, Val Loss = 12.8984\n",
            "     Epoch 10: Train Loss = 0.7411, Val Loss = 12.3110\n",
            "     Epoch 15: Train Loss = 0.7337, Val Loss = 11.1608\n",
            "     Epoch 20: Train Loss = 0.7404, Val Loss = 11.6844\n",
            "    ⏹️ Early stopping at epoch 20\n",
            " Run 2 finished with best val loss: 9.8725\n",
            "Original Error Percentage (Test Dataset): 4.0399%\n",
            "Corrected Error Percentage (Test Dataset): 3.3659%\n",
            "   Run 3/5 ...      Epoch 0: Train Loss = 0.8187, Val Loss = 9.4645\n"
          ]
        },
        {
          "output_type": "stream",
          "name": "stderr",
          "text": [
            "<ipython-input-438-ab28ec98d12e>:152: UserWarning: To copy construct from a tensor, it is recommended to use sourceTensor.clone().detach() or sourceTensor.clone().detach().requires_grad_(True), rather than torch.tensor(sourceTensor).\n",
            "  X_scaled_tensor = torch.tensor(combined_X, dtype=torch.float32).unsqueeze(1)\n"
          ]
        },
        {
          "output_type": "stream",
          "name": "stdout",
          "text": [
            "     Epoch 5: Train Loss = 0.7307, Val Loss = 12.6821\n",
            "     Epoch 10: Train Loss = 0.7208, Val Loss = 12.4379\n",
            "     Epoch 15: Train Loss = 0.7249, Val Loss = 12.4108\n",
            "     Epoch 20: Train Loss = 0.7325, Val Loss = 12.1807\n",
            "    ⏹️ Early stopping at epoch 20\n",
            " Run 3 finished with best val loss: 9.4645\n",
            "Original Error Percentage (Test Dataset): 4.0399%\n",
            "Corrected Error Percentage (Test Dataset): 3.4381%\n",
            "   Run 4/5 ...      Epoch 0: Train Loss = 0.8707, Val Loss = 6.8563\n"
          ]
        },
        {
          "output_type": "stream",
          "name": "stderr",
          "text": [
            "<ipython-input-438-ab28ec98d12e>:152: UserWarning: To copy construct from a tensor, it is recommended to use sourceTensor.clone().detach() or sourceTensor.clone().detach().requires_grad_(True), rather than torch.tensor(sourceTensor).\n",
            "  X_scaled_tensor = torch.tensor(combined_X, dtype=torch.float32).unsqueeze(1)\n"
          ]
        },
        {
          "output_type": "stream",
          "name": "stdout",
          "text": [
            "     Epoch 5: Train Loss = 0.7205, Val Loss = 13.5530\n",
            "     Epoch 10: Train Loss = 0.7358, Val Loss = 13.0952\n",
            "     Epoch 15: Train Loss = 0.7268, Val Loss = 13.0528\n",
            "     Epoch 20: Train Loss = 0.7321, Val Loss = 12.0400\n",
            "    ⏹️ Early stopping at epoch 20\n",
            " Run 4 finished with best val loss: 6.8563\n",
            "Original Error Percentage (Test Dataset): 4.0399%\n",
            "Corrected Error Percentage (Test Dataset): 3.3968%\n",
            "   Run 5/5 ...      Epoch 0: Train Loss = 0.7980, Val Loss = 11.3981\n"
          ]
        },
        {
          "output_type": "stream",
          "name": "stderr",
          "text": [
            "<ipython-input-438-ab28ec98d12e>:152: UserWarning: To copy construct from a tensor, it is recommended to use sourceTensor.clone().detach() or sourceTensor.clone().detach().requires_grad_(True), rather than torch.tensor(sourceTensor).\n",
            "  X_scaled_tensor = torch.tensor(combined_X, dtype=torch.float32).unsqueeze(1)\n"
          ]
        },
        {
          "output_type": "stream",
          "name": "stdout",
          "text": [
            "     Epoch 5: Train Loss = 0.7295, Val Loss = 12.2694\n",
            "     Epoch 10: Train Loss = 0.7183, Val Loss = 11.9823\n",
            "     Epoch 15: Train Loss = 0.7444, Val Loss = 12.4822\n",
            "     Epoch 20: Train Loss = 0.7234, Val Loss = 13.5444\n",
            "    ⏹️ Early stopping at epoch 20\n",
            " Run 5 finished with best val loss: 11.3981\n",
            "Original Error Percentage (Test Dataset): 4.0399%\n",
            "Corrected Error Percentage (Test Dataset): 3.7447%\n",
            " Finished configuration H=32, D=0.2, LR=0.001, B=32 → Avg Val Loss: 9.9355, Avg Accuracy: 3.4935%\n",
            "\n",
            " Running 28/81: H=64, D=0.0, LR=0.0001, B=8\n",
            "   Run 1/5 ... "
          ]
        },
        {
          "output_type": "stream",
          "name": "stderr",
          "text": [
            "<ipython-input-438-ab28ec98d12e>:152: UserWarning: To copy construct from a tensor, it is recommended to use sourceTensor.clone().detach() or sourceTensor.clone().detach().requires_grad_(True), rather than torch.tensor(sourceTensor).\n",
            "  X_scaled_tensor = torch.tensor(combined_X, dtype=torch.float32).unsqueeze(1)\n"
          ]
        },
        {
          "output_type": "stream",
          "name": "stdout",
          "text": [
            "     Epoch 0: Train Loss = 0.8021, Val Loss = 7.2610\n",
            "     Epoch 5: Train Loss = 0.7166, Val Loss = 12.3588\n",
            "     Epoch 10: Train Loss = 0.7163, Val Loss = 12.6009\n",
            "     Epoch 15: Train Loss = 0.7160, Val Loss = 12.7092\n",
            "     Epoch 20: Train Loss = 0.7159, Val Loss = 12.6036\n",
            "    ⏹️ Early stopping at epoch 20\n",
            " Run 1 finished with best val loss: 7.2610\n",
            "Original Error Percentage (Test Dataset): 4.0399%\n",
            "Corrected Error Percentage (Test Dataset): 3.4879%\n",
            "   Run 2/5 ... "
          ]
        },
        {
          "output_type": "stream",
          "name": "stderr",
          "text": [
            "<ipython-input-438-ab28ec98d12e>:152: UserWarning: To copy construct from a tensor, it is recommended to use sourceTensor.clone().detach() or sourceTensor.clone().detach().requires_grad_(True), rather than torch.tensor(sourceTensor).\n",
            "  X_scaled_tensor = torch.tensor(combined_X, dtype=torch.float32).unsqueeze(1)\n"
          ]
        },
        {
          "output_type": "stream",
          "name": "stdout",
          "text": [
            "     Epoch 0: Train Loss = 0.7628, Val Loss = 9.9737\n",
            "     Epoch 5: Train Loss = 0.7174, Val Loss = 13.3252\n",
            "     Epoch 10: Train Loss = 0.7162, Val Loss = 13.4756\n",
            "     Epoch 15: Train Loss = 0.7148, Val Loss = 13.6191\n",
            "     Epoch 20: Train Loss = 0.7144, Val Loss = 13.5099\n",
            "    ⏹️ Early stopping at epoch 20\n",
            " Run 2 finished with best val loss: 9.9737\n",
            "Original Error Percentage (Test Dataset): 4.0399%\n",
            "Corrected Error Percentage (Test Dataset): 3.7302%\n",
            "   Run 3/5 ... "
          ]
        },
        {
          "output_type": "stream",
          "name": "stderr",
          "text": [
            "<ipython-input-438-ab28ec98d12e>:152: UserWarning: To copy construct from a tensor, it is recommended to use sourceTensor.clone().detach() or sourceTensor.clone().detach().requires_grad_(True), rather than torch.tensor(sourceTensor).\n",
            "  X_scaled_tensor = torch.tensor(combined_X, dtype=torch.float32).unsqueeze(1)\n"
          ]
        },
        {
          "output_type": "stream",
          "name": "stdout",
          "text": [
            "     Epoch 0: Train Loss = 0.7908, Val Loss = 9.7512\n",
            "     Epoch 5: Train Loss = 0.7192, Val Loss = 14.0451\n",
            "     Epoch 10: Train Loss = 0.7174, Val Loss = 14.3690\n",
            "     Epoch 15: Train Loss = 0.7158, Val Loss = 14.3016\n",
            "     Epoch 20: Train Loss = 0.7155, Val Loss = 14.2932\n",
            "    ⏹️ Early stopping at epoch 20\n",
            " Run 3 finished with best val loss: 9.7512\n",
            "Original Error Percentage (Test Dataset): 4.0399%\n",
            "Corrected Error Percentage (Test Dataset): 3.8081%\n",
            "   Run 4/5 ... "
          ]
        },
        {
          "output_type": "stream",
          "name": "stderr",
          "text": [
            "<ipython-input-438-ab28ec98d12e>:152: UserWarning: To copy construct from a tensor, it is recommended to use sourceTensor.clone().detach() or sourceTensor.clone().detach().requires_grad_(True), rather than torch.tensor(sourceTensor).\n",
            "  X_scaled_tensor = torch.tensor(combined_X, dtype=torch.float32).unsqueeze(1)\n"
          ]
        },
        {
          "output_type": "stream",
          "name": "stdout",
          "text": [
            "     Epoch 0: Train Loss = 0.7920, Val Loss = 9.4777\n",
            "     Epoch 5: Train Loss = 0.7173, Val Loss = 14.2832\n",
            "     Epoch 10: Train Loss = 0.7158, Val Loss = 14.1166\n",
            "     Epoch 15: Train Loss = 0.7154, Val Loss = 13.9231\n",
            "     Epoch 20: Train Loss = 0.7157, Val Loss = 14.2119\n",
            "    ⏹️ Early stopping at epoch 20\n",
            " Run 4 finished with best val loss: 9.4777\n",
            "Original Error Percentage (Test Dataset): 4.0399%\n",
            "Corrected Error Percentage (Test Dataset): 3.9412%\n",
            "   Run 5/5 ... "
          ]
        },
        {
          "output_type": "stream",
          "name": "stderr",
          "text": [
            "<ipython-input-438-ab28ec98d12e>:152: UserWarning: To copy construct from a tensor, it is recommended to use sourceTensor.clone().detach() or sourceTensor.clone().detach().requires_grad_(True), rather than torch.tensor(sourceTensor).\n",
            "  X_scaled_tensor = torch.tensor(combined_X, dtype=torch.float32).unsqueeze(1)\n"
          ]
        },
        {
          "output_type": "stream",
          "name": "stdout",
          "text": [
            "     Epoch 0: Train Loss = 0.7867, Val Loss = 8.6310\n",
            "     Epoch 5: Train Loss = 0.7177, Val Loss = 13.9795\n",
            "     Epoch 10: Train Loss = 0.7164, Val Loss = 13.9021\n",
            "     Epoch 15: Train Loss = 0.7152, Val Loss = 14.0553\n",
            "     Epoch 20: Train Loss = 0.7146, Val Loss = 14.2925\n",
            "    ⏹️ Early stopping at epoch 20\n",
            " Run 5 finished with best val loss: 8.6310\n",
            "Original Error Percentage (Test Dataset): 4.0399%\n",
            "Corrected Error Percentage (Test Dataset): 3.9382%\n",
            " Finished configuration H=64, D=0.0, LR=0.0001, B=8 → Avg Val Loss: 9.0189, Avg Accuracy: 3.7811%\n",
            "\n",
            " Running 29/81: H=64, D=0.0, LR=0.0001, B=16\n",
            "   Run 1/5 ...      Epoch 0: Train Loss = 0.8240, Val Loss = 9.9126\n"
          ]
        },
        {
          "output_type": "stream",
          "name": "stderr",
          "text": [
            "<ipython-input-438-ab28ec98d12e>:152: UserWarning: To copy construct from a tensor, it is recommended to use sourceTensor.clone().detach() or sourceTensor.clone().detach().requires_grad_(True), rather than torch.tensor(sourceTensor).\n",
            "  X_scaled_tensor = torch.tensor(combined_X, dtype=torch.float32).unsqueeze(1)\n"
          ]
        },
        {
          "output_type": "stream",
          "name": "stdout",
          "text": [
            "     Epoch 5: Train Loss = 0.7201, Val Loss = 15.8959\n",
            "     Epoch 10: Train Loss = 0.7176, Val Loss = 16.0216\n",
            "     Epoch 15: Train Loss = 0.7161, Val Loss = 15.5290\n",
            "     Epoch 20: Train Loss = 0.7156, Val Loss = 14.8178\n",
            "    ⏹️ Early stopping at epoch 20\n",
            " Run 1 finished with best val loss: 9.9126\n",
            "Original Error Percentage (Test Dataset): 4.0399%\n",
            "Corrected Error Percentage (Test Dataset): 4.1060%\n",
            "   Run 2/5 ...      Epoch 0: Train Loss = 0.7946, Val Loss = 9.9684\n"
          ]
        },
        {
          "output_type": "stream",
          "name": "stderr",
          "text": [
            "<ipython-input-438-ab28ec98d12e>:152: UserWarning: To copy construct from a tensor, it is recommended to use sourceTensor.clone().detach() or sourceTensor.clone().detach().requires_grad_(True), rather than torch.tensor(sourceTensor).\n",
            "  X_scaled_tensor = torch.tensor(combined_X, dtype=torch.float32).unsqueeze(1)\n"
          ]
        },
        {
          "output_type": "stream",
          "name": "stdout",
          "text": [
            "     Epoch 5: Train Loss = 0.7196, Val Loss = 15.2876\n",
            "     Epoch 10: Train Loss = 0.7171, Val Loss = 15.1524\n",
            "     Epoch 15: Train Loss = 0.7165, Val Loss = 14.7825\n",
            "     Epoch 20: Train Loss = 0.7155, Val Loss = 14.5185\n",
            "    ⏹️ Early stopping at epoch 20\n",
            " Run 2 finished with best val loss: 9.9684\n",
            "Original Error Percentage (Test Dataset): 4.0399%\n",
            "Corrected Error Percentage (Test Dataset): 3.9506%\n",
            "   Run 3/5 ...      Epoch 0: Train Loss = 0.8726, Val Loss = 6.1702\n"
          ]
        },
        {
          "output_type": "stream",
          "name": "stderr",
          "text": [
            "<ipython-input-438-ab28ec98d12e>:152: UserWarning: To copy construct from a tensor, it is recommended to use sourceTensor.clone().detach() or sourceTensor.clone().detach().requires_grad_(True), rather than torch.tensor(sourceTensor).\n",
            "  X_scaled_tensor = torch.tensor(combined_X, dtype=torch.float32).unsqueeze(1)\n"
          ]
        },
        {
          "output_type": "stream",
          "name": "stdout",
          "text": [
            "     Epoch 5: Train Loss = 0.7281, Val Loss = 12.4055\n",
            "     Epoch 10: Train Loss = 0.7185, Val Loss = 13.9474\n",
            "     Epoch 15: Train Loss = 0.7165, Val Loss = 14.1286\n",
            "     Epoch 20: Train Loss = 0.7161, Val Loss = 14.0874\n",
            "    ⏹️ Early stopping at epoch 20\n",
            " Run 3 finished with best val loss: 6.1702\n",
            "Original Error Percentage (Test Dataset): 4.0399%\n",
            "Corrected Error Percentage (Test Dataset): 3.8164%\n",
            "   Run 4/5 ...      Epoch 0: Train Loss = 0.7712, Val Loss = 11.6193\n"
          ]
        },
        {
          "output_type": "stream",
          "name": "stderr",
          "text": [
            "<ipython-input-438-ab28ec98d12e>:152: UserWarning: To copy construct from a tensor, it is recommended to use sourceTensor.clone().detach() or sourceTensor.clone().detach().requires_grad_(True), rather than torch.tensor(sourceTensor).\n",
            "  X_scaled_tensor = torch.tensor(combined_X, dtype=torch.float32).unsqueeze(1)\n"
          ]
        },
        {
          "output_type": "stream",
          "name": "stdout",
          "text": [
            "     Epoch 5: Train Loss = 0.7192, Val Loss = 15.3580\n",
            "     Epoch 10: Train Loss = 0.7171, Val Loss = 14.5863\n",
            "     Epoch 15: Train Loss = 0.7157, Val Loss = 14.4180\n",
            "     Epoch 20: Train Loss = 0.7153, Val Loss = 14.2828\n",
            "    ⏹️ Early stopping at epoch 20\n",
            " Run 4 finished with best val loss: 11.6193\n",
            "Original Error Percentage (Test Dataset): 4.0399%\n",
            "Corrected Error Percentage (Test Dataset): 3.9405%\n",
            "   Run 5/5 ...      Epoch 0: Train Loss = 0.8374, Val Loss = 6.2593\n"
          ]
        },
        {
          "output_type": "stream",
          "name": "stderr",
          "text": [
            "<ipython-input-438-ab28ec98d12e>:152: UserWarning: To copy construct from a tensor, it is recommended to use sourceTensor.clone().detach() or sourceTensor.clone().detach().requires_grad_(True), rather than torch.tensor(sourceTensor).\n",
            "  X_scaled_tensor = torch.tensor(combined_X, dtype=torch.float32).unsqueeze(1)\n"
          ]
        },
        {
          "output_type": "stream",
          "name": "stdout",
          "text": [
            "     Epoch 5: Train Loss = 0.7215, Val Loss = 12.4834\n",
            "     Epoch 10: Train Loss = 0.7164, Val Loss = 14.2858\n",
            "     Epoch 15: Train Loss = 0.7164, Val Loss = 13.8837\n",
            "     Epoch 20: Train Loss = 0.7155, Val Loss = 13.7145\n",
            "    ⏹️ Early stopping at epoch 20\n",
            " Run 5 finished with best val loss: 6.2593\n",
            "Original Error Percentage (Test Dataset): 4.0399%\n",
            "Corrected Error Percentage (Test Dataset): 3.7496%\n",
            " Finished configuration H=64, D=0.0, LR=0.0001, B=16 → Avg Val Loss: 8.7860, Avg Accuracy: 3.9126%\n",
            "\n",
            " Running 30/81: H=64, D=0.0, LR=0.0001, B=32\n",
            "   Run 1/5 ...      Epoch 0: Train Loss = 0.8163, Val Loss = 8.2894\n"
          ]
        },
        {
          "output_type": "stream",
          "name": "stderr",
          "text": [
            "<ipython-input-438-ab28ec98d12e>:152: UserWarning: To copy construct from a tensor, it is recommended to use sourceTensor.clone().detach() or sourceTensor.clone().detach().requires_grad_(True), rather than torch.tensor(sourceTensor).\n",
            "  X_scaled_tensor = torch.tensor(combined_X, dtype=torch.float32).unsqueeze(1)\n"
          ]
        },
        {
          "output_type": "stream",
          "name": "stdout",
          "text": [
            "     Epoch 5: Train Loss = 0.7293, Val Loss = 12.6721\n",
            "     Epoch 10: Train Loss = 0.7188, Val Loss = 14.2393\n",
            "     Epoch 15: Train Loss = 0.7170, Val Loss = 13.9781\n",
            "     Epoch 20: Train Loss = 0.7165, Val Loss = 13.5934\n",
            "    ⏹️ Early stopping at epoch 20\n",
            " Run 1 finished with best val loss: 8.2894\n",
            "Original Error Percentage (Test Dataset): 4.0399%\n",
            "Corrected Error Percentage (Test Dataset): 3.7030%\n",
            "   Run 2/5 ...      Epoch 0: Train Loss = 0.8764, Val Loss = 7.2662\n"
          ]
        },
        {
          "output_type": "stream",
          "name": "stderr",
          "text": [
            "<ipython-input-438-ab28ec98d12e>:152: UserWarning: To copy construct from a tensor, it is recommended to use sourceTensor.clone().detach() or sourceTensor.clone().detach().requires_grad_(True), rather than torch.tensor(sourceTensor).\n",
            "  X_scaled_tensor = torch.tensor(combined_X, dtype=torch.float32).unsqueeze(1)\n"
          ]
        },
        {
          "output_type": "stream",
          "name": "stdout",
          "text": [
            "     Epoch 5: Train Loss = 0.7322, Val Loss = 13.1221\n",
            "     Epoch 10: Train Loss = 0.7185, Val Loss = 15.1334\n",
            "     Epoch 15: Train Loss = 0.7174, Val Loss = 15.6503\n",
            "     Epoch 20: Train Loss = 0.7157, Val Loss = 14.9252\n",
            "    ⏹️ Early stopping at epoch 20\n",
            " Run 2 finished with best val loss: 7.2662\n",
            "Original Error Percentage (Test Dataset): 4.0399%\n",
            "Corrected Error Percentage (Test Dataset): 4.0813%\n",
            "   Run 3/5 ...      Epoch 0: Train Loss = 0.8009, Val Loss = 7.3959\n"
          ]
        },
        {
          "output_type": "stream",
          "name": "stderr",
          "text": [
            "<ipython-input-438-ab28ec98d12e>:152: UserWarning: To copy construct from a tensor, it is recommended to use sourceTensor.clone().detach() or sourceTensor.clone().detach().requires_grad_(True), rather than torch.tensor(sourceTensor).\n",
            "  X_scaled_tensor = torch.tensor(combined_X, dtype=torch.float32).unsqueeze(1)\n"
          ]
        },
        {
          "output_type": "stream",
          "name": "stdout",
          "text": [
            "     Epoch 5: Train Loss = 0.7226, Val Loss = 11.4097\n",
            "     Epoch 10: Train Loss = 0.7173, Val Loss = 12.3341\n",
            "     Epoch 15: Train Loss = 0.7168, Val Loss = 12.1687\n",
            "     Epoch 20: Train Loss = 0.7166, Val Loss = 12.0602\n",
            "    ⏹️ Early stopping at epoch 20\n",
            " Run 3 finished with best val loss: 7.3959\n",
            "Original Error Percentage (Test Dataset): 4.0399%\n",
            "Corrected Error Percentage (Test Dataset): 3.3580%\n",
            "   Run 4/5 ...      Epoch 0: Train Loss = 0.8145, Val Loss = 9.1911\n"
          ]
        },
        {
          "output_type": "stream",
          "name": "stderr",
          "text": [
            "<ipython-input-438-ab28ec98d12e>:152: UserWarning: To copy construct from a tensor, it is recommended to use sourceTensor.clone().detach() or sourceTensor.clone().detach().requires_grad_(True), rather than torch.tensor(sourceTensor).\n",
            "  X_scaled_tensor = torch.tensor(combined_X, dtype=torch.float32).unsqueeze(1)\n"
          ]
        },
        {
          "output_type": "stream",
          "name": "stdout",
          "text": [
            "     Epoch 5: Train Loss = 0.7298, Val Loss = 15.2781\n",
            "     Epoch 10: Train Loss = 0.7191, Val Loss = 16.6937\n",
            "     Epoch 15: Train Loss = 0.7164, Val Loss = 16.1404\n",
            "     Epoch 20: Train Loss = 0.7153, Val Loss = 15.3027\n",
            "    ⏹️ Early stopping at epoch 20\n",
            " Run 4 finished with best val loss: 9.1911\n",
            "Original Error Percentage (Test Dataset): 4.0399%\n",
            "Corrected Error Percentage (Test Dataset): 4.2416%\n",
            "   Run 5/5 ...      Epoch 0: Train Loss = 0.7892, Val Loss = 9.5408\n"
          ]
        },
        {
          "output_type": "stream",
          "name": "stderr",
          "text": [
            "<ipython-input-438-ab28ec98d12e>:152: UserWarning: To copy construct from a tensor, it is recommended to use sourceTensor.clone().detach() or sourceTensor.clone().detach().requires_grad_(True), rather than torch.tensor(sourceTensor).\n",
            "  X_scaled_tensor = torch.tensor(combined_X, dtype=torch.float32).unsqueeze(1)\n"
          ]
        },
        {
          "output_type": "stream",
          "name": "stdout",
          "text": [
            "     Epoch 5: Train Loss = 0.7247, Val Loss = 16.0553\n",
            "     Epoch 10: Train Loss = 0.7196, Val Loss = 16.5001\n",
            "     Epoch 15: Train Loss = 0.7179, Val Loss = 16.0488\n",
            "     Epoch 20: Train Loss = 0.7167, Val Loss = 15.3849\n",
            "    ⏹️ Early stopping at epoch 20\n",
            " Run 5 finished with best val loss: 9.5408\n",
            "Original Error Percentage (Test Dataset): 4.0399%\n",
            "Corrected Error Percentage (Test Dataset): 4.2153%\n",
            " Finished configuration H=64, D=0.0, LR=0.0001, B=32 → Avg Val Loss: 8.3367, Avg Accuracy: 3.9198%\n",
            "\n",
            " Running 31/81: H=64, D=0.0, LR=0.0005, B=8\n",
            "   Run 1/5 ... "
          ]
        },
        {
          "output_type": "stream",
          "name": "stderr",
          "text": [
            "<ipython-input-438-ab28ec98d12e>:152: UserWarning: To copy construct from a tensor, it is recommended to use sourceTensor.clone().detach() or sourceTensor.clone().detach().requires_grad_(True), rather than torch.tensor(sourceTensor).\n",
            "  X_scaled_tensor = torch.tensor(combined_X, dtype=torch.float32).unsqueeze(1)\n"
          ]
        },
        {
          "output_type": "stream",
          "name": "stdout",
          "text": [
            "     Epoch 0: Train Loss = 0.7748, Val Loss = 12.3297\n",
            "     Epoch 5: Train Loss = 0.7166, Val Loss = 14.0571\n",
            "     Epoch 10: Train Loss = 0.7178, Val Loss = 14.6014\n",
            "     Epoch 15: Train Loss = 0.7163, Val Loss = 14.2872\n",
            "     Epoch 20: Train Loss = 0.7158, Val Loss = 13.9208\n",
            "    ⏹️ Early stopping at epoch 20\n",
            " Run 1 finished with best val loss: 12.3297\n",
            "Original Error Percentage (Test Dataset): 4.0399%\n",
            "Corrected Error Percentage (Test Dataset): 3.8466%\n",
            "   Run 2/5 ... "
          ]
        },
        {
          "output_type": "stream",
          "name": "stderr",
          "text": [
            "<ipython-input-438-ab28ec98d12e>:152: UserWarning: To copy construct from a tensor, it is recommended to use sourceTensor.clone().detach() or sourceTensor.clone().detach().requires_grad_(True), rather than torch.tensor(sourceTensor).\n",
            "  X_scaled_tensor = torch.tensor(combined_X, dtype=torch.float32).unsqueeze(1)\n"
          ]
        },
        {
          "output_type": "stream",
          "name": "stdout",
          "text": [
            "     Epoch 0: Train Loss = 0.7552, Val Loss = 12.1207\n",
            "     Epoch 5: Train Loss = 0.7150, Val Loss = 14.5138\n",
            "     Epoch 10: Train Loss = 0.7166, Val Loss = 14.4611\n",
            "     Epoch 15: Train Loss = 0.7173, Val Loss = 15.7846\n",
            "     Epoch 20: Train Loss = 0.7163, Val Loss = 14.8632\n",
            "    ⏹️ Early stopping at epoch 20\n",
            " Run 2 finished with best val loss: 12.1207\n",
            "Original Error Percentage (Test Dataset): 4.0399%\n",
            "Corrected Error Percentage (Test Dataset): 4.1704%\n",
            "   Run 3/5 ... "
          ]
        },
        {
          "output_type": "stream",
          "name": "stderr",
          "text": [
            "<ipython-input-438-ab28ec98d12e>:152: UserWarning: To copy construct from a tensor, it is recommended to use sourceTensor.clone().detach() or sourceTensor.clone().detach().requires_grad_(True), rather than torch.tensor(sourceTensor).\n",
            "  X_scaled_tensor = torch.tensor(combined_X, dtype=torch.float32).unsqueeze(1)\n"
          ]
        },
        {
          "output_type": "stream",
          "name": "stdout",
          "text": [
            "     Epoch 0: Train Loss = 0.7510, Val Loss = 14.1967\n",
            "     Epoch 5: Train Loss = 0.7140, Val Loss = 17.8935\n",
            "     Epoch 10: Train Loss = 0.7162, Val Loss = 21.0166\n",
            "     Epoch 15: Train Loss = 0.7157, Val Loss = 17.3012\n",
            "     Epoch 20: Train Loss = 0.7156, Val Loss = 18.6500\n",
            "    ⏹️ Early stopping at epoch 21\n",
            " Run 3 finished with best val loss: 10.6142\n",
            "Original Error Percentage (Test Dataset): 4.0399%\n",
            "Corrected Error Percentage (Test Dataset): 5.2858%\n",
            "   Run 4/5 ... "
          ]
        },
        {
          "output_type": "stream",
          "name": "stderr",
          "text": [
            "<ipython-input-438-ab28ec98d12e>:152: UserWarning: To copy construct from a tensor, it is recommended to use sourceTensor.clone().detach() or sourceTensor.clone().detach().requires_grad_(True), rather than torch.tensor(sourceTensor).\n",
            "  X_scaled_tensor = torch.tensor(combined_X, dtype=torch.float32).unsqueeze(1)\n"
          ]
        },
        {
          "output_type": "stream",
          "name": "stdout",
          "text": [
            "     Epoch 0: Train Loss = 0.7473, Val Loss = 17.0500\n",
            "     Epoch 5: Train Loss = 0.7192, Val Loss = 16.1906\n",
            "     Epoch 10: Train Loss = 0.7200, Val Loss = 13.5014\n",
            "     Epoch 15: Train Loss = 0.7162, Val Loss = 16.6060\n",
            "     Epoch 20: Train Loss = 0.7146, Val Loss = 18.5531\n",
            "     Epoch 25: Train Loss = 0.7169, Val Loss = 16.1568\n",
            "     Epoch 30: Train Loss = 0.7145, Val Loss = 17.6337\n",
            "    ⏹️ Early stopping at epoch 30\n",
            " Run 4 finished with best val loss: 13.5014\n",
            "Original Error Percentage (Test Dataset): 4.0399%\n",
            "Corrected Error Percentage (Test Dataset): 5.0178%\n",
            "   Run 5/5 ... "
          ]
        },
        {
          "output_type": "stream",
          "name": "stderr",
          "text": [
            "<ipython-input-438-ab28ec98d12e>:152: UserWarning: To copy construct from a tensor, it is recommended to use sourceTensor.clone().detach() or sourceTensor.clone().detach().requires_grad_(True), rather than torch.tensor(sourceTensor).\n",
            "  X_scaled_tensor = torch.tensor(combined_X, dtype=torch.float32).unsqueeze(1)\n"
          ]
        },
        {
          "output_type": "stream",
          "name": "stdout",
          "text": [
            "     Epoch 0: Train Loss = 0.7688, Val Loss = 10.1825\n",
            "     Epoch 5: Train Loss = 0.7202, Val Loss = 11.8221\n",
            "     Epoch 10: Train Loss = 0.7187, Val Loss = 13.6150\n",
            "     Epoch 15: Train Loss = 0.7156, Val Loss = 14.9920\n",
            "     Epoch 20: Train Loss = 0.7152, Val Loss = 15.0272\n",
            "    ⏹️ Early stopping at epoch 20\n",
            " Run 5 finished with best val loss: 10.1825\n",
            "Original Error Percentage (Test Dataset): 4.0399%\n",
            "Corrected Error Percentage (Test Dataset): 4.0674%\n",
            " Finished configuration H=64, D=0.0, LR=0.0005, B=8 → Avg Val Loss: 11.7497, Avg Accuracy: 4.4776%\n",
            "\n",
            " Running 32/81: H=64, D=0.0, LR=0.0005, B=16\n",
            "   Run 1/5 ...      Epoch 0: Train Loss = 0.7585, Val Loss = 16.6276\n"
          ]
        },
        {
          "output_type": "stream",
          "name": "stderr",
          "text": [
            "<ipython-input-438-ab28ec98d12e>:152: UserWarning: To copy construct from a tensor, it is recommended to use sourceTensor.clone().detach() or sourceTensor.clone().detach().requires_grad_(True), rather than torch.tensor(sourceTensor).\n",
            "  X_scaled_tensor = torch.tensor(combined_X, dtype=torch.float32).unsqueeze(1)\n"
          ]
        },
        {
          "output_type": "stream",
          "name": "stdout",
          "text": [
            "     Epoch 5: Train Loss = 0.7185, Val Loss = 14.1682\n",
            "     Epoch 10: Train Loss = 0.7154, Val Loss = 13.6932\n",
            "     Epoch 15: Train Loss = 0.7157, Val Loss = 15.3083\n",
            "     Epoch 20: Train Loss = 0.7140, Val Loss = 14.4714\n",
            "     Epoch 25: Train Loss = 0.7146, Val Loss = 16.0109\n",
            "     Epoch 30: Train Loss = 0.7163, Val Loss = 15.3618\n",
            "     Epoch 35: Train Loss = 0.7135, Val Loss = 15.0089\n",
            "     Epoch 40: Train Loss = 0.7134, Val Loss = 16.1025\n",
            "    ⏹️ Early stopping at epoch 44\n",
            " Run 1 finished with best val loss: 13.5957\n",
            "Original Error Percentage (Test Dataset): 4.0399%\n",
            "Corrected Error Percentage (Test Dataset): 4.1941%\n",
            "   Run 2/5 ...      Epoch 0: Train Loss = 0.7707, Val Loss = 15.9364\n"
          ]
        },
        {
          "output_type": "stream",
          "name": "stderr",
          "text": [
            "<ipython-input-438-ab28ec98d12e>:152: UserWarning: To copy construct from a tensor, it is recommended to use sourceTensor.clone().detach() or sourceTensor.clone().detach().requires_grad_(True), rather than torch.tensor(sourceTensor).\n",
            "  X_scaled_tensor = torch.tensor(combined_X, dtype=torch.float32).unsqueeze(1)\n"
          ]
        },
        {
          "output_type": "stream",
          "name": "stdout",
          "text": [
            "     Epoch 5: Train Loss = 0.7183, Val Loss = 13.8076\n",
            "     Epoch 10: Train Loss = 0.7180, Val Loss = 13.2635\n",
            "     Epoch 15: Train Loss = 0.7175, Val Loss = 13.4554\n",
            "     Epoch 20: Train Loss = 0.7164, Val Loss = 13.2844\n",
            "     Epoch 25: Train Loss = 0.7161, Val Loss = 13.4623\n",
            "     Epoch 30: Train Loss = 0.7154, Val Loss = 13.6998\n",
            "     Epoch 35: Train Loss = 0.7170, Val Loss = 14.6634\n",
            "    ⏹️ Early stopping at epoch 36\n",
            " Run 2 finished with best val loss: 12.7228\n",
            "Original Error Percentage (Test Dataset): 4.0399%\n",
            "Corrected Error Percentage (Test Dataset): 4.1718%\n",
            "   Run 3/5 ... "
          ]
        },
        {
          "output_type": "stream",
          "name": "stderr",
          "text": [
            "<ipython-input-438-ab28ec98d12e>:152: UserWarning: To copy construct from a tensor, it is recommended to use sourceTensor.clone().detach() or sourceTensor.clone().detach().requires_grad_(True), rather than torch.tensor(sourceTensor).\n",
            "  X_scaled_tensor = torch.tensor(combined_X, dtype=torch.float32).unsqueeze(1)\n"
          ]
        },
        {
          "output_type": "stream",
          "name": "stdout",
          "text": [
            "     Epoch 0: Train Loss = 0.7354, Val Loss = 13.3464\n",
            "     Epoch 5: Train Loss = 0.7175, Val Loss = 13.2938\n",
            "     Epoch 10: Train Loss = 0.7162, Val Loss = 14.4612\n",
            "     Epoch 15: Train Loss = 0.7169, Val Loss = 15.6351\n",
            "     Epoch 20: Train Loss = 0.7145, Val Loss = 15.5446\n",
            "     Epoch 25: Train Loss = 0.7137, Val Loss = 15.6261\n",
            "    ⏹️ Early stopping at epoch 25\n",
            " Run 3 finished with best val loss: 13.2938\n",
            "Original Error Percentage (Test Dataset): 4.0399%\n",
            "Corrected Error Percentage (Test Dataset): 4.3328%\n",
            "   Run 4/5 ...      Epoch 0: Train Loss = 0.7862, Val Loss = 10.7973\n"
          ]
        },
        {
          "output_type": "stream",
          "name": "stderr",
          "text": [
            "<ipython-input-438-ab28ec98d12e>:152: UserWarning: To copy construct from a tensor, it is recommended to use sourceTensor.clone().detach() or sourceTensor.clone().detach().requires_grad_(True), rather than torch.tensor(sourceTensor).\n",
            "  X_scaled_tensor = torch.tensor(combined_X, dtype=torch.float32).unsqueeze(1)\n"
          ]
        },
        {
          "output_type": "stream",
          "name": "stdout",
          "text": [
            "     Epoch 5: Train Loss = 0.7180, Val Loss = 13.7381\n",
            "     Epoch 10: Train Loss = 0.7176, Val Loss = 14.0170\n",
            "     Epoch 15: Train Loss = 0.7180, Val Loss = 13.9887\n",
            "     Epoch 20: Train Loss = 0.7155, Val Loss = 15.9827\n",
            "    ⏹️ Early stopping at epoch 20\n",
            " Run 4 finished with best val loss: 10.7973\n",
            "Original Error Percentage (Test Dataset): 4.0399%\n",
            "Corrected Error Percentage (Test Dataset): 4.3734%\n",
            "   Run 5/5 ...      Epoch 0: Train Loss = 0.7496, Val Loss = 10.7031"
          ]
        },
        {
          "output_type": "stream",
          "name": "stderr",
          "text": [
            "<ipython-input-438-ab28ec98d12e>:152: UserWarning: To copy construct from a tensor, it is recommended to use sourceTensor.clone().detach() or sourceTensor.clone().detach().requires_grad_(True), rather than torch.tensor(sourceTensor).\n",
            "  X_scaled_tensor = torch.tensor(combined_X, dtype=torch.float32).unsqueeze(1)\n"
          ]
        },
        {
          "output_type": "stream",
          "name": "stdout",
          "text": [
            "\n",
            "     Epoch 5: Train Loss = 0.7188, Val Loss = 12.2213\n",
            "     Epoch 10: Train Loss = 0.7171, Val Loss = 13.1329\n",
            "     Epoch 15: Train Loss = 0.7158, Val Loss = 14.2837\n",
            "     Epoch 20: Train Loss = 0.7143, Val Loss = 15.5168\n",
            "    ⏹️ Early stopping at epoch 20\n",
            " Run 5 finished with best val loss: 10.7031\n",
            "Original Error Percentage (Test Dataset): 4.0399%\n",
            "Corrected Error Percentage (Test Dataset): 4.3446%\n",
            " Finished configuration H=64, D=0.0, LR=0.0005, B=16 → Avg Val Loss: 12.2225, Avg Accuracy: 4.2833%\n",
            "\n",
            " Running 33/81: H=64, D=0.0, LR=0.0005, B=32\n",
            "   Run 1/5 ...      Epoch 0: Train Loss = 0.8004, Val Loss = 9.5212\n"
          ]
        },
        {
          "output_type": "stream",
          "name": "stderr",
          "text": [
            "<ipython-input-438-ab28ec98d12e>:152: UserWarning: To copy construct from a tensor, it is recommended to use sourceTensor.clone().detach() or sourceTensor.clone().detach().requires_grad_(True), rather than torch.tensor(sourceTensor).\n",
            "  X_scaled_tensor = torch.tensor(combined_X, dtype=torch.float32).unsqueeze(1)\n"
          ]
        },
        {
          "output_type": "stream",
          "name": "stdout",
          "text": [
            "     Epoch 5: Train Loss = 0.7184, Val Loss = 12.8563\n",
            "     Epoch 10: Train Loss = 0.7158, Val Loss = 13.9646\n",
            "     Epoch 15: Train Loss = 0.7173, Val Loss = 15.0759\n",
            "     Epoch 20: Train Loss = 0.7148, Val Loss = 13.7736\n",
            "    ⏹️ Early stopping at epoch 20\n",
            " Run 1 finished with best val loss: 9.5212\n",
            "Original Error Percentage (Test Dataset): 4.0399%\n",
            "Corrected Error Percentage (Test Dataset): 3.8206%\n",
            "   Run 2/5 ...      Epoch 0: Train Loss = 0.7491, Val Loss = 12.8774\n"
          ]
        },
        {
          "output_type": "stream",
          "name": "stderr",
          "text": [
            "<ipython-input-438-ab28ec98d12e>:152: UserWarning: To copy construct from a tensor, it is recommended to use sourceTensor.clone().detach() or sourceTensor.clone().detach().requires_grad_(True), rather than torch.tensor(sourceTensor).\n",
            "  X_scaled_tensor = torch.tensor(combined_X, dtype=torch.float32).unsqueeze(1)\n"
          ]
        },
        {
          "output_type": "stream",
          "name": "stdout",
          "text": [
            "     Epoch 5: Train Loss = 0.7200, Val Loss = 14.9662\n",
            "     Epoch 10: Train Loss = 0.7157, Val Loss = 13.3622\n",
            "     Epoch 15: Train Loss = 0.7180, Val Loss = 14.5611\n",
            "     Epoch 20: Train Loss = 0.7138, Val Loss = 17.1536\n",
            "    ⏹️ Early stopping at epoch 24\n",
            " Run 2 finished with best val loss: 12.4122\n",
            "Original Error Percentage (Test Dataset): 4.0399%\n",
            "Corrected Error Percentage (Test Dataset): 4.0524%\n",
            "   Run 3/5 ...      Epoch 0: Train Loss = 0.8451, Val Loss = 9.2683\n"
          ]
        },
        {
          "output_type": "stream",
          "name": "stderr",
          "text": [
            "<ipython-input-438-ab28ec98d12e>:152: UserWarning: To copy construct from a tensor, it is recommended to use sourceTensor.clone().detach() or sourceTensor.clone().detach().requires_grad_(True), rather than torch.tensor(sourceTensor).\n",
            "  X_scaled_tensor = torch.tensor(combined_X, dtype=torch.float32).unsqueeze(1)\n"
          ]
        },
        {
          "output_type": "stream",
          "name": "stdout",
          "text": [
            "     Epoch 5: Train Loss = 0.7173, Val Loss = 15.0957\n",
            "     Epoch 10: Train Loss = 0.7155, Val Loss = 15.4908\n",
            "     Epoch 15: Train Loss = 0.7148, Val Loss = 16.6812\n",
            "     Epoch 20: Train Loss = 0.7149, Val Loss = 15.7348\n",
            "    ⏹️ Early stopping at epoch 20\n",
            " Run 3 finished with best val loss: 9.2683\n",
            "Original Error Percentage (Test Dataset): 4.0399%\n",
            "Corrected Error Percentage (Test Dataset): 4.3465%\n",
            "   Run 4/5 ...      Epoch 0: Train Loss = 0.8089, Val Loss = 8.7758\n"
          ]
        },
        {
          "output_type": "stream",
          "name": "stderr",
          "text": [
            "<ipython-input-438-ab28ec98d12e>:152: UserWarning: To copy construct from a tensor, it is recommended to use sourceTensor.clone().detach() or sourceTensor.clone().detach().requires_grad_(True), rather than torch.tensor(sourceTensor).\n",
            "  X_scaled_tensor = torch.tensor(combined_X, dtype=torch.float32).unsqueeze(1)\n"
          ]
        },
        {
          "output_type": "stream",
          "name": "stdout",
          "text": [
            "     Epoch 5: Train Loss = 0.7155, Val Loss = 14.2293\n",
            "     Epoch 10: Train Loss = 0.7157, Val Loss = 14.5256\n",
            "     Epoch 15: Train Loss = 0.7152, Val Loss = 14.9782\n",
            "     Epoch 20: Train Loss = 0.7146, Val Loss = 15.9091\n",
            "    ⏹️ Early stopping at epoch 20\n",
            " Run 4 finished with best val loss: 8.7758\n",
            "Original Error Percentage (Test Dataset): 4.0399%\n",
            "Corrected Error Percentage (Test Dataset): 4.4161%\n",
            "   Run 5/5 ...      Epoch 0: Train Loss = 0.7857, Val Loss = 10.3745\n"
          ]
        },
        {
          "output_type": "stream",
          "name": "stderr",
          "text": [
            "<ipython-input-438-ab28ec98d12e>:152: UserWarning: To copy construct from a tensor, it is recommended to use sourceTensor.clone().detach() or sourceTensor.clone().detach().requires_grad_(True), rather than torch.tensor(sourceTensor).\n",
            "  X_scaled_tensor = torch.tensor(combined_X, dtype=torch.float32).unsqueeze(1)\n"
          ]
        },
        {
          "output_type": "stream",
          "name": "stdout",
          "text": [
            "     Epoch 5: Train Loss = 0.7165, Val Loss = 12.4393\n",
            "     Epoch 10: Train Loss = 0.7155, Val Loss = 13.7504\n",
            "     Epoch 15: Train Loss = 0.7157, Val Loss = 14.0935\n",
            "     Epoch 20: Train Loss = 0.7157, Val Loss = 14.8884\n",
            "    ⏹️ Early stopping at epoch 20\n",
            " Run 5 finished with best val loss: 10.3745\n",
            "Original Error Percentage (Test Dataset): 4.0399%\n",
            "Corrected Error Percentage (Test Dataset): 4.0535%\n",
            " Finished configuration H=64, D=0.0, LR=0.0005, B=32 → Avg Val Loss: 10.0704, Avg Accuracy: 4.1378%\n",
            "\n",
            " Running 34/81: H=64, D=0.0, LR=0.001, B=8\n",
            "   Run 1/5 ... "
          ]
        },
        {
          "output_type": "stream",
          "name": "stderr",
          "text": [
            "<ipython-input-438-ab28ec98d12e>:152: UserWarning: To copy construct from a tensor, it is recommended to use sourceTensor.clone().detach() or sourceTensor.clone().detach().requires_grad_(True), rather than torch.tensor(sourceTensor).\n",
            "  X_scaled_tensor = torch.tensor(combined_X, dtype=torch.float32).unsqueeze(1)\n"
          ]
        },
        {
          "output_type": "stream",
          "name": "stdout",
          "text": [
            "     Epoch 0: Train Loss = 0.7413, Val Loss = 14.5076\n",
            "     Epoch 5: Train Loss = 0.7203, Val Loss = 15.9117\n",
            "     Epoch 10: Train Loss = 0.7226, Val Loss = 15.2397\n",
            "     Epoch 15: Train Loss = 0.7164, Val Loss = 19.3313\n",
            "     Epoch 20: Train Loss = 0.7148, Val Loss = 22.1048\n",
            "     Epoch 25: Train Loss = 0.7190, Val Loss = 20.7993\n",
            "     Epoch 30: Train Loss = 0.7159, Val Loss = 18.1049\n",
            "     Epoch 35: Train Loss = 0.7174, Val Loss = 20.2931\n",
            "     Epoch 40: Train Loss = 0.7156, Val Loss = 19.4531\n",
            "    ⏹️ Early stopping at epoch 42\n",
            " Run 1 finished with best val loss: 12.5580\n",
            "Original Error Percentage (Test Dataset): 4.0399%\n",
            "Corrected Error Percentage (Test Dataset): 4.9335%\n",
            "   Run 2/5 ... "
          ]
        },
        {
          "output_type": "stream",
          "name": "stderr",
          "text": [
            "<ipython-input-438-ab28ec98d12e>:152: UserWarning: To copy construct from a tensor, it is recommended to use sourceTensor.clone().detach() or sourceTensor.clone().detach().requires_grad_(True), rather than torch.tensor(sourceTensor).\n",
            "  X_scaled_tensor = torch.tensor(combined_X, dtype=torch.float32).unsqueeze(1)\n"
          ]
        },
        {
          "output_type": "stream",
          "name": "stdout",
          "text": [
            "     Epoch 0: Train Loss = 0.7362, Val Loss = 16.0751\n",
            "     Epoch 5: Train Loss = 0.7229, Val Loss = 12.7842\n",
            "     Epoch 10: Train Loss = 0.7192, Val Loss = 17.8535\n",
            "     Epoch 15: Train Loss = 0.7181, Val Loss = 14.5874\n",
            "     Epoch 20: Train Loss = 0.7205, Val Loss = 13.5614\n",
            "     Epoch 25: Train Loss = 0.7158, Val Loss = 10.3656\n",
            "     Epoch 30: Train Loss = 0.7203, Val Loss = 15.4859\n",
            "     Epoch 35: Train Loss = 0.7165, Val Loss = 14.4085\n",
            "     Epoch 40: Train Loss = 0.7158, Val Loss = 15.2308\n",
            "     Epoch 45: Train Loss = 0.7147, Val Loss = 17.1181\n",
            "    ⏹️ Early stopping at epoch 45\n",
            " Run 2 finished with best val loss: 10.3656\n",
            "Original Error Percentage (Test Dataset): 4.0399%\n",
            "Corrected Error Percentage (Test Dataset): 4.7218%\n",
            "   Run 3/5 ... "
          ]
        },
        {
          "output_type": "stream",
          "name": "stderr",
          "text": [
            "<ipython-input-438-ab28ec98d12e>:152: UserWarning: To copy construct from a tensor, it is recommended to use sourceTensor.clone().detach() or sourceTensor.clone().detach().requires_grad_(True), rather than torch.tensor(sourceTensor).\n",
            "  X_scaled_tensor = torch.tensor(combined_X, dtype=torch.float32).unsqueeze(1)\n"
          ]
        },
        {
          "output_type": "stream",
          "name": "stdout",
          "text": [
            "     Epoch 0: Train Loss = 0.7344, Val Loss = 13.8611\n",
            "     Epoch 5: Train Loss = 0.7204, Val Loss = 11.7513\n",
            "     Epoch 10: Train Loss = 0.7202, Val Loss = 15.9696\n",
            "     Epoch 15: Train Loss = 0.7188, Val Loss = 15.9479\n",
            "     Epoch 20: Train Loss = 0.7146, Val Loss = 13.4598\n",
            "    ⏹️ Early stopping at epoch 23\n",
            " Run 3 finished with best val loss: 11.3095\n",
            "Original Error Percentage (Test Dataset): 4.0399%\n",
            "Corrected Error Percentage (Test Dataset): 4.4276%\n",
            "   Run 4/5 ... "
          ]
        },
        {
          "output_type": "stream",
          "name": "stderr",
          "text": [
            "<ipython-input-438-ab28ec98d12e>:152: UserWarning: To copy construct from a tensor, it is recommended to use sourceTensor.clone().detach() or sourceTensor.clone().detach().requires_grad_(True), rather than torch.tensor(sourceTensor).\n",
            "  X_scaled_tensor = torch.tensor(combined_X, dtype=torch.float32).unsqueeze(1)\n"
          ]
        },
        {
          "output_type": "stream",
          "name": "stdout",
          "text": [
            "     Epoch 0: Train Loss = 0.7305, Val Loss = 22.7898\n",
            "     Epoch 5: Train Loss = 0.7192, Val Loss = 12.2628\n",
            "     Epoch 10: Train Loss = 0.7195, Val Loss = 12.8036\n",
            "     Epoch 15: Train Loss = 0.7199, Val Loss = 18.2662\n",
            "     Epoch 20: Train Loss = 0.7189, Val Loss = 16.4174\n",
            "     Epoch 25: Train Loss = 0.7171, Val Loss = 17.0925\n",
            "    ⏹️ Early stopping at epoch 27\n",
            " Run 4 finished with best val loss: 10.5806\n",
            "Original Error Percentage (Test Dataset): 4.0399%\n",
            "Corrected Error Percentage (Test Dataset): 5.2147%\n",
            "   Run 5/5 ... "
          ]
        },
        {
          "output_type": "stream",
          "name": "stderr",
          "text": [
            "<ipython-input-438-ab28ec98d12e>:152: UserWarning: To copy construct from a tensor, it is recommended to use sourceTensor.clone().detach() or sourceTensor.clone().detach().requires_grad_(True), rather than torch.tensor(sourceTensor).\n",
            "  X_scaled_tensor = torch.tensor(combined_X, dtype=torch.float32).unsqueeze(1)\n"
          ]
        },
        {
          "output_type": "stream",
          "name": "stdout",
          "text": [
            "     Epoch 0: Train Loss = 0.7275, Val Loss = 13.4907\n",
            "     Epoch 5: Train Loss = 0.7163, Val Loss = 11.4820\n",
            "     Epoch 10: Train Loss = 0.7162, Val Loss = 17.5407\n",
            "     Epoch 15: Train Loss = 0.7153, Val Loss = 16.4120\n",
            "     Epoch 20: Train Loss = 0.7172, Val Loss = 19.3616\n",
            "     Epoch 25: Train Loss = 0.7156, Val Loss = 18.4682\n",
            "    ⏹️ Early stopping at epoch 25\n",
            " Run 5 finished with best val loss: 11.4820\n",
            "Original Error Percentage (Test Dataset): 4.0399%\n",
            "Corrected Error Percentage (Test Dataset): 5.3492%\n",
            " Finished configuration H=64, D=0.0, LR=0.001, B=8 → Avg Val Loss: 11.2591, Avg Accuracy: 4.9294%\n",
            "\n",
            " Running 35/81: H=64, D=0.0, LR=0.001, B=16\n",
            "   Run 1/5 ...      Epoch 0: Train Loss = 0.7404, Val Loss = 12.2869\n"
          ]
        },
        {
          "output_type": "stream",
          "name": "stderr",
          "text": [
            "<ipython-input-438-ab28ec98d12e>:152: UserWarning: To copy construct from a tensor, it is recommended to use sourceTensor.clone().detach() or sourceTensor.clone().detach().requires_grad_(True), rather than torch.tensor(sourceTensor).\n",
            "  X_scaled_tensor = torch.tensor(combined_X, dtype=torch.float32).unsqueeze(1)\n"
          ]
        },
        {
          "output_type": "stream",
          "name": "stdout",
          "text": [
            "     Epoch 5: Train Loss = 0.7199, Val Loss = 11.5791\n",
            "     Epoch 10: Train Loss = 0.7188, Val Loss = 14.3574\n",
            "     Epoch 15: Train Loss = 0.7185, Val Loss = 11.0840\n",
            "     Epoch 20: Train Loss = 0.7195, Val Loss = 15.5768\n",
            "    ⏹️ Early stopping at epoch 22\n",
            " Run 1 finished with best val loss: 9.1289\n",
            "Original Error Percentage (Test Dataset): 4.0399%\n",
            "Corrected Error Percentage (Test Dataset): 3.8514%\n",
            "   Run 2/5 ...      Epoch 0: Train Loss = 0.7768, Val Loss = 13.4297\n"
          ]
        },
        {
          "output_type": "stream",
          "name": "stderr",
          "text": [
            "<ipython-input-438-ab28ec98d12e>:152: UserWarning: To copy construct from a tensor, it is recommended to use sourceTensor.clone().detach() or sourceTensor.clone().detach().requires_grad_(True), rather than torch.tensor(sourceTensor).\n",
            "  X_scaled_tensor = torch.tensor(combined_X, dtype=torch.float32).unsqueeze(1)\n"
          ]
        },
        {
          "output_type": "stream",
          "name": "stdout",
          "text": [
            "     Epoch 5: Train Loss = 0.7196, Val Loss = 12.1634\n",
            "     Epoch 10: Train Loss = 0.7174, Val Loss = 15.9102\n",
            "     Epoch 15: Train Loss = 0.7148, Val Loss = 15.2944\n",
            "     Epoch 20: Train Loss = 0.7177, Val Loss = 17.8913\n",
            "    ⏹️ Early stopping at epoch 21\n",
            " Run 2 finished with best val loss: 11.7446\n",
            "Original Error Percentage (Test Dataset): 4.0399%\n",
            "Corrected Error Percentage (Test Dataset): 4.6027%\n",
            "   Run 3/5 ... "
          ]
        },
        {
          "output_type": "stream",
          "name": "stderr",
          "text": [
            "<ipython-input-438-ab28ec98d12e>:152: UserWarning: To copy construct from a tensor, it is recommended to use sourceTensor.clone().detach() or sourceTensor.clone().detach().requires_grad_(True), rather than torch.tensor(sourceTensor).\n",
            "  X_scaled_tensor = torch.tensor(combined_X, dtype=torch.float32).unsqueeze(1)\n"
          ]
        },
        {
          "output_type": "stream",
          "name": "stdout",
          "text": [
            "     Epoch 0: Train Loss = 0.7311, Val Loss = 11.9508\n",
            "     Epoch 5: Train Loss = 0.7187, Val Loss = 15.3735\n",
            "     Epoch 10: Train Loss = 0.7182, Val Loss = 12.2488\n",
            "     Epoch 15: Train Loss = 0.7148, Val Loss = 16.9593\n",
            "     Epoch 20: Train Loss = 0.7163, Val Loss = 14.8462\n",
            "    ⏹️ Early stopping at epoch 21\n",
            " Run 3 finished with best val loss: 10.3694\n",
            "Original Error Percentage (Test Dataset): 4.0399%\n",
            "Corrected Error Percentage (Test Dataset): 4.6137%\n",
            "   Run 4/5 ... "
          ]
        },
        {
          "output_type": "stream",
          "name": "stderr",
          "text": [
            "<ipython-input-438-ab28ec98d12e>:152: UserWarning: To copy construct from a tensor, it is recommended to use sourceTensor.clone().detach() or sourceTensor.clone().detach().requires_grad_(True), rather than torch.tensor(sourceTensor).\n",
            "  X_scaled_tensor = torch.tensor(combined_X, dtype=torch.float32).unsqueeze(1)\n"
          ]
        },
        {
          "output_type": "stream",
          "name": "stdout",
          "text": [
            "     Epoch 0: Train Loss = 0.7422, Val Loss = 13.8144\n",
            "     Epoch 5: Train Loss = 0.7206, Val Loss = 16.1418\n",
            "     Epoch 10: Train Loss = 0.7167, Val Loss = 15.6620\n",
            "     Epoch 15: Train Loss = 0.7199, Val Loss = 14.7269\n",
            "     Epoch 20: Train Loss = 0.7152, Val Loss = 14.6292\n",
            "     Epoch 25: Train Loss = 0.7149, Val Loss = 14.3290\n",
            "    ⏹️ Early stopping at epoch 27\n",
            " Run 4 finished with best val loss: 12.6120\n",
            "Original Error Percentage (Test Dataset): 4.0399%\n",
            "Corrected Error Percentage (Test Dataset): 4.0835%\n",
            "   Run 5/5 ...      Epoch 0: Train Loss = 0.7484, Val Loss = 11.7695\n"
          ]
        },
        {
          "output_type": "stream",
          "name": "stderr",
          "text": [
            "<ipython-input-438-ab28ec98d12e>:152: UserWarning: To copy construct from a tensor, it is recommended to use sourceTensor.clone().detach() or sourceTensor.clone().detach().requires_grad_(True), rather than torch.tensor(sourceTensor).\n",
            "  X_scaled_tensor = torch.tensor(combined_X, dtype=torch.float32).unsqueeze(1)\n"
          ]
        },
        {
          "output_type": "stream",
          "name": "stdout",
          "text": [
            "     Epoch 5: Train Loss = 0.7185, Val Loss = 14.2474\n",
            "     Epoch 10: Train Loss = 0.7173, Val Loss = 14.1240\n",
            "     Epoch 15: Train Loss = 0.7186, Val Loss = 16.7794\n",
            "     Epoch 20: Train Loss = 0.7159, Val Loss = 15.7318\n",
            "    ⏹️ Early stopping at epoch 20\n",
            " Run 5 finished with best val loss: 11.7695\n",
            "Original Error Percentage (Test Dataset): 4.0399%\n",
            "Corrected Error Percentage (Test Dataset): 4.3944%\n",
            " Finished configuration H=64, D=0.0, LR=0.001, B=16 → Avg Val Loss: 11.1249, Avg Accuracy: 4.3091%\n",
            "\n",
            " Running 36/81: H=64, D=0.0, LR=0.001, B=32\n",
            "   Run 1/5 ...      Epoch 0: Train Loss = 0.7444, Val Loss = 15.5253\n"
          ]
        },
        {
          "output_type": "stream",
          "name": "stderr",
          "text": [
            "<ipython-input-438-ab28ec98d12e>:152: UserWarning: To copy construct from a tensor, it is recommended to use sourceTensor.clone().detach() or sourceTensor.clone().detach().requires_grad_(True), rather than torch.tensor(sourceTensor).\n",
            "  X_scaled_tensor = torch.tensor(combined_X, dtype=torch.float32).unsqueeze(1)\n"
          ]
        },
        {
          "output_type": "stream",
          "name": "stdout",
          "text": [
            "     Epoch 5: Train Loss = 0.7175, Val Loss = 14.0356\n",
            "     Epoch 10: Train Loss = 0.7184, Val Loss = 12.5656\n",
            "     Epoch 15: Train Loss = 0.7164, Val Loss = 13.9333\n",
            "     Epoch 20: Train Loss = 0.7200, Val Loss = 12.7429\n",
            "     Epoch 25: Train Loss = 0.7190, Val Loss = 15.6456\n",
            "     Epoch 30: Train Loss = 0.7165, Val Loss = 13.4577\n",
            "    ⏹️ Early stopping at epoch 30\n",
            " Run 1 finished with best val loss: 12.5656\n",
            "Original Error Percentage (Test Dataset): 4.0399%\n",
            "Corrected Error Percentage (Test Dataset): 3.7983%\n",
            "   Run 2/5 ...      Epoch 0: Train Loss = 0.7881, Val Loss = 9.6093\n"
          ]
        },
        {
          "output_type": "stream",
          "name": "stderr",
          "text": [
            "<ipython-input-438-ab28ec98d12e>:152: UserWarning: To copy construct from a tensor, it is recommended to use sourceTensor.clone().detach() or sourceTensor.clone().detach().requires_grad_(True), rather than torch.tensor(sourceTensor).\n",
            "  X_scaled_tensor = torch.tensor(combined_X, dtype=torch.float32).unsqueeze(1)\n"
          ]
        },
        {
          "output_type": "stream",
          "name": "stdout",
          "text": [
            "     Epoch 5: Train Loss = 0.7181, Val Loss = 12.8250\n",
            "     Epoch 10: Train Loss = 0.7177, Val Loss = 14.9573\n",
            "     Epoch 15: Train Loss = 0.7160, Val Loss = 13.6763\n",
            "     Epoch 20: Train Loss = 0.7154, Val Loss = 15.2079\n",
            "    ⏹️ Early stopping at epoch 20\n",
            " Run 2 finished with best val loss: 9.6093\n",
            "Original Error Percentage (Test Dataset): 4.0399%\n",
            "Corrected Error Percentage (Test Dataset): 4.2207%\n",
            "   Run 3/5 ...      Epoch 0: Train Loss = 0.7438, Val Loss = 16.5298\n"
          ]
        },
        {
          "output_type": "stream",
          "name": "stderr",
          "text": [
            "<ipython-input-438-ab28ec98d12e>:152: UserWarning: To copy construct from a tensor, it is recommended to use sourceTensor.clone().detach() or sourceTensor.clone().detach().requires_grad_(True), rather than torch.tensor(sourceTensor).\n",
            "  X_scaled_tensor = torch.tensor(combined_X, dtype=torch.float32).unsqueeze(1)\n"
          ]
        },
        {
          "output_type": "stream",
          "name": "stdout",
          "text": [
            "     Epoch 5: Train Loss = 0.7197, Val Loss = 14.6150\n",
            "     Epoch 10: Train Loss = 0.7170, Val Loss = 13.5605\n",
            "     Epoch 15: Train Loss = 0.7188, Val Loss = 11.5163\n",
            "     Epoch 20: Train Loss = 0.7189, Val Loss = 13.6016\n",
            "    ⏹️ Early stopping at epoch 24\n",
            " Run 3 finished with best val loss: 11.4570\n",
            "Original Error Percentage (Test Dataset): 4.0399%\n",
            "Corrected Error Percentage (Test Dataset): 3.9402%\n",
            "   Run 4/5 ...      Epoch 0: Train Loss = 0.7484, Val Loss = 19.7611\n"
          ]
        },
        {
          "output_type": "stream",
          "name": "stderr",
          "text": [
            "<ipython-input-438-ab28ec98d12e>:152: UserWarning: To copy construct from a tensor, it is recommended to use sourceTensor.clone().detach() or sourceTensor.clone().detach().requires_grad_(True), rather than torch.tensor(sourceTensor).\n",
            "  X_scaled_tensor = torch.tensor(combined_X, dtype=torch.float32).unsqueeze(1)\n"
          ]
        },
        {
          "output_type": "stream",
          "name": "stdout",
          "text": [
            "     Epoch 5: Train Loss = 0.7186, Val Loss = 15.9963\n",
            "     Epoch 10: Train Loss = 0.7162, Val Loss = 17.7842\n",
            "     Epoch 15: Train Loss = 0.7179, Val Loss = 18.7902\n",
            "     Epoch 20: Train Loss = 0.7168, Val Loss = 17.9479\n",
            "     Epoch 25: Train Loss = 0.7144, Val Loss = 18.4607\n",
            "    ⏹️ Early stopping at epoch 29\n",
            " Run 4 finished with best val loss: 14.0305\n",
            "Original Error Percentage (Test Dataset): 4.0399%\n",
            "Corrected Error Percentage (Test Dataset): 5.0964%\n",
            "   Run 5/5 ...      Epoch 0: Train Loss = 0.7539, Val Loss = 18.4515\n"
          ]
        },
        {
          "output_type": "stream",
          "name": "stderr",
          "text": [
            "<ipython-input-438-ab28ec98d12e>:152: UserWarning: To copy construct from a tensor, it is recommended to use sourceTensor.clone().detach() or sourceTensor.clone().detach().requires_grad_(True), rather than torch.tensor(sourceTensor).\n",
            "  X_scaled_tensor = torch.tensor(combined_X, dtype=torch.float32).unsqueeze(1)\n"
          ]
        },
        {
          "output_type": "stream",
          "name": "stdout",
          "text": [
            "     Epoch 5: Train Loss = 0.7209, Val Loss = 15.2083\n",
            "     Epoch 10: Train Loss = 0.7164, Val Loss = 13.6982\n",
            "     Epoch 15: Train Loss = 0.7145, Val Loss = 14.2202\n",
            "     Epoch 20: Train Loss = 0.7152, Val Loss = 15.7749\n",
            "     Epoch 25: Train Loss = 0.7138, Val Loss = 16.4775\n",
            "     Epoch 30: Train Loss = 0.7128, Val Loss = 15.2149\n",
            "    ⏹️ Early stopping at epoch 31\n",
            " Run 5 finished with best val loss: 12.4080\n",
            "Original Error Percentage (Test Dataset): 4.0399%\n",
            "Corrected Error Percentage (Test Dataset): 3.8166%\n",
            " Finished configuration H=64, D=0.0, LR=0.001, B=32 → Avg Val Loss: 12.0141, Avg Accuracy: 4.1745%\n",
            "\n",
            " Running 37/81: H=64, D=0.1, LR=0.0001, B=8\n",
            "   Run 1/5 ... "
          ]
        },
        {
          "output_type": "stream",
          "name": "stderr",
          "text": [
            "<ipython-input-438-ab28ec98d12e>:152: UserWarning: To copy construct from a tensor, it is recommended to use sourceTensor.clone().detach() or sourceTensor.clone().detach().requires_grad_(True), rather than torch.tensor(sourceTensor).\n",
            "  X_scaled_tensor = torch.tensor(combined_X, dtype=torch.float32).unsqueeze(1)\n"
          ]
        },
        {
          "output_type": "stream",
          "name": "stdout",
          "text": [
            "     Epoch 0: Train Loss = 0.8227, Val Loss = 8.3739\n",
            "     Epoch 5: Train Loss = 0.7216, Val Loss = 12.4188\n",
            "     Epoch 10: Train Loss = 0.7269, Val Loss = 12.3611\n",
            "     Epoch 15: Train Loss = 0.7230, Val Loss = 12.1298\n",
            "     Epoch 20: Train Loss = 0.7135, Val Loss = 12.5749\n",
            "    ⏹️ Early stopping at epoch 20\n",
            " Run 1 finished with best val loss: 8.3739\n",
            "Original Error Percentage (Test Dataset): 4.0399%\n",
            "Corrected Error Percentage (Test Dataset): 3.4898%\n",
            "   Run 2/5 ... "
          ]
        },
        {
          "output_type": "stream",
          "name": "stderr",
          "text": [
            "<ipython-input-438-ab28ec98d12e>:152: UserWarning: To copy construct from a tensor, it is recommended to use sourceTensor.clone().detach() or sourceTensor.clone().detach().requires_grad_(True), rather than torch.tensor(sourceTensor).\n",
            "  X_scaled_tensor = torch.tensor(combined_X, dtype=torch.float32).unsqueeze(1)\n"
          ]
        },
        {
          "output_type": "stream",
          "name": "stdout",
          "text": [
            "     Epoch 0: Train Loss = 0.7709, Val Loss = 8.9446\n",
            "     Epoch 5: Train Loss = 0.7275, Val Loss = 13.4213\n",
            "     Epoch 10: Train Loss = 0.7233, Val Loss = 13.0415\n",
            "     Epoch 15: Train Loss = 0.7180, Val Loss = 13.5191\n",
            "     Epoch 20: Train Loss = 0.7216, Val Loss = 14.0530\n",
            "    ⏹️ Early stopping at epoch 20\n",
            " Run 2 finished with best val loss: 8.9446\n",
            "Original Error Percentage (Test Dataset): 4.0399%\n",
            "Corrected Error Percentage (Test Dataset): 3.8277%\n",
            "   Run 3/5 ... "
          ]
        },
        {
          "output_type": "stream",
          "name": "stderr",
          "text": [
            "<ipython-input-438-ab28ec98d12e>:152: UserWarning: To copy construct from a tensor, it is recommended to use sourceTensor.clone().detach() or sourceTensor.clone().detach().requires_grad_(True), rather than torch.tensor(sourceTensor).\n",
            "  X_scaled_tensor = torch.tensor(combined_X, dtype=torch.float32).unsqueeze(1)\n"
          ]
        },
        {
          "output_type": "stream",
          "name": "stdout",
          "text": [
            "     Epoch 0: Train Loss = 0.7969, Val Loss = 8.8333\n",
            "     Epoch 5: Train Loss = 0.7193, Val Loss = 13.9943\n",
            "     Epoch 10: Train Loss = 0.7177, Val Loss = 13.7493\n",
            "     Epoch 15: Train Loss = 0.7204, Val Loss = 13.5716\n",
            "     Epoch 20: Train Loss = 0.7215, Val Loss = 12.9340\n",
            "    ⏹️ Early stopping at epoch 20\n",
            " Run 3 finished with best val loss: 8.8333\n",
            "Original Error Percentage (Test Dataset): 4.0399%\n",
            "Corrected Error Percentage (Test Dataset): 3.6172%\n",
            "   Run 4/5 ... "
          ]
        },
        {
          "output_type": "stream",
          "name": "stderr",
          "text": [
            "<ipython-input-438-ab28ec98d12e>:152: UserWarning: To copy construct from a tensor, it is recommended to use sourceTensor.clone().detach() or sourceTensor.clone().detach().requires_grad_(True), rather than torch.tensor(sourceTensor).\n",
            "  X_scaled_tensor = torch.tensor(combined_X, dtype=torch.float32).unsqueeze(1)\n"
          ]
        },
        {
          "output_type": "stream",
          "name": "stdout",
          "text": [
            "     Epoch 0: Train Loss = 0.8592, Val Loss = 7.3727\n",
            "     Epoch 5: Train Loss = 0.7306, Val Loss = 14.6562\n",
            "     Epoch 10: Train Loss = 0.7301, Val Loss = 14.7408\n",
            "     Epoch 15: Train Loss = 0.7259, Val Loss = 14.7065\n",
            "     Epoch 20: Train Loss = 0.7198, Val Loss = 14.6228\n",
            "    ⏹️ Early stopping at epoch 20\n",
            " Run 4 finished with best val loss: 7.3727\n",
            "Original Error Percentage (Test Dataset): 4.0399%\n",
            "Corrected Error Percentage (Test Dataset): 4.0405%\n",
            "   Run 5/5 ... "
          ]
        },
        {
          "output_type": "stream",
          "name": "stderr",
          "text": [
            "<ipython-input-438-ab28ec98d12e>:152: UserWarning: To copy construct from a tensor, it is recommended to use sourceTensor.clone().detach() or sourceTensor.clone().detach().requires_grad_(True), rather than torch.tensor(sourceTensor).\n",
            "  X_scaled_tensor = torch.tensor(combined_X, dtype=torch.float32).unsqueeze(1)\n"
          ]
        },
        {
          "output_type": "stream",
          "name": "stdout",
          "text": [
            "     Epoch 0: Train Loss = 0.8970, Val Loss = 6.4415\n",
            "     Epoch 5: Train Loss = 0.7260, Val Loss = 12.1396\n",
            "     Epoch 10: Train Loss = 0.7131, Val Loss = 12.3285\n",
            "     Epoch 15: Train Loss = 0.7289, Val Loss = 12.5178\n",
            "     Epoch 20: Train Loss = 0.7192, Val Loss = 12.6454\n",
            "    ⏹️ Early stopping at epoch 20\n",
            " Run 5 finished with best val loss: 6.4415\n",
            "Original Error Percentage (Test Dataset): 4.0399%\n",
            "Corrected Error Percentage (Test Dataset): 3.5389%\n",
            " Finished configuration H=64, D=0.1, LR=0.0001, B=8 → Avg Val Loss: 7.9932, Avg Accuracy: 3.7028%\n",
            "\n",
            " Running 38/81: H=64, D=0.1, LR=0.0001, B=16\n",
            "   Run 1/5 ...      Epoch 0: Train Loss = 0.7909, Val Loss = 7.4282\n"
          ]
        },
        {
          "output_type": "stream",
          "name": "stderr",
          "text": [
            "<ipython-input-438-ab28ec98d12e>:152: UserWarning: To copy construct from a tensor, it is recommended to use sourceTensor.clone().detach() or sourceTensor.clone().detach().requires_grad_(True), rather than torch.tensor(sourceTensor).\n",
            "  X_scaled_tensor = torch.tensor(combined_X, dtype=torch.float32).unsqueeze(1)\n"
          ]
        },
        {
          "output_type": "stream",
          "name": "stdout",
          "text": [
            "     Epoch 5: Train Loss = 0.7301, Val Loss = 12.0010\n",
            "     Epoch 10: Train Loss = 0.7236, Val Loss = 13.3595\n",
            "     Epoch 15: Train Loss = 0.7177, Val Loss = 13.4971\n",
            "     Epoch 20: Train Loss = 0.7259, Val Loss = 13.3533\n",
            "    ⏹️ Early stopping at epoch 20\n",
            " Run 1 finished with best val loss: 7.4282\n",
            "Original Error Percentage (Test Dataset): 4.0399%\n",
            "Corrected Error Percentage (Test Dataset): 3.7249%\n",
            "   Run 2/5 ...      Epoch 0: Train Loss = 0.8416, Val Loss = 7.2463\n"
          ]
        },
        {
          "output_type": "stream",
          "name": "stderr",
          "text": [
            "<ipython-input-438-ab28ec98d12e>:152: UserWarning: To copy construct from a tensor, it is recommended to use sourceTensor.clone().detach() or sourceTensor.clone().detach().requires_grad_(True), rather than torch.tensor(sourceTensor).\n",
            "  X_scaled_tensor = torch.tensor(combined_X, dtype=torch.float32).unsqueeze(1)\n"
          ]
        },
        {
          "output_type": "stream",
          "name": "stdout",
          "text": [
            "     Epoch 5: Train Loss = 0.7319, Val Loss = 13.4190\n",
            "     Epoch 10: Train Loss = 0.7205, Val Loss = 13.4726\n",
            "     Epoch 15: Train Loss = 0.7203, Val Loss = 13.6762\n",
            "     Epoch 20: Train Loss = 0.7106, Val Loss = 13.5616\n",
            "    ⏹️ Early stopping at epoch 20\n",
            " Run 2 finished with best val loss: 7.2463\n",
            "Original Error Percentage (Test Dataset): 4.0399%\n",
            "Corrected Error Percentage (Test Dataset): 3.6975%\n",
            "   Run 3/5 ...      Epoch 0: Train Loss = 0.8216, Val Loss = 7.6344\n"
          ]
        },
        {
          "output_type": "stream",
          "name": "stderr",
          "text": [
            "<ipython-input-438-ab28ec98d12e>:152: UserWarning: To copy construct from a tensor, it is recommended to use sourceTensor.clone().detach() or sourceTensor.clone().detach().requires_grad_(True), rather than torch.tensor(sourceTensor).\n",
            "  X_scaled_tensor = torch.tensor(combined_X, dtype=torch.float32).unsqueeze(1)\n"
          ]
        },
        {
          "output_type": "stream",
          "name": "stdout",
          "text": [
            "     Epoch 5: Train Loss = 0.7362, Val Loss = 12.6909\n",
            "     Epoch 10: Train Loss = 0.7337, Val Loss = 13.2296\n",
            "     Epoch 15: Train Loss = 0.7230, Val Loss = 13.3312\n",
            "     Epoch 20: Train Loss = 0.7298, Val Loss = 13.2693\n",
            "    ⏹️ Early stopping at epoch 20\n",
            " Run 3 finished with best val loss: 7.6344\n",
            "Original Error Percentage (Test Dataset): 4.0399%\n",
            "Corrected Error Percentage (Test Dataset): 3.6950%\n",
            "   Run 4/5 ...      Epoch 0: Train Loss = 0.8467, Val Loss = 7.2985\n"
          ]
        },
        {
          "output_type": "stream",
          "name": "stderr",
          "text": [
            "<ipython-input-438-ab28ec98d12e>:152: UserWarning: To copy construct from a tensor, it is recommended to use sourceTensor.clone().detach() or sourceTensor.clone().detach().requires_grad_(True), rather than torch.tensor(sourceTensor).\n",
            "  X_scaled_tensor = torch.tensor(combined_X, dtype=torch.float32).unsqueeze(1)\n"
          ]
        },
        {
          "output_type": "stream",
          "name": "stdout",
          "text": [
            "     Epoch 5: Train Loss = 0.7344, Val Loss = 12.7173\n",
            "     Epoch 10: Train Loss = 0.7243, Val Loss = 13.9358\n",
            "     Epoch 15: Train Loss = 0.7234, Val Loss = 13.3856\n",
            "     Epoch 20: Train Loss = 0.7154, Val Loss = 13.5831\n",
            "    ⏹️ Early stopping at epoch 20\n",
            " Run 4 finished with best val loss: 7.2985\n",
            "Original Error Percentage (Test Dataset): 4.0399%\n",
            "Corrected Error Percentage (Test Dataset): 3.7657%\n",
            "   Run 5/5 ...      Epoch 0: Train Loss = 0.9120, Val Loss = 6.6106\n"
          ]
        },
        {
          "output_type": "stream",
          "name": "stderr",
          "text": [
            "<ipython-input-438-ab28ec98d12e>:152: UserWarning: To copy construct from a tensor, it is recommended to use sourceTensor.clone().detach() or sourceTensor.clone().detach().requires_grad_(True), rather than torch.tensor(sourceTensor).\n",
            "  X_scaled_tensor = torch.tensor(combined_X, dtype=torch.float32).unsqueeze(1)\n"
          ]
        },
        {
          "output_type": "stream",
          "name": "stdout",
          "text": [
            "     Epoch 5: Train Loss = 0.7338, Val Loss = 12.6419\n",
            "     Epoch 10: Train Loss = 0.7360, Val Loss = 14.6659\n",
            "     Epoch 15: Train Loss = 0.7209, Val Loss = 14.9406\n",
            "     Epoch 20: Train Loss = 0.7210, Val Loss = 14.9596\n",
            "    ⏹️ Early stopping at epoch 20\n",
            " Run 5 finished with best val loss: 6.6106\n",
            "Original Error Percentage (Test Dataset): 4.0399%\n",
            "Corrected Error Percentage (Test Dataset): 4.1556%\n",
            " Finished configuration H=64, D=0.1, LR=0.0001, B=16 → Avg Val Loss: 7.2436, Avg Accuracy: 3.8077%\n",
            "\n",
            " Running 39/81: H=64, D=0.1, LR=0.0001, B=32\n",
            "   Run 1/5 ...      Epoch 0: Train Loss = 0.8741, Val Loss = 7.3764\n"
          ]
        },
        {
          "output_type": "stream",
          "name": "stderr",
          "text": [
            "<ipython-input-438-ab28ec98d12e>:152: UserWarning: To copy construct from a tensor, it is recommended to use sourceTensor.clone().detach() or sourceTensor.clone().detach().requires_grad_(True), rather than torch.tensor(sourceTensor).\n",
            "  X_scaled_tensor = torch.tensor(combined_X, dtype=torch.float32).unsqueeze(1)\n"
          ]
        },
        {
          "output_type": "stream",
          "name": "stdout",
          "text": [
            "     Epoch 5: Train Loss = 0.7335, Val Loss = 12.6599\n",
            "     Epoch 10: Train Loss = 0.7283, Val Loss = 14.4758\n",
            "     Epoch 15: Train Loss = 0.7188, Val Loss = 14.8172\n",
            "     Epoch 20: Train Loss = 0.7278, Val Loss = 14.3258\n",
            "    ⏹️ Early stopping at epoch 20\n",
            " Run 1 finished with best val loss: 7.3764\n",
            "Original Error Percentage (Test Dataset): 4.0399%\n",
            "Corrected Error Percentage (Test Dataset): 3.9273%\n",
            "   Run 2/5 ...      Epoch 0: Train Loss = 0.8213, Val Loss = 7.1998\n"
          ]
        },
        {
          "output_type": "stream",
          "name": "stderr",
          "text": [
            "<ipython-input-438-ab28ec98d12e>:152: UserWarning: To copy construct from a tensor, it is recommended to use sourceTensor.clone().detach() or sourceTensor.clone().detach().requires_grad_(True), rather than torch.tensor(sourceTensor).\n",
            "  X_scaled_tensor = torch.tensor(combined_X, dtype=torch.float32).unsqueeze(1)\n"
          ]
        },
        {
          "output_type": "stream",
          "name": "stdout",
          "text": [
            "     Epoch 5: Train Loss = 0.7419, Val Loss = 10.4456\n",
            "     Epoch 10: Train Loss = 0.7249, Val Loss = 12.8896\n",
            "     Epoch 15: Train Loss = 0.7172, Val Loss = 13.6035\n",
            "     Epoch 20: Train Loss = 0.7218, Val Loss = 13.4450\n",
            "    ⏹️ Early stopping at epoch 20\n",
            " Run 2 finished with best val loss: 7.1998\n",
            "Original Error Percentage (Test Dataset): 4.0399%\n",
            "Corrected Error Percentage (Test Dataset): 3.6956%\n",
            "   Run 3/5 ...      Epoch 0: Train Loss = 0.8294, Val Loss = 7.8195\n"
          ]
        },
        {
          "output_type": "stream",
          "name": "stderr",
          "text": [
            "<ipython-input-438-ab28ec98d12e>:152: UserWarning: To copy construct from a tensor, it is recommended to use sourceTensor.clone().detach() or sourceTensor.clone().detach().requires_grad_(True), rather than torch.tensor(sourceTensor).\n",
            "  X_scaled_tensor = torch.tensor(combined_X, dtype=torch.float32).unsqueeze(1)\n"
          ]
        },
        {
          "output_type": "stream",
          "name": "stdout",
          "text": [
            "     Epoch 5: Train Loss = 0.7328, Val Loss = 12.9321\n",
            "     Epoch 10: Train Loss = 0.7215, Val Loss = 15.0583\n",
            "     Epoch 15: Train Loss = 0.7306, Val Loss = 14.9521\n",
            "     Epoch 20: Train Loss = 0.7271, Val Loss = 15.1541\n",
            "    ⏹️ Early stopping at epoch 20\n",
            " Run 3 finished with best val loss: 7.8195\n",
            "Original Error Percentage (Test Dataset): 4.0399%\n",
            "Corrected Error Percentage (Test Dataset): 4.1789%\n",
            "   Run 4/5 ...      Epoch 0: Train Loss = 0.8117, Val Loss = 7.0364\n"
          ]
        },
        {
          "output_type": "stream",
          "name": "stderr",
          "text": [
            "<ipython-input-438-ab28ec98d12e>:152: UserWarning: To copy construct from a tensor, it is recommended to use sourceTensor.clone().detach() or sourceTensor.clone().detach().requires_grad_(True), rather than torch.tensor(sourceTensor).\n",
            "  X_scaled_tensor = torch.tensor(combined_X, dtype=torch.float32).unsqueeze(1)\n"
          ]
        },
        {
          "output_type": "stream",
          "name": "stdout",
          "text": [
            "     Epoch 5: Train Loss = 0.7329, Val Loss = 11.2295\n",
            "     Epoch 10: Train Loss = 0.7282, Val Loss = 13.1359\n",
            "     Epoch 15: Train Loss = 0.7231, Val Loss = 13.1135\n",
            "     Epoch 20: Train Loss = 0.7283, Val Loss = 13.4782\n",
            "    ⏹️ Early stopping at epoch 20\n",
            " Run 4 finished with best val loss: 7.0364\n",
            "Original Error Percentage (Test Dataset): 4.0399%\n",
            "Corrected Error Percentage (Test Dataset): 3.6732%\n",
            "   Run 5/5 ...      Epoch 0: Train Loss = 0.7563, Val Loss = 9.1028\n"
          ]
        },
        {
          "output_type": "stream",
          "name": "stderr",
          "text": [
            "<ipython-input-438-ab28ec98d12e>:152: UserWarning: To copy construct from a tensor, it is recommended to use sourceTensor.clone().detach() or sourceTensor.clone().detach().requires_grad_(True), rather than torch.tensor(sourceTensor).\n",
            "  X_scaled_tensor = torch.tensor(combined_X, dtype=torch.float32).unsqueeze(1)\n"
          ]
        },
        {
          "output_type": "stream",
          "name": "stdout",
          "text": [
            "     Epoch 5: Train Loss = 0.7307, Val Loss = 11.6087\n",
            "     Epoch 10: Train Loss = 0.7248, Val Loss = 12.9024\n",
            "     Epoch 15: Train Loss = 0.7176, Val Loss = 13.0236\n",
            "     Epoch 20: Train Loss = 0.7252, Val Loss = 13.1003\n",
            "    ⏹️ Early stopping at epoch 20\n",
            " Run 5 finished with best val loss: 9.1028\n",
            "Original Error Percentage (Test Dataset): 4.0399%\n",
            "Corrected Error Percentage (Test Dataset): 3.5930%\n",
            " Finished configuration H=64, D=0.1, LR=0.0001, B=32 → Avg Val Loss: 7.7070, Avg Accuracy: 3.8136%\n",
            "\n",
            " Running 40/81: H=64, D=0.1, LR=0.0005, B=8\n",
            "   Run 1/5 ... "
          ]
        },
        {
          "output_type": "stream",
          "name": "stderr",
          "text": [
            "<ipython-input-438-ab28ec98d12e>:152: UserWarning: To copy construct from a tensor, it is recommended to use sourceTensor.clone().detach() or sourceTensor.clone().detach().requires_grad_(True), rather than torch.tensor(sourceTensor).\n",
            "  X_scaled_tensor = torch.tensor(combined_X, dtype=torch.float32).unsqueeze(1)\n"
          ]
        },
        {
          "output_type": "stream",
          "name": "stdout",
          "text": [
            "     Epoch 0: Train Loss = 0.7479, Val Loss = 18.5239\n",
            "     Epoch 5: Train Loss = 0.7172, Val Loss = 13.2740\n",
            "     Epoch 10: Train Loss = 0.7249, Val Loss = 12.2924\n",
            "     Epoch 15: Train Loss = 0.7195, Val Loss = 14.8598\n",
            "     Epoch 20: Train Loss = 0.7272, Val Loss = 13.2042\n",
            "    ⏹️ Early stopping at epoch 21\n",
            " Run 1 finished with best val loss: 10.4546\n",
            "Original Error Percentage (Test Dataset): 4.0399%\n",
            "Corrected Error Percentage (Test Dataset): 4.0315%\n",
            "   Run 2/5 ... "
          ]
        },
        {
          "output_type": "stream",
          "name": "stderr",
          "text": [
            "<ipython-input-438-ab28ec98d12e>:152: UserWarning: To copy construct from a tensor, it is recommended to use sourceTensor.clone().detach() or sourceTensor.clone().detach().requires_grad_(True), rather than torch.tensor(sourceTensor).\n",
            "  X_scaled_tensor = torch.tensor(combined_X, dtype=torch.float32).unsqueeze(1)\n"
          ]
        },
        {
          "output_type": "stream",
          "name": "stdout",
          "text": [
            "     Epoch 0: Train Loss = 0.7866, Val Loss = 12.2045\n",
            "     Epoch 5: Train Loss = 0.7336, Val Loss = 14.7065\n",
            "     Epoch 10: Train Loss = 0.7244, Val Loss = 13.5411\n",
            "     Epoch 15: Train Loss = 0.7225, Val Loss = 15.4341\n",
            "     Epoch 20: Train Loss = 0.7227, Val Loss = 14.7624\n",
            "    ⏹️ Early stopping at epoch 20\n",
            " Run 2 finished with best val loss: 12.2045\n",
            "Original Error Percentage (Test Dataset): 4.0399%\n",
            "Corrected Error Percentage (Test Dataset): 4.1167%\n",
            "   Run 3/5 ... "
          ]
        },
        {
          "output_type": "stream",
          "name": "stderr",
          "text": [
            "<ipython-input-438-ab28ec98d12e>:152: UserWarning: To copy construct from a tensor, it is recommended to use sourceTensor.clone().detach() or sourceTensor.clone().detach().requires_grad_(True), rather than torch.tensor(sourceTensor).\n",
            "  X_scaled_tensor = torch.tensor(combined_X, dtype=torch.float32).unsqueeze(1)\n"
          ]
        },
        {
          "output_type": "stream",
          "name": "stdout",
          "text": [
            "     Epoch 0: Train Loss = 0.7682, Val Loss = 14.3956\n",
            "     Epoch 5: Train Loss = 0.7192, Val Loss = 13.3635\n",
            "     Epoch 10: Train Loss = 0.7249, Val Loss = 13.6608\n",
            "     Epoch 15: Train Loss = 0.7195, Val Loss = 13.2785\n",
            "     Epoch 20: Train Loss = 0.7235, Val Loss = 11.1466\n",
            "     Epoch 25: Train Loss = 0.7193, Val Loss = 14.7477\n",
            "     Epoch 30: Train Loss = 0.7136, Val Loss = 13.3165\n",
            "     Epoch 35: Train Loss = 0.7211, Val Loss = 16.0519\n",
            "     Epoch 40: Train Loss = 0.7195, Val Loss = 13.4406\n",
            "    ⏹️ Early stopping at epoch 40\n",
            " Run 3 finished with best val loss: 11.1466\n",
            "Original Error Percentage (Test Dataset): 4.0399%\n",
            "Corrected Error Percentage (Test Dataset): 3.7753%\n",
            "   Run 4/5 ... "
          ]
        },
        {
          "output_type": "stream",
          "name": "stderr",
          "text": [
            "<ipython-input-438-ab28ec98d12e>:152: UserWarning: To copy construct from a tensor, it is recommended to use sourceTensor.clone().detach() or sourceTensor.clone().detach().requires_grad_(True), rather than torch.tensor(sourceTensor).\n",
            "  X_scaled_tensor = torch.tensor(combined_X, dtype=torch.float32).unsqueeze(1)\n"
          ]
        },
        {
          "output_type": "stream",
          "name": "stdout",
          "text": [
            "     Epoch 0: Train Loss = 0.7612, Val Loss = 12.2235\n",
            "     Epoch 5: Train Loss = 0.7256, Val Loss = 11.2124\n",
            "     Epoch 10: Train Loss = 0.7255, Val Loss = 12.7135\n",
            "     Epoch 15: Train Loss = 0.7217, Val Loss = 14.1311\n",
            "     Epoch 20: Train Loss = 0.7217, Val Loss = 14.1107\n",
            "    ⏹️ Early stopping at epoch 21\n",
            " Run 4 finished with best val loss: 10.7784\n",
            "Original Error Percentage (Test Dataset): 4.0399%\n",
            "Corrected Error Percentage (Test Dataset): 4.1251%\n",
            "   Run 5/5 ... "
          ]
        },
        {
          "output_type": "stream",
          "name": "stderr",
          "text": [
            "<ipython-input-438-ab28ec98d12e>:152: UserWarning: To copy construct from a tensor, it is recommended to use sourceTensor.clone().detach() or sourceTensor.clone().detach().requires_grad_(True), rather than torch.tensor(sourceTensor).\n",
            "  X_scaled_tensor = torch.tensor(combined_X, dtype=torch.float32).unsqueeze(1)\n"
          ]
        },
        {
          "output_type": "stream",
          "name": "stdout",
          "text": [
            "     Epoch 0: Train Loss = 0.7530, Val Loss = 15.4305\n",
            "     Epoch 5: Train Loss = 0.7212, Val Loss = 13.7727\n",
            "     Epoch 10: Train Loss = 0.7262, Val Loss = 13.7525\n",
            "     Epoch 15: Train Loss = 0.7109, Val Loss = 16.6186\n",
            "     Epoch 20: Train Loss = 0.7204, Val Loss = 16.7949\n",
            "     Epoch 25: Train Loss = 0.7144, Val Loss = 16.1505\n",
            "    ⏹️ Early stopping at epoch 26\n",
            " Run 5 finished with best val loss: 11.6227\n",
            "Original Error Percentage (Test Dataset): 4.0399%\n",
            "Corrected Error Percentage (Test Dataset): 5.3933%\n",
            " Finished configuration H=64, D=0.1, LR=0.0005, B=8 → Avg Val Loss: 11.2414, Avg Accuracy: 4.2884%\n",
            "\n",
            " Running 41/81: H=64, D=0.1, LR=0.0005, B=16\n",
            "   Run 1/5 ...      Epoch 0: Train Loss = 0.7598, Val Loss = 12.3616\n"
          ]
        },
        {
          "output_type": "stream",
          "name": "stderr",
          "text": [
            "<ipython-input-438-ab28ec98d12e>:152: UserWarning: To copy construct from a tensor, it is recommended to use sourceTensor.clone().detach() or sourceTensor.clone().detach().requires_grad_(True), rather than torch.tensor(sourceTensor).\n",
            "  X_scaled_tensor = torch.tensor(combined_X, dtype=torch.float32).unsqueeze(1)\n"
          ]
        },
        {
          "output_type": "stream",
          "name": "stdout",
          "text": [
            "     Epoch 5: Train Loss = 0.7190, Val Loss = 14.6351\n",
            "     Epoch 10: Train Loss = 0.7222, Val Loss = 15.2152\n",
            "     Epoch 15: Train Loss = 0.7116, Val Loss = 13.8515\n",
            "     Epoch 20: Train Loss = 0.7188, Val Loss = 14.9832\n",
            "    ⏹️ Early stopping at epoch 20\n",
            " Run 1 finished with best val loss: 12.3616\n",
            "Original Error Percentage (Test Dataset): 4.0399%\n",
            "Corrected Error Percentage (Test Dataset): 4.1523%\n",
            "   Run 2/5 ...      Epoch 0: Train Loss = 0.7566, Val Loss = 12.2794\n"
          ]
        },
        {
          "output_type": "stream",
          "name": "stderr",
          "text": [
            "<ipython-input-438-ab28ec98d12e>:152: UserWarning: To copy construct from a tensor, it is recommended to use sourceTensor.clone().detach() or sourceTensor.clone().detach().requires_grad_(True), rather than torch.tensor(sourceTensor).\n",
            "  X_scaled_tensor = torch.tensor(combined_X, dtype=torch.float32).unsqueeze(1)\n"
          ]
        },
        {
          "output_type": "stream",
          "name": "stdout",
          "text": [
            "     Epoch 5: Train Loss = 0.7264, Val Loss = 13.8252\n",
            "     Epoch 10: Train Loss = 0.7217, Val Loss = 15.4277\n",
            "     Epoch 15: Train Loss = 0.7222, Val Loss = 14.7651\n",
            "     Epoch 20: Train Loss = 0.7227, Val Loss = 15.5090\n",
            "    ⏹️ Early stopping at epoch 22\n",
            " Run 2 finished with best val loss: 11.6117\n",
            "Original Error Percentage (Test Dataset): 4.0399%\n",
            "Corrected Error Percentage (Test Dataset): 4.0450%\n",
            "   Run 3/5 ...      Epoch 0: Train Loss = 0.7460, Val Loss = 14.4917\n"
          ]
        },
        {
          "output_type": "stream",
          "name": "stderr",
          "text": [
            "<ipython-input-438-ab28ec98d12e>:152: UserWarning: To copy construct from a tensor, it is recommended to use sourceTensor.clone().detach() or sourceTensor.clone().detach().requires_grad_(True), rather than torch.tensor(sourceTensor).\n",
            "  X_scaled_tensor = torch.tensor(combined_X, dtype=torch.float32).unsqueeze(1)\n"
          ]
        },
        {
          "output_type": "stream",
          "name": "stdout",
          "text": [
            "     Epoch 5: Train Loss = 0.7285, Val Loss = 13.9964\n",
            "     Epoch 10: Train Loss = 0.7325, Val Loss = 12.6429\n",
            "     Epoch 15: Train Loss = 0.7205, Val Loss = 13.6213\n",
            "     Epoch 20: Train Loss = 0.7159, Val Loss = 14.7264\n",
            "     Epoch 25: Train Loss = 0.7196, Val Loss = 14.0272\n",
            "     Epoch 30: Train Loss = 0.7234, Val Loss = 14.0736\n",
            "    ⏹️ Early stopping at epoch 31\n",
            " Run 3 finished with best val loss: 12.1557\n",
            "Original Error Percentage (Test Dataset): 4.0399%\n",
            "Corrected Error Percentage (Test Dataset): 3.7984%\n",
            "   Run 4/5 ... "
          ]
        },
        {
          "output_type": "stream",
          "name": "stderr",
          "text": [
            "<ipython-input-438-ab28ec98d12e>:152: UserWarning: To copy construct from a tensor, it is recommended to use sourceTensor.clone().detach() or sourceTensor.clone().detach().requires_grad_(True), rather than torch.tensor(sourceTensor).\n",
            "  X_scaled_tensor = torch.tensor(combined_X, dtype=torch.float32).unsqueeze(1)\n"
          ]
        },
        {
          "output_type": "stream",
          "name": "stdout",
          "text": [
            "     Epoch 0: Train Loss = 0.7874, Val Loss = 14.0264\n",
            "     Epoch 5: Train Loss = 0.7298, Val Loss = 14.7968\n",
            "     Epoch 10: Train Loss = 0.7206, Val Loss = 16.0297\n",
            "     Epoch 15: Train Loss = 0.7226, Val Loss = 16.7339\n",
            "     Epoch 20: Train Loss = 0.7169, Val Loss = 18.5477\n",
            "    ⏹️ Early stopping at epoch 23\n",
            " Run 4 finished with best val loss: 12.1789\n",
            "Original Error Percentage (Test Dataset): 4.0399%\n",
            "Corrected Error Percentage (Test Dataset): 5.3238%\n",
            "   Run 5/5 ...      Epoch 0: Train Loss = 0.7647, Val Loss = 12.7638\n"
          ]
        },
        {
          "output_type": "stream",
          "name": "stderr",
          "text": [
            "<ipython-input-438-ab28ec98d12e>:152: UserWarning: To copy construct from a tensor, it is recommended to use sourceTensor.clone().detach() or sourceTensor.clone().detach().requires_grad_(True), rather than torch.tensor(sourceTensor).\n",
            "  X_scaled_tensor = torch.tensor(combined_X, dtype=torch.float32).unsqueeze(1)\n"
          ]
        },
        {
          "output_type": "stream",
          "name": "stdout",
          "text": [
            "     Epoch 5: Train Loss = 0.7252, Val Loss = 12.5074\n",
            "     Epoch 10: Train Loss = 0.7271, Val Loss = 15.1444\n",
            "     Epoch 15: Train Loss = 0.7160, Val Loss = 14.0486\n",
            "     Epoch 20: Train Loss = 0.7243, Val Loss = 13.0101\n",
            "     Epoch 25: Train Loss = 0.7169, Val Loss = 14.1232\n",
            "    ⏹️ Early stopping at epoch 25\n",
            " Run 5 finished with best val loss: 12.5074\n",
            "Original Error Percentage (Test Dataset): 4.0399%\n",
            "Corrected Error Percentage (Test Dataset): 3.9200%\n",
            " Finished configuration H=64, D=0.1, LR=0.0005, B=16 → Avg Val Loss: 12.1630, Avg Accuracy: 4.2479%\n",
            "\n",
            " Running 42/81: H=64, D=0.1, LR=0.0005, B=32\n",
            "   Run 1/5 ...      Epoch 0: Train Loss = 0.7672, Val Loss = 12.1526\n"
          ]
        },
        {
          "output_type": "stream",
          "name": "stderr",
          "text": [
            "<ipython-input-438-ab28ec98d12e>:152: UserWarning: To copy construct from a tensor, it is recommended to use sourceTensor.clone().detach() or sourceTensor.clone().detach().requires_grad_(True), rather than torch.tensor(sourceTensor).\n",
            "  X_scaled_tensor = torch.tensor(combined_X, dtype=torch.float32).unsqueeze(1)\n"
          ]
        },
        {
          "output_type": "stream",
          "name": "stdout",
          "text": [
            "     Epoch 5: Train Loss = 0.7253, Val Loss = 12.9801\n",
            "     Epoch 10: Train Loss = 0.7198, Val Loss = 13.6531\n",
            "     Epoch 15: Train Loss = 0.7222, Val Loss = 14.7416\n",
            "     Epoch 20: Train Loss = 0.7146, Val Loss = 15.9800\n",
            "     Epoch 25: Train Loss = 0.7132, Val Loss = 16.1432\n",
            "    ⏹️ Early stopping at epoch 27\n",
            " Run 1 finished with best val loss: 12.0748\n",
            "Original Error Percentage (Test Dataset): 4.0399%\n",
            "Corrected Error Percentage (Test Dataset): 4.5290%\n",
            "   Run 2/5 ... "
          ]
        },
        {
          "output_type": "stream",
          "name": "stderr",
          "text": [
            "<ipython-input-438-ab28ec98d12e>:152: UserWarning: To copy construct from a tensor, it is recommended to use sourceTensor.clone().detach() or sourceTensor.clone().detach().requires_grad_(True), rather than torch.tensor(sourceTensor).\n",
            "  X_scaled_tensor = torch.tensor(combined_X, dtype=torch.float32).unsqueeze(1)\n"
          ]
        },
        {
          "output_type": "stream",
          "name": "stdout",
          "text": [
            "     Epoch 0: Train Loss = 0.8009, Val Loss = 12.3150\n",
            "     Epoch 5: Train Loss = 0.7256, Val Loss = 14.0271\n",
            "     Epoch 10: Train Loss = 0.7197, Val Loss = 14.9746\n",
            "     Epoch 15: Train Loss = 0.7150, Val Loss = 14.1189\n",
            "     Epoch 20: Train Loss = 0.7234, Val Loss = 13.9429\n",
            "    ⏹️ Early stopping at epoch 20\n",
            " Run 2 finished with best val loss: 12.3150\n",
            "Original Error Percentage (Test Dataset): 4.0399%\n",
            "Corrected Error Percentage (Test Dataset): 3.8806%\n",
            "   Run 3/5 ...      Epoch 0: Train Loss = 0.8094, Val Loss = 9.0512\n"
          ]
        },
        {
          "output_type": "stream",
          "name": "stderr",
          "text": [
            "<ipython-input-438-ab28ec98d12e>:152: UserWarning: To copy construct from a tensor, it is recommended to use sourceTensor.clone().detach() or sourceTensor.clone().detach().requires_grad_(True), rather than torch.tensor(sourceTensor).\n",
            "  X_scaled_tensor = torch.tensor(combined_X, dtype=torch.float32).unsqueeze(1)\n"
          ]
        },
        {
          "output_type": "stream",
          "name": "stdout",
          "text": [
            "     Epoch 5: Train Loss = 0.7164, Val Loss = 14.2578\n",
            "     Epoch 10: Train Loss = 0.7187, Val Loss = 15.2757\n",
            "     Epoch 15: Train Loss = 0.7177, Val Loss = 13.6979\n",
            "     Epoch 20: Train Loss = 0.7258, Val Loss = 14.9851\n",
            "    ⏹️ Early stopping at epoch 20\n",
            " Run 3 finished with best val loss: 9.0512\n",
            "Original Error Percentage (Test Dataset): 4.0399%\n",
            "Corrected Error Percentage (Test Dataset): 4.1885%\n",
            "   Run 4/5 ...      Epoch 0: Train Loss = 0.7857, Val Loss = 10.1529\n"
          ]
        },
        {
          "output_type": "stream",
          "name": "stderr",
          "text": [
            "<ipython-input-438-ab28ec98d12e>:152: UserWarning: To copy construct from a tensor, it is recommended to use sourceTensor.clone().detach() or sourceTensor.clone().detach().requires_grad_(True), rather than torch.tensor(sourceTensor).\n",
            "  X_scaled_tensor = torch.tensor(combined_X, dtype=torch.float32).unsqueeze(1)\n"
          ]
        },
        {
          "output_type": "stream",
          "name": "stdout",
          "text": [
            "     Epoch 5: Train Loss = 0.7191, Val Loss = 12.2236\n",
            "     Epoch 10: Train Loss = 0.7262, Val Loss = 11.9169\n",
            "     Epoch 15: Train Loss = 0.7230, Val Loss = 12.4661\n",
            "     Epoch 20: Train Loss = 0.7213, Val Loss = 13.4950\n",
            "    ⏹️ Early stopping at epoch 20\n",
            " Run 4 finished with best val loss: 10.1529\n",
            "Original Error Percentage (Test Dataset): 4.0399%\n",
            "Corrected Error Percentage (Test Dataset): 3.7535%\n",
            "   Run 5/5 ...      Epoch 0: Train Loss = 0.7978, Val Loss = 10.6495\n"
          ]
        },
        {
          "output_type": "stream",
          "name": "stderr",
          "text": [
            "<ipython-input-438-ab28ec98d12e>:152: UserWarning: To copy construct from a tensor, it is recommended to use sourceTensor.clone().detach() or sourceTensor.clone().detach().requires_grad_(True), rather than torch.tensor(sourceTensor).\n",
            "  X_scaled_tensor = torch.tensor(combined_X, dtype=torch.float32).unsqueeze(1)\n"
          ]
        },
        {
          "output_type": "stream",
          "name": "stdout",
          "text": [
            "     Epoch 5: Train Loss = 0.7207, Val Loss = 13.7537\n",
            "     Epoch 10: Train Loss = 0.7248, Val Loss = 15.2501\n",
            "     Epoch 15: Train Loss = 0.7235, Val Loss = 15.9832\n",
            "     Epoch 20: Train Loss = 0.7229, Val Loss = 15.7489\n",
            "    ⏹️ Early stopping at epoch 20\n",
            " Run 5 finished with best val loss: 10.6495\n",
            "Original Error Percentage (Test Dataset): 4.0399%\n",
            "Corrected Error Percentage (Test Dataset): 4.4565%\n",
            " Finished configuration H=64, D=0.1, LR=0.0005, B=32 → Avg Val Loss: 10.8487, Avg Accuracy: 4.1616%\n",
            "\n",
            " Running 43/81: H=64, D=0.1, LR=0.001, B=8\n",
            "   Run 1/5 ... "
          ]
        },
        {
          "output_type": "stream",
          "name": "stderr",
          "text": [
            "<ipython-input-438-ab28ec98d12e>:152: UserWarning: To copy construct from a tensor, it is recommended to use sourceTensor.clone().detach() or sourceTensor.clone().detach().requires_grad_(True), rather than torch.tensor(sourceTensor).\n",
            "  X_scaled_tensor = torch.tensor(combined_X, dtype=torch.float32).unsqueeze(1)\n"
          ]
        },
        {
          "output_type": "stream",
          "name": "stdout",
          "text": [
            "     Epoch 0: Train Loss = 0.7423, Val Loss = 11.5686\n",
            "     Epoch 5: Train Loss = 0.7223, Val Loss = 12.9613\n",
            "     Epoch 10: Train Loss = 0.7233, Val Loss = 13.1642\n",
            "     Epoch 15: Train Loss = 0.7181, Val Loss = 14.3099\n",
            "     Epoch 20: Train Loss = 0.7139, Val Loss = 16.2332\n",
            "    ⏹️ Early stopping at epoch 21\n",
            " Run 1 finished with best val loss: 10.4029\n",
            "Original Error Percentage (Test Dataset): 4.0399%\n",
            "Corrected Error Percentage (Test Dataset): 4.1942%\n",
            "   Run 2/5 ... "
          ]
        },
        {
          "output_type": "stream",
          "name": "stderr",
          "text": [
            "<ipython-input-438-ab28ec98d12e>:152: UserWarning: To copy construct from a tensor, it is recommended to use sourceTensor.clone().detach() or sourceTensor.clone().detach().requires_grad_(True), rather than torch.tensor(sourceTensor).\n",
            "  X_scaled_tensor = torch.tensor(combined_X, dtype=torch.float32).unsqueeze(1)\n"
          ]
        },
        {
          "output_type": "stream",
          "name": "stdout",
          "text": [
            "     Epoch 0: Train Loss = 0.7572, Val Loss = 17.4456\n",
            "     Epoch 5: Train Loss = 0.7226, Val Loss = 11.6524\n",
            "     Epoch 10: Train Loss = 0.7249, Val Loss = 14.6571\n",
            "     Epoch 15: Train Loss = 0.7209, Val Loss = 14.9067\n",
            "     Epoch 20: Train Loss = 0.7210, Val Loss = 14.3184\n",
            "     Epoch 25: Train Loss = 0.7222, Val Loss = 14.6946\n",
            "    ⏹️ Early stopping at epoch 29\n",
            " Run 2 finished with best val loss: 10.8471\n",
            "Original Error Percentage (Test Dataset): 4.0399%\n",
            "Corrected Error Percentage (Test Dataset): 3.5030%\n",
            "   Run 3/5 ... "
          ]
        },
        {
          "output_type": "stream",
          "name": "stderr",
          "text": [
            "<ipython-input-438-ab28ec98d12e>:152: UserWarning: To copy construct from a tensor, it is recommended to use sourceTensor.clone().detach() or sourceTensor.clone().detach().requires_grad_(True), rather than torch.tensor(sourceTensor).\n",
            "  X_scaled_tensor = torch.tensor(combined_X, dtype=torch.float32).unsqueeze(1)\n"
          ]
        },
        {
          "output_type": "stream",
          "name": "stdout",
          "text": [
            "     Epoch 0: Train Loss = 0.7294, Val Loss = 17.4905\n",
            "     Epoch 5: Train Loss = 0.7215, Val Loss = 13.0007\n",
            "     Epoch 10: Train Loss = 0.7284, Val Loss = 12.8596\n",
            "     Epoch 15: Train Loss = 0.7266, Val Loss = 17.7585\n",
            "     Epoch 20: Train Loss = 0.7212, Val Loss = 17.2686\n",
            "     Epoch 25: Train Loss = 0.7223, Val Loss = 14.2493\n",
            "    ⏹️ Early stopping at epoch 27\n",
            " Run 3 finished with best val loss: 11.2139\n",
            "Original Error Percentage (Test Dataset): 4.0399%\n",
            "Corrected Error Percentage (Test Dataset): 4.1662%\n",
            "   Run 4/5 ... "
          ]
        },
        {
          "output_type": "stream",
          "name": "stderr",
          "text": [
            "<ipython-input-438-ab28ec98d12e>:152: UserWarning: To copy construct from a tensor, it is recommended to use sourceTensor.clone().detach() or sourceTensor.clone().detach().requires_grad_(True), rather than torch.tensor(sourceTensor).\n",
            "  X_scaled_tensor = torch.tensor(combined_X, dtype=torch.float32).unsqueeze(1)\n"
          ]
        },
        {
          "output_type": "stream",
          "name": "stdout",
          "text": [
            "     Epoch 0: Train Loss = 0.7502, Val Loss = 10.9782\n",
            "     Epoch 5: Train Loss = 0.7269, Val Loss = 13.4857\n",
            "     Epoch 10: Train Loss = 0.7267, Val Loss = 11.8779\n",
            "     Epoch 15: Train Loss = 0.7263, Val Loss = 12.1236\n",
            "     Epoch 20: Train Loss = 0.7213, Val Loss = 16.8831\n",
            "    ⏹️ Early stopping at epoch 20\n",
            " Run 4 finished with best val loss: 10.9782\n",
            "Original Error Percentage (Test Dataset): 4.0399%\n",
            "Corrected Error Percentage (Test Dataset): 4.5801%\n",
            "   Run 5/5 ... "
          ]
        },
        {
          "output_type": "stream",
          "name": "stderr",
          "text": [
            "<ipython-input-438-ab28ec98d12e>:152: UserWarning: To copy construct from a tensor, it is recommended to use sourceTensor.clone().detach() or sourceTensor.clone().detach().requires_grad_(True), rather than torch.tensor(sourceTensor).\n",
            "  X_scaled_tensor = torch.tensor(combined_X, dtype=torch.float32).unsqueeze(1)\n"
          ]
        },
        {
          "output_type": "stream",
          "name": "stdout",
          "text": [
            "     Epoch 0: Train Loss = 0.7336, Val Loss = 17.5905\n",
            "     Epoch 5: Train Loss = 0.7196, Val Loss = 18.7150\n",
            "     Epoch 10: Train Loss = 0.7211, Val Loss = 17.7853\n",
            "     Epoch 15: Train Loss = 0.7162, Val Loss = 16.1110\n",
            "     Epoch 20: Train Loss = 0.7148, Val Loss = 19.9139\n",
            "     Epoch 25: Train Loss = 0.7144, Val Loss = 20.6160\n",
            "     Epoch 30: Train Loss = 0.7209, Val Loss = 16.9237\n",
            "    ⏹️ Early stopping at epoch 34\n",
            " Run 5 finished with best val loss: 13.0127\n",
            "Original Error Percentage (Test Dataset): 4.0399%\n",
            "Corrected Error Percentage (Test Dataset): 5.0348%\n",
            " Finished configuration H=64, D=0.1, LR=0.001, B=8 → Avg Val Loss: 11.2909, Avg Accuracy: 4.2957%\n",
            "\n",
            " Running 44/81: H=64, D=0.1, LR=0.001, B=16\n",
            "   Run 1/5 ...      Epoch 0: Train Loss = 0.7403, Val Loss = 13.6499\n"
          ]
        },
        {
          "output_type": "stream",
          "name": "stderr",
          "text": [
            "<ipython-input-438-ab28ec98d12e>:152: UserWarning: To copy construct from a tensor, it is recommended to use sourceTensor.clone().detach() or sourceTensor.clone().detach().requires_grad_(True), rather than torch.tensor(sourceTensor).\n",
            "  X_scaled_tensor = torch.tensor(combined_X, dtype=torch.float32).unsqueeze(1)\n"
          ]
        },
        {
          "output_type": "stream",
          "name": "stdout",
          "text": [
            "     Epoch 5: Train Loss = 0.7202, Val Loss = 14.6208\n",
            "     Epoch 10: Train Loss = 0.7262, Val Loss = 14.1252\n",
            "     Epoch 15: Train Loss = 0.7306, Val Loss = 16.6163\n",
            "     Epoch 20: Train Loss = 0.7224, Val Loss = 16.8137\n",
            "    ⏹️ Early stopping at epoch 23\n",
            " Run 1 finished with best val loss: 12.9593\n",
            "Original Error Percentage (Test Dataset): 4.0399%\n",
            "Corrected Error Percentage (Test Dataset): 6.4773%\n",
            "   Run 2/5 ...      Epoch 0: Train Loss = 0.7447, Val Loss = 11.3865\n"
          ]
        },
        {
          "output_type": "stream",
          "name": "stderr",
          "text": [
            "<ipython-input-438-ab28ec98d12e>:152: UserWarning: To copy construct from a tensor, it is recommended to use sourceTensor.clone().detach() or sourceTensor.clone().detach().requires_grad_(True), rather than torch.tensor(sourceTensor).\n",
            "  X_scaled_tensor = torch.tensor(combined_X, dtype=torch.float32).unsqueeze(1)\n"
          ]
        },
        {
          "output_type": "stream",
          "name": "stdout",
          "text": [
            "     Epoch 5: Train Loss = 0.7266, Val Loss = 12.0454\n",
            "     Epoch 10: Train Loss = 0.7302, Val Loss = 12.2716\n",
            "     Epoch 15: Train Loss = 0.7167, Val Loss = 12.0054\n",
            "     Epoch 20: Train Loss = 0.7167, Val Loss = 16.2047\n",
            "    ⏹️ Early stopping at epoch 23\n",
            " Run 2 finished with best val loss: 9.2590\n",
            "Original Error Percentage (Test Dataset): 4.0399%\n",
            "Corrected Error Percentage (Test Dataset): 3.9269%\n",
            "   Run 3/5 ...      Epoch 0: Train Loss = 0.7535, Val Loss = 13.0019\n"
          ]
        },
        {
          "output_type": "stream",
          "name": "stderr",
          "text": [
            "<ipython-input-438-ab28ec98d12e>:152: UserWarning: To copy construct from a tensor, it is recommended to use sourceTensor.clone().detach() or sourceTensor.clone().detach().requires_grad_(True), rather than torch.tensor(sourceTensor).\n",
            "  X_scaled_tensor = torch.tensor(combined_X, dtype=torch.float32).unsqueeze(1)\n"
          ]
        },
        {
          "output_type": "stream",
          "name": "stdout",
          "text": [
            "     Epoch 5: Train Loss = 0.7295, Val Loss = 18.1931\n",
            "     Epoch 10: Train Loss = 0.7195, Val Loss = 15.7862\n",
            "     Epoch 15: Train Loss = 0.7267, Val Loss = 15.4114\n",
            "     Epoch 20: Train Loss = 0.7204, Val Loss = 14.2314\n",
            "     Epoch 25: Train Loss = 0.7239, Val Loss = 15.8082\n",
            "    ⏹️ Early stopping at epoch 26\n",
            " Run 3 finished with best val loss: 11.3791\n",
            "Original Error Percentage (Test Dataset): 4.0399%\n",
            "Corrected Error Percentage (Test Dataset): 4.3569%\n",
            "   Run 4/5 ... "
          ]
        },
        {
          "output_type": "stream",
          "name": "stderr",
          "text": [
            "<ipython-input-438-ab28ec98d12e>:152: UserWarning: To copy construct from a tensor, it is recommended to use sourceTensor.clone().detach() or sourceTensor.clone().detach().requires_grad_(True), rather than torch.tensor(sourceTensor).\n",
            "  X_scaled_tensor = torch.tensor(combined_X, dtype=torch.float32).unsqueeze(1)\n"
          ]
        },
        {
          "output_type": "stream",
          "name": "stdout",
          "text": [
            "     Epoch 0: Train Loss = 0.7426, Val Loss = 13.8911\n",
            "     Epoch 5: Train Loss = 0.7265, Val Loss = 14.0140\n",
            "     Epoch 10: Train Loss = 0.7129, Val Loss = 12.2883\n",
            "     Epoch 15: Train Loss = 0.7254, Val Loss = 14.5504\n",
            "     Epoch 20: Train Loss = 0.7225, Val Loss = 13.3140\n",
            "    ⏹️ Early stopping at epoch 21\n",
            " Run 4 finished with best val loss: 10.8219\n",
            "Original Error Percentage (Test Dataset): 4.0399%\n",
            "Corrected Error Percentage (Test Dataset): 3.6831%\n",
            "   Run 5/5 ... "
          ]
        },
        {
          "output_type": "stream",
          "name": "stderr",
          "text": [
            "<ipython-input-438-ab28ec98d12e>:152: UserWarning: To copy construct from a tensor, it is recommended to use sourceTensor.clone().detach() or sourceTensor.clone().detach().requires_grad_(True), rather than torch.tensor(sourceTensor).\n",
            "  X_scaled_tensor = torch.tensor(combined_X, dtype=torch.float32).unsqueeze(1)\n"
          ]
        },
        {
          "output_type": "stream",
          "name": "stdout",
          "text": [
            "     Epoch 0: Train Loss = 0.7444, Val Loss = 11.4261\n",
            "     Epoch 5: Train Loss = 0.7224, Val Loss = 13.8778\n",
            "     Epoch 10: Train Loss = 0.7251, Val Loss = 15.0895\n",
            "     Epoch 15: Train Loss = 0.7224, Val Loss = 12.5316\n",
            "     Epoch 20: Train Loss = 0.7217, Val Loss = 14.7984\n",
            "    ⏹️ Early stopping at epoch 20\n",
            " Run 5 finished with best val loss: 11.4261\n",
            "Original Error Percentage (Test Dataset): 4.0399%\n",
            "Corrected Error Percentage (Test Dataset): 4.0725%\n",
            " Finished configuration H=64, D=0.1, LR=0.001, B=16 → Avg Val Loss: 11.1691, Avg Accuracy: 4.5033%\n",
            "\n",
            " Running 45/81: H=64, D=0.1, LR=0.001, B=32\n",
            "   Run 1/5 ...      Epoch 0: Train Loss = 0.7642, Val Loss = 16.1029\n"
          ]
        },
        {
          "output_type": "stream",
          "name": "stderr",
          "text": [
            "<ipython-input-438-ab28ec98d12e>:152: UserWarning: To copy construct from a tensor, it is recommended to use sourceTensor.clone().detach() or sourceTensor.clone().detach().requires_grad_(True), rather than torch.tensor(sourceTensor).\n",
            "  X_scaled_tensor = torch.tensor(combined_X, dtype=torch.float32).unsqueeze(1)\n"
          ]
        },
        {
          "output_type": "stream",
          "name": "stdout",
          "text": [
            "     Epoch 5: Train Loss = 0.7231, Val Loss = 14.2599\n",
            "     Epoch 10: Train Loss = 0.7329, Val Loss = 13.4270\n",
            "     Epoch 15: Train Loss = 0.7102, Val Loss = 15.2449\n",
            "     Epoch 20: Train Loss = 0.7288, Val Loss = 16.9909\n",
            "    ⏹️ Early stopping at epoch 22\n",
            " Run 1 finished with best val loss: 13.2477\n",
            "Original Error Percentage (Test Dataset): 4.0399%\n",
            "Corrected Error Percentage (Test Dataset): 4.9228%\n",
            "   Run 2/5 ... "
          ]
        },
        {
          "output_type": "stream",
          "name": "stderr",
          "text": [
            "<ipython-input-438-ab28ec98d12e>:152: UserWarning: To copy construct from a tensor, it is recommended to use sourceTensor.clone().detach() or sourceTensor.clone().detach().requires_grad_(True), rather than torch.tensor(sourceTensor).\n",
            "  X_scaled_tensor = torch.tensor(combined_X, dtype=torch.float32).unsqueeze(1)\n"
          ]
        },
        {
          "output_type": "stream",
          "name": "stdout",
          "text": [
            "     Epoch 0: Train Loss = 0.7471, Val Loss = 16.7092\n",
            "     Epoch 5: Train Loss = 0.7265, Val Loss = 14.8371\n",
            "     Epoch 10: Train Loss = 0.7166, Val Loss = 16.9489\n",
            "     Epoch 15: Train Loss = 0.7182, Val Loss = 14.6092\n",
            "     Epoch 20: Train Loss = 0.7188, Val Loss = 17.7592\n",
            "    ⏹️ Early stopping at epoch 23\n",
            " Run 2 finished with best val loss: 11.2464\n",
            "Original Error Percentage (Test Dataset): 4.0399%\n",
            "Corrected Error Percentage (Test Dataset): 4.4952%\n",
            "   Run 3/5 ...      Epoch 0: Train Loss = 0.7407, Val Loss = 15.2955\n"
          ]
        },
        {
          "output_type": "stream",
          "name": "stderr",
          "text": [
            "<ipython-input-438-ab28ec98d12e>:152: UserWarning: To copy construct from a tensor, it is recommended to use sourceTensor.clone().detach() or sourceTensor.clone().detach().requires_grad_(True), rather than torch.tensor(sourceTensor).\n",
            "  X_scaled_tensor = torch.tensor(combined_X, dtype=torch.float32).unsqueeze(1)\n"
          ]
        },
        {
          "output_type": "stream",
          "name": "stdout",
          "text": [
            "     Epoch 5: Train Loss = 0.7275, Val Loss = 12.3730\n",
            "     Epoch 10: Train Loss = 0.7161, Val Loss = 13.5427\n",
            "     Epoch 15: Train Loss = 0.7255, Val Loss = 14.6915\n",
            "     Epoch 20: Train Loss = 0.7207, Val Loss = 16.9479\n",
            "    ⏹️ Early stopping at epoch 22\n",
            " Run 3 finished with best val loss: 11.7122\n",
            "Original Error Percentage (Test Dataset): 4.0399%\n",
            "Corrected Error Percentage (Test Dataset): 4.9746%\n",
            "   Run 4/5 ... "
          ]
        },
        {
          "output_type": "stream",
          "name": "stderr",
          "text": [
            "<ipython-input-438-ab28ec98d12e>:152: UserWarning: To copy construct from a tensor, it is recommended to use sourceTensor.clone().detach() or sourceTensor.clone().detach().requires_grad_(True), rather than torch.tensor(sourceTensor).\n",
            "  X_scaled_tensor = torch.tensor(combined_X, dtype=torch.float32).unsqueeze(1)\n"
          ]
        },
        {
          "output_type": "stream",
          "name": "stdout",
          "text": [
            "     Epoch 0: Train Loss = 0.7445, Val Loss = 14.4281\n",
            "     Epoch 5: Train Loss = 0.7260, Val Loss = 14.6914\n",
            "     Epoch 10: Train Loss = 0.7314, Val Loss = 13.3594\n",
            "     Epoch 15: Train Loss = 0.7149, Val Loss = 13.4918\n",
            "     Epoch 20: Train Loss = 0.7215, Val Loss = 14.8395\n",
            "    ⏹️ Early stopping at epoch 21\n",
            " Run 4 finished with best val loss: 12.0079\n",
            "Original Error Percentage (Test Dataset): 4.0399%\n",
            "Corrected Error Percentage (Test Dataset): 4.2622%\n",
            "   Run 5/5 ...      Epoch 0: Train Loss = 0.7835, Val Loss = 14.7935\n"
          ]
        },
        {
          "output_type": "stream",
          "name": "stderr",
          "text": [
            "<ipython-input-438-ab28ec98d12e>:152: UserWarning: To copy construct from a tensor, it is recommended to use sourceTensor.clone().detach() or sourceTensor.clone().detach().requires_grad_(True), rather than torch.tensor(sourceTensor).\n",
            "  X_scaled_tensor = torch.tensor(combined_X, dtype=torch.float32).unsqueeze(1)\n"
          ]
        },
        {
          "output_type": "stream",
          "name": "stdout",
          "text": [
            "     Epoch 5: Train Loss = 0.7272, Val Loss = 13.5658\n",
            "     Epoch 10: Train Loss = 0.7168, Val Loss = 16.3076\n",
            "     Epoch 15: Train Loss = 0.7219, Val Loss = 15.6115\n",
            "     Epoch 20: Train Loss = 0.7245, Val Loss = 14.4643\n",
            "    ⏹️ Early stopping at epoch 24\n",
            " Run 5 finished with best val loss: 12.0624\n",
            "Original Error Percentage (Test Dataset): 4.0399%\n",
            "Corrected Error Percentage (Test Dataset): 4.8986%\n",
            " Finished configuration H=64, D=0.1, LR=0.001, B=32 → Avg Val Loss: 12.0553, Avg Accuracy: 4.7107%\n",
            "\n",
            " Running 46/81: H=64, D=0.2, LR=0.0001, B=8\n",
            "   Run 1/5 ... "
          ]
        },
        {
          "output_type": "stream",
          "name": "stderr",
          "text": [
            "<ipython-input-438-ab28ec98d12e>:152: UserWarning: To copy construct from a tensor, it is recommended to use sourceTensor.clone().detach() or sourceTensor.clone().detach().requires_grad_(True), rather than torch.tensor(sourceTensor).\n",
            "  X_scaled_tensor = torch.tensor(combined_X, dtype=torch.float32).unsqueeze(1)\n"
          ]
        },
        {
          "output_type": "stream",
          "name": "stdout",
          "text": [
            "     Epoch 0: Train Loss = 0.8399, Val Loss = 7.1903\n",
            "     Epoch 5: Train Loss = 0.7144, Val Loss = 13.2737\n",
            "     Epoch 10: Train Loss = 0.7209, Val Loss = 13.9583\n",
            "     Epoch 15: Train Loss = 0.7220, Val Loss = 13.9497\n",
            "     Epoch 20: Train Loss = 0.7248, Val Loss = 14.1642\n",
            "    ⏹️ Early stopping at epoch 20\n",
            " Run 1 finished with best val loss: 7.1903\n",
            "Original Error Percentage (Test Dataset): 4.0399%\n",
            "Corrected Error Percentage (Test Dataset): 3.8833%\n",
            "   Run 2/5 ... "
          ]
        },
        {
          "output_type": "stream",
          "name": "stderr",
          "text": [
            "<ipython-input-438-ab28ec98d12e>:152: UserWarning: To copy construct from a tensor, it is recommended to use sourceTensor.clone().detach() or sourceTensor.clone().detach().requires_grad_(True), rather than torch.tensor(sourceTensor).\n",
            "  X_scaled_tensor = torch.tensor(combined_X, dtype=torch.float32).unsqueeze(1)\n"
          ]
        },
        {
          "output_type": "stream",
          "name": "stdout",
          "text": [
            "     Epoch 0: Train Loss = 0.8024, Val Loss = 10.2881\n",
            "     Epoch 5: Train Loss = 0.7207, Val Loss = 15.7578\n",
            "     Epoch 10: Train Loss = 0.7419, Val Loss = 15.1404\n",
            "     Epoch 15: Train Loss = 0.7268, Val Loss = 14.2290\n",
            "     Epoch 20: Train Loss = 0.7189, Val Loss = 14.7852\n",
            "    ⏹️ Early stopping at epoch 20\n",
            " Run 2 finished with best val loss: 10.2881\n",
            "Original Error Percentage (Test Dataset): 4.0399%\n",
            "Corrected Error Percentage (Test Dataset): 4.0274%\n",
            "   Run 3/5 ... "
          ]
        },
        {
          "output_type": "stream",
          "name": "stderr",
          "text": [
            "<ipython-input-438-ab28ec98d12e>:152: UserWarning: To copy construct from a tensor, it is recommended to use sourceTensor.clone().detach() or sourceTensor.clone().detach().requires_grad_(True), rather than torch.tensor(sourceTensor).\n",
            "  X_scaled_tensor = torch.tensor(combined_X, dtype=torch.float32).unsqueeze(1)\n"
          ]
        },
        {
          "output_type": "stream",
          "name": "stdout",
          "text": [
            "     Epoch 0: Train Loss = 0.7700, Val Loss = 11.3524\n",
            "     Epoch 5: Train Loss = 0.7224, Val Loss = 14.0475\n",
            "     Epoch 10: Train Loss = 0.7431, Val Loss = 13.1501\n",
            "     Epoch 15: Train Loss = 0.7281, Val Loss = 13.8663\n",
            "     Epoch 20: Train Loss = 0.7285, Val Loss = 12.7878\n",
            "    ⏹️ Early stopping at epoch 20\n",
            " Run 3 finished with best val loss: 11.3524\n",
            "Original Error Percentage (Test Dataset): 4.0399%\n",
            "Corrected Error Percentage (Test Dataset): 3.5832%\n",
            "   Run 4/5 ... "
          ]
        },
        {
          "output_type": "stream",
          "name": "stderr",
          "text": [
            "<ipython-input-438-ab28ec98d12e>:152: UserWarning: To copy construct from a tensor, it is recommended to use sourceTensor.clone().detach() or sourceTensor.clone().detach().requires_grad_(True), rather than torch.tensor(sourceTensor).\n",
            "  X_scaled_tensor = torch.tensor(combined_X, dtype=torch.float32).unsqueeze(1)\n"
          ]
        },
        {
          "output_type": "stream",
          "name": "stdout",
          "text": [
            "     Epoch 0: Train Loss = 0.8154, Val Loss = 6.4674\n",
            "     Epoch 5: Train Loss = 0.7370, Val Loss = 10.7101\n",
            "     Epoch 10: Train Loss = 0.7275, Val Loss = 11.1671\n",
            "     Epoch 15: Train Loss = 0.7309, Val Loss = 11.5034\n",
            "     Epoch 20: Train Loss = 0.7279, Val Loss = 11.8905\n",
            "    ⏹️ Early stopping at epoch 20\n",
            " Run 4 finished with best val loss: 6.4674\n",
            "Original Error Percentage (Test Dataset): 4.0399%\n",
            "Corrected Error Percentage (Test Dataset): 3.3475%\n",
            "   Run 5/5 ... "
          ]
        },
        {
          "output_type": "stream",
          "name": "stderr",
          "text": [
            "<ipython-input-438-ab28ec98d12e>:152: UserWarning: To copy construct from a tensor, it is recommended to use sourceTensor.clone().detach() or sourceTensor.clone().detach().requires_grad_(True), rather than torch.tensor(sourceTensor).\n",
            "  X_scaled_tensor = torch.tensor(combined_X, dtype=torch.float32).unsqueeze(1)\n"
          ]
        },
        {
          "output_type": "stream",
          "name": "stdout",
          "text": [
            "     Epoch 0: Train Loss = 0.8742, Val Loss = 6.5117\n",
            "     Epoch 5: Train Loss = 0.7460, Val Loss = 12.3161\n",
            "     Epoch 10: Train Loss = 0.7240, Val Loss = 12.5614\n",
            "     Epoch 15: Train Loss = 0.7311, Val Loss = 12.5683\n",
            "     Epoch 20: Train Loss = 0.7340, Val Loss = 12.5388\n",
            "    ⏹️ Early stopping at epoch 20\n",
            " Run 5 finished with best val loss: 6.5117\n",
            "Original Error Percentage (Test Dataset): 4.0399%\n",
            "Corrected Error Percentage (Test Dataset): 3.4679%\n",
            " Finished configuration H=64, D=0.2, LR=0.0001, B=8 → Avg Val Loss: 8.3620, Avg Accuracy: 3.6619%\n",
            "\n",
            " Running 47/81: H=64, D=0.2, LR=0.0001, B=16\n",
            "   Run 1/5 ...      Epoch 0: Train Loss = 0.9360, Val Loss = 6.8520\n"
          ]
        },
        {
          "output_type": "stream",
          "name": "stderr",
          "text": [
            "<ipython-input-438-ab28ec98d12e>:152: UserWarning: To copy construct from a tensor, it is recommended to use sourceTensor.clone().detach() or sourceTensor.clone().detach().requires_grad_(True), rather than torch.tensor(sourceTensor).\n",
            "  X_scaled_tensor = torch.tensor(combined_X, dtype=torch.float32).unsqueeze(1)\n"
          ]
        },
        {
          "output_type": "stream",
          "name": "stdout",
          "text": [
            "     Epoch 5: Train Loss = 0.7429, Val Loss = 15.1622\n",
            "     Epoch 10: Train Loss = 0.7261, Val Loss = 15.1925\n",
            "     Epoch 15: Train Loss = 0.7213, Val Loss = 14.5943\n",
            "     Epoch 20: Train Loss = 0.7255, Val Loss = 14.6786\n",
            "    ⏹️ Early stopping at epoch 20\n",
            " Run 1 finished with best val loss: 6.8520\n",
            "Original Error Percentage (Test Dataset): 4.0399%\n",
            "Corrected Error Percentage (Test Dataset): 3.9845%\n",
            "   Run 2/5 ...      Epoch 0: Train Loss = 0.7908, Val Loss = 7.2693\n"
          ]
        },
        {
          "output_type": "stream",
          "name": "stderr",
          "text": [
            "<ipython-input-438-ab28ec98d12e>:152: UserWarning: To copy construct from a tensor, it is recommended to use sourceTensor.clone().detach() or sourceTensor.clone().detach().requires_grad_(True), rather than torch.tensor(sourceTensor).\n",
            "  X_scaled_tensor = torch.tensor(combined_X, dtype=torch.float32).unsqueeze(1)\n"
          ]
        },
        {
          "output_type": "stream",
          "name": "stdout",
          "text": [
            "     Epoch 5: Train Loss = 0.7389, Val Loss = 9.7515\n",
            "     Epoch 10: Train Loss = 0.7472, Val Loss = 10.6079\n",
            "     Epoch 15: Train Loss = 0.7313, Val Loss = 10.8985\n",
            "     Epoch 20: Train Loss = 0.7390, Val Loss = 11.4233\n",
            "    ⏹️ Early stopping at epoch 20\n",
            " Run 2 finished with best val loss: 7.2693\n",
            "Original Error Percentage (Test Dataset): 4.0399%\n",
            "Corrected Error Percentage (Test Dataset): 3.2857%\n",
            "   Run 3/5 ...      Epoch 0: Train Loss = 0.9543, Val Loss = 5.8727\n"
          ]
        },
        {
          "output_type": "stream",
          "name": "stderr",
          "text": [
            "<ipython-input-438-ab28ec98d12e>:152: UserWarning: To copy construct from a tensor, it is recommended to use sourceTensor.clone().detach() or sourceTensor.clone().detach().requires_grad_(True), rather than torch.tensor(sourceTensor).\n",
            "  X_scaled_tensor = torch.tensor(combined_X, dtype=torch.float32).unsqueeze(1)\n"
          ]
        },
        {
          "output_type": "stream",
          "name": "stdout",
          "text": [
            "     Epoch 5: Train Loss = 0.7435, Val Loss = 10.7297\n",
            "     Epoch 10: Train Loss = 0.7319, Val Loss = 12.5301\n",
            "     Epoch 15: Train Loss = 0.7291, Val Loss = 12.8698\n",
            "     Epoch 20: Train Loss = 0.7431, Val Loss = 13.0250\n",
            "    ⏹️ Early stopping at epoch 20\n",
            " Run 3 finished with best val loss: 5.8727\n",
            "Original Error Percentage (Test Dataset): 4.0399%\n",
            "Corrected Error Percentage (Test Dataset): 3.5971%\n",
            "   Run 4/5 ...      Epoch 0: Train Loss = 0.8261, Val Loss = 6.5779\n"
          ]
        },
        {
          "output_type": "stream",
          "name": "stderr",
          "text": [
            "<ipython-input-438-ab28ec98d12e>:152: UserWarning: To copy construct from a tensor, it is recommended to use sourceTensor.clone().detach() or sourceTensor.clone().detach().requires_grad_(True), rather than torch.tensor(sourceTensor).\n",
            "  X_scaled_tensor = torch.tensor(combined_X, dtype=torch.float32).unsqueeze(1)\n"
          ]
        },
        {
          "output_type": "stream",
          "name": "stdout",
          "text": [
            "     Epoch 5: Train Loss = 0.7399, Val Loss = 9.4291\n",
            "     Epoch 10: Train Loss = 0.7275, Val Loss = 10.4707\n",
            "     Epoch 15: Train Loss = 0.7252, Val Loss = 10.8766\n",
            "     Epoch 20: Train Loss = 0.7231, Val Loss = 10.9486\n",
            "    ⏹️ Early stopping at epoch 20\n",
            " Run 4 finished with best val loss: 6.5779\n",
            "Original Error Percentage (Test Dataset): 4.0399%\n",
            "Corrected Error Percentage (Test Dataset): 3.2077%\n",
            "   Run 5/5 ...      Epoch 0: Train Loss = 0.8953, Val Loss = 6.6679\n"
          ]
        },
        {
          "output_type": "stream",
          "name": "stderr",
          "text": [
            "<ipython-input-438-ab28ec98d12e>:152: UserWarning: To copy construct from a tensor, it is recommended to use sourceTensor.clone().detach() or sourceTensor.clone().detach().requires_grad_(True), rather than torch.tensor(sourceTensor).\n",
            "  X_scaled_tensor = torch.tensor(combined_X, dtype=torch.float32).unsqueeze(1)\n"
          ]
        },
        {
          "output_type": "stream",
          "name": "stdout",
          "text": [
            "     Epoch 5: Train Loss = 0.7432, Val Loss = 14.9650\n",
            "     Epoch 10: Train Loss = 0.7212, Val Loss = 16.0783\n",
            "     Epoch 15: Train Loss = 0.7374, Val Loss = 15.4158\n",
            "     Epoch 20: Train Loss = 0.7215, Val Loss = 14.8556\n",
            "    ⏹️ Early stopping at epoch 20\n",
            " Run 5 finished with best val loss: 6.6679\n",
            "Original Error Percentage (Test Dataset): 4.0399%\n",
            "Corrected Error Percentage (Test Dataset): 4.0655%\n",
            " Finished configuration H=64, D=0.2, LR=0.0001, B=16 → Avg Val Loss: 6.6480, Avg Accuracy: 3.6281%\n",
            "\n",
            " Running 48/81: H=64, D=0.2, LR=0.0001, B=32\n",
            "   Run 1/5 ...      Epoch 0: Train Loss = 0.8354, Val Loss = 7.6539\n"
          ]
        },
        {
          "output_type": "stream",
          "name": "stderr",
          "text": [
            "<ipython-input-438-ab28ec98d12e>:152: UserWarning: To copy construct from a tensor, it is recommended to use sourceTensor.clone().detach() or sourceTensor.clone().detach().requires_grad_(True), rather than torch.tensor(sourceTensor).\n",
            "  X_scaled_tensor = torch.tensor(combined_X, dtype=torch.float32).unsqueeze(1)\n"
          ]
        },
        {
          "output_type": "stream",
          "name": "stdout",
          "text": [
            "     Epoch 5: Train Loss = 0.7371, Val Loss = 12.7054\n",
            "     Epoch 10: Train Loss = 0.7297, Val Loss = 14.4223\n",
            "     Epoch 15: Train Loss = 0.7257, Val Loss = 14.8003\n",
            "     Epoch 20: Train Loss = 0.7334, Val Loss = 14.9297\n",
            "    ⏹️ Early stopping at epoch 20\n",
            " Run 1 finished with best val loss: 7.6539\n",
            "Original Error Percentage (Test Dataset): 4.0399%\n",
            "Corrected Error Percentage (Test Dataset): 4.0575%\n",
            "   Run 2/5 ...      Epoch 0: Train Loss = 0.9059, Val Loss = 6.3038\n"
          ]
        },
        {
          "output_type": "stream",
          "name": "stderr",
          "text": [
            "<ipython-input-438-ab28ec98d12e>:152: UserWarning: To copy construct from a tensor, it is recommended to use sourceTensor.clone().detach() or sourceTensor.clone().detach().requires_grad_(True), rather than torch.tensor(sourceTensor).\n",
            "  X_scaled_tensor = torch.tensor(combined_X, dtype=torch.float32).unsqueeze(1)\n"
          ]
        },
        {
          "output_type": "stream",
          "name": "stdout",
          "text": [
            "     Epoch 5: Train Loss = 0.7665, Val Loss = 11.3923\n",
            "     Epoch 10: Train Loss = 0.7439, Val Loss = 14.4500\n",
            "     Epoch 15: Train Loss = 0.7448, Val Loss = 14.9487\n",
            "     Epoch 20: Train Loss = 0.7324, Val Loss = 15.6598\n",
            "    ⏹️ Early stopping at epoch 20\n",
            " Run 2 finished with best val loss: 6.3038\n",
            "Original Error Percentage (Test Dataset): 4.0399%\n",
            "Corrected Error Percentage (Test Dataset): 4.1841%\n",
            "   Run 3/5 ...      Epoch 0: Train Loss = 0.8955, Val Loss = 6.4765\n"
          ]
        },
        {
          "output_type": "stream",
          "name": "stderr",
          "text": [
            "<ipython-input-438-ab28ec98d12e>:152: UserWarning: To copy construct from a tensor, it is recommended to use sourceTensor.clone().detach() or sourceTensor.clone().detach().requires_grad_(True), rather than torch.tensor(sourceTensor).\n",
            "  X_scaled_tensor = torch.tensor(combined_X, dtype=torch.float32).unsqueeze(1)\n"
          ]
        },
        {
          "output_type": "stream",
          "name": "stdout",
          "text": [
            "     Epoch 5: Train Loss = 0.7445, Val Loss = 11.8717\n",
            "     Epoch 10: Train Loss = 0.7382, Val Loss = 12.9702\n",
            "     Epoch 15: Train Loss = 0.7334, Val Loss = 12.5514\n",
            "     Epoch 20: Train Loss = 0.7373, Val Loss = 12.8275\n",
            "    ⏹️ Early stopping at epoch 20\n",
            " Run 3 finished with best val loss: 6.4765\n",
            "Original Error Percentage (Test Dataset): 4.0399%\n",
            "Corrected Error Percentage (Test Dataset): 3.5368%\n",
            "   Run 4/5 ...      Epoch 0: Train Loss = 0.8207, Val Loss = 8.5288\n"
          ]
        },
        {
          "output_type": "stream",
          "name": "stderr",
          "text": [
            "<ipython-input-438-ab28ec98d12e>:152: UserWarning: To copy construct from a tensor, it is recommended to use sourceTensor.clone().detach() or sourceTensor.clone().detach().requires_grad_(True), rather than torch.tensor(sourceTensor).\n",
            "  X_scaled_tensor = torch.tensor(combined_X, dtype=torch.float32).unsqueeze(1)\n"
          ]
        },
        {
          "output_type": "stream",
          "name": "stdout",
          "text": [
            "     Epoch 5: Train Loss = 0.7575, Val Loss = 13.9846\n",
            "     Epoch 10: Train Loss = 0.7456, Val Loss = 15.1460\n",
            "     Epoch 15: Train Loss = 0.7425, Val Loss = 14.9822\n",
            "     Epoch 20: Train Loss = 0.7235, Val Loss = 14.3652\n",
            "    ⏹️ Early stopping at epoch 20\n",
            " Run 4 finished with best val loss: 8.5288\n",
            "Original Error Percentage (Test Dataset): 4.0399%\n",
            "Corrected Error Percentage (Test Dataset): 3.9399%\n",
            "   Run 5/5 ...      Epoch 0: Train Loss = 0.8178, Val Loss = 6.9867\n"
          ]
        },
        {
          "output_type": "stream",
          "name": "stderr",
          "text": [
            "<ipython-input-438-ab28ec98d12e>:152: UserWarning: To copy construct from a tensor, it is recommended to use sourceTensor.clone().detach() or sourceTensor.clone().detach().requires_grad_(True), rather than torch.tensor(sourceTensor).\n",
            "  X_scaled_tensor = torch.tensor(combined_X, dtype=torch.float32).unsqueeze(1)\n"
          ]
        },
        {
          "output_type": "stream",
          "name": "stdout",
          "text": [
            "     Epoch 5: Train Loss = 0.7525, Val Loss = 9.8333\n",
            "     Epoch 10: Train Loss = 0.7317, Val Loss = 11.8313\n",
            "     Epoch 15: Train Loss = 0.7382, Val Loss = 13.0439\n",
            "     Epoch 20: Train Loss = 0.7302, Val Loss = 13.1108\n",
            "    ⏹️ Early stopping at epoch 20\n",
            " Run 5 finished with best val loss: 6.9867\n",
            "Original Error Percentage (Test Dataset): 4.0399%\n",
            "Corrected Error Percentage (Test Dataset): 3.5875%\n",
            " Finished configuration H=64, D=0.2, LR=0.0001, B=32 → Avg Val Loss: 7.1900, Avg Accuracy: 3.8612%\n",
            "\n",
            " Running 49/81: H=64, D=0.2, LR=0.0005, B=8\n",
            "   Run 1/5 ... "
          ]
        },
        {
          "output_type": "stream",
          "name": "stderr",
          "text": [
            "<ipython-input-438-ab28ec98d12e>:152: UserWarning: To copy construct from a tensor, it is recommended to use sourceTensor.clone().detach() or sourceTensor.clone().detach().requires_grad_(True), rather than torch.tensor(sourceTensor).\n",
            "  X_scaled_tensor = torch.tensor(combined_X, dtype=torch.float32).unsqueeze(1)\n"
          ]
        },
        {
          "output_type": "stream",
          "name": "stdout",
          "text": [
            "     Epoch 0: Train Loss = 0.7528, Val Loss = 13.9045\n",
            "     Epoch 5: Train Loss = 0.7299, Val Loss = 11.4589\n",
            "     Epoch 10: Train Loss = 0.7215, Val Loss = 13.5784\n",
            "     Epoch 15: Train Loss = 0.7300, Val Loss = 12.9335\n",
            "     Epoch 20: Train Loss = 0.7217, Val Loss = 14.8292\n",
            "     Epoch 25: Train Loss = 0.7263, Val Loss = 15.0715\n",
            "    ⏹️ Early stopping at epoch 27\n",
            " Run 1 finished with best val loss: 10.3373\n",
            "Original Error Percentage (Test Dataset): 4.0399%\n",
            "Corrected Error Percentage (Test Dataset): 4.4518%\n",
            "   Run 2/5 ... "
          ]
        },
        {
          "output_type": "stream",
          "name": "stderr",
          "text": [
            "<ipython-input-438-ab28ec98d12e>:152: UserWarning: To copy construct from a tensor, it is recommended to use sourceTensor.clone().detach() or sourceTensor.clone().detach().requires_grad_(True), rather than torch.tensor(sourceTensor).\n",
            "  X_scaled_tensor = torch.tensor(combined_X, dtype=torch.float32).unsqueeze(1)\n"
          ]
        },
        {
          "output_type": "stream",
          "name": "stdout",
          "text": [
            "     Epoch 0: Train Loss = 0.7585, Val Loss = 12.8792\n",
            "     Epoch 5: Train Loss = 0.7144, Val Loss = 16.4014\n",
            "     Epoch 10: Train Loss = 0.7300, Val Loss = 14.1700\n",
            "     Epoch 15: Train Loss = 0.7227, Val Loss = 14.0785\n",
            "     Epoch 20: Train Loss = 0.7161, Val Loss = 14.3892\n",
            "     Epoch 25: Train Loss = 0.7258, Val Loss = 13.8417\n",
            "     Epoch 30: Train Loss = 0.7187, Val Loss = 15.2097\n",
            "    ⏹️ Early stopping at epoch 31\n",
            " Run 2 finished with best val loss: 12.1462\n",
            "Original Error Percentage (Test Dataset): 4.0399%\n",
            "Corrected Error Percentage (Test Dataset): 3.8586%\n",
            "   Run 3/5 ... "
          ]
        },
        {
          "output_type": "stream",
          "name": "stderr",
          "text": [
            "<ipython-input-438-ab28ec98d12e>:152: UserWarning: To copy construct from a tensor, it is recommended to use sourceTensor.clone().detach() or sourceTensor.clone().detach().requires_grad_(True), rather than torch.tensor(sourceTensor).\n",
            "  X_scaled_tensor = torch.tensor(combined_X, dtype=torch.float32).unsqueeze(1)\n"
          ]
        },
        {
          "output_type": "stream",
          "name": "stdout",
          "text": [
            "     Epoch 0: Train Loss = 0.7645, Val Loss = 16.1723\n",
            "     Epoch 5: Train Loss = 0.7246, Val Loss = 12.1645\n",
            "     Epoch 10: Train Loss = 0.7350, Val Loss = 15.3746\n",
            "     Epoch 15: Train Loss = 0.7224, Val Loss = 14.6749\n",
            "     Epoch 20: Train Loss = 0.7254, Val Loss = 16.2830\n",
            "    ⏹️ Early stopping at epoch 23\n",
            " Run 3 finished with best val loss: 10.9687\n",
            "Original Error Percentage (Test Dataset): 4.0399%\n",
            "Corrected Error Percentage (Test Dataset): 4.3597%\n",
            "   Run 4/5 ... "
          ]
        },
        {
          "output_type": "stream",
          "name": "stderr",
          "text": [
            "<ipython-input-438-ab28ec98d12e>:152: UserWarning: To copy construct from a tensor, it is recommended to use sourceTensor.clone().detach() or sourceTensor.clone().detach().requires_grad_(True), rather than torch.tensor(sourceTensor).\n",
            "  X_scaled_tensor = torch.tensor(combined_X, dtype=torch.float32).unsqueeze(1)\n"
          ]
        },
        {
          "output_type": "stream",
          "name": "stdout",
          "text": [
            "     Epoch 0: Train Loss = 0.7678, Val Loss = 16.3929\n",
            "     Epoch 5: Train Loss = 0.7326, Val Loss = 16.2947\n",
            "     Epoch 10: Train Loss = 0.7282, Val Loss = 14.9100\n",
            "     Epoch 15: Train Loss = 0.7311, Val Loss = 14.9783\n",
            "     Epoch 20: Train Loss = 0.7266, Val Loss = 15.0716\n",
            "    ⏹️ Early stopping at epoch 23\n",
            " Run 4 finished with best val loss: 12.9856\n",
            "Original Error Percentage (Test Dataset): 4.0399%\n",
            "Corrected Error Percentage (Test Dataset): 4.7059%\n",
            "   Run 5/5 ... "
          ]
        },
        {
          "output_type": "stream",
          "name": "stderr",
          "text": [
            "<ipython-input-438-ab28ec98d12e>:152: UserWarning: To copy construct from a tensor, it is recommended to use sourceTensor.clone().detach() or sourceTensor.clone().detach().requires_grad_(True), rather than torch.tensor(sourceTensor).\n",
            "  X_scaled_tensor = torch.tensor(combined_X, dtype=torch.float32).unsqueeze(1)\n"
          ]
        },
        {
          "output_type": "stream",
          "name": "stdout",
          "text": [
            "     Epoch 0: Train Loss = 0.7793, Val Loss = 14.0672\n",
            "     Epoch 5: Train Loss = 0.7302, Val Loss = 14.9380\n",
            "     Epoch 10: Train Loss = 0.7321, Val Loss = 16.0278\n",
            "     Epoch 15: Train Loss = 0.7233, Val Loss = 13.6559\n",
            "     Epoch 20: Train Loss = 0.7234, Val Loss = 14.7863\n",
            "     Epoch 25: Train Loss = 0.7197, Val Loss = 16.0213\n",
            "     Epoch 30: Train Loss = 0.7288, Val Loss = 13.7770\n",
            "     Epoch 35: Train Loss = 0.7232, Val Loss = 15.5504\n",
            "     Epoch 40: Train Loss = 0.7228, Val Loss = 15.3376\n",
            "    ⏹️ Early stopping at epoch 44\n",
            " Run 5 finished with best val loss: 12.9388\n",
            "Original Error Percentage (Test Dataset): 4.0399%\n",
            "Corrected Error Percentage (Test Dataset): 4.0360%\n",
            " Finished configuration H=64, D=0.2, LR=0.0005, B=8 → Avg Val Loss: 11.8753, Avg Accuracy: 4.2824%\n",
            "\n",
            " Running 50/81: H=64, D=0.2, LR=0.0005, B=16\n",
            "   Run 1/5 ...      Epoch 0: Train Loss = 0.7617, Val Loss = 12.7124\n"
          ]
        },
        {
          "output_type": "stream",
          "name": "stderr",
          "text": [
            "<ipython-input-438-ab28ec98d12e>:152: UserWarning: To copy construct from a tensor, it is recommended to use sourceTensor.clone().detach() or sourceTensor.clone().detach().requires_grad_(True), rather than torch.tensor(sourceTensor).\n",
            "  X_scaled_tensor = torch.tensor(combined_X, dtype=torch.float32).unsqueeze(1)\n"
          ]
        },
        {
          "output_type": "stream",
          "name": "stdout",
          "text": [
            "     Epoch 5: Train Loss = 0.7411, Val Loss = 14.6462\n",
            "     Epoch 10: Train Loss = 0.7352, Val Loss = 13.6210\n",
            "     Epoch 15: Train Loss = 0.7248, Val Loss = 14.7076\n",
            "     Epoch 20: Train Loss = 0.7182, Val Loss = 14.9934\n",
            "    ⏹️ Early stopping at epoch 22\n",
            " Run 1 finished with best val loss: 12.3133\n",
            "Original Error Percentage (Test Dataset): 4.0399%\n",
            "Corrected Error Percentage (Test Dataset): 4.2794%\n",
            "   Run 2/5 ... "
          ]
        },
        {
          "output_type": "stream",
          "name": "stderr",
          "text": [
            "<ipython-input-438-ab28ec98d12e>:152: UserWarning: To copy construct from a tensor, it is recommended to use sourceTensor.clone().detach() or sourceTensor.clone().detach().requires_grad_(True), rather than torch.tensor(sourceTensor).\n",
            "  X_scaled_tensor = torch.tensor(combined_X, dtype=torch.float32).unsqueeze(1)\n"
          ]
        },
        {
          "output_type": "stream",
          "name": "stdout",
          "text": [
            "     Epoch 0: Train Loss = 0.7523, Val Loss = 14.0191\n",
            "     Epoch 5: Train Loss = 0.7288, Val Loss = 12.8634\n",
            "     Epoch 10: Train Loss = 0.7273, Val Loss = 13.2943\n",
            "     Epoch 15: Train Loss = 0.7299, Val Loss = 13.7728\n",
            "     Epoch 20: Train Loss = 0.7246, Val Loss = 14.8459\n",
            "     Epoch 25: Train Loss = 0.7255, Val Loss = 15.2946\n",
            "    ⏹️ Early stopping at epoch 26\n",
            " Run 2 finished with best val loss: 12.4627\n",
            "Original Error Percentage (Test Dataset): 4.0399%\n",
            "Corrected Error Percentage (Test Dataset): 4.3149%\n",
            "   Run 3/5 ... "
          ]
        },
        {
          "output_type": "stream",
          "name": "stderr",
          "text": [
            "<ipython-input-438-ab28ec98d12e>:152: UserWarning: To copy construct from a tensor, it is recommended to use sourceTensor.clone().detach() or sourceTensor.clone().detach().requires_grad_(True), rather than torch.tensor(sourceTensor).\n",
            "  X_scaled_tensor = torch.tensor(combined_X, dtype=torch.float32).unsqueeze(1)\n"
          ]
        },
        {
          "output_type": "stream",
          "name": "stdout",
          "text": [
            "     Epoch 0: Train Loss = 0.7850, Val Loss = 11.6930\n",
            "     Epoch 5: Train Loss = 0.7202, Val Loss = 14.4371\n",
            "     Epoch 10: Train Loss = 0.7330, Val Loss = 12.6881\n",
            "     Epoch 15: Train Loss = 0.7282, Val Loss = 13.5273\n",
            "     Epoch 20: Train Loss = 0.7205, Val Loss = 14.3613\n",
            "    ⏹️ Early stopping at epoch 20\n",
            " Run 3 finished with best val loss: 11.6930\n",
            "Original Error Percentage (Test Dataset): 4.0399%\n",
            "Corrected Error Percentage (Test Dataset): 3.9620%\n",
            "   Run 4/5 ...      Epoch 0: Train Loss = 0.7575, Val Loss = 13.0119\n"
          ]
        },
        {
          "output_type": "stream",
          "name": "stderr",
          "text": [
            "<ipython-input-438-ab28ec98d12e>:152: UserWarning: To copy construct from a tensor, it is recommended to use sourceTensor.clone().detach() or sourceTensor.clone().detach().requires_grad_(True), rather than torch.tensor(sourceTensor).\n",
            "  X_scaled_tensor = torch.tensor(combined_X, dtype=torch.float32).unsqueeze(1)\n"
          ]
        },
        {
          "output_type": "stream",
          "name": "stdout",
          "text": [
            "     Epoch 5: Train Loss = 0.7197, Val Loss = 12.3957\n",
            "     Epoch 10: Train Loss = 0.7271, Val Loss = 12.3318\n",
            "     Epoch 15: Train Loss = 0.7202, Val Loss = 11.9413\n",
            "     Epoch 20: Train Loss = 0.7183, Val Loss = 12.9690\n",
            "     Epoch 25: Train Loss = 0.7154, Val Loss = 13.9266\n",
            "    ⏹️ Early stopping at epoch 27\n",
            " Run 4 finished with best val loss: 11.2577\n",
            "Original Error Percentage (Test Dataset): 4.0399%\n",
            "Corrected Error Percentage (Test Dataset): 3.9027%\n",
            "   Run 5/5 ... "
          ]
        },
        {
          "output_type": "stream",
          "name": "stderr",
          "text": [
            "<ipython-input-438-ab28ec98d12e>:152: UserWarning: To copy construct from a tensor, it is recommended to use sourceTensor.clone().detach() or sourceTensor.clone().detach().requires_grad_(True), rather than torch.tensor(sourceTensor).\n",
            "  X_scaled_tensor = torch.tensor(combined_X, dtype=torch.float32).unsqueeze(1)\n"
          ]
        },
        {
          "output_type": "stream",
          "name": "stdout",
          "text": [
            "     Epoch 0: Train Loss = 0.7976, Val Loss = 13.2062\n",
            "     Epoch 5: Train Loss = 0.7229, Val Loss = 13.7039\n",
            "     Epoch 10: Train Loss = 0.7181, Val Loss = 13.9718\n",
            "     Epoch 15: Train Loss = 0.7191, Val Loss = 12.7289\n",
            "     Epoch 20: Train Loss = 0.7302, Val Loss = 12.6083\n",
            "     Epoch 25: Train Loss = 0.7218, Val Loss = 12.5680\n",
            "     Epoch 30: Train Loss = 0.7277, Val Loss = 13.5713\n",
            "     Epoch 35: Train Loss = 0.7212, Val Loss = 13.6288\n",
            "    ⏹️ Early stopping at epoch 39\n",
            " Run 5 finished with best val loss: 11.9621\n",
            "Original Error Percentage (Test Dataset): 4.0399%\n",
            "Corrected Error Percentage (Test Dataset): 3.8677%\n",
            " Finished configuration H=64, D=0.2, LR=0.0005, B=16 → Avg Val Loss: 11.9378, Avg Accuracy: 4.0653%\n",
            "\n",
            " Running 51/81: H=64, D=0.2, LR=0.0005, B=32\n",
            "   Run 1/5 ...      Epoch 0: Train Loss = 0.7679, Val Loss = 11.0739\n"
          ]
        },
        {
          "output_type": "stream",
          "name": "stderr",
          "text": [
            "<ipython-input-438-ab28ec98d12e>:152: UserWarning: To copy construct from a tensor, it is recommended to use sourceTensor.clone().detach() or sourceTensor.clone().detach().requires_grad_(True), rather than torch.tensor(sourceTensor).\n",
            "  X_scaled_tensor = torch.tensor(combined_X, dtype=torch.float32).unsqueeze(1)\n"
          ]
        },
        {
          "output_type": "stream",
          "name": "stdout",
          "text": [
            "     Epoch 5: Train Loss = 0.7267, Val Loss = 14.0445\n",
            "     Epoch 10: Train Loss = 0.7222, Val Loss = 12.8354\n",
            "     Epoch 15: Train Loss = 0.7185, Val Loss = 13.4422\n",
            "     Epoch 20: Train Loss = 0.7178, Val Loss = 13.9837\n",
            "    ⏹️ Early stopping at epoch 20\n",
            " Run 1 finished with best val loss: 11.0739\n",
            "Original Error Percentage (Test Dataset): 4.0399%\n",
            "Corrected Error Percentage (Test Dataset): 3.8993%\n",
            "   Run 2/5 ...      Epoch 0: Train Loss = 0.7664, Val Loss = 14.7376\n"
          ]
        },
        {
          "output_type": "stream",
          "name": "stderr",
          "text": [
            "<ipython-input-438-ab28ec98d12e>:152: UserWarning: To copy construct from a tensor, it is recommended to use sourceTensor.clone().detach() or sourceTensor.clone().detach().requires_grad_(True), rather than torch.tensor(sourceTensor).\n",
            "  X_scaled_tensor = torch.tensor(combined_X, dtype=torch.float32).unsqueeze(1)\n"
          ]
        },
        {
          "output_type": "stream",
          "name": "stdout",
          "text": [
            "     Epoch 5: Train Loss = 0.7263, Val Loss = 13.8617\n",
            "     Epoch 10: Train Loss = 0.7330, Val Loss = 13.3680\n",
            "     Epoch 15: Train Loss = 0.7200, Val Loss = 12.5425\n",
            "     Epoch 20: Train Loss = 0.7271, Val Loss = 14.6655\n",
            "     Epoch 25: Train Loss = 0.7272, Val Loss = 14.0168\n",
            "     Epoch 30: Train Loss = 0.7220, Val Loss = 13.2947\n",
            "     Epoch 35: Train Loss = 0.7220, Val Loss = 14.2484\n",
            "    ⏹️ Early stopping at epoch 35\n",
            " Run 2 finished with best val loss: 12.5425\n",
            "Original Error Percentage (Test Dataset): 4.0399%\n",
            "Corrected Error Percentage (Test Dataset): 4.0210%\n",
            "   Run 3/5 ...      Epoch 0: Train Loss = 0.7804, Val Loss = 13.2070\n"
          ]
        },
        {
          "output_type": "stream",
          "name": "stderr",
          "text": [
            "<ipython-input-438-ab28ec98d12e>:152: UserWarning: To copy construct from a tensor, it is recommended to use sourceTensor.clone().detach() or sourceTensor.clone().detach().requires_grad_(True), rather than torch.tensor(sourceTensor).\n",
            "  X_scaled_tensor = torch.tensor(combined_X, dtype=torch.float32).unsqueeze(1)\n"
          ]
        },
        {
          "output_type": "stream",
          "name": "stdout",
          "text": [
            "     Epoch 5: Train Loss = 0.7582, Val Loss = 13.9119\n",
            "     Epoch 10: Train Loss = 0.7300, Val Loss = 12.8942\n",
            "     Epoch 15: Train Loss = 0.7269, Val Loss = 12.9243\n",
            "     Epoch 20: Train Loss = 0.7346, Val Loss = 12.6043\n",
            "     Epoch 25: Train Loss = 0.7216, Val Loss = 14.2736\n",
            "     Epoch 30: Train Loss = 0.7267, Val Loss = 13.4570\n",
            "    ⏹️ Early stopping at epoch 32\n",
            " Run 3 finished with best val loss: 12.2879\n",
            "Original Error Percentage (Test Dataset): 4.0399%\n",
            "Corrected Error Percentage (Test Dataset): 3.7688%\n",
            "   Run 4/5 ... "
          ]
        },
        {
          "output_type": "stream",
          "name": "stderr",
          "text": [
            "<ipython-input-438-ab28ec98d12e>:152: UserWarning: To copy construct from a tensor, it is recommended to use sourceTensor.clone().detach() or sourceTensor.clone().detach().requires_grad_(True), rather than torch.tensor(sourceTensor).\n",
            "  X_scaled_tensor = torch.tensor(combined_X, dtype=torch.float32).unsqueeze(1)\n"
          ]
        },
        {
          "output_type": "stream",
          "name": "stdout",
          "text": [
            "     Epoch 0: Train Loss = 0.7515, Val Loss = 13.8889\n",
            "     Epoch 5: Train Loss = 0.7336, Val Loss = 12.4711\n",
            "     Epoch 10: Train Loss = 0.7238, Val Loss = 12.4294\n",
            "     Epoch 15: Train Loss = 0.7222, Val Loss = 13.0466\n",
            "     Epoch 20: Train Loss = 0.7252, Val Loss = 13.4179\n",
            "     Epoch 25: Train Loss = 0.7197, Val Loss = 12.5846\n",
            "     Epoch 30: Train Loss = 0.7250, Val Loss = 13.4030\n",
            "    ⏹️ Early stopping at epoch 30\n",
            " Run 4 finished with best val loss: 12.4294\n",
            "Original Error Percentage (Test Dataset): 4.0399%\n",
            "Corrected Error Percentage (Test Dataset): 3.7565%\n",
            "   Run 5/5 ...      Epoch 0: Train Loss = 0.7918, Val Loss = 13.7297\n"
          ]
        },
        {
          "output_type": "stream",
          "name": "stderr",
          "text": [
            "<ipython-input-438-ab28ec98d12e>:152: UserWarning: To copy construct from a tensor, it is recommended to use sourceTensor.clone().detach() or sourceTensor.clone().detach().requires_grad_(True), rather than torch.tensor(sourceTensor).\n",
            "  X_scaled_tensor = torch.tensor(combined_X, dtype=torch.float32).unsqueeze(1)\n"
          ]
        },
        {
          "output_type": "stream",
          "name": "stdout",
          "text": [
            "     Epoch 5: Train Loss = 0.7340, Val Loss = 13.3668\n",
            "     Epoch 10: Train Loss = 0.7227, Val Loss = 15.3947\n",
            "     Epoch 15: Train Loss = 0.7303, Val Loss = 13.6237\n",
            "     Epoch 20: Train Loss = 0.7328, Val Loss = 15.3364\n",
            "     Epoch 25: Train Loss = 0.7201, Val Loss = 16.1411\n",
            "    ⏹️ Early stopping at epoch 25\n",
            " Run 5 finished with best val loss: 13.3668\n",
            "Original Error Percentage (Test Dataset): 4.0399%\n",
            "Corrected Error Percentage (Test Dataset): 4.4886%\n",
            " Finished configuration H=64, D=0.2, LR=0.0005, B=32 → Avg Val Loss: 12.3401, Avg Accuracy: 3.9868%\n",
            "\n",
            " Running 52/81: H=64, D=0.2, LR=0.001, B=8\n",
            "   Run 1/5 ... "
          ]
        },
        {
          "output_type": "stream",
          "name": "stderr",
          "text": [
            "<ipython-input-438-ab28ec98d12e>:152: UserWarning: To copy construct from a tensor, it is recommended to use sourceTensor.clone().detach() or sourceTensor.clone().detach().requires_grad_(True), rather than torch.tensor(sourceTensor).\n",
            "  X_scaled_tensor = torch.tensor(combined_X, dtype=torch.float32).unsqueeze(1)\n"
          ]
        },
        {
          "output_type": "stream",
          "name": "stdout",
          "text": [
            "     Epoch 0: Train Loss = 0.7532, Val Loss = 14.1413\n",
            "     Epoch 5: Train Loss = 0.7375, Val Loss = 13.4377\n",
            "     Epoch 10: Train Loss = 0.7298, Val Loss = 15.1340\n",
            "     Epoch 15: Train Loss = 0.7369, Val Loss = 13.7740\n",
            "     Epoch 20: Train Loss = 0.7197, Val Loss = 13.5495\n",
            "     Epoch 25: Train Loss = 0.7241, Val Loss = 17.2737\n",
            "     Epoch 30: Train Loss = 0.7195, Val Loss = 17.2864\n",
            "     Epoch 35: Train Loss = 0.7210, Val Loss = 16.5483\n",
            "    ⏹️ Early stopping at epoch 36\n",
            " Run 1 finished with best val loss: 11.3768\n",
            "Original Error Percentage (Test Dataset): 4.0399%\n",
            "Corrected Error Percentage (Test Dataset): 3.9122%\n",
            "   Run 2/5 ... "
          ]
        },
        {
          "output_type": "stream",
          "name": "stderr",
          "text": [
            "<ipython-input-438-ab28ec98d12e>:152: UserWarning: To copy construct from a tensor, it is recommended to use sourceTensor.clone().detach() or sourceTensor.clone().detach().requires_grad_(True), rather than torch.tensor(sourceTensor).\n",
            "  X_scaled_tensor = torch.tensor(combined_X, dtype=torch.float32).unsqueeze(1)\n"
          ]
        },
        {
          "output_type": "stream",
          "name": "stdout",
          "text": [
            "     Epoch 0: Train Loss = 0.7471, Val Loss = 21.1535\n",
            "     Epoch 5: Train Loss = 0.7304, Val Loss = 12.5867\n",
            "     Epoch 10: Train Loss = 0.7250, Val Loss = 14.2166\n",
            "     Epoch 15: Train Loss = 0.7287, Val Loss = 12.5001\n",
            "     Epoch 20: Train Loss = 0.7235, Val Loss = 16.4183\n",
            "     Epoch 25: Train Loss = 0.7287, Val Loss = 13.5023\n",
            "    ⏹️ Early stopping at epoch 27\n",
            " Run 2 finished with best val loss: 11.2926\n",
            "Original Error Percentage (Test Dataset): 4.0399%\n",
            "Corrected Error Percentage (Test Dataset): 3.8079%\n",
            "   Run 3/5 ... "
          ]
        },
        {
          "output_type": "stream",
          "name": "stderr",
          "text": [
            "<ipython-input-438-ab28ec98d12e>:152: UserWarning: To copy construct from a tensor, it is recommended to use sourceTensor.clone().detach() or sourceTensor.clone().detach().requires_grad_(True), rather than torch.tensor(sourceTensor).\n",
            "  X_scaled_tensor = torch.tensor(combined_X, dtype=torch.float32).unsqueeze(1)\n"
          ]
        },
        {
          "output_type": "stream",
          "name": "stdout",
          "text": [
            "     Epoch 0: Train Loss = 0.7485, Val Loss = 10.7221\n",
            "     Epoch 5: Train Loss = 0.7232, Val Loss = 12.5671\n",
            "     Epoch 10: Train Loss = 0.7354, Val Loss = 13.8007\n",
            "     Epoch 15: Train Loss = 0.7297, Val Loss = 13.0353\n",
            "     Epoch 20: Train Loss = 0.7292, Val Loss = 13.3266\n",
            "     Epoch 25: Train Loss = 0.7232, Val Loss = 11.3237\n",
            "     Epoch 30: Train Loss = 0.7214, Val Loss = 12.2478\n",
            "     Epoch 35: Train Loss = 0.7193, Val Loss = 12.9091\n",
            "     Epoch 40: Train Loss = 0.7295, Val Loss = 14.0803\n",
            "    ⏹️ Early stopping at epoch 44\n",
            " Run 3 finished with best val loss: 10.5075\n",
            "Original Error Percentage (Test Dataset): 4.0399%\n",
            "Corrected Error Percentage (Test Dataset): 3.6893%\n",
            "   Run 4/5 ... "
          ]
        },
        {
          "output_type": "stream",
          "name": "stderr",
          "text": [
            "<ipython-input-438-ab28ec98d12e>:152: UserWarning: To copy construct from a tensor, it is recommended to use sourceTensor.clone().detach() or sourceTensor.clone().detach().requires_grad_(True), rather than torch.tensor(sourceTensor).\n",
            "  X_scaled_tensor = torch.tensor(combined_X, dtype=torch.float32).unsqueeze(1)\n"
          ]
        },
        {
          "output_type": "stream",
          "name": "stdout",
          "text": [
            "     Epoch 0: Train Loss = 0.7460, Val Loss = 13.5430\n",
            "     Epoch 5: Train Loss = 0.7387, Val Loss = 12.1785\n",
            "     Epoch 10: Train Loss = 0.7223, Val Loss = 13.2073\n",
            "     Epoch 15: Train Loss = 0.7240, Val Loss = 14.2984\n",
            "     Epoch 20: Train Loss = 0.7191, Val Loss = 17.5203\n",
            "     Epoch 25: Train Loss = 0.7198, Val Loss = 12.5683\n",
            "    ⏹️ Early stopping at epoch 26\n",
            " Run 4 finished with best val loss: 10.2050\n",
            "Original Error Percentage (Test Dataset): 4.0399%\n",
            "Corrected Error Percentage (Test Dataset): 4.4674%\n",
            "   Run 5/5 ... "
          ]
        },
        {
          "output_type": "stream",
          "name": "stderr",
          "text": [
            "<ipython-input-438-ab28ec98d12e>:152: UserWarning: To copy construct from a tensor, it is recommended to use sourceTensor.clone().detach() or sourceTensor.clone().detach().requires_grad_(True), rather than torch.tensor(sourceTensor).\n",
            "  X_scaled_tensor = torch.tensor(combined_X, dtype=torch.float32).unsqueeze(1)\n"
          ]
        },
        {
          "output_type": "stream",
          "name": "stdout",
          "text": [
            "     Epoch 0: Train Loss = 0.7520, Val Loss = 14.7409\n",
            "     Epoch 5: Train Loss = 0.7283, Val Loss = 13.8961\n",
            "     Epoch 10: Train Loss = 0.7236, Val Loss = 14.5732\n",
            "     Epoch 15: Train Loss = 0.7222, Val Loss = 13.5102\n",
            "     Epoch 20: Train Loss = 0.7237, Val Loss = 13.4535\n",
            "     Epoch 25: Train Loss = 0.7239, Val Loss = 15.5093\n",
            "    ⏹️ Early stopping at epoch 28\n",
            " Run 5 finished with best val loss: 12.1648\n",
            "Original Error Percentage (Test Dataset): 4.0399%\n",
            "Corrected Error Percentage (Test Dataset): 4.5042%\n",
            " Finished configuration H=64, D=0.2, LR=0.001, B=8 → Avg Val Loss: 11.1093, Avg Accuracy: 4.0762%\n",
            "\n",
            " Running 53/81: H=64, D=0.2, LR=0.001, B=16\n",
            "   Run 1/5 ...      Epoch 0: Train Loss = 0.7679, Val Loss = 14.9161\n"
          ]
        },
        {
          "output_type": "stream",
          "name": "stderr",
          "text": [
            "<ipython-input-438-ab28ec98d12e>:152: UserWarning: To copy construct from a tensor, it is recommended to use sourceTensor.clone().detach() or sourceTensor.clone().detach().requires_grad_(True), rather than torch.tensor(sourceTensor).\n",
            "  X_scaled_tensor = torch.tensor(combined_X, dtype=torch.float32).unsqueeze(1)\n"
          ]
        },
        {
          "output_type": "stream",
          "name": "stdout",
          "text": [
            "     Epoch 5: Train Loss = 0.7164, Val Loss = 12.8899\n",
            "     Epoch 10: Train Loss = 0.7266, Val Loss = 15.6550\n",
            "     Epoch 15: Train Loss = 0.7267, Val Loss = 16.1336\n",
            "     Epoch 20: Train Loss = 0.7186, Val Loss = 18.4349\n",
            "    ⏹️ Early stopping at epoch 23\n",
            " Run 1 finished with best val loss: 10.9160\n",
            "Original Error Percentage (Test Dataset): 4.0399%\n",
            "Corrected Error Percentage (Test Dataset): 4.4392%\n",
            "   Run 2/5 ...      Epoch 0: Train Loss = 0.7599, Val Loss = 14.3331\n"
          ]
        },
        {
          "output_type": "stream",
          "name": "stderr",
          "text": [
            "<ipython-input-438-ab28ec98d12e>:152: UserWarning: To copy construct from a tensor, it is recommended to use sourceTensor.clone().detach() or sourceTensor.clone().detach().requires_grad_(True), rather than torch.tensor(sourceTensor).\n",
            "  X_scaled_tensor = torch.tensor(combined_X, dtype=torch.float32).unsqueeze(1)\n"
          ]
        },
        {
          "output_type": "stream",
          "name": "stdout",
          "text": [
            "     Epoch 5: Train Loss = 0.7249, Val Loss = 15.0566\n",
            "     Epoch 10: Train Loss = 0.7213, Val Loss = 17.0769\n",
            "     Epoch 15: Train Loss = 0.7265, Val Loss = 16.9375\n",
            "     Epoch 20: Train Loss = 0.7222, Val Loss = 15.8962\n",
            "    ⏹️ Early stopping at epoch 23\n",
            " Run 2 finished with best val loss: 12.7711\n",
            "Original Error Percentage (Test Dataset): 4.0399%\n",
            "Corrected Error Percentage (Test Dataset): 4.6008%\n",
            "   Run 3/5 ...      Epoch 0: Train Loss = 0.7500, Val Loss = 12.3360\n"
          ]
        },
        {
          "output_type": "stream",
          "name": "stderr",
          "text": [
            "<ipython-input-438-ab28ec98d12e>:152: UserWarning: To copy construct from a tensor, it is recommended to use sourceTensor.clone().detach() or sourceTensor.clone().detach().requires_grad_(True), rather than torch.tensor(sourceTensor).\n",
            "  X_scaled_tensor = torch.tensor(combined_X, dtype=torch.float32).unsqueeze(1)\n"
          ]
        },
        {
          "output_type": "stream",
          "name": "stdout",
          "text": [
            "     Epoch 5: Train Loss = 0.7326, Val Loss = 12.2540\n",
            "     Epoch 10: Train Loss = 0.7249, Val Loss = 14.5151\n",
            "     Epoch 15: Train Loss = 0.7235, Val Loss = 15.2609\n",
            "     Epoch 20: Train Loss = 0.7216, Val Loss = 13.9127\n",
            "    ⏹️ Early stopping at epoch 21\n",
            " Run 3 finished with best val loss: 10.9390\n",
            "Original Error Percentage (Test Dataset): 4.0399%\n",
            "Corrected Error Percentage (Test Dataset): 4.0493%\n",
            "   Run 4/5 ... "
          ]
        },
        {
          "output_type": "stream",
          "name": "stderr",
          "text": [
            "<ipython-input-438-ab28ec98d12e>:152: UserWarning: To copy construct from a tensor, it is recommended to use sourceTensor.clone().detach() or sourceTensor.clone().detach().requires_grad_(True), rather than torch.tensor(sourceTensor).\n",
            "  X_scaled_tensor = torch.tensor(combined_X, dtype=torch.float32).unsqueeze(1)\n"
          ]
        },
        {
          "output_type": "stream",
          "name": "stdout",
          "text": [
            "     Epoch 0: Train Loss = 0.7534, Val Loss = 13.8138\n",
            "     Epoch 5: Train Loss = 0.7179, Val Loss = 13.2506\n",
            "     Epoch 10: Train Loss = 0.7232, Val Loss = 12.8725\n",
            "     Epoch 15: Train Loss = 0.7185, Val Loss = 13.0187\n",
            "     Epoch 20: Train Loss = 0.7248, Val Loss = 14.1228\n",
            "    ⏹️ Early stopping at epoch 21\n",
            " Run 4 finished with best val loss: 11.1458\n",
            "Original Error Percentage (Test Dataset): 4.0399%\n",
            "Corrected Error Percentage (Test Dataset): 4.2595%\n",
            "   Run 5/5 ... "
          ]
        },
        {
          "output_type": "stream",
          "name": "stderr",
          "text": [
            "<ipython-input-438-ab28ec98d12e>:152: UserWarning: To copy construct from a tensor, it is recommended to use sourceTensor.clone().detach() or sourceTensor.clone().detach().requires_grad_(True), rather than torch.tensor(sourceTensor).\n",
            "  X_scaled_tensor = torch.tensor(combined_X, dtype=torch.float32).unsqueeze(1)\n"
          ]
        },
        {
          "output_type": "stream",
          "name": "stdout",
          "text": [
            "     Epoch 0: Train Loss = 0.7408, Val Loss = 11.0291\n",
            "     Epoch 5: Train Loss = 0.7289, Val Loss = 10.8095\n",
            "     Epoch 10: Train Loss = 0.7275, Val Loss = 13.4275\n",
            "     Epoch 15: Train Loss = 0.7260, Val Loss = 11.6317\n",
            "     Epoch 20: Train Loss = 0.7212, Val Loss = 13.3082\n",
            "    ⏹️ Early stopping at epoch 23\n",
            " Run 5 finished with best val loss: 10.3686\n",
            "Original Error Percentage (Test Dataset): 4.0399%\n",
            "Corrected Error Percentage (Test Dataset): 3.8936%\n",
            " Finished configuration H=64, D=0.2, LR=0.001, B=16 → Avg Val Loss: 11.2281, Avg Accuracy: 4.2485%\n",
            "\n",
            " Running 54/81: H=64, D=0.2, LR=0.001, B=32\n",
            "   Run 1/5 ...      Epoch 0: Train Loss = 0.7763, Val Loss = 16.1055\n"
          ]
        },
        {
          "output_type": "stream",
          "name": "stderr",
          "text": [
            "<ipython-input-438-ab28ec98d12e>:152: UserWarning: To copy construct from a tensor, it is recommended to use sourceTensor.clone().detach() or sourceTensor.clone().detach().requires_grad_(True), rather than torch.tensor(sourceTensor).\n",
            "  X_scaled_tensor = torch.tensor(combined_X, dtype=torch.float32).unsqueeze(1)\n"
          ]
        },
        {
          "output_type": "stream",
          "name": "stdout",
          "text": [
            "     Epoch 5: Train Loss = 0.7289, Val Loss = 11.5882\n",
            "     Epoch 10: Train Loss = 0.7312, Val Loss = 12.9701\n",
            "     Epoch 15: Train Loss = 0.7286, Val Loss = 12.5681\n",
            "     Epoch 20: Train Loss = 0.7197, Val Loss = 13.1833\n",
            "     Epoch 25: Train Loss = 0.7236, Val Loss = 13.2122\n",
            "    ⏹️ Early stopping at epoch 25\n",
            " Run 1 finished with best val loss: 11.5882\n",
            "Original Error Percentage (Test Dataset): 4.0399%\n",
            "Corrected Error Percentage (Test Dataset): 3.6891%\n",
            "   Run 2/5 ...      Epoch 0: Train Loss = 0.7777, Val Loss = 15.3160\n"
          ]
        },
        {
          "output_type": "stream",
          "name": "stderr",
          "text": [
            "<ipython-input-438-ab28ec98d12e>:152: UserWarning: To copy construct from a tensor, it is recommended to use sourceTensor.clone().detach() or sourceTensor.clone().detach().requires_grad_(True), rather than torch.tensor(sourceTensor).\n",
            "  X_scaled_tensor = torch.tensor(combined_X, dtype=torch.float32).unsqueeze(1)\n"
          ]
        },
        {
          "output_type": "stream",
          "name": "stdout",
          "text": [
            "     Epoch 5: Train Loss = 0.7289, Val Loss = 14.3708\n",
            "     Epoch 10: Train Loss = 0.7277, Val Loss = 13.1208\n",
            "     Epoch 15: Train Loss = 0.7269, Val Loss = 13.2749\n",
            "     Epoch 20: Train Loss = 0.7091, Val Loss = 15.0416\n",
            "     Epoch 25: Train Loss = 0.7146, Val Loss = 15.2286\n",
            "     Epoch 30: Train Loss = 0.7234, Val Loss = 17.3309\n",
            "    ⏹️ Early stopping at epoch 32\n",
            " Run 2 finished with best val loss: 11.3042\n",
            "Original Error Percentage (Test Dataset): 4.0399%\n",
            "Corrected Error Percentage (Test Dataset): 4.5306%\n",
            "   Run 3/5 ... "
          ]
        },
        {
          "output_type": "stream",
          "name": "stderr",
          "text": [
            "<ipython-input-438-ab28ec98d12e>:152: UserWarning: To copy construct from a tensor, it is recommended to use sourceTensor.clone().detach() or sourceTensor.clone().detach().requires_grad_(True), rather than torch.tensor(sourceTensor).\n",
            "  X_scaled_tensor = torch.tensor(combined_X, dtype=torch.float32).unsqueeze(1)\n"
          ]
        },
        {
          "output_type": "stream",
          "name": "stdout",
          "text": [
            "     Epoch 0: Train Loss = 0.8141, Val Loss = 12.5703\n",
            "     Epoch 5: Train Loss = 0.7318, Val Loss = 12.5972\n",
            "     Epoch 10: Train Loss = 0.7185, Val Loss = 14.2899\n",
            "     Epoch 15: Train Loss = 0.7320, Val Loss = 12.0818\n",
            "     Epoch 20: Train Loss = 0.7249, Val Loss = 15.7051\n",
            "     Epoch 25: Train Loss = 0.7242, Val Loss = 13.2806\n",
            "     Epoch 30: Train Loss = 0.7175, Val Loss = 14.4686\n",
            "     Epoch 35: Train Loss = 0.7250, Val Loss = 15.4332\n",
            "    ⏹️ Early stopping at epoch 38\n",
            " Run 3 finished with best val loss: 10.3423\n",
            "Original Error Percentage (Test Dataset): 4.0399%\n",
            "Corrected Error Percentage (Test Dataset): 4.2203%\n",
            "   Run 4/5 ...      Epoch 0: Train Loss = 0.7613, Val Loss = 14.1845\n"
          ]
        },
        {
          "output_type": "stream",
          "name": "stderr",
          "text": [
            "<ipython-input-438-ab28ec98d12e>:152: UserWarning: To copy construct from a tensor, it is recommended to use sourceTensor.clone().detach() or sourceTensor.clone().detach().requires_grad_(True), rather than torch.tensor(sourceTensor).\n",
            "  X_scaled_tensor = torch.tensor(combined_X, dtype=torch.float32).unsqueeze(1)\n"
          ]
        },
        {
          "output_type": "stream",
          "name": "stdout",
          "text": [
            "     Epoch 5: Train Loss = 0.7375, Val Loss = 12.0479\n",
            "     Epoch 10: Train Loss = 0.7227, Val Loss = 14.5935\n",
            "     Epoch 15: Train Loss = 0.7194, Val Loss = 14.2698\n",
            "     Epoch 20: Train Loss = 0.7229, Val Loss = 13.4608\n",
            "     Epoch 25: Train Loss = 0.7329, Val Loss = 14.9815\n",
            "    ⏹️ Early stopping at epoch 25\n",
            " Run 4 finished with best val loss: 12.0479\n",
            "Original Error Percentage (Test Dataset): 4.0399%\n",
            "Corrected Error Percentage (Test Dataset): 4.1667%\n",
            "   Run 5/5 ...      Epoch 0: Train Loss = 0.7741, Val Loss = 12.9140\n"
          ]
        },
        {
          "output_type": "stream",
          "name": "stderr",
          "text": [
            "<ipython-input-438-ab28ec98d12e>:152: UserWarning: To copy construct from a tensor, it is recommended to use sourceTensor.clone().detach() or sourceTensor.clone().detach().requires_grad_(True), rather than torch.tensor(sourceTensor).\n",
            "  X_scaled_tensor = torch.tensor(combined_X, dtype=torch.float32).unsqueeze(1)\n"
          ]
        },
        {
          "output_type": "stream",
          "name": "stdout",
          "text": [
            "     Epoch 5: Train Loss = 0.7347, Val Loss = 12.7977\n",
            "     Epoch 10: Train Loss = 0.7305, Val Loss = 13.3927\n",
            "     Epoch 15: Train Loss = 0.7202, Val Loss = 12.8522\n",
            "     Epoch 20: Train Loss = 0.7191, Val Loss = 14.7943\n",
            "    ⏹️ Early stopping at epoch 24\n",
            " Run 5 finished with best val loss: 12.6341\n",
            "Original Error Percentage (Test Dataset): 4.0399%\n",
            "Corrected Error Percentage (Test Dataset): 4.4345%\n",
            " Finished configuration H=64, D=0.2, LR=0.001, B=32 → Avg Val Loss: 11.5833, Avg Accuracy: 4.2082%\n",
            "\n",
            " Running 55/81: H=128, D=0.0, LR=0.0001, B=8\n",
            "   Run 1/5 ... "
          ]
        },
        {
          "output_type": "stream",
          "name": "stderr",
          "text": [
            "<ipython-input-438-ab28ec98d12e>:152: UserWarning: To copy construct from a tensor, it is recommended to use sourceTensor.clone().detach() or sourceTensor.clone().detach().requires_grad_(True), rather than torch.tensor(sourceTensor).\n",
            "  X_scaled_tensor = torch.tensor(combined_X, dtype=torch.float32).unsqueeze(1)\n"
          ]
        },
        {
          "output_type": "stream",
          "name": "stdout",
          "text": [
            "     Epoch 0: Train Loss = 0.7462, Val Loss = 10.2756\n",
            "     Epoch 5: Train Loss = 0.7177, Val Loss = 12.3540\n",
            "     Epoch 10: Train Loss = 0.7166, Val Loss = 12.6210\n",
            "     Epoch 15: Train Loss = 0.7170, Val Loss = 12.2642\n",
            "     Epoch 20: Train Loss = 0.7158, Val Loss = 11.8913\n",
            "    ⏹️ Early stopping at epoch 20\n",
            " Run 1 finished with best val loss: 10.2756\n",
            "Original Error Percentage (Test Dataset): 4.0399%\n",
            "Corrected Error Percentage (Test Dataset): 3.3596%\n",
            "   Run 2/5 ... "
          ]
        },
        {
          "output_type": "stream",
          "name": "stderr",
          "text": [
            "<ipython-input-438-ab28ec98d12e>:152: UserWarning: To copy construct from a tensor, it is recommended to use sourceTensor.clone().detach() or sourceTensor.clone().detach().requires_grad_(True), rather than torch.tensor(sourceTensor).\n",
            "  X_scaled_tensor = torch.tensor(combined_X, dtype=torch.float32).unsqueeze(1)\n"
          ]
        },
        {
          "output_type": "stream",
          "name": "stdout",
          "text": [
            "     Epoch 0: Train Loss = 0.7715, Val Loss = 12.0807\n",
            "     Epoch 5: Train Loss = 0.7169, Val Loss = 13.8383\n",
            "     Epoch 10: Train Loss = 0.7160, Val Loss = 15.5230\n",
            "     Epoch 15: Train Loss = 0.7160, Val Loss = 14.7325\n",
            "     Epoch 20: Train Loss = 0.7140, Val Loss = 16.9725\n",
            "    ⏹️ Early stopping at epoch 20\n",
            " Run 2 finished with best val loss: 12.0807\n",
            "Original Error Percentage (Test Dataset): 4.0399%\n",
            "Corrected Error Percentage (Test Dataset): 4.7000%\n",
            "   Run 3/5 ... "
          ]
        },
        {
          "output_type": "stream",
          "name": "stderr",
          "text": [
            "<ipython-input-438-ab28ec98d12e>:152: UserWarning: To copy construct from a tensor, it is recommended to use sourceTensor.clone().detach() or sourceTensor.clone().detach().requires_grad_(True), rather than torch.tensor(sourceTensor).\n",
            "  X_scaled_tensor = torch.tensor(combined_X, dtype=torch.float32).unsqueeze(1)\n"
          ]
        },
        {
          "output_type": "stream",
          "name": "stdout",
          "text": [
            "     Epoch 0: Train Loss = 0.7555, Val Loss = 13.7877\n",
            "     Epoch 5: Train Loss = 0.7167, Val Loss = 16.3209\n",
            "     Epoch 10: Train Loss = 0.7167, Val Loss = 16.1361\n",
            "     Epoch 15: Train Loss = 0.7174, Val Loss = 15.3583\n",
            "     Epoch 20: Train Loss = 0.7149, Val Loss = 16.0845\n",
            "    ⏹️ Early stopping at epoch 21\n",
            " Run 3 finished with best val loss: 13.7512\n",
            "Original Error Percentage (Test Dataset): 4.0399%\n",
            "Corrected Error Percentage (Test Dataset): 4.3115%\n",
            "   Run 4/5 ... "
          ]
        },
        {
          "output_type": "stream",
          "name": "stderr",
          "text": [
            "<ipython-input-438-ab28ec98d12e>:152: UserWarning: To copy construct from a tensor, it is recommended to use sourceTensor.clone().detach() or sourceTensor.clone().detach().requires_grad_(True), rather than torch.tensor(sourceTensor).\n",
            "  X_scaled_tensor = torch.tensor(combined_X, dtype=torch.float32).unsqueeze(1)\n"
          ]
        },
        {
          "output_type": "stream",
          "name": "stdout",
          "text": [
            "     Epoch 0: Train Loss = 0.7611, Val Loss = 17.5398\n",
            "     Epoch 5: Train Loss = 0.7182, Val Loss = 15.8324\n",
            "     Epoch 10: Train Loss = 0.7170, Val Loss = 15.9946\n",
            "     Epoch 15: Train Loss = 0.7164, Val Loss = 15.1989\n",
            "     Epoch 20: Train Loss = 0.7150, Val Loss = 14.7424\n",
            "     Epoch 25: Train Loss = 0.7152, Val Loss = 17.1202\n",
            "     Epoch 30: Train Loss = 0.7148, Val Loss = 16.7268\n",
            "     Epoch 35: Train Loss = 0.7134, Val Loss = 17.5401\n",
            "    ⏹️ Early stopping at epoch 38\n",
            " Run 4 finished with best val loss: 14.1090\n",
            "Original Error Percentage (Test Dataset): 4.0399%\n",
            "Corrected Error Percentage (Test Dataset): 5.4643%\n",
            "   Run 5/5 ... "
          ]
        },
        {
          "output_type": "stream",
          "name": "stderr",
          "text": [
            "<ipython-input-438-ab28ec98d12e>:152: UserWarning: To copy construct from a tensor, it is recommended to use sourceTensor.clone().detach() or sourceTensor.clone().detach().requires_grad_(True), rather than torch.tensor(sourceTensor).\n",
            "  X_scaled_tensor = torch.tensor(combined_X, dtype=torch.float32).unsqueeze(1)\n"
          ]
        },
        {
          "output_type": "stream",
          "name": "stdout",
          "text": [
            "     Epoch 0: Train Loss = 0.7395, Val Loss = 12.5131\n",
            "     Epoch 5: Train Loss = 0.7186, Val Loss = 13.5409\n",
            "     Epoch 10: Train Loss = 0.7154, Val Loss = 17.4490\n",
            "     Epoch 15: Train Loss = 0.7157, Val Loss = 15.9326\n",
            "     Epoch 20: Train Loss = 0.7146, Val Loss = 16.1553\n",
            "     Epoch 25: Train Loss = 0.7154, Val Loss = 18.3681\n",
            "     Epoch 30: Train Loss = 0.7136, Val Loss = 18.5300\n",
            "     Epoch 35: Train Loss = 0.7126, Val Loss = 18.4633\n",
            "    ⏹️ Early stopping at epoch 38\n",
            " Run 5 finished with best val loss: 11.9217\n",
            "Original Error Percentage (Test Dataset): 4.0399%\n",
            "Corrected Error Percentage (Test Dataset): 5.7697%\n",
            " Finished configuration H=128, D=0.0, LR=0.0001, B=8 → Avg Val Loss: 12.4277, Avg Accuracy: 4.7210%\n",
            "\n",
            " Running 56/81: H=128, D=0.0, LR=0.0001, B=16\n",
            "   Run 1/5 ...      Epoch 0: Train Loss = 0.8788, Val Loss = 10.5770\n"
          ]
        },
        {
          "output_type": "stream",
          "name": "stderr",
          "text": [
            "<ipython-input-438-ab28ec98d12e>:152: UserWarning: To copy construct from a tensor, it is recommended to use sourceTensor.clone().detach() or sourceTensor.clone().detach().requires_grad_(True), rather than torch.tensor(sourceTensor).\n",
            "  X_scaled_tensor = torch.tensor(combined_X, dtype=torch.float32).unsqueeze(1)\n"
          ]
        },
        {
          "output_type": "stream",
          "name": "stdout",
          "text": [
            "     Epoch 5: Train Loss = 0.7186, Val Loss = 15.2144\n",
            "     Epoch 10: Train Loss = 0.7172, Val Loss = 14.8219\n",
            "     Epoch 15: Train Loss = 0.7182, Val Loss = 13.9944\n",
            "     Epoch 20: Train Loss = 0.7160, Val Loss = 14.8397\n",
            "    ⏹️ Early stopping at epoch 20\n",
            " Run 1 finished with best val loss: 10.5770\n",
            "Original Error Percentage (Test Dataset): 4.0399%\n",
            "Corrected Error Percentage (Test Dataset): 4.1065%\n",
            "   Run 2/5 ...      Epoch 0: Train Loss = 0.7784, Val Loss = 10.4374\n"
          ]
        },
        {
          "output_type": "stream",
          "name": "stderr",
          "text": [
            "<ipython-input-438-ab28ec98d12e>:152: UserWarning: To copy construct from a tensor, it is recommended to use sourceTensor.clone().detach() or sourceTensor.clone().detach().requires_grad_(True), rather than torch.tensor(sourceTensor).\n",
            "  X_scaled_tensor = torch.tensor(combined_X, dtype=torch.float32).unsqueeze(1)\n"
          ]
        },
        {
          "output_type": "stream",
          "name": "stdout",
          "text": [
            "     Epoch 5: Train Loss = 0.7176, Val Loss = 12.1382\n",
            "     Epoch 10: Train Loss = 0.7160, Val Loss = 12.6764\n",
            "     Epoch 15: Train Loss = 0.7176, Val Loss = 12.7603\n",
            "     Epoch 20: Train Loss = 0.7158, Val Loss = 13.1039\n",
            "    ⏹️ Early stopping at epoch 20\n",
            " Run 2 finished with best val loss: 10.4374\n",
            "Original Error Percentage (Test Dataset): 4.0399%\n",
            "Corrected Error Percentage (Test Dataset): 3.5920%\n",
            "   Run 3/5 ...      Epoch 0: Train Loss = 0.7977, Val Loss = 10.7704\n"
          ]
        },
        {
          "output_type": "stream",
          "name": "stderr",
          "text": [
            "<ipython-input-438-ab28ec98d12e>:152: UserWarning: To copy construct from a tensor, it is recommended to use sourceTensor.clone().detach() or sourceTensor.clone().detach().requires_grad_(True), rather than torch.tensor(sourceTensor).\n",
            "  X_scaled_tensor = torch.tensor(combined_X, dtype=torch.float32).unsqueeze(1)\n"
          ]
        },
        {
          "output_type": "stream",
          "name": "stdout",
          "text": [
            "     Epoch 5: Train Loss = 0.7174, Val Loss = 12.6268\n",
            "     Epoch 10: Train Loss = 0.7167, Val Loss = 13.6671\n",
            "     Epoch 15: Train Loss = 0.7162, Val Loss = 13.9742\n",
            "     Epoch 20: Train Loss = 0.7181, Val Loss = 13.3630\n",
            "    ⏹️ Early stopping at epoch 20\n",
            " Run 3 finished with best val loss: 10.7704\n",
            "Original Error Percentage (Test Dataset): 4.0399%\n",
            "Corrected Error Percentage (Test Dataset): 3.7236%\n",
            "   Run 4/5 ...      Epoch 0: Train Loss = 0.7636, Val Loss = 10.3852\n"
          ]
        },
        {
          "output_type": "stream",
          "name": "stderr",
          "text": [
            "<ipython-input-438-ab28ec98d12e>:152: UserWarning: To copy construct from a tensor, it is recommended to use sourceTensor.clone().detach() or sourceTensor.clone().detach().requires_grad_(True), rather than torch.tensor(sourceTensor).\n",
            "  X_scaled_tensor = torch.tensor(combined_X, dtype=torch.float32).unsqueeze(1)\n"
          ]
        },
        {
          "output_type": "stream",
          "name": "stdout",
          "text": [
            "     Epoch 5: Train Loss = 0.7160, Val Loss = 14.2790\n",
            "     Epoch 10: Train Loss = 0.7153, Val Loss = 13.9221\n",
            "     Epoch 15: Train Loss = 0.7150, Val Loss = 13.8295\n",
            "     Epoch 20: Train Loss = 0.7146, Val Loss = 13.6685\n",
            "    ⏹️ Early stopping at epoch 20\n",
            " Run 4 finished with best val loss: 10.3852\n",
            "Original Error Percentage (Test Dataset): 4.0399%\n",
            "Corrected Error Percentage (Test Dataset): 3.8028%\n",
            "   Run 5/5 ...      Epoch 0: Train Loss = 0.8156, Val Loss = 7.9761\n"
          ]
        },
        {
          "output_type": "stream",
          "name": "stderr",
          "text": [
            "<ipython-input-438-ab28ec98d12e>:152: UserWarning: To copy construct from a tensor, it is recommended to use sourceTensor.clone().detach() or sourceTensor.clone().detach().requires_grad_(True), rather than torch.tensor(sourceTensor).\n",
            "  X_scaled_tensor = torch.tensor(combined_X, dtype=torch.float32).unsqueeze(1)\n"
          ]
        },
        {
          "output_type": "stream",
          "name": "stdout",
          "text": [
            "     Epoch 5: Train Loss = 0.7185, Val Loss = 13.8327\n",
            "     Epoch 10: Train Loss = 0.7158, Val Loss = 13.9504\n",
            "     Epoch 15: Train Loss = 0.7161, Val Loss = 13.5732\n",
            "     Epoch 20: Train Loss = 0.7154, Val Loss = 14.3810\n",
            "    ⏹️ Early stopping at epoch 20\n",
            " Run 5 finished with best val loss: 7.9761\n",
            "Original Error Percentage (Test Dataset): 4.0399%\n",
            "Corrected Error Percentage (Test Dataset): 3.9540%\n",
            " Finished configuration H=128, D=0.0, LR=0.0001, B=16 → Avg Val Loss: 10.0292, Avg Accuracy: 3.8358%\n",
            "\n",
            " Running 57/81: H=128, D=0.0, LR=0.0001, B=32\n",
            "   Run 1/5 ...      Epoch 0: Train Loss = 0.7414, Val Loss = 13.1126\n"
          ]
        },
        {
          "output_type": "stream",
          "name": "stderr",
          "text": [
            "<ipython-input-438-ab28ec98d12e>:152: UserWarning: To copy construct from a tensor, it is recommended to use sourceTensor.clone().detach() or sourceTensor.clone().detach().requires_grad_(True), rather than torch.tensor(sourceTensor).\n",
            "  X_scaled_tensor = torch.tensor(combined_X, dtype=torch.float32).unsqueeze(1)\n"
          ]
        },
        {
          "output_type": "stream",
          "name": "stdout",
          "text": [
            "     Epoch 5: Train Loss = 0.7173, Val Loss = 15.1021\n",
            "     Epoch 10: Train Loss = 0.7162, Val Loss = 14.7544\n",
            "     Epoch 15: Train Loss = 0.7153, Val Loss = 14.1513\n",
            "     Epoch 20: Train Loss = 0.7149, Val Loss = 14.7078\n",
            "    ⏹️ Early stopping at epoch 20\n",
            " Run 1 finished with best val loss: 13.1126\n",
            "Original Error Percentage (Test Dataset): 4.0399%\n",
            "Corrected Error Percentage (Test Dataset): 4.0388%\n",
            "   Run 2/5 ...      Epoch 0: Train Loss = 0.8597, Val Loss = 6.6193\n"
          ]
        },
        {
          "output_type": "stream",
          "name": "stderr",
          "text": [
            "<ipython-input-438-ab28ec98d12e>:152: UserWarning: To copy construct from a tensor, it is recommended to use sourceTensor.clone().detach() or sourceTensor.clone().detach().requires_grad_(True), rather than torch.tensor(sourceTensor).\n",
            "  X_scaled_tensor = torch.tensor(combined_X, dtype=torch.float32).unsqueeze(1)\n"
          ]
        },
        {
          "output_type": "stream",
          "name": "stdout",
          "text": [
            "     Epoch 5: Train Loss = 0.7171, Val Loss = 11.8808\n",
            "     Epoch 10: Train Loss = 0.7163, Val Loss = 12.4130\n",
            "     Epoch 15: Train Loss = 0.7162, Val Loss = 12.5107\n",
            "     Epoch 20: Train Loss = 0.7150, Val Loss = 13.1575\n",
            "    ⏹️ Early stopping at epoch 20\n",
            " Run 2 finished with best val loss: 6.6193\n",
            "Original Error Percentage (Test Dataset): 4.0399%\n",
            "Corrected Error Percentage (Test Dataset): 3.6600%\n",
            "   Run 3/5 ...      Epoch 0: Train Loss = 0.7644, Val Loss = 10.2757\n"
          ]
        },
        {
          "output_type": "stream",
          "name": "stderr",
          "text": [
            "<ipython-input-438-ab28ec98d12e>:152: UserWarning: To copy construct from a tensor, it is recommended to use sourceTensor.clone().detach() or sourceTensor.clone().detach().requires_grad_(True), rather than torch.tensor(sourceTensor).\n",
            "  X_scaled_tensor = torch.tensor(combined_X, dtype=torch.float32).unsqueeze(1)\n"
          ]
        },
        {
          "output_type": "stream",
          "name": "stdout",
          "text": [
            "     Epoch 5: Train Loss = 0.7154, Val Loss = 13.9079\n",
            "     Epoch 10: Train Loss = 0.7151, Val Loss = 13.3403\n",
            "     Epoch 15: Train Loss = 0.7139, Val Loss = 13.7223\n",
            "     Epoch 20: Train Loss = 0.7137, Val Loss = 13.9818\n",
            "    ⏹️ Early stopping at epoch 20\n",
            " Run 3 finished with best val loss: 10.2757\n",
            "Original Error Percentage (Test Dataset): 4.0399%\n",
            "Corrected Error Percentage (Test Dataset): 3.8405%\n",
            "   Run 4/5 ...      Epoch 0: Train Loss = 0.7696, Val Loss = 10.2497\n"
          ]
        },
        {
          "output_type": "stream",
          "name": "stderr",
          "text": [
            "<ipython-input-438-ab28ec98d12e>:152: UserWarning: To copy construct from a tensor, it is recommended to use sourceTensor.clone().detach() or sourceTensor.clone().detach().requires_grad_(True), rather than torch.tensor(sourceTensor).\n",
            "  X_scaled_tensor = torch.tensor(combined_X, dtype=torch.float32).unsqueeze(1)\n"
          ]
        },
        {
          "output_type": "stream",
          "name": "stdout",
          "text": [
            "     Epoch 5: Train Loss = 0.7170, Val Loss = 14.5489\n",
            "     Epoch 10: Train Loss = 0.7158, Val Loss = 14.0976\n",
            "     Epoch 15: Train Loss = 0.7153, Val Loss = 14.3982\n",
            "     Epoch 20: Train Loss = 0.7147, Val Loss = 14.5300\n",
            "    ⏹️ Early stopping at epoch 20\n",
            " Run 4 finished with best val loss: 10.2497\n",
            "Original Error Percentage (Test Dataset): 4.0399%\n",
            "Corrected Error Percentage (Test Dataset): 3.9604%\n",
            "   Run 5/5 ...      Epoch 0: Train Loss = 0.8147, Val Loss = 7.9407\n"
          ]
        },
        {
          "output_type": "stream",
          "name": "stderr",
          "text": [
            "<ipython-input-438-ab28ec98d12e>:152: UserWarning: To copy construct from a tensor, it is recommended to use sourceTensor.clone().detach() or sourceTensor.clone().detach().requires_grad_(True), rather than torch.tensor(sourceTensor).\n",
            "  X_scaled_tensor = torch.tensor(combined_X, dtype=torch.float32).unsqueeze(1)\n"
          ]
        },
        {
          "output_type": "stream",
          "name": "stdout",
          "text": [
            "     Epoch 5: Train Loss = 0.7162, Val Loss = 14.5959\n",
            "     Epoch 10: Train Loss = 0.7156, Val Loss = 14.9941\n",
            "     Epoch 15: Train Loss = 0.7151, Val Loss = 14.5688\n",
            "     Epoch 20: Train Loss = 0.7152, Val Loss = 14.7985\n",
            "    ⏹️ Early stopping at epoch 20\n",
            " Run 5 finished with best val loss: 7.9407\n",
            "Original Error Percentage (Test Dataset): 4.0399%\n",
            "Corrected Error Percentage (Test Dataset): 4.0385%\n",
            " Finished configuration H=128, D=0.0, LR=0.0001, B=32 → Avg Val Loss: 9.6396, Avg Accuracy: 3.9076%\n",
            "\n",
            " Running 58/81: H=128, D=0.0, LR=0.0005, B=8\n",
            "   Run 1/5 ... "
          ]
        },
        {
          "output_type": "stream",
          "name": "stderr",
          "text": [
            "<ipython-input-438-ab28ec98d12e>:152: UserWarning: To copy construct from a tensor, it is recommended to use sourceTensor.clone().detach() or sourceTensor.clone().detach().requires_grad_(True), rather than torch.tensor(sourceTensor).\n",
            "  X_scaled_tensor = torch.tensor(combined_X, dtype=torch.float32).unsqueeze(1)\n"
          ]
        },
        {
          "output_type": "stream",
          "name": "stdout",
          "text": [
            "     Epoch 0: Train Loss = 0.7276, Val Loss = 18.1408\n",
            "     Epoch 5: Train Loss = 0.7198, Val Loss = 16.6734\n",
            "     Epoch 10: Train Loss = 0.7191, Val Loss = 16.7600\n",
            "     Epoch 15: Train Loss = 0.7184, Val Loss = 14.3853\n",
            "     Epoch 20: Train Loss = 0.7161, Val Loss = 19.4542\n",
            "    ⏹️ Early stopping at epoch 21\n",
            " Run 1 finished with best val loss: 11.2469\n",
            "Original Error Percentage (Test Dataset): 4.0399%\n",
            "Corrected Error Percentage (Test Dataset): 5.3686%\n",
            "   Run 2/5 ... "
          ]
        },
        {
          "output_type": "stream",
          "name": "stderr",
          "text": [
            "<ipython-input-438-ab28ec98d12e>:152: UserWarning: To copy construct from a tensor, it is recommended to use sourceTensor.clone().detach() or sourceTensor.clone().detach().requires_grad_(True), rather than torch.tensor(sourceTensor).\n",
            "  X_scaled_tensor = torch.tensor(combined_X, dtype=torch.float32).unsqueeze(1)\n"
          ]
        },
        {
          "output_type": "stream",
          "name": "stdout",
          "text": [
            "     Epoch 0: Train Loss = 0.7352, Val Loss = 12.4215\n",
            "     Epoch 5: Train Loss = 0.7172, Val Loss = 15.6770\n",
            "     Epoch 10: Train Loss = 0.7196, Val Loss = 17.1377\n",
            "     Epoch 15: Train Loss = 0.7180, Val Loss = 17.4925\n",
            "     Epoch 20: Train Loss = 0.7154, Val Loss = 22.8626\n",
            "    ⏹️ Early stopping at epoch 20\n",
            " Run 2 finished with best val loss: 12.4215\n",
            "Original Error Percentage (Test Dataset): 4.0399%\n",
            "Corrected Error Percentage (Test Dataset): 6.3796%\n",
            "   Run 3/5 ... "
          ]
        },
        {
          "output_type": "stream",
          "name": "stderr",
          "text": [
            "<ipython-input-438-ab28ec98d12e>:152: UserWarning: To copy construct from a tensor, it is recommended to use sourceTensor.clone().detach() or sourceTensor.clone().detach().requires_grad_(True), rather than torch.tensor(sourceTensor).\n",
            "  X_scaled_tensor = torch.tensor(combined_X, dtype=torch.float32).unsqueeze(1)\n"
          ]
        },
        {
          "output_type": "stream",
          "name": "stdout",
          "text": [
            "     Epoch 0: Train Loss = 0.7311, Val Loss = 15.9566\n",
            "     Epoch 5: Train Loss = 0.7206, Val Loss = 12.8754\n",
            "     Epoch 10: Train Loss = 0.7227, Val Loss = 16.6859\n",
            "     Epoch 15: Train Loss = 0.7186, Val Loss = 16.2273\n",
            "     Epoch 20: Train Loss = 0.7157, Val Loss = 22.6427\n",
            "    ⏹️ Early stopping at epoch 24\n",
            " Run 3 finished with best val loss: 11.7536\n",
            "Original Error Percentage (Test Dataset): 4.0399%\n",
            "Corrected Error Percentage (Test Dataset): 6.0142%\n",
            "   Run 4/5 ... "
          ]
        },
        {
          "output_type": "stream",
          "name": "stderr",
          "text": [
            "<ipython-input-438-ab28ec98d12e>:152: UserWarning: To copy construct from a tensor, it is recommended to use sourceTensor.clone().detach() or sourceTensor.clone().detach().requires_grad_(True), rather than torch.tensor(sourceTensor).\n",
            "  X_scaled_tensor = torch.tensor(combined_X, dtype=torch.float32).unsqueeze(1)\n"
          ]
        },
        {
          "output_type": "stream",
          "name": "stdout",
          "text": [
            "     Epoch 0: Train Loss = 0.7351, Val Loss = 14.0565\n",
            "     Epoch 5: Train Loss = 0.7274, Val Loss = 14.6841\n",
            "     Epoch 10: Train Loss = 0.7189, Val Loss = 16.7552\n",
            "     Epoch 15: Train Loss = 0.7172, Val Loss = 14.6203\n",
            "     Epoch 20: Train Loss = 0.7202, Val Loss = 15.6317\n",
            "     Epoch 25: Train Loss = 0.7175, Val Loss = 14.5411\n",
            "    ⏹️ Early stopping at epoch 27\n",
            " Run 4 finished with best val loss: 10.7093\n",
            "Original Error Percentage (Test Dataset): 4.0399%\n",
            "Corrected Error Percentage (Test Dataset): 4.3612%\n",
            "   Run 5/5 ... "
          ]
        },
        {
          "output_type": "stream",
          "name": "stderr",
          "text": [
            "<ipython-input-438-ab28ec98d12e>:152: UserWarning: To copy construct from a tensor, it is recommended to use sourceTensor.clone().detach() or sourceTensor.clone().detach().requires_grad_(True), rather than torch.tensor(sourceTensor).\n",
            "  X_scaled_tensor = torch.tensor(combined_X, dtype=torch.float32).unsqueeze(1)\n"
          ]
        },
        {
          "output_type": "stream",
          "name": "stdout",
          "text": [
            "     Epoch 0: Train Loss = 0.7359, Val Loss = 14.9860\n",
            "     Epoch 5: Train Loss = 0.7244, Val Loss = 11.4672\n",
            "     Epoch 10: Train Loss = 0.7207, Val Loss = 15.3183\n",
            "     Epoch 15: Train Loss = 0.7152, Val Loss = 18.9140\n",
            "     Epoch 20: Train Loss = 0.7196, Val Loss = 17.8935\n",
            "    ⏹️ Early stopping at epoch 22\n",
            " Run 5 finished with best val loss: 9.1526\n",
            "Original Error Percentage (Test Dataset): 4.0399%\n",
            "Corrected Error Percentage (Test Dataset): 4.5085%\n",
            " Finished configuration H=128, D=0.0, LR=0.0005, B=8 → Avg Val Loss: 11.0568, Avg Accuracy: 5.3264%\n",
            "\n",
            " Running 59/81: H=128, D=0.0, LR=0.0005, B=16\n",
            "   Run 1/5 ...      Epoch 0: Train Loss = 0.7438, Val Loss = 13.3074\n"
          ]
        },
        {
          "output_type": "stream",
          "name": "stderr",
          "text": [
            "<ipython-input-438-ab28ec98d12e>:152: UserWarning: To copy construct from a tensor, it is recommended to use sourceTensor.clone().detach() or sourceTensor.clone().detach().requires_grad_(True), rather than torch.tensor(sourceTensor).\n",
            "  X_scaled_tensor = torch.tensor(combined_X, dtype=torch.float32).unsqueeze(1)\n"
          ]
        },
        {
          "output_type": "stream",
          "name": "stdout",
          "text": [
            "     Epoch 5: Train Loss = 0.7233, Val Loss = 14.4085\n",
            "     Epoch 10: Train Loss = 0.7216, Val Loss = 16.8281\n",
            "     Epoch 15: Train Loss = 0.7159, Val Loss = 16.5988\n",
            "     Epoch 20: Train Loss = 0.7180, Val Loss = 19.3872\n",
            "     Epoch 25: Train Loss = 0.7161, Val Loss = 20.6998\n",
            "    ⏹️ Early stopping at epoch 29\n",
            " Run 1 finished with best val loss: 12.6451\n",
            "Original Error Percentage (Test Dataset): 4.0399%\n",
            "Corrected Error Percentage (Test Dataset): 6.1725%\n",
            "   Run 2/5 ...      Epoch 0: Train Loss = 0.7342, Val Loss = 13.0275\n"
          ]
        },
        {
          "output_type": "stream",
          "name": "stderr",
          "text": [
            "<ipython-input-438-ab28ec98d12e>:152: UserWarning: To copy construct from a tensor, it is recommended to use sourceTensor.clone().detach() or sourceTensor.clone().detach().requires_grad_(True), rather than torch.tensor(sourceTensor).\n",
            "  X_scaled_tensor = torch.tensor(combined_X, dtype=torch.float32).unsqueeze(1)\n"
          ]
        },
        {
          "output_type": "stream",
          "name": "stdout",
          "text": [
            "     Epoch 5: Train Loss = 0.7200, Val Loss = 13.2259\n",
            "     Epoch 10: Train Loss = 0.7198, Val Loss = 15.6990\n",
            "     Epoch 15: Train Loss = 0.7209, Val Loss = 21.1451\n",
            "     Epoch 20: Train Loss = 0.7146, Val Loss = 19.2924\n",
            "    ⏹️ Early stopping at epoch 24\n",
            " Run 2 finished with best val loss: 12.1460\n",
            "Original Error Percentage (Test Dataset): 4.0399%\n",
            "Corrected Error Percentage (Test Dataset): 6.4802%\n",
            "   Run 3/5 ...      Epoch 0: Train Loss = 0.7278, Val Loss = 15.5144\n"
          ]
        },
        {
          "output_type": "stream",
          "name": "stderr",
          "text": [
            "<ipython-input-438-ab28ec98d12e>:152: UserWarning: To copy construct from a tensor, it is recommended to use sourceTensor.clone().detach() or sourceTensor.clone().detach().requires_grad_(True), rather than torch.tensor(sourceTensor).\n",
            "  X_scaled_tensor = torch.tensor(combined_X, dtype=torch.float32).unsqueeze(1)\n"
          ]
        },
        {
          "output_type": "stream",
          "name": "stdout",
          "text": [
            "     Epoch 5: Train Loss = 0.7215, Val Loss = 16.1801\n",
            "     Epoch 10: Train Loss = 0.7177, Val Loss = 18.1074\n",
            "     Epoch 15: Train Loss = 0.7188, Val Loss = 18.5849\n",
            "     Epoch 20: Train Loss = 0.7191, Val Loss = 15.9832\n",
            "    ⏹️ Early stopping at epoch 21\n",
            " Run 3 finished with best val loss: 9.5817\n",
            "Original Error Percentage (Test Dataset): 4.0399%\n",
            "Corrected Error Percentage (Test Dataset): 5.9090%\n",
            "   Run 4/5 ... "
          ]
        },
        {
          "output_type": "stream",
          "name": "stderr",
          "text": [
            "<ipython-input-438-ab28ec98d12e>:152: UserWarning: To copy construct from a tensor, it is recommended to use sourceTensor.clone().detach() or sourceTensor.clone().detach().requires_grad_(True), rather than torch.tensor(sourceTensor).\n",
            "  X_scaled_tensor = torch.tensor(combined_X, dtype=torch.float32).unsqueeze(1)\n"
          ]
        },
        {
          "output_type": "stream",
          "name": "stdout",
          "text": [
            "     Epoch 0: Train Loss = 0.7360, Val Loss = 11.9567\n",
            "     Epoch 5: Train Loss = 0.7193, Val Loss = 15.1216\n",
            "     Epoch 10: Train Loss = 0.7171, Val Loss = 14.8606\n",
            "     Epoch 15: Train Loss = 0.7158, Val Loss = 18.0201\n",
            "     Epoch 20: Train Loss = 0.7140, Val Loss = 17.5305\n",
            "    ⏹️ Early stopping at epoch 20\n",
            " Run 4 finished with best val loss: 11.9567\n",
            "Original Error Percentage (Test Dataset): 4.0399%\n",
            "Corrected Error Percentage (Test Dataset): 5.0587%\n",
            "   Run 5/5 ...      Epoch 0: Train Loss = 0.7437, Val Loss = 14.6736\n"
          ]
        },
        {
          "output_type": "stream",
          "name": "stderr",
          "text": [
            "<ipython-input-438-ab28ec98d12e>:152: UserWarning: To copy construct from a tensor, it is recommended to use sourceTensor.clone().detach() or sourceTensor.clone().detach().requires_grad_(True), rather than torch.tensor(sourceTensor).\n",
            "  X_scaled_tensor = torch.tensor(combined_X, dtype=torch.float32).unsqueeze(1)\n"
          ]
        },
        {
          "output_type": "stream",
          "name": "stdout",
          "text": [
            "     Epoch 5: Train Loss = 0.7176, Val Loss = 17.5947\n",
            "     Epoch 10: Train Loss = 0.7185, Val Loss = 16.3740\n",
            "     Epoch 15: Train Loss = 0.7219, Val Loss = 17.7132\n",
            "     Epoch 20: Train Loss = 0.7157, Val Loss = 18.3887\n",
            "    ⏹️ Early stopping at epoch 22\n",
            " Run 5 finished with best val loss: 13.2858\n",
            "Original Error Percentage (Test Dataset): 4.0399%\n",
            "Corrected Error Percentage (Test Dataset): 6.7787%\n",
            " Finished configuration H=128, D=0.0, LR=0.0005, B=16 → Avg Val Loss: 11.9231, Avg Accuracy: 6.0798%\n",
            "\n",
            " Running 60/81: H=128, D=0.0, LR=0.0005, B=32\n",
            "   Run 1/5 ...      Epoch 0: Train Loss = 0.7416, Val Loss = 16.8980\n"
          ]
        },
        {
          "output_type": "stream",
          "name": "stderr",
          "text": [
            "<ipython-input-438-ab28ec98d12e>:152: UserWarning: To copy construct from a tensor, it is recommended to use sourceTensor.clone().detach() or sourceTensor.clone().detach().requires_grad_(True), rather than torch.tensor(sourceTensor).\n",
            "  X_scaled_tensor = torch.tensor(combined_X, dtype=torch.float32).unsqueeze(1)\n"
          ]
        },
        {
          "output_type": "stream",
          "name": "stdout",
          "text": [
            "     Epoch 5: Train Loss = 0.7191, Val Loss = 13.4911\n",
            "     Epoch 10: Train Loss = 0.7160, Val Loss = 15.1190\n",
            "     Epoch 15: Train Loss = 0.7165, Val Loss = 13.5996\n",
            "     Epoch 20: Train Loss = 0.7163, Val Loss = 14.8425\n",
            "    ⏹️ Early stopping at epoch 23\n",
            " Run 1 finished with best val loss: 12.3538\n",
            "Original Error Percentage (Test Dataset): 4.0399%\n",
            "Corrected Error Percentage (Test Dataset): 3.9697%\n",
            "   Run 2/5 ...      Epoch 0: Train Loss = 0.7639, Val Loss = 15.4261\n"
          ]
        },
        {
          "output_type": "stream",
          "name": "stderr",
          "text": [
            "<ipython-input-438-ab28ec98d12e>:152: UserWarning: To copy construct from a tensor, it is recommended to use sourceTensor.clone().detach() or sourceTensor.clone().detach().requires_grad_(True), rather than torch.tensor(sourceTensor).\n",
            "  X_scaled_tensor = torch.tensor(combined_X, dtype=torch.float32).unsqueeze(1)\n"
          ]
        },
        {
          "output_type": "stream",
          "name": "stdout",
          "text": [
            "     Epoch 5: Train Loss = 0.7175, Val Loss = 12.1189\n",
            "     Epoch 10: Train Loss = 0.7169, Val Loss = 13.1091\n",
            "     Epoch 15: Train Loss = 0.7166, Val Loss = 13.8833\n",
            "     Epoch 20: Train Loss = 0.7173, Val Loss = 15.4840\n",
            "     Epoch 25: Train Loss = 0.7149, Val Loss = 15.5927\n",
            "    ⏹️ Early stopping at epoch 25\n",
            " Run 2 finished with best val loss: 12.1189\n",
            "Original Error Percentage (Test Dataset): 4.0399%\n",
            "Corrected Error Percentage (Test Dataset): 4.4383%\n",
            "   Run 3/5 ...      Epoch 0: Train Loss = 0.7756, Val Loss = 14.0890\n"
          ]
        },
        {
          "output_type": "stream",
          "name": "stderr",
          "text": [
            "<ipython-input-438-ab28ec98d12e>:152: UserWarning: To copy construct from a tensor, it is recommended to use sourceTensor.clone().detach() or sourceTensor.clone().detach().requires_grad_(True), rather than torch.tensor(sourceTensor).\n",
            "  X_scaled_tensor = torch.tensor(combined_X, dtype=torch.float32).unsqueeze(1)\n"
          ]
        },
        {
          "output_type": "stream",
          "name": "stdout",
          "text": [
            "     Epoch 5: Train Loss = 0.7194, Val Loss = 12.6699\n",
            "     Epoch 10: Train Loss = 0.7207, Val Loss = 11.8891\n",
            "     Epoch 15: Train Loss = 0.7168, Val Loss = 14.8202\n",
            "     Epoch 20: Train Loss = 0.7156, Val Loss = 16.1404\n",
            "     Epoch 25: Train Loss = 0.7186, Val Loss = 15.1455\n",
            "     Epoch 30: Train Loss = 0.7198, Val Loss = 17.3255\n",
            "    ⏹️ Early stopping at epoch 30\n",
            " Run 3 finished with best val loss: 11.8891\n",
            "Original Error Percentage (Test Dataset): 4.0399%\n",
            "Corrected Error Percentage (Test Dataset): 4.8026%\n",
            "   Run 4/5 ...      Epoch 0: Train Loss = 0.7566, Val Loss = 14.7224\n"
          ]
        },
        {
          "output_type": "stream",
          "name": "stderr",
          "text": [
            "<ipython-input-438-ab28ec98d12e>:152: UserWarning: To copy construct from a tensor, it is recommended to use sourceTensor.clone().detach() or sourceTensor.clone().detach().requires_grad_(True), rather than torch.tensor(sourceTensor).\n",
            "  X_scaled_tensor = torch.tensor(combined_X, dtype=torch.float32).unsqueeze(1)\n"
          ]
        },
        {
          "output_type": "stream",
          "name": "stdout",
          "text": [
            "     Epoch 5: Train Loss = 0.7181, Val Loss = 13.6086\n",
            "     Epoch 10: Train Loss = 0.7168, Val Loss = 14.9245\n",
            "     Epoch 15: Train Loss = 0.7182, Val Loss = 17.3284\n",
            "     Epoch 20: Train Loss = 0.7138, Val Loss = 15.1713\n",
            "    ⏹️ Early stopping at epoch 22\n",
            " Run 4 finished with best val loss: 12.4186\n",
            "Original Error Percentage (Test Dataset): 4.0399%\n",
            "Corrected Error Percentage (Test Dataset): 4.4478%\n",
            "   Run 5/5 ... "
          ]
        },
        {
          "output_type": "stream",
          "name": "stderr",
          "text": [
            "<ipython-input-438-ab28ec98d12e>:152: UserWarning: To copy construct from a tensor, it is recommended to use sourceTensor.clone().detach() or sourceTensor.clone().detach().requires_grad_(True), rather than torch.tensor(sourceTensor).\n",
            "  X_scaled_tensor = torch.tensor(combined_X, dtype=torch.float32).unsqueeze(1)\n"
          ]
        },
        {
          "output_type": "stream",
          "name": "stdout",
          "text": [
            "     Epoch 0: Train Loss = 0.7447, Val Loss = 14.1157\n",
            "     Epoch 5: Train Loss = 0.7168, Val Loss = 17.0195\n",
            "     Epoch 10: Train Loss = 0.7231, Val Loss = 18.5650\n",
            "     Epoch 15: Train Loss = 0.7178, Val Loss = 13.7733\n",
            "     Epoch 20: Train Loss = 0.7160, Val Loss = 20.7657\n",
            "    ⏹️ Early stopping at epoch 21\n",
            " Run 5 finished with best val loss: 12.0803\n",
            "Original Error Percentage (Test Dataset): 4.0399%\n",
            "Corrected Error Percentage (Test Dataset): 5.8332%\n",
            " Finished configuration H=128, D=0.0, LR=0.0005, B=32 → Avg Val Loss: 12.1721, Avg Accuracy: 4.6984%\n",
            "\n",
            " Running 61/81: H=128, D=0.0, LR=0.001, B=8\n",
            "   Run 1/5 ... "
          ]
        },
        {
          "output_type": "stream",
          "name": "stderr",
          "text": [
            "<ipython-input-438-ab28ec98d12e>:152: UserWarning: To copy construct from a tensor, it is recommended to use sourceTensor.clone().detach() or sourceTensor.clone().detach().requires_grad_(True), rather than torch.tensor(sourceTensor).\n",
            "  X_scaled_tensor = torch.tensor(combined_X, dtype=torch.float32).unsqueeze(1)\n"
          ]
        },
        {
          "output_type": "stream",
          "name": "stdout",
          "text": [
            "     Epoch 0: Train Loss = 0.7434, Val Loss = 15.1104\n",
            "     Epoch 5: Train Loss = 0.7192, Val Loss = 22.1140\n",
            "     Epoch 10: Train Loss = 0.7190, Val Loss = 12.4478\n",
            "     Epoch 15: Train Loss = 0.7213, Val Loss = 16.7795\n",
            "     Epoch 20: Train Loss = 0.7187, Val Loss = 15.6900\n",
            "     Epoch 25: Train Loss = 0.7161, Val Loss = 15.1334\n",
            "     Epoch 30: Train Loss = 0.7162, Val Loss = 21.0308\n",
            "    ⏹️ Early stopping at epoch 30\n",
            " Run 1 finished with best val loss: 12.4478\n",
            "Original Error Percentage (Test Dataset): 4.0399%\n",
            "Corrected Error Percentage (Test Dataset): 6.0433%\n",
            "   Run 2/5 ... "
          ]
        },
        {
          "output_type": "stream",
          "name": "stderr",
          "text": [
            "<ipython-input-438-ab28ec98d12e>:152: UserWarning: To copy construct from a tensor, it is recommended to use sourceTensor.clone().detach() or sourceTensor.clone().detach().requires_grad_(True), rather than torch.tensor(sourceTensor).\n",
            "  X_scaled_tensor = torch.tensor(combined_X, dtype=torch.float32).unsqueeze(1)\n"
          ]
        },
        {
          "output_type": "stream",
          "name": "stdout",
          "text": [
            "     Epoch 0: Train Loss = 0.7404, Val Loss = 13.4604\n",
            "     Epoch 5: Train Loss = 0.7249, Val Loss = 11.0850\n",
            "     Epoch 10: Train Loss = 0.7201, Val Loss = 11.2447\n",
            "     Epoch 15: Train Loss = 0.7174, Val Loss = 10.8041\n",
            "     Epoch 20: Train Loss = 0.7176, Val Loss = 14.2304\n",
            "     Epoch 25: Train Loss = 0.7193, Val Loss = 13.0756\n",
            "    ⏹️ Early stopping at epoch 28\n",
            " Run 2 finished with best val loss: 9.7307\n",
            "Original Error Percentage (Test Dataset): 4.0399%\n",
            "Corrected Error Percentage (Test Dataset): 3.7741%\n",
            "   Run 3/5 ... "
          ]
        },
        {
          "output_type": "stream",
          "name": "stderr",
          "text": [
            "<ipython-input-438-ab28ec98d12e>:152: UserWarning: To copy construct from a tensor, it is recommended to use sourceTensor.clone().detach() or sourceTensor.clone().detach().requires_grad_(True), rather than torch.tensor(sourceTensor).\n",
            "  X_scaled_tensor = torch.tensor(combined_X, dtype=torch.float32).unsqueeze(1)\n"
          ]
        },
        {
          "output_type": "stream",
          "name": "stdout",
          "text": [
            "     Epoch 0: Train Loss = 0.7423, Val Loss = 14.5314\n",
            "     Epoch 5: Train Loss = 0.7220, Val Loss = 13.7488\n",
            "     Epoch 10: Train Loss = 0.7193, Val Loss = 17.1348\n",
            "     Epoch 15: Train Loss = 0.7164, Val Loss = 17.9639\n",
            "     Epoch 20: Train Loss = 0.7213, Val Loss = 12.5581\n",
            "    ⏹️ Early stopping at epoch 22\n",
            " Run 3 finished with best val loss: 10.8115\n",
            "Original Error Percentage (Test Dataset): 4.0399%\n",
            "Corrected Error Percentage (Test Dataset): 4.5721%\n",
            "   Run 4/5 ... "
          ]
        },
        {
          "output_type": "stream",
          "name": "stderr",
          "text": [
            "<ipython-input-438-ab28ec98d12e>:152: UserWarning: To copy construct from a tensor, it is recommended to use sourceTensor.clone().detach() or sourceTensor.clone().detach().requires_grad_(True), rather than torch.tensor(sourceTensor).\n",
            "  X_scaled_tensor = torch.tensor(combined_X, dtype=torch.float32).unsqueeze(1)\n"
          ]
        },
        {
          "output_type": "stream",
          "name": "stdout",
          "text": [
            "     Epoch 0: Train Loss = 0.7387, Val Loss = 17.5341\n",
            "     Epoch 5: Train Loss = 0.7269, Val Loss = 16.0369\n",
            "     Epoch 10: Train Loss = 0.7214, Val Loss = 13.4762\n",
            "     Epoch 15: Train Loss = 0.7214, Val Loss = 14.0400\n",
            "     Epoch 20: Train Loss = 0.7182, Val Loss = 15.5173\n",
            "    ⏹️ Early stopping at epoch 22\n",
            " Run 4 finished with best val loss: 8.5256\n",
            "Original Error Percentage (Test Dataset): 4.0399%\n",
            "Corrected Error Percentage (Test Dataset): 4.8361%\n",
            "   Run 5/5 ... "
          ]
        },
        {
          "output_type": "stream",
          "name": "stderr",
          "text": [
            "<ipython-input-438-ab28ec98d12e>:152: UserWarning: To copy construct from a tensor, it is recommended to use sourceTensor.clone().detach() or sourceTensor.clone().detach().requires_grad_(True), rather than torch.tensor(sourceTensor).\n",
            "  X_scaled_tensor = torch.tensor(combined_X, dtype=torch.float32).unsqueeze(1)\n"
          ]
        },
        {
          "output_type": "stream",
          "name": "stdout",
          "text": [
            "     Epoch 0: Train Loss = 0.7375, Val Loss = 21.9562\n",
            "     Epoch 5: Train Loss = 0.7249, Val Loss = 18.8556\n",
            "     Epoch 10: Train Loss = 0.7206, Val Loss = 18.5494\n",
            "     Epoch 15: Train Loss = 0.7207, Val Loss = 16.2933\n",
            "     Epoch 20: Train Loss = 0.7174, Val Loss = 19.0868\n",
            "     Epoch 25: Train Loss = 0.7154, Val Loss = 19.5538\n",
            "    ⏹️ Early stopping at epoch 26\n",
            " Run 5 finished with best val loss: 11.9328\n",
            "Original Error Percentage (Test Dataset): 4.0399%\n",
            "Corrected Error Percentage (Test Dataset): 4.4552%\n",
            " Finished configuration H=128, D=0.0, LR=0.001, B=8 → Avg Val Loss: 10.6897, Avg Accuracy: 4.7361%\n",
            "\n",
            " Running 62/81: H=128, D=0.0, LR=0.001, B=16\n",
            "   Run 1/5 ...      Epoch 0: Train Loss = 0.7367, Val Loss = 10.6612\n"
          ]
        },
        {
          "output_type": "stream",
          "name": "stderr",
          "text": [
            "<ipython-input-438-ab28ec98d12e>:152: UserWarning: To copy construct from a tensor, it is recommended to use sourceTensor.clone().detach() or sourceTensor.clone().detach().requires_grad_(True), rather than torch.tensor(sourceTensor).\n",
            "  X_scaled_tensor = torch.tensor(combined_X, dtype=torch.float32).unsqueeze(1)\n"
          ]
        },
        {
          "output_type": "stream",
          "name": "stdout",
          "text": [
            "     Epoch 5: Train Loss = 0.7219, Val Loss = 13.4955\n",
            "     Epoch 10: Train Loss = 0.7187, Val Loss = 14.0108\n",
            "     Epoch 15: Train Loss = 0.7170, Val Loss = 15.1485\n",
            "     Epoch 20: Train Loss = 0.7167, Val Loss = 14.0849\n",
            "    ⏹️ Early stopping at epoch 22\n",
            " Run 1 finished with best val loss: 10.3849\n",
            "Original Error Percentage (Test Dataset): 4.0399%\n",
            "Corrected Error Percentage (Test Dataset): 4.4179%\n",
            "   Run 2/5 ...      Epoch 0: Train Loss = 0.7312, Val Loss = 13.9948\n"
          ]
        },
        {
          "output_type": "stream",
          "name": "stderr",
          "text": [
            "<ipython-input-438-ab28ec98d12e>:152: UserWarning: To copy construct from a tensor, it is recommended to use sourceTensor.clone().detach() or sourceTensor.clone().detach().requires_grad_(True), rather than torch.tensor(sourceTensor).\n",
            "  X_scaled_tensor = torch.tensor(combined_X, dtype=torch.float32).unsqueeze(1)\n"
          ]
        },
        {
          "output_type": "stream",
          "name": "stdout",
          "text": [
            "     Epoch 5: Train Loss = 0.7203, Val Loss = 11.9608\n",
            "     Epoch 10: Train Loss = 0.7200, Val Loss = 14.7468\n",
            "     Epoch 15: Train Loss = 0.7162, Val Loss = 17.2930\n",
            "     Epoch 20: Train Loss = 0.7168, Val Loss = 13.4254\n",
            "    ⏹️ Early stopping at epoch 23\n",
            " Run 2 finished with best val loss: 11.4554\n",
            "Original Error Percentage (Test Dataset): 4.0399%\n",
            "Corrected Error Percentage (Test Dataset): 4.7358%\n",
            "   Run 3/5 ...      Epoch 0: Train Loss = 0.7306, Val Loss = 15.7895\n"
          ]
        },
        {
          "output_type": "stream",
          "name": "stderr",
          "text": [
            "<ipython-input-438-ab28ec98d12e>:152: UserWarning: To copy construct from a tensor, it is recommended to use sourceTensor.clone().detach() or sourceTensor.clone().detach().requires_grad_(True), rather than torch.tensor(sourceTensor).\n",
            "  X_scaled_tensor = torch.tensor(combined_X, dtype=torch.float32).unsqueeze(1)\n"
          ]
        },
        {
          "output_type": "stream",
          "name": "stdout",
          "text": [
            "     Epoch 5: Train Loss = 0.7209, Val Loss = 11.0119\n",
            "     Epoch 10: Train Loss = 0.7170, Val Loss = 16.4525\n",
            "     Epoch 15: Train Loss = 0.7142, Val Loss = 18.3353\n",
            "     Epoch 20: Train Loss = 0.7175, Val Loss = 19.4271\n",
            "     Epoch 25: Train Loss = 0.7158, Val Loss = 16.4497\n",
            "    ⏹️ Early stopping at epoch 25\n",
            " Run 3 finished with best val loss: 11.0119\n",
            "Original Error Percentage (Test Dataset): 4.0399%\n",
            "Corrected Error Percentage (Test Dataset): 4.7061%\n",
            "   Run 4/5 ...      Epoch 0: Train Loss = 0.7309, Val Loss = 22.5161\n"
          ]
        },
        {
          "output_type": "stream",
          "name": "stderr",
          "text": [
            "<ipython-input-438-ab28ec98d12e>:152: UserWarning: To copy construct from a tensor, it is recommended to use sourceTensor.clone().detach() or sourceTensor.clone().detach().requires_grad_(True), rather than torch.tensor(sourceTensor).\n",
            "  X_scaled_tensor = torch.tensor(combined_X, dtype=torch.float32).unsqueeze(1)\n"
          ]
        },
        {
          "output_type": "stream",
          "name": "stdout",
          "text": [
            "     Epoch 5: Train Loss = 0.7192, Val Loss = 15.5280\n",
            "     Epoch 10: Train Loss = 0.7223, Val Loss = 16.2956\n",
            "     Epoch 15: Train Loss = 0.7163, Val Loss = 18.3232\n",
            "     Epoch 20: Train Loss = 0.7345, Val Loss = 17.6377\n",
            "    ⏹️ Early stopping at epoch 23\n",
            " Run 4 finished with best val loss: 10.1879\n",
            "Original Error Percentage (Test Dataset): 4.0399%\n",
            "Corrected Error Percentage (Test Dataset): 4.3459%\n",
            "   Run 5/5 ...      Epoch 0: Train Loss = 0.7384, Val Loss = 11.3963\n"
          ]
        },
        {
          "output_type": "stream",
          "name": "stderr",
          "text": [
            "<ipython-input-438-ab28ec98d12e>:152: UserWarning: To copy construct from a tensor, it is recommended to use sourceTensor.clone().detach() or sourceTensor.clone().detach().requires_grad_(True), rather than torch.tensor(sourceTensor).\n",
            "  X_scaled_tensor = torch.tensor(combined_X, dtype=torch.float32).unsqueeze(1)\n"
          ]
        },
        {
          "output_type": "stream",
          "name": "stdout",
          "text": [
            "     Epoch 5: Train Loss = 0.7172, Val Loss = 11.7952\n",
            "     Epoch 10: Train Loss = 0.7209, Val Loss = 14.4362\n",
            "     Epoch 15: Train Loss = 0.7239, Val Loss = 17.4693\n",
            "     Epoch 20: Train Loss = 0.7180, Val Loss = 15.4704\n",
            "    ⏹️ Early stopping at epoch 20\n",
            " Run 5 finished with best val loss: 11.3963\n",
            "Original Error Percentage (Test Dataset): 4.0399%\n",
            "Corrected Error Percentage (Test Dataset): 4.3393%\n",
            " Finished configuration H=128, D=0.0, LR=0.001, B=16 → Avg Val Loss: 10.8873, Avg Accuracy: 4.5090%\n",
            "\n",
            " Running 63/81: H=128, D=0.0, LR=0.001, B=32\n",
            "   Run 1/5 ...      Epoch 0: Train Loss = 0.7406, Val Loss = 9.0604\n"
          ]
        },
        {
          "output_type": "stream",
          "name": "stderr",
          "text": [
            "<ipython-input-438-ab28ec98d12e>:152: UserWarning: To copy construct from a tensor, it is recommended to use sourceTensor.clone().detach() or sourceTensor.clone().detach().requires_grad_(True), rather than torch.tensor(sourceTensor).\n",
            "  X_scaled_tensor = torch.tensor(combined_X, dtype=torch.float32).unsqueeze(1)\n"
          ]
        },
        {
          "output_type": "stream",
          "name": "stdout",
          "text": [
            "     Epoch 5: Train Loss = 0.7207, Val Loss = 13.3096\n",
            "     Epoch 10: Train Loss = 0.7176, Val Loss = 13.2043\n",
            "     Epoch 15: Train Loss = 0.7165, Val Loss = 16.4482\n",
            "     Epoch 20: Train Loss = 0.7169, Val Loss = 16.4465\n",
            "    ⏹️ Early stopping at epoch 20\n",
            " Run 1 finished with best val loss: 9.0604\n",
            "Original Error Percentage (Test Dataset): 4.0399%\n",
            "Corrected Error Percentage (Test Dataset): 4.4533%\n",
            "   Run 2/5 ...      Epoch 0: Train Loss = 0.7393, Val Loss = 11.2737\n"
          ]
        },
        {
          "output_type": "stream",
          "name": "stderr",
          "text": [
            "<ipython-input-438-ab28ec98d12e>:152: UserWarning: To copy construct from a tensor, it is recommended to use sourceTensor.clone().detach() or sourceTensor.clone().detach().requires_grad_(True), rather than torch.tensor(sourceTensor).\n",
            "  X_scaled_tensor = torch.tensor(combined_X, dtype=torch.float32).unsqueeze(1)\n"
          ]
        },
        {
          "output_type": "stream",
          "name": "stdout",
          "text": [
            "     Epoch 5: Train Loss = 0.7211, Val Loss = 16.3062\n",
            "     Epoch 10: Train Loss = 0.7179, Val Loss = 15.8637\n",
            "     Epoch 15: Train Loss = 0.7158, Val Loss = 16.2544\n",
            "     Epoch 20: Train Loss = 0.7147, Val Loss = 15.1692\n",
            "    ⏹️ Early stopping at epoch 20\n",
            " Run 2 finished with best val loss: 11.2737\n",
            "Original Error Percentage (Test Dataset): 4.0399%\n",
            "Corrected Error Percentage (Test Dataset): 4.3350%\n",
            "   Run 3/5 ...      Epoch 0: Train Loss = 0.7427, Val Loss = 11.7803\n"
          ]
        },
        {
          "output_type": "stream",
          "name": "stderr",
          "text": [
            "<ipython-input-438-ab28ec98d12e>:152: UserWarning: To copy construct from a tensor, it is recommended to use sourceTensor.clone().detach() or sourceTensor.clone().detach().requires_grad_(True), rather than torch.tensor(sourceTensor).\n",
            "  X_scaled_tensor = torch.tensor(combined_X, dtype=torch.float32).unsqueeze(1)\n"
          ]
        },
        {
          "output_type": "stream",
          "name": "stdout",
          "text": [
            "     Epoch 5: Train Loss = 0.7211, Val Loss = 13.2487\n",
            "     Epoch 10: Train Loss = 0.7171, Val Loss = 17.0666\n",
            "     Epoch 15: Train Loss = 0.7225, Val Loss = 18.1855\n",
            "     Epoch 20: Train Loss = 0.7183, Val Loss = 16.9087\n",
            "     Epoch 25: Train Loss = 0.7178, Val Loss = 18.1118\n",
            "    ⏹️ Early stopping at epoch 28\n",
            " Run 3 finished with best val loss: 11.7451\n",
            "Original Error Percentage (Test Dataset): 4.0399%\n",
            "Corrected Error Percentage (Test Dataset): 4.8481%\n",
            "   Run 4/5 ...      Epoch 0: Train Loss = 0.7295, Val Loss = 12.7560\n"
          ]
        },
        {
          "output_type": "stream",
          "name": "stderr",
          "text": [
            "<ipython-input-438-ab28ec98d12e>:152: UserWarning: To copy construct from a tensor, it is recommended to use sourceTensor.clone().detach() or sourceTensor.clone().detach().requires_grad_(True), rather than torch.tensor(sourceTensor).\n",
            "  X_scaled_tensor = torch.tensor(combined_X, dtype=torch.float32).unsqueeze(1)\n"
          ]
        },
        {
          "output_type": "stream",
          "name": "stdout",
          "text": [
            "     Epoch 5: Train Loss = 0.7172, Val Loss = 16.0204\n",
            "     Epoch 10: Train Loss = 0.7150, Val Loss = 14.2203\n",
            "     Epoch 15: Train Loss = 0.7169, Val Loss = 18.2027\n",
            "     Epoch 20: Train Loss = 0.7156, Val Loss = 18.4009\n",
            "    ⏹️ Early stopping at epoch 22\n",
            " Run 4 finished with best val loss: 10.7373\n",
            "Original Error Percentage (Test Dataset): 4.0399%\n",
            "Corrected Error Percentage (Test Dataset): 5.2348%\n",
            "   Run 5/5 ... "
          ]
        },
        {
          "output_type": "stream",
          "name": "stderr",
          "text": [
            "<ipython-input-438-ab28ec98d12e>:152: UserWarning: To copy construct from a tensor, it is recommended to use sourceTensor.clone().detach() or sourceTensor.clone().detach().requires_grad_(True), rather than torch.tensor(sourceTensor).\n",
            "  X_scaled_tensor = torch.tensor(combined_X, dtype=torch.float32).unsqueeze(1)\n"
          ]
        },
        {
          "output_type": "stream",
          "name": "stdout",
          "text": [
            "     Epoch 0: Train Loss = 0.7470, Val Loss = 12.9668\n",
            "     Epoch 5: Train Loss = 0.7229, Val Loss = 13.4426\n",
            "     Epoch 10: Train Loss = 0.7168, Val Loss = 16.7485\n",
            "     Epoch 15: Train Loss = 0.7200, Val Loss = 13.8681\n",
            "     Epoch 20: Train Loss = 0.7216, Val Loss = 15.9062\n",
            "     Epoch 25: Train Loss = 0.7171, Val Loss = 14.2559\n",
            "    ⏹️ Early stopping at epoch 26\n",
            " Run 5 finished with best val loss: 11.6879\n",
            "Original Error Percentage (Test Dataset): 4.0399%\n",
            "Corrected Error Percentage (Test Dataset): 4.8075%\n",
            " Finished configuration H=128, D=0.0, LR=0.001, B=32 → Avg Val Loss: 10.9009, Avg Accuracy: 4.7357%\n",
            "\n",
            " Running 64/81: H=128, D=0.1, LR=0.0001, B=8\n",
            "   Run 1/5 ... "
          ]
        },
        {
          "output_type": "stream",
          "name": "stderr",
          "text": [
            "<ipython-input-438-ab28ec98d12e>:152: UserWarning: To copy construct from a tensor, it is recommended to use sourceTensor.clone().detach() or sourceTensor.clone().detach().requires_grad_(True), rather than torch.tensor(sourceTensor).\n",
            "  X_scaled_tensor = torch.tensor(combined_X, dtype=torch.float32).unsqueeze(1)\n"
          ]
        },
        {
          "output_type": "stream",
          "name": "stdout",
          "text": [
            "     Epoch 0: Train Loss = 0.7941, Val Loss = 11.7697\n",
            "     Epoch 5: Train Loss = 0.7249, Val Loss = 15.5369\n",
            "     Epoch 10: Train Loss = 0.7156, Val Loss = 13.4322\n",
            "     Epoch 15: Train Loss = 0.7165, Val Loss = 15.3872\n",
            "     Epoch 20: Train Loss = 0.7266, Val Loss = 15.2977\n",
            "    ⏹️ Early stopping at epoch 20\n",
            " Run 1 finished with best val loss: 11.7697\n",
            "Original Error Percentage (Test Dataset): 4.0399%\n",
            "Corrected Error Percentage (Test Dataset): 4.2541%\n",
            "   Run 2/5 ... "
          ]
        },
        {
          "output_type": "stream",
          "name": "stderr",
          "text": [
            "<ipython-input-438-ab28ec98d12e>:152: UserWarning: To copy construct from a tensor, it is recommended to use sourceTensor.clone().detach() or sourceTensor.clone().detach().requires_grad_(True), rather than torch.tensor(sourceTensor).\n",
            "  X_scaled_tensor = torch.tensor(combined_X, dtype=torch.float32).unsqueeze(1)\n"
          ]
        },
        {
          "output_type": "stream",
          "name": "stdout",
          "text": [
            "     Epoch 0: Train Loss = 0.7513, Val Loss = 13.8471\n",
            "     Epoch 5: Train Loss = 0.7239, Val Loss = 13.4689\n",
            "     Epoch 10: Train Loss = 0.7243, Val Loss = 13.1835\n",
            "     Epoch 15: Train Loss = 0.7249, Val Loss = 13.7271\n",
            "     Epoch 20: Train Loss = 0.7154, Val Loss = 13.6950\n",
            "     Epoch 25: Train Loss = 0.7262, Val Loss = 14.0619\n",
            "    ⏹️ Early stopping at epoch 28\n",
            " Run 2 finished with best val loss: 12.2618\n",
            "Original Error Percentage (Test Dataset): 4.0399%\n",
            "Corrected Error Percentage (Test Dataset): 3.9996%\n",
            "   Run 3/5 ... "
          ]
        },
        {
          "output_type": "stream",
          "name": "stderr",
          "text": [
            "<ipython-input-438-ab28ec98d12e>:152: UserWarning: To copy construct from a tensor, it is recommended to use sourceTensor.clone().detach() or sourceTensor.clone().detach().requires_grad_(True), rather than torch.tensor(sourceTensor).\n",
            "  X_scaled_tensor = torch.tensor(combined_X, dtype=torch.float32).unsqueeze(1)\n"
          ]
        },
        {
          "output_type": "stream",
          "name": "stdout",
          "text": [
            "     Epoch 0: Train Loss = 0.7549, Val Loss = 14.8502\n",
            "     Epoch 5: Train Loss = 0.7219, Val Loss = 15.6050\n",
            "     Epoch 10: Train Loss = 0.7231, Val Loss = 14.3382\n",
            "     Epoch 15: Train Loss = 0.7224, Val Loss = 15.4310\n",
            "     Epoch 20: Train Loss = 0.7200, Val Loss = 16.2252\n",
            "     Epoch 25: Train Loss = 0.7180, Val Loss = 16.5569\n",
            "     Epoch 30: Train Loss = 0.7194, Val Loss = 16.8934\n",
            "    ⏹️ Early stopping at epoch 33\n",
            " Run 3 finished with best val loss: 14.1376\n",
            "Original Error Percentage (Test Dataset): 4.0399%\n",
            "Corrected Error Percentage (Test Dataset): 5.2710%\n",
            "   Run 4/5 ... "
          ]
        },
        {
          "output_type": "stream",
          "name": "stderr",
          "text": [
            "<ipython-input-438-ab28ec98d12e>:152: UserWarning: To copy construct from a tensor, it is recommended to use sourceTensor.clone().detach() or sourceTensor.clone().detach().requires_grad_(True), rather than torch.tensor(sourceTensor).\n",
            "  X_scaled_tensor = torch.tensor(combined_X, dtype=torch.float32).unsqueeze(1)\n"
          ]
        },
        {
          "output_type": "stream",
          "name": "stdout",
          "text": [
            "     Epoch 0: Train Loss = 0.8427, Val Loss = 11.6372\n",
            "     Epoch 5: Train Loss = 0.7280, Val Loss = 14.5549\n",
            "     Epoch 10: Train Loss = 0.7163, Val Loss = 15.0488\n",
            "     Epoch 15: Train Loss = 0.7245, Val Loss = 14.8983\n",
            "     Epoch 20: Train Loss = 0.7207, Val Loss = 14.0725\n",
            "    ⏹️ Early stopping at epoch 20\n",
            " Run 4 finished with best val loss: 11.6372\n",
            "Original Error Percentage (Test Dataset): 4.0399%\n",
            "Corrected Error Percentage (Test Dataset): 3.8854%\n",
            "   Run 5/5 ... "
          ]
        },
        {
          "output_type": "stream",
          "name": "stderr",
          "text": [
            "<ipython-input-438-ab28ec98d12e>:152: UserWarning: To copy construct from a tensor, it is recommended to use sourceTensor.clone().detach() or sourceTensor.clone().detach().requires_grad_(True), rather than torch.tensor(sourceTensor).\n",
            "  X_scaled_tensor = torch.tensor(combined_X, dtype=torch.float32).unsqueeze(1)\n"
          ]
        },
        {
          "output_type": "stream",
          "name": "stdout",
          "text": [
            "     Epoch 0: Train Loss = 0.7892, Val Loss = 9.8361\n",
            "     Epoch 5: Train Loss = 0.7192, Val Loss = 13.7787\n",
            "     Epoch 10: Train Loss = 0.7237, Val Loss = 14.0128\n",
            "     Epoch 15: Train Loss = 0.7185, Val Loss = 13.9243\n",
            "     Epoch 20: Train Loss = 0.7214, Val Loss = 13.7136\n",
            "    ⏹️ Early stopping at epoch 20\n",
            " Run 5 finished with best val loss: 9.8361\n",
            "Original Error Percentage (Test Dataset): 4.0399%\n",
            "Corrected Error Percentage (Test Dataset): 3.8459%\n",
            " Finished configuration H=128, D=0.1, LR=0.0001, B=8 → Avg Val Loss: 11.9285, Avg Accuracy: 4.2512%\n",
            "\n",
            " Running 65/81: H=128, D=0.1, LR=0.0001, B=16\n",
            "   Run 1/5 ...      Epoch 0: Train Loss = 0.7686, Val Loss = 9.5726\n"
          ]
        },
        {
          "output_type": "stream",
          "name": "stderr",
          "text": [
            "<ipython-input-438-ab28ec98d12e>:152: UserWarning: To copy construct from a tensor, it is recommended to use sourceTensor.clone().detach() or sourceTensor.clone().detach().requires_grad_(True), rather than torch.tensor(sourceTensor).\n",
            "  X_scaled_tensor = torch.tensor(combined_X, dtype=torch.float32).unsqueeze(1)\n"
          ]
        },
        {
          "output_type": "stream",
          "name": "stdout",
          "text": [
            "     Epoch 5: Train Loss = 0.7160, Val Loss = 12.3382\n",
            "     Epoch 10: Train Loss = 0.7171, Val Loss = 12.8033\n",
            "     Epoch 15: Train Loss = 0.7202, Val Loss = 12.6741\n",
            "     Epoch 20: Train Loss = 0.7189, Val Loss = 13.0017\n",
            "    ⏹️ Early stopping at epoch 20\n",
            " Run 1 finished with best val loss: 9.5726\n",
            "Original Error Percentage (Test Dataset): 4.0399%\n",
            "Corrected Error Percentage (Test Dataset): 3.6175%\n",
            "   Run 2/5 ... "
          ]
        },
        {
          "output_type": "stream",
          "name": "stderr",
          "text": [
            "<ipython-input-438-ab28ec98d12e>:152: UserWarning: To copy construct from a tensor, it is recommended to use sourceTensor.clone().detach() or sourceTensor.clone().detach().requires_grad_(True), rather than torch.tensor(sourceTensor).\n",
            "  X_scaled_tensor = torch.tensor(combined_X, dtype=torch.float32).unsqueeze(1)\n"
          ]
        },
        {
          "output_type": "stream",
          "name": "stdout",
          "text": [
            "     Epoch 0: Train Loss = 0.7990, Val Loss = 10.1127\n",
            "     Epoch 5: Train Loss = 0.7213, Val Loss = 15.8516\n",
            "     Epoch 10: Train Loss = 0.7208, Val Loss = 14.6095\n",
            "     Epoch 15: Train Loss = 0.7191, Val Loss = 15.2398\n",
            "     Epoch 20: Train Loss = 0.7142, Val Loss = 15.8642\n",
            "    ⏹️ Early stopping at epoch 20\n",
            " Run 2 finished with best val loss: 10.1127\n",
            "Original Error Percentage (Test Dataset): 4.0399%\n",
            "Corrected Error Percentage (Test Dataset): 4.3900%\n",
            "   Run 3/5 ...      Epoch 0: Train Loss = 0.7998, Val Loss = 11.5021\n"
          ]
        },
        {
          "output_type": "stream",
          "name": "stderr",
          "text": [
            "<ipython-input-438-ab28ec98d12e>:152: UserWarning: To copy construct from a tensor, it is recommended to use sourceTensor.clone().detach() or sourceTensor.clone().detach().requires_grad_(True), rather than torch.tensor(sourceTensor).\n",
            "  X_scaled_tensor = torch.tensor(combined_X, dtype=torch.float32).unsqueeze(1)\n"
          ]
        },
        {
          "output_type": "stream",
          "name": "stdout",
          "text": [
            "     Epoch 5: Train Loss = 0.7352, Val Loss = 13.6132\n",
            "     Epoch 10: Train Loss = 0.7273, Val Loss = 13.1436\n",
            "     Epoch 15: Train Loss = 0.7306, Val Loss = 14.0716\n",
            "     Epoch 20: Train Loss = 0.7145, Val Loss = 14.5889\n",
            "    ⏹️ Early stopping at epoch 20\n",
            " Run 3 finished with best val loss: 11.5021\n",
            "Original Error Percentage (Test Dataset): 4.0399%\n",
            "Corrected Error Percentage (Test Dataset): 4.0230%\n",
            "   Run 4/5 ...      Epoch 0: Train Loss = 0.7892, Val Loss = 13.0009\n"
          ]
        },
        {
          "output_type": "stream",
          "name": "stderr",
          "text": [
            "<ipython-input-438-ab28ec98d12e>:152: UserWarning: To copy construct from a tensor, it is recommended to use sourceTensor.clone().detach() or sourceTensor.clone().detach().requires_grad_(True), rather than torch.tensor(sourceTensor).\n",
            "  X_scaled_tensor = torch.tensor(combined_X, dtype=torch.float32).unsqueeze(1)\n"
          ]
        },
        {
          "output_type": "stream",
          "name": "stdout",
          "text": [
            "     Epoch 5: Train Loss = 0.7266, Val Loss = 14.2257\n",
            "     Epoch 10: Train Loss = 0.7203, Val Loss = 14.1048\n",
            "     Epoch 15: Train Loss = 0.7193, Val Loss = 14.7735\n",
            "     Epoch 20: Train Loss = 0.7240, Val Loss = 15.1373\n",
            "    ⏹️ Early stopping at epoch 20\n",
            " Run 4 finished with best val loss: 13.0009\n",
            "Original Error Percentage (Test Dataset): 4.0399%\n",
            "Corrected Error Percentage (Test Dataset): 4.2189%\n",
            "   Run 5/5 ...      Epoch 0: Train Loss = 0.7900, Val Loss = 11.5232\n"
          ]
        },
        {
          "output_type": "stream",
          "name": "stderr",
          "text": [
            "<ipython-input-438-ab28ec98d12e>:152: UserWarning: To copy construct from a tensor, it is recommended to use sourceTensor.clone().detach() or sourceTensor.clone().detach().requires_grad_(True), rather than torch.tensor(sourceTensor).\n",
            "  X_scaled_tensor = torch.tensor(combined_X, dtype=torch.float32).unsqueeze(1)\n"
          ]
        },
        {
          "output_type": "stream",
          "name": "stdout",
          "text": [
            "     Epoch 5: Train Loss = 0.7276, Val Loss = 14.9607\n",
            "     Epoch 10: Train Loss = 0.7229, Val Loss = 13.9987\n",
            "     Epoch 15: Train Loss = 0.7174, Val Loss = 14.4792\n",
            "     Epoch 20: Train Loss = 0.7232, Val Loss = 14.1874\n",
            "    ⏹️ Early stopping at epoch 20\n",
            " Run 5 finished with best val loss: 11.5232\n",
            "Original Error Percentage (Test Dataset): 4.0399%\n",
            "Corrected Error Percentage (Test Dataset): 3.9444%\n",
            " Finished configuration H=128, D=0.1, LR=0.0001, B=16 → Avg Val Loss: 11.1423, Avg Accuracy: 4.0388%\n",
            "\n",
            " Running 66/81: H=128, D=0.1, LR=0.0001, B=32\n",
            "   Run 1/5 ...      Epoch 0: Train Loss = 0.8554, Val Loss = 6.8198\n"
          ]
        },
        {
          "output_type": "stream",
          "name": "stderr",
          "text": [
            "<ipython-input-438-ab28ec98d12e>:152: UserWarning: To copy construct from a tensor, it is recommended to use sourceTensor.clone().detach() or sourceTensor.clone().detach().requires_grad_(True), rather than torch.tensor(sourceTensor).\n",
            "  X_scaled_tensor = torch.tensor(combined_X, dtype=torch.float32).unsqueeze(1)\n"
          ]
        },
        {
          "output_type": "stream",
          "name": "stdout",
          "text": [
            "     Epoch 5: Train Loss = 0.7263, Val Loss = 13.0320\n",
            "     Epoch 10: Train Loss = 0.7205, Val Loss = 12.8673\n",
            "     Epoch 15: Train Loss = 0.7251, Val Loss = 13.2524\n",
            "     Epoch 20: Train Loss = 0.7202, Val Loss = 13.7059\n",
            "    ⏹️ Early stopping at epoch 20\n",
            " Run 1 finished with best val loss: 6.8198\n",
            "Original Error Percentage (Test Dataset): 4.0399%\n",
            "Corrected Error Percentage (Test Dataset): 3.7887%\n",
            "   Run 2/5 ...      Epoch 0: Train Loss = 0.7723, Val Loss = 8.6104\n"
          ]
        },
        {
          "output_type": "stream",
          "name": "stderr",
          "text": [
            "<ipython-input-438-ab28ec98d12e>:152: UserWarning: To copy construct from a tensor, it is recommended to use sourceTensor.clone().detach() or sourceTensor.clone().detach().requires_grad_(True), rather than torch.tensor(sourceTensor).\n",
            "  X_scaled_tensor = torch.tensor(combined_X, dtype=torch.float32).unsqueeze(1)\n"
          ]
        },
        {
          "output_type": "stream",
          "name": "stdout",
          "text": [
            "     Epoch 5: Train Loss = 0.7274, Val Loss = 12.2908\n",
            "     Epoch 10: Train Loss = 0.7133, Val Loss = 12.6054\n",
            "     Epoch 15: Train Loss = 0.7213, Val Loss = 12.6287\n",
            "     Epoch 20: Train Loss = 0.7167, Val Loss = 12.7709\n",
            "    ⏹️ Early stopping at epoch 20\n",
            " Run 2 finished with best val loss: 8.6104\n",
            "Original Error Percentage (Test Dataset): 4.0399%\n",
            "Corrected Error Percentage (Test Dataset): 3.5124%\n",
            "   Run 3/5 ...      Epoch 0: Train Loss = 0.8281, Val Loss = 9.8207\n"
          ]
        },
        {
          "output_type": "stream",
          "name": "stderr",
          "text": [
            "<ipython-input-438-ab28ec98d12e>:152: UserWarning: To copy construct from a tensor, it is recommended to use sourceTensor.clone().detach() or sourceTensor.clone().detach().requires_grad_(True), rather than torch.tensor(sourceTensor).\n",
            "  X_scaled_tensor = torch.tensor(combined_X, dtype=torch.float32).unsqueeze(1)\n"
          ]
        },
        {
          "output_type": "stream",
          "name": "stdout",
          "text": [
            "     Epoch 5: Train Loss = 0.7341, Val Loss = 13.9469\n",
            "     Epoch 10: Train Loss = 0.7144, Val Loss = 13.7478\n",
            "     Epoch 15: Train Loss = 0.7183, Val Loss = 13.0668\n",
            "     Epoch 20: Train Loss = 0.7165, Val Loss = 14.1355\n",
            "    ⏹️ Early stopping at epoch 20\n",
            " Run 3 finished with best val loss: 9.8207\n",
            "Original Error Percentage (Test Dataset): 4.0399%\n",
            "Corrected Error Percentage (Test Dataset): 3.9111%\n",
            "   Run 4/5 ...      Epoch 0: Train Loss = 0.7598, Val Loss = 12.0575\n"
          ]
        },
        {
          "output_type": "stream",
          "name": "stderr",
          "text": [
            "<ipython-input-438-ab28ec98d12e>:152: UserWarning: To copy construct from a tensor, it is recommended to use sourceTensor.clone().detach() or sourceTensor.clone().detach().requires_grad_(True), rather than torch.tensor(sourceTensor).\n",
            "  X_scaled_tensor = torch.tensor(combined_X, dtype=torch.float32).unsqueeze(1)\n"
          ]
        },
        {
          "output_type": "stream",
          "name": "stdout",
          "text": [
            "     Epoch 5: Train Loss = 0.7167, Val Loss = 14.1544\n",
            "     Epoch 10: Train Loss = 0.7272, Val Loss = 13.4894\n",
            "     Epoch 15: Train Loss = 0.7231, Val Loss = 13.6378\n",
            "     Epoch 20: Train Loss = 0.7182, Val Loss = 13.1997\n",
            "    ⏹️ Early stopping at epoch 20\n",
            " Run 4 finished with best val loss: 12.0575\n",
            "Original Error Percentage (Test Dataset): 4.0399%\n",
            "Corrected Error Percentage (Test Dataset): 3.7141%\n",
            "   Run 5/5 ...      Epoch 0: Train Loss = 0.7967, Val Loss = 10.7261\n"
          ]
        },
        {
          "output_type": "stream",
          "name": "stderr",
          "text": [
            "<ipython-input-438-ab28ec98d12e>:152: UserWarning: To copy construct from a tensor, it is recommended to use sourceTensor.clone().detach() or sourceTensor.clone().detach().requires_grad_(True), rather than torch.tensor(sourceTensor).\n",
            "  X_scaled_tensor = torch.tensor(combined_X, dtype=torch.float32).unsqueeze(1)\n"
          ]
        },
        {
          "output_type": "stream",
          "name": "stdout",
          "text": [
            "     Epoch 5: Train Loss = 0.7215, Val Loss = 14.5071\n",
            "     Epoch 10: Train Loss = 0.7184, Val Loss = 15.2504\n",
            "     Epoch 15: Train Loss = 0.7268, Val Loss = 14.6083\n",
            "     Epoch 20: Train Loss = 0.7259, Val Loss = 14.7853\n",
            "    ⏹️ Early stopping at epoch 20\n",
            " Run 5 finished with best val loss: 10.7261\n",
            "Original Error Percentage (Test Dataset): 4.0399%\n",
            "Corrected Error Percentage (Test Dataset): 4.1015%\n",
            " Finished configuration H=128, D=0.1, LR=0.0001, B=32 → Avg Val Loss: 9.6069, Avg Accuracy: 3.8056%\n",
            "\n",
            " Running 67/81: H=128, D=0.1, LR=0.0005, B=8\n",
            "   Run 1/5 ... "
          ]
        },
        {
          "output_type": "stream",
          "name": "stderr",
          "text": [
            "<ipython-input-438-ab28ec98d12e>:152: UserWarning: To copy construct from a tensor, it is recommended to use sourceTensor.clone().detach() or sourceTensor.clone().detach().requires_grad_(True), rather than torch.tensor(sourceTensor).\n",
            "  X_scaled_tensor = torch.tensor(combined_X, dtype=torch.float32).unsqueeze(1)\n"
          ]
        },
        {
          "output_type": "stream",
          "name": "stdout",
          "text": [
            "     Epoch 0: Train Loss = 0.7437, Val Loss = 14.2034\n",
            "     Epoch 5: Train Loss = 0.7208, Val Loss = 14.4899\n",
            "     Epoch 10: Train Loss = 0.7238, Val Loss = 13.0908\n",
            "     Epoch 15: Train Loss = 0.7162, Val Loss = 14.5649\n",
            "     Epoch 20: Train Loss = 0.7204, Val Loss = 19.3823\n",
            "    ⏹️ Early stopping at epoch 21\n",
            " Run 1 finished with best val loss: 8.8340\n",
            "Original Error Percentage (Test Dataset): 4.0399%\n",
            "Corrected Error Percentage (Test Dataset): 4.3095%\n",
            "   Run 2/5 ... "
          ]
        },
        {
          "output_type": "stream",
          "name": "stderr",
          "text": [
            "<ipython-input-438-ab28ec98d12e>:152: UserWarning: To copy construct from a tensor, it is recommended to use sourceTensor.clone().detach() or sourceTensor.clone().detach().requires_grad_(True), rather than torch.tensor(sourceTensor).\n",
            "  X_scaled_tensor = torch.tensor(combined_X, dtype=torch.float32).unsqueeze(1)\n"
          ]
        },
        {
          "output_type": "stream",
          "name": "stdout",
          "text": [
            "     Epoch 0: Train Loss = 0.7385, Val Loss = 11.0353\n",
            "     Epoch 5: Train Loss = 0.7255, Val Loss = 11.8968\n",
            "     Epoch 10: Train Loss = 0.7301, Val Loss = 14.0755\n",
            "     Epoch 15: Train Loss = 0.7183, Val Loss = 14.3961\n",
            "     Epoch 20: Train Loss = 0.7169, Val Loss = 12.9021\n",
            "    ⏹️ Early stopping at epoch 20\n",
            " Run 2 finished with best val loss: 11.0353\n",
            "Original Error Percentage (Test Dataset): 4.0399%\n",
            "Corrected Error Percentage (Test Dataset): 3.7771%\n",
            "   Run 3/5 ... "
          ]
        },
        {
          "output_type": "stream",
          "name": "stderr",
          "text": [
            "<ipython-input-438-ab28ec98d12e>:152: UserWarning: To copy construct from a tensor, it is recommended to use sourceTensor.clone().detach() or sourceTensor.clone().detach().requires_grad_(True), rather than torch.tensor(sourceTensor).\n",
            "  X_scaled_tensor = torch.tensor(combined_X, dtype=torch.float32).unsqueeze(1)\n"
          ]
        },
        {
          "output_type": "stream",
          "name": "stdout",
          "text": [
            "     Epoch 0: Train Loss = 0.7436, Val Loss = 22.8277\n",
            "     Epoch 5: Train Loss = 0.7288, Val Loss = 13.7235\n",
            "     Epoch 10: Train Loss = 0.7272, Val Loss = 19.1166\n",
            "     Epoch 15: Train Loss = 0.7280, Val Loss = 14.2916\n",
            "     Epoch 20: Train Loss = 0.7243, Val Loss = 15.3131\n",
            "    ⏹️ Early stopping at epoch 21\n",
            " Run 3 finished with best val loss: 10.3819\n",
            "Original Error Percentage (Test Dataset): 4.0399%\n",
            "Corrected Error Percentage (Test Dataset): 4.3841%\n",
            "   Run 4/5 ... "
          ]
        },
        {
          "output_type": "stream",
          "name": "stderr",
          "text": [
            "<ipython-input-438-ab28ec98d12e>:152: UserWarning: To copy construct from a tensor, it is recommended to use sourceTensor.clone().detach() or sourceTensor.clone().detach().requires_grad_(True), rather than torch.tensor(sourceTensor).\n",
            "  X_scaled_tensor = torch.tensor(combined_X, dtype=torch.float32).unsqueeze(1)\n"
          ]
        },
        {
          "output_type": "stream",
          "name": "stdout",
          "text": [
            "     Epoch 0: Train Loss = 0.7487, Val Loss = 10.4554\n",
            "     Epoch 5: Train Loss = 0.7220, Val Loss = 15.2712\n",
            "     Epoch 10: Train Loss = 0.7164, Val Loss = 11.3971\n",
            "     Epoch 15: Train Loss = 0.7232, Val Loss = 14.4130\n",
            "     Epoch 20: Train Loss = 0.7133, Val Loss = 20.9807\n",
            "    ⏹️ Early stopping at epoch 20\n",
            " Run 4 finished with best val loss: 10.4554\n",
            "Original Error Percentage (Test Dataset): 4.0399%\n",
            "Corrected Error Percentage (Test Dataset): 5.9865%\n",
            "   Run 5/5 ... "
          ]
        },
        {
          "output_type": "stream",
          "name": "stderr",
          "text": [
            "<ipython-input-438-ab28ec98d12e>:152: UserWarning: To copy construct from a tensor, it is recommended to use sourceTensor.clone().detach() or sourceTensor.clone().detach().requires_grad_(True), rather than torch.tensor(sourceTensor).\n",
            "  X_scaled_tensor = torch.tensor(combined_X, dtype=torch.float32).unsqueeze(1)\n"
          ]
        },
        {
          "output_type": "stream",
          "name": "stdout",
          "text": [
            "     Epoch 0: Train Loss = 0.7388, Val Loss = 13.4408\n",
            "     Epoch 5: Train Loss = 0.7325, Val Loss = 16.4348\n",
            "     Epoch 10: Train Loss = 0.7211, Val Loss = 13.9206\n",
            "     Epoch 15: Train Loss = 0.7219, Val Loss = 16.8075\n",
            "     Epoch 20: Train Loss = 0.7226, Val Loss = 15.1762\n",
            "    ⏹️ Early stopping at epoch 21\n",
            " Run 5 finished with best val loss: 12.0429\n",
            "Original Error Percentage (Test Dataset): 4.0399%\n",
            "Corrected Error Percentage (Test Dataset): 5.0138%\n",
            " Finished configuration H=128, D=0.1, LR=0.0005, B=8 → Avg Val Loss: 10.5499, Avg Accuracy: 4.6942%\n",
            "\n",
            " Running 68/81: H=128, D=0.1, LR=0.0005, B=16\n",
            "   Run 1/5 ...      Epoch 0: Train Loss = 0.7226, Val Loss = 16.3291\n"
          ]
        },
        {
          "output_type": "stream",
          "name": "stderr",
          "text": [
            "<ipython-input-438-ab28ec98d12e>:152: UserWarning: To copy construct from a tensor, it is recommended to use sourceTensor.clone().detach() or sourceTensor.clone().detach().requires_grad_(True), rather than torch.tensor(sourceTensor).\n",
            "  X_scaled_tensor = torch.tensor(combined_X, dtype=torch.float32).unsqueeze(1)\n"
          ]
        },
        {
          "output_type": "stream",
          "name": "stdout",
          "text": [
            "     Epoch 5: Train Loss = 0.7265, Val Loss = 17.7754\n",
            "     Epoch 10: Train Loss = 0.7231, Val Loss = 14.9081\n",
            "     Epoch 15: Train Loss = 0.7159, Val Loss = 17.8091\n",
            "     Epoch 20: Train Loss = 0.7107, Val Loss = 19.3136\n",
            "    ⏹️ Early stopping at epoch 21\n",
            " Run 1 finished with best val loss: 12.3636\n",
            "Original Error Percentage (Test Dataset): 4.0399%\n",
            "Corrected Error Percentage (Test Dataset): 4.7984%\n",
            "   Run 2/5 ... "
          ]
        },
        {
          "output_type": "stream",
          "name": "stderr",
          "text": [
            "<ipython-input-438-ab28ec98d12e>:152: UserWarning: To copy construct from a tensor, it is recommended to use sourceTensor.clone().detach() or sourceTensor.clone().detach().requires_grad_(True), rather than torch.tensor(sourceTensor).\n",
            "  X_scaled_tensor = torch.tensor(combined_X, dtype=torch.float32).unsqueeze(1)\n"
          ]
        },
        {
          "output_type": "stream",
          "name": "stdout",
          "text": [
            "     Epoch 0: Train Loss = 0.7534, Val Loss = 12.4555\n",
            "     Epoch 5: Train Loss = 0.7139, Val Loss = 13.3280\n",
            "     Epoch 10: Train Loss = 0.7201, Val Loss = 14.3916\n",
            "     Epoch 15: Train Loss = 0.7164, Val Loss = 14.5928\n",
            "     Epoch 20: Train Loss = 0.7161, Val Loss = 18.0532\n",
            "    ⏹️ Early stopping at epoch 24\n",
            " Run 2 finished with best val loss: 12.1682\n",
            "Original Error Percentage (Test Dataset): 4.0399%\n",
            "Corrected Error Percentage (Test Dataset): 4.6396%\n",
            "   Run 3/5 ...      Epoch 0: Train Loss = 0.7404, Val Loss = 16.8948\n"
          ]
        },
        {
          "output_type": "stream",
          "name": "stderr",
          "text": [
            "<ipython-input-438-ab28ec98d12e>:152: UserWarning: To copy construct from a tensor, it is recommended to use sourceTensor.clone().detach() or sourceTensor.clone().detach().requires_grad_(True), rather than torch.tensor(sourceTensor).\n",
            "  X_scaled_tensor = torch.tensor(combined_X, dtype=torch.float32).unsqueeze(1)\n"
          ]
        },
        {
          "output_type": "stream",
          "name": "stdout",
          "text": [
            "     Epoch 5: Train Loss = 0.7177, Val Loss = 13.3436\n",
            "     Epoch 10: Train Loss = 0.7148, Val Loss = 14.7170\n",
            "     Epoch 15: Train Loss = 0.7210, Val Loss = 12.9431\n",
            "     Epoch 20: Train Loss = 0.7212, Val Loss = 17.0334\n",
            "     Epoch 25: Train Loss = 0.7264, Val Loss = 14.5445\n",
            "    ⏹️ Early stopping at epoch 27\n",
            " Run 3 finished with best val loss: 12.7074\n",
            "Original Error Percentage (Test Dataset): 4.0399%\n",
            "Corrected Error Percentage (Test Dataset): 4.1210%\n",
            "   Run 4/5 ... "
          ]
        },
        {
          "output_type": "stream",
          "name": "stderr",
          "text": [
            "<ipython-input-438-ab28ec98d12e>:152: UserWarning: To copy construct from a tensor, it is recommended to use sourceTensor.clone().detach() or sourceTensor.clone().detach().requires_grad_(True), rather than torch.tensor(sourceTensor).\n",
            "  X_scaled_tensor = torch.tensor(combined_X, dtype=torch.float32).unsqueeze(1)\n"
          ]
        },
        {
          "output_type": "stream",
          "name": "stdout",
          "text": [
            "     Epoch 0: Train Loss = 0.7412, Val Loss = 11.2041\n",
            "     Epoch 5: Train Loss = 0.7255, Val Loss = 14.1256\n",
            "     Epoch 10: Train Loss = 0.7193, Val Loss = 14.5794\n",
            "     Epoch 15: Train Loss = 0.7183, Val Loss = 17.9548\n",
            "     Epoch 20: Train Loss = 0.7208, Val Loss = 14.5099\n",
            "    ⏹️ Early stopping at epoch 21\n",
            " Run 4 finished with best val loss: 10.6092\n",
            "Original Error Percentage (Test Dataset): 4.0399%\n",
            "Corrected Error Percentage (Test Dataset): 5.6102%\n",
            "   Run 5/5 ... "
          ]
        },
        {
          "output_type": "stream",
          "name": "stderr",
          "text": [
            "<ipython-input-438-ab28ec98d12e>:152: UserWarning: To copy construct from a tensor, it is recommended to use sourceTensor.clone().detach() or sourceTensor.clone().detach().requires_grad_(True), rather than torch.tensor(sourceTensor).\n",
            "  X_scaled_tensor = torch.tensor(combined_X, dtype=torch.float32).unsqueeze(1)\n"
          ]
        },
        {
          "output_type": "stream",
          "name": "stdout",
          "text": [
            "     Epoch 0: Train Loss = 0.7837, Val Loss = 10.9535\n",
            "     Epoch 5: Train Loss = 0.7335, Val Loss = 12.1915\n",
            "     Epoch 10: Train Loss = 0.7239, Val Loss = 12.7676\n",
            "     Epoch 15: Train Loss = 0.7163, Val Loss = 17.0136\n",
            "     Epoch 20: Train Loss = 0.7182, Val Loss = 18.4561\n",
            "    ⏹️ Early stopping at epoch 20\n",
            " Run 5 finished with best val loss: 10.9535\n",
            "Original Error Percentage (Test Dataset): 4.0399%\n",
            "Corrected Error Percentage (Test Dataset): 5.2638%\n",
            " Finished configuration H=128, D=0.1, LR=0.0005, B=16 → Avg Val Loss: 11.7604, Avg Accuracy: 4.8866%\n",
            "\n",
            " Running 69/81: H=128, D=0.1, LR=0.0005, B=32\n",
            "   Run 1/5 ...      Epoch 0: Train Loss = 0.7605, Val Loss = 12.1880\n"
          ]
        },
        {
          "output_type": "stream",
          "name": "stderr",
          "text": [
            "<ipython-input-438-ab28ec98d12e>:152: UserWarning: To copy construct from a tensor, it is recommended to use sourceTensor.clone().detach() or sourceTensor.clone().detach().requires_grad_(True), rather than torch.tensor(sourceTensor).\n",
            "  X_scaled_tensor = torch.tensor(combined_X, dtype=torch.float32).unsqueeze(1)\n"
          ]
        },
        {
          "output_type": "stream",
          "name": "stdout",
          "text": [
            "     Epoch 5: Train Loss = 0.7258, Val Loss = 13.5074\n",
            "     Epoch 10: Train Loss = 0.7191, Val Loss = 13.1736\n",
            "     Epoch 15: Train Loss = 0.7219, Val Loss = 15.7324\n",
            "     Epoch 20: Train Loss = 0.7265, Val Loss = 15.8465\n",
            "    ⏹️ Early stopping at epoch 23\n",
            " Run 1 finished with best val loss: 11.5222\n",
            "Original Error Percentage (Test Dataset): 4.0399%\n",
            "Corrected Error Percentage (Test Dataset): 4.3574%\n",
            "   Run 2/5 ...      Epoch 0: Train Loss = 0.7593, Val Loss = 14.0083\n"
          ]
        },
        {
          "output_type": "stream",
          "name": "stderr",
          "text": [
            "<ipython-input-438-ab28ec98d12e>:152: UserWarning: To copy construct from a tensor, it is recommended to use sourceTensor.clone().detach() or sourceTensor.clone().detach().requires_grad_(True), rather than torch.tensor(sourceTensor).\n",
            "  X_scaled_tensor = torch.tensor(combined_X, dtype=torch.float32).unsqueeze(1)\n"
          ]
        },
        {
          "output_type": "stream",
          "name": "stdout",
          "text": [
            "     Epoch 5: Train Loss = 0.7213, Val Loss = 14.2828\n",
            "     Epoch 10: Train Loss = 0.7173, Val Loss = 15.8712\n",
            "     Epoch 15: Train Loss = 0.7167, Val Loss = 15.2793\n",
            "     Epoch 20: Train Loss = 0.7211, Val Loss = 15.5710\n",
            "    ⏹️ Early stopping at epoch 24\n",
            " Run 2 finished with best val loss: 12.7838\n",
            "Original Error Percentage (Test Dataset): 4.0399%\n",
            "Corrected Error Percentage (Test Dataset): 4.6050%\n",
            "   Run 3/5 ...      Epoch 0: Train Loss = 0.8196, Val Loss = 14.7752\n"
          ]
        },
        {
          "output_type": "stream",
          "name": "stderr",
          "text": [
            "<ipython-input-438-ab28ec98d12e>:152: UserWarning: To copy construct from a tensor, it is recommended to use sourceTensor.clone().detach() or sourceTensor.clone().detach().requires_grad_(True), rather than torch.tensor(sourceTensor).\n",
            "  X_scaled_tensor = torch.tensor(combined_X, dtype=torch.float32).unsqueeze(1)\n"
          ]
        },
        {
          "output_type": "stream",
          "name": "stdout",
          "text": [
            "     Epoch 5: Train Loss = 0.7217, Val Loss = 14.7217\n",
            "     Epoch 10: Train Loss = 0.7224, Val Loss = 14.1038\n",
            "     Epoch 15: Train Loss = 0.7207, Val Loss = 16.6627\n",
            "     Epoch 20: Train Loss = 0.7179, Val Loss = 15.9865\n",
            "     Epoch 25: Train Loss = 0.7162, Val Loss = 16.2351\n",
            "     Epoch 30: Train Loss = 0.7157, Val Loss = 13.9689\n",
            "     Epoch 35: Train Loss = 0.7179, Val Loss = 15.7940\n",
            "     Epoch 40: Train Loss = 0.7202, Val Loss = 18.8924\n",
            "     Epoch 45: Train Loss = 0.7165, Val Loss = 16.2071\n",
            "     Epoch 50: Train Loss = 0.7224, Val Loss = 16.8740\n",
            "    ⏹️ Early stopping at epoch 50\n",
            " Run 3 finished with best val loss: 13.9689\n",
            "Original Error Percentage (Test Dataset): 4.0399%\n",
            "Corrected Error Percentage (Test Dataset): 4.7451%\n",
            "   Run 4/5 ...      Epoch 0: Train Loss = 0.7506, Val Loss = 12.7572\n"
          ]
        },
        {
          "output_type": "stream",
          "name": "stderr",
          "text": [
            "<ipython-input-438-ab28ec98d12e>:152: UserWarning: To copy construct from a tensor, it is recommended to use sourceTensor.clone().detach() or sourceTensor.clone().detach().requires_grad_(True), rather than torch.tensor(sourceTensor).\n",
            "  X_scaled_tensor = torch.tensor(combined_X, dtype=torch.float32).unsqueeze(1)\n"
          ]
        },
        {
          "output_type": "stream",
          "name": "stdout",
          "text": [
            "     Epoch 5: Train Loss = 0.7274, Val Loss = 14.1649\n",
            "     Epoch 10: Train Loss = 0.7257, Val Loss = 13.0512\n",
            "     Epoch 15: Train Loss = 0.7265, Val Loss = 14.5787\n",
            "     Epoch 20: Train Loss = 0.7181, Val Loss = 14.8064\n",
            "     Epoch 25: Train Loss = 0.7184, Val Loss = 19.5715\n",
            "     Epoch 30: Train Loss = 0.7205, Val Loss = 14.8997\n",
            "    ⏹️ Early stopping at epoch 32\n",
            " Run 4 finished with best val loss: 11.6760\n",
            "Original Error Percentage (Test Dataset): 4.0399%\n",
            "Corrected Error Percentage (Test Dataset): 5.6148%\n",
            "   Run 5/5 ... "
          ]
        },
        {
          "output_type": "stream",
          "name": "stderr",
          "text": [
            "<ipython-input-438-ab28ec98d12e>:152: UserWarning: To copy construct from a tensor, it is recommended to use sourceTensor.clone().detach() or sourceTensor.clone().detach().requires_grad_(True), rather than torch.tensor(sourceTensor).\n",
            "  X_scaled_tensor = torch.tensor(combined_X, dtype=torch.float32).unsqueeze(1)\n"
          ]
        },
        {
          "output_type": "stream",
          "name": "stdout",
          "text": [
            "     Epoch 0: Train Loss = 0.7475, Val Loss = 17.7371\n",
            "     Epoch 5: Train Loss = 0.7258, Val Loss = 13.3999\n",
            "     Epoch 10: Train Loss = 0.7198, Val Loss = 15.4888\n",
            "     Epoch 15: Train Loss = 0.7198, Val Loss = 15.1384\n",
            "     Epoch 20: Train Loss = 0.7184, Val Loss = 16.8799\n",
            "     Epoch 25: Train Loss = 0.7215, Val Loss = 16.3810\n",
            "    ⏹️ Early stopping at epoch 26\n",
            " Run 5 finished with best val loss: 12.4893\n",
            "Original Error Percentage (Test Dataset): 4.0399%\n",
            "Corrected Error Percentage (Test Dataset): 4.2324%\n",
            " Finished configuration H=128, D=0.1, LR=0.0005, B=32 → Avg Val Loss: 12.4880, Avg Accuracy: 4.7110%\n",
            "\n",
            " Running 70/81: H=128, D=0.1, LR=0.001, B=8\n",
            "   Run 1/5 ... "
          ]
        },
        {
          "output_type": "stream",
          "name": "stderr",
          "text": [
            "<ipython-input-438-ab28ec98d12e>:152: UserWarning: To copy construct from a tensor, it is recommended to use sourceTensor.clone().detach() or sourceTensor.clone().detach().requires_grad_(True), rather than torch.tensor(sourceTensor).\n",
            "  X_scaled_tensor = torch.tensor(combined_X, dtype=torch.float32).unsqueeze(1)\n"
          ]
        },
        {
          "output_type": "stream",
          "name": "stdout",
          "text": [
            "     Epoch 0: Train Loss = 0.7419, Val Loss = 15.2660\n",
            "     Epoch 5: Train Loss = 0.7195, Val Loss = 12.3378\n",
            "     Epoch 10: Train Loss = 0.7247, Val Loss = 17.6881\n",
            "     Epoch 15: Train Loss = 0.7160, Val Loss = 19.0828\n",
            "     Epoch 20: Train Loss = 0.7250, Val Loss = 12.7195\n",
            "    ⏹️ Early stopping at epoch 22\n",
            " Run 1 finished with best val loss: 10.8604\n",
            "Original Error Percentage (Test Dataset): 4.0399%\n",
            "Corrected Error Percentage (Test Dataset): 4.1603%\n",
            "   Run 2/5 ... "
          ]
        },
        {
          "output_type": "stream",
          "name": "stderr",
          "text": [
            "<ipython-input-438-ab28ec98d12e>:152: UserWarning: To copy construct from a tensor, it is recommended to use sourceTensor.clone().detach() or sourceTensor.clone().detach().requires_grad_(True), rather than torch.tensor(sourceTensor).\n",
            "  X_scaled_tensor = torch.tensor(combined_X, dtype=torch.float32).unsqueeze(1)\n"
          ]
        },
        {
          "output_type": "stream",
          "name": "stdout",
          "text": [
            "     Epoch 0: Train Loss = 0.7369, Val Loss = 15.8098\n",
            "     Epoch 5: Train Loss = 0.7340, Val Loss = 14.0053\n",
            "     Epoch 10: Train Loss = 0.7196, Val Loss = 17.8118\n",
            "     Epoch 15: Train Loss = 0.7193, Val Loss = 15.4620\n",
            "     Epoch 20: Train Loss = 0.7202, Val Loss = 19.1156\n",
            "    ⏹️ Early stopping at epoch 21\n",
            " Run 2 finished with best val loss: 10.4330\n",
            "Original Error Percentage (Test Dataset): 4.0399%\n",
            "Corrected Error Percentage (Test Dataset): 4.9164%\n",
            "   Run 3/5 ... "
          ]
        },
        {
          "output_type": "stream",
          "name": "stderr",
          "text": [
            "<ipython-input-438-ab28ec98d12e>:152: UserWarning: To copy construct from a tensor, it is recommended to use sourceTensor.clone().detach() or sourceTensor.clone().detach().requires_grad_(True), rather than torch.tensor(sourceTensor).\n",
            "  X_scaled_tensor = torch.tensor(combined_X, dtype=torch.float32).unsqueeze(1)\n"
          ]
        },
        {
          "output_type": "stream",
          "name": "stdout",
          "text": [
            "     Epoch 0: Train Loss = 0.7530, Val Loss = 9.0879\n",
            "     Epoch 5: Train Loss = 0.7243, Val Loss = 19.3013\n",
            "     Epoch 10: Train Loss = 0.7234, Val Loss = 12.1899\n",
            "     Epoch 15: Train Loss = 0.7220, Val Loss = 12.0811\n",
            "     Epoch 20: Train Loss = 0.7231, Val Loss = 14.5507\n",
            "    ⏹️ Early stopping at epoch 20\n",
            " Run 3 finished with best val loss: 9.0879\n",
            "Original Error Percentage (Test Dataset): 4.0399%\n",
            "Corrected Error Percentage (Test Dataset): 4.1483%\n",
            "   Run 4/5 ... "
          ]
        },
        {
          "output_type": "stream",
          "name": "stderr",
          "text": [
            "<ipython-input-438-ab28ec98d12e>:152: UserWarning: To copy construct from a tensor, it is recommended to use sourceTensor.clone().detach() or sourceTensor.clone().detach().requires_grad_(True), rather than torch.tensor(sourceTensor).\n",
            "  X_scaled_tensor = torch.tensor(combined_X, dtype=torch.float32).unsqueeze(1)\n"
          ]
        },
        {
          "output_type": "stream",
          "name": "stdout",
          "text": [
            "     Epoch 0: Train Loss = 0.7373, Val Loss = 11.8644\n",
            "     Epoch 5: Train Loss = 0.7171, Val Loss = 12.9489\n",
            "     Epoch 10: Train Loss = 0.7181, Val Loss = 14.5677\n",
            "     Epoch 15: Train Loss = 0.7168, Val Loss = 20.2742\n",
            "     Epoch 20: Train Loss = 0.7165, Val Loss = 14.2988\n",
            "    ⏹️ Early stopping at epoch 20\n",
            " Run 4 finished with best val loss: 11.8644\n",
            "Original Error Percentage (Test Dataset): 4.0399%\n",
            "Corrected Error Percentage (Test Dataset): 4.2591%\n",
            "   Run 5/5 ... "
          ]
        },
        {
          "output_type": "stream",
          "name": "stderr",
          "text": [
            "<ipython-input-438-ab28ec98d12e>:152: UserWarning: To copy construct from a tensor, it is recommended to use sourceTensor.clone().detach() or sourceTensor.clone().detach().requires_grad_(True), rather than torch.tensor(sourceTensor).\n",
            "  X_scaled_tensor = torch.tensor(combined_X, dtype=torch.float32).unsqueeze(1)\n"
          ]
        },
        {
          "output_type": "stream",
          "name": "stdout",
          "text": [
            "     Epoch 0: Train Loss = 0.7453, Val Loss = 18.2759\n",
            "     Epoch 5: Train Loss = 0.7269, Val Loss = 15.4765\n",
            "     Epoch 10: Train Loss = 0.7314, Val Loss = 16.2566\n",
            "     Epoch 15: Train Loss = 0.7242, Val Loss = 14.6325\n",
            "     Epoch 20: Train Loss = 0.7223, Val Loss = 14.6076\n",
            "     Epoch 25: Train Loss = 0.7199, Val Loss = 12.9774\n",
            "    ⏹️ Early stopping at epoch 26\n",
            " Run 5 finished with best val loss: 11.2655\n",
            "Original Error Percentage (Test Dataset): 4.0399%\n",
            "Corrected Error Percentage (Test Dataset): 4.7051%\n",
            " Finished configuration H=128, D=0.1, LR=0.001, B=8 → Avg Val Loss: 10.7022, Avg Accuracy: 4.4378%\n",
            "\n",
            " Running 71/81: H=128, D=0.1, LR=0.001, B=16\n",
            "   Run 1/5 ...      Epoch 0: Train Loss = 0.7582, Val Loss = 18.3440\n"
          ]
        },
        {
          "output_type": "stream",
          "name": "stderr",
          "text": [
            "<ipython-input-438-ab28ec98d12e>:152: UserWarning: To copy construct from a tensor, it is recommended to use sourceTensor.clone().detach() or sourceTensor.clone().detach().requires_grad_(True), rather than torch.tensor(sourceTensor).\n",
            "  X_scaled_tensor = torch.tensor(combined_X, dtype=torch.float32).unsqueeze(1)\n"
          ]
        },
        {
          "output_type": "stream",
          "name": "stdout",
          "text": [
            "     Epoch 5: Train Loss = 0.7265, Val Loss = 14.6808\n",
            "     Epoch 10: Train Loss = 0.7217, Val Loss = 14.5775\n",
            "     Epoch 15: Train Loss = 0.7168, Val Loss = 14.6476\n",
            "     Epoch 20: Train Loss = 0.7211, Val Loss = 14.0681\n",
            "     Epoch 25: Train Loss = 0.7242, Val Loss = 14.3604\n",
            "     Epoch 30: Train Loss = 0.7189, Val Loss = 17.8987\n",
            "     Epoch 35: Train Loss = 0.7173, Val Loss = 17.8624\n",
            "    ⏹️ Early stopping at epoch 39\n",
            " Run 1 finished with best val loss: 13.7121\n",
            "Original Error Percentage (Test Dataset): 4.0399%\n",
            "Corrected Error Percentage (Test Dataset): 5.6522%\n",
            "   Run 2/5 ...      Epoch 0: Train Loss = 0.7347, Val Loss = 10.5009\n"
          ]
        },
        {
          "output_type": "stream",
          "name": "stderr",
          "text": [
            "<ipython-input-438-ab28ec98d12e>:152: UserWarning: To copy construct from a tensor, it is recommended to use sourceTensor.clone().detach() or sourceTensor.clone().detach().requires_grad_(True), rather than torch.tensor(sourceTensor).\n",
            "  X_scaled_tensor = torch.tensor(combined_X, dtype=torch.float32).unsqueeze(1)\n"
          ]
        },
        {
          "output_type": "stream",
          "name": "stdout",
          "text": [
            "     Epoch 5: Train Loss = 0.7182, Val Loss = 20.2198\n",
            "     Epoch 10: Train Loss = 0.7286, Val Loss = 19.0177\n",
            "     Epoch 15: Train Loss = 0.7113, Val Loss = 13.2267\n",
            "     Epoch 20: Train Loss = 0.7215, Val Loss = 14.1100\n",
            "    ⏹️ Early stopping at epoch 22\n",
            " Run 2 finished with best val loss: 10.4803\n",
            "Original Error Percentage (Test Dataset): 4.0399%\n",
            "Corrected Error Percentage (Test Dataset): 4.7931%\n",
            "   Run 3/5 ...      Epoch 0: Train Loss = 0.7350, Val Loss = 17.4098\n"
          ]
        },
        {
          "output_type": "stream",
          "name": "stderr",
          "text": [
            "<ipython-input-438-ab28ec98d12e>:152: UserWarning: To copy construct from a tensor, it is recommended to use sourceTensor.clone().detach() or sourceTensor.clone().detach().requires_grad_(True), rather than torch.tensor(sourceTensor).\n",
            "  X_scaled_tensor = torch.tensor(combined_X, dtype=torch.float32).unsqueeze(1)\n"
          ]
        },
        {
          "output_type": "stream",
          "name": "stdout",
          "text": [
            "     Epoch 5: Train Loss = 0.7255, Val Loss = 12.5704\n",
            "     Epoch 10: Train Loss = 0.7177, Val Loss = 19.1752\n",
            "     Epoch 15: Train Loss = 0.7187, Val Loss = 13.2007\n",
            "     Epoch 20: Train Loss = 0.7211, Val Loss = 17.9045\n",
            "     Epoch 25: Train Loss = 0.7159, Val Loss = 19.2818\n",
            "     Epoch 30: Train Loss = 0.7213, Val Loss = 15.7718\n",
            "    ⏹️ Early stopping at epoch 32\n",
            " Run 3 finished with best val loss: 12.3543\n",
            "Original Error Percentage (Test Dataset): 4.0399%\n",
            "Corrected Error Percentage (Test Dataset): 5.2694%\n",
            "   Run 4/5 ...      Epoch 0: Train Loss = 0.7293, Val Loss = 16.2338\n"
          ]
        },
        {
          "output_type": "stream",
          "name": "stderr",
          "text": [
            "<ipython-input-438-ab28ec98d12e>:152: UserWarning: To copy construct from a tensor, it is recommended to use sourceTensor.clone().detach() or sourceTensor.clone().detach().requires_grad_(True), rather than torch.tensor(sourceTensor).\n",
            "  X_scaled_tensor = torch.tensor(combined_X, dtype=torch.float32).unsqueeze(1)\n"
          ]
        },
        {
          "output_type": "stream",
          "name": "stdout",
          "text": [
            "     Epoch 5: Train Loss = 0.7225, Val Loss = 13.2440\n",
            "     Epoch 10: Train Loss = 0.7260, Val Loss = 15.8628\n",
            "     Epoch 15: Train Loss = 0.7216, Val Loss = 18.1765\n",
            "     Epoch 20: Train Loss = 0.7264, Val Loss = 17.2260\n",
            "     Epoch 25: Train Loss = 0.7156, Val Loss = 18.5289\n",
            "    ⏹️ Early stopping at epoch 26\n",
            " Run 4 finished with best val loss: 11.9767\n",
            "Original Error Percentage (Test Dataset): 4.0399%\n",
            "Corrected Error Percentage (Test Dataset): 4.7735%\n",
            "   Run 5/5 ... "
          ]
        },
        {
          "output_type": "stream",
          "name": "stderr",
          "text": [
            "<ipython-input-438-ab28ec98d12e>:152: UserWarning: To copy construct from a tensor, it is recommended to use sourceTensor.clone().detach() or sourceTensor.clone().detach().requires_grad_(True), rather than torch.tensor(sourceTensor).\n",
            "  X_scaled_tensor = torch.tensor(combined_X, dtype=torch.float32).unsqueeze(1)\n"
          ]
        },
        {
          "output_type": "stream",
          "name": "stdout",
          "text": [
            "     Epoch 0: Train Loss = 0.7387, Val Loss = 18.4753\n",
            "     Epoch 5: Train Loss = 0.7362, Val Loss = 13.5415\n",
            "     Epoch 10: Train Loss = 0.7201, Val Loss = 15.4033\n",
            "     Epoch 15: Train Loss = 0.7266, Val Loss = 17.3560\n",
            "     Epoch 20: Train Loss = 0.7174, Val Loss = 13.6662\n",
            "    ⏹️ Early stopping at epoch 22\n",
            " Run 5 finished with best val loss: 10.6124\n",
            "Original Error Percentage (Test Dataset): 4.0399%\n",
            "Corrected Error Percentage (Test Dataset): 4.4096%\n",
            " Finished configuration H=128, D=0.1, LR=0.001, B=16 → Avg Val Loss: 11.8272, Avg Accuracy: 4.9795%\n",
            "\n",
            " Running 72/81: H=128, D=0.1, LR=0.001, B=32\n",
            "   Run 1/5 ...      Epoch 0: Train Loss = 0.7529, Val Loss = 15.1036\n"
          ]
        },
        {
          "output_type": "stream",
          "name": "stderr",
          "text": [
            "<ipython-input-438-ab28ec98d12e>:152: UserWarning: To copy construct from a tensor, it is recommended to use sourceTensor.clone().detach() or sourceTensor.clone().detach().requires_grad_(True), rather than torch.tensor(sourceTensor).\n",
            "  X_scaled_tensor = torch.tensor(combined_X, dtype=torch.float32).unsqueeze(1)\n"
          ]
        },
        {
          "output_type": "stream",
          "name": "stdout",
          "text": [
            "     Epoch 5: Train Loss = 0.7265, Val Loss = 15.3978\n",
            "     Epoch 10: Train Loss = 0.7336, Val Loss = 15.9210\n",
            "     Epoch 15: Train Loss = 0.7310, Val Loss = 17.9823\n",
            "     Epoch 20: Train Loss = 0.7241, Val Loss = 15.8513\n",
            "    ⏹️ Early stopping at epoch 21\n",
            " Run 1 finished with best val loss: 12.5102\n",
            "Original Error Percentage (Test Dataset): 4.0399%\n",
            "Corrected Error Percentage (Test Dataset): 5.2335%\n",
            "   Run 2/5 ...      Epoch 0: Train Loss = 0.7377, Val Loss = 17.0973\n"
          ]
        },
        {
          "output_type": "stream",
          "name": "stderr",
          "text": [
            "<ipython-input-438-ab28ec98d12e>:152: UserWarning: To copy construct from a tensor, it is recommended to use sourceTensor.clone().detach() or sourceTensor.clone().detach().requires_grad_(True), rather than torch.tensor(sourceTensor).\n",
            "  X_scaled_tensor = torch.tensor(combined_X, dtype=torch.float32).unsqueeze(1)\n"
          ]
        },
        {
          "output_type": "stream",
          "name": "stdout",
          "text": [
            "     Epoch 5: Train Loss = 0.7283, Val Loss = 14.7248\n",
            "     Epoch 10: Train Loss = 0.7254, Val Loss = 13.5088\n",
            "     Epoch 15: Train Loss = 0.7130, Val Loss = 18.8461\n",
            "     Epoch 20: Train Loss = 0.7141, Val Loss = 13.6029\n",
            "    ⏹️ Early stopping at epoch 21\n",
            " Run 2 finished with best val loss: 11.5256\n",
            "Original Error Percentage (Test Dataset): 4.0399%\n",
            "Corrected Error Percentage (Test Dataset): 4.6514%\n",
            "   Run 3/5 ...      Epoch 0: Train Loss = 0.7493, Val Loss = 19.0441\n"
          ]
        },
        {
          "output_type": "stream",
          "name": "stderr",
          "text": [
            "<ipython-input-438-ab28ec98d12e>:152: UserWarning: To copy construct from a tensor, it is recommended to use sourceTensor.clone().detach() or sourceTensor.clone().detach().requires_grad_(True), rather than torch.tensor(sourceTensor).\n",
            "  X_scaled_tensor = torch.tensor(combined_X, dtype=torch.float32).unsqueeze(1)\n"
          ]
        },
        {
          "output_type": "stream",
          "name": "stdout",
          "text": [
            "     Epoch 5: Train Loss = 0.7203, Val Loss = 17.8309\n",
            "     Epoch 10: Train Loss = 0.7234, Val Loss = 16.4957\n",
            "     Epoch 15: Train Loss = 0.7253, Val Loss = 16.7521\n",
            "     Epoch 20: Train Loss = 0.7180, Val Loss = 20.0665\n",
            "     Epoch 25: Train Loss = 0.7180, Val Loss = 18.4885\n",
            "    ⏹️ Early stopping at epoch 28\n",
            " Run 3 finished with best val loss: 11.9108\n",
            "Original Error Percentage (Test Dataset): 4.0399%\n",
            "Corrected Error Percentage (Test Dataset): 5.5778%\n",
            "   Run 4/5 ...      Epoch 0: Train Loss = 0.7531, Val Loss = 15.1518\n"
          ]
        },
        {
          "output_type": "stream",
          "name": "stderr",
          "text": [
            "<ipython-input-438-ab28ec98d12e>:152: UserWarning: To copy construct from a tensor, it is recommended to use sourceTensor.clone().detach() or sourceTensor.clone().detach().requires_grad_(True), rather than torch.tensor(sourceTensor).\n",
            "  X_scaled_tensor = torch.tensor(combined_X, dtype=torch.float32).unsqueeze(1)\n"
          ]
        },
        {
          "output_type": "stream",
          "name": "stdout",
          "text": [
            "     Epoch 5: Train Loss = 0.7306, Val Loss = 12.6136\n",
            "     Epoch 10: Train Loss = 0.7152, Val Loss = 14.4099\n",
            "     Epoch 15: Train Loss = 0.7224, Val Loss = 15.7304\n",
            "     Epoch 20: Train Loss = 0.7164, Val Loss = 17.6027\n",
            "    ⏹️ Early stopping at epoch 23\n",
            " Run 4 finished with best val loss: 10.3567\n",
            "Original Error Percentage (Test Dataset): 4.0399%\n",
            "Corrected Error Percentage (Test Dataset): 4.2036%\n",
            "   Run 5/5 ...      Epoch 0: Train Loss = 0.7669, Val Loss = 13.1855\n"
          ]
        },
        {
          "output_type": "stream",
          "name": "stderr",
          "text": [
            "<ipython-input-438-ab28ec98d12e>:152: UserWarning: To copy construct from a tensor, it is recommended to use sourceTensor.clone().detach() or sourceTensor.clone().detach().requires_grad_(True), rather than torch.tensor(sourceTensor).\n",
            "  X_scaled_tensor = torch.tensor(combined_X, dtype=torch.float32).unsqueeze(1)\n"
          ]
        },
        {
          "output_type": "stream",
          "name": "stdout",
          "text": [
            "     Epoch 5: Train Loss = 0.7379, Val Loss = 14.5982\n",
            "     Epoch 10: Train Loss = 0.7199, Val Loss = 12.9157\n",
            "     Epoch 15: Train Loss = 0.7220, Val Loss = 14.0626\n",
            "     Epoch 20: Train Loss = 0.7190, Val Loss = 15.8693\n",
            "    ⏹️ Early stopping at epoch 24\n",
            " Run 5 finished with best val loss: 11.3413\n",
            "Original Error Percentage (Test Dataset): 4.0399%\n",
            "Corrected Error Percentage (Test Dataset): 5.2230%\n",
            " Finished configuration H=128, D=0.1, LR=0.001, B=32 → Avg Val Loss: 11.5289, Avg Accuracy: 4.9779%\n",
            "\n",
            " Running 73/81: H=128, D=0.2, LR=0.0001, B=8\n",
            "   Run 1/5 ... "
          ]
        },
        {
          "output_type": "stream",
          "name": "stderr",
          "text": [
            "<ipython-input-438-ab28ec98d12e>:152: UserWarning: To copy construct from a tensor, it is recommended to use sourceTensor.clone().detach() or sourceTensor.clone().detach().requires_grad_(True), rather than torch.tensor(sourceTensor).\n",
            "  X_scaled_tensor = torch.tensor(combined_X, dtype=torch.float32).unsqueeze(1)\n"
          ]
        },
        {
          "output_type": "stream",
          "name": "stdout",
          "text": [
            "     Epoch 0: Train Loss = 0.7578, Val Loss = 13.5377\n",
            "     Epoch 5: Train Loss = 0.7252, Val Loss = 13.5985\n",
            "     Epoch 10: Train Loss = 0.7287, Val Loss = 13.8230\n",
            "     Epoch 15: Train Loss = 0.7315, Val Loss = 14.9893\n",
            "     Epoch 20: Train Loss = 0.7214, Val Loss = 15.3252\n",
            "     Epoch 25: Train Loss = 0.7282, Val Loss = 14.8810\n",
            "     Epoch 30: Train Loss = 0.7211, Val Loss = 14.9717\n",
            "    ⏹️ Early stopping at epoch 31\n",
            " Run 1 finished with best val loss: 13.0964\n",
            "Original Error Percentage (Test Dataset): 4.0399%\n",
            "Corrected Error Percentage (Test Dataset): 4.3863%\n",
            "   Run 2/5 ... "
          ]
        },
        {
          "output_type": "stream",
          "name": "stderr",
          "text": [
            "<ipython-input-438-ab28ec98d12e>:152: UserWarning: To copy construct from a tensor, it is recommended to use sourceTensor.clone().detach() or sourceTensor.clone().detach().requires_grad_(True), rather than torch.tensor(sourceTensor).\n",
            "  X_scaled_tensor = torch.tensor(combined_X, dtype=torch.float32).unsqueeze(1)\n"
          ]
        },
        {
          "output_type": "stream",
          "name": "stdout",
          "text": [
            "     Epoch 0: Train Loss = 0.7804, Val Loss = 14.2888\n",
            "     Epoch 5: Train Loss = 0.7268, Val Loss = 14.8660\n",
            "     Epoch 10: Train Loss = 0.7280, Val Loss = 14.9221\n",
            "     Epoch 15: Train Loss = 0.7256, Val Loss = 15.4497\n",
            "     Epoch 20: Train Loss = 0.7215, Val Loss = 16.2248\n",
            "     Epoch 25: Train Loss = 0.7212, Val Loss = 15.8010\n",
            "    ⏹️ Early stopping at epoch 27\n",
            " Run 2 finished with best val loss: 13.6106\n",
            "Original Error Percentage (Test Dataset): 4.0399%\n",
            "Corrected Error Percentage (Test Dataset): 4.1560%\n",
            "   Run 3/5 ... "
          ]
        },
        {
          "output_type": "stream",
          "name": "stderr",
          "text": [
            "<ipython-input-438-ab28ec98d12e>:152: UserWarning: To copy construct from a tensor, it is recommended to use sourceTensor.clone().detach() or sourceTensor.clone().detach().requires_grad_(True), rather than torch.tensor(sourceTensor).\n",
            "  X_scaled_tensor = torch.tensor(combined_X, dtype=torch.float32).unsqueeze(1)\n"
          ]
        },
        {
          "output_type": "stream",
          "name": "stdout",
          "text": [
            "     Epoch 0: Train Loss = 0.8045, Val Loss = 7.4004\n",
            "     Epoch 5: Train Loss = 0.7309, Val Loss = 12.3737\n",
            "     Epoch 10: Train Loss = 0.7205, Val Loss = 14.3257\n",
            "     Epoch 15: Train Loss = 0.7322, Val Loss = 13.7953\n",
            "     Epoch 20: Train Loss = 0.7236, Val Loss = 14.1605\n",
            "    ⏹️ Early stopping at epoch 20\n",
            " Run 3 finished with best val loss: 7.4004\n",
            "Original Error Percentage (Test Dataset): 4.0399%\n",
            "Corrected Error Percentage (Test Dataset): 3.9378%\n",
            "   Run 4/5 ... "
          ]
        },
        {
          "output_type": "stream",
          "name": "stderr",
          "text": [
            "<ipython-input-438-ab28ec98d12e>:152: UserWarning: To copy construct from a tensor, it is recommended to use sourceTensor.clone().detach() or sourceTensor.clone().detach().requires_grad_(True), rather than torch.tensor(sourceTensor).\n",
            "  X_scaled_tensor = torch.tensor(combined_X, dtype=torch.float32).unsqueeze(1)\n"
          ]
        },
        {
          "output_type": "stream",
          "name": "stdout",
          "text": [
            "     Epoch 0: Train Loss = 0.7655, Val Loss = 10.5210\n",
            "     Epoch 5: Train Loss = 0.7250, Val Loss = 13.1950\n",
            "     Epoch 10: Train Loss = 0.7257, Val Loss = 12.5899\n",
            "     Epoch 15: Train Loss = 0.7139, Val Loss = 13.0528\n",
            "     Epoch 20: Train Loss = 0.7217, Val Loss = 14.8948\n",
            "    ⏹️ Early stopping at epoch 20\n",
            " Run 4 finished with best val loss: 10.5210\n",
            "Original Error Percentage (Test Dataset): 4.0399%\n",
            "Corrected Error Percentage (Test Dataset): 4.1793%\n",
            "   Run 5/5 ... "
          ]
        },
        {
          "output_type": "stream",
          "name": "stderr",
          "text": [
            "<ipython-input-438-ab28ec98d12e>:152: UserWarning: To copy construct from a tensor, it is recommended to use sourceTensor.clone().detach() or sourceTensor.clone().detach().requires_grad_(True), rather than torch.tensor(sourceTensor).\n",
            "  X_scaled_tensor = torch.tensor(combined_X, dtype=torch.float32).unsqueeze(1)\n"
          ]
        },
        {
          "output_type": "stream",
          "name": "stdout",
          "text": [
            "     Epoch 0: Train Loss = 0.8524, Val Loss = 10.3556\n",
            "     Epoch 5: Train Loss = 0.7264, Val Loss = 13.1479\n",
            "     Epoch 10: Train Loss = 0.7329, Val Loss = 13.1376\n",
            "     Epoch 15: Train Loss = 0.7144, Val Loss = 12.9726\n",
            "     Epoch 20: Train Loss = 0.7261, Val Loss = 13.3224\n",
            "    ⏹️ Early stopping at epoch 20\n",
            " Run 5 finished with best val loss: 10.3556\n",
            "Original Error Percentage (Test Dataset): 4.0399%\n",
            "Corrected Error Percentage (Test Dataset): 3.7378%\n",
            " Finished configuration H=128, D=0.2, LR=0.0001, B=8 → Avg Val Loss: 10.9968, Avg Accuracy: 4.0794%\n",
            "\n",
            " Running 74/81: H=128, D=0.2, LR=0.0001, B=16\n",
            "   Run 1/5 ...      Epoch 0: Train Loss = 0.7705, Val Loss = 12.7298\n"
          ]
        },
        {
          "output_type": "stream",
          "name": "stderr",
          "text": [
            "<ipython-input-438-ab28ec98d12e>:152: UserWarning: To copy construct from a tensor, it is recommended to use sourceTensor.clone().detach() or sourceTensor.clone().detach().requires_grad_(True), rather than torch.tensor(sourceTensor).\n",
            "  X_scaled_tensor = torch.tensor(combined_X, dtype=torch.float32).unsqueeze(1)\n"
          ]
        },
        {
          "output_type": "stream",
          "name": "stdout",
          "text": [
            "     Epoch 5: Train Loss = 0.7275, Val Loss = 15.1105\n",
            "     Epoch 10: Train Loss = 0.7185, Val Loss = 13.5281\n",
            "     Epoch 15: Train Loss = 0.7279, Val Loss = 13.5297\n",
            "     Epoch 20: Train Loss = 0.7223, Val Loss = 14.0807\n",
            "    ⏹️ Early stopping at epoch 20\n",
            " Run 1 finished with best val loss: 12.7298\n",
            "Original Error Percentage (Test Dataset): 4.0399%\n",
            "Corrected Error Percentage (Test Dataset): 3.9445%\n",
            "   Run 2/5 ... "
          ]
        },
        {
          "output_type": "stream",
          "name": "stderr",
          "text": [
            "<ipython-input-438-ab28ec98d12e>:152: UserWarning: To copy construct from a tensor, it is recommended to use sourceTensor.clone().detach() or sourceTensor.clone().detach().requires_grad_(True), rather than torch.tensor(sourceTensor).\n",
            "  X_scaled_tensor = torch.tensor(combined_X, dtype=torch.float32).unsqueeze(1)\n"
          ]
        },
        {
          "output_type": "stream",
          "name": "stdout",
          "text": [
            "     Epoch 0: Train Loss = 0.7761, Val Loss = 12.1136\n",
            "     Epoch 5: Train Loss = 0.7404, Val Loss = 14.1073\n",
            "     Epoch 10: Train Loss = 0.7323, Val Loss = 13.3086\n",
            "     Epoch 15: Train Loss = 0.7261, Val Loss = 13.2781\n",
            "     Epoch 20: Train Loss = 0.7218, Val Loss = 15.0075\n",
            "    ⏹️ Early stopping at epoch 20\n",
            " Run 2 finished with best val loss: 12.1136\n",
            "Original Error Percentage (Test Dataset): 4.0399%\n",
            "Corrected Error Percentage (Test Dataset): 4.1963%\n",
            "   Run 3/5 ...      Epoch 0: Train Loss = 0.7733, Val Loss = 9.2647\n"
          ]
        },
        {
          "output_type": "stream",
          "name": "stderr",
          "text": [
            "<ipython-input-438-ab28ec98d12e>:152: UserWarning: To copy construct from a tensor, it is recommended to use sourceTensor.clone().detach() or sourceTensor.clone().detach().requires_grad_(True), rather than torch.tensor(sourceTensor).\n",
            "  X_scaled_tensor = torch.tensor(combined_X, dtype=torch.float32).unsqueeze(1)\n"
          ]
        },
        {
          "output_type": "stream",
          "name": "stdout",
          "text": [
            "     Epoch 5: Train Loss = 0.7250, Val Loss = 12.3119\n",
            "     Epoch 10: Train Loss = 0.7200, Val Loss = 13.1829\n",
            "     Epoch 15: Train Loss = 0.7215, Val Loss = 13.0060\n",
            "     Epoch 20: Train Loss = 0.7283, Val Loss = 13.6670\n",
            "    ⏹️ Early stopping at epoch 20\n",
            " Run 3 finished with best val loss: 9.2647\n",
            "Original Error Percentage (Test Dataset): 4.0399%\n",
            "Corrected Error Percentage (Test Dataset): 3.8507%\n",
            "   Run 4/5 ...      Epoch 0: Train Loss = 0.7822, Val Loss = 11.6104\n"
          ]
        },
        {
          "output_type": "stream",
          "name": "stderr",
          "text": [
            "<ipython-input-438-ab28ec98d12e>:152: UserWarning: To copy construct from a tensor, it is recommended to use sourceTensor.clone().detach() or sourceTensor.clone().detach().requires_grad_(True), rather than torch.tensor(sourceTensor).\n",
            "  X_scaled_tensor = torch.tensor(combined_X, dtype=torch.float32).unsqueeze(1)\n"
          ]
        },
        {
          "output_type": "stream",
          "name": "stdout",
          "text": [
            "     Epoch 5: Train Loss = 0.7312, Val Loss = 13.3600\n",
            "     Epoch 10: Train Loss = 0.7173, Val Loss = 13.4458\n",
            "     Epoch 15: Train Loss = 0.7181, Val Loss = 13.1895\n",
            "     Epoch 20: Train Loss = 0.7224, Val Loss = 13.1631\n",
            "    ⏹️ Early stopping at epoch 20\n",
            " Run 4 finished with best val loss: 11.6104\n",
            "Original Error Percentage (Test Dataset): 4.0399%\n",
            "Corrected Error Percentage (Test Dataset): 3.6632%\n",
            "   Run 5/5 ...      Epoch 0: Train Loss = 0.7966, Val Loss = 11.3389\n"
          ]
        },
        {
          "output_type": "stream",
          "name": "stderr",
          "text": [
            "<ipython-input-438-ab28ec98d12e>:152: UserWarning: To copy construct from a tensor, it is recommended to use sourceTensor.clone().detach() or sourceTensor.clone().detach().requires_grad_(True), rather than torch.tensor(sourceTensor).\n",
            "  X_scaled_tensor = torch.tensor(combined_X, dtype=torch.float32).unsqueeze(1)\n"
          ]
        },
        {
          "output_type": "stream",
          "name": "stdout",
          "text": [
            "     Epoch 5: Train Loss = 0.7422, Val Loss = 13.8160\n",
            "     Epoch 10: Train Loss = 0.7300, Val Loss = 13.2570\n",
            "     Epoch 15: Train Loss = 0.7255, Val Loss = 13.6292\n",
            "     Epoch 20: Train Loss = 0.7309, Val Loss = 12.5269\n",
            "    ⏹️ Early stopping at epoch 20\n",
            " Run 5 finished with best val loss: 11.3389\n",
            "Original Error Percentage (Test Dataset): 4.0399%\n",
            "Corrected Error Percentage (Test Dataset): 3.5064%\n",
            " Finished configuration H=128, D=0.2, LR=0.0001, B=16 → Avg Val Loss: 11.4115, Avg Accuracy: 3.8322%\n",
            "\n",
            " Running 75/81: H=128, D=0.2, LR=0.0001, B=32\n",
            "   Run 1/5 ...      Epoch 0: Train Loss = 0.7760, Val Loss = 9.8998\n"
          ]
        },
        {
          "output_type": "stream",
          "name": "stderr",
          "text": [
            "<ipython-input-438-ab28ec98d12e>:152: UserWarning: To copy construct from a tensor, it is recommended to use sourceTensor.clone().detach() or sourceTensor.clone().detach().requires_grad_(True), rather than torch.tensor(sourceTensor).\n",
            "  X_scaled_tensor = torch.tensor(combined_X, dtype=torch.float32).unsqueeze(1)\n"
          ]
        },
        {
          "output_type": "stream",
          "name": "stdout",
          "text": [
            "     Epoch 5: Train Loss = 0.7247, Val Loss = 14.0889\n",
            "     Epoch 10: Train Loss = 0.7251, Val Loss = 13.6136\n",
            "     Epoch 15: Train Loss = 0.7318, Val Loss = 14.1907\n",
            "     Epoch 20: Train Loss = 0.7258, Val Loss = 13.9253\n",
            "    ⏹️ Early stopping at epoch 20\n",
            " Run 1 finished with best val loss: 9.8998\n",
            "Original Error Percentage (Test Dataset): 4.0399%\n",
            "Corrected Error Percentage (Test Dataset): 3.7939%\n",
            "   Run 2/5 ...      Epoch 0: Train Loss = 0.8219, Val Loss = 7.8246\n"
          ]
        },
        {
          "output_type": "stream",
          "name": "stderr",
          "text": [
            "<ipython-input-438-ab28ec98d12e>:152: UserWarning: To copy construct from a tensor, it is recommended to use sourceTensor.clone().detach() or sourceTensor.clone().detach().requires_grad_(True), rather than torch.tensor(sourceTensor).\n",
            "  X_scaled_tensor = torch.tensor(combined_X, dtype=torch.float32).unsqueeze(1)\n"
          ]
        },
        {
          "output_type": "stream",
          "name": "stdout",
          "text": [
            "     Epoch 5: Train Loss = 0.7239, Val Loss = 14.6802\n",
            "     Epoch 10: Train Loss = 0.7231, Val Loss = 12.5352\n",
            "     Epoch 15: Train Loss = 0.7292, Val Loss = 12.6707\n",
            "     Epoch 20: Train Loss = 0.7297, Val Loss = 12.9236\n",
            "    ⏹️ Early stopping at epoch 20\n",
            " Run 2 finished with best val loss: 7.8246\n",
            "Original Error Percentage (Test Dataset): 4.0399%\n",
            "Corrected Error Percentage (Test Dataset): 3.5663%\n",
            "   Run 3/5 ...      Epoch 0: Train Loss = 0.8070, Val Loss = 8.9708\n"
          ]
        },
        {
          "output_type": "stream",
          "name": "stderr",
          "text": [
            "<ipython-input-438-ab28ec98d12e>:152: UserWarning: To copy construct from a tensor, it is recommended to use sourceTensor.clone().detach() or sourceTensor.clone().detach().requires_grad_(True), rather than torch.tensor(sourceTensor).\n",
            "  X_scaled_tensor = torch.tensor(combined_X, dtype=torch.float32).unsqueeze(1)\n"
          ]
        },
        {
          "output_type": "stream",
          "name": "stdout",
          "text": [
            "     Epoch 5: Train Loss = 0.7303, Val Loss = 14.0236\n",
            "     Epoch 10: Train Loss = 0.7249, Val Loss = 13.4172\n",
            "     Epoch 15: Train Loss = 0.7225, Val Loss = 14.0008\n",
            "     Epoch 20: Train Loss = 0.7232, Val Loss = 13.5125\n",
            "    ⏹️ Early stopping at epoch 20\n",
            " Run 3 finished with best val loss: 8.9708\n",
            "Original Error Percentage (Test Dataset): 4.0399%\n",
            "Corrected Error Percentage (Test Dataset): 3.7662%\n",
            "   Run 4/5 ...      Epoch 0: Train Loss = 0.7701, Val Loss = 9.4404\n"
          ]
        },
        {
          "output_type": "stream",
          "name": "stderr",
          "text": [
            "<ipython-input-438-ab28ec98d12e>:152: UserWarning: To copy construct from a tensor, it is recommended to use sourceTensor.clone().detach() or sourceTensor.clone().detach().requires_grad_(True), rather than torch.tensor(sourceTensor).\n",
            "  X_scaled_tensor = torch.tensor(combined_X, dtype=torch.float32).unsqueeze(1)\n"
          ]
        },
        {
          "output_type": "stream",
          "name": "stdout",
          "text": [
            "     Epoch 5: Train Loss = 0.7341, Val Loss = 12.8519\n",
            "     Epoch 10: Train Loss = 0.7287, Val Loss = 12.8335\n",
            "     Epoch 15: Train Loss = 0.7259, Val Loss = 12.0292\n",
            "     Epoch 20: Train Loss = 0.7242, Val Loss = 12.9498\n",
            "    ⏹️ Early stopping at epoch 20\n",
            " Run 4 finished with best val loss: 9.4404\n",
            "Original Error Percentage (Test Dataset): 4.0399%\n",
            "Corrected Error Percentage (Test Dataset): 3.5810%\n",
            "   Run 5/5 ...      Epoch 0: Train Loss = 0.9484, Val Loss = 5.4605\n"
          ]
        },
        {
          "output_type": "stream",
          "name": "stderr",
          "text": [
            "<ipython-input-438-ab28ec98d12e>:152: UserWarning: To copy construct from a tensor, it is recommended to use sourceTensor.clone().detach() or sourceTensor.clone().detach().requires_grad_(True), rather than torch.tensor(sourceTensor).\n",
            "  X_scaled_tensor = torch.tensor(combined_X, dtype=torch.float32).unsqueeze(1)\n"
          ]
        },
        {
          "output_type": "stream",
          "name": "stdout",
          "text": [
            "     Epoch 5: Train Loss = 0.7244, Val Loss = 14.0963\n",
            "     Epoch 10: Train Loss = 0.7364, Val Loss = 14.2303\n",
            "     Epoch 15: Train Loss = 0.7263, Val Loss = 15.1304\n",
            "     Epoch 20: Train Loss = 0.7217, Val Loss = 15.6410\n",
            "    ⏹️ Early stopping at epoch 20\n",
            " Run 5 finished with best val loss: 5.4605\n",
            "Original Error Percentage (Test Dataset): 4.0399%\n",
            "Corrected Error Percentage (Test Dataset): 4.3259%\n",
            " Finished configuration H=128, D=0.2, LR=0.0001, B=32 → Avg Val Loss: 8.3192, Avg Accuracy: 3.8066%\n",
            "\n",
            " Running 76/81: H=128, D=0.2, LR=0.0005, B=8\n",
            "   Run 1/5 ... "
          ]
        },
        {
          "output_type": "stream",
          "name": "stderr",
          "text": [
            "<ipython-input-438-ab28ec98d12e>:152: UserWarning: To copy construct from a tensor, it is recommended to use sourceTensor.clone().detach() or sourceTensor.clone().detach().requires_grad_(True), rather than torch.tensor(sourceTensor).\n",
            "  X_scaled_tensor = torch.tensor(combined_X, dtype=torch.float32).unsqueeze(1)\n"
          ]
        },
        {
          "output_type": "stream",
          "name": "stdout",
          "text": [
            "     Epoch 0: Train Loss = 0.7457, Val Loss = 8.7220\n",
            "     Epoch 5: Train Loss = 0.7240, Val Loss = 14.7799\n",
            "     Epoch 10: Train Loss = 0.7242, Val Loss = 13.1452\n",
            "     Epoch 15: Train Loss = 0.7157, Val Loss = 14.8996\n",
            "     Epoch 20: Train Loss = 0.7239, Val Loss = 20.3897\n",
            "    ⏹️ Early stopping at epoch 20\n",
            " Run 1 finished with best val loss: 8.7220\n",
            "Original Error Percentage (Test Dataset): 4.0399%\n",
            "Corrected Error Percentage (Test Dataset): 5.8586%\n",
            "   Run 2/5 ... "
          ]
        },
        {
          "output_type": "stream",
          "name": "stderr",
          "text": [
            "<ipython-input-438-ab28ec98d12e>:152: UserWarning: To copy construct from a tensor, it is recommended to use sourceTensor.clone().detach() or sourceTensor.clone().detach().requires_grad_(True), rather than torch.tensor(sourceTensor).\n",
            "  X_scaled_tensor = torch.tensor(combined_X, dtype=torch.float32).unsqueeze(1)\n"
          ]
        },
        {
          "output_type": "stream",
          "name": "stdout",
          "text": [
            "     Epoch 0: Train Loss = 0.7518, Val Loss = 17.1429\n",
            "     Epoch 5: Train Loss = 0.7293, Val Loss = 17.1578\n",
            "     Epoch 10: Train Loss = 0.7354, Val Loss = 14.2632\n",
            "     Epoch 15: Train Loss = 0.7166, Val Loss = 15.4511\n",
            "     Epoch 20: Train Loss = 0.7178, Val Loss = 12.6916\n",
            "     Epoch 25: Train Loss = 0.7243, Val Loss = 15.0546\n",
            "     Epoch 30: Train Loss = 0.7240, Val Loss = 14.2333\n",
            "    ⏹️ Early stopping at epoch 31\n",
            " Run 2 finished with best val loss: 11.0229\n",
            "Original Error Percentage (Test Dataset): 4.0399%\n",
            "Corrected Error Percentage (Test Dataset): 3.7241%\n",
            "   Run 3/5 ... "
          ]
        },
        {
          "output_type": "stream",
          "name": "stderr",
          "text": [
            "<ipython-input-438-ab28ec98d12e>:152: UserWarning: To copy construct from a tensor, it is recommended to use sourceTensor.clone().detach() or sourceTensor.clone().detach().requires_grad_(True), rather than torch.tensor(sourceTensor).\n",
            "  X_scaled_tensor = torch.tensor(combined_X, dtype=torch.float32).unsqueeze(1)\n"
          ]
        },
        {
          "output_type": "stream",
          "name": "stdout",
          "text": [
            "     Epoch 0: Train Loss = 0.7372, Val Loss = 13.4962\n",
            "     Epoch 5: Train Loss = 0.7297, Val Loss = 13.2794\n",
            "     Epoch 10: Train Loss = 0.7226, Val Loss = 17.9401\n",
            "     Epoch 15: Train Loss = 0.7193, Val Loss = 13.9408\n",
            "     Epoch 20: Train Loss = 0.7171, Val Loss = 18.1867\n",
            "     Epoch 25: Train Loss = 0.7260, Val Loss = 16.9962\n",
            "     Epoch 30: Train Loss = 0.7254, Val Loss = 14.8812\n",
            "    ⏹️ Early stopping at epoch 32\n",
            " Run 3 finished with best val loss: 11.6796\n",
            "Original Error Percentage (Test Dataset): 4.0399%\n",
            "Corrected Error Percentage (Test Dataset): 5.1431%\n",
            "   Run 4/5 ... "
          ]
        },
        {
          "output_type": "stream",
          "name": "stderr",
          "text": [
            "<ipython-input-438-ab28ec98d12e>:152: UserWarning: To copy construct from a tensor, it is recommended to use sourceTensor.clone().detach() or sourceTensor.clone().detach().requires_grad_(True), rather than torch.tensor(sourceTensor).\n",
            "  X_scaled_tensor = torch.tensor(combined_X, dtype=torch.float32).unsqueeze(1)\n"
          ]
        },
        {
          "output_type": "stream",
          "name": "stdout",
          "text": [
            "     Epoch 0: Train Loss = 0.7546, Val Loss = 10.3004\n",
            "     Epoch 5: Train Loss = 0.7316, Val Loss = 17.5510\n",
            "     Epoch 10: Train Loss = 0.7233, Val Loss = 14.5039\n",
            "     Epoch 15: Train Loss = 0.7264, Val Loss = 20.2014\n",
            "     Epoch 20: Train Loss = 0.7192, Val Loss = 13.7005\n",
            "    ⏹️ Early stopping at epoch 21\n",
            " Run 4 finished with best val loss: 8.8448\n",
            "Original Error Percentage (Test Dataset): 4.0399%\n",
            "Corrected Error Percentage (Test Dataset): 5.2310%\n",
            "   Run 5/5 ... "
          ]
        },
        {
          "output_type": "stream",
          "name": "stderr",
          "text": [
            "<ipython-input-438-ab28ec98d12e>:152: UserWarning: To copy construct from a tensor, it is recommended to use sourceTensor.clone().detach() or sourceTensor.clone().detach().requires_grad_(True), rather than torch.tensor(sourceTensor).\n",
            "  X_scaled_tensor = torch.tensor(combined_X, dtype=torch.float32).unsqueeze(1)\n"
          ]
        },
        {
          "output_type": "stream",
          "name": "stdout",
          "text": [
            "     Epoch 0: Train Loss = 0.7391, Val Loss = 13.1388\n",
            "     Epoch 5: Train Loss = 0.7268, Val Loss = 11.7507\n",
            "     Epoch 10: Train Loss = 0.7253, Val Loss = 11.5837\n",
            "     Epoch 15: Train Loss = 0.7264, Val Loss = 11.9190\n",
            "     Epoch 20: Train Loss = 0.7220, Val Loss = 15.9917\n",
            "     Epoch 25: Train Loss = 0.7213, Val Loss = 15.6599\n",
            "     Epoch 30: Train Loss = 0.7178, Val Loss = 17.7411\n",
            "    ⏹️ Early stopping at epoch 30\n",
            " Run 5 finished with best val loss: 11.5837\n",
            "Original Error Percentage (Test Dataset): 4.0399%\n",
            "Corrected Error Percentage (Test Dataset): 5.0330%\n",
            " Finished configuration H=128, D=0.2, LR=0.0005, B=8 → Avg Val Loss: 10.3706, Avg Accuracy: 4.9980%\n",
            "\n",
            " Running 77/81: H=128, D=0.2, LR=0.0005, B=16\n",
            "   Run 1/5 ...      Epoch 0: Train Loss = 0.7790, Val Loss = 10.3058\n"
          ]
        },
        {
          "output_type": "stream",
          "name": "stderr",
          "text": [
            "<ipython-input-438-ab28ec98d12e>:152: UserWarning: To copy construct from a tensor, it is recommended to use sourceTensor.clone().detach() or sourceTensor.clone().detach().requires_grad_(True), rather than torch.tensor(sourceTensor).\n",
            "  X_scaled_tensor = torch.tensor(combined_X, dtype=torch.float32).unsqueeze(1)\n"
          ]
        },
        {
          "output_type": "stream",
          "name": "stdout",
          "text": [
            "     Epoch 5: Train Loss = 0.7300, Val Loss = 12.3549\n",
            "     Epoch 10: Train Loss = 0.7286, Val Loss = 11.8304\n",
            "     Epoch 15: Train Loss = 0.7173, Val Loss = 14.1430\n",
            "     Epoch 20: Train Loss = 0.7232, Val Loss = 13.9752\n",
            "    ⏹️ Early stopping at epoch 20\n",
            " Run 1 finished with best val loss: 10.3058\n",
            "Original Error Percentage (Test Dataset): 4.0399%\n",
            "Corrected Error Percentage (Test Dataset): 3.8923%\n",
            "   Run 2/5 ... "
          ]
        },
        {
          "output_type": "stream",
          "name": "stderr",
          "text": [
            "<ipython-input-438-ab28ec98d12e>:152: UserWarning: To copy construct from a tensor, it is recommended to use sourceTensor.clone().detach() or sourceTensor.clone().detach().requires_grad_(True), rather than torch.tensor(sourceTensor).\n",
            "  X_scaled_tensor = torch.tensor(combined_X, dtype=torch.float32).unsqueeze(1)\n"
          ]
        },
        {
          "output_type": "stream",
          "name": "stdout",
          "text": [
            "     Epoch 0: Train Loss = 0.7429, Val Loss = 13.5463\n",
            "     Epoch 5: Train Loss = 0.7257, Val Loss = 14.0466\n",
            "     Epoch 10: Train Loss = 0.7310, Val Loss = 13.6645\n",
            "     Epoch 15: Train Loss = 0.7254, Val Loss = 13.2076\n",
            "     Epoch 20: Train Loss = 0.7177, Val Loss = 14.6228\n",
            "     Epoch 25: Train Loss = 0.7144, Val Loss = 17.0323\n",
            "     Epoch 30: Train Loss = 0.7235, Val Loss = 15.1038\n",
            "    ⏹️ Early stopping at epoch 34\n",
            " Run 2 finished with best val loss: 11.4224\n",
            "Original Error Percentage (Test Dataset): 4.0399%\n",
            "Corrected Error Percentage (Test Dataset): 4.3079%\n",
            "   Run 3/5 ...      Epoch 0: Train Loss = 0.7564, Val Loss = 13.7512\n"
          ]
        },
        {
          "output_type": "stream",
          "name": "stderr",
          "text": [
            "<ipython-input-438-ab28ec98d12e>:152: UserWarning: To copy construct from a tensor, it is recommended to use sourceTensor.clone().detach() or sourceTensor.clone().detach().requires_grad_(True), rather than torch.tensor(sourceTensor).\n",
            "  X_scaled_tensor = torch.tensor(combined_X, dtype=torch.float32).unsqueeze(1)\n"
          ]
        },
        {
          "output_type": "stream",
          "name": "stdout",
          "text": [
            "     Epoch 5: Train Loss = 0.7192, Val Loss = 11.3202\n",
            "     Epoch 10: Train Loss = 0.7278, Val Loss = 13.8865\n",
            "     Epoch 15: Train Loss = 0.7273, Val Loss = 16.5317\n",
            "     Epoch 20: Train Loss = 0.7264, Val Loss = 16.6761\n",
            "    ⏹️ Early stopping at epoch 23\n",
            " Run 3 finished with best val loss: 9.8720\n",
            "Original Error Percentage (Test Dataset): 4.0399%\n",
            "Corrected Error Percentage (Test Dataset): 4.4677%\n",
            "   Run 4/5 ...      Epoch 0: Train Loss = 0.7536, Val Loss = 13.4776\n"
          ]
        },
        {
          "output_type": "stream",
          "name": "stderr",
          "text": [
            "<ipython-input-438-ab28ec98d12e>:152: UserWarning: To copy construct from a tensor, it is recommended to use sourceTensor.clone().detach() or sourceTensor.clone().detach().requires_grad_(True), rather than torch.tensor(sourceTensor).\n",
            "  X_scaled_tensor = torch.tensor(combined_X, dtype=torch.float32).unsqueeze(1)\n"
          ]
        },
        {
          "output_type": "stream",
          "name": "stdout",
          "text": [
            "     Epoch 5: Train Loss = 0.7299, Val Loss = 15.7647\n",
            "     Epoch 10: Train Loss = 0.7216, Val Loss = 14.3448\n",
            "     Epoch 15: Train Loss = 0.7269, Val Loss = 14.3902\n",
            "     Epoch 20: Train Loss = 0.7193, Val Loss = 15.2120\n",
            "     Epoch 25: Train Loss = 0.7235, Val Loss = 14.9262\n",
            "    ⏹️ Early stopping at epoch 29\n",
            " Run 4 finished with best val loss: 12.6461\n",
            "Original Error Percentage (Test Dataset): 4.0399%\n",
            "Corrected Error Percentage (Test Dataset): 4.3156%\n",
            "   Run 5/5 ...      Epoch 0: Train Loss = 0.7734, Val Loss = 15.6702\n"
          ]
        },
        {
          "output_type": "stream",
          "name": "stderr",
          "text": [
            "<ipython-input-438-ab28ec98d12e>:152: UserWarning: To copy construct from a tensor, it is recommended to use sourceTensor.clone().detach() or sourceTensor.clone().detach().requires_grad_(True), rather than torch.tensor(sourceTensor).\n",
            "  X_scaled_tensor = torch.tensor(combined_X, dtype=torch.float32).unsqueeze(1)\n"
          ]
        },
        {
          "output_type": "stream",
          "name": "stdout",
          "text": [
            "     Epoch 5: Train Loss = 0.7251, Val Loss = 15.3307\n",
            "     Epoch 10: Train Loss = 0.7216, Val Loss = 13.7675\n",
            "     Epoch 15: Train Loss = 0.7233, Val Loss = 18.3132\n",
            "     Epoch 20: Train Loss = 0.7112, Val Loss = 16.4458\n",
            "    ⏹️ Early stopping at epoch 23\n",
            " Run 5 finished with best val loss: 11.8926\n",
            "Original Error Percentage (Test Dataset): 4.0399%\n",
            "Corrected Error Percentage (Test Dataset): 5.1606%\n",
            " Finished configuration H=128, D=0.2, LR=0.0005, B=16 → Avg Val Loss: 11.2278, Avg Accuracy: 4.4288%\n",
            "\n",
            " Running 78/81: H=128, D=0.2, LR=0.0005, B=32\n",
            "   Run 1/5 ...      Epoch 0: Train Loss = 0.7616, Val Loss = 16.7647\n"
          ]
        },
        {
          "output_type": "stream",
          "name": "stderr",
          "text": [
            "<ipython-input-438-ab28ec98d12e>:152: UserWarning: To copy construct from a tensor, it is recommended to use sourceTensor.clone().detach() or sourceTensor.clone().detach().requires_grad_(True), rather than torch.tensor(sourceTensor).\n",
            "  X_scaled_tensor = torch.tensor(combined_X, dtype=torch.float32).unsqueeze(1)\n"
          ]
        },
        {
          "output_type": "stream",
          "name": "stdout",
          "text": [
            "     Epoch 5: Train Loss = 0.7467, Val Loss = 14.0620\n",
            "     Epoch 10: Train Loss = 0.7286, Val Loss = 15.6033\n",
            "     Epoch 15: Train Loss = 0.7270, Val Loss = 14.8178\n",
            "     Epoch 20: Train Loss = 0.7213, Val Loss = 16.3862\n",
            "    ⏹️ Early stopping at epoch 21\n",
            " Run 1 finished with best val loss: 12.4779\n",
            "Original Error Percentage (Test Dataset): 4.0399%\n",
            "Corrected Error Percentage (Test Dataset): 4.2847%\n",
            "   Run 2/5 ...      Epoch 0: Train Loss = 0.7544, Val Loss = 14.8755\n"
          ]
        },
        {
          "output_type": "stream",
          "name": "stderr",
          "text": [
            "<ipython-input-438-ab28ec98d12e>:152: UserWarning: To copy construct from a tensor, it is recommended to use sourceTensor.clone().detach() or sourceTensor.clone().detach().requires_grad_(True), rather than torch.tensor(sourceTensor).\n",
            "  X_scaled_tensor = torch.tensor(combined_X, dtype=torch.float32).unsqueeze(1)\n"
          ]
        },
        {
          "output_type": "stream",
          "name": "stdout",
          "text": [
            "     Epoch 5: Train Loss = 0.7228, Val Loss = 11.6359\n",
            "     Epoch 10: Train Loss = 0.7155, Val Loss = 14.1617\n",
            "     Epoch 15: Train Loss = 0.7182, Val Loss = 14.4429\n",
            "     Epoch 20: Train Loss = 0.7235, Val Loss = 13.4307\n",
            "    ⏹️ Early stopping at epoch 22\n",
            " Run 2 finished with best val loss: 10.8476\n",
            "Original Error Percentage (Test Dataset): 4.0399%\n",
            "Corrected Error Percentage (Test Dataset): 4.3403%\n",
            "   Run 3/5 ... "
          ]
        },
        {
          "output_type": "stream",
          "name": "stderr",
          "text": [
            "<ipython-input-438-ab28ec98d12e>:152: UserWarning: To copy construct from a tensor, it is recommended to use sourceTensor.clone().detach() or sourceTensor.clone().detach().requires_grad_(True), rather than torch.tensor(sourceTensor).\n",
            "  X_scaled_tensor = torch.tensor(combined_X, dtype=torch.float32).unsqueeze(1)\n"
          ]
        },
        {
          "output_type": "stream",
          "name": "stdout",
          "text": [
            "     Epoch 0: Train Loss = 0.7493, Val Loss = 14.8859\n",
            "     Epoch 5: Train Loss = 0.7419, Val Loss = 12.9478\n",
            "     Epoch 10: Train Loss = 0.7266, Val Loss = 14.2741\n",
            "     Epoch 15: Train Loss = 0.7292, Val Loss = 14.1717\n",
            "     Epoch 20: Train Loss = 0.7255, Val Loss = 16.4622\n",
            "     Epoch 25: Train Loss = 0.7256, Val Loss = 15.9365\n",
            "    ⏹️ Early stopping at epoch 25\n",
            " Run 3 finished with best val loss: 12.9478\n",
            "Original Error Percentage (Test Dataset): 4.0399%\n",
            "Corrected Error Percentage (Test Dataset): 4.5729%\n",
            "   Run 4/5 ...      Epoch 0: Train Loss = 0.7523, Val Loss = 15.7579\n"
          ]
        },
        {
          "output_type": "stream",
          "name": "stderr",
          "text": [
            "<ipython-input-438-ab28ec98d12e>:152: UserWarning: To copy construct from a tensor, it is recommended to use sourceTensor.clone().detach() or sourceTensor.clone().detach().requires_grad_(True), rather than torch.tensor(sourceTensor).\n",
            "  X_scaled_tensor = torch.tensor(combined_X, dtype=torch.float32).unsqueeze(1)\n"
          ]
        },
        {
          "output_type": "stream",
          "name": "stdout",
          "text": [
            "     Epoch 5: Train Loss = 0.7149, Val Loss = 12.6621\n",
            "     Epoch 10: Train Loss = 0.7269, Val Loss = 15.3602\n",
            "     Epoch 15: Train Loss = 0.7177, Val Loss = 14.2204\n",
            "     Epoch 20: Train Loss = 0.7220, Val Loss = 16.1224\n",
            "    ⏹️ Early stopping at epoch 22\n",
            " Run 4 finished with best val loss: 12.0802\n",
            "Original Error Percentage (Test Dataset): 4.0399%\n",
            "Corrected Error Percentage (Test Dataset): 4.3260%\n",
            "   Run 5/5 ...      Epoch 0: Train Loss = 0.8253, Val Loss = 15.0881\n"
          ]
        },
        {
          "output_type": "stream",
          "name": "stderr",
          "text": [
            "<ipython-input-438-ab28ec98d12e>:152: UserWarning: To copy construct from a tensor, it is recommended to use sourceTensor.clone().detach() or sourceTensor.clone().detach().requires_grad_(True), rather than torch.tensor(sourceTensor).\n",
            "  X_scaled_tensor = torch.tensor(combined_X, dtype=torch.float32).unsqueeze(1)\n"
          ]
        },
        {
          "output_type": "stream",
          "name": "stdout",
          "text": [
            "     Epoch 5: Train Loss = 0.7210, Val Loss = 11.7712\n",
            "     Epoch 10: Train Loss = 0.7264, Val Loss = 12.9756\n",
            "     Epoch 15: Train Loss = 0.7162, Val Loss = 14.7173\n",
            "     Epoch 20: Train Loss = 0.7210, Val Loss = 14.5525\n",
            "    ⏹️ Early stopping at epoch 22\n",
            " Run 5 finished with best val loss: 11.2168\n",
            "Original Error Percentage (Test Dataset): 4.0399%\n",
            "Corrected Error Percentage (Test Dataset): 4.0971%\n",
            " Finished configuration H=128, D=0.2, LR=0.0005, B=32 → Avg Val Loss: 11.9140, Avg Accuracy: 4.3242%\n",
            "\n",
            " Running 79/81: H=128, D=0.2, LR=0.001, B=8\n",
            "   Run 1/5 ... "
          ]
        },
        {
          "output_type": "stream",
          "name": "stderr",
          "text": [
            "<ipython-input-438-ab28ec98d12e>:152: UserWarning: To copy construct from a tensor, it is recommended to use sourceTensor.clone().detach() or sourceTensor.clone().detach().requires_grad_(True), rather than torch.tensor(sourceTensor).\n",
            "  X_scaled_tensor = torch.tensor(combined_X, dtype=torch.float32).unsqueeze(1)\n"
          ]
        },
        {
          "output_type": "stream",
          "name": "stdout",
          "text": [
            "     Epoch 0: Train Loss = 0.7460, Val Loss = 23.5453\n",
            "     Epoch 5: Train Loss = 0.7260, Val Loss = 12.8897\n",
            "     Epoch 10: Train Loss = 0.7287, Val Loss = 14.0564\n",
            "     Epoch 15: Train Loss = 0.7199, Val Loss = 15.7829\n",
            "     Epoch 20: Train Loss = 0.7263, Val Loss = 11.6968\n",
            "    ⏹️ Early stopping at epoch 22\n",
            " Run 1 finished with best val loss: 7.2583\n",
            "Original Error Percentage (Test Dataset): 4.0399%\n",
            "Corrected Error Percentage (Test Dataset): 4.8148%\n",
            "   Run 2/5 ... "
          ]
        },
        {
          "output_type": "stream",
          "name": "stderr",
          "text": [
            "<ipython-input-438-ab28ec98d12e>:152: UserWarning: To copy construct from a tensor, it is recommended to use sourceTensor.clone().detach() or sourceTensor.clone().detach().requires_grad_(True), rather than torch.tensor(sourceTensor).\n",
            "  X_scaled_tensor = torch.tensor(combined_X, dtype=torch.float32).unsqueeze(1)\n"
          ]
        },
        {
          "output_type": "stream",
          "name": "stdout",
          "text": [
            "     Epoch 0: Train Loss = 0.7363, Val Loss = 16.4913\n",
            "     Epoch 5: Train Loss = 0.7283, Val Loss = 12.8942\n",
            "     Epoch 10: Train Loss = 0.7305, Val Loss = 12.2374\n",
            "     Epoch 15: Train Loss = 0.7188, Val Loss = 16.6024\n",
            "     Epoch 20: Train Loss = 0.7292, Val Loss = 13.5108\n",
            "     Epoch 25: Train Loss = 0.7173, Val Loss = 14.3916\n",
            "     Epoch 30: Train Loss = 0.7221, Val Loss = 18.2381\n",
            "    ⏹️ Early stopping at epoch 32\n",
            " Run 2 finished with best val loss: 11.5416\n",
            "Original Error Percentage (Test Dataset): 4.0399%\n",
            "Corrected Error Percentage (Test Dataset): 4.9755%\n",
            "   Run 3/5 ... "
          ]
        },
        {
          "output_type": "stream",
          "name": "stderr",
          "text": [
            "<ipython-input-438-ab28ec98d12e>:152: UserWarning: To copy construct from a tensor, it is recommended to use sourceTensor.clone().detach() or sourceTensor.clone().detach().requires_grad_(True), rather than torch.tensor(sourceTensor).\n",
            "  X_scaled_tensor = torch.tensor(combined_X, dtype=torch.float32).unsqueeze(1)\n"
          ]
        },
        {
          "output_type": "stream",
          "name": "stdout",
          "text": [
            "     Epoch 0: Train Loss = 0.7568, Val Loss = 13.4124\n",
            "     Epoch 5: Train Loss = 0.7253, Val Loss = 12.5060\n",
            "     Epoch 10: Train Loss = 0.7306, Val Loss = 13.8417\n",
            "     Epoch 15: Train Loss = 0.7219, Val Loss = 14.7729\n",
            "     Epoch 20: Train Loss = 0.7233, Val Loss = 14.6055\n",
            "     Epoch 25: Train Loss = 0.7174, Val Loss = 20.0199\n",
            "    ⏹️ Early stopping at epoch 28\n",
            " Run 3 finished with best val loss: 10.9180\n",
            "Original Error Percentage (Test Dataset): 4.0399%\n",
            "Corrected Error Percentage (Test Dataset): 4.3897%\n",
            "   Run 4/5 ... "
          ]
        },
        {
          "output_type": "stream",
          "name": "stderr",
          "text": [
            "<ipython-input-438-ab28ec98d12e>:152: UserWarning: To copy construct from a tensor, it is recommended to use sourceTensor.clone().detach() or sourceTensor.clone().detach().requires_grad_(True), rather than torch.tensor(sourceTensor).\n",
            "  X_scaled_tensor = torch.tensor(combined_X, dtype=torch.float32).unsqueeze(1)\n"
          ]
        },
        {
          "output_type": "stream",
          "name": "stdout",
          "text": [
            "     Epoch 0: Train Loss = 0.7448, Val Loss = 11.7222\n",
            "     Epoch 5: Train Loss = 0.7266, Val Loss = 11.6611\n",
            "     Epoch 10: Train Loss = 0.7292, Val Loss = 14.5626\n",
            "     Epoch 15: Train Loss = 0.7237, Val Loss = 13.6467\n",
            "     Epoch 20: Train Loss = 0.7278, Val Loss = 16.1574\n",
            "    ⏹️ Early stopping at epoch 23\n",
            " Run 4 finished with best val loss: 10.2349\n",
            "Original Error Percentage (Test Dataset): 4.0399%\n",
            "Corrected Error Percentage (Test Dataset): 4.6999%\n",
            "   Run 5/5 ... "
          ]
        },
        {
          "output_type": "stream",
          "name": "stderr",
          "text": [
            "<ipython-input-438-ab28ec98d12e>:152: UserWarning: To copy construct from a tensor, it is recommended to use sourceTensor.clone().detach() or sourceTensor.clone().detach().requires_grad_(True), rather than torch.tensor(sourceTensor).\n",
            "  X_scaled_tensor = torch.tensor(combined_X, dtype=torch.float32).unsqueeze(1)\n"
          ]
        },
        {
          "output_type": "stream",
          "name": "stdout",
          "text": [
            "     Epoch 0: Train Loss = 0.7491, Val Loss = 11.6879\n",
            "     Epoch 5: Train Loss = 0.7228, Val Loss = 12.1716\n",
            "     Epoch 10: Train Loss = 0.7218, Val Loss = 18.0533\n",
            "     Epoch 15: Train Loss = 0.7232, Val Loss = 16.8928\n",
            "     Epoch 20: Train Loss = 0.7283, Val Loss = 13.0854\n",
            "    ⏹️ Early stopping at epoch 24\n",
            " Run 5 finished with best val loss: 11.6292\n",
            "Original Error Percentage (Test Dataset): 4.0399%\n",
            "Corrected Error Percentage (Test Dataset): 4.1136%\n",
            " Finished configuration H=128, D=0.2, LR=0.001, B=8 → Avg Val Loss: 10.3164, Avg Accuracy: 4.5987%\n",
            "\n",
            " Running 80/81: H=128, D=0.2, LR=0.001, B=16\n",
            "   Run 1/5 ...      Epoch 0: Train Loss = 0.7499, Val Loss = 16.6445\n"
          ]
        },
        {
          "output_type": "stream",
          "name": "stderr",
          "text": [
            "<ipython-input-438-ab28ec98d12e>:152: UserWarning: To copy construct from a tensor, it is recommended to use sourceTensor.clone().detach() or sourceTensor.clone().detach().requires_grad_(True), rather than torch.tensor(sourceTensor).\n",
            "  X_scaled_tensor = torch.tensor(combined_X, dtype=torch.float32).unsqueeze(1)\n"
          ]
        },
        {
          "output_type": "stream",
          "name": "stdout",
          "text": [
            "     Epoch 5: Train Loss = 0.7268, Val Loss = 12.7678\n",
            "     Epoch 10: Train Loss = 0.7267, Val Loss = 14.1955\n",
            "     Epoch 15: Train Loss = 0.7385, Val Loss = 15.3225\n",
            "     Epoch 20: Train Loss = 0.7233, Val Loss = 13.9417\n",
            "    ⏹️ Early stopping at epoch 21\n",
            " Run 1 finished with best val loss: 11.5872\n",
            "Original Error Percentage (Test Dataset): 4.0399%\n",
            "Corrected Error Percentage (Test Dataset): 4.1158%\n",
            "   Run 2/5 ... "
          ]
        },
        {
          "output_type": "stream",
          "name": "stderr",
          "text": [
            "<ipython-input-438-ab28ec98d12e>:152: UserWarning: To copy construct from a tensor, it is recommended to use sourceTensor.clone().detach() or sourceTensor.clone().detach().requires_grad_(True), rather than torch.tensor(sourceTensor).\n",
            "  X_scaled_tensor = torch.tensor(combined_X, dtype=torch.float32).unsqueeze(1)\n"
          ]
        },
        {
          "output_type": "stream",
          "name": "stdout",
          "text": [
            "     Epoch 0: Train Loss = 0.7497, Val Loss = 14.3437\n",
            "     Epoch 5: Train Loss = 0.7379, Val Loss = 16.4313\n",
            "     Epoch 10: Train Loss = 0.7230, Val Loss = 11.9071\n",
            "     Epoch 15: Train Loss = 0.7273, Val Loss = 16.9185\n",
            "     Epoch 20: Train Loss = 0.7204, Val Loss = 13.4409\n",
            "    ⏹️ Early stopping at epoch 22\n",
            " Run 2 finished with best val loss: 10.7247\n",
            "Original Error Percentage (Test Dataset): 4.0399%\n",
            "Corrected Error Percentage (Test Dataset): 4.6150%\n",
            "   Run 3/5 ...      Epoch 0: Train Loss = 0.7473, Val Loss = 14.1075\n"
          ]
        },
        {
          "output_type": "stream",
          "name": "stderr",
          "text": [
            "<ipython-input-438-ab28ec98d12e>:152: UserWarning: To copy construct from a tensor, it is recommended to use sourceTensor.clone().detach() or sourceTensor.clone().detach().requires_grad_(True), rather than torch.tensor(sourceTensor).\n",
            "  X_scaled_tensor = torch.tensor(combined_X, dtype=torch.float32).unsqueeze(1)\n"
          ]
        },
        {
          "output_type": "stream",
          "name": "stdout",
          "text": [
            "     Epoch 5: Train Loss = 0.7248, Val Loss = 13.7174\n",
            "     Epoch 10: Train Loss = 0.7315, Val Loss = 17.1285\n",
            "     Epoch 15: Train Loss = 0.7236, Val Loss = 13.0631\n",
            "     Epoch 20: Train Loss = 0.7247, Val Loss = 15.6799\n",
            "    ⏹️ Early stopping at epoch 21\n",
            " Run 3 finished with best val loss: 12.5127\n",
            "Original Error Percentage (Test Dataset): 4.0399%\n",
            "Corrected Error Percentage (Test Dataset): 4.2448%\n",
            "   Run 4/5 ... "
          ]
        },
        {
          "output_type": "stream",
          "name": "stderr",
          "text": [
            "<ipython-input-438-ab28ec98d12e>:152: UserWarning: To copy construct from a tensor, it is recommended to use sourceTensor.clone().detach() or sourceTensor.clone().detach().requires_grad_(True), rather than torch.tensor(sourceTensor).\n",
            "  X_scaled_tensor = torch.tensor(combined_X, dtype=torch.float32).unsqueeze(1)\n"
          ]
        },
        {
          "output_type": "stream",
          "name": "stdout",
          "text": [
            "     Epoch 0: Train Loss = 0.7455, Val Loss = 9.5221\n",
            "     Epoch 5: Train Loss = 0.7294, Val Loss = 12.1126\n",
            "     Epoch 10: Train Loss = 0.7303, Val Loss = 14.8128\n",
            "     Epoch 15: Train Loss = 0.7301, Val Loss = 14.6656\n",
            "     Epoch 20: Train Loss = 0.7263, Val Loss = 17.9571\n",
            "    ⏹️ Early stopping at epoch 20\n",
            " Run 4 finished with best val loss: 9.5221\n",
            "Original Error Percentage (Test Dataset): 4.0399%\n",
            "Corrected Error Percentage (Test Dataset): 5.0224%\n",
            "   Run 5/5 ...      Epoch 0: Train Loss = 0.7559, Val Loss = 14.3906\n"
          ]
        },
        {
          "output_type": "stream",
          "name": "stderr",
          "text": [
            "<ipython-input-438-ab28ec98d12e>:152: UserWarning: To copy construct from a tensor, it is recommended to use sourceTensor.clone().detach() or sourceTensor.clone().detach().requires_grad_(True), rather than torch.tensor(sourceTensor).\n",
            "  X_scaled_tensor = torch.tensor(combined_X, dtype=torch.float32).unsqueeze(1)\n"
          ]
        },
        {
          "output_type": "stream",
          "name": "stdout",
          "text": [
            "     Epoch 5: Train Loss = 0.7277, Val Loss = 14.1586\n",
            "     Epoch 10: Train Loss = 0.7183, Val Loss = 19.0949\n",
            "     Epoch 15: Train Loss = 0.7212, Val Loss = 18.5657\n",
            "     Epoch 20: Train Loss = 0.7165, Val Loss = 18.3991\n",
            "     Epoch 25: Train Loss = 0.7216, Val Loss = 18.1547\n",
            "    ⏹️ Early stopping at epoch 28\n",
            " Run 5 finished with best val loss: 12.2988\n",
            "Original Error Percentage (Test Dataset): 4.0399%\n",
            "Corrected Error Percentage (Test Dataset): 4.2692%\n",
            " Finished configuration H=128, D=0.2, LR=0.001, B=16 → Avg Val Loss: 11.3291, Avg Accuracy: 4.4534%\n",
            "\n",
            " Running 81/81: H=128, D=0.2, LR=0.001, B=32\n",
            "   Run 1/5 ...      Epoch 0: Train Loss = 0.7610, Val Loss = 17.4524\n"
          ]
        },
        {
          "output_type": "stream",
          "name": "stderr",
          "text": [
            "<ipython-input-438-ab28ec98d12e>:152: UserWarning: To copy construct from a tensor, it is recommended to use sourceTensor.clone().detach() or sourceTensor.clone().detach().requires_grad_(True), rather than torch.tensor(sourceTensor).\n",
            "  X_scaled_tensor = torch.tensor(combined_X, dtype=torch.float32).unsqueeze(1)\n"
          ]
        },
        {
          "output_type": "stream",
          "name": "stdout",
          "text": [
            "     Epoch 5: Train Loss = 0.7300, Val Loss = 14.2055\n",
            "     Epoch 10: Train Loss = 0.7346, Val Loss = 13.4335\n",
            "     Epoch 15: Train Loss = 0.7248, Val Loss = 17.6982\n",
            "     Epoch 20: Train Loss = 0.7166, Val Loss = 19.1232\n",
            "    ⏹️ Early stopping at epoch 23\n",
            " Run 1 finished with best val loss: 12.5404\n",
            "Original Error Percentage (Test Dataset): 4.0399%\n",
            "Corrected Error Percentage (Test Dataset): 4.2498%\n",
            "   Run 2/5 ...      Epoch 0: Train Loss = 0.7512, Val Loss = 12.6602\n"
          ]
        },
        {
          "output_type": "stream",
          "name": "stderr",
          "text": [
            "<ipython-input-438-ab28ec98d12e>:152: UserWarning: To copy construct from a tensor, it is recommended to use sourceTensor.clone().detach() or sourceTensor.clone().detach().requires_grad_(True), rather than torch.tensor(sourceTensor).\n",
            "  X_scaled_tensor = torch.tensor(combined_X, dtype=torch.float32).unsqueeze(1)\n"
          ]
        },
        {
          "output_type": "stream",
          "name": "stdout",
          "text": [
            "     Epoch 5: Train Loss = 0.7282, Val Loss = 14.6118\n",
            "     Epoch 10: Train Loss = 0.7256, Val Loss = 15.5002\n",
            "     Epoch 15: Train Loss = 0.7224, Val Loss = 14.8595\n",
            "     Epoch 20: Train Loss = 0.7181, Val Loss = 17.6223\n",
            "    ⏹️ Early stopping at epoch 22\n",
            " Run 2 finished with best val loss: 11.8371\n",
            "Original Error Percentage (Test Dataset): 4.0399%\n",
            "Corrected Error Percentage (Test Dataset): 6.0282%\n",
            "   Run 3/5 ...      Epoch 0: Train Loss = 0.7473, Val Loss = 13.7222\n"
          ]
        },
        {
          "output_type": "stream",
          "name": "stderr",
          "text": [
            "<ipython-input-438-ab28ec98d12e>:152: UserWarning: To copy construct from a tensor, it is recommended to use sourceTensor.clone().detach() or sourceTensor.clone().detach().requires_grad_(True), rather than torch.tensor(sourceTensor).\n",
            "  X_scaled_tensor = torch.tensor(combined_X, dtype=torch.float32).unsqueeze(1)\n"
          ]
        },
        {
          "output_type": "stream",
          "name": "stdout",
          "text": [
            "     Epoch 5: Train Loss = 0.7333, Val Loss = 14.7187\n",
            "     Epoch 10: Train Loss = 0.7256, Val Loss = 17.5745\n",
            "     Epoch 15: Train Loss = 0.7226, Val Loss = 16.9362\n",
            "     Epoch 20: Train Loss = 0.7256, Val Loss = 19.3939\n",
            "    ⏹️ Early stopping at epoch 23\n",
            " Run 3 finished with best val loss: 11.7509\n",
            "Original Error Percentage (Test Dataset): 4.0399%\n",
            "Corrected Error Percentage (Test Dataset): 5.4522%\n",
            "   Run 4/5 ...      Epoch 0: Train Loss = 0.7616, Val Loss = 15.9073\n"
          ]
        },
        {
          "output_type": "stream",
          "name": "stderr",
          "text": [
            "<ipython-input-438-ab28ec98d12e>:152: UserWarning: To copy construct from a tensor, it is recommended to use sourceTensor.clone().detach() or sourceTensor.clone().detach().requires_grad_(True), rather than torch.tensor(sourceTensor).\n",
            "  X_scaled_tensor = torch.tensor(combined_X, dtype=torch.float32).unsqueeze(1)\n"
          ]
        },
        {
          "output_type": "stream",
          "name": "stdout",
          "text": [
            "     Epoch 5: Train Loss = 0.7219, Val Loss = 15.2468\n",
            "     Epoch 10: Train Loss = 0.7279, Val Loss = 14.7242\n",
            "     Epoch 15: Train Loss = 0.7169, Val Loss = 19.6433\n",
            "     Epoch 20: Train Loss = 0.7211, Val Loss = 13.3441\n",
            "    ⏹️ Early stopping at epoch 22\n",
            " Run 4 finished with best val loss: 12.0626\n",
            "Original Error Percentage (Test Dataset): 4.0399%\n",
            "Corrected Error Percentage (Test Dataset): 5.5327%\n",
            "   Run 5/5 ... "
          ]
        },
        {
          "output_type": "stream",
          "name": "stderr",
          "text": [
            "<ipython-input-438-ab28ec98d12e>:152: UserWarning: To copy construct from a tensor, it is recommended to use sourceTensor.clone().detach() or sourceTensor.clone().detach().requires_grad_(True), rather than torch.tensor(sourceTensor).\n",
            "  X_scaled_tensor = torch.tensor(combined_X, dtype=torch.float32).unsqueeze(1)\n"
          ]
        },
        {
          "output_type": "stream",
          "name": "stdout",
          "text": [
            "     Epoch 0: Train Loss = 0.7527, Val Loss = 14.6802\n",
            "     Epoch 5: Train Loss = 0.7291, Val Loss = 15.5843\n",
            "     Epoch 10: Train Loss = 0.7295, Val Loss = 13.2456\n",
            "     Epoch 15: Train Loss = 0.7192, Val Loss = 14.6171\n",
            "     Epoch 20: Train Loss = 0.7184, Val Loss = 13.2029\n",
            "     Epoch 25: Train Loss = 0.7258, Val Loss = 18.7821\n",
            "     Epoch 30: Train Loss = 0.7211, Val Loss = 14.4535\n",
            "     Epoch 35: Train Loss = 0.7292, Val Loss = 14.1048\n",
            "    ⏹️ Early stopping at epoch 36\n",
            " Run 5 finished with best val loss: 11.9025\n",
            "Original Error Percentage (Test Dataset): 4.0399%\n",
            "Corrected Error Percentage (Test Dataset): 3.8833%\n",
            " Finished configuration H=128, D=0.2, LR=0.001, B=32 → Avg Val Loss: 12.0187, Avg Accuracy: 5.0292%\n",
            "\n",
            " Top 5 Hyperparameter Configurations:\n",
            " 1. {'hidden_size': 32, 'dropout_rate': 0.0, 'learning_rate': 0.0001, 'batch_size': 16, 'avg_val_loss': 5.729285934902974, 'avg_accuracy': 3.4770964456291322}\n",
            " 2. {'hidden_size': 32, 'dropout_rate': 0.2, 'learning_rate': 0.0001, 'batch_size': 32, 'avg_val_loss': 6.4012051866543995, 'avg_accuracy': 3.4636447596199305}\n",
            " 3. {'hidden_size': 64, 'dropout_rate': 0.2, 'learning_rate': 0.0001, 'batch_size': 16, 'avg_val_loss': 6.647971623149138, 'avg_accuracy': 3.6280988066714785}\n",
            " 4. {'hidden_size': 32, 'dropout_rate': 0.1, 'learning_rate': 0.0001, 'batch_size': 16, 'avg_val_loss': 6.739226408825805, 'avg_accuracy': 3.4852787090210016}\n",
            " 5. {'hidden_size': 32, 'dropout_rate': 0.0, 'learning_rate': 0.0001, 'batch_size': 32, 'avg_val_loss': 6.817487828463119, 'avg_accuracy': 3.479100656354926}\n"
          ]
        },
        {
          "output_type": "stream",
          "name": "stderr",
          "text": [
            "<ipython-input-438-ab28ec98d12e>:152: UserWarning: To copy construct from a tensor, it is recommended to use sourceTensor.clone().detach() or sourceTensor.clone().detach().requires_grad_(True), rather than torch.tensor(sourceTensor).\n",
            "  X_scaled_tensor = torch.tensor(combined_X, dtype=torch.float32).unsqueeze(1)\n"
          ]
        }
      ],
      "source": [
        "# Create DataLoader\n",
        "train_dataset = TensorDataset(X_train, y_train)\n",
        "val_dataset = TensorDataset(X_val, y_val)\n",
        "test_dataset = TensorDataset(X_test, y_test)\n",
        "train_loader = DataLoader(train_dataset, batch_size=16, shuffle=True)\n",
        "val_loader = DataLoader(val_dataset, batch_size=16, shuffle=False)\n",
        "test_loader = DataLoader(test_dataset, batch_size=16, shuffle=False)\n",
        "\n",
        "# # Define model\n",
        "# input_size = 1\n",
        "# hidden_size1 = 64\n",
        "# dropout_rate = 0.1\n",
        "# learning_rate = 0.0001\n",
        "# num_epochs = 500\n",
        "# patience = 30\n",
        "\n",
        "# bias_model = BiasPredictor(input_size=input_size, hidden_size1=hidden_size1, dropout_rate=dropout_rate).to(device)\n",
        "# criterion = nn.MSELoss()\n",
        "# optimizer = optim.Adam(bias_model.parameters(), lr=learning_rate)\n",
        "\n",
        "# # Train the model (don't need to save the model yet)\n",
        "# best_val_loss = np.inf\n",
        "# best_epoch = 0\n",
        "\n",
        "# for epoch in range(num_epochs):\n",
        "#     bias_model.train()\n",
        "#     train_loss = 0.0\n",
        "#     for X_batch, y_batch in train_loader:\n",
        "#         X_batch, y_batch = X_batch.to(device), y_batch.to(device)\n",
        "#         optimizer.zero_grad()\n",
        "#         outputs = bias_model(X_batch)\n",
        "#         loss = criterion(outputs, y_batch)\n",
        "#         loss.backward()\n",
        "#         optimizer.step()\n",
        "#         train_loss += loss.item() * X_batch.size(0)\n",
        "\n",
        "#     train_loss /= len(train_loader.dataset)\n",
        "\n",
        "#     bias_model.eval()\n",
        "#     val_loss = 0.0\n",
        "#     with torch.no_grad():\n",
        "#         for X_batch, y_batch in val_loader:\n",
        "#             X_batch, y_batch = X_batch.to(device), y_batch.to(device)\n",
        "#             outputs = bias_model(X_batch)\n",
        "#             loss = criterion(outputs, y_batch)\n",
        "#             val_loss += loss.item() * X_batch.size(0)\n",
        "\n",
        "#     val_loss /= len(val_loader.dataset)\n",
        "\n",
        "#     if val_loss < best_val_loss:\n",
        "#         best_val_loss = val_loss\n",
        "#         best_epoch = epoch\n",
        "#     elif epoch - best_epoch >= patience:\n",
        "#         print(f\"Stopping early at epoch {epoch}\")\n",
        "#         break\n",
        "\n",
        "#     print(f\"Epoch {epoch}, Train Loss: {train_loss:.4f}, Val Loss: {val_loss:.4f}\")\n",
        "\n",
        "\n",
        "import itertools\n",
        "import numpy as np\n",
        "import torch\n",
        "import torch.nn as nn\n",
        "import torch.optim as optim\n",
        "from torch.utils.data import DataLoader, TensorDataset\n",
        "\n",
        "# Define hyperparameter search space\n",
        "hidden_sizes = [32, 64, 128]\n",
        "dropout_rates = [0.0, 0.1, 0.2]\n",
        "learning_rates = [0.0001, 0.0005, 0.001]\n",
        "batch_sizes = [8, 16, 32]\n",
        "\n",
        "# Total number of hyperparameter combinations\n",
        "total_combinations = len(hidden_sizes) * len(dropout_rates) * len(learning_rates) * len(batch_sizes)\n",
        "combination_counter = 0\n",
        "\n",
        "# Store results\n",
        "results = []\n",
        "\n",
        "# Iterate over all hyperparameter combinations\n",
        "for hidden_size, dropout_rate, learning_rate, batch_size in itertools.product(hidden_sizes, dropout_rates, learning_rates, batch_sizes):\n",
        "    combination_counter += 1\n",
        "    print(f\"\\n Running {combination_counter}/{total_combinations}: H={hidden_size}, D={dropout_rate}, LR={learning_rate}, B={batch_size}\")\n",
        "\n",
        "    val_losses = []\n",
        "    accuracies = []  # To track accuracies for each run\n",
        "    for run in range(5):  # Run each combination 5 times\n",
        "        print(f\"   Run {run + 1}/5 ...\", end=\" \", flush=True)\n",
        "\n",
        "        # Define DataLoaders with the current batch size\n",
        "        train_loader = DataLoader(train_dataset, batch_size=batch_size, shuffle=True)\n",
        "        val_loader = DataLoader(val_dataset, batch_size=batch_size, shuffle=False)\n",
        "\n",
        "        # Define the model\n",
        "        bias_model = BiasPredictor(input_size=1, hidden_size=hidden_size, dropout_rate=dropout_rate).to(device)\n",
        "        criterion = nn.MSELoss()\n",
        "        optimizer = optim.Adam(bias_model.parameters(), lr=learning_rate)\n",
        "\n",
        "        # Training setup\n",
        "        best_val_loss = np.inf\n",
        "        best_epoch = 0\n",
        "        patience = 20\n",
        "        num_epochs = 500\n",
        "\n",
        "        # Training loop\n",
        "        for epoch in range(num_epochs):\n",
        "            bias_model.train()\n",
        "            train_loss = 0.0\n",
        "            for X_batch, y_batch in train_loader:\n",
        "                X_batch, y_batch = X_batch.to(device), y_batch.to(device)\n",
        "                optimizer.zero_grad()\n",
        "                outputs = bias_model(X_batch)\n",
        "                loss = criterion(outputs, y_batch)\n",
        "                loss.backward()\n",
        "                optimizer.step()\n",
        "                train_loss += loss.item() * X_batch.size(0)\n",
        "\n",
        "            train_loss /= len(train_loader.dataset)\n",
        "\n",
        "            # Validation\n",
        "            bias_model.eval()\n",
        "            val_loss = 0.0\n",
        "            with torch.no_grad():\n",
        "                for X_batch, y_batch in val_loader:\n",
        "                    X_batch, y_batch = X_batch.to(device), y_batch.to(device)\n",
        "                    outputs = bias_model(X_batch)\n",
        "                    loss = criterion(outputs, y_batch)\n",
        "                    val_loss += loss.item() * X_batch.size(0)\n",
        "\n",
        "            val_loss /= len(val_loader.dataset)\n",
        "\n",
        "            # Print progress every 50 epochs\n",
        "            if epoch % 5 == 0:\n",
        "                print(f\"     Epoch {epoch}: Train Loss = {train_loss:.4f}, Val Loss = {val_loss:.4f}\")\n",
        "\n",
        "            # Early stopping\n",
        "            if val_loss < best_val_loss:\n",
        "                best_val_loss = val_loss\n",
        "                best_epoch = epoch\n",
        "            elif epoch - best_epoch >= patience:\n",
        "                print(f\"    ⏹️ Early stopping at epoch {epoch}\")\n",
        "                break  # Stop training if no improvement\n",
        "\n",
        "        val_losses.append(best_val_loss)  # Store best val loss for this run\n",
        "        print(f\" Run {run + 1} finished with best val loss: {best_val_loss:.4f}\")\n",
        "\n",
        "        # Evaluate accuracy after each run\n",
        "        combined_X = torch.cat((X_train, X_val, X_test), dim=0)\n",
        "        combined_y = torch.cat((y_train, y_val, y_test), dim=0)\n",
        "\n",
        "        # Convert combined_X to tensor and scale if necessary\n",
        "        X_scaled_tensor = torch.tensor(combined_X, dtype=torch.float32).unsqueeze(1)\n",
        "        bias_model.eval()\n",
        "        with torch.no_grad():\n",
        "            y_pred = bias_model(X_scaled_tensor.to(device)).cpu().numpy()\n",
        "\n",
        "        # Unscale outputs\n",
        "        outputs_unscaled = y_scaler.inverse_transform(y_pred.reshape(y_pred.shape[0], -1))\n",
        "\n",
        "        # Calculate error percentages\n",
        "        new_df[\"Bias_Pred\"] = outputs_unscaled\n",
        "        new_df[\"Corrected_LSTM_Pred\"] = new_df[\"LSTM_Pred\"] + new_df[\"Bias_Pred\"]\n",
        "\n",
        "        original_error_percent_test = np.mean(np.abs(new_df[\"Bias\"].iloc[train_size + val_size:]) / (np.abs(new_df[\"Target\"].iloc[train_size + val_size:]) + 1e-8)) * 100\n",
        "        corrected_error_percent_test = np.mean(np.abs(new_df[\"Target\"].iloc[train_size + val_size:] - new_df[\"Corrected_LSTM_Pred\"].iloc[train_size + val_size:]) / (np.abs(new_df[\"Target\"].iloc[train_size + val_size:]) + 1e-8)) * 100\n",
        "\n",
        "        print(f\"Original Error Percentage (Test Dataset): {original_error_percent_test:.4f}%\")\n",
        "        print(f\"Corrected Error Percentage (Test Dataset): {corrected_error_percent_test:.4f}%\")\n",
        "\n",
        "        # Store accuracy for this run\n",
        "        accuracies.append(corrected_error_percent_test)\n",
        "\n",
        "    # After all 5 trials, calculate the average accuracy\n",
        "    avg_val_loss = np.mean(val_losses)\n",
        "    avg_accuracy = np.mean(accuracies)  # Calculate the average error percentage over all runs\n",
        "\n",
        "    results.append({\n",
        "        \"hidden_size\": hidden_size,\n",
        "        \"dropout_rate\": dropout_rate,\n",
        "        \"learning_rate\": learning_rate,\n",
        "        \"batch_size\": batch_size,\n",
        "        \"avg_val_loss\": avg_val_loss,\n",
        "        \"avg_accuracy\": avg_accuracy\n",
        "    })\n",
        "\n",
        "    print(f\" Finished configuration H={hidden_size}, D={dropout_rate}, LR={learning_rate}, B={batch_size} → Avg Val Loss: {avg_val_loss:.4f}, Avg Accuracy: {avg_accuracy:.4f}%\")\n",
        "\n",
        "# Sort results by lowest validation loss\n",
        "results.sort(key=lambda x: x[\"avg_val_loss\"])\n",
        "\n",
        "# Print top 5 configurations\n",
        "print(\"\\n Top 5 Hyperparameter Configurations:\")\n",
        "for i, res in enumerate(results[:5]):\n",
        "    print(f\" {i+1}. {res}\")\n",
        "\n"
      ]
    }
  ],
  "metadata": {
    "kernelspec": {
      "display_name": "Python 3",
      "name": "python3"
    },
    "language_info": {
      "codemirror_mode": {
        "name": "ipython",
        "version": 3
      },
      "file_extension": ".py",
      "mimetype": "text/x-python",
      "name": "python",
      "nbconvert_exporter": "python",
      "pygments_lexer": "ipython3",
      "version": "3.9.7"
    },
    "colab": {
      "provenance": []
    }
  },
  "nbformat": 4,
  "nbformat_minor": 0
}