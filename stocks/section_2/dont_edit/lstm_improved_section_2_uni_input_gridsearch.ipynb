{
  "cells": [
    {
      "cell_type": "code",
      "execution_count": 17,
      "metadata": {
        "id": "M_JutKiKPbgK"
      },
      "outputs": [],
      "source": [
        "import pandas as pd\n",
        "from sklearn.preprocessing import StandardScaler, MinMaxScaler, RobustScaler\n",
        "from sklearn.model_selection import train_test_split\n",
        "import numpy as np\n",
        "from sklearn.metrics import mean_squared_error\n",
        "import matplotlib.pyplot as plt\n",
        "import os\n",
        "import torch\n",
        "import torch.nn as nn\n",
        "import torch.optim as optim\n",
        "from torch.utils.data import DataLoader, TensorDataset\n",
        "from sklearn.manifold import TSNE\n",
        "from sklearn.decomposition import PCA\n",
        "from numpy.linalg import norm\n"
      ]
    },
    {
      "cell_type": "code",
      "execution_count": 18,
      "metadata": {
        "id": "gsObt5CZPbgM"
      },
      "outputs": [],
      "source": [
        "device = torch.device(\"cuda\" if torch.cuda.is_available() else \"cpu\")"
      ]
    },
    {
      "cell_type": "code",
      "execution_count": 19,
      "metadata": {
        "id": "Em0mlPWnPbgM"
      },
      "outputs": [],
      "source": [
        "# Load the data\n",
        "file_path = \"SPY_section_2.csv\"\n",
        "df = pd.read_csv(file_path)"
      ]
    },
    {
      "cell_type": "code",
      "execution_count": 20,
      "metadata": {
        "id": "kxFYjyboPbgN"
      },
      "outputs": [],
      "source": [
        "# Define Autoencoder\n",
        "class Autoencoder(nn.Module):\n",
        "    def __init__(self, input_dim, encoding_dim, dropout_rate):\n",
        "        super(Autoencoder, self).__init__()\n",
        "        self.encoder = nn.Sequential(\n",
        "            nn.Linear(input_dim, 128),\n",
        "            nn.ReLU(),\n",
        "            nn.Dropout(dropout_rate),\n",
        "            nn.Linear(128, 64),\n",
        "            nn.ReLU(),\n",
        "            nn.Dropout(dropout_rate),\n",
        "            nn.Linear(64, encoding_dim)\n",
        "        )\n",
        "        self.decoder = nn.Sequential(\n",
        "            nn.Linear(encoding_dim, 64),\n",
        "            nn.ReLU(),\n",
        "            nn.Dropout(dropout_rate),\n",
        "            nn.Linear(64, 128),\n",
        "            nn.ReLU(),\n",
        "            nn.Dropout(dropout_rate),\n",
        "            nn.Linear(128, input_dim)\n",
        "        )\n",
        "\n",
        "    def forward(self, x):\n",
        "        encoded = self.encoder(x)\n",
        "        decoded = self.decoder(encoded)\n",
        "        return decoded"
      ]
    },
    {
      "cell_type": "code",
      "execution_count": 21,
      "metadata": {
        "id": "8PoaIEg9PbgO"
      },
      "outputs": [],
      "source": [
        "# Define LSTM model\n",
        "class ComplexLSTMModel(nn.Module):\n",
        "    def __init__(self, input_size, hidden_size, num_layers, dropout_rate):\n",
        "        super(ComplexLSTMModel, self).__init__()\n",
        "        # Unidirectional LSTM for sequential stock price prediction\n",
        "        self.lstm = nn.LSTM(input_size, hidden_size, num_layers,\n",
        "                            batch_first=True, dropout=dropout_rate)  # Removed bidirectional=True\n",
        "\n",
        "        # Fully connected layers for added complexity\n",
        "        self.fc1 = nn.Linear(hidden_size, hidden_size // 2)\n",
        "        self.dropout1 = nn.Dropout(dropout_rate)\n",
        "        self.fc2 = nn.Linear(hidden_size // 2, hidden_size // 4)\n",
        "        self.dropout2 = nn.Dropout(dropout_rate)\n",
        "        self.fc3 = nn.Linear(hidden_size // 4, 1)\n",
        "\n",
        "    def forward(self, x):\n",
        "        # LSTM expects input of shape (batch_size, sequence_length, input_size)\n",
        "        out, _ = self.lstm(x)\n",
        "        # Use the output of the last time step\n",
        "        out = out[:, -1, :]  # Shape: (batch_size, hidden_size)\n",
        "\n",
        "        out = torch.relu(self.fc1(out))  # First fully connected layer\n",
        "        out = self.dropout1(out)\n",
        "        out = torch.relu(self.fc2(out))  # Second fully connected layer\n",
        "        out = self.dropout2(out)\n",
        "        out = self.fc3(out)  # Output layer (no activation for regression)\n",
        "        return out\n",
        "\n",
        "\n",
        "sequence_length = 10\n",
        "\n",
        "# Reshape data into sequences\n",
        "def create_sequences(data, target, seq_length):\n",
        "    X_seq, y_seq = [], []\n",
        "    for i in range(len(data) - seq_length):\n",
        "        X_seq.append(data[i:i + seq_length])\n",
        "        y_seq.append(target[i + seq_length])\n",
        "    return np.array(X_seq), np.array(y_seq)\n"
      ]
    },
    {
      "cell_type": "code",
      "execution_count": 22,
      "metadata": {
        "id": "YCcAOTVZPbgP"
      },
      "outputs": [],
      "source": [
        "# Define the target variable\n",
        "if \"Target\" not in df.columns:\n",
        "    # df[\"Target\"] = (df[\"Close\"].shift(-1) > df[\"Close\"]).astype(int)\n",
        "    df[\"Target\"] = df[\"Close\"].shift(-1)\n",
        "df = df.dropna()"
      ]
    },
    {
      "cell_type": "code",
      "execution_count": 23,
      "metadata": {
        "id": "wLsX8RMiPbgP"
      },
      "outputs": [],
      "source": [
        "# Adding SMA and EMA to the feature\n",
        "short_term_period = 20\n",
        "medium_term_period = 50\n",
        "long_term_period = 200\n",
        "\n",
        "# Compute the SMAs\n",
        "df['SMA_20'] = df['Close'].rolling(window=short_term_period).mean() # Short-term SMA\n",
        "df['SMA_50'] = df['Close'].rolling(window=medium_term_period).mean() # Medium-term SMA\n",
        "df['SMA_200'] = df['Close'].rolling(window=long_term_period).mean() # Long-term SMA\n",
        "\n",
        "df['EMA_10'] = df['Close'].ewm(span=10, adjust=False).mean()  # Short-term EMA\n",
        "df['EMA_50'] = df['Close'].ewm(span=50, adjust=False).mean()  # Medium-term EMA\n",
        "df['EMA_200'] = df['Close'].ewm(span=200, adjust=False).mean()  # Long-term EMA\n",
        "\n",
        "df = df.dropna()"
      ]
    },
    {
      "cell_type": "code",
      "execution_count": 24,
      "metadata": {
        "colab": {
          "base_uri": "https://localhost:8080/"
        },
        "id": "O4-4dr_aPbgQ",
        "outputId": "f47555ed-7a68-4ee3-e99a-a7a4939f26c6"
      },
      "outputs": [
        {
          "output_type": "stream",
          "name": "stdout",
          "text": [
            "Train: 1194, Val: 256, Test: 247\n",
            "(1707, 11)\n"
          ]
        }
      ],
      "source": [
        "X = df.drop(columns=[\"Date\", \"Target\"])\n",
        "y = df[\"Target\"]\n",
        "\n",
        "feature_columns = [\"Open\", \"High\", \"Low\", \"Close\", \"Volume\", \"SMA_20\", \"SMA_50\", \"SMA_200\", \"EMA_10\", \"EMA_50\", \"EMA_200\"]\n",
        "\n",
        "train_size = int(X.shape[0] * 0.7)\n",
        "val_size = int(X.shape[0] * 0.15)\n",
        "\n",
        "scaler = MinMaxScaler()\n",
        "\n",
        "# Split data into train, validation, and test\n",
        "temp_train = X[:train_size]\n",
        "temp_val = X[train_size:train_size + val_size]\n",
        "temp_test = X[train_size + val_size:]\n",
        "\n",
        "temp_train = temp_train[feature_columns]\n",
        "temp_val = temp_val[feature_columns]\n",
        "temp_test = temp_test[feature_columns]\n",
        "\n",
        "# Fit and transform for train, transform for validation and test\n",
        "temp_train = scaler.fit_transform(temp_train)\n",
        "temp_val = scaler.transform(temp_val)\n",
        "temp_test = scaler.transform(temp_test)\n",
        "\n",
        "# Convert NumPy arrays back to DataFrames\n",
        "temp_train = pd.DataFrame(temp_train, columns=feature_columns)\n",
        "temp_val = pd.DataFrame(temp_val, columns=feature_columns)\n",
        "temp_test = pd.DataFrame(temp_test, columns=feature_columns)\n",
        "\n",
        "# Concatenate the data\n",
        "X_scaled = pd.concat([temp_train, temp_val, temp_test], axis=0)\n",
        "\n",
        "X_seq, y_seq = create_sequences(X_scaled, y.values, sequence_length)\n",
        "\n",
        "# Split sequentially\n",
        "X_train, y_train = X_seq[:train_size], y_seq[:train_size]\n",
        "X_val, y_val = X_seq[train_size:train_size + val_size], y_seq[train_size:train_size + val_size]\n",
        "X_test, y_test = X_seq[train_size + val_size:], y_seq[train_size + val_size:]\n",
        "\n",
        "# Print sizes to confirm\n",
        "print(f\"Train: {len(X_train)}, Val: {len(X_val)}, Test: {len(X_test)}\")\n",
        "print(X_scaled.shape)"
      ]
    },
    {
      "cell_type": "code",
      "execution_count": 25,
      "metadata": {
        "id": "GBsQfpyQPbgQ"
      },
      "outputs": [],
      "source": [
        "# Convert to PyTorch tensors\n",
        "X_train_tensor = torch.tensor(X_train, dtype=torch.float32)\n",
        "y_train_tensor = torch.tensor(y_train, dtype=torch.float32)\n",
        "X_val_tensor = torch.tensor(X_val, dtype=torch.float32)\n",
        "y_val_tensor = torch.tensor(y_val, dtype=torch.float32)\n",
        "X_test_tensor = torch.tensor(X_test, dtype=torch.float32)\n",
        "y_test_tensor = torch.tensor(y_test, dtype=torch.float32)\n",
        "\n",
        "# Create DataLoaders\n",
        "train_dataset = TensorDataset(X_train_tensor, y_train_tensor)\n",
        "val_dataset = TensorDataset(X_val_tensor, y_val_tensor)\n",
        "test_dataset = TensorDataset(X_test_tensor, y_test_tensor)\n",
        "\n",
        "train_loader = DataLoader(train_dataset, batch_size=64, shuffle=True)\n",
        "val_loader = DataLoader(val_dataset, batch_size=64, shuffle=False)\n",
        "test_loader = DataLoader(test_dataset, batch_size=64, shuffle=False)\n"
      ]
    },
    {
      "cell_type": "markdown",
      "metadata": {
        "id": "XWSUtBcjPbgS"
      },
      "source": [
        "<span style=\"color: yellow; font-size: 40px;\">Evaluating original LSTM</span>"
      ]
    },
    {
      "cell_type": "code",
      "execution_count": 26,
      "metadata": {
        "id": "sTzSYPwxPbgT"
      },
      "outputs": [],
      "source": [
        "# Hyperparameters\n",
        "input_size = X_train.shape[2]  # Number of features\n",
        "hidden_size = 128\n",
        "num_layers = 2\n",
        "dropout_rate = 0.1\n",
        "learning_rate = 0.0005\n",
        "num_epochs = 500\n",
        "patience = 30"
      ]
    },
    {
      "cell_type": "code",
      "execution_count": 27,
      "metadata": {
        "colab": {
          "base_uri": "https://localhost:8080/",
          "height": 721
        },
        "id": "G6-GJJUSPbgU",
        "outputId": "6e6b24a2-99e2-4199-922d-1047ebb3771d"
      },
      "outputs": [
        {
          "output_type": "stream",
          "name": "stdout",
          "text": [
            "\n",
            "===== Evaluation Results =====\n",
            "Test Loss: 28.6670\n",
            "Test MAE: 4.1148\n",
            "Average Error Percentage: 4.20%\n",
            "Largest Error Percentage: 22.92%\n"
          ]
        },
        {
          "output_type": "stream",
          "name": "stderr",
          "text": [
            "<ipython-input-27-8beb1d49274d>:7: FutureWarning: You are using `torch.load` with `weights_only=False` (the current default value), which uses the default pickle module implicitly. It is possible to construct malicious pickle data which will execute arbitrary code during unpickling (See https://github.com/pytorch/pytorch/blob/main/SECURITY.md#untrusted-models for more details). In a future release, the default value for `weights_only` will be flipped to `True`. This limits the functions that could be executed during unpickling. Arbitrary objects will no longer be allowed to be loaded via this mode unless they are explicitly allowlisted by the user via `torch.serialization.add_safe_globals`. We recommend you start setting `weights_only=True` for any use case where you don't have full control of the loaded file. Please open an issue on GitHub for any issues related to this experimental feature.\n",
            "  LSTM_model.load_state_dict(torch.load(LSTM_model_path, map_location=torch.device('cpu')))\n",
            "/usr/local/lib/python3.11/dist-packages/torch/nn/modules/loss.py:608: UserWarning: Using a target size (torch.Size([64])) that is different to the input size (torch.Size([64, 1])). This will likely lead to incorrect results due to broadcasting. Please ensure they have the same size.\n",
            "  return F.mse_loss(input, target, reduction=self.reduction)\n",
            "/usr/local/lib/python3.11/dist-packages/torch/nn/modules/loss.py:608: UserWarning: Using a target size (torch.Size([55])) that is different to the input size (torch.Size([55, 1])). This will likely lead to incorrect results due to broadcasting. Please ensure they have the same size.\n",
            "  return F.mse_loss(input, target, reduction=self.reduction)\n"
          ]
        },
        {
          "output_type": "display_data",
          "data": {
            "text/plain": [
              "<Figure size 1000x500 with 1 Axes>"
            ],
            "image/png": "[encoded data removed]"
          },
          "metadata": {}
        }
      ],
      "source": [
        "# Define paths\n",
        "# LSTM_model_path = \"./lstm_codes/lstm_models/lstm_section_2.pth\"\n",
        "LSTM_model_path = \"lstm_section_2.pth\"\n",
        "\n",
        "# Load the trained model\n",
        "LSTM_model = ComplexLSTMModel(input_size=input_size, hidden_size=hidden_size, num_layers=num_layers, dropout_rate=dropout_rate).to(device)\n",
        "LSTM_model.load_state_dict(torch.load(LSTM_model_path, map_location=torch.device('cpu')))\n",
        "LSTM_model.eval()\n",
        "\n",
        "# Define loss function\n",
        "criterion = torch.nn.MSELoss()\n",
        "\n",
        "# Evaluate on test data\n",
        "test_loss = 0.0\n",
        "test_mae = 0.0\n",
        "all_true = []\n",
        "all_preds = []\n",
        "\n",
        "with torch.no_grad():\n",
        "    for X_batch, y_batch in test_loader:\n",
        "        X_batch, y_batch = X_batch.to(device), y_batch.to(device)\n",
        "        outputs = LSTM_model(X_batch)\n",
        "        loss = criterion(outputs, y_batch)\n",
        "        mae = torch.mean(torch.abs(outputs - y_batch))\n",
        "\n",
        "        test_loss += loss.item() * X_batch.size(0)\n",
        "        test_mae += mae.item() * X_batch.size(0)\n",
        "\n",
        "        all_true.extend(y_batch.cpu().numpy())\n",
        "        all_preds.extend(outputs.cpu().numpy())\n",
        "\n",
        "# Compute final metrics\n",
        "test_loss /= len(test_loader.dataset)\n",
        "test_mae /= len(test_loader.dataset)\n",
        "\n",
        "# Compute error percentages\n",
        "all_true = np.array(all_true).flatten()\n",
        "all_preds = np.array(all_preds).flatten()\n",
        "error = np.abs(all_true - all_preds) / (np.abs(all_true) + 1e-8)\n",
        "avg_error = np.mean(error) * 100\n",
        "largest_error = np.max(error) * 100\n",
        "\n",
        "# Print results\n",
        "print(\"\\n===== Evaluation Results =====\")\n",
        "print(f\"Test Loss: {test_loss:.4f}\")\n",
        "print(f\"Test MAE: {test_mae:.4f}\")\n",
        "print(f\"Average Error Percentage: {avg_error:.2f}%\")\n",
        "print(f\"Largest Error Percentage: {largest_error:.2f}%\")\n",
        "\n",
        "# Plot actual vs predicted values\n",
        "plt.figure(figsize=(10, 5))\n",
        "plt.plot(all_true, label='True Values', color='blue')\n",
        "plt.plot(all_preds, label='Predicted Values', color='red')\n",
        "plt.xlabel('Time')\n",
        "plt.ylabel('Value')\n",
        "plt.title('Actual vs. Predicted Values')\n",
        "plt.legend()\n",
        "plt.show()\n"
      ]
    },
    {
      "cell_type": "markdown",
      "metadata": {
        "id": "DysuppZ-PbgU"
      },
      "source": [
        "<span style=\"color: yellow; font-size: 40px;\">Evaluating original autoencoder</span>"
      ]
    },
    {
      "cell_type": "code",
      "execution_count": 28,
      "metadata": {
        "id": "Brigs17kPbgV"
      },
      "outputs": [],
      "source": [
        "X_train = X_scaled[:train_size]\n",
        "X_val = X_scaled[train_size:train_size + val_size]\n",
        "X_test = X_scaled[train_size + val_size:]"
      ]
    },
    {
      "cell_type": "code",
      "execution_count": 29,
      "metadata": {
        "id": "FsfRmB9wPbgV"
      },
      "outputs": [],
      "source": [
        "X_train = X_train.values\n",
        "X_val = X_val.values\n",
        "X_test = X_test.values"
      ]
    },
    {
      "cell_type": "code",
      "execution_count": 30,
      "metadata": {
        "id": "n68TZ3ptPbgV"
      },
      "outputs": [],
      "source": [
        "\n",
        "# Convert data to PyTorch tensors\n",
        "X_train_tensor = torch.tensor(X_train, dtype=torch.float32)\n",
        "X_val_tensor = torch.tensor(X_val, dtype=torch.float32)\n",
        "X_test_tensor = torch.tensor(X_test, dtype=torch.float32)\n",
        "\n",
        "# Create DataLoader\n",
        "train_dataset = TensorDataset(X_train_tensor, X_train_tensor)\n",
        "val_dataset = TensorDataset(X_val_tensor, X_val_tensor)\n",
        "test_dataset = TensorDataset(X_test_tensor, X_test_tensor)\n",
        "train_loader = DataLoader(train_dataset, batch_size=16, shuffle=True)\n",
        "val_loader = DataLoader(val_dataset, batch_size=16, shuffle=False)\n",
        "test_loader = DataLoader(test_dataset, batch_size=16, shuffle=False)\n"
      ]
    },
    {
      "cell_type": "code",
      "execution_count": 31,
      "metadata": {
        "id": "hcUQ1lGxPbgW"
      },
      "outputs": [],
      "source": [
        "input_dim = X_train.shape[1]\n",
        "\n",
        "# Hyperparameters\n",
        "encoding_dim = 5\n",
        "learning_rate = 0.0005\n",
        "dropout_rate = 0.3\n",
        "epochs = 750\n",
        "batch_size = 16\n",
        "patience = 40"
      ]
    },
    {
      "cell_type": "code",
      "execution_count": 32,
      "metadata": {
        "colab": {
          "base_uri": "https://localhost:8080/"
        },
        "id": "6RSUrM-XPbgW",
        "outputId": "aeb09b7a-2ceb-4da7-de1f-c8982f59af60"
      },
      "outputs": [
        {
          "output_type": "stream",
          "name": "stderr",
          "text": [
            "<ipython-input-32-c9404250f7ba>:4: FutureWarning: You are using `torch.load` with `weights_only=False` (the current default value), which uses the default pickle module implicitly. It is possible to construct malicious pickle data which will execute arbitrary code during unpickling (See https://github.com/pytorch/pytorch/blob/main/SECURITY.md#untrusted-models for more details). In a future release, the default value for `weights_only` will be flipped to `True`. This limits the functions that could be executed during unpickling. Arbitrary objects will no longer be allowed to be loaded via this mode unless they are explicitly allowlisted by the user via `torch.serialization.add_safe_globals`. We recommend you start setting `weights_only=True` for any use case where you don't have full control of the loaded file. Please open an issue on GitHub for any issues related to this experimental feature.\n",
            "  autoencoder_model.load_state_dict(torch.load(autoencoder_model_path, map_location=torch.device('cpu')))\n"
          ]
        },
        {
          "output_type": "execute_result",
          "data": {
            "text/plain": [
              "<All keys matched successfully>"
            ]
          },
          "metadata": {},
          "execution_count": 32
        }
      ],
      "source": [
        "# autoencoder_model_path = \"./autoencoder_codes/autoencoder_models/autoencoder_section_1.pth\"\n",
        "autoencoder_model_path = \"autoencoder_section_2.pth\"\n",
        "autoencoder_model = Autoencoder(input_dim=input_dim, encoding_dim=encoding_dim, dropout_rate=dropout_rate).to(device)\n",
        "autoencoder_model.load_state_dict(torch.load(autoencoder_model_path, map_location=torch.device('cpu')))"
      ]
    },
    {
      "cell_type": "code",
      "execution_count": 33,
      "metadata": {
        "colab": {
          "base_uri": "https://localhost:8080/"
        },
        "id": "ib1Drdq-PbgW",
        "outputId": "1c8a3fc4-5b6a-4fd0-9e4c-e14eebadb175"
      },
      "outputs": [
        {
          "output_type": "stream",
          "name": "stdout",
          "text": [
            "MSE: 0.0228, MAE: 0.0984, REE: 0.2287, Euclidean Distance: 0.4141, Average Error: 81.7411%\n"
          ]
        }
      ],
      "source": [
        "autoencoder_model.eval()\n",
        "with torch.no_grad():\n",
        "    reconstructed_test = autoencoder_model(torch.tensor(X_test, dtype=torch.float32).to(device)).cpu().numpy()\n",
        "mse = np.mean((X_test - reconstructed_test) ** 2)\n",
        "mae = np.mean(np.abs(X_test - reconstructed_test))\n",
        "ree = np.mean(np.linalg.norm(X_test - reconstructed_test, axis=1) / np.linalg.norm(X_test, axis=1))\n",
        "euclidean_dist = np.mean([norm(X_test[i] - reconstructed_test[i]) for i in range(len(X_test))])\n",
        "reconstruction_error_percentage = (\n",
        "    np.mean(np.abs(X_test - reconstructed_test) / (np.abs(X_test) + 1e-8), axis=1) * 100\n",
        ")\n",
        "average_error = np.mean(reconstruction_error_percentage)\n",
        "print(f'MSE: {mse:.4f}, MAE: {mae:.4f}, REE: {ree:.4f}, Euclidean Distance: {euclidean_dist:.4f}, Average Error: {average_error:.4f}%')"
      ]
    },
    {
      "cell_type": "code",
      "execution_count": 34,
      "metadata": {
        "colab": {
          "base_uri": "https://localhost:8080/",
          "height": 487
        },
        "id": "qQfQI-4iPbgW",
        "outputId": "98fb063b-67df-4567-b8a4-1c1a9cdcf636"
      },
      "outputs": [
        {
          "output_type": "display_data",
          "data": {
            "text/plain": [
              "<Figure size 1000x500 with 1 Axes>"
            ],
            "image/png": "[encoded data removed]"
          },
          "metadata": {}
        }
      ],
      "source": [
        "# Scatter plot of reconstruction error percentage\n",
        "plt.figure(figsize=(10, 5))\n",
        "plt.scatter(range(len(reconstruction_error_percentage)), reconstruction_error_percentage, alpha=0.5)\n",
        "plt.ylim(0, 50)\n",
        "plt.xlabel('Sample')\n",
        "plt.ylabel('Reconstruction Error Percentage')\n",
        "plt.title('Reconstruction Error Percentage')\n",
        "plt.show()\n"
      ]
    },
    {
      "cell_type": "markdown",
      "metadata": {
        "id": "9jJwk1fLPbgY"
      },
      "source": [
        "<span style=\"color: yellow; font-size: 40px;\">Bias correction model - single input</span>"
      ]
    },
    {
      "cell_type": "code",
      "execution_count": 35,
      "metadata": {
        "id": "uNOyKDulPbgY"
      },
      "outputs": [],
      "source": [
        "# import torch\n",
        "# import torch.nn as nn\n",
        "# import torch.nn.functional as F\n",
        "\n",
        "# class BiasPredictor(nn.Module):\n",
        "#     def __init__(self, input_size, hidden_size1, dropout_rate):\n",
        "#         super(BiasPredictor, self).__init__()\n",
        "\n",
        "#         hidden_size2 = hidden_size1 // 2\n",
        "#         hidden_size3 = hidden_size2 // 2\n",
        "#         hidden_size4 = hidden_size3 // 2  # New additional layer\n",
        "\n",
        "#         self.fc1 = nn.Linear(input_size, hidden_size1)\n",
        "#         self.dropout1 = nn.Dropout(dropout_rate)\n",
        "\n",
        "#         self.fc2 = nn.Linear(hidden_size1, hidden_size2)\n",
        "#         self.dropout2 = nn.Dropout(dropout_rate)\n",
        "\n",
        "#         self.fc3 = nn.Linear(hidden_size2, hidden_size3)\n",
        "#         self.dropout3 = nn.Dropout(dropout_rate)\n",
        "\n",
        "#         self.fc4 = nn.Linear(hidden_size3, hidden_size4)  # New additional layer\n",
        "#         self.dropout4 = nn.Dropout(dropout_rate)\n",
        "\n",
        "#         self.fc5 = nn.Linear(hidden_size4, 1)  # Final output layer\n",
        "\n",
        "#     def forward(self, x):\n",
        "#         x = F.relu(self.fc1(x))\n",
        "#         x = self.dropout1(x)\n",
        "\n",
        "#         x = F.relu(self.fc2(x))\n",
        "#         x = self.dropout2(x)\n",
        "\n",
        "#         x = F.relu(self.fc3(x))\n",
        "#         x = self.dropout3(x)\n",
        "\n",
        "#         x = F.relu(self.fc4(x))  # New layer\n",
        "#         x = self.dropout4(x)\n",
        "\n",
        "#         return self.fc5(x)\n",
        "\n",
        "##################################################################\n",
        "\n",
        "# import torch\n",
        "# import torch.nn as nn\n",
        "# import torch.nn.functional as F\n",
        "\n",
        "# class BiasPredictor(nn.Module):\n",
        "#     def __init__(self, input_size, hidden_size, dropout_rate):\n",
        "#         super(BiasPredictor, self).__init__()\n",
        "\n",
        "#         # Calculate progressively halved hidden sizes\n",
        "#         hidden_size2 = hidden_size // 2\n",
        "#         hidden_size3 = hidden_size2 // 2\n",
        "\n",
        "#         # Define layers\n",
        "#         self.fc1 = nn.Linear(input_size, hidden_size)\n",
        "#         self.dropout1 = nn.Dropout(dropout_rate)\n",
        "\n",
        "#         self.fc2 = nn.Linear(hidden_size, hidden_size2)\n",
        "#         self.dropout2 = nn.Dropout(dropout_rate)\n",
        "\n",
        "#         self.fc3 = nn.Linear(hidden_size2, hidden_size3)\n",
        "#         self.dropout3 = nn.Dropout(dropout_rate)\n",
        "\n",
        "#         self.fc4 = nn.Linear(hidden_size3, 1)  # Final output layer\n",
        "\n",
        "#     def forward(self, x):\n",
        "#         x = F.relu(self.fc1(x))\n",
        "#         x = self.dropout1(x)\n",
        "\n",
        "#         x = F.relu(self.fc2(x))\n",
        "#         x = self.dropout2(x)\n",
        "\n",
        "#         x = F.relu(self.fc3(x))\n",
        "#         x = self.dropout3(x)\n",
        "\n",
        "#         return self.fc4(x)  # Output layer without activation\n",
        "\n",
        "##################################################################\n",
        "\n",
        "import torch\n",
        "import torch.nn as nn\n",
        "import torch.nn.functional as F\n",
        "\n",
        "class BiasPredictor(nn.Module):\n",
        "    def __init__(self, input_size, hidden_size, dropout_rate):\n",
        "        super(BiasPredictor, self).__init__()\n",
        "\n",
        "        # Calculate progressively halved hidden sizes\n",
        "        hidden_size2 = hidden_size // 2\n",
        "\n",
        "        # Define layers\n",
        "        self.fc1 = nn.Linear(input_size, hidden_size)\n",
        "        self.dropout1 = nn.Dropout(dropout_rate)\n",
        "\n",
        "        self.fc2 = nn.Linear(hidden_size, hidden_size2)\n",
        "        self.dropout2 = nn.Dropout(dropout_rate)\n",
        "\n",
        "        self.fc3 = nn.Linear(hidden_size2, 1)  # Final output layer\n",
        "\n",
        "    def forward(self, x):\n",
        "        x = F.relu(self.fc1(x))\n",
        "        x = self.dropout1(x)\n",
        "\n",
        "        x = F.relu(self.fc2(x))\n",
        "        x = self.dropout2(x)\n",
        "\n",
        "        return self.fc3(x)  # Output layer without activation\n",
        "\n",
        "\n"
      ]
    },
    {
      "cell_type": "code",
      "execution_count": 36,
      "metadata": {
        "id": "8HSuPOWePbgY"
      },
      "outputs": [],
      "source": [
        "# Get LSTM predictions of entire dataset\n",
        "with torch.no_grad():\n",
        "    X_tensor = torch.tensor(X_seq, dtype=torch.float32).to(device)\n",
        "    LSTM_preds = LSTM_model(X_tensor).cpu().numpy()\n",
        "\n",
        "# Put LSTM predictions into a new DataFrame\n",
        "new_df = pd.DataFrame(LSTM_preds, columns=[\"LSTM_Pred\"])\n"
      ]
    },
    {
      "cell_type": "code",
      "execution_count": 37,
      "metadata": {
        "id": "Uj-dqer8PbgY"
      },
      "outputs": [],
      "source": [
        "# Drop the first sequence_length rows\n",
        "temp_y = y\n",
        "temp_y = temp_y[sequence_length:]\n",
        "\n",
        "# add the target variable to the new DataFrame\n",
        "new_df[\"Target\"] = temp_y.values"
      ]
    },
    {
      "cell_type": "code",
      "execution_count": 38,
      "metadata": {
        "id": "ZoOyqfK_PbgZ"
      },
      "outputs": [],
      "source": [
        "# Get reconstruction error percentage for the entire dataset\n",
        "autoencoder_model.eval()\n",
        "with torch.no_grad():\n",
        "    reconstructed = autoencoder_model(torch.tensor(X_scaled.values, dtype=torch.float32).to(device)).cpu().numpy()\n",
        "\n",
        "# Compute the MAE\n",
        "reconstruction_error = np.mean(np.abs(X_scaled.values - reconstructed), axis=1)\n",
        "\n",
        "# Compute the reconstruction error percentage\n",
        "# reconstruction_error = np.mean(np.abs(X_scaled.values - reconstructed) / (np.abs(X_scaled.values) + 1e-8), axis=1) * 100\n",
        "# reconstruction_error = np.mean((X_scaled.values - reconstructed) / ((X_scaled.values) + 1e-8), axis=1) * 100\n",
        "\n",
        "# Drop the first sequence_length rows\n",
        "reconstruction_error_new = reconstruction_error[sequence_length:]\n",
        "\n",
        "# Add the reconstruction error to the new DataFrame\n",
        "new_df[\"Reconstruction_error_single\"] = reconstruction_error_new\n",
        "\n",
        "# Get reconstruction error arr of past 10 days\n",
        "reconstruction_error_arr = []\n",
        "for i in range(sequence_length, len(reconstruction_error)):\n",
        "    reconstruction_error_arr.append(reconstruction_error[i - sequence_length:i])\n",
        "\n",
        "\n",
        "# Add the reconstruction error array to the new DataFrame\n",
        "new_df[\"Reconstruction_error_arr\"] = reconstruction_error_arr\n",
        "\n"
      ]
    },
    {
      "cell_type": "code",
      "execution_count": 39,
      "metadata": {
        "colab": {
          "base_uri": "https://localhost:8080/",
          "height": 487
        },
        "id": "d1h2wYSfPbgZ",
        "outputId": "843342d9-252f-4a9f-8966-5d72ce297854"
      },
      "outputs": [
        {
          "output_type": "display_data",
          "data": {
            "text/plain": [
              "<Figure size 1000x500 with 1 Axes>"
            ],
            "image/png": "[encoded data removed]"
          },
          "metadata": {}
        }
      ],
      "source": [
        "# plot reconstruction error scatter plot\n",
        "plt.figure(figsize=(10, 5))\n",
        "plt.scatter(range(len(reconstruction_error)), reconstruction_error, alpha=0.5)\n",
        "plt.ylim(0, 0.5)\n",
        "plt.xlabel('Sample')\n",
        "# plt.ylabel('Reconstruction Error Percentage')\n",
        "# plt.title('Reconstruction Error Percentage')\n",
        "plt.ylabel('Reconstruction Error MAE')\n",
        "plt.title('Reconstruction Error MAE')\n",
        "plt.show()\n"
      ]
    },
    {
      "cell_type": "code",
      "execution_count": 40,
      "metadata": {
        "colab": {
          "base_uri": "https://localhost:8080/"
        },
        "id": "zpaba2jsPbgZ",
        "outputId": "6cbb1a49-2a6f-41a0-ede6-569bd0040453"
      },
      "outputs": [
        {
          "output_type": "execute_result",
          "data": {
            "text/plain": [
              "array([0.00346786, 0.00279189, 0.00238325, 0.0025055 , 0.00360949,\n",
              "       0.00329989, 0.00362503, 0.00512107, 0.00316199, 0.00687034])"
            ]
          },
          "metadata": {},
          "execution_count": 40
        }
      ],
      "source": [
        "reconstruction_error_arr[0]"
      ]
    },
    {
      "cell_type": "code",
      "execution_count": 41,
      "metadata": {
        "id": "cK-bJ5TuPbga"
      },
      "outputs": [],
      "source": [
        "# Calculate the difference between the target and LSTM prediction\n",
        "new_df[\"Bias\"] = new_df[\"Target\"] - new_df[\"LSTM_Pred\"]"
      ]
    },
    {
      "cell_type": "code",
      "execution_count": 42,
      "metadata": {
        "id": "ZOk4bQp6Pbga"
      },
      "outputs": [],
      "source": [
        "y = new_df[\"Bias\"]\n",
        "X = new_df[\"Reconstruction_error_single\"]\n",
        "# X = new_df[\"Reconstruction_error_arr\"]"
      ]
    },
    {
      "cell_type": "code",
      "execution_count": 43,
      "metadata": {
        "colab": {
          "base_uri": "https://localhost:8080/"
        },
        "id": "sckHEj-UPbga",
        "outputId": "255bdbe7-5cd4-47f2-fe72-87b106c8effa"
      },
      "outputs": [
        {
          "output_type": "stream",
          "name": "stdout",
          "text": [
            "Train: 1187, Val: 254, Test: 256\n"
          ]
        }
      ],
      "source": [
        "# Sequential split\n",
        "train_size = int(0.7 * len(X))\n",
        "val_size = int(0.15 * len(X))\n",
        "\n",
        "X_train_raw = X[:train_size]\n",
        "y_train_raw = y[:train_size]\n",
        "X_val_raw = X[train_size:train_size + val_size]\n",
        "y_val_raw = y[train_size:train_size + val_size]\n",
        "X_test_raw = X[train_size + val_size:]\n",
        "y_test_raw = y[train_size + val_size:]\n",
        "\n",
        "# Scale using StandardScaler (fit only on train data)\n",
        "# X_scaler = StandardScaler()\n",
        "X_scaler = RobustScaler()\n",
        "X_train_scaled = X_scaler.fit_transform(X_train_raw.values.reshape(-1, 1))\n",
        "X_val_scaled = X_scaler.transform(X_val_raw.values.reshape(-1, 1))\n",
        "X_test_scaled = X_scaler.transform(X_test_raw.values.reshape(-1, 1))\n",
        "\n",
        "# y_scaler = StandardScaler()\n",
        "y_scaler = RobustScaler()\n",
        "y_train_scaled = y_scaler.fit_transform(y_train_raw.values.reshape(-1, 1))\n",
        "y_val_scaled = y_scaler.transform(y_val_raw.values.reshape(-1, 1))\n",
        "y_test_scaled = y_scaler.transform(y_test_raw.values.reshape(-1, 1))\n",
        "\n",
        "# Convert data to PyTorch tensors\n",
        "X_train = torch.tensor(X_train_scaled, dtype=torch.float32).unsqueeze(1)\n",
        "y_train = torch.tensor(y_train_scaled, dtype=torch.float32).unsqueeze(1)\n",
        "X_val = torch.tensor(X_val_scaled, dtype=torch.float32).unsqueeze(1)\n",
        "y_val = torch.tensor(y_val_scaled, dtype=torch.float32).unsqueeze(1)\n",
        "X_test = torch.tensor(X_test_scaled, dtype=torch.float32).unsqueeze(1)\n",
        "y_test = torch.tensor(y_test_scaled, dtype=torch.float32).unsqueeze(1)\n",
        "\n",
        "# Print sizes\n",
        "print(f\"Train: {len(X_train)}, Val: {len(X_val)}, Test: {len(X_test)}\")"
      ]
    },
    {
      "cell_type": "code",
      "execution_count": 44,
      "metadata": {
        "colab": {
          "base_uri": "https://localhost:8080/"
        },
        "id": "_KQrET0zPbgb",
        "outputId": "a601c699-d4e7-4aeb-d35a-fadfa6946af4"
      },
      "outputs": [
        {
          "output_type": "stream",
          "name": "stdout",
          "text": [
            "\n",
            " Running 1/81: H=32, D=0.0, LR=0.0001, B=8\n",
            "   Run 1/5 ...      Epoch 0: Train Loss = 0.6116, Val Loss = 1.9396\n",
            "     Epoch 5: Train Loss = 0.5865, Val Loss = 3.4419\n",
            "     Epoch 10: Train Loss = 0.5817, Val Loss = 4.9616\n",
            "     Epoch 15: Train Loss = 0.5787, Val Loss = 6.3946\n",
            "     Epoch 20: Train Loss = 0.5772, Val Loss = 7.6787\n",
            "    ⏹️ Early stopping at epoch 20\n",
            " Run 1 finished with best val loss: 1.9396\n",
            "Original Error Percentage (Test Dataset): 4.1651%\n",
            "Corrected Error Percentage (Test Dataset): 24.8927%\n",
            "   Run 2/5 ... "
          ]
        },
        {
          "output_type": "stream",
          "name": "stderr",
          "text": [
            "<ipython-input-44-b273c6d16a7f>:152: UserWarning: To copy construct from a tensor, it is recommended to use sourceTensor.clone().detach() or sourceTensor.clone().detach().requires_grad_(True), rather than torch.tensor(sourceTensor).\n",
            "  X_scaled_tensor = torch.tensor(combined_X, dtype=torch.float32).unsqueeze(1)\n"
          ]
        },
        {
          "output_type": "stream",
          "name": "stdout",
          "text": [
            "     Epoch 0: Train Loss = 0.5902, Val Loss = 13.1944\n",
            "     Epoch 5: Train Loss = 0.5790, Val Loss = 15.6781\n",
            "     Epoch 10: Train Loss = 0.5773, Val Loss = 17.5071\n",
            "     Epoch 15: Train Loss = 0.5763, Val Loss = 18.2246\n",
            "     Epoch 20: Train Loss = 0.5760, Val Loss = 18.1968\n",
            "    ⏹️ Early stopping at epoch 20\n",
            " Run 2 finished with best val loss: 13.1944\n",
            "Original Error Percentage (Test Dataset): 4.1651%\n",
            "Corrected Error Percentage (Test Dataset): 48.7050%\n",
            "   Run 3/5 ...      Epoch 0: Train Loss = 0.6767, Val Loss = 3.4996\n"
          ]
        },
        {
          "output_type": "stream",
          "name": "stderr",
          "text": [
            "<ipython-input-44-b273c6d16a7f>:152: UserWarning: To copy construct from a tensor, it is recommended to use sourceTensor.clone().detach() or sourceTensor.clone().detach().requires_grad_(True), rather than torch.tensor(sourceTensor).\n",
            "  X_scaled_tensor = torch.tensor(combined_X, dtype=torch.float32).unsqueeze(1)\n"
          ]
        },
        {
          "output_type": "stream",
          "name": "stdout",
          "text": [
            "     Epoch 5: Train Loss = 0.5895, Val Loss = 2.3358\n",
            "     Epoch 10: Train Loss = 0.5828, Val Loss = 3.5354\n",
            "     Epoch 15: Train Loss = 0.5793, Val Loss = 5.1723\n",
            "     Epoch 20: Train Loss = 0.5771, Val Loss = 6.5708\n",
            "    ⏹️ Early stopping at epoch 24\n",
            " Run 3 finished with best val loss: 2.1773\n",
            "Original Error Percentage (Test Dataset): 4.1651%\n",
            "Corrected Error Percentage (Test Dataset): 24.9431%\n",
            "   Run 4/5 ... "
          ]
        },
        {
          "output_type": "stream",
          "name": "stderr",
          "text": [
            "<ipython-input-44-b273c6d16a7f>:152: UserWarning: To copy construct from a tensor, it is recommended to use sourceTensor.clone().detach() or sourceTensor.clone().detach().requires_grad_(True), rather than torch.tensor(sourceTensor).\n",
            "  X_scaled_tensor = torch.tensor(combined_X, dtype=torch.float32).unsqueeze(1)\n"
          ]
        },
        {
          "output_type": "stream",
          "name": "stdout",
          "text": [
            "     Epoch 0: Train Loss = 0.5986, Val Loss = 6.9399\n",
            "     Epoch 5: Train Loss = 0.5767, Val Loss = 8.8450\n",
            "     Epoch 10: Train Loss = 0.5753, Val Loss = 11.4145\n",
            "     Epoch 15: Train Loss = 0.5744, Val Loss = 12.9939\n",
            "     Epoch 20: Train Loss = 0.5741, Val Loss = 13.9054\n",
            "    ⏹️ Early stopping at epoch 21\n",
            " Run 4 finished with best val loss: 6.8162\n",
            "Original Error Percentage (Test Dataset): 4.1651%\n",
            "Corrected Error Percentage (Test Dataset): 41.1690%\n",
            "   Run 5/5 ... "
          ]
        },
        {
          "output_type": "stream",
          "name": "stderr",
          "text": [
            "<ipython-input-44-b273c6d16a7f>:152: UserWarning: To copy construct from a tensor, it is recommended to use sourceTensor.clone().detach() or sourceTensor.clone().detach().requires_grad_(True), rather than torch.tensor(sourceTensor).\n",
            "  X_scaled_tensor = torch.tensor(combined_X, dtype=torch.float32).unsqueeze(1)\n"
          ]
        },
        {
          "output_type": "stream",
          "name": "stdout",
          "text": [
            "     Epoch 0: Train Loss = 0.5889, Val Loss = 2.4254\n",
            "     Epoch 5: Train Loss = 0.5821, Val Loss = 3.6452\n",
            "     Epoch 10: Train Loss = 0.5793, Val Loss = 4.9295\n",
            "     Epoch 15: Train Loss = 0.5776, Val Loss = 5.9520\n",
            "     Epoch 20: Train Loss = 0.5763, Val Loss = 7.1202\n",
            "    ⏹️ Early stopping at epoch 20\n",
            " Run 5 finished with best val loss: 2.4254\n",
            "Original Error Percentage (Test Dataset): 4.1651%\n",
            "Corrected Error Percentage (Test Dataset): 22.2168%\n",
            " Finished configuration H=32, D=0.0, LR=0.0001, B=8 → Avg Val Loss: 5.3106, Avg Accuracy: 32.3853%\n",
            "\n",
            " Running 2/81: H=32, D=0.0, LR=0.0001, B=16\n",
            "   Run 1/5 ...      Epoch 0: Train Loss = 0.6123, Val Loss = 1.7182\n"
          ]
        },
        {
          "output_type": "stream",
          "name": "stderr",
          "text": [
            "<ipython-input-44-b273c6d16a7f>:152: UserWarning: To copy construct from a tensor, it is recommended to use sourceTensor.clone().detach() or sourceTensor.clone().detach().requires_grad_(True), rather than torch.tensor(sourceTensor).\n",
            "  X_scaled_tensor = torch.tensor(combined_X, dtype=torch.float32).unsqueeze(1)\n"
          ]
        },
        {
          "output_type": "stream",
          "name": "stdout",
          "text": [
            "     Epoch 5: Train Loss = 0.5891, Val Loss = 3.4043\n",
            "     Epoch 10: Train Loss = 0.5833, Val Loss = 5.6328\n",
            "     Epoch 15: Train Loss = 0.5803, Val Loss = 7.4889\n",
            "     Epoch 20: Train Loss = 0.5783, Val Loss = 9.3330\n",
            "    ⏹️ Early stopping at epoch 20\n",
            " Run 1 finished with best val loss: 1.7182\n",
            "Original Error Percentage (Test Dataset): 4.1651%\n",
            "Corrected Error Percentage (Test Dataset): 29.7726%\n",
            "   Run 2/5 ...      Epoch 0: Train Loss = 0.7965, Val Loss = 2.1751\n"
          ]
        },
        {
          "output_type": "stream",
          "name": "stderr",
          "text": [
            "<ipython-input-44-b273c6d16a7f>:152: UserWarning: To copy construct from a tensor, it is recommended to use sourceTensor.clone().detach() or sourceTensor.clone().detach().requires_grad_(True), rather than torch.tensor(sourceTensor).\n",
            "  X_scaled_tensor = torch.tensor(combined_X, dtype=torch.float32).unsqueeze(1)\n"
          ]
        },
        {
          "output_type": "stream",
          "name": "stdout",
          "text": [
            "     Epoch 5: Train Loss = 0.6008, Val Loss = 1.7843\n",
            "     Epoch 10: Train Loss = 0.5899, Val Loss = 2.2185\n",
            "     Epoch 15: Train Loss = 0.5842, Val Loss = 3.2810\n",
            "     Epoch 20: Train Loss = 0.5805, Val Loss = 4.3829\n",
            "     Epoch 25: Train Loss = 0.5776, Val Loss = 5.9271\n",
            "    ⏹️ Early stopping at epoch 25\n",
            " Run 2 finished with best val loss: 1.7843\n",
            "Original Error Percentage (Test Dataset): 4.1651%\n",
            "Corrected Error Percentage (Test Dataset): 18.0271%\n",
            "   Run 3/5 ...      Epoch 0: Train Loss = 0.6169, Val Loss = 1.8743\n"
          ]
        },
        {
          "output_type": "stream",
          "name": "stderr",
          "text": [
            "<ipython-input-44-b273c6d16a7f>:152: UserWarning: To copy construct from a tensor, it is recommended to use sourceTensor.clone().detach() or sourceTensor.clone().detach().requires_grad_(True), rather than torch.tensor(sourceTensor).\n",
            "  X_scaled_tensor = torch.tensor(combined_X, dtype=torch.float32).unsqueeze(1)\n"
          ]
        },
        {
          "output_type": "stream",
          "name": "stdout",
          "text": [
            "     Epoch 5: Train Loss = 0.5866, Val Loss = 2.6053\n",
            "     Epoch 10: Train Loss = 0.5805, Val Loss = 4.7161\n",
            "     Epoch 15: Train Loss = 0.5780, Val Loss = 7.7466\n",
            "     Epoch 20: Train Loss = 0.5767, Val Loss = 9.7258\n",
            "    ⏹️ Early stopping at epoch 21\n",
            " Run 3 finished with best val loss: 1.7599\n",
            "Original Error Percentage (Test Dataset): 4.1651%\n",
            "Corrected Error Percentage (Test Dataset): 31.1568%\n",
            "   Run 4/5 ... "
          ]
        },
        {
          "output_type": "stream",
          "name": "stderr",
          "text": [
            "<ipython-input-44-b273c6d16a7f>:152: UserWarning: To copy construct from a tensor, it is recommended to use sourceTensor.clone().detach() or sourceTensor.clone().detach().requires_grad_(True), rather than torch.tensor(sourceTensor).\n",
            "  X_scaled_tensor = torch.tensor(combined_X, dtype=torch.float32).unsqueeze(1)\n"
          ]
        },
        {
          "output_type": "stream",
          "name": "stdout",
          "text": [
            "     Epoch 0: Train Loss = 0.6008, Val Loss = 1.7648\n",
            "     Epoch 5: Train Loss = 0.5833, Val Loss = 2.9253\n",
            "     Epoch 10: Train Loss = 0.5787, Val Loss = 5.0451\n",
            "     Epoch 15: Train Loss = 0.5769, Val Loss = 6.9189\n",
            "     Epoch 20: Train Loss = 0.5758, Val Loss = 8.5704\n",
            "    ⏹️ Early stopping at epoch 21\n",
            " Run 4 finished with best val loss: 1.7324\n",
            "Original Error Percentage (Test Dataset): 4.1651%\n",
            "Corrected Error Percentage (Test Dataset): 28.1649%\n",
            "   Run 5/5 ... "
          ]
        },
        {
          "output_type": "stream",
          "name": "stderr",
          "text": [
            "<ipython-input-44-b273c6d16a7f>:152: UserWarning: To copy construct from a tensor, it is recommended to use sourceTensor.clone().detach() or sourceTensor.clone().detach().requires_grad_(True), rather than torch.tensor(sourceTensor).\n",
            "  X_scaled_tensor = torch.tensor(combined_X, dtype=torch.float32).unsqueeze(1)\n"
          ]
        },
        {
          "output_type": "stream",
          "name": "stdout",
          "text": [
            "     Epoch 0: Train Loss = 0.7329, Val Loss = 2.9230\n",
            "     Epoch 5: Train Loss = 0.5893, Val Loss = 2.7483\n",
            "     Epoch 10: Train Loss = 0.5811, Val Loss = 4.3809\n",
            "     Epoch 15: Train Loss = 0.5782, Val Loss = 6.2906\n",
            "     Epoch 20: Train Loss = 0.5767, Val Loss = 7.9128\n",
            "    ⏹️ Early stopping at epoch 22\n",
            " Run 5 finished with best val loss: 2.4247\n",
            "Original Error Percentage (Test Dataset): 4.1651%\n",
            "Corrected Error Percentage (Test Dataset): 26.1623%\n",
            " Finished configuration H=32, D=0.0, LR=0.0001, B=16 → Avg Val Loss: 1.8839, Avg Accuracy: 26.6567%\n",
            "\n",
            " Running 3/81: H=32, D=0.0, LR=0.0001, B=32\n",
            "   Run 1/5 ...      Epoch 0: Train Loss = 0.6014, Val Loss = 5.2210\n"
          ]
        },
        {
          "output_type": "stream",
          "name": "stderr",
          "text": [
            "<ipython-input-44-b273c6d16a7f>:152: UserWarning: To copy construct from a tensor, it is recommended to use sourceTensor.clone().detach() or sourceTensor.clone().detach().requires_grad_(True), rather than torch.tensor(sourceTensor).\n",
            "  X_scaled_tensor = torch.tensor(combined_X, dtype=torch.float32).unsqueeze(1)\n"
          ]
        },
        {
          "output_type": "stream",
          "name": "stdout",
          "text": [
            "     Epoch 5: Train Loss = 0.5821, Val Loss = 9.4358\n",
            "     Epoch 10: Train Loss = 0.5778, Val Loss = 11.2651\n",
            "     Epoch 15: Train Loss = 0.5762, Val Loss = 12.3327\n",
            "     Epoch 20: Train Loss = 0.5754, Val Loss = 12.7025\n",
            "    ⏹️ Early stopping at epoch 20\n",
            " Run 1 finished with best val loss: 5.2210\n",
            "Original Error Percentage (Test Dataset): 4.1651%\n",
            "Corrected Error Percentage (Test Dataset): 38.0973%\n",
            "   Run 2/5 ...      Epoch 0: Train Loss = 0.5962, Val Loss = 4.5742\n"
          ]
        },
        {
          "output_type": "stream",
          "name": "stderr",
          "text": [
            "<ipython-input-44-b273c6d16a7f>:152: UserWarning: To copy construct from a tensor, it is recommended to use sourceTensor.clone().detach() or sourceTensor.clone().detach().requires_grad_(True), rather than torch.tensor(sourceTensor).\n",
            "  X_scaled_tensor = torch.tensor(combined_X, dtype=torch.float32).unsqueeze(1)\n"
          ]
        },
        {
          "output_type": "stream",
          "name": "stdout",
          "text": [
            "     Epoch 5: Train Loss = 0.5866, Val Loss = 5.1591\n",
            "     Epoch 10: Train Loss = 0.5829, Val Loss = 6.3495\n",
            "     Epoch 15: Train Loss = 0.5808, Val Loss = 7.5910\n",
            "     Epoch 20: Train Loss = 0.5792, Val Loss = 9.2364\n",
            "    ⏹️ Early stopping at epoch 20\n",
            " Run 2 finished with best val loss: 4.5742\n",
            "Original Error Percentage (Test Dataset): 4.1651%\n",
            "Corrected Error Percentage (Test Dataset): 29.4475%\n",
            "   Run 3/5 ...      Epoch 0: Train Loss = 0.6457, Val Loss = 2.2903\n"
          ]
        },
        {
          "output_type": "stream",
          "name": "stderr",
          "text": [
            "<ipython-input-44-b273c6d16a7f>:152: UserWarning: To copy construct from a tensor, it is recommended to use sourceTensor.clone().detach() or sourceTensor.clone().detach().requires_grad_(True), rather than torch.tensor(sourceTensor).\n",
            "  X_scaled_tensor = torch.tensor(combined_X, dtype=torch.float32).unsqueeze(1)\n"
          ]
        },
        {
          "output_type": "stream",
          "name": "stdout",
          "text": [
            "     Epoch 5: Train Loss = 0.6073, Val Loss = 2.6961\n",
            "     Epoch 10: Train Loss = 0.5924, Val Loss = 3.8491\n",
            "     Epoch 15: Train Loss = 0.5850, Val Loss = 5.7026\n",
            "     Epoch 20: Train Loss = 0.5815, Val Loss = 7.5394\n",
            "    ⏹️ Early stopping at epoch 20\n",
            " Run 3 finished with best val loss: 2.2903\n",
            "Original Error Percentage (Test Dataset): 4.1651%\n",
            "Corrected Error Percentage (Test Dataset): 24.6338%\n",
            "   Run 4/5 ...      Epoch 0: Train Loss = 0.6474, Val Loss = 8.6401\n"
          ]
        },
        {
          "output_type": "stream",
          "name": "stderr",
          "text": [
            "<ipython-input-44-b273c6d16a7f>:152: UserWarning: To copy construct from a tensor, it is recommended to use sourceTensor.clone().detach() or sourceTensor.clone().detach().requires_grad_(True), rather than torch.tensor(sourceTensor).\n",
            "  X_scaled_tensor = torch.tensor(combined_X, dtype=torch.float32).unsqueeze(1)\n"
          ]
        },
        {
          "output_type": "stream",
          "name": "stdout",
          "text": [
            "     Epoch 5: Train Loss = 0.6079, Val Loss = 8.1161\n",
            "     Epoch 10: Train Loss = 0.5911, Val Loss = 9.4565\n",
            "     Epoch 15: Train Loss = 0.5844, Val Loss = 11.1806\n",
            "     Epoch 20: Train Loss = 0.5817, Val Loss = 13.5570\n",
            "    ⏹️ Early stopping at epoch 23\n",
            " Run 4 finished with best val loss: 7.8876\n",
            "Original Error Percentage (Test Dataset): 4.1651%\n",
            "Corrected Error Percentage (Test Dataset): 39.6411%\n",
            "   Run 5/5 ...      Epoch 0: Train Loss = 0.6179, Val Loss = 2.0364\n"
          ]
        },
        {
          "output_type": "stream",
          "name": "stderr",
          "text": [
            "<ipython-input-44-b273c6d16a7f>:152: UserWarning: To copy construct from a tensor, it is recommended to use sourceTensor.clone().detach() or sourceTensor.clone().detach().requires_grad_(True), rather than torch.tensor(sourceTensor).\n",
            "  X_scaled_tensor = torch.tensor(combined_X, dtype=torch.float32).unsqueeze(1)\n"
          ]
        },
        {
          "output_type": "stream",
          "name": "stdout",
          "text": [
            "     Epoch 5: Train Loss = 0.5955, Val Loss = 2.4892\n",
            "     Epoch 10: Train Loss = 0.5874, Val Loss = 3.2975\n",
            "     Epoch 15: Train Loss = 0.5832, Val Loss = 4.2486\n",
            "     Epoch 20: Train Loss = 0.5806, Val Loss = 5.7268\n",
            "    ⏹️ Early stopping at epoch 20\n",
            " Run 5 finished with best val loss: 2.0364\n",
            "Original Error Percentage (Test Dataset): 4.1651%\n",
            "Corrected Error Percentage (Test Dataset): 18.4876%\n",
            " Finished configuration H=32, D=0.0, LR=0.0001, B=32 → Avg Val Loss: 4.4019, Avg Accuracy: 30.0615%\n",
            "\n",
            " Running 4/81: H=32, D=0.0, LR=0.0005, B=8\n",
            "   Run 1/5 ... "
          ]
        },
        {
          "output_type": "stream",
          "name": "stderr",
          "text": [
            "<ipython-input-44-b273c6d16a7f>:152: UserWarning: To copy construct from a tensor, it is recommended to use sourceTensor.clone().detach() or sourceTensor.clone().detach().requires_grad_(True), rather than torch.tensor(sourceTensor).\n",
            "  X_scaled_tensor = torch.tensor(combined_X, dtype=torch.float32).unsqueeze(1)\n"
          ]
        },
        {
          "output_type": "stream",
          "name": "stdout",
          "text": [
            "     Epoch 0: Train Loss = 0.6085, Val Loss = 1.8490\n",
            "     Epoch 5: Train Loss = 0.5785, Val Loss = 8.1515\n",
            "     Epoch 10: Train Loss = 0.5774, Val Loss = 11.4815\n",
            "     Epoch 15: Train Loss = 0.5758, Val Loss = 12.4075\n",
            "     Epoch 20: Train Loss = 0.5769, Val Loss = 10.5757\n",
            "    ⏹️ Early stopping at epoch 20\n",
            " Run 1 finished with best val loss: 1.8490\n",
            "Original Error Percentage (Test Dataset): 4.1651%\n",
            "Corrected Error Percentage (Test Dataset): 31.7733%\n",
            "   Run 2/5 ... "
          ]
        },
        {
          "output_type": "stream",
          "name": "stderr",
          "text": [
            "<ipython-input-44-b273c6d16a7f>:152: UserWarning: To copy construct from a tensor, it is recommended to use sourceTensor.clone().detach() or sourceTensor.clone().detach().requires_grad_(True), rather than torch.tensor(sourceTensor).\n",
            "  X_scaled_tensor = torch.tensor(combined_X, dtype=torch.float32).unsqueeze(1)\n"
          ]
        },
        {
          "output_type": "stream",
          "name": "stdout",
          "text": [
            "     Epoch 0: Train Loss = 0.6052, Val Loss = 2.0195\n",
            "     Epoch 5: Train Loss = 0.5778, Val Loss = 10.4214\n",
            "     Epoch 10: Train Loss = 0.5774, Val Loss = 11.4405\n",
            "     Epoch 15: Train Loss = 0.5766, Val Loss = 11.9821\n",
            "     Epoch 20: Train Loss = 0.5748, Val Loss = 9.4756\n",
            "    ⏹️ Early stopping at epoch 20\n",
            " Run 2 finished with best val loss: 2.0195\n",
            "Original Error Percentage (Test Dataset): 4.1651%\n",
            "Corrected Error Percentage (Test Dataset): 28.7630%\n",
            "   Run 3/5 ... "
          ]
        },
        {
          "output_type": "stream",
          "name": "stderr",
          "text": [
            "<ipython-input-44-b273c6d16a7f>:152: UserWarning: To copy construct from a tensor, it is recommended to use sourceTensor.clone().detach() or sourceTensor.clone().detach().requires_grad_(True), rather than torch.tensor(sourceTensor).\n",
            "  X_scaled_tensor = torch.tensor(combined_X, dtype=torch.float32).unsqueeze(1)\n"
          ]
        },
        {
          "output_type": "stream",
          "name": "stdout",
          "text": [
            "     Epoch 0: Train Loss = 0.5848, Val Loss = 6.0209\n",
            "     Epoch 5: Train Loss = 0.5759, Val Loss = 12.9114\n",
            "     Epoch 10: Train Loss = 0.5748, Val Loss = 12.0055\n",
            "     Epoch 15: Train Loss = 0.5756, Val Loss = 12.0684\n",
            "     Epoch 20: Train Loss = 0.5760, Val Loss = 13.0953\n",
            "    ⏹️ Early stopping at epoch 20\n",
            " Run 3 finished with best val loss: 6.0209\n",
            "Original Error Percentage (Test Dataset): 4.1651%\n",
            "Corrected Error Percentage (Test Dataset): 37.5714%\n",
            "   Run 4/5 ... "
          ]
        },
        {
          "output_type": "stream",
          "name": "stderr",
          "text": [
            "<ipython-input-44-b273c6d16a7f>:152: UserWarning: To copy construct from a tensor, it is recommended to use sourceTensor.clone().detach() or sourceTensor.clone().detach().requires_grad_(True), rather than torch.tensor(sourceTensor).\n",
            "  X_scaled_tensor = torch.tensor(combined_X, dtype=torch.float32).unsqueeze(1)\n"
          ]
        },
        {
          "output_type": "stream",
          "name": "stdout",
          "text": [
            "     Epoch 0: Train Loss = 0.5893, Val Loss = 2.7596\n",
            "     Epoch 5: Train Loss = 0.5773, Val Loss = 9.0085\n",
            "     Epoch 10: Train Loss = 0.5754, Val Loss = 9.2702\n",
            "     Epoch 15: Train Loss = 0.5804, Val Loss = 9.3156\n",
            "     Epoch 20: Train Loss = 0.5759, Val Loss = 9.2062\n",
            "    ⏹️ Early stopping at epoch 20\n",
            " Run 4 finished with best val loss: 2.7596\n",
            "Original Error Percentage (Test Dataset): 4.1651%\n",
            "Corrected Error Percentage (Test Dataset): 27.9300%\n",
            "   Run 5/5 ... "
          ]
        },
        {
          "output_type": "stream",
          "name": "stderr",
          "text": [
            "<ipython-input-44-b273c6d16a7f>:152: UserWarning: To copy construct from a tensor, it is recommended to use sourceTensor.clone().detach() or sourceTensor.clone().detach().requires_grad_(True), rather than torch.tensor(sourceTensor).\n",
            "  X_scaled_tensor = torch.tensor(combined_X, dtype=torch.float32).unsqueeze(1)\n"
          ]
        },
        {
          "output_type": "stream",
          "name": "stdout",
          "text": [
            "     Epoch 0: Train Loss = 0.5880, Val Loss = 5.6931\n",
            "     Epoch 5: Train Loss = 0.5770, Val Loss = 15.5380\n",
            "     Epoch 10: Train Loss = 0.5756, Val Loss = 17.2639\n",
            "     Epoch 15: Train Loss = 0.5752, Val Loss = 14.5634\n",
            "     Epoch 20: Train Loss = 0.5757, Val Loss = 13.2066\n",
            "    ⏹️ Early stopping at epoch 20\n",
            " Run 5 finished with best val loss: 5.6931\n",
            "Original Error Percentage (Test Dataset): 4.1651%\n",
            "Corrected Error Percentage (Test Dataset): 38.4289%\n",
            " Finished configuration H=32, D=0.0, LR=0.0005, B=8 → Avg Val Loss: 3.6684, Avg Accuracy: 32.8933%\n",
            "\n",
            " Running 5/81: H=32, D=0.0, LR=0.0005, B=16\n",
            "   Run 1/5 ...      Epoch 0: Train Loss = 0.5983, Val Loss = 6.8357\n"
          ]
        },
        {
          "output_type": "stream",
          "name": "stderr",
          "text": [
            "<ipython-input-44-b273c6d16a7f>:152: UserWarning: To copy construct from a tensor, it is recommended to use sourceTensor.clone().detach() or sourceTensor.clone().detach().requires_grad_(True), rather than torch.tensor(sourceTensor).\n",
            "  X_scaled_tensor = torch.tensor(combined_X, dtype=torch.float32).unsqueeze(1)\n"
          ]
        },
        {
          "output_type": "stream",
          "name": "stdout",
          "text": [
            "     Epoch 5: Train Loss = 0.5773, Val Loss = 17.8593\n",
            "     Epoch 10: Train Loss = 0.5757, Val Loss = 17.7120\n",
            "     Epoch 15: Train Loss = 0.5749, Val Loss = 18.5087\n",
            "     Epoch 20: Train Loss = 0.5756, Val Loss = 14.9042\n",
            "    ⏹️ Early stopping at epoch 20\n",
            " Run 1 finished with best val loss: 6.8357\n",
            "Original Error Percentage (Test Dataset): 4.1651%\n",
            "Corrected Error Percentage (Test Dataset): 42.7369%\n",
            "   Run 2/5 ...      Epoch 0: Train Loss = 0.5905, Val Loss = 2.7111\n"
          ]
        },
        {
          "output_type": "stream",
          "name": "stderr",
          "text": [
            "<ipython-input-44-b273c6d16a7f>:152: UserWarning: To copy construct from a tensor, it is recommended to use sourceTensor.clone().detach() or sourceTensor.clone().detach().requires_grad_(True), rather than torch.tensor(sourceTensor).\n",
            "  X_scaled_tensor = torch.tensor(combined_X, dtype=torch.float32).unsqueeze(1)\n"
          ]
        },
        {
          "output_type": "stream",
          "name": "stdout",
          "text": [
            "     Epoch 5: Train Loss = 0.5807, Val Loss = 5.8503\n",
            "     Epoch 10: Train Loss = 0.5763, Val Loss = 8.9990\n",
            "     Epoch 15: Train Loss = 0.5755, Val Loss = 10.8875\n",
            "     Epoch 20: Train Loss = 0.5747, Val Loss = 11.0859\n",
            "    ⏹️ Early stopping at epoch 20\n",
            " Run 2 finished with best val loss: 2.7111\n",
            "Original Error Percentage (Test Dataset): 4.1651%\n",
            "Corrected Error Percentage (Test Dataset): 33.2912%\n",
            "   Run 3/5 ...      Epoch 0: Train Loss = 0.5975, Val Loss = 4.5405\n"
          ]
        },
        {
          "output_type": "stream",
          "name": "stderr",
          "text": [
            "<ipython-input-44-b273c6d16a7f>:152: UserWarning: To copy construct from a tensor, it is recommended to use sourceTensor.clone().detach() or sourceTensor.clone().detach().requires_grad_(True), rather than torch.tensor(sourceTensor).\n",
            "  X_scaled_tensor = torch.tensor(combined_X, dtype=torch.float32).unsqueeze(1)\n"
          ]
        },
        {
          "output_type": "stream",
          "name": "stdout",
          "text": [
            "     Epoch 5: Train Loss = 0.5766, Val Loss = 12.4752\n",
            "     Epoch 10: Train Loss = 0.5751, Val Loss = 14.1327\n",
            "     Epoch 15: Train Loss = 0.5750, Val Loss = 14.5267\n",
            "     Epoch 20: Train Loss = 0.5751, Val Loss = 14.4520\n",
            "    ⏹️ Early stopping at epoch 20\n",
            " Run 3 finished with best val loss: 4.5405\n",
            "Original Error Percentage (Test Dataset): 4.1651%\n",
            "Corrected Error Percentage (Test Dataset): 41.9504%\n",
            "   Run 4/5 ...      Epoch 0: Train Loss = 0.6157, Val Loss = 6.9217\n"
          ]
        },
        {
          "output_type": "stream",
          "name": "stderr",
          "text": [
            "<ipython-input-44-b273c6d16a7f>:152: UserWarning: To copy construct from a tensor, it is recommended to use sourceTensor.clone().detach() or sourceTensor.clone().detach().requires_grad_(True), rather than torch.tensor(sourceTensor).\n",
            "  X_scaled_tensor = torch.tensor(combined_X, dtype=torch.float32).unsqueeze(1)\n"
          ]
        },
        {
          "output_type": "stream",
          "name": "stdout",
          "text": [
            "     Epoch 5: Train Loss = 0.5761, Val Loss = 15.8927\n",
            "     Epoch 10: Train Loss = 0.5759, Val Loss = 16.5989\n",
            "     Epoch 15: Train Loss = 0.5759, Val Loss = 14.4404\n",
            "     Epoch 20: Train Loss = 0.5761, Val Loss = 14.4098\n",
            "    ⏹️ Early stopping at epoch 20\n",
            " Run 4 finished with best val loss: 6.9217\n",
            "Original Error Percentage (Test Dataset): 4.1651%\n",
            "Corrected Error Percentage (Test Dataset): 41.2121%\n",
            "   Run 5/5 ...      Epoch 0: Train Loss = 0.5831, Val Loss = 9.4036\n"
          ]
        },
        {
          "output_type": "stream",
          "name": "stderr",
          "text": [
            "<ipython-input-44-b273c6d16a7f>:152: UserWarning: To copy construct from a tensor, it is recommended to use sourceTensor.clone().detach() or sourceTensor.clone().detach().requires_grad_(True), rather than torch.tensor(sourceTensor).\n",
            "  X_scaled_tensor = torch.tensor(combined_X, dtype=torch.float32).unsqueeze(1)\n"
          ]
        },
        {
          "output_type": "stream",
          "name": "stdout",
          "text": [
            "     Epoch 5: Train Loss = 0.5756, Val Loss = 15.3336\n",
            "     Epoch 10: Train Loss = 0.5755, Val Loss = 17.9709\n",
            "     Epoch 15: Train Loss = 0.5747, Val Loss = 16.5568\n",
            "     Epoch 20: Train Loss = 0.5745, Val Loss = 17.2508\n",
            "    ⏹️ Early stopping at epoch 20\n",
            " Run 5 finished with best val loss: 9.4036\n",
            "Original Error Percentage (Test Dataset): 4.1651%\n",
            "Corrected Error Percentage (Test Dataset): 46.9093%\n",
            " Finished configuration H=32, D=0.0, LR=0.0005, B=16 → Avg Val Loss: 6.0825, Avg Accuracy: 41.2200%\n",
            "\n",
            " Running 6/81: H=32, D=0.0, LR=0.0005, B=32\n",
            "   Run 1/5 ...      Epoch 0: Train Loss = 0.6066, Val Loss = 1.8014\n"
          ]
        },
        {
          "output_type": "stream",
          "name": "stderr",
          "text": [
            "<ipython-input-44-b273c6d16a7f>:152: UserWarning: To copy construct from a tensor, it is recommended to use sourceTensor.clone().detach() or sourceTensor.clone().detach().requires_grad_(True), rather than torch.tensor(sourceTensor).\n",
            "  X_scaled_tensor = torch.tensor(combined_X, dtype=torch.float32).unsqueeze(1)\n"
          ]
        },
        {
          "output_type": "stream",
          "name": "stdout",
          "text": [
            "     Epoch 5: Train Loss = 0.5789, Val Loss = 3.4242\n",
            "     Epoch 10: Train Loss = 0.5757, Val Loss = 5.1247\n",
            "     Epoch 15: Train Loss = 0.5746, Val Loss = 6.5339\n",
            "     Epoch 20: Train Loss = 0.5751, Val Loss = 7.1928\n",
            "    ⏹️ Early stopping at epoch 20\n",
            " Run 1 finished with best val loss: 1.8014\n",
            "Original Error Percentage (Test Dataset): 4.1651%\n",
            "Corrected Error Percentage (Test Dataset): 22.0160%\n",
            "   Run 2/5 ...      Epoch 0: Train Loss = 0.6632, Val Loss = 2.1190\n"
          ]
        },
        {
          "output_type": "stream",
          "name": "stderr",
          "text": [
            "<ipython-input-44-b273c6d16a7f>:152: UserWarning: To copy construct from a tensor, it is recommended to use sourceTensor.clone().detach() or sourceTensor.clone().detach().requires_grad_(True), rather than torch.tensor(sourceTensor).\n",
            "  X_scaled_tensor = torch.tensor(combined_X, dtype=torch.float32).unsqueeze(1)\n"
          ]
        },
        {
          "output_type": "stream",
          "name": "stdout",
          "text": [
            "     Epoch 5: Train Loss = 0.5805, Val Loss = 7.1509\n",
            "     Epoch 10: Train Loss = 0.5783, Val Loss = 9.6647\n",
            "     Epoch 15: Train Loss = 0.5776, Val Loss = 11.8014\n",
            "     Epoch 20: Train Loss = 0.5761, Val Loss = 11.7729\n",
            "    ⏹️ Early stopping at epoch 20\n",
            " Run 2 finished with best val loss: 2.1190\n",
            "Original Error Percentage (Test Dataset): 4.1651%\n",
            "Corrected Error Percentage (Test Dataset): 34.4482%\n",
            "   Run 3/5 ...      Epoch 0: Train Loss = 0.6261, Val Loss = 1.7674\n"
          ]
        },
        {
          "output_type": "stream",
          "name": "stderr",
          "text": [
            "<ipython-input-44-b273c6d16a7f>:152: UserWarning: To copy construct from a tensor, it is recommended to use sourceTensor.clone().detach() or sourceTensor.clone().detach().requires_grad_(True), rather than torch.tensor(sourceTensor).\n",
            "  X_scaled_tensor = torch.tensor(combined_X, dtype=torch.float32).unsqueeze(1)\n"
          ]
        },
        {
          "output_type": "stream",
          "name": "stdout",
          "text": [
            "     Epoch 5: Train Loss = 0.5831, Val Loss = 6.0826\n",
            "     Epoch 10: Train Loss = 0.5774, Val Loss = 12.0095\n",
            "     Epoch 15: Train Loss = 0.5761, Val Loss = 13.7558\n",
            "     Epoch 20: Train Loss = 0.5751, Val Loss = 15.7761\n",
            "    ⏹️ Early stopping at epoch 20\n",
            " Run 3 finished with best val loss: 1.7674\n",
            "Original Error Percentage (Test Dataset): 4.1651%\n",
            "Corrected Error Percentage (Test Dataset): 43.5162%\n",
            "   Run 4/5 ...      Epoch 0: Train Loss = 0.6044, Val Loss = 1.8287\n"
          ]
        },
        {
          "output_type": "stream",
          "name": "stderr",
          "text": [
            "<ipython-input-44-b273c6d16a7f>:152: UserWarning: To copy construct from a tensor, it is recommended to use sourceTensor.clone().detach() or sourceTensor.clone().detach().requires_grad_(True), rather than torch.tensor(sourceTensor).\n",
            "  X_scaled_tensor = torch.tensor(combined_X, dtype=torch.float32).unsqueeze(1)\n"
          ]
        },
        {
          "output_type": "stream",
          "name": "stdout",
          "text": [
            "     Epoch 5: Train Loss = 0.5807, Val Loss = 4.6011\n",
            "     Epoch 10: Train Loss = 0.5768, Val Loss = 6.6612\n",
            "     Epoch 15: Train Loss = 0.5753, Val Loss = 8.6747\n",
            "     Epoch 20: Train Loss = 0.5752, Val Loss = 9.6396\n",
            "    ⏹️ Early stopping at epoch 20\n",
            " Run 4 finished with best val loss: 1.8287\n",
            "Original Error Percentage (Test Dataset): 4.1651%\n",
            "Corrected Error Percentage (Test Dataset): 29.9548%\n",
            "   Run 5/5 ...      Epoch 0: Train Loss = 0.6117, Val Loss = 1.7354\n"
          ]
        },
        {
          "output_type": "stream",
          "name": "stderr",
          "text": [
            "<ipython-input-44-b273c6d16a7f>:152: UserWarning: To copy construct from a tensor, it is recommended to use sourceTensor.clone().detach() or sourceTensor.clone().detach().requires_grad_(True), rather than torch.tensor(sourceTensor).\n",
            "  X_scaled_tensor = torch.tensor(combined_X, dtype=torch.float32).unsqueeze(1)\n"
          ]
        },
        {
          "output_type": "stream",
          "name": "stdout",
          "text": [
            "     Epoch 5: Train Loss = 0.5857, Val Loss = 4.0944\n",
            "     Epoch 10: Train Loss = 0.5777, Val Loss = 8.1273\n",
            "     Epoch 15: Train Loss = 0.5755, Val Loss = 11.8382\n",
            "     Epoch 20: Train Loss = 0.5742, Val Loss = 12.6700\n",
            "    ⏹️ Early stopping at epoch 20\n",
            " Run 5 finished with best val loss: 1.7354\n",
            "Original Error Percentage (Test Dataset): 4.1651%\n",
            "Corrected Error Percentage (Test Dataset): 37.4021%\n",
            " Finished configuration H=32, D=0.0, LR=0.0005, B=32 → Avg Val Loss: 1.8504, Avg Accuracy: 33.4675%\n",
            "\n",
            " Running 7/81: H=32, D=0.0, LR=0.001, B=8\n",
            "   Run 1/5 ... "
          ]
        },
        {
          "output_type": "stream",
          "name": "stderr",
          "text": [
            "<ipython-input-44-b273c6d16a7f>:152: UserWarning: To copy construct from a tensor, it is recommended to use sourceTensor.clone().detach() or sourceTensor.clone().detach().requires_grad_(True), rather than torch.tensor(sourceTensor).\n",
            "  X_scaled_tensor = torch.tensor(combined_X, dtype=torch.float32).unsqueeze(1)\n"
          ]
        },
        {
          "output_type": "stream",
          "name": "stdout",
          "text": [
            "     Epoch 0: Train Loss = 0.5808, Val Loss = 5.3513\n",
            "     Epoch 5: Train Loss = 0.5781, Val Loss = 10.2247\n",
            "     Epoch 10: Train Loss = 0.5769, Val Loss = 11.7747\n",
            "     Epoch 15: Train Loss = 0.5760, Val Loss = 11.6693\n",
            "     Epoch 20: Train Loss = 0.5764, Val Loss = 15.4789\n",
            "    ⏹️ Early stopping at epoch 20\n",
            " Run 1 finished with best val loss: 5.3513\n",
            "Original Error Percentage (Test Dataset): 4.1651%\n",
            "Corrected Error Percentage (Test Dataset): 41.8386%\n",
            "   Run 2/5 ...      Epoch 0: Train Loss = 0.5944, Val Loss = 3.5838\n"
          ]
        },
        {
          "output_type": "stream",
          "name": "stderr",
          "text": [
            "<ipython-input-44-b273c6d16a7f>:152: UserWarning: To copy construct from a tensor, it is recommended to use sourceTensor.clone().detach() or sourceTensor.clone().detach().requires_grad_(True), rather than torch.tensor(sourceTensor).\n",
            "  X_scaled_tensor = torch.tensor(combined_X, dtype=torch.float32).unsqueeze(1)\n"
          ]
        },
        {
          "output_type": "stream",
          "name": "stdout",
          "text": [
            "     Epoch 5: Train Loss = 0.5782, Val Loss = 11.5649\n",
            "     Epoch 10: Train Loss = 0.5764, Val Loss = 10.5079\n",
            "     Epoch 15: Train Loss = 0.5775, Val Loss = 10.8071\n",
            "     Epoch 20: Train Loss = 0.5762, Val Loss = 8.7345\n",
            "    ⏹️ Early stopping at epoch 20\n",
            " Run 2 finished with best val loss: 3.5838\n",
            "Original Error Percentage (Test Dataset): 4.1651%\n",
            "Corrected Error Percentage (Test Dataset): 27.1948%\n",
            "   Run 3/5 ...      Epoch 0: Train Loss = 0.5844, Val Loss = 10.6902\n"
          ]
        },
        {
          "output_type": "stream",
          "name": "stderr",
          "text": [
            "<ipython-input-44-b273c6d16a7f>:152: UserWarning: To copy construct from a tensor, it is recommended to use sourceTensor.clone().detach() or sourceTensor.clone().detach().requires_grad_(True), rather than torch.tensor(sourceTensor).\n",
            "  X_scaled_tensor = torch.tensor(combined_X, dtype=torch.float32).unsqueeze(1)\n"
          ]
        },
        {
          "output_type": "stream",
          "name": "stdout",
          "text": [
            "     Epoch 5: Train Loss = 0.5741, Val Loss = 10.3502\n",
            "     Epoch 10: Train Loss = 0.5764, Val Loss = 14.4090\n",
            "     Epoch 15: Train Loss = 0.5757, Val Loss = 13.1823\n",
            "     Epoch 20: Train Loss = 0.5764, Val Loss = 11.8699\n",
            "     Epoch 25: Train Loss = 0.5751, Val Loss = 13.8710\n",
            "    ⏹️ Early stopping at epoch 27\n",
            " Run 3 finished with best val loss: 9.8229\n",
            "Original Error Percentage (Test Dataset): 4.1651%\n",
            "Corrected Error Percentage (Test Dataset): 44.6744%\n",
            "   Run 4/5 ... "
          ]
        },
        {
          "output_type": "stream",
          "name": "stderr",
          "text": [
            "<ipython-input-44-b273c6d16a7f>:152: UserWarning: To copy construct from a tensor, it is recommended to use sourceTensor.clone().detach() or sourceTensor.clone().detach().requires_grad_(True), rather than torch.tensor(sourceTensor).\n",
            "  X_scaled_tensor = torch.tensor(combined_X, dtype=torch.float32).unsqueeze(1)\n"
          ]
        },
        {
          "output_type": "stream",
          "name": "stdout",
          "text": [
            "     Epoch 0: Train Loss = 0.5817, Val Loss = 18.4910\n",
            "     Epoch 5: Train Loss = 0.5780, Val Loss = 15.6543\n",
            "     Epoch 10: Train Loss = 0.5773, Val Loss = 13.7382\n",
            "     Epoch 15: Train Loss = 0.5784, Val Loss = 17.8098\n",
            "     Epoch 20: Train Loss = 0.5765, Val Loss = 17.0874\n",
            "     Epoch 25: Train Loss = 0.5739, Val Loss = 11.9397\n",
            "     Epoch 30: Train Loss = 0.5756, Val Loss = 12.6348\n",
            "    ⏹️ Early stopping at epoch 32\n",
            " Run 4 finished with best val loss: 11.3070\n",
            "Original Error Percentage (Test Dataset): 4.1651%\n",
            "Corrected Error Percentage (Test Dataset): 40.5736%\n",
            "   Run 5/5 ... "
          ]
        },
        {
          "output_type": "stream",
          "name": "stderr",
          "text": [
            "<ipython-input-44-b273c6d16a7f>:152: UserWarning: To copy construct from a tensor, it is recommended to use sourceTensor.clone().detach() or sourceTensor.clone().detach().requires_grad_(True), rather than torch.tensor(sourceTensor).\n",
            "  X_scaled_tensor = torch.tensor(combined_X, dtype=torch.float32).unsqueeze(1)\n"
          ]
        },
        {
          "output_type": "stream",
          "name": "stdout",
          "text": [
            "     Epoch 0: Train Loss = 0.6008, Val Loss = 7.9425\n",
            "     Epoch 5: Train Loss = 0.5795, Val Loss = 13.3201\n",
            "     Epoch 10: Train Loss = 0.5779, Val Loss = 12.9937\n",
            "     Epoch 15: Train Loss = 0.5777, Val Loss = 12.0603\n",
            "     Epoch 20: Train Loss = 0.5774, Val Loss = 14.0321\n",
            "    ⏹️ Early stopping at epoch 20\n",
            " Run 5 finished with best val loss: 7.9425\n",
            "Original Error Percentage (Test Dataset): 4.1651%\n",
            "Corrected Error Percentage (Test Dataset): 39.8551%\n",
            " Finished configuration H=32, D=0.0, LR=0.001, B=8 → Avg Val Loss: 7.6015, Avg Accuracy: 38.8273%\n",
            "\n",
            " Running 8/81: H=32, D=0.0, LR=0.001, B=16\n",
            "   Run 1/5 ...      Epoch 0: Train Loss = 0.6127, Val Loss = 2.6087\n"
          ]
        },
        {
          "output_type": "stream",
          "name": "stderr",
          "text": [
            "<ipython-input-44-b273c6d16a7f>:152: UserWarning: To copy construct from a tensor, it is recommended to use sourceTensor.clone().detach() or sourceTensor.clone().detach().requires_grad_(True), rather than torch.tensor(sourceTensor).\n",
            "  X_scaled_tensor = torch.tensor(combined_X, dtype=torch.float32).unsqueeze(1)\n"
          ]
        },
        {
          "output_type": "stream",
          "name": "stdout",
          "text": [
            "     Epoch 5: Train Loss = 0.5765, Val Loss = 11.5327\n",
            "     Epoch 10: Train Loss = 0.5760, Val Loss = 12.1770\n",
            "     Epoch 15: Train Loss = 0.5753, Val Loss = 11.9248\n",
            "     Epoch 20: Train Loss = 0.5760, Val Loss = 13.4056\n",
            "    ⏹️ Early stopping at epoch 20\n",
            " Run 1 finished with best val loss: 2.6087\n",
            "Original Error Percentage (Test Dataset): 4.1651%\n",
            "Corrected Error Percentage (Test Dataset): 38.3579%\n",
            "   Run 2/5 ...      Epoch 0: Train Loss = 0.6040, Val Loss = 2.8126\n"
          ]
        },
        {
          "output_type": "stream",
          "name": "stderr",
          "text": [
            "<ipython-input-44-b273c6d16a7f>:152: UserWarning: To copy construct from a tensor, it is recommended to use sourceTensor.clone().detach() or sourceTensor.clone().detach().requires_grad_(True), rather than torch.tensor(sourceTensor).\n",
            "  X_scaled_tensor = torch.tensor(combined_X, dtype=torch.float32).unsqueeze(1)\n"
          ]
        },
        {
          "output_type": "stream",
          "name": "stdout",
          "text": [
            "     Epoch 5: Train Loss = 0.5753, Val Loss = 9.9282\n",
            "     Epoch 10: Train Loss = 0.5751, Val Loss = 12.6136\n",
            "     Epoch 15: Train Loss = 0.5772, Val Loss = 11.2892\n",
            "     Epoch 20: Train Loss = 0.5754, Val Loss = 13.2641\n",
            "    ⏹️ Early stopping at epoch 20\n",
            " Run 2 finished with best val loss: 2.8126\n",
            "Original Error Percentage (Test Dataset): 4.1651%\n",
            "Corrected Error Percentage (Test Dataset): 37.8658%\n",
            "   Run 3/5 ...      Epoch 0: Train Loss = 0.6113, Val Loss = 3.1959\n"
          ]
        },
        {
          "output_type": "stream",
          "name": "stderr",
          "text": [
            "<ipython-input-44-b273c6d16a7f>:152: UserWarning: To copy construct from a tensor, it is recommended to use sourceTensor.clone().detach() or sourceTensor.clone().detach().requires_grad_(True), rather than torch.tensor(sourceTensor).\n",
            "  X_scaled_tensor = torch.tensor(combined_X, dtype=torch.float32).unsqueeze(1)\n"
          ]
        },
        {
          "output_type": "stream",
          "name": "stdout",
          "text": [
            "     Epoch 5: Train Loss = 0.5777, Val Loss = 14.0022\n",
            "     Epoch 10: Train Loss = 0.5748, Val Loss = 14.6585\n",
            "     Epoch 15: Train Loss = 0.5751, Val Loss = 14.7142\n",
            "     Epoch 20: Train Loss = 0.5758, Val Loss = 15.1521\n",
            "    ⏹️ Early stopping at epoch 20\n",
            " Run 3 finished with best val loss: 3.1959\n",
            "Original Error Percentage (Test Dataset): 4.1651%\n",
            "Corrected Error Percentage (Test Dataset): 42.8154%\n",
            "   Run 4/5 ...      Epoch 0: Train Loss = 0.5979, Val Loss = 3.9088\n"
          ]
        },
        {
          "output_type": "stream",
          "name": "stderr",
          "text": [
            "<ipython-input-44-b273c6d16a7f>:152: UserWarning: To copy construct from a tensor, it is recommended to use sourceTensor.clone().detach() or sourceTensor.clone().detach().requires_grad_(True), rather than torch.tensor(sourceTensor).\n",
            "  X_scaled_tensor = torch.tensor(combined_X, dtype=torch.float32).unsqueeze(1)\n"
          ]
        },
        {
          "output_type": "stream",
          "name": "stdout",
          "text": [
            "     Epoch 5: Train Loss = 0.5771, Val Loss = 8.5695\n",
            "     Epoch 10: Train Loss = 0.5784, Val Loss = 9.0657\n",
            "     Epoch 15: Train Loss = 0.5773, Val Loss = 9.3926\n",
            "     Epoch 20: Train Loss = 0.5772, Val Loss = 9.6772\n",
            "    ⏹️ Early stopping at epoch 20\n",
            " Run 4 finished with best val loss: 3.9088\n",
            "Original Error Percentage (Test Dataset): 4.1651%\n",
            "Corrected Error Percentage (Test Dataset): 28.4889%\n",
            "   Run 5/5 ...      Epoch 0: Train Loss = 0.6028, Val Loss = 3.8058\n"
          ]
        },
        {
          "output_type": "stream",
          "name": "stderr",
          "text": [
            "<ipython-input-44-b273c6d16a7f>:152: UserWarning: To copy construct from a tensor, it is recommended to use sourceTensor.clone().detach() or sourceTensor.clone().detach().requires_grad_(True), rather than torch.tensor(sourceTensor).\n",
            "  X_scaled_tensor = torch.tensor(combined_X, dtype=torch.float32).unsqueeze(1)\n"
          ]
        },
        {
          "output_type": "stream",
          "name": "stdout",
          "text": [
            "     Epoch 5: Train Loss = 0.5789, Val Loss = 14.3507\n",
            "     Epoch 10: Train Loss = 0.5772, Val Loss = 12.8573\n",
            "     Epoch 15: Train Loss = 0.5755, Val Loss = 13.4245\n",
            "     Epoch 20: Train Loss = 0.5768, Val Loss = 15.9289\n",
            "    ⏹️ Early stopping at epoch 20\n",
            " Run 5 finished with best val loss: 3.8058\n",
            "Original Error Percentage (Test Dataset): 4.1651%\n",
            "Corrected Error Percentage (Test Dataset): 44.5300%\n",
            " Finished configuration H=32, D=0.0, LR=0.001, B=16 → Avg Val Loss: 3.2664, Avg Accuracy: 38.4116%\n",
            "\n",
            " Running 9/81: H=32, D=0.0, LR=0.001, B=32\n",
            "   Run 1/5 ...      Epoch 0: Train Loss = 0.5884, Val Loss = 5.9508\n"
          ]
        },
        {
          "output_type": "stream",
          "name": "stderr",
          "text": [
            "<ipython-input-44-b273c6d16a7f>:152: UserWarning: To copy construct from a tensor, it is recommended to use sourceTensor.clone().detach() or sourceTensor.clone().detach().requires_grad_(True), rather than torch.tensor(sourceTensor).\n",
            "  X_scaled_tensor = torch.tensor(combined_X, dtype=torch.float32).unsqueeze(1)\n"
          ]
        },
        {
          "output_type": "stream",
          "name": "stdout",
          "text": [
            "     Epoch 5: Train Loss = 0.5757, Val Loss = 9.5845\n",
            "     Epoch 10: Train Loss = 0.5750, Val Loss = 11.1632\n",
            "     Epoch 15: Train Loss = 0.5747, Val Loss = 11.8699\n",
            "     Epoch 20: Train Loss = 0.5740, Val Loss = 12.0781\n",
            "    ⏹️ Early stopping at epoch 20\n",
            " Run 1 finished with best val loss: 5.9508\n",
            "Original Error Percentage (Test Dataset): 4.1651%\n",
            "Corrected Error Percentage (Test Dataset): 35.9323%\n",
            "   Run 2/5 ...      Epoch 0: Train Loss = 0.5966, Val Loss = 7.1339\n"
          ]
        },
        {
          "output_type": "stream",
          "name": "stderr",
          "text": [
            "<ipython-input-44-b273c6d16a7f>:152: UserWarning: To copy construct from a tensor, it is recommended to use sourceTensor.clone().detach() or sourceTensor.clone().detach().requires_grad_(True), rather than torch.tensor(sourceTensor).\n",
            "  X_scaled_tensor = torch.tensor(combined_X, dtype=torch.float32).unsqueeze(1)\n"
          ]
        },
        {
          "output_type": "stream",
          "name": "stdout",
          "text": [
            "     Epoch 5: Train Loss = 0.5764, Val Loss = 17.0971\n",
            "     Epoch 10: Train Loss = 0.5754, Val Loss = 15.4187\n",
            "     Epoch 15: Train Loss = 0.5746, Val Loss = 14.3709\n",
            "     Epoch 20: Train Loss = 0.5743, Val Loss = 14.2082\n",
            "    ⏹️ Early stopping at epoch 20\n",
            " Run 2 finished with best val loss: 7.1339\n",
            "Original Error Percentage (Test Dataset): 4.1651%\n",
            "Corrected Error Percentage (Test Dataset): 40.5250%\n",
            "   Run 3/5 ...      Epoch 0: Train Loss = 0.6703, Val Loss = 1.7634\n"
          ]
        },
        {
          "output_type": "stream",
          "name": "stderr",
          "text": [
            "<ipython-input-44-b273c6d16a7f>:152: UserWarning: To copy construct from a tensor, it is recommended to use sourceTensor.clone().detach() or sourceTensor.clone().detach().requires_grad_(True), rather than torch.tensor(sourceTensor).\n",
            "  X_scaled_tensor = torch.tensor(combined_X, dtype=torch.float32).unsqueeze(1)\n"
          ]
        },
        {
          "output_type": "stream",
          "name": "stdout",
          "text": [
            "     Epoch 5: Train Loss = 0.5775, Val Loss = 9.4401\n",
            "     Epoch 10: Train Loss = 0.5764, Val Loss = 10.2083\n",
            "     Epoch 15: Train Loss = 0.5762, Val Loss = 11.5845\n",
            "     Epoch 20: Train Loss = 0.5767, Val Loss = 11.6707\n",
            "    ⏹️ Early stopping at epoch 20\n",
            " Run 3 finished with best val loss: 1.7634\n",
            "Original Error Percentage (Test Dataset): 4.1651%\n",
            "Corrected Error Percentage (Test Dataset): 33.8598%\n",
            "   Run 4/5 ...      Epoch 0: Train Loss = 0.5900, Val Loss = 5.7246\n"
          ]
        },
        {
          "output_type": "stream",
          "name": "stderr",
          "text": [
            "<ipython-input-44-b273c6d16a7f>:152: UserWarning: To copy construct from a tensor, it is recommended to use sourceTensor.clone().detach() or sourceTensor.clone().detach().requires_grad_(True), rather than torch.tensor(sourceTensor).\n",
            "  X_scaled_tensor = torch.tensor(combined_X, dtype=torch.float32).unsqueeze(1)\n"
          ]
        },
        {
          "output_type": "stream",
          "name": "stdout",
          "text": [
            "     Epoch 5: Train Loss = 0.5773, Val Loss = 16.3171\n",
            "     Epoch 10: Train Loss = 0.5770, Val Loss = 17.5797\n",
            "     Epoch 15: Train Loss = 0.5764, Val Loss = 17.5385\n",
            "     Epoch 20: Train Loss = 0.5765, Val Loss = 15.7641\n",
            "    ⏹️ Early stopping at epoch 20\n",
            " Run 4 finished with best val loss: 5.7246\n",
            "Original Error Percentage (Test Dataset): 4.1651%\n",
            "Corrected Error Percentage (Test Dataset): 44.3490%\n",
            "   Run 5/5 ...      Epoch 0: Train Loss = 0.5975, Val Loss = 4.8181\n"
          ]
        },
        {
          "output_type": "stream",
          "name": "stderr",
          "text": [
            "<ipython-input-44-b273c6d16a7f>:152: UserWarning: To copy construct from a tensor, it is recommended to use sourceTensor.clone().detach() or sourceTensor.clone().detach().requires_grad_(True), rather than torch.tensor(sourceTensor).\n",
            "  X_scaled_tensor = torch.tensor(combined_X, dtype=torch.float32).unsqueeze(1)\n"
          ]
        },
        {
          "output_type": "stream",
          "name": "stdout",
          "text": [
            "     Epoch 5: Train Loss = 0.5764, Val Loss = 11.8942\n",
            "     Epoch 10: Train Loss = 0.5764, Val Loss = 14.3342\n",
            "     Epoch 15: Train Loss = 0.5777, Val Loss = 13.5171\n",
            "     Epoch 20: Train Loss = 0.5744, Val Loss = 12.9315\n",
            "    ⏹️ Early stopping at epoch 20\n",
            " Run 5 finished with best val loss: 4.8181\n",
            "Original Error Percentage (Test Dataset): 4.1651%\n",
            "Corrected Error Percentage (Test Dataset): 37.5113%\n",
            " Finished configuration H=32, D=0.0, LR=0.001, B=32 → Avg Val Loss: 5.0782, Avg Accuracy: 38.4355%\n",
            "\n",
            " Running 10/81: H=32, D=0.1, LR=0.0001, B=8\n",
            "   Run 1/5 ... "
          ]
        },
        {
          "output_type": "stream",
          "name": "stderr",
          "text": [
            "<ipython-input-44-b273c6d16a7f>:152: UserWarning: To copy construct from a tensor, it is recommended to use sourceTensor.clone().detach() or sourceTensor.clone().detach().requires_grad_(True), rather than torch.tensor(sourceTensor).\n",
            "  X_scaled_tensor = torch.tensor(combined_X, dtype=torch.float32).unsqueeze(1)\n"
          ]
        },
        {
          "output_type": "stream",
          "name": "stdout",
          "text": [
            "     Epoch 0: Train Loss = 0.6360, Val Loss = 3.9740\n",
            "     Epoch 5: Train Loss = 0.5908, Val Loss = 3.1349\n",
            "     Epoch 10: Train Loss = 0.5867, Val Loss = 4.1064\n",
            "     Epoch 15: Train Loss = 0.5834, Val Loss = 5.6732\n",
            "     Epoch 20: Train Loss = 0.5778, Val Loss = 6.7110\n",
            "    ⏹️ Early stopping at epoch 24\n",
            " Run 1 finished with best val loss: 3.0214\n",
            "Original Error Percentage (Test Dataset): 4.1651%\n",
            "Corrected Error Percentage (Test Dataset): 23.1499%\n",
            "   Run 2/5 ... "
          ]
        },
        {
          "output_type": "stream",
          "name": "stderr",
          "text": [
            "<ipython-input-44-b273c6d16a7f>:152: UserWarning: To copy construct from a tensor, it is recommended to use sourceTensor.clone().detach() or sourceTensor.clone().detach().requires_grad_(True), rather than torch.tensor(sourceTensor).\n",
            "  X_scaled_tensor = torch.tensor(combined_X, dtype=torch.float32).unsqueeze(1)\n"
          ]
        },
        {
          "output_type": "stream",
          "name": "stdout",
          "text": [
            "     Epoch 0: Train Loss = 0.6992, Val Loss = 4.6149\n",
            "     Epoch 5: Train Loss = 0.5938, Val Loss = 4.6454\n",
            "     Epoch 10: Train Loss = 0.5813, Val Loss = 7.3269\n",
            "     Epoch 15: Train Loss = 0.5884, Val Loss = 9.4050\n",
            "     Epoch 20: Train Loss = 0.5775, Val Loss = 11.0674\n",
            "    ⏹️ Early stopping at epoch 22\n",
            " Run 2 finished with best val loss: 3.4241\n",
            "Original Error Percentage (Test Dataset): 4.1651%\n",
            "Corrected Error Percentage (Test Dataset): 34.2382%\n",
            "   Run 3/5 ... "
          ]
        },
        {
          "output_type": "stream",
          "name": "stderr",
          "text": [
            "<ipython-input-44-b273c6d16a7f>:152: UserWarning: To copy construct from a tensor, it is recommended to use sourceTensor.clone().detach() or sourceTensor.clone().detach().requires_grad_(True), rather than torch.tensor(sourceTensor).\n",
            "  X_scaled_tensor = torch.tensor(combined_X, dtype=torch.float32).unsqueeze(1)\n"
          ]
        },
        {
          "output_type": "stream",
          "name": "stdout",
          "text": [
            "     Epoch 0: Train Loss = 0.6526, Val Loss = 6.5543\n",
            "     Epoch 5: Train Loss = 0.5972, Val Loss = 4.7765\n",
            "     Epoch 10: Train Loss = 0.5892, Val Loss = 7.3390\n",
            "     Epoch 15: Train Loss = 0.5877, Val Loss = 9.1581\n",
            "     Epoch 20: Train Loss = 0.5842, Val Loss = 11.3532\n",
            "    ⏹️ Early stopping at epoch 24\n",
            " Run 3 finished with best val loss: 4.1819\n",
            "Original Error Percentage (Test Dataset): 4.1651%\n",
            "Corrected Error Percentage (Test Dataset): 35.3411%\n",
            "   Run 4/5 ... "
          ]
        },
        {
          "output_type": "stream",
          "name": "stderr",
          "text": [
            "<ipython-input-44-b273c6d16a7f>:152: UserWarning: To copy construct from a tensor, it is recommended to use sourceTensor.clone().detach() or sourceTensor.clone().detach().requires_grad_(True), rather than torch.tensor(sourceTensor).\n",
            "  X_scaled_tensor = torch.tensor(combined_X, dtype=torch.float32).unsqueeze(1)\n"
          ]
        },
        {
          "output_type": "stream",
          "name": "stdout",
          "text": [
            "     Epoch 0: Train Loss = 0.8492, Val Loss = 2.8953\n",
            "     Epoch 5: Train Loss = 0.6120, Val Loss = 2.1081\n",
            "     Epoch 10: Train Loss = 0.5956, Val Loss = 2.4595\n",
            "     Epoch 15: Train Loss = 0.5925, Val Loss = 3.1862\n",
            "     Epoch 20: Train Loss = 0.5933, Val Loss = 3.8634\n",
            "     Epoch 25: Train Loss = 0.5923, Val Loss = 4.6013\n",
            "    ⏹️ Early stopping at epoch 25\n",
            " Run 4 finished with best val loss: 2.1081\n",
            "Original Error Percentage (Test Dataset): 4.1651%\n",
            "Corrected Error Percentage (Test Dataset): 13.8053%\n",
            "   Run 5/5 ... "
          ]
        },
        {
          "output_type": "stream",
          "name": "stderr",
          "text": [
            "<ipython-input-44-b273c6d16a7f>:152: UserWarning: To copy construct from a tensor, it is recommended to use sourceTensor.clone().detach() or sourceTensor.clone().detach().requires_grad_(True), rather than torch.tensor(sourceTensor).\n",
            "  X_scaled_tensor = torch.tensor(combined_X, dtype=torch.float32).unsqueeze(1)\n"
          ]
        },
        {
          "output_type": "stream",
          "name": "stdout",
          "text": [
            "     Epoch 0: Train Loss = 0.6125, Val Loss = 1.9598\n",
            "     Epoch 5: Train Loss = 0.5934, Val Loss = 2.4798\n",
            "     Epoch 10: Train Loss = 0.5860, Val Loss = 3.1868\n",
            "     Epoch 15: Train Loss = 0.5817, Val Loss = 4.2648\n",
            "     Epoch 20: Train Loss = 0.5777, Val Loss = 5.3653\n",
            "    ⏹️ Early stopping at epoch 20\n",
            " Run 5 finished with best val loss: 1.9598\n",
            "Original Error Percentage (Test Dataset): 4.1651%\n",
            "Corrected Error Percentage (Test Dataset): 17.3035%\n",
            " Finished configuration H=32, D=0.1, LR=0.0001, B=8 → Avg Val Loss: 2.9391, Avg Accuracy: 24.7676%\n",
            "\n",
            " Running 11/81: H=32, D=0.1, LR=0.0001, B=16\n",
            "   Run 1/5 ...      Epoch 0: Train Loss = 0.6939, Val Loss = 3.5375\n"
          ]
        },
        {
          "output_type": "stream",
          "name": "stderr",
          "text": [
            "<ipython-input-44-b273c6d16a7f>:152: UserWarning: To copy construct from a tensor, it is recommended to use sourceTensor.clone().detach() or sourceTensor.clone().detach().requires_grad_(True), rather than torch.tensor(sourceTensor).\n",
            "  X_scaled_tensor = torch.tensor(combined_X, dtype=torch.float32).unsqueeze(1)\n"
          ]
        },
        {
          "output_type": "stream",
          "name": "stdout",
          "text": [
            "     Epoch 5: Train Loss = 0.6201, Val Loss = 2.1477\n",
            "     Epoch 10: Train Loss = 0.6051, Val Loss = 1.8256\n",
            "     Epoch 15: Train Loss = 0.5923, Val Loss = 2.5753\n",
            "     Epoch 20: Train Loss = 0.5967, Val Loss = 3.5578\n",
            "     Epoch 25: Train Loss = 0.5874, Val Loss = 4.6723\n",
            "    ⏹️ Early stopping at epoch 28\n",
            " Run 1 finished with best val loss: 1.7707\n",
            "Original Error Percentage (Test Dataset): 4.1651%\n",
            "Corrected Error Percentage (Test Dataset): 15.2643%\n",
            "   Run 2/5 ...      Epoch 0: Train Loss = 0.6624, Val Loss = 2.5204\n"
          ]
        },
        {
          "output_type": "stream",
          "name": "stderr",
          "text": [
            "<ipython-input-44-b273c6d16a7f>:152: UserWarning: To copy construct from a tensor, it is recommended to use sourceTensor.clone().detach() or sourceTensor.clone().detach().requires_grad_(True), rather than torch.tensor(sourceTensor).\n",
            "  X_scaled_tensor = torch.tensor(combined_X, dtype=torch.float32).unsqueeze(1)\n"
          ]
        },
        {
          "output_type": "stream",
          "name": "stdout",
          "text": [
            "     Epoch 5: Train Loss = 0.5900, Val Loss = 3.7154\n",
            "     Epoch 10: Train Loss = 0.5852, Val Loss = 5.5236\n",
            "     Epoch 15: Train Loss = 0.5832, Val Loss = 6.7795\n",
            "     Epoch 20: Train Loss = 0.5842, Val Loss = 7.7373\n",
            "    ⏹️ Early stopping at epoch 20\n",
            " Run 2 finished with best val loss: 2.5204\n",
            "Original Error Percentage (Test Dataset): 4.1651%\n",
            "Corrected Error Percentage (Test Dataset): 25.2477%\n",
            "   Run 3/5 ...      Epoch 0: Train Loss = 0.5905, Val Loss = 2.9180\n"
          ]
        },
        {
          "output_type": "stream",
          "name": "stderr",
          "text": [
            "<ipython-input-44-b273c6d16a7f>:152: UserWarning: To copy construct from a tensor, it is recommended to use sourceTensor.clone().detach() or sourceTensor.clone().detach().requires_grad_(True), rather than torch.tensor(sourceTensor).\n",
            "  X_scaled_tensor = torch.tensor(combined_X, dtype=torch.float32).unsqueeze(1)\n"
          ]
        },
        {
          "output_type": "stream",
          "name": "stdout",
          "text": [
            "     Epoch 5: Train Loss = 0.5857, Val Loss = 3.8427\n",
            "     Epoch 10: Train Loss = 0.5830, Val Loss = 4.9882\n",
            "     Epoch 15: Train Loss = 0.5840, Val Loss = 6.2535\n",
            "     Epoch 20: Train Loss = 0.5810, Val Loss = 7.3675\n",
            "    ⏹️ Early stopping at epoch 20\n",
            " Run 3 finished with best val loss: 2.9180\n",
            "Original Error Percentage (Test Dataset): 4.1651%\n",
            "Corrected Error Percentage (Test Dataset): 24.4321%\n",
            "   Run 4/5 ...      Epoch 0: Train Loss = 0.6106, Val Loss = 2.2929\n"
          ]
        },
        {
          "output_type": "stream",
          "name": "stderr",
          "text": [
            "<ipython-input-44-b273c6d16a7f>:152: UserWarning: To copy construct from a tensor, it is recommended to use sourceTensor.clone().detach() or sourceTensor.clone().detach().requires_grad_(True), rather than torch.tensor(sourceTensor).\n",
            "  X_scaled_tensor = torch.tensor(combined_X, dtype=torch.float32).unsqueeze(1)\n"
          ]
        },
        {
          "output_type": "stream",
          "name": "stdout",
          "text": [
            "     Epoch 5: Train Loss = 0.5882, Val Loss = 3.1336\n",
            "     Epoch 10: Train Loss = 0.5827, Val Loss = 4.6541\n",
            "     Epoch 15: Train Loss = 0.5841, Val Loss = 5.9290\n",
            "     Epoch 20: Train Loss = 0.5819, Val Loss = 7.1165\n",
            "    ⏹️ Early stopping at epoch 20\n",
            " Run 4 finished with best val loss: 2.2929\n",
            "Original Error Percentage (Test Dataset): 4.1651%\n",
            "Corrected Error Percentage (Test Dataset): 22.6621%\n",
            "   Run 5/5 ...      Epoch 0: Train Loss = 0.6241, Val Loss = 3.0528\n"
          ]
        },
        {
          "output_type": "stream",
          "name": "stderr",
          "text": [
            "<ipython-input-44-b273c6d16a7f>:152: UserWarning: To copy construct from a tensor, it is recommended to use sourceTensor.clone().detach() or sourceTensor.clone().detach().requires_grad_(True), rather than torch.tensor(sourceTensor).\n",
            "  X_scaled_tensor = torch.tensor(combined_X, dtype=torch.float32).unsqueeze(1)\n"
          ]
        },
        {
          "output_type": "stream",
          "name": "stdout",
          "text": [
            "     Epoch 5: Train Loss = 0.5955, Val Loss = 2.7640\n",
            "     Epoch 10: Train Loss = 0.5882, Val Loss = 3.4613\n",
            "     Epoch 15: Train Loss = 0.5823, Val Loss = 4.2710\n",
            "     Epoch 20: Train Loss = 0.5847, Val Loss = 5.1356\n",
            "    ⏹️ Early stopping at epoch 23\n",
            " Run 5 finished with best val loss: 2.7153\n",
            "Original Error Percentage (Test Dataset): 4.1651%\n",
            "Corrected Error Percentage (Test Dataset): 16.3915%\n",
            " Finished configuration H=32, D=0.1, LR=0.0001, B=16 → Avg Val Loss: 2.4435, Avg Accuracy: 20.7996%\n",
            "\n",
            " Running 12/81: H=32, D=0.1, LR=0.0001, B=32\n",
            "   Run 1/5 ...      Epoch 0: Train Loss = 0.5972, Val Loss = 3.3950\n"
          ]
        },
        {
          "output_type": "stream",
          "name": "stderr",
          "text": [
            "<ipython-input-44-b273c6d16a7f>:152: UserWarning: To copy construct from a tensor, it is recommended to use sourceTensor.clone().detach() or sourceTensor.clone().detach().requires_grad_(True), rather than torch.tensor(sourceTensor).\n",
            "  X_scaled_tensor = torch.tensor(combined_X, dtype=torch.float32).unsqueeze(1)\n"
          ]
        },
        {
          "output_type": "stream",
          "name": "stdout",
          "text": [
            "     Epoch 5: Train Loss = 0.5907, Val Loss = 6.5491\n",
            "     Epoch 10: Train Loss = 0.5831, Val Loss = 8.2563\n",
            "     Epoch 15: Train Loss = 0.5837, Val Loss = 9.7463\n",
            "     Epoch 20: Train Loss = 0.5806, Val Loss = 11.0643\n",
            "    ⏹️ Early stopping at epoch 20\n",
            " Run 1 finished with best val loss: 3.3950\n",
            "Original Error Percentage (Test Dataset): 4.1651%\n",
            "Corrected Error Percentage (Test Dataset): 34.3982%\n",
            "   Run 2/5 ...      Epoch 0: Train Loss = 0.5896, Val Loss = 3.9889\n"
          ]
        },
        {
          "output_type": "stream",
          "name": "stderr",
          "text": [
            "<ipython-input-44-b273c6d16a7f>:152: UserWarning: To copy construct from a tensor, it is recommended to use sourceTensor.clone().detach() or sourceTensor.clone().detach().requires_grad_(True), rather than torch.tensor(sourceTensor).\n",
            "  X_scaled_tensor = torch.tensor(combined_X, dtype=torch.float32).unsqueeze(1)\n"
          ]
        },
        {
          "output_type": "stream",
          "name": "stdout",
          "text": [
            "     Epoch 5: Train Loss = 0.5852, Val Loss = 5.3606\n",
            "     Epoch 10: Train Loss = 0.5808, Val Loss = 6.9313\n",
            "     Epoch 15: Train Loss = 0.5772, Val Loss = 8.3554\n",
            "     Epoch 20: Train Loss = 0.5801, Val Loss = 8.6617\n",
            "    ⏹️ Early stopping at epoch 20\n",
            " Run 2 finished with best val loss: 3.9889\n",
            "Original Error Percentage (Test Dataset): 4.1651%\n",
            "Corrected Error Percentage (Test Dataset): 28.0616%\n",
            "   Run 3/5 ...      Epoch 0: Train Loss = 0.6043, Val Loss = 2.2879\n"
          ]
        },
        {
          "output_type": "stream",
          "name": "stderr",
          "text": [
            "<ipython-input-44-b273c6d16a7f>:152: UserWarning: To copy construct from a tensor, it is recommended to use sourceTensor.clone().detach() or sourceTensor.clone().detach().requires_grad_(True), rather than torch.tensor(sourceTensor).\n",
            "  X_scaled_tensor = torch.tensor(combined_X, dtype=torch.float32).unsqueeze(1)\n"
          ]
        },
        {
          "output_type": "stream",
          "name": "stdout",
          "text": [
            "     Epoch 5: Train Loss = 0.5923, Val Loss = 2.7571\n",
            "     Epoch 10: Train Loss = 0.5929, Val Loss = 3.2099\n",
            "     Epoch 15: Train Loss = 0.5892, Val Loss = 3.6411\n",
            "     Epoch 20: Train Loss = 0.5879, Val Loss = 4.0909\n",
            "    ⏹️ Early stopping at epoch 20\n",
            " Run 3 finished with best val loss: 2.2879\n",
            "Original Error Percentage (Test Dataset): 4.1651%\n",
            "Corrected Error Percentage (Test Dataset): 12.6134%\n",
            "   Run 4/5 ...      Epoch 0: Train Loss = 0.7555, Val Loss = 4.9149\n"
          ]
        },
        {
          "output_type": "stream",
          "name": "stderr",
          "text": [
            "<ipython-input-44-b273c6d16a7f>:152: UserWarning: To copy construct from a tensor, it is recommended to use sourceTensor.clone().detach() or sourceTensor.clone().detach().requires_grad_(True), rather than torch.tensor(sourceTensor).\n",
            "  X_scaled_tensor = torch.tensor(combined_X, dtype=torch.float32).unsqueeze(1)\n"
          ]
        },
        {
          "output_type": "stream",
          "name": "stdout",
          "text": [
            "     Epoch 5: Train Loss = 0.6264, Val Loss = 2.6925\n",
            "     Epoch 10: Train Loss = 0.6041, Val Loss = 2.4669\n",
            "     Epoch 15: Train Loss = 0.5925, Val Loss = 2.7055\n",
            "     Epoch 20: Train Loss = 0.5906, Val Loss = 3.1161\n",
            "     Epoch 25: Train Loss = 0.5940, Val Loss = 3.7589\n",
            "    ⏹️ Early stopping at epoch 29\n",
            " Run 4 finished with best val loss: 2.4668\n",
            "Original Error Percentage (Test Dataset): 4.1651%\n",
            "Corrected Error Percentage (Test Dataset): 12.7824%\n",
            "   Run 5/5 ...      Epoch 0: Train Loss = 0.6055, Val Loss = 3.7193\n"
          ]
        },
        {
          "output_type": "stream",
          "name": "stderr",
          "text": [
            "<ipython-input-44-b273c6d16a7f>:152: UserWarning: To copy construct from a tensor, it is recommended to use sourceTensor.clone().detach() or sourceTensor.clone().detach().requires_grad_(True), rather than torch.tensor(sourceTensor).\n",
            "  X_scaled_tensor = torch.tensor(combined_X, dtype=torch.float32).unsqueeze(1)\n"
          ]
        },
        {
          "output_type": "stream",
          "name": "stdout",
          "text": [
            "     Epoch 5: Train Loss = 0.5894, Val Loss = 4.1052\n",
            "     Epoch 10: Train Loss = 0.5873, Val Loss = 5.1792\n",
            "     Epoch 15: Train Loss = 0.5835, Val Loss = 6.5504\n",
            "     Epoch 20: Train Loss = 0.5827, Val Loss = 8.0690\n",
            "    ⏹️ Early stopping at epoch 20\n",
            " Run 5 finished with best val loss: 3.7193\n",
            "Original Error Percentage (Test Dataset): 4.1651%\n",
            "Corrected Error Percentage (Test Dataset): 27.5276%\n",
            " Finished configuration H=32, D=0.1, LR=0.0001, B=32 → Avg Val Loss: 3.1716, Avg Accuracy: 23.0766%\n",
            "\n",
            " Running 13/81: H=32, D=0.1, LR=0.0005, B=8\n",
            "   Run 1/5 ... "
          ]
        },
        {
          "output_type": "stream",
          "name": "stderr",
          "text": [
            "<ipython-input-44-b273c6d16a7f>:152: UserWarning: To copy construct from a tensor, it is recommended to use sourceTensor.clone().detach() or sourceTensor.clone().detach().requires_grad_(True), rather than torch.tensor(sourceTensor).\n",
            "  X_scaled_tensor = torch.tensor(combined_X, dtype=torch.float32).unsqueeze(1)\n"
          ]
        },
        {
          "output_type": "stream",
          "name": "stdout",
          "text": [
            "     Epoch 0: Train Loss = 0.5931, Val Loss = 4.0181\n",
            "     Epoch 5: Train Loss = 0.5820, Val Loss = 9.8307\n",
            "     Epoch 10: Train Loss = 0.5777, Val Loss = 11.0188\n",
            "     Epoch 15: Train Loss = 0.5769, Val Loss = 11.7457\n",
            "     Epoch 20: Train Loss = 0.5772, Val Loss = 11.8894\n",
            "    ⏹️ Early stopping at epoch 20\n",
            " Run 1 finished with best val loss: 4.0181\n",
            "Original Error Percentage (Test Dataset): 4.1651%\n",
            "Corrected Error Percentage (Test Dataset): 35.9731%\n",
            "   Run 2/5 ... "
          ]
        },
        {
          "output_type": "stream",
          "name": "stderr",
          "text": [
            "<ipython-input-44-b273c6d16a7f>:152: UserWarning: To copy construct from a tensor, it is recommended to use sourceTensor.clone().detach() or sourceTensor.clone().detach().requires_grad_(True), rather than torch.tensor(sourceTensor).\n",
            "  X_scaled_tensor = torch.tensor(combined_X, dtype=torch.float32).unsqueeze(1)\n"
          ]
        },
        {
          "output_type": "stream",
          "name": "stdout",
          "text": [
            "     Epoch 0: Train Loss = 0.6286, Val Loss = 3.3813\n",
            "     Epoch 5: Train Loss = 0.5783, Val Loss = 7.7161\n",
            "     Epoch 10: Train Loss = 0.5822, Val Loss = 7.6330\n",
            "     Epoch 15: Train Loss = 0.5791, Val Loss = 7.7023\n",
            "     Epoch 20: Train Loss = 0.5827, Val Loss = 8.3598\n",
            "    ⏹️ Early stopping at epoch 20\n",
            " Run 2 finished with best val loss: 3.3813\n",
            "Original Error Percentage (Test Dataset): 4.1651%\n",
            "Corrected Error Percentage (Test Dataset): 25.8583%\n",
            "   Run 3/5 ... "
          ]
        },
        {
          "output_type": "stream",
          "name": "stderr",
          "text": [
            "<ipython-input-44-b273c6d16a7f>:152: UserWarning: To copy construct from a tensor, it is recommended to use sourceTensor.clone().detach() or sourceTensor.clone().detach().requires_grad_(True), rather than torch.tensor(sourceTensor).\n",
            "  X_scaled_tensor = torch.tensor(combined_X, dtype=torch.float32).unsqueeze(1)\n"
          ]
        },
        {
          "output_type": "stream",
          "name": "stdout",
          "text": [
            "     Epoch 0: Train Loss = 0.6144, Val Loss = 2.9525\n",
            "     Epoch 5: Train Loss = 0.5841, Val Loss = 13.5235\n",
            "     Epoch 10: Train Loss = 0.5781, Val Loss = 11.7489\n",
            "     Epoch 15: Train Loss = 0.5803, Val Loss = 9.7815\n",
            "     Epoch 20: Train Loss = 0.5775, Val Loss = 10.5253\n",
            "    ⏹️ Early stopping at epoch 20\n",
            " Run 3 finished with best val loss: 2.9525\n",
            "Original Error Percentage (Test Dataset): 4.1651%\n",
            "Corrected Error Percentage (Test Dataset): 31.9437%\n",
            "   Run 4/5 ... "
          ]
        },
        {
          "output_type": "stream",
          "name": "stderr",
          "text": [
            "<ipython-input-44-b273c6d16a7f>:152: UserWarning: To copy construct from a tensor, it is recommended to use sourceTensor.clone().detach() or sourceTensor.clone().detach().requires_grad_(True), rather than torch.tensor(sourceTensor).\n",
            "  X_scaled_tensor = torch.tensor(combined_X, dtype=torch.float32).unsqueeze(1)\n"
          ]
        },
        {
          "output_type": "stream",
          "name": "stdout",
          "text": [
            "     Epoch 0: Train Loss = 0.6028, Val Loss = 2.6850\n",
            "     Epoch 5: Train Loss = 0.5832, Val Loss = 10.5271\n",
            "     Epoch 10: Train Loss = 0.5782, Val Loss = 12.0899\n",
            "     Epoch 15: Train Loss = 0.5836, Val Loss = 10.0452\n",
            "     Epoch 20: Train Loss = 0.5763, Val Loss = 11.2382\n",
            "    ⏹️ Early stopping at epoch 20\n",
            " Run 4 finished with best val loss: 2.6850\n",
            "Original Error Percentage (Test Dataset): 4.1651%\n",
            "Corrected Error Percentage (Test Dataset): 33.9783%\n",
            "   Run 5/5 ... "
          ]
        },
        {
          "output_type": "stream",
          "name": "stderr",
          "text": [
            "<ipython-input-44-b273c6d16a7f>:152: UserWarning: To copy construct from a tensor, it is recommended to use sourceTensor.clone().detach() or sourceTensor.clone().detach().requires_grad_(True), rather than torch.tensor(sourceTensor).\n",
            "  X_scaled_tensor = torch.tensor(combined_X, dtype=torch.float32).unsqueeze(1)\n"
          ]
        },
        {
          "output_type": "stream",
          "name": "stdout",
          "text": [
            "     Epoch 0: Train Loss = 0.6516, Val Loss = 2.4959\n",
            "     Epoch 5: Train Loss = 0.5846, Val Loss = 8.8356\n",
            "     Epoch 10: Train Loss = 0.5870, Val Loss = 9.1692\n",
            "     Epoch 15: Train Loss = 0.5799, Val Loss = 10.7671\n",
            "     Epoch 20: Train Loss = 0.5807, Val Loss = 11.8702\n",
            "    ⏹️ Early stopping at epoch 20\n",
            " Run 5 finished with best val loss: 2.4959\n",
            "Original Error Percentage (Test Dataset): 4.1651%\n",
            "Corrected Error Percentage (Test Dataset): 35.1038%\n",
            " Finished configuration H=32, D=0.1, LR=0.0005, B=8 → Avg Val Loss: 3.1066, Avg Accuracy: 32.5714%\n",
            "\n",
            " Running 14/81: H=32, D=0.1, LR=0.0005, B=16\n",
            "   Run 1/5 ...      Epoch 0: Train Loss = 0.5978, Val Loss = 3.2616\n"
          ]
        },
        {
          "output_type": "stream",
          "name": "stderr",
          "text": [
            "<ipython-input-44-b273c6d16a7f>:152: UserWarning: To copy construct from a tensor, it is recommended to use sourceTensor.clone().detach() or sourceTensor.clone().detach().requires_grad_(True), rather than torch.tensor(sourceTensor).\n",
            "  X_scaled_tensor = torch.tensor(combined_X, dtype=torch.float32).unsqueeze(1)\n"
          ]
        },
        {
          "output_type": "stream",
          "name": "stdout",
          "text": [
            "     Epoch 5: Train Loss = 0.5845, Val Loss = 12.7378\n",
            "     Epoch 10: Train Loss = 0.5808, Val Loss = 13.4312\n",
            "     Epoch 15: Train Loss = 0.5741, Val Loss = 11.9602\n",
            "     Epoch 20: Train Loss = 0.5805, Val Loss = 11.8288\n",
            "    ⏹️ Early stopping at epoch 20\n",
            " Run 1 finished with best val loss: 3.2616\n",
            "Original Error Percentage (Test Dataset): 4.1651%\n",
            "Corrected Error Percentage (Test Dataset): 34.7245%\n",
            "   Run 2/5 ...      Epoch 0: Train Loss = 0.6020, Val Loss = 2.0049\n"
          ]
        },
        {
          "output_type": "stream",
          "name": "stderr",
          "text": [
            "<ipython-input-44-b273c6d16a7f>:152: UserWarning: To copy construct from a tensor, it is recommended to use sourceTensor.clone().detach() or sourceTensor.clone().detach().requires_grad_(True), rather than torch.tensor(sourceTensor).\n",
            "  X_scaled_tensor = torch.tensor(combined_X, dtype=torch.float32).unsqueeze(1)\n"
          ]
        },
        {
          "output_type": "stream",
          "name": "stdout",
          "text": [
            "     Epoch 5: Train Loss = 0.5784, Val Loss = 6.5738\n",
            "     Epoch 10: Train Loss = 0.5814, Val Loss = 8.7166\n",
            "     Epoch 15: Train Loss = 0.5796, Val Loss = 9.2461\n",
            "     Epoch 20: Train Loss = 0.5780, Val Loss = 9.3548\n",
            "    ⏹️ Early stopping at epoch 20\n",
            " Run 2 finished with best val loss: 2.0049\n",
            "Original Error Percentage (Test Dataset): 4.1651%\n",
            "Corrected Error Percentage (Test Dataset): 28.6631%\n",
            "   Run 3/5 ...      Epoch 0: Train Loss = 0.6384, Val Loss = 3.6443\n"
          ]
        },
        {
          "output_type": "stream",
          "name": "stderr",
          "text": [
            "<ipython-input-44-b273c6d16a7f>:152: UserWarning: To copy construct from a tensor, it is recommended to use sourceTensor.clone().detach() or sourceTensor.clone().detach().requires_grad_(True), rather than torch.tensor(sourceTensor).\n",
            "  X_scaled_tensor = torch.tensor(combined_X, dtype=torch.float32).unsqueeze(1)\n"
          ]
        },
        {
          "output_type": "stream",
          "name": "stdout",
          "text": [
            "     Epoch 5: Train Loss = 0.5815, Val Loss = 7.4249\n",
            "     Epoch 10: Train Loss = 0.5868, Val Loss = 9.4362\n",
            "     Epoch 15: Train Loss = 0.5823, Val Loss = 8.7292\n",
            "     Epoch 20: Train Loss = 0.5774, Val Loss = 9.5627\n",
            "    ⏹️ Early stopping at epoch 20\n",
            " Run 3 finished with best val loss: 3.6443\n",
            "Original Error Percentage (Test Dataset): 4.1651%\n",
            "Corrected Error Percentage (Test Dataset): 29.4987%\n",
            "   Run 4/5 ...      Epoch 0: Train Loss = 0.6664, Val Loss = 2.3456\n"
          ]
        },
        {
          "output_type": "stream",
          "name": "stderr",
          "text": [
            "<ipython-input-44-b273c6d16a7f>:152: UserWarning: To copy construct from a tensor, it is recommended to use sourceTensor.clone().detach() or sourceTensor.clone().detach().requires_grad_(True), rather than torch.tensor(sourceTensor).\n",
            "  X_scaled_tensor = torch.tensor(combined_X, dtype=torch.float32).unsqueeze(1)\n"
          ]
        },
        {
          "output_type": "stream",
          "name": "stdout",
          "text": [
            "     Epoch 5: Train Loss = 0.5834, Val Loss = 8.9070\n",
            "     Epoch 10: Train Loss = 0.5791, Val Loss = 13.9689\n",
            "     Epoch 15: Train Loss = 0.5839, Val Loss = 13.7916\n",
            "     Epoch 20: Train Loss = 0.5806, Val Loss = 12.3645\n",
            "    ⏹️ Early stopping at epoch 20\n",
            " Run 4 finished with best val loss: 2.3456\n",
            "Original Error Percentage (Test Dataset): 4.1651%\n",
            "Corrected Error Percentage (Test Dataset): 36.5172%\n",
            "   Run 5/5 ...      Epoch 0: Train Loss = 0.6133, Val Loss = 2.7673\n"
          ]
        },
        {
          "output_type": "stream",
          "name": "stderr",
          "text": [
            "<ipython-input-44-b273c6d16a7f>:152: UserWarning: To copy construct from a tensor, it is recommended to use sourceTensor.clone().detach() or sourceTensor.clone().detach().requires_grad_(True), rather than torch.tensor(sourceTensor).\n",
            "  X_scaled_tensor = torch.tensor(combined_X, dtype=torch.float32).unsqueeze(1)\n"
          ]
        },
        {
          "output_type": "stream",
          "name": "stdout",
          "text": [
            "     Epoch 5: Train Loss = 0.5865, Val Loss = 3.4581\n",
            "     Epoch 10: Train Loss = 0.5825, Val Loss = 4.9529\n",
            "     Epoch 15: Train Loss = 0.5791, Val Loss = 6.5969\n",
            "     Epoch 20: Train Loss = 0.5747, Val Loss = 8.8385\n",
            "    ⏹️ Early stopping at epoch 20\n",
            " Run 5 finished with best val loss: 2.7673\n",
            "Original Error Percentage (Test Dataset): 4.1651%\n",
            "Corrected Error Percentage (Test Dataset): 27.6456%\n",
            " Finished configuration H=32, D=0.1, LR=0.0005, B=16 → Avg Val Loss: 2.8047, Avg Accuracy: 31.4098%\n",
            "\n",
            " Running 15/81: H=32, D=0.1, LR=0.0005, B=32\n",
            "   Run 1/5 ...      Epoch 0: Train Loss = 0.6210, Val Loss = 3.4167\n"
          ]
        },
        {
          "output_type": "stream",
          "name": "stderr",
          "text": [
            "<ipython-input-44-b273c6d16a7f>:152: UserWarning: To copy construct from a tensor, it is recommended to use sourceTensor.clone().detach() or sourceTensor.clone().detach().requires_grad_(True), rather than torch.tensor(sourceTensor).\n",
            "  X_scaled_tensor = torch.tensor(combined_X, dtype=torch.float32).unsqueeze(1)\n"
          ]
        },
        {
          "output_type": "stream",
          "name": "stdout",
          "text": [
            "     Epoch 5: Train Loss = 0.5802, Val Loss = 11.3354\n",
            "     Epoch 10: Train Loss = 0.5821, Val Loss = 12.6540\n",
            "     Epoch 15: Train Loss = 0.5794, Val Loss = 13.0579\n",
            "     Epoch 20: Train Loss = 0.5783, Val Loss = 13.3940\n",
            "    ⏹️ Early stopping at epoch 20\n",
            " Run 1 finished with best val loss: 3.4167\n",
            "Original Error Percentage (Test Dataset): 4.1651%\n",
            "Corrected Error Percentage (Test Dataset): 39.1813%\n",
            "   Run 2/5 ...      Epoch 0: Train Loss = 0.6038, Val Loss = 5.6873\n"
          ]
        },
        {
          "output_type": "stream",
          "name": "stderr",
          "text": [
            "<ipython-input-44-b273c6d16a7f>:152: UserWarning: To copy construct from a tensor, it is recommended to use sourceTensor.clone().detach() or sourceTensor.clone().detach().requires_grad_(True), rather than torch.tensor(sourceTensor).\n",
            "  X_scaled_tensor = torch.tensor(combined_X, dtype=torch.float32).unsqueeze(1)\n"
          ]
        },
        {
          "output_type": "stream",
          "name": "stdout",
          "text": [
            "     Epoch 5: Train Loss = 0.5803, Val Loss = 10.9164\n",
            "     Epoch 10: Train Loss = 0.5789, Val Loss = 14.5364\n",
            "     Epoch 15: Train Loss = 0.5790, Val Loss = 12.1903\n",
            "     Epoch 20: Train Loss = 0.5747, Val Loss = 13.4406\n",
            "    ⏹️ Early stopping at epoch 20\n",
            " Run 2 finished with best val loss: 5.6873\n",
            "Original Error Percentage (Test Dataset): 4.1651%\n",
            "Corrected Error Percentage (Test Dataset): 39.5677%\n",
            "   Run 3/5 ...      Epoch 0: Train Loss = 0.6221, Val Loss = 2.4839\n"
          ]
        },
        {
          "output_type": "stream",
          "name": "stderr",
          "text": [
            "<ipython-input-44-b273c6d16a7f>:152: UserWarning: To copy construct from a tensor, it is recommended to use sourceTensor.clone().detach() or sourceTensor.clone().detach().requires_grad_(True), rather than torch.tensor(sourceTensor).\n",
            "  X_scaled_tensor = torch.tensor(combined_X, dtype=torch.float32).unsqueeze(1)\n"
          ]
        },
        {
          "output_type": "stream",
          "name": "stdout",
          "text": [
            "     Epoch 5: Train Loss = 0.5889, Val Loss = 8.1291\n",
            "     Epoch 10: Train Loss = 0.5825, Val Loss = 12.3936\n",
            "     Epoch 15: Train Loss = 0.5819, Val Loss = 12.3545\n",
            "     Epoch 20: Train Loss = 0.5803, Val Loss = 10.6812\n",
            "    ⏹️ Early stopping at epoch 20\n",
            " Run 3 finished with best val loss: 2.4839\n",
            "Original Error Percentage (Test Dataset): 4.1651%\n",
            "Corrected Error Percentage (Test Dataset): 32.2209%\n",
            "   Run 4/5 ...      Epoch 0: Train Loss = 0.6301, Val Loss = 4.1201\n"
          ]
        },
        {
          "output_type": "stream",
          "name": "stderr",
          "text": [
            "<ipython-input-44-b273c6d16a7f>:152: UserWarning: To copy construct from a tensor, it is recommended to use sourceTensor.clone().detach() or sourceTensor.clone().detach().requires_grad_(True), rather than torch.tensor(sourceTensor).\n",
            "  X_scaled_tensor = torch.tensor(combined_X, dtype=torch.float32).unsqueeze(1)\n"
          ]
        },
        {
          "output_type": "stream",
          "name": "stdout",
          "text": [
            "     Epoch 5: Train Loss = 0.5795, Val Loss = 8.0665\n",
            "     Epoch 10: Train Loss = 0.5804, Val Loss = 11.3132\n",
            "     Epoch 15: Train Loss = 0.5819, Val Loss = 11.0359\n",
            "     Epoch 20: Train Loss = 0.5785, Val Loss = 11.7919\n",
            "    ⏹️ Early stopping at epoch 20\n",
            " Run 4 finished with best val loss: 4.1201\n",
            "Original Error Percentage (Test Dataset): 4.1651%\n",
            "Corrected Error Percentage (Test Dataset): 34.9366%\n",
            "   Run 5/5 ...      Epoch 0: Train Loss = 0.6171, Val Loss = 2.7052\n"
          ]
        },
        {
          "output_type": "stream",
          "name": "stderr",
          "text": [
            "<ipython-input-44-b273c6d16a7f>:152: UserWarning: To copy construct from a tensor, it is recommended to use sourceTensor.clone().detach() or sourceTensor.clone().detach().requires_grad_(True), rather than torch.tensor(sourceTensor).\n",
            "  X_scaled_tensor = torch.tensor(combined_X, dtype=torch.float32).unsqueeze(1)\n"
          ]
        },
        {
          "output_type": "stream",
          "name": "stdout",
          "text": [
            "     Epoch 5: Train Loss = 0.5837, Val Loss = 5.4142\n",
            "     Epoch 10: Train Loss = 0.5741, Val Loss = 7.9021\n",
            "     Epoch 15: Train Loss = 0.5874, Val Loss = 8.4808\n",
            "     Epoch 20: Train Loss = 0.5831, Val Loss = 8.3293\n",
            "    ⏹️ Early stopping at epoch 20\n",
            " Run 5 finished with best val loss: 2.7052\n",
            "Original Error Percentage (Test Dataset): 4.1651%\n",
            "Corrected Error Percentage (Test Dataset): 25.6682%\n",
            " Finished configuration H=32, D=0.1, LR=0.0005, B=32 → Avg Val Loss: 3.6827, Avg Accuracy: 34.3150%\n",
            "\n",
            " Running 16/81: H=32, D=0.1, LR=0.001, B=8\n",
            "   Run 1/5 ... "
          ]
        },
        {
          "output_type": "stream",
          "name": "stderr",
          "text": [
            "<ipython-input-44-b273c6d16a7f>:152: UserWarning: To copy construct from a tensor, it is recommended to use sourceTensor.clone().detach() or sourceTensor.clone().detach().requires_grad_(True), rather than torch.tensor(sourceTensor).\n",
            "  X_scaled_tensor = torch.tensor(combined_X, dtype=torch.float32).unsqueeze(1)\n"
          ]
        },
        {
          "output_type": "stream",
          "name": "stdout",
          "text": [
            "     Epoch 0: Train Loss = 0.5892, Val Loss = 4.9166\n",
            "     Epoch 5: Train Loss = 0.5804, Val Loss = 7.8179\n",
            "     Epoch 10: Train Loss = 0.5771, Val Loss = 15.7420\n",
            "     Epoch 15: Train Loss = 0.5777, Val Loss = 13.5322\n",
            "     Epoch 20: Train Loss = 0.5790, Val Loss = 16.8075\n",
            "    ⏹️ Early stopping at epoch 20\n",
            " Run 1 finished with best val loss: 4.9166\n",
            "Original Error Percentage (Test Dataset): 4.1651%\n",
            "Corrected Error Percentage (Test Dataset): 46.5526%\n",
            "   Run 2/5 ... "
          ]
        },
        {
          "output_type": "stream",
          "name": "stderr",
          "text": [
            "<ipython-input-44-b273c6d16a7f>:152: UserWarning: To copy construct from a tensor, it is recommended to use sourceTensor.clone().detach() or sourceTensor.clone().detach().requires_grad_(True), rather than torch.tensor(sourceTensor).\n",
            "  X_scaled_tensor = torch.tensor(combined_X, dtype=torch.float32).unsqueeze(1)\n"
          ]
        },
        {
          "output_type": "stream",
          "name": "stdout",
          "text": [
            "     Epoch 0: Train Loss = 0.5906, Val Loss = 8.8725\n",
            "     Epoch 5: Train Loss = 0.5804, Val Loss = 10.8636\n",
            "     Epoch 10: Train Loss = 0.5781, Val Loss = 11.7454\n",
            "     Epoch 15: Train Loss = 0.5777, Val Loss = 12.2474\n",
            "     Epoch 20: Train Loss = 0.5772, Val Loss = 12.4404\n",
            "    ⏹️ Early stopping at epoch 20\n",
            " Run 2 finished with best val loss: 8.8725\n",
            "Original Error Percentage (Test Dataset): 4.1651%\n",
            "Corrected Error Percentage (Test Dataset): 37.4050%\n",
            "   Run 3/5 ... "
          ]
        },
        {
          "output_type": "stream",
          "name": "stderr",
          "text": [
            "<ipython-input-44-b273c6d16a7f>:152: UserWarning: To copy construct from a tensor, it is recommended to use sourceTensor.clone().detach() or sourceTensor.clone().detach().requires_grad_(True), rather than torch.tensor(sourceTensor).\n",
            "  X_scaled_tensor = torch.tensor(combined_X, dtype=torch.float32).unsqueeze(1)\n"
          ]
        },
        {
          "output_type": "stream",
          "name": "stdout",
          "text": [
            "     Epoch 0: Train Loss = 0.6144, Val Loss = 4.7143\n",
            "     Epoch 5: Train Loss = 0.5775, Val Loss = 17.5429\n",
            "     Epoch 10: Train Loss = 0.5836, Val Loss = 16.9575\n",
            "     Epoch 15: Train Loss = 0.5770, Val Loss = 12.7476\n",
            "     Epoch 20: Train Loss = 0.5797, Val Loss = 11.5453\n",
            "    ⏹️ Early stopping at epoch 20\n",
            " Run 3 finished with best val loss: 4.7143\n",
            "Original Error Percentage (Test Dataset): 4.1651%\n",
            "Corrected Error Percentage (Test Dataset): 35.1120%\n",
            "   Run 4/5 ... "
          ]
        },
        {
          "output_type": "stream",
          "name": "stderr",
          "text": [
            "<ipython-input-44-b273c6d16a7f>:152: UserWarning: To copy construct from a tensor, it is recommended to use sourceTensor.clone().detach() or sourceTensor.clone().detach().requires_grad_(True), rather than torch.tensor(sourceTensor).\n",
            "  X_scaled_tensor = torch.tensor(combined_X, dtype=torch.float32).unsqueeze(1)\n"
          ]
        },
        {
          "output_type": "stream",
          "name": "stdout",
          "text": [
            "     Epoch 0: Train Loss = 0.5922, Val Loss = 6.9063\n",
            "     Epoch 5: Train Loss = 0.5824, Val Loss = 9.5293\n",
            "     Epoch 10: Train Loss = 0.5779, Val Loss = 11.7719\n",
            "     Epoch 15: Train Loss = 0.5792, Val Loss = 14.4611\n",
            "     Epoch 20: Train Loss = 0.5772, Val Loss = 15.7377\n",
            "    ⏹️ Early stopping at epoch 20\n",
            " Run 4 finished with best val loss: 6.9063\n",
            "Original Error Percentage (Test Dataset): 4.1651%\n",
            "Corrected Error Percentage (Test Dataset): 44.5285%\n",
            "   Run 5/5 ... "
          ]
        },
        {
          "output_type": "stream",
          "name": "stderr",
          "text": [
            "<ipython-input-44-b273c6d16a7f>:152: UserWarning: To copy construct from a tensor, it is recommended to use sourceTensor.clone().detach() or sourceTensor.clone().detach().requires_grad_(True), rather than torch.tensor(sourceTensor).\n",
            "  X_scaled_tensor = torch.tensor(combined_X, dtype=torch.float32).unsqueeze(1)\n"
          ]
        },
        {
          "output_type": "stream",
          "name": "stdout",
          "text": [
            "     Epoch 0: Train Loss = 0.5863, Val Loss = 8.3178\n",
            "     Epoch 5: Train Loss = 0.5804, Val Loss = 15.9346\n",
            "     Epoch 10: Train Loss = 0.5796, Val Loss = 13.9490\n",
            "     Epoch 15: Train Loss = 0.5782, Val Loss = 14.1482\n",
            "     Epoch 20: Train Loss = 0.5783, Val Loss = 15.9349\n",
            "    ⏹️ Early stopping at epoch 20\n",
            " Run 5 finished with best val loss: 8.3178\n",
            "Original Error Percentage (Test Dataset): 4.1651%\n",
            "Corrected Error Percentage (Test Dataset): 44.9029%\n",
            " Finished configuration H=32, D=0.1, LR=0.001, B=8 → Avg Val Loss: 6.7455, Avg Accuracy: 41.7002%\n",
            "\n",
            " Running 17/81: H=32, D=0.1, LR=0.001, B=16\n",
            "   Run 1/5 ...      Epoch 0: Train Loss = 0.6016, Val Loss = 4.5380\n"
          ]
        },
        {
          "output_type": "stream",
          "name": "stderr",
          "text": [
            "<ipython-input-44-b273c6d16a7f>:152: UserWarning: To copy construct from a tensor, it is recommended to use sourceTensor.clone().detach() or sourceTensor.clone().detach().requires_grad_(True), rather than torch.tensor(sourceTensor).\n",
            "  X_scaled_tensor = torch.tensor(combined_X, dtype=torch.float32).unsqueeze(1)\n"
          ]
        },
        {
          "output_type": "stream",
          "name": "stdout",
          "text": [
            "     Epoch 5: Train Loss = 0.5833, Val Loss = 8.4007\n",
            "     Epoch 10: Train Loss = 0.5773, Val Loss = 10.6823\n",
            "     Epoch 15: Train Loss = 0.5781, Val Loss = 9.9575\n",
            "     Epoch 20: Train Loss = 0.5769, Val Loss = 13.4294\n",
            "    ⏹️ Early stopping at epoch 20\n",
            " Run 1 finished with best val loss: 4.5380\n",
            "Original Error Percentage (Test Dataset): 4.1651%\n",
            "Corrected Error Percentage (Test Dataset): 39.0270%\n",
            "   Run 2/5 ...      Epoch 0: Train Loss = 0.5930, Val Loss = 5.2601\n"
          ]
        },
        {
          "output_type": "stream",
          "name": "stderr",
          "text": [
            "<ipython-input-44-b273c6d16a7f>:152: UserWarning: To copy construct from a tensor, it is recommended to use sourceTensor.clone().detach() or sourceTensor.clone().detach().requires_grad_(True), rather than torch.tensor(sourceTensor).\n",
            "  X_scaled_tensor = torch.tensor(combined_X, dtype=torch.float32).unsqueeze(1)\n"
          ]
        },
        {
          "output_type": "stream",
          "name": "stdout",
          "text": [
            "     Epoch 5: Train Loss = 0.5765, Val Loss = 12.9187\n",
            "     Epoch 10: Train Loss = 0.5800, Val Loss = 13.7430\n",
            "     Epoch 15: Train Loss = 0.5779, Val Loss = 12.6879\n",
            "     Epoch 20: Train Loss = 0.5777, Val Loss = 13.0229\n",
            "    ⏹️ Early stopping at epoch 20\n",
            " Run 2 finished with best val loss: 5.2601\n",
            "Original Error Percentage (Test Dataset): 4.1651%\n",
            "Corrected Error Percentage (Test Dataset): 38.9100%\n",
            "   Run 3/5 ... "
          ]
        },
        {
          "output_type": "stream",
          "name": "stderr",
          "text": [
            "<ipython-input-44-b273c6d16a7f>:152: UserWarning: To copy construct from a tensor, it is recommended to use sourceTensor.clone().detach() or sourceTensor.clone().detach().requires_grad_(True), rather than torch.tensor(sourceTensor).\n",
            "  X_scaled_tensor = torch.tensor(combined_X, dtype=torch.float32).unsqueeze(1)\n"
          ]
        },
        {
          "output_type": "stream",
          "name": "stdout",
          "text": [
            "     Epoch 0: Train Loss = 0.6395, Val Loss = 1.9558\n",
            "     Epoch 5: Train Loss = 0.5849, Val Loss = 9.8710\n",
            "     Epoch 10: Train Loss = 0.5774, Val Loss = 9.2974\n",
            "     Epoch 15: Train Loss = 0.5830, Val Loss = 11.9263\n",
            "     Epoch 20: Train Loss = 0.5824, Val Loss = 12.0812\n",
            "    ⏹️ Early stopping at epoch 20\n",
            " Run 3 finished with best val loss: 1.9558\n",
            "Original Error Percentage (Test Dataset): 4.1651%\n",
            "Corrected Error Percentage (Test Dataset): 35.9166%\n",
            "   Run 4/5 ...      Epoch 0: Train Loss = 0.5978, Val Loss = 3.1214\n"
          ]
        },
        {
          "output_type": "stream",
          "name": "stderr",
          "text": [
            "<ipython-input-44-b273c6d16a7f>:152: UserWarning: To copy construct from a tensor, it is recommended to use sourceTensor.clone().detach() or sourceTensor.clone().detach().requires_grad_(True), rather than torch.tensor(sourceTensor).\n",
            "  X_scaled_tensor = torch.tensor(combined_X, dtype=torch.float32).unsqueeze(1)\n"
          ]
        },
        {
          "output_type": "stream",
          "name": "stdout",
          "text": [
            "     Epoch 5: Train Loss = 0.5819, Val Loss = 9.8136\n",
            "     Epoch 10: Train Loss = 0.5802, Val Loss = 10.0418\n",
            "     Epoch 15: Train Loss = 0.5780, Val Loss = 10.6215\n",
            "     Epoch 20: Train Loss = 0.5795, Val Loss = 10.8286\n",
            "    ⏹️ Early stopping at epoch 20\n",
            " Run 4 finished with best val loss: 3.1214\n",
            "Original Error Percentage (Test Dataset): 4.1651%\n",
            "Corrected Error Percentage (Test Dataset): 33.2702%\n",
            "   Run 5/5 ...      Epoch 0: Train Loss = 0.5983, Val Loss = 11.7065\n"
          ]
        },
        {
          "output_type": "stream",
          "name": "stderr",
          "text": [
            "<ipython-input-44-b273c6d16a7f>:152: UserWarning: To copy construct from a tensor, it is recommended to use sourceTensor.clone().detach() or sourceTensor.clone().detach().requires_grad_(True), rather than torch.tensor(sourceTensor).\n",
            "  X_scaled_tensor = torch.tensor(combined_X, dtype=torch.float32).unsqueeze(1)\n"
          ]
        },
        {
          "output_type": "stream",
          "name": "stdout",
          "text": [
            "     Epoch 5: Train Loss = 0.5803, Val Loss = 17.4109\n",
            "     Epoch 10: Train Loss = 0.5757, Val Loss = 11.8790\n",
            "     Epoch 15: Train Loss = 0.5752, Val Loss = 11.8156\n",
            "     Epoch 20: Train Loss = 0.5804, Val Loss = 11.6158\n",
            "     Epoch 25: Train Loss = 0.5781, Val Loss = 12.5822\n",
            "     Epoch 30: Train Loss = 0.5743, Val Loss = 13.7408\n",
            "     Epoch 35: Train Loss = 0.5787, Val Loss = 12.3033\n",
            "    ⏹️ Early stopping at epoch 39\n",
            " Run 5 finished with best val loss: 8.2960\n",
            "Original Error Percentage (Test Dataset): 4.1651%\n",
            "Corrected Error Percentage (Test Dataset): 38.3111%\n",
            " Finished configuration H=32, D=0.1, LR=0.001, B=16 → Avg Val Loss: 4.6342, Avg Accuracy: 37.0870%\n",
            "\n",
            " Running 18/81: H=32, D=0.1, LR=0.001, B=32\n",
            "   Run 1/5 ...      Epoch 0: Train Loss = 0.5963, Val Loss = 4.5271\n"
          ]
        },
        {
          "output_type": "stream",
          "name": "stderr",
          "text": [
            "<ipython-input-44-b273c6d16a7f>:152: UserWarning: To copy construct from a tensor, it is recommended to use sourceTensor.clone().detach() or sourceTensor.clone().detach().requires_grad_(True), rather than torch.tensor(sourceTensor).\n",
            "  X_scaled_tensor = torch.tensor(combined_X, dtype=torch.float32).unsqueeze(1)\n"
          ]
        },
        {
          "output_type": "stream",
          "name": "stdout",
          "text": [
            "     Epoch 5: Train Loss = 0.5809, Val Loss = 10.4996\n",
            "     Epoch 10: Train Loss = 0.5837, Val Loss = 12.5851\n",
            "     Epoch 15: Train Loss = 0.5771, Val Loss = 13.5063\n",
            "     Epoch 20: Train Loss = 0.5793, Val Loss = 12.9835\n",
            "    ⏹️ Early stopping at epoch 20\n",
            " Run 1 finished with best val loss: 4.5271\n",
            "Original Error Percentage (Test Dataset): 4.1651%\n",
            "Corrected Error Percentage (Test Dataset): 37.8752%\n",
            "   Run 2/5 ...      Epoch 0: Train Loss = 0.6398, Val Loss = 1.7657\n"
          ]
        },
        {
          "output_type": "stream",
          "name": "stderr",
          "text": [
            "<ipython-input-44-b273c6d16a7f>:152: UserWarning: To copy construct from a tensor, it is recommended to use sourceTensor.clone().detach() or sourceTensor.clone().detach().requires_grad_(True), rather than torch.tensor(sourceTensor).\n",
            "  X_scaled_tensor = torch.tensor(combined_X, dtype=torch.float32).unsqueeze(1)\n"
          ]
        },
        {
          "output_type": "stream",
          "name": "stdout",
          "text": [
            "     Epoch 5: Train Loss = 0.5911, Val Loss = 6.5926\n",
            "     Epoch 10: Train Loss = 0.5834, Val Loss = 8.1913\n",
            "     Epoch 15: Train Loss = 0.5862, Val Loss = 8.1788\n",
            "     Epoch 20: Train Loss = 0.5802, Val Loss = 7.9424\n",
            "    ⏹️ Early stopping at epoch 20\n",
            " Run 2 finished with best val loss: 1.7657\n",
            "Original Error Percentage (Test Dataset): 4.1651%\n",
            "Corrected Error Percentage (Test Dataset): 24.7158%\n",
            "   Run 3/5 ...      Epoch 0: Train Loss = 0.6015, Val Loss = 2.1959\n"
          ]
        },
        {
          "output_type": "stream",
          "name": "stderr",
          "text": [
            "<ipython-input-44-b273c6d16a7f>:152: UserWarning: To copy construct from a tensor, it is recommended to use sourceTensor.clone().detach() or sourceTensor.clone().detach().requires_grad_(True), rather than torch.tensor(sourceTensor).\n",
            "  X_scaled_tensor = torch.tensor(combined_X, dtype=torch.float32).unsqueeze(1)\n"
          ]
        },
        {
          "output_type": "stream",
          "name": "stdout",
          "text": [
            "     Epoch 5: Train Loss = 0.5836, Val Loss = 8.0874\n",
            "     Epoch 10: Train Loss = 0.5758, Val Loss = 12.2604\n",
            "     Epoch 15: Train Loss = 0.5776, Val Loss = 12.6373\n",
            "     Epoch 20: Train Loss = 0.5740, Val Loss = 13.2878\n",
            "    ⏹️ Early stopping at epoch 20\n",
            " Run 3 finished with best val loss: 2.1959\n",
            "Original Error Percentage (Test Dataset): 4.1651%\n",
            "Corrected Error Percentage (Test Dataset): 38.8182%\n",
            "   Run 4/5 ...      Epoch 0: Train Loss = 0.5936, Val Loss = 4.5017\n"
          ]
        },
        {
          "output_type": "stream",
          "name": "stderr",
          "text": [
            "<ipython-input-44-b273c6d16a7f>:152: UserWarning: To copy construct from a tensor, it is recommended to use sourceTensor.clone().detach() or sourceTensor.clone().detach().requires_grad_(True), rather than torch.tensor(sourceTensor).\n",
            "  X_scaled_tensor = torch.tensor(combined_X, dtype=torch.float32).unsqueeze(1)\n"
          ]
        },
        {
          "output_type": "stream",
          "name": "stdout",
          "text": [
            "     Epoch 5: Train Loss = 0.5764, Val Loss = 10.2157\n",
            "     Epoch 10: Train Loss = 0.5829, Val Loss = 7.6080\n",
            "     Epoch 15: Train Loss = 0.5749, Val Loss = 10.2319\n",
            "     Epoch 20: Train Loss = 0.5781, Val Loss = 10.8543\n",
            "    ⏹️ Early stopping at epoch 20\n",
            " Run 4 finished with best val loss: 4.5017\n",
            "Original Error Percentage (Test Dataset): 4.1651%\n",
            "Corrected Error Percentage (Test Dataset): 33.4852%\n",
            "   Run 5/5 ...      Epoch 0: Train Loss = 0.5985, Val Loss = 3.2720\n"
          ]
        },
        {
          "output_type": "stream",
          "name": "stderr",
          "text": [
            "<ipython-input-44-b273c6d16a7f>:152: UserWarning: To copy construct from a tensor, it is recommended to use sourceTensor.clone().detach() or sourceTensor.clone().detach().requires_grad_(True), rather than torch.tensor(sourceTensor).\n",
            "  X_scaled_tensor = torch.tensor(combined_X, dtype=torch.float32).unsqueeze(1)\n"
          ]
        },
        {
          "output_type": "stream",
          "name": "stdout",
          "text": [
            "     Epoch 5: Train Loss = 0.5821, Val Loss = 8.3740\n",
            "     Epoch 10: Train Loss = 0.5786, Val Loss = 11.5779\n",
            "     Epoch 15: Train Loss = 0.5830, Val Loss = 11.7357\n",
            "     Epoch 20: Train Loss = 0.5793, Val Loss = 11.7219\n",
            "    ⏹️ Early stopping at epoch 20\n",
            " Run 5 finished with best val loss: 3.2720\n",
            "Original Error Percentage (Test Dataset): 4.1651%\n",
            "Corrected Error Percentage (Test Dataset): 35.9709%\n",
            " Finished configuration H=32, D=0.1, LR=0.001, B=32 → Avg Val Loss: 3.2525, Avg Accuracy: 34.1731%\n",
            "\n",
            " Running 19/81: H=32, D=0.2, LR=0.0001, B=8\n",
            "   Run 1/5 ... "
          ]
        },
        {
          "output_type": "stream",
          "name": "stderr",
          "text": [
            "<ipython-input-44-b273c6d16a7f>:152: UserWarning: To copy construct from a tensor, it is recommended to use sourceTensor.clone().detach() or sourceTensor.clone().detach().requires_grad_(True), rather than torch.tensor(sourceTensor).\n",
            "  X_scaled_tensor = torch.tensor(combined_X, dtype=torch.float32).unsqueeze(1)\n"
          ]
        },
        {
          "output_type": "stream",
          "name": "stdout",
          "text": [
            "     Epoch 0: Train Loss = 0.6689, Val Loss = 1.7986\n",
            "     Epoch 5: Train Loss = 0.6076, Val Loss = 2.1698\n",
            "     Epoch 10: Train Loss = 0.5981, Val Loss = 3.6653\n",
            "     Epoch 15: Train Loss = 0.5924, Val Loss = 4.9873\n",
            "     Epoch 20: Train Loss = 0.5882, Val Loss = 6.7006\n",
            "    ⏹️ Early stopping at epoch 23\n",
            " Run 1 finished with best val loss: 1.7447\n",
            "Original Error Percentage (Test Dataset): 4.1651%\n",
            "Corrected Error Percentage (Test Dataset): 22.3032%\n",
            "   Run 2/5 ... "
          ]
        },
        {
          "output_type": "stream",
          "name": "stderr",
          "text": [
            "<ipython-input-44-b273c6d16a7f>:152: UserWarning: To copy construct from a tensor, it is recommended to use sourceTensor.clone().detach() or sourceTensor.clone().detach().requires_grad_(True), rather than torch.tensor(sourceTensor).\n",
            "  X_scaled_tensor = torch.tensor(combined_X, dtype=torch.float32).unsqueeze(1)\n"
          ]
        },
        {
          "output_type": "stream",
          "name": "stdout",
          "text": [
            "     Epoch 0: Train Loss = 0.6728, Val Loss = 5.8707\n",
            "     Epoch 5: Train Loss = 0.5990, Val Loss = 5.7088\n",
            "     Epoch 10: Train Loss = 0.5918, Val Loss = 6.5384\n",
            "     Epoch 15: Train Loss = 0.5916, Val Loss = 7.9526\n",
            "     Epoch 20: Train Loss = 0.5855, Val Loss = 9.6780\n",
            "    ⏹️ Early stopping at epoch 22\n",
            " Run 2 finished with best val loss: 4.9485\n",
            "Original Error Percentage (Test Dataset): 4.1651%\n",
            "Corrected Error Percentage (Test Dataset): 30.8328%\n",
            "   Run 3/5 ... "
          ]
        },
        {
          "output_type": "stream",
          "name": "stderr",
          "text": [
            "<ipython-input-44-b273c6d16a7f>:152: UserWarning: To copy construct from a tensor, it is recommended to use sourceTensor.clone().detach() or sourceTensor.clone().detach().requires_grad_(True), rather than torch.tensor(sourceTensor).\n",
            "  X_scaled_tensor = torch.tensor(combined_X, dtype=torch.float32).unsqueeze(1)\n"
          ]
        },
        {
          "output_type": "stream",
          "name": "stdout",
          "text": [
            "     Epoch 0: Train Loss = 0.5866, Val Loss = 4.2875\n",
            "     Epoch 5: Train Loss = 0.5849, Val Loss = 6.1815\n",
            "     Epoch 10: Train Loss = 0.5804, Val Loss = 8.2630\n",
            "     Epoch 15: Train Loss = 0.5811, Val Loss = 9.4214\n",
            "     Epoch 20: Train Loss = 0.5821, Val Loss = 10.8535\n",
            "    ⏹️ Early stopping at epoch 20\n",
            " Run 3 finished with best val loss: 4.2875\n",
            "Original Error Percentage (Test Dataset): 4.1651%\n",
            "Corrected Error Percentage (Test Dataset): 33.1090%\n",
            "   Run 4/5 ... "
          ]
        },
        {
          "output_type": "stream",
          "name": "stderr",
          "text": [
            "<ipython-input-44-b273c6d16a7f>:152: UserWarning: To copy construct from a tensor, it is recommended to use sourceTensor.clone().detach() or sourceTensor.clone().detach().requires_grad_(True), rather than torch.tensor(sourceTensor).\n",
            "  X_scaled_tensor = torch.tensor(combined_X, dtype=torch.float32).unsqueeze(1)\n"
          ]
        },
        {
          "output_type": "stream",
          "name": "stdout",
          "text": [
            "     Epoch 0: Train Loss = 0.6874, Val Loss = 4.4109\n",
            "     Epoch 5: Train Loss = 0.5941, Val Loss = 3.9753\n",
            "     Epoch 10: Train Loss = 0.5912, Val Loss = 6.2184\n",
            "     Epoch 15: Train Loss = 0.5852, Val Loss = 7.7584\n",
            "     Epoch 20: Train Loss = 0.5919, Val Loss = 8.4033\n",
            "    ⏹️ Early stopping at epoch 23\n",
            " Run 4 finished with best val loss: 3.4587\n",
            "Original Error Percentage (Test Dataset): 4.1651%\n",
            "Corrected Error Percentage (Test Dataset): 28.3574%\n",
            "   Run 5/5 ... "
          ]
        },
        {
          "output_type": "stream",
          "name": "stderr",
          "text": [
            "<ipython-input-44-b273c6d16a7f>:152: UserWarning: To copy construct from a tensor, it is recommended to use sourceTensor.clone().detach() or sourceTensor.clone().detach().requires_grad_(True), rather than torch.tensor(sourceTensor).\n",
            "  X_scaled_tensor = torch.tensor(combined_X, dtype=torch.float32).unsqueeze(1)\n"
          ]
        },
        {
          "output_type": "stream",
          "name": "stdout",
          "text": [
            "     Epoch 0: Train Loss = 0.6502, Val Loss = 5.0871\n",
            "     Epoch 5: Train Loss = 0.6056, Val Loss = 3.6488\n",
            "     Epoch 10: Train Loss = 0.6000, Val Loss = 5.4394\n",
            "     Epoch 15: Train Loss = 0.5960, Val Loss = 7.5020\n",
            "     Epoch 20: Train Loss = 0.5957, Val Loss = 9.8977\n",
            "    ⏹️ Early stopping at epoch 24\n",
            " Run 5 finished with best val loss: 3.3637\n",
            "Original Error Percentage (Test Dataset): 4.1651%\n",
            "Corrected Error Percentage (Test Dataset): 33.4334%\n",
            " Finished configuration H=32, D=0.2, LR=0.0001, B=8 → Avg Val Loss: 3.5606, Avg Accuracy: 29.6071%\n",
            "\n",
            " Running 20/81: H=32, D=0.2, LR=0.0001, B=16\n",
            "   Run 1/5 ...      Epoch 0: Train Loss = 0.6400, Val Loss = 2.0394\n"
          ]
        },
        {
          "output_type": "stream",
          "name": "stderr",
          "text": [
            "<ipython-input-44-b273c6d16a7f>:152: UserWarning: To copy construct from a tensor, it is recommended to use sourceTensor.clone().detach() or sourceTensor.clone().detach().requires_grad_(True), rather than torch.tensor(sourceTensor).\n",
            "  X_scaled_tensor = torch.tensor(combined_X, dtype=torch.float32).unsqueeze(1)\n"
          ]
        },
        {
          "output_type": "stream",
          "name": "stdout",
          "text": [
            "     Epoch 5: Train Loss = 0.6181, Val Loss = 3.6788\n",
            "     Epoch 10: Train Loss = 0.5937, Val Loss = 6.8370\n",
            "     Epoch 15: Train Loss = 0.5792, Val Loss = 9.1470\n",
            "     Epoch 20: Train Loss = 0.5900, Val Loss = 9.9019\n",
            "    ⏹️ Early stopping at epoch 21\n",
            " Run 1 finished with best val loss: 1.7003\n",
            "Original Error Percentage (Test Dataset): 4.1651%\n",
            "Corrected Error Percentage (Test Dataset): 31.3449%\n",
            "   Run 2/5 ... "
          ]
        },
        {
          "output_type": "stream",
          "name": "stderr",
          "text": [
            "<ipython-input-44-b273c6d16a7f>:152: UserWarning: To copy construct from a tensor, it is recommended to use sourceTensor.clone().detach() or sourceTensor.clone().detach().requires_grad_(True), rather than torch.tensor(sourceTensor).\n",
            "  X_scaled_tensor = torch.tensor(combined_X, dtype=torch.float32).unsqueeze(1)\n"
          ]
        },
        {
          "output_type": "stream",
          "name": "stdout",
          "text": [
            "     Epoch 0: Train Loss = 0.6045, Val Loss = 1.8094\n",
            "     Epoch 5: Train Loss = 0.6057, Val Loss = 2.5286\n",
            "     Epoch 10: Train Loss = 0.5876, Val Loss = 3.4701\n",
            "     Epoch 15: Train Loss = 0.5860, Val Loss = 4.7538\n",
            "     Epoch 20: Train Loss = 0.5900, Val Loss = 5.8982\n",
            "    ⏹️ Early stopping at epoch 20\n",
            " Run 2 finished with best val loss: 1.8094\n",
            "Original Error Percentage (Test Dataset): 4.1651%\n",
            "Corrected Error Percentage (Test Dataset): 18.9918%\n",
            "   Run 3/5 ...      Epoch 0: Train Loss = 0.6317, Val Loss = 3.0892\n"
          ]
        },
        {
          "output_type": "stream",
          "name": "stderr",
          "text": [
            "<ipython-input-44-b273c6d16a7f>:152: UserWarning: To copy construct from a tensor, it is recommended to use sourceTensor.clone().detach() or sourceTensor.clone().detach().requires_grad_(True), rather than torch.tensor(sourceTensor).\n",
            "  X_scaled_tensor = torch.tensor(combined_X, dtype=torch.float32).unsqueeze(1)\n"
          ]
        },
        {
          "output_type": "stream",
          "name": "stdout",
          "text": [
            "     Epoch 5: Train Loss = 0.6012, Val Loss = 4.3183\n",
            "     Epoch 10: Train Loss = 0.5932, Val Loss = 6.9801\n",
            "     Epoch 15: Train Loss = 0.5867, Val Loss = 9.4317\n",
            "     Epoch 20: Train Loss = 0.5880, Val Loss = 10.8573\n",
            "    ⏹️ Early stopping at epoch 20\n",
            " Run 3 finished with best val loss: 3.0892\n",
            "Original Error Percentage (Test Dataset): 4.1651%\n",
            "Corrected Error Percentage (Test Dataset): 34.2453%\n",
            "   Run 4/5 ...      Epoch 0: Train Loss = 0.6242, Val Loss = 1.9156\n"
          ]
        },
        {
          "output_type": "stream",
          "name": "stderr",
          "text": [
            "<ipython-input-44-b273c6d16a7f>:152: UserWarning: To copy construct from a tensor, it is recommended to use sourceTensor.clone().detach() or sourceTensor.clone().detach().requires_grad_(True), rather than torch.tensor(sourceTensor).\n",
            "  X_scaled_tensor = torch.tensor(combined_X, dtype=torch.float32).unsqueeze(1)\n"
          ]
        },
        {
          "output_type": "stream",
          "name": "stdout",
          "text": [
            "     Epoch 5: Train Loss = 0.6006, Val Loss = 2.5878\n",
            "     Epoch 10: Train Loss = 0.5925, Val Loss = 4.5326\n",
            "     Epoch 15: Train Loss = 0.5904, Val Loss = 6.1499\n",
            "     Epoch 20: Train Loss = 0.5890, Val Loss = 6.7479\n",
            "    ⏹️ Early stopping at epoch 21\n",
            " Run 4 finished with best val loss: 1.7338\n",
            "Original Error Percentage (Test Dataset): 4.1651%\n",
            "Corrected Error Percentage (Test Dataset): 23.0943%\n",
            "   Run 5/5 ... "
          ]
        },
        {
          "output_type": "stream",
          "name": "stderr",
          "text": [
            "<ipython-input-44-b273c6d16a7f>:152: UserWarning: To copy construct from a tensor, it is recommended to use sourceTensor.clone().detach() or sourceTensor.clone().detach().requires_grad_(True), rather than torch.tensor(sourceTensor).\n",
            "  X_scaled_tensor = torch.tensor(combined_X, dtype=torch.float32).unsqueeze(1)\n"
          ]
        },
        {
          "output_type": "stream",
          "name": "stdout",
          "text": [
            "     Epoch 0: Train Loss = 0.6367, Val Loss = 6.4273\n",
            "     Epoch 5: Train Loss = 0.5935, Val Loss = 4.8844\n",
            "     Epoch 10: Train Loss = 0.5927, Val Loss = 5.2019\n",
            "     Epoch 15: Train Loss = 0.5912, Val Loss = 6.2161\n",
            "     Epoch 20: Train Loss = 0.5867, Val Loss = 7.0445\n",
            "     Epoch 25: Train Loss = 0.5864, Val Loss = 7.6338\n",
            "    ⏹️ Early stopping at epoch 25\n",
            " Run 5 finished with best val loss: 4.8844\n",
            "Original Error Percentage (Test Dataset): 4.1651%\n",
            "Corrected Error Percentage (Test Dataset): 24.9715%\n",
            " Finished configuration H=32, D=0.2, LR=0.0001, B=16 → Avg Val Loss: 2.6434, Avg Accuracy: 26.5296%\n",
            "\n",
            " Running 21/81: H=32, D=0.2, LR=0.0001, B=32\n",
            "   Run 1/5 ...      Epoch 0: Train Loss = 0.6100, Val Loss = 2.4139\n"
          ]
        },
        {
          "output_type": "stream",
          "name": "stderr",
          "text": [
            "<ipython-input-44-b273c6d16a7f>:152: UserWarning: To copy construct from a tensor, it is recommended to use sourceTensor.clone().detach() or sourceTensor.clone().detach().requires_grad_(True), rather than torch.tensor(sourceTensor).\n",
            "  X_scaled_tensor = torch.tensor(combined_X, dtype=torch.float32).unsqueeze(1)\n"
          ]
        },
        {
          "output_type": "stream",
          "name": "stdout",
          "text": [
            "     Epoch 5: Train Loss = 0.5936, Val Loss = 3.1764\n",
            "     Epoch 10: Train Loss = 0.5910, Val Loss = 3.7627\n",
            "     Epoch 15: Train Loss = 0.5877, Val Loss = 4.1309\n",
            "     Epoch 20: Train Loss = 0.5845, Val Loss = 4.4565\n",
            "    ⏹️ Early stopping at epoch 20\n",
            " Run 1 finished with best val loss: 2.4139\n",
            "Original Error Percentage (Test Dataset): 4.1651%\n",
            "Corrected Error Percentage (Test Dataset): 14.2836%\n",
            "   Run 2/5 ...      Epoch 0: Train Loss = 0.6447, Val Loss = 1.7430\n"
          ]
        },
        {
          "output_type": "stream",
          "name": "stderr",
          "text": [
            "<ipython-input-44-b273c6d16a7f>:152: UserWarning: To copy construct from a tensor, it is recommended to use sourceTensor.clone().detach() or sourceTensor.clone().detach().requires_grad_(True), rather than torch.tensor(sourceTensor).\n",
            "  X_scaled_tensor = torch.tensor(combined_X, dtype=torch.float32).unsqueeze(1)\n"
          ]
        },
        {
          "output_type": "stream",
          "name": "stdout",
          "text": [
            "     Epoch 5: Train Loss = 0.5994, Val Loss = 2.2874\n",
            "     Epoch 10: Train Loss = 0.5917, Val Loss = 2.9874\n",
            "     Epoch 15: Train Loss = 0.5908, Val Loss = 3.3366\n",
            "     Epoch 20: Train Loss = 0.5898, Val Loss = 4.0047\n",
            "    ⏹️ Early stopping at epoch 21\n",
            " Run 2 finished with best val loss: 1.7366\n",
            "Original Error Percentage (Test Dataset): 4.1651%\n",
            "Corrected Error Percentage (Test Dataset): 13.0239%\n",
            "   Run 3/5 ...      Epoch 0: Train Loss = 0.6340, Val Loss = 1.9723\n"
          ]
        },
        {
          "output_type": "stream",
          "name": "stderr",
          "text": [
            "<ipython-input-44-b273c6d16a7f>:152: UserWarning: To copy construct from a tensor, it is recommended to use sourceTensor.clone().detach() or sourceTensor.clone().detach().requires_grad_(True), rather than torch.tensor(sourceTensor).\n",
            "  X_scaled_tensor = torch.tensor(combined_X, dtype=torch.float32).unsqueeze(1)\n"
          ]
        },
        {
          "output_type": "stream",
          "name": "stdout",
          "text": [
            "     Epoch 5: Train Loss = 0.6206, Val Loss = 1.8098\n",
            "     Epoch 10: Train Loss = 0.6088, Val Loss = 1.7497\n",
            "     Epoch 15: Train Loss = 0.6029, Val Loss = 1.7525\n",
            "     Epoch 20: Train Loss = 0.6021, Val Loss = 1.8107\n",
            "     Epoch 25: Train Loss = 0.6033, Val Loss = 1.9044\n",
            "     Epoch 30: Train Loss = 0.5954, Val Loss = 2.0453\n",
            "    ⏹️ Early stopping at epoch 33\n",
            " Run 3 finished with best val loss: 1.7449\n",
            "Original Error Percentage (Test Dataset): 4.1651%\n",
            "Corrected Error Percentage (Test Dataset): 4.1948%\n",
            "   Run 4/5 ... "
          ]
        },
        {
          "output_type": "stream",
          "name": "stderr",
          "text": [
            "<ipython-input-44-b273c6d16a7f>:152: UserWarning: To copy construct from a tensor, it is recommended to use sourceTensor.clone().detach() or sourceTensor.clone().detach().requires_grad_(True), rather than torch.tensor(sourceTensor).\n",
            "  X_scaled_tensor = torch.tensor(combined_X, dtype=torch.float32).unsqueeze(1)\n"
          ]
        },
        {
          "output_type": "stream",
          "name": "stdout",
          "text": [
            "     Epoch 0: Train Loss = 0.6239, Val Loss = 1.8176\n",
            "     Epoch 5: Train Loss = 0.5959, Val Loss = 2.4370\n",
            "     Epoch 10: Train Loss = 0.5904, Val Loss = 3.2163\n",
            "     Epoch 15: Train Loss = 0.5843, Val Loss = 4.0815\n",
            "     Epoch 20: Train Loss = 0.5873, Val Loss = 4.7496\n",
            "    ⏹️ Early stopping at epoch 20\n",
            " Run 4 finished with best val loss: 1.8176\n",
            "Original Error Percentage (Test Dataset): 4.1651%\n",
            "Corrected Error Percentage (Test Dataset): 14.4789%\n",
            "   Run 5/5 ...      Epoch 0: Train Loss = 0.6138, Val Loss = 1.7387\n"
          ]
        },
        {
          "output_type": "stream",
          "name": "stderr",
          "text": [
            "<ipython-input-44-b273c6d16a7f>:152: UserWarning: To copy construct from a tensor, it is recommended to use sourceTensor.clone().detach() or sourceTensor.clone().detach().requires_grad_(True), rather than torch.tensor(sourceTensor).\n",
            "  X_scaled_tensor = torch.tensor(combined_X, dtype=torch.float32).unsqueeze(1)\n"
          ]
        },
        {
          "output_type": "stream",
          "name": "stdout",
          "text": [
            "     Epoch 5: Train Loss = 0.5971, Val Loss = 1.8426\n",
            "     Epoch 10: Train Loss = 0.5957, Val Loss = 1.9658\n",
            "     Epoch 15: Train Loss = 0.5883, Val Loss = 2.0931\n",
            "     Epoch 20: Train Loss = 0.5921, Val Loss = 2.1796\n",
            "    ⏹️ Early stopping at epoch 20\n",
            " Run 5 finished with best val loss: 1.7387\n",
            "Original Error Percentage (Test Dataset): 4.1651%\n",
            "Corrected Error Percentage (Test Dataset): 3.9906%\n",
            " Finished configuration H=32, D=0.2, LR=0.0001, B=32 → Avg Val Loss: 1.8903, Avg Accuracy: 9.9944%\n",
            "\n",
            " Running 22/81: H=32, D=0.2, LR=0.0005, B=8\n",
            "   Run 1/5 ... "
          ]
        },
        {
          "output_type": "stream",
          "name": "stderr",
          "text": [
            "<ipython-input-44-b273c6d16a7f>:152: UserWarning: To copy construct from a tensor, it is recommended to use sourceTensor.clone().detach() or sourceTensor.clone().detach().requires_grad_(True), rather than torch.tensor(sourceTensor).\n",
            "  X_scaled_tensor = torch.tensor(combined_X, dtype=torch.float32).unsqueeze(1)\n"
          ]
        },
        {
          "output_type": "stream",
          "name": "stdout",
          "text": [
            "     Epoch 0: Train Loss = 0.5973, Val Loss = 3.7345\n",
            "     Epoch 5: Train Loss = 0.5804, Val Loss = 12.7174\n",
            "     Epoch 10: Train Loss = 0.5788, Val Loss = 13.2756\n",
            "     Epoch 15: Train Loss = 0.5768, Val Loss = 15.8696\n",
            "     Epoch 20: Train Loss = 0.5768, Val Loss = 13.0852\n",
            "    ⏹️ Early stopping at epoch 20\n",
            " Run 1 finished with best val loss: 3.7345\n",
            "Original Error Percentage (Test Dataset): 4.1651%\n",
            "Corrected Error Percentage (Test Dataset): 38.9636%\n",
            "   Run 2/5 ... "
          ]
        },
        {
          "output_type": "stream",
          "name": "stderr",
          "text": [
            "<ipython-input-44-b273c6d16a7f>:152: UserWarning: To copy construct from a tensor, it is recommended to use sourceTensor.clone().detach() or sourceTensor.clone().detach().requires_grad_(True), rather than torch.tensor(sourceTensor).\n",
            "  X_scaled_tensor = torch.tensor(combined_X, dtype=torch.float32).unsqueeze(1)\n"
          ]
        },
        {
          "output_type": "stream",
          "name": "stdout",
          "text": [
            "     Epoch 0: Train Loss = 0.6121, Val Loss = 3.3061\n",
            "     Epoch 5: Train Loss = 0.5899, Val Loss = 7.8128\n",
            "     Epoch 10: Train Loss = 0.5851, Val Loss = 10.7863\n",
            "     Epoch 15: Train Loss = 0.5838, Val Loss = 13.4416\n",
            "     Epoch 20: Train Loss = 0.5826, Val Loss = 12.4640\n",
            "    ⏹️ Early stopping at epoch 20\n",
            " Run 2 finished with best val loss: 3.3061\n",
            "Original Error Percentage (Test Dataset): 4.1651%\n",
            "Corrected Error Percentage (Test Dataset): 37.5674%\n",
            "   Run 3/5 ... "
          ]
        },
        {
          "output_type": "stream",
          "name": "stderr",
          "text": [
            "<ipython-input-44-b273c6d16a7f>:152: UserWarning: To copy construct from a tensor, it is recommended to use sourceTensor.clone().detach() or sourceTensor.clone().detach().requires_grad_(True), rather than torch.tensor(sourceTensor).\n",
            "  X_scaled_tensor = torch.tensor(combined_X, dtype=torch.float32).unsqueeze(1)\n"
          ]
        },
        {
          "output_type": "stream",
          "name": "stdout",
          "text": [
            "     Epoch 0: Train Loss = 0.6347, Val Loss = 2.2630\n",
            "     Epoch 5: Train Loss = 0.5864, Val Loss = 8.6741\n",
            "     Epoch 10: Train Loss = 0.5875, Val Loss = 11.5502\n",
            "     Epoch 15: Train Loss = 0.5809, Val Loss = 10.0121\n",
            "     Epoch 20: Train Loss = 0.5817, Val Loss = 11.3402\n",
            "    ⏹️ Early stopping at epoch 20\n",
            " Run 3 finished with best val loss: 2.2630\n",
            "Original Error Percentage (Test Dataset): 4.1651%\n",
            "Corrected Error Percentage (Test Dataset): 34.2499%\n",
            "   Run 4/5 ... "
          ]
        },
        {
          "output_type": "stream",
          "name": "stderr",
          "text": [
            "<ipython-input-44-b273c6d16a7f>:152: UserWarning: To copy construct from a tensor, it is recommended to use sourceTensor.clone().detach() or sourceTensor.clone().detach().requires_grad_(True), rather than torch.tensor(sourceTensor).\n",
            "  X_scaled_tensor = torch.tensor(combined_X, dtype=torch.float32).unsqueeze(1)\n"
          ]
        },
        {
          "output_type": "stream",
          "name": "stdout",
          "text": [
            "     Epoch 0: Train Loss = 0.6188, Val Loss = 2.1015\n",
            "     Epoch 5: Train Loss = 0.5955, Val Loss = 3.5877\n",
            "     Epoch 10: Train Loss = 0.5885, Val Loss = 4.5987\n",
            "     Epoch 15: Train Loss = 0.5824, Val Loss = 6.1709\n",
            "     Epoch 20: Train Loss = 0.5776, Val Loss = 7.2888\n",
            "    ⏹️ Early stopping at epoch 20\n",
            " Run 4 finished with best val loss: 2.1015\n",
            "Original Error Percentage (Test Dataset): 4.1651%\n",
            "Corrected Error Percentage (Test Dataset): 23.1492%\n",
            "   Run 5/5 ... "
          ]
        },
        {
          "output_type": "stream",
          "name": "stderr",
          "text": [
            "<ipython-input-44-b273c6d16a7f>:152: UserWarning: To copy construct from a tensor, it is recommended to use sourceTensor.clone().detach() or sourceTensor.clone().detach().requires_grad_(True), rather than torch.tensor(sourceTensor).\n",
            "  X_scaled_tensor = torch.tensor(combined_X, dtype=torch.float32).unsqueeze(1)\n"
          ]
        },
        {
          "output_type": "stream",
          "name": "stdout",
          "text": [
            "     Epoch 0: Train Loss = 0.6115, Val Loss = 3.1552\n",
            "     Epoch 5: Train Loss = 0.5947, Val Loss = 6.8492\n",
            "     Epoch 10: Train Loss = 0.5852, Val Loss = 8.6981\n",
            "     Epoch 15: Train Loss = 0.5778, Val Loss = 8.7421\n",
            "     Epoch 20: Train Loss = 0.5812, Val Loss = 8.6632\n",
            "    ⏹️ Early stopping at epoch 20\n",
            " Run 5 finished with best val loss: 3.1552\n",
            "Original Error Percentage (Test Dataset): 4.1651%\n",
            "Corrected Error Percentage (Test Dataset): 27.6536%\n",
            " Finished configuration H=32, D=0.2, LR=0.0005, B=8 → Avg Val Loss: 2.9120, Avg Accuracy: 32.3168%\n",
            "\n",
            " Running 23/81: H=32, D=0.2, LR=0.0005, B=16\n",
            "   Run 1/5 ...      Epoch 0: Train Loss = 0.6154, Val Loss = 3.0937\n"
          ]
        },
        {
          "output_type": "stream",
          "name": "stderr",
          "text": [
            "<ipython-input-44-b273c6d16a7f>:152: UserWarning: To copy construct from a tensor, it is recommended to use sourceTensor.clone().detach() or sourceTensor.clone().detach().requires_grad_(True), rather than torch.tensor(sourceTensor).\n",
            "  X_scaled_tensor = torch.tensor(combined_X, dtype=torch.float32).unsqueeze(1)\n"
          ]
        },
        {
          "output_type": "stream",
          "name": "stdout",
          "text": [
            "     Epoch 5: Train Loss = 0.5903, Val Loss = 8.7982\n",
            "     Epoch 10: Train Loss = 0.5824, Val Loss = 9.2655\n",
            "     Epoch 15: Train Loss = 0.5849, Val Loss = 8.7607\n",
            "     Epoch 20: Train Loss = 0.5857, Val Loss = 8.6781\n",
            "    ⏹️ Early stopping at epoch 20\n",
            " Run 1 finished with best val loss: 3.0937\n",
            "Original Error Percentage (Test Dataset): 4.1651%\n",
            "Corrected Error Percentage (Test Dataset): 27.2137%\n",
            "   Run 2/5 ...      Epoch 0: Train Loss = 0.6744, Val Loss = 2.9987\n"
          ]
        },
        {
          "output_type": "stream",
          "name": "stderr",
          "text": [
            "<ipython-input-44-b273c6d16a7f>:152: UserWarning: To copy construct from a tensor, it is recommended to use sourceTensor.clone().detach() or sourceTensor.clone().detach().requires_grad_(True), rather than torch.tensor(sourceTensor).\n",
            "  X_scaled_tensor = torch.tensor(combined_X, dtype=torch.float32).unsqueeze(1)\n"
          ]
        },
        {
          "output_type": "stream",
          "name": "stdout",
          "text": [
            "     Epoch 5: Train Loss = 0.5826, Val Loss = 9.2678\n",
            "     Epoch 10: Train Loss = 0.5909, Val Loss = 12.8727\n",
            "     Epoch 15: Train Loss = 0.5824, Val Loss = 13.8807\n",
            "     Epoch 20: Train Loss = 0.5852, Val Loss = 11.0374\n",
            "    ⏹️ Early stopping at epoch 20\n",
            " Run 2 finished with best val loss: 2.9987\n",
            "Original Error Percentage (Test Dataset): 4.1651%\n",
            "Corrected Error Percentage (Test Dataset): 33.9531%\n",
            "   Run 3/5 ...      Epoch 0: Train Loss = 0.5914, Val Loss = 5.0750\n"
          ]
        },
        {
          "output_type": "stream",
          "name": "stderr",
          "text": [
            "<ipython-input-44-b273c6d16a7f>:152: UserWarning: To copy construct from a tensor, it is recommended to use sourceTensor.clone().detach() or sourceTensor.clone().detach().requires_grad_(True), rather than torch.tensor(sourceTensor).\n",
            "  X_scaled_tensor = torch.tensor(combined_X, dtype=torch.float32).unsqueeze(1)\n"
          ]
        },
        {
          "output_type": "stream",
          "name": "stdout",
          "text": [
            "     Epoch 5: Train Loss = 0.5823, Val Loss = 15.5050\n",
            "     Epoch 10: Train Loss = 0.5797, Val Loss = 15.2596\n",
            "     Epoch 15: Train Loss = 0.5783, Val Loss = 14.2478\n",
            "     Epoch 20: Train Loss = 0.5770, Val Loss = 15.6641\n",
            "    ⏹️ Early stopping at epoch 20\n",
            " Run 3 finished with best val loss: 5.0750\n",
            "Original Error Percentage (Test Dataset): 4.1651%\n",
            "Corrected Error Percentage (Test Dataset): 44.3366%\n",
            "   Run 4/5 ...      Epoch 0: Train Loss = 0.6105, Val Loss = 1.8126\n"
          ]
        },
        {
          "output_type": "stream",
          "name": "stderr",
          "text": [
            "<ipython-input-44-b273c6d16a7f>:152: UserWarning: To copy construct from a tensor, it is recommended to use sourceTensor.clone().detach() or sourceTensor.clone().detach().requires_grad_(True), rather than torch.tensor(sourceTensor).\n",
            "  X_scaled_tensor = torch.tensor(combined_X, dtype=torch.float32).unsqueeze(1)\n"
          ]
        },
        {
          "output_type": "stream",
          "name": "stdout",
          "text": [
            "     Epoch 5: Train Loss = 0.5887, Val Loss = 6.2502\n",
            "     Epoch 10: Train Loss = 0.5759, Val Loss = 10.3351\n",
            "     Epoch 15: Train Loss = 0.5792, Val Loss = 11.2854\n",
            "     Epoch 20: Train Loss = 0.5749, Val Loss = 14.4245\n",
            "    ⏹️ Early stopping at epoch 20\n",
            " Run 4 finished with best val loss: 1.8126\n",
            "Original Error Percentage (Test Dataset): 4.1651%\n",
            "Corrected Error Percentage (Test Dataset): 41.4881%\n",
            "   Run 5/5 ...      Epoch 0: Train Loss = 0.6074, Val Loss = 1.8922\n"
          ]
        },
        {
          "output_type": "stream",
          "name": "stderr",
          "text": [
            "<ipython-input-44-b273c6d16a7f>:152: UserWarning: To copy construct from a tensor, it is recommended to use sourceTensor.clone().detach() or sourceTensor.clone().detach().requires_grad_(True), rather than torch.tensor(sourceTensor).\n",
            "  X_scaled_tensor = torch.tensor(combined_X, dtype=torch.float32).unsqueeze(1)\n"
          ]
        },
        {
          "output_type": "stream",
          "name": "stdout",
          "text": [
            "     Epoch 5: Train Loss = 0.5896, Val Loss = 6.5702\n",
            "     Epoch 10: Train Loss = 0.5865, Val Loss = 8.1591\n",
            "     Epoch 15: Train Loss = 0.5834, Val Loss = 8.8904\n",
            "     Epoch 20: Train Loss = 0.5868, Val Loss = 8.6390\n",
            "    ⏹️ Early stopping at epoch 20\n",
            " Run 5 finished with best val loss: 1.8922\n",
            "Original Error Percentage (Test Dataset): 4.1651%\n",
            "Corrected Error Percentage (Test Dataset): 26.8383%\n",
            " Finished configuration H=32, D=0.2, LR=0.0005, B=16 → Avg Val Loss: 2.9745, Avg Accuracy: 34.7660%\n",
            "\n",
            " Running 24/81: H=32, D=0.2, LR=0.0005, B=32\n",
            "   Run 1/5 ...      Epoch 0: Train Loss = 0.6180, Val Loss = 1.7601\n"
          ]
        },
        {
          "output_type": "stream",
          "name": "stderr",
          "text": [
            "<ipython-input-44-b273c6d16a7f>:152: UserWarning: To copy construct from a tensor, it is recommended to use sourceTensor.clone().detach() or sourceTensor.clone().detach().requires_grad_(True), rather than torch.tensor(sourceTensor).\n",
            "  X_scaled_tensor = torch.tensor(combined_X, dtype=torch.float32).unsqueeze(1)\n"
          ]
        },
        {
          "output_type": "stream",
          "name": "stdout",
          "text": [
            "     Epoch 5: Train Loss = 0.5864, Val Loss = 4.4238\n",
            "     Epoch 10: Train Loss = 0.5836, Val Loss = 9.1274\n",
            "     Epoch 15: Train Loss = 0.5787, Val Loss = 14.0271\n",
            "     Epoch 20: Train Loss = 0.5811, Val Loss = 15.5717\n",
            "    ⏹️ Early stopping at epoch 20\n",
            " Run 1 finished with best val loss: 1.7601\n",
            "Original Error Percentage (Test Dataset): 4.1651%\n",
            "Corrected Error Percentage (Test Dataset): 44.3046%\n",
            "   Run 2/5 ...      Epoch 0: Train Loss = 0.6425, Val Loss = 6.2046\n"
          ]
        },
        {
          "output_type": "stream",
          "name": "stderr",
          "text": [
            "<ipython-input-44-b273c6d16a7f>:152: UserWarning: To copy construct from a tensor, it is recommended to use sourceTensor.clone().detach() or sourceTensor.clone().detach().requires_grad_(True), rather than torch.tensor(sourceTensor).\n",
            "  X_scaled_tensor = torch.tensor(combined_X, dtype=torch.float32).unsqueeze(1)\n"
          ]
        },
        {
          "output_type": "stream",
          "name": "stdout",
          "text": [
            "     Epoch 5: Train Loss = 0.5928, Val Loss = 9.0874\n",
            "     Epoch 10: Train Loss = 0.5873, Val Loss = 11.7651\n",
            "     Epoch 15: Train Loss = 0.5837, Val Loss = 11.5370\n",
            "     Epoch 20: Train Loss = 0.5800, Val Loss = 12.1954\n",
            "    ⏹️ Early stopping at epoch 22\n",
            " Run 2 finished with best val loss: 5.3155\n",
            "Original Error Percentage (Test Dataset): 4.1651%\n",
            "Corrected Error Percentage (Test Dataset): 36.8086%\n",
            "   Run 3/5 ... "
          ]
        },
        {
          "output_type": "stream",
          "name": "stderr",
          "text": [
            "<ipython-input-44-b273c6d16a7f>:152: UserWarning: To copy construct from a tensor, it is recommended to use sourceTensor.clone().detach() or sourceTensor.clone().detach().requires_grad_(True), rather than torch.tensor(sourceTensor).\n",
            "  X_scaled_tensor = torch.tensor(combined_X, dtype=torch.float32).unsqueeze(1)\n"
          ]
        },
        {
          "output_type": "stream",
          "name": "stdout",
          "text": [
            "     Epoch 0: Train Loss = 0.6401, Val Loss = 2.0860\n",
            "     Epoch 5: Train Loss = 0.5911, Val Loss = 3.2898\n",
            "     Epoch 10: Train Loss = 0.5854, Val Loss = 4.9299\n",
            "     Epoch 15: Train Loss = 0.5884, Val Loss = 5.6885\n",
            "     Epoch 20: Train Loss = 0.5838, Val Loss = 6.9471\n",
            "    ⏹️ Early stopping at epoch 20\n",
            " Run 3 finished with best val loss: 2.0860\n",
            "Original Error Percentage (Test Dataset): 4.1651%\n",
            "Corrected Error Percentage (Test Dataset): 22.3400%\n",
            "   Run 4/5 ...      Epoch 0: Train Loss = 0.6741, Val Loss = 2.1593\n"
          ]
        },
        {
          "output_type": "stream",
          "name": "stderr",
          "text": [
            "<ipython-input-44-b273c6d16a7f>:152: UserWarning: To copy construct from a tensor, it is recommended to use sourceTensor.clone().detach() or sourceTensor.clone().detach().requires_grad_(True), rather than torch.tensor(sourceTensor).\n",
            "  X_scaled_tensor = torch.tensor(combined_X, dtype=torch.float32).unsqueeze(1)\n"
          ]
        },
        {
          "output_type": "stream",
          "name": "stdout",
          "text": [
            "     Epoch 5: Train Loss = 0.5975, Val Loss = 4.0432\n",
            "     Epoch 10: Train Loss = 0.5902, Val Loss = 6.3942\n",
            "     Epoch 15: Train Loss = 0.5899, Val Loss = 8.6499\n",
            "     Epoch 20: Train Loss = 0.5904, Val Loss = 9.8073\n",
            "    ⏹️ Early stopping at epoch 21\n",
            " Run 4 finished with best val loss: 2.1270\n",
            "Original Error Percentage (Test Dataset): 4.1651%\n",
            "Corrected Error Percentage (Test Dataset): 29.3355%\n",
            "   Run 5/5 ...      Epoch 0: Train Loss = 0.6314, Val Loss = 1.8200\n"
          ]
        },
        {
          "output_type": "stream",
          "name": "stderr",
          "text": [
            "<ipython-input-44-b273c6d16a7f>:152: UserWarning: To copy construct from a tensor, it is recommended to use sourceTensor.clone().detach() or sourceTensor.clone().detach().requires_grad_(True), rather than torch.tensor(sourceTensor).\n",
            "  X_scaled_tensor = torch.tensor(combined_X, dtype=torch.float32).unsqueeze(1)\n"
          ]
        },
        {
          "output_type": "stream",
          "name": "stdout",
          "text": [
            "     Epoch 5: Train Loss = 0.5952, Val Loss = 5.8935\n",
            "     Epoch 10: Train Loss = 0.5866, Val Loss = 8.6493\n",
            "     Epoch 15: Train Loss = 0.5882, Val Loss = 10.6171\n",
            "     Epoch 20: Train Loss = 0.5874, Val Loss = 12.2604\n",
            "    ⏹️ Early stopping at epoch 20\n",
            " Run 5 finished with best val loss: 1.8200\n",
            "Original Error Percentage (Test Dataset): 4.1651%\n",
            "Corrected Error Percentage (Test Dataset): 36.1506%\n",
            " Finished configuration H=32, D=0.2, LR=0.0005, B=32 → Avg Val Loss: 2.6217, Avg Accuracy: 33.7879%\n",
            "\n",
            " Running 25/81: H=32, D=0.2, LR=0.001, B=8\n",
            "   Run 1/5 ... "
          ]
        },
        {
          "output_type": "stream",
          "name": "stderr",
          "text": [
            "<ipython-input-44-b273c6d16a7f>:152: UserWarning: To copy construct from a tensor, it is recommended to use sourceTensor.clone().detach() or sourceTensor.clone().detach().requires_grad_(True), rather than torch.tensor(sourceTensor).\n",
            "  X_scaled_tensor = torch.tensor(combined_X, dtype=torch.float32).unsqueeze(1)\n"
          ]
        },
        {
          "output_type": "stream",
          "name": "stdout",
          "text": [
            "     Epoch 0: Train Loss = 0.6053, Val Loss = 3.3568\n",
            "     Epoch 5: Train Loss = 0.5838, Val Loss = 9.2706\n",
            "     Epoch 10: Train Loss = 0.5789, Val Loss = 10.8783\n",
            "     Epoch 15: Train Loss = 0.5776, Val Loss = 8.8012\n",
            "     Epoch 20: Train Loss = 0.5832, Val Loss = 10.1420\n",
            "    ⏹️ Early stopping at epoch 20\n",
            " Run 1 finished with best val loss: 3.3568\n",
            "Original Error Percentage (Test Dataset): 4.1651%\n",
            "Corrected Error Percentage (Test Dataset): 31.2873%\n",
            "   Run 2/5 ... "
          ]
        },
        {
          "output_type": "stream",
          "name": "stderr",
          "text": [
            "<ipython-input-44-b273c6d16a7f>:152: UserWarning: To copy construct from a tensor, it is recommended to use sourceTensor.clone().detach() or sourceTensor.clone().detach().requires_grad_(True), rather than torch.tensor(sourceTensor).\n",
            "  X_scaled_tensor = torch.tensor(combined_X, dtype=torch.float32).unsqueeze(1)\n"
          ]
        },
        {
          "output_type": "stream",
          "name": "stdout",
          "text": [
            "     Epoch 0: Train Loss = 0.5947, Val Loss = 8.8430\n",
            "     Epoch 5: Train Loss = 0.5800, Val Loss = 12.8944\n",
            "     Epoch 10: Train Loss = 0.5823, Val Loss = 14.3815\n",
            "     Epoch 15: Train Loss = 0.5757, Val Loss = 15.7656\n",
            "     Epoch 20: Train Loss = 0.5786, Val Loss = 15.3798\n",
            "    ⏹️ Early stopping at epoch 21\n",
            " Run 2 finished with best val loss: 8.5482\n",
            "Original Error Percentage (Test Dataset): 4.1651%\n",
            "Corrected Error Percentage (Test Dataset): 43.6770%\n",
            "   Run 3/5 ... "
          ]
        },
        {
          "output_type": "stream",
          "name": "stderr",
          "text": [
            "<ipython-input-44-b273c6d16a7f>:152: UserWarning: To copy construct from a tensor, it is recommended to use sourceTensor.clone().detach() or sourceTensor.clone().detach().requires_grad_(True), rather than torch.tensor(sourceTensor).\n",
            "  X_scaled_tensor = torch.tensor(combined_X, dtype=torch.float32).unsqueeze(1)\n"
          ]
        },
        {
          "output_type": "stream",
          "name": "stdout",
          "text": [
            "     Epoch 0: Train Loss = 0.5973, Val Loss = 3.6868\n",
            "     Epoch 5: Train Loss = 0.5782, Val Loss = 12.2276\n",
            "     Epoch 10: Train Loss = 0.5793, Val Loss = 12.3360\n",
            "     Epoch 15: Train Loss = 0.5791, Val Loss = 10.1353\n",
            "     Epoch 20: Train Loss = 0.5791, Val Loss = 10.9090\n",
            "    ⏹️ Early stopping at epoch 20\n",
            " Run 3 finished with best val loss: 3.6868\n",
            "Original Error Percentage (Test Dataset): 4.1651%\n",
            "Corrected Error Percentage (Test Dataset): 33.7748%\n",
            "   Run 4/5 ... "
          ]
        },
        {
          "output_type": "stream",
          "name": "stderr",
          "text": [
            "<ipython-input-44-b273c6d16a7f>:152: UserWarning: To copy construct from a tensor, it is recommended to use sourceTensor.clone().detach() or sourceTensor.clone().detach().requires_grad_(True), rather than torch.tensor(sourceTensor).\n",
            "  X_scaled_tensor = torch.tensor(combined_X, dtype=torch.float32).unsqueeze(1)\n"
          ]
        },
        {
          "output_type": "stream",
          "name": "stdout",
          "text": [
            "     Epoch 0: Train Loss = 0.6278, Val Loss = 2.6918\n",
            "     Epoch 5: Train Loss = 0.5877, Val Loss = 7.3587\n",
            "     Epoch 10: Train Loss = 0.5869, Val Loss = 7.8708\n",
            "     Epoch 15: Train Loss = 0.5853, Val Loss = 6.0280\n",
            "     Epoch 20: Train Loss = 0.5808, Val Loss = 7.8252\n",
            "    ⏹️ Early stopping at epoch 20\n",
            " Run 4 finished with best val loss: 2.6918\n",
            "Original Error Percentage (Test Dataset): 4.1651%\n",
            "Corrected Error Percentage (Test Dataset): 25.1287%\n",
            "   Run 5/5 ... "
          ]
        },
        {
          "output_type": "stream",
          "name": "stderr",
          "text": [
            "<ipython-input-44-b273c6d16a7f>:152: UserWarning: To copy construct from a tensor, it is recommended to use sourceTensor.clone().detach() or sourceTensor.clone().detach().requires_grad_(True), rather than torch.tensor(sourceTensor).\n",
            "  X_scaled_tensor = torch.tensor(combined_X, dtype=torch.float32).unsqueeze(1)\n"
          ]
        },
        {
          "output_type": "stream",
          "name": "stdout",
          "text": [
            "     Epoch 0: Train Loss = 0.6209, Val Loss = 3.5133\n",
            "     Epoch 5: Train Loss = 0.5829, Val Loss = 9.7709\n",
            "     Epoch 10: Train Loss = 0.5912, Val Loss = 13.4160\n",
            "     Epoch 15: Train Loss = 0.5840, Val Loss = 11.9507\n",
            "     Epoch 20: Train Loss = 0.5786, Val Loss = 11.9853\n",
            "    ⏹️ Early stopping at epoch 20\n",
            " Run 5 finished with best val loss: 3.5133\n",
            "Original Error Percentage (Test Dataset): 4.1651%\n",
            "Corrected Error Percentage (Test Dataset): 35.5815%\n",
            " Finished configuration H=32, D=0.2, LR=0.001, B=8 → Avg Val Loss: 4.3594, Avg Accuracy: 33.8899%\n",
            "\n",
            " Running 26/81: H=32, D=0.2, LR=0.001, B=16\n",
            "   Run 1/5 ...      Epoch 0: Train Loss = 0.6148, Val Loss = 2.9384\n"
          ]
        },
        {
          "output_type": "stream",
          "name": "stderr",
          "text": [
            "<ipython-input-44-b273c6d16a7f>:152: UserWarning: To copy construct from a tensor, it is recommended to use sourceTensor.clone().detach() or sourceTensor.clone().detach().requires_grad_(True), rather than torch.tensor(sourceTensor).\n",
            "  X_scaled_tensor = torch.tensor(combined_X, dtype=torch.float32).unsqueeze(1)\n"
          ]
        },
        {
          "output_type": "stream",
          "name": "stdout",
          "text": [
            "     Epoch 5: Train Loss = 0.5819, Val Loss = 9.4066\n",
            "     Epoch 10: Train Loss = 0.5839, Val Loss = 11.6227\n",
            "     Epoch 15: Train Loss = 0.5774, Val Loss = 10.1620\n",
            "     Epoch 20: Train Loss = 0.5806, Val Loss = 13.4067\n",
            "    ⏹️ Early stopping at epoch 20\n",
            " Run 1 finished with best val loss: 2.9384\n",
            "Original Error Percentage (Test Dataset): 4.1651%\n",
            "Corrected Error Percentage (Test Dataset): 39.4755%\n",
            "   Run 2/5 ...      Epoch 0: Train Loss = 0.6031, Val Loss = 4.3734\n"
          ]
        },
        {
          "output_type": "stream",
          "name": "stderr",
          "text": [
            "<ipython-input-44-b273c6d16a7f>:152: UserWarning: To copy construct from a tensor, it is recommended to use sourceTensor.clone().detach() or sourceTensor.clone().detach().requires_grad_(True), rather than torch.tensor(sourceTensor).\n",
            "  X_scaled_tensor = torch.tensor(combined_X, dtype=torch.float32).unsqueeze(1)\n"
          ]
        },
        {
          "output_type": "stream",
          "name": "stdout",
          "text": [
            "     Epoch 5: Train Loss = 0.5859, Val Loss = 9.6060\n",
            "     Epoch 10: Train Loss = 0.5818, Val Loss = 12.8266\n",
            "     Epoch 15: Train Loss = 0.5751, Val Loss = 12.8854\n",
            "     Epoch 20: Train Loss = 0.5821, Val Loss = 12.3375\n",
            "    ⏹️ Early stopping at epoch 20\n",
            " Run 2 finished with best val loss: 4.3734\n",
            "Original Error Percentage (Test Dataset): 4.1651%\n",
            "Corrected Error Percentage (Test Dataset): 37.4365%\n",
            "   Run 3/5 ...      Epoch 0: Train Loss = 0.5967, Val Loss = 4.8440\n"
          ]
        },
        {
          "output_type": "stream",
          "name": "stderr",
          "text": [
            "<ipython-input-44-b273c6d16a7f>:152: UserWarning: To copy construct from a tensor, it is recommended to use sourceTensor.clone().detach() or sourceTensor.clone().detach().requires_grad_(True), rather than torch.tensor(sourceTensor).\n",
            "  X_scaled_tensor = torch.tensor(combined_X, dtype=torch.float32).unsqueeze(1)\n"
          ]
        },
        {
          "output_type": "stream",
          "name": "stdout",
          "text": [
            "     Epoch 5: Train Loss = 0.5839, Val Loss = 10.0474\n",
            "     Epoch 10: Train Loss = 0.5819, Val Loss = 9.8762\n",
            "     Epoch 15: Train Loss = 0.5809, Val Loss = 10.4310\n",
            "     Epoch 20: Train Loss = 0.5809, Val Loss = 10.6055\n",
            "    ⏹️ Early stopping at epoch 20\n",
            " Run 3 finished with best val loss: 4.8440\n",
            "Original Error Percentage (Test Dataset): 4.1651%\n",
            "Corrected Error Percentage (Test Dataset): 32.7571%\n",
            "   Run 4/5 ...      Epoch 0: Train Loss = 0.6065, Val Loss = 2.0134\n"
          ]
        },
        {
          "output_type": "stream",
          "name": "stderr",
          "text": [
            "<ipython-input-44-b273c6d16a7f>:152: UserWarning: To copy construct from a tensor, it is recommended to use sourceTensor.clone().detach() or sourceTensor.clone().detach().requires_grad_(True), rather than torch.tensor(sourceTensor).\n",
            "  X_scaled_tensor = torch.tensor(combined_X, dtype=torch.float32).unsqueeze(1)\n"
          ]
        },
        {
          "output_type": "stream",
          "name": "stdout",
          "text": [
            "     Epoch 5: Train Loss = 0.5801, Val Loss = 11.4363\n",
            "     Epoch 10: Train Loss = 0.5827, Val Loss = 13.8336\n",
            "     Epoch 15: Train Loss = 0.5799, Val Loss = 12.6053\n",
            "     Epoch 20: Train Loss = 0.5780, Val Loss = 15.1930\n",
            "    ⏹️ Early stopping at epoch 20\n",
            " Run 4 finished with best val loss: 2.0134\n",
            "Original Error Percentage (Test Dataset): 4.1651%\n",
            "Corrected Error Percentage (Test Dataset): 43.5338%\n",
            "   Run 5/5 ...      Epoch 0: Train Loss = 0.6034, Val Loss = 2.9150\n"
          ]
        },
        {
          "output_type": "stream",
          "name": "stderr",
          "text": [
            "<ipython-input-44-b273c6d16a7f>:152: UserWarning: To copy construct from a tensor, it is recommended to use sourceTensor.clone().detach() or sourceTensor.clone().detach().requires_grad_(True), rather than torch.tensor(sourceTensor).\n",
            "  X_scaled_tensor = torch.tensor(combined_X, dtype=torch.float32).unsqueeze(1)\n"
          ]
        },
        {
          "output_type": "stream",
          "name": "stdout",
          "text": [
            "     Epoch 5: Train Loss = 0.5793, Val Loss = 9.6311\n",
            "     Epoch 10: Train Loss = 0.5772, Val Loss = 11.7125\n",
            "     Epoch 15: Train Loss = 0.5829, Val Loss = 11.4822\n",
            "     Epoch 20: Train Loss = 0.5782, Val Loss = 11.4797\n",
            "    ⏹️ Early stopping at epoch 20\n",
            " Run 5 finished with best val loss: 2.9150\n",
            "Original Error Percentage (Test Dataset): 4.1651%\n",
            "Corrected Error Percentage (Test Dataset): 35.3269%\n",
            " Finished configuration H=32, D=0.2, LR=0.001, B=16 → Avg Val Loss: 3.4169, Avg Accuracy: 37.7060%\n",
            "\n",
            " Running 27/81: H=32, D=0.2, LR=0.001, B=32\n",
            "   Run 1/5 ...      Epoch 0: Train Loss = 0.7707, Val Loss = 2.5199\n"
          ]
        },
        {
          "output_type": "stream",
          "name": "stderr",
          "text": [
            "<ipython-input-44-b273c6d16a7f>:152: UserWarning: To copy construct from a tensor, it is recommended to use sourceTensor.clone().detach() or sourceTensor.clone().detach().requires_grad_(True), rather than torch.tensor(sourceTensor).\n",
            "  X_scaled_tensor = torch.tensor(combined_X, dtype=torch.float32).unsqueeze(1)\n"
          ]
        },
        {
          "output_type": "stream",
          "name": "stdout",
          "text": [
            "     Epoch 5: Train Loss = 0.5930, Val Loss = 8.4555\n",
            "     Epoch 10: Train Loss = 0.5849, Val Loss = 9.5023\n",
            "     Epoch 15: Train Loss = 0.5776, Val Loss = 10.3679\n",
            "     Epoch 20: Train Loss = 0.5818, Val Loss = 8.3680\n",
            "    ⏹️ Early stopping at epoch 20\n",
            " Run 1 finished with best val loss: 2.5199\n",
            "Original Error Percentage (Test Dataset): 4.1651%\n",
            "Corrected Error Percentage (Test Dataset): 26.6864%\n",
            "   Run 2/5 ...      Epoch 0: Train Loss = 0.5932, Val Loss = 6.7944\n"
          ]
        },
        {
          "output_type": "stream",
          "name": "stderr",
          "text": [
            "<ipython-input-44-b273c6d16a7f>:152: UserWarning: To copy construct from a tensor, it is recommended to use sourceTensor.clone().detach() or sourceTensor.clone().detach().requires_grad_(True), rather than torch.tensor(sourceTensor).\n",
            "  X_scaled_tensor = torch.tensor(combined_X, dtype=torch.float32).unsqueeze(1)\n"
          ]
        },
        {
          "output_type": "stream",
          "name": "stdout",
          "text": [
            "     Epoch 5: Train Loss = 0.5815, Val Loss = 9.5507\n",
            "     Epoch 10: Train Loss = 0.5820, Val Loss = 9.0788\n",
            "     Epoch 15: Train Loss = 0.5830, Val Loss = 9.3808\n",
            "     Epoch 20: Train Loss = 0.5789, Val Loss = 10.4094\n",
            "    ⏹️ Early stopping at epoch 20\n",
            " Run 2 finished with best val loss: 6.7944\n",
            "Original Error Percentage (Test Dataset): 4.1651%\n",
            "Corrected Error Percentage (Test Dataset): 32.6641%\n",
            "   Run 3/5 ...      Epoch 0: Train Loss = 0.5924, Val Loss = 8.9059\n"
          ]
        },
        {
          "output_type": "stream",
          "name": "stderr",
          "text": [
            "<ipython-input-44-b273c6d16a7f>:152: UserWarning: To copy construct from a tensor, it is recommended to use sourceTensor.clone().detach() or sourceTensor.clone().detach().requires_grad_(True), rather than torch.tensor(sourceTensor).\n",
            "  X_scaled_tensor = torch.tensor(combined_X, dtype=torch.float32).unsqueeze(1)\n"
          ]
        },
        {
          "output_type": "stream",
          "name": "stdout",
          "text": [
            "     Epoch 5: Train Loss = 0.5818, Val Loss = 14.3587\n",
            "     Epoch 10: Train Loss = 0.5801, Val Loss = 16.2146\n",
            "     Epoch 15: Train Loss = 0.5778, Val Loss = 16.2759\n",
            "     Epoch 20: Train Loss = 0.5799, Val Loss = 13.3205\n",
            "    ⏹️ Early stopping at epoch 20\n",
            " Run 3 finished with best val loss: 8.9059\n",
            "Original Error Percentage (Test Dataset): 4.1651%\n",
            "Corrected Error Percentage (Test Dataset): 39.7486%\n",
            "   Run 4/5 ...      Epoch 0: Train Loss = 0.6274, Val Loss = 1.7962\n"
          ]
        },
        {
          "output_type": "stream",
          "name": "stderr",
          "text": [
            "<ipython-input-44-b273c6d16a7f>:152: UserWarning: To copy construct from a tensor, it is recommended to use sourceTensor.clone().detach() or sourceTensor.clone().detach().requires_grad_(True), rather than torch.tensor(sourceTensor).\n",
            "  X_scaled_tensor = torch.tensor(combined_X, dtype=torch.float32).unsqueeze(1)\n"
          ]
        },
        {
          "output_type": "stream",
          "name": "stdout",
          "text": [
            "     Epoch 5: Train Loss = 0.5912, Val Loss = 8.0393\n",
            "     Epoch 10: Train Loss = 0.5832, Val Loss = 9.0457\n",
            "     Epoch 15: Train Loss = 0.5817, Val Loss = 11.1806\n",
            "     Epoch 20: Train Loss = 0.5818, Val Loss = 9.8086\n",
            "    ⏹️ Early stopping at epoch 20\n",
            " Run 4 finished with best val loss: 1.7962\n",
            "Original Error Percentage (Test Dataset): 4.1651%\n",
            "Corrected Error Percentage (Test Dataset): 30.2339%\n",
            "   Run 5/5 ...      Epoch 0: Train Loss = 0.5983, Val Loss = 11.3251\n"
          ]
        },
        {
          "output_type": "stream",
          "name": "stderr",
          "text": [
            "<ipython-input-44-b273c6d16a7f>:152: UserWarning: To copy construct from a tensor, it is recommended to use sourceTensor.clone().detach() or sourceTensor.clone().detach().requires_grad_(True), rather than torch.tensor(sourceTensor).\n",
            "  X_scaled_tensor = torch.tensor(combined_X, dtype=torch.float32).unsqueeze(1)\n"
          ]
        },
        {
          "output_type": "stream",
          "name": "stdout",
          "text": [
            "     Epoch 5: Train Loss = 0.5854, Val Loss = 13.3979\n",
            "     Epoch 10: Train Loss = 0.5832, Val Loss = 14.4654\n",
            "     Epoch 15: Train Loss = 0.5803, Val Loss = 17.7507\n",
            "     Epoch 20: Train Loss = 0.5825, Val Loss = 14.5800\n",
            "    ⏹️ Early stopping at epoch 20\n",
            " Run 5 finished with best val loss: 11.3251\n",
            "Original Error Percentage (Test Dataset): 4.1651%\n",
            "Corrected Error Percentage (Test Dataset): 42.2738%\n",
            " Finished configuration H=32, D=0.2, LR=0.001, B=32 → Avg Val Loss: 6.2683, Avg Accuracy: 34.3214%\n",
            "\n",
            " Running 28/81: H=64, D=0.0, LR=0.0001, B=8\n",
            "   Run 1/5 ... "
          ]
        },
        {
          "output_type": "stream",
          "name": "stderr",
          "text": [
            "<ipython-input-44-b273c6d16a7f>:152: UserWarning: To copy construct from a tensor, it is recommended to use sourceTensor.clone().detach() or sourceTensor.clone().detach().requires_grad_(True), rather than torch.tensor(sourceTensor).\n",
            "  X_scaled_tensor = torch.tensor(combined_X, dtype=torch.float32).unsqueeze(1)\n"
          ]
        },
        {
          "output_type": "stream",
          "name": "stdout",
          "text": [
            "     Epoch 0: Train Loss = 0.5939, Val Loss = 2.3117\n",
            "     Epoch 5: Train Loss = 0.5782, Val Loss = 6.5029\n",
            "     Epoch 10: Train Loss = 0.5757, Val Loss = 9.9929\n",
            "     Epoch 15: Train Loss = 0.5748, Val Loss = 11.7658\n",
            "     Epoch 20: Train Loss = 0.5749, Val Loss = 11.7882\n",
            "    ⏹️ Early stopping at epoch 20\n",
            " Run 1 finished with best val loss: 2.3117\n",
            "Original Error Percentage (Test Dataset): 4.1651%\n",
            "Corrected Error Percentage (Test Dataset): 35.0630%\n",
            "   Run 2/5 ... "
          ]
        },
        {
          "output_type": "stream",
          "name": "stderr",
          "text": [
            "<ipython-input-44-b273c6d16a7f>:152: UserWarning: To copy construct from a tensor, it is recommended to use sourceTensor.clone().detach() or sourceTensor.clone().detach().requires_grad_(True), rather than torch.tensor(sourceTensor).\n",
            "  X_scaled_tensor = torch.tensor(combined_X, dtype=torch.float32).unsqueeze(1)\n"
          ]
        },
        {
          "output_type": "stream",
          "name": "stdout",
          "text": [
            "     Epoch 0: Train Loss = 0.5907, Val Loss = 5.4626\n",
            "     Epoch 5: Train Loss = 0.5770, Val Loss = 11.3604\n",
            "     Epoch 10: Train Loss = 0.5754, Val Loss = 13.5230\n",
            "     Epoch 15: Train Loss = 0.5757, Val Loss = 14.0594\n",
            "     Epoch 20: Train Loss = 0.5753, Val Loss = 13.9013\n",
            "    ⏹️ Early stopping at epoch 20\n",
            " Run 2 finished with best val loss: 5.4626\n",
            "Original Error Percentage (Test Dataset): 4.1651%\n",
            "Corrected Error Percentage (Test Dataset): 39.6211%\n",
            "   Run 3/5 ... "
          ]
        },
        {
          "output_type": "stream",
          "name": "stderr",
          "text": [
            "<ipython-input-44-b273c6d16a7f>:152: UserWarning: To copy construct from a tensor, it is recommended to use sourceTensor.clone().detach() or sourceTensor.clone().detach().requires_grad_(True), rather than torch.tensor(sourceTensor).\n",
            "  X_scaled_tensor = torch.tensor(combined_X, dtype=torch.float32).unsqueeze(1)\n"
          ]
        },
        {
          "output_type": "stream",
          "name": "stdout",
          "text": [
            "     Epoch 0: Train Loss = 0.5985, Val Loss = 1.9103\n",
            "     Epoch 5: Train Loss = 0.5784, Val Loss = 6.5815\n",
            "     Epoch 10: Train Loss = 0.5760, Val Loss = 10.4426\n",
            "     Epoch 15: Train Loss = 0.5750, Val Loss = 12.3596\n",
            "     Epoch 20: Train Loss = 0.5745, Val Loss = 13.0418\n",
            "    ⏹️ Early stopping at epoch 20\n",
            " Run 3 finished with best val loss: 1.9103\n",
            "Original Error Percentage (Test Dataset): 4.1651%\n",
            "Corrected Error Percentage (Test Dataset): 38.2898%\n",
            "   Run 4/5 ... "
          ]
        },
        {
          "output_type": "stream",
          "name": "stderr",
          "text": [
            "<ipython-input-44-b273c6d16a7f>:152: UserWarning: To copy construct from a tensor, it is recommended to use sourceTensor.clone().detach() or sourceTensor.clone().detach().requires_grad_(True), rather than torch.tensor(sourceTensor).\n",
            "  X_scaled_tensor = torch.tensor(combined_X, dtype=torch.float32).unsqueeze(1)\n"
          ]
        },
        {
          "output_type": "stream",
          "name": "stdout",
          "text": [
            "     Epoch 0: Train Loss = 0.5841, Val Loss = 6.8645\n",
            "     Epoch 5: Train Loss = 0.5761, Val Loss = 12.6535\n",
            "     Epoch 10: Train Loss = 0.5754, Val Loss = 16.6498\n",
            "     Epoch 15: Train Loss = 0.5750, Val Loss = 15.3700\n",
            "     Epoch 20: Train Loss = 0.5762, Val Loss = 15.2351\n",
            "    ⏹️ Early stopping at epoch 20\n",
            " Run 4 finished with best val loss: 6.8645\n",
            "Original Error Percentage (Test Dataset): 4.1651%\n",
            "Corrected Error Percentage (Test Dataset): 42.2639%\n",
            "   Run 5/5 ... "
          ]
        },
        {
          "output_type": "stream",
          "name": "stderr",
          "text": [
            "<ipython-input-44-b273c6d16a7f>:152: UserWarning: To copy construct from a tensor, it is recommended to use sourceTensor.clone().detach() or sourceTensor.clone().detach().requires_grad_(True), rather than torch.tensor(sourceTensor).\n",
            "  X_scaled_tensor = torch.tensor(combined_X, dtype=torch.float32).unsqueeze(1)\n"
          ]
        },
        {
          "output_type": "stream",
          "name": "stdout",
          "text": [
            "     Epoch 0: Train Loss = 0.5971, Val Loss = 3.8222\n",
            "     Epoch 5: Train Loss = 0.5766, Val Loss = 10.5753\n",
            "     Epoch 10: Train Loss = 0.5750, Val Loss = 14.0862\n",
            "     Epoch 15: Train Loss = 0.5755, Val Loss = 13.9253\n",
            "     Epoch 20: Train Loss = 0.5751, Val Loss = 14.0892\n",
            "    ⏹️ Early stopping at epoch 20\n",
            " Run 5 finished with best val loss: 3.8222\n",
            "Original Error Percentage (Test Dataset): 4.1651%\n",
            "Corrected Error Percentage (Test Dataset): 40.4449%\n",
            " Finished configuration H=64, D=0.0, LR=0.0001, B=8 → Avg Val Loss: 4.0743, Avg Accuracy: 39.1365%\n",
            "\n",
            " Running 29/81: H=64, D=0.0, LR=0.0001, B=16\n",
            "   Run 1/5 ...      Epoch 0: Train Loss = 0.6133, Val Loss = 1.9369\n"
          ]
        },
        {
          "output_type": "stream",
          "name": "stderr",
          "text": [
            "<ipython-input-44-b273c6d16a7f>:152: UserWarning: To copy construct from a tensor, it is recommended to use sourceTensor.clone().detach() or sourceTensor.clone().detach().requires_grad_(True), rather than torch.tensor(sourceTensor).\n",
            "  X_scaled_tensor = torch.tensor(combined_X, dtype=torch.float32).unsqueeze(1)\n"
          ]
        },
        {
          "output_type": "stream",
          "name": "stdout",
          "text": [
            "     Epoch 5: Train Loss = 0.5788, Val Loss = 5.6938\n",
            "     Epoch 10: Train Loss = 0.5763, Val Loss = 8.3389\n",
            "     Epoch 15: Train Loss = 0.5752, Val Loss = 9.7091\n",
            "     Epoch 20: Train Loss = 0.5750, Val Loss = 11.0511\n",
            "    ⏹️ Early stopping at epoch 21\n",
            " Run 1 finished with best val loss: 1.9207\n",
            "Original Error Percentage (Test Dataset): 4.1651%\n",
            "Corrected Error Percentage (Test Dataset): 32.3072%\n",
            "   Run 2/5 ... "
          ]
        },
        {
          "output_type": "stream",
          "name": "stderr",
          "text": [
            "<ipython-input-44-b273c6d16a7f>:152: UserWarning: To copy construct from a tensor, it is recommended to use sourceTensor.clone().detach() or sourceTensor.clone().detach().requires_grad_(True), rather than torch.tensor(sourceTensor).\n",
            "  X_scaled_tensor = torch.tensor(combined_X, dtype=torch.float32).unsqueeze(1)\n"
          ]
        },
        {
          "output_type": "stream",
          "name": "stdout",
          "text": [
            "     Epoch 0: Train Loss = 0.6127, Val Loss = 4.3774\n",
            "     Epoch 5: Train Loss = 0.5808, Val Loss = 5.7183\n",
            "     Epoch 10: Train Loss = 0.5768, Val Loss = 8.4297\n",
            "     Epoch 15: Train Loss = 0.5754, Val Loss = 10.1487\n",
            "     Epoch 20: Train Loss = 0.5751, Val Loss = 12.0385\n",
            "    ⏹️ Early stopping at epoch 21\n",
            " Run 2 finished with best val loss: 3.9632\n",
            "Original Error Percentage (Test Dataset): 4.1651%\n",
            "Corrected Error Percentage (Test Dataset): 37.3275%\n",
            "   Run 3/5 ... "
          ]
        },
        {
          "output_type": "stream",
          "name": "stderr",
          "text": [
            "<ipython-input-44-b273c6d16a7f>:152: UserWarning: To copy construct from a tensor, it is recommended to use sourceTensor.clone().detach() or sourceTensor.clone().detach().requires_grad_(True), rather than torch.tensor(sourceTensor).\n",
            "  X_scaled_tensor = torch.tensor(combined_X, dtype=torch.float32).unsqueeze(1)\n"
          ]
        },
        {
          "output_type": "stream",
          "name": "stdout",
          "text": [
            "     Epoch 0: Train Loss = 0.6075, Val Loss = 4.9121\n",
            "     Epoch 5: Train Loss = 0.5798, Val Loss = 5.8778\n",
            "     Epoch 10: Train Loss = 0.5762, Val Loss = 9.9191\n",
            "     Epoch 15: Train Loss = 0.5753, Val Loss = 10.7021\n",
            "     Epoch 20: Train Loss = 0.5751, Val Loss = 12.3078\n",
            "    ⏹️ Early stopping at epoch 21\n",
            " Run 3 finished with best val loss: 4.2574\n",
            "Original Error Percentage (Test Dataset): 4.1651%\n",
            "Corrected Error Percentage (Test Dataset): 36.7160%\n",
            "   Run 4/5 ... "
          ]
        },
        {
          "output_type": "stream",
          "name": "stderr",
          "text": [
            "<ipython-input-44-b273c6d16a7f>:152: UserWarning: To copy construct from a tensor, it is recommended to use sourceTensor.clone().detach() or sourceTensor.clone().detach().requires_grad_(True), rather than torch.tensor(sourceTensor).\n",
            "  X_scaled_tensor = torch.tensor(combined_X, dtype=torch.float32).unsqueeze(1)\n"
          ]
        },
        {
          "output_type": "stream",
          "name": "stdout",
          "text": [
            "     Epoch 0: Train Loss = 0.6101, Val Loss = 3.6813\n",
            "     Epoch 5: Train Loss = 0.5782, Val Loss = 10.7127\n",
            "     Epoch 10: Train Loss = 0.5756, Val Loss = 13.9544\n",
            "     Epoch 15: Train Loss = 0.5757, Val Loss = 15.4929\n",
            "     Epoch 20: Train Loss = 0.5752, Val Loss = 14.8597\n",
            "    ⏹️ Early stopping at epoch 20\n",
            " Run 4 finished with best val loss: 3.6813\n",
            "Original Error Percentage (Test Dataset): 4.1651%\n",
            "Corrected Error Percentage (Test Dataset): 42.1426%\n",
            "   Run 5/5 ...      Epoch 0: Train Loss = 0.6157, Val Loss = 1.9174\n"
          ]
        },
        {
          "output_type": "stream",
          "name": "stderr",
          "text": [
            "<ipython-input-44-b273c6d16a7f>:152: UserWarning: To copy construct from a tensor, it is recommended to use sourceTensor.clone().detach() or sourceTensor.clone().detach().requires_grad_(True), rather than torch.tensor(sourceTensor).\n",
            "  X_scaled_tensor = torch.tensor(combined_X, dtype=torch.float32).unsqueeze(1)\n"
          ]
        },
        {
          "output_type": "stream",
          "name": "stdout",
          "text": [
            "     Epoch 5: Train Loss = 0.5841, Val Loss = 4.0773\n",
            "     Epoch 10: Train Loss = 0.5784, Val Loss = 6.2031\n",
            "     Epoch 15: Train Loss = 0.5763, Val Loss = 7.8036\n",
            "     Epoch 20: Train Loss = 0.5754, Val Loss = 9.0313\n",
            "    ⏹️ Early stopping at epoch 20\n",
            " Run 5 finished with best val loss: 1.9174\n",
            "Original Error Percentage (Test Dataset): 4.1651%\n",
            "Corrected Error Percentage (Test Dataset): 27.6472%\n",
            " Finished configuration H=64, D=0.0, LR=0.0001, B=16 → Avg Val Loss: 3.1480, Avg Accuracy: 35.2281%\n",
            "\n",
            " Running 30/81: H=64, D=0.0, LR=0.0001, B=32\n",
            "   Run 1/5 ...      Epoch 0: Train Loss = 0.6006, Val Loss = 2.0586\n"
          ]
        },
        {
          "output_type": "stream",
          "name": "stderr",
          "text": [
            "<ipython-input-44-b273c6d16a7f>:152: UserWarning: To copy construct from a tensor, it is recommended to use sourceTensor.clone().detach() or sourceTensor.clone().detach().requires_grad_(True), rather than torch.tensor(sourceTensor).\n",
            "  X_scaled_tensor = torch.tensor(combined_X, dtype=torch.float32).unsqueeze(1)\n"
          ]
        },
        {
          "output_type": "stream",
          "name": "stdout",
          "text": [
            "     Epoch 5: Train Loss = 0.5820, Val Loss = 4.2027\n",
            "     Epoch 10: Train Loss = 0.5778, Val Loss = 6.6791\n",
            "     Epoch 15: Train Loss = 0.5758, Val Loss = 8.9335\n",
            "     Epoch 20: Train Loss = 0.5751, Val Loss = 10.5789\n",
            "    ⏹️ Early stopping at epoch 20\n",
            " Run 1 finished with best val loss: 2.0586\n",
            "Original Error Percentage (Test Dataset): 4.1651%\n",
            "Corrected Error Percentage (Test Dataset): 32.6134%\n",
            "   Run 2/5 ...      Epoch 0: Train Loss = 0.6712, Val Loss = 3.0493\n"
          ]
        },
        {
          "output_type": "stream",
          "name": "stderr",
          "text": [
            "<ipython-input-44-b273c6d16a7f>:152: UserWarning: To copy construct from a tensor, it is recommended to use sourceTensor.clone().detach() or sourceTensor.clone().detach().requires_grad_(True), rather than torch.tensor(sourceTensor).\n",
            "  X_scaled_tensor = torch.tensor(combined_X, dtype=torch.float32).unsqueeze(1)\n"
          ]
        },
        {
          "output_type": "stream",
          "name": "stdout",
          "text": [
            "     Epoch 5: Train Loss = 0.5877, Val Loss = 5.0651\n",
            "     Epoch 10: Train Loss = 0.5801, Val Loss = 7.9801\n",
            "     Epoch 15: Train Loss = 0.5777, Val Loss = 10.2673\n",
            "     Epoch 20: Train Loss = 0.5759, Val Loss = 12.1684\n",
            "    ⏹️ Early stopping at epoch 21\n",
            " Run 2 finished with best val loss: 3.0223\n",
            "Original Error Percentage (Test Dataset): 4.1651%\n",
            "Corrected Error Percentage (Test Dataset): 36.9104%\n",
            "   Run 3/5 ...      Epoch 0: Train Loss = 0.5901, Val Loss = 2.9846\n"
          ]
        },
        {
          "output_type": "stream",
          "name": "stderr",
          "text": [
            "<ipython-input-44-b273c6d16a7f>:152: UserWarning: To copy construct from a tensor, it is recommended to use sourceTensor.clone().detach() or sourceTensor.clone().detach().requires_grad_(True), rather than torch.tensor(sourceTensor).\n",
            "  X_scaled_tensor = torch.tensor(combined_X, dtype=torch.float32).unsqueeze(1)\n"
          ]
        },
        {
          "output_type": "stream",
          "name": "stdout",
          "text": [
            "     Epoch 5: Train Loss = 0.5787, Val Loss = 5.9942\n",
            "     Epoch 10: Train Loss = 0.5761, Val Loss = 8.6994\n",
            "     Epoch 15: Train Loss = 0.5752, Val Loss = 10.7728\n",
            "     Epoch 20: Train Loss = 0.5747, Val Loss = 11.9917\n",
            "    ⏹️ Early stopping at epoch 20\n",
            " Run 3 finished with best val loss: 2.9846\n",
            "Original Error Percentage (Test Dataset): 4.1651%\n",
            "Corrected Error Percentage (Test Dataset): 35.7657%\n",
            "   Run 4/5 ...      Epoch 0: Train Loss = 0.6159, Val Loss = 1.7267\n"
          ]
        },
        {
          "output_type": "stream",
          "name": "stderr",
          "text": [
            "<ipython-input-44-b273c6d16a7f>:152: UserWarning: To copy construct from a tensor, it is recommended to use sourceTensor.clone().detach() or sourceTensor.clone().detach().requires_grad_(True), rather than torch.tensor(sourceTensor).\n",
            "  X_scaled_tensor = torch.tensor(combined_X, dtype=torch.float32).unsqueeze(1)\n"
          ]
        },
        {
          "output_type": "stream",
          "name": "stdout",
          "text": [
            "     Epoch 5: Train Loss = 0.5840, Val Loss = 5.0916\n",
            "     Epoch 10: Train Loss = 0.5785, Val Loss = 8.5776\n",
            "     Epoch 15: Train Loss = 0.5754, Val Loss = 12.2949\n",
            "     Epoch 20: Train Loss = 0.5747, Val Loss = 13.6343\n",
            "    ⏹️ Early stopping at epoch 20\n",
            " Run 4 finished with best val loss: 1.7267\n",
            "Original Error Percentage (Test Dataset): 4.1651%\n",
            "Corrected Error Percentage (Test Dataset): 39.7337%\n",
            "   Run 5/5 ...      Epoch 0: Train Loss = 0.5819, Val Loss = 6.6228\n"
          ]
        },
        {
          "output_type": "stream",
          "name": "stderr",
          "text": [
            "<ipython-input-44-b273c6d16a7f>:152: UserWarning: To copy construct from a tensor, it is recommended to use sourceTensor.clone().detach() or sourceTensor.clone().detach().requires_grad_(True), rather than torch.tensor(sourceTensor).\n",
            "  X_scaled_tensor = torch.tensor(combined_X, dtype=torch.float32).unsqueeze(1)\n"
          ]
        },
        {
          "output_type": "stream",
          "name": "stdout",
          "text": [
            "     Epoch 5: Train Loss = 0.5770, Val Loss = 10.7411\n",
            "     Epoch 10: Train Loss = 0.5758, Val Loss = 12.6498\n",
            "     Epoch 15: Train Loss = 0.5754, Val Loss = 13.4430\n",
            "     Epoch 20: Train Loss = 0.5747, Val Loss = 14.2683\n",
            "    ⏹️ Early stopping at epoch 20\n",
            " Run 5 finished with best val loss: 6.6228\n",
            "Original Error Percentage (Test Dataset): 4.1651%\n",
            "Corrected Error Percentage (Test Dataset): 40.8982%\n",
            " Finished configuration H=64, D=0.0, LR=0.0001, B=32 → Avg Val Loss: 3.2830, Avg Accuracy: 37.1843%\n",
            "\n",
            " Running 31/81: H=64, D=0.0, LR=0.0005, B=8\n",
            "   Run 1/5 ... "
          ]
        },
        {
          "output_type": "stream",
          "name": "stderr",
          "text": [
            "<ipython-input-44-b273c6d16a7f>:152: UserWarning: To copy construct from a tensor, it is recommended to use sourceTensor.clone().detach() or sourceTensor.clone().detach().requires_grad_(True), rather than torch.tensor(sourceTensor).\n",
            "  X_scaled_tensor = torch.tensor(combined_X, dtype=torch.float32).unsqueeze(1)\n"
          ]
        },
        {
          "output_type": "stream",
          "name": "stdout",
          "text": [
            "     Epoch 0: Train Loss = 0.5901, Val Loss = 4.0168\n",
            "     Epoch 5: Train Loss = 0.5778, Val Loss = 11.8673\n",
            "     Epoch 10: Train Loss = 0.5771, Val Loss = 11.3721\n",
            "     Epoch 15: Train Loss = 0.5772, Val Loss = 10.9600\n",
            "     Epoch 20: Train Loss = 0.5768, Val Loss = 10.7177\n",
            "    ⏹️ Early stopping at epoch 20\n",
            " Run 1 finished with best val loss: 4.0168\n",
            "Original Error Percentage (Test Dataset): 4.1651%\n",
            "Corrected Error Percentage (Test Dataset): 31.9118%\n",
            "   Run 2/5 ... "
          ]
        },
        {
          "output_type": "stream",
          "name": "stderr",
          "text": [
            "<ipython-input-44-b273c6d16a7f>:152: UserWarning: To copy construct from a tensor, it is recommended to use sourceTensor.clone().detach() or sourceTensor.clone().detach().requires_grad_(True), rather than torch.tensor(sourceTensor).\n",
            "  X_scaled_tensor = torch.tensor(combined_X, dtype=torch.float32).unsqueeze(1)\n"
          ]
        },
        {
          "output_type": "stream",
          "name": "stdout",
          "text": [
            "     Epoch 0: Train Loss = 0.5820, Val Loss = 11.3181\n",
            "     Epoch 5: Train Loss = 0.5774, Val Loss = 10.3652\n",
            "     Epoch 10: Train Loss = 0.5770, Val Loss = 15.1438\n",
            "     Epoch 15: Train Loss = 0.5756, Val Loss = 14.9574\n",
            "     Epoch 20: Train Loss = 0.5748, Val Loss = 12.7597\n",
            "    ⏹️ Early stopping at epoch 21\n",
            " Run 2 finished with best val loss: 10.0857\n",
            "Original Error Percentage (Test Dataset): 4.1651%\n",
            "Corrected Error Percentage (Test Dataset): 42.7210%\n",
            "   Run 3/5 ... "
          ]
        },
        {
          "output_type": "stream",
          "name": "stderr",
          "text": [
            "<ipython-input-44-b273c6d16a7f>:152: UserWarning: To copy construct from a tensor, it is recommended to use sourceTensor.clone().detach() or sourceTensor.clone().detach().requires_grad_(True), rather than torch.tensor(sourceTensor).\n",
            "  X_scaled_tensor = torch.tensor(combined_X, dtype=torch.float32).unsqueeze(1)\n"
          ]
        },
        {
          "output_type": "stream",
          "name": "stdout",
          "text": [
            "     Epoch 0: Train Loss = 0.5996, Val Loss = 5.8868\n",
            "     Epoch 5: Train Loss = 0.5789, Val Loss = 11.6403\n",
            "     Epoch 10: Train Loss = 0.5777, Val Loss = 11.2433\n",
            "     Epoch 15: Train Loss = 0.5770, Val Loss = 11.3805\n",
            "     Epoch 20: Train Loss = 0.5766, Val Loss = 14.0962\n",
            "    ⏹️ Early stopping at epoch 20\n",
            " Run 3 finished with best val loss: 5.8868\n",
            "Original Error Percentage (Test Dataset): 4.1651%\n",
            "Corrected Error Percentage (Test Dataset): 39.1247%\n",
            "   Run 4/5 ... "
          ]
        },
        {
          "output_type": "stream",
          "name": "stderr",
          "text": [
            "<ipython-input-44-b273c6d16a7f>:152: UserWarning: To copy construct from a tensor, it is recommended to use sourceTensor.clone().detach() or sourceTensor.clone().detach().requires_grad_(True), rather than torch.tensor(sourceTensor).\n",
            "  X_scaled_tensor = torch.tensor(combined_X, dtype=torch.float32).unsqueeze(1)\n"
          ]
        },
        {
          "output_type": "stream",
          "name": "stdout",
          "text": [
            "     Epoch 0: Train Loss = 0.5859, Val Loss = 12.9626\n",
            "     Epoch 5: Train Loss = 0.5773, Val Loss = 13.3339\n",
            "     Epoch 10: Train Loss = 0.5763, Val Loss = 20.4927\n",
            "     Epoch 15: Train Loss = 0.5775, Val Loss = 16.2899\n",
            "     Epoch 20: Train Loss = 0.5757, Val Loss = 19.0283\n",
            "     Epoch 25: Train Loss = 0.5778, Val Loss = 16.0661\n",
            "     Epoch 30: Train Loss = 0.5762, Val Loss = 15.5714\n",
            "    ⏹️ Early stopping at epoch 31\n",
            " Run 4 finished with best val loss: 10.0112\n",
            "Original Error Percentage (Test Dataset): 4.1651%\n",
            "Corrected Error Percentage (Test Dataset): 38.0070%\n",
            "   Run 5/5 ... "
          ]
        },
        {
          "output_type": "stream",
          "name": "stderr",
          "text": [
            "<ipython-input-44-b273c6d16a7f>:152: UserWarning: To copy construct from a tensor, it is recommended to use sourceTensor.clone().detach() or sourceTensor.clone().detach().requires_grad_(True), rather than torch.tensor(sourceTensor).\n",
            "  X_scaled_tensor = torch.tensor(combined_X, dtype=torch.float32).unsqueeze(1)\n"
          ]
        },
        {
          "output_type": "stream",
          "name": "stdout",
          "text": [
            "     Epoch 0: Train Loss = 0.5859, Val Loss = 7.8069\n",
            "     Epoch 5: Train Loss = 0.5780, Val Loss = 16.0671\n",
            "     Epoch 10: Train Loss = 0.5774, Val Loss = 13.2138\n",
            "     Epoch 15: Train Loss = 0.5780, Val Loss = 11.6175\n",
            "     Epoch 20: Train Loss = 0.5770, Val Loss = 9.5442\n",
            "    ⏹️ Early stopping at epoch 20\n",
            " Run 5 finished with best val loss: 7.8069\n",
            "Original Error Percentage (Test Dataset): 4.1651%\n",
            "Corrected Error Percentage (Test Dataset): 29.8343%\n",
            " Finished configuration H=64, D=0.0, LR=0.0005, B=8 → Avg Val Loss: 7.5615, Avg Accuracy: 36.3198%\n",
            "\n",
            " Running 32/81: H=64, D=0.0, LR=0.0005, B=16\n",
            "   Run 1/5 ...      Epoch 0: Train Loss = 0.5836, Val Loss = 5.5176\n"
          ]
        },
        {
          "output_type": "stream",
          "name": "stderr",
          "text": [
            "<ipython-input-44-b273c6d16a7f>:152: UserWarning: To copy construct from a tensor, it is recommended to use sourceTensor.clone().detach() or sourceTensor.clone().detach().requires_grad_(True), rather than torch.tensor(sourceTensor).\n",
            "  X_scaled_tensor = torch.tensor(combined_X, dtype=torch.float32).unsqueeze(1)\n"
          ]
        },
        {
          "output_type": "stream",
          "name": "stdout",
          "text": [
            "     Epoch 5: Train Loss = 0.5760, Val Loss = 12.0427\n",
            "     Epoch 10: Train Loss = 0.5759, Val Loss = 11.2544\n",
            "     Epoch 15: Train Loss = 0.5753, Val Loss = 11.4848\n",
            "     Epoch 20: Train Loss = 0.5761, Val Loss = 11.7845\n",
            "    ⏹️ Early stopping at epoch 20\n",
            " Run 1 finished with best val loss: 5.5176\n",
            "Original Error Percentage (Test Dataset): 4.1651%\n",
            "Corrected Error Percentage (Test Dataset): 35.0917%\n",
            "   Run 2/5 ...      Epoch 0: Train Loss = 0.5836, Val Loss = 11.3406\n"
          ]
        },
        {
          "output_type": "stream",
          "name": "stderr",
          "text": [
            "<ipython-input-44-b273c6d16a7f>:152: UserWarning: To copy construct from a tensor, it is recommended to use sourceTensor.clone().detach() or sourceTensor.clone().detach().requires_grad_(True), rather than torch.tensor(sourceTensor).\n",
            "  X_scaled_tensor = torch.tensor(combined_X, dtype=torch.float32).unsqueeze(1)\n"
          ]
        },
        {
          "output_type": "stream",
          "name": "stdout",
          "text": [
            "     Epoch 5: Train Loss = 0.5770, Val Loss = 14.5156\n",
            "     Epoch 10: Train Loss = 0.5772, Val Loss = 19.7411\n",
            "     Epoch 15: Train Loss = 0.5764, Val Loss = 13.9046\n",
            "     Epoch 20: Train Loss = 0.5783, Val Loss = 19.8710\n",
            "    ⏹️ Early stopping at epoch 20\n",
            " Run 2 finished with best val loss: 11.3406\n",
            "Original Error Percentage (Test Dataset): 4.1651%\n",
            "Corrected Error Percentage (Test Dataset): 51.8966%\n",
            "   Run 3/5 ...      Epoch 0: Train Loss = 0.5904, Val Loss = 8.2036\n"
          ]
        },
        {
          "output_type": "stream",
          "name": "stderr",
          "text": [
            "<ipython-input-44-b273c6d16a7f>:152: UserWarning: To copy construct from a tensor, it is recommended to use sourceTensor.clone().detach() or sourceTensor.clone().detach().requires_grad_(True), rather than torch.tensor(sourceTensor).\n",
            "  X_scaled_tensor = torch.tensor(combined_X, dtype=torch.float32).unsqueeze(1)\n"
          ]
        },
        {
          "output_type": "stream",
          "name": "stdout",
          "text": [
            "     Epoch 5: Train Loss = 0.5785, Val Loss = 12.9642\n",
            "     Epoch 10: Train Loss = 0.5779, Val Loss = 11.5778\n",
            "     Epoch 15: Train Loss = 0.5788, Val Loss = 8.7925\n",
            "     Epoch 20: Train Loss = 0.5749, Val Loss = 13.4027\n",
            "    ⏹️ Early stopping at epoch 20\n",
            " Run 3 finished with best val loss: 8.2036\n",
            "Original Error Percentage (Test Dataset): 4.1651%\n",
            "Corrected Error Percentage (Test Dataset): 38.7668%\n",
            "   Run 4/5 ...      Epoch 0: Train Loss = 0.6299, Val Loss = 3.3647\n"
          ]
        },
        {
          "output_type": "stream",
          "name": "stderr",
          "text": [
            "<ipython-input-44-b273c6d16a7f>:152: UserWarning: To copy construct from a tensor, it is recommended to use sourceTensor.clone().detach() or sourceTensor.clone().detach().requires_grad_(True), rather than torch.tensor(sourceTensor).\n",
            "  X_scaled_tensor = torch.tensor(combined_X, dtype=torch.float32).unsqueeze(1)\n"
          ]
        },
        {
          "output_type": "stream",
          "name": "stdout",
          "text": [
            "     Epoch 5: Train Loss = 0.5774, Val Loss = 13.7219\n",
            "     Epoch 10: Train Loss = 0.5772, Val Loss = 13.5455\n",
            "     Epoch 15: Train Loss = 0.5744, Val Loss = 11.3206\n",
            "     Epoch 20: Train Loss = 0.5753, Val Loss = 10.3473\n",
            "    ⏹️ Early stopping at epoch 20\n",
            " Run 4 finished with best val loss: 3.3647\n",
            "Original Error Percentage (Test Dataset): 4.1651%\n",
            "Corrected Error Percentage (Test Dataset): 31.9985%\n",
            "   Run 5/5 ...      Epoch 0: Train Loss = 0.5938, Val Loss = 6.1211\n"
          ]
        },
        {
          "output_type": "stream",
          "name": "stderr",
          "text": [
            "<ipython-input-44-b273c6d16a7f>:152: UserWarning: To copy construct from a tensor, it is recommended to use sourceTensor.clone().detach() or sourceTensor.clone().detach().requires_grad_(True), rather than torch.tensor(sourceTensor).\n",
            "  X_scaled_tensor = torch.tensor(combined_X, dtype=torch.float32).unsqueeze(1)\n"
          ]
        },
        {
          "output_type": "stream",
          "name": "stdout",
          "text": [
            "     Epoch 5: Train Loss = 0.5760, Val Loss = 17.1693\n",
            "     Epoch 10: Train Loss = 0.5747, Val Loss = 16.1669\n",
            "     Epoch 15: Train Loss = 0.5761, Val Loss = 13.6984\n",
            "     Epoch 20: Train Loss = 0.5756, Val Loss = 14.5191\n",
            "    ⏹️ Early stopping at epoch 20\n",
            " Run 5 finished with best val loss: 6.1211\n",
            "Original Error Percentage (Test Dataset): 4.1651%\n",
            "Corrected Error Percentage (Test Dataset): 40.9088%\n",
            " Finished configuration H=64, D=0.0, LR=0.0005, B=16 → Avg Val Loss: 6.9095, Avg Accuracy: 39.7325%\n",
            "\n",
            " Running 33/81: H=64, D=0.0, LR=0.0005, B=32\n",
            "   Run 1/5 ...      Epoch 0: Train Loss = 0.5917, Val Loss = 4.6064\n"
          ]
        },
        {
          "output_type": "stream",
          "name": "stderr",
          "text": [
            "<ipython-input-44-b273c6d16a7f>:152: UserWarning: To copy construct from a tensor, it is recommended to use sourceTensor.clone().detach() or sourceTensor.clone().detach().requires_grad_(True), rather than torch.tensor(sourceTensor).\n",
            "  X_scaled_tensor = torch.tensor(combined_X, dtype=torch.float32).unsqueeze(1)\n"
          ]
        },
        {
          "output_type": "stream",
          "name": "stdout",
          "text": [
            "     Epoch 5: Train Loss = 0.5766, Val Loss = 11.0520\n",
            "     Epoch 10: Train Loss = 0.5755, Val Loss = 12.6951\n",
            "     Epoch 15: Train Loss = 0.5752, Val Loss = 11.8355\n",
            "     Epoch 20: Train Loss = 0.5753, Val Loss = 13.0098\n",
            "    ⏹️ Early stopping at epoch 20\n",
            " Run 1 finished with best val loss: 4.6064\n",
            "Original Error Percentage (Test Dataset): 4.1651%\n",
            "Corrected Error Percentage (Test Dataset): 38.1501%\n",
            "   Run 2/5 ...      Epoch 0: Train Loss = 0.6051, Val Loss = 8.7948\n"
          ]
        },
        {
          "output_type": "stream",
          "name": "stderr",
          "text": [
            "<ipython-input-44-b273c6d16a7f>:152: UserWarning: To copy construct from a tensor, it is recommended to use sourceTensor.clone().detach() or sourceTensor.clone().detach().requires_grad_(True), rather than torch.tensor(sourceTensor).\n",
            "  X_scaled_tensor = torch.tensor(combined_X, dtype=torch.float32).unsqueeze(1)\n"
          ]
        },
        {
          "output_type": "stream",
          "name": "stdout",
          "text": [
            "     Epoch 5: Train Loss = 0.5774, Val Loss = 15.7051\n",
            "     Epoch 10: Train Loss = 0.5748, Val Loss = 13.4172\n",
            "     Epoch 15: Train Loss = 0.5750, Val Loss = 15.0688\n",
            "     Epoch 20: Train Loss = 0.5756, Val Loss = 14.1536\n",
            "    ⏹️ Early stopping at epoch 20\n",
            " Run 2 finished with best val loss: 8.7948\n",
            "Original Error Percentage (Test Dataset): 4.1651%\n",
            "Corrected Error Percentage (Test Dataset): 40.8971%\n",
            "   Run 3/5 ...      Epoch 0: Train Loss = 0.6384, Val Loss = 2.6326\n"
          ]
        },
        {
          "output_type": "stream",
          "name": "stderr",
          "text": [
            "<ipython-input-44-b273c6d16a7f>:152: UserWarning: To copy construct from a tensor, it is recommended to use sourceTensor.clone().detach() or sourceTensor.clone().detach().requires_grad_(True), rather than torch.tensor(sourceTensor).\n",
            "  X_scaled_tensor = torch.tensor(combined_X, dtype=torch.float32).unsqueeze(1)\n"
          ]
        },
        {
          "output_type": "stream",
          "name": "stdout",
          "text": [
            "     Epoch 5: Train Loss = 0.5774, Val Loss = 13.1938\n",
            "     Epoch 10: Train Loss = 0.5751, Val Loss = 13.1286\n",
            "     Epoch 15: Train Loss = 0.5755, Val Loss = 14.6524\n",
            "     Epoch 20: Train Loss = 0.5759, Val Loss = 12.1627\n",
            "    ⏹️ Early stopping at epoch 20\n",
            " Run 3 finished with best val loss: 2.6326\n",
            "Original Error Percentage (Test Dataset): 4.1651%\n",
            "Corrected Error Percentage (Test Dataset): 36.0577%\n",
            "   Run 4/5 ...      Epoch 0: Train Loss = 0.6002, Val Loss = 4.1034\n"
          ]
        },
        {
          "output_type": "stream",
          "name": "stderr",
          "text": [
            "<ipython-input-44-b273c6d16a7f>:152: UserWarning: To copy construct from a tensor, it is recommended to use sourceTensor.clone().detach() or sourceTensor.clone().detach().requires_grad_(True), rather than torch.tensor(sourceTensor).\n",
            "  X_scaled_tensor = torch.tensor(combined_X, dtype=torch.float32).unsqueeze(1)\n"
          ]
        },
        {
          "output_type": "stream",
          "name": "stdout",
          "text": [
            "     Epoch 5: Train Loss = 0.5764, Val Loss = 13.8436\n",
            "     Epoch 10: Train Loss = 0.5748, Val Loss = 16.4690\n",
            "     Epoch 15: Train Loss = 0.5749, Val Loss = 19.2811\n",
            "     Epoch 20: Train Loss = 0.5758, Val Loss = 14.6033\n",
            "    ⏹️ Early stopping at epoch 20\n",
            " Run 4 finished with best val loss: 4.1034\n",
            "Original Error Percentage (Test Dataset): 4.1651%\n",
            "Corrected Error Percentage (Test Dataset): 41.6232%\n",
            "   Run 5/5 ...      Epoch 0: Train Loss = 0.5890, Val Loss = 5.2186\n"
          ]
        },
        {
          "output_type": "stream",
          "name": "stderr",
          "text": [
            "<ipython-input-44-b273c6d16a7f>:152: UserWarning: To copy construct from a tensor, it is recommended to use sourceTensor.clone().detach() or sourceTensor.clone().detach().requires_grad_(True), rather than torch.tensor(sourceTensor).\n",
            "  X_scaled_tensor = torch.tensor(combined_X, dtype=torch.float32).unsqueeze(1)\n"
          ]
        },
        {
          "output_type": "stream",
          "name": "stdout",
          "text": [
            "     Epoch 5: Train Loss = 0.5754, Val Loss = 12.4250\n",
            "     Epoch 10: Train Loss = 0.5756, Val Loss = 12.8177\n",
            "     Epoch 15: Train Loss = 0.5752, Val Loss = 12.7986\n",
            "     Epoch 20: Train Loss = 0.5752, Val Loss = 12.9802\n",
            "    ⏹️ Early stopping at epoch 20\n",
            " Run 5 finished with best val loss: 5.2186\n",
            "Original Error Percentage (Test Dataset): 4.1651%\n",
            "Corrected Error Percentage (Test Dataset): 37.7420%\n",
            " Finished configuration H=64, D=0.0, LR=0.0005, B=32 → Avg Val Loss: 5.0712, Avg Accuracy: 38.8940%\n",
            "\n",
            " Running 34/81: H=64, D=0.0, LR=0.001, B=8\n",
            "   Run 1/5 ... "
          ]
        },
        {
          "output_type": "stream",
          "name": "stderr",
          "text": [
            "<ipython-input-44-b273c6d16a7f>:152: UserWarning: To copy construct from a tensor, it is recommended to use sourceTensor.clone().detach() or sourceTensor.clone().detach().requires_grad_(True), rather than torch.tensor(sourceTensor).\n",
            "  X_scaled_tensor = torch.tensor(combined_X, dtype=torch.float32).unsqueeze(1)\n"
          ]
        },
        {
          "output_type": "stream",
          "name": "stdout",
          "text": [
            "     Epoch 0: Train Loss = 0.5874, Val Loss = 8.0793\n",
            "     Epoch 5: Train Loss = 0.5815, Val Loss = 13.6338\n",
            "     Epoch 10: Train Loss = 0.5759, Val Loss = 10.3372\n",
            "     Epoch 15: Train Loss = 0.5787, Val Loss = 10.4086\n",
            "     Epoch 20: Train Loss = 0.5770, Val Loss = 12.4043\n",
            "    ⏹️ Early stopping at epoch 20\n",
            " Run 1 finished with best val loss: 8.0793\n",
            "Original Error Percentage (Test Dataset): 4.1651%\n",
            "Corrected Error Percentage (Test Dataset): 36.7665%\n",
            "   Run 2/5 ... "
          ]
        },
        {
          "output_type": "stream",
          "name": "stderr",
          "text": [
            "<ipython-input-44-b273c6d16a7f>:152: UserWarning: To copy construct from a tensor, it is recommended to use sourceTensor.clone().detach() or sourceTensor.clone().detach().requires_grad_(True), rather than torch.tensor(sourceTensor).\n",
            "  X_scaled_tensor = torch.tensor(combined_X, dtype=torch.float32).unsqueeze(1)\n"
          ]
        },
        {
          "output_type": "stream",
          "name": "stdout",
          "text": [
            "     Epoch 0: Train Loss = 0.5921, Val Loss = 11.1015\n",
            "     Epoch 5: Train Loss = 0.5801, Val Loss = 10.3145\n",
            "     Epoch 10: Train Loss = 0.5755, Val Loss = 8.9829\n",
            "     Epoch 15: Train Loss = 0.5789, Val Loss = 13.2705\n",
            "     Epoch 20: Train Loss = 0.5761, Val Loss = 14.0577\n",
            "     Epoch 25: Train Loss = 0.5760, Val Loss = 10.7364\n",
            "     Epoch 30: Train Loss = 0.5764, Val Loss = 11.8736\n",
            "    ⏹️ Early stopping at epoch 31\n",
            " Run 2 finished with best val loss: 7.1157\n",
            "Original Error Percentage (Test Dataset): 4.1651%\n",
            "Corrected Error Percentage (Test Dataset): 31.2174%\n",
            "   Run 3/5 ... "
          ]
        },
        {
          "output_type": "stream",
          "name": "stderr",
          "text": [
            "<ipython-input-44-b273c6d16a7f>:152: UserWarning: To copy construct from a tensor, it is recommended to use sourceTensor.clone().detach() or sourceTensor.clone().detach().requires_grad_(True), rather than torch.tensor(sourceTensor).\n",
            "  X_scaled_tensor = torch.tensor(combined_X, dtype=torch.float32).unsqueeze(1)\n"
          ]
        },
        {
          "output_type": "stream",
          "name": "stdout",
          "text": [
            "     Epoch 0: Train Loss = 0.5921, Val Loss = 6.6705\n",
            "     Epoch 5: Train Loss = 0.5799, Val Loss = 11.5769\n",
            "     Epoch 10: Train Loss = 0.5785, Val Loss = 10.9911\n",
            "     Epoch 15: Train Loss = 0.5779, Val Loss = 13.5409\n",
            "     Epoch 20: Train Loss = 0.5753, Val Loss = 17.8593\n",
            "    ⏹️ Early stopping at epoch 21\n",
            " Run 3 finished with best val loss: 4.3477\n",
            "Original Error Percentage (Test Dataset): 4.1651%\n",
            "Corrected Error Percentage (Test Dataset): 40.9503%\n",
            "   Run 4/5 ... "
          ]
        },
        {
          "output_type": "stream",
          "name": "stderr",
          "text": [
            "<ipython-input-44-b273c6d16a7f>:152: UserWarning: To copy construct from a tensor, it is recommended to use sourceTensor.clone().detach() or sourceTensor.clone().detach().requires_grad_(True), rather than torch.tensor(sourceTensor).\n",
            "  X_scaled_tensor = torch.tensor(combined_X, dtype=torch.float32).unsqueeze(1)\n"
          ]
        },
        {
          "output_type": "stream",
          "name": "stdout",
          "text": [
            "     Epoch 0: Train Loss = 0.5892, Val Loss = 15.1414\n",
            "     Epoch 5: Train Loss = 0.5771, Val Loss = 10.6877\n",
            "     Epoch 10: Train Loss = 0.5813, Val Loss = 9.7721\n",
            "     Epoch 15: Train Loss = 0.5793, Val Loss = 11.7539\n",
            "     Epoch 20: Train Loss = 0.5778, Val Loss = 10.0070\n",
            "    ⏹️ Early stopping at epoch 21\n",
            " Run 4 finished with best val loss: 3.8640\n",
            "Original Error Percentage (Test Dataset): 4.1651%\n",
            "Corrected Error Percentage (Test Dataset): 36.3952%\n",
            "   Run 5/5 ... "
          ]
        },
        {
          "output_type": "stream",
          "name": "stderr",
          "text": [
            "<ipython-input-44-b273c6d16a7f>:152: UserWarning: To copy construct from a tensor, it is recommended to use sourceTensor.clone().detach() or sourceTensor.clone().detach().requires_grad_(True), rather than torch.tensor(sourceTensor).\n",
            "  X_scaled_tensor = torch.tensor(combined_X, dtype=torch.float32).unsqueeze(1)\n"
          ]
        },
        {
          "output_type": "stream",
          "name": "stdout",
          "text": [
            "     Epoch 0: Train Loss = 0.5893, Val Loss = 6.1387\n",
            "     Epoch 5: Train Loss = 0.5805, Val Loss = 11.0735\n",
            "     Epoch 10: Train Loss = 0.5781, Val Loss = 13.3101\n",
            "     Epoch 15: Train Loss = 0.5768, Val Loss = 9.0050\n",
            "     Epoch 20: Train Loss = 0.5766, Val Loss = 11.1587\n",
            "    ⏹️ Early stopping at epoch 24\n",
            " Run 5 finished with best val loss: 5.1838\n",
            "Original Error Percentage (Test Dataset): 4.1651%\n",
            "Corrected Error Percentage (Test Dataset): 44.1983%\n",
            " Finished configuration H=64, D=0.0, LR=0.001, B=8 → Avg Val Loss: 5.7181, Avg Accuracy: 37.9055%\n",
            "\n",
            " Running 35/81: H=64, D=0.0, LR=0.001, B=16\n",
            "   Run 1/5 ...      Epoch 0: Train Loss = 0.6078, Val Loss = 6.2729\n"
          ]
        },
        {
          "output_type": "stream",
          "name": "stderr",
          "text": [
            "<ipython-input-44-b273c6d16a7f>:152: UserWarning: To copy construct from a tensor, it is recommended to use sourceTensor.clone().detach() or sourceTensor.clone().detach().requires_grad_(True), rather than torch.tensor(sourceTensor).\n",
            "  X_scaled_tensor = torch.tensor(combined_X, dtype=torch.float32).unsqueeze(1)\n"
          ]
        },
        {
          "output_type": "stream",
          "name": "stdout",
          "text": [
            "     Epoch 5: Train Loss = 0.5781, Val Loss = 11.7954\n",
            "     Epoch 10: Train Loss = 0.5763, Val Loss = 11.4442\n",
            "     Epoch 15: Train Loss = 0.5778, Val Loss = 11.5891\n",
            "     Epoch 20: Train Loss = 0.5784, Val Loss = 12.6793\n",
            "    ⏹️ Early stopping at epoch 20\n",
            " Run 1 finished with best val loss: 6.2729\n",
            "Original Error Percentage (Test Dataset): 4.1651%\n",
            "Corrected Error Percentage (Test Dataset): 36.2309%\n",
            "   Run 2/5 ...      Epoch 0: Train Loss = 0.6138, Val Loss = 8.6996\n"
          ]
        },
        {
          "output_type": "stream",
          "name": "stderr",
          "text": [
            "<ipython-input-44-b273c6d16a7f>:152: UserWarning: To copy construct from a tensor, it is recommended to use sourceTensor.clone().detach() or sourceTensor.clone().detach().requires_grad_(True), rather than torch.tensor(sourceTensor).\n",
            "  X_scaled_tensor = torch.tensor(combined_X, dtype=torch.float32).unsqueeze(1)\n"
          ]
        },
        {
          "output_type": "stream",
          "name": "stdout",
          "text": [
            "     Epoch 5: Train Loss = 0.5792, Val Loss = 9.2534\n",
            "     Epoch 10: Train Loss = 0.5791, Val Loss = 11.2940\n",
            "     Epoch 15: Train Loss = 0.5785, Val Loss = 16.4611\n",
            "     Epoch 20: Train Loss = 0.5762, Val Loss = 13.9405\n",
            "    ⏹️ Early stopping at epoch 23\n",
            " Run 2 finished with best val loss: 5.5254\n",
            "Original Error Percentage (Test Dataset): 4.1651%\n",
            "Corrected Error Percentage (Test Dataset): 38.6622%\n",
            "   Run 3/5 ...      Epoch 0: Train Loss = 0.5887, Val Loss = 7.2185\n"
          ]
        },
        {
          "output_type": "stream",
          "name": "stderr",
          "text": [
            "<ipython-input-44-b273c6d16a7f>:152: UserWarning: To copy construct from a tensor, it is recommended to use sourceTensor.clone().detach() or sourceTensor.clone().detach().requires_grad_(True), rather than torch.tensor(sourceTensor).\n",
            "  X_scaled_tensor = torch.tensor(combined_X, dtype=torch.float32).unsqueeze(1)\n"
          ]
        },
        {
          "output_type": "stream",
          "name": "stdout",
          "text": [
            "     Epoch 5: Train Loss = 0.5770, Val Loss = 10.7087\n",
            "     Epoch 10: Train Loss = 0.5731, Val Loss = 9.8074\n",
            "     Epoch 15: Train Loss = 0.5753, Val Loss = 9.8463\n",
            "     Epoch 20: Train Loss = 0.5758, Val Loss = 12.8012\n",
            "    ⏹️ Early stopping at epoch 20\n",
            " Run 3 finished with best val loss: 7.2185\n",
            "Original Error Percentage (Test Dataset): 4.1651%\n",
            "Corrected Error Percentage (Test Dataset): 37.2231%\n",
            "   Run 4/5 ...      Epoch 0: Train Loss = 0.5945, Val Loss = 9.4921\n"
          ]
        },
        {
          "output_type": "stream",
          "name": "stderr",
          "text": [
            "<ipython-input-44-b273c6d16a7f>:152: UserWarning: To copy construct from a tensor, it is recommended to use sourceTensor.clone().detach() or sourceTensor.clone().detach().requires_grad_(True), rather than torch.tensor(sourceTensor).\n",
            "  X_scaled_tensor = torch.tensor(combined_X, dtype=torch.float32).unsqueeze(1)\n"
          ]
        },
        {
          "output_type": "stream",
          "name": "stdout",
          "text": [
            "     Epoch 5: Train Loss = 0.5770, Val Loss = 17.8545\n",
            "     Epoch 10: Train Loss = 0.5767, Val Loss = 18.2080\n",
            "     Epoch 15: Train Loss = 0.5763, Val Loss = 18.3949\n",
            "     Epoch 20: Train Loss = 0.5769, Val Loss = 16.1273\n",
            "    ⏹️ Early stopping at epoch 20\n",
            " Run 4 finished with best val loss: 9.4921\n",
            "Original Error Percentage (Test Dataset): 4.1651%\n",
            "Corrected Error Percentage (Test Dataset): 44.7279%\n",
            "   Run 5/5 ...      Epoch 0: Train Loss = 0.5907, Val Loss = 11.6796\n"
          ]
        },
        {
          "output_type": "stream",
          "name": "stderr",
          "text": [
            "<ipython-input-44-b273c6d16a7f>:152: UserWarning: To copy construct from a tensor, it is recommended to use sourceTensor.clone().detach() or sourceTensor.clone().detach().requires_grad_(True), rather than torch.tensor(sourceTensor).\n",
            "  X_scaled_tensor = torch.tensor(combined_X, dtype=torch.float32).unsqueeze(1)\n"
          ]
        },
        {
          "output_type": "stream",
          "name": "stdout",
          "text": [
            "     Epoch 5: Train Loss = 0.5829, Val Loss = 13.6032\n",
            "     Epoch 10: Train Loss = 0.5757, Val Loss = 14.5640\n",
            "     Epoch 15: Train Loss = 0.5782, Val Loss = 11.2437\n",
            "     Epoch 20: Train Loss = 0.5750, Val Loss = 12.2301\n",
            "     Epoch 25: Train Loss = 0.5762, Val Loss = 10.4628\n",
            "     Epoch 30: Train Loss = 0.5756, Val Loss = 11.6993\n",
            "    ⏹️ Early stopping at epoch 34\n",
            " Run 5 finished with best val loss: 9.9818\n",
            "Original Error Percentage (Test Dataset): 4.1651%\n",
            "Corrected Error Percentage (Test Dataset): 31.7628%\n",
            " Finished configuration H=64, D=0.0, LR=0.001, B=16 → Avg Val Loss: 7.6982, Avg Accuracy: 37.7214%\n",
            "\n",
            " Running 36/81: H=64, D=0.0, LR=0.001, B=32\n",
            "   Run 1/5 ...      Epoch 0: Train Loss = 0.5918, Val Loss = 4.6629\n"
          ]
        },
        {
          "output_type": "stream",
          "name": "stderr",
          "text": [
            "<ipython-input-44-b273c6d16a7f>:152: UserWarning: To copy construct from a tensor, it is recommended to use sourceTensor.clone().detach() or sourceTensor.clone().detach().requires_grad_(True), rather than torch.tensor(sourceTensor).\n",
            "  X_scaled_tensor = torch.tensor(combined_X, dtype=torch.float32).unsqueeze(1)\n"
          ]
        },
        {
          "output_type": "stream",
          "name": "stdout",
          "text": [
            "     Epoch 5: Train Loss = 0.5768, Val Loss = 8.2398\n",
            "     Epoch 10: Train Loss = 0.5753, Val Loss = 8.6424\n",
            "     Epoch 15: Train Loss = 0.5787, Val Loss = 8.9105\n",
            "     Epoch 20: Train Loss = 0.5774, Val Loss = 9.3068\n",
            "    ⏹️ Early stopping at epoch 20\n",
            " Run 1 finished with best val loss: 4.6629\n",
            "Original Error Percentage (Test Dataset): 4.1651%\n",
            "Corrected Error Percentage (Test Dataset): 28.0791%\n",
            "   Run 2/5 ...      Epoch 0: Train Loss = 0.5960, Val Loss = 6.6636\n"
          ]
        },
        {
          "output_type": "stream",
          "name": "stderr",
          "text": [
            "<ipython-input-44-b273c6d16a7f>:152: UserWarning: To copy construct from a tensor, it is recommended to use sourceTensor.clone().detach() or sourceTensor.clone().detach().requires_grad_(True), rather than torch.tensor(sourceTensor).\n",
            "  X_scaled_tensor = torch.tensor(combined_X, dtype=torch.float32).unsqueeze(1)\n"
          ]
        },
        {
          "output_type": "stream",
          "name": "stdout",
          "text": [
            "     Epoch 5: Train Loss = 0.5781, Val Loss = 11.8959\n",
            "     Epoch 10: Train Loss = 0.5772, Val Loss = 10.6553\n",
            "     Epoch 15: Train Loss = 0.5758, Val Loss = 12.0047\n",
            "     Epoch 20: Train Loss = 0.5755, Val Loss = 12.1596\n",
            "    ⏹️ Early stopping at epoch 20\n",
            " Run 2 finished with best val loss: 6.6636\n",
            "Original Error Percentage (Test Dataset): 4.1651%\n",
            "Corrected Error Percentage (Test Dataset): 36.1136%\n",
            "   Run 3/5 ...      Epoch 0: Train Loss = 0.6060, Val Loss = 2.9396\n"
          ]
        },
        {
          "output_type": "stream",
          "name": "stderr",
          "text": [
            "<ipython-input-44-b273c6d16a7f>:152: UserWarning: To copy construct from a tensor, it is recommended to use sourceTensor.clone().detach() or sourceTensor.clone().detach().requires_grad_(True), rather than torch.tensor(sourceTensor).\n",
            "  X_scaled_tensor = torch.tensor(combined_X, dtype=torch.float32).unsqueeze(1)\n"
          ]
        },
        {
          "output_type": "stream",
          "name": "stdout",
          "text": [
            "     Epoch 5: Train Loss = 0.5782, Val Loss = 8.5902\n",
            "     Epoch 10: Train Loss = 0.5781, Val Loss = 10.8153\n",
            "     Epoch 15: Train Loss = 0.5789, Val Loss = 11.4651\n",
            "     Epoch 20: Train Loss = 0.5763, Val Loss = 8.5209\n",
            "    ⏹️ Early stopping at epoch 20\n",
            " Run 3 finished with best val loss: 2.9396\n",
            "Original Error Percentage (Test Dataset): 4.1651%\n",
            "Corrected Error Percentage (Test Dataset): 26.5127%\n",
            "   Run 4/5 ...      Epoch 0: Train Loss = 0.5879, Val Loss = 6.8218\n"
          ]
        },
        {
          "output_type": "stream",
          "name": "stderr",
          "text": [
            "<ipython-input-44-b273c6d16a7f>:152: UserWarning: To copy construct from a tensor, it is recommended to use sourceTensor.clone().detach() or sourceTensor.clone().detach().requires_grad_(True), rather than torch.tensor(sourceTensor).\n",
            "  X_scaled_tensor = torch.tensor(combined_X, dtype=torch.float32).unsqueeze(1)\n"
          ]
        },
        {
          "output_type": "stream",
          "name": "stdout",
          "text": [
            "     Epoch 5: Train Loss = 0.5773, Val Loss = 14.7512\n",
            "     Epoch 10: Train Loss = 0.5780, Val Loss = 16.1225\n",
            "     Epoch 15: Train Loss = 0.5804, Val Loss = 10.5425\n",
            "     Epoch 20: Train Loss = 0.5755, Val Loss = 16.7659\n",
            "    ⏹️ Early stopping at epoch 20\n",
            " Run 4 finished with best val loss: 6.8218\n",
            "Original Error Percentage (Test Dataset): 4.1651%\n",
            "Corrected Error Percentage (Test Dataset): 45.2351%\n",
            "   Run 5/5 ...      Epoch 0: Train Loss = 0.5857, Val Loss = 9.4452\n"
          ]
        },
        {
          "output_type": "stream",
          "name": "stderr",
          "text": [
            "<ipython-input-44-b273c6d16a7f>:152: UserWarning: To copy construct from a tensor, it is recommended to use sourceTensor.clone().detach() or sourceTensor.clone().detach().requires_grad_(True), rather than torch.tensor(sourceTensor).\n",
            "  X_scaled_tensor = torch.tensor(combined_X, dtype=torch.float32).unsqueeze(1)\n"
          ]
        },
        {
          "output_type": "stream",
          "name": "stdout",
          "text": [
            "     Epoch 5: Train Loss = 0.5751, Val Loss = 15.1702\n",
            "     Epoch 10: Train Loss = 0.5758, Val Loss = 12.9198\n",
            "     Epoch 15: Train Loss = 0.5749, Val Loss = 13.8380\n",
            "     Epoch 20: Train Loss = 0.5742, Val Loss = 14.0274\n",
            "    ⏹️ Early stopping at epoch 23\n",
            " Run 5 finished with best val loss: 9.3900\n",
            "Original Error Percentage (Test Dataset): 4.1651%\n",
            "Corrected Error Percentage (Test Dataset): 39.4579%\n",
            " Finished configuration H=64, D=0.0, LR=0.001, B=32 → Avg Val Loss: 6.0956, Avg Accuracy: 35.0797%\n",
            "\n",
            " Running 37/81: H=64, D=0.1, LR=0.0001, B=8\n",
            "   Run 1/5 ... "
          ]
        },
        {
          "output_type": "stream",
          "name": "stderr",
          "text": [
            "<ipython-input-44-b273c6d16a7f>:152: UserWarning: To copy construct from a tensor, it is recommended to use sourceTensor.clone().detach() or sourceTensor.clone().detach().requires_grad_(True), rather than torch.tensor(sourceTensor).\n",
            "  X_scaled_tensor = torch.tensor(combined_X, dtype=torch.float32).unsqueeze(1)\n"
          ]
        },
        {
          "output_type": "stream",
          "name": "stdout",
          "text": [
            "     Epoch 0: Train Loss = 0.6418, Val Loss = 1.7735\n",
            "     Epoch 5: Train Loss = 0.5873, Val Loss = 5.4248\n",
            "     Epoch 10: Train Loss = 0.5801, Val Loss = 8.2232\n",
            "     Epoch 15: Train Loss = 0.5826, Val Loss = 9.4053\n",
            "     Epoch 20: Train Loss = 0.5745, Val Loss = 10.3352\n",
            "    ⏹️ Early stopping at epoch 20\n",
            " Run 1 finished with best val loss: 1.7735\n",
            "Original Error Percentage (Test Dataset): 4.1651%\n",
            "Corrected Error Percentage (Test Dataset): 31.0751%\n",
            "   Run 2/5 ... "
          ]
        },
        {
          "output_type": "stream",
          "name": "stderr",
          "text": [
            "<ipython-input-44-b273c6d16a7f>:152: UserWarning: To copy construct from a tensor, it is recommended to use sourceTensor.clone().detach() or sourceTensor.clone().detach().requires_grad_(True), rather than torch.tensor(sourceTensor).\n",
            "  X_scaled_tensor = torch.tensor(combined_X, dtype=torch.float32).unsqueeze(1)\n"
          ]
        },
        {
          "output_type": "stream",
          "name": "stdout",
          "text": [
            "     Epoch 0: Train Loss = 0.6452, Val Loss = 1.7239\n",
            "     Epoch 5: Train Loss = 0.5932, Val Loss = 7.2119\n",
            "     Epoch 10: Train Loss = 0.5879, Val Loss = 12.0908\n",
            "     Epoch 15: Train Loss = 0.5824, Val Loss = 15.1918\n",
            "     Epoch 20: Train Loss = 0.5760, Val Loss = 15.9476\n",
            "    ⏹️ Early stopping at epoch 20\n",
            " Run 2 finished with best val loss: 1.7239\n",
            "Original Error Percentage (Test Dataset): 4.1651%\n",
            "Corrected Error Percentage (Test Dataset): 44.3232%\n",
            "   Run 3/5 ... "
          ]
        },
        {
          "output_type": "stream",
          "name": "stderr",
          "text": [
            "<ipython-input-44-b273c6d16a7f>:152: UserWarning: To copy construct from a tensor, it is recommended to use sourceTensor.clone().detach() or sourceTensor.clone().detach().requires_grad_(True), rather than torch.tensor(sourceTensor).\n",
            "  X_scaled_tensor = torch.tensor(combined_X, dtype=torch.float32).unsqueeze(1)\n"
          ]
        },
        {
          "output_type": "stream",
          "name": "stdout",
          "text": [
            "     Epoch 0: Train Loss = 0.6133, Val Loss = 1.8988\n",
            "     Epoch 5: Train Loss = 0.5846, Val Loss = 6.0535\n",
            "     Epoch 10: Train Loss = 0.5811, Val Loss = 10.0568\n",
            "     Epoch 15: Train Loss = 0.5806, Val Loss = 12.0591\n",
            "     Epoch 20: Train Loss = 0.5796, Val Loss = 13.7082\n",
            "    ⏹️ Early stopping at epoch 21\n",
            " Run 3 finished with best val loss: 1.8304\n",
            "Original Error Percentage (Test Dataset): 4.1651%\n",
            "Corrected Error Percentage (Test Dataset): 39.2270%\n",
            "   Run 4/5 ... "
          ]
        },
        {
          "output_type": "stream",
          "name": "stderr",
          "text": [
            "<ipython-input-44-b273c6d16a7f>:152: UserWarning: To copy construct from a tensor, it is recommended to use sourceTensor.clone().detach() or sourceTensor.clone().detach().requires_grad_(True), rather than torch.tensor(sourceTensor).\n",
            "  X_scaled_tensor = torch.tensor(combined_X, dtype=torch.float32).unsqueeze(1)\n"
          ]
        },
        {
          "output_type": "stream",
          "name": "stdout",
          "text": [
            "     Epoch 0: Train Loss = 0.6091, Val Loss = 2.7577\n",
            "     Epoch 5: Train Loss = 0.5812, Val Loss = 11.2963\n",
            "     Epoch 10: Train Loss = 0.5737, Val Loss = 13.2767\n",
            "     Epoch 15: Train Loss = 0.5785, Val Loss = 13.7232\n",
            "     Epoch 20: Train Loss = 0.5842, Val Loss = 13.1680\n",
            "    ⏹️ Early stopping at epoch 20\n",
            " Run 4 finished with best val loss: 2.7577\n",
            "Original Error Percentage (Test Dataset): 4.1651%\n",
            "Corrected Error Percentage (Test Dataset): 38.4903%\n",
            "   Run 5/5 ... "
          ]
        },
        {
          "output_type": "stream",
          "name": "stderr",
          "text": [
            "<ipython-input-44-b273c6d16a7f>:152: UserWarning: To copy construct from a tensor, it is recommended to use sourceTensor.clone().detach() or sourceTensor.clone().detach().requires_grad_(True), rather than torch.tensor(sourceTensor).\n",
            "  X_scaled_tensor = torch.tensor(combined_X, dtype=torch.float32).unsqueeze(1)\n"
          ]
        },
        {
          "output_type": "stream",
          "name": "stdout",
          "text": [
            "     Epoch 0: Train Loss = 0.6065, Val Loss = 3.8120\n",
            "     Epoch 5: Train Loss = 0.5843, Val Loss = 12.1758\n",
            "     Epoch 10: Train Loss = 0.5817, Val Loss = 15.2993\n",
            "     Epoch 15: Train Loss = 0.5815, Val Loss = 15.4555\n",
            "     Epoch 20: Train Loss = 0.5843, Val Loss = 14.9352\n",
            "    ⏹️ Early stopping at epoch 20\n",
            " Run 5 finished with best val loss: 3.8120\n",
            "Original Error Percentage (Test Dataset): 4.1651%\n",
            "Corrected Error Percentage (Test Dataset): 42.2525%\n",
            " Finished configuration H=64, D=0.1, LR=0.0001, B=8 → Avg Val Loss: 2.3795, Avg Accuracy: 39.0736%\n",
            "\n",
            " Running 38/81: H=64, D=0.1, LR=0.0001, B=16\n",
            "   Run 1/5 ...      Epoch 0: Train Loss = 0.6093, Val Loss = 4.7880\n"
          ]
        },
        {
          "output_type": "stream",
          "name": "stderr",
          "text": [
            "<ipython-input-44-b273c6d16a7f>:152: UserWarning: To copy construct from a tensor, it is recommended to use sourceTensor.clone().detach() or sourceTensor.clone().detach().requires_grad_(True), rather than torch.tensor(sourceTensor).\n",
            "  X_scaled_tensor = torch.tensor(combined_X, dtype=torch.float32).unsqueeze(1)\n"
          ]
        },
        {
          "output_type": "stream",
          "name": "stdout",
          "text": [
            "     Epoch 5: Train Loss = 0.5832, Val Loss = 10.9882\n",
            "     Epoch 10: Train Loss = 0.5796, Val Loss = 13.2749\n",
            "     Epoch 15: Train Loss = 0.5769, Val Loss = 15.7995\n",
            "     Epoch 20: Train Loss = 0.5739, Val Loss = 16.0688\n",
            "    ⏹️ Early stopping at epoch 20\n",
            " Run 1 finished with best val loss: 4.7880\n",
            "Original Error Percentage (Test Dataset): 4.1651%\n",
            "Corrected Error Percentage (Test Dataset): 44.5561%\n",
            "   Run 2/5 ...      Epoch 0: Train Loss = 0.6074, Val Loss = 3.6289\n"
          ]
        },
        {
          "output_type": "stream",
          "name": "stderr",
          "text": [
            "<ipython-input-44-b273c6d16a7f>:152: UserWarning: To copy construct from a tensor, it is recommended to use sourceTensor.clone().detach() or sourceTensor.clone().detach().requires_grad_(True), rather than torch.tensor(sourceTensor).\n",
            "  X_scaled_tensor = torch.tensor(combined_X, dtype=torch.float32).unsqueeze(1)\n"
          ]
        },
        {
          "output_type": "stream",
          "name": "stdout",
          "text": [
            "     Epoch 5: Train Loss = 0.5844, Val Loss = 9.6964\n",
            "     Epoch 10: Train Loss = 0.5819, Val Loss = 12.0471\n",
            "     Epoch 15: Train Loss = 0.5810, Val Loss = 13.9637\n",
            "     Epoch 20: Train Loss = 0.5781, Val Loss = 13.2728\n",
            "    ⏹️ Early stopping at epoch 20\n",
            " Run 2 finished with best val loss: 3.6289\n",
            "Original Error Percentage (Test Dataset): 4.1651%\n",
            "Corrected Error Percentage (Test Dataset): 38.5932%\n",
            "   Run 3/5 ...      Epoch 0: Train Loss = 0.6094, Val Loss = 2.7759\n"
          ]
        },
        {
          "output_type": "stream",
          "name": "stderr",
          "text": [
            "<ipython-input-44-b273c6d16a7f>:152: UserWarning: To copy construct from a tensor, it is recommended to use sourceTensor.clone().detach() or sourceTensor.clone().detach().requires_grad_(True), rather than torch.tensor(sourceTensor).\n",
            "  X_scaled_tensor = torch.tensor(combined_X, dtype=torch.float32).unsqueeze(1)\n"
          ]
        },
        {
          "output_type": "stream",
          "name": "stdout",
          "text": [
            "     Epoch 5: Train Loss = 0.5815, Val Loss = 8.6580\n",
            "     Epoch 10: Train Loss = 0.5801, Val Loss = 11.2382\n",
            "     Epoch 15: Train Loss = 0.5825, Val Loss = 11.7250\n",
            "     Epoch 20: Train Loss = 0.5781, Val Loss = 12.7164\n",
            "    ⏹️ Early stopping at epoch 20\n",
            " Run 3 finished with best val loss: 2.7759\n",
            "Original Error Percentage (Test Dataset): 4.1651%\n",
            "Corrected Error Percentage (Test Dataset): 37.6797%\n",
            "   Run 4/5 ...      Epoch 0: Train Loss = 0.6009, Val Loss = 1.7366\n"
          ]
        },
        {
          "output_type": "stream",
          "name": "stderr",
          "text": [
            "<ipython-input-44-b273c6d16a7f>:152: UserWarning: To copy construct from a tensor, it is recommended to use sourceTensor.clone().detach() or sourceTensor.clone().detach().requires_grad_(True), rather than torch.tensor(sourceTensor).\n",
            "  X_scaled_tensor = torch.tensor(combined_X, dtype=torch.float32).unsqueeze(1)\n"
          ]
        },
        {
          "output_type": "stream",
          "name": "stdout",
          "text": [
            "     Epoch 5: Train Loss = 0.5833, Val Loss = 4.5535\n",
            "     Epoch 10: Train Loss = 0.5773, Val Loss = 7.9543\n",
            "     Epoch 15: Train Loss = 0.5760, Val Loss = 10.0968\n",
            "     Epoch 20: Train Loss = 0.5741, Val Loss = 12.4103\n",
            "    ⏹️ Early stopping at epoch 20\n",
            " Run 4 finished with best val loss: 1.7366\n",
            "Original Error Percentage (Test Dataset): 4.1651%\n",
            "Corrected Error Percentage (Test Dataset): 36.7088%\n",
            "   Run 5/5 ...      Epoch 0: Train Loss = 0.6140, Val Loss = 2.4295\n"
          ]
        },
        {
          "output_type": "stream",
          "name": "stderr",
          "text": [
            "<ipython-input-44-b273c6d16a7f>:152: UserWarning: To copy construct from a tensor, it is recommended to use sourceTensor.clone().detach() or sourceTensor.clone().detach().requires_grad_(True), rather than torch.tensor(sourceTensor).\n",
            "  X_scaled_tensor = torch.tensor(combined_X, dtype=torch.float32).unsqueeze(1)\n"
          ]
        },
        {
          "output_type": "stream",
          "name": "stdout",
          "text": [
            "     Epoch 5: Train Loss = 0.5847, Val Loss = 4.3113\n",
            "     Epoch 10: Train Loss = 0.5840, Val Loss = 6.3687\n",
            "     Epoch 15: Train Loss = 0.5779, Val Loss = 7.9369\n",
            "     Epoch 20: Train Loss = 0.5785, Val Loss = 9.1237\n",
            "    ⏹️ Early stopping at epoch 20\n",
            " Run 5 finished with best val loss: 2.4295\n",
            "Original Error Percentage (Test Dataset): 4.1651%\n",
            "Corrected Error Percentage (Test Dataset): 28.1017%\n",
            " Finished configuration H=64, D=0.1, LR=0.0001, B=16 → Avg Val Loss: 3.0718, Avg Accuracy: 37.1279%\n",
            "\n",
            " Running 39/81: H=64, D=0.1, LR=0.0001, B=32\n",
            "   Run 1/5 ...      Epoch 0: Train Loss = 0.6841, Val Loss = 2.1410\n"
          ]
        },
        {
          "output_type": "stream",
          "name": "stderr",
          "text": [
            "<ipython-input-44-b273c6d16a7f>:152: UserWarning: To copy construct from a tensor, it is recommended to use sourceTensor.clone().detach() or sourceTensor.clone().detach().requires_grad_(True), rather than torch.tensor(sourceTensor).\n",
            "  X_scaled_tensor = torch.tensor(combined_X, dtype=torch.float32).unsqueeze(1)\n"
          ]
        },
        {
          "output_type": "stream",
          "name": "stdout",
          "text": [
            "     Epoch 5: Train Loss = 0.6008, Val Loss = 2.2975\n",
            "     Epoch 10: Train Loss = 0.5889, Val Loss = 4.2142\n",
            "     Epoch 15: Train Loss = 0.5850, Val Loss = 6.6704\n",
            "     Epoch 20: Train Loss = 0.5824, Val Loss = 8.4616\n",
            "    ⏹️ Early stopping at epoch 22\n",
            " Run 1 finished with best val loss: 1.9952\n",
            "Original Error Percentage (Test Dataset): 4.1651%\n",
            "Corrected Error Percentage (Test Dataset): 29.5771%\n",
            "   Run 2/5 ... "
          ]
        },
        {
          "output_type": "stream",
          "name": "stderr",
          "text": [
            "<ipython-input-44-b273c6d16a7f>:152: UserWarning: To copy construct from a tensor, it is recommended to use sourceTensor.clone().detach() or sourceTensor.clone().detach().requires_grad_(True), rather than torch.tensor(sourceTensor).\n",
            "  X_scaled_tensor = torch.tensor(combined_X, dtype=torch.float32).unsqueeze(1)\n"
          ]
        },
        {
          "output_type": "stream",
          "name": "stdout",
          "text": [
            "     Epoch 0: Train Loss = 0.6138, Val Loss = 2.9914\n",
            "     Epoch 5: Train Loss = 0.5878, Val Loss = 4.4812\n",
            "     Epoch 10: Train Loss = 0.5813, Val Loss = 8.1735\n",
            "     Epoch 15: Train Loss = 0.5846, Val Loss = 10.4506\n",
            "     Epoch 20: Train Loss = 0.5777, Val Loss = 12.5653\n",
            "    ⏹️ Early stopping at epoch 20\n",
            " Run 2 finished with best val loss: 2.9914\n",
            "Original Error Percentage (Test Dataset): 4.1651%\n",
            "Corrected Error Percentage (Test Dataset): 36.6707%\n",
            "   Run 3/5 ...      Epoch 0: Train Loss = 0.5939, Val Loss = 2.2959\n"
          ]
        },
        {
          "output_type": "stream",
          "name": "stderr",
          "text": [
            "<ipython-input-44-b273c6d16a7f>:152: UserWarning: To copy construct from a tensor, it is recommended to use sourceTensor.clone().detach() or sourceTensor.clone().detach().requires_grad_(True), rather than torch.tensor(sourceTensor).\n",
            "  X_scaled_tensor = torch.tensor(combined_X, dtype=torch.float32).unsqueeze(1)\n"
          ]
        },
        {
          "output_type": "stream",
          "name": "stdout",
          "text": [
            "     Epoch 5: Train Loss = 0.5838, Val Loss = 4.0531\n",
            "     Epoch 10: Train Loss = 0.5801, Val Loss = 6.4463\n",
            "     Epoch 15: Train Loss = 0.5804, Val Loss = 8.6105\n",
            "     Epoch 20: Train Loss = 0.5831, Val Loss = 10.3013\n",
            "    ⏹️ Early stopping at epoch 20\n",
            " Run 3 finished with best val loss: 2.2959\n",
            "Original Error Percentage (Test Dataset): 4.1651%\n",
            "Corrected Error Percentage (Test Dataset): 32.0151%\n",
            "   Run 4/5 ...      Epoch 0: Train Loss = 0.6002, Val Loss = 3.9406\n"
          ]
        },
        {
          "output_type": "stream",
          "name": "stderr",
          "text": [
            "<ipython-input-44-b273c6d16a7f>:152: UserWarning: To copy construct from a tensor, it is recommended to use sourceTensor.clone().detach() or sourceTensor.clone().detach().requires_grad_(True), rather than torch.tensor(sourceTensor).\n",
            "  X_scaled_tensor = torch.tensor(combined_X, dtype=torch.float32).unsqueeze(1)\n"
          ]
        },
        {
          "output_type": "stream",
          "name": "stdout",
          "text": [
            "     Epoch 5: Train Loss = 0.5816, Val Loss = 8.5649\n",
            "     Epoch 10: Train Loss = 0.5808, Val Loss = 11.7332\n",
            "     Epoch 15: Train Loss = 0.5750, Val Loss = 12.5441\n",
            "     Epoch 20: Train Loss = 0.5780, Val Loss = 14.6986\n",
            "    ⏹️ Early stopping at epoch 20\n",
            " Run 4 finished with best val loss: 3.9406\n",
            "Original Error Percentage (Test Dataset): 4.1651%\n",
            "Corrected Error Percentage (Test Dataset): 41.6730%\n",
            "   Run 5/5 ...      Epoch 0: Train Loss = 0.7178, Val Loss = 3.6914\n"
          ]
        },
        {
          "output_type": "stream",
          "name": "stderr",
          "text": [
            "<ipython-input-44-b273c6d16a7f>:152: UserWarning: To copy construct from a tensor, it is recommended to use sourceTensor.clone().detach() or sourceTensor.clone().detach().requires_grad_(True), rather than torch.tensor(sourceTensor).\n",
            "  X_scaled_tensor = torch.tensor(combined_X, dtype=torch.float32).unsqueeze(1)\n"
          ]
        },
        {
          "output_type": "stream",
          "name": "stdout",
          "text": [
            "     Epoch 5: Train Loss = 0.5975, Val Loss = 2.2090\n",
            "     Epoch 10: Train Loss = 0.5842, Val Loss = 3.7811\n",
            "     Epoch 15: Train Loss = 0.5824, Val Loss = 5.2431\n",
            "     Epoch 20: Train Loss = 0.5815, Val Loss = 7.3793\n",
            "    ⏹️ Early stopping at epoch 24\n",
            " Run 5 finished with best val loss: 2.1350\n",
            "Original Error Percentage (Test Dataset): 4.1651%\n",
            "Corrected Error Percentage (Test Dataset): 27.0806%\n",
            " Finished configuration H=64, D=0.1, LR=0.0001, B=32 → Avg Val Loss: 2.6716, Avg Accuracy: 33.4033%\n",
            "\n",
            " Running 40/81: H=64, D=0.1, LR=0.0005, B=8\n",
            "   Run 1/5 ... "
          ]
        },
        {
          "output_type": "stream",
          "name": "stderr",
          "text": [
            "<ipython-input-44-b273c6d16a7f>:152: UserWarning: To copy construct from a tensor, it is recommended to use sourceTensor.clone().detach() or sourceTensor.clone().detach().requires_grad_(True), rather than torch.tensor(sourceTensor).\n",
            "  X_scaled_tensor = torch.tensor(combined_X, dtype=torch.float32).unsqueeze(1)\n"
          ]
        },
        {
          "output_type": "stream",
          "name": "stdout",
          "text": [
            "     Epoch 0: Train Loss = 0.5993, Val Loss = 6.6046\n",
            "     Epoch 5: Train Loss = 0.5820, Val Loss = 10.3835\n",
            "     Epoch 10: Train Loss = 0.5817, Val Loss = 10.7101\n",
            "     Epoch 15: Train Loss = 0.5798, Val Loss = 9.3420\n",
            "     Epoch 20: Train Loss = 0.5769, Val Loss = 12.7606\n",
            "    ⏹️ Early stopping at epoch 20\n",
            " Run 1 finished with best val loss: 6.6046\n",
            "Original Error Percentage (Test Dataset): 4.1651%\n",
            "Corrected Error Percentage (Test Dataset): 37.7014%\n",
            "   Run 2/5 ... "
          ]
        },
        {
          "output_type": "stream",
          "name": "stderr",
          "text": [
            "<ipython-input-44-b273c6d16a7f>:152: UserWarning: To copy construct from a tensor, it is recommended to use sourceTensor.clone().detach() or sourceTensor.clone().detach().requires_grad_(True), rather than torch.tensor(sourceTensor).\n",
            "  X_scaled_tensor = torch.tensor(combined_X, dtype=torch.float32).unsqueeze(1)\n"
          ]
        },
        {
          "output_type": "stream",
          "name": "stdout",
          "text": [
            "     Epoch 0: Train Loss = 0.5877, Val Loss = 9.8088\n",
            "     Epoch 5: Train Loss = 0.5795, Val Loss = 15.5747\n",
            "     Epoch 10: Train Loss = 0.5838, Val Loss = 14.2981\n",
            "     Epoch 15: Train Loss = 0.5768, Val Loss = 10.6538\n",
            "     Epoch 20: Train Loss = 0.5788, Val Loss = 10.1146\n",
            "    ⏹️ Early stopping at epoch 21\n",
            " Run 2 finished with best val loss: 8.4338\n",
            "Original Error Percentage (Test Dataset): 4.1651%\n",
            "Corrected Error Percentage (Test Dataset): 33.2821%\n",
            "   Run 3/5 ... "
          ]
        },
        {
          "output_type": "stream",
          "name": "stderr",
          "text": [
            "<ipython-input-44-b273c6d16a7f>:152: UserWarning: To copy construct from a tensor, it is recommended to use sourceTensor.clone().detach() or sourceTensor.clone().detach().requires_grad_(True), rather than torch.tensor(sourceTensor).\n",
            "  X_scaled_tensor = torch.tensor(combined_X, dtype=torch.float32).unsqueeze(1)\n"
          ]
        },
        {
          "output_type": "stream",
          "name": "stdout",
          "text": [
            "     Epoch 0: Train Loss = 0.5930, Val Loss = 7.3736\n",
            "     Epoch 5: Train Loss = 0.5788, Val Loss = 11.8761\n",
            "     Epoch 10: Train Loss = 0.5765, Val Loss = 14.2304\n",
            "     Epoch 15: Train Loss = 0.5776, Val Loss = 13.6982\n",
            "     Epoch 20: Train Loss = 0.5760, Val Loss = 12.6654\n",
            "    ⏹️ Early stopping at epoch 20\n",
            " Run 3 finished with best val loss: 7.3736\n",
            "Original Error Percentage (Test Dataset): 4.1651%\n",
            "Corrected Error Percentage (Test Dataset): 38.1439%\n",
            "   Run 4/5 ... "
          ]
        },
        {
          "output_type": "stream",
          "name": "stderr",
          "text": [
            "<ipython-input-44-b273c6d16a7f>:152: UserWarning: To copy construct from a tensor, it is recommended to use sourceTensor.clone().detach() or sourceTensor.clone().detach().requires_grad_(True), rather than torch.tensor(sourceTensor).\n",
            "  X_scaled_tensor = torch.tensor(combined_X, dtype=torch.float32).unsqueeze(1)\n"
          ]
        },
        {
          "output_type": "stream",
          "name": "stdout",
          "text": [
            "     Epoch 0: Train Loss = 0.6024, Val Loss = 5.8003\n",
            "     Epoch 5: Train Loss = 0.5842, Val Loss = 10.9432\n",
            "     Epoch 10: Train Loss = 0.5817, Val Loss = 11.9458\n",
            "     Epoch 15: Train Loss = 0.5788, Val Loss = 11.7283\n",
            "     Epoch 20: Train Loss = 0.5818, Val Loss = 12.0999\n",
            "    ⏹️ Early stopping at epoch 20\n",
            " Run 4 finished with best val loss: 5.8003\n",
            "Original Error Percentage (Test Dataset): 4.1651%\n",
            "Corrected Error Percentage (Test Dataset): 36.1926%\n",
            "   Run 5/5 ... "
          ]
        },
        {
          "output_type": "stream",
          "name": "stderr",
          "text": [
            "<ipython-input-44-b273c6d16a7f>:152: UserWarning: To copy construct from a tensor, it is recommended to use sourceTensor.clone().detach() or sourceTensor.clone().detach().requires_grad_(True), rather than torch.tensor(sourceTensor).\n",
            "  X_scaled_tensor = torch.tensor(combined_X, dtype=torch.float32).unsqueeze(1)\n"
          ]
        },
        {
          "output_type": "stream",
          "name": "stdout",
          "text": [
            "     Epoch 0: Train Loss = 0.5881, Val Loss = 8.2906\n",
            "     Epoch 5: Train Loss = 0.5814, Val Loss = 11.0759\n",
            "     Epoch 10: Train Loss = 0.5808, Val Loss = 12.1795\n",
            "     Epoch 15: Train Loss = 0.5771, Val Loss = 17.1221\n",
            "     Epoch 20: Train Loss = 0.5744, Val Loss = 16.1725\n",
            "    ⏹️ Early stopping at epoch 20\n",
            " Run 5 finished with best val loss: 8.2906\n",
            "Original Error Percentage (Test Dataset): 4.1651%\n",
            "Corrected Error Percentage (Test Dataset): 44.9028%\n",
            " Finished configuration H=64, D=0.1, LR=0.0005, B=8 → Avg Val Loss: 7.3006, Avg Accuracy: 38.0446%\n",
            "\n",
            " Running 41/81: H=64, D=0.1, LR=0.0005, B=16\n",
            "   Run 1/5 ...      Epoch 0: Train Loss = 0.6023, Val Loss = 4.5919\n"
          ]
        },
        {
          "output_type": "stream",
          "name": "stderr",
          "text": [
            "<ipython-input-44-b273c6d16a7f>:152: UserWarning: To copy construct from a tensor, it is recommended to use sourceTensor.clone().detach() or sourceTensor.clone().detach().requires_grad_(True), rather than torch.tensor(sourceTensor).\n",
            "  X_scaled_tensor = torch.tensor(combined_X, dtype=torch.float32).unsqueeze(1)\n"
          ]
        },
        {
          "output_type": "stream",
          "name": "stdout",
          "text": [
            "     Epoch 5: Train Loss = 0.5784, Val Loss = 13.0263\n",
            "     Epoch 10: Train Loss = 0.5783, Val Loss = 10.3917\n",
            "     Epoch 15: Train Loss = 0.5761, Val Loss = 11.8735\n",
            "     Epoch 20: Train Loss = 0.5796, Val Loss = 11.4706\n",
            "    ⏹️ Early stopping at epoch 20\n",
            " Run 1 finished with best val loss: 4.5919\n",
            "Original Error Percentage (Test Dataset): 4.1651%\n",
            "Corrected Error Percentage (Test Dataset): 34.4921%\n",
            "   Run 2/5 ...      Epoch 0: Train Loss = 0.6092, Val Loss = 4.7101\n"
          ]
        },
        {
          "output_type": "stream",
          "name": "stderr",
          "text": [
            "<ipython-input-44-b273c6d16a7f>:152: UserWarning: To copy construct from a tensor, it is recommended to use sourceTensor.clone().detach() or sourceTensor.clone().detach().requires_grad_(True), rather than torch.tensor(sourceTensor).\n",
            "  X_scaled_tensor = torch.tensor(combined_X, dtype=torch.float32).unsqueeze(1)\n"
          ]
        },
        {
          "output_type": "stream",
          "name": "stdout",
          "text": [
            "     Epoch 5: Train Loss = 0.5773, Val Loss = 16.0684\n",
            "     Epoch 10: Train Loss = 0.5797, Val Loss = 14.3021\n",
            "     Epoch 15: Train Loss = 0.5755, Val Loss = 13.6216\n",
            "     Epoch 20: Train Loss = 0.5775, Val Loss = 12.7871\n",
            "    ⏹️ Early stopping at epoch 20\n",
            " Run 2 finished with best val loss: 4.7101\n",
            "Original Error Percentage (Test Dataset): 4.1651%\n",
            "Corrected Error Percentage (Test Dataset): 37.7877%\n",
            "   Run 3/5 ...      Epoch 0: Train Loss = 0.5981, Val Loss = 3.9943\n"
          ]
        },
        {
          "output_type": "stream",
          "name": "stderr",
          "text": [
            "<ipython-input-44-b273c6d16a7f>:152: UserWarning: To copy construct from a tensor, it is recommended to use sourceTensor.clone().detach() or sourceTensor.clone().detach().requires_grad_(True), rather than torch.tensor(sourceTensor).\n",
            "  X_scaled_tensor = torch.tensor(combined_X, dtype=torch.float32).unsqueeze(1)\n"
          ]
        },
        {
          "output_type": "stream",
          "name": "stdout",
          "text": [
            "     Epoch 5: Train Loss = 0.5786, Val Loss = 12.0627\n",
            "     Epoch 10: Train Loss = 0.5770, Val Loss = 14.1287\n",
            "     Epoch 15: Train Loss = 0.5769, Val Loss = 13.5738\n",
            "     Epoch 20: Train Loss = 0.5790, Val Loss = 15.7202\n",
            "    ⏹️ Early stopping at epoch 20\n",
            " Run 3 finished with best val loss: 3.9943\n",
            "Original Error Percentage (Test Dataset): 4.1651%\n",
            "Corrected Error Percentage (Test Dataset): 43.7249%\n",
            "   Run 4/5 ...      Epoch 0: Train Loss = 0.5877, Val Loss = 7.8574\n"
          ]
        },
        {
          "output_type": "stream",
          "name": "stderr",
          "text": [
            "<ipython-input-44-b273c6d16a7f>:152: UserWarning: To copy construct from a tensor, it is recommended to use sourceTensor.clone().detach() or sourceTensor.clone().detach().requires_grad_(True), rather than torch.tensor(sourceTensor).\n",
            "  X_scaled_tensor = torch.tensor(combined_X, dtype=torch.float32).unsqueeze(1)\n"
          ]
        },
        {
          "output_type": "stream",
          "name": "stdout",
          "text": [
            "     Epoch 5: Train Loss = 0.5777, Val Loss = 10.5925\n",
            "     Epoch 10: Train Loss = 0.5790, Val Loss = 11.9213\n",
            "     Epoch 15: Train Loss = 0.5757, Val Loss = 14.7635\n",
            "     Epoch 20: Train Loss = 0.5764, Val Loss = 13.2873\n",
            "    ⏹️ Early stopping at epoch 20\n",
            " Run 4 finished with best val loss: 7.8574\n",
            "Original Error Percentage (Test Dataset): 4.1651%\n",
            "Corrected Error Percentage (Test Dataset): 38.7139%\n",
            "   Run 5/5 ...      Epoch 0: Train Loss = 0.5844, Val Loss = 13.0875\n"
          ]
        },
        {
          "output_type": "stream",
          "name": "stderr",
          "text": [
            "<ipython-input-44-b273c6d16a7f>:152: UserWarning: To copy construct from a tensor, it is recommended to use sourceTensor.clone().detach() or sourceTensor.clone().detach().requires_grad_(True), rather than torch.tensor(sourceTensor).\n",
            "  X_scaled_tensor = torch.tensor(combined_X, dtype=torch.float32).unsqueeze(1)\n"
          ]
        },
        {
          "output_type": "stream",
          "name": "stdout",
          "text": [
            "     Epoch 5: Train Loss = 0.5823, Val Loss = 14.3532\n",
            "     Epoch 10: Train Loss = 0.5811, Val Loss = 14.1839\n",
            "     Epoch 15: Train Loss = 0.5745, Val Loss = 17.3199\n",
            "     Epoch 20: Train Loss = 0.5759, Val Loss = 15.1777\n",
            "    ⏹️ Early stopping at epoch 22\n",
            " Run 5 finished with best val loss: 11.9069\n",
            "Original Error Percentage (Test Dataset): 4.1651%\n",
            "Corrected Error Percentage (Test Dataset): 40.5526%\n",
            " Finished configuration H=64, D=0.1, LR=0.0005, B=16 → Avg Val Loss: 6.6121, Avg Accuracy: 39.0542%\n",
            "\n",
            " Running 42/81: H=64, D=0.1, LR=0.0005, B=32\n",
            "   Run 1/5 ...      Epoch 0: Train Loss = 0.6032, Val Loss = 2.0240\n"
          ]
        },
        {
          "output_type": "stream",
          "name": "stderr",
          "text": [
            "<ipython-input-44-b273c6d16a7f>:152: UserWarning: To copy construct from a tensor, it is recommended to use sourceTensor.clone().detach() or sourceTensor.clone().detach().requires_grad_(True), rather than torch.tensor(sourceTensor).\n",
            "  X_scaled_tensor = torch.tensor(combined_X, dtype=torch.float32).unsqueeze(1)\n"
          ]
        },
        {
          "output_type": "stream",
          "name": "stdout",
          "text": [
            "     Epoch 5: Train Loss = 0.5776, Val Loss = 8.9182\n",
            "     Epoch 10: Train Loss = 0.5806, Val Loss = 11.3352\n",
            "     Epoch 15: Train Loss = 0.5813, Val Loss = 12.3506\n",
            "     Epoch 20: Train Loss = 0.5786, Val Loss = 12.1984\n",
            "    ⏹️ Early stopping at epoch 20\n",
            " Run 1 finished with best val loss: 2.0240\n",
            "Original Error Percentage (Test Dataset): 4.1651%\n",
            "Corrected Error Percentage (Test Dataset): 36.4991%\n",
            "   Run 2/5 ...      Epoch 0: Train Loss = 0.6090, Val Loss = 4.0441\n"
          ]
        },
        {
          "output_type": "stream",
          "name": "stderr",
          "text": [
            "<ipython-input-44-b273c6d16a7f>:152: UserWarning: To copy construct from a tensor, it is recommended to use sourceTensor.clone().detach() or sourceTensor.clone().detach().requires_grad_(True), rather than torch.tensor(sourceTensor).\n",
            "  X_scaled_tensor = torch.tensor(combined_X, dtype=torch.float32).unsqueeze(1)\n"
          ]
        },
        {
          "output_type": "stream",
          "name": "stdout",
          "text": [
            "     Epoch 5: Train Loss = 0.5793, Val Loss = 12.4760\n",
            "     Epoch 10: Train Loss = 0.5754, Val Loss = 14.6242\n",
            "     Epoch 15: Train Loss = 0.5800, Val Loss = 13.4676\n",
            "     Epoch 20: Train Loss = 0.5779, Val Loss = 14.8408\n",
            "    ⏹️ Early stopping at epoch 20\n",
            " Run 2 finished with best val loss: 4.0441\n",
            "Original Error Percentage (Test Dataset): 4.1651%\n",
            "Corrected Error Percentage (Test Dataset): 42.1011%\n",
            "   Run 3/5 ...      Epoch 0: Train Loss = 0.5960, Val Loss = 4.3836\n"
          ]
        },
        {
          "output_type": "stream",
          "name": "stderr",
          "text": [
            "<ipython-input-44-b273c6d16a7f>:152: UserWarning: To copy construct from a tensor, it is recommended to use sourceTensor.clone().detach() or sourceTensor.clone().detach().requires_grad_(True), rather than torch.tensor(sourceTensor).\n",
            "  X_scaled_tensor = torch.tensor(combined_X, dtype=torch.float32).unsqueeze(1)\n"
          ]
        },
        {
          "output_type": "stream",
          "name": "stdout",
          "text": [
            "     Epoch 5: Train Loss = 0.5796, Val Loss = 13.6759\n",
            "     Epoch 10: Train Loss = 0.5781, Val Loss = 12.7405\n",
            "     Epoch 15: Train Loss = 0.5765, Val Loss = 11.6542\n",
            "     Epoch 20: Train Loss = 0.5771, Val Loss = 10.8354\n",
            "    ⏹️ Early stopping at epoch 20\n",
            " Run 3 finished with best val loss: 4.3836\n",
            "Original Error Percentage (Test Dataset): 4.1651%\n",
            "Corrected Error Percentage (Test Dataset): 32.8010%\n",
            "   Run 4/5 ...      Epoch 0: Train Loss = 0.6023, Val Loss = 5.8613\n"
          ]
        },
        {
          "output_type": "stream",
          "name": "stderr",
          "text": [
            "<ipython-input-44-b273c6d16a7f>:152: UserWarning: To copy construct from a tensor, it is recommended to use sourceTensor.clone().detach() or sourceTensor.clone().detach().requires_grad_(True), rather than torch.tensor(sourceTensor).\n",
            "  X_scaled_tensor = torch.tensor(combined_X, dtype=torch.float32).unsqueeze(1)\n"
          ]
        },
        {
          "output_type": "stream",
          "name": "stdout",
          "text": [
            "     Epoch 5: Train Loss = 0.5743, Val Loss = 15.2343\n",
            "     Epoch 10: Train Loss = 0.5755, Val Loss = 16.4261\n",
            "     Epoch 15: Train Loss = 0.5798, Val Loss = 13.3750\n",
            "     Epoch 20: Train Loss = 0.5754, Val Loss = 13.8167\n",
            "    ⏹️ Early stopping at epoch 20\n",
            " Run 4 finished with best val loss: 5.8613\n",
            "Original Error Percentage (Test Dataset): 4.1651%\n",
            "Corrected Error Percentage (Test Dataset): 39.3221%\n",
            "   Run 5/5 ...      Epoch 0: Train Loss = 0.6205, Val Loss = 2.0625\n"
          ]
        },
        {
          "output_type": "stream",
          "name": "stderr",
          "text": [
            "<ipython-input-44-b273c6d16a7f>:152: UserWarning: To copy construct from a tensor, it is recommended to use sourceTensor.clone().detach() or sourceTensor.clone().detach().requires_grad_(True), rather than torch.tensor(sourceTensor).\n",
            "  X_scaled_tensor = torch.tensor(combined_X, dtype=torch.float32).unsqueeze(1)\n"
          ]
        },
        {
          "output_type": "stream",
          "name": "stdout",
          "text": [
            "     Epoch 5: Train Loss = 0.5856, Val Loss = 15.2689\n",
            "     Epoch 10: Train Loss = 0.5795, Val Loss = 14.7428\n",
            "     Epoch 15: Train Loss = 0.5788, Val Loss = 15.6572\n",
            "     Epoch 20: Train Loss = 0.5800, Val Loss = 14.8868\n",
            "    ⏹️ Early stopping at epoch 20\n",
            " Run 5 finished with best val loss: 2.0625\n",
            "Original Error Percentage (Test Dataset): 4.1651%\n",
            "Corrected Error Percentage (Test Dataset): 42.1748%\n",
            " Finished configuration H=64, D=0.1, LR=0.0005, B=32 → Avg Val Loss: 3.6751, Avg Accuracy: 38.5796%\n",
            "\n",
            " Running 43/81: H=64, D=0.1, LR=0.001, B=8\n",
            "   Run 1/5 ... "
          ]
        },
        {
          "output_type": "stream",
          "name": "stderr",
          "text": [
            "<ipython-input-44-b273c6d16a7f>:152: UserWarning: To copy construct from a tensor, it is recommended to use sourceTensor.clone().detach() or sourceTensor.clone().detach().requires_grad_(True), rather than torch.tensor(sourceTensor).\n",
            "  X_scaled_tensor = torch.tensor(combined_X, dtype=torch.float32).unsqueeze(1)\n"
          ]
        },
        {
          "output_type": "stream",
          "name": "stdout",
          "text": [
            "     Epoch 0: Train Loss = 0.6018, Val Loss = 8.3747\n",
            "     Epoch 5: Train Loss = 0.5849, Val Loss = 14.1180\n",
            "     Epoch 10: Train Loss = 0.5845, Val Loss = 10.4564\n",
            "     Epoch 15: Train Loss = 0.5814, Val Loss = 9.0175\n",
            "     Epoch 20: Train Loss = 0.5777, Val Loss = 10.4764\n",
            "     Epoch 25: Train Loss = 0.5804, Val Loss = 9.8264\n",
            "     Epoch 30: Train Loss = 0.5772, Val Loss = 12.0039\n",
            "     Epoch 35: Train Loss = 0.5760, Val Loss = 10.8232\n",
            "    ⏹️ Early stopping at epoch 36\n",
            " Run 1 finished with best val loss: 7.5635\n",
            "Original Error Percentage (Test Dataset): 4.1651%\n",
            "Corrected Error Percentage (Test Dataset): 42.3372%\n",
            "   Run 2/5 ... "
          ]
        },
        {
          "output_type": "stream",
          "name": "stderr",
          "text": [
            "<ipython-input-44-b273c6d16a7f>:152: UserWarning: To copy construct from a tensor, it is recommended to use sourceTensor.clone().detach() or sourceTensor.clone().detach().requires_grad_(True), rather than torch.tensor(sourceTensor).\n",
            "  X_scaled_tensor = torch.tensor(combined_X, dtype=torch.float32).unsqueeze(1)\n"
          ]
        },
        {
          "output_type": "stream",
          "name": "stdout",
          "text": [
            "     Epoch 0: Train Loss = 0.5921, Val Loss = 5.3629\n",
            "     Epoch 5: Train Loss = 0.5848, Val Loss = 9.5640\n",
            "     Epoch 10: Train Loss = 0.5790, Val Loss = 11.6594\n",
            "     Epoch 15: Train Loss = 0.5792, Val Loss = 10.7287\n",
            "     Epoch 20: Train Loss = 0.5812, Val Loss = 11.1375\n",
            "    ⏹️ Early stopping at epoch 20\n",
            " Run 2 finished with best val loss: 5.3629\n",
            "Original Error Percentage (Test Dataset): 4.1651%\n",
            "Corrected Error Percentage (Test Dataset): 34.5172%\n",
            "   Run 3/5 ... "
          ]
        },
        {
          "output_type": "stream",
          "name": "stderr",
          "text": [
            "<ipython-input-44-b273c6d16a7f>:152: UserWarning: To copy construct from a tensor, it is recommended to use sourceTensor.clone().detach() or sourceTensor.clone().detach().requires_grad_(True), rather than torch.tensor(sourceTensor).\n",
            "  X_scaled_tensor = torch.tensor(combined_X, dtype=torch.float32).unsqueeze(1)\n"
          ]
        },
        {
          "output_type": "stream",
          "name": "stdout",
          "text": [
            "     Epoch 0: Train Loss = 0.5885, Val Loss = 16.5047\n",
            "     Epoch 5: Train Loss = 0.5788, Val Loss = 13.8126\n",
            "     Epoch 10: Train Loss = 0.5792, Val Loss = 15.2718\n",
            "     Epoch 15: Train Loss = 0.5796, Val Loss = 10.2044\n",
            "     Epoch 20: Train Loss = 0.5765, Val Loss = 12.8194\n",
            "    ⏹️ Early stopping at epoch 24\n",
            " Run 3 finished with best val loss: 7.9268\n",
            "Original Error Percentage (Test Dataset): 4.1651%\n",
            "Corrected Error Percentage (Test Dataset): 28.3049%\n",
            "   Run 4/5 ... "
          ]
        },
        {
          "output_type": "stream",
          "name": "stderr",
          "text": [
            "<ipython-input-44-b273c6d16a7f>:152: UserWarning: To copy construct from a tensor, it is recommended to use sourceTensor.clone().detach() or sourceTensor.clone().detach().requires_grad_(True), rather than torch.tensor(sourceTensor).\n",
            "  X_scaled_tensor = torch.tensor(combined_X, dtype=torch.float32).unsqueeze(1)\n"
          ]
        },
        {
          "output_type": "stream",
          "name": "stdout",
          "text": [
            "     Epoch 0: Train Loss = 0.5954, Val Loss = 5.0505\n",
            "     Epoch 5: Train Loss = 0.5808, Val Loss = 11.9658\n",
            "     Epoch 10: Train Loss = 0.5770, Val Loss = 10.2206\n",
            "     Epoch 15: Train Loss = 0.5811, Val Loss = 10.8229\n",
            "     Epoch 20: Train Loss = 0.5739, Val Loss = 11.7149\n",
            "    ⏹️ Early stopping at epoch 20\n",
            " Run 4 finished with best val loss: 5.0505\n",
            "Original Error Percentage (Test Dataset): 4.1651%\n",
            "Corrected Error Percentage (Test Dataset): 35.6084%\n",
            "   Run 5/5 ... "
          ]
        },
        {
          "output_type": "stream",
          "name": "stderr",
          "text": [
            "<ipython-input-44-b273c6d16a7f>:152: UserWarning: To copy construct from a tensor, it is recommended to use sourceTensor.clone().detach() or sourceTensor.clone().detach().requires_grad_(True), rather than torch.tensor(sourceTensor).\n",
            "  X_scaled_tensor = torch.tensor(combined_X, dtype=torch.float32).unsqueeze(1)\n"
          ]
        },
        {
          "output_type": "stream",
          "name": "stdout",
          "text": [
            "     Epoch 0: Train Loss = 0.5928, Val Loss = 8.0799\n",
            "     Epoch 5: Train Loss = 0.5739, Val Loss = 17.6988\n",
            "     Epoch 10: Train Loss = 0.5777, Val Loss = 12.5560\n",
            "     Epoch 15: Train Loss = 0.5801, Val Loss = 15.7436\n",
            "     Epoch 20: Train Loss = 0.5742, Val Loss = 14.0124\n",
            "    ⏹️ Early stopping at epoch 20\n",
            " Run 5 finished with best val loss: 8.0799\n",
            "Original Error Percentage (Test Dataset): 4.1651%\n",
            "Corrected Error Percentage (Test Dataset): 40.8483%\n",
            " Finished configuration H=64, D=0.1, LR=0.001, B=8 → Avg Val Loss: 6.7967, Avg Accuracy: 36.3232%\n",
            "\n",
            " Running 44/81: H=64, D=0.1, LR=0.001, B=16\n",
            "   Run 1/5 ...      Epoch 0: Train Loss = 0.5928, Val Loss = 10.6251\n"
          ]
        },
        {
          "output_type": "stream",
          "name": "stderr",
          "text": [
            "<ipython-input-44-b273c6d16a7f>:152: UserWarning: To copy construct from a tensor, it is recommended to use sourceTensor.clone().detach() or sourceTensor.clone().detach().requires_grad_(True), rather than torch.tensor(sourceTensor).\n",
            "  X_scaled_tensor = torch.tensor(combined_X, dtype=torch.float32).unsqueeze(1)\n"
          ]
        },
        {
          "output_type": "stream",
          "name": "stdout",
          "text": [
            "     Epoch 5: Train Loss = 0.5829, Val Loss = 14.8183\n",
            "     Epoch 10: Train Loss = 0.5762, Val Loss = 12.1509\n",
            "     Epoch 15: Train Loss = 0.5768, Val Loss = 22.5668\n",
            "     Epoch 20: Train Loss = 0.5815, Val Loss = 12.1164\n",
            "    ⏹️ Early stopping at epoch 21\n",
            " Run 1 finished with best val loss: 6.0954\n",
            "Original Error Percentage (Test Dataset): 4.1651%\n",
            "Corrected Error Percentage (Test Dataset): 39.8329%\n",
            "   Run 2/5 ... "
          ]
        },
        {
          "output_type": "stream",
          "name": "stderr",
          "text": [
            "<ipython-input-44-b273c6d16a7f>:152: UserWarning: To copy construct from a tensor, it is recommended to use sourceTensor.clone().detach() or sourceTensor.clone().detach().requires_grad_(True), rather than torch.tensor(sourceTensor).\n",
            "  X_scaled_tensor = torch.tensor(combined_X, dtype=torch.float32).unsqueeze(1)\n"
          ]
        },
        {
          "output_type": "stream",
          "name": "stdout",
          "text": [
            "     Epoch 0: Train Loss = 0.5932, Val Loss = 9.4162\n",
            "     Epoch 5: Train Loss = 0.5835, Val Loss = 10.8798\n",
            "     Epoch 10: Train Loss = 0.5811, Val Loss = 10.5615\n",
            "     Epoch 15: Train Loss = 0.5755, Val Loss = 10.2584\n",
            "     Epoch 20: Train Loss = 0.5796, Val Loss = 14.6185\n",
            "    ⏹️ Early stopping at epoch 22\n",
            " Run 2 finished with best val loss: 8.7875\n",
            "Original Error Percentage (Test Dataset): 4.1651%\n",
            "Corrected Error Percentage (Test Dataset): 45.6309%\n",
            "   Run 3/5 ...      Epoch 0: Train Loss = 0.5880, Val Loss = 8.4661\n"
          ]
        },
        {
          "output_type": "stream",
          "name": "stderr",
          "text": [
            "<ipython-input-44-b273c6d16a7f>:152: UserWarning: To copy construct from a tensor, it is recommended to use sourceTensor.clone().detach() or sourceTensor.clone().detach().requires_grad_(True), rather than torch.tensor(sourceTensor).\n",
            "  X_scaled_tensor = torch.tensor(combined_X, dtype=torch.float32).unsqueeze(1)\n"
          ]
        },
        {
          "output_type": "stream",
          "name": "stdout",
          "text": [
            "     Epoch 5: Train Loss = 0.5798, Val Loss = 14.0081\n",
            "     Epoch 10: Train Loss = 0.5780, Val Loss = 14.4546\n",
            "     Epoch 15: Train Loss = 0.5749, Val Loss = 11.5841\n",
            "     Epoch 20: Train Loss = 0.5780, Val Loss = 11.4210\n",
            "     Epoch 25: Train Loss = 0.5772, Val Loss = 15.3973\n",
            "    ⏹️ Early stopping at epoch 29\n",
            " Run 3 finished with best val loss: 8.0804\n",
            "Original Error Percentage (Test Dataset): 4.1651%\n",
            "Corrected Error Percentage (Test Dataset): 40.5946%\n",
            "   Run 4/5 ...      Epoch 0: Train Loss = 0.5939, Val Loss = 5.0235\n"
          ]
        },
        {
          "output_type": "stream",
          "name": "stderr",
          "text": [
            "<ipython-input-44-b273c6d16a7f>:152: UserWarning: To copy construct from a tensor, it is recommended to use sourceTensor.clone().detach() or sourceTensor.clone().detach().requires_grad_(True), rather than torch.tensor(sourceTensor).\n",
            "  X_scaled_tensor = torch.tensor(combined_X, dtype=torch.float32).unsqueeze(1)\n"
          ]
        },
        {
          "output_type": "stream",
          "name": "stdout",
          "text": [
            "     Epoch 5: Train Loss = 0.5782, Val Loss = 13.7534\n",
            "     Epoch 10: Train Loss = 0.5816, Val Loss = 10.4250\n",
            "     Epoch 15: Train Loss = 0.5828, Val Loss = 8.8962\n",
            "     Epoch 20: Train Loss = 0.5790, Val Loss = 9.3304\n",
            "    ⏹️ Early stopping at epoch 20\n",
            " Run 4 finished with best val loss: 5.0235\n",
            "Original Error Percentage (Test Dataset): 4.1651%\n",
            "Corrected Error Percentage (Test Dataset): 29.5750%\n",
            "   Run 5/5 ...      Epoch 0: Train Loss = 0.5891, Val Loss = 6.0351\n"
          ]
        },
        {
          "output_type": "stream",
          "name": "stderr",
          "text": [
            "<ipython-input-44-b273c6d16a7f>:152: UserWarning: To copy construct from a tensor, it is recommended to use sourceTensor.clone().detach() or sourceTensor.clone().detach().requires_grad_(True), rather than torch.tensor(sourceTensor).\n",
            "  X_scaled_tensor = torch.tensor(combined_X, dtype=torch.float32).unsqueeze(1)\n"
          ]
        },
        {
          "output_type": "stream",
          "name": "stdout",
          "text": [
            "     Epoch 5: Train Loss = 0.5780, Val Loss = 15.2731\n",
            "     Epoch 10: Train Loss = 0.5770, Val Loss = 17.5833\n",
            "     Epoch 15: Train Loss = 0.5762, Val Loss = 14.7282\n",
            "     Epoch 20: Train Loss = 0.5805, Val Loss = 13.5700\n",
            "    ⏹️ Early stopping at epoch 20\n",
            " Run 5 finished with best val loss: 6.0351\n",
            "Original Error Percentage (Test Dataset): 4.1651%\n",
            "Corrected Error Percentage (Test Dataset): 39.9433%\n",
            " Finished configuration H=64, D=0.1, LR=0.001, B=16 → Avg Val Loss: 6.8044, Avg Accuracy: 39.1154%\n",
            "\n",
            " Running 45/81: H=64, D=0.1, LR=0.001, B=32\n",
            "   Run 1/5 ...      Epoch 0: Train Loss = 0.5972, Val Loss = 8.3231\n"
          ]
        },
        {
          "output_type": "stream",
          "name": "stderr",
          "text": [
            "<ipython-input-44-b273c6d16a7f>:152: UserWarning: To copy construct from a tensor, it is recommended to use sourceTensor.clone().detach() or sourceTensor.clone().detach().requires_grad_(True), rather than torch.tensor(sourceTensor).\n",
            "  X_scaled_tensor = torch.tensor(combined_X, dtype=torch.float32).unsqueeze(1)\n"
          ]
        },
        {
          "output_type": "stream",
          "name": "stdout",
          "text": [
            "     Epoch 5: Train Loss = 0.5819, Val Loss = 16.5529\n",
            "     Epoch 10: Train Loss = 0.5791, Val Loss = 12.9055\n",
            "     Epoch 15: Train Loss = 0.5779, Val Loss = 14.6668\n",
            "     Epoch 20: Train Loss = 0.5788, Val Loss = 15.9079\n",
            "    ⏹️ Early stopping at epoch 20\n",
            " Run 1 finished with best val loss: 8.3231\n",
            "Original Error Percentage (Test Dataset): 4.1651%\n",
            "Corrected Error Percentage (Test Dataset): 43.8147%\n",
            "   Run 2/5 ...      Epoch 0: Train Loss = 0.5835, Val Loss = 5.6785\n"
          ]
        },
        {
          "output_type": "stream",
          "name": "stderr",
          "text": [
            "<ipython-input-44-b273c6d16a7f>:152: UserWarning: To copy construct from a tensor, it is recommended to use sourceTensor.clone().detach() or sourceTensor.clone().detach().requires_grad_(True), rather than torch.tensor(sourceTensor).\n",
            "  X_scaled_tensor = torch.tensor(combined_X, dtype=torch.float32).unsqueeze(1)\n"
          ]
        },
        {
          "output_type": "stream",
          "name": "stdout",
          "text": [
            "     Epoch 5: Train Loss = 0.5805, Val Loss = 13.6247\n",
            "     Epoch 10: Train Loss = 0.5802, Val Loss = 14.9830\n",
            "     Epoch 15: Train Loss = 0.5781, Val Loss = 15.2792\n",
            "     Epoch 20: Train Loss = 0.5762, Val Loss = 14.8419\n",
            "    ⏹️ Early stopping at epoch 20\n",
            " Run 2 finished with best val loss: 5.6785\n",
            "Original Error Percentage (Test Dataset): 4.1651%\n",
            "Corrected Error Percentage (Test Dataset): 42.6091%\n",
            "   Run 3/5 ...      Epoch 0: Train Loss = 0.5985, Val Loss = 11.1376\n"
          ]
        },
        {
          "output_type": "stream",
          "name": "stderr",
          "text": [
            "<ipython-input-44-b273c6d16a7f>:152: UserWarning: To copy construct from a tensor, it is recommended to use sourceTensor.clone().detach() or sourceTensor.clone().detach().requires_grad_(True), rather than torch.tensor(sourceTensor).\n",
            "  X_scaled_tensor = torch.tensor(combined_X, dtype=torch.float32).unsqueeze(1)\n"
          ]
        },
        {
          "output_type": "stream",
          "name": "stdout",
          "text": [
            "     Epoch 5: Train Loss = 0.5792, Val Loss = 16.7952\n",
            "     Epoch 10: Train Loss = 0.5789, Val Loss = 13.5167\n",
            "     Epoch 15: Train Loss = 0.5810, Val Loss = 11.8239\n",
            "     Epoch 20: Train Loss = 0.5770, Val Loss = 10.7663\n",
            "    ⏹️ Early stopping at epoch 22\n",
            " Run 3 finished with best val loss: 5.9519\n",
            "Original Error Percentage (Test Dataset): 4.1651%\n",
            "Corrected Error Percentage (Test Dataset): 34.1031%\n",
            "   Run 4/5 ... "
          ]
        },
        {
          "output_type": "stream",
          "name": "stderr",
          "text": [
            "<ipython-input-44-b273c6d16a7f>:152: UserWarning: To copy construct from a tensor, it is recommended to use sourceTensor.clone().detach() or sourceTensor.clone().detach().requires_grad_(True), rather than torch.tensor(sourceTensor).\n",
            "  X_scaled_tensor = torch.tensor(combined_X, dtype=torch.float32).unsqueeze(1)\n"
          ]
        },
        {
          "output_type": "stream",
          "name": "stdout",
          "text": [
            "     Epoch 0: Train Loss = 0.6017, Val Loss = 5.1781\n",
            "     Epoch 5: Train Loss = 0.5807, Val Loss = 11.6976\n",
            "     Epoch 10: Train Loss = 0.5802, Val Loss = 9.9592\n",
            "     Epoch 15: Train Loss = 0.5832, Val Loss = 10.0051\n",
            "     Epoch 20: Train Loss = 0.5756, Val Loss = 12.2980\n",
            "    ⏹️ Early stopping at epoch 20\n",
            " Run 4 finished with best val loss: 5.1781\n",
            "Original Error Percentage (Test Dataset): 4.1651%\n",
            "Corrected Error Percentage (Test Dataset): 36.7021%\n",
            "   Run 5/5 ...      Epoch 0: Train Loss = 0.5886, Val Loss = 11.8279\n"
          ]
        },
        {
          "output_type": "stream",
          "name": "stderr",
          "text": [
            "<ipython-input-44-b273c6d16a7f>:152: UserWarning: To copy construct from a tensor, it is recommended to use sourceTensor.clone().detach() or sourceTensor.clone().detach().requires_grad_(True), rather than torch.tensor(sourceTensor).\n",
            "  X_scaled_tensor = torch.tensor(combined_X, dtype=torch.float32).unsqueeze(1)\n"
          ]
        },
        {
          "output_type": "stream",
          "name": "stdout",
          "text": [
            "     Epoch 5: Train Loss = 0.5824, Val Loss = 14.2157\n",
            "     Epoch 10: Train Loss = 0.5800, Val Loss = 9.4437\n",
            "     Epoch 15: Train Loss = 0.5800, Val Loss = 11.5689\n",
            "     Epoch 20: Train Loss = 0.5750, Val Loss = 17.2674\n",
            "     Epoch 25: Train Loss = 0.5760, Val Loss = 18.5367\n",
            "     Epoch 30: Train Loss = 0.5787, Val Loss = 16.2970\n",
            "    ⏹️ Early stopping at epoch 30\n",
            " Run 5 finished with best val loss: 9.4437\n",
            "Original Error Percentage (Test Dataset): 4.1651%\n",
            "Corrected Error Percentage (Test Dataset): 45.7391%\n",
            " Finished configuration H=64, D=0.1, LR=0.001, B=32 → Avg Val Loss: 6.9151, Avg Accuracy: 40.5936%\n",
            "\n",
            " Running 46/81: H=64, D=0.2, LR=0.0001, B=8\n",
            "   Run 1/5 ... "
          ]
        },
        {
          "output_type": "stream",
          "name": "stderr",
          "text": [
            "<ipython-input-44-b273c6d16a7f>:152: UserWarning: To copy construct from a tensor, it is recommended to use sourceTensor.clone().detach() or sourceTensor.clone().detach().requires_grad_(True), rather than torch.tensor(sourceTensor).\n",
            "  X_scaled_tensor = torch.tensor(combined_X, dtype=torch.float32).unsqueeze(1)\n"
          ]
        },
        {
          "output_type": "stream",
          "name": "stdout",
          "text": [
            "     Epoch 0: Train Loss = 0.6163, Val Loss = 2.3965\n",
            "     Epoch 5: Train Loss = 0.5916, Val Loss = 6.3369\n",
            "     Epoch 10: Train Loss = 0.5867, Val Loss = 10.0089\n",
            "     Epoch 15: Train Loss = 0.5773, Val Loss = 12.4685\n",
            "     Epoch 20: Train Loss = 0.5808, Val Loss = 13.0074\n",
            "    ⏹️ Early stopping at epoch 20\n",
            " Run 1 finished with best val loss: 2.3965\n",
            "Original Error Percentage (Test Dataset): 4.1651%\n",
            "Corrected Error Percentage (Test Dataset): 37.7457%\n",
            "   Run 2/5 ... "
          ]
        },
        {
          "output_type": "stream",
          "name": "stderr",
          "text": [
            "<ipython-input-44-b273c6d16a7f>:152: UserWarning: To copy construct from a tensor, it is recommended to use sourceTensor.clone().detach() or sourceTensor.clone().detach().requires_grad_(True), rather than torch.tensor(sourceTensor).\n",
            "  X_scaled_tensor = torch.tensor(combined_X, dtype=torch.float32).unsqueeze(1)\n"
          ]
        },
        {
          "output_type": "stream",
          "name": "stdout",
          "text": [
            "     Epoch 0: Train Loss = 0.6380, Val Loss = 1.8431\n",
            "     Epoch 5: Train Loss = 0.5944, Val Loss = 3.3093\n",
            "     Epoch 10: Train Loss = 0.5901, Val Loss = 5.7359\n",
            "     Epoch 15: Train Loss = 0.5861, Val Loss = 8.8546\n",
            "     Epoch 20: Train Loss = 0.5850, Val Loss = 10.2594\n",
            "    ⏹️ Early stopping at epoch 21\n",
            " Run 2 finished with best val loss: 1.7559\n",
            "Original Error Percentage (Test Dataset): 4.1651%\n",
            "Corrected Error Percentage (Test Dataset): 29.4115%\n",
            "   Run 3/5 ... "
          ]
        },
        {
          "output_type": "stream",
          "name": "stderr",
          "text": [
            "<ipython-input-44-b273c6d16a7f>:152: UserWarning: To copy construct from a tensor, it is recommended to use sourceTensor.clone().detach() or sourceTensor.clone().detach().requires_grad_(True), rather than torch.tensor(sourceTensor).\n",
            "  X_scaled_tensor = torch.tensor(combined_X, dtype=torch.float32).unsqueeze(1)\n"
          ]
        },
        {
          "output_type": "stream",
          "name": "stdout",
          "text": [
            "     Epoch 0: Train Loss = 0.5992, Val Loss = 4.9385\n",
            "     Epoch 5: Train Loss = 0.5857, Val Loss = 9.1965\n",
            "     Epoch 10: Train Loss = 0.5763, Val Loss = 10.9117\n",
            "     Epoch 15: Train Loss = 0.5807, Val Loss = 13.0613\n",
            "     Epoch 20: Train Loss = 0.5766, Val Loss = 13.3788\n",
            "    ⏹️ Early stopping at epoch 20\n",
            " Run 3 finished with best val loss: 4.9385\n",
            "Original Error Percentage (Test Dataset): 4.1651%\n",
            "Corrected Error Percentage (Test Dataset): 39.3209%\n",
            "   Run 4/5 ... "
          ]
        },
        {
          "output_type": "stream",
          "name": "stderr",
          "text": [
            "<ipython-input-44-b273c6d16a7f>:152: UserWarning: To copy construct from a tensor, it is recommended to use sourceTensor.clone().detach() or sourceTensor.clone().detach().requires_grad_(True), rather than torch.tensor(sourceTensor).\n",
            "  X_scaled_tensor = torch.tensor(combined_X, dtype=torch.float32).unsqueeze(1)\n"
          ]
        },
        {
          "output_type": "stream",
          "name": "stdout",
          "text": [
            "     Epoch 0: Train Loss = 0.6291, Val Loss = 2.9744\n",
            "     Epoch 5: Train Loss = 0.6016, Val Loss = 7.1599\n",
            "     Epoch 10: Train Loss = 0.5875, Val Loss = 8.7185\n",
            "     Epoch 15: Train Loss = 0.5825, Val Loss = 9.8560\n",
            "     Epoch 20: Train Loss = 0.5920, Val Loss = 9.5202\n",
            "    ⏹️ Early stopping at epoch 20\n",
            " Run 4 finished with best val loss: 2.9744\n",
            "Original Error Percentage (Test Dataset): 4.1651%\n",
            "Corrected Error Percentage (Test Dataset): 29.3264%\n",
            "   Run 5/5 ... "
          ]
        },
        {
          "output_type": "stream",
          "name": "stderr",
          "text": [
            "<ipython-input-44-b273c6d16a7f>:152: UserWarning: To copy construct from a tensor, it is recommended to use sourceTensor.clone().detach() or sourceTensor.clone().detach().requires_grad_(True), rather than torch.tensor(sourceTensor).\n",
            "  X_scaled_tensor = torch.tensor(combined_X, dtype=torch.float32).unsqueeze(1)\n"
          ]
        },
        {
          "output_type": "stream",
          "name": "stdout",
          "text": [
            "     Epoch 0: Train Loss = 0.6488, Val Loss = 2.1544\n",
            "     Epoch 5: Train Loss = 0.5902, Val Loss = 5.2144\n",
            "     Epoch 10: Train Loss = 0.5794, Val Loss = 10.0863\n",
            "     Epoch 15: Train Loss = 0.5801, Val Loss = 13.0044\n",
            "     Epoch 20: Train Loss = 0.5825, Val Loss = 14.4164\n",
            "    ⏹️ Early stopping at epoch 20\n",
            " Run 5 finished with best val loss: 2.1544\n",
            "Original Error Percentage (Test Dataset): 4.1651%\n",
            "Corrected Error Percentage (Test Dataset): 40.7290%\n",
            " Finished configuration H=64, D=0.2, LR=0.0001, B=8 → Avg Val Loss: 2.8439, Avg Accuracy: 35.3067%\n",
            "\n",
            " Running 47/81: H=64, D=0.2, LR=0.0001, B=16\n",
            "   Run 1/5 ... "
          ]
        },
        {
          "output_type": "stream",
          "name": "stderr",
          "text": [
            "<ipython-input-44-b273c6d16a7f>:152: UserWarning: To copy construct from a tensor, it is recommended to use sourceTensor.clone().detach() or sourceTensor.clone().detach().requires_grad_(True), rather than torch.tensor(sourceTensor).\n",
            "  X_scaled_tensor = torch.tensor(combined_X, dtype=torch.float32).unsqueeze(1)\n"
          ]
        },
        {
          "output_type": "stream",
          "name": "stdout",
          "text": [
            "     Epoch 0: Train Loss = 0.5935, Val Loss = 5.1796\n",
            "     Epoch 5: Train Loss = 0.5777, Val Loss = 9.2308\n",
            "     Epoch 10: Train Loss = 0.5856, Val Loss = 12.4311\n",
            "     Epoch 15: Train Loss = 0.5925, Val Loss = 13.4190\n",
            "     Epoch 20: Train Loss = 0.5819, Val Loss = 13.3111\n",
            "    ⏹️ Early stopping at epoch 20\n",
            " Run 1 finished with best val loss: 5.1796\n",
            "Original Error Percentage (Test Dataset): 4.1651%\n",
            "Corrected Error Percentage (Test Dataset): 39.2381%\n",
            "   Run 2/5 ...      Epoch 0: Train Loss = 0.5977, Val Loss = 2.5017\n"
          ]
        },
        {
          "output_type": "stream",
          "name": "stderr",
          "text": [
            "<ipython-input-44-b273c6d16a7f>:152: UserWarning: To copy construct from a tensor, it is recommended to use sourceTensor.clone().detach() or sourceTensor.clone().detach().requires_grad_(True), rather than torch.tensor(sourceTensor).\n",
            "  X_scaled_tensor = torch.tensor(combined_X, dtype=torch.float32).unsqueeze(1)\n"
          ]
        },
        {
          "output_type": "stream",
          "name": "stdout",
          "text": [
            "     Epoch 5: Train Loss = 0.5949, Val Loss = 5.4166\n",
            "     Epoch 10: Train Loss = 0.5891, Val Loss = 8.3559\n",
            "     Epoch 15: Train Loss = 0.5862, Val Loss = 10.0700\n",
            "     Epoch 20: Train Loss = 0.5848, Val Loss = 11.3798\n",
            "    ⏹️ Early stopping at epoch 20\n",
            " Run 2 finished with best val loss: 2.5017\n",
            "Original Error Percentage (Test Dataset): 4.1651%\n",
            "Corrected Error Percentage (Test Dataset): 33.6473%\n",
            "   Run 3/5 ...      Epoch 0: Train Loss = 0.7165, Val Loss = 2.7547\n"
          ]
        },
        {
          "output_type": "stream",
          "name": "stderr",
          "text": [
            "<ipython-input-44-b273c6d16a7f>:152: UserWarning: To copy construct from a tensor, it is recommended to use sourceTensor.clone().detach() or sourceTensor.clone().detach().requires_grad_(True), rather than torch.tensor(sourceTensor).\n",
            "  X_scaled_tensor = torch.tensor(combined_X, dtype=torch.float32).unsqueeze(1)\n"
          ]
        },
        {
          "output_type": "stream",
          "name": "stdout",
          "text": [
            "     Epoch 5: Train Loss = 0.5993, Val Loss = 3.9486\n",
            "     Epoch 10: Train Loss = 0.6031, Val Loss = 6.4930\n",
            "     Epoch 15: Train Loss = 0.5826, Val Loss = 8.5679\n",
            "     Epoch 20: Train Loss = 0.5877, Val Loss = 10.1450\n",
            "    ⏹️ Early stopping at epoch 21\n",
            " Run 3 finished with best val loss: 2.2884\n",
            "Original Error Percentage (Test Dataset): 4.1651%\n",
            "Corrected Error Percentage (Test Dataset): 31.2114%\n",
            "   Run 4/5 ... "
          ]
        },
        {
          "output_type": "stream",
          "name": "stderr",
          "text": [
            "<ipython-input-44-b273c6d16a7f>:152: UserWarning: To copy construct from a tensor, it is recommended to use sourceTensor.clone().detach() or sourceTensor.clone().detach().requires_grad_(True), rather than torch.tensor(sourceTensor).\n",
            "  X_scaled_tensor = torch.tensor(combined_X, dtype=torch.float32).unsqueeze(1)\n"
          ]
        },
        {
          "output_type": "stream",
          "name": "stdout",
          "text": [
            "     Epoch 0: Train Loss = 0.6001, Val Loss = 2.5005\n",
            "     Epoch 5: Train Loss = 0.5899, Val Loss = 4.6806\n",
            "     Epoch 10: Train Loss = 0.5910, Val Loss = 6.2895\n",
            "     Epoch 15: Train Loss = 0.5868, Val Loss = 7.7787\n",
            "     Epoch 20: Train Loss = 0.5855, Val Loss = 8.3905\n",
            "    ⏹️ Early stopping at epoch 20\n",
            " Run 4 finished with best val loss: 2.5005\n",
            "Original Error Percentage (Test Dataset): 4.1651%\n",
            "Corrected Error Percentage (Test Dataset): 26.6242%\n",
            "   Run 5/5 ...      Epoch 0: Train Loss = 0.6319, Val Loss = 2.2455\n"
          ]
        },
        {
          "output_type": "stream",
          "name": "stderr",
          "text": [
            "<ipython-input-44-b273c6d16a7f>:152: UserWarning: To copy construct from a tensor, it is recommended to use sourceTensor.clone().detach() or sourceTensor.clone().detach().requires_grad_(True), rather than torch.tensor(sourceTensor).\n",
            "  X_scaled_tensor = torch.tensor(combined_X, dtype=torch.float32).unsqueeze(1)\n"
          ]
        },
        {
          "output_type": "stream",
          "name": "stdout",
          "text": [
            "     Epoch 5: Train Loss = 0.5982, Val Loss = 2.7210\n",
            "     Epoch 10: Train Loss = 0.5856, Val Loss = 3.9080\n",
            "     Epoch 15: Train Loss = 0.5864, Val Loss = 5.3178\n",
            "     Epoch 20: Train Loss = 0.5881, Val Loss = 6.9745\n",
            "    ⏹️ Early stopping at epoch 21\n",
            " Run 5 finished with best val loss: 2.1173\n",
            "Original Error Percentage (Test Dataset): 4.1651%\n",
            "Corrected Error Percentage (Test Dataset): 22.4889%\n",
            " Finished configuration H=64, D=0.2, LR=0.0001, B=16 → Avg Val Loss: 2.9175, Avg Accuracy: 30.6420%\n",
            "\n",
            " Running 48/81: H=64, D=0.2, LR=0.0001, B=32\n",
            "   Run 1/5 ... "
          ]
        },
        {
          "output_type": "stream",
          "name": "stderr",
          "text": [
            "<ipython-input-44-b273c6d16a7f>:152: UserWarning: To copy construct from a tensor, it is recommended to use sourceTensor.clone().detach() or sourceTensor.clone().detach().requires_grad_(True), rather than torch.tensor(sourceTensor).\n",
            "  X_scaled_tensor = torch.tensor(combined_X, dtype=torch.float32).unsqueeze(1)\n"
          ]
        },
        {
          "output_type": "stream",
          "name": "stdout",
          "text": [
            "     Epoch 0: Train Loss = 0.6049, Val Loss = 2.3400\n",
            "     Epoch 5: Train Loss = 0.5910, Val Loss = 3.8151\n",
            "     Epoch 10: Train Loss = 0.5934, Val Loss = 5.8773\n",
            "     Epoch 15: Train Loss = 0.5798, Val Loss = 7.4698\n",
            "     Epoch 20: Train Loss = 0.5802, Val Loss = 9.0380\n",
            "    ⏹️ Early stopping at epoch 20\n",
            " Run 1 finished with best val loss: 2.3400\n",
            "Original Error Percentage (Test Dataset): 4.1651%\n",
            "Corrected Error Percentage (Test Dataset): 29.4276%\n",
            "   Run 2/5 ...      Epoch 0: Train Loss = 0.6660, Val Loss = 2.3043\n"
          ]
        },
        {
          "output_type": "stream",
          "name": "stderr",
          "text": [
            "<ipython-input-44-b273c6d16a7f>:152: UserWarning: To copy construct from a tensor, it is recommended to use sourceTensor.clone().detach() or sourceTensor.clone().detach().requires_grad_(True), rather than torch.tensor(sourceTensor).\n",
            "  X_scaled_tensor = torch.tensor(combined_X, dtype=torch.float32).unsqueeze(1)\n"
          ]
        },
        {
          "output_type": "stream",
          "name": "stdout",
          "text": [
            "     Epoch 5: Train Loss = 0.5920, Val Loss = 3.8303\n",
            "     Epoch 10: Train Loss = 0.5917, Val Loss = 7.0540\n",
            "     Epoch 15: Train Loss = 0.5869, Val Loss = 9.1406\n",
            "     Epoch 20: Train Loss = 0.5873, Val Loss = 11.0429\n",
            "    ⏹️ Early stopping at epoch 21\n",
            " Run 2 finished with best val loss: 2.0601\n",
            "Original Error Percentage (Test Dataset): 4.1651%\n",
            "Corrected Error Percentage (Test Dataset): 33.3486%\n",
            "   Run 3/5 ...      Epoch 0: Train Loss = 0.6532, Val Loss = 5.2068\n"
          ]
        },
        {
          "output_type": "stream",
          "name": "stderr",
          "text": [
            "<ipython-input-44-b273c6d16a7f>:152: UserWarning: To copy construct from a tensor, it is recommended to use sourceTensor.clone().detach() or sourceTensor.clone().detach().requires_grad_(True), rather than torch.tensor(sourceTensor).\n",
            "  X_scaled_tensor = torch.tensor(combined_X, dtype=torch.float32).unsqueeze(1)\n"
          ]
        },
        {
          "output_type": "stream",
          "name": "stdout",
          "text": [
            "     Epoch 5: Train Loss = 0.5983, Val Loss = 3.7057\n",
            "     Epoch 10: Train Loss = 0.5881, Val Loss = 5.6197\n",
            "     Epoch 15: Train Loss = 0.5900, Val Loss = 8.1515\n",
            "     Epoch 20: Train Loss = 0.5857, Val Loss = 9.2769\n",
            "    ⏹️ Early stopping at epoch 23\n",
            " Run 3 finished with best val loss: 3.3634\n",
            "Original Error Percentage (Test Dataset): 4.1651%\n",
            "Corrected Error Percentage (Test Dataset): 29.8204%\n",
            "   Run 4/5 ...      Epoch 0: Train Loss = 0.7449, Val Loss = 4.1038\n"
          ]
        },
        {
          "output_type": "stream",
          "name": "stderr",
          "text": [
            "<ipython-input-44-b273c6d16a7f>:152: UserWarning: To copy construct from a tensor, it is recommended to use sourceTensor.clone().detach() or sourceTensor.clone().detach().requires_grad_(True), rather than torch.tensor(sourceTensor).\n",
            "  X_scaled_tensor = torch.tensor(combined_X, dtype=torch.float32).unsqueeze(1)\n"
          ]
        },
        {
          "output_type": "stream",
          "name": "stdout",
          "text": [
            "     Epoch 5: Train Loss = 0.6166, Val Loss = 2.2399\n",
            "     Epoch 10: Train Loss = 0.5908, Val Loss = 4.0701\n",
            "     Epoch 15: Train Loss = 0.5901, Val Loss = 7.1451\n",
            "     Epoch 20: Train Loss = 0.5946, Val Loss = 10.2573\n",
            "     Epoch 25: Train Loss = 0.5908, Val Loss = 11.9920\n",
            "    ⏹️ Early stopping at epoch 25\n",
            " Run 4 finished with best val loss: 2.2399\n",
            "Original Error Percentage (Test Dataset): 4.1651%\n",
            "Corrected Error Percentage (Test Dataset): 35.9518%\n",
            "   Run 5/5 ...      Epoch 0: Train Loss = 0.6118, Val Loss = 3.6207\n"
          ]
        },
        {
          "output_type": "stream",
          "name": "stderr",
          "text": [
            "<ipython-input-44-b273c6d16a7f>:152: UserWarning: To copy construct from a tensor, it is recommended to use sourceTensor.clone().detach() or sourceTensor.clone().detach().requires_grad_(True), rather than torch.tensor(sourceTensor).\n",
            "  X_scaled_tensor = torch.tensor(combined_X, dtype=torch.float32).unsqueeze(1)\n"
          ]
        },
        {
          "output_type": "stream",
          "name": "stdout",
          "text": [
            "     Epoch 5: Train Loss = 0.5998, Val Loss = 6.5025\n",
            "     Epoch 10: Train Loss = 0.5919, Val Loss = 11.3352\n",
            "     Epoch 15: Train Loss = 0.5869, Val Loss = 12.6479\n",
            "     Epoch 20: Train Loss = 0.5887, Val Loss = 14.7760\n",
            "    ⏹️ Early stopping at epoch 20\n",
            " Run 5 finished with best val loss: 3.6207\n",
            "Original Error Percentage (Test Dataset): 4.1651%\n",
            "Corrected Error Percentage (Test Dataset): 41.7842%\n",
            " Finished configuration H=64, D=0.2, LR=0.0001, B=32 → Avg Val Loss: 2.7248, Avg Accuracy: 34.0665%\n",
            "\n",
            " Running 49/81: H=64, D=0.2, LR=0.0005, B=8\n",
            "   Run 1/5 ... "
          ]
        },
        {
          "output_type": "stream",
          "name": "stderr",
          "text": [
            "<ipython-input-44-b273c6d16a7f>:152: UserWarning: To copy construct from a tensor, it is recommended to use sourceTensor.clone().detach() or sourceTensor.clone().detach().requires_grad_(True), rather than torch.tensor(sourceTensor).\n",
            "  X_scaled_tensor = torch.tensor(combined_X, dtype=torch.float32).unsqueeze(1)\n"
          ]
        },
        {
          "output_type": "stream",
          "name": "stdout",
          "text": [
            "     Epoch 0: Train Loss = 0.6177, Val Loss = 4.3240\n",
            "     Epoch 5: Train Loss = 0.5831, Val Loss = 11.4493\n",
            "     Epoch 10: Train Loss = 0.5831, Val Loss = 11.5053\n",
            "     Epoch 15: Train Loss = 0.5801, Val Loss = 12.8637\n",
            "     Epoch 20: Train Loss = 0.5764, Val Loss = 16.0353\n",
            "    ⏹️ Early stopping at epoch 20\n",
            " Run 1 finished with best val loss: 4.3240\n",
            "Original Error Percentage (Test Dataset): 4.1651%\n",
            "Corrected Error Percentage (Test Dataset): 44.2228%\n",
            "   Run 2/5 ... "
          ]
        },
        {
          "output_type": "stream",
          "name": "stderr",
          "text": [
            "<ipython-input-44-b273c6d16a7f>:152: UserWarning: To copy construct from a tensor, it is recommended to use sourceTensor.clone().detach() or sourceTensor.clone().detach().requires_grad_(True), rather than torch.tensor(sourceTensor).\n",
            "  X_scaled_tensor = torch.tensor(combined_X, dtype=torch.float32).unsqueeze(1)\n"
          ]
        },
        {
          "output_type": "stream",
          "name": "stdout",
          "text": [
            "     Epoch 0: Train Loss = 0.5865, Val Loss = 7.8257\n",
            "     Epoch 5: Train Loss = 0.5785, Val Loss = 18.1303\n",
            "     Epoch 10: Train Loss = 0.5784, Val Loss = 14.5551\n",
            "     Epoch 15: Train Loss = 0.5772, Val Loss = 12.9272\n",
            "     Epoch 20: Train Loss = 0.5785, Val Loss = 11.4473\n",
            "    ⏹️ Early stopping at epoch 20\n",
            " Run 2 finished with best val loss: 7.8257\n",
            "Original Error Percentage (Test Dataset): 4.1651%\n",
            "Corrected Error Percentage (Test Dataset): 35.1995%\n",
            "   Run 3/5 ... "
          ]
        },
        {
          "output_type": "stream",
          "name": "stderr",
          "text": [
            "<ipython-input-44-b273c6d16a7f>:152: UserWarning: To copy construct from a tensor, it is recommended to use sourceTensor.clone().detach() or sourceTensor.clone().detach().requires_grad_(True), rather than torch.tensor(sourceTensor).\n",
            "  X_scaled_tensor = torch.tensor(combined_X, dtype=torch.float32).unsqueeze(1)\n"
          ]
        },
        {
          "output_type": "stream",
          "name": "stdout",
          "text": [
            "     Epoch 0: Train Loss = 0.5977, Val Loss = 4.4843\n",
            "     Epoch 5: Train Loss = 0.5805, Val Loss = 12.3129\n",
            "     Epoch 10: Train Loss = 0.5837, Val Loss = 11.7471\n",
            "     Epoch 15: Train Loss = 0.5798, Val Loss = 11.7018\n",
            "     Epoch 20: Train Loss = 0.5761, Val Loss = 12.6473\n",
            "    ⏹️ Early stopping at epoch 20\n",
            " Run 3 finished with best val loss: 4.4843\n",
            "Original Error Percentage (Test Dataset): 4.1651%\n",
            "Corrected Error Percentage (Test Dataset): 37.6310%\n",
            "   Run 4/5 ... "
          ]
        },
        {
          "output_type": "stream",
          "name": "stderr",
          "text": [
            "<ipython-input-44-b273c6d16a7f>:152: UserWarning: To copy construct from a tensor, it is recommended to use sourceTensor.clone().detach() or sourceTensor.clone().detach().requires_grad_(True), rather than torch.tensor(sourceTensor).\n",
            "  X_scaled_tensor = torch.tensor(combined_X, dtype=torch.float32).unsqueeze(1)\n"
          ]
        },
        {
          "output_type": "stream",
          "name": "stdout",
          "text": [
            "     Epoch 0: Train Loss = 0.5864, Val Loss = 9.4507\n",
            "     Epoch 5: Train Loss = 0.5852, Val Loss = 11.1413\n",
            "     Epoch 10: Train Loss = 0.5812, Val Loss = 13.2361\n",
            "     Epoch 15: Train Loss = 0.5764, Val Loss = 14.4230\n",
            "     Epoch 20: Train Loss = 0.5785, Val Loss = 13.3640\n",
            "    ⏹️ Early stopping at epoch 20\n",
            " Run 4 finished with best val loss: 9.4507\n",
            "Original Error Percentage (Test Dataset): 4.1651%\n",
            "Corrected Error Percentage (Test Dataset): 39.2619%\n",
            "   Run 5/5 ... "
          ]
        },
        {
          "output_type": "stream",
          "name": "stderr",
          "text": [
            "<ipython-input-44-b273c6d16a7f>:152: UserWarning: To copy construct from a tensor, it is recommended to use sourceTensor.clone().detach() or sourceTensor.clone().detach().requires_grad_(True), rather than torch.tensor(sourceTensor).\n",
            "  X_scaled_tensor = torch.tensor(combined_X, dtype=torch.float32).unsqueeze(1)\n"
          ]
        },
        {
          "output_type": "stream",
          "name": "stdout",
          "text": [
            "     Epoch 0: Train Loss = 0.6077, Val Loss = 9.7006\n",
            "     Epoch 5: Train Loss = 0.5776, Val Loss = 11.2146\n",
            "     Epoch 10: Train Loss = 0.5873, Val Loss = 9.1673\n",
            "     Epoch 15: Train Loss = 0.5843, Val Loss = 9.2773\n",
            "     Epoch 20: Train Loss = 0.5791, Val Loss = 9.8043\n",
            "     Epoch 25: Train Loss = 0.5775, Val Loss = 11.2506\n",
            "     Epoch 30: Train Loss = 0.5783, Val Loss = 12.2077\n",
            "    ⏹️ Early stopping at epoch 31\n",
            " Run 5 finished with best val loss: 7.7020\n",
            "Original Error Percentage (Test Dataset): 4.1651%\n",
            "Corrected Error Percentage (Test Dataset): 41.1466%\n",
            " Finished configuration H=64, D=0.2, LR=0.0005, B=8 → Avg Val Loss: 6.7573, Avg Accuracy: 39.4923%\n",
            "\n",
            " Running 50/81: H=64, D=0.2, LR=0.0005, B=16\n",
            "   Run 1/5 ...      Epoch 0: Train Loss = 0.5942, Val Loss = 6.6999\n"
          ]
        },
        {
          "output_type": "stream",
          "name": "stderr",
          "text": [
            "<ipython-input-44-b273c6d16a7f>:152: UserWarning: To copy construct from a tensor, it is recommended to use sourceTensor.clone().detach() or sourceTensor.clone().detach().requires_grad_(True), rather than torch.tensor(sourceTensor).\n",
            "  X_scaled_tensor = torch.tensor(combined_X, dtype=torch.float32).unsqueeze(1)\n"
          ]
        },
        {
          "output_type": "stream",
          "name": "stdout",
          "text": [
            "     Epoch 5: Train Loss = 0.5810, Val Loss = 9.2885\n",
            "     Epoch 10: Train Loss = 0.5793, Val Loss = 12.1956\n",
            "     Epoch 15: Train Loss = 0.5773, Val Loss = 11.8013\n",
            "     Epoch 20: Train Loss = 0.5774, Val Loss = 12.3388\n",
            "    ⏹️ Early stopping at epoch 20\n",
            " Run 1 finished with best val loss: 6.6999\n",
            "Original Error Percentage (Test Dataset): 4.1651%\n",
            "Corrected Error Percentage (Test Dataset): 37.0719%\n",
            "   Run 2/5 ...      Epoch 0: Train Loss = 0.6012, Val Loss = 4.2999\n"
          ]
        },
        {
          "output_type": "stream",
          "name": "stderr",
          "text": [
            "<ipython-input-44-b273c6d16a7f>:152: UserWarning: To copy construct from a tensor, it is recommended to use sourceTensor.clone().detach() or sourceTensor.clone().detach().requires_grad_(True), rather than torch.tensor(sourceTensor).\n",
            "  X_scaled_tensor = torch.tensor(combined_X, dtype=torch.float32).unsqueeze(1)\n"
          ]
        },
        {
          "output_type": "stream",
          "name": "stdout",
          "text": [
            "     Epoch 5: Train Loss = 0.5824, Val Loss = 9.7867\n",
            "     Epoch 10: Train Loss = 0.5798, Val Loss = 10.5727\n",
            "     Epoch 15: Train Loss = 0.5795, Val Loss = 12.3127\n",
            "     Epoch 20: Train Loss = 0.5793, Val Loss = 12.9762\n",
            "    ⏹️ Early stopping at epoch 20\n",
            " Run 2 finished with best val loss: 4.2999\n",
            "Original Error Percentage (Test Dataset): 4.1651%\n",
            "Corrected Error Percentage (Test Dataset): 38.5798%\n",
            "   Run 3/5 ...      Epoch 0: Train Loss = 0.6092, Val Loss = 8.5585\n"
          ]
        },
        {
          "output_type": "stream",
          "name": "stderr",
          "text": [
            "<ipython-input-44-b273c6d16a7f>:152: UserWarning: To copy construct from a tensor, it is recommended to use sourceTensor.clone().detach() or sourceTensor.clone().detach().requires_grad_(True), rather than torch.tensor(sourceTensor).\n",
            "  X_scaled_tensor = torch.tensor(combined_X, dtype=torch.float32).unsqueeze(1)\n"
          ]
        },
        {
          "output_type": "stream",
          "name": "stdout",
          "text": [
            "     Epoch 5: Train Loss = 0.5812, Val Loss = 14.6108\n",
            "     Epoch 10: Train Loss = 0.5806, Val Loss = 12.8021\n",
            "     Epoch 15: Train Loss = 0.5775, Val Loss = 12.0591\n",
            "     Epoch 20: Train Loss = 0.5796, Val Loss = 10.2363\n",
            "    ⏹️ Early stopping at epoch 20\n",
            " Run 3 finished with best val loss: 8.5585\n",
            "Original Error Percentage (Test Dataset): 4.1651%\n",
            "Corrected Error Percentage (Test Dataset): 31.2049%\n",
            "   Run 4/5 ...      Epoch 0: Train Loss = 0.5945, Val Loss = 7.5998\n"
          ]
        },
        {
          "output_type": "stream",
          "name": "stderr",
          "text": [
            "<ipython-input-44-b273c6d16a7f>:152: UserWarning: To copy construct from a tensor, it is recommended to use sourceTensor.clone().detach() or sourceTensor.clone().detach().requires_grad_(True), rather than torch.tensor(sourceTensor).\n",
            "  X_scaled_tensor = torch.tensor(combined_X, dtype=torch.float32).unsqueeze(1)\n"
          ]
        },
        {
          "output_type": "stream",
          "name": "stdout",
          "text": [
            "     Epoch 5: Train Loss = 0.5829, Val Loss = 14.3120\n",
            "     Epoch 10: Train Loss = 0.5747, Val Loss = 16.0839\n",
            "     Epoch 15: Train Loss = 0.5801, Val Loss = 13.6245\n",
            "     Epoch 20: Train Loss = 0.5787, Val Loss = 14.6717\n",
            "    ⏹️ Early stopping at epoch 20\n",
            " Run 4 finished with best val loss: 7.5998\n",
            "Original Error Percentage (Test Dataset): 4.1651%\n",
            "Corrected Error Percentage (Test Dataset): 42.4718%\n",
            "   Run 5/5 ...      Epoch 0: Train Loss = 0.6112, Val Loss = 2.0085\n"
          ]
        },
        {
          "output_type": "stream",
          "name": "stderr",
          "text": [
            "<ipython-input-44-b273c6d16a7f>:152: UserWarning: To copy construct from a tensor, it is recommended to use sourceTensor.clone().detach() or sourceTensor.clone().detach().requires_grad_(True), rather than torch.tensor(sourceTensor).\n",
            "  X_scaled_tensor = torch.tensor(combined_X, dtype=torch.float32).unsqueeze(1)\n"
          ]
        },
        {
          "output_type": "stream",
          "name": "stdout",
          "text": [
            "     Epoch 5: Train Loss = 0.5837, Val Loss = 10.4291\n",
            "     Epoch 10: Train Loss = 0.5829, Val Loss = 10.8893\n",
            "     Epoch 15: Train Loss = 0.5865, Val Loss = 11.2777\n",
            "     Epoch 20: Train Loss = 0.5833, Val Loss = 12.0809\n",
            "    ⏹️ Early stopping at epoch 20\n",
            " Run 5 finished with best val loss: 2.0085\n",
            "Original Error Percentage (Test Dataset): 4.1651%\n",
            "Corrected Error Percentage (Test Dataset): 35.2159%\n",
            " Finished configuration H=64, D=0.2, LR=0.0005, B=16 → Avg Val Loss: 5.8333, Avg Accuracy: 36.9089%\n",
            "\n",
            " Running 51/81: H=64, D=0.2, LR=0.0005, B=32\n",
            "   Run 1/5 ...      Epoch 0: Train Loss = 0.6053, Val Loss = 5.6812\n"
          ]
        },
        {
          "output_type": "stream",
          "name": "stderr",
          "text": [
            "<ipython-input-44-b273c6d16a7f>:152: UserWarning: To copy construct from a tensor, it is recommended to use sourceTensor.clone().detach() or sourceTensor.clone().detach().requires_grad_(True), rather than torch.tensor(sourceTensor).\n",
            "  X_scaled_tensor = torch.tensor(combined_X, dtype=torch.float32).unsqueeze(1)\n"
          ]
        },
        {
          "output_type": "stream",
          "name": "stdout",
          "text": [
            "     Epoch 5: Train Loss = 0.5844, Val Loss = 11.4392\n",
            "     Epoch 10: Train Loss = 0.5813, Val Loss = 13.2354\n",
            "     Epoch 15: Train Loss = 0.5820, Val Loss = 15.6514\n",
            "     Epoch 20: Train Loss = 0.5737, Val Loss = 16.3050\n",
            "    ⏹️ Early stopping at epoch 20\n",
            " Run 1 finished with best val loss: 5.6812\n",
            "Original Error Percentage (Test Dataset): 4.1651%\n",
            "Corrected Error Percentage (Test Dataset): 45.8727%\n",
            "   Run 2/5 ...      Epoch 0: Train Loss = 0.6018, Val Loss = 9.1173\n"
          ]
        },
        {
          "output_type": "stream",
          "name": "stderr",
          "text": [
            "<ipython-input-44-b273c6d16a7f>:152: UserWarning: To copy construct from a tensor, it is recommended to use sourceTensor.clone().detach() or sourceTensor.clone().detach().requires_grad_(True), rather than torch.tensor(sourceTensor).\n",
            "  X_scaled_tensor = torch.tensor(combined_X, dtype=torch.float32).unsqueeze(1)\n"
          ]
        },
        {
          "output_type": "stream",
          "name": "stdout",
          "text": [
            "     Epoch 5: Train Loss = 0.5796, Val Loss = 14.0600\n",
            "     Epoch 10: Train Loss = 0.5837, Val Loss = 14.8991\n",
            "     Epoch 15: Train Loss = 0.5838, Val Loss = 12.6772\n",
            "     Epoch 20: Train Loss = 0.5792, Val Loss = 13.5539\n",
            "    ⏹️ Early stopping at epoch 21\n",
            " Run 2 finished with best val loss: 7.5323\n",
            "Original Error Percentage (Test Dataset): 4.1651%\n",
            "Corrected Error Percentage (Test Dataset): 36.6009%\n",
            "   Run 3/5 ...      Epoch 0: Train Loss = 0.6126, Val Loss = 2.4313\n"
          ]
        },
        {
          "output_type": "stream",
          "name": "stderr",
          "text": [
            "<ipython-input-44-b273c6d16a7f>:152: UserWarning: To copy construct from a tensor, it is recommended to use sourceTensor.clone().detach() or sourceTensor.clone().detach().requires_grad_(True), rather than torch.tensor(sourceTensor).\n",
            "  X_scaled_tensor = torch.tensor(combined_X, dtype=torch.float32).unsqueeze(1)\n"
          ]
        },
        {
          "output_type": "stream",
          "name": "stdout",
          "text": [
            "     Epoch 5: Train Loss = 0.5817, Val Loss = 13.7539\n",
            "     Epoch 10: Train Loss = 0.5767, Val Loss = 12.5907\n",
            "     Epoch 15: Train Loss = 0.5838, Val Loss = 12.2100\n",
            "     Epoch 20: Train Loss = 0.5799, Val Loss = 13.2736\n",
            "    ⏹️ Early stopping at epoch 20\n",
            " Run 3 finished with best val loss: 2.4313\n",
            "Original Error Percentage (Test Dataset): 4.1651%\n",
            "Corrected Error Percentage (Test Dataset): 38.6332%\n",
            "   Run 4/5 ...      Epoch 0: Train Loss = 0.6048, Val Loss = 3.0300\n"
          ]
        },
        {
          "output_type": "stream",
          "name": "stderr",
          "text": [
            "<ipython-input-44-b273c6d16a7f>:152: UserWarning: To copy construct from a tensor, it is recommended to use sourceTensor.clone().detach() or sourceTensor.clone().detach().requires_grad_(True), rather than torch.tensor(sourceTensor).\n",
            "  X_scaled_tensor = torch.tensor(combined_X, dtype=torch.float32).unsqueeze(1)\n"
          ]
        },
        {
          "output_type": "stream",
          "name": "stdout",
          "text": [
            "     Epoch 5: Train Loss = 0.5801, Val Loss = 12.9820\n",
            "     Epoch 10: Train Loss = 0.5793, Val Loss = 13.6671\n",
            "     Epoch 15: Train Loss = 0.5830, Val Loss = 11.9213\n",
            "     Epoch 20: Train Loss = 0.5787, Val Loss = 12.2208\n",
            "    ⏹️ Early stopping at epoch 20\n",
            " Run 4 finished with best val loss: 3.0300\n",
            "Original Error Percentage (Test Dataset): 4.1651%\n",
            "Corrected Error Percentage (Test Dataset): 36.9564%\n",
            "   Run 5/5 ...      Epoch 0: Train Loss = 0.6024, Val Loss = 2.6953\n"
          ]
        },
        {
          "output_type": "stream",
          "name": "stderr",
          "text": [
            "<ipython-input-44-b273c6d16a7f>:152: UserWarning: To copy construct from a tensor, it is recommended to use sourceTensor.clone().detach() or sourceTensor.clone().detach().requires_grad_(True), rather than torch.tensor(sourceTensor).\n",
            "  X_scaled_tensor = torch.tensor(combined_X, dtype=torch.float32).unsqueeze(1)\n"
          ]
        },
        {
          "output_type": "stream",
          "name": "stdout",
          "text": [
            "     Epoch 5: Train Loss = 0.5872, Val Loss = 11.4104\n",
            "     Epoch 10: Train Loss = 0.5818, Val Loss = 12.4561\n",
            "     Epoch 15: Train Loss = 0.5781, Val Loss = 13.6646\n",
            "     Epoch 20: Train Loss = 0.5816, Val Loss = 13.7739\n",
            "    ⏹️ Early stopping at epoch 20\n",
            " Run 5 finished with best val loss: 2.6953\n",
            "Original Error Percentage (Test Dataset): 4.1651%\n",
            "Corrected Error Percentage (Test Dataset): 39.7498%\n",
            " Finished configuration H=64, D=0.2, LR=0.0005, B=32 → Avg Val Loss: 4.2740, Avg Accuracy: 39.5626%\n",
            "\n",
            " Running 52/81: H=64, D=0.2, LR=0.001, B=8\n",
            "   Run 1/5 ... "
          ]
        },
        {
          "output_type": "stream",
          "name": "stderr",
          "text": [
            "<ipython-input-44-b273c6d16a7f>:152: UserWarning: To copy construct from a tensor, it is recommended to use sourceTensor.clone().detach() or sourceTensor.clone().detach().requires_grad_(True), rather than torch.tensor(sourceTensor).\n",
            "  X_scaled_tensor = torch.tensor(combined_X, dtype=torch.float32).unsqueeze(1)\n"
          ]
        },
        {
          "output_type": "stream",
          "name": "stdout",
          "text": [
            "     Epoch 0: Train Loss = 0.5963, Val Loss = 9.1783\n",
            "     Epoch 5: Train Loss = 0.5832, Val Loss = 7.1356\n",
            "     Epoch 10: Train Loss = 0.5799, Val Loss = 16.5951\n",
            "     Epoch 15: Train Loss = 0.5764, Val Loss = 21.9812\n",
            "     Epoch 20: Train Loss = 0.5749, Val Loss = 14.7148\n",
            "     Epoch 25: Train Loss = 0.5782, Val Loss = 21.5831\n",
            "    ⏹️ Early stopping at epoch 25\n",
            " Run 1 finished with best val loss: 7.1356\n",
            "Original Error Percentage (Test Dataset): 4.1651%\n",
            "Corrected Error Percentage (Test Dataset): 55.7561%\n",
            "   Run 2/5 ... "
          ]
        },
        {
          "output_type": "stream",
          "name": "stderr",
          "text": [
            "<ipython-input-44-b273c6d16a7f>:152: UserWarning: To copy construct from a tensor, it is recommended to use sourceTensor.clone().detach() or sourceTensor.clone().detach().requires_grad_(True), rather than torch.tensor(sourceTensor).\n",
            "  X_scaled_tensor = torch.tensor(combined_X, dtype=torch.float32).unsqueeze(1)\n"
          ]
        },
        {
          "output_type": "stream",
          "name": "stdout",
          "text": [
            "     Epoch 0: Train Loss = 0.5973, Val Loss = 4.5920\n",
            "     Epoch 5: Train Loss = 0.5798, Val Loss = 15.7418\n",
            "     Epoch 10: Train Loss = 0.5833, Val Loss = 7.4859\n",
            "     Epoch 15: Train Loss = 0.5795, Val Loss = 11.9875\n",
            "     Epoch 20: Train Loss = 0.5765, Val Loss = 12.8104\n",
            "    ⏹️ Early stopping at epoch 20\n",
            " Run 2 finished with best val loss: 4.5920\n",
            "Original Error Percentage (Test Dataset): 4.1651%\n",
            "Corrected Error Percentage (Test Dataset): 37.7177%\n",
            "   Run 3/5 ... "
          ]
        },
        {
          "output_type": "stream",
          "name": "stderr",
          "text": [
            "<ipython-input-44-b273c6d16a7f>:152: UserWarning: To copy construct from a tensor, it is recommended to use sourceTensor.clone().detach() or sourceTensor.clone().detach().requires_grad_(True), rather than torch.tensor(sourceTensor).\n",
            "  X_scaled_tensor = torch.tensor(combined_X, dtype=torch.float32).unsqueeze(1)\n"
          ]
        },
        {
          "output_type": "stream",
          "name": "stdout",
          "text": [
            "     Epoch 0: Train Loss = 0.5970, Val Loss = 6.4249\n",
            "     Epoch 5: Train Loss = 0.5819, Val Loss = 11.3417\n",
            "     Epoch 10: Train Loss = 0.5850, Val Loss = 7.3397\n",
            "     Epoch 15: Train Loss = 0.5796, Val Loss = 16.0816\n",
            "     Epoch 20: Train Loss = 0.5792, Val Loss = 12.1557\n",
            "    ⏹️ Early stopping at epoch 20\n",
            " Run 3 finished with best val loss: 6.4249\n",
            "Original Error Percentage (Test Dataset): 4.1651%\n",
            "Corrected Error Percentage (Test Dataset): 36.7228%\n",
            "   Run 4/5 ... "
          ]
        },
        {
          "output_type": "stream",
          "name": "stderr",
          "text": [
            "<ipython-input-44-b273c6d16a7f>:152: UserWarning: To copy construct from a tensor, it is recommended to use sourceTensor.clone().detach() or sourceTensor.clone().detach().requires_grad_(True), rather than torch.tensor(sourceTensor).\n",
            "  X_scaled_tensor = torch.tensor(combined_X, dtype=torch.float32).unsqueeze(1)\n"
          ]
        },
        {
          "output_type": "stream",
          "name": "stdout",
          "text": [
            "     Epoch 0: Train Loss = 0.5885, Val Loss = 9.8734\n",
            "     Epoch 5: Train Loss = 0.5774, Val Loss = 16.8869\n",
            "     Epoch 10: Train Loss = 0.5833, Val Loss = 18.0806\n",
            "     Epoch 15: Train Loss = 0.5753, Val Loss = 21.6992\n",
            "     Epoch 20: Train Loss = 0.5785, Val Loss = 15.0895\n",
            "     Epoch 25: Train Loss = 0.5761, Val Loss = 16.5653\n",
            "    ⏹️ Early stopping at epoch 26\n",
            " Run 4 finished with best val loss: 9.5731\n",
            "Original Error Percentage (Test Dataset): 4.1651%\n",
            "Corrected Error Percentage (Test Dataset): 41.4130%\n",
            "   Run 5/5 ... "
          ]
        },
        {
          "output_type": "stream",
          "name": "stderr",
          "text": [
            "<ipython-input-44-b273c6d16a7f>:152: UserWarning: To copy construct from a tensor, it is recommended to use sourceTensor.clone().detach() or sourceTensor.clone().detach().requires_grad_(True), rather than torch.tensor(sourceTensor).\n",
            "  X_scaled_tensor = torch.tensor(combined_X, dtype=torch.float32).unsqueeze(1)\n"
          ]
        },
        {
          "output_type": "stream",
          "name": "stdout",
          "text": [
            "     Epoch 0: Train Loss = 0.6002, Val Loss = 6.3183\n",
            "     Epoch 5: Train Loss = 0.5819, Val Loss = 12.2708\n",
            "     Epoch 10: Train Loss = 0.5806, Val Loss = 9.7077\n",
            "     Epoch 15: Train Loss = 0.5760, Val Loss = 14.0529\n",
            "     Epoch 20: Train Loss = 0.5801, Val Loss = 10.2152\n",
            "    ⏹️ Early stopping at epoch 20\n",
            " Run 5 finished with best val loss: 6.3183\n",
            "Original Error Percentage (Test Dataset): 4.1651%\n",
            "Corrected Error Percentage (Test Dataset): 32.3214%\n",
            " Finished configuration H=64, D=0.2, LR=0.001, B=8 → Avg Val Loss: 6.8088, Avg Accuracy: 40.7862%\n",
            "\n",
            " Running 53/81: H=64, D=0.2, LR=0.001, B=16\n",
            "   Run 1/5 ...      Epoch 0: Train Loss = 0.5980, Val Loss = 7.5014\n"
          ]
        },
        {
          "output_type": "stream",
          "name": "stderr",
          "text": [
            "<ipython-input-44-b273c6d16a7f>:152: UserWarning: To copy construct from a tensor, it is recommended to use sourceTensor.clone().detach() or sourceTensor.clone().detach().requires_grad_(True), rather than torch.tensor(sourceTensor).\n",
            "  X_scaled_tensor = torch.tensor(combined_X, dtype=torch.float32).unsqueeze(1)\n"
          ]
        },
        {
          "output_type": "stream",
          "name": "stdout",
          "text": [
            "     Epoch 5: Train Loss = 0.5763, Val Loss = 10.2230\n",
            "     Epoch 10: Train Loss = 0.5845, Val Loss = 11.3295\n",
            "     Epoch 15: Train Loss = 0.5828, Val Loss = 10.2412\n",
            "     Epoch 20: Train Loss = 0.5792, Val Loss = 10.1079\n",
            "    ⏹️ Early stopping at epoch 20\n",
            " Run 1 finished with best val loss: 7.5014\n",
            "Original Error Percentage (Test Dataset): 4.1651%\n",
            "Corrected Error Percentage (Test Dataset): 32.0002%\n",
            "   Run 2/5 ...      Epoch 0: Train Loss = 0.6034, Val Loss = 5.1044\n"
          ]
        },
        {
          "output_type": "stream",
          "name": "stderr",
          "text": [
            "<ipython-input-44-b273c6d16a7f>:152: UserWarning: To copy construct from a tensor, it is recommended to use sourceTensor.clone().detach() or sourceTensor.clone().detach().requires_grad_(True), rather than torch.tensor(sourceTensor).\n",
            "  X_scaled_tensor = torch.tensor(combined_X, dtype=torch.float32).unsqueeze(1)\n"
          ]
        },
        {
          "output_type": "stream",
          "name": "stdout",
          "text": [
            "     Epoch 5: Train Loss = 0.5828, Val Loss = 10.5150\n",
            "     Epoch 10: Train Loss = 0.5799, Val Loss = 13.4680\n",
            "     Epoch 15: Train Loss = 0.5770, Val Loss = 9.6777\n",
            "     Epoch 20: Train Loss = 0.5831, Val Loss = 10.5032\n",
            "    ⏹️ Early stopping at epoch 20\n",
            " Run 2 finished with best val loss: 5.1044\n",
            "Original Error Percentage (Test Dataset): 4.1651%\n",
            "Corrected Error Percentage (Test Dataset): 32.6051%\n",
            "   Run 3/5 ...      Epoch 0: Train Loss = 0.5925, Val Loss = 10.7354\n"
          ]
        },
        {
          "output_type": "stream",
          "name": "stderr",
          "text": [
            "<ipython-input-44-b273c6d16a7f>:152: UserWarning: To copy construct from a tensor, it is recommended to use sourceTensor.clone().detach() or sourceTensor.clone().detach().requires_grad_(True), rather than torch.tensor(sourceTensor).\n",
            "  X_scaled_tensor = torch.tensor(combined_X, dtype=torch.float32).unsqueeze(1)\n"
          ]
        },
        {
          "output_type": "stream",
          "name": "stdout",
          "text": [
            "     Epoch 5: Train Loss = 0.5839, Val Loss = 15.2021\n",
            "     Epoch 10: Train Loss = 0.5792, Val Loss = 13.1420\n",
            "     Epoch 15: Train Loss = 0.5785, Val Loss = 13.3303\n",
            "     Epoch 20: Train Loss = 0.5790, Val Loss = 14.7083\n",
            "    ⏹️ Early stopping at epoch 20\n",
            " Run 3 finished with best val loss: 10.7354\n",
            "Original Error Percentage (Test Dataset): 4.1651%\n",
            "Corrected Error Percentage (Test Dataset): 42.1769%\n",
            "   Run 4/5 ...      Epoch 0: Train Loss = 0.6074, Val Loss = 4.4877\n"
          ]
        },
        {
          "output_type": "stream",
          "name": "stderr",
          "text": [
            "<ipython-input-44-b273c6d16a7f>:152: UserWarning: To copy construct from a tensor, it is recommended to use sourceTensor.clone().detach() or sourceTensor.clone().detach().requires_grad_(True), rather than torch.tensor(sourceTensor).\n",
            "  X_scaled_tensor = torch.tensor(combined_X, dtype=torch.float32).unsqueeze(1)\n"
          ]
        },
        {
          "output_type": "stream",
          "name": "stdout",
          "text": [
            "     Epoch 5: Train Loss = 0.5824, Val Loss = 12.7148\n",
            "     Epoch 10: Train Loss = 0.5759, Val Loss = 10.4414\n",
            "     Epoch 15: Train Loss = 0.5803, Val Loss = 10.4834\n",
            "     Epoch 20: Train Loss = 0.5764, Val Loss = 13.8661\n",
            "    ⏹️ Early stopping at epoch 20\n",
            " Run 4 finished with best val loss: 4.4877\n",
            "Original Error Percentage (Test Dataset): 4.1651%\n",
            "Corrected Error Percentage (Test Dataset): 40.6324%\n",
            "   Run 5/5 ...      Epoch 0: Train Loss = 0.5971, Val Loss = 15.0861\n"
          ]
        },
        {
          "output_type": "stream",
          "name": "stderr",
          "text": [
            "<ipython-input-44-b273c6d16a7f>:152: UserWarning: To copy construct from a tensor, it is recommended to use sourceTensor.clone().detach() or sourceTensor.clone().detach().requires_grad_(True), rather than torch.tensor(sourceTensor).\n",
            "  X_scaled_tensor = torch.tensor(combined_X, dtype=torch.float32).unsqueeze(1)\n"
          ]
        },
        {
          "output_type": "stream",
          "name": "stdout",
          "text": [
            "     Epoch 5: Train Loss = 0.5829, Val Loss = 12.0736\n",
            "     Epoch 10: Train Loss = 0.5803, Val Loss = 14.2461\n",
            "     Epoch 15: Train Loss = 0.5793, Val Loss = 14.2500\n",
            "     Epoch 20: Train Loss = 0.5811, Val Loss = 14.9120\n",
            "     Epoch 25: Train Loss = 0.5776, Val Loss = 16.6871\n",
            "    ⏹️ Early stopping at epoch 28\n",
            " Run 5 finished with best val loss: 11.7702\n",
            "Original Error Percentage (Test Dataset): 4.1651%\n",
            "Corrected Error Percentage (Test Dataset): 38.3703%\n",
            " Finished configuration H=64, D=0.2, LR=0.001, B=16 → Avg Val Loss: 7.9198, Avg Accuracy: 37.1570%\n",
            "\n",
            " Running 54/81: H=64, D=0.2, LR=0.001, B=32\n",
            "   Run 1/5 ...      Epoch 0: Train Loss = 0.5870, Val Loss = 7.3122\n"
          ]
        },
        {
          "output_type": "stream",
          "name": "stderr",
          "text": [
            "<ipython-input-44-b273c6d16a7f>:152: UserWarning: To copy construct from a tensor, it is recommended to use sourceTensor.clone().detach() or sourceTensor.clone().detach().requires_grad_(True), rather than torch.tensor(sourceTensor).\n",
            "  X_scaled_tensor = torch.tensor(combined_X, dtype=torch.float32).unsqueeze(1)\n"
          ]
        },
        {
          "output_type": "stream",
          "name": "stdout",
          "text": [
            "     Epoch 5: Train Loss = 0.5763, Val Loss = 16.2973\n",
            "     Epoch 10: Train Loss = 0.5775, Val Loss = 17.5932\n",
            "     Epoch 15: Train Loss = 0.5800, Val Loss = 16.9174\n",
            "     Epoch 20: Train Loss = 0.5805, Val Loss = 15.1042\n",
            "    ⏹️ Early stopping at epoch 20\n",
            " Run 1 finished with best val loss: 7.3122\n",
            "Original Error Percentage (Test Dataset): 4.1651%\n",
            "Corrected Error Percentage (Test Dataset): 43.2592%\n",
            "   Run 2/5 ...      Epoch 0: Train Loss = 0.5949, Val Loss = 3.5708\n"
          ]
        },
        {
          "output_type": "stream",
          "name": "stderr",
          "text": [
            "<ipython-input-44-b273c6d16a7f>:152: UserWarning: To copy construct from a tensor, it is recommended to use sourceTensor.clone().detach() or sourceTensor.clone().detach().requires_grad_(True), rather than torch.tensor(sourceTensor).\n",
            "  X_scaled_tensor = torch.tensor(combined_X, dtype=torch.float32).unsqueeze(1)\n"
          ]
        },
        {
          "output_type": "stream",
          "name": "stdout",
          "text": [
            "     Epoch 5: Train Loss = 0.5819, Val Loss = 9.6664\n",
            "     Epoch 10: Train Loss = 0.5781, Val Loss = 12.4930\n",
            "     Epoch 15: Train Loss = 0.5786, Val Loss = 12.3013\n",
            "     Epoch 20: Train Loss = 0.5822, Val Loss = 11.2000\n",
            "    ⏹️ Early stopping at epoch 20\n",
            " Run 2 finished with best val loss: 3.5708\n",
            "Original Error Percentage (Test Dataset): 4.1651%\n",
            "Corrected Error Percentage (Test Dataset): 34.0357%\n",
            "   Run 3/5 ...      Epoch 0: Train Loss = 0.6201, Val Loss = 6.8315\n"
          ]
        },
        {
          "output_type": "stream",
          "name": "stderr",
          "text": [
            "<ipython-input-44-b273c6d16a7f>:152: UserWarning: To copy construct from a tensor, it is recommended to use sourceTensor.clone().detach() or sourceTensor.clone().detach().requires_grad_(True), rather than torch.tensor(sourceTensor).\n",
            "  X_scaled_tensor = torch.tensor(combined_X, dtype=torch.float32).unsqueeze(1)\n"
          ]
        },
        {
          "output_type": "stream",
          "name": "stdout",
          "text": [
            "     Epoch 5: Train Loss = 0.5806, Val Loss = 11.4042\n",
            "     Epoch 10: Train Loss = 0.5807, Val Loss = 12.2728\n",
            "     Epoch 15: Train Loss = 0.5780, Val Loss = 10.8683\n",
            "     Epoch 20: Train Loss = 0.5796, Val Loss = 14.3365\n",
            "    ⏹️ Early stopping at epoch 20\n",
            " Run 3 finished with best val loss: 6.8315\n",
            "Original Error Percentage (Test Dataset): 4.1651%\n",
            "Corrected Error Percentage (Test Dataset): 41.5934%\n",
            "   Run 4/5 ...      Epoch 0: Train Loss = 0.6284, Val Loss = 4.6966\n"
          ]
        },
        {
          "output_type": "stream",
          "name": "stderr",
          "text": [
            "<ipython-input-44-b273c6d16a7f>:152: UserWarning: To copy construct from a tensor, it is recommended to use sourceTensor.clone().detach() or sourceTensor.clone().detach().requires_grad_(True), rather than torch.tensor(sourceTensor).\n",
            "  X_scaled_tensor = torch.tensor(combined_X, dtype=torch.float32).unsqueeze(1)\n"
          ]
        },
        {
          "output_type": "stream",
          "name": "stdout",
          "text": [
            "     Epoch 5: Train Loss = 0.5851, Val Loss = 11.8341\n",
            "     Epoch 10: Train Loss = 0.5830, Val Loss = 11.8639\n",
            "     Epoch 15: Train Loss = 0.5787, Val Loss = 11.2815\n",
            "     Epoch 20: Train Loss = 0.5843, Val Loss = 10.3426\n",
            "    ⏹️ Early stopping at epoch 20\n",
            " Run 4 finished with best val loss: 4.6966\n",
            "Original Error Percentage (Test Dataset): 4.1651%\n",
            "Corrected Error Percentage (Test Dataset): 31.2680%\n",
            "   Run 5/5 ...      Epoch 0: Train Loss = 0.6054, Val Loss = 10.2243\n"
          ]
        },
        {
          "output_type": "stream",
          "name": "stderr",
          "text": [
            "<ipython-input-44-b273c6d16a7f>:152: UserWarning: To copy construct from a tensor, it is recommended to use sourceTensor.clone().detach() or sourceTensor.clone().detach().requires_grad_(True), rather than torch.tensor(sourceTensor).\n",
            "  X_scaled_tensor = torch.tensor(combined_X, dtype=torch.float32).unsqueeze(1)\n"
          ]
        },
        {
          "output_type": "stream",
          "name": "stdout",
          "text": [
            "     Epoch 5: Train Loss = 0.5845, Val Loss = 16.0463\n",
            "     Epoch 10: Train Loss = 0.5842, Val Loss = 15.0405\n",
            "     Epoch 15: Train Loss = 0.5819, Val Loss = 16.2312\n",
            "     Epoch 20: Train Loss = 0.5808, Val Loss = 14.4958\n",
            "    ⏹️ Early stopping at epoch 20\n",
            " Run 5 finished with best val loss: 10.2243\n",
            "Original Error Percentage (Test Dataset): 4.1651%\n",
            "Corrected Error Percentage (Test Dataset): 41.9879%\n",
            " Finished configuration H=64, D=0.2, LR=0.001, B=32 → Avg Val Loss: 6.5271, Avg Accuracy: 38.4288%\n",
            "\n",
            " Running 55/81: H=128, D=0.0, LR=0.0001, B=8\n",
            "   Run 1/5 ... "
          ]
        },
        {
          "output_type": "stream",
          "name": "stderr",
          "text": [
            "<ipython-input-44-b273c6d16a7f>:152: UserWarning: To copy construct from a tensor, it is recommended to use sourceTensor.clone().detach() or sourceTensor.clone().detach().requires_grad_(True), rather than torch.tensor(sourceTensor).\n",
            "  X_scaled_tensor = torch.tensor(combined_X, dtype=torch.float32).unsqueeze(1)\n"
          ]
        },
        {
          "output_type": "stream",
          "name": "stdout",
          "text": [
            "     Epoch 0: Train Loss = 0.5936, Val Loss = 5.9883\n",
            "     Epoch 5: Train Loss = 0.5763, Val Loss = 11.6260\n",
            "     Epoch 10: Train Loss = 0.5769, Val Loss = 14.3819\n",
            "     Epoch 15: Train Loss = 0.5754, Val Loss = 15.3791\n",
            "     Epoch 20: Train Loss = 0.5745, Val Loss = 15.9158\n",
            "    ⏹️ Early stopping at epoch 20\n",
            " Run 1 finished with best val loss: 5.9883\n",
            "Original Error Percentage (Test Dataset): 4.1651%\n",
            "Corrected Error Percentage (Test Dataset): 43.9953%\n",
            "   Run 2/5 ... "
          ]
        },
        {
          "output_type": "stream",
          "name": "stderr",
          "text": [
            "<ipython-input-44-b273c6d16a7f>:152: UserWarning: To copy construct from a tensor, it is recommended to use sourceTensor.clone().detach() or sourceTensor.clone().detach().requires_grad_(True), rather than torch.tensor(sourceTensor).\n",
            "  X_scaled_tensor = torch.tensor(combined_X, dtype=torch.float32).unsqueeze(1)\n"
          ]
        },
        {
          "output_type": "stream",
          "name": "stdout",
          "text": [
            "     Epoch 0: Train Loss = 0.5839, Val Loss = 5.5063\n",
            "     Epoch 5: Train Loss = 0.5763, Val Loss = 12.9714\n",
            "     Epoch 10: Train Loss = 0.5755, Val Loss = 13.7028\n",
            "     Epoch 15: Train Loss = 0.5749, Val Loss = 11.6051\n",
            "     Epoch 20: Train Loss = 0.5751, Val Loss = 13.9283\n",
            "    ⏹️ Early stopping at epoch 20\n",
            " Run 2 finished with best val loss: 5.5063\n",
            "Original Error Percentage (Test Dataset): 4.1651%\n",
            "Corrected Error Percentage (Test Dataset): 40.1424%\n",
            "   Run 3/5 ... "
          ]
        },
        {
          "output_type": "stream",
          "name": "stderr",
          "text": [
            "<ipython-input-44-b273c6d16a7f>:152: UserWarning: To copy construct from a tensor, it is recommended to use sourceTensor.clone().detach() or sourceTensor.clone().detach().requires_grad_(True), rather than torch.tensor(sourceTensor).\n",
            "  X_scaled_tensor = torch.tensor(combined_X, dtype=torch.float32).unsqueeze(1)\n"
          ]
        },
        {
          "output_type": "stream",
          "name": "stdout",
          "text": [
            "     Epoch 0: Train Loss = 0.5952, Val Loss = 2.8812\n",
            "     Epoch 5: Train Loss = 0.5761, Val Loss = 11.8127\n",
            "     Epoch 10: Train Loss = 0.5759, Val Loss = 11.8252\n",
            "     Epoch 15: Train Loss = 0.5759, Val Loss = 11.6600\n",
            "     Epoch 20: Train Loss = 0.5752, Val Loss = 12.7478\n",
            "    ⏹️ Early stopping at epoch 20\n",
            " Run 3 finished with best val loss: 2.8812\n",
            "Original Error Percentage (Test Dataset): 4.1651%\n",
            "Corrected Error Percentage (Test Dataset): 37.2432%\n",
            "   Run 4/5 ... "
          ]
        },
        {
          "output_type": "stream",
          "name": "stderr",
          "text": [
            "<ipython-input-44-b273c6d16a7f>:152: UserWarning: To copy construct from a tensor, it is recommended to use sourceTensor.clone().detach() or sourceTensor.clone().detach().requires_grad_(True), rather than torch.tensor(sourceTensor).\n",
            "  X_scaled_tensor = torch.tensor(combined_X, dtype=torch.float32).unsqueeze(1)\n"
          ]
        },
        {
          "output_type": "stream",
          "name": "stdout",
          "text": [
            "     Epoch 0: Train Loss = 0.5959, Val Loss = 4.7370\n",
            "     Epoch 5: Train Loss = 0.5759, Val Loss = 13.6444\n",
            "     Epoch 10: Train Loss = 0.5752, Val Loss = 14.3784\n",
            "     Epoch 15: Train Loss = 0.5751, Val Loss = 13.5285\n",
            "     Epoch 20: Train Loss = 0.5757, Val Loss = 13.2764\n",
            "    ⏹️ Early stopping at epoch 20\n",
            " Run 4 finished with best val loss: 4.7370\n",
            "Original Error Percentage (Test Dataset): 4.1651%\n",
            "Corrected Error Percentage (Test Dataset): 38.6926%\n",
            "   Run 5/5 ... "
          ]
        },
        {
          "output_type": "stream",
          "name": "stderr",
          "text": [
            "<ipython-input-44-b273c6d16a7f>:152: UserWarning: To copy construct from a tensor, it is recommended to use sourceTensor.clone().detach() or sourceTensor.clone().detach().requires_grad_(True), rather than torch.tensor(sourceTensor).\n",
            "  X_scaled_tensor = torch.tensor(combined_X, dtype=torch.float32).unsqueeze(1)\n"
          ]
        },
        {
          "output_type": "stream",
          "name": "stdout",
          "text": [
            "     Epoch 0: Train Loss = 0.6001, Val Loss = 6.4552\n",
            "     Epoch 5: Train Loss = 0.5760, Val Loss = 13.4388\n",
            "     Epoch 10: Train Loss = 0.5765, Val Loss = 12.4134\n",
            "     Epoch 15: Train Loss = 0.5755, Val Loss = 15.8349\n",
            "     Epoch 20: Train Loss = 0.5750, Val Loss = 11.4783\n",
            "    ⏹️ Early stopping at epoch 20\n",
            " Run 5 finished with best val loss: 6.4552\n",
            "Original Error Percentage (Test Dataset): 4.1651%\n",
            "Corrected Error Percentage (Test Dataset): 34.6417%\n",
            " Finished configuration H=128, D=0.0, LR=0.0001, B=8 → Avg Val Loss: 5.1136, Avg Accuracy: 38.9430%\n",
            "\n",
            " Running 56/81: H=128, D=0.0, LR=0.0001, B=16\n",
            "   Run 1/5 ...      Epoch 0: Train Loss = 0.5931, Val Loss = 4.3281\n"
          ]
        },
        {
          "output_type": "stream",
          "name": "stderr",
          "text": [
            "<ipython-input-44-b273c6d16a7f>:152: UserWarning: To copy construct from a tensor, it is recommended to use sourceTensor.clone().detach() or sourceTensor.clone().detach().requires_grad_(True), rather than torch.tensor(sourceTensor).\n",
            "  X_scaled_tensor = torch.tensor(combined_X, dtype=torch.float32).unsqueeze(1)\n"
          ]
        },
        {
          "output_type": "stream",
          "name": "stdout",
          "text": [
            "     Epoch 5: Train Loss = 0.5758, Val Loss = 11.2751\n",
            "     Epoch 10: Train Loss = 0.5752, Val Loss = 12.2929\n",
            "     Epoch 15: Train Loss = 0.5749, Val Loss = 13.6595\n",
            "     Epoch 20: Train Loss = 0.5746, Val Loss = 14.2757\n",
            "    ⏹️ Early stopping at epoch 20\n",
            " Run 1 finished with best val loss: 4.3281\n",
            "Original Error Percentage (Test Dataset): 4.1651%\n",
            "Corrected Error Percentage (Test Dataset): 40.6956%\n",
            "   Run 2/5 ...      Epoch 0: Train Loss = 0.5980, Val Loss = 4.8131\n"
          ]
        },
        {
          "output_type": "stream",
          "name": "stderr",
          "text": [
            "<ipython-input-44-b273c6d16a7f>:152: UserWarning: To copy construct from a tensor, it is recommended to use sourceTensor.clone().detach() or sourceTensor.clone().detach().requires_grad_(True), rather than torch.tensor(sourceTensor).\n",
            "  X_scaled_tensor = torch.tensor(combined_X, dtype=torch.float32).unsqueeze(1)\n"
          ]
        },
        {
          "output_type": "stream",
          "name": "stdout",
          "text": [
            "     Epoch 5: Train Loss = 0.5760, Val Loss = 9.9177\n",
            "     Epoch 10: Train Loss = 0.5758, Val Loss = 12.1490\n",
            "     Epoch 15: Train Loss = 0.5751, Val Loss = 13.0156\n",
            "     Epoch 20: Train Loss = 0.5748, Val Loss = 11.7639\n",
            "    ⏹️ Early stopping at epoch 20\n",
            " Run 2 finished with best val loss: 4.8131\n",
            "Original Error Percentage (Test Dataset): 4.1651%\n",
            "Corrected Error Percentage (Test Dataset): 34.6253%\n",
            "   Run 3/5 ...      Epoch 0: Train Loss = 0.6070, Val Loss = 2.1949\n"
          ]
        },
        {
          "output_type": "stream",
          "name": "stderr",
          "text": [
            "<ipython-input-44-b273c6d16a7f>:152: UserWarning: To copy construct from a tensor, it is recommended to use sourceTensor.clone().detach() or sourceTensor.clone().detach().requires_grad_(True), rather than torch.tensor(sourceTensor).\n",
            "  X_scaled_tensor = torch.tensor(combined_X, dtype=torch.float32).unsqueeze(1)\n"
          ]
        },
        {
          "output_type": "stream",
          "name": "stdout",
          "text": [
            "     Epoch 5: Train Loss = 0.5759, Val Loss = 8.5400\n",
            "     Epoch 10: Train Loss = 0.5749, Val Loss = 10.5234\n",
            "     Epoch 15: Train Loss = 0.5742, Val Loss = 10.7581\n",
            "     Epoch 20: Train Loss = 0.5751, Val Loss = 11.2553\n",
            "    ⏹️ Early stopping at epoch 20\n",
            " Run 3 finished with best val loss: 2.1949\n",
            "Original Error Percentage (Test Dataset): 4.1651%\n",
            "Corrected Error Percentage (Test Dataset): 33.8504%\n",
            "   Run 4/5 ...      Epoch 0: Train Loss = 0.6043, Val Loss = 3.9119\n"
          ]
        },
        {
          "output_type": "stream",
          "name": "stderr",
          "text": [
            "<ipython-input-44-b273c6d16a7f>:152: UserWarning: To copy construct from a tensor, it is recommended to use sourceTensor.clone().detach() or sourceTensor.clone().detach().requires_grad_(True), rather than torch.tensor(sourceTensor).\n",
            "  X_scaled_tensor = torch.tensor(combined_X, dtype=torch.float32).unsqueeze(1)\n"
          ]
        },
        {
          "output_type": "stream",
          "name": "stdout",
          "text": [
            "     Epoch 5: Train Loss = 0.5768, Val Loss = 11.2451\n",
            "     Epoch 10: Train Loss = 0.5753, Val Loss = 14.0137\n",
            "     Epoch 15: Train Loss = 0.5756, Val Loss = 15.8473\n",
            "     Epoch 20: Train Loss = 0.5751, Val Loss = 15.5542\n",
            "    ⏹️ Early stopping at epoch 20\n",
            " Run 4 finished with best val loss: 3.9119\n",
            "Original Error Percentage (Test Dataset): 4.1651%\n",
            "Corrected Error Percentage (Test Dataset): 43.5975%\n",
            "   Run 5/5 ...      Epoch 0: Train Loss = 0.5853, Val Loss = 7.0738\n"
          ]
        },
        {
          "output_type": "stream",
          "name": "stderr",
          "text": [
            "<ipython-input-44-b273c6d16a7f>:152: UserWarning: To copy construct from a tensor, it is recommended to use sourceTensor.clone().detach() or sourceTensor.clone().detach().requires_grad_(True), rather than torch.tensor(sourceTensor).\n",
            "  X_scaled_tensor = torch.tensor(combined_X, dtype=torch.float32).unsqueeze(1)\n"
          ]
        },
        {
          "output_type": "stream",
          "name": "stdout",
          "text": [
            "     Epoch 5: Train Loss = 0.5781, Val Loss = 14.8265\n",
            "     Epoch 10: Train Loss = 0.5751, Val Loss = 13.6771\n",
            "     Epoch 15: Train Loss = 0.5748, Val Loss = 13.0525\n",
            "     Epoch 20: Train Loss = 0.5755, Val Loss = 14.5560\n",
            "    ⏹️ Early stopping at epoch 20\n",
            " Run 5 finished with best val loss: 7.0738\n",
            "Original Error Percentage (Test Dataset): 4.1651%\n",
            "Corrected Error Percentage (Test Dataset): 41.4656%\n",
            " Finished configuration H=128, D=0.0, LR=0.0001, B=16 → Avg Val Loss: 4.4644, Avg Accuracy: 38.8469%\n",
            "\n",
            " Running 57/81: H=128, D=0.0, LR=0.0001, B=32\n",
            "   Run 1/5 ...      Epoch 0: Train Loss = 0.5891, Val Loss = 6.6687\n"
          ]
        },
        {
          "output_type": "stream",
          "name": "stderr",
          "text": [
            "<ipython-input-44-b273c6d16a7f>:152: UserWarning: To copy construct from a tensor, it is recommended to use sourceTensor.clone().detach() or sourceTensor.clone().detach().requires_grad_(True), rather than torch.tensor(sourceTensor).\n",
            "  X_scaled_tensor = torch.tensor(combined_X, dtype=torch.float32).unsqueeze(1)\n"
          ]
        },
        {
          "output_type": "stream",
          "name": "stdout",
          "text": [
            "     Epoch 5: Train Loss = 0.5772, Val Loss = 14.2360\n",
            "     Epoch 10: Train Loss = 0.5771, Val Loss = 18.0425\n",
            "     Epoch 15: Train Loss = 0.5765, Val Loss = 15.5680\n",
            "     Epoch 20: Train Loss = 0.5762, Val Loss = 15.2494\n",
            "    ⏹️ Early stopping at epoch 20\n",
            " Run 1 finished with best val loss: 6.6687\n",
            "Original Error Percentage (Test Dataset): 4.1651%\n",
            "Corrected Error Percentage (Test Dataset): 43.1232%\n",
            "   Run 2/5 ...      Epoch 0: Train Loss = 0.5935, Val Loss = 3.6804\n"
          ]
        },
        {
          "output_type": "stream",
          "name": "stderr",
          "text": [
            "<ipython-input-44-b273c6d16a7f>:152: UserWarning: To copy construct from a tensor, it is recommended to use sourceTensor.clone().detach() or sourceTensor.clone().detach().requires_grad_(True), rather than torch.tensor(sourceTensor).\n",
            "  X_scaled_tensor = torch.tensor(combined_X, dtype=torch.float32).unsqueeze(1)\n"
          ]
        },
        {
          "output_type": "stream",
          "name": "stdout",
          "text": [
            "     Epoch 5: Train Loss = 0.5774, Val Loss = 9.0261\n",
            "     Epoch 10: Train Loss = 0.5751, Val Loss = 11.7663\n",
            "     Epoch 15: Train Loss = 0.5755, Val Loss = 13.1370\n",
            "     Epoch 20: Train Loss = 0.5744, Val Loss = 13.3344\n",
            "    ⏹️ Early stopping at epoch 20\n",
            " Run 2 finished with best val loss: 3.6804\n",
            "Original Error Percentage (Test Dataset): 4.1651%\n",
            "Corrected Error Percentage (Test Dataset): 38.5271%\n",
            "   Run 3/5 ...      Epoch 0: Train Loss = 0.5911, Val Loss = 3.1660\n"
          ]
        },
        {
          "output_type": "stream",
          "name": "stderr",
          "text": [
            "<ipython-input-44-b273c6d16a7f>:152: UserWarning: To copy construct from a tensor, it is recommended to use sourceTensor.clone().detach() or sourceTensor.clone().detach().requires_grad_(True), rather than torch.tensor(sourceTensor).\n",
            "  X_scaled_tensor = torch.tensor(combined_X, dtype=torch.float32).unsqueeze(1)\n"
          ]
        },
        {
          "output_type": "stream",
          "name": "stdout",
          "text": [
            "     Epoch 5: Train Loss = 0.5762, Val Loss = 8.8736\n",
            "     Epoch 10: Train Loss = 0.5744, Val Loss = 12.0093\n",
            "     Epoch 15: Train Loss = 0.5740, Val Loss = 12.4205\n",
            "     Epoch 20: Train Loss = 0.5751, Val Loss = 14.2411\n",
            "    ⏹️ Early stopping at epoch 20\n",
            " Run 3 finished with best val loss: 3.1660\n",
            "Original Error Percentage (Test Dataset): 4.1651%\n",
            "Corrected Error Percentage (Test Dataset): 40.6860%\n",
            "   Run 4/5 ...      Epoch 0: Train Loss = 0.5892, Val Loss = 2.7094\n"
          ]
        },
        {
          "output_type": "stream",
          "name": "stderr",
          "text": [
            "<ipython-input-44-b273c6d16a7f>:152: UserWarning: To copy construct from a tensor, it is recommended to use sourceTensor.clone().detach() or sourceTensor.clone().detach().requires_grad_(True), rather than torch.tensor(sourceTensor).\n",
            "  X_scaled_tensor = torch.tensor(combined_X, dtype=torch.float32).unsqueeze(1)\n"
          ]
        },
        {
          "output_type": "stream",
          "name": "stdout",
          "text": [
            "     Epoch 5: Train Loss = 0.5770, Val Loss = 8.0648\n",
            "     Epoch 10: Train Loss = 0.5757, Val Loss = 10.5098\n",
            "     Epoch 15: Train Loss = 0.5746, Val Loss = 12.0908\n",
            "     Epoch 20: Train Loss = 0.5747, Val Loss = 11.9043\n",
            "    ⏹️ Early stopping at epoch 20\n",
            " Run 4 finished with best val loss: 2.7094\n",
            "Original Error Percentage (Test Dataset): 4.1651%\n",
            "Corrected Error Percentage (Test Dataset): 35.0031%\n",
            "   Run 5/5 ...      Epoch 0: Train Loss = 0.5986, Val Loss = 3.7481\n"
          ]
        },
        {
          "output_type": "stream",
          "name": "stderr",
          "text": [
            "<ipython-input-44-b273c6d16a7f>:152: UserWarning: To copy construct from a tensor, it is recommended to use sourceTensor.clone().detach() or sourceTensor.clone().detach().requires_grad_(True), rather than torch.tensor(sourceTensor).\n",
            "  X_scaled_tensor = torch.tensor(combined_X, dtype=torch.float32).unsqueeze(1)\n"
          ]
        },
        {
          "output_type": "stream",
          "name": "stdout",
          "text": [
            "     Epoch 5: Train Loss = 0.5771, Val Loss = 11.7515\n",
            "     Epoch 10: Train Loss = 0.5749, Val Loss = 14.0624\n",
            "     Epoch 15: Train Loss = 0.5744, Val Loss = 14.4935\n",
            "     Epoch 20: Train Loss = 0.5741, Val Loss = 13.8763\n",
            "    ⏹️ Early stopping at epoch 20\n",
            " Run 5 finished with best val loss: 3.7481\n",
            "Original Error Percentage (Test Dataset): 4.1651%\n",
            "Corrected Error Percentage (Test Dataset): 39.6107%\n",
            " Finished configuration H=128, D=0.0, LR=0.0001, B=32 → Avg Val Loss: 3.9945, Avg Accuracy: 39.3900%\n",
            "\n",
            " Running 58/81: H=128, D=0.0, LR=0.0005, B=8\n",
            "   Run 1/5 ... "
          ]
        },
        {
          "output_type": "stream",
          "name": "stderr",
          "text": [
            "<ipython-input-44-b273c6d16a7f>:152: UserWarning: To copy construct from a tensor, it is recommended to use sourceTensor.clone().detach() or sourceTensor.clone().detach().requires_grad_(True), rather than torch.tensor(sourceTensor).\n",
            "  X_scaled_tensor = torch.tensor(combined_X, dtype=torch.float32).unsqueeze(1)\n"
          ]
        },
        {
          "output_type": "stream",
          "name": "stdout",
          "text": [
            "     Epoch 0: Train Loss = 0.5879, Val Loss = 21.5656\n",
            "     Epoch 5: Train Loss = 0.5808, Val Loss = 7.1180\n",
            "     Epoch 10: Train Loss = 0.5778, Val Loss = 9.7991\n",
            "     Epoch 15: Train Loss = 0.5803, Val Loss = 14.7393\n",
            "     Epoch 20: Train Loss = 0.5777, Val Loss = 14.6307\n",
            "     Epoch 25: Train Loss = 0.5760, Val Loss = 11.4645\n",
            "    ⏹️ Early stopping at epoch 25\n",
            " Run 1 finished with best val loss: 7.1180\n",
            "Original Error Percentage (Test Dataset): 4.1651%\n",
            "Corrected Error Percentage (Test Dataset): 34.7120%\n",
            "   Run 2/5 ... "
          ]
        },
        {
          "output_type": "stream",
          "name": "stderr",
          "text": [
            "<ipython-input-44-b273c6d16a7f>:152: UserWarning: To copy construct from a tensor, it is recommended to use sourceTensor.clone().detach() or sourceTensor.clone().detach().requires_grad_(True), rather than torch.tensor(sourceTensor).\n",
            "  X_scaled_tensor = torch.tensor(combined_X, dtype=torch.float32).unsqueeze(1)\n"
          ]
        },
        {
          "output_type": "stream",
          "name": "stdout",
          "text": [
            "     Epoch 0: Train Loss = 0.5839, Val Loss = 27.2430\n",
            "     Epoch 5: Train Loss = 0.5794, Val Loss = 16.3978\n",
            "     Epoch 10: Train Loss = 0.5777, Val Loss = 14.5401\n",
            "     Epoch 15: Train Loss = 0.5774, Val Loss = 14.8639\n",
            "     Epoch 20: Train Loss = 0.5766, Val Loss = 15.0516\n",
            "     Epoch 25: Train Loss = 0.5758, Val Loss = 12.5598\n",
            "     Epoch 30: Train Loss = 0.5770, Val Loss = 11.8788\n",
            "    ⏹️ Early stopping at epoch 34\n",
            " Run 2 finished with best val loss: 11.4179\n",
            "Original Error Percentage (Test Dataset): 4.1651%\n",
            "Corrected Error Percentage (Test Dataset): 38.4084%\n",
            "   Run 3/5 ... "
          ]
        },
        {
          "output_type": "stream",
          "name": "stderr",
          "text": [
            "<ipython-input-44-b273c6d16a7f>:152: UserWarning: To copy construct from a tensor, it is recommended to use sourceTensor.clone().detach() or sourceTensor.clone().detach().requires_grad_(True), rather than torch.tensor(sourceTensor).\n",
            "  X_scaled_tensor = torch.tensor(combined_X, dtype=torch.float32).unsqueeze(1)\n"
          ]
        },
        {
          "output_type": "stream",
          "name": "stdout",
          "text": [
            "     Epoch 0: Train Loss = 0.5976, Val Loss = 6.7471\n",
            "     Epoch 5: Train Loss = 0.5798, Val Loss = 6.2946\n",
            "     Epoch 10: Train Loss = 0.5780, Val Loss = 12.7057\n",
            "     Epoch 15: Train Loss = 0.5780, Val Loss = 14.3683\n",
            "     Epoch 20: Train Loss = 0.5746, Val Loss = 10.2363\n",
            "    ⏹️ Early stopping at epoch 21\n",
            " Run 3 finished with best val loss: 6.0033\n",
            "Original Error Percentage (Test Dataset): 4.1651%\n",
            "Corrected Error Percentage (Test Dataset): 35.0578%\n",
            "   Run 4/5 ... "
          ]
        },
        {
          "output_type": "stream",
          "name": "stderr",
          "text": [
            "<ipython-input-44-b273c6d16a7f>:152: UserWarning: To copy construct from a tensor, it is recommended to use sourceTensor.clone().detach() or sourceTensor.clone().detach().requires_grad_(True), rather than torch.tensor(sourceTensor).\n",
            "  X_scaled_tensor = torch.tensor(combined_X, dtype=torch.float32).unsqueeze(1)\n"
          ]
        },
        {
          "output_type": "stream",
          "name": "stdout",
          "text": [
            "     Epoch 0: Train Loss = 0.5888, Val Loss = 9.0413\n",
            "     Epoch 5: Train Loss = 0.5786, Val Loss = 12.2442\n",
            "     Epoch 10: Train Loss = 0.5798, Val Loss = 12.7024\n",
            "     Epoch 15: Train Loss = 0.5769, Val Loss = 11.3976\n",
            "     Epoch 20: Train Loss = 0.5765, Val Loss = 13.3103\n",
            "    ⏹️ Early stopping at epoch 22\n",
            " Run 4 finished with best val loss: 8.4376\n",
            "Original Error Percentage (Test Dataset): 4.1651%\n",
            "Corrected Error Percentage (Test Dataset): 34.2091%\n",
            "   Run 5/5 ... "
          ]
        },
        {
          "output_type": "stream",
          "name": "stderr",
          "text": [
            "<ipython-input-44-b273c6d16a7f>:152: UserWarning: To copy construct from a tensor, it is recommended to use sourceTensor.clone().detach() or sourceTensor.clone().detach().requires_grad_(True), rather than torch.tensor(sourceTensor).\n",
            "  X_scaled_tensor = torch.tensor(combined_X, dtype=torch.float32).unsqueeze(1)\n"
          ]
        },
        {
          "output_type": "stream",
          "name": "stdout",
          "text": [
            "     Epoch 0: Train Loss = 0.5931, Val Loss = 10.9900\n",
            "     Epoch 5: Train Loss = 0.5776, Val Loss = 17.8857\n",
            "     Epoch 10: Train Loss = 0.5806, Val Loss = 12.1487\n",
            "     Epoch 15: Train Loss = 0.5767, Val Loss = 8.7582\n",
            "     Epoch 20: Train Loss = 0.5769, Val Loss = 16.7470\n",
            "     Epoch 25: Train Loss = 0.5780, Val Loss = 13.0689\n",
            "    ⏹️ Early stopping at epoch 26\n",
            " Run 5 finished with best val loss: 8.1192\n",
            "Original Error Percentage (Test Dataset): 4.1651%\n",
            "Corrected Error Percentage (Test Dataset): 39.9779%\n",
            " Finished configuration H=128, D=0.0, LR=0.0005, B=8 → Avg Val Loss: 8.2192, Avg Accuracy: 36.4730%\n",
            "\n",
            " Running 59/81: H=128, D=0.0, LR=0.0005, B=16\n",
            "   Run 1/5 ...      Epoch 0: Train Loss = 0.5801, Val Loss = 16.9039\n"
          ]
        },
        {
          "output_type": "stream",
          "name": "stderr",
          "text": [
            "<ipython-input-44-b273c6d16a7f>:152: UserWarning: To copy construct from a tensor, it is recommended to use sourceTensor.clone().detach() or sourceTensor.clone().detach().requires_grad_(True), rather than torch.tensor(sourceTensor).\n",
            "  X_scaled_tensor = torch.tensor(combined_X, dtype=torch.float32).unsqueeze(1)\n"
          ]
        },
        {
          "output_type": "stream",
          "name": "stdout",
          "text": [
            "     Epoch 5: Train Loss = 0.5764, Val Loss = 13.7819\n",
            "     Epoch 10: Train Loss = 0.5768, Val Loss = 12.0298\n",
            "     Epoch 15: Train Loss = 0.5844, Val Loss = 9.0369\n",
            "     Epoch 20: Train Loss = 0.5764, Val Loss = 16.4528\n",
            "     Epoch 25: Train Loss = 0.5741, Val Loss = 17.1238\n",
            "     Epoch 30: Train Loss = 0.5774, Val Loss = 13.9195\n",
            "    ⏹️ Early stopping at epoch 34\n",
            " Run 1 finished with best val loss: 8.8959\n",
            "Original Error Percentage (Test Dataset): 4.1651%\n",
            "Corrected Error Percentage (Test Dataset): 42.1622%\n",
            "   Run 2/5 ...      Epoch 0: Train Loss = 0.5902, Val Loss = 7.6260\n"
          ]
        },
        {
          "output_type": "stream",
          "name": "stderr",
          "text": [
            "<ipython-input-44-b273c6d16a7f>:152: UserWarning: To copy construct from a tensor, it is recommended to use sourceTensor.clone().detach() or sourceTensor.clone().detach().requires_grad_(True), rather than torch.tensor(sourceTensor).\n",
            "  X_scaled_tensor = torch.tensor(combined_X, dtype=torch.float32).unsqueeze(1)\n"
          ]
        },
        {
          "output_type": "stream",
          "name": "stdout",
          "text": [
            "     Epoch 5: Train Loss = 0.5769, Val Loss = 11.9311\n",
            "     Epoch 10: Train Loss = 0.5770, Val Loss = 14.5562\n",
            "     Epoch 15: Train Loss = 0.5753, Val Loss = 16.3300\n",
            "     Epoch 20: Train Loss = 0.5753, Val Loss = 11.4108\n",
            "     Epoch 25: Train Loss = 0.5755, Val Loss = 13.5086\n",
            "    ⏹️ Early stopping at epoch 28\n",
            " Run 2 finished with best val loss: 7.5516\n",
            "Original Error Percentage (Test Dataset): 4.1651%\n",
            "Corrected Error Percentage (Test Dataset): 38.6707%\n",
            "   Run 3/5 ...      Epoch 0: Train Loss = 0.5865, Val Loss = 6.0134\n"
          ]
        },
        {
          "output_type": "stream",
          "name": "stderr",
          "text": [
            "<ipython-input-44-b273c6d16a7f>:152: UserWarning: To copy construct from a tensor, it is recommended to use sourceTensor.clone().detach() or sourceTensor.clone().detach().requires_grad_(True), rather than torch.tensor(sourceTensor).\n",
            "  X_scaled_tensor = torch.tensor(combined_X, dtype=torch.float32).unsqueeze(1)\n"
          ]
        },
        {
          "output_type": "stream",
          "name": "stdout",
          "text": [
            "     Epoch 5: Train Loss = 0.5805, Val Loss = 11.6076\n",
            "     Epoch 10: Train Loss = 0.5766, Val Loss = 11.9546\n",
            "     Epoch 15: Train Loss = 0.5777, Val Loss = 11.8425\n",
            "     Epoch 20: Train Loss = 0.5770, Val Loss = 14.0816\n",
            "    ⏹️ Early stopping at epoch 20\n",
            " Run 3 finished with best val loss: 6.0134\n",
            "Original Error Percentage (Test Dataset): 4.1651%\n",
            "Corrected Error Percentage (Test Dataset): 40.6244%\n",
            "   Run 4/5 ...      Epoch 0: Train Loss = 0.5908, Val Loss = 6.9460\n"
          ]
        },
        {
          "output_type": "stream",
          "name": "stderr",
          "text": [
            "<ipython-input-44-b273c6d16a7f>:152: UserWarning: To copy construct from a tensor, it is recommended to use sourceTensor.clone().detach() or sourceTensor.clone().detach().requires_grad_(True), rather than torch.tensor(sourceTensor).\n",
            "  X_scaled_tensor = torch.tensor(combined_X, dtype=torch.float32).unsqueeze(1)\n"
          ]
        },
        {
          "output_type": "stream",
          "name": "stdout",
          "text": [
            "     Epoch 5: Train Loss = 0.5805, Val Loss = 16.0442\n",
            "     Epoch 10: Train Loss = 0.5812, Val Loss = 13.2122\n",
            "     Epoch 15: Train Loss = 0.5752, Val Loss = 15.8599\n",
            "     Epoch 20: Train Loss = 0.5788, Val Loss = 16.4570\n",
            "    ⏹️ Early stopping at epoch 20\n",
            " Run 4 finished with best val loss: 6.9460\n",
            "Original Error Percentage (Test Dataset): 4.1651%\n",
            "Corrected Error Percentage (Test Dataset): 44.7227%\n",
            "   Run 5/5 ...      Epoch 0: Train Loss = 0.5862, Val Loss = 18.7572\n"
          ]
        },
        {
          "output_type": "stream",
          "name": "stderr",
          "text": [
            "<ipython-input-44-b273c6d16a7f>:152: UserWarning: To copy construct from a tensor, it is recommended to use sourceTensor.clone().detach() or sourceTensor.clone().detach().requires_grad_(True), rather than torch.tensor(sourceTensor).\n",
            "  X_scaled_tensor = torch.tensor(combined_X, dtype=torch.float32).unsqueeze(1)\n"
          ]
        },
        {
          "output_type": "stream",
          "name": "stdout",
          "text": [
            "     Epoch 5: Train Loss = 0.5770, Val Loss = 8.8779\n",
            "     Epoch 10: Train Loss = 0.5790, Val Loss = 12.0068\n",
            "     Epoch 15: Train Loss = 0.5757, Val Loss = 15.9599\n",
            "     Epoch 20: Train Loss = 0.5771, Val Loss = 14.9118\n",
            "     Epoch 25: Train Loss = 0.5757, Val Loss = 13.9430\n",
            "    ⏹️ Early stopping at epoch 25\n",
            " Run 5 finished with best val loss: 8.8779\n",
            "Original Error Percentage (Test Dataset): 4.1651%\n",
            "Corrected Error Percentage (Test Dataset): 39.6487%\n",
            " Finished configuration H=128, D=0.0, LR=0.0005, B=16 → Avg Val Loss: 7.6570, Avg Accuracy: 41.1658%\n",
            "\n",
            " Running 60/81: H=128, D=0.0, LR=0.0005, B=32\n",
            "   Run 1/5 ...      Epoch 0: Train Loss = 0.5899, Val Loss = 17.1890\n"
          ]
        },
        {
          "output_type": "stream",
          "name": "stderr",
          "text": [
            "<ipython-input-44-b273c6d16a7f>:152: UserWarning: To copy construct from a tensor, it is recommended to use sourceTensor.clone().detach() or sourceTensor.clone().detach().requires_grad_(True), rather than torch.tensor(sourceTensor).\n",
            "  X_scaled_tensor = torch.tensor(combined_X, dtype=torch.float32).unsqueeze(1)\n"
          ]
        },
        {
          "output_type": "stream",
          "name": "stdout",
          "text": [
            "     Epoch 5: Train Loss = 0.5781, Val Loss = 8.3474\n",
            "     Epoch 10: Train Loss = 0.5784, Val Loss = 16.3698\n",
            "     Epoch 15: Train Loss = 0.5806, Val Loss = 8.4053\n",
            "     Epoch 20: Train Loss = 0.5763, Val Loss = 16.4013\n",
            "     Epoch 25: Train Loss = 0.5755, Val Loss = 11.8629\n",
            "    ⏹️ Early stopping at epoch 25\n",
            " Run 1 finished with best val loss: 8.3474\n",
            "Original Error Percentage (Test Dataset): 4.1651%\n",
            "Corrected Error Percentage (Test Dataset): 35.4899%\n",
            "   Run 2/5 ...      Epoch 0: Train Loss = 0.5903, Val Loss = 6.5093\n"
          ]
        },
        {
          "output_type": "stream",
          "name": "stderr",
          "text": [
            "<ipython-input-44-b273c6d16a7f>:152: UserWarning: To copy construct from a tensor, it is recommended to use sourceTensor.clone().detach() or sourceTensor.clone().detach().requires_grad_(True), rather than torch.tensor(sourceTensor).\n",
            "  X_scaled_tensor = torch.tensor(combined_X, dtype=torch.float32).unsqueeze(1)\n"
          ]
        },
        {
          "output_type": "stream",
          "name": "stdout",
          "text": [
            "     Epoch 5: Train Loss = 0.5773, Val Loss = 10.4272\n",
            "     Epoch 10: Train Loss = 0.5759, Val Loss = 14.9596\n",
            "     Epoch 15: Train Loss = 0.5784, Val Loss = 15.5442\n",
            "     Epoch 20: Train Loss = 0.5770, Val Loss = 14.1397\n",
            "    ⏹️ Early stopping at epoch 20\n",
            " Run 2 finished with best val loss: 6.5093\n",
            "Original Error Percentage (Test Dataset): 4.1651%\n",
            "Corrected Error Percentage (Test Dataset): 40.4329%\n",
            "   Run 3/5 ...      Epoch 0: Train Loss = 0.5898, Val Loss = 10.4124\n"
          ]
        },
        {
          "output_type": "stream",
          "name": "stderr",
          "text": [
            "<ipython-input-44-b273c6d16a7f>:152: UserWarning: To copy construct from a tensor, it is recommended to use sourceTensor.clone().detach() or sourceTensor.clone().detach().requires_grad_(True), rather than torch.tensor(sourceTensor).\n",
            "  X_scaled_tensor = torch.tensor(combined_X, dtype=torch.float32).unsqueeze(1)\n"
          ]
        },
        {
          "output_type": "stream",
          "name": "stdout",
          "text": [
            "     Epoch 5: Train Loss = 0.5762, Val Loss = 20.7744\n",
            "     Epoch 10: Train Loss = 0.5775, Val Loss = 18.2458\n",
            "     Epoch 15: Train Loss = 0.5790, Val Loss = 13.9542\n",
            "     Epoch 20: Train Loss = 0.5772, Val Loss = 11.2188\n",
            "    ⏹️ Early stopping at epoch 24\n",
            " Run 3 finished with best val loss: 8.3637\n",
            "Original Error Percentage (Test Dataset): 4.1651%\n",
            "Corrected Error Percentage (Test Dataset): 36.7567%\n",
            "   Run 4/5 ...      Epoch 0: Train Loss = 0.5865, Val Loss = 10.7353\n"
          ]
        },
        {
          "output_type": "stream",
          "name": "stderr",
          "text": [
            "<ipython-input-44-b273c6d16a7f>:152: UserWarning: To copy construct from a tensor, it is recommended to use sourceTensor.clone().detach() or sourceTensor.clone().detach().requires_grad_(True), rather than torch.tensor(sourceTensor).\n",
            "  X_scaled_tensor = torch.tensor(combined_X, dtype=torch.float32).unsqueeze(1)\n"
          ]
        },
        {
          "output_type": "stream",
          "name": "stdout",
          "text": [
            "     Epoch 5: Train Loss = 0.5756, Val Loss = 18.3218\n",
            "     Epoch 10: Train Loss = 0.5775, Val Loss = 13.1246\n",
            "     Epoch 15: Train Loss = 0.5751, Val Loss = 14.9432\n",
            "     Epoch 20: Train Loss = 0.5764, Val Loss = 17.2886\n",
            "    ⏹️ Early stopping at epoch 20\n",
            " Run 4 finished with best val loss: 10.7353\n",
            "Original Error Percentage (Test Dataset): 4.1651%\n",
            "Corrected Error Percentage (Test Dataset): 45.8125%\n",
            "   Run 5/5 ...      Epoch 0: Train Loss = 0.6114, Val Loss = 13.1852\n"
          ]
        },
        {
          "output_type": "stream",
          "name": "stderr",
          "text": [
            "<ipython-input-44-b273c6d16a7f>:152: UserWarning: To copy construct from a tensor, it is recommended to use sourceTensor.clone().detach() or sourceTensor.clone().detach().requires_grad_(True), rather than torch.tensor(sourceTensor).\n",
            "  X_scaled_tensor = torch.tensor(combined_X, dtype=torch.float32).unsqueeze(1)\n"
          ]
        },
        {
          "output_type": "stream",
          "name": "stdout",
          "text": [
            "     Epoch 5: Train Loss = 0.5768, Val Loss = 14.5384\n",
            "     Epoch 10: Train Loss = 0.5779, Val Loss = 13.2105\n",
            "     Epoch 15: Train Loss = 0.5766, Val Loss = 17.8851\n",
            "     Epoch 20: Train Loss = 0.5760, Val Loss = 13.9829\n",
            "    ⏹️ Early stopping at epoch 23\n",
            " Run 5 finished with best val loss: 7.9992\n",
            "Original Error Percentage (Test Dataset): 4.1651%\n",
            "Corrected Error Percentage (Test Dataset): 30.3669%\n",
            " Finished configuration H=128, D=0.0, LR=0.0005, B=32 → Avg Val Loss: 8.3910, Avg Accuracy: 37.7718%\n",
            "\n",
            " Running 61/81: H=128, D=0.0, LR=0.001, B=8\n",
            "   Run 1/5 ... "
          ]
        },
        {
          "output_type": "stream",
          "name": "stderr",
          "text": [
            "<ipython-input-44-b273c6d16a7f>:152: UserWarning: To copy construct from a tensor, it is recommended to use sourceTensor.clone().detach() or sourceTensor.clone().detach().requires_grad_(True), rather than torch.tensor(sourceTensor).\n",
            "  X_scaled_tensor = torch.tensor(combined_X, dtype=torch.float32).unsqueeze(1)\n"
          ]
        },
        {
          "output_type": "stream",
          "name": "stdout",
          "text": [
            "     Epoch 0: Train Loss = 0.5894, Val Loss = 5.3672\n",
            "     Epoch 5: Train Loss = 0.5805, Val Loss = 16.2673\n",
            "     Epoch 10: Train Loss = 0.5797, Val Loss = 12.7369\n",
            "     Epoch 15: Train Loss = 0.5775, Val Loss = 16.4695\n",
            "     Epoch 20: Train Loss = 0.5770, Val Loss = 14.9285\n",
            "    ⏹️ Early stopping at epoch 20\n",
            " Run 1 finished with best val loss: 5.3672\n",
            "Original Error Percentage (Test Dataset): 4.1651%\n",
            "Corrected Error Percentage (Test Dataset): 42.5496%\n",
            "   Run 2/5 ... "
          ]
        },
        {
          "output_type": "stream",
          "name": "stderr",
          "text": [
            "<ipython-input-44-b273c6d16a7f>:152: UserWarning: To copy construct from a tensor, it is recommended to use sourceTensor.clone().detach() or sourceTensor.clone().detach().requires_grad_(True), rather than torch.tensor(sourceTensor).\n",
            "  X_scaled_tensor = torch.tensor(combined_X, dtype=torch.float32).unsqueeze(1)\n"
          ]
        },
        {
          "output_type": "stream",
          "name": "stdout",
          "text": [
            "     Epoch 0: Train Loss = 0.5879, Val Loss = 15.0332\n",
            "     Epoch 5: Train Loss = 0.5798, Val Loss = 12.7688\n",
            "     Epoch 10: Train Loss = 0.5780, Val Loss = 11.7487\n",
            "     Epoch 15: Train Loss = 0.5756, Val Loss = 12.3899\n",
            "     Epoch 20: Train Loss = 0.5769, Val Loss = 17.7589\n",
            "     Epoch 25: Train Loss = 0.5775, Val Loss = 13.8063\n",
            "    ⏹️ Early stopping at epoch 29\n",
            " Run 2 finished with best val loss: 8.0022\n",
            "Original Error Percentage (Test Dataset): 4.1651%\n",
            "Corrected Error Percentage (Test Dataset): 29.6580%\n",
            "   Run 3/5 ... "
          ]
        },
        {
          "output_type": "stream",
          "name": "stderr",
          "text": [
            "<ipython-input-44-b273c6d16a7f>:152: UserWarning: To copy construct from a tensor, it is recommended to use sourceTensor.clone().detach() or sourceTensor.clone().detach().requires_grad_(True), rather than torch.tensor(sourceTensor).\n",
            "  X_scaled_tensor = torch.tensor(combined_X, dtype=torch.float32).unsqueeze(1)\n"
          ]
        },
        {
          "output_type": "stream",
          "name": "stdout",
          "text": [
            "     Epoch 0: Train Loss = 0.5933, Val Loss = 4.8627\n",
            "     Epoch 5: Train Loss = 0.5810, Val Loss = 7.3188\n",
            "     Epoch 10: Train Loss = 0.5786, Val Loss = 10.1578\n",
            "     Epoch 15: Train Loss = 0.5776, Val Loss = 15.1362\n",
            "     Epoch 20: Train Loss = 0.5773, Val Loss = 16.3831\n",
            "    ⏹️ Early stopping at epoch 20\n",
            " Run 3 finished with best val loss: 4.8627\n",
            "Original Error Percentage (Test Dataset): 4.1651%\n",
            "Corrected Error Percentage (Test Dataset): 45.1429%\n",
            "   Run 4/5 ... "
          ]
        },
        {
          "output_type": "stream",
          "name": "stderr",
          "text": [
            "<ipython-input-44-b273c6d16a7f>:152: UserWarning: To copy construct from a tensor, it is recommended to use sourceTensor.clone().detach() or sourceTensor.clone().detach().requires_grad_(True), rather than torch.tensor(sourceTensor).\n",
            "  X_scaled_tensor = torch.tensor(combined_X, dtype=torch.float32).unsqueeze(1)\n"
          ]
        },
        {
          "output_type": "stream",
          "name": "stdout",
          "text": [
            "     Epoch 0: Train Loss = 0.5894, Val Loss = 13.8130\n",
            "     Epoch 5: Train Loss = 0.5803, Val Loss = 19.6462\n",
            "     Epoch 10: Train Loss = 0.5797, Val Loss = 10.0362\n",
            "     Epoch 15: Train Loss = 0.5749, Val Loss = 9.7003\n",
            "     Epoch 20: Train Loss = 0.5760, Val Loss = 11.5566\n",
            "     Epoch 25: Train Loss = 0.5767, Val Loss = 12.0951\n",
            "     Epoch 30: Train Loss = 0.5752, Val Loss = 13.9632\n",
            "     Epoch 35: Train Loss = 0.5762, Val Loss = 15.6947\n",
            "    ⏹️ Early stopping at epoch 35\n",
            " Run 4 finished with best val loss: 9.7003\n",
            "Original Error Percentage (Test Dataset): 4.1651%\n",
            "Corrected Error Percentage (Test Dataset): 43.8716%\n",
            "   Run 5/5 ... "
          ]
        },
        {
          "output_type": "stream",
          "name": "stderr",
          "text": [
            "<ipython-input-44-b273c6d16a7f>:152: UserWarning: To copy construct from a tensor, it is recommended to use sourceTensor.clone().detach() or sourceTensor.clone().detach().requires_grad_(True), rather than torch.tensor(sourceTensor).\n",
            "  X_scaled_tensor = torch.tensor(combined_X, dtype=torch.float32).unsqueeze(1)\n"
          ]
        },
        {
          "output_type": "stream",
          "name": "stdout",
          "text": [
            "     Epoch 0: Train Loss = 0.5958, Val Loss = 10.6668\n",
            "     Epoch 5: Train Loss = 0.5774, Val Loss = 9.7033\n",
            "     Epoch 10: Train Loss = 0.5765, Val Loss = 10.4252\n",
            "     Epoch 15: Train Loss = 0.5766, Val Loss = 11.6132\n",
            "     Epoch 20: Train Loss = 0.5760, Val Loss = 13.8912\n",
            "     Epoch 25: Train Loss = 0.5773, Val Loss = 20.3416\n",
            "    ⏹️ Early stopping at epoch 27\n",
            " Run 5 finished with best val loss: 7.2884\n",
            "Original Error Percentage (Test Dataset): 4.1651%\n",
            "Corrected Error Percentage (Test Dataset): 47.6807%\n",
            " Finished configuration H=128, D=0.0, LR=0.001, B=8 → Avg Val Loss: 7.0442, Avg Accuracy: 41.7806%\n",
            "\n",
            " Running 62/81: H=128, D=0.0, LR=0.001, B=16\n",
            "   Run 1/5 ...      Epoch 0: Train Loss = 0.5954, Val Loss = 16.6884\n"
          ]
        },
        {
          "output_type": "stream",
          "name": "stderr",
          "text": [
            "<ipython-input-44-b273c6d16a7f>:152: UserWarning: To copy construct from a tensor, it is recommended to use sourceTensor.clone().detach() or sourceTensor.clone().detach().requires_grad_(True), rather than torch.tensor(sourceTensor).\n",
            "  X_scaled_tensor = torch.tensor(combined_X, dtype=torch.float32).unsqueeze(1)\n"
          ]
        },
        {
          "output_type": "stream",
          "name": "stdout",
          "text": [
            "     Epoch 5: Train Loss = 0.5776, Val Loss = 12.6022\n",
            "     Epoch 10: Train Loss = 0.5764, Val Loss = 16.3493\n",
            "     Epoch 15: Train Loss = 0.5773, Val Loss = 10.3691\n",
            "     Epoch 20: Train Loss = 0.5770, Val Loss = 12.9483\n",
            "    ⏹️ Early stopping at epoch 24\n",
            " Run 1 finished with best val loss: 8.0651\n",
            "Original Error Percentage (Test Dataset): 4.1651%\n",
            "Corrected Error Percentage (Test Dataset): 44.2899%\n",
            "   Run 2/5 ...      Epoch 0: Train Loss = 0.5860, Val Loss = 15.1577\n"
          ]
        },
        {
          "output_type": "stream",
          "name": "stderr",
          "text": [
            "<ipython-input-44-b273c6d16a7f>:152: UserWarning: To copy construct from a tensor, it is recommended to use sourceTensor.clone().detach() or sourceTensor.clone().detach().requires_grad_(True), rather than torch.tensor(sourceTensor).\n",
            "  X_scaled_tensor = torch.tensor(combined_X, dtype=torch.float32).unsqueeze(1)\n"
          ]
        },
        {
          "output_type": "stream",
          "name": "stdout",
          "text": [
            "     Epoch 5: Train Loss = 0.5782, Val Loss = 14.4204\n",
            "     Epoch 10: Train Loss = 0.5793, Val Loss = 9.7368\n",
            "     Epoch 15: Train Loss = 0.5782, Val Loss = 16.8171\n",
            "     Epoch 20: Train Loss = 0.5760, Val Loss = 16.8639\n",
            "     Epoch 25: Train Loss = 0.5754, Val Loss = 15.7192\n",
            "     Epoch 30: Train Loss = 0.5756, Val Loss = 14.5915\n",
            "    ⏹️ Early stopping at epoch 30\n",
            " Run 2 finished with best val loss: 9.7368\n",
            "Original Error Percentage (Test Dataset): 4.1651%\n",
            "Corrected Error Percentage (Test Dataset): 41.7486%\n",
            "   Run 3/5 ...      Epoch 0: Train Loss = 0.5910, Val Loss = 5.6075\n"
          ]
        },
        {
          "output_type": "stream",
          "name": "stderr",
          "text": [
            "<ipython-input-44-b273c6d16a7f>:152: UserWarning: To copy construct from a tensor, it is recommended to use sourceTensor.clone().detach() or sourceTensor.clone().detach().requires_grad_(True), rather than torch.tensor(sourceTensor).\n",
            "  X_scaled_tensor = torch.tensor(combined_X, dtype=torch.float32).unsqueeze(1)\n"
          ]
        },
        {
          "output_type": "stream",
          "name": "stdout",
          "text": [
            "     Epoch 5: Train Loss = 0.5824, Val Loss = 13.3567\n",
            "     Epoch 10: Train Loss = 0.5794, Val Loss = 14.2464\n",
            "     Epoch 15: Train Loss = 0.5774, Val Loss = 13.4691\n",
            "     Epoch 20: Train Loss = 0.5777, Val Loss = 13.4297\n",
            "    ⏹️ Early stopping at epoch 20\n",
            " Run 3 finished with best val loss: 5.6075\n",
            "Original Error Percentage (Test Dataset): 4.1651%\n",
            "Corrected Error Percentage (Test Dataset): 39.5890%\n",
            "   Run 4/5 ...      Epoch 0: Train Loss = 0.5842, Val Loss = 6.3765\n"
          ]
        },
        {
          "output_type": "stream",
          "name": "stderr",
          "text": [
            "<ipython-input-44-b273c6d16a7f>:152: UserWarning: To copy construct from a tensor, it is recommended to use sourceTensor.clone().detach() or sourceTensor.clone().detach().requires_grad_(True), rather than torch.tensor(sourceTensor).\n",
            "  X_scaled_tensor = torch.tensor(combined_X, dtype=torch.float32).unsqueeze(1)\n"
          ]
        },
        {
          "output_type": "stream",
          "name": "stdout",
          "text": [
            "     Epoch 5: Train Loss = 0.5775, Val Loss = 7.3978\n",
            "     Epoch 10: Train Loss = 0.5767, Val Loss = 14.6778\n",
            "     Epoch 15: Train Loss = 0.5769, Val Loss = 12.4109\n",
            "     Epoch 20: Train Loss = 0.5758, Val Loss = 10.7789\n",
            "    ⏹️ Early stopping at epoch 20\n",
            " Run 4 finished with best val loss: 6.3765\n",
            "Original Error Percentage (Test Dataset): 4.1651%\n",
            "Corrected Error Percentage (Test Dataset): 33.2362%\n",
            "   Run 5/5 ...      Epoch 0: Train Loss = 0.5901, Val Loss = 3.4456\n"
          ]
        },
        {
          "output_type": "stream",
          "name": "stderr",
          "text": [
            "<ipython-input-44-b273c6d16a7f>:152: UserWarning: To copy construct from a tensor, it is recommended to use sourceTensor.clone().detach() or sourceTensor.clone().detach().requires_grad_(True), rather than torch.tensor(sourceTensor).\n",
            "  X_scaled_tensor = torch.tensor(combined_X, dtype=torch.float32).unsqueeze(1)\n"
          ]
        },
        {
          "output_type": "stream",
          "name": "stdout",
          "text": [
            "     Epoch 5: Train Loss = 0.5787, Val Loss = 5.9065\n",
            "     Epoch 10: Train Loss = 0.5798, Val Loss = 13.5661\n",
            "     Epoch 15: Train Loss = 0.5757, Val Loss = 9.8199\n",
            "     Epoch 20: Train Loss = 0.5762, Val Loss = 13.4060\n",
            "    ⏹️ Early stopping at epoch 20\n",
            " Run 5 finished with best val loss: 3.4456\n",
            "Original Error Percentage (Test Dataset): 4.1651%\n",
            "Corrected Error Percentage (Test Dataset): 38.5502%\n",
            " Finished configuration H=128, D=0.0, LR=0.001, B=16 → Avg Val Loss: 6.6463, Avg Accuracy: 39.4828%\n",
            "\n",
            " Running 63/81: H=128, D=0.0, LR=0.001, B=32\n",
            "   Run 1/5 ...      Epoch 0: Train Loss = 0.6018, Val Loss = 9.9856\n"
          ]
        },
        {
          "output_type": "stream",
          "name": "stderr",
          "text": [
            "<ipython-input-44-b273c6d16a7f>:152: UserWarning: To copy construct from a tensor, it is recommended to use sourceTensor.clone().detach() or sourceTensor.clone().detach().requires_grad_(True), rather than torch.tensor(sourceTensor).\n",
            "  X_scaled_tensor = torch.tensor(combined_X, dtype=torch.float32).unsqueeze(1)\n"
          ]
        },
        {
          "output_type": "stream",
          "name": "stdout",
          "text": [
            "     Epoch 5: Train Loss = 0.5759, Val Loss = 9.7109\n",
            "     Epoch 10: Train Loss = 0.5799, Val Loss = 12.6188\n",
            "     Epoch 15: Train Loss = 0.5780, Val Loss = 14.1973\n",
            "     Epoch 20: Train Loss = 0.5765, Val Loss = 9.3159\n",
            "     Epoch 25: Train Loss = 0.5781, Val Loss = 12.6133\n",
            "     Epoch 30: Train Loss = 0.5745, Val Loss = 10.5689\n",
            "     Epoch 35: Train Loss = 0.5737, Val Loss = 13.6873\n",
            "    ⏹️ Early stopping at epoch 36\n",
            " Run 1 finished with best val loss: 7.9770\n",
            "Original Error Percentage (Test Dataset): 4.1651%\n",
            "Corrected Error Percentage (Test Dataset): 42.0718%\n",
            "   Run 2/5 ...      Epoch 0: Train Loss = 0.5876, Val Loss = 8.4249\n"
          ]
        },
        {
          "output_type": "stream",
          "name": "stderr",
          "text": [
            "<ipython-input-44-b273c6d16a7f>:152: UserWarning: To copy construct from a tensor, it is recommended to use sourceTensor.clone().detach() or sourceTensor.clone().detach().requires_grad_(True), rather than torch.tensor(sourceTensor).\n",
            "  X_scaled_tensor = torch.tensor(combined_X, dtype=torch.float32).unsqueeze(1)\n"
          ]
        },
        {
          "output_type": "stream",
          "name": "stdout",
          "text": [
            "     Epoch 5: Train Loss = 0.5792, Val Loss = 10.3571\n",
            "     Epoch 10: Train Loss = 0.5786, Val Loss = 15.1051\n",
            "     Epoch 15: Train Loss = 0.5781, Val Loss = 12.7845\n",
            "     Epoch 20: Train Loss = 0.5768, Val Loss = 14.7856\n",
            "    ⏹️ Early stopping at epoch 20\n",
            " Run 2 finished with best val loss: 8.4249\n",
            "Original Error Percentage (Test Dataset): 4.1651%\n",
            "Corrected Error Percentage (Test Dataset): 41.8143%\n",
            "   Run 3/5 ...      Epoch 0: Train Loss = 0.5857, Val Loss = 11.9025\n"
          ]
        },
        {
          "output_type": "stream",
          "name": "stderr",
          "text": [
            "<ipython-input-44-b273c6d16a7f>:152: UserWarning: To copy construct from a tensor, it is recommended to use sourceTensor.clone().detach() or sourceTensor.clone().detach().requires_grad_(True), rather than torch.tensor(sourceTensor).\n",
            "  X_scaled_tensor = torch.tensor(combined_X, dtype=torch.float32).unsqueeze(1)\n"
          ]
        },
        {
          "output_type": "stream",
          "name": "stdout",
          "text": [
            "     Epoch 5: Train Loss = 0.5779, Val Loss = 9.3934\n",
            "     Epoch 10: Train Loss = 0.5787, Val Loss = 16.1588\n",
            "     Epoch 15: Train Loss = 0.5777, Val Loss = 18.8461\n",
            "     Epoch 20: Train Loss = 0.5765, Val Loss = 12.7568\n",
            "    ⏹️ Early stopping at epoch 23\n",
            " Run 3 finished with best val loss: 9.3388\n",
            "Original Error Percentage (Test Dataset): 4.1651%\n",
            "Corrected Error Percentage (Test Dataset): 43.8698%\n",
            "   Run 4/5 ... "
          ]
        },
        {
          "output_type": "stream",
          "name": "stderr",
          "text": [
            "<ipython-input-44-b273c6d16a7f>:152: UserWarning: To copy construct from a tensor, it is recommended to use sourceTensor.clone().detach() or sourceTensor.clone().detach().requires_grad_(True), rather than torch.tensor(sourceTensor).\n",
            "  X_scaled_tensor = torch.tensor(combined_X, dtype=torch.float32).unsqueeze(1)\n"
          ]
        },
        {
          "output_type": "stream",
          "name": "stdout",
          "text": [
            "     Epoch 0: Train Loss = 0.5858, Val Loss = 13.4655\n",
            "     Epoch 5: Train Loss = 0.5862, Val Loss = 18.9114\n",
            "     Epoch 10: Train Loss = 0.5761, Val Loss = 13.1440\n",
            "     Epoch 15: Train Loss = 0.5756, Val Loss = 17.1562\n",
            "     Epoch 20: Train Loss = 0.5772, Val Loss = 16.3637\n",
            "     Epoch 25: Train Loss = 0.5875, Val Loss = 13.9667\n",
            "     Epoch 30: Train Loss = 0.5740, Val Loss = 15.8990\n",
            "     Epoch 35: Train Loss = 0.5757, Val Loss = 12.3870\n",
            "    ⏹️ Early stopping at epoch 39\n",
            " Run 4 finished with best val loss: 10.4953\n",
            "Original Error Percentage (Test Dataset): 4.1651%\n",
            "Corrected Error Percentage (Test Dataset): 35.8168%\n",
            "   Run 5/5 ...      Epoch 0: Train Loss = 0.6022, Val Loss = 19.0980\n"
          ]
        },
        {
          "output_type": "stream",
          "name": "stderr",
          "text": [
            "<ipython-input-44-b273c6d16a7f>:152: UserWarning: To copy construct from a tensor, it is recommended to use sourceTensor.clone().detach() or sourceTensor.clone().detach().requires_grad_(True), rather than torch.tensor(sourceTensor).\n",
            "  X_scaled_tensor = torch.tensor(combined_X, dtype=torch.float32).unsqueeze(1)\n"
          ]
        },
        {
          "output_type": "stream",
          "name": "stdout",
          "text": [
            "     Epoch 5: Train Loss = 0.5808, Val Loss = 7.3663\n",
            "     Epoch 10: Train Loss = 0.5762, Val Loss = 19.0694\n",
            "     Epoch 15: Train Loss = 0.5782, Val Loss = 13.4072\n",
            "     Epoch 20: Train Loss = 0.5766, Val Loss = 9.9584\n",
            "    ⏹️ Early stopping at epoch 24\n",
            " Run 5 finished with best val loss: 3.5871\n",
            "Original Error Percentage (Test Dataset): 4.1651%\n",
            "Corrected Error Percentage (Test Dataset): 39.2732%\n",
            " Finished configuration H=128, D=0.0, LR=0.001, B=32 → Avg Val Loss: 7.9646, Avg Accuracy: 40.5692%\n",
            "\n",
            " Running 64/81: H=128, D=0.1, LR=0.0001, B=8\n",
            "   Run 1/5 ... "
          ]
        },
        {
          "output_type": "stream",
          "name": "stderr",
          "text": [
            "<ipython-input-44-b273c6d16a7f>:152: UserWarning: To copy construct from a tensor, it is recommended to use sourceTensor.clone().detach() or sourceTensor.clone().detach().requires_grad_(True), rather than torch.tensor(sourceTensor).\n",
            "  X_scaled_tensor = torch.tensor(combined_X, dtype=torch.float32).unsqueeze(1)\n"
          ]
        },
        {
          "output_type": "stream",
          "name": "stdout",
          "text": [
            "     Epoch 0: Train Loss = 0.5981, Val Loss = 2.1399\n",
            "     Epoch 5: Train Loss = 0.5787, Val Loss = 12.0891\n",
            "     Epoch 10: Train Loss = 0.5768, Val Loss = 16.0361\n",
            "     Epoch 15: Train Loss = 0.5780, Val Loss = 14.1389\n",
            "     Epoch 20: Train Loss = 0.5779, Val Loss = 13.7222\n",
            "    ⏹️ Early stopping at epoch 20\n",
            " Run 1 finished with best val loss: 2.1399\n",
            "Original Error Percentage (Test Dataset): 4.1651%\n",
            "Corrected Error Percentage (Test Dataset): 39.6793%\n",
            "   Run 2/5 ... "
          ]
        },
        {
          "output_type": "stream",
          "name": "stderr",
          "text": [
            "<ipython-input-44-b273c6d16a7f>:152: UserWarning: To copy construct from a tensor, it is recommended to use sourceTensor.clone().detach() or sourceTensor.clone().detach().requires_grad_(True), rather than torch.tensor(sourceTensor).\n",
            "  X_scaled_tensor = torch.tensor(combined_X, dtype=torch.float32).unsqueeze(1)\n"
          ]
        },
        {
          "output_type": "stream",
          "name": "stdout",
          "text": [
            "     Epoch 0: Train Loss = 0.5952, Val Loss = 4.8046\n",
            "     Epoch 5: Train Loss = 0.5836, Val Loss = 14.3745\n",
            "     Epoch 10: Train Loss = 0.5780, Val Loss = 15.0975\n",
            "     Epoch 15: Train Loss = 0.5791, Val Loss = 14.4975\n",
            "     Epoch 20: Train Loss = 0.5763, Val Loss = 15.8095\n",
            "    ⏹️ Early stopping at epoch 20\n",
            " Run 2 finished with best val loss: 4.8046\n",
            "Original Error Percentage (Test Dataset): 4.1651%\n",
            "Corrected Error Percentage (Test Dataset): 43.7567%\n",
            "   Run 3/5 ... "
          ]
        },
        {
          "output_type": "stream",
          "name": "stderr",
          "text": [
            "<ipython-input-44-b273c6d16a7f>:152: UserWarning: To copy construct from a tensor, it is recommended to use sourceTensor.clone().detach() or sourceTensor.clone().detach().requires_grad_(True), rather than torch.tensor(sourceTensor).\n",
            "  X_scaled_tensor = torch.tensor(combined_X, dtype=torch.float32).unsqueeze(1)\n"
          ]
        },
        {
          "output_type": "stream",
          "name": "stdout",
          "text": [
            "     Epoch 0: Train Loss = 0.6008, Val Loss = 2.6176\n",
            "     Epoch 5: Train Loss = 0.5819, Val Loss = 12.9278\n",
            "     Epoch 10: Train Loss = 0.5788, Val Loss = 17.2233\n",
            "     Epoch 15: Train Loss = 0.5762, Val Loss = 15.6024\n",
            "     Epoch 20: Train Loss = 0.5768, Val Loss = 16.2982\n",
            "    ⏹️ Early stopping at epoch 20\n",
            " Run 3 finished with best val loss: 2.6176\n",
            "Original Error Percentage (Test Dataset): 4.1651%\n",
            "Corrected Error Percentage (Test Dataset): 44.6050%\n",
            "   Run 4/5 ... "
          ]
        },
        {
          "output_type": "stream",
          "name": "stderr",
          "text": [
            "<ipython-input-44-b273c6d16a7f>:152: UserWarning: To copy construct from a tensor, it is recommended to use sourceTensor.clone().detach() or sourceTensor.clone().detach().requires_grad_(True), rather than torch.tensor(sourceTensor).\n",
            "  X_scaled_tensor = torch.tensor(combined_X, dtype=torch.float32).unsqueeze(1)\n"
          ]
        },
        {
          "output_type": "stream",
          "name": "stdout",
          "text": [
            "     Epoch 0: Train Loss = 0.5932, Val Loss = 5.9446\n",
            "     Epoch 5: Train Loss = 0.5792, Val Loss = 14.0815\n",
            "     Epoch 10: Train Loss = 0.5782, Val Loss = 13.1715\n",
            "     Epoch 15: Train Loss = 0.5773, Val Loss = 11.5391\n",
            "     Epoch 20: Train Loss = 0.5787, Val Loss = 12.1123\n",
            "    ⏹️ Early stopping at epoch 20\n",
            " Run 4 finished with best val loss: 5.9446\n",
            "Original Error Percentage (Test Dataset): 4.1651%\n",
            "Corrected Error Percentage (Test Dataset): 35.0748%\n",
            "   Run 5/5 ... "
          ]
        },
        {
          "output_type": "stream",
          "name": "stderr",
          "text": [
            "<ipython-input-44-b273c6d16a7f>:152: UserWarning: To copy construct from a tensor, it is recommended to use sourceTensor.clone().detach() or sourceTensor.clone().detach().requires_grad_(True), rather than torch.tensor(sourceTensor).\n",
            "  X_scaled_tensor = torch.tensor(combined_X, dtype=torch.float32).unsqueeze(1)\n"
          ]
        },
        {
          "output_type": "stream",
          "name": "stdout",
          "text": [
            "     Epoch 0: Train Loss = 0.5869, Val Loss = 8.3947\n",
            "     Epoch 5: Train Loss = 0.5762, Val Loss = 13.4813\n",
            "     Epoch 10: Train Loss = 0.5762, Val Loss = 15.7360\n",
            "     Epoch 15: Train Loss = 0.5781, Val Loss = 15.3572\n",
            "     Epoch 20: Train Loss = 0.5780, Val Loss = 13.4107\n",
            "    ⏹️ Early stopping at epoch 20\n",
            " Run 5 finished with best val loss: 8.3947\n",
            "Original Error Percentage (Test Dataset): 4.1651%\n",
            "Corrected Error Percentage (Test Dataset): 39.4634%\n",
            " Finished configuration H=128, D=0.1, LR=0.0001, B=8 → Avg Val Loss: 4.7803, Avg Accuracy: 40.5158%\n",
            "\n",
            " Running 65/81: H=128, D=0.1, LR=0.0001, B=16\n",
            "   Run 1/5 ...      Epoch 0: Train Loss = 0.5999, Val Loss = 4.5720\n"
          ]
        },
        {
          "output_type": "stream",
          "name": "stderr",
          "text": [
            "<ipython-input-44-b273c6d16a7f>:152: UserWarning: To copy construct from a tensor, it is recommended to use sourceTensor.clone().detach() or sourceTensor.clone().detach().requires_grad_(True), rather than torch.tensor(sourceTensor).\n",
            "  X_scaled_tensor = torch.tensor(combined_X, dtype=torch.float32).unsqueeze(1)\n"
          ]
        },
        {
          "output_type": "stream",
          "name": "stdout",
          "text": [
            "     Epoch 5: Train Loss = 0.5830, Val Loss = 11.1764\n",
            "     Epoch 10: Train Loss = 0.5793, Val Loss = 14.3966\n",
            "     Epoch 15: Train Loss = 0.5804, Val Loss = 15.5440\n",
            "     Epoch 20: Train Loss = 0.5827, Val Loss = 15.6837\n",
            "    ⏹️ Early stopping at epoch 20\n",
            " Run 1 finished with best val loss: 4.5720\n",
            "Original Error Percentage (Test Dataset): 4.1651%\n",
            "Corrected Error Percentage (Test Dataset): 43.5208%\n",
            "   Run 2/5 ...      Epoch 0: Train Loss = 0.5946, Val Loss = 5.3441\n"
          ]
        },
        {
          "output_type": "stream",
          "name": "stderr",
          "text": [
            "<ipython-input-44-b273c6d16a7f>:152: UserWarning: To copy construct from a tensor, it is recommended to use sourceTensor.clone().detach() or sourceTensor.clone().detach().requires_grad_(True), rather than torch.tensor(sourceTensor).\n",
            "  X_scaled_tensor = torch.tensor(combined_X, dtype=torch.float32).unsqueeze(1)\n"
          ]
        },
        {
          "output_type": "stream",
          "name": "stdout",
          "text": [
            "     Epoch 5: Train Loss = 0.5827, Val Loss = 16.1519\n",
            "     Epoch 10: Train Loss = 0.5775, Val Loss = 17.8432\n",
            "     Epoch 15: Train Loss = 0.5796, Val Loss = 14.6974\n",
            "     Epoch 20: Train Loss = 0.5778, Val Loss = 14.8772\n",
            "    ⏹️ Early stopping at epoch 20\n",
            " Run 2 finished with best val loss: 5.3441\n",
            "Original Error Percentage (Test Dataset): 4.1651%\n",
            "Corrected Error Percentage (Test Dataset): 42.4256%\n",
            "   Run 3/5 ...      Epoch 0: Train Loss = 0.6046, Val Loss = 3.5169\n"
          ]
        },
        {
          "output_type": "stream",
          "name": "stderr",
          "text": [
            "<ipython-input-44-b273c6d16a7f>:152: UserWarning: To copy construct from a tensor, it is recommended to use sourceTensor.clone().detach() or sourceTensor.clone().detach().requires_grad_(True), rather than torch.tensor(sourceTensor).\n",
            "  X_scaled_tensor = torch.tensor(combined_X, dtype=torch.float32).unsqueeze(1)\n"
          ]
        },
        {
          "output_type": "stream",
          "name": "stdout",
          "text": [
            "     Epoch 5: Train Loss = 0.5813, Val Loss = 14.9308\n",
            "     Epoch 10: Train Loss = 0.5793, Val Loss = 15.5495\n",
            "     Epoch 15: Train Loss = 0.5775, Val Loss = 13.7605\n",
            "     Epoch 20: Train Loss = 0.5772, Val Loss = 12.5028\n",
            "    ⏹️ Early stopping at epoch 20\n",
            " Run 3 finished with best val loss: 3.5169\n",
            "Original Error Percentage (Test Dataset): 4.1651%\n",
            "Corrected Error Percentage (Test Dataset): 37.4405%\n",
            "   Run 4/5 ...      Epoch 0: Train Loss = 0.5874, Val Loss = 8.1537\n"
          ]
        },
        {
          "output_type": "stream",
          "name": "stderr",
          "text": [
            "<ipython-input-44-b273c6d16a7f>:152: UserWarning: To copy construct from a tensor, it is recommended to use sourceTensor.clone().detach() or sourceTensor.clone().detach().requires_grad_(True), rather than torch.tensor(sourceTensor).\n",
            "  X_scaled_tensor = torch.tensor(combined_X, dtype=torch.float32).unsqueeze(1)\n"
          ]
        },
        {
          "output_type": "stream",
          "name": "stdout",
          "text": [
            "     Epoch 5: Train Loss = 0.5775, Val Loss = 12.9727\n",
            "     Epoch 10: Train Loss = 0.5802, Val Loss = 16.2968\n",
            "     Epoch 15: Train Loss = 0.5750, Val Loss = 15.6530\n",
            "     Epoch 20: Train Loss = 0.5814, Val Loss = 16.1029\n",
            "    ⏹️ Early stopping at epoch 20\n",
            " Run 4 finished with best val loss: 8.1537\n",
            "Original Error Percentage (Test Dataset): 4.1651%\n",
            "Corrected Error Percentage (Test Dataset): 44.7714%\n",
            "   Run 5/5 ...      Epoch 0: Train Loss = 0.6062, Val Loss = 3.0990\n"
          ]
        },
        {
          "output_type": "stream",
          "name": "stderr",
          "text": [
            "<ipython-input-44-b273c6d16a7f>:152: UserWarning: To copy construct from a tensor, it is recommended to use sourceTensor.clone().detach() or sourceTensor.clone().detach().requires_grad_(True), rather than torch.tensor(sourceTensor).\n",
            "  X_scaled_tensor = torch.tensor(combined_X, dtype=torch.float32).unsqueeze(1)\n"
          ]
        },
        {
          "output_type": "stream",
          "name": "stdout",
          "text": [
            "     Epoch 5: Train Loss = 0.5812, Val Loss = 12.1668\n",
            "     Epoch 10: Train Loss = 0.5793, Val Loss = 17.9693\n",
            "     Epoch 15: Train Loss = 0.5758, Val Loss = 16.5361\n",
            "     Epoch 20: Train Loss = 0.5773, Val Loss = 14.5145\n",
            "    ⏹️ Early stopping at epoch 20\n",
            " Run 5 finished with best val loss: 3.0990\n",
            "Original Error Percentage (Test Dataset): 4.1651%\n",
            "Corrected Error Percentage (Test Dataset): 41.4431%\n",
            " Finished configuration H=128, D=0.1, LR=0.0001, B=16 → Avg Val Loss: 4.9371, Avg Accuracy: 41.9203%\n",
            "\n",
            " Running 66/81: H=128, D=0.1, LR=0.0001, B=32\n",
            "   Run 1/5 ...      Epoch 0: Train Loss = 0.6207, Val Loss = 2.4959\n"
          ]
        },
        {
          "output_type": "stream",
          "name": "stderr",
          "text": [
            "<ipython-input-44-b273c6d16a7f>:152: UserWarning: To copy construct from a tensor, it is recommended to use sourceTensor.clone().detach() or sourceTensor.clone().detach().requires_grad_(True), rather than torch.tensor(sourceTensor).\n",
            "  X_scaled_tensor = torch.tensor(combined_X, dtype=torch.float32).unsqueeze(1)\n"
          ]
        },
        {
          "output_type": "stream",
          "name": "stdout",
          "text": [
            "     Epoch 5: Train Loss = 0.5870, Val Loss = 6.1278\n",
            "     Epoch 10: Train Loss = 0.5799, Val Loss = 9.8409\n",
            "     Epoch 15: Train Loss = 0.5754, Val Loss = 11.3822\n",
            "     Epoch 20: Train Loss = 0.5836, Val Loss = 13.1758\n",
            "    ⏹️ Early stopping at epoch 20\n",
            " Run 1 finished with best val loss: 2.4959\n",
            "Original Error Percentage (Test Dataset): 4.1651%\n",
            "Corrected Error Percentage (Test Dataset): 38.3436%\n",
            "   Run 2/5 ...      Epoch 0: Train Loss = 0.6061, Val Loss = 2.2714\n"
          ]
        },
        {
          "output_type": "stream",
          "name": "stderr",
          "text": [
            "<ipython-input-44-b273c6d16a7f>:152: UserWarning: To copy construct from a tensor, it is recommended to use sourceTensor.clone().detach() or sourceTensor.clone().detach().requires_grad_(True), rather than torch.tensor(sourceTensor).\n",
            "  X_scaled_tensor = torch.tensor(combined_X, dtype=torch.float32).unsqueeze(1)\n"
          ]
        },
        {
          "output_type": "stream",
          "name": "stdout",
          "text": [
            "     Epoch 5: Train Loss = 0.5815, Val Loss = 8.0766\n",
            "     Epoch 10: Train Loss = 0.5815, Val Loss = 12.4954\n",
            "     Epoch 15: Train Loss = 0.5741, Val Loss = 14.6333\n",
            "     Epoch 20: Train Loss = 0.5795, Val Loss = 13.7559\n",
            "    ⏹️ Early stopping at epoch 20\n",
            " Run 2 finished with best val loss: 2.2714\n",
            "Original Error Percentage (Test Dataset): 4.1651%\n",
            "Corrected Error Percentage (Test Dataset): 39.4243%\n",
            "   Run 3/5 ...      Epoch 0: Train Loss = 0.6041, Val Loss = 2.3385\n"
          ]
        },
        {
          "output_type": "stream",
          "name": "stderr",
          "text": [
            "<ipython-input-44-b273c6d16a7f>:152: UserWarning: To copy construct from a tensor, it is recommended to use sourceTensor.clone().detach() or sourceTensor.clone().detach().requires_grad_(True), rather than torch.tensor(sourceTensor).\n",
            "  X_scaled_tensor = torch.tensor(combined_X, dtype=torch.float32).unsqueeze(1)\n"
          ]
        },
        {
          "output_type": "stream",
          "name": "stdout",
          "text": [
            "     Epoch 5: Train Loss = 0.5836, Val Loss = 7.7832\n",
            "     Epoch 10: Train Loss = 0.5774, Val Loss = 10.3220\n",
            "     Epoch 15: Train Loss = 0.5809, Val Loss = 12.6928\n",
            "     Epoch 20: Train Loss = 0.5784, Val Loss = 13.5330\n",
            "    ⏹️ Early stopping at epoch 20\n",
            " Run 3 finished with best val loss: 2.3385\n",
            "Original Error Percentage (Test Dataset): 4.1651%\n",
            "Corrected Error Percentage (Test Dataset): 38.8711%\n",
            "   Run 4/5 ...      Epoch 0: Train Loss = 0.5982, Val Loss = 4.4169\n"
          ]
        },
        {
          "output_type": "stream",
          "name": "stderr",
          "text": [
            "<ipython-input-44-b273c6d16a7f>:152: UserWarning: To copy construct from a tensor, it is recommended to use sourceTensor.clone().detach() or sourceTensor.clone().detach().requires_grad_(True), rather than torch.tensor(sourceTensor).\n",
            "  X_scaled_tensor = torch.tensor(combined_X, dtype=torch.float32).unsqueeze(1)\n"
          ]
        },
        {
          "output_type": "stream",
          "name": "stdout",
          "text": [
            "     Epoch 5: Train Loss = 0.5845, Val Loss = 12.9333\n",
            "     Epoch 10: Train Loss = 0.5766, Val Loss = 14.1569\n",
            "     Epoch 15: Train Loss = 0.5780, Val Loss = 13.1402\n",
            "     Epoch 20: Train Loss = 0.5757, Val Loss = 14.2878\n",
            "    ⏹️ Early stopping at epoch 20\n",
            " Run 4 finished with best val loss: 4.4169\n",
            "Original Error Percentage (Test Dataset): 4.1651%\n",
            "Corrected Error Percentage (Test Dataset): 40.6631%\n",
            "   Run 5/5 ...      Epoch 0: Train Loss = 0.6517, Val Loss = 4.1989\n"
          ]
        },
        {
          "output_type": "stream",
          "name": "stderr",
          "text": [
            "<ipython-input-44-b273c6d16a7f>:152: UserWarning: To copy construct from a tensor, it is recommended to use sourceTensor.clone().detach() or sourceTensor.clone().detach().requires_grad_(True), rather than torch.tensor(sourceTensor).\n",
            "  X_scaled_tensor = torch.tensor(combined_X, dtype=torch.float32).unsqueeze(1)\n"
          ]
        },
        {
          "output_type": "stream",
          "name": "stdout",
          "text": [
            "     Epoch 5: Train Loss = 0.5799, Val Loss = 10.4981\n",
            "     Epoch 10: Train Loss = 0.5835, Val Loss = 16.4454\n",
            "     Epoch 15: Train Loss = 0.5800, Val Loss = 15.5552\n",
            "     Epoch 20: Train Loss = 0.5775, Val Loss = 14.8157\n",
            "    ⏹️ Early stopping at epoch 21\n",
            " Run 5 finished with best val loss: 4.1453\n",
            "Original Error Percentage (Test Dataset): 4.1651%\n",
            "Corrected Error Percentage (Test Dataset): 42.3827%\n",
            " Finished configuration H=128, D=0.1, LR=0.0001, B=32 → Avg Val Loss: 3.1336, Avg Accuracy: 39.9369%\n",
            "\n",
            " Running 67/81: H=128, D=0.1, LR=0.0005, B=8\n",
            "   Run 1/5 ... "
          ]
        },
        {
          "output_type": "stream",
          "name": "stderr",
          "text": [
            "<ipython-input-44-b273c6d16a7f>:152: UserWarning: To copy construct from a tensor, it is recommended to use sourceTensor.clone().detach() or sourceTensor.clone().detach().requires_grad_(True), rather than torch.tensor(sourceTensor).\n",
            "  X_scaled_tensor = torch.tensor(combined_X, dtype=torch.float32).unsqueeze(1)\n"
          ]
        },
        {
          "output_type": "stream",
          "name": "stdout",
          "text": [
            "     Epoch 0: Train Loss = 0.5899, Val Loss = 12.7401\n",
            "     Epoch 5: Train Loss = 0.5788, Val Loss = 11.7628\n",
            "     Epoch 10: Train Loss = 0.5767, Val Loss = 15.3027\n",
            "     Epoch 15: Train Loss = 0.5741, Val Loss = 14.2748\n",
            "     Epoch 20: Train Loss = 0.5781, Val Loss = 10.5411\n",
            "     Epoch 25: Train Loss = 0.5758, Val Loss = 18.7612\n",
            "     Epoch 30: Train Loss = 0.5746, Val Loss = 16.4033\n",
            "     Epoch 35: Train Loss = 0.5778, Val Loss = 17.0844\n",
            "    ⏹️ Early stopping at epoch 36\n",
            " Run 1 finished with best val loss: 9.9491\n",
            "Original Error Percentage (Test Dataset): 4.1651%\n",
            "Corrected Error Percentage (Test Dataset): 47.5811%\n",
            "   Run 2/5 ... "
          ]
        },
        {
          "output_type": "stream",
          "name": "stderr",
          "text": [
            "<ipython-input-44-b273c6d16a7f>:152: UserWarning: To copy construct from a tensor, it is recommended to use sourceTensor.clone().detach() or sourceTensor.clone().detach().requires_grad_(True), rather than torch.tensor(sourceTensor).\n",
            "  X_scaled_tensor = torch.tensor(combined_X, dtype=torch.float32).unsqueeze(1)\n"
          ]
        },
        {
          "output_type": "stream",
          "name": "stdout",
          "text": [
            "     Epoch 0: Train Loss = 0.5837, Val Loss = 15.1995\n",
            "     Epoch 5: Train Loss = 0.5811, Val Loss = 8.9835\n",
            "     Epoch 10: Train Loss = 0.5795, Val Loss = 11.1238\n",
            "     Epoch 15: Train Loss = 0.5805, Val Loss = 13.3929\n",
            "     Epoch 20: Train Loss = 0.5805, Val Loss = 15.1709\n",
            "     Epoch 25: Train Loss = 0.5791, Val Loss = 15.3120\n",
            "    ⏹️ Early stopping at epoch 29\n",
            " Run 2 finished with best val loss: 8.9259\n",
            "Original Error Percentage (Test Dataset): 4.1651%\n",
            "Corrected Error Percentage (Test Dataset): 49.0759%\n",
            "   Run 3/5 ... "
          ]
        },
        {
          "output_type": "stream",
          "name": "stderr",
          "text": [
            "<ipython-input-44-b273c6d16a7f>:152: UserWarning: To copy construct from a tensor, it is recommended to use sourceTensor.clone().detach() or sourceTensor.clone().detach().requires_grad_(True), rather than torch.tensor(sourceTensor).\n",
            "  X_scaled_tensor = torch.tensor(combined_X, dtype=torch.float32).unsqueeze(1)\n"
          ]
        },
        {
          "output_type": "stream",
          "name": "stdout",
          "text": [
            "     Epoch 0: Train Loss = 0.5926, Val Loss = 14.5626\n",
            "     Epoch 5: Train Loss = 0.5786, Val Loss = 10.1812\n",
            "     Epoch 10: Train Loss = 0.5782, Val Loss = 13.0868\n",
            "     Epoch 15: Train Loss = 0.5791, Val Loss = 14.0673\n",
            "     Epoch 20: Train Loss = 0.5772, Val Loss = 15.8983\n",
            "     Epoch 25: Train Loss = 0.5782, Val Loss = 11.4995\n",
            "     Epoch 30: Train Loss = 0.5794, Val Loss = 16.2027\n",
            "     Epoch 35: Train Loss = 0.5766, Val Loss = 13.4632\n",
            "     Epoch 40: Train Loss = 0.5777, Val Loss = 11.0378\n",
            "    ⏹️ Early stopping at epoch 42\n",
            " Run 3 finished with best val loss: 9.8966\n",
            "Original Error Percentage (Test Dataset): 4.1651%\n",
            "Corrected Error Percentage (Test Dataset): 43.1117%\n",
            "   Run 4/5 ... "
          ]
        },
        {
          "output_type": "stream",
          "name": "stderr",
          "text": [
            "<ipython-input-44-b273c6d16a7f>:152: UserWarning: To copy construct from a tensor, it is recommended to use sourceTensor.clone().detach() or sourceTensor.clone().detach().requires_grad_(True), rather than torch.tensor(sourceTensor).\n",
            "  X_scaled_tensor = torch.tensor(combined_X, dtype=torch.float32).unsqueeze(1)\n"
          ]
        },
        {
          "output_type": "stream",
          "name": "stdout",
          "text": [
            "     Epoch 0: Train Loss = 0.5972, Val Loss = 7.8907\n",
            "     Epoch 5: Train Loss = 0.5783, Val Loss = 19.3950\n",
            "     Epoch 10: Train Loss = 0.5810, Val Loss = 12.2031\n",
            "     Epoch 15: Train Loss = 0.5783, Val Loss = 9.6067\n",
            "     Epoch 20: Train Loss = 0.5782, Val Loss = 11.8873\n",
            "    ⏹️ Early stopping at epoch 23\n",
            " Run 4 finished with best val loss: 6.7671\n",
            "Original Error Percentage (Test Dataset): 4.1651%\n",
            "Corrected Error Percentage (Test Dataset): 39.3530%\n",
            "   Run 5/5 ... "
          ]
        },
        {
          "output_type": "stream",
          "name": "stderr",
          "text": [
            "<ipython-input-44-b273c6d16a7f>:152: UserWarning: To copy construct from a tensor, it is recommended to use sourceTensor.clone().detach() or sourceTensor.clone().detach().requires_grad_(True), rather than torch.tensor(sourceTensor).\n",
            "  X_scaled_tensor = torch.tensor(combined_X, dtype=torch.float32).unsqueeze(1)\n"
          ]
        },
        {
          "output_type": "stream",
          "name": "stdout",
          "text": [
            "     Epoch 0: Train Loss = 0.5894, Val Loss = 8.4743\n",
            "     Epoch 5: Train Loss = 0.5806, Val Loss = 7.6977\n",
            "     Epoch 10: Train Loss = 0.5822, Val Loss = 12.3138\n",
            "     Epoch 15: Train Loss = 0.5788, Val Loss = 8.5187\n",
            "     Epoch 20: Train Loss = 0.5771, Val Loss = 20.2334\n",
            "     Epoch 25: Train Loss = 0.5760, Val Loss = 11.7261\n",
            "     Epoch 30: Train Loss = 0.5754, Val Loss = 11.0859\n",
            "    ⏹️ Early stopping at epoch 34\n",
            " Run 5 finished with best val loss: 7.3424\n",
            "Original Error Percentage (Test Dataset): 4.1651%\n",
            "Corrected Error Percentage (Test Dataset): 38.3303%\n",
            " Finished configuration H=128, D=0.1, LR=0.0005, B=8 → Avg Val Loss: 8.5762, Avg Accuracy: 43.4904%\n",
            "\n",
            " Running 68/81: H=128, D=0.1, LR=0.0005, B=16\n",
            "   Run 1/5 ...      Epoch 0: Train Loss = 0.5881, Val Loss = 12.3488\n"
          ]
        },
        {
          "output_type": "stream",
          "name": "stderr",
          "text": [
            "<ipython-input-44-b273c6d16a7f>:152: UserWarning: To copy construct from a tensor, it is recommended to use sourceTensor.clone().detach() or sourceTensor.clone().detach().requires_grad_(True), rather than torch.tensor(sourceTensor).\n",
            "  X_scaled_tensor = torch.tensor(combined_X, dtype=torch.float32).unsqueeze(1)\n"
          ]
        },
        {
          "output_type": "stream",
          "name": "stdout",
          "text": [
            "     Epoch 5: Train Loss = 0.5799, Val Loss = 14.6694\n",
            "     Epoch 10: Train Loss = 0.5793, Val Loss = 16.7385\n",
            "     Epoch 15: Train Loss = 0.5797, Val Loss = 10.0541\n",
            "     Epoch 20: Train Loss = 0.5787, Val Loss = 14.3239\n",
            "    ⏹️ Early stopping at epoch 24\n",
            " Run 1 finished with best val loss: 9.0657\n",
            "Original Error Percentage (Test Dataset): 4.1651%\n",
            "Corrected Error Percentage (Test Dataset): 43.4973%\n",
            "   Run 2/5 ...      Epoch 0: Train Loss = 0.5939, Val Loss = 9.6018\n"
          ]
        },
        {
          "output_type": "stream",
          "name": "stderr",
          "text": [
            "<ipython-input-44-b273c6d16a7f>:152: UserWarning: To copy construct from a tensor, it is recommended to use sourceTensor.clone().detach() or sourceTensor.clone().detach().requires_grad_(True), rather than torch.tensor(sourceTensor).\n",
            "  X_scaled_tensor = torch.tensor(combined_X, dtype=torch.float32).unsqueeze(1)\n"
          ]
        },
        {
          "output_type": "stream",
          "name": "stdout",
          "text": [
            "     Epoch 5: Train Loss = 0.5812, Val Loss = 12.2612\n",
            "     Epoch 10: Train Loss = 0.5758, Val Loss = 15.4100\n",
            "     Epoch 15: Train Loss = 0.5789, Val Loss = 16.3925\n",
            "     Epoch 20: Train Loss = 0.5753, Val Loss = 14.5058\n",
            "    ⏹️ Early stopping at epoch 24\n",
            " Run 2 finished with best val loss: 9.5849\n",
            "Original Error Percentage (Test Dataset): 4.1651%\n",
            "Corrected Error Percentage (Test Dataset): 45.4680%\n",
            "   Run 3/5 ...      Epoch 0: Train Loss = 0.5834, Val Loss = 8.9380\n"
          ]
        },
        {
          "output_type": "stream",
          "name": "stderr",
          "text": [
            "<ipython-input-44-b273c6d16a7f>:152: UserWarning: To copy construct from a tensor, it is recommended to use sourceTensor.clone().detach() or sourceTensor.clone().detach().requires_grad_(True), rather than torch.tensor(sourceTensor).\n",
            "  X_scaled_tensor = torch.tensor(combined_X, dtype=torch.float32).unsqueeze(1)\n"
          ]
        },
        {
          "output_type": "stream",
          "name": "stdout",
          "text": [
            "     Epoch 5: Train Loss = 0.5788, Val Loss = 14.7791\n",
            "     Epoch 10: Train Loss = 0.5829, Val Loss = 10.7593\n",
            "     Epoch 15: Train Loss = 0.5817, Val Loss = 11.5395\n",
            "     Epoch 20: Train Loss = 0.5815, Val Loss = 10.7020\n",
            "    ⏹️ Early stopping at epoch 20\n",
            " Run 3 finished with best val loss: 8.9380\n",
            "Original Error Percentage (Test Dataset): 4.1651%\n",
            "Corrected Error Percentage (Test Dataset): 31.4824%\n",
            "   Run 4/5 ...      Epoch 0: Train Loss = 0.5957, Val Loss = 13.2202\n"
          ]
        },
        {
          "output_type": "stream",
          "name": "stderr",
          "text": [
            "<ipython-input-44-b273c6d16a7f>:152: UserWarning: To copy construct from a tensor, it is recommended to use sourceTensor.clone().detach() or sourceTensor.clone().detach().requires_grad_(True), rather than torch.tensor(sourceTensor).\n",
            "  X_scaled_tensor = torch.tensor(combined_X, dtype=torch.float32).unsqueeze(1)\n"
          ]
        },
        {
          "output_type": "stream",
          "name": "stdout",
          "text": [
            "     Epoch 5: Train Loss = 0.5854, Val Loss = 19.3461\n",
            "     Epoch 10: Train Loss = 0.5790, Val Loss = 12.8731\n",
            "     Epoch 15: Train Loss = 0.5782, Val Loss = 14.4015\n",
            "     Epoch 20: Train Loss = 0.5800, Val Loss = 9.9178\n",
            "    ⏹️ Early stopping at epoch 21\n",
            " Run 4 finished with best val loss: 8.7331\n",
            "Original Error Percentage (Test Dataset): 4.1651%\n",
            "Corrected Error Percentage (Test Dataset): 35.7198%\n",
            "   Run 5/5 ... "
          ]
        },
        {
          "output_type": "stream",
          "name": "stderr",
          "text": [
            "<ipython-input-44-b273c6d16a7f>:152: UserWarning: To copy construct from a tensor, it is recommended to use sourceTensor.clone().detach() or sourceTensor.clone().detach().requires_grad_(True), rather than torch.tensor(sourceTensor).\n",
            "  X_scaled_tensor = torch.tensor(combined_X, dtype=torch.float32).unsqueeze(1)\n"
          ]
        },
        {
          "output_type": "stream",
          "name": "stdout",
          "text": [
            "     Epoch 0: Train Loss = 0.6006, Val Loss = 8.9781\n",
            "     Epoch 5: Train Loss = 0.5842, Val Loss = 12.5245\n",
            "     Epoch 10: Train Loss = 0.5802, Val Loss = 22.3744\n",
            "     Epoch 15: Train Loss = 0.5825, Val Loss = 15.1469\n",
            "     Epoch 20: Train Loss = 0.5791, Val Loss = 10.9100\n",
            "     Epoch 25: Train Loss = 0.5824, Val Loss = 11.3292\n",
            "     Epoch 30: Train Loss = 0.5771, Val Loss = 12.1090\n",
            "    ⏹️ Early stopping at epoch 32\n",
            " Run 5 finished with best val loss: 7.4580\n",
            "Original Error Percentage (Test Dataset): 4.1651%\n",
            "Corrected Error Percentage (Test Dataset): 38.0204%\n",
            " Finished configuration H=128, D=0.1, LR=0.0005, B=16 → Avg Val Loss: 8.7559, Avg Accuracy: 38.8376%\n",
            "\n",
            " Running 69/81: H=128, D=0.1, LR=0.0005, B=32\n",
            "   Run 1/5 ...      Epoch 0: Train Loss = 0.5893, Val Loss = 13.0903\n"
          ]
        },
        {
          "output_type": "stream",
          "name": "stderr",
          "text": [
            "<ipython-input-44-b273c6d16a7f>:152: UserWarning: To copy construct from a tensor, it is recommended to use sourceTensor.clone().detach() or sourceTensor.clone().detach().requires_grad_(True), rather than torch.tensor(sourceTensor).\n",
            "  X_scaled_tensor = torch.tensor(combined_X, dtype=torch.float32).unsqueeze(1)\n"
          ]
        },
        {
          "output_type": "stream",
          "name": "stdout",
          "text": [
            "     Epoch 5: Train Loss = 0.5823, Val Loss = 14.5424\n",
            "     Epoch 10: Train Loss = 0.5786, Val Loss = 13.1849\n",
            "     Epoch 15: Train Loss = 0.5800, Val Loss = 13.6332\n",
            "     Epoch 20: Train Loss = 0.5798, Val Loss = 14.5551\n",
            "     Epoch 25: Train Loss = 0.5740, Val Loss = 11.6965\n",
            "     Epoch 30: Train Loss = 0.5779, Val Loss = 13.9674\n",
            "    ⏹️ Early stopping at epoch 31\n",
            " Run 1 finished with best val loss: 11.0873\n",
            "Original Error Percentage (Test Dataset): 4.1651%\n",
            "Corrected Error Percentage (Test Dataset): 40.3021%\n",
            "   Run 2/5 ...      Epoch 0: Train Loss = 0.6037, Val Loss = 7.5506\n"
          ]
        },
        {
          "output_type": "stream",
          "name": "stderr",
          "text": [
            "<ipython-input-44-b273c6d16a7f>:152: UserWarning: To copy construct from a tensor, it is recommended to use sourceTensor.clone().detach() or sourceTensor.clone().detach().requires_grad_(True), rather than torch.tensor(sourceTensor).\n",
            "  X_scaled_tensor = torch.tensor(combined_X, dtype=torch.float32).unsqueeze(1)\n"
          ]
        },
        {
          "output_type": "stream",
          "name": "stdout",
          "text": [
            "     Epoch 5: Train Loss = 0.5788, Val Loss = 14.8727\n",
            "     Epoch 10: Train Loss = 0.5788, Val Loss = 9.1911\n",
            "     Epoch 15: Train Loss = 0.5862, Val Loss = 10.9415\n",
            "     Epoch 20: Train Loss = 0.5783, Val Loss = 19.0333\n",
            "    ⏹️ Early stopping at epoch 20\n",
            " Run 2 finished with best val loss: 7.5506\n",
            "Original Error Percentage (Test Dataset): 4.1651%\n",
            "Corrected Error Percentage (Test Dataset): 49.3601%\n",
            "   Run 3/5 ...      Epoch 0: Train Loss = 0.5900, Val Loss = 9.4904\n"
          ]
        },
        {
          "output_type": "stream",
          "name": "stderr",
          "text": [
            "<ipython-input-44-b273c6d16a7f>:152: UserWarning: To copy construct from a tensor, it is recommended to use sourceTensor.clone().detach() or sourceTensor.clone().detach().requires_grad_(True), rather than torch.tensor(sourceTensor).\n",
            "  X_scaled_tensor = torch.tensor(combined_X, dtype=torch.float32).unsqueeze(1)\n"
          ]
        },
        {
          "output_type": "stream",
          "name": "stdout",
          "text": [
            "     Epoch 5: Train Loss = 0.5784, Val Loss = 16.1491\n",
            "     Epoch 10: Train Loss = 0.5802, Val Loss = 12.2632\n",
            "     Epoch 15: Train Loss = 0.5808, Val Loss = 16.9870\n",
            "     Epoch 20: Train Loss = 0.5781, Val Loss = 14.0990\n",
            "     Epoch 25: Train Loss = 0.5782, Val Loss = 15.7204\n",
            "    ⏹️ Early stopping at epoch 26\n",
            " Run 3 finished with best val loss: 6.3977\n",
            "Original Error Percentage (Test Dataset): 4.1651%\n",
            "Corrected Error Percentage (Test Dataset): 40.5302%\n",
            "   Run 4/5 ...      Epoch 0: Train Loss = 0.5896, Val Loss = 12.0850\n"
          ]
        },
        {
          "output_type": "stream",
          "name": "stderr",
          "text": [
            "<ipython-input-44-b273c6d16a7f>:152: UserWarning: To copy construct from a tensor, it is recommended to use sourceTensor.clone().detach() or sourceTensor.clone().detach().requires_grad_(True), rather than torch.tensor(sourceTensor).\n",
            "  X_scaled_tensor = torch.tensor(combined_X, dtype=torch.float32).unsqueeze(1)\n"
          ]
        },
        {
          "output_type": "stream",
          "name": "stdout",
          "text": [
            "     Epoch 5: Train Loss = 0.5835, Val Loss = 11.6150\n",
            "     Epoch 10: Train Loss = 0.5787, Val Loss = 16.5409\n",
            "     Epoch 15: Train Loss = 0.5835, Val Loss = 14.0795\n",
            "     Epoch 20: Train Loss = 0.5775, Val Loss = 12.3154\n",
            "    ⏹️ Early stopping at epoch 24\n",
            " Run 4 finished with best val loss: 8.3528\n",
            "Original Error Percentage (Test Dataset): 4.1651%\n",
            "Corrected Error Percentage (Test Dataset): 43.7589%\n",
            "   Run 5/5 ...      Epoch 0: Train Loss = 0.6092, Val Loss = 6.2791\n"
          ]
        },
        {
          "output_type": "stream",
          "name": "stderr",
          "text": [
            "<ipython-input-44-b273c6d16a7f>:152: UserWarning: To copy construct from a tensor, it is recommended to use sourceTensor.clone().detach() or sourceTensor.clone().detach().requires_grad_(True), rather than torch.tensor(sourceTensor).\n",
            "  X_scaled_tensor = torch.tensor(combined_X, dtype=torch.float32).unsqueeze(1)\n"
          ]
        },
        {
          "output_type": "stream",
          "name": "stdout",
          "text": [
            "     Epoch 5: Train Loss = 0.5780, Val Loss = 14.4194\n",
            "     Epoch 10: Train Loss = 0.5828, Val Loss = 17.2817\n",
            "     Epoch 15: Train Loss = 0.5804, Val Loss = 12.8453\n",
            "     Epoch 20: Train Loss = 0.5764, Val Loss = 12.6327\n",
            "    ⏹️ Early stopping at epoch 20\n",
            " Run 5 finished with best val loss: 6.2791\n",
            "Original Error Percentage (Test Dataset): 4.1651%\n",
            "Corrected Error Percentage (Test Dataset): 37.6083%\n",
            " Finished configuration H=128, D=0.1, LR=0.0005, B=32 → Avg Val Loss: 7.9335, Avg Accuracy: 42.3119%\n",
            "\n",
            " Running 70/81: H=128, D=0.1, LR=0.001, B=8\n",
            "   Run 1/5 ... "
          ]
        },
        {
          "output_type": "stream",
          "name": "stderr",
          "text": [
            "<ipython-input-44-b273c6d16a7f>:152: UserWarning: To copy construct from a tensor, it is recommended to use sourceTensor.clone().detach() or sourceTensor.clone().detach().requires_grad_(True), rather than torch.tensor(sourceTensor).\n",
            "  X_scaled_tensor = torch.tensor(combined_X, dtype=torch.float32).unsqueeze(1)\n"
          ]
        },
        {
          "output_type": "stream",
          "name": "stdout",
          "text": [
            "     Epoch 0: Train Loss = 0.5968, Val Loss = 7.2055\n",
            "     Epoch 5: Train Loss = 0.5811, Val Loss = 8.0235\n",
            "     Epoch 10: Train Loss = 0.5819, Val Loss = 19.4479\n",
            "     Epoch 15: Train Loss = 0.5810, Val Loss = 12.9042\n",
            "     Epoch 20: Train Loss = 0.5772, Val Loss = 12.0734\n",
            "    ⏹️ Early stopping at epoch 20\n",
            " Run 1 finished with best val loss: 7.2055\n",
            "Original Error Percentage (Test Dataset): 4.1651%\n",
            "Corrected Error Percentage (Test Dataset): 36.3995%\n",
            "   Run 2/5 ... "
          ]
        },
        {
          "output_type": "stream",
          "name": "stderr",
          "text": [
            "<ipython-input-44-b273c6d16a7f>:152: UserWarning: To copy construct from a tensor, it is recommended to use sourceTensor.clone().detach() or sourceTensor.clone().detach().requires_grad_(True), rather than torch.tensor(sourceTensor).\n",
            "  X_scaled_tensor = torch.tensor(combined_X, dtype=torch.float32).unsqueeze(1)\n"
          ]
        },
        {
          "output_type": "stream",
          "name": "stdout",
          "text": [
            "     Epoch 0: Train Loss = 0.5960, Val Loss = 10.5988\n",
            "     Epoch 5: Train Loss = 0.5817, Val Loss = 13.9262\n",
            "     Epoch 10: Train Loss = 0.5800, Val Loss = 14.1399\n",
            "     Epoch 15: Train Loss = 0.5781, Val Loss = 21.7477\n",
            "     Epoch 20: Train Loss = 0.5776, Val Loss = 15.2238\n",
            "     Epoch 25: Train Loss = 0.5787, Val Loss = 13.7718\n",
            "     Epoch 30: Train Loss = 0.5769, Val Loss = 13.5587\n",
            "    ⏹️ Early stopping at epoch 32\n",
            " Run 2 finished with best val loss: 8.3997\n",
            "Original Error Percentage (Test Dataset): 4.1651%\n",
            "Corrected Error Percentage (Test Dataset): 50.8755%\n",
            "   Run 3/5 ... "
          ]
        },
        {
          "output_type": "stream",
          "name": "stderr",
          "text": [
            "<ipython-input-44-b273c6d16a7f>:152: UserWarning: To copy construct from a tensor, it is recommended to use sourceTensor.clone().detach() or sourceTensor.clone().detach().requires_grad_(True), rather than torch.tensor(sourceTensor).\n",
            "  X_scaled_tensor = torch.tensor(combined_X, dtype=torch.float32).unsqueeze(1)\n"
          ]
        },
        {
          "output_type": "stream",
          "name": "stdout",
          "text": [
            "     Epoch 0: Train Loss = 0.5910, Val Loss = 10.2446\n",
            "     Epoch 5: Train Loss = 0.5829, Val Loss = 9.9565\n",
            "     Epoch 10: Train Loss = 0.5792, Val Loss = 12.0242\n",
            "     Epoch 15: Train Loss = 0.5793, Val Loss = 6.6715\n",
            "     Epoch 20: Train Loss = 0.5766, Val Loss = 13.3196\n",
            "    ⏹️ Early stopping at epoch 22\n",
            " Run 3 finished with best val loss: 5.1245\n",
            "Original Error Percentage (Test Dataset): 4.1651%\n",
            "Corrected Error Percentage (Test Dataset): 41.0188%\n",
            "   Run 4/5 ... "
          ]
        },
        {
          "output_type": "stream",
          "name": "stderr",
          "text": [
            "<ipython-input-44-b273c6d16a7f>:152: UserWarning: To copy construct from a tensor, it is recommended to use sourceTensor.clone().detach() or sourceTensor.clone().detach().requires_grad_(True), rather than torch.tensor(sourceTensor).\n",
            "  X_scaled_tensor = torch.tensor(combined_X, dtype=torch.float32).unsqueeze(1)\n"
          ]
        },
        {
          "output_type": "stream",
          "name": "stdout",
          "text": [
            "     Epoch 0: Train Loss = 0.6008, Val Loss = 22.9217\n",
            "     Epoch 5: Train Loss = 0.5835, Val Loss = 9.3191\n",
            "     Epoch 10: Train Loss = 0.5805, Val Loss = 12.2236\n",
            "     Epoch 15: Train Loss = 0.5794, Val Loss = 15.5362\n",
            "     Epoch 20: Train Loss = 0.5797, Val Loss = 11.5266\n",
            "    ⏹️ Early stopping at epoch 24\n",
            " Run 4 finished with best val loss: 6.3514\n",
            "Original Error Percentage (Test Dataset): 4.1651%\n",
            "Corrected Error Percentage (Test Dataset): 42.2198%\n",
            "   Run 5/5 ... "
          ]
        },
        {
          "output_type": "stream",
          "name": "stderr",
          "text": [
            "<ipython-input-44-b273c6d16a7f>:152: UserWarning: To copy construct from a tensor, it is recommended to use sourceTensor.clone().detach() or sourceTensor.clone().detach().requires_grad_(True), rather than torch.tensor(sourceTensor).\n",
            "  X_scaled_tensor = torch.tensor(combined_X, dtype=torch.float32).unsqueeze(1)\n"
          ]
        },
        {
          "output_type": "stream",
          "name": "stdout",
          "text": [
            "     Epoch 0: Train Loss = 0.6040, Val Loss = 17.9443\n",
            "     Epoch 5: Train Loss = 0.5823, Val Loss = 12.6758\n",
            "     Epoch 10: Train Loss = 0.5802, Val Loss = 8.3565\n",
            "     Epoch 15: Train Loss = 0.5791, Val Loss = 13.6819\n",
            "     Epoch 20: Train Loss = 0.5805, Val Loss = 10.0685\n",
            "     Epoch 25: Train Loss = 0.5765, Val Loss = 14.7685\n",
            "     Epoch 30: Train Loss = 0.5769, Val Loss = 19.9453\n",
            "    ⏹️ Early stopping at epoch 32\n",
            " Run 5 finished with best val loss: 8.2202\n",
            "Original Error Percentage (Test Dataset): 4.1651%\n",
            "Corrected Error Percentage (Test Dataset): 35.6128%\n",
            " Finished configuration H=128, D=0.1, LR=0.001, B=8 → Avg Val Loss: 7.0603, Avg Accuracy: 41.2253%\n",
            "\n",
            " Running 71/81: H=128, D=0.1, LR=0.001, B=16\n",
            "   Run 1/5 ...      Epoch 0: Train Loss = 0.5892, Val Loss = 10.3501\n"
          ]
        },
        {
          "output_type": "stream",
          "name": "stderr",
          "text": [
            "<ipython-input-44-b273c6d16a7f>:152: UserWarning: To copy construct from a tensor, it is recommended to use sourceTensor.clone().detach() or sourceTensor.clone().detach().requires_grad_(True), rather than torch.tensor(sourceTensor).\n",
            "  X_scaled_tensor = torch.tensor(combined_X, dtype=torch.float32).unsqueeze(1)\n"
          ]
        },
        {
          "output_type": "stream",
          "name": "stdout",
          "text": [
            "     Epoch 5: Train Loss = 0.5834, Val Loss = 14.7368\n",
            "     Epoch 10: Train Loss = 0.5763, Val Loss = 13.2245\n",
            "     Epoch 15: Train Loss = 0.5787, Val Loss = 14.0710\n",
            "     Epoch 20: Train Loss = 0.5770, Val Loss = 12.9120\n",
            "     Epoch 25: Train Loss = 0.5780, Val Loss = 12.9386\n",
            "    ⏹️ Early stopping at epoch 26\n",
            " Run 1 finished with best val loss: 10.0062\n",
            "Original Error Percentage (Test Dataset): 4.1651%\n",
            "Corrected Error Percentage (Test Dataset): 43.1945%\n",
            "   Run 2/5 ... "
          ]
        },
        {
          "output_type": "stream",
          "name": "stderr",
          "text": [
            "<ipython-input-44-b273c6d16a7f>:152: UserWarning: To copy construct from a tensor, it is recommended to use sourceTensor.clone().detach() or sourceTensor.clone().detach().requires_grad_(True), rather than torch.tensor(sourceTensor).\n",
            "  X_scaled_tensor = torch.tensor(combined_X, dtype=torch.float32).unsqueeze(1)\n"
          ]
        },
        {
          "output_type": "stream",
          "name": "stdout",
          "text": [
            "     Epoch 0: Train Loss = 0.5855, Val Loss = 6.5450\n",
            "     Epoch 5: Train Loss = 0.5783, Val Loss = 15.5575\n",
            "     Epoch 10: Train Loss = 0.5760, Val Loss = 10.7484\n",
            "     Epoch 15: Train Loss = 0.5819, Val Loss = 12.0585\n",
            "     Epoch 20: Train Loss = 0.5774, Val Loss = 12.8535\n",
            "    ⏹️ Early stopping at epoch 20\n",
            " Run 2 finished with best val loss: 6.5450\n",
            "Original Error Percentage (Test Dataset): 4.1651%\n",
            "Corrected Error Percentage (Test Dataset): 37.9542%\n",
            "   Run 3/5 ...      Epoch 0: Train Loss = 0.5991, Val Loss = 17.0887\n"
          ]
        },
        {
          "output_type": "stream",
          "name": "stderr",
          "text": [
            "<ipython-input-44-b273c6d16a7f>:152: UserWarning: To copy construct from a tensor, it is recommended to use sourceTensor.clone().detach() or sourceTensor.clone().detach().requires_grad_(True), rather than torch.tensor(sourceTensor).\n",
            "  X_scaled_tensor = torch.tensor(combined_X, dtype=torch.float32).unsqueeze(1)\n"
          ]
        },
        {
          "output_type": "stream",
          "name": "stdout",
          "text": [
            "     Epoch 5: Train Loss = 0.5797, Val Loss = 15.3858\n",
            "     Epoch 10: Train Loss = 0.5785, Val Loss = 12.8745\n",
            "     Epoch 15: Train Loss = 0.5784, Val Loss = 16.1595\n",
            "     Epoch 20: Train Loss = 0.5793, Val Loss = 13.5068\n",
            "     Epoch 25: Train Loss = 0.5777, Val Loss = 11.5346\n",
            "    ⏹️ Early stopping at epoch 27\n",
            " Run 3 finished with best val loss: 8.1781\n",
            "Original Error Percentage (Test Dataset): 4.1651%\n",
            "Corrected Error Percentage (Test Dataset): 42.0185%\n",
            "   Run 4/5 ...      Epoch 0: Train Loss = 0.5873, Val Loss = 24.6040\n"
          ]
        },
        {
          "output_type": "stream",
          "name": "stderr",
          "text": [
            "<ipython-input-44-b273c6d16a7f>:152: UserWarning: To copy construct from a tensor, it is recommended to use sourceTensor.clone().detach() or sourceTensor.clone().detach().requires_grad_(True), rather than torch.tensor(sourceTensor).\n",
            "  X_scaled_tensor = torch.tensor(combined_X, dtype=torch.float32).unsqueeze(1)\n"
          ]
        },
        {
          "output_type": "stream",
          "name": "stdout",
          "text": [
            "     Epoch 5: Train Loss = 0.5788, Val Loss = 16.6061\n",
            "     Epoch 10: Train Loss = 0.5790, Val Loss = 13.0882\n",
            "     Epoch 15: Train Loss = 0.5789, Val Loss = 12.3097\n",
            "     Epoch 20: Train Loss = 0.5760, Val Loss = 18.4378\n",
            "     Epoch 25: Train Loss = 0.5782, Val Loss = 15.9290\n",
            "     Epoch 30: Train Loss = 0.5777, Val Loss = 17.9398\n",
            "    ⏹️ Early stopping at epoch 34\n",
            " Run 4 finished with best val loss: 9.0541\n",
            "Original Error Percentage (Test Dataset): 4.1651%\n",
            "Corrected Error Percentage (Test Dataset): 38.3692%\n",
            "   Run 5/5 ...      Epoch 0: Train Loss = 0.5953, Val Loss = 29.3187\n"
          ]
        },
        {
          "output_type": "stream",
          "name": "stderr",
          "text": [
            "<ipython-input-44-b273c6d16a7f>:152: UserWarning: To copy construct from a tensor, it is recommended to use sourceTensor.clone().detach() or sourceTensor.clone().detach().requires_grad_(True), rather than torch.tensor(sourceTensor).\n",
            "  X_scaled_tensor = torch.tensor(combined_X, dtype=torch.float32).unsqueeze(1)\n"
          ]
        },
        {
          "output_type": "stream",
          "name": "stdout",
          "text": [
            "     Epoch 5: Train Loss = 0.5811, Val Loss = 10.1264\n",
            "     Epoch 10: Train Loss = 0.5789, Val Loss = 12.5915\n",
            "     Epoch 15: Train Loss = 0.5783, Val Loss = 10.6168\n",
            "     Epoch 20: Train Loss = 0.5808, Val Loss = 17.3276\n",
            "     Epoch 25: Train Loss = 0.5786, Val Loss = 15.1854\n",
            "     Epoch 30: Train Loss = 0.5778, Val Loss = 12.5322\n",
            "     Epoch 35: Train Loss = 0.5770, Val Loss = 13.6698\n",
            "    ⏹️ Early stopping at epoch 37\n",
            " Run 5 finished with best val loss: 8.0180\n",
            "Original Error Percentage (Test Dataset): 4.1651%\n",
            "Corrected Error Percentage (Test Dataset): 40.2987%\n",
            " Finished configuration H=128, D=0.1, LR=0.001, B=16 → Avg Val Loss: 8.3603, Avg Accuracy: 40.3670%\n",
            "\n",
            " Running 72/81: H=128, D=0.1, LR=0.001, B=32\n",
            "   Run 1/5 ...      Epoch 0: Train Loss = 0.5952, Val Loss = 10.6133\n"
          ]
        },
        {
          "output_type": "stream",
          "name": "stderr",
          "text": [
            "<ipython-input-44-b273c6d16a7f>:152: UserWarning: To copy construct from a tensor, it is recommended to use sourceTensor.clone().detach() or sourceTensor.clone().detach().requires_grad_(True), rather than torch.tensor(sourceTensor).\n",
            "  X_scaled_tensor = torch.tensor(combined_X, dtype=torch.float32).unsqueeze(1)\n"
          ]
        },
        {
          "output_type": "stream",
          "name": "stdout",
          "text": [
            "     Epoch 5: Train Loss = 0.5850, Val Loss = 10.8668\n",
            "     Epoch 10: Train Loss = 0.5739, Val Loss = 14.7636\n",
            "     Epoch 15: Train Loss = 0.5832, Val Loss = 11.8222\n",
            "     Epoch 20: Train Loss = 0.5750, Val Loss = 10.7940\n",
            "     Epoch 25: Train Loss = 0.5798, Val Loss = 10.5993\n",
            "     Epoch 30: Train Loss = 0.5789, Val Loss = 12.8511\n",
            "     Epoch 35: Train Loss = 0.5743, Val Loss = 11.2169\n",
            "     Epoch 40: Train Loss = 0.5785, Val Loss = 11.8549\n",
            "    ⏹️ Early stopping at epoch 43\n",
            " Run 1 finished with best val loss: 8.5629\n",
            "Original Error Percentage (Test Dataset): 4.1651%\n",
            "Corrected Error Percentage (Test Dataset): 40.4516%\n",
            "   Run 2/5 ...      Epoch 0: Train Loss = 0.5973, Val Loss = 18.1796\n"
          ]
        },
        {
          "output_type": "stream",
          "name": "stderr",
          "text": [
            "<ipython-input-44-b273c6d16a7f>:152: UserWarning: To copy construct from a tensor, it is recommended to use sourceTensor.clone().detach() or sourceTensor.clone().detach().requires_grad_(True), rather than torch.tensor(sourceTensor).\n",
            "  X_scaled_tensor = torch.tensor(combined_X, dtype=torch.float32).unsqueeze(1)\n"
          ]
        },
        {
          "output_type": "stream",
          "name": "stdout",
          "text": [
            "     Epoch 5: Train Loss = 0.5796, Val Loss = 11.8060\n",
            "     Epoch 10: Train Loss = 0.5807, Val Loss = 14.6767\n",
            "     Epoch 15: Train Loss = 0.5776, Val Loss = 19.4020\n",
            "     Epoch 20: Train Loss = 0.5750, Val Loss = 15.5391\n",
            "     Epoch 25: Train Loss = 0.5771, Val Loss = 17.4828\n",
            "    ⏹️ Early stopping at epoch 27\n",
            " Run 2 finished with best val loss: 7.6281\n",
            "Original Error Percentage (Test Dataset): 4.1651%\n",
            "Corrected Error Percentage (Test Dataset): 39.0707%\n",
            "   Run 3/5 ... "
          ]
        },
        {
          "output_type": "stream",
          "name": "stderr",
          "text": [
            "<ipython-input-44-b273c6d16a7f>:152: UserWarning: To copy construct from a tensor, it is recommended to use sourceTensor.clone().detach() or sourceTensor.clone().detach().requires_grad_(True), rather than torch.tensor(sourceTensor).\n",
            "  X_scaled_tensor = torch.tensor(combined_X, dtype=torch.float32).unsqueeze(1)\n"
          ]
        },
        {
          "output_type": "stream",
          "name": "stdout",
          "text": [
            "     Epoch 0: Train Loss = 0.6079, Val Loss = 2.6659\n",
            "     Epoch 5: Train Loss = 0.5793, Val Loss = 13.7238\n",
            "     Epoch 10: Train Loss = 0.5867, Val Loss = 8.5713\n",
            "     Epoch 15: Train Loss = 0.5759, Val Loss = 13.6773\n",
            "     Epoch 20: Train Loss = 0.5776, Val Loss = 11.5445\n",
            "    ⏹️ Early stopping at epoch 20\n",
            " Run 3 finished with best val loss: 2.6659\n",
            "Original Error Percentage (Test Dataset): 4.1651%\n",
            "Corrected Error Percentage (Test Dataset): 34.5098%\n",
            "   Run 4/5 ...      Epoch 0: Train Loss = 0.5918, Val Loss = 7.5418\n"
          ]
        },
        {
          "output_type": "stream",
          "name": "stderr",
          "text": [
            "<ipython-input-44-b273c6d16a7f>:152: UserWarning: To copy construct from a tensor, it is recommended to use sourceTensor.clone().detach() or sourceTensor.clone().detach().requires_grad_(True), rather than torch.tensor(sourceTensor).\n",
            "  X_scaled_tensor = torch.tensor(combined_X, dtype=torch.float32).unsqueeze(1)\n"
          ]
        },
        {
          "output_type": "stream",
          "name": "stdout",
          "text": [
            "     Epoch 5: Train Loss = 0.5794, Val Loss = 13.9553\n",
            "     Epoch 10: Train Loss = 0.5800, Val Loss = 16.5265\n",
            "     Epoch 15: Train Loss = 0.5858, Val Loss = 14.6418\n",
            "     Epoch 20: Train Loss = 0.5780, Val Loss = 15.4561\n",
            "    ⏹️ Early stopping at epoch 20\n",
            " Run 4 finished with best val loss: 7.5418\n",
            "Original Error Percentage (Test Dataset): 4.1651%\n",
            "Corrected Error Percentage (Test Dataset): 42.9728%\n",
            "   Run 5/5 ...      Epoch 0: Train Loss = 0.6055, Val Loss = 10.1626\n"
          ]
        },
        {
          "output_type": "stream",
          "name": "stderr",
          "text": [
            "<ipython-input-44-b273c6d16a7f>:152: UserWarning: To copy construct from a tensor, it is recommended to use sourceTensor.clone().detach() or sourceTensor.clone().detach().requires_grad_(True), rather than torch.tensor(sourceTensor).\n",
            "  X_scaled_tensor = torch.tensor(combined_X, dtype=torch.float32).unsqueeze(1)\n"
          ]
        },
        {
          "output_type": "stream",
          "name": "stdout",
          "text": [
            "     Epoch 5: Train Loss = 0.5797, Val Loss = 9.7053\n",
            "     Epoch 10: Train Loss = 0.5779, Val Loss = 13.3210\n",
            "     Epoch 15: Train Loss = 0.5782, Val Loss = 12.7536\n",
            "     Epoch 20: Train Loss = 0.5781, Val Loss = 9.5669\n",
            "     Epoch 25: Train Loss = 0.5809, Val Loss = 9.4470\n",
            "     Epoch 30: Train Loss = 0.5800, Val Loss = 16.7897\n",
            "     Epoch 35: Train Loss = 0.5777, Val Loss = 9.0374\n",
            "    ⏹️ Early stopping at epoch 39\n",
            " Run 5 finished with best val loss: 8.7416\n",
            "Original Error Percentage (Test Dataset): 4.1651%\n",
            "Corrected Error Percentage (Test Dataset): 34.5741%\n",
            " Finished configuration H=128, D=0.1, LR=0.001, B=32 → Avg Val Loss: 7.0281, Avg Accuracy: 38.3158%\n",
            "\n",
            " Running 73/81: H=128, D=0.2, LR=0.0001, B=8\n",
            "   Run 1/5 ... "
          ]
        },
        {
          "output_type": "stream",
          "name": "stderr",
          "text": [
            "<ipython-input-44-b273c6d16a7f>:152: UserWarning: To copy construct from a tensor, it is recommended to use sourceTensor.clone().detach() or sourceTensor.clone().detach().requires_grad_(True), rather than torch.tensor(sourceTensor).\n",
            "  X_scaled_tensor = torch.tensor(combined_X, dtype=torch.float32).unsqueeze(1)\n"
          ]
        },
        {
          "output_type": "stream",
          "name": "stdout",
          "text": [
            "     Epoch 0: Train Loss = 0.6320, Val Loss = 2.1311\n",
            "     Epoch 5: Train Loss = 0.5863, Val Loss = 7.5820\n",
            "     Epoch 10: Train Loss = 0.5794, Val Loss = 11.3753\n",
            "     Epoch 15: Train Loss = 0.5806, Val Loss = 12.2071\n",
            "     Epoch 20: Train Loss = 0.5803, Val Loss = 12.5224\n",
            "    ⏹️ Early stopping at epoch 20\n",
            " Run 1 finished with best val loss: 2.1311\n",
            "Original Error Percentage (Test Dataset): 4.1651%\n",
            "Corrected Error Percentage (Test Dataset): 36.2592%\n",
            "   Run 2/5 ... "
          ]
        },
        {
          "output_type": "stream",
          "name": "stderr",
          "text": [
            "<ipython-input-44-b273c6d16a7f>:152: UserWarning: To copy construct from a tensor, it is recommended to use sourceTensor.clone().detach() or sourceTensor.clone().detach().requires_grad_(True), rather than torch.tensor(sourceTensor).\n",
            "  X_scaled_tensor = torch.tensor(combined_X, dtype=torch.float32).unsqueeze(1)\n"
          ]
        },
        {
          "output_type": "stream",
          "name": "stdout",
          "text": [
            "     Epoch 0: Train Loss = 0.5960, Val Loss = 2.9958\n",
            "     Epoch 5: Train Loss = 0.5855, Val Loss = 9.4740\n",
            "     Epoch 10: Train Loss = 0.5818, Val Loss = 14.2093\n",
            "     Epoch 15: Train Loss = 0.5817, Val Loss = 13.2632\n",
            "     Epoch 20: Train Loss = 0.5774, Val Loss = 14.0834\n",
            "    ⏹️ Early stopping at epoch 20\n",
            " Run 2 finished with best val loss: 2.9958\n",
            "Original Error Percentage (Test Dataset): 4.1651%\n",
            "Corrected Error Percentage (Test Dataset): 39.7939%\n",
            "   Run 3/5 ... "
          ]
        },
        {
          "output_type": "stream",
          "name": "stderr",
          "text": [
            "<ipython-input-44-b273c6d16a7f>:152: UserWarning: To copy construct from a tensor, it is recommended to use sourceTensor.clone().detach() or sourceTensor.clone().detach().requires_grad_(True), rather than torch.tensor(sourceTensor).\n",
            "  X_scaled_tensor = torch.tensor(combined_X, dtype=torch.float32).unsqueeze(1)\n"
          ]
        },
        {
          "output_type": "stream",
          "name": "stdout",
          "text": [
            "     Epoch 0: Train Loss = 0.6200, Val Loss = 2.2337\n",
            "     Epoch 5: Train Loss = 0.5808, Val Loss = 9.7341\n",
            "     Epoch 10: Train Loss = 0.5872, Val Loss = 13.5126\n",
            "     Epoch 15: Train Loss = 0.5798, Val Loss = 14.3337\n",
            "     Epoch 20: Train Loss = 0.5822, Val Loss = 11.3231\n",
            "    ⏹️ Early stopping at epoch 20\n",
            " Run 3 finished with best val loss: 2.2337\n",
            "Original Error Percentage (Test Dataset): 4.1651%\n",
            "Corrected Error Percentage (Test Dataset): 34.2651%\n",
            "   Run 4/5 ... "
          ]
        },
        {
          "output_type": "stream",
          "name": "stderr",
          "text": [
            "<ipython-input-44-b273c6d16a7f>:152: UserWarning: To copy construct from a tensor, it is recommended to use sourceTensor.clone().detach() or sourceTensor.clone().detach().requires_grad_(True), rather than torch.tensor(sourceTensor).\n",
            "  X_scaled_tensor = torch.tensor(combined_X, dtype=torch.float32).unsqueeze(1)\n"
          ]
        },
        {
          "output_type": "stream",
          "name": "stdout",
          "text": [
            "     Epoch 0: Train Loss = 0.6039, Val Loss = 4.6468\n",
            "     Epoch 5: Train Loss = 0.5810, Val Loss = 12.2043\n",
            "     Epoch 10: Train Loss = 0.5834, Val Loss = 18.0259\n",
            "     Epoch 15: Train Loss = 0.5808, Val Loss = 13.2854\n",
            "     Epoch 20: Train Loss = 0.5819, Val Loss = 12.1985\n",
            "    ⏹️ Early stopping at epoch 20\n",
            " Run 4 finished with best val loss: 4.6468\n",
            "Original Error Percentage (Test Dataset): 4.1651%\n",
            "Corrected Error Percentage (Test Dataset): 35.9953%\n",
            "   Run 5/5 ... "
          ]
        },
        {
          "output_type": "stream",
          "name": "stderr",
          "text": [
            "<ipython-input-44-b273c6d16a7f>:152: UserWarning: To copy construct from a tensor, it is recommended to use sourceTensor.clone().detach() or sourceTensor.clone().detach().requires_grad_(True), rather than torch.tensor(sourceTensor).\n",
            "  X_scaled_tensor = torch.tensor(combined_X, dtype=torch.float32).unsqueeze(1)\n"
          ]
        },
        {
          "output_type": "stream",
          "name": "stdout",
          "text": [
            "     Epoch 0: Train Loss = 0.5922, Val Loss = 3.5194\n",
            "     Epoch 5: Train Loss = 0.5808, Val Loss = 11.5012\n",
            "     Epoch 10: Train Loss = 0.5783, Val Loss = 13.5160\n",
            "     Epoch 15: Train Loss = 0.5798, Val Loss = 12.8169\n",
            "     Epoch 20: Train Loss = 0.5767, Val Loss = 13.0079\n",
            "    ⏹️ Early stopping at epoch 20\n",
            " Run 5 finished with best val loss: 3.5194\n",
            "Original Error Percentage (Test Dataset): 4.1651%\n",
            "Corrected Error Percentage (Test Dataset): 37.9952%\n",
            " Finished configuration H=128, D=0.2, LR=0.0001, B=8 → Avg Val Loss: 3.1054, Avg Accuracy: 36.8617%\n",
            "\n",
            " Running 74/81: H=128, D=0.2, LR=0.0001, B=16\n",
            "   Run 1/5 ...      Epoch 0: Train Loss = 0.6121, Val Loss = 2.4068\n"
          ]
        },
        {
          "output_type": "stream",
          "name": "stderr",
          "text": [
            "<ipython-input-44-b273c6d16a7f>:152: UserWarning: To copy construct from a tensor, it is recommended to use sourceTensor.clone().detach() or sourceTensor.clone().detach().requires_grad_(True), rather than torch.tensor(sourceTensor).\n",
            "  X_scaled_tensor = torch.tensor(combined_X, dtype=torch.float32).unsqueeze(1)\n"
          ]
        },
        {
          "output_type": "stream",
          "name": "stdout",
          "text": [
            "     Epoch 5: Train Loss = 0.5887, Val Loss = 8.8763\n",
            "     Epoch 10: Train Loss = 0.5834, Val Loss = 13.4976\n",
            "     Epoch 15: Train Loss = 0.5804, Val Loss = 13.1526\n",
            "     Epoch 20: Train Loss = 0.5831, Val Loss = 12.0375\n",
            "    ⏹️ Early stopping at epoch 20\n",
            " Run 1 finished with best val loss: 2.4068\n",
            "Original Error Percentage (Test Dataset): 4.1651%\n",
            "Corrected Error Percentage (Test Dataset): 35.2543%\n",
            "   Run 2/5 ...      Epoch 0: Train Loss = 0.6081, Val Loss = 2.7840\n"
          ]
        },
        {
          "output_type": "stream",
          "name": "stderr",
          "text": [
            "<ipython-input-44-b273c6d16a7f>:152: UserWarning: To copy construct from a tensor, it is recommended to use sourceTensor.clone().detach() or sourceTensor.clone().detach().requires_grad_(True), rather than torch.tensor(sourceTensor).\n",
            "  X_scaled_tensor = torch.tensor(combined_X, dtype=torch.float32).unsqueeze(1)\n"
          ]
        },
        {
          "output_type": "stream",
          "name": "stdout",
          "text": [
            "     Epoch 5: Train Loss = 0.5764, Val Loss = 9.8237\n",
            "     Epoch 10: Train Loss = 0.5841, Val Loss = 12.3542\n",
            "     Epoch 15: Train Loss = 0.5859, Val Loss = 13.3241\n",
            "     Epoch 20: Train Loss = 0.5764, Val Loss = 12.9908\n",
            "    ⏹️ Early stopping at epoch 20\n",
            " Run 2 finished with best val loss: 2.7840\n",
            "Original Error Percentage (Test Dataset): 4.1651%\n",
            "Corrected Error Percentage (Test Dataset): 38.3245%\n",
            "   Run 3/5 ...      Epoch 0: Train Loss = 0.6031, Val Loss = 2.8938\n"
          ]
        },
        {
          "output_type": "stream",
          "name": "stderr",
          "text": [
            "<ipython-input-44-b273c6d16a7f>:152: UserWarning: To copy construct from a tensor, it is recommended to use sourceTensor.clone().detach() or sourceTensor.clone().detach().requires_grad_(True), rather than torch.tensor(sourceTensor).\n",
            "  X_scaled_tensor = torch.tensor(combined_X, dtype=torch.float32).unsqueeze(1)\n"
          ]
        },
        {
          "output_type": "stream",
          "name": "stdout",
          "text": [
            "     Epoch 5: Train Loss = 0.5898, Val Loss = 10.4030\n",
            "     Epoch 10: Train Loss = 0.5875, Val Loss = 14.0758\n",
            "     Epoch 15: Train Loss = 0.5806, Val Loss = 16.6866\n",
            "     Epoch 20: Train Loss = 0.5805, Val Loss = 14.9720\n",
            "    ⏹️ Early stopping at epoch 20\n",
            " Run 3 finished with best val loss: 2.8938\n",
            "Original Error Percentage (Test Dataset): 4.1651%\n",
            "Corrected Error Percentage (Test Dataset): 42.7656%\n",
            "   Run 4/5 ...      Epoch 0: Train Loss = 0.6291, Val Loss = 4.4407\n"
          ]
        },
        {
          "output_type": "stream",
          "name": "stderr",
          "text": [
            "<ipython-input-44-b273c6d16a7f>:152: UserWarning: To copy construct from a tensor, it is recommended to use sourceTensor.clone().detach() or sourceTensor.clone().detach().requires_grad_(True), rather than torch.tensor(sourceTensor).\n",
            "  X_scaled_tensor = torch.tensor(combined_X, dtype=torch.float32).unsqueeze(1)\n"
          ]
        },
        {
          "output_type": "stream",
          "name": "stdout",
          "text": [
            "     Epoch 5: Train Loss = 0.5858, Val Loss = 10.8027\n",
            "     Epoch 10: Train Loss = 0.5886, Val Loss = 13.7689\n",
            "     Epoch 15: Train Loss = 0.5841, Val Loss = 15.9682\n",
            "     Epoch 20: Train Loss = 0.5779, Val Loss = 14.9804\n",
            "    ⏹️ Early stopping at epoch 20\n",
            " Run 4 finished with best val loss: 4.4407\n",
            "Original Error Percentage (Test Dataset): 4.1651%\n",
            "Corrected Error Percentage (Test Dataset): 42.6900%\n",
            "   Run 5/5 ...      Epoch 0: Train Loss = 0.5980, Val Loss = 4.3440\n"
          ]
        },
        {
          "output_type": "stream",
          "name": "stderr",
          "text": [
            "<ipython-input-44-b273c6d16a7f>:152: UserWarning: To copy construct from a tensor, it is recommended to use sourceTensor.clone().detach() or sourceTensor.clone().detach().requires_grad_(True), rather than torch.tensor(sourceTensor).\n",
            "  X_scaled_tensor = torch.tensor(combined_X, dtype=torch.float32).unsqueeze(1)\n"
          ]
        },
        {
          "output_type": "stream",
          "name": "stdout",
          "text": [
            "     Epoch 5: Train Loss = 0.5861, Val Loss = 10.9154\n",
            "     Epoch 10: Train Loss = 0.5888, Val Loss = 13.5350\n",
            "     Epoch 15: Train Loss = 0.5767, Val Loss = 16.9402\n",
            "     Epoch 20: Train Loss = 0.5808, Val Loss = 15.9395\n",
            "    ⏹️ Early stopping at epoch 20\n",
            " Run 5 finished with best val loss: 4.3440\n",
            "Original Error Percentage (Test Dataset): 4.1651%\n",
            "Corrected Error Percentage (Test Dataset): 44.0429%\n",
            " Finished configuration H=128, D=0.2, LR=0.0001, B=16 → Avg Val Loss: 3.3739, Avg Accuracy: 40.6154%\n",
            "\n",
            " Running 75/81: H=128, D=0.2, LR=0.0001, B=32\n",
            "   Run 1/5 ...      Epoch 0: Train Loss = 0.6124, Val Loss = 1.9482\n"
          ]
        },
        {
          "output_type": "stream",
          "name": "stderr",
          "text": [
            "<ipython-input-44-b273c6d16a7f>:152: UserWarning: To copy construct from a tensor, it is recommended to use sourceTensor.clone().detach() or sourceTensor.clone().detach().requires_grad_(True), rather than torch.tensor(sourceTensor).\n",
            "  X_scaled_tensor = torch.tensor(combined_X, dtype=torch.float32).unsqueeze(1)\n"
          ]
        },
        {
          "output_type": "stream",
          "name": "stdout",
          "text": [
            "     Epoch 5: Train Loss = 0.5812, Val Loss = 7.5678\n",
            "     Epoch 10: Train Loss = 0.5824, Val Loss = 13.8454\n",
            "     Epoch 15: Train Loss = 0.5786, Val Loss = 15.9621\n",
            "     Epoch 20: Train Loss = 0.5793, Val Loss = 15.3823\n",
            "    ⏹️ Early stopping at epoch 20\n",
            " Run 1 finished with best val loss: 1.9482\n",
            "Original Error Percentage (Test Dataset): 4.1651%\n",
            "Corrected Error Percentage (Test Dataset): 43.5646%\n",
            "   Run 2/5 ...      Epoch 0: Train Loss = 0.6000, Val Loss = 3.5666\n"
          ]
        },
        {
          "output_type": "stream",
          "name": "stderr",
          "text": [
            "<ipython-input-44-b273c6d16a7f>:152: UserWarning: To copy construct from a tensor, it is recommended to use sourceTensor.clone().detach() or sourceTensor.clone().detach().requires_grad_(True), rather than torch.tensor(sourceTensor).\n",
            "  X_scaled_tensor = torch.tensor(combined_X, dtype=torch.float32).unsqueeze(1)\n"
          ]
        },
        {
          "output_type": "stream",
          "name": "stdout",
          "text": [
            "     Epoch 5: Train Loss = 0.5852, Val Loss = 6.3730\n",
            "     Epoch 10: Train Loss = 0.5786, Val Loss = 9.0809\n",
            "     Epoch 15: Train Loss = 0.5789, Val Loss = 11.4129\n",
            "     Epoch 20: Train Loss = 0.5838, Val Loss = 11.4180\n",
            "    ⏹️ Early stopping at epoch 20\n",
            " Run 2 finished with best val loss: 3.5666\n",
            "Original Error Percentage (Test Dataset): 4.1651%\n",
            "Corrected Error Percentage (Test Dataset): 34.3110%\n",
            "   Run 3/5 ...      Epoch 0: Train Loss = 0.6105, Val Loss = 2.8099\n"
          ]
        },
        {
          "output_type": "stream",
          "name": "stderr",
          "text": [
            "<ipython-input-44-b273c6d16a7f>:152: UserWarning: To copy construct from a tensor, it is recommended to use sourceTensor.clone().detach() or sourceTensor.clone().detach().requires_grad_(True), rather than torch.tensor(sourceTensor).\n",
            "  X_scaled_tensor = torch.tensor(combined_X, dtype=torch.float32).unsqueeze(1)\n"
          ]
        },
        {
          "output_type": "stream",
          "name": "stdout",
          "text": [
            "     Epoch 5: Train Loss = 0.5875, Val Loss = 9.7151\n",
            "     Epoch 10: Train Loss = 0.5880, Val Loss = 12.2848\n",
            "     Epoch 15: Train Loss = 0.5835, Val Loss = 15.4153\n",
            "     Epoch 20: Train Loss = 0.5798, Val Loss = 16.4433\n",
            "    ⏹️ Early stopping at epoch 20\n",
            " Run 3 finished with best val loss: 2.8099\n",
            "Original Error Percentage (Test Dataset): 4.1651%\n",
            "Corrected Error Percentage (Test Dataset): 45.1937%\n",
            "   Run 4/5 ...      Epoch 0: Train Loss = 0.6129, Val Loss = 1.9606\n"
          ]
        },
        {
          "output_type": "stream",
          "name": "stderr",
          "text": [
            "<ipython-input-44-b273c6d16a7f>:152: UserWarning: To copy construct from a tensor, it is recommended to use sourceTensor.clone().detach() or sourceTensor.clone().detach().requires_grad_(True), rather than torch.tensor(sourceTensor).\n",
            "  X_scaled_tensor = torch.tensor(combined_X, dtype=torch.float32).unsqueeze(1)\n"
          ]
        },
        {
          "output_type": "stream",
          "name": "stdout",
          "text": [
            "     Epoch 5: Train Loss = 0.5828, Val Loss = 5.3059\n",
            "     Epoch 10: Train Loss = 0.5836, Val Loss = 8.4550\n",
            "     Epoch 15: Train Loss = 0.5875, Val Loss = 10.3468\n",
            "     Epoch 20: Train Loss = 0.5841, Val Loss = 10.6292\n",
            "    ⏹️ Early stopping at epoch 20\n",
            " Run 4 finished with best val loss: 1.9606\n",
            "Original Error Percentage (Test Dataset): 4.1651%\n",
            "Corrected Error Percentage (Test Dataset): 32.2057%\n",
            "   Run 5/5 ...      Epoch 0: Train Loss = 0.6376, Val Loss = 1.8271\n"
          ]
        },
        {
          "output_type": "stream",
          "name": "stderr",
          "text": [
            "<ipython-input-44-b273c6d16a7f>:152: UserWarning: To copy construct from a tensor, it is recommended to use sourceTensor.clone().detach() or sourceTensor.clone().detach().requires_grad_(True), rather than torch.tensor(sourceTensor).\n",
            "  X_scaled_tensor = torch.tensor(combined_X, dtype=torch.float32).unsqueeze(1)\n"
          ]
        },
        {
          "output_type": "stream",
          "name": "stdout",
          "text": [
            "     Epoch 5: Train Loss = 0.5889, Val Loss = 6.2851\n",
            "     Epoch 10: Train Loss = 0.5843, Val Loss = 10.4865\n",
            "     Epoch 15: Train Loss = 0.5810, Val Loss = 11.7363\n",
            "     Epoch 20: Train Loss = 0.5840, Val Loss = 13.4836\n",
            "    ⏹️ Early stopping at epoch 20\n",
            " Run 5 finished with best val loss: 1.8271\n",
            "Original Error Percentage (Test Dataset): 4.1651%\n",
            "Corrected Error Percentage (Test Dataset): 38.9967%\n",
            " Finished configuration H=128, D=0.2, LR=0.0001, B=32 → Avg Val Loss: 2.4225, Avg Accuracy: 38.8543%\n",
            "\n",
            " Running 76/81: H=128, D=0.2, LR=0.0005, B=8\n",
            "   Run 1/5 ... "
          ]
        },
        {
          "output_type": "stream",
          "name": "stderr",
          "text": [
            "<ipython-input-44-b273c6d16a7f>:152: UserWarning: To copy construct from a tensor, it is recommended to use sourceTensor.clone().detach() or sourceTensor.clone().detach().requires_grad_(True), rather than torch.tensor(sourceTensor).\n",
            "  X_scaled_tensor = torch.tensor(combined_X, dtype=torch.float32).unsqueeze(1)\n"
          ]
        },
        {
          "output_type": "stream",
          "name": "stdout",
          "text": [
            "     Epoch 0: Train Loss = 0.5900, Val Loss = 7.4845\n",
            "     Epoch 5: Train Loss = 0.5828, Val Loss = 7.0401\n",
            "     Epoch 10: Train Loss = 0.5809, Val Loss = 10.5547\n",
            "     Epoch 15: Train Loss = 0.5747, Val Loss = 12.7815\n",
            "     Epoch 20: Train Loss = 0.5843, Val Loss = 7.6059\n",
            "     Epoch 25: Train Loss = 0.5812, Val Loss = 9.4699\n",
            "    ⏹️ Early stopping at epoch 25\n",
            " Run 1 finished with best val loss: 7.0401\n",
            "Original Error Percentage (Test Dataset): 4.1651%\n",
            "Corrected Error Percentage (Test Dataset): 30.0667%\n",
            "   Run 2/5 ... "
          ]
        },
        {
          "output_type": "stream",
          "name": "stderr",
          "text": [
            "<ipython-input-44-b273c6d16a7f>:152: UserWarning: To copy construct from a tensor, it is recommended to use sourceTensor.clone().detach() or sourceTensor.clone().detach().requires_grad_(True), rather than torch.tensor(sourceTensor).\n",
            "  X_scaled_tensor = torch.tensor(combined_X, dtype=torch.float32).unsqueeze(1)\n"
          ]
        },
        {
          "output_type": "stream",
          "name": "stdout",
          "text": [
            "     Epoch 0: Train Loss = 0.6060, Val Loss = 15.0984\n",
            "     Epoch 5: Train Loss = 0.5787, Val Loss = 13.6472\n",
            "     Epoch 10: Train Loss = 0.5803, Val Loss = 11.3292\n",
            "     Epoch 15: Train Loss = 0.5776, Val Loss = 8.1676\n",
            "     Epoch 20: Train Loss = 0.5775, Val Loss = 12.1356\n",
            "     Epoch 25: Train Loss = 0.5752, Val Loss = 10.2958\n",
            "     Epoch 30: Train Loss = 0.5785, Val Loss = 12.6884\n",
            "     Epoch 35: Train Loss = 0.5782, Val Loss = 12.9089\n",
            "    ⏹️ Early stopping at epoch 35\n",
            " Run 2 finished with best val loss: 8.1676\n",
            "Original Error Percentage (Test Dataset): 4.1651%\n",
            "Corrected Error Percentage (Test Dataset): 38.4642%\n",
            "   Run 3/5 ... "
          ]
        },
        {
          "output_type": "stream",
          "name": "stderr",
          "text": [
            "<ipython-input-44-b273c6d16a7f>:152: UserWarning: To copy construct from a tensor, it is recommended to use sourceTensor.clone().detach() or sourceTensor.clone().detach().requires_grad_(True), rather than torch.tensor(sourceTensor).\n",
            "  X_scaled_tensor = torch.tensor(combined_X, dtype=torch.float32).unsqueeze(1)\n"
          ]
        },
        {
          "output_type": "stream",
          "name": "stdout",
          "text": [
            "     Epoch 0: Train Loss = 0.5977, Val Loss = 19.9822\n",
            "     Epoch 5: Train Loss = 0.5852, Val Loss = 11.5775\n",
            "     Epoch 10: Train Loss = 0.5785, Val Loss = 9.7665\n",
            "     Epoch 15: Train Loss = 0.5792, Val Loss = 18.2068\n",
            "     Epoch 20: Train Loss = 0.5809, Val Loss = 12.2186\n",
            "     Epoch 25: Train Loss = 0.5787, Val Loss = 11.5942\n",
            "     Epoch 30: Train Loss = 0.5775, Val Loss = 13.9103\n",
            "    ⏹️ Early stopping at epoch 30\n",
            " Run 3 finished with best val loss: 9.7665\n",
            "Original Error Percentage (Test Dataset): 4.1651%\n",
            "Corrected Error Percentage (Test Dataset): 40.5883%\n",
            "   Run 4/5 ... "
          ]
        },
        {
          "output_type": "stream",
          "name": "stderr",
          "text": [
            "<ipython-input-44-b273c6d16a7f>:152: UserWarning: To copy construct from a tensor, it is recommended to use sourceTensor.clone().detach() or sourceTensor.clone().detach().requires_grad_(True), rather than torch.tensor(sourceTensor).\n",
            "  X_scaled_tensor = torch.tensor(combined_X, dtype=torch.float32).unsqueeze(1)\n"
          ]
        },
        {
          "output_type": "stream",
          "name": "stdout",
          "text": [
            "     Epoch 0: Train Loss = 0.5945, Val Loss = 13.4134\n",
            "     Epoch 5: Train Loss = 0.5793, Val Loss = 9.5696\n",
            "     Epoch 10: Train Loss = 0.5791, Val Loss = 14.6299\n",
            "     Epoch 15: Train Loss = 0.5820, Val Loss = 10.9310\n",
            "     Epoch 20: Train Loss = 0.5780, Val Loss = 9.6689\n",
            "    ⏹️ Early stopping at epoch 21\n",
            " Run 4 finished with best val loss: 9.3151\n",
            "Original Error Percentage (Test Dataset): 4.1651%\n",
            "Corrected Error Percentage (Test Dataset): 38.1170%\n",
            "   Run 5/5 ... "
          ]
        },
        {
          "output_type": "stream",
          "name": "stderr",
          "text": [
            "<ipython-input-44-b273c6d16a7f>:152: UserWarning: To copy construct from a tensor, it is recommended to use sourceTensor.clone().detach() or sourceTensor.clone().detach().requires_grad_(True), rather than torch.tensor(sourceTensor).\n",
            "  X_scaled_tensor = torch.tensor(combined_X, dtype=torch.float32).unsqueeze(1)\n"
          ]
        },
        {
          "output_type": "stream",
          "name": "stdout",
          "text": [
            "     Epoch 0: Train Loss = 0.5937, Val Loss = 12.7418\n",
            "     Epoch 5: Train Loss = 0.5869, Val Loss = 9.9204\n",
            "     Epoch 10: Train Loss = 0.5814, Val Loss = 10.9912\n",
            "     Epoch 15: Train Loss = 0.5786, Val Loss = 12.5026\n",
            "     Epoch 20: Train Loss = 0.5802, Val Loss = 12.2573\n",
            "     Epoch 25: Train Loss = 0.5789, Val Loss = 11.1983\n",
            "    ⏹️ Early stopping at epoch 27\n",
            " Run 5 finished with best val loss: 7.0865\n",
            "Original Error Percentage (Test Dataset): 4.1651%\n",
            "Corrected Error Percentage (Test Dataset): 37.7101%\n",
            " Finished configuration H=128, D=0.2, LR=0.0005, B=8 → Avg Val Loss: 8.2752, Avg Accuracy: 36.9893%\n",
            "\n",
            " Running 77/81: H=128, D=0.2, LR=0.0005, B=16\n",
            "   Run 1/5 ...      Epoch 0: Train Loss = 0.6027, Val Loss = 7.3191\n"
          ]
        },
        {
          "output_type": "stream",
          "name": "stderr",
          "text": [
            "<ipython-input-44-b273c6d16a7f>:152: UserWarning: To copy construct from a tensor, it is recommended to use sourceTensor.clone().detach() or sourceTensor.clone().detach().requires_grad_(True), rather than torch.tensor(sourceTensor).\n",
            "  X_scaled_tensor = torch.tensor(combined_X, dtype=torch.float32).unsqueeze(1)\n"
          ]
        },
        {
          "output_type": "stream",
          "name": "stdout",
          "text": [
            "     Epoch 5: Train Loss = 0.5767, Val Loss = 14.1857\n",
            "     Epoch 10: Train Loss = 0.5834, Val Loss = 13.7749\n",
            "     Epoch 15: Train Loss = 0.5810, Val Loss = 11.4663\n",
            "     Epoch 20: Train Loss = 0.5786, Val Loss = 15.6146\n",
            "    ⏹️ Early stopping at epoch 20\n",
            " Run 1 finished with best val loss: 7.3191\n",
            "Original Error Percentage (Test Dataset): 4.1651%\n",
            "Corrected Error Percentage (Test Dataset): 43.7513%\n",
            "   Run 2/5 ...      Epoch 0: Train Loss = 0.5867, Val Loss = 11.3537\n"
          ]
        },
        {
          "output_type": "stream",
          "name": "stderr",
          "text": [
            "<ipython-input-44-b273c6d16a7f>:152: UserWarning: To copy construct from a tensor, it is recommended to use sourceTensor.clone().detach() or sourceTensor.clone().detach().requires_grad_(True), rather than torch.tensor(sourceTensor).\n",
            "  X_scaled_tensor = torch.tensor(combined_X, dtype=torch.float32).unsqueeze(1)\n"
          ]
        },
        {
          "output_type": "stream",
          "name": "stdout",
          "text": [
            "     Epoch 5: Train Loss = 0.5780, Val Loss = 12.8293\n",
            "     Epoch 10: Train Loss = 0.5820, Val Loss = 13.8626\n",
            "     Epoch 15: Train Loss = 0.5793, Val Loss = 15.9873\n",
            "     Epoch 20: Train Loss = 0.5797, Val Loss = 12.3101\n",
            "    ⏹️ Early stopping at epoch 20\n",
            " Run 2 finished with best val loss: 11.3537\n",
            "Original Error Percentage (Test Dataset): 4.1651%\n",
            "Corrected Error Percentage (Test Dataset): 37.1229%\n",
            "   Run 3/5 ...      Epoch 0: Train Loss = 0.5985, Val Loss = 7.6495\n"
          ]
        },
        {
          "output_type": "stream",
          "name": "stderr",
          "text": [
            "<ipython-input-44-b273c6d16a7f>:152: UserWarning: To copy construct from a tensor, it is recommended to use sourceTensor.clone().detach() or sourceTensor.clone().detach().requires_grad_(True), rather than torch.tensor(sourceTensor).\n",
            "  X_scaled_tensor = torch.tensor(combined_X, dtype=torch.float32).unsqueeze(1)\n"
          ]
        },
        {
          "output_type": "stream",
          "name": "stdout",
          "text": [
            "     Epoch 5: Train Loss = 0.5805, Val Loss = 13.5281\n",
            "     Epoch 10: Train Loss = 0.5806, Val Loss = 11.9670\n",
            "     Epoch 15: Train Loss = 0.5822, Val Loss = 12.0098\n",
            "     Epoch 20: Train Loss = 0.5775, Val Loss = 13.0159\n",
            "    ⏹️ Early stopping at epoch 20\n",
            " Run 3 finished with best val loss: 7.6495\n",
            "Original Error Percentage (Test Dataset): 4.1651%\n",
            "Corrected Error Percentage (Test Dataset): 38.4971%\n",
            "   Run 4/5 ...      Epoch 0: Train Loss = 0.5953, Val Loss = 8.8925\n"
          ]
        },
        {
          "output_type": "stream",
          "name": "stderr",
          "text": [
            "<ipython-input-44-b273c6d16a7f>:152: UserWarning: To copy construct from a tensor, it is recommended to use sourceTensor.clone().detach() or sourceTensor.clone().detach().requires_grad_(True), rather than torch.tensor(sourceTensor).\n",
            "  X_scaled_tensor = torch.tensor(combined_X, dtype=torch.float32).unsqueeze(1)\n"
          ]
        },
        {
          "output_type": "stream",
          "name": "stdout",
          "text": [
            "     Epoch 5: Train Loss = 0.5889, Val Loss = 10.0856\n",
            "     Epoch 10: Train Loss = 0.5812, Val Loss = 7.0610\n",
            "     Epoch 15: Train Loss = 0.5787, Val Loss = 10.2909\n",
            "     Epoch 20: Train Loss = 0.5799, Val Loss = 9.4171\n",
            "     Epoch 25: Train Loss = 0.5806, Val Loss = 10.4100\n",
            "     Epoch 30: Train Loss = 0.5834, Val Loss = 12.6080\n",
            "    ⏹️ Early stopping at epoch 30\n",
            " Run 4 finished with best val loss: 7.0610\n",
            "Original Error Percentage (Test Dataset): 4.1651%\n",
            "Corrected Error Percentage (Test Dataset): 37.8073%\n",
            "   Run 5/5 ...      Epoch 0: Train Loss = 0.5966, Val Loss = 11.2791\n"
          ]
        },
        {
          "output_type": "stream",
          "name": "stderr",
          "text": [
            "<ipython-input-44-b273c6d16a7f>:152: UserWarning: To copy construct from a tensor, it is recommended to use sourceTensor.clone().detach() or sourceTensor.clone().detach().requires_grad_(True), rather than torch.tensor(sourceTensor).\n",
            "  X_scaled_tensor = torch.tensor(combined_X, dtype=torch.float32).unsqueeze(1)\n"
          ]
        },
        {
          "output_type": "stream",
          "name": "stdout",
          "text": [
            "     Epoch 5: Train Loss = 0.5871, Val Loss = 15.2852\n",
            "     Epoch 10: Train Loss = 0.5826, Val Loss = 11.9590\n",
            "     Epoch 15: Train Loss = 0.5826, Val Loss = 12.3758\n",
            "     Epoch 20: Train Loss = 0.5826, Val Loss = 9.7075\n",
            "    ⏹️ Early stopping at epoch 21\n",
            " Run 5 finished with best val loss: 9.4899\n",
            "Original Error Percentage (Test Dataset): 4.1651%\n",
            "Corrected Error Percentage (Test Dataset): 36.8368%\n",
            " Finished configuration H=128, D=0.2, LR=0.0005, B=16 → Avg Val Loss: 8.5746, Avg Accuracy: 38.8031%\n",
            "\n",
            " Running 78/81: H=128, D=0.2, LR=0.0005, B=32\n",
            "   Run 1/5 ...      Epoch 0: Train Loss = 0.5950, Val Loss = 15.2104\n"
          ]
        },
        {
          "output_type": "stream",
          "name": "stderr",
          "text": [
            "<ipython-input-44-b273c6d16a7f>:152: UserWarning: To copy construct from a tensor, it is recommended to use sourceTensor.clone().detach() or sourceTensor.clone().detach().requires_grad_(True), rather than torch.tensor(sourceTensor).\n",
            "  X_scaled_tensor = torch.tensor(combined_X, dtype=torch.float32).unsqueeze(1)\n"
          ]
        },
        {
          "output_type": "stream",
          "name": "stdout",
          "text": [
            "     Epoch 5: Train Loss = 0.5817, Val Loss = 18.3359\n",
            "     Epoch 10: Train Loss = 0.5831, Val Loss = 11.2907\n",
            "     Epoch 15: Train Loss = 0.5801, Val Loss = 10.0351\n",
            "     Epoch 20: Train Loss = 0.5757, Val Loss = 12.6466\n",
            "     Epoch 25: Train Loss = 0.5792, Val Loss = 12.6529\n",
            "     Epoch 30: Train Loss = 0.5803, Val Loss = 13.0757\n",
            "     Epoch 35: Train Loss = 0.5776, Val Loss = 12.9305\n",
            "    ⏹️ Early stopping at epoch 35\n",
            " Run 1 finished with best val loss: 10.0351\n",
            "Original Error Percentage (Test Dataset): 4.1651%\n",
            "Corrected Error Percentage (Test Dataset): 38.0306%\n",
            "   Run 2/5 ...      Epoch 0: Train Loss = 0.5976, Val Loss = 15.6373\n"
          ]
        },
        {
          "output_type": "stream",
          "name": "stderr",
          "text": [
            "<ipython-input-44-b273c6d16a7f>:152: UserWarning: To copy construct from a tensor, it is recommended to use sourceTensor.clone().detach() or sourceTensor.clone().detach().requires_grad_(True), rather than torch.tensor(sourceTensor).\n",
            "  X_scaled_tensor = torch.tensor(combined_X, dtype=torch.float32).unsqueeze(1)\n"
          ]
        },
        {
          "output_type": "stream",
          "name": "stdout",
          "text": [
            "     Epoch 5: Train Loss = 0.5862, Val Loss = 12.7184\n",
            "     Epoch 10: Train Loss = 0.5811, Val Loss = 13.6079\n",
            "     Epoch 15: Train Loss = 0.5816, Val Loss = 16.8447\n",
            "     Epoch 20: Train Loss = 0.5794, Val Loss = 15.0043\n",
            "     Epoch 25: Train Loss = 0.5804, Val Loss = 14.8821\n",
            "    ⏹️ Early stopping at epoch 27\n",
            " Run 2 finished with best val loss: 12.0699\n",
            "Original Error Percentage (Test Dataset): 4.1651%\n",
            "Corrected Error Percentage (Test Dataset): 39.0109%\n",
            "   Run 3/5 ...      Epoch 0: Train Loss = 0.5901, Val Loss = 8.2800\n"
          ]
        },
        {
          "output_type": "stream",
          "name": "stderr",
          "text": [
            "<ipython-input-44-b273c6d16a7f>:152: UserWarning: To copy construct from a tensor, it is recommended to use sourceTensor.clone().detach() or sourceTensor.clone().detach().requires_grad_(True), rather than torch.tensor(sourceTensor).\n",
            "  X_scaled_tensor = torch.tensor(combined_X, dtype=torch.float32).unsqueeze(1)\n"
          ]
        },
        {
          "output_type": "stream",
          "name": "stdout",
          "text": [
            "     Epoch 5: Train Loss = 0.5793, Val Loss = 16.1769\n",
            "     Epoch 10: Train Loss = 0.5825, Val Loss = 16.6552\n",
            "     Epoch 15: Train Loss = 0.5745, Val Loss = 16.3033\n",
            "     Epoch 20: Train Loss = 0.5790, Val Loss = 14.6662\n",
            "    ⏹️ Early stopping at epoch 20\n",
            " Run 3 finished with best val loss: 8.2800\n",
            "Original Error Percentage (Test Dataset): 4.1651%\n",
            "Corrected Error Percentage (Test Dataset): 42.0336%\n",
            "   Run 4/5 ...      Epoch 0: Train Loss = 0.6157, Val Loss = 8.4182\n"
          ]
        },
        {
          "output_type": "stream",
          "name": "stderr",
          "text": [
            "<ipython-input-44-b273c6d16a7f>:152: UserWarning: To copy construct from a tensor, it is recommended to use sourceTensor.clone().detach() or sourceTensor.clone().detach().requires_grad_(True), rather than torch.tensor(sourceTensor).\n",
            "  X_scaled_tensor = torch.tensor(combined_X, dtype=torch.float32).unsqueeze(1)\n"
          ]
        },
        {
          "output_type": "stream",
          "name": "stdout",
          "text": [
            "     Epoch 5: Train Loss = 0.5852, Val Loss = 17.3734\n",
            "     Epoch 10: Train Loss = 0.5815, Val Loss = 14.3825\n",
            "     Epoch 15: Train Loss = 0.5763, Val Loss = 15.7522\n",
            "     Epoch 20: Train Loss = 0.5781, Val Loss = 13.1600\n",
            "    ⏹️ Early stopping at epoch 20\n",
            " Run 4 finished with best val loss: 8.4182\n",
            "Original Error Percentage (Test Dataset): 4.1651%\n",
            "Corrected Error Percentage (Test Dataset): 38.1021%\n",
            "   Run 5/5 ...      Epoch 0: Train Loss = 0.5970, Val Loss = 5.0117\n"
          ]
        },
        {
          "output_type": "stream",
          "name": "stderr",
          "text": [
            "<ipython-input-44-b273c6d16a7f>:152: UserWarning: To copy construct from a tensor, it is recommended to use sourceTensor.clone().detach() or sourceTensor.clone().detach().requires_grad_(True), rather than torch.tensor(sourceTensor).\n",
            "  X_scaled_tensor = torch.tensor(combined_X, dtype=torch.float32).unsqueeze(1)\n"
          ]
        },
        {
          "output_type": "stream",
          "name": "stdout",
          "text": [
            "     Epoch 5: Train Loss = 0.5811, Val Loss = 11.9644\n",
            "     Epoch 10: Train Loss = 0.5797, Val Loss = 15.4180\n",
            "     Epoch 15: Train Loss = 0.5783, Val Loss = 16.1238\n",
            "     Epoch 20: Train Loss = 0.5790, Val Loss = 14.9072\n",
            "    ⏹️ Early stopping at epoch 20\n",
            " Run 5 finished with best val loss: 5.0117\n",
            "Original Error Percentage (Test Dataset): 4.1651%\n",
            "Corrected Error Percentage (Test Dataset): 42.3861%\n",
            " Finished configuration H=128, D=0.2, LR=0.0005, B=32 → Avg Val Loss: 8.7630, Avg Accuracy: 39.9127%\n",
            "\n",
            " Running 79/81: H=128, D=0.2, LR=0.001, B=8\n",
            "   Run 1/5 ... "
          ]
        },
        {
          "output_type": "stream",
          "name": "stderr",
          "text": [
            "<ipython-input-44-b273c6d16a7f>:152: UserWarning: To copy construct from a tensor, it is recommended to use sourceTensor.clone().detach() or sourceTensor.clone().detach().requires_grad_(True), rather than torch.tensor(sourceTensor).\n",
            "  X_scaled_tensor = torch.tensor(combined_X, dtype=torch.float32).unsqueeze(1)\n"
          ]
        },
        {
          "output_type": "stream",
          "name": "stdout",
          "text": [
            "     Epoch 0: Train Loss = 0.6006, Val Loss = 10.1484\n",
            "     Epoch 5: Train Loss = 0.5829, Val Loss = 11.2839\n",
            "     Epoch 10: Train Loss = 0.5800, Val Loss = 8.2105\n",
            "     Epoch 15: Train Loss = 0.5819, Val Loss = 15.7312\n",
            "     Epoch 20: Train Loss = 0.5800, Val Loss = 15.9237\n",
            "    ⏹️ Early stopping at epoch 21\n",
            " Run 1 finished with best val loss: 7.1973\n",
            "Original Error Percentage (Test Dataset): 4.1651%\n",
            "Corrected Error Percentage (Test Dataset): 46.4659%\n",
            "   Run 2/5 ... "
          ]
        },
        {
          "output_type": "stream",
          "name": "stderr",
          "text": [
            "<ipython-input-44-b273c6d16a7f>:152: UserWarning: To copy construct from a tensor, it is recommended to use sourceTensor.clone().detach() or sourceTensor.clone().detach().requires_grad_(True), rather than torch.tensor(sourceTensor).\n",
            "  X_scaled_tensor = torch.tensor(combined_X, dtype=torch.float32).unsqueeze(1)\n"
          ]
        },
        {
          "output_type": "stream",
          "name": "stdout",
          "text": [
            "     Epoch 0: Train Loss = 0.5903, Val Loss = 12.6431\n",
            "     Epoch 5: Train Loss = 0.5813, Val Loss = 10.0207\n",
            "     Epoch 10: Train Loss = 0.5811, Val Loss = 11.5271\n",
            "     Epoch 15: Train Loss = 0.5800, Val Loss = 11.2451\n",
            "     Epoch 20: Train Loss = 0.5782, Val Loss = 14.0859\n",
            "     Epoch 25: Train Loss = 0.5776, Val Loss = 17.1447\n",
            "    ⏹️ Early stopping at epoch 27\n",
            " Run 2 finished with best val loss: 4.3000\n",
            "Original Error Percentage (Test Dataset): 4.1651%\n",
            "Corrected Error Percentage (Test Dataset): 48.0649%\n",
            "   Run 3/5 ... "
          ]
        },
        {
          "output_type": "stream",
          "name": "stderr",
          "text": [
            "<ipython-input-44-b273c6d16a7f>:152: UserWarning: To copy construct from a tensor, it is recommended to use sourceTensor.clone().detach() or sourceTensor.clone().detach().requires_grad_(True), rather than torch.tensor(sourceTensor).\n",
            "  X_scaled_tensor = torch.tensor(combined_X, dtype=torch.float32).unsqueeze(1)\n"
          ]
        },
        {
          "output_type": "stream",
          "name": "stdout",
          "text": [
            "     Epoch 0: Train Loss = 0.5946, Val Loss = 10.4651\n",
            "     Epoch 5: Train Loss = 0.5751, Val Loss = 10.9106\n",
            "     Epoch 10: Train Loss = 0.5779, Val Loss = 17.1935\n",
            "     Epoch 15: Train Loss = 0.5774, Val Loss = 11.0699\n",
            "     Epoch 20: Train Loss = 0.5781, Val Loss = 13.0549\n",
            "     Epoch 25: Train Loss = 0.5776, Val Loss = 17.0954\n",
            "     Epoch 30: Train Loss = 0.5768, Val Loss = 15.1925\n",
            "    ⏹️ Early stopping at epoch 34\n",
            " Run 3 finished with best val loss: 7.8706\n",
            "Original Error Percentage (Test Dataset): 4.1651%\n",
            "Corrected Error Percentage (Test Dataset): 35.4677%\n",
            "   Run 4/5 ... "
          ]
        },
        {
          "output_type": "stream",
          "name": "stderr",
          "text": [
            "<ipython-input-44-b273c6d16a7f>:152: UserWarning: To copy construct from a tensor, it is recommended to use sourceTensor.clone().detach() or sourceTensor.clone().detach().requires_grad_(True), rather than torch.tensor(sourceTensor).\n",
            "  X_scaled_tensor = torch.tensor(combined_X, dtype=torch.float32).unsqueeze(1)\n"
          ]
        },
        {
          "output_type": "stream",
          "name": "stdout",
          "text": [
            "     Epoch 0: Train Loss = 0.5931, Val Loss = 4.9048\n",
            "     Epoch 5: Train Loss = 0.5822, Val Loss = 11.4452\n",
            "     Epoch 10: Train Loss = 0.5824, Val Loss = 14.4016\n",
            "     Epoch 15: Train Loss = 0.5830, Val Loss = 13.5297\n",
            "     Epoch 20: Train Loss = 0.5791, Val Loss = 16.8789\n",
            "    ⏹️ Early stopping at epoch 20\n",
            " Run 4 finished with best val loss: 4.9048\n",
            "Original Error Percentage (Test Dataset): 4.1651%\n",
            "Corrected Error Percentage (Test Dataset): 45.9891%\n",
            "   Run 5/5 ... "
          ]
        },
        {
          "output_type": "stream",
          "name": "stderr",
          "text": [
            "<ipython-input-44-b273c6d16a7f>:152: UserWarning: To copy construct from a tensor, it is recommended to use sourceTensor.clone().detach() or sourceTensor.clone().detach().requires_grad_(True), rather than torch.tensor(sourceTensor).\n",
            "  X_scaled_tensor = torch.tensor(combined_X, dtype=torch.float32).unsqueeze(1)\n"
          ]
        },
        {
          "output_type": "stream",
          "name": "stdout",
          "text": [
            "     Epoch 0: Train Loss = 0.5931, Val Loss = 11.3633\n",
            "     Epoch 5: Train Loss = 0.5832, Val Loss = 17.1600\n",
            "     Epoch 10: Train Loss = 0.5790, Val Loss = 9.1082\n",
            "     Epoch 15: Train Loss = 0.5807, Val Loss = 11.0958\n",
            "     Epoch 20: Train Loss = 0.5801, Val Loss = 16.7856\n",
            "    ⏹️ Early stopping at epoch 24\n",
            " Run 5 finished with best val loss: 7.9028\n",
            "Original Error Percentage (Test Dataset): 4.1651%\n",
            "Corrected Error Percentage (Test Dataset): 46.2673%\n",
            " Finished configuration H=128, D=0.2, LR=0.001, B=8 → Avg Val Loss: 6.4351, Avg Accuracy: 44.4510%\n",
            "\n",
            " Running 80/81: H=128, D=0.2, LR=0.001, B=16\n",
            "   Run 1/5 ...      Epoch 0: Train Loss = 0.5995, Val Loss = 5.1784\n"
          ]
        },
        {
          "output_type": "stream",
          "name": "stderr",
          "text": [
            "<ipython-input-44-b273c6d16a7f>:152: UserWarning: To copy construct from a tensor, it is recommended to use sourceTensor.clone().detach() or sourceTensor.clone().detach().requires_grad_(True), rather than torch.tensor(sourceTensor).\n",
            "  X_scaled_tensor = torch.tensor(combined_X, dtype=torch.float32).unsqueeze(1)\n"
          ]
        },
        {
          "output_type": "stream",
          "name": "stdout",
          "text": [
            "     Epoch 5: Train Loss = 0.5831, Val Loss = 11.5665\n",
            "     Epoch 10: Train Loss = 0.5798, Val Loss = 13.5148\n",
            "     Epoch 15: Train Loss = 0.5799, Val Loss = 18.3217\n",
            "     Epoch 20: Train Loss = 0.5762, Val Loss = 12.7065\n",
            "    ⏹️ Early stopping at epoch 20\n",
            " Run 1 finished with best val loss: 5.1784\n",
            "Original Error Percentage (Test Dataset): 4.1651%\n",
            "Corrected Error Percentage (Test Dataset): 38.4069%\n",
            "   Run 2/5 ...      Epoch 0: Train Loss = 0.6086, Val Loss = 19.1002\n"
          ]
        },
        {
          "output_type": "stream",
          "name": "stderr",
          "text": [
            "<ipython-input-44-b273c6d16a7f>:152: UserWarning: To copy construct from a tensor, it is recommended to use sourceTensor.clone().detach() or sourceTensor.clone().detach().requires_grad_(True), rather than torch.tensor(sourceTensor).\n",
            "  X_scaled_tensor = torch.tensor(combined_X, dtype=torch.float32).unsqueeze(1)\n"
          ]
        },
        {
          "output_type": "stream",
          "name": "stdout",
          "text": [
            "     Epoch 5: Train Loss = 0.5839, Val Loss = 13.4691\n",
            "     Epoch 10: Train Loss = 0.5793, Val Loss = 13.7737\n",
            "     Epoch 15: Train Loss = 0.5807, Val Loss = 11.3487\n",
            "     Epoch 20: Train Loss = 0.5792, Val Loss = 12.5467\n",
            "     Epoch 25: Train Loss = 0.5818, Val Loss = 17.7968\n",
            "    ⏹️ Early stopping at epoch 27\n",
            " Run 2 finished with best val loss: 9.3131\n",
            "Original Error Percentage (Test Dataset): 4.1651%\n",
            "Corrected Error Percentage (Test Dataset): 41.0540%\n",
            "   Run 3/5 ...      Epoch 0: Train Loss = 0.5986, Val Loss = 9.9546\n"
          ]
        },
        {
          "output_type": "stream",
          "name": "stderr",
          "text": [
            "<ipython-input-44-b273c6d16a7f>:152: UserWarning: To copy construct from a tensor, it is recommended to use sourceTensor.clone().detach() or sourceTensor.clone().detach().requires_grad_(True), rather than torch.tensor(sourceTensor).\n",
            "  X_scaled_tensor = torch.tensor(combined_X, dtype=torch.float32).unsqueeze(1)\n"
          ]
        },
        {
          "output_type": "stream",
          "name": "stdout",
          "text": [
            "     Epoch 5: Train Loss = 0.5821, Val Loss = 12.5809\n",
            "     Epoch 10: Train Loss = 0.5827, Val Loss = 11.9615\n",
            "     Epoch 15: Train Loss = 0.5797, Val Loss = 16.3041\n",
            "     Epoch 20: Train Loss = 0.5781, Val Loss = 12.3955\n",
            "     Epoch 25: Train Loss = 0.5767, Val Loss = 11.5678\n",
            "    ⏹️ Early stopping at epoch 27\n",
            " Run 3 finished with best val loss: 8.2976\n",
            "Original Error Percentage (Test Dataset): 4.1651%\n",
            "Corrected Error Percentage (Test Dataset): 45.0030%\n",
            "   Run 4/5 ...      Epoch 0: Train Loss = 0.5988, Val Loss = 16.5471\n"
          ]
        },
        {
          "output_type": "stream",
          "name": "stderr",
          "text": [
            "<ipython-input-44-b273c6d16a7f>:152: UserWarning: To copy construct from a tensor, it is recommended to use sourceTensor.clone().detach() or sourceTensor.clone().detach().requires_grad_(True), rather than torch.tensor(sourceTensor).\n",
            "  X_scaled_tensor = torch.tensor(combined_X, dtype=torch.float32).unsqueeze(1)\n"
          ]
        },
        {
          "output_type": "stream",
          "name": "stdout",
          "text": [
            "     Epoch 5: Train Loss = 0.5794, Val Loss = 14.7419\n",
            "     Epoch 10: Train Loss = 0.5769, Val Loss = 12.2275\n",
            "     Epoch 15: Train Loss = 0.5828, Val Loss = 10.2065\n",
            "     Epoch 20: Train Loss = 0.5776, Val Loss = 15.7720\n",
            "     Epoch 25: Train Loss = 0.5812, Val Loss = 6.0264\n",
            "     Epoch 30: Train Loss = 0.5821, Val Loss = 14.7300\n",
            "     Epoch 35: Train Loss = 0.5774, Val Loss = 16.7378\n",
            "     Epoch 40: Train Loss = 0.5774, Val Loss = 13.3286\n",
            "     Epoch 45: Train Loss = 0.5779, Val Loss = 12.3954\n",
            "    ⏹️ Early stopping at epoch 45\n",
            " Run 4 finished with best val loss: 6.0264\n",
            "Original Error Percentage (Test Dataset): 4.1651%\n",
            "Corrected Error Percentage (Test Dataset): 37.1834%\n",
            "   Run 5/5 ...      Epoch 0: Train Loss = 0.5986, Val Loss = 13.9344\n"
          ]
        },
        {
          "output_type": "stream",
          "name": "stderr",
          "text": [
            "<ipython-input-44-b273c6d16a7f>:152: UserWarning: To copy construct from a tensor, it is recommended to use sourceTensor.clone().detach() or sourceTensor.clone().detach().requires_grad_(True), rather than torch.tensor(sourceTensor).\n",
            "  X_scaled_tensor = torch.tensor(combined_X, dtype=torch.float32).unsqueeze(1)\n"
          ]
        },
        {
          "output_type": "stream",
          "name": "stdout",
          "text": [
            "     Epoch 5: Train Loss = 0.5848, Val Loss = 14.2083\n",
            "     Epoch 10: Train Loss = 0.5808, Val Loss = 13.4526\n",
            "     Epoch 15: Train Loss = 0.5787, Val Loss = 9.6509\n",
            "     Epoch 20: Train Loss = 0.5803, Val Loss = 9.9031\n",
            "     Epoch 25: Train Loss = 0.5783, Val Loss = 13.8233\n",
            "     Epoch 30: Train Loss = 0.5779, Val Loss = 13.2391\n",
            "     Epoch 35: Train Loss = 0.5765, Val Loss = 14.6038\n",
            "    ⏹️ Early stopping at epoch 37\n",
            " Run 5 finished with best val loss: 5.6113\n",
            "Original Error Percentage (Test Dataset): 4.1651%\n",
            "Corrected Error Percentage (Test Dataset): 37.6743%\n",
            " Finished configuration H=128, D=0.2, LR=0.001, B=16 → Avg Val Loss: 6.8854, Avg Accuracy: 39.8643%\n",
            "\n",
            " Running 81/81: H=128, D=0.2, LR=0.001, B=32\n",
            "   Run 1/5 ...      Epoch 0: Train Loss = 0.5977, Val Loss = 7.3525\n"
          ]
        },
        {
          "output_type": "stream",
          "name": "stderr",
          "text": [
            "<ipython-input-44-b273c6d16a7f>:152: UserWarning: To copy construct from a tensor, it is recommended to use sourceTensor.clone().detach() or sourceTensor.clone().detach().requires_grad_(True), rather than torch.tensor(sourceTensor).\n",
            "  X_scaled_tensor = torch.tensor(combined_X, dtype=torch.float32).unsqueeze(1)\n"
          ]
        },
        {
          "output_type": "stream",
          "name": "stdout",
          "text": [
            "     Epoch 5: Train Loss = 0.5781, Val Loss = 16.8064\n",
            "     Epoch 10: Train Loss = 0.5833, Val Loss = 16.9005\n",
            "     Epoch 15: Train Loss = 0.5755, Val Loss = 13.0653\n",
            "     Epoch 20: Train Loss = 0.5801, Val Loss = 13.5896\n",
            "    ⏹️ Early stopping at epoch 20\n",
            " Run 1 finished with best val loss: 7.3525\n",
            "Original Error Percentage (Test Dataset): 4.1651%\n",
            "Corrected Error Percentage (Test Dataset): 39.6948%\n",
            "   Run 2/5 ...      Epoch 0: Train Loss = 0.6020, Val Loss = 10.6255\n"
          ]
        },
        {
          "output_type": "stream",
          "name": "stderr",
          "text": [
            "<ipython-input-44-b273c6d16a7f>:152: UserWarning: To copy construct from a tensor, it is recommended to use sourceTensor.clone().detach() or sourceTensor.clone().detach().requires_grad_(True), rather than torch.tensor(sourceTensor).\n",
            "  X_scaled_tensor = torch.tensor(combined_X, dtype=torch.float32).unsqueeze(1)\n"
          ]
        },
        {
          "output_type": "stream",
          "name": "stdout",
          "text": [
            "     Epoch 5: Train Loss = 0.5801, Val Loss = 17.2328\n",
            "     Epoch 10: Train Loss = 0.5764, Val Loss = 8.6813\n",
            "     Epoch 15: Train Loss = 0.5789, Val Loss = 10.7503\n",
            "     Epoch 20: Train Loss = 0.5753, Val Loss = 15.6054\n",
            "     Epoch 25: Train Loss = 0.5795, Val Loss = 17.0546\n",
            "     Epoch 30: Train Loss = 0.5771, Val Loss = 12.0468\n",
            "    ⏹️ Early stopping at epoch 30\n",
            " Run 2 finished with best val loss: 8.6813\n",
            "Original Error Percentage (Test Dataset): 4.1651%\n",
            "Corrected Error Percentage (Test Dataset): 36.5812%\n",
            "   Run 3/5 ...      Epoch 0: Train Loss = 0.6001, Val Loss = 11.5270\n"
          ]
        },
        {
          "output_type": "stream",
          "name": "stderr",
          "text": [
            "<ipython-input-44-b273c6d16a7f>:152: UserWarning: To copy construct from a tensor, it is recommended to use sourceTensor.clone().detach() or sourceTensor.clone().detach().requires_grad_(True), rather than torch.tensor(sourceTensor).\n",
            "  X_scaled_tensor = torch.tensor(combined_X, dtype=torch.float32).unsqueeze(1)\n"
          ]
        },
        {
          "output_type": "stream",
          "name": "stdout",
          "text": [
            "     Epoch 5: Train Loss = 0.5799, Val Loss = 9.5574\n",
            "     Epoch 10: Train Loss = 0.5777, Val Loss = 12.8149\n",
            "     Epoch 15: Train Loss = 0.5814, Val Loss = 13.2726\n",
            "     Epoch 20: Train Loss = 0.5758, Val Loss = 12.3205\n",
            "     Epoch 25: Train Loss = 0.5787, Val Loss = 14.7942\n",
            "    ⏹️ Early stopping at epoch 25\n",
            " Run 3 finished with best val loss: 9.5574\n",
            "Original Error Percentage (Test Dataset): 4.1651%\n",
            "Corrected Error Percentage (Test Dataset): 42.1239%\n",
            "   Run 4/5 ...      Epoch 0: Train Loss = 0.6025, Val Loss = 10.2680\n"
          ]
        },
        {
          "output_type": "stream",
          "name": "stderr",
          "text": [
            "<ipython-input-44-b273c6d16a7f>:152: UserWarning: To copy construct from a tensor, it is recommended to use sourceTensor.clone().detach() or sourceTensor.clone().detach().requires_grad_(True), rather than torch.tensor(sourceTensor).\n",
            "  X_scaled_tensor = torch.tensor(combined_X, dtype=torch.float32).unsqueeze(1)\n"
          ]
        },
        {
          "output_type": "stream",
          "name": "stdout",
          "text": [
            "     Epoch 5: Train Loss = 0.5860, Val Loss = 10.7306\n",
            "     Epoch 10: Train Loss = 0.5797, Val Loss = 13.4180\n",
            "     Epoch 15: Train Loss = 0.5774, Val Loss = 15.4903\n",
            "     Epoch 20: Train Loss = 0.5780, Val Loss = 10.3058\n",
            "    ⏹️ Early stopping at epoch 21\n",
            " Run 4 finished with best val loss: 8.4745\n",
            "Original Error Percentage (Test Dataset): 4.1651%\n",
            "Corrected Error Percentage (Test Dataset): 33.5816%\n",
            "   Run 5/5 ...      Epoch 0: Train Loss = 0.6097, Val Loss = 6.2796\n"
          ]
        },
        {
          "output_type": "stream",
          "name": "stderr",
          "text": [
            "<ipython-input-44-b273c6d16a7f>:152: UserWarning: To copy construct from a tensor, it is recommended to use sourceTensor.clone().detach() or sourceTensor.clone().detach().requires_grad_(True), rather than torch.tensor(sourceTensor).\n",
            "  X_scaled_tensor = torch.tensor(combined_X, dtype=torch.float32).unsqueeze(1)\n"
          ]
        },
        {
          "output_type": "stream",
          "name": "stdout",
          "text": [
            "     Epoch 5: Train Loss = 0.5863, Val Loss = 13.0430\n",
            "     Epoch 10: Train Loss = 0.5803, Val Loss = 12.2497\n",
            "     Epoch 15: Train Loss = 0.5830, Val Loss = 13.1586\n",
            "     Epoch 20: Train Loss = 0.5791, Val Loss = 11.2363\n",
            "    ⏹️ Early stopping at epoch 20\n",
            " Run 5 finished with best val loss: 6.2796\n",
            "Original Error Percentage (Test Dataset): 4.1651%\n",
            "Corrected Error Percentage (Test Dataset): 34.3379%\n",
            " Finished configuration H=128, D=0.2, LR=0.001, B=32 → Avg Val Loss: 8.0691, Avg Accuracy: 37.2639%\n",
            "\n",
            " Top 5 Hyperparameter Configurations:\n",
            " 1. {'hidden_size': 32, 'dropout_rate': 0.0, 'learning_rate': 0.0005, 'batch_size': 32, 'avg_val_loss': 1.8503815793615626, 'avg_accuracy': 33.4674723787567}\n",
            " 2. {'hidden_size': 32, 'dropout_rate': 0.0, 'learning_rate': 0.0001, 'batch_size': 16, 'avg_val_loss': 1.8838826838440785, 'avg_accuracy': 26.656713105289942}\n",
            " 3. {'hidden_size': 32, 'dropout_rate': 0.2, 'learning_rate': 0.0001, 'batch_size': 32, 'avg_val_loss': 1.8903456229863207, 'avg_accuracy': 9.994358667968797}\n",
            " 4. {'hidden_size': 64, 'dropout_rate': 0.1, 'learning_rate': 0.0001, 'batch_size': 8, 'avg_val_loss': 2.3795025083962384, 'avg_accuracy': 39.073618661043206}\n",
            " 5. {'hidden_size': 128, 'dropout_rate': 0.2, 'learning_rate': 0.0001, 'batch_size': 32, 'avg_val_loss': 2.422487634561193, 'avg_accuracy': 38.85432441369916}\n"
          ]
        },
        {
          "output_type": "stream",
          "name": "stderr",
          "text": [
            "<ipython-input-44-b273c6d16a7f>:152: UserWarning: To copy construct from a tensor, it is recommended to use sourceTensor.clone().detach() or sourceTensor.clone().detach().requires_grad_(True), rather than torch.tensor(sourceTensor).\n",
            "  X_scaled_tensor = torch.tensor(combined_X, dtype=torch.float32).unsqueeze(1)\n"
          ]
        }
      ],
      "source": [
        "# Create DataLoader\n",
        "train_dataset = TensorDataset(X_train, y_train)\n",
        "val_dataset = TensorDataset(X_val, y_val)\n",
        "test_dataset = TensorDataset(X_test, y_test)\n",
        "train_loader = DataLoader(train_dataset, batch_size=16, shuffle=True)\n",
        "val_loader = DataLoader(val_dataset, batch_size=16, shuffle=False)\n",
        "test_loader = DataLoader(test_dataset, batch_size=16, shuffle=False)\n",
        "\n",
        "# # Define model\n",
        "# input_size = 1\n",
        "# hidden_size1 = 64\n",
        "# dropout_rate = 0.1\n",
        "# learning_rate = 0.0001\n",
        "# num_epochs = 500\n",
        "# patience = 30\n",
        "\n",
        "# bias_model = BiasPredictor(input_size=input_size, hidden_size1=hidden_size1, dropout_rate=dropout_rate).to(device)\n",
        "# criterion = nn.MSELoss()\n",
        "# optimizer = optim.Adam(bias_model.parameters(), lr=learning_rate)\n",
        "\n",
        "# # Train the model (don't need to save the model yet)\n",
        "# best_val_loss = np.inf\n",
        "# best_epoch = 0\n",
        "\n",
        "# for epoch in range(num_epochs):\n",
        "#     bias_model.train()\n",
        "#     train_loss = 0.0\n",
        "#     for X_batch, y_batch in train_loader:\n",
        "#         X_batch, y_batch = X_batch.to(device), y_batch.to(device)\n",
        "#         optimizer.zero_grad()\n",
        "#         outputs = bias_model(X_batch)\n",
        "#         loss = criterion(outputs, y_batch)\n",
        "#         loss.backward()\n",
        "#         optimizer.step()\n",
        "#         train_loss += loss.item() * X_batch.size(0)\n",
        "\n",
        "#     train_loss /= len(train_loader.dataset)\n",
        "\n",
        "#     bias_model.eval()\n",
        "#     val_loss = 0.0\n",
        "#     with torch.no_grad():\n",
        "#         for X_batch, y_batch in val_loader:\n",
        "#             X_batch, y_batch = X_batch.to(device), y_batch.to(device)\n",
        "#             outputs = bias_model(X_batch)\n",
        "#             loss = criterion(outputs, y_batch)\n",
        "#             val_loss += loss.item() * X_batch.size(0)\n",
        "\n",
        "#     val_loss /= len(val_loader.dataset)\n",
        "\n",
        "#     if val_loss < best_val_loss:\n",
        "#         best_val_loss = val_loss\n",
        "#         best_epoch = epoch\n",
        "#     elif epoch - best_epoch >= patience:\n",
        "#         print(f\"Stopping early at epoch {epoch}\")\n",
        "#         break\n",
        "\n",
        "#     print(f\"Epoch {epoch}, Train Loss: {train_loss:.4f}, Val Loss: {val_loss:.4f}\")\n",
        "\n",
        "\n",
        "import itertools\n",
        "import numpy as np\n",
        "import torch\n",
        "import torch.nn as nn\n",
        "import torch.optim as optim\n",
        "from torch.utils.data import DataLoader, TensorDataset\n",
        "\n",
        "# Define hyperparameter search space\n",
        "hidden_sizes = [32, 64, 128]\n",
        "dropout_rates = [0.0, 0.1, 0.2]\n",
        "learning_rates = [0.0001, 0.0005, 0.001]\n",
        "batch_sizes = [8, 16, 32]\n",
        "\n",
        "# Total number of hyperparameter combinations\n",
        "total_combinations = len(hidden_sizes) * len(dropout_rates) * len(learning_rates) * len(batch_sizes)\n",
        "combination_counter = 0\n",
        "\n",
        "# Store results\n",
        "results = []\n",
        "\n",
        "# Iterate over all hyperparameter combinations\n",
        "for hidden_size, dropout_rate, learning_rate, batch_size in itertools.product(hidden_sizes, dropout_rates, learning_rates, batch_sizes):\n",
        "    combination_counter += 1\n",
        "    print(f\"\\n Running {combination_counter}/{total_combinations}: H={hidden_size}, D={dropout_rate}, LR={learning_rate}, B={batch_size}\")\n",
        "\n",
        "    val_losses = []\n",
        "    accuracies = []  # To track accuracies for each run\n",
        "    for run in range(5):  # Run each combination 5 times\n",
        "        print(f\"   Run {run + 1}/5 ...\", end=\" \", flush=True)\n",
        "\n",
        "        # Define DataLoaders with the current batch size\n",
        "        train_loader = DataLoader(train_dataset, batch_size=batch_size, shuffle=True)\n",
        "        val_loader = DataLoader(val_dataset, batch_size=batch_size, shuffle=False)\n",
        "\n",
        "        # Define the model\n",
        "        bias_model = BiasPredictor(input_size=1, hidden_size=hidden_size, dropout_rate=dropout_rate).to(device)\n",
        "        criterion = nn.MSELoss()\n",
        "        optimizer = optim.Adam(bias_model.parameters(), lr=learning_rate)\n",
        "\n",
        "        # Training setup\n",
        "        best_val_loss = np.inf\n",
        "        best_epoch = 0\n",
        "        patience = 20\n",
        "        num_epochs = 500\n",
        "\n",
        "        # Training loop\n",
        "        for epoch in range(num_epochs):\n",
        "            bias_model.train()\n",
        "            train_loss = 0.0\n",
        "            for X_batch, y_batch in train_loader:\n",
        "                X_batch, y_batch = X_batch.to(device), y_batch.to(device)\n",
        "                optimizer.zero_grad()\n",
        "                outputs = bias_model(X_batch)\n",
        "                loss = criterion(outputs, y_batch)\n",
        "                loss.backward()\n",
        "                optimizer.step()\n",
        "                train_loss += loss.item() * X_batch.size(0)\n",
        "\n",
        "            train_loss /= len(train_loader.dataset)\n",
        "\n",
        "            # Validation\n",
        "            bias_model.eval()\n",
        "            val_loss = 0.0\n",
        "            with torch.no_grad():\n",
        "                for X_batch, y_batch in val_loader:\n",
        "                    X_batch, y_batch = X_batch.to(device), y_batch.to(device)\n",
        "                    outputs = bias_model(X_batch)\n",
        "                    loss = criterion(outputs, y_batch)\n",
        "                    val_loss += loss.item() * X_batch.size(0)\n",
        "\n",
        "            val_loss /= len(val_loader.dataset)\n",
        "\n",
        "            # Print progress every 50 epochs\n",
        "            if epoch % 5 == 0:\n",
        "                print(f\"     Epoch {epoch}: Train Loss = {train_loss:.4f}, Val Loss = {val_loss:.4f}\")\n",
        "\n",
        "            # Early stopping\n",
        "            if val_loss < best_val_loss:\n",
        "                best_val_loss = val_loss\n",
        "                best_epoch = epoch\n",
        "            elif epoch - best_epoch >= patience:\n",
        "                print(f\"    ⏹️ Early stopping at epoch {epoch}\")\n",
        "                break  # Stop training if no improvement\n",
        "\n",
        "        val_losses.append(best_val_loss)  # Store best val loss for this run\n",
        "        print(f\" Run {run + 1} finished with best val loss: {best_val_loss:.4f}\")\n",
        "\n",
        "        # Evaluate accuracy after each run\n",
        "        combined_X = torch.cat((X_train, X_val, X_test), dim=0)\n",
        "        combined_y = torch.cat((y_train, y_val, y_test), dim=0)\n",
        "\n",
        "        # Convert combined_X to tensor and scale if necessary\n",
        "        X_scaled_tensor = torch.tensor(combined_X, dtype=torch.float32).unsqueeze(1)\n",
        "        bias_model.eval()\n",
        "        with torch.no_grad():\n",
        "            y_pred = bias_model(X_scaled_tensor.to(device)).cpu().numpy()\n",
        "\n",
        "        # Unscale outputs\n",
        "        outputs_unscaled = y_scaler.inverse_transform(y_pred.reshape(y_pred.shape[0], -1))\n",
        "\n",
        "        # Calculate error percentages\n",
        "        new_df[\"Bias_Pred\"] = outputs_unscaled\n",
        "        new_df[\"Corrected_LSTM_Pred\"] = new_df[\"LSTM_Pred\"] + new_df[\"Bias_Pred\"]\n",
        "\n",
        "        original_error_percent_test = np.mean(np.abs(new_df[\"Bias\"].iloc[train_size + val_size:]) / (np.abs(new_df[\"Target\"].iloc[train_size + val_size:]) + 1e-8)) * 100\n",
        "        corrected_error_percent_test = np.mean(np.abs(new_df[\"Target\"].iloc[train_size + val_size:] - new_df[\"Corrected_LSTM_Pred\"].iloc[train_size + val_size:]) / (np.abs(new_df[\"Target\"].iloc[train_size + val_size:]) + 1e-8)) * 100\n",
        "\n",
        "        print(f\"Original Error Percentage (Test Dataset): {original_error_percent_test:.4f}%\")\n",
        "        print(f\"Corrected Error Percentage (Test Dataset): {corrected_error_percent_test:.4f}%\")\n",
        "\n",
        "        # Store accuracy for this run\n",
        "        accuracies.append(corrected_error_percent_test)\n",
        "\n",
        "    # After all 5 trials, calculate the average accuracy\n",
        "    avg_val_loss = np.mean(val_losses)\n",
        "    avg_accuracy = np.mean(accuracies)  # Calculate the average error percentage over all runs\n",
        "\n",
        "    results.append({\n",
        "        \"hidden_size\": hidden_size,\n",
        "        \"dropout_rate\": dropout_rate,\n",
        "        \"learning_rate\": learning_rate,\n",
        "        \"batch_size\": batch_size,\n",
        "        \"avg_val_loss\": avg_val_loss,\n",
        "        \"avg_accuracy\": avg_accuracy\n",
        "    })\n",
        "\n",
        "    print(f\" Finished configuration H={hidden_size}, D={dropout_rate}, LR={learning_rate}, B={batch_size} → Avg Val Loss: {avg_val_loss:.4f}, Avg Accuracy: {avg_accuracy:.4f}%\")\n",
        "\n",
        "# Sort results by lowest validation loss\n",
        "results.sort(key=lambda x: x[\"avg_val_loss\"])\n",
        "\n",
        "# Print top 5 configurations\n",
        "print(\"\\n Top 5 Hyperparameter Configurations:\")\n",
        "for i, res in enumerate(results[:5]):\n",
        "    print(f\" {i+1}. {res}\")\n",
        "\n"
      ]
    },
    {
      "cell_type": "code",
      "source": [
        "# Sort results by lowest validation loss\n",
        "results.sort(key=lambda x: x[\"avg_accuracy\"])\n",
        "\n",
        "# Print top 5 configurations\n",
        "print(\"\\n Top 10 Hyperparameter Configurations:\")\n",
        "for i, res in enumerate(results[:10]):\n",
        "    print(f\" {i+1}. {res}\")"
      ],
      "metadata": {
        "colab": {
          "base_uri": "https://localhost:8080/"
        },
        "id": "JCDND-uovFnz",
        "outputId": "b6922353-1136-4154-9255-8dcc745105fd"
      },
      "execution_count": 46,
      "outputs": [
        {
          "output_type": "stream",
          "name": "stdout",
          "text": [
            "\n",
            " Top 10 Hyperparameter Configurations:\n",
            " 1. {'hidden_size': 32, 'dropout_rate': 0.2, 'learning_rate': 0.0001, 'batch_size': 32, 'avg_val_loss': 1.8903456229863207, 'avg_accuracy': 9.994358667968797}\n",
            " 2. {'hidden_size': 32, 'dropout_rate': 0.1, 'learning_rate': 0.0001, 'batch_size': 16, 'avg_val_loss': 2.4434580487529125, 'avg_accuracy': 20.799560778694666}\n",
            " 3. {'hidden_size': 32, 'dropout_rate': 0.1, 'learning_rate': 0.0001, 'batch_size': 32, 'avg_val_loss': 3.171590586534635, 'avg_accuracy': 23.076646616130596}\n",
            " 4. {'hidden_size': 32, 'dropout_rate': 0.1, 'learning_rate': 0.0001, 'batch_size': 8, 'avg_val_loss': 2.939066170895193, 'avg_accuracy': 24.767602078937674}\n",
            " 5. {'hidden_size': 32, 'dropout_rate': 0.2, 'learning_rate': 0.0001, 'batch_size': 16, 'avg_val_loss': 2.643407387996283, 'avg_accuracy': 26.52957178464817}\n",
            " 6. {'hidden_size': 32, 'dropout_rate': 0.0, 'learning_rate': 0.0001, 'batch_size': 16, 'avg_val_loss': 1.8838826838440785, 'avg_accuracy': 26.656713105289942}\n",
            " 7. {'hidden_size': 32, 'dropout_rate': 0.2, 'learning_rate': 0.0001, 'batch_size': 8, 'avg_val_loss': 3.560622569707435, 'avg_accuracy': 29.607147177231205}\n",
            " 8. {'hidden_size': 32, 'dropout_rate': 0.0, 'learning_rate': 0.0001, 'batch_size': 32, 'avg_val_loss': 4.401905448981157, 'avg_accuracy': 30.06147389382101}\n",
            " 9. {'hidden_size': 64, 'dropout_rate': 0.2, 'learning_rate': 0.0001, 'batch_size': 16, 'avg_val_loss': 2.9174893075086934, 'avg_accuracy': 30.64198403904835}\n",
            " 10. {'hidden_size': 32, 'dropout_rate': 0.1, 'learning_rate': 0.0005, 'batch_size': 16, 'avg_val_loss': 2.8047232759280467, 'avg_accuracy': 31.409809849515522}\n"
          ]
        }
      ]
    }
  ],
  "metadata": {
    "kernelspec": {
      "display_name": "Python 3",
      "name": "python3"
    },
    "language_info": {
      "codemirror_mode": {
        "name": "ipython",
        "version": 3
      },
      "file_extension": ".py",
      "mimetype": "text/x-python",
      "name": "python",
      "nbconvert_exporter": "python",
      "pygments_lexer": "ipython3",
      "version": "3.9.7"
    },
    "colab": {
      "provenance": []
    }
  },
  "nbformat": 4,
  "nbformat_minor": 0
}