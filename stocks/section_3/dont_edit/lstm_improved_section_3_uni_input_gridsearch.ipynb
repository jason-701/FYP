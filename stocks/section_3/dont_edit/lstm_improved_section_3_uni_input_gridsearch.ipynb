{
  "cells": [
    {
      "cell_type": "code",
      "execution_count": 1,
      "metadata": {
        "id": "M_JutKiKPbgK"
      },
      "outputs": [],
      "source": [
        "import pandas as pd\n",
        "from sklearn.preprocessing import StandardScaler, MinMaxScaler, RobustScaler\n",
        "from sklearn.model_selection import train_test_split\n",
        "import numpy as np\n",
        "from sklearn.metrics import mean_squared_error\n",
        "import matplotlib.pyplot as plt\n",
        "import os\n",
        "import torch\n",
        "import torch.nn as nn\n",
        "import torch.optim as optim\n",
        "from torch.utils.data import DataLoader, TensorDataset\n",
        "from sklearn.manifold import TSNE\n",
        "from sklearn.decomposition import PCA\n",
        "from numpy.linalg import norm\n"
      ]
    },
    {
      "cell_type": "code",
      "execution_count": 2,
      "metadata": {
        "id": "gsObt5CZPbgM"
      },
      "outputs": [],
      "source": [
        "device = torch.device(\"cuda\" if torch.cuda.is_available() else \"cpu\")"
      ]
    },
    {
      "cell_type": "code",
      "execution_count": 3,
      "metadata": {
        "id": "Em0mlPWnPbgM"
      },
      "outputs": [],
      "source": [
        "# Load the data\n",
        "file_path = \"SPY_section_3.csv\"\n",
        "df = pd.read_csv(file_path)"
      ]
    },
    {
      "cell_type": "code",
      "execution_count": 4,
      "metadata": {
        "id": "kxFYjyboPbgN"
      },
      "outputs": [],
      "source": [
        "# Define Autoencoder\n",
        "class Autoencoder(nn.Module):\n",
        "    def __init__(self, input_dim, encoding_dim, dropout_rate):\n",
        "        super(Autoencoder, self).__init__()\n",
        "        self.encoder = nn.Sequential(\n",
        "            nn.Linear(input_dim, 128),\n",
        "            nn.ReLU(),\n",
        "            nn.Dropout(dropout_rate),\n",
        "            nn.Linear(128, 64),\n",
        "            nn.ReLU(),\n",
        "            nn.Dropout(dropout_rate),\n",
        "            nn.Linear(64, encoding_dim)\n",
        "        )\n",
        "        self.decoder = nn.Sequential(\n",
        "            nn.Linear(encoding_dim, 64),\n",
        "            nn.ReLU(),\n",
        "            nn.Dropout(dropout_rate),\n",
        "            nn.Linear(64, 128),\n",
        "            nn.ReLU(),\n",
        "            nn.Dropout(dropout_rate),\n",
        "            nn.Linear(128, input_dim)\n",
        "        )\n",
        "\n",
        "    def forward(self, x):\n",
        "        encoded = self.encoder(x)\n",
        "        decoded = self.decoder(encoded)\n",
        "        return decoded"
      ]
    },
    {
      "cell_type": "code",
      "execution_count": 5,
      "metadata": {
        "id": "8PoaIEg9PbgO"
      },
      "outputs": [],
      "source": [
        "# Define LSTM model\n",
        "class ComplexLSTMModel(nn.Module):\n",
        "    def __init__(self, input_size, hidden_size, num_layers, dropout_rate):\n",
        "        super(ComplexLSTMModel, self).__init__()\n",
        "        # Unidirectional LSTM for sequential stock price prediction\n",
        "        self.lstm = nn.LSTM(input_size, hidden_size, num_layers,\n",
        "                            batch_first=True, dropout=dropout_rate)  # Removed bidirectional=True\n",
        "\n",
        "        # Fully connected layers for added complexity\n",
        "        self.fc1 = nn.Linear(hidden_size, hidden_size // 2)\n",
        "        self.dropout1 = nn.Dropout(dropout_rate)\n",
        "        self.fc2 = nn.Linear(hidden_size // 2, hidden_size // 4)\n",
        "        self.dropout2 = nn.Dropout(dropout_rate)\n",
        "        self.fc3 = nn.Linear(hidden_size // 4, 1)\n",
        "\n",
        "    def forward(self, x):\n",
        "        # LSTM expects input of shape (batch_size, sequence_length, input_size)\n",
        "        out, _ = self.lstm(x)\n",
        "        # Use the output of the last time step\n",
        "        out = out[:, -1, :]  # Shape: (batch_size, hidden_size)\n",
        "\n",
        "        out = torch.relu(self.fc1(out))  # First fully connected layer\n",
        "        out = self.dropout1(out)\n",
        "        out = torch.relu(self.fc2(out))  # Second fully connected layer\n",
        "        out = self.dropout2(out)\n",
        "        out = self.fc3(out)  # Output layer (no activation for regression)\n",
        "        return out\n",
        "\n",
        "\n",
        "sequence_length = 10\n",
        "\n",
        "# Reshape data into sequences\n",
        "def create_sequences(data, target, seq_length):\n",
        "    X_seq, y_seq = [], []\n",
        "    for i in range(len(data) - seq_length):\n",
        "        X_seq.append(data[i:i + seq_length])\n",
        "        y_seq.append(target[i + seq_length])\n",
        "    return np.array(X_seq), np.array(y_seq)\n"
      ]
    },
    {
      "cell_type": "code",
      "execution_count": 6,
      "metadata": {
        "id": "YCcAOTVZPbgP"
      },
      "outputs": [],
      "source": [
        "# Define the target variable\n",
        "if \"Target\" not in df.columns:\n",
        "    # df[\"Target\"] = (df[\"Close\"].shift(-1) > df[\"Close\"]).astype(int)\n",
        "    df[\"Target\"] = df[\"Close\"].shift(-1)\n",
        "df = df.dropna()"
      ]
    },
    {
      "cell_type": "code",
      "execution_count": 7,
      "metadata": {
        "id": "wLsX8RMiPbgP"
      },
      "outputs": [],
      "source": [
        "# Adding SMA and EMA to the feature\n",
        "short_term_period = 20\n",
        "medium_term_period = 50\n",
        "long_term_period = 200\n",
        "\n",
        "# Compute the SMAs\n",
        "df['SMA_20'] = df['Close'].rolling(window=short_term_period).mean() # Short-term SMA\n",
        "df['SMA_50'] = df['Close'].rolling(window=medium_term_period).mean() # Medium-term SMA\n",
        "df['SMA_200'] = df['Close'].rolling(window=long_term_period).mean() # Long-term SMA\n",
        "\n",
        "df['EMA_10'] = df['Close'].ewm(span=10, adjust=False).mean()  # Short-term EMA\n",
        "df['EMA_50'] = df['Close'].ewm(span=50, adjust=False).mean()  # Medium-term EMA\n",
        "df['EMA_200'] = df['Close'].ewm(span=200, adjust=False).mean()  # Long-term EMA\n",
        "\n",
        "df = df.dropna()"
      ]
    },
    {
      "cell_type": "code",
      "execution_count": 8,
      "metadata": {
        "colab": {
          "base_uri": "https://localhost:8080/"
        },
        "id": "O4-4dr_aPbgQ",
        "outputId": "056bb11f-db3c-4aa6-e52d-908f4c83991d"
      },
      "outputs": [
        {
          "output_type": "stream",
          "name": "stdout",
          "text": [
            "Train: 1768, Val: 379, Test: 370\n",
            "(2527, 11)\n"
          ]
        }
      ],
      "source": [
        "X = df.drop(columns=[\"Date\", \"Target\"])\n",
        "y = df[\"Target\"]\n",
        "\n",
        "feature_columns = [\"Open\", \"High\", \"Low\", \"Close\", \"Volume\", \"SMA_20\", \"SMA_50\", \"SMA_200\", \"EMA_10\", \"EMA_50\", \"EMA_200\"]\n",
        "\n",
        "train_size = int(X.shape[0] * 0.7)\n",
        "val_size = int(X.shape[0] * 0.15)\n",
        "\n",
        "scaler = MinMaxScaler()\n",
        "\n",
        "# Split data into train, validation, and test\n",
        "temp_train = X[:train_size]\n",
        "temp_val = X[train_size:train_size + val_size]\n",
        "temp_test = X[train_size + val_size:]\n",
        "\n",
        "temp_train = temp_train[feature_columns]\n",
        "temp_val = temp_val[feature_columns]\n",
        "temp_test = temp_test[feature_columns]\n",
        "\n",
        "# Fit and transform for train, transform for validation and test\n",
        "temp_train = scaler.fit_transform(temp_train)\n",
        "temp_val = scaler.transform(temp_val)\n",
        "temp_test = scaler.transform(temp_test)\n",
        "\n",
        "# Convert NumPy arrays back to DataFrames\n",
        "temp_train = pd.DataFrame(temp_train, columns=feature_columns)\n",
        "temp_val = pd.DataFrame(temp_val, columns=feature_columns)\n",
        "temp_test = pd.DataFrame(temp_test, columns=feature_columns)\n",
        "\n",
        "# Concatenate the data\n",
        "X_scaled = pd.concat([temp_train, temp_val, temp_test], axis=0)\n",
        "\n",
        "X_seq, y_seq = create_sequences(X_scaled, y.values, sequence_length)\n",
        "\n",
        "# Split sequentially\n",
        "X_train, y_train = X_seq[:train_size], y_seq[:train_size]\n",
        "X_val, y_val = X_seq[train_size:train_size + val_size], y_seq[train_size:train_size + val_size]\n",
        "X_test, y_test = X_seq[train_size + val_size:], y_seq[train_size + val_size:]\n",
        "\n",
        "# Print sizes to confirm\n",
        "print(f\"Train: {len(X_train)}, Val: {len(X_val)}, Test: {len(X_test)}\")\n",
        "print(X_scaled.shape)"
      ]
    },
    {
      "cell_type": "code",
      "execution_count": 9,
      "metadata": {
        "id": "GBsQfpyQPbgQ"
      },
      "outputs": [],
      "source": [
        "# Convert to PyTorch tensors\n",
        "X_train_tensor = torch.tensor(X_train, dtype=torch.float32)\n",
        "y_train_tensor = torch.tensor(y_train, dtype=torch.float32)\n",
        "X_val_tensor = torch.tensor(X_val, dtype=torch.float32)\n",
        "y_val_tensor = torch.tensor(y_val, dtype=torch.float32)\n",
        "X_test_tensor = torch.tensor(X_test, dtype=torch.float32)\n",
        "y_test_tensor = torch.tensor(y_test, dtype=torch.float32)\n",
        "\n",
        "# Create DataLoaders\n",
        "train_dataset = TensorDataset(X_train_tensor, y_train_tensor)\n",
        "val_dataset = TensorDataset(X_val_tensor, y_val_tensor)\n",
        "test_dataset = TensorDataset(X_test_tensor, y_test_tensor)\n",
        "\n",
        "train_loader = DataLoader(train_dataset, batch_size=64, shuffle=True)\n",
        "val_loader = DataLoader(val_dataset, batch_size=64, shuffle=False)\n",
        "test_loader = DataLoader(test_dataset, batch_size=64, shuffle=False)\n"
      ]
    },
    {
      "cell_type": "markdown",
      "metadata": {
        "id": "XWSUtBcjPbgS"
      },
      "source": [
        "<span style=\"color: yellow; font-size: 40px;\">Evaluating original LSTM</span>"
      ]
    },
    {
      "cell_type": "code",
      "execution_count": 10,
      "metadata": {
        "id": "sTzSYPwxPbgT"
      },
      "outputs": [],
      "source": [
        "# Hyperparameters\n",
        "input_size = X_train.shape[2]  # Number of features\n",
        "hidden_size = 128\n",
        "num_layers = 2\n",
        "dropout_rate = 0.1\n",
        "learning_rate = 0.0005\n",
        "num_epochs = 500\n",
        "patience = 30"
      ]
    },
    {
      "cell_type": "code",
      "execution_count": 11,
      "metadata": {
        "colab": {
          "base_uri": "https://localhost:8080/",
          "height": 721
        },
        "id": "G6-GJJUSPbgU",
        "outputId": "c2c8ff28-04b0-4b49-a337-6d5eaf0c2559"
      },
      "outputs": [
        {
          "output_type": "stream",
          "name": "stderr",
          "text": [
            "<ipython-input-11-2c00870e8411>:7: FutureWarning: You are using `torch.load` with `weights_only=False` (the current default value), which uses the default pickle module implicitly. It is possible to construct malicious pickle data which will execute arbitrary code during unpickling (See https://github.com/pytorch/pytorch/blob/main/SECURITY.md#untrusted-models for more details). In a future release, the default value for `weights_only` will be flipped to `True`. This limits the functions that could be executed during unpickling. Arbitrary objects will no longer be allowed to be loaded via this mode unless they are explicitly allowlisted by the user via `torch.serialization.add_safe_globals`. We recommend you start setting `weights_only=True` for any use case where you don't have full control of the loaded file. Please open an issue on GitHub for any issues related to this experimental feature.\n",
            "  LSTM_model.load_state_dict(torch.load(LSTM_model_path, map_location=torch.device('cpu')))\n",
            "/usr/local/lib/python3.11/dist-packages/torch/nn/modules/loss.py:608: UserWarning: Using a target size (torch.Size([64])) that is different to the input size (torch.Size([64, 1])). This will likely lead to incorrect results due to broadcasting. Please ensure they have the same size.\n",
            "  return F.mse_loss(input, target, reduction=self.reduction)\n",
            "/usr/local/lib/python3.11/dist-packages/torch/nn/modules/loss.py:608: UserWarning: Using a target size (torch.Size([50])) that is different to the input size (torch.Size([50, 1])). This will likely lead to incorrect results due to broadcasting. Please ensure they have the same size.\n",
            "  return F.mse_loss(input, target, reduction=self.reduction)\n"
          ]
        },
        {
          "output_type": "stream",
          "name": "stdout",
          "text": [
            "\n",
            "===== Evaluation Results =====\n",
            "Test Loss: 1275.9279\n",
            "Test MAE: 30.6079\n",
            "Average Error Percentage: 10.94%\n",
            "Largest Error Percentage: 23.87%\n"
          ]
        },
        {
          "output_type": "display_data",
          "data": {
            "text/plain": [
              "<Figure size 1000x500 with 1 Axes>"
            ],
            "image/png": "[encoded data removed]"
          },
          "metadata": {}
        }
      ],
      "source": [
        "# Define paths\n",
        "# LSTM_model_path = \"./lstm_codes/lstm_models/lstm_section_3.pth\"\n",
        "LSTM_model_path = \"lstm_section_3.pth\"\n",
        "\n",
        "# Load the trained model\n",
        "LSTM_model = ComplexLSTMModel(input_size=input_size, hidden_size=hidden_size, num_layers=num_layers, dropout_rate=dropout_rate).to(device)\n",
        "LSTM_model.load_state_dict(torch.load(LSTM_model_path, map_location=torch.device('cpu')))\n",
        "LSTM_model.eval()\n",
        "\n",
        "# Define loss function\n",
        "criterion = torch.nn.MSELoss()\n",
        "\n",
        "# Evaluate on test data\n",
        "test_loss = 0.0\n",
        "test_mae = 0.0\n",
        "all_true = []\n",
        "all_preds = []\n",
        "\n",
        "with torch.no_grad():\n",
        "    for X_batch, y_batch in test_loader:\n",
        "        X_batch, y_batch = X_batch.to(device), y_batch.to(device)\n",
        "        outputs = LSTM_model(X_batch)\n",
        "        loss = criterion(outputs, y_batch)\n",
        "        mae = torch.mean(torch.abs(outputs - y_batch))\n",
        "\n",
        "        test_loss += loss.item() * X_batch.size(0)\n",
        "        test_mae += mae.item() * X_batch.size(0)\n",
        "\n",
        "        all_true.extend(y_batch.cpu().numpy())\n",
        "        all_preds.extend(outputs.cpu().numpy())\n",
        "\n",
        "# Compute final metrics\n",
        "test_loss /= len(test_loader.dataset)\n",
        "test_mae /= len(test_loader.dataset)\n",
        "\n",
        "# Compute error percentages\n",
        "all_true = np.array(all_true).flatten()\n",
        "all_preds = np.array(all_preds).flatten()\n",
        "error = np.abs(all_true - all_preds) / (np.abs(all_true) + 1e-8)\n",
        "avg_error = np.mean(error) * 100\n",
        "largest_error = np.max(error) * 100\n",
        "\n",
        "# Print results\n",
        "print(\"\\n===== Evaluation Results =====\")\n",
        "print(f\"Test Loss: {test_loss:.4f}\")\n",
        "print(f\"Test MAE: {test_mae:.4f}\")\n",
        "print(f\"Average Error Percentage: {avg_error:.2f}%\")\n",
        "print(f\"Largest Error Percentage: {largest_error:.2f}%\")\n",
        "\n",
        "# Plot actual vs predicted values\n",
        "plt.figure(figsize=(10, 5))\n",
        "plt.plot(all_true, label='True Values', color='blue')\n",
        "plt.plot(all_preds, label='Predicted Values', color='red')\n",
        "plt.xlabel('Time')\n",
        "plt.ylabel('Value')\n",
        "plt.title('Actual vs. Predicted Values')\n",
        "plt.legend()\n",
        "plt.show()\n"
      ]
    },
    {
      "cell_type": "markdown",
      "metadata": {
        "id": "DysuppZ-PbgU"
      },
      "source": [
        "<span style=\"color: yellow; font-size: 40px;\">Evaluating original autoencoder</span>"
      ]
    },
    {
      "cell_type": "code",
      "execution_count": 12,
      "metadata": {
        "id": "Brigs17kPbgV"
      },
      "outputs": [],
      "source": [
        "X_train = X_scaled[:train_size]\n",
        "X_val = X_scaled[train_size:train_size + val_size]\n",
        "X_test = X_scaled[train_size + val_size:]"
      ]
    },
    {
      "cell_type": "code",
      "execution_count": 13,
      "metadata": {
        "id": "FsfRmB9wPbgV"
      },
      "outputs": [],
      "source": [
        "X_train = X_train.values\n",
        "X_val = X_val.values\n",
        "X_test = X_test.values"
      ]
    },
    {
      "cell_type": "code",
      "execution_count": 14,
      "metadata": {
        "id": "n68TZ3ptPbgV"
      },
      "outputs": [],
      "source": [
        "\n",
        "# Convert data to PyTorch tensors\n",
        "X_train_tensor = torch.tensor(X_train, dtype=torch.float32)\n",
        "X_val_tensor = torch.tensor(X_val, dtype=torch.float32)\n",
        "X_test_tensor = torch.tensor(X_test, dtype=torch.float32)\n",
        "\n",
        "# Create DataLoader\n",
        "train_dataset = TensorDataset(X_train_tensor, X_train_tensor)\n",
        "val_dataset = TensorDataset(X_val_tensor, X_val_tensor)\n",
        "test_dataset = TensorDataset(X_test_tensor, X_test_tensor)\n",
        "train_loader = DataLoader(train_dataset, batch_size=16, shuffle=True)\n",
        "val_loader = DataLoader(val_dataset, batch_size=16, shuffle=False)\n",
        "test_loader = DataLoader(test_dataset, batch_size=16, shuffle=False)\n"
      ]
    },
    {
      "cell_type": "code",
      "execution_count": 15,
      "metadata": {
        "id": "hcUQ1lGxPbgW"
      },
      "outputs": [],
      "source": [
        "input_dim = X_train.shape[1]\n",
        "\n",
        "# Hyperparameters\n",
        "encoding_dim = 5\n",
        "learning_rate = 0.0005\n",
        "dropout_rate = 0.3\n",
        "epochs = 750\n",
        "batch_size = 16\n",
        "patience = 40"
      ]
    },
    {
      "cell_type": "code",
      "execution_count": 16,
      "metadata": {
        "colab": {
          "base_uri": "https://localhost:8080/"
        },
        "id": "6RSUrM-XPbgW",
        "outputId": "6ca88ab2-8a61-479b-e043-e0d42a8c53d6"
      },
      "outputs": [
        {
          "output_type": "stream",
          "name": "stderr",
          "text": [
            "<ipython-input-16-995c16865297>:4: FutureWarning: You are using `torch.load` with `weights_only=False` (the current default value), which uses the default pickle module implicitly. It is possible to construct malicious pickle data which will execute arbitrary code during unpickling (See https://github.com/pytorch/pytorch/blob/main/SECURITY.md#untrusted-models for more details). In a future release, the default value for `weights_only` will be flipped to `True`. This limits the functions that could be executed during unpickling. Arbitrary objects will no longer be allowed to be loaded via this mode unless they are explicitly allowlisted by the user via `torch.serialization.add_safe_globals`. We recommend you start setting `weights_only=True` for any use case where you don't have full control of the loaded file. Please open an issue on GitHub for any issues related to this experimental feature.\n",
            "  autoencoder_model.load_state_dict(torch.load(autoencoder_model_path, map_location=torch.device('cpu')))\n"
          ]
        },
        {
          "output_type": "execute_result",
          "data": {
            "text/plain": [
              "<All keys matched successfully>"
            ]
          },
          "metadata": {},
          "execution_count": 16
        }
      ],
      "source": [
        "# autoencoder_model_path = \"./autoencoder_codes/autoencoder_models/autoencoder_section_3.pth\"\n",
        "autoencoder_model_path = \"autoencoder_section_3.pth\"\n",
        "autoencoder_model = Autoencoder(input_dim=input_dim, encoding_dim=encoding_dim, dropout_rate=dropout_rate).to(device)\n",
        "autoencoder_model.load_state_dict(torch.load(autoencoder_model_path, map_location=torch.device('cpu')))"
      ]
    },
    {
      "cell_type": "code",
      "execution_count": 17,
      "metadata": {
        "colab": {
          "base_uri": "https://localhost:8080/"
        },
        "id": "ib1Drdq-PbgW",
        "outputId": "17155c22-413f-408e-b4f0-35b7838a359a"
      },
      "outputs": [
        {
          "output_type": "stream",
          "name": "stdout",
          "text": [
            "MSE: 0.0052, MAE: 0.0563, REE: 0.0482, Euclidean Distance: 0.2232, Average Error: 38.4449%\n"
          ]
        }
      ],
      "source": [
        "autoencoder_model.eval()\n",
        "with torch.no_grad():\n",
        "    reconstructed_test = autoencoder_model(torch.tensor(X_test, dtype=torch.float32).to(device)).cpu().numpy()\n",
        "mse = np.mean((X_test - reconstructed_test) ** 2)\n",
        "mae = np.mean(np.abs(X_test - reconstructed_test))\n",
        "ree = np.mean(np.linalg.norm(X_test - reconstructed_test, axis=1) / np.linalg.norm(X_test, axis=1))\n",
        "euclidean_dist = np.mean([norm(X_test[i] - reconstructed_test[i]) for i in range(len(X_test))])\n",
        "reconstruction_error_percentage = (\n",
        "    np.mean(np.abs(X_test - reconstructed_test) / (np.abs(X_test) + 1e-8), axis=1) * 100\n",
        ")\n",
        "average_error = np.mean(reconstruction_error_percentage)\n",
        "print(f'MSE: {mse:.4f}, MAE: {mae:.4f}, REE: {ree:.4f}, Euclidean Distance: {euclidean_dist:.4f}, Average Error: {average_error:.4f}%')"
      ]
    },
    {
      "cell_type": "code",
      "execution_count": 18,
      "metadata": {
        "colab": {
          "base_uri": "https://localhost:8080/",
          "height": 487
        },
        "id": "qQfQI-4iPbgW",
        "outputId": "d8303182-c472-4d1d-a61c-593aaa4177fc"
      },
      "outputs": [
        {
          "output_type": "display_data",
          "data": {
            "text/plain": [
              "<Figure size 1000x500 with 1 Axes>"
            ],
            "image/png": "[encoded data removed]"
          },
          "metadata": {}
        }
      ],
      "source": [
        "# Scatter plot of reconstruction error percentage\n",
        "plt.figure(figsize=(10, 5))\n",
        "plt.scatter(range(len(reconstruction_error_percentage)), reconstruction_error_percentage, alpha=0.5)\n",
        "plt.ylim(0, 50)\n",
        "plt.xlabel('Sample')\n",
        "plt.ylabel('Reconstruction Error Percentage')\n",
        "plt.title('Reconstruction Error Percentage')\n",
        "plt.show()\n"
      ]
    },
    {
      "cell_type": "markdown",
      "metadata": {
        "id": "9jJwk1fLPbgY"
      },
      "source": [
        "<span style=\"color: yellow; font-size: 40px;\">Bias correction model - single input</span>"
      ]
    },
    {
      "cell_type": "code",
      "execution_count": 19,
      "metadata": {
        "id": "uNOyKDulPbgY"
      },
      "outputs": [],
      "source": [
        "# import torch\n",
        "# import torch.nn as nn\n",
        "# import torch.nn.functional as F\n",
        "\n",
        "# class BiasPredictor(nn.Module):\n",
        "#     def __init__(self, input_size, hidden_size1, dropout_rate):\n",
        "#         super(BiasPredictor, self).__init__()\n",
        "\n",
        "#         hidden_size2 = hidden_size1 // 2\n",
        "#         hidden_size3 = hidden_size2 // 2\n",
        "#         hidden_size4 = hidden_size3 // 2  # New additional layer\n",
        "\n",
        "#         self.fc1 = nn.Linear(input_size, hidden_size1)\n",
        "#         self.dropout1 = nn.Dropout(dropout_rate)\n",
        "\n",
        "#         self.fc2 = nn.Linear(hidden_size1, hidden_size2)\n",
        "#         self.dropout2 = nn.Dropout(dropout_rate)\n",
        "\n",
        "#         self.fc3 = nn.Linear(hidden_size2, hidden_size3)\n",
        "#         self.dropout3 = nn.Dropout(dropout_rate)\n",
        "\n",
        "#         self.fc4 = nn.Linear(hidden_size3, hidden_size4)  # New additional layer\n",
        "#         self.dropout4 = nn.Dropout(dropout_rate)\n",
        "\n",
        "#         self.fc5 = nn.Linear(hidden_size4, 1)  # Final output layer\n",
        "\n",
        "#     def forward(self, x):\n",
        "#         x = F.relu(self.fc1(x))\n",
        "#         x = self.dropout1(x)\n",
        "\n",
        "#         x = F.relu(self.fc2(x))\n",
        "#         x = self.dropout2(x)\n",
        "\n",
        "#         x = F.relu(self.fc3(x))\n",
        "#         x = self.dropout3(x)\n",
        "\n",
        "#         x = F.relu(self.fc4(x))  # New layer\n",
        "#         x = self.dropout4(x)\n",
        "\n",
        "#         return self.fc5(x)\n",
        "\n",
        "##################################################################\n",
        "\n",
        "# import torch\n",
        "# import torch.nn as nn\n",
        "# import torch.nn.functional as F\n",
        "\n",
        "# class BiasPredictor(nn.Module):\n",
        "#     def __init__(self, input_size, hidden_size, dropout_rate):\n",
        "#         super(BiasPredictor, self).__init__()\n",
        "\n",
        "#         # Calculate progressively halved hidden sizes\n",
        "#         hidden_size2 = hidden_size // 2\n",
        "#         hidden_size3 = hidden_size2 // 2\n",
        "\n",
        "#         # Define layers\n",
        "#         self.fc1 = nn.Linear(input_size, hidden_size)\n",
        "#         self.dropout1 = nn.Dropout(dropout_rate)\n",
        "\n",
        "#         self.fc2 = nn.Linear(hidden_size, hidden_size2)\n",
        "#         self.dropout2 = nn.Dropout(dropout_rate)\n",
        "\n",
        "#         self.fc3 = nn.Linear(hidden_size2, hidden_size3)\n",
        "#         self.dropout3 = nn.Dropout(dropout_rate)\n",
        "\n",
        "#         self.fc4 = nn.Linear(hidden_size3, 1)  # Final output layer\n",
        "\n",
        "#     def forward(self, x):\n",
        "#         x = F.relu(self.fc1(x))\n",
        "#         x = self.dropout1(x)\n",
        "\n",
        "#         x = F.relu(self.fc2(x))\n",
        "#         x = self.dropout2(x)\n",
        "\n",
        "#         x = F.relu(self.fc3(x))\n",
        "#         x = self.dropout3(x)\n",
        "\n",
        "#         return self.fc4(x)  # Output layer without activation\n",
        "\n",
        "##################################################################\n",
        "\n",
        "import torch\n",
        "import torch.nn as nn\n",
        "import torch.nn.functional as F\n",
        "\n",
        "class BiasPredictor(nn.Module):\n",
        "    def __init__(self, input_size, hidden_size, dropout_rate):\n",
        "        super(BiasPredictor, self).__init__()\n",
        "\n",
        "        # Calculate progressively halved hidden sizes\n",
        "        hidden_size2 = hidden_size // 2\n",
        "\n",
        "        # Define layers\n",
        "        self.fc1 = nn.Linear(input_size, hidden_size)\n",
        "        self.dropout1 = nn.Dropout(dropout_rate)\n",
        "\n",
        "        self.fc2 = nn.Linear(hidden_size, hidden_size2)\n",
        "        self.dropout2 = nn.Dropout(dropout_rate)\n",
        "\n",
        "        self.fc3 = nn.Linear(hidden_size2, 1)  # Final output layer\n",
        "\n",
        "    def forward(self, x):\n",
        "        x = F.relu(self.fc1(x))\n",
        "        x = self.dropout1(x)\n",
        "\n",
        "        x = F.relu(self.fc2(x))\n",
        "        x = self.dropout2(x)\n",
        "\n",
        "        return self.fc3(x)  # Output layer without activation\n",
        "\n",
        "\n"
      ]
    },
    {
      "cell_type": "code",
      "execution_count": 20,
      "metadata": {
        "id": "8HSuPOWePbgY"
      },
      "outputs": [],
      "source": [
        "# Get LSTM predictions of entire dataset\n",
        "with torch.no_grad():\n",
        "    X_tensor = torch.tensor(X_seq, dtype=torch.float32).to(device)\n",
        "    LSTM_preds = LSTM_model(X_tensor).cpu().numpy()\n",
        "\n",
        "# Put LSTM predictions into a new DataFrame\n",
        "new_df = pd.DataFrame(LSTM_preds, columns=[\"LSTM_Pred\"])\n"
      ]
    },
    {
      "cell_type": "code",
      "execution_count": 21,
      "metadata": {
        "id": "Uj-dqer8PbgY"
      },
      "outputs": [],
      "source": [
        "# Drop the first sequence_length rows\n",
        "temp_y = y\n",
        "temp_y = temp_y[sequence_length:]\n",
        "\n",
        "# add the target variable to the new DataFrame\n",
        "new_df[\"Target\"] = temp_y.values"
      ]
    },
    {
      "cell_type": "code",
      "execution_count": 22,
      "metadata": {
        "id": "ZoOyqfK_PbgZ"
      },
      "outputs": [],
      "source": [
        "# Get reconstruction error percentage for the entire dataset\n",
        "autoencoder_model.eval()\n",
        "with torch.no_grad():\n",
        "    reconstructed = autoencoder_model(torch.tensor(X_scaled.values, dtype=torch.float32).to(device)).cpu().numpy()\n",
        "\n",
        "# Compute the MAE\n",
        "reconstruction_error = np.mean(np.abs(X_scaled.values - reconstructed), axis=1)\n",
        "\n",
        "# Compute the reconstruction error percentage\n",
        "# reconstruction_error = np.mean(np.abs(X_scaled.values - reconstructed) / (np.abs(X_scaled.values) + 1e-8), axis=1) * 100\n",
        "# reconstruction_error = np.mean((X_scaled.values - reconstructed) / ((X_scaled.values) + 1e-8), axis=1) * 100\n",
        "\n",
        "# Drop the first sequence_length rows\n",
        "reconstruction_error_new = reconstruction_error[sequence_length:]\n",
        "\n",
        "# Add the reconstruction error to the new DataFrame\n",
        "new_df[\"Reconstruction_error_single\"] = reconstruction_error_new\n",
        "\n",
        "# Get reconstruction error arr of past 10 days\n",
        "reconstruction_error_arr = []\n",
        "for i in range(sequence_length, len(reconstruction_error)):\n",
        "    reconstruction_error_arr.append(reconstruction_error[i - sequence_length:i])\n",
        "\n",
        "\n",
        "# Add the reconstruction error array to the new DataFrame\n",
        "new_df[\"Reconstruction_error_arr\"] = reconstruction_error_arr\n",
        "\n"
      ]
    },
    {
      "cell_type": "code",
      "execution_count": 23,
      "metadata": {
        "colab": {
          "base_uri": "https://localhost:8080/",
          "height": 487
        },
        "id": "d1h2wYSfPbgZ",
        "outputId": "66bdd5c2-233c-4480-d57d-fa74849a4d78"
      },
      "outputs": [
        {
          "output_type": "display_data",
          "data": {
            "text/plain": [
              "<Figure size 1000x500 with 1 Axes>"
            ],
            "image/png": "[encoded data removed]"
          },
          "metadata": {}
        }
      ],
      "source": [
        "# plot reconstruction error scatter plot\n",
        "plt.figure(figsize=(10, 5))\n",
        "plt.scatter(range(len(reconstruction_error)), reconstruction_error, alpha=0.5)\n",
        "plt.ylim(0, 0.5)\n",
        "plt.xlabel('Sample')\n",
        "# plt.ylabel('Reconstruction Error Percentage')\n",
        "# plt.title('Reconstruction Error Percentage')\n",
        "plt.ylabel('Reconstruction Error MAE')\n",
        "plt.title('Reconstruction Error MAE')\n",
        "plt.show()\n"
      ]
    },
    {
      "cell_type": "code",
      "execution_count": 24,
      "metadata": {
        "colab": {
          "base_uri": "https://localhost:8080/"
        },
        "id": "zpaba2jsPbgZ",
        "outputId": "147887ed-093e-4755-fbf7-c2ec12c5f449"
      },
      "outputs": [
        {
          "output_type": "execute_result",
          "data": {
            "text/plain": [
              "array([0.01112294, 0.01061798, 0.01121775, 0.01175785, 0.01235988,\n",
              "       0.01201897, 0.01181609, 0.00948298, 0.00851219, 0.0115408 ])"
            ]
          },
          "metadata": {},
          "execution_count": 24
        }
      ],
      "source": [
        "reconstruction_error_arr[0]"
      ]
    },
    {
      "cell_type": "code",
      "execution_count": 25,
      "metadata": {
        "id": "cK-bJ5TuPbga"
      },
      "outputs": [],
      "source": [
        "# Calculate the difference between the target and LSTM prediction\n",
        "new_df[\"Bias\"] = new_df[\"Target\"] - new_df[\"LSTM_Pred\"]"
      ]
    },
    {
      "cell_type": "code",
      "execution_count": 26,
      "metadata": {
        "id": "ZOk4bQp6Pbga"
      },
      "outputs": [],
      "source": [
        "y = new_df[\"Bias\"]\n",
        "X = new_df[\"Reconstruction_error_single\"]\n",
        "# X = new_df[\"Reconstruction_error_arr\"]"
      ]
    },
    {
      "cell_type": "code",
      "execution_count": 27,
      "metadata": {
        "colab": {
          "base_uri": "https://localhost:8080/"
        },
        "id": "sckHEj-UPbga",
        "outputId": "d9855b1e-3315-40e4-9cd0-4a41f4de5d85"
      },
      "outputs": [
        {
          "output_type": "stream",
          "name": "stdout",
          "text": [
            "Train: 1761, Val: 377, Test: 379\n"
          ]
        }
      ],
      "source": [
        "# Sequential split\n",
        "train_size = int(0.7 * len(X))\n",
        "val_size = int(0.15 * len(X))\n",
        "\n",
        "X_train_raw = X[:train_size]\n",
        "y_train_raw = y[:train_size]\n",
        "X_val_raw = X[train_size:train_size + val_size]\n",
        "y_val_raw = y[train_size:train_size + val_size]\n",
        "X_test_raw = X[train_size + val_size:]\n",
        "y_test_raw = y[train_size + val_size:]\n",
        "\n",
        "# Scale using StandardScaler (fit only on train data)\n",
        "# X_scaler = StandardScaler()\n",
        "X_scaler = RobustScaler()\n",
        "X_train_scaled = X_scaler.fit_transform(X_train_raw.values.reshape(-1, 1))\n",
        "X_val_scaled = X_scaler.transform(X_val_raw.values.reshape(-1, 1))\n",
        "X_test_scaled = X_scaler.transform(X_test_raw.values.reshape(-1, 1))\n",
        "\n",
        "# y_scaler = StandardScaler()\n",
        "y_scaler = RobustScaler()\n",
        "y_train_scaled = y_scaler.fit_transform(y_train_raw.values.reshape(-1, 1))\n",
        "y_val_scaled = y_scaler.transform(y_val_raw.values.reshape(-1, 1))\n",
        "y_test_scaled = y_scaler.transform(y_test_raw.values.reshape(-1, 1))\n",
        "\n",
        "# Convert data to PyTorch tensors\n",
        "X_train = torch.tensor(X_train_scaled, dtype=torch.float32).unsqueeze(1)\n",
        "y_train = torch.tensor(y_train_scaled, dtype=torch.float32).unsqueeze(1)\n",
        "X_val = torch.tensor(X_val_scaled, dtype=torch.float32).unsqueeze(1)\n",
        "y_val = torch.tensor(y_val_scaled, dtype=torch.float32).unsqueeze(1)\n",
        "X_test = torch.tensor(X_test_scaled, dtype=torch.float32).unsqueeze(1)\n",
        "y_test = torch.tensor(y_test_scaled, dtype=torch.float32).unsqueeze(1)\n",
        "\n",
        "# Print sizes\n",
        "print(f\"Train: {len(X_train)}, Val: {len(X_val)}, Test: {len(X_test)}\")"
      ]
    },
    {
      "cell_type": "code",
      "execution_count": 28,
      "metadata": {
        "colab": {
          "base_uri": "https://localhost:8080/"
        },
        "id": "_KQrET0zPbgb",
        "outputId": "869a1426-077b-45cf-b27a-6508958f8e9b"
      },
      "outputs": [
        {
          "output_type": "stream",
          "name": "stdout",
          "text": [
            "\n",
            " Running 1/108: H=16, D=0.0, LR=0.0001, B=8\n",
            "   Run 1/5 ...      Epoch 0: Train Loss = 0.6549, Val Loss = 10.5460\n",
            "     Epoch 5: Train Loss = 0.6152, Val Loss = 11.6691\n",
            "     Epoch 10: Train Loss = 0.6054, Val Loss = 12.3533\n",
            "     Epoch 15: Train Loss = 0.6024, Val Loss = 12.7447\n",
            "     Epoch 20: Train Loss = 0.6012, Val Loss = 12.9594\n",
            "    ⏹️ Early stopping at epoch 20\n",
            " Run 1 finished with best val loss: 10.5460\n",
            "Original Error Percentage (Test Dataset): 10.7707%\n",
            "Corrected Error Percentage (Test Dataset): 11.0168%\n",
            "   Run 2/5 ... "
          ]
        },
        {
          "output_type": "stream",
          "name": "stderr",
          "text": [
            "<ipython-input-28-f2771d1cb762>:152: UserWarning: To copy construct from a tensor, it is recommended to use sourceTensor.clone().detach() or sourceTensor.clone().detach().requires_grad_(True), rather than torch.tensor(sourceTensor).\n",
            "  X_scaled_tensor = torch.tensor(combined_X, dtype=torch.float32).unsqueeze(1)\n"
          ]
        },
        {
          "output_type": "stream",
          "name": "stdout",
          "text": [
            "     Epoch 0: Train Loss = 0.6213, Val Loss = 9.9103\n",
            "     Epoch 5: Train Loss = 0.6097, Val Loss = 10.8944\n",
            "     Epoch 10: Train Loss = 0.6038, Val Loss = 11.7581\n",
            "     Epoch 15: Train Loss = 0.6012, Val Loss = 12.2995\n",
            "     Epoch 20: Train Loss = 0.6003, Val Loss = 12.6149\n",
            "    ⏹️ Early stopping at epoch 20\n",
            " Run 2 finished with best val loss: 9.9103\n",
            "Original Error Percentage (Test Dataset): 10.7707%\n",
            "Corrected Error Percentage (Test Dataset): 10.8309%\n",
            "   Run 3/5 ... "
          ]
        },
        {
          "output_type": "stream",
          "name": "stderr",
          "text": [
            "<ipython-input-28-f2771d1cb762>:152: UserWarning: To copy construct from a tensor, it is recommended to use sourceTensor.clone().detach() or sourceTensor.clone().detach().requires_grad_(True), rather than torch.tensor(sourceTensor).\n",
            "  X_scaled_tensor = torch.tensor(combined_X, dtype=torch.float32).unsqueeze(1)\n"
          ]
        },
        {
          "output_type": "stream",
          "name": "stdout",
          "text": [
            "     Epoch 0: Train Loss = 0.6679, Val Loss = 10.6414\n",
            "     Epoch 5: Train Loss = 0.6098, Val Loss = 10.6962\n",
            "     Epoch 10: Train Loss = 0.6045, Val Loss = 11.0764\n",
            "     Epoch 15: Train Loss = 0.6022, Val Loss = 11.4266\n",
            "     Epoch 20: Train Loss = 0.6013, Val Loss = 11.6811\n",
            "    ⏹️ Early stopping at epoch 22\n",
            " Run 3 finished with best val loss: 10.6057\n",
            "Original Error Percentage (Test Dataset): 10.7707%\n",
            "Corrected Error Percentage (Test Dataset): 10.5123%\n",
            "   Run 4/5 ... "
          ]
        },
        {
          "output_type": "stream",
          "name": "stderr",
          "text": [
            "<ipython-input-28-f2771d1cb762>:152: UserWarning: To copy construct from a tensor, it is recommended to use sourceTensor.clone().detach() or sourceTensor.clone().detach().requires_grad_(True), rather than torch.tensor(sourceTensor).\n",
            "  X_scaled_tensor = torch.tensor(combined_X, dtype=torch.float32).unsqueeze(1)\n"
          ]
        },
        {
          "output_type": "stream",
          "name": "stdout",
          "text": [
            "     Epoch 0: Train Loss = 0.6527, Val Loss = 11.7494\n",
            "     Epoch 5: Train Loss = 0.6147, Val Loss = 12.5954\n",
            "     Epoch 10: Train Loss = 0.6051, Val Loss = 13.4029\n",
            "     Epoch 15: Train Loss = 0.6022, Val Loss = 13.7917\n",
            "     Epoch 20: Train Loss = 0.6012, Val Loss = 13.8959\n",
            "    ⏹️ Early stopping at epoch 20\n",
            " Run 4 finished with best val loss: 11.7494\n",
            "Original Error Percentage (Test Dataset): 10.7707%\n",
            "Corrected Error Percentage (Test Dataset): 11.3002%\n",
            "   Run 5/5 ... "
          ]
        },
        {
          "output_type": "stream",
          "name": "stderr",
          "text": [
            "<ipython-input-28-f2771d1cb762>:152: UserWarning: To copy construct from a tensor, it is recommended to use sourceTensor.clone().detach() or sourceTensor.clone().detach().requires_grad_(True), rather than torch.tensor(sourceTensor).\n",
            "  X_scaled_tensor = torch.tensor(combined_X, dtype=torch.float32).unsqueeze(1)\n"
          ]
        },
        {
          "output_type": "stream",
          "name": "stdout",
          "text": [
            "     Epoch 0: Train Loss = 0.6403, Val Loss = 12.1296\n",
            "     Epoch 5: Train Loss = 0.6114, Val Loss = 12.4341\n",
            "     Epoch 10: Train Loss = 0.6035, Val Loss = 13.0691\n",
            "     Epoch 15: Train Loss = 0.6016, Val Loss = 13.4189\n",
            "     Epoch 20: Train Loss = 0.6006, Val Loss = 13.7048\n",
            "    ⏹️ Early stopping at epoch 21\n",
            " Run 5 finished with best val loss: 12.1193\n",
            "Original Error Percentage (Test Dataset): 10.7707%\n",
            "Corrected Error Percentage (Test Dataset): 11.2359%\n",
            " Finished configuration H=16, D=0.0, LR=0.0001, B=8 → Avg Val Loss: 10.9862, Avg Accuracy: 10.9792%\n",
            "\n",
            " Running 2/108: H=16, D=0.0, LR=0.0001, B=16\n",
            "   Run 1/5 ...      Epoch 0: Train Loss = 0.6606, Val Loss = 10.6166\n"
          ]
        },
        {
          "output_type": "stream",
          "name": "stderr",
          "text": [
            "<ipython-input-28-f2771d1cb762>:152: UserWarning: To copy construct from a tensor, it is recommended to use sourceTensor.clone().detach() or sourceTensor.clone().detach().requires_grad_(True), rather than torch.tensor(sourceTensor).\n",
            "  X_scaled_tensor = torch.tensor(combined_X, dtype=torch.float32).unsqueeze(1)\n"
          ]
        },
        {
          "output_type": "stream",
          "name": "stdout",
          "text": [
            "     Epoch 5: Train Loss = 0.6188, Val Loss = 10.6670\n",
            "     Epoch 10: Train Loss = 0.6083, Val Loss = 10.9028\n",
            "     Epoch 15: Train Loss = 0.6041, Val Loss = 11.2171\n",
            "     Epoch 20: Train Loss = 0.6026, Val Loss = 11.4142\n",
            "    ⏹️ Early stopping at epoch 22\n",
            " Run 1 finished with best val loss: 10.5903\n",
            "Original Error Percentage (Test Dataset): 10.7707%\n",
            "Corrected Error Percentage (Test Dataset): 10.4304%\n",
            "   Run 2/5 ...      Epoch 0: Train Loss = 0.7586, Val Loss = 13.0543\n"
          ]
        },
        {
          "output_type": "stream",
          "name": "stderr",
          "text": [
            "<ipython-input-28-f2771d1cb762>:152: UserWarning: To copy construct from a tensor, it is recommended to use sourceTensor.clone().detach() or sourceTensor.clone().detach().requires_grad_(True), rather than torch.tensor(sourceTensor).\n",
            "  X_scaled_tensor = torch.tensor(combined_X, dtype=torch.float32).unsqueeze(1)\n"
          ]
        },
        {
          "output_type": "stream",
          "name": "stdout",
          "text": [
            "     Epoch 5: Train Loss = 0.6312, Val Loss = 12.4203\n",
            "     Epoch 10: Train Loss = 0.6082, Val Loss = 12.5323\n",
            "     Epoch 15: Train Loss = 0.6039, Val Loss = 12.7509\n",
            "     Epoch 20: Train Loss = 0.6022, Val Loss = 12.9389\n",
            "     Epoch 25: Train Loss = 0.6014, Val Loss = 13.0173\n",
            "    ⏹️ Early stopping at epoch 26\n",
            " Run 2 finished with best val loss: 12.4158\n",
            "Original Error Percentage (Test Dataset): 10.7707%\n",
            "Corrected Error Percentage (Test Dataset): 10.9892%\n",
            "   Run 3/5 ... "
          ]
        },
        {
          "output_type": "stream",
          "name": "stderr",
          "text": [
            "<ipython-input-28-f2771d1cb762>:152: UserWarning: To copy construct from a tensor, it is recommended to use sourceTensor.clone().detach() or sourceTensor.clone().detach().requires_grad_(True), rather than torch.tensor(sourceTensor).\n",
            "  X_scaled_tensor = torch.tensor(combined_X, dtype=torch.float32).unsqueeze(1)\n"
          ]
        },
        {
          "output_type": "stream",
          "name": "stdout",
          "text": [
            "     Epoch 0: Train Loss = 0.8892, Val Loss = 7.6395\n",
            "     Epoch 5: Train Loss = 0.7025, Val Loss = 9.7476\n",
            "     Epoch 10: Train Loss = 0.6284, Val Loss = 12.7442\n",
            "     Epoch 15: Train Loss = 0.6131, Val Loss = 14.0522\n",
            "     Epoch 20: Train Loss = 0.6079, Val Loss = 14.5196\n",
            "    ⏹️ Early stopping at epoch 20\n",
            " Run 3 finished with best val loss: 7.6395\n",
            "Original Error Percentage (Test Dataset): 10.7707%\n",
            "Corrected Error Percentage (Test Dataset): 11.4815%\n",
            "   Run 4/5 ...      Epoch 0: Train Loss = 0.6109, Val Loss = 10.5911\n"
          ]
        },
        {
          "output_type": "stream",
          "name": "stderr",
          "text": [
            "<ipython-input-28-f2771d1cb762>:152: UserWarning: To copy construct from a tensor, it is recommended to use sourceTensor.clone().detach() or sourceTensor.clone().detach().requires_grad_(True), rather than torch.tensor(sourceTensor).\n",
            "  X_scaled_tensor = torch.tensor(combined_X, dtype=torch.float32).unsqueeze(1)\n"
          ]
        },
        {
          "output_type": "stream",
          "name": "stdout",
          "text": [
            "     Epoch 5: Train Loss = 0.6040, Val Loss = 11.0921\n",
            "     Epoch 10: Train Loss = 0.6025, Val Loss = 11.4144\n",
            "     Epoch 15: Train Loss = 0.6020, Val Loss = 11.6401\n",
            "     Epoch 20: Train Loss = 0.6017, Val Loss = 11.8112\n",
            "    ⏹️ Early stopping at epoch 20\n",
            " Run 4 finished with best val loss: 10.5911\n",
            "Original Error Percentage (Test Dataset): 10.7707%\n",
            "Corrected Error Percentage (Test Dataset): 10.5528%\n",
            "   Run 5/5 ...      Epoch 0: Train Loss = 0.6333, Val Loss = 10.0898\n"
          ]
        },
        {
          "output_type": "stream",
          "name": "stderr",
          "text": [
            "<ipython-input-28-f2771d1cb762>:152: UserWarning: To copy construct from a tensor, it is recommended to use sourceTensor.clone().detach() or sourceTensor.clone().detach().requires_grad_(True), rather than torch.tensor(sourceTensor).\n",
            "  X_scaled_tensor = torch.tensor(combined_X, dtype=torch.float32).unsqueeze(1)\n"
          ]
        },
        {
          "output_type": "stream",
          "name": "stdout",
          "text": [
            "     Epoch 5: Train Loss = 0.6072, Val Loss = 11.3936\n",
            "     Epoch 10: Train Loss = 0.6025, Val Loss = 12.0075\n",
            "     Epoch 15: Train Loss = 0.6013, Val Loss = 12.2682\n",
            "     Epoch 20: Train Loss = 0.6010, Val Loss = 12.4022\n",
            "    ⏹️ Early stopping at epoch 20\n",
            " Run 5 finished with best val loss: 10.0898\n",
            "Original Error Percentage (Test Dataset): 10.7707%\n",
            "Corrected Error Percentage (Test Dataset): 10.7338%\n",
            " Finished configuration H=16, D=0.0, LR=0.0001, B=16 → Avg Val Loss: 10.2653, Avg Accuracy: 10.8375%\n",
            "\n",
            " Running 3/108: H=16, D=0.0, LR=0.0001, B=32\n",
            "   Run 1/5 ...      Epoch 0: Train Loss = 0.6080, Val Loss = 11.6538\n"
          ]
        },
        {
          "output_type": "stream",
          "name": "stderr",
          "text": [
            "<ipython-input-28-f2771d1cb762>:152: UserWarning: To copy construct from a tensor, it is recommended to use sourceTensor.clone().detach() or sourceTensor.clone().detach().requires_grad_(True), rather than torch.tensor(sourceTensor).\n",
            "  X_scaled_tensor = torch.tensor(combined_X, dtype=torch.float32).unsqueeze(1)\n"
          ]
        },
        {
          "output_type": "stream",
          "name": "stdout",
          "text": [
            "     Epoch 5: Train Loss = 0.6038, Val Loss = 12.1070\n",
            "     Epoch 10: Train Loss = 0.6017, Val Loss = 12.5206\n",
            "     Epoch 15: Train Loss = 0.6010, Val Loss = 12.8060\n",
            "     Epoch 20: Train Loss = 0.6007, Val Loss = 12.9240\n",
            "    ⏹️ Early stopping at epoch 20\n",
            " Run 1 finished with best val loss: 11.6538\n",
            "Original Error Percentage (Test Dataset): 10.7707%\n",
            "Corrected Error Percentage (Test Dataset): 10.9395%\n",
            "   Run 2/5 ...      Epoch 0: Train Loss = 0.7410, Val Loss = 11.6401\n"
          ]
        },
        {
          "output_type": "stream",
          "name": "stderr",
          "text": [
            "<ipython-input-28-f2771d1cb762>:152: UserWarning: To copy construct from a tensor, it is recommended to use sourceTensor.clone().detach() or sourceTensor.clone().detach().requires_grad_(True), rather than torch.tensor(sourceTensor).\n",
            "  X_scaled_tensor = torch.tensor(combined_X, dtype=torch.float32).unsqueeze(1)\n"
          ]
        },
        {
          "output_type": "stream",
          "name": "stdout",
          "text": [
            "     Epoch 5: Train Loss = 0.6686, Val Loss = 11.5671\n",
            "     Epoch 10: Train Loss = 0.6344, Val Loss = 11.5950\n",
            "     Epoch 15: Train Loss = 0.6197, Val Loss = 11.6986\n",
            "     Epoch 20: Train Loss = 0.6123, Val Loss = 11.8545\n",
            "     Epoch 25: Train Loss = 0.6081, Val Loss = 12.0147\n",
            "    ⏹️ Early stopping at epoch 26\n",
            " Run 2 finished with best val loss: 11.5445\n",
            "Original Error Percentage (Test Dataset): 10.7707%\n",
            "Corrected Error Percentage (Test Dataset): 10.5985%\n",
            "   Run 3/5 ... "
          ]
        },
        {
          "output_type": "stream",
          "name": "stderr",
          "text": [
            "<ipython-input-28-f2771d1cb762>:152: UserWarning: To copy construct from a tensor, it is recommended to use sourceTensor.clone().detach() or sourceTensor.clone().detach().requires_grad_(True), rather than torch.tensor(sourceTensor).\n",
            "  X_scaled_tensor = torch.tensor(combined_X, dtype=torch.float32).unsqueeze(1)\n"
          ]
        },
        {
          "output_type": "stream",
          "name": "stdout",
          "text": [
            "     Epoch 0: Train Loss = 0.6414, Val Loss = 10.6754\n",
            "     Epoch 5: Train Loss = 0.6235, Val Loss = 10.9170\n",
            "     Epoch 10: Train Loss = 0.6161, Val Loss = 11.2501\n",
            "     Epoch 15: Train Loss = 0.6121, Val Loss = 11.6056\n",
            "     Epoch 20: Train Loss = 0.6092, Val Loss = 11.8022\n",
            "    ⏹️ Early stopping at epoch 20\n",
            " Run 3 finished with best val loss: 10.6754\n",
            "Original Error Percentage (Test Dataset): 10.7707%\n",
            "Corrected Error Percentage (Test Dataset): 10.6413%\n",
            "   Run 4/5 ...      Epoch 0: Train Loss = 0.6456, Val Loss = 8.4038\n"
          ]
        },
        {
          "output_type": "stream",
          "name": "stderr",
          "text": [
            "<ipython-input-28-f2771d1cb762>:152: UserWarning: To copy construct from a tensor, it is recommended to use sourceTensor.clone().detach() or sourceTensor.clone().detach().requires_grad_(True), rather than torch.tensor(sourceTensor).\n",
            "  X_scaled_tensor = torch.tensor(combined_X, dtype=torch.float32).unsqueeze(1)\n"
          ]
        },
        {
          "output_type": "stream",
          "name": "stdout",
          "text": [
            "     Epoch 5: Train Loss = 0.6308, Val Loss = 8.9393\n",
            "     Epoch 10: Train Loss = 0.6208, Val Loss = 9.3803\n",
            "     Epoch 15: Train Loss = 0.6141, Val Loss = 9.7758\n",
            "     Epoch 20: Train Loss = 0.6107, Val Loss = 10.0873\n",
            "    ⏹️ Early stopping at epoch 20\n",
            " Run 4 finished with best val loss: 8.4038\n",
            "Original Error Percentage (Test Dataset): 10.7707%\n",
            "Corrected Error Percentage (Test Dataset): 9.9580%\n",
            "   Run 5/5 ...      Epoch 0: Train Loss = 0.7624, Val Loss = 8.9649\n"
          ]
        },
        {
          "output_type": "stream",
          "name": "stderr",
          "text": [
            "<ipython-input-28-f2771d1cb762>:152: UserWarning: To copy construct from a tensor, it is recommended to use sourceTensor.clone().detach() or sourceTensor.clone().detach().requires_grad_(True), rather than torch.tensor(sourceTensor).\n",
            "  X_scaled_tensor = torch.tensor(combined_X, dtype=torch.float32).unsqueeze(1)\n"
          ]
        },
        {
          "output_type": "stream",
          "name": "stdout",
          "text": [
            "     Epoch 5: Train Loss = 0.6731, Val Loss = 9.3921\n",
            "     Epoch 10: Train Loss = 0.6408, Val Loss = 10.0095\n",
            "     Epoch 15: Train Loss = 0.6231, Val Loss = 10.6715\n",
            "     Epoch 20: Train Loss = 0.6123, Val Loss = 11.2795\n",
            "    ⏹️ Early stopping at epoch 20\n",
            " Run 5 finished with best val loss: 8.9649\n",
            "Original Error Percentage (Test Dataset): 10.7707%\n",
            "Corrected Error Percentage (Test Dataset): 10.4085%\n",
            " Finished configuration H=16, D=0.0, LR=0.0001, B=32 → Avg Val Loss: 10.2485, Avg Accuracy: 10.5091%\n",
            "\n",
            " Running 4/108: H=16, D=0.0, LR=0.0005, B=8\n",
            "   Run 1/5 ... "
          ]
        },
        {
          "output_type": "stream",
          "name": "stderr",
          "text": [
            "<ipython-input-28-f2771d1cb762>:152: UserWarning: To copy construct from a tensor, it is recommended to use sourceTensor.clone().detach() or sourceTensor.clone().detach().requires_grad_(True), rather than torch.tensor(sourceTensor).\n",
            "  X_scaled_tensor = torch.tensor(combined_X, dtype=torch.float32).unsqueeze(1)\n"
          ]
        },
        {
          "output_type": "stream",
          "name": "stdout",
          "text": [
            "     Epoch 0: Train Loss = 0.6418, Val Loss = 14.2081\n",
            "     Epoch 5: Train Loss = 0.6023, Val Loss = 14.2478\n",
            "     Epoch 10: Train Loss = 0.6019, Val Loss = 13.7109\n",
            "     Epoch 15: Train Loss = 0.6014, Val Loss = 13.3992\n",
            "     Epoch 20: Train Loss = 0.6016, Val Loss = 13.4791\n",
            "     Epoch 25: Train Loss = 0.6017, Val Loss = 13.6860\n",
            "     Epoch 30: Train Loss = 0.6012, Val Loss = 13.6394\n",
            "     Epoch 35: Train Loss = 0.6016, Val Loss = 13.1648\n",
            "     Epoch 40: Train Loss = 0.6012, Val Loss = 13.2774\n",
            "     Epoch 45: Train Loss = 0.6015, Val Loss = 13.4550\n",
            "     Epoch 50: Train Loss = 0.6010, Val Loss = 13.6014\n",
            "     Epoch 55: Train Loss = 0.6011, Val Loss = 13.3386\n",
            "     Epoch 60: Train Loss = 0.6007, Val Loss = 12.8205\n",
            "    ⏹️ Early stopping at epoch 64\n",
            " Run 1 finished with best val loss: 12.7723\n",
            "Original Error Percentage (Test Dataset): 10.7707%\n",
            "Corrected Error Percentage (Test Dataset): 11.0139%\n",
            "   Run 2/5 ... "
          ]
        },
        {
          "output_type": "stream",
          "name": "stderr",
          "text": [
            "<ipython-input-28-f2771d1cb762>:152: UserWarning: To copy construct from a tensor, it is recommended to use sourceTensor.clone().detach() or sourceTensor.clone().detach().requires_grad_(True), rather than torch.tensor(sourceTensor).\n",
            "  X_scaled_tensor = torch.tensor(combined_X, dtype=torch.float32).unsqueeze(1)\n"
          ]
        },
        {
          "output_type": "stream",
          "name": "stdout",
          "text": [
            "     Epoch 0: Train Loss = 0.6161, Val Loss = 11.3073\n",
            "     Epoch 5: Train Loss = 0.6015, Val Loss = 12.0441\n",
            "     Epoch 10: Train Loss = 0.6011, Val Loss = 12.2532\n",
            "     Epoch 15: Train Loss = 0.6009, Val Loss = 12.2470\n",
            "     Epoch 20: Train Loss = 0.6008, Val Loss = 12.4242\n",
            "    ⏹️ Early stopping at epoch 20\n",
            " Run 2 finished with best val loss: 11.3073\n",
            "Original Error Percentage (Test Dataset): 10.7707%\n",
            "Corrected Error Percentage (Test Dataset): 10.7679%\n",
            "   Run 3/5 ... "
          ]
        },
        {
          "output_type": "stream",
          "name": "stderr",
          "text": [
            "<ipython-input-28-f2771d1cb762>:152: UserWarning: To copy construct from a tensor, it is recommended to use sourceTensor.clone().detach() or sourceTensor.clone().detach().requires_grad_(True), rather than torch.tensor(sourceTensor).\n",
            "  X_scaled_tensor = torch.tensor(combined_X, dtype=torch.float32).unsqueeze(1)\n"
          ]
        },
        {
          "output_type": "stream",
          "name": "stdout",
          "text": [
            "     Epoch 0: Train Loss = 0.6233, Val Loss = 11.8835\n",
            "     Epoch 5: Train Loss = 0.6017, Val Loss = 12.7370\n",
            "     Epoch 10: Train Loss = 0.6008, Val Loss = 12.9378\n",
            "     Epoch 15: Train Loss = 0.6008, Val Loss = 13.1506\n",
            "     Epoch 20: Train Loss = 0.6002, Val Loss = 13.1367\n",
            "    ⏹️ Early stopping at epoch 20\n",
            " Run 3 finished with best val loss: 11.8835\n",
            "Original Error Percentage (Test Dataset): 10.7707%\n",
            "Corrected Error Percentage (Test Dataset): 11.0463%\n",
            "   Run 4/5 ... "
          ]
        },
        {
          "output_type": "stream",
          "name": "stderr",
          "text": [
            "<ipython-input-28-f2771d1cb762>:152: UserWarning: To copy construct from a tensor, it is recommended to use sourceTensor.clone().detach() or sourceTensor.clone().detach().requires_grad_(True), rather than torch.tensor(sourceTensor).\n",
            "  X_scaled_tensor = torch.tensor(combined_X, dtype=torch.float32).unsqueeze(1)\n"
          ]
        },
        {
          "output_type": "stream",
          "name": "stdout",
          "text": [
            "     Epoch 0: Train Loss = 0.6098, Val Loss = 9.4455\n",
            "     Epoch 5: Train Loss = 0.6023, Val Loss = 10.9745\n",
            "     Epoch 10: Train Loss = 0.6006, Val Loss = 12.1300\n",
            "     Epoch 15: Train Loss = 0.6009, Val Loss = 12.2561\n",
            "     Epoch 20: Train Loss = 0.6007, Val Loss = 12.3826\n",
            "    ⏹️ Early stopping at epoch 20\n",
            " Run 4 finished with best val loss: 9.4455\n",
            "Original Error Percentage (Test Dataset): 10.7707%\n",
            "Corrected Error Percentage (Test Dataset): 10.6785%\n",
            "   Run 5/5 ... "
          ]
        },
        {
          "output_type": "stream",
          "name": "stderr",
          "text": [
            "<ipython-input-28-f2771d1cb762>:152: UserWarning: To copy construct from a tensor, it is recommended to use sourceTensor.clone().detach() or sourceTensor.clone().detach().requires_grad_(True), rather than torch.tensor(sourceTensor).\n",
            "  X_scaled_tensor = torch.tensor(combined_X, dtype=torch.float32).unsqueeze(1)\n"
          ]
        },
        {
          "output_type": "stream",
          "name": "stdout",
          "text": [
            "     Epoch 0: Train Loss = 0.6157, Val Loss = 12.0763\n",
            "     Epoch 5: Train Loss = 0.6008, Val Loss = 13.0884\n",
            "     Epoch 10: Train Loss = 0.6002, Val Loss = 12.9682\n",
            "     Epoch 15: Train Loss = 0.5999, Val Loss = 13.0687\n",
            "     Epoch 20: Train Loss = 0.6001, Val Loss = 13.1517\n",
            "    ⏹️ Early stopping at epoch 20\n",
            " Run 5 finished with best val loss: 12.0763\n",
            "Original Error Percentage (Test Dataset): 10.7707%\n",
            "Corrected Error Percentage (Test Dataset): 11.0221%\n",
            " Finished configuration H=16, D=0.0, LR=0.0005, B=8 → Avg Val Loss: 11.4970, Avg Accuracy: 10.9057%\n",
            "\n",
            " Running 5/108: H=16, D=0.0, LR=0.0005, B=16\n",
            "   Run 1/5 ...      Epoch 0: Train Loss = 0.6290, Val Loss = 9.9608\n"
          ]
        },
        {
          "output_type": "stream",
          "name": "stderr",
          "text": [
            "<ipython-input-28-f2771d1cb762>:152: UserWarning: To copy construct from a tensor, it is recommended to use sourceTensor.clone().detach() or sourceTensor.clone().detach().requires_grad_(True), rather than torch.tensor(sourceTensor).\n",
            "  X_scaled_tensor = torch.tensor(combined_X, dtype=torch.float32).unsqueeze(1)\n"
          ]
        },
        {
          "output_type": "stream",
          "name": "stdout",
          "text": [
            "     Epoch 5: Train Loss = 0.6015, Val Loss = 11.9448\n",
            "     Epoch 10: Train Loss = 0.6008, Val Loss = 12.3751\n",
            "     Epoch 15: Train Loss = 0.6009, Val Loss = 12.5291\n",
            "     Epoch 20: Train Loss = 0.6003, Val Loss = 12.7566\n",
            "    ⏹️ Early stopping at epoch 20\n",
            " Run 1 finished with best val loss: 9.9608\n",
            "Original Error Percentage (Test Dataset): 10.7707%\n",
            "Corrected Error Percentage (Test Dataset): 10.8234%\n",
            "   Run 2/5 ...      Epoch 0: Train Loss = 0.6043, Val Loss = 13.1614\n"
          ]
        },
        {
          "output_type": "stream",
          "name": "stderr",
          "text": [
            "<ipython-input-28-f2771d1cb762>:152: UserWarning: To copy construct from a tensor, it is recommended to use sourceTensor.clone().detach() or sourceTensor.clone().detach().requires_grad_(True), rather than torch.tensor(sourceTensor).\n",
            "  X_scaled_tensor = torch.tensor(combined_X, dtype=torch.float32).unsqueeze(1)\n"
          ]
        },
        {
          "output_type": "stream",
          "name": "stdout",
          "text": [
            "     Epoch 5: Train Loss = 0.6007, Val Loss = 12.9805\n",
            "     Epoch 10: Train Loss = 0.6008, Val Loss = 12.6807\n",
            "     Epoch 15: Train Loss = 0.6010, Val Loss = 12.5651\n",
            "     Epoch 20: Train Loss = 0.6006, Val Loss = 12.5935\n",
            "     Epoch 25: Train Loss = 0.6004, Val Loss = 12.6617\n",
            "     Epoch 30: Train Loss = 0.6001, Val Loss = 12.5992\n",
            "     Epoch 35: Train Loss = 0.6003, Val Loss = 12.7410\n",
            "     Epoch 40: Train Loss = 0.6004, Val Loss = 12.6855\n",
            "     Epoch 45: Train Loss = 0.5998, Val Loss = 12.5391\n",
            "     Epoch 50: Train Loss = 0.5999, Val Loss = 12.5843\n",
            "     Epoch 55: Train Loss = 0.5998, Val Loss = 13.1210\n",
            "     Epoch 60: Train Loss = 0.5995, Val Loss = 12.6290\n",
            "     Epoch 65: Train Loss = 0.5994, Val Loss = 12.8032\n",
            "    ⏹️ Early stopping at epoch 68\n",
            " Run 2 finished with best val loss: 12.3317\n",
            "Original Error Percentage (Test Dataset): 10.7707%\n",
            "Corrected Error Percentage (Test Dataset): 10.8868%\n",
            "   Run 3/5 ...      Epoch 0: Train Loss = 0.6188, Val Loss = 11.5181\n"
          ]
        },
        {
          "output_type": "stream",
          "name": "stderr",
          "text": [
            "<ipython-input-28-f2771d1cb762>:152: UserWarning: To copy construct from a tensor, it is recommended to use sourceTensor.clone().detach() or sourceTensor.clone().detach().requires_grad_(True), rather than torch.tensor(sourceTensor).\n",
            "  X_scaled_tensor = torch.tensor(combined_X, dtype=torch.float32).unsqueeze(1)\n"
          ]
        },
        {
          "output_type": "stream",
          "name": "stdout",
          "text": [
            "     Epoch 5: Train Loss = 0.6016, Val Loss = 12.9620\n",
            "     Epoch 10: Train Loss = 0.6020, Val Loss = 13.2545\n",
            "     Epoch 15: Train Loss = 0.6013, Val Loss = 13.6804\n",
            "     Epoch 20: Train Loss = 0.6012, Val Loss = 13.5065\n",
            "    ⏹️ Early stopping at epoch 20\n",
            " Run 3 finished with best val loss: 11.5181\n",
            "Original Error Percentage (Test Dataset): 10.7707%\n",
            "Corrected Error Percentage (Test Dataset): 11.1672%\n",
            "   Run 4/5 ... "
          ]
        },
        {
          "output_type": "stream",
          "name": "stderr",
          "text": [
            "<ipython-input-28-f2771d1cb762>:152: UserWarning: To copy construct from a tensor, it is recommended to use sourceTensor.clone().detach() or sourceTensor.clone().detach().requires_grad_(True), rather than torch.tensor(sourceTensor).\n",
            "  X_scaled_tensor = torch.tensor(combined_X, dtype=torch.float32).unsqueeze(1)\n"
          ]
        },
        {
          "output_type": "stream",
          "name": "stdout",
          "text": [
            "     Epoch 0: Train Loss = 0.6201, Val Loss = 11.3405\n",
            "     Epoch 5: Train Loss = 0.6057, Val Loss = 13.1519\n",
            "     Epoch 10: Train Loss = 0.6038, Val Loss = 13.4067\n",
            "     Epoch 15: Train Loss = 0.6030, Val Loss = 13.2345\n",
            "     Epoch 20: Train Loss = 0.6027, Val Loss = 13.3000\n",
            "    ⏹️ Early stopping at epoch 20\n",
            " Run 4 finished with best val loss: 11.3405\n",
            "Original Error Percentage (Test Dataset): 10.7707%\n",
            "Corrected Error Percentage (Test Dataset): 11.0714%\n",
            "   Run 5/5 ...      Epoch 0: Train Loss = 0.6392, Val Loss = 10.4357\n"
          ]
        },
        {
          "output_type": "stream",
          "name": "stderr",
          "text": [
            "<ipython-input-28-f2771d1cb762>:152: UserWarning: To copy construct from a tensor, it is recommended to use sourceTensor.clone().detach() or sourceTensor.clone().detach().requires_grad_(True), rather than torch.tensor(sourceTensor).\n",
            "  X_scaled_tensor = torch.tensor(combined_X, dtype=torch.float32).unsqueeze(1)\n"
          ]
        },
        {
          "output_type": "stream",
          "name": "stdout",
          "text": [
            "     Epoch 5: Train Loss = 0.6014, Val Loss = 12.7225\n",
            "     Epoch 10: Train Loss = 0.6010, Val Loss = 12.7203\n",
            "     Epoch 15: Train Loss = 0.6006, Val Loss = 12.6966\n",
            "     Epoch 20: Train Loss = 0.6009, Val Loss = 12.5867\n",
            "    ⏹️ Early stopping at epoch 20\n",
            " Run 5 finished with best val loss: 10.4357\n",
            "Original Error Percentage (Test Dataset): 10.7707%\n",
            "Corrected Error Percentage (Test Dataset): 10.8072%\n",
            " Finished configuration H=16, D=0.0, LR=0.0005, B=16 → Avg Val Loss: 11.1173, Avg Accuracy: 10.9512%\n",
            "\n",
            " Running 6/108: H=16, D=0.0, LR=0.0005, B=32\n",
            "   Run 1/5 ...      Epoch 0: Train Loss = 0.7126, Val Loss = 10.7948\n"
          ]
        },
        {
          "output_type": "stream",
          "name": "stderr",
          "text": [
            "<ipython-input-28-f2771d1cb762>:152: UserWarning: To copy construct from a tensor, it is recommended to use sourceTensor.clone().detach() or sourceTensor.clone().detach().requires_grad_(True), rather than torch.tensor(sourceTensor).\n",
            "  X_scaled_tensor = torch.tensor(combined_X, dtype=torch.float32).unsqueeze(1)\n"
          ]
        },
        {
          "output_type": "stream",
          "name": "stdout",
          "text": [
            "     Epoch 5: Train Loss = 0.6121, Val Loss = 14.0489\n",
            "     Epoch 10: Train Loss = 0.6035, Val Loss = 14.8821\n",
            "     Epoch 15: Train Loss = 0.6025, Val Loss = 14.7647\n",
            "     Epoch 20: Train Loss = 0.6021, Val Loss = 14.4819\n",
            "    ⏹️ Early stopping at epoch 20\n",
            " Run 1 finished with best val loss: 10.7948\n",
            "Original Error Percentage (Test Dataset): 10.7707%\n",
            "Corrected Error Percentage (Test Dataset): 11.5522%\n",
            "   Run 2/5 ...      Epoch 0: Train Loss = 0.8414, Val Loss = 14.6474\n"
          ]
        },
        {
          "output_type": "stream",
          "name": "stderr",
          "text": [
            "<ipython-input-28-f2771d1cb762>:152: UserWarning: To copy construct from a tensor, it is recommended to use sourceTensor.clone().detach() or sourceTensor.clone().detach().requires_grad_(True), rather than torch.tensor(sourceTensor).\n",
            "  X_scaled_tensor = torch.tensor(combined_X, dtype=torch.float32).unsqueeze(1)\n"
          ]
        },
        {
          "output_type": "stream",
          "name": "stdout",
          "text": [
            "     Epoch 5: Train Loss = 0.6141, Val Loss = 12.7670\n",
            "     Epoch 10: Train Loss = 0.6021, Val Loss = 13.1228\n",
            "     Epoch 15: Train Loss = 0.6013, Val Loss = 13.3134\n",
            "     Epoch 20: Train Loss = 0.6008, Val Loss = 13.1759\n",
            "    ⏹️ Early stopping at epoch 24\n",
            " Run 2 finished with best val loss: 12.6246\n",
            "Original Error Percentage (Test Dataset): 10.7707%\n",
            "Corrected Error Percentage (Test Dataset): 10.9950%\n",
            "   Run 3/5 ...      Epoch 0: Train Loss = 0.6246, Val Loss = 9.1775\n"
          ]
        },
        {
          "output_type": "stream",
          "name": "stderr",
          "text": [
            "<ipython-input-28-f2771d1cb762>:152: UserWarning: To copy construct from a tensor, it is recommended to use sourceTensor.clone().detach() or sourceTensor.clone().detach().requires_grad_(True), rather than torch.tensor(sourceTensor).\n",
            "  X_scaled_tensor = torch.tensor(combined_X, dtype=torch.float32).unsqueeze(1)\n"
          ]
        },
        {
          "output_type": "stream",
          "name": "stdout",
          "text": [
            "     Epoch 5: Train Loss = 0.6060, Val Loss = 10.2008\n",
            "     Epoch 10: Train Loss = 0.6026, Val Loss = 10.9012\n",
            "     Epoch 15: Train Loss = 0.6018, Val Loss = 11.5237\n",
            "     Epoch 20: Train Loss = 0.6013, Val Loss = 11.6671\n",
            "    ⏹️ Early stopping at epoch 20\n",
            " Run 3 finished with best val loss: 9.1775\n",
            "Original Error Percentage (Test Dataset): 10.7707%\n",
            "Corrected Error Percentage (Test Dataset): 10.4367%\n",
            "   Run 4/5 ...      Epoch 0: Train Loss = 0.7178, Val Loss = 9.6855\n"
          ]
        },
        {
          "output_type": "stream",
          "name": "stderr",
          "text": [
            "<ipython-input-28-f2771d1cb762>:152: UserWarning: To copy construct from a tensor, it is recommended to use sourceTensor.clone().detach() or sourceTensor.clone().detach().requires_grad_(True), rather than torch.tensor(sourceTensor).\n",
            "  X_scaled_tensor = torch.tensor(combined_X, dtype=torch.float32).unsqueeze(1)\n"
          ]
        },
        {
          "output_type": "stream",
          "name": "stdout",
          "text": [
            "     Epoch 5: Train Loss = 0.6052, Val Loss = 13.1671\n",
            "     Epoch 10: Train Loss = 0.6010, Val Loss = 13.8975\n",
            "     Epoch 15: Train Loss = 0.6007, Val Loss = 14.1160\n",
            "     Epoch 20: Train Loss = 0.6001, Val Loss = 13.6712\n",
            "    ⏹️ Early stopping at epoch 20\n",
            " Run 4 finished with best val loss: 9.6855\n",
            "Original Error Percentage (Test Dataset): 10.7707%\n",
            "Corrected Error Percentage (Test Dataset): 11.1964%\n",
            "   Run 5/5 ...      Epoch 0: Train Loss = 0.6643, Val Loss = 11.9968\n"
          ]
        },
        {
          "output_type": "stream",
          "name": "stderr",
          "text": [
            "<ipython-input-28-f2771d1cb762>:152: UserWarning: To copy construct from a tensor, it is recommended to use sourceTensor.clone().detach() or sourceTensor.clone().detach().requires_grad_(True), rather than torch.tensor(sourceTensor).\n",
            "  X_scaled_tensor = torch.tensor(combined_X, dtype=torch.float32).unsqueeze(1)\n"
          ]
        },
        {
          "output_type": "stream",
          "name": "stdout",
          "text": [
            "     Epoch 5: Train Loss = 0.6173, Val Loss = 12.3852\n",
            "     Epoch 10: Train Loss = 0.6118, Val Loss = 13.0694\n",
            "     Epoch 15: Train Loss = 0.6090, Val Loss = 13.7962\n",
            "     Epoch 20: Train Loss = 0.6068, Val Loss = 13.6973\n",
            "    ⏹️ Early stopping at epoch 23\n",
            " Run 5 finished with best val loss: 11.9852\n",
            "Original Error Percentage (Test Dataset): 10.7707%\n",
            "Corrected Error Percentage (Test Dataset): 11.2403%\n",
            " Finished configuration H=16, D=0.0, LR=0.0005, B=32 → Avg Val Loss: 10.8535, Avg Accuracy: 11.0841%\n",
            "\n",
            " Running 7/108: H=16, D=0.0, LR=0.001, B=8\n",
            "   Run 1/5 ... "
          ]
        },
        {
          "output_type": "stream",
          "name": "stderr",
          "text": [
            "<ipython-input-28-f2771d1cb762>:152: UserWarning: To copy construct from a tensor, it is recommended to use sourceTensor.clone().detach() or sourceTensor.clone().detach().requires_grad_(True), rather than torch.tensor(sourceTensor).\n",
            "  X_scaled_tensor = torch.tensor(combined_X, dtype=torch.float32).unsqueeze(1)\n"
          ]
        },
        {
          "output_type": "stream",
          "name": "stdout",
          "text": [
            "     Epoch 0: Train Loss = 0.6653, Val Loss = 12.2401\n",
            "     Epoch 5: Train Loss = 0.6017, Val Loss = 13.6320\n",
            "     Epoch 10: Train Loss = 0.6027, Val Loss = 13.8212\n",
            "     Epoch 15: Train Loss = 0.6018, Val Loss = 13.6443\n",
            "     Epoch 20: Train Loss = 0.6012, Val Loss = 13.8845\n",
            "    ⏹️ Early stopping at epoch 20\n",
            " Run 1 finished with best val loss: 12.2401\n",
            "Original Error Percentage (Test Dataset): 10.7707%\n",
            "Corrected Error Percentage (Test Dataset): 11.3173%\n",
            "   Run 2/5 ... "
          ]
        },
        {
          "output_type": "stream",
          "name": "stderr",
          "text": [
            "<ipython-input-28-f2771d1cb762>:152: UserWarning: To copy construct from a tensor, it is recommended to use sourceTensor.clone().detach() or sourceTensor.clone().detach().requires_grad_(True), rather than torch.tensor(sourceTensor).\n",
            "  X_scaled_tensor = torch.tensor(combined_X, dtype=torch.float32).unsqueeze(1)\n"
          ]
        },
        {
          "output_type": "stream",
          "name": "stdout",
          "text": [
            "     Epoch 0: Train Loss = 0.6120, Val Loss = 10.6652\n",
            "     Epoch 5: Train Loss = 0.6020, Val Loss = 12.1429\n",
            "     Epoch 10: Train Loss = 0.6008, Val Loss = 12.3112\n",
            "     Epoch 15: Train Loss = 0.6008, Val Loss = 12.8498\n",
            "     Epoch 20: Train Loss = 0.6014, Val Loss = 12.7001\n",
            "    ⏹️ Early stopping at epoch 20\n",
            " Run 2 finished with best val loss: 10.6652\n",
            "Original Error Percentage (Test Dataset): 10.7707%\n",
            "Corrected Error Percentage (Test Dataset): 10.8635%\n",
            "   Run 3/5 ... "
          ]
        },
        {
          "output_type": "stream",
          "name": "stderr",
          "text": [
            "<ipython-input-28-f2771d1cb762>:152: UserWarning: To copy construct from a tensor, it is recommended to use sourceTensor.clone().detach() or sourceTensor.clone().detach().requires_grad_(True), rather than torch.tensor(sourceTensor).\n",
            "  X_scaled_tensor = torch.tensor(combined_X, dtype=torch.float32).unsqueeze(1)\n"
          ]
        },
        {
          "output_type": "stream",
          "name": "stdout",
          "text": [
            "     Epoch 0: Train Loss = 0.6062, Val Loss = 13.4242\n",
            "     Epoch 5: Train Loss = 0.6021, Val Loss = 13.7610\n",
            "     Epoch 10: Train Loss = 0.6014, Val Loss = 13.5293\n",
            "     Epoch 15: Train Loss = 0.6008, Val Loss = 13.2149\n",
            "     Epoch 20: Train Loss = 0.6012, Val Loss = 13.0519\n",
            "     Epoch 25: Train Loss = 0.6007, Val Loss = 13.0832\n",
            "     Epoch 30: Train Loss = 0.6008, Val Loss = 13.1803\n",
            "     Epoch 35: Train Loss = 0.6005, Val Loss = 13.0606\n",
            "     Epoch 40: Train Loss = 0.5991, Val Loss = 12.6704\n",
            "     Epoch 45: Train Loss = 0.6002, Val Loss = 12.9542\n",
            "     Epoch 50: Train Loss = 0.5994, Val Loss = 12.8830\n",
            "     Epoch 55: Train Loss = 0.5991, Val Loss = 12.7606\n",
            "     Epoch 60: Train Loss = 0.5986, Val Loss = 12.6971\n",
            "     Epoch 65: Train Loss = 0.5992, Val Loss = 12.7225\n",
            "     Epoch 70: Train Loss = 0.5988, Val Loss = 12.6830\n",
            "     Epoch 75: Train Loss = 0.5990, Val Loss = 12.7471\n",
            "    ⏹️ Early stopping at epoch 77\n",
            " Run 3 finished with best val loss: 12.2255\n",
            "Original Error Percentage (Test Dataset): 10.7707%\n",
            "Corrected Error Percentage (Test Dataset): 10.8373%\n",
            "   Run 4/5 ... "
          ]
        },
        {
          "output_type": "stream",
          "name": "stderr",
          "text": [
            "<ipython-input-28-f2771d1cb762>:152: UserWarning: To copy construct from a tensor, it is recommended to use sourceTensor.clone().detach() or sourceTensor.clone().detach().requires_grad_(True), rather than torch.tensor(sourceTensor).\n",
            "  X_scaled_tensor = torch.tensor(combined_X, dtype=torch.float32).unsqueeze(1)\n"
          ]
        },
        {
          "output_type": "stream",
          "name": "stdout",
          "text": [
            "     Epoch 0: Train Loss = 0.6517, Val Loss = 14.7383\n",
            "     Epoch 5: Train Loss = 0.6021, Val Loss = 13.4565\n",
            "     Epoch 10: Train Loss = 0.6019, Val Loss = 13.7586\n",
            "     Epoch 15: Train Loss = 0.6018, Val Loss = 13.1020\n",
            "     Epoch 20: Train Loss = 0.6025, Val Loss = 12.9580\n",
            "     Epoch 25: Train Loss = 0.6028, Val Loss = 13.2037\n",
            "     Epoch 30: Train Loss = 0.6008, Val Loss = 12.7806\n",
            "     Epoch 35: Train Loss = 0.6016, Val Loss = 12.7068\n",
            "     Epoch 40: Train Loss = 0.6004, Val Loss = 12.6124\n",
            "     Epoch 45: Train Loss = 0.6013, Val Loss = 12.4835\n",
            "     Epoch 50: Train Loss = 0.6004, Val Loss = 12.8383\n",
            "     Epoch 55: Train Loss = 0.6006, Val Loss = 12.5294\n",
            "     Epoch 60: Train Loss = 0.6000, Val Loss = 12.6670\n",
            "     Epoch 65: Train Loss = 0.5998, Val Loss = 12.2409\n",
            "     Epoch 70: Train Loss = 0.5993, Val Loss = 12.6244\n",
            "    ⏹️ Early stopping at epoch 73\n",
            " Run 4 finished with best val loss: 12.0651\n",
            "Original Error Percentage (Test Dataset): 10.7707%\n",
            "Corrected Error Percentage (Test Dataset): 10.6093%\n",
            "   Run 5/5 ... "
          ]
        },
        {
          "output_type": "stream",
          "name": "stderr",
          "text": [
            "<ipython-input-28-f2771d1cb762>:152: UserWarning: To copy construct from a tensor, it is recommended to use sourceTensor.clone().detach() or sourceTensor.clone().detach().requires_grad_(True), rather than torch.tensor(sourceTensor).\n",
            "  X_scaled_tensor = torch.tensor(combined_X, dtype=torch.float32).unsqueeze(1)\n"
          ]
        },
        {
          "output_type": "stream",
          "name": "stdout",
          "text": [
            "     Epoch 0: Train Loss = 0.6212, Val Loss = 14.2195\n",
            "     Epoch 5: Train Loss = 0.6014, Val Loss = 14.0582\n",
            "     Epoch 10: Train Loss = 0.6013, Val Loss = 13.8005\n",
            "     Epoch 15: Train Loss = 0.6004, Val Loss = 13.3891\n",
            "     Epoch 20: Train Loss = 0.5997, Val Loss = 13.3241\n",
            "     Epoch 25: Train Loss = 0.6010, Val Loss = 13.4540\n",
            "     Epoch 30: Train Loss = 0.6003, Val Loss = 13.3529\n",
            "     Epoch 35: Train Loss = 0.6004, Val Loss = 13.1575\n",
            "     Epoch 40: Train Loss = 0.6004, Val Loss = 13.3299\n",
            "     Epoch 45: Train Loss = 0.5995, Val Loss = 13.2416\n",
            "     Epoch 50: Train Loss = 0.5992, Val Loss = 12.9650\n",
            "     Epoch 55: Train Loss = 0.5985, Val Loss = 12.8590\n",
            "     Epoch 60: Train Loss = 0.5992, Val Loss = 12.5178\n",
            "     Epoch 65: Train Loss = 0.5991, Val Loss = 12.5059\n",
            "     Epoch 70: Train Loss = 0.5981, Val Loss = 12.5531\n",
            "     Epoch 75: Train Loss = 0.5984, Val Loss = 12.4832\n",
            "     Epoch 80: Train Loss = 0.5978, Val Loss = 12.6047\n",
            "     Epoch 85: Train Loss = 0.5981, Val Loss = 12.5092\n",
            "     Epoch 90: Train Loss = 0.5990, Val Loss = 12.6362\n",
            "    ⏹️ Early stopping at epoch 94\n",
            " Run 5 finished with best val loss: 12.4257\n",
            "Original Error Percentage (Test Dataset): 10.7707%\n",
            "Corrected Error Percentage (Test Dataset): 10.8594%\n",
            " Finished configuration H=16, D=0.0, LR=0.001, B=8 → Avg Val Loss: 11.9243, Avg Accuracy: 10.8974%\n",
            "\n",
            " Running 8/108: H=16, D=0.0, LR=0.001, B=16\n",
            "   Run 1/5 ...      Epoch 0: Train Loss = 0.6279, Val Loss = 11.2371\n"
          ]
        },
        {
          "output_type": "stream",
          "name": "stderr",
          "text": [
            "<ipython-input-28-f2771d1cb762>:152: UserWarning: To copy construct from a tensor, it is recommended to use sourceTensor.clone().detach() or sourceTensor.clone().detach().requires_grad_(True), rather than torch.tensor(sourceTensor).\n",
            "  X_scaled_tensor = torch.tensor(combined_X, dtype=torch.float32).unsqueeze(1)\n"
          ]
        },
        {
          "output_type": "stream",
          "name": "stdout",
          "text": [
            "     Epoch 5: Train Loss = 0.6017, Val Loss = 12.9063\n",
            "     Epoch 10: Train Loss = 0.6011, Val Loss = 12.9684\n",
            "     Epoch 15: Train Loss = 0.6010, Val Loss = 12.8100\n",
            "     Epoch 20: Train Loss = 0.6008, Val Loss = 12.6477\n",
            "    ⏹️ Early stopping at epoch 20\n",
            " Run 1 finished with best val loss: 11.2371\n",
            "Original Error Percentage (Test Dataset): 10.7707%\n",
            "Corrected Error Percentage (Test Dataset): 10.8206%\n",
            "   Run 2/5 ...      Epoch 0: Train Loss = 0.6142, Val Loss = 12.2388\n"
          ]
        },
        {
          "output_type": "stream",
          "name": "stderr",
          "text": [
            "<ipython-input-28-f2771d1cb762>:152: UserWarning: To copy construct from a tensor, it is recommended to use sourceTensor.clone().detach() or sourceTensor.clone().detach().requires_grad_(True), rather than torch.tensor(sourceTensor).\n",
            "  X_scaled_tensor = torch.tensor(combined_X, dtype=torch.float32).unsqueeze(1)\n"
          ]
        },
        {
          "output_type": "stream",
          "name": "stdout",
          "text": [
            "     Epoch 5: Train Loss = 0.6020, Val Loss = 12.8169\n",
            "     Epoch 10: Train Loss = 0.6012, Val Loss = 12.9326\n",
            "     Epoch 15: Train Loss = 0.6021, Val Loss = 13.1219\n",
            "     Epoch 20: Train Loss = 0.6009, Val Loss = 12.9144\n",
            "    ⏹️ Early stopping at epoch 21\n",
            " Run 2 finished with best val loss: 12.1724\n",
            "Original Error Percentage (Test Dataset): 10.7707%\n",
            "Corrected Error Percentage (Test Dataset): 10.9340%\n",
            "   Run 3/5 ... "
          ]
        },
        {
          "output_type": "stream",
          "name": "stderr",
          "text": [
            "<ipython-input-28-f2771d1cb762>:152: UserWarning: To copy construct from a tensor, it is recommended to use sourceTensor.clone().detach() or sourceTensor.clone().detach().requires_grad_(True), rather than torch.tensor(sourceTensor).\n",
            "  X_scaled_tensor = torch.tensor(combined_X, dtype=torch.float32).unsqueeze(1)\n"
          ]
        },
        {
          "output_type": "stream",
          "name": "stdout",
          "text": [
            "     Epoch 0: Train Loss = 0.6185, Val Loss = 12.4802\n",
            "     Epoch 5: Train Loss = 0.6021, Val Loss = 13.1289\n",
            "     Epoch 10: Train Loss = 0.5990, Val Loss = 13.4548\n",
            "     Epoch 15: Train Loss = 0.5991, Val Loss = 13.0035\n",
            "     Epoch 20: Train Loss = 0.5995, Val Loss = 12.2506\n",
            "     Epoch 25: Train Loss = 0.5986, Val Loss = 12.8254\n",
            "     Epoch 30: Train Loss = 0.5986, Val Loss = 12.9319\n",
            "     Epoch 35: Train Loss = 0.5984, Val Loss = 12.5691\n",
            "    ⏹️ Early stopping at epoch 39\n",
            " Run 3 finished with best val loss: 11.8640\n",
            "Original Error Percentage (Test Dataset): 10.7707%\n",
            "Corrected Error Percentage (Test Dataset): 10.7984%\n",
            "   Run 4/5 ...      Epoch 0: Train Loss = 0.6368, Val Loss = 13.3539\n"
          ]
        },
        {
          "output_type": "stream",
          "name": "stderr",
          "text": [
            "<ipython-input-28-f2771d1cb762>:152: UserWarning: To copy construct from a tensor, it is recommended to use sourceTensor.clone().detach() or sourceTensor.clone().detach().requires_grad_(True), rather than torch.tensor(sourceTensor).\n",
            "  X_scaled_tensor = torch.tensor(combined_X, dtype=torch.float32).unsqueeze(1)\n"
          ]
        },
        {
          "output_type": "stream",
          "name": "stdout",
          "text": [
            "     Epoch 5: Train Loss = 0.6016, Val Loss = 13.4726\n",
            "     Epoch 10: Train Loss = 0.6050, Val Loss = 13.2049\n",
            "     Epoch 15: Train Loss = 0.6011, Val Loss = 13.4478\n",
            "     Epoch 20: Train Loss = 0.6022, Val Loss = 12.6967\n",
            "     Epoch 25: Train Loss = 0.6006, Val Loss = 13.2623\n",
            "     Epoch 30: Train Loss = 0.6004, Val Loss = 13.0817\n",
            "     Epoch 35: Train Loss = 0.6012, Val Loss = 12.8191\n",
            "     Epoch 40: Train Loss = 0.6017, Val Loss = 12.5169\n",
            "     Epoch 45: Train Loss = 0.6005, Val Loss = 13.1232\n",
            "     Epoch 50: Train Loss = 0.6018, Val Loss = 12.5078\n",
            "     Epoch 55: Train Loss = 0.6002, Val Loss = 13.1264\n",
            "     Epoch 60: Train Loss = 0.5998, Val Loss = 13.0597\n",
            "     Epoch 65: Train Loss = 0.6003, Val Loss = 12.6675\n",
            "     Epoch 70: Train Loss = 0.5995, Val Loss = 12.8904\n",
            "     Epoch 75: Train Loss = 0.5995, Val Loss = 12.6920\n",
            "     Epoch 80: Train Loss = 0.5994, Val Loss = 12.7812\n",
            "     Epoch 85: Train Loss = 0.5985, Val Loss = 12.7100\n",
            "     Epoch 90: Train Loss = 0.5984, Val Loss = 12.7818\n",
            "     Epoch 95: Train Loss = 0.5983, Val Loss = 12.4485\n",
            "     Epoch 100: Train Loss = 0.5988, Val Loss = 12.4655\n",
            "    ⏹️ Early stopping at epoch 103\n",
            " Run 4 finished with best val loss: 12.2946\n",
            "Original Error Percentage (Test Dataset): 10.7707%\n",
            "Corrected Error Percentage (Test Dataset): 10.7522%\n",
            "   Run 5/5 ...      Epoch 0: Train Loss = 0.6577, Val Loss = 12.2887\n"
          ]
        },
        {
          "output_type": "stream",
          "name": "stderr",
          "text": [
            "<ipython-input-28-f2771d1cb762>:152: UserWarning: To copy construct from a tensor, it is recommended to use sourceTensor.clone().detach() or sourceTensor.clone().detach().requires_grad_(True), rather than torch.tensor(sourceTensor).\n",
            "  X_scaled_tensor = torch.tensor(combined_X, dtype=torch.float32).unsqueeze(1)\n"
          ]
        },
        {
          "output_type": "stream",
          "name": "stdout",
          "text": [
            "     Epoch 5: Train Loss = 0.6016, Val Loss = 13.3191\n",
            "     Epoch 10: Train Loss = 0.6019, Val Loss = 13.2016\n",
            "     Epoch 15: Train Loss = 0.6013, Val Loss = 12.8907\n",
            "     Epoch 20: Train Loss = 0.6012, Val Loss = 12.7728\n",
            "    ⏹️ Early stopping at epoch 20\n",
            " Run 5 finished with best val loss: 12.2887\n",
            "Original Error Percentage (Test Dataset): 10.7707%\n",
            "Corrected Error Percentage (Test Dataset): 10.8491%\n",
            " Finished configuration H=16, D=0.0, LR=0.001, B=16 → Avg Val Loss: 11.9713, Avg Accuracy: 10.8309%\n",
            "\n",
            " Running 9/108: H=16, D=0.0, LR=0.001, B=32\n",
            "   Run 1/5 ...      Epoch 0: Train Loss = 0.6873, Val Loss = 11.4241\n"
          ]
        },
        {
          "output_type": "stream",
          "name": "stderr",
          "text": [
            "<ipython-input-28-f2771d1cb762>:152: UserWarning: To copy construct from a tensor, it is recommended to use sourceTensor.clone().detach() or sourceTensor.clone().detach().requires_grad_(True), rather than torch.tensor(sourceTensor).\n",
            "  X_scaled_tensor = torch.tensor(combined_X, dtype=torch.float32).unsqueeze(1)\n"
          ]
        },
        {
          "output_type": "stream",
          "name": "stdout",
          "text": [
            "     Epoch 5: Train Loss = 0.6019, Val Loss = 13.4975\n",
            "     Epoch 10: Train Loss = 0.6013, Val Loss = 13.2770\n",
            "     Epoch 15: Train Loss = 0.6013, Val Loss = 13.1550\n",
            "     Epoch 20: Train Loss = 0.6029, Val Loss = 13.1406\n",
            "    ⏹️ Early stopping at epoch 20\n",
            " Run 1 finished with best val loss: 11.4241\n",
            "Original Error Percentage (Test Dataset): 10.7707%\n",
            "Corrected Error Percentage (Test Dataset): 11.0707%\n",
            "   Run 2/5 ...      Epoch 0: Train Loss = 0.6959, Val Loss = 11.0481\n"
          ]
        },
        {
          "output_type": "stream",
          "name": "stderr",
          "text": [
            "<ipython-input-28-f2771d1cb762>:152: UserWarning: To copy construct from a tensor, it is recommended to use sourceTensor.clone().detach() or sourceTensor.clone().detach().requires_grad_(True), rather than torch.tensor(sourceTensor).\n",
            "  X_scaled_tensor = torch.tensor(combined_X, dtype=torch.float32).unsqueeze(1)\n"
          ]
        },
        {
          "output_type": "stream",
          "name": "stdout",
          "text": [
            "     Epoch 5: Train Loss = 0.6020, Val Loss = 13.7961\n",
            "     Epoch 10: Train Loss = 0.6024, Val Loss = 13.8665\n",
            "     Epoch 15: Train Loss = 0.6018, Val Loss = 13.7706\n",
            "     Epoch 20: Train Loss = 0.6016, Val Loss = 13.6846\n",
            "    ⏹️ Early stopping at epoch 20\n",
            " Run 2 finished with best val loss: 11.0481\n",
            "Original Error Percentage (Test Dataset): 10.7707%\n",
            "Corrected Error Percentage (Test Dataset): 11.2808%\n",
            "   Run 3/5 ...      Epoch 0: Train Loss = 0.6373, Val Loss = 10.8792\n"
          ]
        },
        {
          "output_type": "stream",
          "name": "stderr",
          "text": [
            "<ipython-input-28-f2771d1cb762>:152: UserWarning: To copy construct from a tensor, it is recommended to use sourceTensor.clone().detach() or sourceTensor.clone().detach().requires_grad_(True), rather than torch.tensor(sourceTensor).\n",
            "  X_scaled_tensor = torch.tensor(combined_X, dtype=torch.float32).unsqueeze(1)\n"
          ]
        },
        {
          "output_type": "stream",
          "name": "stdout",
          "text": [
            "     Epoch 5: Train Loss = 0.6018, Val Loss = 12.2345\n",
            "     Epoch 10: Train Loss = 0.6014, Val Loss = 13.0853\n",
            "     Epoch 15: Train Loss = 0.6012, Val Loss = 12.7565\n",
            "     Epoch 20: Train Loss = 0.6013, Val Loss = 12.7863\n",
            "    ⏹️ Early stopping at epoch 20\n",
            " Run 3 finished with best val loss: 10.8792\n",
            "Original Error Percentage (Test Dataset): 10.7707%\n",
            "Corrected Error Percentage (Test Dataset): 10.9004%\n",
            "   Run 4/5 ...      Epoch 0: Train Loss = 0.6182, Val Loss = 10.6718\n"
          ]
        },
        {
          "output_type": "stream",
          "name": "stderr",
          "text": [
            "<ipython-input-28-f2771d1cb762>:152: UserWarning: To copy construct from a tensor, it is recommended to use sourceTensor.clone().detach() or sourceTensor.clone().detach().requires_grad_(True), rather than torch.tensor(sourceTensor).\n",
            "  X_scaled_tensor = torch.tensor(combined_X, dtype=torch.float32).unsqueeze(1)\n"
          ]
        },
        {
          "output_type": "stream",
          "name": "stdout",
          "text": [
            "     Epoch 5: Train Loss = 0.6038, Val Loss = 10.7511\n",
            "     Epoch 10: Train Loss = 0.6030, Val Loss = 10.8075\n",
            "     Epoch 15: Train Loss = 0.6034, Val Loss = 10.8433\n",
            "     Epoch 20: Train Loss = 0.6023, Val Loss = 10.8693\n",
            "    ⏹️ Early stopping at epoch 20\n",
            " Run 4 finished with best val loss: 10.6718\n",
            "Original Error Percentage (Test Dataset): 10.7707%\n",
            "Corrected Error Percentage (Test Dataset): 10.1866%\n",
            "   Run 5/5 ...      Epoch 0: Train Loss = 0.6547, Val Loss = 11.8166\n"
          ]
        },
        {
          "output_type": "stream",
          "name": "stderr",
          "text": [
            "<ipython-input-28-f2771d1cb762>:152: UserWarning: To copy construct from a tensor, it is recommended to use sourceTensor.clone().detach() or sourceTensor.clone().detach().requires_grad_(True), rather than torch.tensor(sourceTensor).\n",
            "  X_scaled_tensor = torch.tensor(combined_X, dtype=torch.float32).unsqueeze(1)\n"
          ]
        },
        {
          "output_type": "stream",
          "name": "stdout",
          "text": [
            "     Epoch 5: Train Loss = 0.6017, Val Loss = 13.5975\n",
            "     Epoch 10: Train Loss = 0.6012, Val Loss = 13.5507\n",
            "     Epoch 15: Train Loss = 0.6010, Val Loss = 13.1059\n",
            "     Epoch 20: Train Loss = 0.6009, Val Loss = 13.4778\n",
            "    ⏹️ Early stopping at epoch 20\n",
            " Run 5 finished with best val loss: 11.8166\n",
            "Original Error Percentage (Test Dataset): 10.7707%\n",
            "Corrected Error Percentage (Test Dataset): 11.1335%\n",
            " Finished configuration H=16, D=0.0, LR=0.001, B=32 → Avg Val Loss: 11.1680, Avg Accuracy: 10.9144%\n",
            "\n",
            " Running 10/108: H=16, D=0.1, LR=0.0001, B=8\n",
            "   Run 1/5 ... "
          ]
        },
        {
          "output_type": "stream",
          "name": "stderr",
          "text": [
            "<ipython-input-28-f2771d1cb762>:152: UserWarning: To copy construct from a tensor, it is recommended to use sourceTensor.clone().detach() or sourceTensor.clone().detach().requires_grad_(True), rather than torch.tensor(sourceTensor).\n",
            "  X_scaled_tensor = torch.tensor(combined_X, dtype=torch.float32).unsqueeze(1)\n"
          ]
        },
        {
          "output_type": "stream",
          "name": "stdout",
          "text": [
            "     Epoch 0: Train Loss = 0.7140, Val Loss = 10.7806\n",
            "     Epoch 5: Train Loss = 0.6172, Val Loss = 13.0834\n",
            "     Epoch 10: Train Loss = 0.6048, Val Loss = 13.7264\n",
            "     Epoch 15: Train Loss = 0.6084, Val Loss = 13.7205\n",
            "     Epoch 20: Train Loss = 0.6083, Val Loss = 13.6230\n",
            "    ⏹️ Early stopping at epoch 20\n",
            " Run 1 finished with best val loss: 10.7806\n",
            "Original Error Percentage (Test Dataset): 10.7707%\n",
            "Corrected Error Percentage (Test Dataset): 11.2197%\n",
            "   Run 2/5 ... "
          ]
        },
        {
          "output_type": "stream",
          "name": "stderr",
          "text": [
            "<ipython-input-28-f2771d1cb762>:152: UserWarning: To copy construct from a tensor, it is recommended to use sourceTensor.clone().detach() or sourceTensor.clone().detach().requires_grad_(True), rather than torch.tensor(sourceTensor).\n",
            "  X_scaled_tensor = torch.tensor(combined_X, dtype=torch.float32).unsqueeze(1)\n"
          ]
        },
        {
          "output_type": "stream",
          "name": "stdout",
          "text": [
            "     Epoch 0: Train Loss = 0.6265, Val Loss = 13.6367\n",
            "     Epoch 5: Train Loss = 0.6137, Val Loss = 13.8308\n",
            "     Epoch 10: Train Loss = 0.6026, Val Loss = 13.8021\n",
            "     Epoch 15: Train Loss = 0.6103, Val Loss = 13.5621\n",
            "     Epoch 20: Train Loss = 0.6067, Val Loss = 13.2806\n",
            "     Epoch 25: Train Loss = 0.6078, Val Loss = 13.1942\n",
            "     Epoch 30: Train Loss = 0.6053, Val Loss = 13.0855\n",
            "     Epoch 35: Train Loss = 0.6051, Val Loss = 12.9499\n",
            "     Epoch 40: Train Loss = 0.5981, Val Loss = 12.8508\n",
            "     Epoch 45: Train Loss = 0.6027, Val Loss = 12.9579\n",
            "     Epoch 50: Train Loss = 0.6028, Val Loss = 12.8091\n",
            "     Epoch 55: Train Loss = 0.5993, Val Loss = 12.8478\n",
            "     Epoch 60: Train Loss = 0.6081, Val Loss = 12.7529\n",
            "     Epoch 65: Train Loss = 0.6050, Val Loss = 12.6244\n",
            "     Epoch 70: Train Loss = 0.6011, Val Loss = 12.7104\n",
            "     Epoch 75: Train Loss = 0.6021, Val Loss = 12.6682\n",
            "     Epoch 80: Train Loss = 0.6006, Val Loss = 12.7771\n",
            "     Epoch 85: Train Loss = 0.6015, Val Loss = 12.6850\n",
            "    ⏹️ Early stopping at epoch 85\n",
            " Run 2 finished with best val loss: 12.6244\n",
            "Original Error Percentage (Test Dataset): 10.7707%\n",
            "Corrected Error Percentage (Test Dataset): 10.8913%\n",
            "   Run 3/5 ... "
          ]
        },
        {
          "output_type": "stream",
          "name": "stderr",
          "text": [
            "<ipython-input-28-f2771d1cb762>:152: UserWarning: To copy construct from a tensor, it is recommended to use sourceTensor.clone().detach() or sourceTensor.clone().detach().requires_grad_(True), rather than torch.tensor(sourceTensor).\n",
            "  X_scaled_tensor = torch.tensor(combined_X, dtype=torch.float32).unsqueeze(1)\n"
          ]
        },
        {
          "output_type": "stream",
          "name": "stdout",
          "text": [
            "     Epoch 0: Train Loss = 0.6342, Val Loss = 11.7048\n",
            "     Epoch 5: Train Loss = 0.6141, Val Loss = 12.7254\n",
            "     Epoch 10: Train Loss = 0.6073, Val Loss = 13.3681\n",
            "     Epoch 15: Train Loss = 0.6019, Val Loss = 13.7273\n",
            "     Epoch 20: Train Loss = 0.6038, Val Loss = 13.7640\n",
            "    ⏹️ Early stopping at epoch 20\n",
            " Run 3 finished with best val loss: 11.7048\n",
            "Original Error Percentage (Test Dataset): 10.7707%\n",
            "Corrected Error Percentage (Test Dataset): 11.3194%\n",
            "   Run 4/5 ... "
          ]
        },
        {
          "output_type": "stream",
          "name": "stderr",
          "text": [
            "<ipython-input-28-f2771d1cb762>:152: UserWarning: To copy construct from a tensor, it is recommended to use sourceTensor.clone().detach() or sourceTensor.clone().detach().requires_grad_(True), rather than torch.tensor(sourceTensor).\n",
            "  X_scaled_tensor = torch.tensor(combined_X, dtype=torch.float32).unsqueeze(1)\n"
          ]
        },
        {
          "output_type": "stream",
          "name": "stdout",
          "text": [
            "     Epoch 0: Train Loss = 0.6157, Val Loss = 10.7079\n",
            "     Epoch 5: Train Loss = 0.6103, Val Loss = 11.0804\n",
            "     Epoch 10: Train Loss = 0.6074, Val Loss = 11.4013\n",
            "     Epoch 15: Train Loss = 0.6057, Val Loss = 11.8231\n",
            "     Epoch 20: Train Loss = 0.6029, Val Loss = 12.0362\n",
            "    ⏹️ Early stopping at epoch 20\n",
            " Run 4 finished with best val loss: 10.7079\n",
            "Original Error Percentage (Test Dataset): 10.7707%\n",
            "Corrected Error Percentage (Test Dataset): 10.7141%\n",
            "   Run 5/5 ... "
          ]
        },
        {
          "output_type": "stream",
          "name": "stderr",
          "text": [
            "<ipython-input-28-f2771d1cb762>:152: UserWarning: To copy construct from a tensor, it is recommended to use sourceTensor.clone().detach() or sourceTensor.clone().detach().requires_grad_(True), rather than torch.tensor(sourceTensor).\n",
            "  X_scaled_tensor = torch.tensor(combined_X, dtype=torch.float32).unsqueeze(1)\n"
          ]
        },
        {
          "output_type": "stream",
          "name": "stdout",
          "text": [
            "     Epoch 0: Train Loss = 0.6825, Val Loss = 9.2542\n",
            "     Epoch 5: Train Loss = 0.6166, Val Loss = 12.1236\n",
            "     Epoch 10: Train Loss = 0.6038, Val Loss = 13.2638\n",
            "     Epoch 15: Train Loss = 0.6055, Val Loss = 13.6950\n",
            "     Epoch 20: Train Loss = 0.6069, Val Loss = 13.7771\n",
            "    ⏹️ Early stopping at epoch 20\n",
            " Run 5 finished with best val loss: 9.2542\n",
            "Original Error Percentage (Test Dataset): 10.7707%\n",
            "Corrected Error Percentage (Test Dataset): 11.2998%\n",
            " Finished configuration H=16, D=0.1, LR=0.0001, B=8 → Avg Val Loss: 11.0144, Avg Accuracy: 11.0889%\n",
            "\n",
            " Running 11/108: H=16, D=0.1, LR=0.0001, B=16\n",
            "   Run 1/5 ...      Epoch 0: Train Loss = 0.6195, Val Loss = 12.7915\n"
          ]
        },
        {
          "output_type": "stream",
          "name": "stderr",
          "text": [
            "<ipython-input-28-f2771d1cb762>:152: UserWarning: To copy construct from a tensor, it is recommended to use sourceTensor.clone().detach() or sourceTensor.clone().detach().requires_grad_(True), rather than torch.tensor(sourceTensor).\n",
            "  X_scaled_tensor = torch.tensor(combined_X, dtype=torch.float32).unsqueeze(1)\n"
          ]
        },
        {
          "output_type": "stream",
          "name": "stdout",
          "text": [
            "     Epoch 5: Train Loss = 0.6198, Val Loss = 13.3723\n",
            "     Epoch 10: Train Loss = 0.6125, Val Loss = 13.3383\n",
            "     Epoch 15: Train Loss = 0.6103, Val Loss = 13.4897\n",
            "     Epoch 20: Train Loss = 0.5985, Val Loss = 13.4451\n",
            "    ⏹️ Early stopping at epoch 20\n",
            " Run 1 finished with best val loss: 12.7915\n",
            "Original Error Percentage (Test Dataset): 10.7707%\n",
            "Corrected Error Percentage (Test Dataset): 11.1590%\n",
            "   Run 2/5 ...      Epoch 0: Train Loss = 0.6434, Val Loss = 9.2831\n"
          ]
        },
        {
          "output_type": "stream",
          "name": "stderr",
          "text": [
            "<ipython-input-28-f2771d1cb762>:152: UserWarning: To copy construct from a tensor, it is recommended to use sourceTensor.clone().detach() or sourceTensor.clone().detach().requires_grad_(True), rather than torch.tensor(sourceTensor).\n",
            "  X_scaled_tensor = torch.tensor(combined_X, dtype=torch.float32).unsqueeze(1)\n"
          ]
        },
        {
          "output_type": "stream",
          "name": "stdout",
          "text": [
            "     Epoch 5: Train Loss = 0.6198, Val Loss = 10.6260\n",
            "     Epoch 10: Train Loss = 0.6103, Val Loss = 11.4067\n",
            "     Epoch 15: Train Loss = 0.6004, Val Loss = 11.7735\n",
            "     Epoch 20: Train Loss = 0.6074, Val Loss = 11.9055\n",
            "    ⏹️ Early stopping at epoch 20\n",
            " Run 2 finished with best val loss: 9.2831\n",
            "Original Error Percentage (Test Dataset): 10.7707%\n",
            "Corrected Error Percentage (Test Dataset): 10.6167%\n",
            "   Run 3/5 ...      Epoch 0: Train Loss = 0.8364, Val Loss = 9.7308\n"
          ]
        },
        {
          "output_type": "stream",
          "name": "stderr",
          "text": [
            "<ipython-input-28-f2771d1cb762>:152: UserWarning: To copy construct from a tensor, it is recommended to use sourceTensor.clone().detach() or sourceTensor.clone().detach().requires_grad_(True), rather than torch.tensor(sourceTensor).\n",
            "  X_scaled_tensor = torch.tensor(combined_X, dtype=torch.float32).unsqueeze(1)\n"
          ]
        },
        {
          "output_type": "stream",
          "name": "stdout",
          "text": [
            "     Epoch 5: Train Loss = 0.7078, Val Loss = 11.4486\n",
            "     Epoch 10: Train Loss = 0.6448, Val Loss = 13.0347\n",
            "     Epoch 15: Train Loss = 0.6244, Val Loss = 14.1897\n",
            "     Epoch 20: Train Loss = 0.6148, Val Loss = 14.7820\n",
            "    ⏹️ Early stopping at epoch 20\n",
            " Run 3 finished with best val loss: 9.7308\n",
            "Original Error Percentage (Test Dataset): 10.7707%\n",
            "Corrected Error Percentage (Test Dataset): 11.7847%\n",
            "   Run 4/5 ...      Epoch 0: Train Loss = 0.7603, Val Loss = 8.2081\n"
          ]
        },
        {
          "output_type": "stream",
          "name": "stderr",
          "text": [
            "<ipython-input-28-f2771d1cb762>:152: UserWarning: To copy construct from a tensor, it is recommended to use sourceTensor.clone().detach() or sourceTensor.clone().detach().requires_grad_(True), rather than torch.tensor(sourceTensor).\n",
            "  X_scaled_tensor = torch.tensor(combined_X, dtype=torch.float32).unsqueeze(1)\n"
          ]
        },
        {
          "output_type": "stream",
          "name": "stdout",
          "text": [
            "     Epoch 5: Train Loss = 0.6429, Val Loss = 9.1080\n",
            "     Epoch 10: Train Loss = 0.6208, Val Loss = 9.8209\n",
            "     Epoch 15: Train Loss = 0.6141, Val Loss = 10.3374\n",
            "     Epoch 20: Train Loss = 0.6079, Val Loss = 10.7505\n",
            "    ⏹️ Early stopping at epoch 20\n",
            " Run 4 finished with best val loss: 8.2081\n",
            "Original Error Percentage (Test Dataset): 10.7707%\n",
            "Corrected Error Percentage (Test Dataset): 10.1993%\n",
            "   Run 5/5 ...      Epoch 0: Train Loss = 0.6572, Val Loss = 10.8891\n"
          ]
        },
        {
          "output_type": "stream",
          "name": "stderr",
          "text": [
            "<ipython-input-28-f2771d1cb762>:152: UserWarning: To copy construct from a tensor, it is recommended to use sourceTensor.clone().detach() or sourceTensor.clone().detach().requires_grad_(True), rather than torch.tensor(sourceTensor).\n",
            "  X_scaled_tensor = torch.tensor(combined_X, dtype=torch.float32).unsqueeze(1)\n"
          ]
        },
        {
          "output_type": "stream",
          "name": "stdout",
          "text": [
            "     Epoch 5: Train Loss = 0.6411, Val Loss = 11.6435\n",
            "     Epoch 10: Train Loss = 0.6197, Val Loss = 12.6621\n",
            "     Epoch 15: Train Loss = 0.6099, Val Loss = 13.3653\n",
            "     Epoch 20: Train Loss = 0.6181, Val Loss = 13.4368\n",
            "    ⏹️ Early stopping at epoch 20\n",
            " Run 5 finished with best val loss: 10.8891\n",
            "Original Error Percentage (Test Dataset): 10.7707%\n",
            "Corrected Error Percentage (Test Dataset): 11.2180%\n",
            " Finished configuration H=16, D=0.1, LR=0.0001, B=16 → Avg Val Loss: 10.1805, Avg Accuracy: 10.9955%\n",
            "\n",
            " Running 12/108: H=16, D=0.1, LR=0.0001, B=32\n",
            "   Run 1/5 ...      Epoch 0: Train Loss = 0.6874, Val Loss = 10.2746\n"
          ]
        },
        {
          "output_type": "stream",
          "name": "stderr",
          "text": [
            "<ipython-input-28-f2771d1cb762>:152: UserWarning: To copy construct from a tensor, it is recommended to use sourceTensor.clone().detach() or sourceTensor.clone().detach().requires_grad_(True), rather than torch.tensor(sourceTensor).\n",
            "  X_scaled_tensor = torch.tensor(combined_X, dtype=torch.float32).unsqueeze(1)\n"
          ]
        },
        {
          "output_type": "stream",
          "name": "stdout",
          "text": [
            "     Epoch 5: Train Loss = 0.6370, Val Loss = 11.9173\n",
            "     Epoch 10: Train Loss = 0.6151, Val Loss = 13.0752\n",
            "     Epoch 15: Train Loss = 0.6080, Val Loss = 13.7044\n",
            "     Epoch 20: Train Loss = 0.6156, Val Loss = 13.7882\n",
            "    ⏹️ Early stopping at epoch 20\n",
            " Run 1 finished with best val loss: 10.2746\n",
            "Original Error Percentage (Test Dataset): 10.7707%\n",
            "Corrected Error Percentage (Test Dataset): 11.2674%\n",
            "   Run 2/5 ...      Epoch 0: Train Loss = 0.7843, Val Loss = 13.7709\n"
          ]
        },
        {
          "output_type": "stream",
          "name": "stderr",
          "text": [
            "<ipython-input-28-f2771d1cb762>:152: UserWarning: To copy construct from a tensor, it is recommended to use sourceTensor.clone().detach() or sourceTensor.clone().detach().requires_grad_(True), rather than torch.tensor(sourceTensor).\n",
            "  X_scaled_tensor = torch.tensor(combined_X, dtype=torch.float32).unsqueeze(1)\n"
          ]
        },
        {
          "output_type": "stream",
          "name": "stdout",
          "text": [
            "     Epoch 5: Train Loss = 0.6865, Val Loss = 12.6978\n",
            "     Epoch 10: Train Loss = 0.6575, Val Loss = 12.3226\n",
            "     Epoch 15: Train Loss = 0.6403, Val Loss = 12.1556\n",
            "     Epoch 20: Train Loss = 0.6313, Val Loss = 12.2896\n",
            "     Epoch 25: Train Loss = 0.6274, Val Loss = 12.5202\n",
            "     Epoch 30: Train Loss = 0.6215, Val Loss = 12.6627\n",
            "     Epoch 35: Train Loss = 0.6162, Val Loss = 12.8132\n",
            "    ⏹️ Early stopping at epoch 35\n",
            " Run 2 finished with best val loss: 12.1556\n",
            "Original Error Percentage (Test Dataset): 10.7707%\n",
            "Corrected Error Percentage (Test Dataset): 10.9919%\n",
            "   Run 3/5 ...      Epoch 0: Train Loss = 0.6266, Val Loss = 10.5222\n"
          ]
        },
        {
          "output_type": "stream",
          "name": "stderr",
          "text": [
            "<ipython-input-28-f2771d1cb762>:152: UserWarning: To copy construct from a tensor, it is recommended to use sourceTensor.clone().detach() or sourceTensor.clone().detach().requires_grad_(True), rather than torch.tensor(sourceTensor).\n",
            "  X_scaled_tensor = torch.tensor(combined_X, dtype=torch.float32).unsqueeze(1)\n"
          ]
        },
        {
          "output_type": "stream",
          "name": "stdout",
          "text": [
            "     Epoch 5: Train Loss = 0.6076, Val Loss = 11.2881\n",
            "     Epoch 10: Train Loss = 0.6141, Val Loss = 11.8588\n",
            "     Epoch 15: Train Loss = 0.6115, Val Loss = 12.2001\n",
            "     Epoch 20: Train Loss = 0.6046, Val Loss = 12.6058\n",
            "    ⏹️ Early stopping at epoch 20\n",
            " Run 3 finished with best val loss: 10.5222\n",
            "Original Error Percentage (Test Dataset): 10.7707%\n",
            "Corrected Error Percentage (Test Dataset): 10.8961%\n",
            "   Run 4/5 ...      Epoch 0: Train Loss = 0.7005, Val Loss = 7.1349\n"
          ]
        },
        {
          "output_type": "stream",
          "name": "stderr",
          "text": [
            "<ipython-input-28-f2771d1cb762>:152: UserWarning: To copy construct from a tensor, it is recommended to use sourceTensor.clone().detach() or sourceTensor.clone().detach().requires_grad_(True), rather than torch.tensor(sourceTensor).\n",
            "  X_scaled_tensor = torch.tensor(combined_X, dtype=torch.float32).unsqueeze(1)\n"
          ]
        },
        {
          "output_type": "stream",
          "name": "stdout",
          "text": [
            "     Epoch 5: Train Loss = 0.6734, Val Loss = 7.7439\n",
            "     Epoch 10: Train Loss = 0.6451, Val Loss = 8.4354\n",
            "     Epoch 15: Train Loss = 0.6327, Val Loss = 9.1127\n",
            "     Epoch 20: Train Loss = 0.6231, Val Loss = 9.6854\n",
            "    ⏹️ Early stopping at epoch 20\n",
            " Run 4 finished with best val loss: 7.1349\n",
            "Original Error Percentage (Test Dataset): 10.7707%\n",
            "Corrected Error Percentage (Test Dataset): 9.7508%\n",
            "   Run 5/5 ...      Epoch 0: Train Loss = 0.6431, Val Loss = 13.1407\n"
          ]
        },
        {
          "output_type": "stream",
          "name": "stderr",
          "text": [
            "<ipython-input-28-f2771d1cb762>:152: UserWarning: To copy construct from a tensor, it is recommended to use sourceTensor.clone().detach() or sourceTensor.clone().detach().requires_grad_(True), rather than torch.tensor(sourceTensor).\n",
            "  X_scaled_tensor = torch.tensor(combined_X, dtype=torch.float32).unsqueeze(1)\n"
          ]
        },
        {
          "output_type": "stream",
          "name": "stdout",
          "text": [
            "     Epoch 5: Train Loss = 0.6193, Val Loss = 14.2980\n",
            "     Epoch 10: Train Loss = 0.6225, Val Loss = 14.9274\n",
            "     Epoch 15: Train Loss = 0.6206, Val Loss = 15.1806\n",
            "     Epoch 20: Train Loss = 0.6217, Val Loss = 15.0285\n",
            "    ⏹️ Early stopping at epoch 20\n",
            " Run 5 finished with best val loss: 13.1407\n",
            "Original Error Percentage (Test Dataset): 10.7707%\n",
            "Corrected Error Percentage (Test Dataset): 11.7597%\n",
            " Finished configuration H=16, D=0.1, LR=0.0001, B=32 → Avg Val Loss: 10.6456, Avg Accuracy: 10.9332%\n",
            "\n",
            " Running 13/108: H=16, D=0.1, LR=0.0005, B=8\n",
            "   Run 1/5 ... "
          ]
        },
        {
          "output_type": "stream",
          "name": "stderr",
          "text": [
            "<ipython-input-28-f2771d1cb762>:152: UserWarning: To copy construct from a tensor, it is recommended to use sourceTensor.clone().detach() or sourceTensor.clone().detach().requires_grad_(True), rather than torch.tensor(sourceTensor).\n",
            "  X_scaled_tensor = torch.tensor(combined_X, dtype=torch.float32).unsqueeze(1)\n"
          ]
        },
        {
          "output_type": "stream",
          "name": "stdout",
          "text": [
            "     Epoch 0: Train Loss = 0.6095, Val Loss = 10.9003\n",
            "     Epoch 5: Train Loss = 0.6036, Val Loss = 11.7600\n",
            "     Epoch 10: Train Loss = 0.6018, Val Loss = 12.4466\n",
            "     Epoch 15: Train Loss = 0.6010, Val Loss = 12.8076\n",
            "     Epoch 20: Train Loss = 0.6002, Val Loss = 12.9769\n",
            "    ⏹️ Early stopping at epoch 20\n",
            " Run 1 finished with best val loss: 10.9003\n",
            "Original Error Percentage (Test Dataset): 10.7707%\n",
            "Corrected Error Percentage (Test Dataset): 10.9797%\n",
            "   Run 2/5 ... "
          ]
        },
        {
          "output_type": "stream",
          "name": "stderr",
          "text": [
            "<ipython-input-28-f2771d1cb762>:152: UserWarning: To copy construct from a tensor, it is recommended to use sourceTensor.clone().detach() or sourceTensor.clone().detach().requires_grad_(True), rather than torch.tensor(sourceTensor).\n",
            "  X_scaled_tensor = torch.tensor(combined_X, dtype=torch.float32).unsqueeze(1)\n"
          ]
        },
        {
          "output_type": "stream",
          "name": "stdout",
          "text": [
            "     Epoch 0: Train Loss = 0.6886, Val Loss = 9.2899\n",
            "     Epoch 5: Train Loss = 0.6129, Val Loss = 13.0784\n",
            "     Epoch 10: Train Loss = 0.6067, Val Loss = 13.1036\n",
            "     Epoch 15: Train Loss = 0.6080, Val Loss = 12.9003\n",
            "     Epoch 20: Train Loss = 0.6074, Val Loss = 12.9874\n",
            "    ⏹️ Early stopping at epoch 20\n",
            " Run 2 finished with best val loss: 9.2899\n",
            "Original Error Percentage (Test Dataset): 10.7707%\n",
            "Corrected Error Percentage (Test Dataset): 11.0274%\n",
            "   Run 3/5 ... "
          ]
        },
        {
          "output_type": "stream",
          "name": "stderr",
          "text": [
            "<ipython-input-28-f2771d1cb762>:152: UserWarning: To copy construct from a tensor, it is recommended to use sourceTensor.clone().detach() or sourceTensor.clone().detach().requires_grad_(True), rather than torch.tensor(sourceTensor).\n",
            "  X_scaled_tensor = torch.tensor(combined_X, dtype=torch.float32).unsqueeze(1)\n"
          ]
        },
        {
          "output_type": "stream",
          "name": "stdout",
          "text": [
            "     Epoch 0: Train Loss = 0.6244, Val Loss = 10.3825\n",
            "     Epoch 5: Train Loss = 0.6052, Val Loss = 11.9395\n",
            "     Epoch 10: Train Loss = 0.6083, Val Loss = 12.6357\n",
            "     Epoch 15: Train Loss = 0.6020, Val Loss = 12.8652\n",
            "     Epoch 20: Train Loss = 0.6053, Val Loss = 12.6426\n",
            "    ⏹️ Early stopping at epoch 20\n",
            " Run 3 finished with best val loss: 10.3825\n",
            "Original Error Percentage (Test Dataset): 10.7707%\n",
            "Corrected Error Percentage (Test Dataset): 10.8591%\n",
            "   Run 4/5 ... "
          ]
        },
        {
          "output_type": "stream",
          "name": "stderr",
          "text": [
            "<ipython-input-28-f2771d1cb762>:152: UserWarning: To copy construct from a tensor, it is recommended to use sourceTensor.clone().detach() or sourceTensor.clone().detach().requires_grad_(True), rather than torch.tensor(sourceTensor).\n",
            "  X_scaled_tensor = torch.tensor(combined_X, dtype=torch.float32).unsqueeze(1)\n"
          ]
        },
        {
          "output_type": "stream",
          "name": "stdout",
          "text": [
            "     Epoch 0: Train Loss = 0.6429, Val Loss = 10.6474\n",
            "     Epoch 5: Train Loss = 0.6193, Val Loss = 12.6596\n",
            "     Epoch 10: Train Loss = 0.6111, Val Loss = 12.8081\n",
            "     Epoch 15: Train Loss = 0.6062, Val Loss = 12.6547\n",
            "     Epoch 20: Train Loss = 0.6068, Val Loss = 12.7445\n",
            "    ⏹️ Early stopping at epoch 20\n",
            " Run 4 finished with best val loss: 10.6474\n",
            "Original Error Percentage (Test Dataset): 10.7707%\n",
            "Corrected Error Percentage (Test Dataset): 10.8925%\n",
            "   Run 5/5 ... "
          ]
        },
        {
          "output_type": "stream",
          "name": "stderr",
          "text": [
            "<ipython-input-28-f2771d1cb762>:152: UserWarning: To copy construct from a tensor, it is recommended to use sourceTensor.clone().detach() or sourceTensor.clone().detach().requires_grad_(True), rather than torch.tensor(sourceTensor).\n",
            "  X_scaled_tensor = torch.tensor(combined_X, dtype=torch.float32).unsqueeze(1)\n"
          ]
        },
        {
          "output_type": "stream",
          "name": "stdout",
          "text": [
            "     Epoch 0: Train Loss = 0.6254, Val Loss = 12.0036\n",
            "     Epoch 5: Train Loss = 0.6121, Val Loss = 12.6263\n",
            "     Epoch 10: Train Loss = 0.6102, Val Loss = 13.0264\n",
            "     Epoch 15: Train Loss = 0.6031, Val Loss = 13.5360\n",
            "     Epoch 20: Train Loss = 0.6099, Val Loss = 13.1865\n",
            "    ⏹️ Early stopping at epoch 20\n",
            " Run 5 finished with best val loss: 12.0036\n",
            "Original Error Percentage (Test Dataset): 10.7707%\n",
            "Corrected Error Percentage (Test Dataset): 11.0560%\n",
            " Finished configuration H=16, D=0.1, LR=0.0005, B=8 → Avg Val Loss: 10.6447, Avg Accuracy: 10.9629%\n",
            "\n",
            " Running 14/108: H=16, D=0.1, LR=0.0005, B=16\n",
            "   Run 1/5 ...      Epoch 0: Train Loss = 0.6434, Val Loss = 11.1496\n"
          ]
        },
        {
          "output_type": "stream",
          "name": "stderr",
          "text": [
            "<ipython-input-28-f2771d1cb762>:152: UserWarning: To copy construct from a tensor, it is recommended to use sourceTensor.clone().detach() or sourceTensor.clone().detach().requires_grad_(True), rather than torch.tensor(sourceTensor).\n",
            "  X_scaled_tensor = torch.tensor(combined_X, dtype=torch.float32).unsqueeze(1)\n"
          ]
        },
        {
          "output_type": "stream",
          "name": "stdout",
          "text": [
            "     Epoch 5: Train Loss = 0.6012, Val Loss = 13.1781\n",
            "     Epoch 10: Train Loss = 0.6114, Val Loss = 13.1881\n",
            "     Epoch 15: Train Loss = 0.6063, Val Loss = 13.2200\n",
            "     Epoch 20: Train Loss = 0.6040, Val Loss = 13.3285\n",
            "    ⏹️ Early stopping at epoch 20\n",
            " Run 1 finished with best val loss: 11.1496\n",
            "Original Error Percentage (Test Dataset): 10.7707%\n",
            "Corrected Error Percentage (Test Dataset): 11.1396%\n",
            "   Run 2/5 ...      Epoch 0: Train Loss = 0.6388, Val Loss = 8.6348\n"
          ]
        },
        {
          "output_type": "stream",
          "name": "stderr",
          "text": [
            "<ipython-input-28-f2771d1cb762>:152: UserWarning: To copy construct from a tensor, it is recommended to use sourceTensor.clone().detach() or sourceTensor.clone().detach().requires_grad_(True), rather than torch.tensor(sourceTensor).\n",
            "  X_scaled_tensor = torch.tensor(combined_X, dtype=torch.float32).unsqueeze(1)\n"
          ]
        },
        {
          "output_type": "stream",
          "name": "stdout",
          "text": [
            "     Epoch 5: Train Loss = 0.6071, Val Loss = 12.1681\n",
            "     Epoch 10: Train Loss = 0.6127, Val Loss = 11.9515\n",
            "     Epoch 15: Train Loss = 0.6073, Val Loss = 12.4734\n",
            "     Epoch 20: Train Loss = 0.6083, Val Loss = 12.3204\n",
            "    ⏹️ Early stopping at epoch 20\n",
            " Run 2 finished with best val loss: 8.6348\n",
            "Original Error Percentage (Test Dataset): 10.7707%\n",
            "Corrected Error Percentage (Test Dataset): 10.6653%\n",
            "   Run 3/5 ...      Epoch 0: Train Loss = 0.7329, Val Loss = 10.9348\n"
          ]
        },
        {
          "output_type": "stream",
          "name": "stderr",
          "text": [
            "<ipython-input-28-f2771d1cb762>:152: UserWarning: To copy construct from a tensor, it is recommended to use sourceTensor.clone().detach() or sourceTensor.clone().detach().requires_grad_(True), rather than torch.tensor(sourceTensor).\n",
            "  X_scaled_tensor = torch.tensor(combined_X, dtype=torch.float32).unsqueeze(1)\n"
          ]
        },
        {
          "output_type": "stream",
          "name": "stdout",
          "text": [
            "     Epoch 5: Train Loss = 0.6097, Val Loss = 13.3396\n",
            "     Epoch 10: Train Loss = 0.6059, Val Loss = 13.2517\n",
            "     Epoch 15: Train Loss = 0.6070, Val Loss = 12.9918\n",
            "     Epoch 20: Train Loss = 0.6011, Val Loss = 12.9313\n",
            "    ⏹️ Early stopping at epoch 20\n",
            " Run 3 finished with best val loss: 10.9348\n",
            "Original Error Percentage (Test Dataset): 10.7707%\n",
            "Corrected Error Percentage (Test Dataset): 10.9152%\n",
            "   Run 4/5 ... "
          ]
        },
        {
          "output_type": "stream",
          "name": "stderr",
          "text": [
            "<ipython-input-28-f2771d1cb762>:152: UserWarning: To copy construct from a tensor, it is recommended to use sourceTensor.clone().detach() or sourceTensor.clone().detach().requires_grad_(True), rather than torch.tensor(sourceTensor).\n",
            "  X_scaled_tensor = torch.tensor(combined_X, dtype=torch.float32).unsqueeze(1)\n"
          ]
        },
        {
          "output_type": "stream",
          "name": "stdout",
          "text": [
            "     Epoch 0: Train Loss = 0.6608, Val Loss = 10.3987\n",
            "     Epoch 5: Train Loss = 0.6048, Val Loss = 13.0160\n",
            "     Epoch 10: Train Loss = 0.6109, Val Loss = 12.8877\n",
            "     Epoch 15: Train Loss = 0.6081, Val Loss = 12.8919\n",
            "     Epoch 20: Train Loss = 0.6111, Val Loss = 12.9994\n",
            "    ⏹️ Early stopping at epoch 20\n",
            " Run 4 finished with best val loss: 10.3987\n",
            "Original Error Percentage (Test Dataset): 10.7707%\n",
            "Corrected Error Percentage (Test Dataset): 10.9810%\n",
            "   Run 5/5 ...      Epoch 0: Train Loss = 0.6379, Val Loss = 11.4106\n"
          ]
        },
        {
          "output_type": "stream",
          "name": "stderr",
          "text": [
            "<ipython-input-28-f2771d1cb762>:152: UserWarning: To copy construct from a tensor, it is recommended to use sourceTensor.clone().detach() or sourceTensor.clone().detach().requires_grad_(True), rather than torch.tensor(sourceTensor).\n",
            "  X_scaled_tensor = torch.tensor(combined_X, dtype=torch.float32).unsqueeze(1)\n"
          ]
        },
        {
          "output_type": "stream",
          "name": "stdout",
          "text": [
            "     Epoch 5: Train Loss = 0.6032, Val Loss = 12.0329\n",
            "     Epoch 10: Train Loss = 0.6097, Val Loss = 12.0301\n",
            "     Epoch 15: Train Loss = 0.6034, Val Loss = 12.1733\n",
            "     Epoch 20: Train Loss = 0.6058, Val Loss = 12.0516\n",
            "    ⏹️ Early stopping at epoch 20\n",
            " Run 5 finished with best val loss: 11.4106\n",
            "Original Error Percentage (Test Dataset): 10.7707%\n",
            "Corrected Error Percentage (Test Dataset): 10.6110%\n",
            " Finished configuration H=16, D=0.1, LR=0.0005, B=16 → Avg Val Loss: 10.5057, Avg Accuracy: 10.8624%\n",
            "\n",
            " Running 15/108: H=16, D=0.1, LR=0.0005, B=32\n",
            "   Run 1/5 ...      Epoch 0: Train Loss = 0.6772, Val Loss = 10.1514\n"
          ]
        },
        {
          "output_type": "stream",
          "name": "stderr",
          "text": [
            "<ipython-input-28-f2771d1cb762>:152: UserWarning: To copy construct from a tensor, it is recommended to use sourceTensor.clone().detach() or sourceTensor.clone().detach().requires_grad_(True), rather than torch.tensor(sourceTensor).\n",
            "  X_scaled_tensor = torch.tensor(combined_X, dtype=torch.float32).unsqueeze(1)\n"
          ]
        },
        {
          "output_type": "stream",
          "name": "stdout",
          "text": [
            "     Epoch 5: Train Loss = 0.6049, Val Loss = 12.5530\n",
            "     Epoch 10: Train Loss = 0.6048, Val Loss = 12.8648\n",
            "     Epoch 15: Train Loss = 0.6075, Val Loss = 12.5772\n",
            "     Epoch 20: Train Loss = 0.6071, Val Loss = 12.5465\n",
            "    ⏹️ Early stopping at epoch 20\n",
            " Run 1 finished with best val loss: 10.1514\n",
            "Original Error Percentage (Test Dataset): 10.7707%\n",
            "Corrected Error Percentage (Test Dataset): 10.7879%\n",
            "   Run 2/5 ...      Epoch 0: Train Loss = 0.7227, Val Loss = 8.9866\n"
          ]
        },
        {
          "output_type": "stream",
          "name": "stderr",
          "text": [
            "<ipython-input-28-f2771d1cb762>:152: UserWarning: To copy construct from a tensor, it is recommended to use sourceTensor.clone().detach() or sourceTensor.clone().detach().requires_grad_(True), rather than torch.tensor(sourceTensor).\n",
            "  X_scaled_tensor = torch.tensor(combined_X, dtype=torch.float32).unsqueeze(1)\n"
          ]
        },
        {
          "output_type": "stream",
          "name": "stdout",
          "text": [
            "     Epoch 5: Train Loss = 0.6173, Val Loss = 13.1519\n",
            "     Epoch 10: Train Loss = 0.6146, Val Loss = 14.1825\n",
            "     Epoch 15: Train Loss = 0.6088, Val Loss = 14.1451\n",
            "     Epoch 20: Train Loss = 0.6202, Val Loss = 14.0674\n",
            "    ⏹️ Early stopping at epoch 20\n",
            " Run 2 finished with best val loss: 8.9866\n",
            "Original Error Percentage (Test Dataset): 10.7707%\n",
            "Corrected Error Percentage (Test Dataset): 11.4563%\n",
            "   Run 3/5 ...      Epoch 0: Train Loss = 0.6400, Val Loss = 15.6076\n"
          ]
        },
        {
          "output_type": "stream",
          "name": "stderr",
          "text": [
            "<ipython-input-28-f2771d1cb762>:152: UserWarning: To copy construct from a tensor, it is recommended to use sourceTensor.clone().detach() or sourceTensor.clone().detach().requires_grad_(True), rather than torch.tensor(sourceTensor).\n",
            "  X_scaled_tensor = torch.tensor(combined_X, dtype=torch.float32).unsqueeze(1)\n"
          ]
        },
        {
          "output_type": "stream",
          "name": "stdout",
          "text": [
            "     Epoch 5: Train Loss = 0.6162, Val Loss = 14.9409\n",
            "     Epoch 10: Train Loss = 0.6126, Val Loss = 13.9489\n",
            "     Epoch 15: Train Loss = 0.6015, Val Loss = 13.7219\n",
            "     Epoch 20: Train Loss = 0.6098, Val Loss = 13.0668\n",
            "     Epoch 25: Train Loss = 0.6046, Val Loss = 13.1895\n",
            "     Epoch 30: Train Loss = 0.6058, Val Loss = 13.1309\n",
            "     Epoch 35: Train Loss = 0.6038, Val Loss = 12.8956\n",
            "     Epoch 40: Train Loss = 0.6030, Val Loss = 13.1497\n",
            "     Epoch 45: Train Loss = 0.6066, Val Loss = 12.9230\n",
            "     Epoch 50: Train Loss = 0.6026, Val Loss = 13.1475\n",
            "     Epoch 55: Train Loss = 0.6003, Val Loss = 12.8890\n",
            "     Epoch 60: Train Loss = 0.6016, Val Loss = 13.0235\n",
            "     Epoch 65: Train Loss = 0.6007, Val Loss = 12.8658\n",
            "     Epoch 70: Train Loss = 0.6049, Val Loss = 12.9147\n",
            "    ⏹️ Early stopping at epoch 74\n",
            " Run 3 finished with best val loss: 12.6906\n",
            "Original Error Percentage (Test Dataset): 10.7707%\n",
            "Corrected Error Percentage (Test Dataset): 10.8741%\n",
            "   Run 4/5 ...      Epoch 0: Train Loss = 0.6476, Val Loss = 9.7344\n"
          ]
        },
        {
          "output_type": "stream",
          "name": "stderr",
          "text": [
            "<ipython-input-28-f2771d1cb762>:152: UserWarning: To copy construct from a tensor, it is recommended to use sourceTensor.clone().detach() or sourceTensor.clone().detach().requires_grad_(True), rather than torch.tensor(sourceTensor).\n",
            "  X_scaled_tensor = torch.tensor(combined_X, dtype=torch.float32).unsqueeze(1)\n"
          ]
        },
        {
          "output_type": "stream",
          "name": "stdout",
          "text": [
            "     Epoch 5: Train Loss = 0.6114, Val Loss = 11.7912\n",
            "     Epoch 10: Train Loss = 0.6077, Val Loss = 12.2563\n",
            "     Epoch 15: Train Loss = 0.6052, Val Loss = 12.1331\n",
            "     Epoch 20: Train Loss = 0.6078, Val Loss = 12.3408\n",
            "    ⏹️ Early stopping at epoch 20\n",
            " Run 4 finished with best val loss: 9.7344\n",
            "Original Error Percentage (Test Dataset): 10.7707%\n",
            "Corrected Error Percentage (Test Dataset): 10.7367%\n",
            "   Run 5/5 ...      Epoch 0: Train Loss = 0.7520, Val Loss = 12.5876\n"
          ]
        },
        {
          "output_type": "stream",
          "name": "stderr",
          "text": [
            "<ipython-input-28-f2771d1cb762>:152: UserWarning: To copy construct from a tensor, it is recommended to use sourceTensor.clone().detach() or sourceTensor.clone().detach().requires_grad_(True), rather than torch.tensor(sourceTensor).\n",
            "  X_scaled_tensor = torch.tensor(combined_X, dtype=torch.float32).unsqueeze(1)\n"
          ]
        },
        {
          "output_type": "stream",
          "name": "stdout",
          "text": [
            "     Epoch 5: Train Loss = 0.6138, Val Loss = 12.5797\n",
            "     Epoch 10: Train Loss = 0.6087, Val Loss = 13.5742\n",
            "     Epoch 15: Train Loss = 0.6066, Val Loss = 13.4544\n",
            "     Epoch 20: Train Loss = 0.6055, Val Loss = 13.0355\n",
            "    ⏹️ Early stopping at epoch 22\n",
            " Run 5 finished with best val loss: 12.1634\n",
            "Original Error Percentage (Test Dataset): 10.7707%\n",
            "Corrected Error Percentage (Test Dataset): 11.0596%\n",
            " Finished configuration H=16, D=0.1, LR=0.0005, B=32 → Avg Val Loss: 10.7452, Avg Accuracy: 10.9829%\n",
            "\n",
            " Running 16/108: H=16, D=0.1, LR=0.001, B=8\n",
            "   Run 1/5 ... "
          ]
        },
        {
          "output_type": "stream",
          "name": "stderr",
          "text": [
            "<ipython-input-28-f2771d1cb762>:152: UserWarning: To copy construct from a tensor, it is recommended to use sourceTensor.clone().detach() or sourceTensor.clone().detach().requires_grad_(True), rather than torch.tensor(sourceTensor).\n",
            "  X_scaled_tensor = torch.tensor(combined_X, dtype=torch.float32).unsqueeze(1)\n"
          ]
        },
        {
          "output_type": "stream",
          "name": "stdout",
          "text": [
            "     Epoch 0: Train Loss = 0.6434, Val Loss = 12.7330\n",
            "     Epoch 5: Train Loss = 0.6070, Val Loss = 14.0697\n",
            "     Epoch 10: Train Loss = 0.6061, Val Loss = 13.1475\n",
            "     Epoch 15: Train Loss = 0.6029, Val Loss = 13.4998\n",
            "     Epoch 20: Train Loss = 0.6032, Val Loss = 12.9461\n",
            "    ⏹️ Early stopping at epoch 20\n",
            " Run 1 finished with best val loss: 12.7330\n",
            "Original Error Percentage (Test Dataset): 10.7707%\n",
            "Corrected Error Percentage (Test Dataset): 10.9507%\n",
            "   Run 2/5 ... "
          ]
        },
        {
          "output_type": "stream",
          "name": "stderr",
          "text": [
            "<ipython-input-28-f2771d1cb762>:152: UserWarning: To copy construct from a tensor, it is recommended to use sourceTensor.clone().detach() or sourceTensor.clone().detach().requires_grad_(True), rather than torch.tensor(sourceTensor).\n",
            "  X_scaled_tensor = torch.tensor(combined_X, dtype=torch.float32).unsqueeze(1)\n"
          ]
        },
        {
          "output_type": "stream",
          "name": "stdout",
          "text": [
            "     Epoch 0: Train Loss = 0.6291, Val Loss = 12.3508\n",
            "     Epoch 5: Train Loss = 0.6058, Val Loss = 12.2857\n",
            "     Epoch 10: Train Loss = 0.6067, Val Loss = 12.3947\n",
            "     Epoch 15: Train Loss = 0.6023, Val Loss = 12.2128\n",
            "     Epoch 20: Train Loss = 0.6025, Val Loss = 12.3948\n",
            "    ⏹️ Early stopping at epoch 21\n",
            " Run 2 finished with best val loss: 11.8510\n",
            "Original Error Percentage (Test Dataset): 10.7707%\n",
            "Corrected Error Percentage (Test Dataset): 10.8639%\n",
            "   Run 3/5 ... "
          ]
        },
        {
          "output_type": "stream",
          "name": "stderr",
          "text": [
            "<ipython-input-28-f2771d1cb762>:152: UserWarning: To copy construct from a tensor, it is recommended to use sourceTensor.clone().detach() or sourceTensor.clone().detach().requires_grad_(True), rather than torch.tensor(sourceTensor).\n",
            "  X_scaled_tensor = torch.tensor(combined_X, dtype=torch.float32).unsqueeze(1)\n"
          ]
        },
        {
          "output_type": "stream",
          "name": "stdout",
          "text": [
            "     Epoch 0: Train Loss = 0.6465, Val Loss = 13.4861\n",
            "     Epoch 5: Train Loss = 0.6057, Val Loss = 13.0737\n",
            "     Epoch 10: Train Loss = 0.6015, Val Loss = 12.5586\n",
            "     Epoch 15: Train Loss = 0.6044, Val Loss = 12.7851\n",
            "     Epoch 20: Train Loss = 0.6036, Val Loss = 12.4873\n",
            "     Epoch 25: Train Loss = 0.6056, Val Loss = 12.5684\n",
            "     Epoch 30: Train Loss = 0.6030, Val Loss = 12.7867\n",
            "     Epoch 35: Train Loss = 0.6051, Val Loss = 12.6149\n",
            "     Epoch 40: Train Loss = 0.6030, Val Loss = 12.4535\n",
            "     Epoch 45: Train Loss = 0.5983, Val Loss = 12.3075\n",
            "    ⏹️ Early stopping at epoch 47\n",
            " Run 3 finished with best val loss: 11.9519\n",
            "Original Error Percentage (Test Dataset): 10.7707%\n",
            "Corrected Error Percentage (Test Dataset): 10.9066%\n",
            "   Run 4/5 ... "
          ]
        },
        {
          "output_type": "stream",
          "name": "stderr",
          "text": [
            "<ipython-input-28-f2771d1cb762>:152: UserWarning: To copy construct from a tensor, it is recommended to use sourceTensor.clone().detach() or sourceTensor.clone().detach().requires_grad_(True), rather than torch.tensor(sourceTensor).\n",
            "  X_scaled_tensor = torch.tensor(combined_X, dtype=torch.float32).unsqueeze(1)\n"
          ]
        },
        {
          "output_type": "stream",
          "name": "stdout",
          "text": [
            "     Epoch 0: Train Loss = 0.6233, Val Loss = 13.8376\n",
            "     Epoch 5: Train Loss = 0.6051, Val Loss = 13.8396\n",
            "     Epoch 10: Train Loss = 0.6044, Val Loss = 12.9817\n",
            "     Epoch 15: Train Loss = 0.6089, Val Loss = 12.8609\n",
            "     Epoch 20: Train Loss = 0.6058, Val Loss = 12.9147\n",
            "     Epoch 25: Train Loss = 0.6025, Val Loss = 12.2673\n",
            "     Epoch 30: Train Loss = 0.6019, Val Loss = 13.2218\n",
            "     Epoch 35: Train Loss = 0.6036, Val Loss = 12.8102\n",
            "    ⏹️ Early stopping at epoch 37\n",
            " Run 4 finished with best val loss: 12.2109\n",
            "Original Error Percentage (Test Dataset): 10.7707%\n",
            "Corrected Error Percentage (Test Dataset): 10.9667%\n",
            "   Run 5/5 ... "
          ]
        },
        {
          "output_type": "stream",
          "name": "stderr",
          "text": [
            "<ipython-input-28-f2771d1cb762>:152: UserWarning: To copy construct from a tensor, it is recommended to use sourceTensor.clone().detach() or sourceTensor.clone().detach().requires_grad_(True), rather than torch.tensor(sourceTensor).\n",
            "  X_scaled_tensor = torch.tensor(combined_X, dtype=torch.float32).unsqueeze(1)\n"
          ]
        },
        {
          "output_type": "stream",
          "name": "stdout",
          "text": [
            "     Epoch 0: Train Loss = 0.6175, Val Loss = 11.1578\n",
            "     Epoch 5: Train Loss = 0.6050, Val Loss = 12.7055\n",
            "     Epoch 10: Train Loss = 0.6046, Val Loss = 12.3694\n",
            "     Epoch 15: Train Loss = 0.6011, Val Loss = 12.8682\n",
            "     Epoch 20: Train Loss = 0.6018, Val Loss = 12.5976\n",
            "    ⏹️ Early stopping at epoch 20\n",
            " Run 5 finished with best val loss: 11.1578\n",
            "Original Error Percentage (Test Dataset): 10.7707%\n",
            "Corrected Error Percentage (Test Dataset): 10.8277%\n",
            " Finished configuration H=16, D=0.1, LR=0.001, B=8 → Avg Val Loss: 11.9809, Avg Accuracy: 10.9031%\n",
            "\n",
            " Running 17/108: H=16, D=0.1, LR=0.001, B=16\n",
            "   Run 1/5 ...      Epoch 0: Train Loss = 0.6367, Val Loss = 13.0317\n"
          ]
        },
        {
          "output_type": "stream",
          "name": "stderr",
          "text": [
            "<ipython-input-28-f2771d1cb762>:152: UserWarning: To copy construct from a tensor, it is recommended to use sourceTensor.clone().detach() or sourceTensor.clone().detach().requires_grad_(True), rather than torch.tensor(sourceTensor).\n",
            "  X_scaled_tensor = torch.tensor(combined_X, dtype=torch.float32).unsqueeze(1)\n"
          ]
        },
        {
          "output_type": "stream",
          "name": "stdout",
          "text": [
            "     Epoch 5: Train Loss = 0.6065, Val Loss = 13.7997\n",
            "     Epoch 10: Train Loss = 0.6074, Val Loss = 12.7287\n",
            "     Epoch 15: Train Loss = 0.6043, Val Loss = 12.5715\n",
            "     Epoch 20: Train Loss = 0.6109, Val Loss = 12.5543\n",
            "     Epoch 25: Train Loss = 0.6032, Val Loss = 12.9862\n",
            "     Epoch 30: Train Loss = 0.6091, Val Loss = 12.9539\n",
            "     Epoch 35: Train Loss = 0.6064, Val Loss = 12.6271\n",
            "     Epoch 40: Train Loss = 0.6012, Val Loss = 13.1596\n",
            "     Epoch 45: Train Loss = 0.6032, Val Loss = 13.1156\n",
            "     Epoch 50: Train Loss = 0.6018, Val Loss = 12.4049\n",
            "    ⏹️ Early stopping at epoch 53\n",
            " Run 1 finished with best val loss: 12.0946\n",
            "Original Error Percentage (Test Dataset): 10.7707%\n",
            "Corrected Error Percentage (Test Dataset): 10.8347%\n",
            "   Run 2/5 ... "
          ]
        },
        {
          "output_type": "stream",
          "name": "stderr",
          "text": [
            "<ipython-input-28-f2771d1cb762>:152: UserWarning: To copy construct from a tensor, it is recommended to use sourceTensor.clone().detach() or sourceTensor.clone().detach().requires_grad_(True), rather than torch.tensor(sourceTensor).\n",
            "  X_scaled_tensor = torch.tensor(combined_X, dtype=torch.float32).unsqueeze(1)\n"
          ]
        },
        {
          "output_type": "stream",
          "name": "stdout",
          "text": [
            "     Epoch 0: Train Loss = 0.6113, Val Loss = 10.6186\n",
            "     Epoch 5: Train Loss = 0.6036, Val Loss = 11.8547\n",
            "     Epoch 10: Train Loss = 0.6026, Val Loss = 12.1375\n",
            "     Epoch 15: Train Loss = 0.6032, Val Loss = 12.5257\n",
            "     Epoch 20: Train Loss = 0.5992, Val Loss = 12.7200\n",
            "    ⏹️ Early stopping at epoch 20\n",
            " Run 2 finished with best val loss: 10.6186\n",
            "Original Error Percentage (Test Dataset): 10.7707%\n",
            "Corrected Error Percentage (Test Dataset): 10.8877%\n",
            "   Run 3/5 ...      Epoch 0: Train Loss = 0.6432, Val Loss = 10.0588\n"
          ]
        },
        {
          "output_type": "stream",
          "name": "stderr",
          "text": [
            "<ipython-input-28-f2771d1cb762>:152: UserWarning: To copy construct from a tensor, it is recommended to use sourceTensor.clone().detach() or sourceTensor.clone().detach().requires_grad_(True), rather than torch.tensor(sourceTensor).\n",
            "  X_scaled_tensor = torch.tensor(combined_X, dtype=torch.float32).unsqueeze(1)\n"
          ]
        },
        {
          "output_type": "stream",
          "name": "stdout",
          "text": [
            "     Epoch 5: Train Loss = 0.6058, Val Loss = 11.7302\n",
            "     Epoch 10: Train Loss = 0.6038, Val Loss = 11.9254\n",
            "     Epoch 15: Train Loss = 0.6053, Val Loss = 12.1318\n",
            "     Epoch 20: Train Loss = 0.6047, Val Loss = 12.3754\n",
            "    ⏹️ Early stopping at epoch 20\n",
            " Run 3 finished with best val loss: 10.0588\n",
            "Original Error Percentage (Test Dataset): 10.7707%\n",
            "Corrected Error Percentage (Test Dataset): 10.7377%\n",
            "   Run 4/5 ...      Epoch 0: Train Loss = 0.6914, Val Loss = 12.6541\n"
          ]
        },
        {
          "output_type": "stream",
          "name": "stderr",
          "text": [
            "<ipython-input-28-f2771d1cb762>:152: UserWarning: To copy construct from a tensor, it is recommended to use sourceTensor.clone().detach() or sourceTensor.clone().detach().requires_grad_(True), rather than torch.tensor(sourceTensor).\n",
            "  X_scaled_tensor = torch.tensor(combined_X, dtype=torch.float32).unsqueeze(1)\n"
          ]
        },
        {
          "output_type": "stream",
          "name": "stdout",
          "text": [
            "     Epoch 5: Train Loss = 0.6079, Val Loss = 14.0560\n",
            "     Epoch 10: Train Loss = 0.6070, Val Loss = 13.3251\n",
            "     Epoch 15: Train Loss = 0.6059, Val Loss = 13.1802\n",
            "     Epoch 20: Train Loss = 0.6034, Val Loss = 13.2820\n",
            "    ⏹️ Early stopping at epoch 20\n",
            " Run 4 finished with best val loss: 12.6541\n",
            "Original Error Percentage (Test Dataset): 10.7707%\n",
            "Corrected Error Percentage (Test Dataset): 11.0855%\n",
            "   Run 5/5 ... "
          ]
        },
        {
          "output_type": "stream",
          "name": "stderr",
          "text": [
            "<ipython-input-28-f2771d1cb762>:152: UserWarning: To copy construct from a tensor, it is recommended to use sourceTensor.clone().detach() or sourceTensor.clone().detach().requires_grad_(True), rather than torch.tensor(sourceTensor).\n",
            "  X_scaled_tensor = torch.tensor(combined_X, dtype=torch.float32).unsqueeze(1)\n"
          ]
        },
        {
          "output_type": "stream",
          "name": "stdout",
          "text": [
            "     Epoch 0: Train Loss = 0.6133, Val Loss = 14.0885\n",
            "     Epoch 5: Train Loss = 0.6072, Val Loss = 13.6010\n",
            "     Epoch 10: Train Loss = 0.6019, Val Loss = 13.9421\n",
            "     Epoch 15: Train Loss = 0.6056, Val Loss = 13.1926\n",
            "     Epoch 20: Train Loss = 0.6033, Val Loss = 13.3918\n",
            "     Epoch 25: Train Loss = 0.6029, Val Loss = 13.5773\n",
            "     Epoch 30: Train Loss = 0.6013, Val Loss = 13.5763\n",
            "    ⏹️ Early stopping at epoch 34\n",
            " Run 5 finished with best val loss: 12.8776\n",
            "Original Error Percentage (Test Dataset): 10.7707%\n",
            "Corrected Error Percentage (Test Dataset): 11.2386%\n",
            " Finished configuration H=16, D=0.1, LR=0.001, B=16 → Avg Val Loss: 11.6608, Avg Accuracy: 10.9568%\n",
            "\n",
            " Running 18/108: H=16, D=0.1, LR=0.001, B=32\n",
            "   Run 1/5 ...      Epoch 0: Train Loss = 0.7201, Val Loss = 11.5056\n"
          ]
        },
        {
          "output_type": "stream",
          "name": "stderr",
          "text": [
            "<ipython-input-28-f2771d1cb762>:152: UserWarning: To copy construct from a tensor, it is recommended to use sourceTensor.clone().detach() or sourceTensor.clone().detach().requires_grad_(True), rather than torch.tensor(sourceTensor).\n",
            "  X_scaled_tensor = torch.tensor(combined_X, dtype=torch.float32).unsqueeze(1)\n"
          ]
        },
        {
          "output_type": "stream",
          "name": "stdout",
          "text": [
            "     Epoch 5: Train Loss = 0.6145, Val Loss = 13.4580\n",
            "     Epoch 10: Train Loss = 0.6073, Val Loss = 13.1296\n",
            "     Epoch 15: Train Loss = 0.6102, Val Loss = 12.7863\n",
            "     Epoch 20: Train Loss = 0.6036, Val Loss = 12.7454\n",
            "    ⏹️ Early stopping at epoch 20\n",
            " Run 1 finished with best val loss: 11.5056\n",
            "Original Error Percentage (Test Dataset): 10.7707%\n",
            "Corrected Error Percentage (Test Dataset): 10.9387%\n",
            "   Run 2/5 ...      Epoch 0: Train Loss = 0.6405, Val Loss = 10.3945\n"
          ]
        },
        {
          "output_type": "stream",
          "name": "stderr",
          "text": [
            "<ipython-input-28-f2771d1cb762>:152: UserWarning: To copy construct from a tensor, it is recommended to use sourceTensor.clone().detach() or sourceTensor.clone().detach().requires_grad_(True), rather than torch.tensor(sourceTensor).\n",
            "  X_scaled_tensor = torch.tensor(combined_X, dtype=torch.float32).unsqueeze(1)\n"
          ]
        },
        {
          "output_type": "stream",
          "name": "stdout",
          "text": [
            "     Epoch 5: Train Loss = 0.6076, Val Loss = 11.8874\n",
            "     Epoch 10: Train Loss = 0.6076, Val Loss = 12.5326\n",
            "     Epoch 15: Train Loss = 0.6033, Val Loss = 12.8757\n",
            "     Epoch 20: Train Loss = 0.6034, Val Loss = 13.0799\n",
            "    ⏹️ Early stopping at epoch 20\n",
            " Run 2 finished with best val loss: 10.3945\n",
            "Original Error Percentage (Test Dataset): 10.7707%\n",
            "Corrected Error Percentage (Test Dataset): 11.0520%\n",
            "   Run 3/5 ...      Epoch 0: Train Loss = 0.6606, Val Loss = 12.7315\n"
          ]
        },
        {
          "output_type": "stream",
          "name": "stderr",
          "text": [
            "<ipython-input-28-f2771d1cb762>:152: UserWarning: To copy construct from a tensor, it is recommended to use sourceTensor.clone().detach() or sourceTensor.clone().detach().requires_grad_(True), rather than torch.tensor(sourceTensor).\n",
            "  X_scaled_tensor = torch.tensor(combined_X, dtype=torch.float32).unsqueeze(1)\n"
          ]
        },
        {
          "output_type": "stream",
          "name": "stdout",
          "text": [
            "     Epoch 5: Train Loss = 0.6053, Val Loss = 14.3286\n",
            "     Epoch 10: Train Loss = 0.6063, Val Loss = 14.1491\n",
            "     Epoch 15: Train Loss = 0.6086, Val Loss = 13.0963\n",
            "     Epoch 20: Train Loss = 0.6045, Val Loss = 13.4320\n",
            "    ⏹️ Early stopping at epoch 20\n",
            " Run 3 finished with best val loss: 12.7315\n",
            "Original Error Percentage (Test Dataset): 10.7707%\n",
            "Corrected Error Percentage (Test Dataset): 11.1746%\n",
            "   Run 4/5 ...      Epoch 0: Train Loss = 0.6245, Val Loss = 11.0300\n"
          ]
        },
        {
          "output_type": "stream",
          "name": "stderr",
          "text": [
            "<ipython-input-28-f2771d1cb762>:152: UserWarning: To copy construct from a tensor, it is recommended to use sourceTensor.clone().detach() or sourceTensor.clone().detach().requires_grad_(True), rather than torch.tensor(sourceTensor).\n",
            "  X_scaled_tensor = torch.tensor(combined_X, dtype=torch.float32).unsqueeze(1)\n"
          ]
        },
        {
          "output_type": "stream",
          "name": "stdout",
          "text": [
            "     Epoch 5: Train Loss = 0.6061, Val Loss = 12.3366\n",
            "     Epoch 10: Train Loss = 0.6084, Val Loss = 12.7912\n",
            "     Epoch 15: Train Loss = 0.6036, Val Loss = 12.8730\n",
            "     Epoch 20: Train Loss = 0.6007, Val Loss = 12.8589\n",
            "    ⏹️ Early stopping at epoch 20\n",
            " Run 4 finished with best val loss: 11.0300\n",
            "Original Error Percentage (Test Dataset): 10.7707%\n",
            "Corrected Error Percentage (Test Dataset): 10.9335%\n",
            "   Run 5/5 ...      Epoch 0: Train Loss = 0.6449, Val Loss = 10.8979\n"
          ]
        },
        {
          "output_type": "stream",
          "name": "stderr",
          "text": [
            "<ipython-input-28-f2771d1cb762>:152: UserWarning: To copy construct from a tensor, it is recommended to use sourceTensor.clone().detach() or sourceTensor.clone().detach().requires_grad_(True), rather than torch.tensor(sourceTensor).\n",
            "  X_scaled_tensor = torch.tensor(combined_X, dtype=torch.float32).unsqueeze(1)\n"
          ]
        },
        {
          "output_type": "stream",
          "name": "stdout",
          "text": [
            "     Epoch 5: Train Loss = 0.6048, Val Loss = 12.4036\n",
            "     Epoch 10: Train Loss = 0.6023, Val Loss = 12.6702\n",
            "     Epoch 15: Train Loss = 0.6100, Val Loss = 11.8701\n",
            "     Epoch 20: Train Loss = 0.5983, Val Loss = 12.6264\n",
            "     Epoch 25: Train Loss = 0.6010, Val Loss = 12.4362\n",
            "     Epoch 30: Train Loss = 0.6034, Val Loss = 12.6672\n",
            "    ⏹️ Early stopping at epoch 32\n",
            " Run 5 finished with best val loss: 10.8141\n",
            "Original Error Percentage (Test Dataset): 10.7707%\n",
            "Corrected Error Percentage (Test Dataset): 10.6166%\n",
            " Finished configuration H=16, D=0.1, LR=0.001, B=32 → Avg Val Loss: 11.2951, Avg Accuracy: 10.9431%\n",
            "\n",
            " Running 19/108: H=16, D=0.2, LR=0.0001, B=8\n",
            "   Run 1/5 ... "
          ]
        },
        {
          "output_type": "stream",
          "name": "stderr",
          "text": [
            "<ipython-input-28-f2771d1cb762>:152: UserWarning: To copy construct from a tensor, it is recommended to use sourceTensor.clone().detach() or sourceTensor.clone().detach().requires_grad_(True), rather than torch.tensor(sourceTensor).\n",
            "  X_scaled_tensor = torch.tensor(combined_X, dtype=torch.float32).unsqueeze(1)\n"
          ]
        },
        {
          "output_type": "stream",
          "name": "stdout",
          "text": [
            "     Epoch 0: Train Loss = 0.6398, Val Loss = 10.2866\n",
            "     Epoch 5: Train Loss = 0.6187, Val Loss = 11.0667\n",
            "     Epoch 10: Train Loss = 0.6101, Val Loss = 11.5695\n",
            "     Epoch 15: Train Loss = 0.6055, Val Loss = 11.9317\n",
            "     Epoch 20: Train Loss = 0.6075, Val Loss = 12.0801\n",
            "    ⏹️ Early stopping at epoch 20\n",
            " Run 1 finished with best val loss: 10.2866\n",
            "Original Error Percentage (Test Dataset): 10.7707%\n",
            "Corrected Error Percentage (Test Dataset): 10.6753%\n",
            "   Run 2/5 ... "
          ]
        },
        {
          "output_type": "stream",
          "name": "stderr",
          "text": [
            "<ipython-input-28-f2771d1cb762>:152: UserWarning: To copy construct from a tensor, it is recommended to use sourceTensor.clone().detach() or sourceTensor.clone().detach().requires_grad_(True), rather than torch.tensor(sourceTensor).\n",
            "  X_scaled_tensor = torch.tensor(combined_X, dtype=torch.float32).unsqueeze(1)\n"
          ]
        },
        {
          "output_type": "stream",
          "name": "stdout",
          "text": [
            "     Epoch 0: Train Loss = 0.6473, Val Loss = 19.5194\n",
            "     Epoch 5: Train Loss = 0.6225, Val Loss = 16.5918\n",
            "     Epoch 10: Train Loss = 0.6236, Val Loss = 15.4517\n",
            "     Epoch 15: Train Loss = 0.6202, Val Loss = 14.9407\n",
            "     Epoch 20: Train Loss = 0.6134, Val Loss = 14.6089\n",
            "     Epoch 25: Train Loss = 0.6076, Val Loss = 14.3532\n",
            "     Epoch 30: Train Loss = 0.6188, Val Loss = 13.9104\n",
            "     Epoch 35: Train Loss = 0.6073, Val Loss = 13.7780\n",
            "     Epoch 40: Train Loss = 0.6098, Val Loss = 13.3493\n",
            "     Epoch 45: Train Loss = 0.6119, Val Loss = 13.1888\n",
            "     Epoch 50: Train Loss = 0.6175, Val Loss = 12.7163\n",
            "     Epoch 55: Train Loss = 0.6103, Val Loss = 12.6385\n",
            "     Epoch 60: Train Loss = 0.6094, Val Loss = 13.1551\n",
            "     Epoch 65: Train Loss = 0.6066, Val Loss = 13.0269\n",
            "     Epoch 70: Train Loss = 0.6115, Val Loss = 13.0430\n",
            "     Epoch 75: Train Loss = 0.6100, Val Loss = 13.0898\n",
            "    ⏹️ Early stopping at epoch 75\n",
            " Run 2 finished with best val loss: 12.6385\n",
            "Original Error Percentage (Test Dataset): 10.7707%\n",
            "Corrected Error Percentage (Test Dataset): 11.0323%\n",
            "   Run 3/5 ... "
          ]
        },
        {
          "output_type": "stream",
          "name": "stderr",
          "text": [
            "<ipython-input-28-f2771d1cb762>:152: UserWarning: To copy construct from a tensor, it is recommended to use sourceTensor.clone().detach() or sourceTensor.clone().detach().requires_grad_(True), rather than torch.tensor(sourceTensor).\n",
            "  X_scaled_tensor = torch.tensor(combined_X, dtype=torch.float32).unsqueeze(1)\n"
          ]
        },
        {
          "output_type": "stream",
          "name": "stdout",
          "text": [
            "     Epoch 0: Train Loss = 0.6305, Val Loss = 10.5657\n",
            "     Epoch 5: Train Loss = 0.6162, Val Loss = 11.6392\n",
            "     Epoch 10: Train Loss = 0.6154, Val Loss = 12.1225\n",
            "     Epoch 15: Train Loss = 0.6094, Val Loss = 12.3135\n",
            "     Epoch 20: Train Loss = 0.6064, Val Loss = 12.6360\n",
            "    ⏹️ Early stopping at epoch 20\n",
            " Run 3 finished with best val loss: 10.5657\n",
            "Original Error Percentage (Test Dataset): 10.7707%\n",
            "Corrected Error Percentage (Test Dataset): 10.8845%\n",
            "   Run 4/5 ... "
          ]
        },
        {
          "output_type": "stream",
          "name": "stderr",
          "text": [
            "<ipython-input-28-f2771d1cb762>:152: UserWarning: To copy construct from a tensor, it is recommended to use sourceTensor.clone().detach() or sourceTensor.clone().detach().requires_grad_(True), rather than torch.tensor(sourceTensor).\n",
            "  X_scaled_tensor = torch.tensor(combined_X, dtype=torch.float32).unsqueeze(1)\n"
          ]
        },
        {
          "output_type": "stream",
          "name": "stdout",
          "text": [
            "     Epoch 0: Train Loss = 0.6297, Val Loss = 11.5518\n",
            "     Epoch 5: Train Loss = 0.6136, Val Loss = 12.5728\n",
            "     Epoch 10: Train Loss = 0.6155, Val Loss = 12.5742\n",
            "     Epoch 15: Train Loss = 0.6181, Val Loss = 12.4926\n",
            "     Epoch 20: Train Loss = 0.6138, Val Loss = 12.5540\n",
            "    ⏹️ Early stopping at epoch 20\n",
            " Run 4 finished with best val loss: 11.5518\n",
            "Original Error Percentage (Test Dataset): 10.7707%\n",
            "Corrected Error Percentage (Test Dataset): 10.7925%\n",
            "   Run 5/5 ... "
          ]
        },
        {
          "output_type": "stream",
          "name": "stderr",
          "text": [
            "<ipython-input-28-f2771d1cb762>:152: UserWarning: To copy construct from a tensor, it is recommended to use sourceTensor.clone().detach() or sourceTensor.clone().detach().requires_grad_(True), rather than torch.tensor(sourceTensor).\n",
            "  X_scaled_tensor = torch.tensor(combined_X, dtype=torch.float32).unsqueeze(1)\n"
          ]
        },
        {
          "output_type": "stream",
          "name": "stdout",
          "text": [
            "     Epoch 0: Train Loss = 0.6472, Val Loss = 8.2439\n",
            "     Epoch 5: Train Loss = 0.6221, Val Loss = 9.3650\n",
            "     Epoch 10: Train Loss = 0.6159, Val Loss = 10.0615\n",
            "     Epoch 15: Train Loss = 0.6125, Val Loss = 10.5985\n",
            "     Epoch 20: Train Loss = 0.6151, Val Loss = 10.9479\n",
            "    ⏹️ Early stopping at epoch 20\n",
            " Run 5 finished with best val loss: 8.2439\n",
            "Original Error Percentage (Test Dataset): 10.7707%\n",
            "Corrected Error Percentage (Test Dataset): 10.2072%\n",
            " Finished configuration H=16, D=0.2, LR=0.0001, B=8 → Avg Val Loss: 10.6573, Avg Accuracy: 10.7184%\n",
            "\n",
            " Running 20/108: H=16, D=0.2, LR=0.0001, B=16\n",
            "   Run 1/5 ...      Epoch 0: Train Loss = 0.9273, Val Loss = 9.5227\n"
          ]
        },
        {
          "output_type": "stream",
          "name": "stderr",
          "text": [
            "<ipython-input-28-f2771d1cb762>:152: UserWarning: To copy construct from a tensor, it is recommended to use sourceTensor.clone().detach() or sourceTensor.clone().detach().requires_grad_(True), rather than torch.tensor(sourceTensor).\n",
            "  X_scaled_tensor = torch.tensor(combined_X, dtype=torch.float32).unsqueeze(1)\n"
          ]
        },
        {
          "output_type": "stream",
          "name": "stdout",
          "text": [
            "     Epoch 5: Train Loss = 0.6640, Val Loss = 11.5257\n",
            "     Epoch 10: Train Loss = 0.6505, Val Loss = 12.5698\n",
            "     Epoch 15: Train Loss = 0.6358, Val Loss = 12.9964\n",
            "     Epoch 20: Train Loss = 0.6261, Val Loss = 13.0690\n",
            "    ⏹️ Early stopping at epoch 20\n",
            " Run 1 finished with best val loss: 9.5227\n",
            "Original Error Percentage (Test Dataset): 10.7707%\n",
            "Corrected Error Percentage (Test Dataset): 11.0956%\n",
            "   Run 2/5 ...      Epoch 0: Train Loss = 0.6639, Val Loss = 8.9073\n"
          ]
        },
        {
          "output_type": "stream",
          "name": "stderr",
          "text": [
            "<ipython-input-28-f2771d1cb762>:152: UserWarning: To copy construct from a tensor, it is recommended to use sourceTensor.clone().detach() or sourceTensor.clone().detach().requires_grad_(True), rather than torch.tensor(sourceTensor).\n",
            "  X_scaled_tensor = torch.tensor(combined_X, dtype=torch.float32).unsqueeze(1)\n"
          ]
        },
        {
          "output_type": "stream",
          "name": "stdout",
          "text": [
            "     Epoch 5: Train Loss = 0.6466, Val Loss = 9.2337\n",
            "     Epoch 10: Train Loss = 0.6329, Val Loss = 9.6409\n",
            "     Epoch 15: Train Loss = 0.6276, Val Loss = 9.9727\n",
            "     Epoch 20: Train Loss = 0.6214, Val Loss = 10.2370\n",
            "    ⏹️ Early stopping at epoch 20\n",
            " Run 2 finished with best val loss: 8.9073\n",
            "Original Error Percentage (Test Dataset): 10.7707%\n",
            "Corrected Error Percentage (Test Dataset): 10.0204%\n",
            "   Run 3/5 ...      Epoch 0: Train Loss = 0.6809, Val Loss = 8.7993\n"
          ]
        },
        {
          "output_type": "stream",
          "name": "stderr",
          "text": [
            "<ipython-input-28-f2771d1cb762>:152: UserWarning: To copy construct from a tensor, it is recommended to use sourceTensor.clone().detach() or sourceTensor.clone().detach().requires_grad_(True), rather than torch.tensor(sourceTensor).\n",
            "  X_scaled_tensor = torch.tensor(combined_X, dtype=torch.float32).unsqueeze(1)\n"
          ]
        },
        {
          "output_type": "stream",
          "name": "stdout",
          "text": [
            "     Epoch 5: Train Loss = 0.6466, Val Loss = 9.6407\n",
            "     Epoch 10: Train Loss = 0.6347, Val Loss = 10.0731\n",
            "     Epoch 15: Train Loss = 0.6297, Val Loss = 10.6153\n",
            "     Epoch 20: Train Loss = 0.6291, Val Loss = 10.8456\n",
            "    ⏹️ Early stopping at epoch 20\n",
            " Run 3 finished with best val loss: 8.7993\n",
            "Original Error Percentage (Test Dataset): 10.7707%\n",
            "Corrected Error Percentage (Test Dataset): 10.2322%\n",
            "   Run 4/5 ...      Epoch 0: Train Loss = 0.8301, Val Loss = 6.8369\n"
          ]
        },
        {
          "output_type": "stream",
          "name": "stderr",
          "text": [
            "<ipython-input-28-f2771d1cb762>:152: UserWarning: To copy construct from a tensor, it is recommended to use sourceTensor.clone().detach() or sourceTensor.clone().detach().requires_grad_(True), rather than torch.tensor(sourceTensor).\n",
            "  X_scaled_tensor = torch.tensor(combined_X, dtype=torch.float32).unsqueeze(1)\n"
          ]
        },
        {
          "output_type": "stream",
          "name": "stdout",
          "text": [
            "     Epoch 5: Train Loss = 0.6887, Val Loss = 7.9111\n",
            "     Epoch 10: Train Loss = 0.6380, Val Loss = 9.3135\n",
            "     Epoch 15: Train Loss = 0.6152, Val Loss = 10.2312\n",
            "     Epoch 20: Train Loss = 0.6087, Val Loss = 10.7948\n",
            "    ⏹️ Early stopping at epoch 20\n",
            " Run 4 finished with best val loss: 6.8369\n",
            "Original Error Percentage (Test Dataset): 10.7707%\n",
            "Corrected Error Percentage (Test Dataset): 10.2411%\n",
            "   Run 5/5 ... "
          ]
        },
        {
          "output_type": "stream",
          "name": "stderr",
          "text": [
            "<ipython-input-28-f2771d1cb762>:152: UserWarning: To copy construct from a tensor, it is recommended to use sourceTensor.clone().detach() or sourceTensor.clone().detach().requires_grad_(True), rather than torch.tensor(sourceTensor).\n",
            "  X_scaled_tensor = torch.tensor(combined_X, dtype=torch.float32).unsqueeze(1)\n"
          ]
        },
        {
          "output_type": "stream",
          "name": "stdout",
          "text": [
            "     Epoch 0: Train Loss = 0.6967, Val Loss = 9.1379\n",
            "     Epoch 5: Train Loss = 0.6312, Val Loss = 10.5804\n",
            "     Epoch 10: Train Loss = 0.6296, Val Loss = 11.4418\n",
            "     Epoch 15: Train Loss = 0.6112, Val Loss = 12.0636\n",
            "     Epoch 20: Train Loss = 0.6190, Val Loss = 12.3753\n",
            "    ⏹️ Early stopping at epoch 20\n",
            " Run 5 finished with best val loss: 9.1379\n",
            "Original Error Percentage (Test Dataset): 10.7707%\n",
            "Corrected Error Percentage (Test Dataset): 10.8194%\n",
            " Finished configuration H=16, D=0.2, LR=0.0001, B=16 → Avg Val Loss: 8.6408, Avg Accuracy: 10.4817%\n",
            "\n",
            " Running 21/108: H=16, D=0.2, LR=0.0001, B=32\n",
            "   Run 1/5 ...      Epoch 0: Train Loss = 0.6464, Val Loss = 10.3530\n"
          ]
        },
        {
          "output_type": "stream",
          "name": "stderr",
          "text": [
            "<ipython-input-28-f2771d1cb762>:152: UserWarning: To copy construct from a tensor, it is recommended to use sourceTensor.clone().detach() or sourceTensor.clone().detach().requires_grad_(True), rather than torch.tensor(sourceTensor).\n",
            "  X_scaled_tensor = torch.tensor(combined_X, dtype=torch.float32).unsqueeze(1)\n"
          ]
        },
        {
          "output_type": "stream",
          "name": "stdout",
          "text": [
            "     Epoch 5: Train Loss = 0.6292, Val Loss = 10.6854\n",
            "     Epoch 10: Train Loss = 0.6284, Val Loss = 10.9467\n",
            "     Epoch 15: Train Loss = 0.6285, Val Loss = 11.2857\n",
            "     Epoch 20: Train Loss = 0.6197, Val Loss = 11.5529\n",
            "    ⏹️ Early stopping at epoch 20\n",
            " Run 1 finished with best val loss: 10.3530\n",
            "Original Error Percentage (Test Dataset): 10.7707%\n",
            "Corrected Error Percentage (Test Dataset): 10.5243%\n",
            "   Run 2/5 ...      Epoch 0: Train Loss = 0.6351, Val Loss = 10.5916\n"
          ]
        },
        {
          "output_type": "stream",
          "name": "stderr",
          "text": [
            "<ipython-input-28-f2771d1cb762>:152: UserWarning: To copy construct from a tensor, it is recommended to use sourceTensor.clone().detach() or sourceTensor.clone().detach().requires_grad_(True), rather than torch.tensor(sourceTensor).\n",
            "  X_scaled_tensor = torch.tensor(combined_X, dtype=torch.float32).unsqueeze(1)\n"
          ]
        },
        {
          "output_type": "stream",
          "name": "stdout",
          "text": [
            "     Epoch 5: Train Loss = 0.6216, Val Loss = 10.9232\n",
            "     Epoch 10: Train Loss = 0.6172, Val Loss = 11.1222\n",
            "     Epoch 15: Train Loss = 0.6096, Val Loss = 11.4229\n",
            "     Epoch 20: Train Loss = 0.6119, Val Loss = 11.6206\n",
            "    ⏹️ Early stopping at epoch 20\n",
            " Run 2 finished with best val loss: 10.5916\n",
            "Original Error Percentage (Test Dataset): 10.7707%\n",
            "Corrected Error Percentage (Test Dataset): 10.5023%\n",
            "   Run 3/5 ...      Epoch 0: Train Loss = 0.6319, Val Loss = 10.3336\n"
          ]
        },
        {
          "output_type": "stream",
          "name": "stderr",
          "text": [
            "<ipython-input-28-f2771d1cb762>:152: UserWarning: To copy construct from a tensor, it is recommended to use sourceTensor.clone().detach() or sourceTensor.clone().detach().requires_grad_(True), rather than torch.tensor(sourceTensor).\n",
            "  X_scaled_tensor = torch.tensor(combined_X, dtype=torch.float32).unsqueeze(1)\n"
          ]
        },
        {
          "output_type": "stream",
          "name": "stdout",
          "text": [
            "     Epoch 5: Train Loss = 0.6138, Val Loss = 10.4564\n",
            "     Epoch 10: Train Loss = 0.6133, Val Loss = 10.5147\n",
            "     Epoch 15: Train Loss = 0.6150, Val Loss = 10.7836\n",
            "     Epoch 20: Train Loss = 0.6147, Val Loss = 10.8389\n",
            "    ⏹️ Early stopping at epoch 20\n",
            " Run 3 finished with best val loss: 10.3336\n",
            "Original Error Percentage (Test Dataset): 10.7707%\n",
            "Corrected Error Percentage (Test Dataset): 10.2137%\n",
            "   Run 4/5 ...      Epoch 0: Train Loss = 0.6348, Val Loss = 9.5498\n"
          ]
        },
        {
          "output_type": "stream",
          "name": "stderr",
          "text": [
            "<ipython-input-28-f2771d1cb762>:152: UserWarning: To copy construct from a tensor, it is recommended to use sourceTensor.clone().detach() or sourceTensor.clone().detach().requires_grad_(True), rather than torch.tensor(sourceTensor).\n",
            "  X_scaled_tensor = torch.tensor(combined_X, dtype=torch.float32).unsqueeze(1)\n"
          ]
        },
        {
          "output_type": "stream",
          "name": "stdout",
          "text": [
            "     Epoch 5: Train Loss = 0.6208, Val Loss = 9.8799\n",
            "     Epoch 10: Train Loss = 0.6208, Val Loss = 10.1693\n",
            "     Epoch 15: Train Loss = 0.6148, Val Loss = 10.4994\n",
            "     Epoch 20: Train Loss = 0.6177, Val Loss = 10.7575\n",
            "    ⏹️ Early stopping at epoch 20\n",
            " Run 4 finished with best val loss: 9.5498\n",
            "Original Error Percentage (Test Dataset): 10.7707%\n",
            "Corrected Error Percentage (Test Dataset): 10.1741%\n",
            "   Run 5/5 ...      Epoch 0: Train Loss = 0.6654, Val Loss = 8.6725\n"
          ]
        },
        {
          "output_type": "stream",
          "name": "stderr",
          "text": [
            "<ipython-input-28-f2771d1cb762>:152: UserWarning: To copy construct from a tensor, it is recommended to use sourceTensor.clone().detach() or sourceTensor.clone().detach().requires_grad_(True), rather than torch.tensor(sourceTensor).\n",
            "  X_scaled_tensor = torch.tensor(combined_X, dtype=torch.float32).unsqueeze(1)\n"
          ]
        },
        {
          "output_type": "stream",
          "name": "stdout",
          "text": [
            "     Epoch 5: Train Loss = 0.6440, Val Loss = 9.0818\n",
            "     Epoch 10: Train Loss = 0.6319, Val Loss = 9.3848\n",
            "     Epoch 15: Train Loss = 0.6258, Val Loss = 9.6201\n",
            "     Epoch 20: Train Loss = 0.6197, Val Loss = 9.8292\n",
            "    ⏹️ Early stopping at epoch 20\n",
            " Run 5 finished with best val loss: 8.6725\n",
            "Original Error Percentage (Test Dataset): 10.7707%\n",
            "Corrected Error Percentage (Test Dataset): 9.8684%\n",
            " Finished configuration H=16, D=0.2, LR=0.0001, B=32 → Avg Val Loss: 9.9001, Avg Accuracy: 10.2566%\n",
            "\n",
            " Running 22/108: H=16, D=0.2, LR=0.0005, B=8\n",
            "   Run 1/5 ... "
          ]
        },
        {
          "output_type": "stream",
          "name": "stderr",
          "text": [
            "<ipython-input-28-f2771d1cb762>:152: UserWarning: To copy construct from a tensor, it is recommended to use sourceTensor.clone().detach() or sourceTensor.clone().detach().requires_grad_(True), rather than torch.tensor(sourceTensor).\n",
            "  X_scaled_tensor = torch.tensor(combined_X, dtype=torch.float32).unsqueeze(1)\n"
          ]
        },
        {
          "output_type": "stream",
          "name": "stdout",
          "text": [
            "     Epoch 0: Train Loss = 0.6826, Val Loss = 11.5304\n",
            "     Epoch 5: Train Loss = 0.6215, Val Loss = 12.9503\n",
            "     Epoch 10: Train Loss = 0.6128, Val Loss = 13.1238\n",
            "     Epoch 15: Train Loss = 0.6124, Val Loss = 12.7801\n",
            "     Epoch 20: Train Loss = 0.6104, Val Loss = 13.0264\n",
            "    ⏹️ Early stopping at epoch 20\n",
            " Run 1 finished with best val loss: 11.5304\n",
            "Original Error Percentage (Test Dataset): 10.7707%\n",
            "Corrected Error Percentage (Test Dataset): 11.0606%\n",
            "   Run 2/5 ... "
          ]
        },
        {
          "output_type": "stream",
          "name": "stderr",
          "text": [
            "<ipython-input-28-f2771d1cb762>:152: UserWarning: To copy construct from a tensor, it is recommended to use sourceTensor.clone().detach() or sourceTensor.clone().detach().requires_grad_(True), rather than torch.tensor(sourceTensor).\n",
            "  X_scaled_tensor = torch.tensor(combined_X, dtype=torch.float32).unsqueeze(1)\n"
          ]
        },
        {
          "output_type": "stream",
          "name": "stdout",
          "text": [
            "     Epoch 0: Train Loss = 0.6449, Val Loss = 11.3110\n",
            "     Epoch 5: Train Loss = 0.6109, Val Loss = 12.1189\n",
            "     Epoch 10: Train Loss = 0.6091, Val Loss = 12.0201\n",
            "     Epoch 15: Train Loss = 0.6066, Val Loss = 12.9020\n",
            "     Epoch 20: Train Loss = 0.6036, Val Loss = 12.5008\n",
            "    ⏹️ Early stopping at epoch 20\n",
            " Run 2 finished with best val loss: 11.3110\n",
            "Original Error Percentage (Test Dataset): 10.7707%\n",
            "Corrected Error Percentage (Test Dataset): 10.7953%\n",
            "   Run 3/5 ... "
          ]
        },
        {
          "output_type": "stream",
          "name": "stderr",
          "text": [
            "<ipython-input-28-f2771d1cb762>:152: UserWarning: To copy construct from a tensor, it is recommended to use sourceTensor.clone().detach() or sourceTensor.clone().detach().requires_grad_(True), rather than torch.tensor(sourceTensor).\n",
            "  X_scaled_tensor = torch.tensor(combined_X, dtype=torch.float32).unsqueeze(1)\n"
          ]
        },
        {
          "output_type": "stream",
          "name": "stdout",
          "text": [
            "     Epoch 0: Train Loss = 0.6494, Val Loss = 11.3024\n",
            "     Epoch 5: Train Loss = 0.6119, Val Loss = 11.7929\n",
            "     Epoch 10: Train Loss = 0.6109, Val Loss = 12.0900\n",
            "     Epoch 15: Train Loss = 0.6086, Val Loss = 12.2592\n",
            "     Epoch 20: Train Loss = 0.6047, Val Loss = 12.5498\n",
            "    ⏹️ Early stopping at epoch 20\n",
            " Run 3 finished with best val loss: 11.3024\n",
            "Original Error Percentage (Test Dataset): 10.7707%\n",
            "Corrected Error Percentage (Test Dataset): 10.8350%\n",
            "   Run 4/5 ... "
          ]
        },
        {
          "output_type": "stream",
          "name": "stderr",
          "text": [
            "<ipython-input-28-f2771d1cb762>:152: UserWarning: To copy construct from a tensor, it is recommended to use sourceTensor.clone().detach() or sourceTensor.clone().detach().requires_grad_(True), rather than torch.tensor(sourceTensor).\n",
            "  X_scaled_tensor = torch.tensor(combined_X, dtype=torch.float32).unsqueeze(1)\n"
          ]
        },
        {
          "output_type": "stream",
          "name": "stdout",
          "text": [
            "     Epoch 0: Train Loss = 0.6379, Val Loss = 10.8831\n",
            "     Epoch 5: Train Loss = 0.6144, Val Loss = 11.8875\n",
            "     Epoch 10: Train Loss = 0.6069, Val Loss = 11.9946\n",
            "     Epoch 15: Train Loss = 0.6063, Val Loss = 12.3152\n",
            "     Epoch 20: Train Loss = 0.6056, Val Loss = 12.4917\n",
            "    ⏹️ Early stopping at epoch 20\n",
            " Run 4 finished with best val loss: 10.8831\n",
            "Original Error Percentage (Test Dataset): 10.7707%\n",
            "Corrected Error Percentage (Test Dataset): 10.8082%\n",
            "   Run 5/5 ... "
          ]
        },
        {
          "output_type": "stream",
          "name": "stderr",
          "text": [
            "<ipython-input-28-f2771d1cb762>:152: UserWarning: To copy construct from a tensor, it is recommended to use sourceTensor.clone().detach() or sourceTensor.clone().detach().requires_grad_(True), rather than torch.tensor(sourceTensor).\n",
            "  X_scaled_tensor = torch.tensor(combined_X, dtype=torch.float32).unsqueeze(1)\n"
          ]
        },
        {
          "output_type": "stream",
          "name": "stdout",
          "text": [
            "     Epoch 0: Train Loss = 0.6882, Val Loss = 9.6300\n",
            "     Epoch 5: Train Loss = 0.6104, Val Loss = 11.4796\n",
            "     Epoch 10: Train Loss = 0.6076, Val Loss = 11.9566\n",
            "     Epoch 15: Train Loss = 0.6098, Val Loss = 12.1785\n",
            "     Epoch 20: Train Loss = 0.6048, Val Loss = 12.3085\n",
            "    ⏹️ Early stopping at epoch 20\n",
            " Run 5 finished with best val loss: 9.6300\n",
            "Original Error Percentage (Test Dataset): 10.7707%\n",
            "Corrected Error Percentage (Test Dataset): 10.7781%\n",
            " Finished configuration H=16, D=0.2, LR=0.0005, B=8 → Avg Val Loss: 10.9314, Avg Accuracy: 10.8554%\n",
            "\n",
            " Running 23/108: H=16, D=0.2, LR=0.0005, B=16\n",
            "   Run 1/5 ...      Epoch 0: Train Loss = 0.6281, Val Loss = 10.1593\n"
          ]
        },
        {
          "output_type": "stream",
          "name": "stderr",
          "text": [
            "<ipython-input-28-f2771d1cb762>:152: UserWarning: To copy construct from a tensor, it is recommended to use sourceTensor.clone().detach() or sourceTensor.clone().detach().requires_grad_(True), rather than torch.tensor(sourceTensor).\n",
            "  X_scaled_tensor = torch.tensor(combined_X, dtype=torch.float32).unsqueeze(1)\n"
          ]
        },
        {
          "output_type": "stream",
          "name": "stdout",
          "text": [
            "     Epoch 5: Train Loss = 0.6061, Val Loss = 12.0502\n",
            "     Epoch 10: Train Loss = 0.6063, Val Loss = 12.6102\n",
            "     Epoch 15: Train Loss = 0.6092, Val Loss = 12.7312\n",
            "     Epoch 20: Train Loss = 0.6041, Val Loss = 12.9347\n",
            "    ⏹️ Early stopping at epoch 20\n",
            " Run 1 finished with best val loss: 10.1593\n",
            "Original Error Percentage (Test Dataset): 10.7707%\n",
            "Corrected Error Percentage (Test Dataset): 10.9589%\n",
            "   Run 2/5 ...      Epoch 0: Train Loss = 0.6387, Val Loss = 10.6472\n"
          ]
        },
        {
          "output_type": "stream",
          "name": "stderr",
          "text": [
            "<ipython-input-28-f2771d1cb762>:152: UserWarning: To copy construct from a tensor, it is recommended to use sourceTensor.clone().detach() or sourceTensor.clone().detach().requires_grad_(True), rather than torch.tensor(sourceTensor).\n",
            "  X_scaled_tensor = torch.tensor(combined_X, dtype=torch.float32).unsqueeze(1)\n"
          ]
        },
        {
          "output_type": "stream",
          "name": "stdout",
          "text": [
            "     Epoch 5: Train Loss = 0.6172, Val Loss = 11.3423\n",
            "     Epoch 10: Train Loss = 0.6111, Val Loss = 11.9024\n",
            "     Epoch 15: Train Loss = 0.6065, Val Loss = 12.4275\n",
            "     Epoch 20: Train Loss = 0.6135, Val Loss = 11.9672\n",
            "    ⏹️ Early stopping at epoch 20\n",
            " Run 2 finished with best val loss: 10.6472\n",
            "Original Error Percentage (Test Dataset): 10.7707%\n",
            "Corrected Error Percentage (Test Dataset): 10.6638%\n",
            "   Run 3/5 ... "
          ]
        },
        {
          "output_type": "stream",
          "name": "stderr",
          "text": [
            "<ipython-input-28-f2771d1cb762>:152: UserWarning: To copy construct from a tensor, it is recommended to use sourceTensor.clone().detach() or sourceTensor.clone().detach().requires_grad_(True), rather than torch.tensor(sourceTensor).\n",
            "  X_scaled_tensor = torch.tensor(combined_X, dtype=torch.float32).unsqueeze(1)\n"
          ]
        },
        {
          "output_type": "stream",
          "name": "stdout",
          "text": [
            "     Epoch 0: Train Loss = 0.6492, Val Loss = 11.3652\n",
            "     Epoch 5: Train Loss = 0.6128, Val Loss = 13.1907\n",
            "     Epoch 10: Train Loss = 0.6085, Val Loss = 13.0696\n",
            "     Epoch 15: Train Loss = 0.6085, Val Loss = 12.9850\n",
            "     Epoch 20: Train Loss = 0.6013, Val Loss = 13.0734\n",
            "    ⏹️ Early stopping at epoch 20\n",
            " Run 3 finished with best val loss: 11.3652\n",
            "Original Error Percentage (Test Dataset): 10.7707%\n",
            "Corrected Error Percentage (Test Dataset): 11.0321%\n",
            "   Run 4/5 ...      Epoch 0: Train Loss = 0.6987, Val Loss = 12.1642\n"
          ]
        },
        {
          "output_type": "stream",
          "name": "stderr",
          "text": [
            "<ipython-input-28-f2771d1cb762>:152: UserWarning: To copy construct from a tensor, it is recommended to use sourceTensor.clone().detach() or sourceTensor.clone().detach().requires_grad_(True), rather than torch.tensor(sourceTensor).\n",
            "  X_scaled_tensor = torch.tensor(combined_X, dtype=torch.float32).unsqueeze(1)\n"
          ]
        },
        {
          "output_type": "stream",
          "name": "stdout",
          "text": [
            "     Epoch 5: Train Loss = 0.6209, Val Loss = 13.4067\n",
            "     Epoch 10: Train Loss = 0.6176, Val Loss = 12.7796\n",
            "     Epoch 15: Train Loss = 0.6154, Val Loss = 12.6895\n",
            "     Epoch 20: Train Loss = 0.6123, Val Loss = 12.6647\n",
            "    ⏹️ Early stopping at epoch 20\n",
            " Run 4 finished with best val loss: 12.1642\n",
            "Original Error Percentage (Test Dataset): 10.7707%\n",
            "Corrected Error Percentage (Test Dataset): 10.9162%\n",
            "   Run 5/5 ...      Epoch 0: Train Loss = 0.6515, Val Loss = 13.3873\n"
          ]
        },
        {
          "output_type": "stream",
          "name": "stderr",
          "text": [
            "<ipython-input-28-f2771d1cb762>:152: UserWarning: To copy construct from a tensor, it is recommended to use sourceTensor.clone().detach() or sourceTensor.clone().detach().requires_grad_(True), rather than torch.tensor(sourceTensor).\n",
            "  X_scaled_tensor = torch.tensor(combined_X, dtype=torch.float32).unsqueeze(1)\n"
          ]
        },
        {
          "output_type": "stream",
          "name": "stdout",
          "text": [
            "     Epoch 5: Train Loss = 0.6141, Val Loss = 12.8927\n",
            "     Epoch 10: Train Loss = 0.6077, Val Loss = 13.5283\n",
            "     Epoch 15: Train Loss = 0.6036, Val Loss = 13.4079\n",
            "     Epoch 20: Train Loss = 0.6069, Val Loss = 13.2693\n",
            "     Epoch 25: Train Loss = 0.6033, Val Loss = 13.1778\n",
            "    ⏹️ Early stopping at epoch 25\n",
            " Run 5 finished with best val loss: 12.8927\n",
            "Original Error Percentage (Test Dataset): 10.7707%\n",
            "Corrected Error Percentage (Test Dataset): 11.0700%\n",
            " Finished configuration H=16, D=0.2, LR=0.0005, B=16 → Avg Val Loss: 11.4457, Avg Accuracy: 10.9282%\n",
            "\n",
            " Running 24/108: H=16, D=0.2, LR=0.0005, B=32\n",
            "   Run 1/5 ...      Epoch 0: Train Loss = 0.7912, Val Loss = 10.1312\n"
          ]
        },
        {
          "output_type": "stream",
          "name": "stderr",
          "text": [
            "<ipython-input-28-f2771d1cb762>:152: UserWarning: To copy construct from a tensor, it is recommended to use sourceTensor.clone().detach() or sourceTensor.clone().detach().requires_grad_(True), rather than torch.tensor(sourceTensor).\n",
            "  X_scaled_tensor = torch.tensor(combined_X, dtype=torch.float32).unsqueeze(1)\n"
          ]
        },
        {
          "output_type": "stream",
          "name": "stdout",
          "text": [
            "     Epoch 5: Train Loss = 0.6172, Val Loss = 12.7623\n",
            "     Epoch 10: Train Loss = 0.6171, Val Loss = 12.9203\n",
            "     Epoch 15: Train Loss = 0.6166, Val Loss = 12.9627\n",
            "     Epoch 20: Train Loss = 0.6158, Val Loss = 12.6288\n",
            "    ⏹️ Early stopping at epoch 20\n",
            " Run 1 finished with best val loss: 10.1312\n",
            "Original Error Percentage (Test Dataset): 10.7707%\n",
            "Corrected Error Percentage (Test Dataset): 10.9763%\n",
            "   Run 2/5 ...      Epoch 0: Train Loss = 0.6964, Val Loss = 10.9900\n"
          ]
        },
        {
          "output_type": "stream",
          "name": "stderr",
          "text": [
            "<ipython-input-28-f2771d1cb762>:152: UserWarning: To copy construct from a tensor, it is recommended to use sourceTensor.clone().detach() or sourceTensor.clone().detach().requires_grad_(True), rather than torch.tensor(sourceTensor).\n",
            "  X_scaled_tensor = torch.tensor(combined_X, dtype=torch.float32).unsqueeze(1)\n"
          ]
        },
        {
          "output_type": "stream",
          "name": "stdout",
          "text": [
            "     Epoch 5: Train Loss = 0.6258, Val Loss = 14.2141\n",
            "     Epoch 10: Train Loss = 0.6127, Val Loss = 14.4547\n",
            "     Epoch 15: Train Loss = 0.6136, Val Loss = 14.1260\n",
            "     Epoch 20: Train Loss = 0.6120, Val Loss = 13.8872\n",
            "    ⏹️ Early stopping at epoch 20\n",
            " Run 2 finished with best val loss: 10.9900\n",
            "Original Error Percentage (Test Dataset): 10.7707%\n",
            "Corrected Error Percentage (Test Dataset): 11.3212%\n",
            "   Run 3/5 ...      Epoch 0: Train Loss = 0.7803, Val Loss = 8.4515\n"
          ]
        },
        {
          "output_type": "stream",
          "name": "stderr",
          "text": [
            "<ipython-input-28-f2771d1cb762>:152: UserWarning: To copy construct from a tensor, it is recommended to use sourceTensor.clone().detach() or sourceTensor.clone().detach().requires_grad_(True), rather than torch.tensor(sourceTensor).\n",
            "  X_scaled_tensor = torch.tensor(combined_X, dtype=torch.float32).unsqueeze(1)\n"
          ]
        },
        {
          "output_type": "stream",
          "name": "stdout",
          "text": [
            "     Epoch 5: Train Loss = 0.6313, Val Loss = 10.6159\n",
            "     Epoch 10: Train Loss = 0.6160, Val Loss = 11.7464\n",
            "     Epoch 15: Train Loss = 0.6039, Val Loss = 12.2110\n",
            "     Epoch 20: Train Loss = 0.6105, Val Loss = 12.2307\n",
            "    ⏹️ Early stopping at epoch 20\n",
            " Run 3 finished with best val loss: 8.4515\n",
            "Original Error Percentage (Test Dataset): 10.7707%\n",
            "Corrected Error Percentage (Test Dataset): 10.7404%\n",
            "   Run 4/5 ...      Epoch 0: Train Loss = 0.7613, Val Loss = 8.8753\n"
          ]
        },
        {
          "output_type": "stream",
          "name": "stderr",
          "text": [
            "<ipython-input-28-f2771d1cb762>:152: UserWarning: To copy construct from a tensor, it is recommended to use sourceTensor.clone().detach() or sourceTensor.clone().detach().requires_grad_(True), rather than torch.tensor(sourceTensor).\n",
            "  X_scaled_tensor = torch.tensor(combined_X, dtype=torch.float32).unsqueeze(1)\n"
          ]
        },
        {
          "output_type": "stream",
          "name": "stdout",
          "text": [
            "     Epoch 5: Train Loss = 0.6421, Val Loss = 11.3856\n",
            "     Epoch 10: Train Loss = 0.6195, Val Loss = 13.4252\n",
            "     Epoch 15: Train Loss = 0.6167, Val Loss = 13.6586\n",
            "     Epoch 20: Train Loss = 0.6170, Val Loss = 13.1927\n",
            "    ⏹️ Early stopping at epoch 20\n",
            " Run 4 finished with best val loss: 8.8753\n",
            "Original Error Percentage (Test Dataset): 10.7707%\n",
            "Corrected Error Percentage (Test Dataset): 11.0780%\n",
            "   Run 5/5 ...      Epoch 0: Train Loss = 0.6238, Val Loss = 10.4628\n"
          ]
        },
        {
          "output_type": "stream",
          "name": "stderr",
          "text": [
            "<ipython-input-28-f2771d1cb762>:152: UserWarning: To copy construct from a tensor, it is recommended to use sourceTensor.clone().detach() or sourceTensor.clone().detach().requires_grad_(True), rather than torch.tensor(sourceTensor).\n",
            "  X_scaled_tensor = torch.tensor(combined_X, dtype=torch.float32).unsqueeze(1)\n"
          ]
        },
        {
          "output_type": "stream",
          "name": "stdout",
          "text": [
            "     Epoch 5: Train Loss = 0.6076, Val Loss = 12.2739\n",
            "     Epoch 10: Train Loss = 0.6048, Val Loss = 12.2952\n",
            "     Epoch 15: Train Loss = 0.6133, Val Loss = 12.3310\n",
            "     Epoch 20: Train Loss = 0.6121, Val Loss = 12.2668\n",
            "    ⏹️ Early stopping at epoch 20\n",
            " Run 5 finished with best val loss: 10.4628\n",
            "Original Error Percentage (Test Dataset): 10.7707%\n",
            "Corrected Error Percentage (Test Dataset): 10.6564%\n",
            " Finished configuration H=16, D=0.2, LR=0.0005, B=32 → Avg Val Loss: 9.7822, Avg Accuracy: 10.9545%\n",
            "\n",
            " Running 25/108: H=16, D=0.2, LR=0.001, B=8\n",
            "   Run 1/5 ... "
          ]
        },
        {
          "output_type": "stream",
          "name": "stderr",
          "text": [
            "<ipython-input-28-f2771d1cb762>:152: UserWarning: To copy construct from a tensor, it is recommended to use sourceTensor.clone().detach() or sourceTensor.clone().detach().requires_grad_(True), rather than torch.tensor(sourceTensor).\n",
            "  X_scaled_tensor = torch.tensor(combined_X, dtype=torch.float32).unsqueeze(1)\n"
          ]
        },
        {
          "output_type": "stream",
          "name": "stdout",
          "text": [
            "     Epoch 0: Train Loss = 0.7064, Val Loss = 12.3751\n",
            "     Epoch 5: Train Loss = 0.6227, Val Loss = 12.7002\n",
            "     Epoch 10: Train Loss = 0.6075, Val Loss = 12.8317\n",
            "     Epoch 15: Train Loss = 0.6068, Val Loss = 12.8522\n",
            "     Epoch 20: Train Loss = 0.6050, Val Loss = 12.7504\n",
            "     Epoch 25: Train Loss = 0.6030, Val Loss = 12.7787\n",
            "     Epoch 30: Train Loss = 0.6047, Val Loss = 12.0927\n",
            "     Epoch 35: Train Loss = 0.5968, Val Loss = 12.7555\n",
            "     Epoch 40: Train Loss = 0.6096, Val Loss = 11.9221\n",
            "     Epoch 45: Train Loss = 0.6020, Val Loss = 12.4621\n",
            "    ⏹️ Early stopping at epoch 47\n",
            " Run 1 finished with best val loss: 11.8148\n",
            "Original Error Percentage (Test Dataset): 10.7707%\n",
            "Corrected Error Percentage (Test Dataset): 10.4444%\n",
            "   Run 2/5 ... "
          ]
        },
        {
          "output_type": "stream",
          "name": "stderr",
          "text": [
            "<ipython-input-28-f2771d1cb762>:152: UserWarning: To copy construct from a tensor, it is recommended to use sourceTensor.clone().detach() or sourceTensor.clone().detach().requires_grad_(True), rather than torch.tensor(sourceTensor).\n",
            "  X_scaled_tensor = torch.tensor(combined_X, dtype=torch.float32).unsqueeze(1)\n"
          ]
        },
        {
          "output_type": "stream",
          "name": "stdout",
          "text": [
            "     Epoch 0: Train Loss = 0.6620, Val Loss = 12.5435\n",
            "     Epoch 5: Train Loss = 0.6166, Val Loss = 13.1278\n",
            "     Epoch 10: Train Loss = 0.6131, Val Loss = 13.1393\n",
            "     Epoch 15: Train Loss = 0.6082, Val Loss = 12.7718\n",
            "     Epoch 20: Train Loss = 0.6070, Val Loss = 12.6817\n",
            "     Epoch 25: Train Loss = 0.6025, Val Loss = 12.5711\n",
            "     Epoch 30: Train Loss = 0.6063, Val Loss = 12.2270\n",
            "     Epoch 35: Train Loss = 0.6041, Val Loss = 13.3476\n",
            "     Epoch 40: Train Loss = 0.6061, Val Loss = 12.1298\n",
            "     Epoch 45: Train Loss = 0.6049, Val Loss = 13.2691\n",
            "     Epoch 50: Train Loss = 0.6037, Val Loss = 12.9631\n",
            "     Epoch 55: Train Loss = 0.6013, Val Loss = 12.9412\n",
            "     Epoch 60: Train Loss = 0.6066, Val Loss = 12.7787\n",
            "    ⏹️ Early stopping at epoch 60\n",
            " Run 2 finished with best val loss: 12.1298\n",
            "Original Error Percentage (Test Dataset): 10.7707%\n",
            "Corrected Error Percentage (Test Dataset): 10.9074%\n",
            "   Run 3/5 ... "
          ]
        },
        {
          "output_type": "stream",
          "name": "stderr",
          "text": [
            "<ipython-input-28-f2771d1cb762>:152: UserWarning: To copy construct from a tensor, it is recommended to use sourceTensor.clone().detach() or sourceTensor.clone().detach().requires_grad_(True), rather than torch.tensor(sourceTensor).\n",
            "  X_scaled_tensor = torch.tensor(combined_X, dtype=torch.float32).unsqueeze(1)\n"
          ]
        },
        {
          "output_type": "stream",
          "name": "stdout",
          "text": [
            "     Epoch 0: Train Loss = 0.6323, Val Loss = 11.8146\n",
            "     Epoch 5: Train Loss = 0.6061, Val Loss = 13.5963\n",
            "     Epoch 10: Train Loss = 0.6094, Val Loss = 13.6029\n",
            "     Epoch 15: Train Loss = 0.6105, Val Loss = 12.5870\n",
            "     Epoch 20: Train Loss = 0.6056, Val Loss = 13.2314\n",
            "    ⏹️ Early stopping at epoch 20\n",
            " Run 3 finished with best val loss: 11.8146\n",
            "Original Error Percentage (Test Dataset): 10.7707%\n",
            "Corrected Error Percentage (Test Dataset): 11.1948%\n",
            "   Run 4/5 ... "
          ]
        },
        {
          "output_type": "stream",
          "name": "stderr",
          "text": [
            "<ipython-input-28-f2771d1cb762>:152: UserWarning: To copy construct from a tensor, it is recommended to use sourceTensor.clone().detach() or sourceTensor.clone().detach().requires_grad_(True), rather than torch.tensor(sourceTensor).\n",
            "  X_scaled_tensor = torch.tensor(combined_X, dtype=torch.float32).unsqueeze(1)\n"
          ]
        },
        {
          "output_type": "stream",
          "name": "stdout",
          "text": [
            "     Epoch 0: Train Loss = 0.6149, Val Loss = 11.7611\n",
            "     Epoch 5: Train Loss = 0.6045, Val Loss = 12.9016\n",
            "     Epoch 10: Train Loss = 0.6087, Val Loss = 12.2122\n",
            "     Epoch 15: Train Loss = 0.6047, Val Loss = 12.6466\n",
            "     Epoch 20: Train Loss = 0.6057, Val Loss = 13.0303\n",
            "    ⏹️ Early stopping at epoch 20\n",
            " Run 4 finished with best val loss: 11.7611\n",
            "Original Error Percentage (Test Dataset): 10.7707%\n",
            "Corrected Error Percentage (Test Dataset): 11.0064%\n",
            "   Run 5/5 ... "
          ]
        },
        {
          "output_type": "stream",
          "name": "stderr",
          "text": [
            "<ipython-input-28-f2771d1cb762>:152: UserWarning: To copy construct from a tensor, it is recommended to use sourceTensor.clone().detach() or sourceTensor.clone().detach().requires_grad_(True), rather than torch.tensor(sourceTensor).\n",
            "  X_scaled_tensor = torch.tensor(combined_X, dtype=torch.float32).unsqueeze(1)\n"
          ]
        },
        {
          "output_type": "stream",
          "name": "stdout",
          "text": [
            "     Epoch 0: Train Loss = 0.6174, Val Loss = 12.5863\n",
            "     Epoch 5: Train Loss = 0.6064, Val Loss = 12.4349\n",
            "     Epoch 10: Train Loss = 0.6021, Val Loss = 12.5710\n",
            "     Epoch 15: Train Loss = 0.6073, Val Loss = 12.6757\n",
            "     Epoch 20: Train Loss = 0.6084, Val Loss = 12.2303\n",
            "    ⏹️ Early stopping at epoch 22\n",
            " Run 5 finished with best val loss: 12.0551\n",
            "Original Error Percentage (Test Dataset): 10.7707%\n",
            "Corrected Error Percentage (Test Dataset): 10.8718%\n",
            " Finished configuration H=16, D=0.2, LR=0.001, B=8 → Avg Val Loss: 11.9151, Avg Accuracy: 10.8849%\n",
            "\n",
            " Running 26/108: H=16, D=0.2, LR=0.001, B=16\n",
            "   Run 1/5 ... "
          ]
        },
        {
          "output_type": "stream",
          "name": "stderr",
          "text": [
            "<ipython-input-28-f2771d1cb762>:152: UserWarning: To copy construct from a tensor, it is recommended to use sourceTensor.clone().detach() or sourceTensor.clone().detach().requires_grad_(True), rather than torch.tensor(sourceTensor).\n",
            "  X_scaled_tensor = torch.tensor(combined_X, dtype=torch.float32).unsqueeze(1)\n"
          ]
        },
        {
          "output_type": "stream",
          "name": "stdout",
          "text": [
            "     Epoch 0: Train Loss = 0.6325, Val Loss = 10.6727\n",
            "     Epoch 5: Train Loss = 0.6001, Val Loss = 12.5160\n",
            "     Epoch 10: Train Loss = 0.6060, Val Loss = 12.1795\n",
            "     Epoch 15: Train Loss = 0.6067, Val Loss = 12.4625\n",
            "     Epoch 20: Train Loss = 0.6041, Val Loss = 12.3588\n",
            "    ⏹️ Early stopping at epoch 20\n",
            " Run 1 finished with best val loss: 10.6727\n",
            "Original Error Percentage (Test Dataset): 10.7707%\n",
            "Corrected Error Percentage (Test Dataset): 10.7624%\n",
            "   Run 2/5 ...      Epoch 0: Train Loss = 0.7002, Val Loss = 9.9437\n"
          ]
        },
        {
          "output_type": "stream",
          "name": "stderr",
          "text": [
            "<ipython-input-28-f2771d1cb762>:152: UserWarning: To copy construct from a tensor, it is recommended to use sourceTensor.clone().detach() or sourceTensor.clone().detach().requires_grad_(True), rather than torch.tensor(sourceTensor).\n",
            "  X_scaled_tensor = torch.tensor(combined_X, dtype=torch.float32).unsqueeze(1)\n"
          ]
        },
        {
          "output_type": "stream",
          "name": "stdout",
          "text": [
            "     Epoch 5: Train Loss = 0.6082, Val Loss = 13.0688\n",
            "     Epoch 10: Train Loss = 0.6102, Val Loss = 12.8173\n",
            "     Epoch 15: Train Loss = 0.6084, Val Loss = 12.5343\n",
            "     Epoch 20: Train Loss = 0.6072, Val Loss = 12.8801\n",
            "    ⏹️ Early stopping at epoch 20\n",
            " Run 2 finished with best val loss: 9.9437\n",
            "Original Error Percentage (Test Dataset): 10.7707%\n",
            "Corrected Error Percentage (Test Dataset): 10.9610%\n",
            "   Run 3/5 ...      Epoch 0: Train Loss = 0.6825, Val Loss = 12.2624\n"
          ]
        },
        {
          "output_type": "stream",
          "name": "stderr",
          "text": [
            "<ipython-input-28-f2771d1cb762>:152: UserWarning: To copy construct from a tensor, it is recommended to use sourceTensor.clone().detach() or sourceTensor.clone().detach().requires_grad_(True), rather than torch.tensor(sourceTensor).\n",
            "  X_scaled_tensor = torch.tensor(combined_X, dtype=torch.float32).unsqueeze(1)\n"
          ]
        },
        {
          "output_type": "stream",
          "name": "stdout",
          "text": [
            "     Epoch 5: Train Loss = 0.6086, Val Loss = 13.1551\n",
            "     Epoch 10: Train Loss = 0.6114, Val Loss = 12.5954\n",
            "     Epoch 15: Train Loss = 0.6040, Val Loss = 12.6061\n",
            "     Epoch 20: Train Loss = 0.6094, Val Loss = 12.5758\n",
            "    ⏹️ Early stopping at epoch 20\n",
            " Run 3 finished with best val loss: 12.2624\n",
            "Original Error Percentage (Test Dataset): 10.7707%\n",
            "Corrected Error Percentage (Test Dataset): 10.8348%\n",
            "   Run 4/5 ... "
          ]
        },
        {
          "output_type": "stream",
          "name": "stderr",
          "text": [
            "<ipython-input-28-f2771d1cb762>:152: UserWarning: To copy construct from a tensor, it is recommended to use sourceTensor.clone().detach() or sourceTensor.clone().detach().requires_grad_(True), rather than torch.tensor(sourceTensor).\n",
            "  X_scaled_tensor = torch.tensor(combined_X, dtype=torch.float32).unsqueeze(1)\n"
          ]
        },
        {
          "output_type": "stream",
          "name": "stdout",
          "text": [
            "     Epoch 0: Train Loss = 0.6173, Val Loss = 10.2230\n",
            "     Epoch 5: Train Loss = 0.6085, Val Loss = 11.5789\n",
            "     Epoch 10: Train Loss = 0.6030, Val Loss = 12.6525\n",
            "     Epoch 15: Train Loss = 0.6064, Val Loss = 12.9183\n",
            "     Epoch 20: Train Loss = 0.6092, Val Loss = 12.5909\n",
            "    ⏹️ Early stopping at epoch 20\n",
            " Run 4 finished with best val loss: 10.2230\n",
            "Original Error Percentage (Test Dataset): 10.7707%\n",
            "Corrected Error Percentage (Test Dataset): 10.8738%\n",
            "   Run 5/5 ...      Epoch 0: Train Loss = 0.6302, Val Loss = 10.3551\n"
          ]
        },
        {
          "output_type": "stream",
          "name": "stderr",
          "text": [
            "<ipython-input-28-f2771d1cb762>:152: UserWarning: To copy construct from a tensor, it is recommended to use sourceTensor.clone().detach() or sourceTensor.clone().detach().requires_grad_(True), rather than torch.tensor(sourceTensor).\n",
            "  X_scaled_tensor = torch.tensor(combined_X, dtype=torch.float32).unsqueeze(1)\n"
          ]
        },
        {
          "output_type": "stream",
          "name": "stdout",
          "text": [
            "     Epoch 5: Train Loss = 0.6120, Val Loss = 12.5928\n",
            "     Epoch 10: Train Loss = 0.6066, Val Loss = 12.7744\n",
            "     Epoch 15: Train Loss = 0.6052, Val Loss = 13.6685\n",
            "     Epoch 20: Train Loss = 0.6068, Val Loss = 13.3409\n",
            "    ⏹️ Early stopping at epoch 20\n",
            " Run 5 finished with best val loss: 10.3551\n",
            "Original Error Percentage (Test Dataset): 10.7707%\n",
            "Corrected Error Percentage (Test Dataset): 11.1920%\n",
            " Finished configuration H=16, D=0.2, LR=0.001, B=16 → Avg Val Loss: 10.6914, Avg Accuracy: 10.9248%\n",
            "\n",
            " Running 27/108: H=16, D=0.2, LR=0.001, B=32\n",
            "   Run 1/5 ...      Epoch 0: Train Loss = 0.7428, Val Loss = 11.1648\n"
          ]
        },
        {
          "output_type": "stream",
          "name": "stderr",
          "text": [
            "<ipython-input-28-f2771d1cb762>:152: UserWarning: To copy construct from a tensor, it is recommended to use sourceTensor.clone().detach() or sourceTensor.clone().detach().requires_grad_(True), rather than torch.tensor(sourceTensor).\n",
            "  X_scaled_tensor = torch.tensor(combined_X, dtype=torch.float32).unsqueeze(1)\n"
          ]
        },
        {
          "output_type": "stream",
          "name": "stdout",
          "text": [
            "     Epoch 5: Train Loss = 0.6145, Val Loss = 14.0779\n",
            "     Epoch 10: Train Loss = 0.6127, Val Loss = 13.7388\n",
            "     Epoch 15: Train Loss = 0.6147, Val Loss = 13.1826\n",
            "     Epoch 20: Train Loss = 0.6126, Val Loss = 13.9322\n",
            "    ⏹️ Early stopping at epoch 20\n",
            " Run 1 finished with best val loss: 11.1648\n",
            "Original Error Percentage (Test Dataset): 10.7707%\n",
            "Corrected Error Percentage (Test Dataset): 11.3860%\n",
            "   Run 2/5 ...      Epoch 0: Train Loss = 0.8056, Val Loss = 9.0065\n"
          ]
        },
        {
          "output_type": "stream",
          "name": "stderr",
          "text": [
            "<ipython-input-28-f2771d1cb762>:152: UserWarning: To copy construct from a tensor, it is recommended to use sourceTensor.clone().detach() or sourceTensor.clone().detach().requires_grad_(True), rather than torch.tensor(sourceTensor).\n",
            "  X_scaled_tensor = torch.tensor(combined_X, dtype=torch.float32).unsqueeze(1)\n"
          ]
        },
        {
          "output_type": "stream",
          "name": "stdout",
          "text": [
            "     Epoch 5: Train Loss = 0.6204, Val Loss = 13.0404\n",
            "     Epoch 10: Train Loss = 0.6131, Val Loss = 13.2327\n",
            "     Epoch 15: Train Loss = 0.6102, Val Loss = 12.9629\n",
            "     Epoch 20: Train Loss = 0.6116, Val Loss = 12.6827\n",
            "    ⏹️ Early stopping at epoch 20\n",
            " Run 2 finished with best val loss: 9.0065\n",
            "Original Error Percentage (Test Dataset): 10.7707%\n",
            "Corrected Error Percentage (Test Dataset): 10.8993%\n",
            "   Run 3/5 ...      Epoch 0: Train Loss = 0.6308, Val Loss = 10.3431\n"
          ]
        },
        {
          "output_type": "stream",
          "name": "stderr",
          "text": [
            "<ipython-input-28-f2771d1cb762>:152: UserWarning: To copy construct from a tensor, it is recommended to use sourceTensor.clone().detach() or sourceTensor.clone().detach().requires_grad_(True), rather than torch.tensor(sourceTensor).\n",
            "  X_scaled_tensor = torch.tensor(combined_X, dtype=torch.float32).unsqueeze(1)\n"
          ]
        },
        {
          "output_type": "stream",
          "name": "stdout",
          "text": [
            "     Epoch 5: Train Loss = 0.6085, Val Loss = 12.1635\n",
            "     Epoch 10: Train Loss = 0.6092, Val Loss = 11.9920\n",
            "     Epoch 15: Train Loss = 0.6058, Val Loss = 12.2915\n",
            "     Epoch 20: Train Loss = 0.6138, Val Loss = 12.5441\n",
            "    ⏹️ Early stopping at epoch 20\n",
            " Run 3 finished with best val loss: 10.3431\n",
            "Original Error Percentage (Test Dataset): 10.7707%\n",
            "Corrected Error Percentage (Test Dataset): 10.8438%\n",
            "   Run 4/5 ...      Epoch 0: Train Loss = 0.6300, Val Loss = 10.1707\n"
          ]
        },
        {
          "output_type": "stream",
          "name": "stderr",
          "text": [
            "<ipython-input-28-f2771d1cb762>:152: UserWarning: To copy construct from a tensor, it is recommended to use sourceTensor.clone().detach() or sourceTensor.clone().detach().requires_grad_(True), rather than torch.tensor(sourceTensor).\n",
            "  X_scaled_tensor = torch.tensor(combined_X, dtype=torch.float32).unsqueeze(1)\n"
          ]
        },
        {
          "output_type": "stream",
          "name": "stdout",
          "text": [
            "     Epoch 5: Train Loss = 0.6046, Val Loss = 11.9804\n",
            "     Epoch 10: Train Loss = 0.6101, Val Loss = 12.4677\n",
            "     Epoch 15: Train Loss = 0.6114, Val Loss = 12.5881\n",
            "     Epoch 20: Train Loss = 0.6080, Val Loss = 12.3463\n",
            "    ⏹️ Early stopping at epoch 20\n",
            " Run 4 finished with best val loss: 10.1707\n",
            "Original Error Percentage (Test Dataset): 10.7707%\n",
            "Corrected Error Percentage (Test Dataset): 10.7704%\n",
            "   Run 5/5 ...      Epoch 0: Train Loss = 0.6632, Val Loss = 10.2898\n"
          ]
        },
        {
          "output_type": "stream",
          "name": "stderr",
          "text": [
            "<ipython-input-28-f2771d1cb762>:152: UserWarning: To copy construct from a tensor, it is recommended to use sourceTensor.clone().detach() or sourceTensor.clone().detach().requires_grad_(True), rather than torch.tensor(sourceTensor).\n",
            "  X_scaled_tensor = torch.tensor(combined_X, dtype=torch.float32).unsqueeze(1)\n"
          ]
        },
        {
          "output_type": "stream",
          "name": "stdout",
          "text": [
            "     Epoch 5: Train Loss = 0.6103, Val Loss = 12.7971\n",
            "     Epoch 10: Train Loss = 0.6091, Val Loss = 12.7361\n",
            "     Epoch 15: Train Loss = 0.6063, Val Loss = 12.9296\n",
            "     Epoch 20: Train Loss = 0.6085, Val Loss = 12.9091\n",
            "    ⏹️ Early stopping at epoch 20\n",
            " Run 5 finished with best val loss: 10.2898\n",
            "Original Error Percentage (Test Dataset): 10.7707%\n",
            "Corrected Error Percentage (Test Dataset): 10.9778%\n",
            " Finished configuration H=16, D=0.2, LR=0.001, B=32 → Avg Val Loss: 10.1950, Avg Accuracy: 10.9755%\n",
            "\n",
            " Running 28/108: H=32, D=0.0, LR=0.0001, B=8\n",
            "   Run 1/5 ... "
          ]
        },
        {
          "output_type": "stream",
          "name": "stderr",
          "text": [
            "<ipython-input-28-f2771d1cb762>:152: UserWarning: To copy construct from a tensor, it is recommended to use sourceTensor.clone().detach() or sourceTensor.clone().detach().requires_grad_(True), rather than torch.tensor(sourceTensor).\n",
            "  X_scaled_tensor = torch.tensor(combined_X, dtype=torch.float32).unsqueeze(1)\n"
          ]
        },
        {
          "output_type": "stream",
          "name": "stdout",
          "text": [
            "     Epoch 0: Train Loss = 0.6356, Val Loss = 11.6368\n",
            "     Epoch 5: Train Loss = 0.6029, Val Loss = 14.1769\n",
            "     Epoch 10: Train Loss = 0.6014, Val Loss = 14.2923\n",
            "     Epoch 15: Train Loss = 0.6012, Val Loss = 14.1024\n",
            "     Epoch 20: Train Loss = 0.6012, Val Loss = 14.0073\n",
            "    ⏹️ Early stopping at epoch 20\n",
            " Run 1 finished with best val loss: 11.6368\n",
            "Original Error Percentage (Test Dataset): 10.7707%\n",
            "Corrected Error Percentage (Test Dataset): 11.3803%\n",
            "   Run 2/5 ... "
          ]
        },
        {
          "output_type": "stream",
          "name": "stderr",
          "text": [
            "<ipython-input-28-f2771d1cb762>:152: UserWarning: To copy construct from a tensor, it is recommended to use sourceTensor.clone().detach() or sourceTensor.clone().detach().requires_grad_(True), rather than torch.tensor(sourceTensor).\n",
            "  X_scaled_tensor = torch.tensor(combined_X, dtype=torch.float32).unsqueeze(1)\n"
          ]
        },
        {
          "output_type": "stream",
          "name": "stdout",
          "text": [
            "     Epoch 0: Train Loss = 0.6588, Val Loss = 13.7798\n",
            "     Epoch 5: Train Loss = 0.6048, Val Loss = 15.3991\n",
            "     Epoch 10: Train Loss = 0.6026, Val Loss = 14.7998\n",
            "     Epoch 15: Train Loss = 0.6022, Val Loss = 14.3398\n",
            "     Epoch 20: Train Loss = 0.6017, Val Loss = 14.2545\n",
            "    ⏹️ Early stopping at epoch 20\n",
            " Run 2 finished with best val loss: 13.7798\n",
            "Original Error Percentage (Test Dataset): 10.7707%\n",
            "Corrected Error Percentage (Test Dataset): 11.5465%\n",
            "   Run 3/5 ... "
          ]
        },
        {
          "output_type": "stream",
          "name": "stderr",
          "text": [
            "<ipython-input-28-f2771d1cb762>:152: UserWarning: To copy construct from a tensor, it is recommended to use sourceTensor.clone().detach() or sourceTensor.clone().detach().requires_grad_(True), rather than torch.tensor(sourceTensor).\n",
            "  X_scaled_tensor = torch.tensor(combined_X, dtype=torch.float32).unsqueeze(1)\n"
          ]
        },
        {
          "output_type": "stream",
          "name": "stdout",
          "text": [
            "     Epoch 0: Train Loss = 0.6380, Val Loss = 11.5605\n",
            "     Epoch 5: Train Loss = 0.6022, Val Loss = 13.2793\n",
            "     Epoch 10: Train Loss = 0.6010, Val Loss = 13.6439\n",
            "     Epoch 15: Train Loss = 0.6007, Val Loss = 13.6529\n",
            "     Epoch 20: Train Loss = 0.6005, Val Loss = 13.7135\n",
            "    ⏹️ Early stopping at epoch 20\n",
            " Run 3 finished with best val loss: 11.5605\n",
            "Original Error Percentage (Test Dataset): 10.7707%\n",
            "Corrected Error Percentage (Test Dataset): 11.2657%\n",
            "   Run 4/5 ... "
          ]
        },
        {
          "output_type": "stream",
          "name": "stderr",
          "text": [
            "<ipython-input-28-f2771d1cb762>:152: UserWarning: To copy construct from a tensor, it is recommended to use sourceTensor.clone().detach() or sourceTensor.clone().detach().requires_grad_(True), rather than torch.tensor(sourceTensor).\n",
            "  X_scaled_tensor = torch.tensor(combined_X, dtype=torch.float32).unsqueeze(1)\n"
          ]
        },
        {
          "output_type": "stream",
          "name": "stdout",
          "text": [
            "     Epoch 0: Train Loss = 0.6334, Val Loss = 9.9739\n",
            "     Epoch 5: Train Loss = 0.6067, Val Loss = 11.4397\n",
            "     Epoch 10: Train Loss = 0.6021, Val Loss = 12.2626\n",
            "     Epoch 15: Train Loss = 0.6013, Val Loss = 12.6688\n",
            "     Epoch 20: Train Loss = 0.6010, Val Loss = 12.9147\n",
            "    ⏹️ Early stopping at epoch 20\n",
            " Run 4 finished with best val loss: 9.9739\n",
            "Original Error Percentage (Test Dataset): 10.7707%\n",
            "Corrected Error Percentage (Test Dataset): 10.9793%\n",
            "   Run 5/5 ... "
          ]
        },
        {
          "output_type": "stream",
          "name": "stderr",
          "text": [
            "<ipython-input-28-f2771d1cb762>:152: UserWarning: To copy construct from a tensor, it is recommended to use sourceTensor.clone().detach() or sourceTensor.clone().detach().requires_grad_(True), rather than torch.tensor(sourceTensor).\n",
            "  X_scaled_tensor = torch.tensor(combined_X, dtype=torch.float32).unsqueeze(1)\n"
          ]
        },
        {
          "output_type": "stream",
          "name": "stdout",
          "text": [
            "     Epoch 0: Train Loss = 0.7085, Val Loss = 9.6103\n",
            "     Epoch 5: Train Loss = 0.6036, Val Loss = 12.3817\n",
            "     Epoch 10: Train Loss = 0.6014, Val Loss = 13.1773\n",
            "     Epoch 15: Train Loss = 0.6008, Val Loss = 13.3071\n",
            "     Epoch 20: Train Loss = 0.6009, Val Loss = 13.5050\n",
            "    ⏹️ Early stopping at epoch 20\n",
            " Run 5 finished with best val loss: 9.6103\n",
            "Original Error Percentage (Test Dataset): 10.7707%\n",
            "Corrected Error Percentage (Test Dataset): 11.1594%\n",
            " Finished configuration H=32, D=0.0, LR=0.0001, B=8 → Avg Val Loss: 11.3123, Avg Accuracy: 11.2662%\n",
            "\n",
            " Running 29/108: H=32, D=0.0, LR=0.0001, B=16\n",
            "   Run 1/5 ... "
          ]
        },
        {
          "output_type": "stream",
          "name": "stderr",
          "text": [
            "<ipython-input-28-f2771d1cb762>:152: UserWarning: To copy construct from a tensor, it is recommended to use sourceTensor.clone().detach() or sourceTensor.clone().detach().requires_grad_(True), rather than torch.tensor(sourceTensor).\n",
            "  X_scaled_tensor = torch.tensor(combined_X, dtype=torch.float32).unsqueeze(1)\n"
          ]
        },
        {
          "output_type": "stream",
          "name": "stdout",
          "text": [
            "     Epoch 0: Train Loss = 0.6995, Val Loss = 6.6741\n",
            "     Epoch 5: Train Loss = 0.6034, Val Loss = 11.1315\n",
            "     Epoch 10: Train Loss = 0.6004, Val Loss = 12.2510\n",
            "     Epoch 15: Train Loss = 0.6003, Val Loss = 12.6276\n",
            "     Epoch 20: Train Loss = 0.6002, Val Loss = 12.5072\n",
            "    ⏹️ Early stopping at epoch 20\n",
            " Run 1 finished with best val loss: 6.6741\n",
            "Original Error Percentage (Test Dataset): 10.7707%\n",
            "Corrected Error Percentage (Test Dataset): 10.7433%\n",
            "   Run 2/5 ...      Epoch 0: Train Loss = 0.7406, Val Loss = 10.3212\n"
          ]
        },
        {
          "output_type": "stream",
          "name": "stderr",
          "text": [
            "<ipython-input-28-f2771d1cb762>:152: UserWarning: To copy construct from a tensor, it is recommended to use sourceTensor.clone().detach() or sourceTensor.clone().detach().requires_grad_(True), rather than torch.tensor(sourceTensor).\n",
            "  X_scaled_tensor = torch.tensor(combined_X, dtype=torch.float32).unsqueeze(1)\n"
          ]
        },
        {
          "output_type": "stream",
          "name": "stdout",
          "text": [
            "     Epoch 5: Train Loss = 0.6087, Val Loss = 14.4944\n",
            "     Epoch 10: Train Loss = 0.6027, Val Loss = 14.8752\n",
            "     Epoch 15: Train Loss = 0.6020, Val Loss = 14.3884\n",
            "     Epoch 20: Train Loss = 0.6016, Val Loss = 13.9896\n",
            "    ⏹️ Early stopping at epoch 20\n",
            " Run 2 finished with best val loss: 10.3212\n",
            "Original Error Percentage (Test Dataset): 10.7707%\n",
            "Corrected Error Percentage (Test Dataset): 11.3501%\n",
            "   Run 3/5 ...      Epoch 0: Train Loss = 0.6719, Val Loss = 13.2836\n"
          ]
        },
        {
          "output_type": "stream",
          "name": "stderr",
          "text": [
            "<ipython-input-28-f2771d1cb762>:152: UserWarning: To copy construct from a tensor, it is recommended to use sourceTensor.clone().detach() or sourceTensor.clone().detach().requires_grad_(True), rather than torch.tensor(sourceTensor).\n",
            "  X_scaled_tensor = torch.tensor(combined_X, dtype=torch.float32).unsqueeze(1)\n"
          ]
        },
        {
          "output_type": "stream",
          "name": "stdout",
          "text": [
            "     Epoch 5: Train Loss = 0.6011, Val Loss = 12.8014\n",
            "     Epoch 10: Train Loss = 0.6006, Val Loss = 12.7887\n",
            "     Epoch 15: Train Loss = 0.6003, Val Loss = 12.9434\n",
            "     Epoch 20: Train Loss = 0.6003, Val Loss = 13.0458\n",
            "     Epoch 25: Train Loss = 0.6003, Val Loss = 13.0892\n",
            "    ⏹️ Early stopping at epoch 29\n",
            " Run 3 finished with best val loss: 12.7395\n",
            "Original Error Percentage (Test Dataset): 10.7707%\n",
            "Corrected Error Percentage (Test Dataset): 10.9092%\n",
            "   Run 4/5 ...      Epoch 0: Train Loss = 0.6693, Val Loss = 10.3542\n"
          ]
        },
        {
          "output_type": "stream",
          "name": "stderr",
          "text": [
            "<ipython-input-28-f2771d1cb762>:152: UserWarning: To copy construct from a tensor, it is recommended to use sourceTensor.clone().detach() or sourceTensor.clone().detach().requires_grad_(True), rather than torch.tensor(sourceTensor).\n",
            "  X_scaled_tensor = torch.tensor(combined_X, dtype=torch.float32).unsqueeze(1)\n"
          ]
        },
        {
          "output_type": "stream",
          "name": "stdout",
          "text": [
            "     Epoch 5: Train Loss = 0.6079, Val Loss = 11.0953\n",
            "     Epoch 10: Train Loss = 0.6019, Val Loss = 11.7167\n",
            "     Epoch 15: Train Loss = 0.6008, Val Loss = 12.0212\n",
            "     Epoch 20: Train Loss = 0.6005, Val Loss = 12.2316\n",
            "    ⏹️ Early stopping at epoch 20\n",
            " Run 4 finished with best val loss: 10.3542\n",
            "Original Error Percentage (Test Dataset): 10.7707%\n",
            "Corrected Error Percentage (Test Dataset): 10.6506%\n",
            "   Run 5/5 ...      Epoch 0: Train Loss = 0.6348, Val Loss = 12.1554\n"
          ]
        },
        {
          "output_type": "stream",
          "name": "stderr",
          "text": [
            "<ipython-input-28-f2771d1cb762>:152: UserWarning: To copy construct from a tensor, it is recommended to use sourceTensor.clone().detach() or sourceTensor.clone().detach().requires_grad_(True), rather than torch.tensor(sourceTensor).\n",
            "  X_scaled_tensor = torch.tensor(combined_X, dtype=torch.float32).unsqueeze(1)\n"
          ]
        },
        {
          "output_type": "stream",
          "name": "stdout",
          "text": [
            "     Epoch 5: Train Loss = 0.6036, Val Loss = 14.1025\n",
            "     Epoch 10: Train Loss = 0.6013, Val Loss = 14.0773\n",
            "     Epoch 15: Train Loss = 0.6009, Val Loss = 14.0252\n",
            "     Epoch 20: Train Loss = 0.6008, Val Loss = 13.8717\n",
            "    ⏹️ Early stopping at epoch 20\n",
            " Run 5 finished with best val loss: 12.1554\n",
            "Original Error Percentage (Test Dataset): 10.7707%\n",
            "Corrected Error Percentage (Test Dataset): 11.2855%\n",
            " Finished configuration H=32, D=0.0, LR=0.0001, B=16 → Avg Val Loss: 10.4489, Avg Accuracy: 10.9878%\n",
            "\n",
            " Running 30/108: H=32, D=0.0, LR=0.0001, B=32\n",
            "   Run 1/5 ...      Epoch 0: Train Loss = 0.6827, Val Loss = 9.3786\n"
          ]
        },
        {
          "output_type": "stream",
          "name": "stderr",
          "text": [
            "<ipython-input-28-f2771d1cb762>:152: UserWarning: To copy construct from a tensor, it is recommended to use sourceTensor.clone().detach() or sourceTensor.clone().detach().requires_grad_(True), rather than torch.tensor(sourceTensor).\n",
            "  X_scaled_tensor = torch.tensor(combined_X, dtype=torch.float32).unsqueeze(1)\n"
          ]
        },
        {
          "output_type": "stream",
          "name": "stdout",
          "text": [
            "     Epoch 5: Train Loss = 0.6076, Val Loss = 11.9725\n",
            "     Epoch 10: Train Loss = 0.6017, Val Loss = 13.0344\n",
            "     Epoch 15: Train Loss = 0.6014, Val Loss = 13.0662\n",
            "     Epoch 20: Train Loss = 0.6011, Val Loss = 13.3113\n",
            "    ⏹️ Early stopping at epoch 20\n",
            " Run 1 finished with best val loss: 9.3786\n",
            "Original Error Percentage (Test Dataset): 10.7707%\n",
            "Corrected Error Percentage (Test Dataset): 11.1217%\n",
            "   Run 2/5 ...      Epoch 0: Train Loss = 0.6214, Val Loss = 11.3099\n"
          ]
        },
        {
          "output_type": "stream",
          "name": "stderr",
          "text": [
            "<ipython-input-28-f2771d1cb762>:152: UserWarning: To copy construct from a tensor, it is recommended to use sourceTensor.clone().detach() or sourceTensor.clone().detach().requires_grad_(True), rather than torch.tensor(sourceTensor).\n",
            "  X_scaled_tensor = torch.tensor(combined_X, dtype=torch.float32).unsqueeze(1)\n"
          ]
        },
        {
          "output_type": "stream",
          "name": "stdout",
          "text": [
            "     Epoch 5: Train Loss = 0.6056, Val Loss = 11.7503\n",
            "     Epoch 10: Train Loss = 0.6026, Val Loss = 12.2362\n",
            "     Epoch 15: Train Loss = 0.6019, Val Loss = 12.5728\n",
            "     Epoch 20: Train Loss = 0.6012, Val Loss = 12.8561\n",
            "    ⏹️ Early stopping at epoch 20\n",
            " Run 2 finished with best val loss: 11.3099\n",
            "Original Error Percentage (Test Dataset): 10.7707%\n",
            "Corrected Error Percentage (Test Dataset): 10.9844%\n",
            "   Run 3/5 ...      Epoch 0: Train Loss = 0.6518, Val Loss = 8.4658\n"
          ]
        },
        {
          "output_type": "stream",
          "name": "stderr",
          "text": [
            "<ipython-input-28-f2771d1cb762>:152: UserWarning: To copy construct from a tensor, it is recommended to use sourceTensor.clone().detach() or sourceTensor.clone().detach().requires_grad_(True), rather than torch.tensor(sourceTensor).\n",
            "  X_scaled_tensor = torch.tensor(combined_X, dtype=torch.float32).unsqueeze(1)\n"
          ]
        },
        {
          "output_type": "stream",
          "name": "stdout",
          "text": [
            "     Epoch 5: Train Loss = 0.6118, Val Loss = 10.7331\n",
            "     Epoch 10: Train Loss = 0.6036, Val Loss = 11.8736\n",
            "     Epoch 15: Train Loss = 0.6012, Val Loss = 12.3135\n",
            "     Epoch 20: Train Loss = 0.6007, Val Loss = 12.5133\n",
            "    ⏹️ Early stopping at epoch 20\n",
            " Run 3 finished with best val loss: 8.4658\n",
            "Original Error Percentage (Test Dataset): 10.7707%\n",
            "Corrected Error Percentage (Test Dataset): 10.7579%\n",
            "   Run 4/5 ...      Epoch 0: Train Loss = 0.7213, Val Loss = 7.0043\n"
          ]
        },
        {
          "output_type": "stream",
          "name": "stderr",
          "text": [
            "<ipython-input-28-f2771d1cb762>:152: UserWarning: To copy construct from a tensor, it is recommended to use sourceTensor.clone().detach() or sourceTensor.clone().detach().requires_grad_(True), rather than torch.tensor(sourceTensor).\n",
            "  X_scaled_tensor = torch.tensor(combined_X, dtype=torch.float32).unsqueeze(1)\n"
          ]
        },
        {
          "output_type": "stream",
          "name": "stdout",
          "text": [
            "     Epoch 5: Train Loss = 0.6280, Val Loss = 8.7879\n",
            "     Epoch 10: Train Loss = 0.6128, Val Loss = 9.7433\n",
            "     Epoch 15: Train Loss = 0.6058, Val Loss = 10.9662\n",
            "     Epoch 20: Train Loss = 0.6043, Val Loss = 11.2774\n",
            "    ⏹️ Early stopping at epoch 20\n",
            " Run 4 finished with best val loss: 7.0043\n",
            "Original Error Percentage (Test Dataset): 10.7707%\n",
            "Corrected Error Percentage (Test Dataset): 10.3785%\n",
            "   Run 5/5 ...      Epoch 0: Train Loss = 0.6352, Val Loss = 11.0433\n"
          ]
        },
        {
          "output_type": "stream",
          "name": "stderr",
          "text": [
            "<ipython-input-28-f2771d1cb762>:152: UserWarning: To copy construct from a tensor, it is recommended to use sourceTensor.clone().detach() or sourceTensor.clone().detach().requires_grad_(True), rather than torch.tensor(sourceTensor).\n",
            "  X_scaled_tensor = torch.tensor(combined_X, dtype=torch.float32).unsqueeze(1)\n"
          ]
        },
        {
          "output_type": "stream",
          "name": "stdout",
          "text": [
            "     Epoch 5: Train Loss = 0.6087, Val Loss = 11.6915\n",
            "     Epoch 10: Train Loss = 0.6038, Val Loss = 12.1969\n",
            "     Epoch 15: Train Loss = 0.6018, Val Loss = 12.5721\n",
            "     Epoch 20: Train Loss = 0.6006, Val Loss = 12.9469\n",
            "    ⏹️ Early stopping at epoch 20\n",
            " Run 5 finished with best val loss: 11.0433\n",
            "Original Error Percentage (Test Dataset): 10.7707%\n",
            "Corrected Error Percentage (Test Dataset): 11.0053%\n",
            " Finished configuration H=32, D=0.0, LR=0.0001, B=32 → Avg Val Loss: 9.4404, Avg Accuracy: 10.8496%\n",
            "\n",
            " Running 31/108: H=32, D=0.0, LR=0.0005, B=8\n",
            "   Run 1/5 ... "
          ]
        },
        {
          "output_type": "stream",
          "name": "stderr",
          "text": [
            "<ipython-input-28-f2771d1cb762>:152: UserWarning: To copy construct from a tensor, it is recommended to use sourceTensor.clone().detach() or sourceTensor.clone().detach().requires_grad_(True), rather than torch.tensor(sourceTensor).\n",
            "  X_scaled_tensor = torch.tensor(combined_X, dtype=torch.float32).unsqueeze(1)\n"
          ]
        },
        {
          "output_type": "stream",
          "name": "stdout",
          "text": [
            "     Epoch 0: Train Loss = 0.6145, Val Loss = 13.5594\n",
            "     Epoch 5: Train Loss = 0.6028, Val Loss = 13.2136\n",
            "     Epoch 10: Train Loss = 0.6016, Val Loss = 13.2256\n",
            "     Epoch 15: Train Loss = 0.6024, Val Loss = 13.2235\n",
            "     Epoch 20: Train Loss = 0.6012, Val Loss = 13.0669\n",
            "     Epoch 25: Train Loss = 0.6006, Val Loss = 12.7255\n",
            "     Epoch 30: Train Loss = 0.6008, Val Loss = 13.0870\n",
            "     Epoch 35: Train Loss = 0.6011, Val Loss = 12.6244\n",
            "     Epoch 40: Train Loss = 0.6004, Val Loss = 12.4010\n",
            "     Epoch 45: Train Loss = 0.6004, Val Loss = 12.7830\n",
            "     Epoch 50: Train Loss = 0.6011, Val Loss = 12.2036\n",
            "     Epoch 55: Train Loss = 0.5990, Val Loss = 12.1355\n",
            "     Epoch 60: Train Loss = 0.6005, Val Loss = 12.5746\n",
            "     Epoch 65: Train Loss = 0.5999, Val Loss = 12.3208\n",
            "     Epoch 70: Train Loss = 0.5996, Val Loss = 12.6274\n",
            "     Epoch 75: Train Loss = 0.5988, Val Loss = 12.1355\n",
            "     Epoch 80: Train Loss = 0.5992, Val Loss = 12.3378\n",
            "     Epoch 85: Train Loss = 0.6010, Val Loss = 13.7555\n",
            "     Epoch 90: Train Loss = 0.5988, Val Loss = 12.5008\n",
            "     Epoch 95: Train Loss = 0.5987, Val Loss = 12.7830\n",
            "    ⏹️ Early stopping at epoch 95\n",
            " Run 1 finished with best val loss: 12.1355\n",
            "Original Error Percentage (Test Dataset): 10.7707%\n",
            "Corrected Error Percentage (Test Dataset): 10.5942%\n",
            "   Run 2/5 ... "
          ]
        },
        {
          "output_type": "stream",
          "name": "stderr",
          "text": [
            "<ipython-input-28-f2771d1cb762>:152: UserWarning: To copy construct from a tensor, it is recommended to use sourceTensor.clone().detach() or sourceTensor.clone().detach().requires_grad_(True), rather than torch.tensor(sourceTensor).\n",
            "  X_scaled_tensor = torch.tensor(combined_X, dtype=torch.float32).unsqueeze(1)\n"
          ]
        },
        {
          "output_type": "stream",
          "name": "stdout",
          "text": [
            "     Epoch 0: Train Loss = 0.6397, Val Loss = 13.6806\n",
            "     Epoch 5: Train Loss = 0.6024, Val Loss = 13.9549\n",
            "     Epoch 10: Train Loss = 0.6026, Val Loss = 13.7431\n",
            "     Epoch 15: Train Loss = 0.6016, Val Loss = 12.9794\n",
            "     Epoch 20: Train Loss = 0.6013, Val Loss = 13.1239\n",
            "     Epoch 25: Train Loss = 0.6019, Val Loss = 13.6768\n",
            "     Epoch 30: Train Loss = 0.6017, Val Loss = 13.3093\n",
            "     Epoch 35: Train Loss = 0.6010, Val Loss = 13.2465\n",
            "     Epoch 40: Train Loss = 0.6009, Val Loss = 13.4669\n",
            "     Epoch 45: Train Loss = 0.6011, Val Loss = 13.2831\n",
            "     Epoch 50: Train Loss = 0.6006, Val Loss = 12.9641\n",
            "     Epoch 55: Train Loss = 0.6009, Val Loss = 12.9360\n",
            "     Epoch 60: Train Loss = 0.6007, Val Loss = 12.9651\n",
            "     Epoch 65: Train Loss = 0.6011, Val Loss = 12.8337\n",
            "     Epoch 70: Train Loss = 0.6003, Val Loss = 12.9259\n",
            "     Epoch 75: Train Loss = 0.6009, Val Loss = 12.5757\n",
            "     Epoch 80: Train Loss = 0.6004, Val Loss = 12.7096\n",
            "     Epoch 85: Train Loss = 0.6001, Val Loss = 12.8156\n",
            "     Epoch 90: Train Loss = 0.6006, Val Loss = 12.7070\n",
            "     Epoch 95: Train Loss = 0.5993, Val Loss = 12.6127\n",
            "     Epoch 100: Train Loss = 0.5991, Val Loss = 12.7583\n",
            "     Epoch 105: Train Loss = 0.6001, Val Loss = 12.6555\n",
            "     Epoch 110: Train Loss = 0.5992, Val Loss = 12.6345\n",
            "     Epoch 115: Train Loss = 0.6007, Val Loss = 12.7355\n",
            "     Epoch 120: Train Loss = 0.5990, Val Loss = 12.4355\n",
            "     Epoch 125: Train Loss = 0.5996, Val Loss = 12.5083\n",
            "     Epoch 130: Train Loss = 0.5989, Val Loss = 12.7015\n",
            "     Epoch 135: Train Loss = 0.5989, Val Loss = 12.4075\n",
            "     Epoch 140: Train Loss = 0.5985, Val Loss = 12.3857\n",
            "     Epoch 145: Train Loss = 0.6001, Val Loss = 12.3319\n",
            "     Epoch 150: Train Loss = 0.5982, Val Loss = 12.8502\n",
            "     Epoch 155: Train Loss = 0.5990, Val Loss = 12.7723\n",
            "    ⏹️ Early stopping at epoch 159\n",
            " Run 2 finished with best val loss: 12.1376\n",
            "Original Error Percentage (Test Dataset): 10.7707%\n",
            "Corrected Error Percentage (Test Dataset): 10.6276%\n",
            "   Run 3/5 ... "
          ]
        },
        {
          "output_type": "stream",
          "name": "stderr",
          "text": [
            "<ipython-input-28-f2771d1cb762>:152: UserWarning: To copy construct from a tensor, it is recommended to use sourceTensor.clone().detach() or sourceTensor.clone().detach().requires_grad_(True), rather than torch.tensor(sourceTensor).\n",
            "  X_scaled_tensor = torch.tensor(combined_X, dtype=torch.float32).unsqueeze(1)\n"
          ]
        },
        {
          "output_type": "stream",
          "name": "stdout",
          "text": [
            "     Epoch 0: Train Loss = 0.6268, Val Loss = 10.8527\n",
            "     Epoch 5: Train Loss = 0.6016, Val Loss = 12.5762\n",
            "     Epoch 10: Train Loss = 0.6017, Val Loss = 12.9791\n",
            "     Epoch 15: Train Loss = 0.6012, Val Loss = 12.6333\n",
            "     Epoch 20: Train Loss = 0.6009, Val Loss = 12.3804\n",
            "    ⏹️ Early stopping at epoch 20\n",
            " Run 3 finished with best val loss: 10.8527\n",
            "Original Error Percentage (Test Dataset): 10.7707%\n",
            "Corrected Error Percentage (Test Dataset): 10.7040%\n",
            "   Run 4/5 ... "
          ]
        },
        {
          "output_type": "stream",
          "name": "stderr",
          "text": [
            "<ipython-input-28-f2771d1cb762>:152: UserWarning: To copy construct from a tensor, it is recommended to use sourceTensor.clone().detach() or sourceTensor.clone().detach().requires_grad_(True), rather than torch.tensor(sourceTensor).\n",
            "  X_scaled_tensor = torch.tensor(combined_X, dtype=torch.float32).unsqueeze(1)\n"
          ]
        },
        {
          "output_type": "stream",
          "name": "stdout",
          "text": [
            "     Epoch 0: Train Loss = 0.6109, Val Loss = 11.7137\n",
            "     Epoch 5: Train Loss = 0.6020, Val Loss = 12.3457\n",
            "     Epoch 10: Train Loss = 0.6012, Val Loss = 12.7862\n",
            "     Epoch 15: Train Loss = 0.6007, Val Loss = 12.5714\n",
            "     Epoch 20: Train Loss = 0.6004, Val Loss = 12.3978\n",
            "    ⏹️ Early stopping at epoch 20\n",
            " Run 4 finished with best val loss: 11.7137\n",
            "Original Error Percentage (Test Dataset): 10.7707%\n",
            "Corrected Error Percentage (Test Dataset): 10.7000%\n",
            "   Run 5/5 ... "
          ]
        },
        {
          "output_type": "stream",
          "name": "stderr",
          "text": [
            "<ipython-input-28-f2771d1cb762>:152: UserWarning: To copy construct from a tensor, it is recommended to use sourceTensor.clone().detach() or sourceTensor.clone().detach().requires_grad_(True), rather than torch.tensor(sourceTensor).\n",
            "  X_scaled_tensor = torch.tensor(combined_X, dtype=torch.float32).unsqueeze(1)\n"
          ]
        },
        {
          "output_type": "stream",
          "name": "stdout",
          "text": [
            "     Epoch 0: Train Loss = 0.6066, Val Loss = 12.2068\n",
            "     Epoch 5: Train Loss = 0.6015, Val Loss = 12.7662\n",
            "     Epoch 10: Train Loss = 0.6017, Val Loss = 13.3265\n",
            "     Epoch 15: Train Loss = 0.6006, Val Loss = 13.4656\n",
            "     Epoch 20: Train Loss = 0.6010, Val Loss = 12.8935\n",
            "    ⏹️ Early stopping at epoch 20\n",
            " Run 5 finished with best val loss: 12.2068\n",
            "Original Error Percentage (Test Dataset): 10.7707%\n",
            "Corrected Error Percentage (Test Dataset): 10.9435%\n",
            " Finished configuration H=32, D=0.0, LR=0.0005, B=8 → Avg Val Loss: 11.8093, Avg Accuracy: 10.7139%\n",
            "\n",
            " Running 32/108: H=32, D=0.0, LR=0.0005, B=16\n",
            "   Run 1/5 ...      Epoch 0: Train Loss = 0.6506, Val Loss = 13.0754\n"
          ]
        },
        {
          "output_type": "stream",
          "name": "stderr",
          "text": [
            "<ipython-input-28-f2771d1cb762>:152: UserWarning: To copy construct from a tensor, it is recommended to use sourceTensor.clone().detach() or sourceTensor.clone().detach().requires_grad_(True), rather than torch.tensor(sourceTensor).\n",
            "  X_scaled_tensor = torch.tensor(combined_X, dtype=torch.float32).unsqueeze(1)\n"
          ]
        },
        {
          "output_type": "stream",
          "name": "stdout",
          "text": [
            "     Epoch 5: Train Loss = 0.6022, Val Loss = 14.2935\n",
            "     Epoch 10: Train Loss = 0.6025, Val Loss = 14.3581\n",
            "     Epoch 15: Train Loss = 0.6027, Val Loss = 13.9442\n",
            "     Epoch 20: Train Loss = 0.6014, Val Loss = 13.7369\n",
            "    ⏹️ Early stopping at epoch 20\n",
            " Run 1 finished with best val loss: 13.0754\n",
            "Original Error Percentage (Test Dataset): 10.7707%\n",
            "Corrected Error Percentage (Test Dataset): 11.2533%\n",
            "   Run 2/5 ...      Epoch 0: Train Loss = 0.6194, Val Loss = 10.2505\n"
          ]
        },
        {
          "output_type": "stream",
          "name": "stderr",
          "text": [
            "<ipython-input-28-f2771d1cb762>:152: UserWarning: To copy construct from a tensor, it is recommended to use sourceTensor.clone().detach() or sourceTensor.clone().detach().requires_grad_(True), rather than torch.tensor(sourceTensor).\n",
            "  X_scaled_tensor = torch.tensor(combined_X, dtype=torch.float32).unsqueeze(1)\n"
          ]
        },
        {
          "output_type": "stream",
          "name": "stdout",
          "text": [
            "     Epoch 5: Train Loss = 0.6014, Val Loss = 12.7052\n",
            "     Epoch 10: Train Loss = 0.6013, Val Loss = 12.8757\n",
            "     Epoch 15: Train Loss = 0.6002, Val Loss = 12.8677\n",
            "     Epoch 20: Train Loss = 0.6000, Val Loss = 12.9531\n",
            "    ⏹️ Early stopping at epoch 20\n",
            " Run 2 finished with best val loss: 10.2505\n",
            "Original Error Percentage (Test Dataset): 10.7707%\n",
            "Corrected Error Percentage (Test Dataset): 10.9600%\n",
            "   Run 3/5 ...      Epoch 0: Train Loss = 0.6317, Val Loss = 10.8253\n"
          ]
        },
        {
          "output_type": "stream",
          "name": "stderr",
          "text": [
            "<ipython-input-28-f2771d1cb762>:152: UserWarning: To copy construct from a tensor, it is recommended to use sourceTensor.clone().detach() or sourceTensor.clone().detach().requires_grad_(True), rather than torch.tensor(sourceTensor).\n",
            "  X_scaled_tensor = torch.tensor(combined_X, dtype=torch.float32).unsqueeze(1)\n"
          ]
        },
        {
          "output_type": "stream",
          "name": "stdout",
          "text": [
            "     Epoch 5: Train Loss = 0.6013, Val Loss = 12.7807\n",
            "     Epoch 10: Train Loss = 0.6004, Val Loss = 12.9694\n",
            "     Epoch 15: Train Loss = 0.6009, Val Loss = 13.6567\n",
            "     Epoch 20: Train Loss = 0.6012, Val Loss = 13.2940\n",
            "    ⏹️ Early stopping at epoch 20\n",
            " Run 3 finished with best val loss: 10.8253\n",
            "Original Error Percentage (Test Dataset): 10.7707%\n",
            "Corrected Error Percentage (Test Dataset): 11.0665%\n",
            "   Run 4/5 ...      Epoch 0: Train Loss = 0.6473, Val Loss = 10.5969\n"
          ]
        },
        {
          "output_type": "stream",
          "name": "stderr",
          "text": [
            "<ipython-input-28-f2771d1cb762>:152: UserWarning: To copy construct from a tensor, it is recommended to use sourceTensor.clone().detach() or sourceTensor.clone().detach().requires_grad_(True), rather than torch.tensor(sourceTensor).\n",
            "  X_scaled_tensor = torch.tensor(combined_X, dtype=torch.float32).unsqueeze(1)\n"
          ]
        },
        {
          "output_type": "stream",
          "name": "stdout",
          "text": [
            "     Epoch 5: Train Loss = 0.6045, Val Loss = 13.2890\n",
            "     Epoch 10: Train Loss = 0.6011, Val Loss = 13.1936\n",
            "     Epoch 15: Train Loss = 0.6012, Val Loss = 13.1453\n",
            "     Epoch 20: Train Loss = 0.6008, Val Loss = 12.8840\n",
            "    ⏹️ Early stopping at epoch 20\n",
            " Run 4 finished with best val loss: 10.5969\n",
            "Original Error Percentage (Test Dataset): 10.7707%\n",
            "Corrected Error Percentage (Test Dataset): 10.8516%\n",
            "   Run 5/5 ...      Epoch 0: Train Loss = 0.6175, Val Loss = 11.9471\n"
          ]
        },
        {
          "output_type": "stream",
          "name": "stderr",
          "text": [
            "<ipython-input-28-f2771d1cb762>:152: UserWarning: To copy construct from a tensor, it is recommended to use sourceTensor.clone().detach() or sourceTensor.clone().detach().requires_grad_(True), rather than torch.tensor(sourceTensor).\n",
            "  X_scaled_tensor = torch.tensor(combined_X, dtype=torch.float32).unsqueeze(1)\n"
          ]
        },
        {
          "output_type": "stream",
          "name": "stdout",
          "text": [
            "     Epoch 5: Train Loss = 0.6014, Val Loss = 12.7579\n",
            "     Epoch 10: Train Loss = 0.6013, Val Loss = 12.8657\n",
            "     Epoch 15: Train Loss = 0.6012, Val Loss = 12.5303\n",
            "     Epoch 20: Train Loss = 0.6008, Val Loss = 12.6955\n",
            "    ⏹️ Early stopping at epoch 20\n",
            " Run 5 finished with best val loss: 11.9471\n",
            "Original Error Percentage (Test Dataset): 10.7707%\n",
            "Corrected Error Percentage (Test Dataset): 10.8069%\n",
            " Finished configuration H=32, D=0.0, LR=0.0005, B=16 → Avg Val Loss: 11.3390, Avg Accuracy: 10.9877%\n",
            "\n",
            " Running 33/108: H=32, D=0.0, LR=0.0005, B=32\n",
            "   Run 1/5 ...      Epoch 0: Train Loss = 0.6520, Val Loss = 9.6241\n"
          ]
        },
        {
          "output_type": "stream",
          "name": "stderr",
          "text": [
            "<ipython-input-28-f2771d1cb762>:152: UserWarning: To copy construct from a tensor, it is recommended to use sourceTensor.clone().detach() or sourceTensor.clone().detach().requires_grad_(True), rather than torch.tensor(sourceTensor).\n",
            "  X_scaled_tensor = torch.tensor(combined_X, dtype=torch.float32).unsqueeze(1)\n"
          ]
        },
        {
          "output_type": "stream",
          "name": "stdout",
          "text": [
            "     Epoch 5: Train Loss = 0.6021, Val Loss = 13.6796\n",
            "     Epoch 10: Train Loss = 0.6017, Val Loss = 13.2647\n",
            "     Epoch 15: Train Loss = 0.6009, Val Loss = 13.0244\n",
            "     Epoch 20: Train Loss = 0.6004, Val Loss = 12.7016\n",
            "    ⏹️ Early stopping at epoch 20\n",
            " Run 1 finished with best val loss: 9.6241\n",
            "Original Error Percentage (Test Dataset): 10.7707%\n",
            "Corrected Error Percentage (Test Dataset): 10.7716%\n",
            "   Run 2/5 ...      Epoch 0: Train Loss = 0.6162, Val Loss = 12.6906\n"
          ]
        },
        {
          "output_type": "stream",
          "name": "stderr",
          "text": [
            "<ipython-input-28-f2771d1cb762>:152: UserWarning: To copy construct from a tensor, it is recommended to use sourceTensor.clone().detach() or sourceTensor.clone().detach().requires_grad_(True), rather than torch.tensor(sourceTensor).\n",
            "  X_scaled_tensor = torch.tensor(combined_X, dtype=torch.float32).unsqueeze(1)\n"
          ]
        },
        {
          "output_type": "stream",
          "name": "stdout",
          "text": [
            "     Epoch 5: Train Loss = 0.6009, Val Loss = 13.4599\n",
            "     Epoch 10: Train Loss = 0.6004, Val Loss = 13.4576\n",
            "     Epoch 15: Train Loss = 0.6003, Val Loss = 13.1746\n",
            "     Epoch 20: Train Loss = 0.6002, Val Loss = 13.0924\n",
            "    ⏹️ Early stopping at epoch 20\n",
            " Run 2 finished with best val loss: 12.6906\n",
            "Original Error Percentage (Test Dataset): 10.7707%\n",
            "Corrected Error Percentage (Test Dataset): 10.9936%\n",
            "   Run 3/5 ...      Epoch 0: Train Loss = 0.6561, Val Loss = 13.1098\n"
          ]
        },
        {
          "output_type": "stream",
          "name": "stderr",
          "text": [
            "<ipython-input-28-f2771d1cb762>:152: UserWarning: To copy construct from a tensor, it is recommended to use sourceTensor.clone().detach() or sourceTensor.clone().detach().requires_grad_(True), rather than torch.tensor(sourceTensor).\n",
            "  X_scaled_tensor = torch.tensor(combined_X, dtype=torch.float32).unsqueeze(1)\n"
          ]
        },
        {
          "output_type": "stream",
          "name": "stdout",
          "text": [
            "     Epoch 5: Train Loss = 0.6020, Val Loss = 13.2713\n",
            "     Epoch 10: Train Loss = 0.6015, Val Loss = 12.6331\n",
            "     Epoch 15: Train Loss = 0.6006, Val Loss = 13.1279\n",
            "     Epoch 20: Train Loss = 0.6012, Val Loss = 13.1862\n",
            "     Epoch 25: Train Loss = 0.6001, Val Loss = 12.8751\n",
            "     Epoch 30: Train Loss = 0.6008, Val Loss = 12.8943\n",
            "    ⏹️ Early stopping at epoch 30\n",
            " Run 3 finished with best val loss: 12.6331\n",
            "Original Error Percentage (Test Dataset): 10.7707%\n",
            "Corrected Error Percentage (Test Dataset): 10.8879%\n",
            "   Run 4/5 ...      Epoch 0: Train Loss = 0.6359, Val Loss = 12.5558\n"
          ]
        },
        {
          "output_type": "stream",
          "name": "stderr",
          "text": [
            "<ipython-input-28-f2771d1cb762>:152: UserWarning: To copy construct from a tensor, it is recommended to use sourceTensor.clone().detach() or sourceTensor.clone().detach().requires_grad_(True), rather than torch.tensor(sourceTensor).\n",
            "  X_scaled_tensor = torch.tensor(combined_X, dtype=torch.float32).unsqueeze(1)\n"
          ]
        },
        {
          "output_type": "stream",
          "name": "stdout",
          "text": [
            "     Epoch 5: Train Loss = 0.6022, Val Loss = 14.2545\n",
            "     Epoch 10: Train Loss = 0.6016, Val Loss = 13.8684\n",
            "     Epoch 15: Train Loss = 0.6022, Val Loss = 13.3976\n",
            "     Epoch 20: Train Loss = 0.6015, Val Loss = 13.6060\n",
            "    ⏹️ Early stopping at epoch 20\n",
            " Run 4 finished with best val loss: 12.5558\n",
            "Original Error Percentage (Test Dataset): 10.7707%\n",
            "Corrected Error Percentage (Test Dataset): 11.2583%\n",
            "   Run 5/5 ...      Epoch 0: Train Loss = 0.6570, Val Loss = 13.5005\n"
          ]
        },
        {
          "output_type": "stream",
          "name": "stderr",
          "text": [
            "<ipython-input-28-f2771d1cb762>:152: UserWarning: To copy construct from a tensor, it is recommended to use sourceTensor.clone().detach() or sourceTensor.clone().detach().requires_grad_(True), rather than torch.tensor(sourceTensor).\n",
            "  X_scaled_tensor = torch.tensor(combined_X, dtype=torch.float32).unsqueeze(1)\n"
          ]
        },
        {
          "output_type": "stream",
          "name": "stdout",
          "text": [
            "     Epoch 5: Train Loss = 0.6027, Val Loss = 15.3499\n",
            "     Epoch 10: Train Loss = 0.6024, Val Loss = 14.8969\n",
            "     Epoch 15: Train Loss = 0.6012, Val Loss = 14.4735\n",
            "     Epoch 20: Train Loss = 0.6014, Val Loss = 13.8555\n",
            "    ⏹️ Early stopping at epoch 20\n",
            " Run 5 finished with best val loss: 13.5005\n",
            "Original Error Percentage (Test Dataset): 10.7707%\n",
            "Corrected Error Percentage (Test Dataset): 11.3561%\n",
            " Finished configuration H=32, D=0.0, LR=0.0005, B=32 → Avg Val Loss: 12.2008, Avg Accuracy: 11.0535%\n",
            "\n",
            " Running 34/108: H=32, D=0.0, LR=0.001, B=8\n",
            "   Run 1/5 ... "
          ]
        },
        {
          "output_type": "stream",
          "name": "stderr",
          "text": [
            "<ipython-input-28-f2771d1cb762>:152: UserWarning: To copy construct from a tensor, it is recommended to use sourceTensor.clone().detach() or sourceTensor.clone().detach().requires_grad_(True), rather than torch.tensor(sourceTensor).\n",
            "  X_scaled_tensor = torch.tensor(combined_X, dtype=torch.float32).unsqueeze(1)\n"
          ]
        },
        {
          "output_type": "stream",
          "name": "stdout",
          "text": [
            "     Epoch 0: Train Loss = 0.6133, Val Loss = 12.3388\n",
            "     Epoch 5: Train Loss = 0.6017, Val Loss = 13.3108\n",
            "     Epoch 10: Train Loss = 0.6028, Val Loss = 13.6328\n",
            "     Epoch 15: Train Loss = 0.6020, Val Loss = 13.2041\n",
            "     Epoch 20: Train Loss = 0.6015, Val Loss = 13.0779\n",
            "    ⏹️ Early stopping at epoch 20\n",
            " Run 1 finished with best val loss: 12.3388\n",
            "Original Error Percentage (Test Dataset): 10.7707%\n",
            "Corrected Error Percentage (Test Dataset): 11.0324%\n",
            "   Run 2/5 ... "
          ]
        },
        {
          "output_type": "stream",
          "name": "stderr",
          "text": [
            "<ipython-input-28-f2771d1cb762>:152: UserWarning: To copy construct from a tensor, it is recommended to use sourceTensor.clone().detach() or sourceTensor.clone().detach().requires_grad_(True), rather than torch.tensor(sourceTensor).\n",
            "  X_scaled_tensor = torch.tensor(combined_X, dtype=torch.float32).unsqueeze(1)\n"
          ]
        },
        {
          "output_type": "stream",
          "name": "stdout",
          "text": [
            "     Epoch 0: Train Loss = 0.6098, Val Loss = 14.8636\n",
            "     Epoch 5: Train Loss = 0.6039, Val Loss = 13.4166\n",
            "     Epoch 10: Train Loss = 0.6028, Val Loss = 14.2711\n",
            "     Epoch 15: Train Loss = 0.6022, Val Loss = 13.1577\n",
            "     Epoch 20: Train Loss = 0.6041, Val Loss = 13.5586\n",
            "     Epoch 25: Train Loss = 0.6046, Val Loss = 13.2866\n",
            "     Epoch 30: Train Loss = 0.6036, Val Loss = 13.4507\n",
            "     Epoch 35: Train Loss = 0.6014, Val Loss = 13.8116\n",
            "     Epoch 40: Train Loss = 0.6023, Val Loss = 12.7415\n",
            "     Epoch 45: Train Loss = 0.6024, Val Loss = 12.9366\n",
            "     Epoch 50: Train Loss = 0.6013, Val Loss = 12.4777\n",
            "     Epoch 55: Train Loss = 0.6005, Val Loss = 13.0465\n",
            "     Epoch 60: Train Loss = 0.6011, Val Loss = 12.8063\n",
            "     Epoch 65: Train Loss = 0.6019, Val Loss = 12.4242\n",
            "     Epoch 70: Train Loss = 0.6005, Val Loss = 12.7750\n",
            "     Epoch 75: Train Loss = 0.6002, Val Loss = 12.7004\n",
            "     Epoch 80: Train Loss = 0.5995, Val Loss = 12.3817\n",
            "    ⏹️ Early stopping at epoch 84\n",
            " Run 2 finished with best val loss: 12.1797\n",
            "Original Error Percentage (Test Dataset): 10.7707%\n",
            "Corrected Error Percentage (Test Dataset): 10.7821%\n",
            "   Run 3/5 ... "
          ]
        },
        {
          "output_type": "stream",
          "name": "stderr",
          "text": [
            "<ipython-input-28-f2771d1cb762>:152: UserWarning: To copy construct from a tensor, it is recommended to use sourceTensor.clone().detach() or sourceTensor.clone().detach().requires_grad_(True), rather than torch.tensor(sourceTensor).\n",
            "  X_scaled_tensor = torch.tensor(combined_X, dtype=torch.float32).unsqueeze(1)\n"
          ]
        },
        {
          "output_type": "stream",
          "name": "stdout",
          "text": [
            "     Epoch 0: Train Loss = 0.6081, Val Loss = 12.5942\n",
            "     Epoch 5: Train Loss = 0.6005, Val Loss = 12.7974\n",
            "     Epoch 10: Train Loss = 0.6019, Val Loss = 12.7057\n",
            "     Epoch 15: Train Loss = 0.6001, Val Loss = 12.7304\n",
            "     Epoch 20: Train Loss = 0.6013, Val Loss = 12.9968\n",
            "    ⏹️ Early stopping at epoch 21\n",
            " Run 3 finished with best val loss: 12.5309\n",
            "Original Error Percentage (Test Dataset): 10.7707%\n",
            "Corrected Error Percentage (Test Dataset): 10.9799%\n",
            "   Run 4/5 ... "
          ]
        },
        {
          "output_type": "stream",
          "name": "stderr",
          "text": [
            "<ipython-input-28-f2771d1cb762>:152: UserWarning: To copy construct from a tensor, it is recommended to use sourceTensor.clone().detach() or sourceTensor.clone().detach().requires_grad_(True), rather than torch.tensor(sourceTensor).\n",
            "  X_scaled_tensor = torch.tensor(combined_X, dtype=torch.float32).unsqueeze(1)\n"
          ]
        },
        {
          "output_type": "stream",
          "name": "stdout",
          "text": [
            "     Epoch 0: Train Loss = 0.6204, Val Loss = 12.3529\n",
            "     Epoch 5: Train Loss = 0.6032, Val Loss = 14.0786\n",
            "     Epoch 10: Train Loss = 0.6029, Val Loss = 12.2695\n",
            "     Epoch 15: Train Loss = 0.6031, Val Loss = 12.6745\n",
            "     Epoch 20: Train Loss = 0.6034, Val Loss = 12.6177\n",
            "     Epoch 25: Train Loss = 0.6022, Val Loss = 13.4926\n",
            "     Epoch 30: Train Loss = 0.6010, Val Loss = 13.2715\n",
            "    ⏹️ Early stopping at epoch 30\n",
            " Run 4 finished with best val loss: 12.2695\n",
            "Original Error Percentage (Test Dataset): 10.7707%\n",
            "Corrected Error Percentage (Test Dataset): 11.0440%\n",
            "   Run 5/5 ... "
          ]
        },
        {
          "output_type": "stream",
          "name": "stderr",
          "text": [
            "<ipython-input-28-f2771d1cb762>:152: UserWarning: To copy construct from a tensor, it is recommended to use sourceTensor.clone().detach() or sourceTensor.clone().detach().requires_grad_(True), rather than torch.tensor(sourceTensor).\n",
            "  X_scaled_tensor = torch.tensor(combined_X, dtype=torch.float32).unsqueeze(1)\n"
          ]
        },
        {
          "output_type": "stream",
          "name": "stdout",
          "text": [
            "     Epoch 0: Train Loss = 0.6047, Val Loss = 13.9968\n",
            "     Epoch 5: Train Loss = 0.6045, Val Loss = 13.0235\n",
            "     Epoch 10: Train Loss = 0.6024, Val Loss = 12.7433\n",
            "     Epoch 15: Train Loss = 0.6015, Val Loss = 12.9612\n",
            "     Epoch 20: Train Loss = 0.6009, Val Loss = 12.9705\n",
            "     Epoch 25: Train Loss = 0.6006, Val Loss = 12.9248\n",
            "     Epoch 30: Train Loss = 0.5999, Val Loss = 12.4183\n",
            "     Epoch 35: Train Loss = 0.6000, Val Loss = 12.5683\n",
            "     Epoch 40: Train Loss = 0.5988, Val Loss = 12.9564\n",
            "     Epoch 45: Train Loss = 0.5997, Val Loss = 12.6613\n",
            "     Epoch 50: Train Loss = 0.5992, Val Loss = 12.5115\n",
            "     Epoch 55: Train Loss = 0.5992, Val Loss = 12.5009\n",
            "     Epoch 60: Train Loss = 0.5987, Val Loss = 12.8671\n",
            "     Epoch 65: Train Loss = 0.5988, Val Loss = 12.7104\n",
            "    ⏹️ Early stopping at epoch 67\n",
            " Run 5 finished with best val loss: 12.3139\n",
            "Original Error Percentage (Test Dataset): 10.7707%\n",
            "Corrected Error Percentage (Test Dataset): 10.8945%\n",
            " Finished configuration H=32, D=0.0, LR=0.001, B=8 → Avg Val Loss: 12.3266, Avg Accuracy: 10.9466%\n",
            "\n",
            " Running 35/108: H=32, D=0.0, LR=0.001, B=16\n",
            "   Run 1/5 ...      Epoch 0: Train Loss = 0.6098, Val Loss = 12.9819\n"
          ]
        },
        {
          "output_type": "stream",
          "name": "stderr",
          "text": [
            "<ipython-input-28-f2771d1cb762>:152: UserWarning: To copy construct from a tensor, it is recommended to use sourceTensor.clone().detach() or sourceTensor.clone().detach().requires_grad_(True), rather than torch.tensor(sourceTensor).\n",
            "  X_scaled_tensor = torch.tensor(combined_X, dtype=torch.float32).unsqueeze(1)\n"
          ]
        },
        {
          "output_type": "stream",
          "name": "stdout",
          "text": [
            "     Epoch 5: Train Loss = 0.6035, Val Loss = 13.1502\n",
            "     Epoch 10: Train Loss = 0.6019, Val Loss = 12.8857\n",
            "     Epoch 15: Train Loss = 0.6044, Val Loss = 12.9869\n",
            "     Epoch 20: Train Loss = 0.6010, Val Loss = 13.1488\n",
            "    ⏹️ Early stopping at epoch 21\n",
            " Run 1 finished with best val loss: 12.5734\n",
            "Original Error Percentage (Test Dataset): 10.7707%\n",
            "Corrected Error Percentage (Test Dataset): 10.9445%\n",
            "   Run 2/5 ... "
          ]
        },
        {
          "output_type": "stream",
          "name": "stderr",
          "text": [
            "<ipython-input-28-f2771d1cb762>:152: UserWarning: To copy construct from a tensor, it is recommended to use sourceTensor.clone().detach() or sourceTensor.clone().detach().requires_grad_(True), rather than torch.tensor(sourceTensor).\n",
            "  X_scaled_tensor = torch.tensor(combined_X, dtype=torch.float32).unsqueeze(1)\n"
          ]
        },
        {
          "output_type": "stream",
          "name": "stdout",
          "text": [
            "     Epoch 0: Train Loss = 0.6185, Val Loss = 13.7876\n",
            "     Epoch 5: Train Loss = 0.6019, Val Loss = 13.6581\n",
            "     Epoch 10: Train Loss = 0.6020, Val Loss = 13.4268\n",
            "     Epoch 15: Train Loss = 0.6021, Val Loss = 13.4907\n",
            "     Epoch 20: Train Loss = 0.6020, Val Loss = 12.8822\n",
            "    ⏹️ Early stopping at epoch 24\n",
            " Run 2 finished with best val loss: 12.7418\n",
            "Original Error Percentage (Test Dataset): 10.7707%\n",
            "Corrected Error Percentage (Test Dataset): 11.2624%\n",
            "   Run 3/5 ... "
          ]
        },
        {
          "output_type": "stream",
          "name": "stderr",
          "text": [
            "<ipython-input-28-f2771d1cb762>:152: UserWarning: To copy construct from a tensor, it is recommended to use sourceTensor.clone().detach() or sourceTensor.clone().detach().requires_grad_(True), rather than torch.tensor(sourceTensor).\n",
            "  X_scaled_tensor = torch.tensor(combined_X, dtype=torch.float32).unsqueeze(1)\n"
          ]
        },
        {
          "output_type": "stream",
          "name": "stdout",
          "text": [
            "     Epoch 0: Train Loss = 0.6078, Val Loss = 12.8129\n",
            "     Epoch 5: Train Loss = 0.6024, Val Loss = 12.9147\n",
            "     Epoch 10: Train Loss = 0.6013, Val Loss = 12.8830\n",
            "     Epoch 15: Train Loss = 0.6022, Val Loss = 12.9142\n",
            "     Epoch 20: Train Loss = 0.6019, Val Loss = 13.0067\n",
            "     Epoch 25: Train Loss = 0.6020, Val Loss = 12.7758\n",
            "     Epoch 30: Train Loss = 0.6019, Val Loss = 13.1807\n",
            "    ⏹️ Early stopping at epoch 31\n",
            " Run 3 finished with best val loss: 12.4442\n",
            "Original Error Percentage (Test Dataset): 10.7707%\n",
            "Corrected Error Percentage (Test Dataset): 10.8875%\n",
            "   Run 4/5 ... "
          ]
        },
        {
          "output_type": "stream",
          "name": "stderr",
          "text": [
            "<ipython-input-28-f2771d1cb762>:152: UserWarning: To copy construct from a tensor, it is recommended to use sourceTensor.clone().detach() or sourceTensor.clone().detach().requires_grad_(True), rather than torch.tensor(sourceTensor).\n",
            "  X_scaled_tensor = torch.tensor(combined_X, dtype=torch.float32).unsqueeze(1)\n"
          ]
        },
        {
          "output_type": "stream",
          "name": "stdout",
          "text": [
            "     Epoch 0: Train Loss = 0.6110, Val Loss = 13.2606\n",
            "     Epoch 5: Train Loss = 0.6024, Val Loss = 13.6734\n",
            "     Epoch 10: Train Loss = 0.6019, Val Loss = 13.9766\n",
            "     Epoch 15: Train Loss = 0.6022, Val Loss = 12.9921\n",
            "     Epoch 20: Train Loss = 0.6027, Val Loss = 12.7352\n",
            "     Epoch 25: Train Loss = 0.6012, Val Loss = 12.7496\n",
            "     Epoch 30: Train Loss = 0.6004, Val Loss = 12.9553\n",
            "     Epoch 35: Train Loss = 0.6000, Val Loss = 12.7512\n",
            "    ⏹️ Early stopping at epoch 39\n",
            " Run 4 finished with best val loss: 12.4702\n",
            "Original Error Percentage (Test Dataset): 10.7707%\n",
            "Corrected Error Percentage (Test Dataset): 10.8821%\n",
            "   Run 5/5 ... "
          ]
        },
        {
          "output_type": "stream",
          "name": "stderr",
          "text": [
            "<ipython-input-28-f2771d1cb762>:152: UserWarning: To copy construct from a tensor, it is recommended to use sourceTensor.clone().detach() or sourceTensor.clone().detach().requires_grad_(True), rather than torch.tensor(sourceTensor).\n",
            "  X_scaled_tensor = torch.tensor(combined_X, dtype=torch.float32).unsqueeze(1)\n"
          ]
        },
        {
          "output_type": "stream",
          "name": "stdout",
          "text": [
            "     Epoch 0: Train Loss = 0.6063, Val Loss = 13.6529\n",
            "     Epoch 5: Train Loss = 0.6019, Val Loss = 12.4978\n",
            "     Epoch 10: Train Loss = 0.6041, Val Loss = 12.7664\n",
            "     Epoch 15: Train Loss = 0.6018, Val Loss = 12.8774\n",
            "     Epoch 20: Train Loss = 0.6022, Val Loss = 11.9249\n",
            "     Epoch 25: Train Loss = 0.6014, Val Loss = 12.6415\n",
            "     Epoch 30: Train Loss = 0.6011, Val Loss = 13.1242\n",
            "     Epoch 35: Train Loss = 0.6007, Val Loss = 12.7184\n",
            "     Epoch 40: Train Loss = 0.6008, Val Loss = 12.8192\n",
            "    ⏹️ Early stopping at epoch 40\n",
            " Run 5 finished with best val loss: 11.9249\n",
            "Original Error Percentage (Test Dataset): 10.7707%\n",
            "Corrected Error Percentage (Test Dataset): 10.8731%\n",
            " Finished configuration H=32, D=0.0, LR=0.001, B=16 → Avg Val Loss: 12.4309, Avg Accuracy: 10.9699%\n",
            "\n",
            " Running 36/108: H=32, D=0.0, LR=0.001, B=32\n",
            "   Run 1/5 ...      Epoch 0: Train Loss = 0.6117, Val Loss = 12.0042\n"
          ]
        },
        {
          "output_type": "stream",
          "name": "stderr",
          "text": [
            "<ipython-input-28-f2771d1cb762>:152: UserWarning: To copy construct from a tensor, it is recommended to use sourceTensor.clone().detach() or sourceTensor.clone().detach().requires_grad_(True), rather than torch.tensor(sourceTensor).\n",
            "  X_scaled_tensor = torch.tensor(combined_X, dtype=torch.float32).unsqueeze(1)\n"
          ]
        },
        {
          "output_type": "stream",
          "name": "stdout",
          "text": [
            "     Epoch 5: Train Loss = 0.6018, Val Loss = 13.0022\n",
            "     Epoch 10: Train Loss = 0.6007, Val Loss = 13.2911\n",
            "     Epoch 15: Train Loss = 0.6012, Val Loss = 13.0337\n",
            "     Epoch 20: Train Loss = 0.6012, Val Loss = 13.0524\n",
            "    ⏹️ Early stopping at epoch 20\n",
            " Run 1 finished with best val loss: 12.0042\n",
            "Original Error Percentage (Test Dataset): 10.7707%\n",
            "Corrected Error Percentage (Test Dataset): 11.0042%\n",
            "   Run 2/5 ...      Epoch 0: Train Loss = 0.6356, Val Loss = 12.5020\n"
          ]
        },
        {
          "output_type": "stream",
          "name": "stderr",
          "text": [
            "<ipython-input-28-f2771d1cb762>:152: UserWarning: To copy construct from a tensor, it is recommended to use sourceTensor.clone().detach() or sourceTensor.clone().detach().requires_grad_(True), rather than torch.tensor(sourceTensor).\n",
            "  X_scaled_tensor = torch.tensor(combined_X, dtype=torch.float32).unsqueeze(1)\n"
          ]
        },
        {
          "output_type": "stream",
          "name": "stdout",
          "text": [
            "     Epoch 5: Train Loss = 0.6028, Val Loss = 14.0208\n",
            "     Epoch 10: Train Loss = 0.6016, Val Loss = 13.5302\n",
            "     Epoch 15: Train Loss = 0.6012, Val Loss = 13.7251\n",
            "     Epoch 20: Train Loss = 0.6014, Val Loss = 13.5536\n",
            "    ⏹️ Early stopping at epoch 20\n",
            " Run 2 finished with best val loss: 12.5020\n",
            "Original Error Percentage (Test Dataset): 10.7707%\n",
            "Corrected Error Percentage (Test Dataset): 11.2084%\n",
            "   Run 3/5 ...      Epoch 0: Train Loss = 0.6836, Val Loss = 13.3733\n"
          ]
        },
        {
          "output_type": "stream",
          "name": "stderr",
          "text": [
            "<ipython-input-28-f2771d1cb762>:152: UserWarning: To copy construct from a tensor, it is recommended to use sourceTensor.clone().detach() or sourceTensor.clone().detach().requires_grad_(True), rather than torch.tensor(sourceTensor).\n",
            "  X_scaled_tensor = torch.tensor(combined_X, dtype=torch.float32).unsqueeze(1)\n"
          ]
        },
        {
          "output_type": "stream",
          "name": "stdout",
          "text": [
            "     Epoch 5: Train Loss = 0.6017, Val Loss = 12.8126\n",
            "     Epoch 10: Train Loss = 0.6025, Val Loss = 12.8295\n",
            "     Epoch 15: Train Loss = 0.6017, Val Loss = 12.8378\n",
            "     Epoch 20: Train Loss = 0.6023, Val Loss = 11.6652\n",
            "     Epoch 25: Train Loss = 0.6004, Val Loss = 12.3931\n",
            "     Epoch 30: Train Loss = 0.6013, Val Loss = 12.4993\n",
            "     Epoch 35: Train Loss = 0.6008, Val Loss = 12.8191\n",
            "    ⏹️ Early stopping at epoch 38\n",
            " Run 3 finished with best val loss: 10.0225\n",
            "Original Error Percentage (Test Dataset): 10.7707%\n",
            "Corrected Error Percentage (Test Dataset): 10.9412%\n",
            "   Run 4/5 ...      Epoch 0: Train Loss = 0.6042, Val Loss = 12.6994\n"
          ]
        },
        {
          "output_type": "stream",
          "name": "stderr",
          "text": [
            "<ipython-input-28-f2771d1cb762>:152: UserWarning: To copy construct from a tensor, it is recommended to use sourceTensor.clone().detach() or sourceTensor.clone().detach().requires_grad_(True), rather than torch.tensor(sourceTensor).\n",
            "  X_scaled_tensor = torch.tensor(combined_X, dtype=torch.float32).unsqueeze(1)\n"
          ]
        },
        {
          "output_type": "stream",
          "name": "stdout",
          "text": [
            "     Epoch 5: Train Loss = 0.6015, Val Loss = 12.6587\n",
            "     Epoch 10: Train Loss = 0.6020, Val Loss = 13.0852\n",
            "     Epoch 15: Train Loss = 0.6010, Val Loss = 12.9639\n",
            "     Epoch 20: Train Loss = 0.6008, Val Loss = 12.6453\n",
            "     Epoch 25: Train Loss = 0.6003, Val Loss = 12.8211\n",
            "     Epoch 30: Train Loss = 0.6001, Val Loss = 12.7063\n",
            "     Epoch 35: Train Loss = 0.6002, Val Loss = 12.3312\n",
            "    ⏹️ Early stopping at epoch 39\n",
            " Run 4 finished with best val loss: 11.8574\n",
            "Original Error Percentage (Test Dataset): 10.7707%\n",
            "Corrected Error Percentage (Test Dataset): 11.1468%\n",
            "   Run 5/5 ...      Epoch 0: Train Loss = 0.6343, Val Loss = 13.4199\n"
          ]
        },
        {
          "output_type": "stream",
          "name": "stderr",
          "text": [
            "<ipython-input-28-f2771d1cb762>:152: UserWarning: To copy construct from a tensor, it is recommended to use sourceTensor.clone().detach() or sourceTensor.clone().detach().requires_grad_(True), rather than torch.tensor(sourceTensor).\n",
            "  X_scaled_tensor = torch.tensor(combined_X, dtype=torch.float32).unsqueeze(1)\n"
          ]
        },
        {
          "output_type": "stream",
          "name": "stdout",
          "text": [
            "     Epoch 5: Train Loss = 0.6019, Val Loss = 13.2343\n",
            "     Epoch 10: Train Loss = 0.6024, Val Loss = 13.1545\n",
            "     Epoch 15: Train Loss = 0.6024, Val Loss = 13.7293\n",
            "     Epoch 20: Train Loss = 0.6014, Val Loss = 13.3005\n",
            "     Epoch 25: Train Loss = 0.6036, Val Loss = 13.4674\n",
            "     Epoch 30: Train Loss = 0.6048, Val Loss = 13.0562\n",
            "     Epoch 35: Train Loss = 0.6007, Val Loss = 12.7901\n",
            "     Epoch 40: Train Loss = 0.6004, Val Loss = 12.7273\n",
            "     Epoch 45: Train Loss = 0.6003, Val Loss = 12.7769\n",
            "     Epoch 50: Train Loss = 0.6003, Val Loss = 12.5710\n",
            "     Epoch 55: Train Loss = 0.6025, Val Loss = 12.6684\n",
            "     Epoch 60: Train Loss = 0.5996, Val Loss = 12.7198\n",
            "     Epoch 65: Train Loss = 0.5994, Val Loss = 13.1809\n",
            "     Epoch 70: Train Loss = 0.6003, Val Loss = 12.9769\n",
            "     Epoch 75: Train Loss = 0.6010, Val Loss = 13.0157\n",
            "     Epoch 80: Train Loss = 0.6004, Val Loss = 13.0865\n",
            "     Epoch 85: Train Loss = 0.5998, Val Loss = 12.7755\n",
            "     Epoch 90: Train Loss = 0.5998, Val Loss = 12.6111\n",
            "    ⏹️ Early stopping at epoch 91\n",
            " Run 5 finished with best val loss: 12.1706\n",
            "Original Error Percentage (Test Dataset): 10.7707%\n",
            "Corrected Error Percentage (Test Dataset): 10.8668%\n",
            " Finished configuration H=32, D=0.0, LR=0.001, B=32 → Avg Val Loss: 11.7113, Avg Accuracy: 11.0335%\n",
            "\n",
            " Running 37/108: H=32, D=0.1, LR=0.0001, B=8\n",
            "   Run 1/5 ... "
          ]
        },
        {
          "output_type": "stream",
          "name": "stderr",
          "text": [
            "<ipython-input-28-f2771d1cb762>:152: UserWarning: To copy construct from a tensor, it is recommended to use sourceTensor.clone().detach() or sourceTensor.clone().detach().requires_grad_(True), rather than torch.tensor(sourceTensor).\n",
            "  X_scaled_tensor = torch.tensor(combined_X, dtype=torch.float32).unsqueeze(1)\n"
          ]
        },
        {
          "output_type": "stream",
          "name": "stdout",
          "text": [
            "     Epoch 0: Train Loss = 0.6191, Val Loss = 11.0978\n",
            "     Epoch 5: Train Loss = 0.6064, Val Loss = 12.2654\n",
            "     Epoch 10: Train Loss = 0.6032, Val Loss = 12.4791\n",
            "     Epoch 15: Train Loss = 0.6039, Val Loss = 12.5767\n",
            "     Epoch 20: Train Loss = 0.6073, Val Loss = 12.6575\n",
            "    ⏹️ Early stopping at epoch 20\n",
            " Run 1 finished with best val loss: 11.0978\n",
            "Original Error Percentage (Test Dataset): 10.7707%\n",
            "Corrected Error Percentage (Test Dataset): 10.8056%\n",
            "   Run 2/5 ... "
          ]
        },
        {
          "output_type": "stream",
          "name": "stderr",
          "text": [
            "<ipython-input-28-f2771d1cb762>:152: UserWarning: To copy construct from a tensor, it is recommended to use sourceTensor.clone().detach() or sourceTensor.clone().detach().requires_grad_(True), rather than torch.tensor(sourceTensor).\n",
            "  X_scaled_tensor = torch.tensor(combined_X, dtype=torch.float32).unsqueeze(1)\n"
          ]
        },
        {
          "output_type": "stream",
          "name": "stdout",
          "text": [
            "     Epoch 0: Train Loss = 0.6923, Val Loss = 10.9598\n",
            "     Epoch 5: Train Loss = 0.6173, Val Loss = 13.3307\n",
            "     Epoch 10: Train Loss = 0.6091, Val Loss = 14.3470\n",
            "     Epoch 15: Train Loss = 0.6117, Val Loss = 14.3251\n",
            "     Epoch 20: Train Loss = 0.6081, Val Loss = 14.2545\n",
            "    ⏹️ Early stopping at epoch 20\n",
            " Run 2 finished with best val loss: 10.9598\n",
            "Original Error Percentage (Test Dataset): 10.7707%\n",
            "Corrected Error Percentage (Test Dataset): 11.5826%\n",
            "   Run 3/5 ... "
          ]
        },
        {
          "output_type": "stream",
          "name": "stderr",
          "text": [
            "<ipython-input-28-f2771d1cb762>:152: UserWarning: To copy construct from a tensor, it is recommended to use sourceTensor.clone().detach() or sourceTensor.clone().detach().requires_grad_(True), rather than torch.tensor(sourceTensor).\n",
            "  X_scaled_tensor = torch.tensor(combined_X, dtype=torch.float32).unsqueeze(1)\n"
          ]
        },
        {
          "output_type": "stream",
          "name": "stdout",
          "text": [
            "     Epoch 0: Train Loss = 0.6829, Val Loss = 10.3294\n",
            "     Epoch 5: Train Loss = 0.6064, Val Loss = 12.7429\n",
            "     Epoch 10: Train Loss = 0.6052, Val Loss = 13.3998\n",
            "     Epoch 15: Train Loss = 0.6049, Val Loss = 13.2836\n",
            "     Epoch 20: Train Loss = 0.6079, Val Loss = 13.3512\n",
            "    ⏹️ Early stopping at epoch 20\n",
            " Run 3 finished with best val loss: 10.3294\n",
            "Original Error Percentage (Test Dataset): 10.7707%\n",
            "Corrected Error Percentage (Test Dataset): 11.2020%\n",
            "   Run 4/5 ... "
          ]
        },
        {
          "output_type": "stream",
          "name": "stderr",
          "text": [
            "<ipython-input-28-f2771d1cb762>:152: UserWarning: To copy construct from a tensor, it is recommended to use sourceTensor.clone().detach() or sourceTensor.clone().detach().requires_grad_(True), rather than torch.tensor(sourceTensor).\n",
            "  X_scaled_tensor = torch.tensor(combined_X, dtype=torch.float32).unsqueeze(1)\n"
          ]
        },
        {
          "output_type": "stream",
          "name": "stdout",
          "text": [
            "     Epoch 0: Train Loss = 0.7052, Val Loss = 9.1761\n",
            "     Epoch 5: Train Loss = 0.6120, Val Loss = 12.3430\n",
            "     Epoch 10: Train Loss = 0.6072, Val Loss = 13.2360\n",
            "     Epoch 15: Train Loss = 0.6028, Val Loss = 13.3503\n",
            "     Epoch 20: Train Loss = 0.6040, Val Loss = 13.3470\n",
            "    ⏹️ Early stopping at epoch 20\n",
            " Run 4 finished with best val loss: 9.1761\n",
            "Original Error Percentage (Test Dataset): 10.7707%\n",
            "Corrected Error Percentage (Test Dataset): 11.1409%\n",
            "   Run 5/5 ... "
          ]
        },
        {
          "output_type": "stream",
          "name": "stderr",
          "text": [
            "<ipython-input-28-f2771d1cb762>:152: UserWarning: To copy construct from a tensor, it is recommended to use sourceTensor.clone().detach() or sourceTensor.clone().detach().requires_grad_(True), rather than torch.tensor(sourceTensor).\n",
            "  X_scaled_tensor = torch.tensor(combined_X, dtype=torch.float32).unsqueeze(1)\n"
          ]
        },
        {
          "output_type": "stream",
          "name": "stdout",
          "text": [
            "     Epoch 0: Train Loss = 0.6131, Val Loss = 13.5157\n",
            "     Epoch 5: Train Loss = 0.6043, Val Loss = 13.8351\n",
            "     Epoch 10: Train Loss = 0.6101, Val Loss = 13.5753\n",
            "     Epoch 15: Train Loss = 0.6074, Val Loss = 13.5722\n",
            "     Epoch 20: Train Loss = 0.6042, Val Loss = 13.5659\n",
            "     Epoch 25: Train Loss = 0.5995, Val Loss = 13.5570\n",
            "     Epoch 30: Train Loss = 0.6045, Val Loss = 13.4695\n",
            "     Epoch 35: Train Loss = 0.6023, Val Loss = 13.3943\n",
            "     Epoch 40: Train Loss = 0.6037, Val Loss = 13.4171\n",
            "     Epoch 45: Train Loss = 0.5986, Val Loss = 13.4023\n",
            "     Epoch 50: Train Loss = 0.6019, Val Loss = 13.2388\n",
            "     Epoch 55: Train Loss = 0.5975, Val Loss = 13.3540\n",
            "     Epoch 60: Train Loss = 0.5972, Val Loss = 13.3925\n",
            "     Epoch 65: Train Loss = 0.6030, Val Loss = 13.2898\n",
            "    ⏹️ Early stopping at epoch 69\n",
            " Run 5 finished with best val loss: 13.1726\n",
            "Original Error Percentage (Test Dataset): 10.7707%\n",
            "Corrected Error Percentage (Test Dataset): 11.0608%\n",
            " Finished configuration H=32, D=0.1, LR=0.0001, B=8 → Avg Val Loss: 10.9471, Avg Accuracy: 11.1584%\n",
            "\n",
            " Running 38/108: H=32, D=0.1, LR=0.0001, B=16\n",
            "   Run 1/5 ...      Epoch 0: Train Loss = 0.6316, Val Loss = 10.4753\n"
          ]
        },
        {
          "output_type": "stream",
          "name": "stderr",
          "text": [
            "<ipython-input-28-f2771d1cb762>:152: UserWarning: To copy construct from a tensor, it is recommended to use sourceTensor.clone().detach() or sourceTensor.clone().detach().requires_grad_(True), rather than torch.tensor(sourceTensor).\n",
            "  X_scaled_tensor = torch.tensor(combined_X, dtype=torch.float32).unsqueeze(1)\n"
          ]
        },
        {
          "output_type": "stream",
          "name": "stdout",
          "text": [
            "     Epoch 5: Train Loss = 0.6066, Val Loss = 12.1590\n",
            "     Epoch 10: Train Loss = 0.6008, Val Loss = 13.1529\n",
            "     Epoch 15: Train Loss = 0.6060, Val Loss = 13.3968\n",
            "     Epoch 20: Train Loss = 0.6026, Val Loss = 13.4811\n",
            "    ⏹️ Early stopping at epoch 20\n",
            " Run 1 finished with best val loss: 10.4753\n",
            "Original Error Percentage (Test Dataset): 10.7707%\n",
            "Corrected Error Percentage (Test Dataset): 11.1529%\n",
            "   Run 2/5 ...      Epoch 0: Train Loss = 0.6215, Val Loss = 12.7127\n"
          ]
        },
        {
          "output_type": "stream",
          "name": "stderr",
          "text": [
            "<ipython-input-28-f2771d1cb762>:152: UserWarning: To copy construct from a tensor, it is recommended to use sourceTensor.clone().detach() or sourceTensor.clone().detach().requires_grad_(True), rather than torch.tensor(sourceTensor).\n",
            "  X_scaled_tensor = torch.tensor(combined_X, dtype=torch.float32).unsqueeze(1)\n"
          ]
        },
        {
          "output_type": "stream",
          "name": "stdout",
          "text": [
            "     Epoch 5: Train Loss = 0.6037, Val Loss = 13.5206\n",
            "     Epoch 10: Train Loss = 0.6137, Val Loss = 13.4263\n",
            "     Epoch 15: Train Loss = 0.6112, Val Loss = 13.2909\n",
            "     Epoch 20: Train Loss = 0.6093, Val Loss = 13.2055\n",
            "    ⏹️ Early stopping at epoch 20\n",
            " Run 2 finished with best val loss: 12.7127\n",
            "Original Error Percentage (Test Dataset): 10.7707%\n",
            "Corrected Error Percentage (Test Dataset): 11.0913%\n",
            "   Run 3/5 ...      Epoch 0: Train Loss = 0.6383, Val Loss = 10.6698\n"
          ]
        },
        {
          "output_type": "stream",
          "name": "stderr",
          "text": [
            "<ipython-input-28-f2771d1cb762>:152: UserWarning: To copy construct from a tensor, it is recommended to use sourceTensor.clone().detach() or sourceTensor.clone().detach().requires_grad_(True), rather than torch.tensor(sourceTensor).\n",
            "  X_scaled_tensor = torch.tensor(combined_X, dtype=torch.float32).unsqueeze(1)\n"
          ]
        },
        {
          "output_type": "stream",
          "name": "stdout",
          "text": [
            "     Epoch 5: Train Loss = 0.6095, Val Loss = 12.1098\n",
            "     Epoch 10: Train Loss = 0.6049, Val Loss = 12.6744\n",
            "     Epoch 15: Train Loss = 0.6075, Val Loss = 13.0839\n",
            "     Epoch 20: Train Loss = 0.6036, Val Loss = 13.1275\n",
            "    ⏹️ Early stopping at epoch 20\n",
            " Run 3 finished with best val loss: 10.6698\n",
            "Original Error Percentage (Test Dataset): 10.7707%\n",
            "Corrected Error Percentage (Test Dataset): 11.0228%\n",
            "   Run 4/5 ...      Epoch 0: Train Loss = 0.6533, Val Loss = 11.0333\n"
          ]
        },
        {
          "output_type": "stream",
          "name": "stderr",
          "text": [
            "<ipython-input-28-f2771d1cb762>:152: UserWarning: To copy construct from a tensor, it is recommended to use sourceTensor.clone().detach() or sourceTensor.clone().detach().requires_grad_(True), rather than torch.tensor(sourceTensor).\n",
            "  X_scaled_tensor = torch.tensor(combined_X, dtype=torch.float32).unsqueeze(1)\n"
          ]
        },
        {
          "output_type": "stream",
          "name": "stdout",
          "text": [
            "     Epoch 5: Train Loss = 0.6105, Val Loss = 12.6171\n",
            "     Epoch 10: Train Loss = 0.6094, Val Loss = 13.1528\n",
            "     Epoch 15: Train Loss = 0.6042, Val Loss = 13.2877\n",
            "     Epoch 20: Train Loss = 0.6054, Val Loss = 13.3064\n",
            "    ⏹️ Early stopping at epoch 20\n",
            " Run 4 finished with best val loss: 11.0333\n",
            "Original Error Percentage (Test Dataset): 10.7707%\n",
            "Corrected Error Percentage (Test Dataset): 11.1507%\n",
            "   Run 5/5 ... "
          ]
        },
        {
          "output_type": "stream",
          "name": "stderr",
          "text": [
            "<ipython-input-28-f2771d1cb762>:152: UserWarning: To copy construct from a tensor, it is recommended to use sourceTensor.clone().detach() or sourceTensor.clone().detach().requires_grad_(True), rather than torch.tensor(sourceTensor).\n",
            "  X_scaled_tensor = torch.tensor(combined_X, dtype=torch.float32).unsqueeze(1)\n"
          ]
        },
        {
          "output_type": "stream",
          "name": "stdout",
          "text": [
            "     Epoch 0: Train Loss = 0.6879, Val Loss = 9.8648\n",
            "     Epoch 5: Train Loss = 0.6199, Val Loss = 13.4805\n",
            "     Epoch 10: Train Loss = 0.6195, Val Loss = 14.5606\n",
            "     Epoch 15: Train Loss = 0.6128, Val Loss = 14.6105\n",
            "     Epoch 20: Train Loss = 0.6078, Val Loss = 14.3441\n",
            "    ⏹️ Early stopping at epoch 20\n",
            " Run 5 finished with best val loss: 9.8648\n",
            "Original Error Percentage (Test Dataset): 10.7707%\n",
            "Corrected Error Percentage (Test Dataset): 11.5227%\n",
            " Finished configuration H=32, D=0.1, LR=0.0001, B=16 → Avg Val Loss: 10.9512, Avg Accuracy: 11.1881%\n",
            "\n",
            " Running 39/108: H=32, D=0.1, LR=0.0001, B=32\n",
            "   Run 1/5 ...      Epoch 0: Train Loss = 0.6324, Val Loss = 9.3628\n"
          ]
        },
        {
          "output_type": "stream",
          "name": "stderr",
          "text": [
            "<ipython-input-28-f2771d1cb762>:152: UserWarning: To copy construct from a tensor, it is recommended to use sourceTensor.clone().detach() or sourceTensor.clone().detach().requires_grad_(True), rather than torch.tensor(sourceTensor).\n",
            "  X_scaled_tensor = torch.tensor(combined_X, dtype=torch.float32).unsqueeze(1)\n"
          ]
        },
        {
          "output_type": "stream",
          "name": "stdout",
          "text": [
            "     Epoch 5: Train Loss = 0.6087, Val Loss = 10.7503\n",
            "     Epoch 10: Train Loss = 0.6067, Val Loss = 11.3447\n",
            "     Epoch 15: Train Loss = 0.6092, Val Loss = 11.9294\n",
            "     Epoch 20: Train Loss = 0.6004, Val Loss = 12.2661\n",
            "    ⏹️ Early stopping at epoch 20\n",
            " Run 1 finished with best val loss: 9.3628\n",
            "Original Error Percentage (Test Dataset): 10.7707%\n",
            "Corrected Error Percentage (Test Dataset): 10.7454%\n",
            "   Run 2/5 ...      Epoch 0: Train Loss = 0.6371, Val Loss = 9.2071\n"
          ]
        },
        {
          "output_type": "stream",
          "name": "stderr",
          "text": [
            "<ipython-input-28-f2771d1cb762>:152: UserWarning: To copy construct from a tensor, it is recommended to use sourceTensor.clone().detach() or sourceTensor.clone().detach().requires_grad_(True), rather than torch.tensor(sourceTensor).\n",
            "  X_scaled_tensor = torch.tensor(combined_X, dtype=torch.float32).unsqueeze(1)\n"
          ]
        },
        {
          "output_type": "stream",
          "name": "stdout",
          "text": [
            "     Epoch 5: Train Loss = 0.6212, Val Loss = 10.8562\n",
            "     Epoch 10: Train Loss = 0.6051, Val Loss = 11.7225\n",
            "     Epoch 15: Train Loss = 0.6087, Val Loss = 12.1825\n",
            "     Epoch 20: Train Loss = 0.6033, Val Loss = 12.4728\n",
            "    ⏹️ Early stopping at epoch 20\n",
            " Run 2 finished with best val loss: 9.2071\n",
            "Original Error Percentage (Test Dataset): 10.7707%\n",
            "Corrected Error Percentage (Test Dataset): 10.7919%\n",
            "   Run 3/5 ...      Epoch 0: Train Loss = 0.6260, Val Loss = 14.2594\n"
          ]
        },
        {
          "output_type": "stream",
          "name": "stderr",
          "text": [
            "<ipython-input-28-f2771d1cb762>:152: UserWarning: To copy construct from a tensor, it is recommended to use sourceTensor.clone().detach() or sourceTensor.clone().detach().requires_grad_(True), rather than torch.tensor(sourceTensor).\n",
            "  X_scaled_tensor = torch.tensor(combined_X, dtype=torch.float32).unsqueeze(1)\n"
          ]
        },
        {
          "output_type": "stream",
          "name": "stdout",
          "text": [
            "     Epoch 5: Train Loss = 0.6158, Val Loss = 13.5495\n",
            "     Epoch 10: Train Loss = 0.6047, Val Loss = 13.3664\n",
            "     Epoch 15: Train Loss = 0.6061, Val Loss = 13.2207\n",
            "     Epoch 20: Train Loss = 0.6085, Val Loss = 13.1505\n",
            "     Epoch 25: Train Loss = 0.6060, Val Loss = 13.0031\n",
            "     Epoch 30: Train Loss = 0.6028, Val Loss = 13.1755\n",
            "     Epoch 35: Train Loss = 0.6071, Val Loss = 12.9780\n",
            "     Epoch 40: Train Loss = 0.6049, Val Loss = 13.2686\n",
            "    ⏹️ Early stopping at epoch 43\n",
            " Run 3 finished with best val loss: 12.9523\n",
            "Original Error Percentage (Test Dataset): 10.7707%\n",
            "Corrected Error Percentage (Test Dataset): 10.9915%\n",
            "   Run 4/5 ...      Epoch 0: Train Loss = 0.6389, Val Loss = 10.5244\n"
          ]
        },
        {
          "output_type": "stream",
          "name": "stderr",
          "text": [
            "<ipython-input-28-f2771d1cb762>:152: UserWarning: To copy construct from a tensor, it is recommended to use sourceTensor.clone().detach() or sourceTensor.clone().detach().requires_grad_(True), rather than torch.tensor(sourceTensor).\n",
            "  X_scaled_tensor = torch.tensor(combined_X, dtype=torch.float32).unsqueeze(1)\n"
          ]
        },
        {
          "output_type": "stream",
          "name": "stdout",
          "text": [
            "     Epoch 5: Train Loss = 0.6192, Val Loss = 11.6999\n",
            "     Epoch 10: Train Loss = 0.6120, Val Loss = 12.6446\n",
            "     Epoch 15: Train Loss = 0.6056, Val Loss = 13.2966\n",
            "     Epoch 20: Train Loss = 0.6052, Val Loss = 13.5319\n",
            "    ⏹️ Early stopping at epoch 20\n",
            " Run 4 finished with best val loss: 10.5244\n",
            "Original Error Percentage (Test Dataset): 10.7707%\n",
            "Corrected Error Percentage (Test Dataset): 11.2434%\n",
            "   Run 5/5 ...      Epoch 0: Train Loss = 0.6163, Val Loss = 10.7167\n"
          ]
        },
        {
          "output_type": "stream",
          "name": "stderr",
          "text": [
            "<ipython-input-28-f2771d1cb762>:152: UserWarning: To copy construct from a tensor, it is recommended to use sourceTensor.clone().detach() or sourceTensor.clone().detach().requires_grad_(True), rather than torch.tensor(sourceTensor).\n",
            "  X_scaled_tensor = torch.tensor(combined_X, dtype=torch.float32).unsqueeze(1)\n"
          ]
        },
        {
          "output_type": "stream",
          "name": "stdout",
          "text": [
            "     Epoch 5: Train Loss = 0.6055, Val Loss = 11.7452\n",
            "     Epoch 10: Train Loss = 0.6056, Val Loss = 12.2331\n",
            "     Epoch 15: Train Loss = 0.6033, Val Loss = 12.3954\n",
            "     Epoch 20: Train Loss = 0.6052, Val Loss = 12.6271\n",
            "    ⏹️ Early stopping at epoch 20\n",
            " Run 5 finished with best val loss: 10.7167\n",
            "Original Error Percentage (Test Dataset): 10.7707%\n",
            "Corrected Error Percentage (Test Dataset): 10.8327%\n",
            " Finished configuration H=32, D=0.1, LR=0.0001, B=32 → Avg Val Loss: 10.5527, Avg Accuracy: 10.9210%\n",
            "\n",
            " Running 40/108: H=32, D=0.1, LR=0.0005, B=8\n",
            "   Run 1/5 ... "
          ]
        },
        {
          "output_type": "stream",
          "name": "stderr",
          "text": [
            "<ipython-input-28-f2771d1cb762>:152: UserWarning: To copy construct from a tensor, it is recommended to use sourceTensor.clone().detach() or sourceTensor.clone().detach().requires_grad_(True), rather than torch.tensor(sourceTensor).\n",
            "  X_scaled_tensor = torch.tensor(combined_X, dtype=torch.float32).unsqueeze(1)\n"
          ]
        },
        {
          "output_type": "stream",
          "name": "stdout",
          "text": [
            "     Epoch 0: Train Loss = 0.6363, Val Loss = 10.4266\n",
            "     Epoch 5: Train Loss = 0.6036, Val Loss = 13.2107\n",
            "     Epoch 10: Train Loss = 0.6043, Val Loss = 13.3595\n",
            "     Epoch 15: Train Loss = 0.6008, Val Loss = 13.2972\n",
            "     Epoch 20: Train Loss = 0.6060, Val Loss = 13.0109\n",
            "    ⏹️ Early stopping at epoch 20\n",
            " Run 1 finished with best val loss: 10.4266\n",
            "Original Error Percentage (Test Dataset): 10.7707%\n",
            "Corrected Error Percentage (Test Dataset): 11.0142%\n",
            "   Run 2/5 ... "
          ]
        },
        {
          "output_type": "stream",
          "name": "stderr",
          "text": [
            "<ipython-input-28-f2771d1cb762>:152: UserWarning: To copy construct from a tensor, it is recommended to use sourceTensor.clone().detach() or sourceTensor.clone().detach().requires_grad_(True), rather than torch.tensor(sourceTensor).\n",
            "  X_scaled_tensor = torch.tensor(combined_X, dtype=torch.float32).unsqueeze(1)\n"
          ]
        },
        {
          "output_type": "stream",
          "name": "stdout",
          "text": [
            "     Epoch 0: Train Loss = 0.6215, Val Loss = 13.4181\n",
            "     Epoch 5: Train Loss = 0.6055, Val Loss = 13.5942\n",
            "     Epoch 10: Train Loss = 0.6055, Val Loss = 13.1451\n",
            "     Epoch 15: Train Loss = 0.6038, Val Loss = 13.2645\n",
            "     Epoch 20: Train Loss = 0.6012, Val Loss = 13.5296\n",
            "     Epoch 25: Train Loss = 0.6059, Val Loss = 13.1575\n",
            "     Epoch 30: Train Loss = 0.6031, Val Loss = 12.9683\n",
            "     Epoch 35: Train Loss = 0.6005, Val Loss = 13.1574\n",
            "    ⏹️ Early stopping at epoch 37\n",
            " Run 2 finished with best val loss: 12.7893\n",
            "Original Error Percentage (Test Dataset): 10.7707%\n",
            "Corrected Error Percentage (Test Dataset): 10.9979%\n",
            "   Run 3/5 ... "
          ]
        },
        {
          "output_type": "stream",
          "name": "stderr",
          "text": [
            "<ipython-input-28-f2771d1cb762>:152: UserWarning: To copy construct from a tensor, it is recommended to use sourceTensor.clone().detach() or sourceTensor.clone().detach().requires_grad_(True), rather than torch.tensor(sourceTensor).\n",
            "  X_scaled_tensor = torch.tensor(combined_X, dtype=torch.float32).unsqueeze(1)\n"
          ]
        },
        {
          "output_type": "stream",
          "name": "stdout",
          "text": [
            "     Epoch 0: Train Loss = 0.6121, Val Loss = 12.9621\n",
            "     Epoch 5: Train Loss = 0.6020, Val Loss = 13.8096\n",
            "     Epoch 10: Train Loss = 0.6020, Val Loss = 13.7123\n",
            "     Epoch 15: Train Loss = 0.6026, Val Loss = 13.5992\n",
            "     Epoch 20: Train Loss = 0.5993, Val Loss = 13.4101\n",
            "     Epoch 25: Train Loss = 0.6033, Val Loss = 12.9472\n",
            "     Epoch 30: Train Loss = 0.5998, Val Loss = 13.2514\n",
            "     Epoch 35: Train Loss = 0.5973, Val Loss = 13.4239\n",
            "     Epoch 40: Train Loss = 0.6037, Val Loss = 13.0261\n",
            "     Epoch 45: Train Loss = 0.6003, Val Loss = 12.8410\n",
            "     Epoch 50: Train Loss = 0.6025, Val Loss = 12.7718\n",
            "     Epoch 55: Train Loss = 0.6022, Val Loss = 13.0102\n",
            "     Epoch 60: Train Loss = 0.6014, Val Loss = 12.6156\n",
            "     Epoch 65: Train Loss = 0.5995, Val Loss = 12.7076\n",
            "     Epoch 70: Train Loss = 0.5994, Val Loss = 12.7162\n",
            "     Epoch 75: Train Loss = 0.6001, Val Loss = 12.0908\n",
            "     Epoch 80: Train Loss = 0.6021, Val Loss = 12.5873\n",
            "     Epoch 85: Train Loss = 0.6023, Val Loss = 12.2435\n",
            "     Epoch 90: Train Loss = 0.5977, Val Loss = 12.4402\n",
            "     Epoch 95: Train Loss = 0.5978, Val Loss = 12.5725\n",
            "    ⏹️ Early stopping at epoch 95\n",
            " Run 3 finished with best val loss: 12.0908\n",
            "Original Error Percentage (Test Dataset): 10.7707%\n",
            "Corrected Error Percentage (Test Dataset): 10.7938%\n",
            "   Run 4/5 ... "
          ]
        },
        {
          "output_type": "stream",
          "name": "stderr",
          "text": [
            "<ipython-input-28-f2771d1cb762>:152: UserWarning: To copy construct from a tensor, it is recommended to use sourceTensor.clone().detach() or sourceTensor.clone().detach().requires_grad_(True), rather than torch.tensor(sourceTensor).\n",
            "  X_scaled_tensor = torch.tensor(combined_X, dtype=torch.float32).unsqueeze(1)\n"
          ]
        },
        {
          "output_type": "stream",
          "name": "stdout",
          "text": [
            "     Epoch 0: Train Loss = 0.6147, Val Loss = 10.9068\n",
            "     Epoch 5: Train Loss = 0.6041, Val Loss = 13.0491\n",
            "     Epoch 10: Train Loss = 0.6029, Val Loss = 13.1531\n",
            "     Epoch 15: Train Loss = 0.6014, Val Loss = 13.0897\n",
            "     Epoch 20: Train Loss = 0.6020, Val Loss = 12.9141\n",
            "    ⏹️ Early stopping at epoch 20\n",
            " Run 4 finished with best val loss: 10.9068\n",
            "Original Error Percentage (Test Dataset): 10.7707%\n",
            "Corrected Error Percentage (Test Dataset): 10.9114%\n",
            "   Run 5/5 ... "
          ]
        },
        {
          "output_type": "stream",
          "name": "stderr",
          "text": [
            "<ipython-input-28-f2771d1cb762>:152: UserWarning: To copy construct from a tensor, it is recommended to use sourceTensor.clone().detach() or sourceTensor.clone().detach().requires_grad_(True), rather than torch.tensor(sourceTensor).\n",
            "  X_scaled_tensor = torch.tensor(combined_X, dtype=torch.float32).unsqueeze(1)\n"
          ]
        },
        {
          "output_type": "stream",
          "name": "stdout",
          "text": [
            "     Epoch 0: Train Loss = 0.6441, Val Loss = 12.7000\n",
            "     Epoch 5: Train Loss = 0.6045, Val Loss = 13.4813\n",
            "     Epoch 10: Train Loss = 0.6029, Val Loss = 13.5695\n",
            "     Epoch 15: Train Loss = 0.6050, Val Loss = 13.4070\n",
            "     Epoch 20: Train Loss = 0.6083, Val Loss = 13.1187\n",
            "    ⏹️ Early stopping at epoch 20\n",
            " Run 5 finished with best val loss: 12.7000\n",
            "Original Error Percentage (Test Dataset): 10.7707%\n",
            "Corrected Error Percentage (Test Dataset): 11.0651%\n",
            " Finished configuration H=32, D=0.1, LR=0.0005, B=8 → Avg Val Loss: 11.7827, Avg Accuracy: 10.9565%\n",
            "\n",
            " Running 41/108: H=32, D=0.1, LR=0.0005, B=16\n",
            "   Run 1/5 ...      Epoch 0: Train Loss = 0.6324, Val Loss = 11.0632\n"
          ]
        },
        {
          "output_type": "stream",
          "name": "stderr",
          "text": [
            "<ipython-input-28-f2771d1cb762>:152: UserWarning: To copy construct from a tensor, it is recommended to use sourceTensor.clone().detach() or sourceTensor.clone().detach().requires_grad_(True), rather than torch.tensor(sourceTensor).\n",
            "  X_scaled_tensor = torch.tensor(combined_X, dtype=torch.float32).unsqueeze(1)\n"
          ]
        },
        {
          "output_type": "stream",
          "name": "stdout",
          "text": [
            "     Epoch 5: Train Loss = 0.6061, Val Loss = 12.5004\n",
            "     Epoch 10: Train Loss = 0.6065, Val Loss = 13.1545\n",
            "     Epoch 15: Train Loss = 0.6050, Val Loss = 14.4741\n",
            "     Epoch 20: Train Loss = 0.6050, Val Loss = 13.1605\n",
            "    ⏹️ Early stopping at epoch 20\n",
            " Run 1 finished with best val loss: 11.0632\n",
            "Original Error Percentage (Test Dataset): 10.7707%\n",
            "Corrected Error Percentage (Test Dataset): 11.0627%\n",
            "   Run 2/5 ... "
          ]
        },
        {
          "output_type": "stream",
          "name": "stderr",
          "text": [
            "<ipython-input-28-f2771d1cb762>:152: UserWarning: To copy construct from a tensor, it is recommended to use sourceTensor.clone().detach() or sourceTensor.clone().detach().requires_grad_(True), rather than torch.tensor(sourceTensor).\n",
            "  X_scaled_tensor = torch.tensor(combined_X, dtype=torch.float32).unsqueeze(1)\n"
          ]
        },
        {
          "output_type": "stream",
          "name": "stdout",
          "text": [
            "     Epoch 0: Train Loss = 0.6269, Val Loss = 10.7656\n",
            "     Epoch 5: Train Loss = 0.6052, Val Loss = 12.7603\n",
            "     Epoch 10: Train Loss = 0.6073, Val Loss = 12.5240\n",
            "     Epoch 15: Train Loss = 0.6052, Val Loss = 12.5432\n",
            "     Epoch 20: Train Loss = 0.6025, Val Loss = 12.2712\n",
            "    ⏹️ Early stopping at epoch 20\n",
            " Run 2 finished with best val loss: 10.7656\n",
            "Original Error Percentage (Test Dataset): 10.7707%\n",
            "Corrected Error Percentage (Test Dataset): 10.6817%\n",
            "   Run 3/5 ...      Epoch 0: Train Loss = 0.6134, Val Loss = 15.0452\n"
          ]
        },
        {
          "output_type": "stream",
          "name": "stderr",
          "text": [
            "<ipython-input-28-f2771d1cb762>:152: UserWarning: To copy construct from a tensor, it is recommended to use sourceTensor.clone().detach() or sourceTensor.clone().detach().requires_grad_(True), rather than torch.tensor(sourceTensor).\n",
            "  X_scaled_tensor = torch.tensor(combined_X, dtype=torch.float32).unsqueeze(1)\n"
          ]
        },
        {
          "output_type": "stream",
          "name": "stdout",
          "text": [
            "     Epoch 5: Train Loss = 0.6086, Val Loss = 13.0743\n",
            "     Epoch 10: Train Loss = 0.6008, Val Loss = 13.6234\n",
            "     Epoch 15: Train Loss = 0.6066, Val Loss = 13.5521\n",
            "     Epoch 20: Train Loss = 0.6039, Val Loss = 13.0163\n",
            "     Epoch 25: Train Loss = 0.5997, Val Loss = 13.3154\n",
            "    ⏹️ Early stopping at epoch 26\n",
            " Run 3 finished with best val loss: 12.8461\n",
            "Original Error Percentage (Test Dataset): 10.7707%\n",
            "Corrected Error Percentage (Test Dataset): 11.1529%\n",
            "   Run 4/5 ... "
          ]
        },
        {
          "output_type": "stream",
          "name": "stderr",
          "text": [
            "<ipython-input-28-f2771d1cb762>:152: UserWarning: To copy construct from a tensor, it is recommended to use sourceTensor.clone().detach() or sourceTensor.clone().detach().requires_grad_(True), rather than torch.tensor(sourceTensor).\n",
            "  X_scaled_tensor = torch.tensor(combined_X, dtype=torch.float32).unsqueeze(1)\n"
          ]
        },
        {
          "output_type": "stream",
          "name": "stdout",
          "text": [
            "     Epoch 0: Train Loss = 0.6392, Val Loss = 13.2290\n",
            "     Epoch 5: Train Loss = 0.6042, Val Loss = 13.8833\n",
            "     Epoch 10: Train Loss = 0.6093, Val Loss = 13.5518\n",
            "     Epoch 15: Train Loss = 0.6062, Val Loss = 13.5901\n",
            "     Epoch 20: Train Loss = 0.6052, Val Loss = 12.5143\n",
            "     Epoch 25: Train Loss = 0.6013, Val Loss = 13.3143\n",
            "     Epoch 30: Train Loss = 0.6044, Val Loss = 13.0501\n",
            "     Epoch 35: Train Loss = 0.5983, Val Loss = 12.9390\n",
            "     Epoch 40: Train Loss = 0.6023, Val Loss = 13.1131\n",
            "    ⏹️ Early stopping at epoch 43\n",
            " Run 4 finished with best val loss: 12.3746\n",
            "Original Error Percentage (Test Dataset): 10.7707%\n",
            "Corrected Error Percentage (Test Dataset): 10.8961%\n",
            "   Run 5/5 ...      Epoch 0: Train Loss = 0.6273, Val Loss = 14.4147\n"
          ]
        },
        {
          "output_type": "stream",
          "name": "stderr",
          "text": [
            "<ipython-input-28-f2771d1cb762>:152: UserWarning: To copy construct from a tensor, it is recommended to use sourceTensor.clone().detach() or sourceTensor.clone().detach().requires_grad_(True), rather than torch.tensor(sourceTensor).\n",
            "  X_scaled_tensor = torch.tensor(combined_X, dtype=torch.float32).unsqueeze(1)\n"
          ]
        },
        {
          "output_type": "stream",
          "name": "stdout",
          "text": [
            "     Epoch 5: Train Loss = 0.6125, Val Loss = 13.6443\n",
            "     Epoch 10: Train Loss = 0.6033, Val Loss = 13.3283\n",
            "     Epoch 15: Train Loss = 0.6024, Val Loss = 13.6799\n",
            "     Epoch 20: Train Loss = 0.6048, Val Loss = 13.1818\n",
            "     Epoch 25: Train Loss = 0.6071, Val Loss = 13.0596\n",
            "     Epoch 30: Train Loss = 0.6006, Val Loss = 13.1605\n",
            "     Epoch 35: Train Loss = 0.6032, Val Loss = 12.7188\n",
            "     Epoch 40: Train Loss = 0.6038, Val Loss = 12.6630\n",
            "     Epoch 45: Train Loss = 0.6002, Val Loss = 12.8702\n",
            "     Epoch 50: Train Loss = 0.6017, Val Loss = 12.7771\n",
            "     Epoch 55: Train Loss = 0.5989, Val Loss = 12.3884\n",
            "     Epoch 60: Train Loss = 0.6015, Val Loss = 12.7619\n",
            "     Epoch 65: Train Loss = 0.6013, Val Loss = 12.8632\n",
            "     Epoch 70: Train Loss = 0.5987, Val Loss = 13.0194\n",
            "    ⏹️ Early stopping at epoch 74\n",
            " Run 5 finished with best val loss: 12.1667\n",
            "Original Error Percentage (Test Dataset): 10.7707%\n",
            "Corrected Error Percentage (Test Dataset): 10.7593%\n",
            " Finished configuration H=32, D=0.1, LR=0.0005, B=16 → Avg Val Loss: 11.8432, Avg Accuracy: 10.9106%\n",
            "\n",
            " Running 42/108: H=32, D=0.1, LR=0.0005, B=32\n",
            "   Run 1/5 ...      Epoch 0: Train Loss = 0.7227, Val Loss = 9.1183\n"
          ]
        },
        {
          "output_type": "stream",
          "name": "stderr",
          "text": [
            "<ipython-input-28-f2771d1cb762>:152: UserWarning: To copy construct from a tensor, it is recommended to use sourceTensor.clone().detach() or sourceTensor.clone().detach().requires_grad_(True), rather than torch.tensor(sourceTensor).\n",
            "  X_scaled_tensor = torch.tensor(combined_X, dtype=torch.float32).unsqueeze(1)\n"
          ]
        },
        {
          "output_type": "stream",
          "name": "stdout",
          "text": [
            "     Epoch 5: Train Loss = 0.6061, Val Loss = 13.1598\n",
            "     Epoch 10: Train Loss = 0.6067, Val Loss = 13.6251\n",
            "     Epoch 15: Train Loss = 0.6054, Val Loss = 13.5985\n",
            "     Epoch 20: Train Loss = 0.6039, Val Loss = 13.2423\n",
            "    ⏹️ Early stopping at epoch 20\n",
            " Run 1 finished with best val loss: 9.1183\n",
            "Original Error Percentage (Test Dataset): 10.7707%\n",
            "Corrected Error Percentage (Test Dataset): 11.1029%\n",
            "   Run 2/5 ...      Epoch 0: Train Loss = 0.6271, Val Loss = 10.1670\n"
          ]
        },
        {
          "output_type": "stream",
          "name": "stderr",
          "text": [
            "<ipython-input-28-f2771d1cb762>:152: UserWarning: To copy construct from a tensor, it is recommended to use sourceTensor.clone().detach() or sourceTensor.clone().detach().requires_grad_(True), rather than torch.tensor(sourceTensor).\n",
            "  X_scaled_tensor = torch.tensor(combined_X, dtype=torch.float32).unsqueeze(1)\n"
          ]
        },
        {
          "output_type": "stream",
          "name": "stdout",
          "text": [
            "     Epoch 5: Train Loss = 0.6084, Val Loss = 11.6982\n",
            "     Epoch 10: Train Loss = 0.6046, Val Loss = 12.5190\n",
            "     Epoch 15: Train Loss = 0.6064, Val Loss = 12.2532\n",
            "     Epoch 20: Train Loss = 0.6040, Val Loss = 12.4343\n",
            "    ⏹️ Early stopping at epoch 20\n",
            " Run 2 finished with best val loss: 10.1670\n",
            "Original Error Percentage (Test Dataset): 10.7707%\n",
            "Corrected Error Percentage (Test Dataset): 10.8043%\n",
            "   Run 3/5 ...      Epoch 0: Train Loss = 0.6171, Val Loss = 10.4959\n"
          ]
        },
        {
          "output_type": "stream",
          "name": "stderr",
          "text": [
            "<ipython-input-28-f2771d1cb762>:152: UserWarning: To copy construct from a tensor, it is recommended to use sourceTensor.clone().detach() or sourceTensor.clone().detach().requires_grad_(True), rather than torch.tensor(sourceTensor).\n",
            "  X_scaled_tensor = torch.tensor(combined_X, dtype=torch.float32).unsqueeze(1)\n"
          ]
        },
        {
          "output_type": "stream",
          "name": "stdout",
          "text": [
            "     Epoch 5: Train Loss = 0.6044, Val Loss = 12.1559\n",
            "     Epoch 10: Train Loss = 0.6046, Val Loss = 12.3806\n",
            "     Epoch 15: Train Loss = 0.6040, Val Loss = 13.1195\n",
            "     Epoch 20: Train Loss = 0.6023, Val Loss = 13.0433\n",
            "    ⏹️ Early stopping at epoch 20\n",
            " Run 3 finished with best val loss: 10.4959\n",
            "Original Error Percentage (Test Dataset): 10.7707%\n",
            "Corrected Error Percentage (Test Dataset): 10.9953%\n",
            "   Run 4/5 ...      Epoch 0: Train Loss = 0.6346, Val Loss = 9.7823\n"
          ]
        },
        {
          "output_type": "stream",
          "name": "stderr",
          "text": [
            "<ipython-input-28-f2771d1cb762>:152: UserWarning: To copy construct from a tensor, it is recommended to use sourceTensor.clone().detach() or sourceTensor.clone().detach().requires_grad_(True), rather than torch.tensor(sourceTensor).\n",
            "  X_scaled_tensor = torch.tensor(combined_X, dtype=torch.float32).unsqueeze(1)\n"
          ]
        },
        {
          "output_type": "stream",
          "name": "stdout",
          "text": [
            "     Epoch 5: Train Loss = 0.6076, Val Loss = 11.6349\n",
            "     Epoch 10: Train Loss = 0.6039, Val Loss = 12.0505\n",
            "     Epoch 15: Train Loss = 0.6029, Val Loss = 12.0931\n",
            "     Epoch 20: Train Loss = 0.6034, Val Loss = 12.4113\n",
            "    ⏹️ Early stopping at epoch 20\n",
            " Run 4 finished with best val loss: 9.7823\n",
            "Original Error Percentage (Test Dataset): 10.7707%\n",
            "Corrected Error Percentage (Test Dataset): 10.7412%\n",
            "   Run 5/5 ...      Epoch 0: Train Loss = 0.6182, Val Loss = 11.5333\n"
          ]
        },
        {
          "output_type": "stream",
          "name": "stderr",
          "text": [
            "<ipython-input-28-f2771d1cb762>:152: UserWarning: To copy construct from a tensor, it is recommended to use sourceTensor.clone().detach() or sourceTensor.clone().detach().requires_grad_(True), rather than torch.tensor(sourceTensor).\n",
            "  X_scaled_tensor = torch.tensor(combined_X, dtype=torch.float32).unsqueeze(1)\n"
          ]
        },
        {
          "output_type": "stream",
          "name": "stdout",
          "text": [
            "     Epoch 5: Train Loss = 0.6082, Val Loss = 12.5821\n",
            "     Epoch 10: Train Loss = 0.6038, Val Loss = 12.8106\n",
            "     Epoch 15: Train Loss = 0.6000, Val Loss = 13.0207\n",
            "     Epoch 20: Train Loss = 0.6026, Val Loss = 12.4763\n",
            "    ⏹️ Early stopping at epoch 20\n",
            " Run 5 finished with best val loss: 11.5333\n",
            "Original Error Percentage (Test Dataset): 10.7707%\n",
            "Corrected Error Percentage (Test Dataset): 10.8194%\n",
            " Finished configuration H=32, D=0.1, LR=0.0005, B=32 → Avg Val Loss: 10.2194, Avg Accuracy: 10.8926%\n",
            "\n",
            " Running 43/108: H=32, D=0.1, LR=0.001, B=8\n",
            "   Run 1/5 ... "
          ]
        },
        {
          "output_type": "stream",
          "name": "stderr",
          "text": [
            "<ipython-input-28-f2771d1cb762>:152: UserWarning: To copy construct from a tensor, it is recommended to use sourceTensor.clone().detach() or sourceTensor.clone().detach().requires_grad_(True), rather than torch.tensor(sourceTensor).\n",
            "  X_scaled_tensor = torch.tensor(combined_X, dtype=torch.float32).unsqueeze(1)\n"
          ]
        },
        {
          "output_type": "stream",
          "name": "stdout",
          "text": [
            "     Epoch 0: Train Loss = 0.6113, Val Loss = 12.9625\n",
            "     Epoch 5: Train Loss = 0.6025, Val Loss = 12.8137\n",
            "     Epoch 10: Train Loss = 0.6058, Val Loss = 12.6765\n",
            "     Epoch 15: Train Loss = 0.6007, Val Loss = 13.3400\n",
            "     Epoch 20: Train Loss = 0.6043, Val Loss = 12.6868\n",
            "     Epoch 25: Train Loss = 0.6014, Val Loss = 12.8089\n",
            "     Epoch 30: Train Loss = 0.5976, Val Loss = 13.4045\n",
            "    ⏹️ Early stopping at epoch 31\n",
            " Run 1 finished with best val loss: 12.1763\n",
            "Original Error Percentage (Test Dataset): 10.7707%\n",
            "Corrected Error Percentage (Test Dataset): 10.7800%\n",
            "   Run 2/5 ... "
          ]
        },
        {
          "output_type": "stream",
          "name": "stderr",
          "text": [
            "<ipython-input-28-f2771d1cb762>:152: UserWarning: To copy construct from a tensor, it is recommended to use sourceTensor.clone().detach() or sourceTensor.clone().detach().requires_grad_(True), rather than torch.tensor(sourceTensor).\n",
            "  X_scaled_tensor = torch.tensor(combined_X, dtype=torch.float32).unsqueeze(1)\n"
          ]
        },
        {
          "output_type": "stream",
          "name": "stdout",
          "text": [
            "     Epoch 0: Train Loss = 0.6108, Val Loss = 12.0410\n",
            "     Epoch 5: Train Loss = 0.6071, Val Loss = 12.4478\n",
            "     Epoch 10: Train Loss = 0.6033, Val Loss = 12.8922\n",
            "     Epoch 15: Train Loss = 0.6011, Val Loss = 13.0121\n",
            "     Epoch 20: Train Loss = 0.6032, Val Loss = 12.9784\n",
            "    ⏹️ Early stopping at epoch 20\n",
            " Run 2 finished with best val loss: 12.0410\n",
            "Original Error Percentage (Test Dataset): 10.7707%\n",
            "Corrected Error Percentage (Test Dataset): 10.9376%\n",
            "   Run 3/5 ... "
          ]
        },
        {
          "output_type": "stream",
          "name": "stderr",
          "text": [
            "<ipython-input-28-f2771d1cb762>:152: UserWarning: To copy construct from a tensor, it is recommended to use sourceTensor.clone().detach() or sourceTensor.clone().detach().requires_grad_(True), rather than torch.tensor(sourceTensor).\n",
            "  X_scaled_tensor = torch.tensor(combined_X, dtype=torch.float32).unsqueeze(1)\n"
          ]
        },
        {
          "output_type": "stream",
          "name": "stdout",
          "text": [
            "     Epoch 0: Train Loss = 0.6126, Val Loss = 11.8751\n",
            "     Epoch 5: Train Loss = 0.6055, Val Loss = 12.8299\n",
            "     Epoch 10: Train Loss = 0.6001, Val Loss = 12.5335\n",
            "     Epoch 15: Train Loss = 0.6036, Val Loss = 12.8147\n",
            "     Epoch 20: Train Loss = 0.6020, Val Loss = 13.3867\n",
            "    ⏹️ Early stopping at epoch 24\n",
            " Run 3 finished with best val loss: 11.6301\n",
            "Original Error Percentage (Test Dataset): 10.7707%\n",
            "Corrected Error Percentage (Test Dataset): 11.0769%\n",
            "   Run 4/5 ... "
          ]
        },
        {
          "output_type": "stream",
          "name": "stderr",
          "text": [
            "<ipython-input-28-f2771d1cb762>:152: UserWarning: To copy construct from a tensor, it is recommended to use sourceTensor.clone().detach() or sourceTensor.clone().detach().requires_grad_(True), rather than torch.tensor(sourceTensor).\n",
            "  X_scaled_tensor = torch.tensor(combined_X, dtype=torch.float32).unsqueeze(1)\n"
          ]
        },
        {
          "output_type": "stream",
          "name": "stdout",
          "text": [
            "     Epoch 0: Train Loss = 0.6108, Val Loss = 11.7243\n",
            "     Epoch 5: Train Loss = 0.6025, Val Loss = 12.4644\n",
            "     Epoch 10: Train Loss = 0.6049, Val Loss = 12.2438\n",
            "     Epoch 15: Train Loss = 0.6024, Val Loss = 12.4935\n",
            "     Epoch 20: Train Loss = 0.6028, Val Loss = 12.5732\n",
            "    ⏹️ Early stopping at epoch 20\n",
            " Run 4 finished with best val loss: 11.7243\n",
            "Original Error Percentage (Test Dataset): 10.7707%\n",
            "Corrected Error Percentage (Test Dataset): 10.8377%\n",
            "   Run 5/5 ... "
          ]
        },
        {
          "output_type": "stream",
          "name": "stderr",
          "text": [
            "<ipython-input-28-f2771d1cb762>:152: UserWarning: To copy construct from a tensor, it is recommended to use sourceTensor.clone().detach() or sourceTensor.clone().detach().requires_grad_(True), rather than torch.tensor(sourceTensor).\n",
            "  X_scaled_tensor = torch.tensor(combined_X, dtype=torch.float32).unsqueeze(1)\n"
          ]
        },
        {
          "output_type": "stream",
          "name": "stdout",
          "text": [
            "     Epoch 0: Train Loss = 0.6062, Val Loss = 14.1346\n",
            "     Epoch 5: Train Loss = 0.6046, Val Loss = 12.3060\n",
            "     Epoch 10: Train Loss = 0.6032, Val Loss = 13.4970\n",
            "     Epoch 15: Train Loss = 0.6060, Val Loss = 13.2421\n",
            "     Epoch 20: Train Loss = 0.6027, Val Loss = 13.1263\n",
            "     Epoch 25: Train Loss = 0.5995, Val Loss = 12.9029\n",
            "    ⏹️ Early stopping at epoch 27\n",
            " Run 5 finished with best val loss: 11.2652\n",
            "Original Error Percentage (Test Dataset): 10.7707%\n",
            "Corrected Error Percentage (Test Dataset): 10.8489%\n",
            " Finished configuration H=32, D=0.1, LR=0.001, B=8 → Avg Val Loss: 11.7674, Avg Accuracy: 10.8962%\n",
            "\n",
            " Running 44/108: H=32, D=0.1, LR=0.001, B=16\n",
            "   Run 1/5 ...      Epoch 0: Train Loss = 0.6246, Val Loss = 14.3160\n"
          ]
        },
        {
          "output_type": "stream",
          "name": "stderr",
          "text": [
            "<ipython-input-28-f2771d1cb762>:152: UserWarning: To copy construct from a tensor, it is recommended to use sourceTensor.clone().detach() or sourceTensor.clone().detach().requires_grad_(True), rather than torch.tensor(sourceTensor).\n",
            "  X_scaled_tensor = torch.tensor(combined_X, dtype=torch.float32).unsqueeze(1)\n"
          ]
        },
        {
          "output_type": "stream",
          "name": "stdout",
          "text": [
            "     Epoch 5: Train Loss = 0.6073, Val Loss = 13.3562\n",
            "     Epoch 10: Train Loss = 0.6096, Val Loss = 13.1359\n",
            "     Epoch 15: Train Loss = 0.6077, Val Loss = 12.9434\n",
            "     Epoch 20: Train Loss = 0.6036, Val Loss = 13.2602\n",
            "     Epoch 25: Train Loss = 0.6025, Val Loss = 12.8051\n",
            "     Epoch 30: Train Loss = 0.6018, Val Loss = 13.5462\n",
            "     Epoch 35: Train Loss = 0.6045, Val Loss = 12.8752\n",
            "     Epoch 40: Train Loss = 0.6041, Val Loss = 13.0111\n",
            "    ⏹️ Early stopping at epoch 41\n",
            " Run 1 finished with best val loss: 12.4480\n",
            "Original Error Percentage (Test Dataset): 10.7707%\n",
            "Corrected Error Percentage (Test Dataset): 10.9664%\n",
            "   Run 2/5 ... "
          ]
        },
        {
          "output_type": "stream",
          "name": "stderr",
          "text": [
            "<ipython-input-28-f2771d1cb762>:152: UserWarning: To copy construct from a tensor, it is recommended to use sourceTensor.clone().detach() or sourceTensor.clone().detach().requires_grad_(True), rather than torch.tensor(sourceTensor).\n",
            "  X_scaled_tensor = torch.tensor(combined_X, dtype=torch.float32).unsqueeze(1)\n"
          ]
        },
        {
          "output_type": "stream",
          "name": "stdout",
          "text": [
            "     Epoch 0: Train Loss = 0.6121, Val Loss = 14.0158\n",
            "     Epoch 5: Train Loss = 0.6041, Val Loss = 13.5830\n",
            "     Epoch 10: Train Loss = 0.6029, Val Loss = 13.3371\n",
            "     Epoch 15: Train Loss = 0.6010, Val Loss = 13.0256\n",
            "     Epoch 20: Train Loss = 0.6006, Val Loss = 13.2562\n",
            "     Epoch 25: Train Loss = 0.6004, Val Loss = 12.8937\n",
            "    ⏹️ Early stopping at epoch 27\n",
            " Run 2 finished with best val loss: 12.4399\n",
            "Original Error Percentage (Test Dataset): 10.7707%\n",
            "Corrected Error Percentage (Test Dataset): 10.9532%\n",
            "   Run 3/5 ... "
          ]
        },
        {
          "output_type": "stream",
          "name": "stderr",
          "text": [
            "<ipython-input-28-f2771d1cb762>:152: UserWarning: To copy construct from a tensor, it is recommended to use sourceTensor.clone().detach() or sourceTensor.clone().detach().requires_grad_(True), rather than torch.tensor(sourceTensor).\n",
            "  X_scaled_tensor = torch.tensor(combined_X, dtype=torch.float32).unsqueeze(1)\n"
          ]
        },
        {
          "output_type": "stream",
          "name": "stdout",
          "text": [
            "     Epoch 0: Train Loss = 0.6247, Val Loss = 11.6804\n",
            "     Epoch 5: Train Loss = 0.6018, Val Loss = 13.0314\n",
            "     Epoch 10: Train Loss = 0.5998, Val Loss = 13.2758\n",
            "     Epoch 15: Train Loss = 0.6030, Val Loss = 12.9139\n",
            "     Epoch 20: Train Loss = 0.6033, Val Loss = 12.6974\n",
            "    ⏹️ Early stopping at epoch 20\n",
            " Run 3 finished with best val loss: 11.6804\n",
            "Original Error Percentage (Test Dataset): 10.7707%\n",
            "Corrected Error Percentage (Test Dataset): 10.8481%\n",
            "   Run 4/5 ...      Epoch 0: Train Loss = 0.6128, Val Loss = 12.1920\n"
          ]
        },
        {
          "output_type": "stream",
          "name": "stderr",
          "text": [
            "<ipython-input-28-f2771d1cb762>:152: UserWarning: To copy construct from a tensor, it is recommended to use sourceTensor.clone().detach() or sourceTensor.clone().detach().requires_grad_(True), rather than torch.tensor(sourceTensor).\n",
            "  X_scaled_tensor = torch.tensor(combined_X, dtype=torch.float32).unsqueeze(1)\n"
          ]
        },
        {
          "output_type": "stream",
          "name": "stdout",
          "text": [
            "     Epoch 5: Train Loss = 0.6060, Val Loss = 12.3535\n",
            "     Epoch 10: Train Loss = 0.6080, Val Loss = 12.6171\n",
            "     Epoch 15: Train Loss = 0.6040, Val Loss = 13.0579\n",
            "     Epoch 20: Train Loss = 0.6023, Val Loss = 12.6828\n",
            "    ⏹️ Early stopping at epoch 24\n",
            " Run 4 finished with best val loss: 12.1671\n",
            "Original Error Percentage (Test Dataset): 10.7707%\n",
            "Corrected Error Percentage (Test Dataset): 10.9347%\n",
            "   Run 5/5 ...      Epoch 0: Train Loss = 0.6910, Val Loss = 12.2503\n"
          ]
        },
        {
          "output_type": "stream",
          "name": "stderr",
          "text": [
            "<ipython-input-28-f2771d1cb762>:152: UserWarning: To copy construct from a tensor, it is recommended to use sourceTensor.clone().detach() or sourceTensor.clone().detach().requires_grad_(True), rather than torch.tensor(sourceTensor).\n",
            "  X_scaled_tensor = torch.tensor(combined_X, dtype=torch.float32).unsqueeze(1)\n"
          ]
        },
        {
          "output_type": "stream",
          "name": "stdout",
          "text": [
            "     Epoch 5: Train Loss = 0.6141, Val Loss = 12.2282\n",
            "     Epoch 10: Train Loss = 0.6024, Val Loss = 13.6621\n",
            "     Epoch 15: Train Loss = 0.6031, Val Loss = 13.3677\n",
            "     Epoch 20: Train Loss = 0.6077, Val Loss = 12.6245\n",
            "     Epoch 25: Train Loss = 0.6026, Val Loss = 13.0071\n",
            "    ⏹️ Early stopping at epoch 25\n",
            " Run 5 finished with best val loss: 12.2282\n",
            "Original Error Percentage (Test Dataset): 10.7707%\n",
            "Corrected Error Percentage (Test Dataset): 10.9812%\n",
            " Finished configuration H=32, D=0.1, LR=0.001, B=16 → Avg Val Loss: 12.1927, Avg Accuracy: 10.9367%\n",
            "\n",
            " Running 45/108: H=32, D=0.1, LR=0.001, B=32\n",
            "   Run 1/5 ...      Epoch 0: Train Loss = 0.6200, Val Loss = 12.0451\n"
          ]
        },
        {
          "output_type": "stream",
          "name": "stderr",
          "text": [
            "<ipython-input-28-f2771d1cb762>:152: UserWarning: To copy construct from a tensor, it is recommended to use sourceTensor.clone().detach() or sourceTensor.clone().detach().requires_grad_(True), rather than torch.tensor(sourceTensor).\n",
            "  X_scaled_tensor = torch.tensor(combined_X, dtype=torch.float32).unsqueeze(1)\n"
          ]
        },
        {
          "output_type": "stream",
          "name": "stdout",
          "text": [
            "     Epoch 5: Train Loss = 0.6032, Val Loss = 13.5829\n",
            "     Epoch 10: Train Loss = 0.6062, Val Loss = 13.1928\n",
            "     Epoch 15: Train Loss = 0.6006, Val Loss = 13.2249\n",
            "     Epoch 20: Train Loss = 0.6034, Val Loss = 13.2066\n",
            "    ⏹️ Early stopping at epoch 20\n",
            " Run 1 finished with best val loss: 12.0451\n",
            "Original Error Percentage (Test Dataset): 10.7707%\n",
            "Corrected Error Percentage (Test Dataset): 11.0908%\n",
            "   Run 2/5 ...      Epoch 0: Train Loss = 0.6133, Val Loss = 13.2853\n"
          ]
        },
        {
          "output_type": "stream",
          "name": "stderr",
          "text": [
            "<ipython-input-28-f2771d1cb762>:152: UserWarning: To copy construct from a tensor, it is recommended to use sourceTensor.clone().detach() or sourceTensor.clone().detach().requires_grad_(True), rather than torch.tensor(sourceTensor).\n",
            "  X_scaled_tensor = torch.tensor(combined_X, dtype=torch.float32).unsqueeze(1)\n"
          ]
        },
        {
          "output_type": "stream",
          "name": "stdout",
          "text": [
            "     Epoch 5: Train Loss = 0.6060, Val Loss = 13.5684\n",
            "     Epoch 10: Train Loss = 0.6035, Val Loss = 13.0072\n",
            "     Epoch 15: Train Loss = 0.6033, Val Loss = 13.0954\n",
            "     Epoch 20: Train Loss = 0.6043, Val Loss = 12.8126\n",
            "     Epoch 25: Train Loss = 0.6021, Val Loss = 13.0626\n",
            "    ⏹️ Early stopping at epoch 29\n",
            " Run 2 finished with best val loss: 12.5785\n",
            "Original Error Percentage (Test Dataset): 10.7707%\n",
            "Corrected Error Percentage (Test Dataset): 10.9547%\n",
            "   Run 3/5 ...      Epoch 0: Train Loss = 0.6226, Val Loss = 13.3135\n"
          ]
        },
        {
          "output_type": "stream",
          "name": "stderr",
          "text": [
            "<ipython-input-28-f2771d1cb762>:152: UserWarning: To copy construct from a tensor, it is recommended to use sourceTensor.clone().detach() or sourceTensor.clone().detach().requires_grad_(True), rather than torch.tensor(sourceTensor).\n",
            "  X_scaled_tensor = torch.tensor(combined_X, dtype=torch.float32).unsqueeze(1)\n"
          ]
        },
        {
          "output_type": "stream",
          "name": "stdout",
          "text": [
            "     Epoch 5: Train Loss = 0.6019, Val Loss = 12.9738\n",
            "     Epoch 10: Train Loss = 0.6040, Val Loss = 12.6031\n",
            "     Epoch 15: Train Loss = 0.6021, Val Loss = 13.0809\n",
            "     Epoch 20: Train Loss = 0.6050, Val Loss = 13.0546\n",
            "     Epoch 25: Train Loss = 0.6039, Val Loss = 12.9657\n",
            "     Epoch 30: Train Loss = 0.6011, Val Loss = 13.2988\n",
            "     Epoch 35: Train Loss = 0.6009, Val Loss = 13.4798\n",
            "     Epoch 40: Train Loss = 0.6038, Val Loss = 13.1222\n",
            "     Epoch 45: Train Loss = 0.6012, Val Loss = 13.1364\n",
            "    ⏹️ Early stopping at epoch 47\n",
            " Run 3 finished with best val loss: 12.3584\n",
            "Original Error Percentage (Test Dataset): 10.7707%\n",
            "Corrected Error Percentage (Test Dataset): 10.9495%\n",
            "   Run 4/5 ... "
          ]
        },
        {
          "output_type": "stream",
          "name": "stderr",
          "text": [
            "<ipython-input-28-f2771d1cb762>:152: UserWarning: To copy construct from a tensor, it is recommended to use sourceTensor.clone().detach() or sourceTensor.clone().detach().requires_grad_(True), rather than torch.tensor(sourceTensor).\n",
            "  X_scaled_tensor = torch.tensor(combined_X, dtype=torch.float32).unsqueeze(1)\n"
          ]
        },
        {
          "output_type": "stream",
          "name": "stdout",
          "text": [
            "     Epoch 0: Train Loss = 0.6435, Val Loss = 11.8353\n",
            "     Epoch 5: Train Loss = 0.6021, Val Loss = 12.4644\n",
            "     Epoch 10: Train Loss = 0.6033, Val Loss = 12.7922\n",
            "     Epoch 15: Train Loss = 0.6031, Val Loss = 12.8673\n",
            "     Epoch 20: Train Loss = 0.6030, Val Loss = 12.9362\n",
            "    ⏹️ Early stopping at epoch 20\n",
            " Run 4 finished with best val loss: 11.8353\n",
            "Original Error Percentage (Test Dataset): 10.7707%\n",
            "Corrected Error Percentage (Test Dataset): 10.9230%\n",
            "   Run 5/5 ...      Epoch 0: Train Loss = 0.6760, Val Loss = 10.7731\n"
          ]
        },
        {
          "output_type": "stream",
          "name": "stderr",
          "text": [
            "<ipython-input-28-f2771d1cb762>:152: UserWarning: To copy construct from a tensor, it is recommended to use sourceTensor.clone().detach() or sourceTensor.clone().detach().requires_grad_(True), rather than torch.tensor(sourceTensor).\n",
            "  X_scaled_tensor = torch.tensor(combined_X, dtype=torch.float32).unsqueeze(1)\n"
          ]
        },
        {
          "output_type": "stream",
          "name": "stdout",
          "text": [
            "     Epoch 5: Train Loss = 0.6055, Val Loss = 14.4406\n",
            "     Epoch 10: Train Loss = 0.6038, Val Loss = 13.3262\n",
            "     Epoch 15: Train Loss = 0.6057, Val Loss = 13.5424\n",
            "     Epoch 20: Train Loss = 0.6017, Val Loss = 13.5613\n",
            "    ⏹️ Early stopping at epoch 20\n",
            " Run 5 finished with best val loss: 10.7731\n",
            "Original Error Percentage (Test Dataset): 10.7707%\n",
            "Corrected Error Percentage (Test Dataset): 11.2125%\n",
            " Finished configuration H=32, D=0.1, LR=0.001, B=32 → Avg Val Loss: 11.9181, Avg Accuracy: 11.0261%\n",
            "\n",
            " Running 46/108: H=32, D=0.2, LR=0.0001, B=8\n",
            "   Run 1/5 ... "
          ]
        },
        {
          "output_type": "stream",
          "name": "stderr",
          "text": [
            "<ipython-input-28-f2771d1cb762>:152: UserWarning: To copy construct from a tensor, it is recommended to use sourceTensor.clone().detach() or sourceTensor.clone().detach().requires_grad_(True), rather than torch.tensor(sourceTensor).\n",
            "  X_scaled_tensor = torch.tensor(combined_X, dtype=torch.float32).unsqueeze(1)\n"
          ]
        },
        {
          "output_type": "stream",
          "name": "stdout",
          "text": [
            "     Epoch 0: Train Loss = 0.6275, Val Loss = 11.3701\n",
            "     Epoch 5: Train Loss = 0.6130, Val Loss = 12.4689\n",
            "     Epoch 10: Train Loss = 0.6093, Val Loss = 13.0271\n",
            "     Epoch 15: Train Loss = 0.6071, Val Loss = 13.2140\n",
            "     Epoch 20: Train Loss = 0.6050, Val Loss = 13.1421\n",
            "    ⏹️ Early stopping at epoch 20\n",
            " Run 1 finished with best val loss: 11.3701\n",
            "Original Error Percentage (Test Dataset): 10.7707%\n",
            "Corrected Error Percentage (Test Dataset): 11.1116%\n",
            "   Run 2/5 ... "
          ]
        },
        {
          "output_type": "stream",
          "name": "stderr",
          "text": [
            "<ipython-input-28-f2771d1cb762>:152: UserWarning: To copy construct from a tensor, it is recommended to use sourceTensor.clone().detach() or sourceTensor.clone().detach().requires_grad_(True), rather than torch.tensor(sourceTensor).\n",
            "  X_scaled_tensor = torch.tensor(combined_X, dtype=torch.float32).unsqueeze(1)\n"
          ]
        },
        {
          "output_type": "stream",
          "name": "stdout",
          "text": [
            "     Epoch 0: Train Loss = 0.6356, Val Loss = 12.2027\n",
            "     Epoch 5: Train Loss = 0.6123, Val Loss = 12.6365\n",
            "     Epoch 10: Train Loss = 0.6158, Val Loss = 12.8289\n",
            "     Epoch 15: Train Loss = 0.6068, Val Loss = 12.8451\n",
            "     Epoch 20: Train Loss = 0.6078, Val Loss = 12.7324\n",
            "    ⏹️ Early stopping at epoch 20\n",
            " Run 2 finished with best val loss: 12.2027\n",
            "Original Error Percentage (Test Dataset): 10.7707%\n",
            "Corrected Error Percentage (Test Dataset): 10.8920%\n",
            "   Run 3/5 ... "
          ]
        },
        {
          "output_type": "stream",
          "name": "stderr",
          "text": [
            "<ipython-input-28-f2771d1cb762>:152: UserWarning: To copy construct from a tensor, it is recommended to use sourceTensor.clone().detach() or sourceTensor.clone().detach().requires_grad_(True), rather than torch.tensor(sourceTensor).\n",
            "  X_scaled_tensor = torch.tensor(combined_X, dtype=torch.float32).unsqueeze(1)\n"
          ]
        },
        {
          "output_type": "stream",
          "name": "stdout",
          "text": [
            "     Epoch 0: Train Loss = 0.6680, Val Loss = 9.4317\n",
            "     Epoch 5: Train Loss = 0.6132, Val Loss = 11.9554\n",
            "     Epoch 10: Train Loss = 0.6113, Val Loss = 12.4722\n",
            "     Epoch 15: Train Loss = 0.6091, Val Loss = 12.4685\n",
            "     Epoch 20: Train Loss = 0.6080, Val Loss = 12.4214\n",
            "    ⏹️ Early stopping at epoch 20\n",
            " Run 3 finished with best val loss: 9.4317\n",
            "Original Error Percentage (Test Dataset): 10.7707%\n",
            "Corrected Error Percentage (Test Dataset): 10.7781%\n",
            "   Run 4/5 ... "
          ]
        },
        {
          "output_type": "stream",
          "name": "stderr",
          "text": [
            "<ipython-input-28-f2771d1cb762>:152: UserWarning: To copy construct from a tensor, it is recommended to use sourceTensor.clone().detach() or sourceTensor.clone().detach().requires_grad_(True), rather than torch.tensor(sourceTensor).\n",
            "  X_scaled_tensor = torch.tensor(combined_X, dtype=torch.float32).unsqueeze(1)\n"
          ]
        },
        {
          "output_type": "stream",
          "name": "stdout",
          "text": [
            "     Epoch 0: Train Loss = 0.6512, Val Loss = 8.7927\n",
            "     Epoch 5: Train Loss = 0.6079, Val Loss = 10.8734\n",
            "     Epoch 10: Train Loss = 0.6051, Val Loss = 12.2370\n",
            "     Epoch 15: Train Loss = 0.6000, Val Loss = 12.8182\n",
            "     Epoch 20: Train Loss = 0.6068, Val Loss = 12.6429\n",
            "    ⏹️ Early stopping at epoch 20\n",
            " Run 4 finished with best val loss: 8.7927\n",
            "Original Error Percentage (Test Dataset): 10.7707%\n",
            "Corrected Error Percentage (Test Dataset): 10.8406%\n",
            "   Run 5/5 ... "
          ]
        },
        {
          "output_type": "stream",
          "name": "stderr",
          "text": [
            "<ipython-input-28-f2771d1cb762>:152: UserWarning: To copy construct from a tensor, it is recommended to use sourceTensor.clone().detach() or sourceTensor.clone().detach().requires_grad_(True), rather than torch.tensor(sourceTensor).\n",
            "  X_scaled_tensor = torch.tensor(combined_X, dtype=torch.float32).unsqueeze(1)\n"
          ]
        },
        {
          "output_type": "stream",
          "name": "stdout",
          "text": [
            "     Epoch 0: Train Loss = 0.6626, Val Loss = 10.0005\n",
            "     Epoch 5: Train Loss = 0.6092, Val Loss = 12.4915\n",
            "     Epoch 10: Train Loss = 0.6113, Val Loss = 12.8342\n",
            "     Epoch 15: Train Loss = 0.6056, Val Loss = 13.0215\n",
            "     Epoch 20: Train Loss = 0.6099, Val Loss = 13.1854\n",
            "    ⏹️ Early stopping at epoch 20\n",
            " Run 5 finished with best val loss: 10.0005\n",
            "Original Error Percentage (Test Dataset): 10.7707%\n",
            "Corrected Error Percentage (Test Dataset): 11.0738%\n",
            " Finished configuration H=32, D=0.2, LR=0.0001, B=8 → Avg Val Loss: 10.3595, Avg Accuracy: 10.9392%\n",
            "\n",
            " Running 47/108: H=32, D=0.2, LR=0.0001, B=16\n",
            "   Run 1/5 ...      Epoch 0: Train Loss = 0.6227, Val Loss = 9.5988\n"
          ]
        },
        {
          "output_type": "stream",
          "name": "stderr",
          "text": [
            "<ipython-input-28-f2771d1cb762>:152: UserWarning: To copy construct from a tensor, it is recommended to use sourceTensor.clone().detach() or sourceTensor.clone().detach().requires_grad_(True), rather than torch.tensor(sourceTensor).\n",
            "  X_scaled_tensor = torch.tensor(combined_X, dtype=torch.float32).unsqueeze(1)\n"
          ]
        },
        {
          "output_type": "stream",
          "name": "stdout",
          "text": [
            "     Epoch 5: Train Loss = 0.6190, Val Loss = 10.5882\n",
            "     Epoch 10: Train Loss = 0.6122, Val Loss = 11.2608\n",
            "     Epoch 15: Train Loss = 0.6077, Val Loss = 11.6443\n",
            "     Epoch 20: Train Loss = 0.6042, Val Loss = 11.9851\n",
            "    ⏹️ Early stopping at epoch 20\n",
            " Run 1 finished with best val loss: 9.5988\n",
            "Original Error Percentage (Test Dataset): 10.7707%\n",
            "Corrected Error Percentage (Test Dataset): 10.5946%\n",
            "   Run 2/5 ...      Epoch 0: Train Loss = 0.6339, Val Loss = 16.2294\n"
          ]
        },
        {
          "output_type": "stream",
          "name": "stderr",
          "text": [
            "<ipython-input-28-f2771d1cb762>:152: UserWarning: To copy construct from a tensor, it is recommended to use sourceTensor.clone().detach() or sourceTensor.clone().detach().requires_grad_(True), rather than torch.tensor(sourceTensor).\n",
            "  X_scaled_tensor = torch.tensor(combined_X, dtype=torch.float32).unsqueeze(1)\n"
          ]
        },
        {
          "output_type": "stream",
          "name": "stdout",
          "text": [
            "     Epoch 5: Train Loss = 0.6127, Val Loss = 14.4827\n",
            "     Epoch 10: Train Loss = 0.6084, Val Loss = 13.7946\n",
            "     Epoch 15: Train Loss = 0.6137, Val Loss = 13.5152\n",
            "     Epoch 20: Train Loss = 0.6089, Val Loss = 13.2615\n",
            "     Epoch 25: Train Loss = 0.6127, Val Loss = 12.9328\n",
            "     Epoch 30: Train Loss = 0.6133, Val Loss = 12.7523\n",
            "     Epoch 35: Train Loss = 0.6077, Val Loss = 12.7271\n",
            "     Epoch 40: Train Loss = 0.6039, Val Loss = 12.5970\n",
            "     Epoch 45: Train Loss = 0.6067, Val Loss = 12.6334\n",
            "     Epoch 50: Train Loss = 0.6094, Val Loss = 12.4924\n",
            "     Epoch 55: Train Loss = 0.6053, Val Loss = 12.6122\n",
            "     Epoch 60: Train Loss = 0.6047, Val Loss = 12.5210\n",
            "     Epoch 65: Train Loss = 0.6029, Val Loss = 12.3597\n",
            "     Epoch 70: Train Loss = 0.6021, Val Loss = 12.4526\n",
            "     Epoch 75: Train Loss = 0.6009, Val Loss = 12.4237\n",
            "     Epoch 80: Train Loss = 0.6060, Val Loss = 12.3127\n",
            "     Epoch 85: Train Loss = 0.6060, Val Loss = 12.4246\n",
            "    ⏹️ Early stopping at epoch 86\n",
            " Run 2 finished with best val loss: 12.2922\n",
            "Original Error Percentage (Test Dataset): 10.7707%\n",
            "Corrected Error Percentage (Test Dataset): 10.7275%\n",
            "   Run 3/5 ... "
          ]
        },
        {
          "output_type": "stream",
          "name": "stderr",
          "text": [
            "<ipython-input-28-f2771d1cb762>:152: UserWarning: To copy construct from a tensor, it is recommended to use sourceTensor.clone().detach() or sourceTensor.clone().detach().requires_grad_(True), rather than torch.tensor(sourceTensor).\n",
            "  X_scaled_tensor = torch.tensor(combined_X, dtype=torch.float32).unsqueeze(1)\n"
          ]
        },
        {
          "output_type": "stream",
          "name": "stdout",
          "text": [
            "     Epoch 0: Train Loss = 0.6292, Val Loss = 11.2200\n",
            "     Epoch 5: Train Loss = 0.6230, Val Loss = 12.4115\n",
            "     Epoch 10: Train Loss = 0.6108, Val Loss = 12.9608\n",
            "     Epoch 15: Train Loss = 0.6124, Val Loss = 13.1773\n",
            "     Epoch 20: Train Loss = 0.6102, Val Loss = 13.0569\n",
            "    ⏹️ Early stopping at epoch 20\n",
            " Run 3 finished with best val loss: 11.2200\n",
            "Original Error Percentage (Test Dataset): 10.7707%\n",
            "Corrected Error Percentage (Test Dataset): 10.9986%\n",
            "   Run 4/5 ... "
          ]
        },
        {
          "output_type": "stream",
          "name": "stderr",
          "text": [
            "<ipython-input-28-f2771d1cb762>:152: UserWarning: To copy construct from a tensor, it is recommended to use sourceTensor.clone().detach() or sourceTensor.clone().detach().requires_grad_(True), rather than torch.tensor(sourceTensor).\n",
            "  X_scaled_tensor = torch.tensor(combined_X, dtype=torch.float32).unsqueeze(1)\n"
          ]
        },
        {
          "output_type": "stream",
          "name": "stdout",
          "text": [
            "     Epoch 0: Train Loss = 0.6305, Val Loss = 12.0774\n",
            "     Epoch 5: Train Loss = 0.6116, Val Loss = 12.6035\n",
            "     Epoch 10: Train Loss = 0.6101, Val Loss = 12.9670\n",
            "     Epoch 15: Train Loss = 0.6066, Val Loss = 12.9207\n",
            "     Epoch 20: Train Loss = 0.6139, Val Loss = 13.0044\n",
            "    ⏹️ Early stopping at epoch 20\n",
            " Run 4 finished with best val loss: 12.0774\n",
            "Original Error Percentage (Test Dataset): 10.7707%\n",
            "Corrected Error Percentage (Test Dataset): 10.9653%\n",
            "   Run 5/5 ...      Epoch 0: Train Loss = 0.6378, Val Loss = 9.1715\n"
          ]
        },
        {
          "output_type": "stream",
          "name": "stderr",
          "text": [
            "<ipython-input-28-f2771d1cb762>:152: UserWarning: To copy construct from a tensor, it is recommended to use sourceTensor.clone().detach() or sourceTensor.clone().detach().requires_grad_(True), rather than torch.tensor(sourceTensor).\n",
            "  X_scaled_tensor = torch.tensor(combined_X, dtype=torch.float32).unsqueeze(1)\n"
          ]
        },
        {
          "output_type": "stream",
          "name": "stdout",
          "text": [
            "     Epoch 5: Train Loss = 0.6101, Val Loss = 11.2785\n",
            "     Epoch 10: Train Loss = 0.6071, Val Loss = 12.4799\n",
            "     Epoch 15: Train Loss = 0.6072, Val Loss = 12.8880\n",
            "     Epoch 20: Train Loss = 0.6036, Val Loss = 12.9350\n",
            "    ⏹️ Early stopping at epoch 20\n",
            " Run 5 finished with best val loss: 9.1715\n",
            "Original Error Percentage (Test Dataset): 10.7707%\n",
            "Corrected Error Percentage (Test Dataset): 11.0110%\n",
            " Finished configuration H=32, D=0.2, LR=0.0001, B=16 → Avg Val Loss: 10.8720, Avg Accuracy: 10.8594%\n",
            "\n",
            " Running 48/108: H=32, D=0.2, LR=0.0001, B=32\n",
            "   Run 1/5 ...      Epoch 0: Train Loss = 0.6540, Val Loss = 13.3184\n"
          ]
        },
        {
          "output_type": "stream",
          "name": "stderr",
          "text": [
            "<ipython-input-28-f2771d1cb762>:152: UserWarning: To copy construct from a tensor, it is recommended to use sourceTensor.clone().detach() or sourceTensor.clone().detach().requires_grad_(True), rather than torch.tensor(sourceTensor).\n",
            "  X_scaled_tensor = torch.tensor(combined_X, dtype=torch.float32).unsqueeze(1)\n"
          ]
        },
        {
          "output_type": "stream",
          "name": "stdout",
          "text": [
            "     Epoch 5: Train Loss = 0.6215, Val Loss = 12.5083\n",
            "     Epoch 10: Train Loss = 0.6127, Val Loss = 12.5078\n",
            "     Epoch 15: Train Loss = 0.6095, Val Loss = 12.7236\n",
            "     Epoch 20: Train Loss = 0.6047, Val Loss = 12.6198\n",
            "     Epoch 25: Train Loss = 0.6050, Val Loss = 12.5904\n",
            "    ⏹️ Early stopping at epoch 26\n",
            " Run 1 finished with best val loss: 12.3436\n",
            "Original Error Percentage (Test Dataset): 10.7707%\n",
            "Corrected Error Percentage (Test Dataset): 10.8272%\n",
            "   Run 2/5 ...      Epoch 0: Train Loss = 0.6818, Val Loss = 10.1490\n"
          ]
        },
        {
          "output_type": "stream",
          "name": "stderr",
          "text": [
            "<ipython-input-28-f2771d1cb762>:152: UserWarning: To copy construct from a tensor, it is recommended to use sourceTensor.clone().detach() or sourceTensor.clone().detach().requires_grad_(True), rather than torch.tensor(sourceTensor).\n",
            "  X_scaled_tensor = torch.tensor(combined_X, dtype=torch.float32).unsqueeze(1)\n"
          ]
        },
        {
          "output_type": "stream",
          "name": "stdout",
          "text": [
            "     Epoch 5: Train Loss = 0.6313, Val Loss = 12.0272\n",
            "     Epoch 10: Train Loss = 0.6134, Val Loss = 13.0458\n",
            "     Epoch 15: Train Loss = 0.6173, Val Loss = 13.5431\n",
            "     Epoch 20: Train Loss = 0.6160, Val Loss = 13.3787\n",
            "    ⏹️ Early stopping at epoch 20\n",
            " Run 2 finished with best val loss: 10.1490\n",
            "Original Error Percentage (Test Dataset): 10.7707%\n",
            "Corrected Error Percentage (Test Dataset): 11.1481%\n",
            "   Run 3/5 ...      Epoch 0: Train Loss = 0.6396, Val Loss = 10.5498\n"
          ]
        },
        {
          "output_type": "stream",
          "name": "stderr",
          "text": [
            "<ipython-input-28-f2771d1cb762>:152: UserWarning: To copy construct from a tensor, it is recommended to use sourceTensor.clone().detach() or sourceTensor.clone().detach().requires_grad_(True), rather than torch.tensor(sourceTensor).\n",
            "  X_scaled_tensor = torch.tensor(combined_X, dtype=torch.float32).unsqueeze(1)\n"
          ]
        },
        {
          "output_type": "stream",
          "name": "stdout",
          "text": [
            "     Epoch 5: Train Loss = 0.6054, Val Loss = 11.7637\n",
            "     Epoch 10: Train Loss = 0.6124, Val Loss = 12.4524\n",
            "     Epoch 15: Train Loss = 0.6054, Val Loss = 12.9272\n",
            "     Epoch 20: Train Loss = 0.6145, Val Loss = 12.9048\n",
            "    ⏹️ Early stopping at epoch 20\n",
            " Run 3 finished with best val loss: 10.5498\n",
            "Original Error Percentage (Test Dataset): 10.7707%\n",
            "Corrected Error Percentage (Test Dataset): 10.9024%\n",
            "   Run 4/5 ...      Epoch 0: Train Loss = 0.6257, Val Loss = 12.6556\n"
          ]
        },
        {
          "output_type": "stream",
          "name": "stderr",
          "text": [
            "<ipython-input-28-f2771d1cb762>:152: UserWarning: To copy construct from a tensor, it is recommended to use sourceTensor.clone().detach() or sourceTensor.clone().detach().requires_grad_(True), rather than torch.tensor(sourceTensor).\n",
            "  X_scaled_tensor = torch.tensor(combined_X, dtype=torch.float32).unsqueeze(1)\n"
          ]
        },
        {
          "output_type": "stream",
          "name": "stdout",
          "text": [
            "     Epoch 5: Train Loss = 0.6126, Val Loss = 12.9423\n",
            "     Epoch 10: Train Loss = 0.6067, Val Loss = 13.3610\n",
            "     Epoch 15: Train Loss = 0.6173, Val Loss = 13.4420\n",
            "     Epoch 20: Train Loss = 0.6117, Val Loss = 13.4050\n",
            "    ⏹️ Early stopping at epoch 20\n",
            " Run 4 finished with best val loss: 12.6556\n",
            "Original Error Percentage (Test Dataset): 10.7707%\n",
            "Corrected Error Percentage (Test Dataset): 11.1146%\n",
            "   Run 5/5 ...      Epoch 0: Train Loss = 0.6825, Val Loss = 9.0893\n"
          ]
        },
        {
          "output_type": "stream",
          "name": "stderr",
          "text": [
            "<ipython-input-28-f2771d1cb762>:152: UserWarning: To copy construct from a tensor, it is recommended to use sourceTensor.clone().detach() or sourceTensor.clone().detach().requires_grad_(True), rather than torch.tensor(sourceTensor).\n",
            "  X_scaled_tensor = torch.tensor(combined_X, dtype=torch.float32).unsqueeze(1)\n"
          ]
        },
        {
          "output_type": "stream",
          "name": "stdout",
          "text": [
            "     Epoch 5: Train Loss = 0.6344, Val Loss = 10.6451\n",
            "     Epoch 10: Train Loss = 0.6186, Val Loss = 11.8632\n",
            "     Epoch 15: Train Loss = 0.6143, Val Loss = 12.4578\n",
            "     Epoch 20: Train Loss = 0.6075, Val Loss = 12.8250\n",
            "    ⏹️ Early stopping at epoch 20\n",
            " Run 5 finished with best val loss: 9.0893\n",
            "Original Error Percentage (Test Dataset): 10.7707%\n",
            "Corrected Error Percentage (Test Dataset): 10.9329%\n",
            " Finished configuration H=32, D=0.2, LR=0.0001, B=32 → Avg Val Loss: 10.9575, Avg Accuracy: 10.9850%\n",
            "\n",
            " Running 49/108: H=32, D=0.2, LR=0.0005, B=8\n",
            "   Run 1/5 ... "
          ]
        },
        {
          "output_type": "stream",
          "name": "stderr",
          "text": [
            "<ipython-input-28-f2771d1cb762>:152: UserWarning: To copy construct from a tensor, it is recommended to use sourceTensor.clone().detach() or sourceTensor.clone().detach().requires_grad_(True), rather than torch.tensor(sourceTensor).\n",
            "  X_scaled_tensor = torch.tensor(combined_X, dtype=torch.float32).unsqueeze(1)\n"
          ]
        },
        {
          "output_type": "stream",
          "name": "stdout",
          "text": [
            "     Epoch 0: Train Loss = 0.6471, Val Loss = 10.4435\n",
            "     Epoch 5: Train Loss = 0.6050, Val Loss = 12.7525\n",
            "     Epoch 10: Train Loss = 0.6036, Val Loss = 13.3968\n",
            "     Epoch 15: Train Loss = 0.6041, Val Loss = 12.9669\n",
            "     Epoch 20: Train Loss = 0.6021, Val Loss = 13.2136\n",
            "    ⏹️ Early stopping at epoch 20\n",
            " Run 1 finished with best val loss: 10.4435\n",
            "Original Error Percentage (Test Dataset): 10.7707%\n",
            "Corrected Error Percentage (Test Dataset): 11.0458%\n",
            "   Run 2/5 ... "
          ]
        },
        {
          "output_type": "stream",
          "name": "stderr",
          "text": [
            "<ipython-input-28-f2771d1cb762>:152: UserWarning: To copy construct from a tensor, it is recommended to use sourceTensor.clone().detach() or sourceTensor.clone().detach().requires_grad_(True), rather than torch.tensor(sourceTensor).\n",
            "  X_scaled_tensor = torch.tensor(combined_X, dtype=torch.float32).unsqueeze(1)\n"
          ]
        },
        {
          "output_type": "stream",
          "name": "stdout",
          "text": [
            "     Epoch 0: Train Loss = 0.6488, Val Loss = 10.9301\n",
            "     Epoch 5: Train Loss = 0.6047, Val Loss = 12.5227\n",
            "     Epoch 10: Train Loss = 0.6068, Val Loss = 13.0661\n",
            "     Epoch 15: Train Loss = 0.6063, Val Loss = 12.9611\n",
            "     Epoch 20: Train Loss = 0.6114, Val Loss = 12.6652\n",
            "    ⏹️ Early stopping at epoch 20\n",
            " Run 2 finished with best val loss: 10.9301\n",
            "Original Error Percentage (Test Dataset): 10.7707%\n",
            "Corrected Error Percentage (Test Dataset): 10.8807%\n",
            "   Run 3/5 ... "
          ]
        },
        {
          "output_type": "stream",
          "name": "stderr",
          "text": [
            "<ipython-input-28-f2771d1cb762>:152: UserWarning: To copy construct from a tensor, it is recommended to use sourceTensor.clone().detach() or sourceTensor.clone().detach().requires_grad_(True), rather than torch.tensor(sourceTensor).\n",
            "  X_scaled_tensor = torch.tensor(combined_X, dtype=torch.float32).unsqueeze(1)\n"
          ]
        },
        {
          "output_type": "stream",
          "name": "stdout",
          "text": [
            "     Epoch 0: Train Loss = 0.6355, Val Loss = 10.5583\n",
            "     Epoch 5: Train Loss = 0.6050, Val Loss = 12.3772\n",
            "     Epoch 10: Train Loss = 0.6026, Val Loss = 12.3699\n",
            "     Epoch 15: Train Loss = 0.6025, Val Loss = 12.4818\n",
            "     Epoch 20: Train Loss = 0.6023, Val Loss = 12.6703\n",
            "    ⏹️ Early stopping at epoch 20\n",
            " Run 3 finished with best val loss: 10.5583\n",
            "Original Error Percentage (Test Dataset): 10.7707%\n",
            "Corrected Error Percentage (Test Dataset): 10.8688%\n",
            "   Run 4/5 ... "
          ]
        },
        {
          "output_type": "stream",
          "name": "stderr",
          "text": [
            "<ipython-input-28-f2771d1cb762>:152: UserWarning: To copy construct from a tensor, it is recommended to use sourceTensor.clone().detach() or sourceTensor.clone().detach().requires_grad_(True), rather than torch.tensor(sourceTensor).\n",
            "  X_scaled_tensor = torch.tensor(combined_X, dtype=torch.float32).unsqueeze(1)\n"
          ]
        },
        {
          "output_type": "stream",
          "name": "stdout",
          "text": [
            "     Epoch 0: Train Loss = 0.6160, Val Loss = 12.3938\n",
            "     Epoch 5: Train Loss = 0.6061, Val Loss = 12.9375\n",
            "     Epoch 10: Train Loss = 0.6031, Val Loss = 12.8040\n",
            "     Epoch 15: Train Loss = 0.6031, Val Loss = 13.0459\n",
            "     Epoch 20: Train Loss = 0.6082, Val Loss = 12.9575\n",
            "    ⏹️ Early stopping at epoch 20\n",
            " Run 4 finished with best val loss: 12.3938\n",
            "Original Error Percentage (Test Dataset): 10.7707%\n",
            "Corrected Error Percentage (Test Dataset): 10.9771%\n",
            "   Run 5/5 ... "
          ]
        },
        {
          "output_type": "stream",
          "name": "stderr",
          "text": [
            "<ipython-input-28-f2771d1cb762>:152: UserWarning: To copy construct from a tensor, it is recommended to use sourceTensor.clone().detach() or sourceTensor.clone().detach().requires_grad_(True), rather than torch.tensor(sourceTensor).\n",
            "  X_scaled_tensor = torch.tensor(combined_X, dtype=torch.float32).unsqueeze(1)\n"
          ]
        },
        {
          "output_type": "stream",
          "name": "stdout",
          "text": [
            "     Epoch 0: Train Loss = 0.6167, Val Loss = 13.9381\n",
            "     Epoch 5: Train Loss = 0.6064, Val Loss = 13.5964\n",
            "     Epoch 10: Train Loss = 0.6126, Val Loss = 12.7328\n",
            "     Epoch 15: Train Loss = 0.6133, Val Loss = 12.7591\n",
            "     Epoch 20: Train Loss = 0.6048, Val Loss = 12.9351\n",
            "     Epoch 25: Train Loss = 0.6071, Val Loss = 12.9074\n",
            "     Epoch 30: Train Loss = 0.6024, Val Loss = 13.0577\n",
            "     Epoch 35: Train Loss = 0.6026, Val Loss = 12.9324\n",
            "     Epoch 40: Train Loss = 0.6040, Val Loss = 12.7453\n",
            "     Epoch 45: Train Loss = 0.6050, Val Loss = 12.3401\n",
            "    ⏹️ Early stopping at epoch 46\n",
            " Run 5 finished with best val loss: 12.3191\n",
            "Original Error Percentage (Test Dataset): 10.7707%\n",
            "Corrected Error Percentage (Test Dataset): 10.7889%\n",
            " Finished configuration H=32, D=0.2, LR=0.0005, B=8 → Avg Val Loss: 11.3289, Avg Accuracy: 10.9123%\n",
            "\n",
            " Running 50/108: H=32, D=0.2, LR=0.0005, B=16\n",
            "   Run 1/5 ...      Epoch 0: Train Loss = 0.6523, Val Loss = 13.3024\n"
          ]
        },
        {
          "output_type": "stream",
          "name": "stderr",
          "text": [
            "<ipython-input-28-f2771d1cb762>:152: UserWarning: To copy construct from a tensor, it is recommended to use sourceTensor.clone().detach() or sourceTensor.clone().detach().requires_grad_(True), rather than torch.tensor(sourceTensor).\n",
            "  X_scaled_tensor = torch.tensor(combined_X, dtype=torch.float32).unsqueeze(1)\n"
          ]
        },
        {
          "output_type": "stream",
          "name": "stdout",
          "text": [
            "     Epoch 5: Train Loss = 0.6146, Val Loss = 14.2510\n",
            "     Epoch 10: Train Loss = 0.6132, Val Loss = 13.6887\n",
            "     Epoch 15: Train Loss = 0.6118, Val Loss = 13.8909\n",
            "     Epoch 20: Train Loss = 0.6098, Val Loss = 13.4130\n",
            "    ⏹️ Early stopping at epoch 20\n",
            " Run 1 finished with best val loss: 13.3024\n",
            "Original Error Percentage (Test Dataset): 10.7707%\n",
            "Corrected Error Percentage (Test Dataset): 11.1432%\n",
            "   Run 2/5 ...      Epoch 0: Train Loss = 0.7405, Val Loss = 12.8300\n"
          ]
        },
        {
          "output_type": "stream",
          "name": "stderr",
          "text": [
            "<ipython-input-28-f2771d1cb762>:152: UserWarning: To copy construct from a tensor, it is recommended to use sourceTensor.clone().detach() or sourceTensor.clone().detach().requires_grad_(True), rather than torch.tensor(sourceTensor).\n",
            "  X_scaled_tensor = torch.tensor(combined_X, dtype=torch.float32).unsqueeze(1)\n"
          ]
        },
        {
          "output_type": "stream",
          "name": "stdout",
          "text": [
            "     Epoch 5: Train Loss = 0.6121, Val Loss = 13.2968\n",
            "     Epoch 10: Train Loss = 0.5975, Val Loss = 13.0784\n",
            "     Epoch 15: Train Loss = 0.6006, Val Loss = 13.1491\n",
            "     Epoch 20: Train Loss = 0.6121, Val Loss = 12.3994\n",
            "     Epoch 25: Train Loss = 0.6040, Val Loss = 12.6588\n",
            "     Epoch 30: Train Loss = 0.6044, Val Loss = 12.6783\n",
            "     Epoch 35: Train Loss = 0.6082, Val Loss = 12.3793\n",
            "     Epoch 40: Train Loss = 0.6030, Val Loss = 12.9497\n",
            "     Epoch 45: Train Loss = 0.6080, Val Loss = 12.8244\n",
            "    ⏹️ Early stopping at epoch 48\n",
            " Run 2 finished with best val loss: 12.0586\n",
            "Original Error Percentage (Test Dataset): 10.7707%\n",
            "Corrected Error Percentage (Test Dataset): 10.7477%\n",
            "   Run 3/5 ...      Epoch 0: Train Loss = 0.6240, Val Loss = 10.5537\n"
          ]
        },
        {
          "output_type": "stream",
          "name": "stderr",
          "text": [
            "<ipython-input-28-f2771d1cb762>:152: UserWarning: To copy construct from a tensor, it is recommended to use sourceTensor.clone().detach() or sourceTensor.clone().detach().requires_grad_(True), rather than torch.tensor(sourceTensor).\n",
            "  X_scaled_tensor = torch.tensor(combined_X, dtype=torch.float32).unsqueeze(1)\n"
          ]
        },
        {
          "output_type": "stream",
          "name": "stdout",
          "text": [
            "     Epoch 5: Train Loss = 0.6116, Val Loss = 12.2847\n",
            "     Epoch 10: Train Loss = 0.6031, Val Loss = 12.4645\n",
            "     Epoch 15: Train Loss = 0.6039, Val Loss = 13.0366\n",
            "     Epoch 20: Train Loss = 0.6031, Val Loss = 12.7234\n",
            "    ⏹️ Early stopping at epoch 20\n",
            " Run 3 finished with best val loss: 10.5537\n",
            "Original Error Percentage (Test Dataset): 10.7707%\n",
            "Corrected Error Percentage (Test Dataset): 10.9113%\n",
            "   Run 4/5 ...      Epoch 0: Train Loss = 0.6345, Val Loss = 10.3975\n"
          ]
        },
        {
          "output_type": "stream",
          "name": "stderr",
          "text": [
            "<ipython-input-28-f2771d1cb762>:152: UserWarning: To copy construct from a tensor, it is recommended to use sourceTensor.clone().detach() or sourceTensor.clone().detach().requires_grad_(True), rather than torch.tensor(sourceTensor).\n",
            "  X_scaled_tensor = torch.tensor(combined_X, dtype=torch.float32).unsqueeze(1)\n"
          ]
        },
        {
          "output_type": "stream",
          "name": "stdout",
          "text": [
            "     Epoch 5: Train Loss = 0.6061, Val Loss = 12.5702\n",
            "     Epoch 10: Train Loss = 0.6096, Val Loss = 12.6588\n",
            "     Epoch 15: Train Loss = 0.6053, Val Loss = 12.8138\n",
            "     Epoch 20: Train Loss = 0.6101, Val Loss = 12.4710\n",
            "    ⏹️ Early stopping at epoch 20\n",
            " Run 4 finished with best val loss: 10.3975\n",
            "Original Error Percentage (Test Dataset): 10.7707%\n",
            "Corrected Error Percentage (Test Dataset): 10.8457%\n",
            "   Run 5/5 ...      Epoch 0: Train Loss = 0.6302, Val Loss = 11.3820\n"
          ]
        },
        {
          "output_type": "stream",
          "name": "stderr",
          "text": [
            "<ipython-input-28-f2771d1cb762>:152: UserWarning: To copy construct from a tensor, it is recommended to use sourceTensor.clone().detach() or sourceTensor.clone().detach().requires_grad_(True), rather than torch.tensor(sourceTensor).\n",
            "  X_scaled_tensor = torch.tensor(combined_X, dtype=torch.float32).unsqueeze(1)\n"
          ]
        },
        {
          "output_type": "stream",
          "name": "stdout",
          "text": [
            "     Epoch 5: Train Loss = 0.6035, Val Loss = 12.5914\n",
            "     Epoch 10: Train Loss = 0.6022, Val Loss = 12.6817\n",
            "     Epoch 15: Train Loss = 0.6037, Val Loss = 12.3452\n",
            "     Epoch 20: Train Loss = 0.6074, Val Loss = 12.4732\n",
            "    ⏹️ Early stopping at epoch 20\n",
            " Run 5 finished with best val loss: 11.3820\n",
            "Original Error Percentage (Test Dataset): 10.7707%\n",
            "Corrected Error Percentage (Test Dataset): 10.7866%\n",
            " Finished configuration H=32, D=0.2, LR=0.0005, B=16 → Avg Val Loss: 11.5388, Avg Accuracy: 10.8869%\n",
            "\n",
            " Running 51/108: H=32, D=0.2, LR=0.0005, B=32\n",
            "   Run 1/5 ...      Epoch 0: Train Loss = 0.7154, Val Loss = 10.2790\n"
          ]
        },
        {
          "output_type": "stream",
          "name": "stderr",
          "text": [
            "<ipython-input-28-f2771d1cb762>:152: UserWarning: To copy construct from a tensor, it is recommended to use sourceTensor.clone().detach() or sourceTensor.clone().detach().requires_grad_(True), rather than torch.tensor(sourceTensor).\n",
            "  X_scaled_tensor = torch.tensor(combined_X, dtype=torch.float32).unsqueeze(1)\n"
          ]
        },
        {
          "output_type": "stream",
          "name": "stdout",
          "text": [
            "     Epoch 5: Train Loss = 0.6104, Val Loss = 13.9283\n",
            "     Epoch 10: Train Loss = 0.6107, Val Loss = 13.3384\n",
            "     Epoch 15: Train Loss = 0.6033, Val Loss = 13.8250\n",
            "     Epoch 20: Train Loss = 0.6084, Val Loss = 12.9679\n",
            "    ⏹️ Early stopping at epoch 20\n",
            " Run 1 finished with best val loss: 10.2790\n",
            "Original Error Percentage (Test Dataset): 10.7707%\n",
            "Corrected Error Percentage (Test Dataset): 11.0044%\n",
            "   Run 2/5 ...      Epoch 0: Train Loss = 0.6435, Val Loss = 12.1272\n"
          ]
        },
        {
          "output_type": "stream",
          "name": "stderr",
          "text": [
            "<ipython-input-28-f2771d1cb762>:152: UserWarning: To copy construct from a tensor, it is recommended to use sourceTensor.clone().detach() or sourceTensor.clone().detach().requires_grad_(True), rather than torch.tensor(sourceTensor).\n",
            "  X_scaled_tensor = torch.tensor(combined_X, dtype=torch.float32).unsqueeze(1)\n"
          ]
        },
        {
          "output_type": "stream",
          "name": "stdout",
          "text": [
            "     Epoch 5: Train Loss = 0.6168, Val Loss = 13.1220\n",
            "     Epoch 10: Train Loss = 0.6068, Val Loss = 13.5350\n",
            "     Epoch 15: Train Loss = 0.6085, Val Loss = 13.4664\n",
            "     Epoch 20: Train Loss = 0.6015, Val Loss = 13.9738\n",
            "    ⏹️ Early stopping at epoch 20\n",
            " Run 2 finished with best val loss: 12.1272\n",
            "Original Error Percentage (Test Dataset): 10.7707%\n",
            "Corrected Error Percentage (Test Dataset): 11.3789%\n",
            "   Run 3/5 ...      Epoch 0: Train Loss = 0.6812, Val Loss = 10.5722\n"
          ]
        },
        {
          "output_type": "stream",
          "name": "stderr",
          "text": [
            "<ipython-input-28-f2771d1cb762>:152: UserWarning: To copy construct from a tensor, it is recommended to use sourceTensor.clone().detach() or sourceTensor.clone().detach().requires_grad_(True), rather than torch.tensor(sourceTensor).\n",
            "  X_scaled_tensor = torch.tensor(combined_X, dtype=torch.float32).unsqueeze(1)\n"
          ]
        },
        {
          "output_type": "stream",
          "name": "stdout",
          "text": [
            "     Epoch 5: Train Loss = 0.6090, Val Loss = 13.3828\n",
            "     Epoch 10: Train Loss = 0.6002, Val Loss = 13.4816\n",
            "     Epoch 15: Train Loss = 0.6004, Val Loss = 14.0344\n",
            "     Epoch 20: Train Loss = 0.6152, Val Loss = 12.8758\n",
            "    ⏹️ Early stopping at epoch 20\n",
            " Run 3 finished with best val loss: 10.5722\n",
            "Original Error Percentage (Test Dataset): 10.7707%\n",
            "Corrected Error Percentage (Test Dataset): 10.9296%\n",
            "   Run 4/5 ...      Epoch 0: Train Loss = 0.6297, Val Loss = 11.3877\n"
          ]
        },
        {
          "output_type": "stream",
          "name": "stderr",
          "text": [
            "<ipython-input-28-f2771d1cb762>:152: UserWarning: To copy construct from a tensor, it is recommended to use sourceTensor.clone().detach() or sourceTensor.clone().detach().requires_grad_(True), rather than torch.tensor(sourceTensor).\n",
            "  X_scaled_tensor = torch.tensor(combined_X, dtype=torch.float32).unsqueeze(1)\n"
          ]
        },
        {
          "output_type": "stream",
          "name": "stdout",
          "text": [
            "     Epoch 5: Train Loss = 0.6080, Val Loss = 12.8763\n",
            "     Epoch 10: Train Loss = 0.6103, Val Loss = 13.0621\n",
            "     Epoch 15: Train Loss = 0.6110, Val Loss = 12.2854\n",
            "     Epoch 20: Train Loss = 0.6042, Val Loss = 12.3910\n",
            "    ⏹️ Early stopping at epoch 20\n",
            " Run 4 finished with best val loss: 11.3877\n",
            "Original Error Percentage (Test Dataset): 10.7707%\n",
            "Corrected Error Percentage (Test Dataset): 10.7420%\n",
            "   Run 5/5 ...      Epoch 0: Train Loss = 0.6327, Val Loss = 10.8750\n"
          ]
        },
        {
          "output_type": "stream",
          "name": "stderr",
          "text": [
            "<ipython-input-28-f2771d1cb762>:152: UserWarning: To copy construct from a tensor, it is recommended to use sourceTensor.clone().detach() or sourceTensor.clone().detach().requires_grad_(True), rather than torch.tensor(sourceTensor).\n",
            "  X_scaled_tensor = torch.tensor(combined_X, dtype=torch.float32).unsqueeze(1)\n"
          ]
        },
        {
          "output_type": "stream",
          "name": "stdout",
          "text": [
            "     Epoch 5: Train Loss = 0.6057, Val Loss = 13.2865\n",
            "     Epoch 10: Train Loss = 0.6078, Val Loss = 13.6988\n",
            "     Epoch 15: Train Loss = 0.6082, Val Loss = 13.2769\n",
            "     Epoch 20: Train Loss = 0.6004, Val Loss = 12.8239\n",
            "    ⏹️ Early stopping at epoch 20\n",
            " Run 5 finished with best val loss: 10.8750\n",
            "Original Error Percentage (Test Dataset): 10.7707%\n",
            "Corrected Error Percentage (Test Dataset): 10.9246%\n",
            " Finished configuration H=32, D=0.2, LR=0.0005, B=32 → Avg Val Loss: 11.0482, Avg Accuracy: 10.9959%\n",
            "\n",
            " Running 52/108: H=32, D=0.2, LR=0.001, B=8\n",
            "   Run 1/5 ... "
          ]
        },
        {
          "output_type": "stream",
          "name": "stderr",
          "text": [
            "<ipython-input-28-f2771d1cb762>:152: UserWarning: To copy construct from a tensor, it is recommended to use sourceTensor.clone().detach() or sourceTensor.clone().detach().requires_grad_(True), rather than torch.tensor(sourceTensor).\n",
            "  X_scaled_tensor = torch.tensor(combined_X, dtype=torch.float32).unsqueeze(1)\n"
          ]
        },
        {
          "output_type": "stream",
          "name": "stdout",
          "text": [
            "     Epoch 0: Train Loss = 0.6235, Val Loss = 13.5878\n",
            "     Epoch 5: Train Loss = 0.6056, Val Loss = 13.3559\n",
            "     Epoch 10: Train Loss = 0.6066, Val Loss = 12.4981\n",
            "     Epoch 15: Train Loss = 0.6043, Val Loss = 12.6975\n",
            "     Epoch 20: Train Loss = 0.6014, Val Loss = 12.7968\n",
            "     Epoch 25: Train Loss = 0.6052, Val Loss = 12.6412\n",
            "    ⏹️ Early stopping at epoch 28\n",
            " Run 1 finished with best val loss: 11.9697\n",
            "Original Error Percentage (Test Dataset): 10.7707%\n",
            "Corrected Error Percentage (Test Dataset): 11.0080%\n",
            "   Run 2/5 ... "
          ]
        },
        {
          "output_type": "stream",
          "name": "stderr",
          "text": [
            "<ipython-input-28-f2771d1cb762>:152: UserWarning: To copy construct from a tensor, it is recommended to use sourceTensor.clone().detach() or sourceTensor.clone().detach().requires_grad_(True), rather than torch.tensor(sourceTensor).\n",
            "  X_scaled_tensor = torch.tensor(combined_X, dtype=torch.float32).unsqueeze(1)\n"
          ]
        },
        {
          "output_type": "stream",
          "name": "stdout",
          "text": [
            "     Epoch 0: Train Loss = 0.6186, Val Loss = 13.4228\n",
            "     Epoch 5: Train Loss = 0.6034, Val Loss = 13.5626\n",
            "     Epoch 10: Train Loss = 0.6067, Val Loss = 12.5956\n",
            "     Epoch 15: Train Loss = 0.6005, Val Loss = 12.9905\n",
            "     Epoch 20: Train Loss = 0.6034, Val Loss = 11.8024\n",
            "     Epoch 25: Train Loss = 0.6027, Val Loss = 13.2925\n",
            "    ⏹️ Early stopping at epoch 28\n",
            " Run 2 finished with best val loss: 11.4781\n",
            "Original Error Percentage (Test Dataset): 10.7707%\n",
            "Corrected Error Percentage (Test Dataset): 10.7363%\n",
            "   Run 3/5 ... "
          ]
        },
        {
          "output_type": "stream",
          "name": "stderr",
          "text": [
            "<ipython-input-28-f2771d1cb762>:152: UserWarning: To copy construct from a tensor, it is recommended to use sourceTensor.clone().detach() or sourceTensor.clone().detach().requires_grad_(True), rather than torch.tensor(sourceTensor).\n",
            "  X_scaled_tensor = torch.tensor(combined_X, dtype=torch.float32).unsqueeze(1)\n"
          ]
        },
        {
          "output_type": "stream",
          "name": "stdout",
          "text": [
            "     Epoch 0: Train Loss = 0.6108, Val Loss = 14.4235\n",
            "     Epoch 5: Train Loss = 0.6053, Val Loss = 13.3385\n",
            "     Epoch 10: Train Loss = 0.6080, Val Loss = 12.9022\n",
            "     Epoch 15: Train Loss = 0.6057, Val Loss = 12.9036\n",
            "     Epoch 20: Train Loss = 0.6081, Val Loss = 12.8280\n",
            "     Epoch 25: Train Loss = 0.6071, Val Loss = 12.8815\n",
            "     Epoch 30: Train Loss = 0.6069, Val Loss = 12.5829\n",
            "     Epoch 35: Train Loss = 0.6025, Val Loss = 12.4104\n",
            "     Epoch 40: Train Loss = 0.6036, Val Loss = 12.4262\n",
            "     Epoch 45: Train Loss = 0.6054, Val Loss = 12.6594\n",
            "     Epoch 50: Train Loss = 0.6045, Val Loss = 12.3625\n",
            "     Epoch 55: Train Loss = 0.6063, Val Loss = 12.5659\n",
            "     Epoch 60: Train Loss = 0.6046, Val Loss = 11.9373\n",
            "    ⏹️ Early stopping at epoch 64\n",
            " Run 3 finished with best val loss: 11.6727\n",
            "Original Error Percentage (Test Dataset): 10.7707%\n",
            "Corrected Error Percentage (Test Dataset): 10.7460%\n",
            "   Run 4/5 ... "
          ]
        },
        {
          "output_type": "stream",
          "name": "stderr",
          "text": [
            "<ipython-input-28-f2771d1cb762>:152: UserWarning: To copy construct from a tensor, it is recommended to use sourceTensor.clone().detach() or sourceTensor.clone().detach().requires_grad_(True), rather than torch.tensor(sourceTensor).\n",
            "  X_scaled_tensor = torch.tensor(combined_X, dtype=torch.float32).unsqueeze(1)\n"
          ]
        },
        {
          "output_type": "stream",
          "name": "stdout",
          "text": [
            "     Epoch 0: Train Loss = 0.6160, Val Loss = 12.0612\n",
            "     Epoch 5: Train Loss = 0.6058, Val Loss = 12.7685\n",
            "     Epoch 10: Train Loss = 0.6057, Val Loss = 12.3432\n",
            "     Epoch 15: Train Loss = 0.6131, Val Loss = 12.5614\n",
            "     Epoch 20: Train Loss = 0.6048, Val Loss = 12.9231\n",
            "    ⏹️ Early stopping at epoch 20\n",
            " Run 4 finished with best val loss: 12.0612\n",
            "Original Error Percentage (Test Dataset): 10.7707%\n",
            "Corrected Error Percentage (Test Dataset): 10.8628%\n",
            "   Run 5/5 ... "
          ]
        },
        {
          "output_type": "stream",
          "name": "stderr",
          "text": [
            "<ipython-input-28-f2771d1cb762>:152: UserWarning: To copy construct from a tensor, it is recommended to use sourceTensor.clone().detach() or sourceTensor.clone().detach().requires_grad_(True), rather than torch.tensor(sourceTensor).\n",
            "  X_scaled_tensor = torch.tensor(combined_X, dtype=torch.float32).unsqueeze(1)\n"
          ]
        },
        {
          "output_type": "stream",
          "name": "stdout",
          "text": [
            "     Epoch 0: Train Loss = 0.6078, Val Loss = 12.4395\n",
            "     Epoch 5: Train Loss = 0.6066, Val Loss = 12.5356\n",
            "     Epoch 10: Train Loss = 0.6030, Val Loss = 12.8883\n",
            "     Epoch 15: Train Loss = 0.6013, Val Loss = 12.9285\n",
            "     Epoch 20: Train Loss = 0.6018, Val Loss = 11.8763\n",
            "     Epoch 25: Train Loss = 0.6030, Val Loss = 12.6483\n",
            "     Epoch 30: Train Loss = 0.6044, Val Loss = 11.9892\n",
            "     Epoch 35: Train Loss = 0.6063, Val Loss = 12.4125\n",
            "     Epoch 40: Train Loss = 0.6040, Val Loss = 12.4420\n",
            "     Epoch 45: Train Loss = 0.6007, Val Loss = 12.8422\n",
            "    ⏹️ Early stopping at epoch 49\n",
            " Run 5 finished with best val loss: 11.8021\n",
            "Original Error Percentage (Test Dataset): 10.7707%\n",
            "Corrected Error Percentage (Test Dataset): 10.8932%\n",
            " Finished configuration H=32, D=0.2, LR=0.001, B=8 → Avg Val Loss: 11.7967, Avg Accuracy: 10.8492%\n",
            "\n",
            " Running 53/108: H=32, D=0.2, LR=0.001, B=16\n",
            "   Run 1/5 ...      Epoch 0: Train Loss = 0.6612, Val Loss = 13.7460\n"
          ]
        },
        {
          "output_type": "stream",
          "name": "stderr",
          "text": [
            "<ipython-input-28-f2771d1cb762>:152: UserWarning: To copy construct from a tensor, it is recommended to use sourceTensor.clone().detach() or sourceTensor.clone().detach().requires_grad_(True), rather than torch.tensor(sourceTensor).\n",
            "  X_scaled_tensor = torch.tensor(combined_X, dtype=torch.float32).unsqueeze(1)\n"
          ]
        },
        {
          "output_type": "stream",
          "name": "stdout",
          "text": [
            "     Epoch 5: Train Loss = 0.6133, Val Loss = 12.7551\n",
            "     Epoch 10: Train Loss = 0.6035, Val Loss = 12.9664\n",
            "     Epoch 15: Train Loss = 0.6059, Val Loss = 13.2083\n",
            "     Epoch 20: Train Loss = 0.6035, Val Loss = 12.9934\n",
            "     Epoch 25: Train Loss = 0.6085, Val Loss = 11.9180\n",
            "     Epoch 30: Train Loss = 0.6011, Val Loss = 12.7779\n",
            "     Epoch 35: Train Loss = 0.6078, Val Loss = 12.6144\n",
            "     Epoch 40: Train Loss = 0.6059, Val Loss = 13.1969\n",
            "     Epoch 45: Train Loss = 0.6006, Val Loss = 13.2408\n",
            "    ⏹️ Early stopping at epoch 45\n",
            " Run 1 finished with best val loss: 11.9180\n",
            "Original Error Percentage (Test Dataset): 10.7707%\n",
            "Corrected Error Percentage (Test Dataset): 11.0539%\n",
            "   Run 2/5 ... "
          ]
        },
        {
          "output_type": "stream",
          "name": "stderr",
          "text": [
            "<ipython-input-28-f2771d1cb762>:152: UserWarning: To copy construct from a tensor, it is recommended to use sourceTensor.clone().detach() or sourceTensor.clone().detach().requires_grad_(True), rather than torch.tensor(sourceTensor).\n",
            "  X_scaled_tensor = torch.tensor(combined_X, dtype=torch.float32).unsqueeze(1)\n"
          ]
        },
        {
          "output_type": "stream",
          "name": "stdout",
          "text": [
            "     Epoch 0: Train Loss = 0.6166, Val Loss = 12.5805\n",
            "     Epoch 5: Train Loss = 0.6051, Val Loss = 12.9624\n",
            "     Epoch 10: Train Loss = 0.6058, Val Loss = 12.1962\n",
            "     Epoch 15: Train Loss = 0.6049, Val Loss = 12.4372\n",
            "     Epoch 20: Train Loss = 0.6058, Val Loss = 12.2089\n",
            "     Epoch 25: Train Loss = 0.6031, Val Loss = 12.9273\n",
            "    ⏹️ Early stopping at epoch 29\n",
            " Run 2 finished with best val loss: 12.0065\n",
            "Original Error Percentage (Test Dataset): 10.7707%\n",
            "Corrected Error Percentage (Test Dataset): 10.8930%\n",
            "   Run 3/5 ...      Epoch 0: Train Loss = 0.6256, Val Loss = 15.6058\n"
          ]
        },
        {
          "output_type": "stream",
          "name": "stderr",
          "text": [
            "<ipython-input-28-f2771d1cb762>:152: UserWarning: To copy construct from a tensor, it is recommended to use sourceTensor.clone().detach() or sourceTensor.clone().detach().requires_grad_(True), rather than torch.tensor(sourceTensor).\n",
            "  X_scaled_tensor = torch.tensor(combined_X, dtype=torch.float32).unsqueeze(1)\n"
          ]
        },
        {
          "output_type": "stream",
          "name": "stdout",
          "text": [
            "     Epoch 5: Train Loss = 0.6017, Val Loss = 13.9656\n",
            "     Epoch 10: Train Loss = 0.6034, Val Loss = 13.2110\n",
            "     Epoch 15: Train Loss = 0.6053, Val Loss = 12.4823\n",
            "     Epoch 20: Train Loss = 0.6048, Val Loss = 12.3882\n",
            "     Epoch 25: Train Loss = 0.6029, Val Loss = 12.5937\n",
            "     Epoch 30: Train Loss = 0.6032, Val Loss = 12.5408\n",
            "     Epoch 35: Train Loss = 0.5987, Val Loss = 12.8965\n",
            "     Epoch 40: Train Loss = 0.6034, Val Loss = 11.9595\n",
            "     Epoch 45: Train Loss = 0.6032, Val Loss = 12.5817\n",
            "     Epoch 50: Train Loss = 0.6048, Val Loss = 12.5690\n",
            "     Epoch 55: Train Loss = 0.6054, Val Loss = 11.5072\n",
            "     Epoch 60: Train Loss = 0.6037, Val Loss = 11.9268\n",
            "     Epoch 65: Train Loss = 0.6051, Val Loss = 12.4024\n",
            "     Epoch 70: Train Loss = 0.6015, Val Loss = 12.5021\n",
            "     Epoch 75: Train Loss = 0.6019, Val Loss = 12.8457\n",
            "    ⏹️ Early stopping at epoch 76\n",
            " Run 3 finished with best val loss: 11.4968\n",
            "Original Error Percentage (Test Dataset): 10.7707%\n",
            "Corrected Error Percentage (Test Dataset): 10.6755%\n",
            "   Run 4/5 ... "
          ]
        },
        {
          "output_type": "stream",
          "name": "stderr",
          "text": [
            "<ipython-input-28-f2771d1cb762>:152: UserWarning: To copy construct from a tensor, it is recommended to use sourceTensor.clone().detach() or sourceTensor.clone().detach().requires_grad_(True), rather than torch.tensor(sourceTensor).\n",
            "  X_scaled_tensor = torch.tensor(combined_X, dtype=torch.float32).unsqueeze(1)\n"
          ]
        },
        {
          "output_type": "stream",
          "name": "stdout",
          "text": [
            "     Epoch 0: Train Loss = 0.6117, Val Loss = 14.8622\n",
            "     Epoch 5: Train Loss = 0.6049, Val Loss = 13.6464\n",
            "     Epoch 10: Train Loss = 0.6030, Val Loss = 13.6154\n",
            "     Epoch 15: Train Loss = 0.6074, Val Loss = 12.8344\n",
            "     Epoch 20: Train Loss = 0.6047, Val Loss = 12.8329\n",
            "     Epoch 25: Train Loss = 0.6000, Val Loss = 12.9289\n",
            "     Epoch 30: Train Loss = 0.6019, Val Loss = 13.3184\n",
            "     Epoch 35: Train Loss = 0.6099, Val Loss = 12.4872\n",
            "     Epoch 40: Train Loss = 0.6060, Val Loss = 12.3879\n",
            "     Epoch 45: Train Loss = 0.6028, Val Loss = 12.1486\n",
            "     Epoch 50: Train Loss = 0.6050, Val Loss = 11.9530\n",
            "     Epoch 55: Train Loss = 0.6017, Val Loss = 11.9712\n",
            "     Epoch 60: Train Loss = 0.5992, Val Loss = 12.2640\n",
            "    ⏹️ Early stopping at epoch 64\n",
            " Run 4 finished with best val loss: 11.8696\n",
            "Original Error Percentage (Test Dataset): 10.7707%\n",
            "Corrected Error Percentage (Test Dataset): 10.8876%\n",
            "   Run 5/5 ... "
          ]
        },
        {
          "output_type": "stream",
          "name": "stderr",
          "text": [
            "<ipython-input-28-f2771d1cb762>:152: UserWarning: To copy construct from a tensor, it is recommended to use sourceTensor.clone().detach() or sourceTensor.clone().detach().requires_grad_(True), rather than torch.tensor(sourceTensor).\n",
            "  X_scaled_tensor = torch.tensor(combined_X, dtype=torch.float32).unsqueeze(1)\n"
          ]
        },
        {
          "output_type": "stream",
          "name": "stdout",
          "text": [
            "     Epoch 0: Train Loss = 0.6462, Val Loss = 13.5741\n",
            "     Epoch 5: Train Loss = 0.6094, Val Loss = 13.4208\n",
            "     Epoch 10: Train Loss = 0.6130, Val Loss = 13.0086\n",
            "     Epoch 15: Train Loss = 0.6111, Val Loss = 13.5219\n",
            "     Epoch 20: Train Loss = 0.6125, Val Loss = 13.1913\n",
            "     Epoch 25: Train Loss = 0.6076, Val Loss = 12.7664\n",
            "     Epoch 30: Train Loss = 0.6089, Val Loss = 12.5223\n",
            "     Epoch 35: Train Loss = 0.6033, Val Loss = 12.7200\n",
            "     Epoch 40: Train Loss = 0.6036, Val Loss = 13.2686\n",
            "     Epoch 45: Train Loss = 0.6011, Val Loss = 12.6419\n",
            "     Epoch 50: Train Loss = 0.6022, Val Loss = 12.8042\n",
            "     Epoch 55: Train Loss = 0.6053, Val Loss = 12.4785\n",
            "     Epoch 60: Train Loss = 0.6067, Val Loss = 12.6004\n",
            "     Epoch 65: Train Loss = 0.6000, Val Loss = 12.3354\n",
            "     Epoch 70: Train Loss = 0.5989, Val Loss = 13.1992\n",
            "     Epoch 75: Train Loss = 0.6018, Val Loss = 12.6982\n",
            "     Epoch 80: Train Loss = 0.6005, Val Loss = 12.1971\n",
            "     Epoch 85: Train Loss = 0.6015, Val Loss = 12.3402\n",
            "     Epoch 90: Train Loss = 0.6049, Val Loss = 11.9643\n",
            "     Epoch 95: Train Loss = 0.6039, Val Loss = 12.7224\n",
            "     Epoch 100: Train Loss = 0.5987, Val Loss = 12.3460\n",
            "     Epoch 105: Train Loss = 0.5994, Val Loss = 13.0266\n",
            "    ⏹️ Early stopping at epoch 108\n",
            " Run 5 finished with best val loss: 11.4801\n",
            "Original Error Percentage (Test Dataset): 10.7707%\n",
            "Corrected Error Percentage (Test Dataset): 10.5339%\n",
            " Finished configuration H=32, D=0.2, LR=0.001, B=16 → Avg Val Loss: 11.7542, Avg Accuracy: 10.8088%\n",
            "\n",
            " Running 54/108: H=32, D=0.2, LR=0.001, B=32\n",
            "   Run 1/5 ...      Epoch 0: Train Loss = 0.6433, Val Loss = 12.1859\n"
          ]
        },
        {
          "output_type": "stream",
          "name": "stderr",
          "text": [
            "<ipython-input-28-f2771d1cb762>:152: UserWarning: To copy construct from a tensor, it is recommended to use sourceTensor.clone().detach() or sourceTensor.clone().detach().requires_grad_(True), rather than torch.tensor(sourceTensor).\n",
            "  X_scaled_tensor = torch.tensor(combined_X, dtype=torch.float32).unsqueeze(1)\n"
          ]
        },
        {
          "output_type": "stream",
          "name": "stdout",
          "text": [
            "     Epoch 5: Train Loss = 0.6103, Val Loss = 12.0403\n",
            "     Epoch 10: Train Loss = 0.6072, Val Loss = 12.2741\n",
            "     Epoch 15: Train Loss = 0.6026, Val Loss = 12.5830\n",
            "     Epoch 20: Train Loss = 0.6023, Val Loss = 12.6318\n",
            "     Epoch 25: Train Loss = 0.6021, Val Loss = 12.8236\n",
            "     Epoch 30: Train Loss = 0.6026, Val Loss = 12.4703\n",
            "    ⏹️ Early stopping at epoch 31\n",
            " Run 1 finished with best val loss: 12.0161\n",
            "Original Error Percentage (Test Dataset): 10.7707%\n",
            "Corrected Error Percentage (Test Dataset): 10.7801%\n",
            "   Run 2/5 ... "
          ]
        },
        {
          "output_type": "stream",
          "name": "stderr",
          "text": [
            "<ipython-input-28-f2771d1cb762>:152: UserWarning: To copy construct from a tensor, it is recommended to use sourceTensor.clone().detach() or sourceTensor.clone().detach().requires_grad_(True), rather than torch.tensor(sourceTensor).\n",
            "  X_scaled_tensor = torch.tensor(combined_X, dtype=torch.float32).unsqueeze(1)\n"
          ]
        },
        {
          "output_type": "stream",
          "name": "stdout",
          "text": [
            "     Epoch 0: Train Loss = 0.6319, Val Loss = 11.3199\n",
            "     Epoch 5: Train Loss = 0.6077, Val Loss = 12.6766\n",
            "     Epoch 10: Train Loss = 0.6096, Val Loss = 12.5842\n",
            "     Epoch 15: Train Loss = 0.6059, Val Loss = 13.0160\n",
            "     Epoch 20: Train Loss = 0.6069, Val Loss = 12.7599\n",
            "    ⏹️ Early stopping at epoch 20\n",
            " Run 2 finished with best val loss: 11.3199\n",
            "Original Error Percentage (Test Dataset): 10.7707%\n",
            "Corrected Error Percentage (Test Dataset): 10.8625%\n",
            "   Run 3/5 ...      Epoch 0: Train Loss = 0.6348, Val Loss = 11.1172\n"
          ]
        },
        {
          "output_type": "stream",
          "name": "stderr",
          "text": [
            "<ipython-input-28-f2771d1cb762>:152: UserWarning: To copy construct from a tensor, it is recommended to use sourceTensor.clone().detach() or sourceTensor.clone().detach().requires_grad_(True), rather than torch.tensor(sourceTensor).\n",
            "  X_scaled_tensor = torch.tensor(combined_X, dtype=torch.float32).unsqueeze(1)\n"
          ]
        },
        {
          "output_type": "stream",
          "name": "stdout",
          "text": [
            "     Epoch 5: Train Loss = 0.6120, Val Loss = 12.4179\n",
            "     Epoch 10: Train Loss = 0.6045, Val Loss = 12.5169\n",
            "     Epoch 15: Train Loss = 0.6019, Val Loss = 12.9481\n",
            "     Epoch 20: Train Loss = 0.6050, Val Loss = 12.5816\n",
            "    ⏹️ Early stopping at epoch 20\n",
            " Run 3 finished with best val loss: 11.1172\n",
            "Original Error Percentage (Test Dataset): 10.7707%\n",
            "Corrected Error Percentage (Test Dataset): 10.8301%\n",
            "   Run 4/5 ...      Epoch 0: Train Loss = 0.6218, Val Loss = 12.2159\n"
          ]
        },
        {
          "output_type": "stream",
          "name": "stderr",
          "text": [
            "<ipython-input-28-f2771d1cb762>:152: UserWarning: To copy construct from a tensor, it is recommended to use sourceTensor.clone().detach() or sourceTensor.clone().detach().requires_grad_(True), rather than torch.tensor(sourceTensor).\n",
            "  X_scaled_tensor = torch.tensor(combined_X, dtype=torch.float32).unsqueeze(1)\n"
          ]
        },
        {
          "output_type": "stream",
          "name": "stdout",
          "text": [
            "     Epoch 5: Train Loss = 0.6173, Val Loss = 13.9673\n",
            "     Epoch 10: Train Loss = 0.6026, Val Loss = 14.1899\n",
            "     Epoch 15: Train Loss = 0.6073, Val Loss = 13.1949\n",
            "     Epoch 20: Train Loss = 0.6050, Val Loss = 14.8446\n",
            "    ⏹️ Early stopping at epoch 20\n",
            " Run 4 finished with best val loss: 12.2159\n",
            "Original Error Percentage (Test Dataset): 10.7707%\n",
            "Corrected Error Percentage (Test Dataset): 11.6338%\n",
            "   Run 5/5 ...      Epoch 0: Train Loss = 0.6198, Val Loss = 11.5532\n"
          ]
        },
        {
          "output_type": "stream",
          "name": "stderr",
          "text": [
            "<ipython-input-28-f2771d1cb762>:152: UserWarning: To copy construct from a tensor, it is recommended to use sourceTensor.clone().detach() or sourceTensor.clone().detach().requires_grad_(True), rather than torch.tensor(sourceTensor).\n",
            "  X_scaled_tensor = torch.tensor(combined_X, dtype=torch.float32).unsqueeze(1)\n"
          ]
        },
        {
          "output_type": "stream",
          "name": "stdout",
          "text": [
            "     Epoch 5: Train Loss = 0.6004, Val Loss = 12.4310\n",
            "     Epoch 10: Train Loss = 0.6053, Val Loss = 12.7500\n",
            "     Epoch 15: Train Loss = 0.6039, Val Loss = 13.1617\n",
            "     Epoch 20: Train Loss = 0.5986, Val Loss = 13.1832\n",
            "    ⏹️ Early stopping at epoch 20\n",
            " Run 5 finished with best val loss: 11.5532\n",
            "Original Error Percentage (Test Dataset): 10.7707%\n",
            "Corrected Error Percentage (Test Dataset): 11.0297%\n",
            " Finished configuration H=32, D=0.2, LR=0.001, B=32 → Avg Val Loss: 11.6445, Avg Accuracy: 11.0272%\n",
            "\n",
            " Running 55/108: H=64, D=0.0, LR=0.0001, B=8\n",
            "   Run 1/5 ... "
          ]
        },
        {
          "output_type": "stream",
          "name": "stderr",
          "text": [
            "<ipython-input-28-f2771d1cb762>:152: UserWarning: To copy construct from a tensor, it is recommended to use sourceTensor.clone().detach() or sourceTensor.clone().detach().requires_grad_(True), rather than torch.tensor(sourceTensor).\n",
            "  X_scaled_tensor = torch.tensor(combined_X, dtype=torch.float32).unsqueeze(1)\n"
          ]
        },
        {
          "output_type": "stream",
          "name": "stdout",
          "text": [
            "     Epoch 0: Train Loss = 0.6150, Val Loss = 11.4762\n",
            "     Epoch 5: Train Loss = 0.6013, Val Loss = 12.8441\n",
            "     Epoch 10: Train Loss = 0.6008, Val Loss = 13.0092\n",
            "     Epoch 15: Train Loss = 0.6006, Val Loss = 13.1407\n",
            "     Epoch 20: Train Loss = 0.6006, Val Loss = 13.0999\n",
            "    ⏹️ Early stopping at epoch 20\n",
            " Run 1 finished with best val loss: 11.4762\n",
            "Original Error Percentage (Test Dataset): 10.7707%\n",
            "Corrected Error Percentage (Test Dataset): 10.9797%\n",
            "   Run 2/5 ... "
          ]
        },
        {
          "output_type": "stream",
          "name": "stderr",
          "text": [
            "<ipython-input-28-f2771d1cb762>:152: UserWarning: To copy construct from a tensor, it is recommended to use sourceTensor.clone().detach() or sourceTensor.clone().detach().requires_grad_(True), rather than torch.tensor(sourceTensor).\n",
            "  X_scaled_tensor = torch.tensor(combined_X, dtype=torch.float32).unsqueeze(1)\n"
          ]
        },
        {
          "output_type": "stream",
          "name": "stdout",
          "text": [
            "     Epoch 0: Train Loss = 0.6142, Val Loss = 11.3091\n",
            "     Epoch 5: Train Loss = 0.6013, Val Loss = 12.8911\n",
            "     Epoch 10: Train Loss = 0.6011, Val Loss = 13.0359\n",
            "     Epoch 15: Train Loss = 0.6008, Val Loss = 13.0471\n",
            "     Epoch 20: Train Loss = 0.6004, Val Loss = 12.9758\n",
            "    ⏹️ Early stopping at epoch 20\n",
            " Run 2 finished with best val loss: 11.3091\n",
            "Original Error Percentage (Test Dataset): 10.7707%\n",
            "Corrected Error Percentage (Test Dataset): 10.9596%\n",
            "   Run 3/5 ... "
          ]
        },
        {
          "output_type": "stream",
          "name": "stderr",
          "text": [
            "<ipython-input-28-f2771d1cb762>:152: UserWarning: To copy construct from a tensor, it is recommended to use sourceTensor.clone().detach() or sourceTensor.clone().detach().requires_grad_(True), rather than torch.tensor(sourceTensor).\n",
            "  X_scaled_tensor = torch.tensor(combined_X, dtype=torch.float32).unsqueeze(1)\n"
          ]
        },
        {
          "output_type": "stream",
          "name": "stdout",
          "text": [
            "     Epoch 0: Train Loss = 0.6112, Val Loss = 13.0467\n",
            "     Epoch 5: Train Loss = 0.6010, Val Loss = 13.2987\n",
            "     Epoch 10: Train Loss = 0.6010, Val Loss = 13.5203\n",
            "     Epoch 15: Train Loss = 0.6008, Val Loss = 13.1098\n",
            "     Epoch 20: Train Loss = 0.6010, Val Loss = 12.7225\n",
            "     Epoch 25: Train Loss = 0.6006, Val Loss = 13.0374\n",
            "     Epoch 30: Train Loss = 0.6007, Val Loss = 13.2459\n",
            "     Epoch 35: Train Loss = 0.6007, Val Loss = 12.8969\n",
            "     Epoch 40: Train Loss = 0.6003, Val Loss = 13.2620\n",
            "     Epoch 45: Train Loss = 0.6008, Val Loss = 13.4256\n",
            "     Epoch 50: Train Loss = 0.6003, Val Loss = 12.9640\n",
            "     Epoch 55: Train Loss = 0.6001, Val Loss = 12.9424\n",
            "    ⏹️ Early stopping at epoch 56\n",
            " Run 3 finished with best val loss: 12.7107\n",
            "Original Error Percentage (Test Dataset): 10.7707%\n",
            "Corrected Error Percentage (Test Dataset): 10.9846%\n",
            "   Run 4/5 ... "
          ]
        },
        {
          "output_type": "stream",
          "name": "stderr",
          "text": [
            "<ipython-input-28-f2771d1cb762>:152: UserWarning: To copy construct from a tensor, it is recommended to use sourceTensor.clone().detach() or sourceTensor.clone().detach().requires_grad_(True), rather than torch.tensor(sourceTensor).\n",
            "  X_scaled_tensor = torch.tensor(combined_X, dtype=torch.float32).unsqueeze(1)\n"
          ]
        },
        {
          "output_type": "stream",
          "name": "stdout",
          "text": [
            "     Epoch 0: Train Loss = 0.6154, Val Loss = 11.5060\n",
            "     Epoch 5: Train Loss = 0.6007, Val Loss = 13.1213\n",
            "     Epoch 10: Train Loss = 0.6010, Val Loss = 13.4295\n",
            "     Epoch 15: Train Loss = 0.6005, Val Loss = 13.3086\n",
            "     Epoch 20: Train Loss = 0.6005, Val Loss = 13.2373\n",
            "    ⏹️ Early stopping at epoch 20\n",
            " Run 4 finished with best val loss: 11.5060\n",
            "Original Error Percentage (Test Dataset): 10.7707%\n",
            "Corrected Error Percentage (Test Dataset): 11.0959%\n",
            "   Run 5/5 ... "
          ]
        },
        {
          "output_type": "stream",
          "name": "stderr",
          "text": [
            "<ipython-input-28-f2771d1cb762>:152: UserWarning: To copy construct from a tensor, it is recommended to use sourceTensor.clone().detach() or sourceTensor.clone().detach().requires_grad_(True), rather than torch.tensor(sourceTensor).\n",
            "  X_scaled_tensor = torch.tensor(combined_X, dtype=torch.float32).unsqueeze(1)\n"
          ]
        },
        {
          "output_type": "stream",
          "name": "stdout",
          "text": [
            "     Epoch 0: Train Loss = 0.6221, Val Loss = 14.1120\n",
            "     Epoch 5: Train Loss = 0.6013, Val Loss = 14.2405\n",
            "     Epoch 10: Train Loss = 0.6011, Val Loss = 13.6860\n",
            "     Epoch 15: Train Loss = 0.6010, Val Loss = 13.1159\n",
            "     Epoch 20: Train Loss = 0.6007, Val Loss = 13.6402\n",
            "     Epoch 25: Train Loss = 0.5998, Val Loss = 13.1243\n",
            "     Epoch 30: Train Loss = 0.6003, Val Loss = 13.0778\n",
            "     Epoch 35: Train Loss = 0.6004, Val Loss = 13.2059\n",
            "     Epoch 40: Train Loss = 0.6005, Val Loss = 13.0375\n",
            "     Epoch 45: Train Loss = 0.6001, Val Loss = 13.0493\n",
            "     Epoch 50: Train Loss = 0.5997, Val Loss = 13.1999\n",
            "     Epoch 55: Train Loss = 0.5994, Val Loss = 12.7536\n",
            "     Epoch 60: Train Loss = 0.5993, Val Loss = 12.9233\n",
            "    ⏹️ Early stopping at epoch 64\n",
            " Run 5 finished with best val loss: 12.6720\n",
            "Original Error Percentage (Test Dataset): 10.7707%\n",
            "Corrected Error Percentage (Test Dataset): 10.8448%\n",
            " Finished configuration H=64, D=0.0, LR=0.0001, B=8 → Avg Val Loss: 11.9348, Avg Accuracy: 10.9729%\n",
            "\n",
            " Running 56/108: H=64, D=0.0, LR=0.0001, B=16\n",
            "   Run 1/5 ...      Epoch 0: Train Loss = 0.6774, Val Loss = 9.7984\n"
          ]
        },
        {
          "output_type": "stream",
          "name": "stderr",
          "text": [
            "<ipython-input-28-f2771d1cb762>:152: UserWarning: To copy construct from a tensor, it is recommended to use sourceTensor.clone().detach() or sourceTensor.clone().detach().requires_grad_(True), rather than torch.tensor(sourceTensor).\n",
            "  X_scaled_tensor = torch.tensor(combined_X, dtype=torch.float32).unsqueeze(1)\n"
          ]
        },
        {
          "output_type": "stream",
          "name": "stdout",
          "text": [
            "     Epoch 5: Train Loss = 0.6028, Val Loss = 13.2616\n",
            "     Epoch 10: Train Loss = 0.6019, Val Loss = 13.6794\n",
            "     Epoch 15: Train Loss = 0.6015, Val Loss = 13.8028\n",
            "     Epoch 20: Train Loss = 0.6011, Val Loss = 13.7821\n",
            "    ⏹️ Early stopping at epoch 20\n",
            " Run 1 finished with best val loss: 9.7984\n",
            "Original Error Percentage (Test Dataset): 10.7707%\n",
            "Corrected Error Percentage (Test Dataset): 11.3167%\n",
            "   Run 2/5 ...      Epoch 0: Train Loss = 0.6782, Val Loss = 11.1171\n"
          ]
        },
        {
          "output_type": "stream",
          "name": "stderr",
          "text": [
            "<ipython-input-28-f2771d1cb762>:152: UserWarning: To copy construct from a tensor, it is recommended to use sourceTensor.clone().detach() or sourceTensor.clone().detach().requires_grad_(True), rather than torch.tensor(sourceTensor).\n",
            "  X_scaled_tensor = torch.tensor(combined_X, dtype=torch.float32).unsqueeze(1)\n"
          ]
        },
        {
          "output_type": "stream",
          "name": "stdout",
          "text": [
            "     Epoch 5: Train Loss = 0.6018, Val Loss = 13.7211\n",
            "     Epoch 10: Train Loss = 0.6010, Val Loss = 13.8065\n",
            "     Epoch 15: Train Loss = 0.6006, Val Loss = 13.4422\n",
            "     Epoch 20: Train Loss = 0.6003, Val Loss = 13.3609\n",
            "    ⏹️ Early stopping at epoch 20\n",
            " Run 2 finished with best val loss: 11.1171\n",
            "Original Error Percentage (Test Dataset): 10.7707%\n",
            "Corrected Error Percentage (Test Dataset): 11.1314%\n",
            "   Run 3/5 ... "
          ]
        },
        {
          "output_type": "stream",
          "name": "stderr",
          "text": [
            "<ipython-input-28-f2771d1cb762>:152: UserWarning: To copy construct from a tensor, it is recommended to use sourceTensor.clone().detach() or sourceTensor.clone().detach().requires_grad_(True), rather than torch.tensor(sourceTensor).\n",
            "  X_scaled_tensor = torch.tensor(combined_X, dtype=torch.float32).unsqueeze(1)\n"
          ]
        },
        {
          "output_type": "stream",
          "name": "stdout",
          "text": [
            "     Epoch 0: Train Loss = 0.6113, Val Loss = 11.3280\n",
            "     Epoch 5: Train Loss = 0.6015, Val Loss = 12.6474\n",
            "     Epoch 10: Train Loss = 0.6008, Val Loss = 12.7150\n",
            "     Epoch 15: Train Loss = 0.6004, Val Loss = 12.8939\n",
            "     Epoch 20: Train Loss = 0.6005, Val Loss = 12.8713\n",
            "    ⏹️ Early stopping at epoch 20\n",
            " Run 3 finished with best val loss: 11.3280\n",
            "Original Error Percentage (Test Dataset): 10.7707%\n",
            "Corrected Error Percentage (Test Dataset): 10.8320%\n",
            "   Run 4/5 ...      Epoch 0: Train Loss = 0.7125, Val Loss = 8.7565\n"
          ]
        },
        {
          "output_type": "stream",
          "name": "stderr",
          "text": [
            "<ipython-input-28-f2771d1cb762>:152: UserWarning: To copy construct from a tensor, it is recommended to use sourceTensor.clone().detach() or sourceTensor.clone().detach().requires_grad_(True), rather than torch.tensor(sourceTensor).\n",
            "  X_scaled_tensor = torch.tensor(combined_X, dtype=torch.float32).unsqueeze(1)\n"
          ]
        },
        {
          "output_type": "stream",
          "name": "stdout",
          "text": [
            "     Epoch 5: Train Loss = 0.6016, Val Loss = 12.9486\n",
            "     Epoch 10: Train Loss = 0.6011, Val Loss = 13.0684\n",
            "     Epoch 15: Train Loss = 0.6010, Val Loss = 13.1298\n",
            "     Epoch 20: Train Loss = 0.6009, Val Loss = 13.0026\n",
            "    ⏹️ Early stopping at epoch 20\n",
            " Run 4 finished with best val loss: 8.7565\n",
            "Original Error Percentage (Test Dataset): 10.7707%\n",
            "Corrected Error Percentage (Test Dataset): 10.9996%\n",
            "   Run 5/5 ...      Epoch 0: Train Loss = 0.6300, Val Loss = 11.2853\n"
          ]
        },
        {
          "output_type": "stream",
          "name": "stderr",
          "text": [
            "<ipython-input-28-f2771d1cb762>:152: UserWarning: To copy construct from a tensor, it is recommended to use sourceTensor.clone().detach() or sourceTensor.clone().detach().requires_grad_(True), rather than torch.tensor(sourceTensor).\n",
            "  X_scaled_tensor = torch.tensor(combined_X, dtype=torch.float32).unsqueeze(1)\n"
          ]
        },
        {
          "output_type": "stream",
          "name": "stdout",
          "text": [
            "     Epoch 5: Train Loss = 0.6009, Val Loss = 13.3208\n",
            "     Epoch 10: Train Loss = 0.6010, Val Loss = 13.1978\n",
            "     Epoch 15: Train Loss = 0.6011, Val Loss = 13.1672\n",
            "     Epoch 20: Train Loss = 0.6014, Val Loss = 13.7201\n",
            "    ⏹️ Early stopping at epoch 20\n",
            " Run 5 finished with best val loss: 11.2853\n",
            "Original Error Percentage (Test Dataset): 10.7707%\n",
            "Corrected Error Percentage (Test Dataset): 11.2499%\n",
            " Finished configuration H=64, D=0.0, LR=0.0001, B=16 → Avg Val Loss: 10.4571, Avg Accuracy: 11.1059%\n",
            "\n",
            " Running 57/108: H=64, D=0.0, LR=0.0001, B=32\n",
            "   Run 1/5 ...      Epoch 0: Train Loss = 0.6368, Val Loss = 11.4386\n"
          ]
        },
        {
          "output_type": "stream",
          "name": "stderr",
          "text": [
            "<ipython-input-28-f2771d1cb762>:152: UserWarning: To copy construct from a tensor, it is recommended to use sourceTensor.clone().detach() or sourceTensor.clone().detach().requires_grad_(True), rather than torch.tensor(sourceTensor).\n",
            "  X_scaled_tensor = torch.tensor(combined_X, dtype=torch.float32).unsqueeze(1)\n"
          ]
        },
        {
          "output_type": "stream",
          "name": "stdout",
          "text": [
            "     Epoch 5: Train Loss = 0.6015, Val Loss = 13.4306\n",
            "     Epoch 10: Train Loss = 0.6009, Val Loss = 13.4453\n",
            "     Epoch 15: Train Loss = 0.6005, Val Loss = 13.2605\n",
            "     Epoch 20: Train Loss = 0.6003, Val Loss = 13.2004\n",
            "    ⏹️ Early stopping at epoch 20\n",
            " Run 1 finished with best val loss: 11.4386\n",
            "Original Error Percentage (Test Dataset): 10.7707%\n",
            "Corrected Error Percentage (Test Dataset): 11.0695%\n",
            "   Run 2/5 ...      Epoch 0: Train Loss = 0.6335, Val Loss = 11.9389\n"
          ]
        },
        {
          "output_type": "stream",
          "name": "stderr",
          "text": [
            "<ipython-input-28-f2771d1cb762>:152: UserWarning: To copy construct from a tensor, it is recommended to use sourceTensor.clone().detach() or sourceTensor.clone().detach().requires_grad_(True), rather than torch.tensor(sourceTensor).\n",
            "  X_scaled_tensor = torch.tensor(combined_X, dtype=torch.float32).unsqueeze(1)\n"
          ]
        },
        {
          "output_type": "stream",
          "name": "stdout",
          "text": [
            "     Epoch 5: Train Loss = 0.6015, Val Loss = 13.8806\n",
            "     Epoch 10: Train Loss = 0.6010, Val Loss = 13.7845\n",
            "     Epoch 15: Train Loss = 0.6008, Val Loss = 13.1483\n",
            "     Epoch 20: Train Loss = 0.6003, Val Loss = 13.1759\n",
            "    ⏹️ Early stopping at epoch 20\n",
            " Run 2 finished with best val loss: 11.9389\n",
            "Original Error Percentage (Test Dataset): 10.7707%\n",
            "Corrected Error Percentage (Test Dataset): 11.0328%\n",
            "   Run 3/5 ...      Epoch 0: Train Loss = 0.6430, Val Loss = 9.8827\n"
          ]
        },
        {
          "output_type": "stream",
          "name": "stderr",
          "text": [
            "<ipython-input-28-f2771d1cb762>:152: UserWarning: To copy construct from a tensor, it is recommended to use sourceTensor.clone().detach() or sourceTensor.clone().detach().requires_grad_(True), rather than torch.tensor(sourceTensor).\n",
            "  X_scaled_tensor = torch.tensor(combined_X, dtype=torch.float32).unsqueeze(1)\n"
          ]
        },
        {
          "output_type": "stream",
          "name": "stdout",
          "text": [
            "     Epoch 5: Train Loss = 0.6017, Val Loss = 13.1490\n",
            "     Epoch 10: Train Loss = 0.6009, Val Loss = 12.9970\n",
            "     Epoch 15: Train Loss = 0.6012, Val Loss = 13.6511\n",
            "     Epoch 20: Train Loss = 0.6003, Val Loss = 13.0860\n",
            "    ⏹️ Early stopping at epoch 20\n",
            " Run 3 finished with best val loss: 9.8827\n",
            "Original Error Percentage (Test Dataset): 10.7707%\n",
            "Corrected Error Percentage (Test Dataset): 10.9632%\n",
            "   Run 4/5 ...      Epoch 0: Train Loss = 0.7178, Val Loss = 9.1715\n"
          ]
        },
        {
          "output_type": "stream",
          "name": "stderr",
          "text": [
            "<ipython-input-28-f2771d1cb762>:152: UserWarning: To copy construct from a tensor, it is recommended to use sourceTensor.clone().detach() or sourceTensor.clone().detach().requires_grad_(True), rather than torch.tensor(sourceTensor).\n",
            "  X_scaled_tensor = torch.tensor(combined_X, dtype=torch.float32).unsqueeze(1)\n"
          ]
        },
        {
          "output_type": "stream",
          "name": "stdout",
          "text": [
            "     Epoch 5: Train Loss = 0.6042, Val Loss = 14.0604\n",
            "     Epoch 10: Train Loss = 0.6020, Val Loss = 13.9105\n",
            "     Epoch 15: Train Loss = 0.6011, Val Loss = 13.4852\n",
            "     Epoch 20: Train Loss = 0.6010, Val Loss = 13.3344\n",
            "    ⏹️ Early stopping at epoch 20\n",
            " Run 4 finished with best val loss: 9.1715\n",
            "Original Error Percentage (Test Dataset): 10.7707%\n",
            "Corrected Error Percentage (Test Dataset): 11.1551%\n",
            "   Run 5/5 ...      Epoch 0: Train Loss = 0.6204, Val Loss = 11.3241\n"
          ]
        },
        {
          "output_type": "stream",
          "name": "stderr",
          "text": [
            "<ipython-input-28-f2771d1cb762>:152: UserWarning: To copy construct from a tensor, it is recommended to use sourceTensor.clone().detach() or sourceTensor.clone().detach().requires_grad_(True), rather than torch.tensor(sourceTensor).\n",
            "  X_scaled_tensor = torch.tensor(combined_X, dtype=torch.float32).unsqueeze(1)\n"
          ]
        },
        {
          "output_type": "stream",
          "name": "stdout",
          "text": [
            "     Epoch 5: Train Loss = 0.6007, Val Loss = 12.8752\n",
            "     Epoch 10: Train Loss = 0.6001, Val Loss = 12.9258\n",
            "     Epoch 15: Train Loss = 0.6001, Val Loss = 12.9572\n",
            "     Epoch 20: Train Loss = 0.5998, Val Loss = 13.1337\n",
            "    ⏹️ Early stopping at epoch 20\n",
            " Run 5 finished with best val loss: 11.3241\n",
            "Original Error Percentage (Test Dataset): 10.7707%\n",
            "Corrected Error Percentage (Test Dataset): 10.9962%\n",
            " Finished configuration H=64, D=0.0, LR=0.0001, B=32 → Avg Val Loss: 10.7512, Avg Accuracy: 11.0433%\n",
            "\n",
            " Running 58/108: H=64, D=0.0, LR=0.0005, B=8\n",
            "   Run 1/5 ... "
          ]
        },
        {
          "output_type": "stream",
          "name": "stderr",
          "text": [
            "<ipython-input-28-f2771d1cb762>:152: UserWarning: To copy construct from a tensor, it is recommended to use sourceTensor.clone().detach() or sourceTensor.clone().detach().requires_grad_(True), rather than torch.tensor(sourceTensor).\n",
            "  X_scaled_tensor = torch.tensor(combined_X, dtype=torch.float32).unsqueeze(1)\n"
          ]
        },
        {
          "output_type": "stream",
          "name": "stdout",
          "text": [
            "     Epoch 0: Train Loss = 0.6103, Val Loss = 13.8687\n",
            "     Epoch 5: Train Loss = 0.6021, Val Loss = 12.9605\n",
            "     Epoch 10: Train Loss = 0.6029, Val Loss = 13.4158\n",
            "     Epoch 15: Train Loss = 0.6012, Val Loss = 13.3837\n",
            "     Epoch 20: Train Loss = 0.6008, Val Loss = 13.1675\n",
            "     Epoch 25: Train Loss = 0.6009, Val Loss = 12.9592\n",
            "     Epoch 30: Train Loss = 0.6007, Val Loss = 13.2945\n",
            "    ⏹️ Early stopping at epoch 33\n",
            " Run 1 finished with best val loss: 12.0358\n",
            "Original Error Percentage (Test Dataset): 10.7707%\n",
            "Corrected Error Percentage (Test Dataset): 10.8646%\n",
            "   Run 2/5 ... "
          ]
        },
        {
          "output_type": "stream",
          "name": "stderr",
          "text": [
            "<ipython-input-28-f2771d1cb762>:152: UserWarning: To copy construct from a tensor, it is recommended to use sourceTensor.clone().detach() or sourceTensor.clone().detach().requires_grad_(True), rather than torch.tensor(sourceTensor).\n",
            "  X_scaled_tensor = torch.tensor(combined_X, dtype=torch.float32).unsqueeze(1)\n"
          ]
        },
        {
          "output_type": "stream",
          "name": "stdout",
          "text": [
            "     Epoch 0: Train Loss = 0.6131, Val Loss = 14.6603\n",
            "     Epoch 5: Train Loss = 0.6045, Val Loss = 13.5816\n",
            "     Epoch 10: Train Loss = 0.6031, Val Loss = 12.9836\n",
            "     Epoch 15: Train Loss = 0.6024, Val Loss = 13.7834\n",
            "     Epoch 20: Train Loss = 0.6031, Val Loss = 13.4873\n",
            "    ⏹️ Early stopping at epoch 22\n",
            " Run 2 finished with best val loss: 12.3634\n",
            "Original Error Percentage (Test Dataset): 10.7707%\n",
            "Corrected Error Percentage (Test Dataset): 11.0584%\n",
            "   Run 3/5 ... "
          ]
        },
        {
          "output_type": "stream",
          "name": "stderr",
          "text": [
            "<ipython-input-28-f2771d1cb762>:152: UserWarning: To copy construct from a tensor, it is recommended to use sourceTensor.clone().detach() or sourceTensor.clone().detach().requires_grad_(True), rather than torch.tensor(sourceTensor).\n",
            "  X_scaled_tensor = torch.tensor(combined_X, dtype=torch.float32).unsqueeze(1)\n"
          ]
        },
        {
          "output_type": "stream",
          "name": "stdout",
          "text": [
            "     Epoch 0: Train Loss = 0.6095, Val Loss = 12.4412\n",
            "     Epoch 5: Train Loss = 0.6012, Val Loss = 12.5893\n",
            "     Epoch 10: Train Loss = 0.6017, Val Loss = 12.6263\n",
            "     Epoch 15: Train Loss = 0.6006, Val Loss = 13.0038\n",
            "     Epoch 20: Train Loss = 0.6000, Val Loss = 12.8454\n",
            "    ⏹️ Early stopping at epoch 23\n",
            " Run 3 finished with best val loss: 12.1250\n",
            "Original Error Percentage (Test Dataset): 10.7707%\n",
            "Corrected Error Percentage (Test Dataset): 10.8699%\n",
            "   Run 4/5 ... "
          ]
        },
        {
          "output_type": "stream",
          "name": "stderr",
          "text": [
            "<ipython-input-28-f2771d1cb762>:152: UserWarning: To copy construct from a tensor, it is recommended to use sourceTensor.clone().detach() or sourceTensor.clone().detach().requires_grad_(True), rather than torch.tensor(sourceTensor).\n",
            "  X_scaled_tensor = torch.tensor(combined_X, dtype=torch.float32).unsqueeze(1)\n"
          ]
        },
        {
          "output_type": "stream",
          "name": "stdout",
          "text": [
            "     Epoch 0: Train Loss = 0.6093, Val Loss = 13.6558\n",
            "     Epoch 5: Train Loss = 0.6034, Val Loss = 13.3797\n",
            "     Epoch 10: Train Loss = 0.6023, Val Loss = 13.6629\n",
            "     Epoch 15: Train Loss = 0.6020, Val Loss = 12.9423\n",
            "     Epoch 20: Train Loss = 0.6018, Val Loss = 14.0289\n",
            "     Epoch 25: Train Loss = 0.6020, Val Loss = 12.7862\n",
            "    ⏹️ Early stopping at epoch 27\n",
            " Run 4 finished with best val loss: 12.1953\n",
            "Original Error Percentage (Test Dataset): 10.7707%\n",
            "Corrected Error Percentage (Test Dataset): 10.7141%\n",
            "   Run 5/5 ... "
          ]
        },
        {
          "output_type": "stream",
          "name": "stderr",
          "text": [
            "<ipython-input-28-f2771d1cb762>:152: UserWarning: To copy construct from a tensor, it is recommended to use sourceTensor.clone().detach() or sourceTensor.clone().detach().requires_grad_(True), rather than torch.tensor(sourceTensor).\n",
            "  X_scaled_tensor = torch.tensor(combined_X, dtype=torch.float32).unsqueeze(1)\n"
          ]
        },
        {
          "output_type": "stream",
          "name": "stdout",
          "text": [
            "     Epoch 0: Train Loss = 0.6082, Val Loss = 11.1088\n",
            "     Epoch 5: Train Loss = 0.6058, Val Loss = 12.4621\n",
            "     Epoch 10: Train Loss = 0.6018, Val Loss = 14.4764\n",
            "     Epoch 15: Train Loss = 0.6004, Val Loss = 13.7499\n",
            "     Epoch 20: Train Loss = 0.6027, Val Loss = 12.6128\n",
            "    ⏹️ Early stopping at epoch 20\n",
            " Run 5 finished with best val loss: 11.1088\n",
            "Original Error Percentage (Test Dataset): 10.7707%\n",
            "Corrected Error Percentage (Test Dataset): 10.7368%\n",
            " Finished configuration H=64, D=0.0, LR=0.0005, B=8 → Avg Val Loss: 11.9657, Avg Accuracy: 10.8487%\n",
            "\n",
            " Running 59/108: H=64, D=0.0, LR=0.0005, B=16\n",
            "   Run 1/5 ... "
          ]
        },
        {
          "output_type": "stream",
          "name": "stderr",
          "text": [
            "<ipython-input-28-f2771d1cb762>:152: UserWarning: To copy construct from a tensor, it is recommended to use sourceTensor.clone().detach() or sourceTensor.clone().detach().requires_grad_(True), rather than torch.tensor(sourceTensor).\n",
            "  X_scaled_tensor = torch.tensor(combined_X, dtype=torch.float32).unsqueeze(1)\n"
          ]
        },
        {
          "output_type": "stream",
          "name": "stdout",
          "text": [
            "     Epoch 0: Train Loss = 0.6104, Val Loss = 12.5197\n",
            "     Epoch 5: Train Loss = 0.6023, Val Loss = 12.6021\n",
            "     Epoch 10: Train Loss = 0.6040, Val Loss = 12.8630\n",
            "     Epoch 15: Train Loss = 0.6027, Val Loss = 12.9341\n",
            "     Epoch 20: Train Loss = 0.6022, Val Loss = 13.4708\n",
            "     Epoch 25: Train Loss = 0.6013, Val Loss = 13.6090\n",
            "     Epoch 30: Train Loss = 0.6027, Val Loss = 13.1502\n",
            "     Epoch 35: Train Loss = 0.5994, Val Loss = 12.4809\n",
            "     Epoch 40: Train Loss = 0.5980, Val Loss = 11.9583\n",
            "    ⏹️ Early stopping at epoch 42\n",
            " Run 1 finished with best val loss: 11.4954\n",
            "Original Error Percentage (Test Dataset): 10.7707%\n",
            "Corrected Error Percentage (Test Dataset): 10.8444%\n",
            "   Run 2/5 ...      Epoch 0: Train Loss = 0.6086, Val Loss = 14.5973\n"
          ]
        },
        {
          "output_type": "stream",
          "name": "stderr",
          "text": [
            "<ipython-input-28-f2771d1cb762>:152: UserWarning: To copy construct from a tensor, it is recommended to use sourceTensor.clone().detach() or sourceTensor.clone().detach().requires_grad_(True), rather than torch.tensor(sourceTensor).\n",
            "  X_scaled_tensor = torch.tensor(combined_X, dtype=torch.float32).unsqueeze(1)\n"
          ]
        },
        {
          "output_type": "stream",
          "name": "stdout",
          "text": [
            "     Epoch 5: Train Loss = 0.6064, Val Loss = 13.3222\n",
            "     Epoch 10: Train Loss = 0.6034, Val Loss = 12.8693\n",
            "     Epoch 15: Train Loss = 0.6010, Val Loss = 13.9436\n",
            "     Epoch 20: Train Loss = 0.6011, Val Loss = 13.8489\n",
            "     Epoch 25: Train Loss = 0.6006, Val Loss = 12.7741\n",
            "     Epoch 30: Train Loss = 0.5998, Val Loss = 12.8238\n",
            "     Epoch 35: Train Loss = 0.6012, Val Loss = 12.7467\n",
            "     Epoch 40: Train Loss = 0.6010, Val Loss = 12.3619\n",
            "     Epoch 45: Train Loss = 0.6006, Val Loss = 12.6455\n",
            "     Epoch 50: Train Loss = 0.6000, Val Loss = 12.5504\n",
            "    ⏹️ Early stopping at epoch 52\n",
            " Run 2 finished with best val loss: 12.0354\n",
            "Original Error Percentage (Test Dataset): 10.7707%\n",
            "Corrected Error Percentage (Test Dataset): 10.6884%\n",
            "   Run 3/5 ...      Epoch 0: Train Loss = 0.6104, Val Loss = 12.0407\n"
          ]
        },
        {
          "output_type": "stream",
          "name": "stderr",
          "text": [
            "<ipython-input-28-f2771d1cb762>:152: UserWarning: To copy construct from a tensor, it is recommended to use sourceTensor.clone().detach() or sourceTensor.clone().detach().requires_grad_(True), rather than torch.tensor(sourceTensor).\n",
            "  X_scaled_tensor = torch.tensor(combined_X, dtype=torch.float32).unsqueeze(1)\n"
          ]
        },
        {
          "output_type": "stream",
          "name": "stdout",
          "text": [
            "     Epoch 5: Train Loss = 0.6020, Val Loss = 12.5428\n",
            "     Epoch 10: Train Loss = 0.6011, Val Loss = 12.6135\n",
            "     Epoch 15: Train Loss = 0.6008, Val Loss = 13.4253\n",
            "     Epoch 20: Train Loss = 0.6008, Val Loss = 13.0260\n",
            "    ⏹️ Early stopping at epoch 20\n",
            " Run 3 finished with best val loss: 12.0407\n",
            "Original Error Percentage (Test Dataset): 10.7707%\n",
            "Corrected Error Percentage (Test Dataset): 10.9187%\n",
            "   Run 4/5 ...      Epoch 0: Train Loss = 0.6129, Val Loss = 12.6149\n"
          ]
        },
        {
          "output_type": "stream",
          "name": "stderr",
          "text": [
            "<ipython-input-28-f2771d1cb762>:152: UserWarning: To copy construct from a tensor, it is recommended to use sourceTensor.clone().detach() or sourceTensor.clone().detach().requires_grad_(True), rather than torch.tensor(sourceTensor).\n",
            "  X_scaled_tensor = torch.tensor(combined_X, dtype=torch.float32).unsqueeze(1)\n"
          ]
        },
        {
          "output_type": "stream",
          "name": "stdout",
          "text": [
            "     Epoch 5: Train Loss = 0.6028, Val Loss = 13.4383\n",
            "     Epoch 10: Train Loss = 0.6016, Val Loss = 13.5120\n",
            "     Epoch 15: Train Loss = 0.6010, Val Loss = 13.2603\n",
            "     Epoch 20: Train Loss = 0.6007, Val Loss = 12.8490\n",
            "    ⏹️ Early stopping at epoch 21\n",
            " Run 4 finished with best val loss: 12.5193\n",
            "Original Error Percentage (Test Dataset): 10.7707%\n",
            "Corrected Error Percentage (Test Dataset): 10.9325%\n",
            "   Run 5/5 ... "
          ]
        },
        {
          "output_type": "stream",
          "name": "stderr",
          "text": [
            "<ipython-input-28-f2771d1cb762>:152: UserWarning: To copy construct from a tensor, it is recommended to use sourceTensor.clone().detach() or sourceTensor.clone().detach().requires_grad_(True), rather than torch.tensor(sourceTensor).\n",
            "  X_scaled_tensor = torch.tensor(combined_X, dtype=torch.float32).unsqueeze(1)\n"
          ]
        },
        {
          "output_type": "stream",
          "name": "stdout",
          "text": [
            "     Epoch 0: Train Loss = 0.6101, Val Loss = 13.9787\n",
            "     Epoch 5: Train Loss = 0.6018, Val Loss = 14.1251\n",
            "     Epoch 10: Train Loss = 0.6015, Val Loss = 13.6642\n",
            "     Epoch 15: Train Loss = 0.6031, Val Loss = 12.5527\n",
            "     Epoch 20: Train Loss = 0.6011, Val Loss = 13.2233\n",
            "    ⏹️ Early stopping at epoch 24\n",
            " Run 5 finished with best val loss: 12.2758\n",
            "Original Error Percentage (Test Dataset): 10.7707%\n",
            "Corrected Error Percentage (Test Dataset): 10.8805%\n",
            " Finished configuration H=64, D=0.0, LR=0.0005, B=16 → Avg Val Loss: 12.0733, Avg Accuracy: 10.8529%\n",
            "\n",
            " Running 60/108: H=64, D=0.0, LR=0.0005, B=32\n",
            "   Run 1/5 ...      Epoch 0: Train Loss = 0.6260, Val Loss = 13.1072\n"
          ]
        },
        {
          "output_type": "stream",
          "name": "stderr",
          "text": [
            "<ipython-input-28-f2771d1cb762>:152: UserWarning: To copy construct from a tensor, it is recommended to use sourceTensor.clone().detach() or sourceTensor.clone().detach().requires_grad_(True), rather than torch.tensor(sourceTensor).\n",
            "  X_scaled_tensor = torch.tensor(combined_X, dtype=torch.float32).unsqueeze(1)\n"
          ]
        },
        {
          "output_type": "stream",
          "name": "stdout",
          "text": [
            "     Epoch 5: Train Loss = 0.6017, Val Loss = 13.4228\n",
            "     Epoch 10: Train Loss = 0.6009, Val Loss = 13.1806\n",
            "     Epoch 15: Train Loss = 0.6008, Val Loss = 13.3546\n",
            "     Epoch 20: Train Loss = 0.6024, Val Loss = 13.0735\n",
            "     Epoch 25: Train Loss = 0.5997, Val Loss = 12.8026\n",
            "     Epoch 30: Train Loss = 0.6001, Val Loss = 13.0375\n",
            "     Epoch 35: Train Loss = 0.6000, Val Loss = 13.1119\n",
            "     Epoch 40: Train Loss = 0.5989, Val Loss = 13.1492\n",
            "     Epoch 45: Train Loss = 0.5997, Val Loss = 12.4801\n",
            "     Epoch 50: Train Loss = 0.5992, Val Loss = 13.2025\n",
            "     Epoch 55: Train Loss = 0.5989, Val Loss = 12.7874\n",
            "     Epoch 60: Train Loss = 0.6011, Val Loss = 12.5805\n",
            "     Epoch 65: Train Loss = 0.5980, Val Loss = 12.6510\n",
            "    ⏹️ Early stopping at epoch 66\n",
            " Run 1 finished with best val loss: 12.0280\n",
            "Original Error Percentage (Test Dataset): 10.7707%\n",
            "Corrected Error Percentage (Test Dataset): 10.7875%\n",
            "   Run 2/5 ...      Epoch 0: Train Loss = 0.6302, Val Loss = 11.1392\n"
          ]
        },
        {
          "output_type": "stream",
          "name": "stderr",
          "text": [
            "<ipython-input-28-f2771d1cb762>:152: UserWarning: To copy construct from a tensor, it is recommended to use sourceTensor.clone().detach() or sourceTensor.clone().detach().requires_grad_(True), rather than torch.tensor(sourceTensor).\n",
            "  X_scaled_tensor = torch.tensor(combined_X, dtype=torch.float32).unsqueeze(1)\n"
          ]
        },
        {
          "output_type": "stream",
          "name": "stdout",
          "text": [
            "     Epoch 5: Train Loss = 0.6010, Val Loss = 13.7066\n",
            "     Epoch 10: Train Loss = 0.6021, Val Loss = 12.8067\n",
            "     Epoch 15: Train Loss = 0.6022, Val Loss = 12.1435\n",
            "     Epoch 20: Train Loss = 0.6008, Val Loss = 12.5900\n",
            "    ⏹️ Early stopping at epoch 20\n",
            " Run 2 finished with best val loss: 11.1392\n",
            "Original Error Percentage (Test Dataset): 10.7707%\n",
            "Corrected Error Percentage (Test Dataset): 10.7969%\n",
            "   Run 3/5 ...      Epoch 0: Train Loss = 0.6190, Val Loss = 12.1341\n"
          ]
        },
        {
          "output_type": "stream",
          "name": "stderr",
          "text": [
            "<ipython-input-28-f2771d1cb762>:152: UserWarning: To copy construct from a tensor, it is recommended to use sourceTensor.clone().detach() or sourceTensor.clone().detach().requires_grad_(True), rather than torch.tensor(sourceTensor).\n",
            "  X_scaled_tensor = torch.tensor(combined_X, dtype=torch.float32).unsqueeze(1)\n"
          ]
        },
        {
          "output_type": "stream",
          "name": "stdout",
          "text": [
            "     Epoch 5: Train Loss = 0.6048, Val Loss = 12.4328\n",
            "     Epoch 10: Train Loss = 0.6003, Val Loss = 13.0118\n",
            "     Epoch 15: Train Loss = 0.6004, Val Loss = 12.9781\n",
            "     Epoch 20: Train Loss = 0.6031, Val Loss = 12.7813\n",
            "    ⏹️ Early stopping at epoch 20\n",
            " Run 3 finished with best val loss: 12.1341\n",
            "Original Error Percentage (Test Dataset): 10.7707%\n",
            "Corrected Error Percentage (Test Dataset): 10.8294%\n",
            "   Run 4/5 ...      Epoch 0: Train Loss = 0.6127, Val Loss = 11.5457\n"
          ]
        },
        {
          "output_type": "stream",
          "name": "stderr",
          "text": [
            "<ipython-input-28-f2771d1cb762>:152: UserWarning: To copy construct from a tensor, it is recommended to use sourceTensor.clone().detach() or sourceTensor.clone().detach().requires_grad_(True), rather than torch.tensor(sourceTensor).\n",
            "  X_scaled_tensor = torch.tensor(combined_X, dtype=torch.float32).unsqueeze(1)\n"
          ]
        },
        {
          "output_type": "stream",
          "name": "stdout",
          "text": [
            "     Epoch 5: Train Loss = 0.6019, Val Loss = 13.0832\n",
            "     Epoch 10: Train Loss = 0.6014, Val Loss = 12.9769\n",
            "     Epoch 15: Train Loss = 0.6012, Val Loss = 12.9702\n",
            "     Epoch 20: Train Loss = 0.6013, Val Loss = 12.5503\n",
            "    ⏹️ Early stopping at epoch 20\n",
            " Run 4 finished with best val loss: 11.5457\n",
            "Original Error Percentage (Test Dataset): 10.7707%\n",
            "Corrected Error Percentage (Test Dataset): 10.7884%\n",
            "   Run 5/5 ...      Epoch 0: Train Loss = 0.6064, Val Loss = 13.7230\n"
          ]
        },
        {
          "output_type": "stream",
          "name": "stderr",
          "text": [
            "<ipython-input-28-f2771d1cb762>:152: UserWarning: To copy construct from a tensor, it is recommended to use sourceTensor.clone().detach() or sourceTensor.clone().detach().requires_grad_(True), rather than torch.tensor(sourceTensor).\n",
            "  X_scaled_tensor = torch.tensor(combined_X, dtype=torch.float32).unsqueeze(1)\n"
          ]
        },
        {
          "output_type": "stream",
          "name": "stdout",
          "text": [
            "     Epoch 5: Train Loss = 0.6017, Val Loss = 13.6932\n",
            "     Epoch 10: Train Loss = 0.6019, Val Loss = 14.1329\n",
            "     Epoch 15: Train Loss = 0.6013, Val Loss = 13.5888\n",
            "     Epoch 20: Train Loss = 0.6016, Val Loss = 13.4901\n",
            "     Epoch 25: Train Loss = 0.6026, Val Loss = 13.0583\n",
            "     Epoch 30: Train Loss = 0.6007, Val Loss = 13.2443\n",
            "     Epoch 35: Train Loss = 0.6005, Val Loss = 12.9872\n",
            "     Epoch 40: Train Loss = 0.6034, Val Loss = 15.5883\n",
            "     Epoch 45: Train Loss = 0.6008, Val Loss = 14.2986\n",
            "     Epoch 50: Train Loss = 0.6010, Val Loss = 13.7330\n",
            "     Epoch 55: Train Loss = 0.6003, Val Loss = 13.4752\n",
            "    ⏹️ Early stopping at epoch 55\n",
            " Run 5 finished with best val loss: 12.9872\n",
            "Original Error Percentage (Test Dataset): 10.7707%\n",
            "Corrected Error Percentage (Test Dataset): 11.0937%\n",
            " Finished configuration H=64, D=0.0, LR=0.0005, B=32 → Avg Val Loss: 11.9668, Avg Accuracy: 10.8592%\n",
            "\n",
            " Running 61/108: H=64, D=0.0, LR=0.001, B=8\n",
            "   Run 1/5 ... "
          ]
        },
        {
          "output_type": "stream",
          "name": "stderr",
          "text": [
            "<ipython-input-28-f2771d1cb762>:152: UserWarning: To copy construct from a tensor, it is recommended to use sourceTensor.clone().detach() or sourceTensor.clone().detach().requires_grad_(True), rather than torch.tensor(sourceTensor).\n",
            "  X_scaled_tensor = torch.tensor(combined_X, dtype=torch.float32).unsqueeze(1)\n"
          ]
        },
        {
          "output_type": "stream",
          "name": "stdout",
          "text": [
            "     Epoch 0: Train Loss = 0.6098, Val Loss = 12.9330\n",
            "     Epoch 5: Train Loss = 0.6035, Val Loss = 13.1999\n",
            "     Epoch 10: Train Loss = 0.6034, Val Loss = 12.4103\n",
            "     Epoch 15: Train Loss = 0.6021, Val Loss = 11.6526\n",
            "     Epoch 20: Train Loss = 0.6030, Val Loss = 12.2807\n",
            "     Epoch 25: Train Loss = 0.6010, Val Loss = 12.5052\n",
            "    ⏹️ Early stopping at epoch 26\n",
            " Run 1 finished with best val loss: 11.1525\n",
            "Original Error Percentage (Test Dataset): 10.7707%\n",
            "Corrected Error Percentage (Test Dataset): 10.7359%\n",
            "   Run 2/5 ... "
          ]
        },
        {
          "output_type": "stream",
          "name": "stderr",
          "text": [
            "<ipython-input-28-f2771d1cb762>:152: UserWarning: To copy construct from a tensor, it is recommended to use sourceTensor.clone().detach() or sourceTensor.clone().detach().requires_grad_(True), rather than torch.tensor(sourceTensor).\n",
            "  X_scaled_tensor = torch.tensor(combined_X, dtype=torch.float32).unsqueeze(1)\n"
          ]
        },
        {
          "output_type": "stream",
          "name": "stdout",
          "text": [
            "     Epoch 0: Train Loss = 0.6134, Val Loss = 15.0812\n",
            "     Epoch 5: Train Loss = 0.6034, Val Loss = 13.7312\n",
            "     Epoch 10: Train Loss = 0.6022, Val Loss = 13.2846\n",
            "     Epoch 15: Train Loss = 0.6027, Val Loss = 12.8264\n",
            "     Epoch 20: Train Loss = 0.6022, Val Loss = 13.2486\n",
            "     Epoch 25: Train Loss = 0.6012, Val Loss = 12.3570\n",
            "     Epoch 30: Train Loss = 0.6009, Val Loss = 13.1009\n",
            "    ⏹️ Early stopping at epoch 32\n",
            " Run 2 finished with best val loss: 12.0397\n",
            "Original Error Percentage (Test Dataset): 10.7707%\n",
            "Corrected Error Percentage (Test Dataset): 10.7956%\n",
            "   Run 3/5 ... "
          ]
        },
        {
          "output_type": "stream",
          "name": "stderr",
          "text": [
            "<ipython-input-28-f2771d1cb762>:152: UserWarning: To copy construct from a tensor, it is recommended to use sourceTensor.clone().detach() or sourceTensor.clone().detach().requires_grad_(True), rather than torch.tensor(sourceTensor).\n",
            "  X_scaled_tensor = torch.tensor(combined_X, dtype=torch.float32).unsqueeze(1)\n"
          ]
        },
        {
          "output_type": "stream",
          "name": "stdout",
          "text": [
            "     Epoch 0: Train Loss = 0.6094, Val Loss = 10.9928\n",
            "     Epoch 5: Train Loss = 0.6050, Val Loss = 13.9658\n",
            "     Epoch 10: Train Loss = 0.6030, Val Loss = 12.7679\n",
            "     Epoch 15: Train Loss = 0.6035, Val Loss = 13.4235\n",
            "     Epoch 20: Train Loss = 0.6045, Val Loss = 12.0960\n",
            "    ⏹️ Early stopping at epoch 20\n",
            " Run 3 finished with best val loss: 10.9928\n",
            "Original Error Percentage (Test Dataset): 10.7707%\n",
            "Corrected Error Percentage (Test Dataset): 10.6055%\n",
            "   Run 4/5 ... "
          ]
        },
        {
          "output_type": "stream",
          "name": "stderr",
          "text": [
            "<ipython-input-28-f2771d1cb762>:152: UserWarning: To copy construct from a tensor, it is recommended to use sourceTensor.clone().detach() or sourceTensor.clone().detach().requires_grad_(True), rather than torch.tensor(sourceTensor).\n",
            "  X_scaled_tensor = torch.tensor(combined_X, dtype=torch.float32).unsqueeze(1)\n"
          ]
        },
        {
          "output_type": "stream",
          "name": "stdout",
          "text": [
            "     Epoch 0: Train Loss = 0.6059, Val Loss = 13.3982\n",
            "     Epoch 5: Train Loss = 0.6042, Val Loss = 12.9179\n",
            "     Epoch 10: Train Loss = 0.6028, Val Loss = 12.4372\n",
            "     Epoch 15: Train Loss = 0.6026, Val Loss = 12.3827\n",
            "     Epoch 20: Train Loss = 0.6005, Val Loss = 13.8069\n",
            "    ⏹️ Early stopping at epoch 21\n",
            " Run 4 finished with best val loss: 11.7500\n",
            "Original Error Percentage (Test Dataset): 10.7707%\n",
            "Corrected Error Percentage (Test Dataset): 10.8906%\n",
            "   Run 5/5 ... "
          ]
        },
        {
          "output_type": "stream",
          "name": "stderr",
          "text": [
            "<ipython-input-28-f2771d1cb762>:152: UserWarning: To copy construct from a tensor, it is recommended to use sourceTensor.clone().detach() or sourceTensor.clone().detach().requires_grad_(True), rather than torch.tensor(sourceTensor).\n",
            "  X_scaled_tensor = torch.tensor(combined_X, dtype=torch.float32).unsqueeze(1)\n"
          ]
        },
        {
          "output_type": "stream",
          "name": "stdout",
          "text": [
            "     Epoch 0: Train Loss = 0.6044, Val Loss = 13.3782\n",
            "     Epoch 5: Train Loss = 0.6047, Val Loss = 12.5517\n",
            "     Epoch 10: Train Loss = 0.6017, Val Loss = 12.9198\n",
            "     Epoch 15: Train Loss = 0.6031, Val Loss = 13.1342\n",
            "     Epoch 20: Train Loss = 0.6012, Val Loss = 12.7166\n",
            "    ⏹️ Early stopping at epoch 24\n",
            " Run 5 finished with best val loss: 11.7608\n",
            "Original Error Percentage (Test Dataset): 10.7707%\n",
            "Corrected Error Percentage (Test Dataset): 10.7512%\n",
            " Finished configuration H=64, D=0.0, LR=0.001, B=8 → Avg Val Loss: 11.5392, Avg Accuracy: 10.7558%\n",
            "\n",
            " Running 62/108: H=64, D=0.0, LR=0.001, B=16\n",
            "   Run 1/5 ... "
          ]
        },
        {
          "output_type": "stream",
          "name": "stderr",
          "text": [
            "<ipython-input-28-f2771d1cb762>:152: UserWarning: To copy construct from a tensor, it is recommended to use sourceTensor.clone().detach() or sourceTensor.clone().detach().requires_grad_(True), rather than torch.tensor(sourceTensor).\n",
            "  X_scaled_tensor = torch.tensor(combined_X, dtype=torch.float32).unsqueeze(1)\n"
          ]
        },
        {
          "output_type": "stream",
          "name": "stdout",
          "text": [
            "     Epoch 0: Train Loss = 0.6087, Val Loss = 13.3197\n",
            "     Epoch 5: Train Loss = 0.6040, Val Loss = 13.2819\n",
            "     Epoch 10: Train Loss = 0.6015, Val Loss = 13.7465\n",
            "     Epoch 15: Train Loss = 0.6019, Val Loss = 13.0518\n",
            "     Epoch 20: Train Loss = 0.6031, Val Loss = 12.9618\n",
            "     Epoch 25: Train Loss = 0.6008, Val Loss = 12.4514\n",
            "     Epoch 30: Train Loss = 0.6012, Val Loss = 12.9396\n",
            "    ⏹️ Early stopping at epoch 32\n",
            " Run 1 finished with best val loss: 11.5243\n",
            "Original Error Percentage (Test Dataset): 10.7707%\n",
            "Corrected Error Percentage (Test Dataset): 11.1476%\n",
            "   Run 2/5 ...      Epoch 0: Train Loss = 0.6054, Val Loss = 14.5198\n"
          ]
        },
        {
          "output_type": "stream",
          "name": "stderr",
          "text": [
            "<ipython-input-28-f2771d1cb762>:152: UserWarning: To copy construct from a tensor, it is recommended to use sourceTensor.clone().detach() or sourceTensor.clone().detach().requires_grad_(True), rather than torch.tensor(sourceTensor).\n",
            "  X_scaled_tensor = torch.tensor(combined_X, dtype=torch.float32).unsqueeze(1)\n"
          ]
        },
        {
          "output_type": "stream",
          "name": "stdout",
          "text": [
            "     Epoch 5: Train Loss = 0.6081, Val Loss = 12.6183\n",
            "     Epoch 10: Train Loss = 0.6038, Val Loss = 13.0857\n",
            "     Epoch 15: Train Loss = 0.6036, Val Loss = 12.5911\n",
            "     Epoch 20: Train Loss = 0.5998, Val Loss = 13.3878\n",
            "     Epoch 25: Train Loss = 0.6016, Val Loss = 12.5686\n",
            "     Epoch 30: Train Loss = 0.6012, Val Loss = 13.2791\n",
            "     Epoch 35: Train Loss = 0.6020, Val Loss = 12.3426\n",
            "     Epoch 40: Train Loss = 0.6010, Val Loss = 12.4363\n",
            "     Epoch 45: Train Loss = 0.5998, Val Loss = 12.7392\n",
            "    ⏹️ Early stopping at epoch 47\n",
            " Run 2 finished with best val loss: 11.8557\n",
            "Original Error Percentage (Test Dataset): 10.7707%\n",
            "Corrected Error Percentage (Test Dataset): 10.8304%\n",
            "   Run 3/5 ...      Epoch 0: Train Loss = 0.6082, Val Loss = 13.4018\n"
          ]
        },
        {
          "output_type": "stream",
          "name": "stderr",
          "text": [
            "<ipython-input-28-f2771d1cb762>:152: UserWarning: To copy construct from a tensor, it is recommended to use sourceTensor.clone().detach() or sourceTensor.clone().detach().requires_grad_(True), rather than torch.tensor(sourceTensor).\n",
            "  X_scaled_tensor = torch.tensor(combined_X, dtype=torch.float32).unsqueeze(1)\n"
          ]
        },
        {
          "output_type": "stream",
          "name": "stdout",
          "text": [
            "     Epoch 5: Train Loss = 0.6045, Val Loss = 11.9823\n",
            "     Epoch 10: Train Loss = 0.6024, Val Loss = 12.7281\n",
            "     Epoch 15: Train Loss = 0.6014, Val Loss = 13.1778\n",
            "     Epoch 20: Train Loss = 0.6026, Val Loss = 11.8921\n",
            "    ⏹️ Early stopping at epoch 22\n",
            " Run 3 finished with best val loss: 11.7604\n",
            "Original Error Percentage (Test Dataset): 10.7707%\n",
            "Corrected Error Percentage (Test Dataset): 11.1426%\n",
            "   Run 4/5 ...      Epoch 0: Train Loss = 0.6146, Val Loss = 12.0111\n"
          ]
        },
        {
          "output_type": "stream",
          "name": "stderr",
          "text": [
            "<ipython-input-28-f2771d1cb762>:152: UserWarning: To copy construct from a tensor, it is recommended to use sourceTensor.clone().detach() or sourceTensor.clone().detach().requires_grad_(True), rather than torch.tensor(sourceTensor).\n",
            "  X_scaled_tensor = torch.tensor(combined_X, dtype=torch.float32).unsqueeze(1)\n"
          ]
        },
        {
          "output_type": "stream",
          "name": "stdout",
          "text": [
            "     Epoch 5: Train Loss = 0.6022, Val Loss = 12.9843\n",
            "     Epoch 10: Train Loss = 0.6032, Val Loss = 12.2773\n",
            "     Epoch 15: Train Loss = 0.6018, Val Loss = 12.7609\n",
            "     Epoch 20: Train Loss = 0.6005, Val Loss = 12.5967\n",
            "    ⏹️ Early stopping at epoch 20\n",
            " Run 4 finished with best val loss: 12.0111\n",
            "Original Error Percentage (Test Dataset): 10.7707%\n",
            "Corrected Error Percentage (Test Dataset): 10.7998%\n",
            "   Run 5/5 ...      Epoch 0: Train Loss = 0.6091, Val Loss = 13.4878\n"
          ]
        },
        {
          "output_type": "stream",
          "name": "stderr",
          "text": [
            "<ipython-input-28-f2771d1cb762>:152: UserWarning: To copy construct from a tensor, it is recommended to use sourceTensor.clone().detach() or sourceTensor.clone().detach().requires_grad_(True), rather than torch.tensor(sourceTensor).\n",
            "  X_scaled_tensor = torch.tensor(combined_X, dtype=torch.float32).unsqueeze(1)\n"
          ]
        },
        {
          "output_type": "stream",
          "name": "stdout",
          "text": [
            "     Epoch 5: Train Loss = 0.6039, Val Loss = 13.2097\n",
            "     Epoch 10: Train Loss = 0.6035, Val Loss = 13.7915\n",
            "     Epoch 15: Train Loss = 0.6013, Val Loss = 12.7778\n",
            "     Epoch 20: Train Loss = 0.6023, Val Loss = 13.1019\n",
            "    ⏹️ Early stopping at epoch 24\n",
            " Run 5 finished with best val loss: 12.2893\n",
            "Original Error Percentage (Test Dataset): 10.7707%\n",
            "Corrected Error Percentage (Test Dataset): 11.0171%\n",
            " Finished configuration H=64, D=0.0, LR=0.001, B=16 → Avg Val Loss: 11.8882, Avg Accuracy: 10.9875%\n",
            "\n",
            " Running 63/108: H=64, D=0.0, LR=0.001, B=32\n",
            "   Run 1/5 ...      Epoch 0: Train Loss = 0.6102, Val Loss = 13.5140\n"
          ]
        },
        {
          "output_type": "stream",
          "name": "stderr",
          "text": [
            "<ipython-input-28-f2771d1cb762>:152: UserWarning: To copy construct from a tensor, it is recommended to use sourceTensor.clone().detach() or sourceTensor.clone().detach().requires_grad_(True), rather than torch.tensor(sourceTensor).\n",
            "  X_scaled_tensor = torch.tensor(combined_X, dtype=torch.float32).unsqueeze(1)\n"
          ]
        },
        {
          "output_type": "stream",
          "name": "stdout",
          "text": [
            "     Epoch 5: Train Loss = 0.6044, Val Loss = 13.4772\n",
            "     Epoch 10: Train Loss = 0.6021, Val Loss = 13.2700\n",
            "     Epoch 15: Train Loss = 0.6010, Val Loss = 13.6855\n",
            "     Epoch 20: Train Loss = 0.6026, Val Loss = 12.9072\n",
            "    ⏹️ Early stopping at epoch 22\n",
            " Run 1 finished with best val loss: 12.2991\n",
            "Original Error Percentage (Test Dataset): 10.7707%\n",
            "Corrected Error Percentage (Test Dataset): 10.9196%\n",
            "   Run 2/5 ... "
          ]
        },
        {
          "output_type": "stream",
          "name": "stderr",
          "text": [
            "<ipython-input-28-f2771d1cb762>:152: UserWarning: To copy construct from a tensor, it is recommended to use sourceTensor.clone().detach() or sourceTensor.clone().detach().requires_grad_(True), rather than torch.tensor(sourceTensor).\n",
            "  X_scaled_tensor = torch.tensor(combined_X, dtype=torch.float32).unsqueeze(1)\n"
          ]
        },
        {
          "output_type": "stream",
          "name": "stdout",
          "text": [
            "     Epoch 0: Train Loss = 0.6093, Val Loss = 12.6900\n",
            "     Epoch 5: Train Loss = 0.6037, Val Loss = 13.2225\n",
            "     Epoch 10: Train Loss = 0.6025, Val Loss = 14.1239\n",
            "     Epoch 15: Train Loss = 0.6026, Val Loss = 13.4132\n",
            "     Epoch 20: Train Loss = 0.6020, Val Loss = 12.8878\n",
            "     Epoch 25: Train Loss = 0.6021, Val Loss = 12.8184\n",
            "    ⏹️ Early stopping at epoch 29\n",
            " Run 2 finished with best val loss: 12.5066\n",
            "Original Error Percentage (Test Dataset): 10.7707%\n",
            "Corrected Error Percentage (Test Dataset): 10.7856%\n",
            "   Run 3/5 ...      Epoch 0: Train Loss = 0.6102, Val Loss = 13.6725\n"
          ]
        },
        {
          "output_type": "stream",
          "name": "stderr",
          "text": [
            "<ipython-input-28-f2771d1cb762>:152: UserWarning: To copy construct from a tensor, it is recommended to use sourceTensor.clone().detach() or sourceTensor.clone().detach().requires_grad_(True), rather than torch.tensor(sourceTensor).\n",
            "  X_scaled_tensor = torch.tensor(combined_X, dtype=torch.float32).unsqueeze(1)\n"
          ]
        },
        {
          "output_type": "stream",
          "name": "stdout",
          "text": [
            "     Epoch 5: Train Loss = 0.6040, Val Loss = 13.1605\n",
            "     Epoch 10: Train Loss = 0.6008, Val Loss = 12.3389\n",
            "     Epoch 15: Train Loss = 0.6008, Val Loss = 13.0197\n",
            "     Epoch 20: Train Loss = 0.6008, Val Loss = 12.7786\n",
            "     Epoch 25: Train Loss = 0.6005, Val Loss = 12.6790\n",
            "    ⏹️ Early stopping at epoch 26\n",
            " Run 3 finished with best val loss: 10.3335\n",
            "Original Error Percentage (Test Dataset): 10.7707%\n",
            "Corrected Error Percentage (Test Dataset): 10.8814%\n",
            "   Run 4/5 ...      Epoch 0: Train Loss = 0.6166, Val Loss = 13.5053\n"
          ]
        },
        {
          "output_type": "stream",
          "name": "stderr",
          "text": [
            "<ipython-input-28-f2771d1cb762>:152: UserWarning: To copy construct from a tensor, it is recommended to use sourceTensor.clone().detach() or sourceTensor.clone().detach().requires_grad_(True), rather than torch.tensor(sourceTensor).\n",
            "  X_scaled_tensor = torch.tensor(combined_X, dtype=torch.float32).unsqueeze(1)\n"
          ]
        },
        {
          "output_type": "stream",
          "name": "stdout",
          "text": [
            "     Epoch 5: Train Loss = 0.6030, Val Loss = 13.8764\n",
            "     Epoch 10: Train Loss = 0.6035, Val Loss = 12.7871\n",
            "     Epoch 15: Train Loss = 0.6065, Val Loss = 13.7118\n",
            "     Epoch 20: Train Loss = 0.6008, Val Loss = 13.1071\n",
            "     Epoch 25: Train Loss = 0.6021, Val Loss = 13.5174\n",
            "     Epoch 30: Train Loss = 0.6002, Val Loss = 12.6506\n",
            "     Epoch 35: Train Loss = 0.5999, Val Loss = 13.1391\n",
            "     Epoch 40: Train Loss = 0.5993, Val Loss = 12.7240\n",
            "    ⏹️ Early stopping at epoch 42\n",
            " Run 4 finished with best val loss: 12.6155\n",
            "Original Error Percentage (Test Dataset): 10.7707%\n",
            "Corrected Error Percentage (Test Dataset): 10.9474%\n",
            "   Run 5/5 ...      Epoch 0: Train Loss = 0.6094, Val Loss = 13.1445\n"
          ]
        },
        {
          "output_type": "stream",
          "name": "stderr",
          "text": [
            "<ipython-input-28-f2771d1cb762>:152: UserWarning: To copy construct from a tensor, it is recommended to use sourceTensor.clone().detach() or sourceTensor.clone().detach().requires_grad_(True), rather than torch.tensor(sourceTensor).\n",
            "  X_scaled_tensor = torch.tensor(combined_X, dtype=torch.float32).unsqueeze(1)\n"
          ]
        },
        {
          "output_type": "stream",
          "name": "stdout",
          "text": [
            "     Epoch 5: Train Loss = 0.6014, Val Loss = 12.8532\n",
            "     Epoch 10: Train Loss = 0.6009, Val Loss = 13.1251\n",
            "     Epoch 15: Train Loss = 0.5999, Val Loss = 13.0916\n",
            "     Epoch 20: Train Loss = 0.6003, Val Loss = 12.8901\n",
            "    ⏹️ Early stopping at epoch 23\n",
            " Run 5 finished with best val loss: 12.3744\n",
            "Original Error Percentage (Test Dataset): 10.7707%\n",
            "Corrected Error Percentage (Test Dataset): 10.8366%\n",
            " Finished configuration H=64, D=0.0, LR=0.001, B=32 → Avg Val Loss: 12.0258, Avg Accuracy: 10.8741%\n",
            "\n",
            " Running 64/108: H=64, D=0.1, LR=0.0001, B=8\n",
            "   Run 1/5 ... "
          ]
        },
        {
          "output_type": "stream",
          "name": "stderr",
          "text": [
            "<ipython-input-28-f2771d1cb762>:152: UserWarning: To copy construct from a tensor, it is recommended to use sourceTensor.clone().detach() or sourceTensor.clone().detach().requires_grad_(True), rather than torch.tensor(sourceTensor).\n",
            "  X_scaled_tensor = torch.tensor(combined_X, dtype=torch.float32).unsqueeze(1)\n"
          ]
        },
        {
          "output_type": "stream",
          "name": "stdout",
          "text": [
            "     Epoch 0: Train Loss = 0.6235, Val Loss = 13.4837\n",
            "     Epoch 5: Train Loss = 0.6047, Val Loss = 13.6848\n",
            "     Epoch 10: Train Loss = 0.6076, Val Loss = 13.0773\n",
            "     Epoch 15: Train Loss = 0.6039, Val Loss = 13.2610\n",
            "     Epoch 20: Train Loss = 0.6058, Val Loss = 13.3099\n",
            "     Epoch 25: Train Loss = 0.6037, Val Loss = 13.0420\n",
            "     Epoch 30: Train Loss = 0.6017, Val Loss = 13.1744\n",
            "     Epoch 35: Train Loss = 0.6072, Val Loss = 12.8046\n",
            "     Epoch 40: Train Loss = 0.5994, Val Loss = 13.2395\n",
            "     Epoch 45: Train Loss = 0.6016, Val Loss = 13.2813\n",
            "     Epoch 50: Train Loss = 0.6015, Val Loss = 13.2505\n",
            "     Epoch 55: Train Loss = 0.6019, Val Loss = 12.9605\n",
            "     Epoch 60: Train Loss = 0.6023, Val Loss = 12.7991\n",
            "     Epoch 65: Train Loss = 0.6021, Val Loss = 12.7067\n",
            "     Epoch 70: Train Loss = 0.6005, Val Loss = 12.8155\n",
            "     Epoch 75: Train Loss = 0.6044, Val Loss = 12.3552\n",
            "     Epoch 80: Train Loss = 0.6005, Val Loss = 12.5750\n",
            "     Epoch 85: Train Loss = 0.5980, Val Loss = 12.9361\n",
            "     Epoch 90: Train Loss = 0.5998, Val Loss = 12.5710\n",
            "     Epoch 95: Train Loss = 0.6023, Val Loss = 12.8027\n",
            "    ⏹️ Early stopping at epoch 95\n",
            " Run 1 finished with best val loss: 12.3552\n",
            "Original Error Percentage (Test Dataset): 10.7707%\n",
            "Corrected Error Percentage (Test Dataset): 10.9284%\n",
            "   Run 2/5 ... "
          ]
        },
        {
          "output_type": "stream",
          "name": "stderr",
          "text": [
            "<ipython-input-28-f2771d1cb762>:152: UserWarning: To copy construct from a tensor, it is recommended to use sourceTensor.clone().detach() or sourceTensor.clone().detach().requires_grad_(True), rather than torch.tensor(sourceTensor).\n",
            "  X_scaled_tensor = torch.tensor(combined_X, dtype=torch.float32).unsqueeze(1)\n"
          ]
        },
        {
          "output_type": "stream",
          "name": "stdout",
          "text": [
            "     Epoch 0: Train Loss = 0.6223, Val Loss = 10.6933\n",
            "     Epoch 5: Train Loss = 0.6052, Val Loss = 12.5975\n",
            "     Epoch 10: Train Loss = 0.6027, Val Loss = 12.5043\n",
            "     Epoch 15: Train Loss = 0.6003, Val Loss = 12.8568\n",
            "     Epoch 20: Train Loss = 0.6010, Val Loss = 12.5513\n",
            "    ⏹️ Early stopping at epoch 20\n",
            " Run 2 finished with best val loss: 10.6933\n",
            "Original Error Percentage (Test Dataset): 10.7707%\n",
            "Corrected Error Percentage (Test Dataset): 10.7895%\n",
            "   Run 3/5 ... "
          ]
        },
        {
          "output_type": "stream",
          "name": "stderr",
          "text": [
            "<ipython-input-28-f2771d1cb762>:152: UserWarning: To copy construct from a tensor, it is recommended to use sourceTensor.clone().detach() or sourceTensor.clone().detach().requires_grad_(True), rather than torch.tensor(sourceTensor).\n",
            "  X_scaled_tensor = torch.tensor(combined_X, dtype=torch.float32).unsqueeze(1)\n"
          ]
        },
        {
          "output_type": "stream",
          "name": "stdout",
          "text": [
            "     Epoch 0: Train Loss = 0.6195, Val Loss = 11.5442\n",
            "     Epoch 5: Train Loss = 0.6086, Val Loss = 12.8923\n",
            "     Epoch 10: Train Loss = 0.6048, Val Loss = 12.9942\n",
            "     Epoch 15: Train Loss = 0.6043, Val Loss = 12.6113\n",
            "     Epoch 20: Train Loss = 0.6081, Val Loss = 12.7071\n",
            "    ⏹️ Early stopping at epoch 20\n",
            " Run 3 finished with best val loss: 11.5442\n",
            "Original Error Percentage (Test Dataset): 10.7707%\n",
            "Corrected Error Percentage (Test Dataset): 10.8769%\n",
            "   Run 4/5 ... "
          ]
        },
        {
          "output_type": "stream",
          "name": "stderr",
          "text": [
            "<ipython-input-28-f2771d1cb762>:152: UserWarning: To copy construct from a tensor, it is recommended to use sourceTensor.clone().detach() or sourceTensor.clone().detach().requires_grad_(True), rather than torch.tensor(sourceTensor).\n",
            "  X_scaled_tensor = torch.tensor(combined_X, dtype=torch.float32).unsqueeze(1)\n"
          ]
        },
        {
          "output_type": "stream",
          "name": "stdout",
          "text": [
            "     Epoch 0: Train Loss = 0.6845, Val Loss = 10.0450\n",
            "     Epoch 5: Train Loss = 0.6079, Val Loss = 13.4458\n",
            "     Epoch 10: Train Loss = 0.6059, Val Loss = 13.3764\n",
            "     Epoch 15: Train Loss = 0.6046, Val Loss = 13.4918\n",
            "     Epoch 20: Train Loss = 0.6018, Val Loss = 13.4884\n",
            "    ⏹️ Early stopping at epoch 20\n",
            " Run 4 finished with best val loss: 10.0450\n",
            "Original Error Percentage (Test Dataset): 10.7707%\n",
            "Corrected Error Percentage (Test Dataset): 11.1731%\n",
            "   Run 5/5 ... "
          ]
        },
        {
          "output_type": "stream",
          "name": "stderr",
          "text": [
            "<ipython-input-28-f2771d1cb762>:152: UserWarning: To copy construct from a tensor, it is recommended to use sourceTensor.clone().detach() or sourceTensor.clone().detach().requires_grad_(True), rather than torch.tensor(sourceTensor).\n",
            "  X_scaled_tensor = torch.tensor(combined_X, dtype=torch.float32).unsqueeze(1)\n"
          ]
        },
        {
          "output_type": "stream",
          "name": "stdout",
          "text": [
            "     Epoch 0: Train Loss = 0.6245, Val Loss = 10.0261\n",
            "     Epoch 5: Train Loss = 0.6071, Val Loss = 12.3469\n",
            "     Epoch 10: Train Loss = 0.6040, Val Loss = 12.6435\n",
            "     Epoch 15: Train Loss = 0.6006, Val Loss = 12.8012\n",
            "     Epoch 20: Train Loss = 0.6053, Val Loss = 12.8508\n",
            "    ⏹️ Early stopping at epoch 20\n",
            " Run 5 finished with best val loss: 10.0261\n",
            "Original Error Percentage (Test Dataset): 10.7707%\n",
            "Corrected Error Percentage (Test Dataset): 10.8846%\n",
            " Finished configuration H=64, D=0.1, LR=0.0001, B=8 → Avg Val Loss: 10.9327, Avg Accuracy: 10.9305%\n",
            "\n",
            " Running 65/108: H=64, D=0.1, LR=0.0001, B=16\n",
            "   Run 1/5 ...      Epoch 0: Train Loss = 0.6332, Val Loss = 9.6249\n"
          ]
        },
        {
          "output_type": "stream",
          "name": "stderr",
          "text": [
            "<ipython-input-28-f2771d1cb762>:152: UserWarning: To copy construct from a tensor, it is recommended to use sourceTensor.clone().detach() or sourceTensor.clone().detach().requires_grad_(True), rather than torch.tensor(sourceTensor).\n",
            "  X_scaled_tensor = torch.tensor(combined_X, dtype=torch.float32).unsqueeze(1)\n"
          ]
        },
        {
          "output_type": "stream",
          "name": "stdout",
          "text": [
            "     Epoch 5: Train Loss = 0.6055, Val Loss = 12.6036\n",
            "     Epoch 10: Train Loss = 0.6060, Val Loss = 13.0095\n",
            "     Epoch 15: Train Loss = 0.6067, Val Loss = 13.1212\n",
            "     Epoch 20: Train Loss = 0.6006, Val Loss = 13.2212\n",
            "    ⏹️ Early stopping at epoch 20\n",
            " Run 1 finished with best val loss: 9.6249\n",
            "Original Error Percentage (Test Dataset): 10.7707%\n",
            "Corrected Error Percentage (Test Dataset): 11.0334%\n",
            "   Run 2/5 ...      Epoch 0: Train Loss = 0.6488, Val Loss = 13.6364\n"
          ]
        },
        {
          "output_type": "stream",
          "name": "stderr",
          "text": [
            "<ipython-input-28-f2771d1cb762>:152: UserWarning: To copy construct from a tensor, it is recommended to use sourceTensor.clone().detach() or sourceTensor.clone().detach().requires_grad_(True), rather than torch.tensor(sourceTensor).\n",
            "  X_scaled_tensor = torch.tensor(combined_X, dtype=torch.float32).unsqueeze(1)\n"
          ]
        },
        {
          "output_type": "stream",
          "name": "stdout",
          "text": [
            "     Epoch 5: Train Loss = 0.6067, Val Loss = 14.9202\n",
            "     Epoch 10: Train Loss = 0.6086, Val Loss = 14.7956\n",
            "     Epoch 15: Train Loss = 0.6030, Val Loss = 14.4561\n",
            "     Epoch 20: Train Loss = 0.6083, Val Loss = 14.6031\n",
            "    ⏹️ Early stopping at epoch 20\n",
            " Run 2 finished with best val loss: 13.6364\n",
            "Original Error Percentage (Test Dataset): 10.7707%\n",
            "Corrected Error Percentage (Test Dataset): 11.6912%\n",
            "   Run 3/5 ...      Epoch 0: Train Loss = 0.6545, Val Loss = 10.4037\n"
          ]
        },
        {
          "output_type": "stream",
          "name": "stderr",
          "text": [
            "<ipython-input-28-f2771d1cb762>:152: UserWarning: To copy construct from a tensor, it is recommended to use sourceTensor.clone().detach() or sourceTensor.clone().detach().requires_grad_(True), rather than torch.tensor(sourceTensor).\n",
            "  X_scaled_tensor = torch.tensor(combined_X, dtype=torch.float32).unsqueeze(1)\n"
          ]
        },
        {
          "output_type": "stream",
          "name": "stdout",
          "text": [
            "     Epoch 5: Train Loss = 0.6073, Val Loss = 12.8591\n",
            "     Epoch 10: Train Loss = 0.6045, Val Loss = 13.4048\n",
            "     Epoch 15: Train Loss = 0.6060, Val Loss = 13.1181\n",
            "     Epoch 20: Train Loss = 0.6027, Val Loss = 13.2681\n",
            "    ⏹️ Early stopping at epoch 20\n",
            " Run 3 finished with best val loss: 10.4037\n",
            "Original Error Percentage (Test Dataset): 10.7707%\n",
            "Corrected Error Percentage (Test Dataset): 11.1025%\n",
            "   Run 4/5 ...      Epoch 0: Train Loss = 0.6459, Val Loss = 12.6971\n"
          ]
        },
        {
          "output_type": "stream",
          "name": "stderr",
          "text": [
            "<ipython-input-28-f2771d1cb762>:152: UserWarning: To copy construct from a tensor, it is recommended to use sourceTensor.clone().detach() or sourceTensor.clone().detach().requires_grad_(True), rather than torch.tensor(sourceTensor).\n",
            "  X_scaled_tensor = torch.tensor(combined_X, dtype=torch.float32).unsqueeze(1)\n"
          ]
        },
        {
          "output_type": "stream",
          "name": "stdout",
          "text": [
            "     Epoch 5: Train Loss = 0.6074, Val Loss = 13.8275\n",
            "     Epoch 10: Train Loss = 0.6030, Val Loss = 13.2801\n",
            "     Epoch 15: Train Loss = 0.6094, Val Loss = 13.3130\n",
            "     Epoch 20: Train Loss = 0.6004, Val Loss = 13.3083\n",
            "    ⏹️ Early stopping at epoch 20\n",
            " Run 4 finished with best val loss: 12.6971\n",
            "Original Error Percentage (Test Dataset): 10.7707%\n",
            "Corrected Error Percentage (Test Dataset): 11.0811%\n",
            "   Run 5/5 ...      Epoch 0: Train Loss = 0.6442, Val Loss = 10.5748\n"
          ]
        },
        {
          "output_type": "stream",
          "name": "stderr",
          "text": [
            "<ipython-input-28-f2771d1cb762>:152: UserWarning: To copy construct from a tensor, it is recommended to use sourceTensor.clone().detach() or sourceTensor.clone().detach().requires_grad_(True), rather than torch.tensor(sourceTensor).\n",
            "  X_scaled_tensor = torch.tensor(combined_X, dtype=torch.float32).unsqueeze(1)\n"
          ]
        },
        {
          "output_type": "stream",
          "name": "stdout",
          "text": [
            "     Epoch 5: Train Loss = 0.6074, Val Loss = 13.6106\n",
            "     Epoch 10: Train Loss = 0.6116, Val Loss = 13.1820\n",
            "     Epoch 15: Train Loss = 0.6050, Val Loss = 13.2602\n",
            "     Epoch 20: Train Loss = 0.6045, Val Loss = 13.1795\n",
            "    ⏹️ Early stopping at epoch 20\n",
            " Run 5 finished with best val loss: 10.5748\n",
            "Original Error Percentage (Test Dataset): 10.7707%\n",
            "Corrected Error Percentage (Test Dataset): 11.0869%\n",
            " Finished configuration H=64, D=0.1, LR=0.0001, B=16 → Avg Val Loss: 11.3874, Avg Accuracy: 11.1990%\n",
            "\n",
            " Running 66/108: H=64, D=0.1, LR=0.0001, B=32\n",
            "   Run 1/5 ...      Epoch 0: Train Loss = 0.6337, Val Loss = 11.6231\n"
          ]
        },
        {
          "output_type": "stream",
          "name": "stderr",
          "text": [
            "<ipython-input-28-f2771d1cb762>:152: UserWarning: To copy construct from a tensor, it is recommended to use sourceTensor.clone().detach() or sourceTensor.clone().detach().requires_grad_(True), rather than torch.tensor(sourceTensor).\n",
            "  X_scaled_tensor = torch.tensor(combined_X, dtype=torch.float32).unsqueeze(1)\n"
          ]
        },
        {
          "output_type": "stream",
          "name": "stdout",
          "text": [
            "     Epoch 5: Train Loss = 0.6039, Val Loss = 13.5997\n",
            "     Epoch 10: Train Loss = 0.6068, Val Loss = 13.4142\n",
            "     Epoch 15: Train Loss = 0.6073, Val Loss = 13.1432\n",
            "     Epoch 20: Train Loss = 0.6014, Val Loss = 13.4537\n",
            "    ⏹️ Early stopping at epoch 20\n",
            " Run 1 finished with best val loss: 11.6231\n",
            "Original Error Percentage (Test Dataset): 10.7707%\n",
            "Corrected Error Percentage (Test Dataset): 11.1478%\n",
            "   Run 2/5 ...      Epoch 0: Train Loss = 0.6169, Val Loss = 13.0623\n"
          ]
        },
        {
          "output_type": "stream",
          "name": "stderr",
          "text": [
            "<ipython-input-28-f2771d1cb762>:152: UserWarning: To copy construct from a tensor, it is recommended to use sourceTensor.clone().detach() or sourceTensor.clone().detach().requires_grad_(True), rather than torch.tensor(sourceTensor).\n",
            "  X_scaled_tensor = torch.tensor(combined_X, dtype=torch.float32).unsqueeze(1)\n"
          ]
        },
        {
          "output_type": "stream",
          "name": "stdout",
          "text": [
            "     Epoch 5: Train Loss = 0.6036, Val Loss = 14.5111\n",
            "     Epoch 10: Train Loss = 0.6004, Val Loss = 13.8508\n",
            "     Epoch 15: Train Loss = 0.5987, Val Loss = 13.5601\n",
            "     Epoch 20: Train Loss = 0.6052, Val Loss = 13.8435\n",
            "    ⏹️ Early stopping at epoch 20\n",
            " Run 2 finished with best val loss: 13.0623\n",
            "Original Error Percentage (Test Dataset): 10.7707%\n",
            "Corrected Error Percentage (Test Dataset): 11.2929%\n",
            "   Run 3/5 ...      Epoch 0: Train Loss = 0.6327, Val Loss = 9.4741\n"
          ]
        },
        {
          "output_type": "stream",
          "name": "stderr",
          "text": [
            "<ipython-input-28-f2771d1cb762>:152: UserWarning: To copy construct from a tensor, it is recommended to use sourceTensor.clone().detach() or sourceTensor.clone().detach().requires_grad_(True), rather than torch.tensor(sourceTensor).\n",
            "  X_scaled_tensor = torch.tensor(combined_X, dtype=torch.float32).unsqueeze(1)\n"
          ]
        },
        {
          "output_type": "stream",
          "name": "stdout",
          "text": [
            "     Epoch 5: Train Loss = 0.6029, Val Loss = 11.7858\n",
            "     Epoch 10: Train Loss = 0.6040, Val Loss = 11.9529\n",
            "     Epoch 15: Train Loss = 0.6025, Val Loss = 12.6209\n",
            "     Epoch 20: Train Loss = 0.6008, Val Loss = 12.8732\n",
            "    ⏹️ Early stopping at epoch 20\n",
            " Run 3 finished with best val loss: 9.4741\n",
            "Original Error Percentage (Test Dataset): 10.7707%\n",
            "Corrected Error Percentage (Test Dataset): 10.9261%\n",
            "   Run 4/5 ...      Epoch 0: Train Loss = 0.6259, Val Loss = 10.6034\n"
          ]
        },
        {
          "output_type": "stream",
          "name": "stderr",
          "text": [
            "<ipython-input-28-f2771d1cb762>:152: UserWarning: To copy construct from a tensor, it is recommended to use sourceTensor.clone().detach() or sourceTensor.clone().detach().requires_grad_(True), rather than torch.tensor(sourceTensor).\n",
            "  X_scaled_tensor = torch.tensor(combined_X, dtype=torch.float32).unsqueeze(1)\n"
          ]
        },
        {
          "output_type": "stream",
          "name": "stdout",
          "text": [
            "     Epoch 5: Train Loss = 0.6036, Val Loss = 12.6343\n",
            "     Epoch 10: Train Loss = 0.6028, Val Loss = 12.8696\n",
            "     Epoch 15: Train Loss = 0.6054, Val Loss = 13.0984\n",
            "     Epoch 20: Train Loss = 0.6012, Val Loss = 13.2031\n",
            "    ⏹️ Early stopping at epoch 20\n",
            " Run 4 finished with best val loss: 10.6034\n",
            "Original Error Percentage (Test Dataset): 10.7707%\n",
            "Corrected Error Percentage (Test Dataset): 11.0446%\n",
            "   Run 5/5 ...      Epoch 0: Train Loss = 0.6400, Val Loss = 11.3129\n"
          ]
        },
        {
          "output_type": "stream",
          "name": "stderr",
          "text": [
            "<ipython-input-28-f2771d1cb762>:152: UserWarning: To copy construct from a tensor, it is recommended to use sourceTensor.clone().detach() or sourceTensor.clone().detach().requires_grad_(True), rather than torch.tensor(sourceTensor).\n",
            "  X_scaled_tensor = torch.tensor(combined_X, dtype=torch.float32).unsqueeze(1)\n"
          ]
        },
        {
          "output_type": "stream",
          "name": "stdout",
          "text": [
            "     Epoch 5: Train Loss = 0.6049, Val Loss = 14.2728\n",
            "     Epoch 10: Train Loss = 0.6032, Val Loss = 13.8062\n",
            "     Epoch 15: Train Loss = 0.6077, Val Loss = 13.6772\n",
            "     Epoch 20: Train Loss = 0.6031, Val Loss = 13.6753\n",
            "    ⏹️ Early stopping at epoch 20\n",
            " Run 5 finished with best val loss: 11.3129\n",
            "Original Error Percentage (Test Dataset): 10.7707%\n",
            "Corrected Error Percentage (Test Dataset): 11.2472%\n",
            " Finished configuration H=64, D=0.1, LR=0.0001, B=32 → Avg Val Loss: 11.2152, Avg Accuracy: 11.1317%\n",
            "\n",
            " Running 67/108: H=64, D=0.1, LR=0.0005, B=8\n",
            "   Run 1/5 ... "
          ]
        },
        {
          "output_type": "stream",
          "name": "stderr",
          "text": [
            "<ipython-input-28-f2771d1cb762>:152: UserWarning: To copy construct from a tensor, it is recommended to use sourceTensor.clone().detach() or sourceTensor.clone().detach().requires_grad_(True), rather than torch.tensor(sourceTensor).\n",
            "  X_scaled_tensor = torch.tensor(combined_X, dtype=torch.float32).unsqueeze(1)\n"
          ]
        },
        {
          "output_type": "stream",
          "name": "stdout",
          "text": [
            "     Epoch 0: Train Loss = 0.6303, Val Loss = 12.8053\n",
            "     Epoch 5: Train Loss = 0.6027, Val Loss = 13.8212\n",
            "     Epoch 10: Train Loss = 0.6044, Val Loss = 14.2064\n",
            "     Epoch 15: Train Loss = 0.6041, Val Loss = 12.7813\n",
            "     Epoch 20: Train Loss = 0.6005, Val Loss = 12.2614\n",
            "    ⏹️ Early stopping at epoch 23\n",
            " Run 1 finished with best val loss: 12.1173\n",
            "Original Error Percentage (Test Dataset): 10.7707%\n",
            "Corrected Error Percentage (Test Dataset): 11.2829%\n",
            "   Run 2/5 ... "
          ]
        },
        {
          "output_type": "stream",
          "name": "stderr",
          "text": [
            "<ipython-input-28-f2771d1cb762>:152: UserWarning: To copy construct from a tensor, it is recommended to use sourceTensor.clone().detach() or sourceTensor.clone().detach().requires_grad_(True), rather than torch.tensor(sourceTensor).\n",
            "  X_scaled_tensor = torch.tensor(combined_X, dtype=torch.float32).unsqueeze(1)\n"
          ]
        },
        {
          "output_type": "stream",
          "name": "stdout",
          "text": [
            "     Epoch 0: Train Loss = 0.6188, Val Loss = 13.2777\n",
            "     Epoch 5: Train Loss = 0.6051, Val Loss = 12.0947\n",
            "     Epoch 10: Train Loss = 0.6077, Val Loss = 12.6627\n",
            "     Epoch 15: Train Loss = 0.6023, Val Loss = 12.8286\n",
            "     Epoch 20: Train Loss = 0.6019, Val Loss = 13.0474\n",
            "     Epoch 25: Train Loss = 0.6025, Val Loss = 12.7934\n",
            "    ⏹️ Early stopping at epoch 25\n",
            " Run 2 finished with best val loss: 12.0947\n",
            "Original Error Percentage (Test Dataset): 10.7707%\n",
            "Corrected Error Percentage (Test Dataset): 10.9033%\n",
            "   Run 3/5 ... "
          ]
        },
        {
          "output_type": "stream",
          "name": "stderr",
          "text": [
            "<ipython-input-28-f2771d1cb762>:152: UserWarning: To copy construct from a tensor, it is recommended to use sourceTensor.clone().detach() or sourceTensor.clone().detach().requires_grad_(True), rather than torch.tensor(sourceTensor).\n",
            "  X_scaled_tensor = torch.tensor(combined_X, dtype=torch.float32).unsqueeze(1)\n"
          ]
        },
        {
          "output_type": "stream",
          "name": "stdout",
          "text": [
            "     Epoch 0: Train Loss = 0.6149, Val Loss = 13.9838\n",
            "     Epoch 5: Train Loss = 0.6042, Val Loss = 11.0463\n",
            "     Epoch 10: Train Loss = 0.6073, Val Loss = 12.0281\n",
            "     Epoch 15: Train Loss = 0.6072, Val Loss = 12.8239\n",
            "     Epoch 20: Train Loss = 0.6045, Val Loss = 12.9825\n",
            "     Epoch 25: Train Loss = 0.6010, Val Loss = 13.2990\n",
            "    ⏹️ Early stopping at epoch 25\n",
            " Run 3 finished with best val loss: 11.0463\n",
            "Original Error Percentage (Test Dataset): 10.7707%\n",
            "Corrected Error Percentage (Test Dataset): 11.0726%\n",
            "   Run 4/5 ... "
          ]
        },
        {
          "output_type": "stream",
          "name": "stderr",
          "text": [
            "<ipython-input-28-f2771d1cb762>:152: UserWarning: To copy construct from a tensor, it is recommended to use sourceTensor.clone().detach() or sourceTensor.clone().detach().requires_grad_(True), rather than torch.tensor(sourceTensor).\n",
            "  X_scaled_tensor = torch.tensor(combined_X, dtype=torch.float32).unsqueeze(1)\n"
          ]
        },
        {
          "output_type": "stream",
          "name": "stdout",
          "text": [
            "     Epoch 0: Train Loss = 0.6198, Val Loss = 12.1809\n",
            "     Epoch 5: Train Loss = 0.6036, Val Loss = 13.4853\n",
            "     Epoch 10: Train Loss = 0.6068, Val Loss = 12.6400\n",
            "     Epoch 15: Train Loss = 0.6056, Val Loss = 13.3626\n",
            "     Epoch 20: Train Loss = 0.6017, Val Loss = 12.8576\n",
            "    ⏹️ Early stopping at epoch 20\n",
            " Run 4 finished with best val loss: 12.1809\n",
            "Original Error Percentage (Test Dataset): 10.7707%\n",
            "Corrected Error Percentage (Test Dataset): 10.8879%\n",
            "   Run 5/5 ... "
          ]
        },
        {
          "output_type": "stream",
          "name": "stderr",
          "text": [
            "<ipython-input-28-f2771d1cb762>:152: UserWarning: To copy construct from a tensor, it is recommended to use sourceTensor.clone().detach() or sourceTensor.clone().detach().requires_grad_(True), rather than torch.tensor(sourceTensor).\n",
            "  X_scaled_tensor = torch.tensor(combined_X, dtype=torch.float32).unsqueeze(1)\n"
          ]
        },
        {
          "output_type": "stream",
          "name": "stdout",
          "text": [
            "     Epoch 0: Train Loss = 0.6109, Val Loss = 12.7943\n",
            "     Epoch 5: Train Loss = 0.6076, Val Loss = 13.3234\n",
            "     Epoch 10: Train Loss = 0.6042, Val Loss = 12.4469\n",
            "     Epoch 15: Train Loss = 0.6012, Val Loss = 12.8823\n",
            "     Epoch 20: Train Loss = 0.6026, Val Loss = 12.7893\n",
            "    ⏹️ Early stopping at epoch 21\n",
            " Run 5 finished with best val loss: 11.3463\n",
            "Original Error Percentage (Test Dataset): 10.7707%\n",
            "Corrected Error Percentage (Test Dataset): 10.9858%\n",
            " Finished configuration H=64, D=0.1, LR=0.0005, B=8 → Avg Val Loss: 11.7571, Avg Accuracy: 11.0265%\n",
            "\n",
            " Running 68/108: H=64, D=0.1, LR=0.0005, B=16\n",
            "   Run 1/5 ...      Epoch 0: Train Loss = 0.6198, Val Loss = 13.1284\n"
          ]
        },
        {
          "output_type": "stream",
          "name": "stderr",
          "text": [
            "<ipython-input-28-f2771d1cb762>:152: UserWarning: To copy construct from a tensor, it is recommended to use sourceTensor.clone().detach() or sourceTensor.clone().detach().requires_grad_(True), rather than torch.tensor(sourceTensor).\n",
            "  X_scaled_tensor = torch.tensor(combined_X, dtype=torch.float32).unsqueeze(1)\n"
          ]
        },
        {
          "output_type": "stream",
          "name": "stdout",
          "text": [
            "     Epoch 5: Train Loss = 0.6036, Val Loss = 13.4715\n",
            "     Epoch 10: Train Loss = 0.6005, Val Loss = 12.9244\n",
            "     Epoch 15: Train Loss = 0.6058, Val Loss = 12.4971\n",
            "     Epoch 20: Train Loss = 0.6025, Val Loss = 13.0142\n",
            "     Epoch 25: Train Loss = 0.6016, Val Loss = 12.5483\n",
            "    ⏹️ Early stopping at epoch 27\n",
            " Run 1 finished with best val loss: 11.8370\n",
            "Original Error Percentage (Test Dataset): 10.7707%\n",
            "Corrected Error Percentage (Test Dataset): 10.9279%\n",
            "   Run 2/5 ...      Epoch 0: Train Loss = 0.6133, Val Loss = 13.7427\n"
          ]
        },
        {
          "output_type": "stream",
          "name": "stderr",
          "text": [
            "<ipython-input-28-f2771d1cb762>:152: UserWarning: To copy construct from a tensor, it is recommended to use sourceTensor.clone().detach() or sourceTensor.clone().detach().requires_grad_(True), rather than torch.tensor(sourceTensor).\n",
            "  X_scaled_tensor = torch.tensor(combined_X, dtype=torch.float32).unsqueeze(1)\n"
          ]
        },
        {
          "output_type": "stream",
          "name": "stdout",
          "text": [
            "     Epoch 5: Train Loss = 0.6076, Val Loss = 12.6850\n",
            "     Epoch 10: Train Loss = 0.6019, Val Loss = 12.6185\n",
            "     Epoch 15: Train Loss = 0.6062, Val Loss = 12.7645\n",
            "     Epoch 20: Train Loss = 0.6079, Val Loss = 12.4550\n",
            "     Epoch 25: Train Loss = 0.6072, Val Loss = 14.0665\n",
            "     Epoch 30: Train Loss = 0.6032, Val Loss = 13.1385\n",
            "     Epoch 35: Train Loss = 0.6021, Val Loss = 13.2421\n",
            "    ⏹️ Early stopping at epoch 38\n",
            " Run 2 finished with best val loss: 11.8471\n",
            "Original Error Percentage (Test Dataset): 10.7707%\n",
            "Corrected Error Percentage (Test Dataset): 11.0122%\n",
            "   Run 3/5 ...      Epoch 0: Train Loss = 0.6296, Val Loss = 14.1698\n"
          ]
        },
        {
          "output_type": "stream",
          "name": "stderr",
          "text": [
            "<ipython-input-28-f2771d1cb762>:152: UserWarning: To copy construct from a tensor, it is recommended to use sourceTensor.clone().detach() or sourceTensor.clone().detach().requires_grad_(True), rather than torch.tensor(sourceTensor).\n",
            "  X_scaled_tensor = torch.tensor(combined_X, dtype=torch.float32).unsqueeze(1)\n"
          ]
        },
        {
          "output_type": "stream",
          "name": "stdout",
          "text": [
            "     Epoch 5: Train Loss = 0.6060, Val Loss = 12.7989\n",
            "     Epoch 10: Train Loss = 0.6056, Val Loss = 13.6130\n",
            "     Epoch 15: Train Loss = 0.6020, Val Loss = 12.9071\n",
            "     Epoch 20: Train Loss = 0.6044, Val Loss = 12.9089\n",
            "     Epoch 25: Train Loss = 0.6061, Val Loss = 11.8477\n",
            "     Epoch 30: Train Loss = 0.6039, Val Loss = 12.0878\n",
            "     Epoch 35: Train Loss = 0.6038, Val Loss = 11.8805\n",
            "     Epoch 40: Train Loss = 0.5978, Val Loss = 12.3440\n",
            "    ⏹️ Early stopping at epoch 44\n",
            " Run 3 finished with best val loss: 11.3806\n",
            "Original Error Percentage (Test Dataset): 10.7707%\n",
            "Corrected Error Percentage (Test Dataset): 10.5956%\n",
            "   Run 4/5 ...      Epoch 0: Train Loss = 0.6128, Val Loss = 12.6340\n"
          ]
        },
        {
          "output_type": "stream",
          "name": "stderr",
          "text": [
            "<ipython-input-28-f2771d1cb762>:152: UserWarning: To copy construct from a tensor, it is recommended to use sourceTensor.clone().detach() or sourceTensor.clone().detach().requires_grad_(True), rather than torch.tensor(sourceTensor).\n",
            "  X_scaled_tensor = torch.tensor(combined_X, dtype=torch.float32).unsqueeze(1)\n"
          ]
        },
        {
          "output_type": "stream",
          "name": "stdout",
          "text": [
            "     Epoch 5: Train Loss = 0.6034, Val Loss = 12.7347\n",
            "     Epoch 10: Train Loss = 0.6046, Val Loss = 12.8566\n",
            "     Epoch 15: Train Loss = 0.6040, Val Loss = 12.3441\n",
            "     Epoch 20: Train Loss = 0.6005, Val Loss = 13.0247\n",
            "     Epoch 25: Train Loss = 0.6031, Val Loss = 12.7733\n",
            "     Epoch 30: Train Loss = 0.6046, Val Loss = 12.5831\n",
            "     Epoch 35: Train Loss = 0.5996, Val Loss = 12.7786\n",
            "    ⏹️ Early stopping at epoch 36\n",
            " Run 4 finished with best val loss: 11.7743\n",
            "Original Error Percentage (Test Dataset): 10.7707%\n",
            "Corrected Error Percentage (Test Dataset): 10.8672%\n",
            "   Run 5/5 ... "
          ]
        },
        {
          "output_type": "stream",
          "name": "stderr",
          "text": [
            "<ipython-input-28-f2771d1cb762>:152: UserWarning: To copy construct from a tensor, it is recommended to use sourceTensor.clone().detach() or sourceTensor.clone().detach().requires_grad_(True), rather than torch.tensor(sourceTensor).\n",
            "  X_scaled_tensor = torch.tensor(combined_X, dtype=torch.float32).unsqueeze(1)\n"
          ]
        },
        {
          "output_type": "stream",
          "name": "stdout",
          "text": [
            "     Epoch 0: Train Loss = 0.6122, Val Loss = 13.2067\n",
            "     Epoch 5: Train Loss = 0.6022, Val Loss = 13.7762\n",
            "     Epoch 10: Train Loss = 0.6025, Val Loss = 12.8201\n",
            "     Epoch 15: Train Loss = 0.6027, Val Loss = 13.4674\n",
            "     Epoch 20: Train Loss = 0.6025, Val Loss = 12.7699\n",
            "     Epoch 25: Train Loss = 0.6009, Val Loss = 13.3990\n",
            "     Epoch 30: Train Loss = 0.6031, Val Loss = 12.7149\n",
            "     Epoch 35: Train Loss = 0.6015, Val Loss = 12.8746\n",
            "     Epoch 40: Train Loss = 0.5997, Val Loss = 12.9005\n",
            "     Epoch 45: Train Loss = 0.6016, Val Loss = 12.7439\n",
            "     Epoch 50: Train Loss = 0.6012, Val Loss = 12.4379\n",
            "     Epoch 55: Train Loss = 0.5996, Val Loss = 12.6096\n",
            "     Epoch 60: Train Loss = 0.5996, Val Loss = 12.2045\n",
            "     Epoch 65: Train Loss = 0.5983, Val Loss = 12.4596\n",
            "     Epoch 70: Train Loss = 0.6011, Val Loss = 12.4695\n",
            "     Epoch 75: Train Loss = 0.5996, Val Loss = 12.5521\n",
            "     Epoch 80: Train Loss = 0.5985, Val Loss = 12.3821\n",
            "    ⏹️ Early stopping at epoch 83\n",
            " Run 5 finished with best val loss: 12.0817\n",
            "Original Error Percentage (Test Dataset): 10.7707%\n",
            "Corrected Error Percentage (Test Dataset): 10.7333%\n",
            " Finished configuration H=64, D=0.1, LR=0.0005, B=16 → Avg Val Loss: 11.7841, Avg Accuracy: 10.8272%\n",
            "\n",
            " Running 69/108: H=64, D=0.1, LR=0.0005, B=32\n",
            "   Run 1/5 ...      Epoch 0: Train Loss = 0.6142, Val Loss = 12.4725\n"
          ]
        },
        {
          "output_type": "stream",
          "name": "stderr",
          "text": [
            "<ipython-input-28-f2771d1cb762>:152: UserWarning: To copy construct from a tensor, it is recommended to use sourceTensor.clone().detach() or sourceTensor.clone().detach().requires_grad_(True), rather than torch.tensor(sourceTensor).\n",
            "  X_scaled_tensor = torch.tensor(combined_X, dtype=torch.float32).unsqueeze(1)\n"
          ]
        },
        {
          "output_type": "stream",
          "name": "stdout",
          "text": [
            "     Epoch 5: Train Loss = 0.6072, Val Loss = 13.4676\n",
            "     Epoch 10: Train Loss = 0.6074, Val Loss = 12.9852\n",
            "     Epoch 15: Train Loss = 0.6051, Val Loss = 13.1064\n",
            "     Epoch 20: Train Loss = 0.5985, Val Loss = 13.0264\n",
            "    ⏹️ Early stopping at epoch 20\n",
            " Run 1 finished with best val loss: 12.4725\n",
            "Original Error Percentage (Test Dataset): 10.7707%\n",
            "Corrected Error Percentage (Test Dataset): 10.8955%\n",
            "   Run 2/5 ...      Epoch 0: Train Loss = 0.6212, Val Loss = 14.6281\n"
          ]
        },
        {
          "output_type": "stream",
          "name": "stderr",
          "text": [
            "<ipython-input-28-f2771d1cb762>:152: UserWarning: To copy construct from a tensor, it is recommended to use sourceTensor.clone().detach() or sourceTensor.clone().detach().requires_grad_(True), rather than torch.tensor(sourceTensor).\n",
            "  X_scaled_tensor = torch.tensor(combined_X, dtype=torch.float32).unsqueeze(1)\n"
          ]
        },
        {
          "output_type": "stream",
          "name": "stdout",
          "text": [
            "     Epoch 5: Train Loss = 0.6059, Val Loss = 13.0775\n",
            "     Epoch 10: Train Loss = 0.6042, Val Loss = 12.8857\n",
            "     Epoch 15: Train Loss = 0.6076, Val Loss = 13.8549\n",
            "     Epoch 20: Train Loss = 0.6048, Val Loss = 12.4075\n",
            "     Epoch 25: Train Loss = 0.6026, Val Loss = 13.1941\n",
            "     Epoch 30: Train Loss = 0.6031, Val Loss = 13.1198\n",
            "     Epoch 35: Train Loss = 0.6004, Val Loss = 13.8431\n",
            "     Epoch 40: Train Loss = 0.6047, Val Loss = 12.3889\n",
            "     Epoch 45: Train Loss = 0.6053, Val Loss = 13.1239\n",
            "     Epoch 50: Train Loss = 0.6021, Val Loss = 13.1213\n",
            "     Epoch 55: Train Loss = 0.6022, Val Loss = 13.2654\n",
            "     Epoch 60: Train Loss = 0.6038, Val Loss = 13.0295\n",
            "    ⏹️ Early stopping at epoch 60\n",
            " Run 2 finished with best val loss: 12.3889\n",
            "Original Error Percentage (Test Dataset): 10.7707%\n",
            "Corrected Error Percentage (Test Dataset): 10.9420%\n",
            "   Run 3/5 ...      Epoch 0: Train Loss = 0.6243, Val Loss = 13.4098\n"
          ]
        },
        {
          "output_type": "stream",
          "name": "stderr",
          "text": [
            "<ipython-input-28-f2771d1cb762>:152: UserWarning: To copy construct from a tensor, it is recommended to use sourceTensor.clone().detach() or sourceTensor.clone().detach().requires_grad_(True), rather than torch.tensor(sourceTensor).\n",
            "  X_scaled_tensor = torch.tensor(combined_X, dtype=torch.float32).unsqueeze(1)\n"
          ]
        },
        {
          "output_type": "stream",
          "name": "stdout",
          "text": [
            "     Epoch 5: Train Loss = 0.6069, Val Loss = 13.3298\n",
            "     Epoch 10: Train Loss = 0.6045, Val Loss = 12.8949\n",
            "     Epoch 15: Train Loss = 0.6022, Val Loss = 12.7671\n",
            "     Epoch 20: Train Loss = 0.5997, Val Loss = 13.1578\n",
            "    ⏹️ Early stopping at epoch 22\n",
            " Run 3 finished with best val loss: 11.9865\n",
            "Original Error Percentage (Test Dataset): 10.7707%\n",
            "Corrected Error Percentage (Test Dataset): 11.0570%\n",
            "   Run 4/5 ...      Epoch 0: Train Loss = 0.6325, Val Loss = 13.0734\n"
          ]
        },
        {
          "output_type": "stream",
          "name": "stderr",
          "text": [
            "<ipython-input-28-f2771d1cb762>:152: UserWarning: To copy construct from a tensor, it is recommended to use sourceTensor.clone().detach() or sourceTensor.clone().detach().requires_grad_(True), rather than torch.tensor(sourceTensor).\n",
            "  X_scaled_tensor = torch.tensor(combined_X, dtype=torch.float32).unsqueeze(1)\n"
          ]
        },
        {
          "output_type": "stream",
          "name": "stdout",
          "text": [
            "     Epoch 5: Train Loss = 0.6077, Val Loss = 13.2599\n",
            "     Epoch 10: Train Loss = 0.6091, Val Loss = 13.4967\n",
            "     Epoch 15: Train Loss = 0.6013, Val Loss = 13.0601\n",
            "     Epoch 20: Train Loss = 0.6024, Val Loss = 12.5961\n",
            "     Epoch 25: Train Loss = 0.6040, Val Loss = 12.9157\n",
            "     Epoch 30: Train Loss = 0.6039, Val Loss = 13.0664\n",
            "     Epoch 35: Train Loss = 0.6053, Val Loss = 12.7007\n",
            "     Epoch 40: Train Loss = 0.6034, Val Loss = 12.8464\n",
            "     Epoch 45: Train Loss = 0.6026, Val Loss = 12.8254\n",
            "     Epoch 50: Train Loss = 0.6036, Val Loss = 13.0281\n",
            "     Epoch 55: Train Loss = 0.6015, Val Loss = 12.0174\n",
            "     Epoch 60: Train Loss = 0.6033, Val Loss = 12.5101\n",
            "     Epoch 65: Train Loss = 0.6027, Val Loss = 12.7119\n",
            "     Epoch 70: Train Loss = 0.6042, Val Loss = 12.4562\n",
            "    ⏹️ Early stopping at epoch 73\n",
            " Run 4 finished with best val loss: 10.9161\n",
            "Original Error Percentage (Test Dataset): 10.7707%\n",
            "Corrected Error Percentage (Test Dataset): 10.7763%\n",
            "   Run 5/5 ...      Epoch 0: Train Loss = 0.6087, Val Loss = 12.6662\n"
          ]
        },
        {
          "output_type": "stream",
          "name": "stderr",
          "text": [
            "<ipython-input-28-f2771d1cb762>:152: UserWarning: To copy construct from a tensor, it is recommended to use sourceTensor.clone().detach() or sourceTensor.clone().detach().requires_grad_(True), rather than torch.tensor(sourceTensor).\n",
            "  X_scaled_tensor = torch.tensor(combined_X, dtype=torch.float32).unsqueeze(1)\n"
          ]
        },
        {
          "output_type": "stream",
          "name": "stdout",
          "text": [
            "     Epoch 5: Train Loss = 0.6062, Val Loss = 13.2752\n",
            "     Epoch 10: Train Loss = 0.5993, Val Loss = 13.4944\n",
            "     Epoch 15: Train Loss = 0.6038, Val Loss = 12.5546\n",
            "     Epoch 20: Train Loss = 0.6004, Val Loss = 12.9095\n",
            "     Epoch 25: Train Loss = 0.6040, Val Loss = 12.6613\n",
            "     Epoch 30: Train Loss = 0.6012, Val Loss = 12.8761\n",
            "    ⏹️ Early stopping at epoch 32\n",
            " Run 5 finished with best val loss: 10.9599\n",
            "Original Error Percentage (Test Dataset): 10.7707%\n",
            "Corrected Error Percentage (Test Dataset): 11.0173%\n",
            " Finished configuration H=64, D=0.1, LR=0.0005, B=32 → Avg Val Loss: 11.7448, Avg Accuracy: 10.9376%\n",
            "\n",
            " Running 70/108: H=64, D=0.1, LR=0.001, B=8\n",
            "   Run 1/5 ... "
          ]
        },
        {
          "output_type": "stream",
          "name": "stderr",
          "text": [
            "<ipython-input-28-f2771d1cb762>:152: UserWarning: To copy construct from a tensor, it is recommended to use sourceTensor.clone().detach() or sourceTensor.clone().detach().requires_grad_(True), rather than torch.tensor(sourceTensor).\n",
            "  X_scaled_tensor = torch.tensor(combined_X, dtype=torch.float32).unsqueeze(1)\n"
          ]
        },
        {
          "output_type": "stream",
          "name": "stdout",
          "text": [
            "     Epoch 0: Train Loss = 0.6057, Val Loss = 11.9157\n",
            "     Epoch 5: Train Loss = 0.6065, Val Loss = 12.0411\n",
            "     Epoch 10: Train Loss = 0.6053, Val Loss = 12.1920\n",
            "     Epoch 15: Train Loss = 0.6047, Val Loss = 12.1360\n",
            "     Epoch 20: Train Loss = 0.6033, Val Loss = 12.0509\n",
            "     Epoch 25: Train Loss = 0.6074, Val Loss = 12.4731\n",
            "     Epoch 30: Train Loss = 0.6014, Val Loss = 13.0202\n",
            "     Epoch 35: Train Loss = 0.6031, Val Loss = 11.9727\n",
            "     Epoch 40: Train Loss = 0.6037, Val Loss = 11.9199\n",
            "     Epoch 45: Train Loss = 0.6024, Val Loss = 12.2659\n",
            "    ⏹️ Early stopping at epoch 49\n",
            " Run 1 finished with best val loss: 11.6929\n",
            "Original Error Percentage (Test Dataset): 10.7707%\n",
            "Corrected Error Percentage (Test Dataset): 11.1330%\n",
            "   Run 2/5 ... "
          ]
        },
        {
          "output_type": "stream",
          "name": "stderr",
          "text": [
            "<ipython-input-28-f2771d1cb762>:152: UserWarning: To copy construct from a tensor, it is recommended to use sourceTensor.clone().detach() or sourceTensor.clone().detach().requires_grad_(True), rather than torch.tensor(sourceTensor).\n",
            "  X_scaled_tensor = torch.tensor(combined_X, dtype=torch.float32).unsqueeze(1)\n"
          ]
        },
        {
          "output_type": "stream",
          "name": "stdout",
          "text": [
            "     Epoch 0: Train Loss = 0.6090, Val Loss = 12.0114\n",
            "     Epoch 5: Train Loss = 0.6047, Val Loss = 12.7734\n",
            "     Epoch 10: Train Loss = 0.6016, Val Loss = 13.5051\n",
            "     Epoch 15: Train Loss = 0.6005, Val Loss = 13.5860\n",
            "     Epoch 20: Train Loss = 0.6043, Val Loss = 13.3540\n",
            "     Epoch 25: Train Loss = 0.6046, Val Loss = 13.3689\n",
            "     Epoch 30: Train Loss = 0.6045, Val Loss = 13.1866\n",
            "     Epoch 35: Train Loss = 0.6036, Val Loss = 12.7287\n",
            "    ⏹️ Early stopping at epoch 38\n",
            " Run 2 finished with best val loss: 11.8182\n",
            "Original Error Percentage (Test Dataset): 10.7707%\n",
            "Corrected Error Percentage (Test Dataset): 10.9570%\n",
            "   Run 3/5 ... "
          ]
        },
        {
          "output_type": "stream",
          "name": "stderr",
          "text": [
            "<ipython-input-28-f2771d1cb762>:152: UserWarning: To copy construct from a tensor, it is recommended to use sourceTensor.clone().detach() or sourceTensor.clone().detach().requires_grad_(True), rather than torch.tensor(sourceTensor).\n",
            "  X_scaled_tensor = torch.tensor(combined_X, dtype=torch.float32).unsqueeze(1)\n"
          ]
        },
        {
          "output_type": "stream",
          "name": "stdout",
          "text": [
            "     Epoch 0: Train Loss = 0.6158, Val Loss = 14.3886\n",
            "     Epoch 5: Train Loss = 0.6065, Val Loss = 12.6617\n",
            "     Epoch 10: Train Loss = 0.6042, Val Loss = 13.6593\n",
            "     Epoch 15: Train Loss = 0.6057, Val Loss = 12.6912\n",
            "     Epoch 20: Train Loss = 0.6007, Val Loss = 13.1244\n",
            "     Epoch 25: Train Loss = 0.6027, Val Loss = 12.8407\n",
            "     Epoch 30: Train Loss = 0.6051, Val Loss = 12.3499\n",
            "     Epoch 35: Train Loss = 0.6006, Val Loss = 12.4888\n",
            "     Epoch 40: Train Loss = 0.6017, Val Loss = 12.6559\n",
            "     Epoch 45: Train Loss = 0.6041, Val Loss = 12.8455\n",
            "    ⏹️ Early stopping at epoch 47\n",
            " Run 3 finished with best val loss: 11.6580\n",
            "Original Error Percentage (Test Dataset): 10.7707%\n",
            "Corrected Error Percentage (Test Dataset): 10.8362%\n",
            "   Run 4/5 ... "
          ]
        },
        {
          "output_type": "stream",
          "name": "stderr",
          "text": [
            "<ipython-input-28-f2771d1cb762>:152: UserWarning: To copy construct from a tensor, it is recommended to use sourceTensor.clone().detach() or sourceTensor.clone().detach().requires_grad_(True), rather than torch.tensor(sourceTensor).\n",
            "  X_scaled_tensor = torch.tensor(combined_X, dtype=torch.float32).unsqueeze(1)\n"
          ]
        },
        {
          "output_type": "stream",
          "name": "stdout",
          "text": [
            "     Epoch 0: Train Loss = 0.6161, Val Loss = 12.6820\n",
            "     Epoch 5: Train Loss = 0.6041, Val Loss = 13.0228\n",
            "     Epoch 10: Train Loss = 0.6021, Val Loss = 13.1295\n",
            "     Epoch 15: Train Loss = 0.6034, Val Loss = 13.0652\n",
            "     Epoch 20: Train Loss = 0.6004, Val Loss = 12.5999\n",
            "     Epoch 25: Train Loss = 0.6032, Val Loss = 12.4510\n",
            "     Epoch 30: Train Loss = 0.6013, Val Loss = 12.8389\n",
            "     Epoch 35: Train Loss = 0.6002, Val Loss = 12.9456\n",
            "     Epoch 40: Train Loss = 0.6036, Val Loss = 12.5934\n",
            "     Epoch 45: Train Loss = 0.6044, Val Loss = 12.4401\n",
            "     Epoch 50: Train Loss = 0.5981, Val Loss = 12.8973\n",
            "     Epoch 55: Train Loss = 0.6018, Val Loss = 12.2367\n",
            "     Epoch 60: Train Loss = 0.5980, Val Loss = 12.4695\n",
            "     Epoch 65: Train Loss = 0.5985, Val Loss = 13.5745\n",
            "     Epoch 70: Train Loss = 0.5990, Val Loss = 13.0127\n",
            "     Epoch 75: Train Loss = 0.6017, Val Loss = 12.0299\n",
            "     Epoch 80: Train Loss = 0.6013, Val Loss = 12.2528\n",
            "     Epoch 85: Train Loss = 0.5983, Val Loss = 12.5188\n",
            "     Epoch 90: Train Loss = 0.5988, Val Loss = 11.7869\n",
            "     Epoch 95: Train Loss = 0.5950, Val Loss = 12.8095\n",
            "     Epoch 100: Train Loss = 0.6000, Val Loss = 12.2755\n",
            "     Epoch 105: Train Loss = 0.6005, Val Loss = 12.1841\n",
            "     Epoch 110: Train Loss = 0.5984, Val Loss = 13.0659\n",
            "     Epoch 115: Train Loss = 0.5984, Val Loss = 12.3050\n",
            "     Epoch 120: Train Loss = 0.5998, Val Loss = 12.5488\n",
            "    ⏹️ Early stopping at epoch 124\n",
            " Run 4 finished with best val loss: 11.6180\n",
            "Original Error Percentage (Test Dataset): 10.7707%\n",
            "Corrected Error Percentage (Test Dataset): 10.5070%\n",
            "   Run 5/5 ... "
          ]
        },
        {
          "output_type": "stream",
          "name": "stderr",
          "text": [
            "<ipython-input-28-f2771d1cb762>:152: UserWarning: To copy construct from a tensor, it is recommended to use sourceTensor.clone().detach() or sourceTensor.clone().detach().requires_grad_(True), rather than torch.tensor(sourceTensor).\n",
            "  X_scaled_tensor = torch.tensor(combined_X, dtype=torch.float32).unsqueeze(1)\n"
          ]
        },
        {
          "output_type": "stream",
          "name": "stdout",
          "text": [
            "     Epoch 0: Train Loss = 0.6179, Val Loss = 11.6076\n",
            "     Epoch 5: Train Loss = 0.6088, Val Loss = 14.4917\n",
            "     Epoch 10: Train Loss = 0.6092, Val Loss = 13.0420\n",
            "     Epoch 15: Train Loss = 0.6026, Val Loss = 13.4908\n",
            "     Epoch 20: Train Loss = 0.6037, Val Loss = 13.1460\n",
            "    ⏹️ Early stopping at epoch 21\n",
            " Run 5 finished with best val loss: 10.6618\n",
            "Original Error Percentage (Test Dataset): 10.7707%\n",
            "Corrected Error Percentage (Test Dataset): 10.8300%\n",
            " Finished configuration H=64, D=0.1, LR=0.001, B=8 → Avg Val Loss: 11.4898, Avg Accuracy: 10.8526%\n",
            "\n",
            " Running 71/108: H=64, D=0.1, LR=0.001, B=16\n",
            "   Run 1/5 ... "
          ]
        },
        {
          "output_type": "stream",
          "name": "stderr",
          "text": [
            "<ipython-input-28-f2771d1cb762>:152: UserWarning: To copy construct from a tensor, it is recommended to use sourceTensor.clone().detach() or sourceTensor.clone().detach().requires_grad_(True), rather than torch.tensor(sourceTensor).\n",
            "  X_scaled_tensor = torch.tensor(combined_X, dtype=torch.float32).unsqueeze(1)\n"
          ]
        },
        {
          "output_type": "stream",
          "name": "stdout",
          "text": [
            "     Epoch 0: Train Loss = 0.6104, Val Loss = 11.6963\n",
            "     Epoch 5: Train Loss = 0.6110, Val Loss = 12.6182\n",
            "     Epoch 10: Train Loss = 0.6046, Val Loss = 13.0414\n",
            "     Epoch 15: Train Loss = 0.6054, Val Loss = 12.3449\n",
            "     Epoch 20: Train Loss = 0.6025, Val Loss = 12.5471\n",
            "    ⏹️ Early stopping at epoch 20\n",
            " Run 1 finished with best val loss: 11.6963\n",
            "Original Error Percentage (Test Dataset): 10.7707%\n",
            "Corrected Error Percentage (Test Dataset): 10.7893%\n",
            "   Run 2/5 ... "
          ]
        },
        {
          "output_type": "stream",
          "name": "stderr",
          "text": [
            "<ipython-input-28-f2771d1cb762>:152: UserWarning: To copy construct from a tensor, it is recommended to use sourceTensor.clone().detach() or sourceTensor.clone().detach().requires_grad_(True), rather than torch.tensor(sourceTensor).\n",
            "  X_scaled_tensor = torch.tensor(combined_X, dtype=torch.float32).unsqueeze(1)\n"
          ]
        },
        {
          "output_type": "stream",
          "name": "stdout",
          "text": [
            "     Epoch 0: Train Loss = 0.6112, Val Loss = 13.3573\n",
            "     Epoch 5: Train Loss = 0.6019, Val Loss = 12.9630\n",
            "     Epoch 10: Train Loss = 0.6028, Val Loss = 13.8140\n",
            "     Epoch 15: Train Loss = 0.6033, Val Loss = 12.3871\n",
            "     Epoch 20: Train Loss = 0.6035, Val Loss = 12.6894\n",
            "    ⏹️ Early stopping at epoch 24\n",
            " Run 2 finished with best val loss: 11.3172\n",
            "Original Error Percentage (Test Dataset): 10.7707%\n",
            "Corrected Error Percentage (Test Dataset): 10.8976%\n",
            "   Run 3/5 ...      Epoch 0: Train Loss = 0.6159, Val Loss = 13.3731\n"
          ]
        },
        {
          "output_type": "stream",
          "name": "stderr",
          "text": [
            "<ipython-input-28-f2771d1cb762>:152: UserWarning: To copy construct from a tensor, it is recommended to use sourceTensor.clone().detach() or sourceTensor.clone().detach().requires_grad_(True), rather than torch.tensor(sourceTensor).\n",
            "  X_scaled_tensor = torch.tensor(combined_X, dtype=torch.float32).unsqueeze(1)\n"
          ]
        },
        {
          "output_type": "stream",
          "name": "stdout",
          "text": [
            "     Epoch 5: Train Loss = 0.6075, Val Loss = 12.6264\n",
            "     Epoch 10: Train Loss = 0.6003, Val Loss = 12.4017\n",
            "     Epoch 15: Train Loss = 0.6012, Val Loss = 12.7001\n",
            "     Epoch 20: Train Loss = 0.6038, Val Loss = 12.7248\n",
            "     Epoch 25: Train Loss = 0.6030, Val Loss = 13.2309\n",
            "     Epoch 30: Train Loss = 0.6028, Val Loss = 12.4069\n",
            "     Epoch 35: Train Loss = 0.6009, Val Loss = 11.9253\n",
            "     Epoch 40: Train Loss = 0.6023, Val Loss = 12.4786\n",
            "     Epoch 45: Train Loss = 0.6027, Val Loss = 12.2030\n",
            "     Epoch 50: Train Loss = 0.6025, Val Loss = 12.9605\n",
            "     Epoch 55: Train Loss = 0.6010, Val Loss = 12.5521\n",
            "    ⏹️ Early stopping at epoch 55\n",
            " Run 3 finished with best val loss: 11.9253\n",
            "Original Error Percentage (Test Dataset): 10.7707%\n",
            "Corrected Error Percentage (Test Dataset): 10.8085%\n",
            "   Run 4/5 ...      Epoch 0: Train Loss = 0.6184, Val Loss = 15.2184\n"
          ]
        },
        {
          "output_type": "stream",
          "name": "stderr",
          "text": [
            "<ipython-input-28-f2771d1cb762>:152: UserWarning: To copy construct from a tensor, it is recommended to use sourceTensor.clone().detach() or sourceTensor.clone().detach().requires_grad_(True), rather than torch.tensor(sourceTensor).\n",
            "  X_scaled_tensor = torch.tensor(combined_X, dtype=torch.float32).unsqueeze(1)\n"
          ]
        },
        {
          "output_type": "stream",
          "name": "stdout",
          "text": [
            "     Epoch 5: Train Loss = 0.6056, Val Loss = 13.3099\n",
            "     Epoch 10: Train Loss = 0.6048, Val Loss = 12.4176\n",
            "     Epoch 15: Train Loss = 0.6045, Val Loss = 13.9123\n",
            "     Epoch 20: Train Loss = 0.6050, Val Loss = 12.0106\n",
            "     Epoch 25: Train Loss = 0.6040, Val Loss = 12.7533\n",
            "     Epoch 30: Train Loss = 0.6042, Val Loss = 11.8056\n",
            "     Epoch 35: Train Loss = 0.6069, Val Loss = 12.3715\n",
            "     Epoch 40: Train Loss = 0.6037, Val Loss = 12.9214\n",
            "     Epoch 45: Train Loss = 0.6013, Val Loss = 12.5232\n",
            "     Epoch 50: Train Loss = 0.5993, Val Loss = 12.9107\n",
            "    ⏹️ Early stopping at epoch 50\n",
            " Run 4 finished with best val loss: 11.8056\n",
            "Original Error Percentage (Test Dataset): 10.7707%\n",
            "Corrected Error Percentage (Test Dataset): 10.8612%\n",
            "   Run 5/5 ...      Epoch 0: Train Loss = 0.6108, Val Loss = 12.0194\n"
          ]
        },
        {
          "output_type": "stream",
          "name": "stderr",
          "text": [
            "<ipython-input-28-f2771d1cb762>:152: UserWarning: To copy construct from a tensor, it is recommended to use sourceTensor.clone().detach() or sourceTensor.clone().detach().requires_grad_(True), rather than torch.tensor(sourceTensor).\n",
            "  X_scaled_tensor = torch.tensor(combined_X, dtype=torch.float32).unsqueeze(1)\n"
          ]
        },
        {
          "output_type": "stream",
          "name": "stdout",
          "text": [
            "     Epoch 5: Train Loss = 0.6028, Val Loss = 12.7473\n",
            "     Epoch 10: Train Loss = 0.6045, Val Loss = 12.0395\n",
            "     Epoch 15: Train Loss = 0.6044, Val Loss = 13.1613\n",
            "     Epoch 20: Train Loss = 0.6040, Val Loss = 13.0942\n",
            "    ⏹️ Early stopping at epoch 20\n",
            " Run 5 finished with best val loss: 12.0194\n",
            "Original Error Percentage (Test Dataset): 10.7707%\n",
            "Corrected Error Percentage (Test Dataset): 10.9904%\n",
            " Finished configuration H=64, D=0.1, LR=0.001, B=16 → Avg Val Loss: 11.7528, Avg Accuracy: 10.8694%\n",
            "\n",
            " Running 72/108: H=64, D=0.1, LR=0.001, B=32\n",
            "   Run 1/5 ...      Epoch 0: Train Loss = 0.6208, Val Loss = 12.2723\n"
          ]
        },
        {
          "output_type": "stream",
          "name": "stderr",
          "text": [
            "<ipython-input-28-f2771d1cb762>:152: UserWarning: To copy construct from a tensor, it is recommended to use sourceTensor.clone().detach() or sourceTensor.clone().detach().requires_grad_(True), rather than torch.tensor(sourceTensor).\n",
            "  X_scaled_tensor = torch.tensor(combined_X, dtype=torch.float32).unsqueeze(1)\n"
          ]
        },
        {
          "output_type": "stream",
          "name": "stdout",
          "text": [
            "     Epoch 5: Train Loss = 0.6038, Val Loss = 12.7133\n",
            "     Epoch 10: Train Loss = 0.6022, Val Loss = 12.7802\n",
            "     Epoch 15: Train Loss = 0.6017, Val Loss = 12.8718\n",
            "     Epoch 20: Train Loss = 0.6015, Val Loss = 13.4481\n",
            "    ⏹️ Early stopping at epoch 23\n",
            " Run 1 finished with best val loss: 11.7183\n",
            "Original Error Percentage (Test Dataset): 10.7707%\n",
            "Corrected Error Percentage (Test Dataset): 10.8305%\n",
            "   Run 2/5 ...      Epoch 0: Train Loss = 0.6137, Val Loss = 13.3595\n"
          ]
        },
        {
          "output_type": "stream",
          "name": "stderr",
          "text": [
            "<ipython-input-28-f2771d1cb762>:152: UserWarning: To copy construct from a tensor, it is recommended to use sourceTensor.clone().detach() or sourceTensor.clone().detach().requires_grad_(True), rather than torch.tensor(sourceTensor).\n",
            "  X_scaled_tensor = torch.tensor(combined_X, dtype=torch.float32).unsqueeze(1)\n"
          ]
        },
        {
          "output_type": "stream",
          "name": "stdout",
          "text": [
            "     Epoch 5: Train Loss = 0.6019, Val Loss = 13.6600\n",
            "     Epoch 10: Train Loss = 0.6053, Val Loss = 13.2676\n",
            "     Epoch 15: Train Loss = 0.6008, Val Loss = 13.3424\n",
            "     Epoch 20: Train Loss = 0.6031, Val Loss = 12.6260\n",
            "    ⏹️ Early stopping at epoch 22\n",
            " Run 2 finished with best val loss: 12.1466\n",
            "Original Error Percentage (Test Dataset): 10.7707%\n",
            "Corrected Error Percentage (Test Dataset): 10.6899%\n",
            "   Run 3/5 ... "
          ]
        },
        {
          "output_type": "stream",
          "name": "stderr",
          "text": [
            "<ipython-input-28-f2771d1cb762>:152: UserWarning: To copy construct from a tensor, it is recommended to use sourceTensor.clone().detach() or sourceTensor.clone().detach().requires_grad_(True), rather than torch.tensor(sourceTensor).\n",
            "  X_scaled_tensor = torch.tensor(combined_X, dtype=torch.float32).unsqueeze(1)\n"
          ]
        },
        {
          "output_type": "stream",
          "name": "stdout",
          "text": [
            "     Epoch 0: Train Loss = 0.6158, Val Loss = 11.7716\n",
            "     Epoch 5: Train Loss = 0.6023, Val Loss = 12.8080\n",
            "     Epoch 10: Train Loss = 0.6040, Val Loss = 13.0000\n",
            "     Epoch 15: Train Loss = 0.6018, Val Loss = 12.9956\n",
            "     Epoch 20: Train Loss = 0.5999, Val Loss = 12.3915\n",
            "    ⏹️ Early stopping at epoch 20\n",
            " Run 3 finished with best val loss: 11.7716\n",
            "Original Error Percentage (Test Dataset): 10.7707%\n",
            "Corrected Error Percentage (Test Dataset): 10.7632%\n",
            "   Run 4/5 ...      Epoch 0: Train Loss = 0.6153, Val Loss = 14.2430\n"
          ]
        },
        {
          "output_type": "stream",
          "name": "stderr",
          "text": [
            "<ipython-input-28-f2771d1cb762>:152: UserWarning: To copy construct from a tensor, it is recommended to use sourceTensor.clone().detach() or sourceTensor.clone().detach().requires_grad_(True), rather than torch.tensor(sourceTensor).\n",
            "  X_scaled_tensor = torch.tensor(combined_X, dtype=torch.float32).unsqueeze(1)\n"
          ]
        },
        {
          "output_type": "stream",
          "name": "stdout",
          "text": [
            "     Epoch 5: Train Loss = 0.6026, Val Loss = 14.2673\n",
            "     Epoch 10: Train Loss = 0.6051, Val Loss = 12.6456\n",
            "     Epoch 15: Train Loss = 0.6018, Val Loss = 13.2162\n",
            "     Epoch 20: Train Loss = 0.6047, Val Loss = 12.7693\n",
            "     Epoch 25: Train Loss = 0.6021, Val Loss = 12.8757\n",
            "     Epoch 30: Train Loss = 0.6033, Val Loss = 12.1571\n",
            "     Epoch 35: Train Loss = 0.6031, Val Loss = 12.5562\n",
            "     Epoch 40: Train Loss = 0.5981, Val Loss = 12.2250\n",
            "    ⏹️ Early stopping at epoch 42\n",
            " Run 4 finished with best val loss: 11.7758\n",
            "Original Error Percentage (Test Dataset): 10.7707%\n",
            "Corrected Error Percentage (Test Dataset): 10.7184%\n",
            "   Run 5/5 ...      Epoch 0: Train Loss = 0.6284, Val Loss = 13.8965\n"
          ]
        },
        {
          "output_type": "stream",
          "name": "stderr",
          "text": [
            "<ipython-input-28-f2771d1cb762>:152: UserWarning: To copy construct from a tensor, it is recommended to use sourceTensor.clone().detach() or sourceTensor.clone().detach().requires_grad_(True), rather than torch.tensor(sourceTensor).\n",
            "  X_scaled_tensor = torch.tensor(combined_X, dtype=torch.float32).unsqueeze(1)\n"
          ]
        },
        {
          "output_type": "stream",
          "name": "stdout",
          "text": [
            "     Epoch 5: Train Loss = 0.6051, Val Loss = 14.1952\n",
            "     Epoch 10: Train Loss = 0.6058, Val Loss = 14.7537\n",
            "     Epoch 15: Train Loss = 0.6049, Val Loss = 13.7545\n",
            "     Epoch 20: Train Loss = 0.6080, Val Loss = 12.0811\n",
            "     Epoch 25: Train Loss = 0.6090, Val Loss = 12.6999\n",
            "    ⏹️ Early stopping at epoch 28\n",
            " Run 5 finished with best val loss: 11.6219\n",
            "Original Error Percentage (Test Dataset): 10.7707%\n",
            "Corrected Error Percentage (Test Dataset): 11.0278%\n",
            " Finished configuration H=64, D=0.1, LR=0.001, B=32 → Avg Val Loss: 11.8068, Avg Accuracy: 10.8060%\n",
            "\n",
            " Running 73/108: H=64, D=0.2, LR=0.0001, B=8\n",
            "   Run 1/5 ... "
          ]
        },
        {
          "output_type": "stream",
          "name": "stderr",
          "text": [
            "<ipython-input-28-f2771d1cb762>:152: UserWarning: To copy construct from a tensor, it is recommended to use sourceTensor.clone().detach() or sourceTensor.clone().detach().requires_grad_(True), rather than torch.tensor(sourceTensor).\n",
            "  X_scaled_tensor = torch.tensor(combined_X, dtype=torch.float32).unsqueeze(1)\n"
          ]
        },
        {
          "output_type": "stream",
          "name": "stdout",
          "text": [
            "     Epoch 0: Train Loss = 0.6204, Val Loss = 12.6278\n",
            "     Epoch 5: Train Loss = 0.6095, Val Loss = 13.6988\n",
            "     Epoch 10: Train Loss = 0.6110, Val Loss = 13.8325\n",
            "     Epoch 15: Train Loss = 0.6004, Val Loss = 13.9305\n",
            "     Epoch 20: Train Loss = 0.6100, Val Loss = 13.5840\n",
            "    ⏹️ Early stopping at epoch 20\n",
            " Run 1 finished with best val loss: 12.6278\n",
            "Original Error Percentage (Test Dataset): 10.7707%\n",
            "Corrected Error Percentage (Test Dataset): 11.1916%\n",
            "   Run 2/5 ... "
          ]
        },
        {
          "output_type": "stream",
          "name": "stderr",
          "text": [
            "<ipython-input-28-f2771d1cb762>:152: UserWarning: To copy construct from a tensor, it is recommended to use sourceTensor.clone().detach() or sourceTensor.clone().detach().requires_grad_(True), rather than torch.tensor(sourceTensor).\n",
            "  X_scaled_tensor = torch.tensor(combined_X, dtype=torch.float32).unsqueeze(1)\n"
          ]
        },
        {
          "output_type": "stream",
          "name": "stdout",
          "text": [
            "     Epoch 0: Train Loss = 0.7043, Val Loss = 10.4938\n",
            "     Epoch 5: Train Loss = 0.6030, Val Loss = 13.9845\n",
            "     Epoch 10: Train Loss = 0.6048, Val Loss = 14.0020\n",
            "     Epoch 15: Train Loss = 0.6020, Val Loss = 13.6102\n",
            "     Epoch 20: Train Loss = 0.6112, Val Loss = 13.5607\n",
            "    ⏹️ Early stopping at epoch 20\n",
            " Run 2 finished with best val loss: 10.4938\n",
            "Original Error Percentage (Test Dataset): 10.7707%\n",
            "Corrected Error Percentage (Test Dataset): 11.2487%\n",
            "   Run 3/5 ... "
          ]
        },
        {
          "output_type": "stream",
          "name": "stderr",
          "text": [
            "<ipython-input-28-f2771d1cb762>:152: UserWarning: To copy construct from a tensor, it is recommended to use sourceTensor.clone().detach() or sourceTensor.clone().detach().requires_grad_(True), rather than torch.tensor(sourceTensor).\n",
            "  X_scaled_tensor = torch.tensor(combined_X, dtype=torch.float32).unsqueeze(1)\n"
          ]
        },
        {
          "output_type": "stream",
          "name": "stdout",
          "text": [
            "     Epoch 0: Train Loss = 0.6397, Val Loss = 11.6786\n",
            "     Epoch 5: Train Loss = 0.6079, Val Loss = 13.7318\n",
            "     Epoch 10: Train Loss = 0.6034, Val Loss = 13.3928\n",
            "     Epoch 15: Train Loss = 0.6091, Val Loss = 13.3726\n",
            "     Epoch 20: Train Loss = 0.6054, Val Loss = 13.1673\n",
            "    ⏹️ Early stopping at epoch 20\n",
            " Run 3 finished with best val loss: 11.6786\n",
            "Original Error Percentage (Test Dataset): 10.7707%\n",
            "Corrected Error Percentage (Test Dataset): 11.0770%\n",
            "   Run 4/5 ... "
          ]
        },
        {
          "output_type": "stream",
          "name": "stderr",
          "text": [
            "<ipython-input-28-f2771d1cb762>:152: UserWarning: To copy construct from a tensor, it is recommended to use sourceTensor.clone().detach() or sourceTensor.clone().detach().requires_grad_(True), rather than torch.tensor(sourceTensor).\n",
            "  X_scaled_tensor = torch.tensor(combined_X, dtype=torch.float32).unsqueeze(1)\n"
          ]
        },
        {
          "output_type": "stream",
          "name": "stdout",
          "text": [
            "     Epoch 0: Train Loss = 0.6330, Val Loss = 11.4416\n",
            "     Epoch 5: Train Loss = 0.6063, Val Loss = 13.3065\n",
            "     Epoch 10: Train Loss = 0.5943, Val Loss = 13.2949\n",
            "     Epoch 15: Train Loss = 0.6055, Val Loss = 13.0497\n",
            "     Epoch 20: Train Loss = 0.6075, Val Loss = 13.1934\n",
            "    ⏹️ Early stopping at epoch 20\n",
            " Run 4 finished with best val loss: 11.4416\n",
            "Original Error Percentage (Test Dataset): 10.7707%\n",
            "Corrected Error Percentage (Test Dataset): 11.1181%\n",
            "   Run 5/5 ... "
          ]
        },
        {
          "output_type": "stream",
          "name": "stderr",
          "text": [
            "<ipython-input-28-f2771d1cb762>:152: UserWarning: To copy construct from a tensor, it is recommended to use sourceTensor.clone().detach() or sourceTensor.clone().detach().requires_grad_(True), rather than torch.tensor(sourceTensor).\n",
            "  X_scaled_tensor = torch.tensor(combined_X, dtype=torch.float32).unsqueeze(1)\n"
          ]
        },
        {
          "output_type": "stream",
          "name": "stdout",
          "text": [
            "     Epoch 0: Train Loss = 0.6393, Val Loss = 12.3827\n",
            "     Epoch 5: Train Loss = 0.6077, Val Loss = 13.1981\n",
            "     Epoch 10: Train Loss = 0.6066, Val Loss = 13.6429\n",
            "     Epoch 15: Train Loss = 0.6100, Val Loss = 13.6887\n",
            "     Epoch 20: Train Loss = 0.6054, Val Loss = 13.4491\n",
            "    ⏹️ Early stopping at epoch 20\n",
            " Run 5 finished with best val loss: 12.3827\n",
            "Original Error Percentage (Test Dataset): 10.7707%\n",
            "Corrected Error Percentage (Test Dataset): 11.1855%\n",
            " Finished configuration H=64, D=0.2, LR=0.0001, B=8 → Avg Val Loss: 11.7249, Avg Accuracy: 11.1642%\n",
            "\n",
            " Running 74/108: H=64, D=0.2, LR=0.0001, B=16\n",
            "   Run 1/5 ...      Epoch 0: Train Loss = 0.6389, Val Loss = 11.8707\n"
          ]
        },
        {
          "output_type": "stream",
          "name": "stderr",
          "text": [
            "<ipython-input-28-f2771d1cb762>:152: UserWarning: To copy construct from a tensor, it is recommended to use sourceTensor.clone().detach() or sourceTensor.clone().detach().requires_grad_(True), rather than torch.tensor(sourceTensor).\n",
            "  X_scaled_tensor = torch.tensor(combined_X, dtype=torch.float32).unsqueeze(1)\n"
          ]
        },
        {
          "output_type": "stream",
          "name": "stdout",
          "text": [
            "     Epoch 5: Train Loss = 0.6127, Val Loss = 13.5640\n",
            "     Epoch 10: Train Loss = 0.6083, Val Loss = 13.8126\n",
            "     Epoch 15: Train Loss = 0.6094, Val Loss = 13.2281\n",
            "     Epoch 20: Train Loss = 0.6019, Val Loss = 13.0469\n",
            "    ⏹️ Early stopping at epoch 20\n",
            " Run 1 finished with best val loss: 11.8707\n",
            "Original Error Percentage (Test Dataset): 10.7707%\n",
            "Corrected Error Percentage (Test Dataset): 11.0216%\n",
            "   Run 2/5 ...      Epoch 0: Train Loss = 0.6265, Val Loss = 11.7083\n"
          ]
        },
        {
          "output_type": "stream",
          "name": "stderr",
          "text": [
            "<ipython-input-28-f2771d1cb762>:152: UserWarning: To copy construct from a tensor, it is recommended to use sourceTensor.clone().detach() or sourceTensor.clone().detach().requires_grad_(True), rather than torch.tensor(sourceTensor).\n",
            "  X_scaled_tensor = torch.tensor(combined_X, dtype=torch.float32).unsqueeze(1)\n"
          ]
        },
        {
          "output_type": "stream",
          "name": "stdout",
          "text": [
            "     Epoch 5: Train Loss = 0.6109, Val Loss = 13.0146\n",
            "     Epoch 10: Train Loss = 0.6139, Val Loss = 13.2536\n",
            "     Epoch 15: Train Loss = 0.6004, Val Loss = 13.3268\n",
            "     Epoch 20: Train Loss = 0.6100, Val Loss = 13.2422\n",
            "    ⏹️ Early stopping at epoch 20\n",
            " Run 2 finished with best val loss: 11.7083\n",
            "Original Error Percentage (Test Dataset): 10.7707%\n",
            "Corrected Error Percentage (Test Dataset): 11.0802%\n",
            "   Run 3/5 ... "
          ]
        },
        {
          "output_type": "stream",
          "name": "stderr",
          "text": [
            "<ipython-input-28-f2771d1cb762>:152: UserWarning: To copy construct from a tensor, it is recommended to use sourceTensor.clone().detach() or sourceTensor.clone().detach().requires_grad_(True), rather than torch.tensor(sourceTensor).\n",
            "  X_scaled_tensor = torch.tensor(combined_X, dtype=torch.float32).unsqueeze(1)\n"
          ]
        },
        {
          "output_type": "stream",
          "name": "stdout",
          "text": [
            "     Epoch 0: Train Loss = 0.6452, Val Loss = 10.7944\n",
            "     Epoch 5: Train Loss = 0.6054, Val Loss = 12.6613\n",
            "     Epoch 10: Train Loss = 0.6047, Val Loss = 13.1036\n",
            "     Epoch 15: Train Loss = 0.6068, Val Loss = 13.3571\n",
            "     Epoch 20: Train Loss = 0.6071, Val Loss = 13.1176\n",
            "    ⏹️ Early stopping at epoch 20\n",
            " Run 3 finished with best val loss: 10.7944\n",
            "Original Error Percentage (Test Dataset): 10.7707%\n",
            "Corrected Error Percentage (Test Dataset): 11.0375%\n",
            "   Run 4/5 ...      Epoch 0: Train Loss = 0.6257, Val Loss = 12.0858\n"
          ]
        },
        {
          "output_type": "stream",
          "name": "stderr",
          "text": [
            "<ipython-input-28-f2771d1cb762>:152: UserWarning: To copy construct from a tensor, it is recommended to use sourceTensor.clone().detach() or sourceTensor.clone().detach().requires_grad_(True), rather than torch.tensor(sourceTensor).\n",
            "  X_scaled_tensor = torch.tensor(combined_X, dtype=torch.float32).unsqueeze(1)\n"
          ]
        },
        {
          "output_type": "stream",
          "name": "stdout",
          "text": [
            "     Epoch 5: Train Loss = 0.6059, Val Loss = 13.2882\n",
            "     Epoch 10: Train Loss = 0.6047, Val Loss = 13.6736\n",
            "     Epoch 15: Train Loss = 0.5983, Val Loss = 13.4307\n",
            "     Epoch 20: Train Loss = 0.6027, Val Loss = 13.5574\n",
            "    ⏹️ Early stopping at epoch 20\n",
            " Run 4 finished with best val loss: 12.0858\n",
            "Original Error Percentage (Test Dataset): 10.7707%\n",
            "Corrected Error Percentage (Test Dataset): 11.2062%\n",
            "   Run 5/5 ...      Epoch 0: Train Loss = 0.6375, Val Loss = 9.3593\n"
          ]
        },
        {
          "output_type": "stream",
          "name": "stderr",
          "text": [
            "<ipython-input-28-f2771d1cb762>:152: UserWarning: To copy construct from a tensor, it is recommended to use sourceTensor.clone().detach() or sourceTensor.clone().detach().requires_grad_(True), rather than torch.tensor(sourceTensor).\n",
            "  X_scaled_tensor = torch.tensor(combined_X, dtype=torch.float32).unsqueeze(1)\n"
          ]
        },
        {
          "output_type": "stream",
          "name": "stdout",
          "text": [
            "     Epoch 5: Train Loss = 0.6017, Val Loss = 11.6679\n",
            "     Epoch 10: Train Loss = 0.6022, Val Loss = 12.2233\n",
            "     Epoch 15: Train Loss = 0.6048, Val Loss = 12.8029\n",
            "     Epoch 20: Train Loss = 0.6048, Val Loss = 12.8245\n",
            "    ⏹️ Early stopping at epoch 20\n",
            " Run 5 finished with best val loss: 9.3593\n",
            "Original Error Percentage (Test Dataset): 10.7707%\n",
            "Corrected Error Percentage (Test Dataset): 10.8867%\n",
            " Finished configuration H=64, D=0.2, LR=0.0001, B=16 → Avg Val Loss: 11.1637, Avg Accuracy: 11.0465%\n",
            "\n",
            " Running 75/108: H=64, D=0.2, LR=0.0001, B=32\n",
            "   Run 1/5 ...      Epoch 0: Train Loss = 0.6282, Val Loss = 11.2299\n"
          ]
        },
        {
          "output_type": "stream",
          "name": "stderr",
          "text": [
            "<ipython-input-28-f2771d1cb762>:152: UserWarning: To copy construct from a tensor, it is recommended to use sourceTensor.clone().detach() or sourceTensor.clone().detach().requires_grad_(True), rather than torch.tensor(sourceTensor).\n",
            "  X_scaled_tensor = torch.tensor(combined_X, dtype=torch.float32).unsqueeze(1)\n"
          ]
        },
        {
          "output_type": "stream",
          "name": "stdout",
          "text": [
            "     Epoch 5: Train Loss = 0.6107, Val Loss = 13.0530\n",
            "     Epoch 10: Train Loss = 0.6115, Val Loss = 13.5981\n",
            "     Epoch 15: Train Loss = 0.6071, Val Loss = 13.5835\n",
            "     Epoch 20: Train Loss = 0.6055, Val Loss = 13.7092\n",
            "    ⏹️ Early stopping at epoch 20\n",
            " Run 1 finished with best val loss: 11.2299\n",
            "Original Error Percentage (Test Dataset): 10.7707%\n",
            "Corrected Error Percentage (Test Dataset): 11.2400%\n",
            "   Run 2/5 ...      Epoch 0: Train Loss = 0.6412, Val Loss = 11.5501\n"
          ]
        },
        {
          "output_type": "stream",
          "name": "stderr",
          "text": [
            "<ipython-input-28-f2771d1cb762>:152: UserWarning: To copy construct from a tensor, it is recommended to use sourceTensor.clone().detach() or sourceTensor.clone().detach().requires_grad_(True), rather than torch.tensor(sourceTensor).\n",
            "  X_scaled_tensor = torch.tensor(combined_X, dtype=torch.float32).unsqueeze(1)\n"
          ]
        },
        {
          "output_type": "stream",
          "name": "stdout",
          "text": [
            "     Epoch 5: Train Loss = 0.6110, Val Loss = 13.2734\n",
            "     Epoch 10: Train Loss = 0.6120, Val Loss = 13.1503\n",
            "     Epoch 15: Train Loss = 0.6072, Val Loss = 13.6186\n",
            "     Epoch 20: Train Loss = 0.6097, Val Loss = 13.6734\n",
            "    ⏹️ Early stopping at epoch 20\n",
            " Run 2 finished with best val loss: 11.5501\n",
            "Original Error Percentage (Test Dataset): 10.7707%\n",
            "Corrected Error Percentage (Test Dataset): 11.2531%\n",
            "   Run 3/5 ...      Epoch 0: Train Loss = 0.6240, Val Loss = 10.9417\n"
          ]
        },
        {
          "output_type": "stream",
          "name": "stderr",
          "text": [
            "<ipython-input-28-f2771d1cb762>:152: UserWarning: To copy construct from a tensor, it is recommended to use sourceTensor.clone().detach() or sourceTensor.clone().detach().requires_grad_(True), rather than torch.tensor(sourceTensor).\n",
            "  X_scaled_tensor = torch.tensor(combined_X, dtype=torch.float32).unsqueeze(1)\n"
          ]
        },
        {
          "output_type": "stream",
          "name": "stdout",
          "text": [
            "     Epoch 5: Train Loss = 0.6014, Val Loss = 11.9054\n",
            "     Epoch 10: Train Loss = 0.6106, Val Loss = 13.0645\n",
            "     Epoch 15: Train Loss = 0.6057, Val Loss = 12.9287\n",
            "     Epoch 20: Train Loss = 0.6042, Val Loss = 12.8383\n",
            "    ⏹️ Early stopping at epoch 20\n",
            " Run 3 finished with best val loss: 10.9417\n",
            "Original Error Percentage (Test Dataset): 10.7707%\n",
            "Corrected Error Percentage (Test Dataset): 10.9145%\n",
            "   Run 4/5 ...      Epoch 0: Train Loss = 0.6538, Val Loss = 11.5112\n"
          ]
        },
        {
          "output_type": "stream",
          "name": "stderr",
          "text": [
            "<ipython-input-28-f2771d1cb762>:152: UserWarning: To copy construct from a tensor, it is recommended to use sourceTensor.clone().detach() or sourceTensor.clone().detach().requires_grad_(True), rather than torch.tensor(sourceTensor).\n",
            "  X_scaled_tensor = torch.tensor(combined_X, dtype=torch.float32).unsqueeze(1)\n"
          ]
        },
        {
          "output_type": "stream",
          "name": "stdout",
          "text": [
            "     Epoch 5: Train Loss = 0.6131, Val Loss = 14.0764\n",
            "     Epoch 10: Train Loss = 0.6091, Val Loss = 14.0842\n",
            "     Epoch 15: Train Loss = 0.6062, Val Loss = 13.9969\n",
            "     Epoch 20: Train Loss = 0.6075, Val Loss = 13.8278\n",
            "    ⏹️ Early stopping at epoch 20\n",
            " Run 4 finished with best val loss: 11.5112\n",
            "Original Error Percentage (Test Dataset): 10.7707%\n",
            "Corrected Error Percentage (Test Dataset): 11.2956%\n",
            "   Run 5/5 ...      Epoch 0: Train Loss = 0.6740, Val Loss = 10.7101\n"
          ]
        },
        {
          "output_type": "stream",
          "name": "stderr",
          "text": [
            "<ipython-input-28-f2771d1cb762>:152: UserWarning: To copy construct from a tensor, it is recommended to use sourceTensor.clone().detach() or sourceTensor.clone().detach().requires_grad_(True), rather than torch.tensor(sourceTensor).\n",
            "  X_scaled_tensor = torch.tensor(combined_X, dtype=torch.float32).unsqueeze(1)\n"
          ]
        },
        {
          "output_type": "stream",
          "name": "stdout",
          "text": [
            "     Epoch 5: Train Loss = 0.6186, Val Loss = 13.2555\n",
            "     Epoch 10: Train Loss = 0.6102, Val Loss = 13.9303\n",
            "     Epoch 15: Train Loss = 0.6072, Val Loss = 13.7568\n",
            "     Epoch 20: Train Loss = 0.6094, Val Loss = 13.6963\n",
            "    ⏹️ Early stopping at epoch 20\n",
            " Run 5 finished with best val loss: 10.7101\n",
            "Original Error Percentage (Test Dataset): 10.7707%\n",
            "Corrected Error Percentage (Test Dataset): 11.2367%\n",
            " Finished configuration H=64, D=0.2, LR=0.0001, B=32 → Avg Val Loss: 11.1886, Avg Accuracy: 11.1880%\n",
            "\n",
            " Running 76/108: H=64, D=0.2, LR=0.0005, B=8\n",
            "   Run 1/5 ... "
          ]
        },
        {
          "output_type": "stream",
          "name": "stderr",
          "text": [
            "<ipython-input-28-f2771d1cb762>:152: UserWarning: To copy construct from a tensor, it is recommended to use sourceTensor.clone().detach() or sourceTensor.clone().detach().requires_grad_(True), rather than torch.tensor(sourceTensor).\n",
            "  X_scaled_tensor = torch.tensor(combined_X, dtype=torch.float32).unsqueeze(1)\n"
          ]
        },
        {
          "output_type": "stream",
          "name": "stdout",
          "text": [
            "     Epoch 0: Train Loss = 0.6172, Val Loss = 11.8724\n",
            "     Epoch 5: Train Loss = 0.6064, Val Loss = 12.8040\n",
            "     Epoch 10: Train Loss = 0.6050, Val Loss = 12.9407\n",
            "     Epoch 15: Train Loss = 0.6022, Val Loss = 12.9811\n",
            "     Epoch 20: Train Loss = 0.6022, Val Loss = 13.2435\n",
            "    ⏹️ Early stopping at epoch 20\n",
            " Run 1 finished with best val loss: 11.8724\n",
            "Original Error Percentage (Test Dataset): 10.7707%\n",
            "Corrected Error Percentage (Test Dataset): 11.0442%\n",
            "   Run 2/5 ... "
          ]
        },
        {
          "output_type": "stream",
          "name": "stderr",
          "text": [
            "<ipython-input-28-f2771d1cb762>:152: UserWarning: To copy construct from a tensor, it is recommended to use sourceTensor.clone().detach() or sourceTensor.clone().detach().requires_grad_(True), rather than torch.tensor(sourceTensor).\n",
            "  X_scaled_tensor = torch.tensor(combined_X, dtype=torch.float32).unsqueeze(1)\n"
          ]
        },
        {
          "output_type": "stream",
          "name": "stdout",
          "text": [
            "     Epoch 0: Train Loss = 0.6280, Val Loss = 11.3212\n",
            "     Epoch 5: Train Loss = 0.6086, Val Loss = 12.5071\n",
            "     Epoch 10: Train Loss = 0.5997, Val Loss = 13.6143\n",
            "     Epoch 15: Train Loss = 0.6047, Val Loss = 13.4378\n",
            "     Epoch 20: Train Loss = 0.6063, Val Loss = 13.2566\n",
            "    ⏹️ Early stopping at epoch 20\n",
            " Run 2 finished with best val loss: 11.3212\n",
            "Original Error Percentage (Test Dataset): 10.7707%\n",
            "Corrected Error Percentage (Test Dataset): 11.0260%\n",
            "   Run 3/5 ... "
          ]
        },
        {
          "output_type": "stream",
          "name": "stderr",
          "text": [
            "<ipython-input-28-f2771d1cb762>:152: UserWarning: To copy construct from a tensor, it is recommended to use sourceTensor.clone().detach() or sourceTensor.clone().detach().requires_grad_(True), rather than torch.tensor(sourceTensor).\n",
            "  X_scaled_tensor = torch.tensor(combined_X, dtype=torch.float32).unsqueeze(1)\n"
          ]
        },
        {
          "output_type": "stream",
          "name": "stdout",
          "text": [
            "     Epoch 0: Train Loss = 0.6064, Val Loss = 13.8272\n",
            "     Epoch 5: Train Loss = 0.6021, Val Loss = 13.3171\n",
            "     Epoch 10: Train Loss = 0.6039, Val Loss = 13.4314\n",
            "     Epoch 15: Train Loss = 0.6042, Val Loss = 13.0147\n",
            "     Epoch 20: Train Loss = 0.6045, Val Loss = 12.3422\n",
            "     Epoch 25: Train Loss = 0.6072, Val Loss = 12.3894\n",
            "     Epoch 30: Train Loss = 0.6043, Val Loss = 12.5779\n",
            "     Epoch 35: Train Loss = 0.5990, Val Loss = 12.6530\n",
            "     Epoch 40: Train Loss = 0.6009, Val Loss = 13.0393\n",
            "    ⏹️ Early stopping at epoch 41\n",
            " Run 3 finished with best val loss: 12.2999\n",
            "Original Error Percentage (Test Dataset): 10.7707%\n",
            "Corrected Error Percentage (Test Dataset): 10.8535%\n",
            "   Run 4/5 ... "
          ]
        },
        {
          "output_type": "stream",
          "name": "stderr",
          "text": [
            "<ipython-input-28-f2771d1cb762>:152: UserWarning: To copy construct from a tensor, it is recommended to use sourceTensor.clone().detach() or sourceTensor.clone().detach().requires_grad_(True), rather than torch.tensor(sourceTensor).\n",
            "  X_scaled_tensor = torch.tensor(combined_X, dtype=torch.float32).unsqueeze(1)\n"
          ]
        },
        {
          "output_type": "stream",
          "name": "stdout",
          "text": [
            "     Epoch 0: Train Loss = 0.6276, Val Loss = 13.4837\n",
            "     Epoch 5: Train Loss = 0.6085, Val Loss = 14.6152\n",
            "     Epoch 10: Train Loss = 0.6013, Val Loss = 14.2790\n",
            "     Epoch 15: Train Loss = 0.6003, Val Loss = 13.2536\n",
            "     Epoch 20: Train Loss = 0.6036, Val Loss = 12.3377\n",
            "     Epoch 25: Train Loss = 0.6022, Val Loss = 13.3304\n",
            "     Epoch 30: Train Loss = 0.6036, Val Loss = 12.5987\n",
            "     Epoch 35: Train Loss = 0.6043, Val Loss = 12.4213\n",
            "     Epoch 40: Train Loss = 0.6028, Val Loss = 12.3621\n",
            "     Epoch 45: Train Loss = 0.6011, Val Loss = 12.1756\n",
            "    ⏹️ Early stopping at epoch 48\n",
            " Run 4 finished with best val loss: 11.6216\n",
            "Original Error Percentage (Test Dataset): 10.7707%\n",
            "Corrected Error Percentage (Test Dataset): 10.7459%\n",
            "   Run 5/5 ... "
          ]
        },
        {
          "output_type": "stream",
          "name": "stderr",
          "text": [
            "<ipython-input-28-f2771d1cb762>:152: UserWarning: To copy construct from a tensor, it is recommended to use sourceTensor.clone().detach() or sourceTensor.clone().detach().requires_grad_(True), rather than torch.tensor(sourceTensor).\n",
            "  X_scaled_tensor = torch.tensor(combined_X, dtype=torch.float32).unsqueeze(1)\n"
          ]
        },
        {
          "output_type": "stream",
          "name": "stdout",
          "text": [
            "     Epoch 0: Train Loss = 0.6192, Val Loss = 15.1099\n",
            "     Epoch 5: Train Loss = 0.6111, Val Loss = 13.0368\n",
            "     Epoch 10: Train Loss = 0.6033, Val Loss = 12.8717\n",
            "     Epoch 15: Train Loss = 0.6000, Val Loss = 12.9863\n",
            "     Epoch 20: Train Loss = 0.6077, Val Loss = 12.4985\n",
            "     Epoch 25: Train Loss = 0.6054, Val Loss = 13.1333\n",
            "    ⏹️ Early stopping at epoch 28\n",
            " Run 5 finished with best val loss: 11.6969\n",
            "Original Error Percentage (Test Dataset): 10.7707%\n",
            "Corrected Error Percentage (Test Dataset): 10.7968%\n",
            " Finished configuration H=64, D=0.2, LR=0.0005, B=8 → Avg Val Loss: 11.7624, Avg Accuracy: 10.8933%\n",
            "\n",
            " Running 77/108: H=64, D=0.2, LR=0.0005, B=16\n",
            "   Run 1/5 ... "
          ]
        },
        {
          "output_type": "stream",
          "name": "stderr",
          "text": [
            "<ipython-input-28-f2771d1cb762>:152: UserWarning: To copy construct from a tensor, it is recommended to use sourceTensor.clone().detach() or sourceTensor.clone().detach().requires_grad_(True), rather than torch.tensor(sourceTensor).\n",
            "  X_scaled_tensor = torch.tensor(combined_X, dtype=torch.float32).unsqueeze(1)\n"
          ]
        },
        {
          "output_type": "stream",
          "name": "stdout",
          "text": [
            "     Epoch 0: Train Loss = 0.6190, Val Loss = 13.8249\n",
            "     Epoch 5: Train Loss = 0.6077, Val Loss = 12.6050\n",
            "     Epoch 10: Train Loss = 0.6080, Val Loss = 13.2916\n",
            "     Epoch 15: Train Loss = 0.6057, Val Loss = 13.5073\n",
            "     Epoch 20: Train Loss = 0.6014, Val Loss = 13.1179\n",
            "    ⏹️ Early stopping at epoch 23\n",
            " Run 1 finished with best val loss: 12.3508\n",
            "Original Error Percentage (Test Dataset): 10.7707%\n",
            "Corrected Error Percentage (Test Dataset): 10.9795%\n",
            "   Run 2/5 ... "
          ]
        },
        {
          "output_type": "stream",
          "name": "stderr",
          "text": [
            "<ipython-input-28-f2771d1cb762>:152: UserWarning: To copy construct from a tensor, it is recommended to use sourceTensor.clone().detach() or sourceTensor.clone().detach().requires_grad_(True), rather than torch.tensor(sourceTensor).\n",
            "  X_scaled_tensor = torch.tensor(combined_X, dtype=torch.float32).unsqueeze(1)\n"
          ]
        },
        {
          "output_type": "stream",
          "name": "stdout",
          "text": [
            "     Epoch 0: Train Loss = 0.6352, Val Loss = 11.6406\n",
            "     Epoch 5: Train Loss = 0.6038, Val Loss = 13.7213\n",
            "     Epoch 10: Train Loss = 0.6036, Val Loss = 13.3864\n",
            "     Epoch 15: Train Loss = 0.6044, Val Loss = 13.5994\n",
            "     Epoch 20: Train Loss = 0.6053, Val Loss = 13.6850\n",
            "    ⏹️ Early stopping at epoch 20\n",
            " Run 2 finished with best val loss: 11.6406\n",
            "Original Error Percentage (Test Dataset): 10.7707%\n",
            "Corrected Error Percentage (Test Dataset): 11.2088%\n",
            "   Run 3/5 ...      Epoch 0: Train Loss = 0.6193, Val Loss = 12.8135\n"
          ]
        },
        {
          "output_type": "stream",
          "name": "stderr",
          "text": [
            "<ipython-input-28-f2771d1cb762>:152: UserWarning: To copy construct from a tensor, it is recommended to use sourceTensor.clone().detach() or sourceTensor.clone().detach().requires_grad_(True), rather than torch.tensor(sourceTensor).\n",
            "  X_scaled_tensor = torch.tensor(combined_X, dtype=torch.float32).unsqueeze(1)\n"
          ]
        },
        {
          "output_type": "stream",
          "name": "stdout",
          "text": [
            "     Epoch 5: Train Loss = 0.6046, Val Loss = 14.3793\n",
            "     Epoch 10: Train Loss = 0.6066, Val Loss = 12.7801\n",
            "     Epoch 15: Train Loss = 0.6068, Val Loss = 12.8154\n",
            "     Epoch 20: Train Loss = 0.6049, Val Loss = 12.4913\n",
            "     Epoch 25: Train Loss = 0.5984, Val Loss = 13.9808\n",
            "     Epoch 30: Train Loss = 0.6032, Val Loss = 13.1946\n",
            "     Epoch 35: Train Loss = 0.6041, Val Loss = 12.7452\n",
            "     Epoch 40: Train Loss = 0.6038, Val Loss = 12.8938\n",
            "    ⏹️ Early stopping at epoch 40\n",
            " Run 3 finished with best val loss: 12.4913\n",
            "Original Error Percentage (Test Dataset): 10.7707%\n",
            "Corrected Error Percentage (Test Dataset): 10.9702%\n",
            "   Run 4/5 ...      Epoch 0: Train Loss = 0.6223, Val Loss = 12.6326\n"
          ]
        },
        {
          "output_type": "stream",
          "name": "stderr",
          "text": [
            "<ipython-input-28-f2771d1cb762>:152: UserWarning: To copy construct from a tensor, it is recommended to use sourceTensor.clone().detach() or sourceTensor.clone().detach().requires_grad_(True), rather than torch.tensor(sourceTensor).\n",
            "  X_scaled_tensor = torch.tensor(combined_X, dtype=torch.float32).unsqueeze(1)\n"
          ]
        },
        {
          "output_type": "stream",
          "name": "stdout",
          "text": [
            "     Epoch 5: Train Loss = 0.6042, Val Loss = 13.5918\n",
            "     Epoch 10: Train Loss = 0.6012, Val Loss = 13.6106\n",
            "     Epoch 15: Train Loss = 0.6021, Val Loss = 13.7416\n",
            "     Epoch 20: Train Loss = 0.6047, Val Loss = 13.3804\n",
            "    ⏹️ Early stopping at epoch 22\n",
            " Run 4 finished with best val loss: 12.3637\n",
            "Original Error Percentage (Test Dataset): 10.7707%\n",
            "Corrected Error Percentage (Test Dataset): 11.2597%\n",
            "   Run 5/5 ...      Epoch 0: Train Loss = 0.6157, Val Loss = 12.9351\n"
          ]
        },
        {
          "output_type": "stream",
          "name": "stderr",
          "text": [
            "<ipython-input-28-f2771d1cb762>:152: UserWarning: To copy construct from a tensor, it is recommended to use sourceTensor.clone().detach() or sourceTensor.clone().detach().requires_grad_(True), rather than torch.tensor(sourceTensor).\n",
            "  X_scaled_tensor = torch.tensor(combined_X, dtype=torch.float32).unsqueeze(1)\n"
          ]
        },
        {
          "output_type": "stream",
          "name": "stdout",
          "text": [
            "     Epoch 5: Train Loss = 0.6038, Val Loss = 12.8425\n",
            "     Epoch 10: Train Loss = 0.6020, Val Loss = 12.9224\n",
            "     Epoch 15: Train Loss = 0.6053, Val Loss = 13.1055\n",
            "     Epoch 20: Train Loss = 0.6035, Val Loss = 12.5028\n",
            "     Epoch 25: Train Loss = 0.6063, Val Loss = 13.0726\n",
            "     Epoch 30: Train Loss = 0.6027, Val Loss = 12.8187\n",
            "     Epoch 35: Train Loss = 0.6033, Val Loss = 12.3590\n",
            "     Epoch 40: Train Loss = 0.6051, Val Loss = 12.8629\n",
            "     Epoch 45: Train Loss = 0.6026, Val Loss = 12.5201\n",
            "     Epoch 50: Train Loss = 0.6048, Val Loss = 12.7494\n",
            "     Epoch 55: Train Loss = 0.6008, Val Loss = 12.8039\n",
            "    ⏹️ Early stopping at epoch 56\n",
            " Run 5 finished with best val loss: 12.2367\n",
            "Original Error Percentage (Test Dataset): 10.7707%\n",
            "Corrected Error Percentage (Test Dataset): 10.7932%\n",
            " Finished configuration H=64, D=0.2, LR=0.0005, B=16 → Avg Val Loss: 12.2166, Avg Accuracy: 11.0423%\n",
            "\n",
            " Running 78/108: H=64, D=0.2, LR=0.0005, B=32\n",
            "   Run 1/5 ... "
          ]
        },
        {
          "output_type": "stream",
          "name": "stderr",
          "text": [
            "<ipython-input-28-f2771d1cb762>:152: UserWarning: To copy construct from a tensor, it is recommended to use sourceTensor.clone().detach() or sourceTensor.clone().detach().requires_grad_(True), rather than torch.tensor(sourceTensor).\n",
            "  X_scaled_tensor = torch.tensor(combined_X, dtype=torch.float32).unsqueeze(1)\n"
          ]
        },
        {
          "output_type": "stream",
          "name": "stdout",
          "text": [
            "     Epoch 0: Train Loss = 0.6165, Val Loss = 13.5542\n",
            "     Epoch 5: Train Loss = 0.6028, Val Loss = 12.8660\n",
            "     Epoch 10: Train Loss = 0.6004, Val Loss = 14.0276\n",
            "     Epoch 15: Train Loss = 0.6079, Val Loss = 12.9029\n",
            "     Epoch 20: Train Loss = 0.6022, Val Loss = 12.9450\n",
            "     Epoch 25: Train Loss = 0.6024, Val Loss = 13.1011\n",
            "     Epoch 30: Train Loss = 0.6049, Val Loss = 12.8509\n",
            "     Epoch 35: Train Loss = 0.6015, Val Loss = 13.3041\n",
            "     Epoch 40: Train Loss = 0.6088, Val Loss = 13.2078\n",
            "     Epoch 45: Train Loss = 0.6056, Val Loss = 12.6149\n",
            "     Epoch 50: Train Loss = 0.6054, Val Loss = 12.7178\n",
            "     Epoch 55: Train Loss = 0.6008, Val Loss = 12.3035\n",
            "     Epoch 60: Train Loss = 0.6014, Val Loss = 12.8560\n",
            "    ⏹️ Early stopping at epoch 61\n",
            " Run 1 finished with best val loss: 11.4968\n",
            "Original Error Percentage (Test Dataset): 10.7707%\n",
            "Corrected Error Percentage (Test Dataset): 10.9160%\n",
            "   Run 2/5 ... "
          ]
        },
        {
          "output_type": "stream",
          "name": "stderr",
          "text": [
            "<ipython-input-28-f2771d1cb762>:152: UserWarning: To copy construct from a tensor, it is recommended to use sourceTensor.clone().detach() or sourceTensor.clone().detach().requires_grad_(True), rather than torch.tensor(sourceTensor).\n",
            "  X_scaled_tensor = torch.tensor(combined_X, dtype=torch.float32).unsqueeze(1)\n"
          ]
        },
        {
          "output_type": "stream",
          "name": "stdout",
          "text": [
            "     Epoch 0: Train Loss = 0.6231, Val Loss = 13.1652\n",
            "     Epoch 5: Train Loss = 0.6190, Val Loss = 12.6856\n",
            "     Epoch 10: Train Loss = 0.6046, Val Loss = 12.9548\n",
            "     Epoch 15: Train Loss = 0.6046, Val Loss = 12.9718\n",
            "     Epoch 20: Train Loss = 0.6103, Val Loss = 14.1723\n",
            "     Epoch 25: Train Loss = 0.6043, Val Loss = 13.6111\n",
            "    ⏹️ Early stopping at epoch 27\n",
            " Run 2 finished with best val loss: 12.5080\n",
            "Original Error Percentage (Test Dataset): 10.7707%\n",
            "Corrected Error Percentage (Test Dataset): 11.1562%\n",
            "   Run 3/5 ... "
          ]
        },
        {
          "output_type": "stream",
          "name": "stderr",
          "text": [
            "<ipython-input-28-f2771d1cb762>:152: UserWarning: To copy construct from a tensor, it is recommended to use sourceTensor.clone().detach() or sourceTensor.clone().detach().requires_grad_(True), rather than torch.tensor(sourceTensor).\n",
            "  X_scaled_tensor = torch.tensor(combined_X, dtype=torch.float32).unsqueeze(1)\n"
          ]
        },
        {
          "output_type": "stream",
          "name": "stdout",
          "text": [
            "     Epoch 0: Train Loss = 0.6274, Val Loss = 14.2496\n",
            "     Epoch 5: Train Loss = 0.6042, Val Loss = 14.3024\n",
            "     Epoch 10: Train Loss = 0.6081, Val Loss = 12.5394\n",
            "     Epoch 15: Train Loss = 0.6028, Val Loss = 12.5729\n",
            "     Epoch 20: Train Loss = 0.6038, Val Loss = 12.3436\n",
            "     Epoch 25: Train Loss = 0.5996, Val Loss = 13.3806\n",
            "     Epoch 30: Train Loss = 0.6050, Val Loss = 12.8865\n",
            "     Epoch 35: Train Loss = 0.6031, Val Loss = 12.6239\n",
            "     Epoch 40: Train Loss = 0.6055, Val Loss = 12.2531\n",
            "    ⏹️ Early stopping at epoch 41\n",
            " Run 3 finished with best val loss: 11.9384\n",
            "Original Error Percentage (Test Dataset): 10.7707%\n",
            "Corrected Error Percentage (Test Dataset): 10.8740%\n",
            "   Run 4/5 ... "
          ]
        },
        {
          "output_type": "stream",
          "name": "stderr",
          "text": [
            "<ipython-input-28-f2771d1cb762>:152: UserWarning: To copy construct from a tensor, it is recommended to use sourceTensor.clone().detach() or sourceTensor.clone().detach().requires_grad_(True), rather than torch.tensor(sourceTensor).\n",
            "  X_scaled_tensor = torch.tensor(combined_X, dtype=torch.float32).unsqueeze(1)\n"
          ]
        },
        {
          "output_type": "stream",
          "name": "stdout",
          "text": [
            "     Epoch 0: Train Loss = 0.6243, Val Loss = 14.7043\n",
            "     Epoch 5: Train Loss = 0.6096, Val Loss = 13.8092\n",
            "     Epoch 10: Train Loss = 0.6064, Val Loss = 13.1928\n",
            "     Epoch 15: Train Loss = 0.6033, Val Loss = 12.9591\n",
            "     Epoch 20: Train Loss = 0.6028, Val Loss = 13.5161\n",
            "     Epoch 25: Train Loss = 0.6066, Val Loss = 13.3929\n",
            "     Epoch 30: Train Loss = 0.6085, Val Loss = 13.0707\n",
            "     Epoch 35: Train Loss = 0.6038, Val Loss = 12.2467\n",
            "     Epoch 40: Train Loss = 0.6018, Val Loss = 13.2096\n",
            "     Epoch 45: Train Loss = 0.6068, Val Loss = 12.4483\n",
            "     Epoch 50: Train Loss = 0.6029, Val Loss = 12.9516\n",
            "    ⏹️ Early stopping at epoch 54\n",
            " Run 4 finished with best val loss: 12.1475\n",
            "Original Error Percentage (Test Dataset): 10.7707%\n",
            "Corrected Error Percentage (Test Dataset): 10.7088%\n",
            "   Run 5/5 ...      Epoch 0: Train Loss = 0.6191, Val Loss = 15.3039\n"
          ]
        },
        {
          "output_type": "stream",
          "name": "stderr",
          "text": [
            "<ipython-input-28-f2771d1cb762>:152: UserWarning: To copy construct from a tensor, it is recommended to use sourceTensor.clone().detach() or sourceTensor.clone().detach().requires_grad_(True), rather than torch.tensor(sourceTensor).\n",
            "  X_scaled_tensor = torch.tensor(combined_X, dtype=torch.float32).unsqueeze(1)\n"
          ]
        },
        {
          "output_type": "stream",
          "name": "stdout",
          "text": [
            "     Epoch 5: Train Loss = 0.6136, Val Loss = 13.6525\n",
            "     Epoch 10: Train Loss = 0.6011, Val Loss = 13.1431\n",
            "     Epoch 15: Train Loss = 0.6063, Val Loss = 13.4350\n",
            "     Epoch 20: Train Loss = 0.6053, Val Loss = 12.9095\n",
            "     Epoch 25: Train Loss = 0.6026, Val Loss = 12.9915\n",
            "     Epoch 30: Train Loss = 0.6091, Val Loss = 13.4959\n",
            "     Epoch 35: Train Loss = 0.6043, Val Loss = 13.0060\n",
            "     Epoch 40: Train Loss = 0.5992, Val Loss = 12.7410\n",
            "     Epoch 45: Train Loss = 0.6048, Val Loss = 12.6816\n",
            "    ⏹️ Early stopping at epoch 47\n",
            " Run 5 finished with best val loss: 11.8512\n",
            "Original Error Percentage (Test Dataset): 10.7707%\n",
            "Corrected Error Percentage (Test Dataset): 10.7402%\n",
            " Finished configuration H=64, D=0.2, LR=0.0005, B=32 → Avg Val Loss: 11.9884, Avg Accuracy: 10.8790%\n",
            "\n",
            " Running 79/108: H=64, D=0.2, LR=0.001, B=8\n",
            "   Run 1/5 ... "
          ]
        },
        {
          "output_type": "stream",
          "name": "stderr",
          "text": [
            "<ipython-input-28-f2771d1cb762>:152: UserWarning: To copy construct from a tensor, it is recommended to use sourceTensor.clone().detach() or sourceTensor.clone().detach().requires_grad_(True), rather than torch.tensor(sourceTensor).\n",
            "  X_scaled_tensor = torch.tensor(combined_X, dtype=torch.float32).unsqueeze(1)\n"
          ]
        },
        {
          "output_type": "stream",
          "name": "stdout",
          "text": [
            "     Epoch 0: Train Loss = 0.6194, Val Loss = 13.7541\n",
            "     Epoch 5: Train Loss = 0.6042, Val Loss = 12.5531\n",
            "     Epoch 10: Train Loss = 0.6072, Val Loss = 12.2449\n",
            "     Epoch 15: Train Loss = 0.6043, Val Loss = 13.1952\n",
            "     Epoch 20: Train Loss = 0.6066, Val Loss = 12.5610\n",
            "    ⏹️ Early stopping at epoch 23\n",
            " Run 1 finished with best val loss: 11.6037\n",
            "Original Error Percentage (Test Dataset): 10.7707%\n",
            "Corrected Error Percentage (Test Dataset): 10.7273%\n",
            "   Run 2/5 ... "
          ]
        },
        {
          "output_type": "stream",
          "name": "stderr",
          "text": [
            "<ipython-input-28-f2771d1cb762>:152: UserWarning: To copy construct from a tensor, it is recommended to use sourceTensor.clone().detach() or sourceTensor.clone().detach().requires_grad_(True), rather than torch.tensor(sourceTensor).\n",
            "  X_scaled_tensor = torch.tensor(combined_X, dtype=torch.float32).unsqueeze(1)\n"
          ]
        },
        {
          "output_type": "stream",
          "name": "stdout",
          "text": [
            "     Epoch 0: Train Loss = 0.6147, Val Loss = 14.0486\n",
            "     Epoch 5: Train Loss = 0.6042, Val Loss = 13.3495\n",
            "     Epoch 10: Train Loss = 0.6082, Val Loss = 13.3055\n",
            "     Epoch 15: Train Loss = 0.6057, Val Loss = 12.9362\n",
            "     Epoch 20: Train Loss = 0.6054, Val Loss = 13.2299\n",
            "     Epoch 25: Train Loss = 0.6045, Val Loss = 13.3429\n",
            "     Epoch 30: Train Loss = 0.6045, Val Loss = 12.4910\n",
            "     Epoch 35: Train Loss = 0.6028, Val Loss = 13.3644\n",
            "     Epoch 40: Train Loss = 0.6039, Val Loss = 12.0791\n",
            "     Epoch 45: Train Loss = 0.6048, Val Loss = 12.5463\n",
            "     Epoch 50: Train Loss = 0.6033, Val Loss = 12.6581\n",
            "    ⏹️ Early stopping at epoch 54\n",
            " Run 2 finished with best val loss: 11.1971\n",
            "Original Error Percentage (Test Dataset): 10.7707%\n",
            "Corrected Error Percentage (Test Dataset): 10.8504%\n",
            "   Run 3/5 ... "
          ]
        },
        {
          "output_type": "stream",
          "name": "stderr",
          "text": [
            "<ipython-input-28-f2771d1cb762>:152: UserWarning: To copy construct from a tensor, it is recommended to use sourceTensor.clone().detach() or sourceTensor.clone().detach().requires_grad_(True), rather than torch.tensor(sourceTensor).\n",
            "  X_scaled_tensor = torch.tensor(combined_X, dtype=torch.float32).unsqueeze(1)\n"
          ]
        },
        {
          "output_type": "stream",
          "name": "stdout",
          "text": [
            "     Epoch 0: Train Loss = 0.6209, Val Loss = 13.0724\n",
            "     Epoch 5: Train Loss = 0.6086, Val Loss = 12.2044\n",
            "     Epoch 10: Train Loss = 0.6060, Val Loss = 13.0448\n",
            "     Epoch 15: Train Loss = 0.6013, Val Loss = 13.6979\n",
            "     Epoch 20: Train Loss = 0.6072, Val Loss = 11.7871\n",
            "     Epoch 25: Train Loss = 0.6086, Val Loss = 12.4137\n",
            "     Epoch 30: Train Loss = 0.6064, Val Loss = 11.9527\n",
            "     Epoch 35: Train Loss = 0.6015, Val Loss = 13.4137\n",
            "     Epoch 40: Train Loss = 0.6021, Val Loss = 13.2980\n",
            "     Epoch 45: Train Loss = 0.6057, Val Loss = 13.2001\n",
            "    ⏹️ Early stopping at epoch 46\n",
            " Run 3 finished with best val loss: 11.4735\n",
            "Original Error Percentage (Test Dataset): 10.7707%\n",
            "Corrected Error Percentage (Test Dataset): 11.1739%\n",
            "   Run 4/5 ... "
          ]
        },
        {
          "output_type": "stream",
          "name": "stderr",
          "text": [
            "<ipython-input-28-f2771d1cb762>:152: UserWarning: To copy construct from a tensor, it is recommended to use sourceTensor.clone().detach() or sourceTensor.clone().detach().requires_grad_(True), rather than torch.tensor(sourceTensor).\n",
            "  X_scaled_tensor = torch.tensor(combined_X, dtype=torch.float32).unsqueeze(1)\n"
          ]
        },
        {
          "output_type": "stream",
          "name": "stdout",
          "text": [
            "     Epoch 0: Train Loss = 0.6198, Val Loss = 15.0502\n",
            "     Epoch 5: Train Loss = 0.6135, Val Loss = 13.2376\n",
            "     Epoch 10: Train Loss = 0.6076, Val Loss = 13.0118\n",
            "     Epoch 15: Train Loss = 0.6047, Val Loss = 12.9702\n",
            "     Epoch 20: Train Loss = 0.6049, Val Loss = 12.5299\n",
            "    ⏹️ Early stopping at epoch 23\n",
            " Run 4 finished with best val loss: 11.5800\n",
            "Original Error Percentage (Test Dataset): 10.7707%\n",
            "Corrected Error Percentage (Test Dataset): 10.5930%\n",
            "   Run 5/5 ... "
          ]
        },
        {
          "output_type": "stream",
          "name": "stderr",
          "text": [
            "<ipython-input-28-f2771d1cb762>:152: UserWarning: To copy construct from a tensor, it is recommended to use sourceTensor.clone().detach() or sourceTensor.clone().detach().requires_grad_(True), rather than torch.tensor(sourceTensor).\n",
            "  X_scaled_tensor = torch.tensor(combined_X, dtype=torch.float32).unsqueeze(1)\n"
          ]
        },
        {
          "output_type": "stream",
          "name": "stdout",
          "text": [
            "     Epoch 0: Train Loss = 0.6147, Val Loss = 10.9993\n",
            "     Epoch 5: Train Loss = 0.6055, Val Loss = 13.6823\n",
            "     Epoch 10: Train Loss = 0.6073, Val Loss = 12.3195\n",
            "     Epoch 15: Train Loss = 0.6052, Val Loss = 12.5181\n",
            "     Epoch 20: Train Loss = 0.6045, Val Loss = 12.7067\n",
            "    ⏹️ Early stopping at epoch 20\n",
            " Run 5 finished with best val loss: 10.9993\n",
            "Original Error Percentage (Test Dataset): 10.7707%\n",
            "Corrected Error Percentage (Test Dataset): 10.8620%\n",
            " Finished configuration H=64, D=0.2, LR=0.001, B=8 → Avg Val Loss: 11.3707, Avg Accuracy: 10.8413%\n",
            "\n",
            " Running 80/108: H=64, D=0.2, LR=0.001, B=16\n",
            "   Run 1/5 ...      Epoch 0: Train Loss = 0.6214, Val Loss = 11.3097\n"
          ]
        },
        {
          "output_type": "stream",
          "name": "stderr",
          "text": [
            "<ipython-input-28-f2771d1cb762>:152: UserWarning: To copy construct from a tensor, it is recommended to use sourceTensor.clone().detach() or sourceTensor.clone().detach().requires_grad_(True), rather than torch.tensor(sourceTensor).\n",
            "  X_scaled_tensor = torch.tensor(combined_X, dtype=torch.float32).unsqueeze(1)\n"
          ]
        },
        {
          "output_type": "stream",
          "name": "stdout",
          "text": [
            "     Epoch 5: Train Loss = 0.6091, Val Loss = 13.0195\n",
            "     Epoch 10: Train Loss = 0.6045, Val Loss = 13.2013\n",
            "     Epoch 15: Train Loss = 0.6004, Val Loss = 13.8036\n",
            "     Epoch 20: Train Loss = 0.6009, Val Loss = 12.7116\n",
            "    ⏹️ Early stopping at epoch 20\n",
            " Run 1 finished with best val loss: 11.3097\n",
            "Original Error Percentage (Test Dataset): 10.7707%\n",
            "Corrected Error Percentage (Test Dataset): 10.9126%\n",
            "   Run 2/5 ... "
          ]
        },
        {
          "output_type": "stream",
          "name": "stderr",
          "text": [
            "<ipython-input-28-f2771d1cb762>:152: UserWarning: To copy construct from a tensor, it is recommended to use sourceTensor.clone().detach() or sourceTensor.clone().detach().requires_grad_(True), rather than torch.tensor(sourceTensor).\n",
            "  X_scaled_tensor = torch.tensor(combined_X, dtype=torch.float32).unsqueeze(1)\n"
          ]
        },
        {
          "output_type": "stream",
          "name": "stdout",
          "text": [
            "     Epoch 0: Train Loss = 0.6133, Val Loss = 13.3893\n",
            "     Epoch 5: Train Loss = 0.6098, Val Loss = 10.8208\n",
            "     Epoch 10: Train Loss = 0.6073, Val Loss = 13.4004\n",
            "     Epoch 15: Train Loss = 0.6069, Val Loss = 13.5860\n",
            "     Epoch 20: Train Loss = 0.6051, Val Loss = 12.3870\n",
            "     Epoch 25: Train Loss = 0.6051, Val Loss = 11.7621\n",
            "    ⏹️ Early stopping at epoch 25\n",
            " Run 2 finished with best val loss: 10.8208\n",
            "Original Error Percentage (Test Dataset): 10.7707%\n",
            "Corrected Error Percentage (Test Dataset): 10.4713%\n",
            "   Run 3/5 ...      Epoch 0: Train Loss = 0.6228, Val Loss = 12.3713\n"
          ]
        },
        {
          "output_type": "stream",
          "name": "stderr",
          "text": [
            "<ipython-input-28-f2771d1cb762>:152: UserWarning: To copy construct from a tensor, it is recommended to use sourceTensor.clone().detach() or sourceTensor.clone().detach().requires_grad_(True), rather than torch.tensor(sourceTensor).\n",
            "  X_scaled_tensor = torch.tensor(combined_X, dtype=torch.float32).unsqueeze(1)\n"
          ]
        },
        {
          "output_type": "stream",
          "name": "stdout",
          "text": [
            "     Epoch 5: Train Loss = 0.6042, Val Loss = 12.0941\n",
            "     Epoch 10: Train Loss = 0.6047, Val Loss = 12.6076\n",
            "     Epoch 15: Train Loss = 0.6047, Val Loss = 13.4393\n",
            "     Epoch 20: Train Loss = 0.6057, Val Loss = 11.7511\n",
            "     Epoch 25: Train Loss = 0.6006, Val Loss = 13.6762\n",
            "     Epoch 30: Train Loss = 0.6032, Val Loss = 12.5205\n",
            "     Epoch 35: Train Loss = 0.6027, Val Loss = 12.3889\n",
            "     Epoch 40: Train Loss = 0.6041, Val Loss = 12.0959\n",
            "    ⏹️ Early stopping at epoch 40\n",
            " Run 3 finished with best val loss: 11.7511\n",
            "Original Error Percentage (Test Dataset): 10.7707%\n",
            "Corrected Error Percentage (Test Dataset): 10.6603%\n",
            "   Run 4/5 ...      Epoch 0: Train Loss = 0.6112, Val Loss = 12.7303\n"
          ]
        },
        {
          "output_type": "stream",
          "name": "stderr",
          "text": [
            "<ipython-input-28-f2771d1cb762>:152: UserWarning: To copy construct from a tensor, it is recommended to use sourceTensor.clone().detach() or sourceTensor.clone().detach().requires_grad_(True), rather than torch.tensor(sourceTensor).\n",
            "  X_scaled_tensor = torch.tensor(combined_X, dtype=torch.float32).unsqueeze(1)\n"
          ]
        },
        {
          "output_type": "stream",
          "name": "stdout",
          "text": [
            "     Epoch 5: Train Loss = 0.6088, Val Loss = 12.9686\n",
            "     Epoch 10: Train Loss = 0.6082, Val Loss = 12.3244\n",
            "     Epoch 15: Train Loss = 0.6051, Val Loss = 12.8428\n",
            "     Epoch 20: Train Loss = 0.6077, Val Loss = 12.0719\n",
            "     Epoch 25: Train Loss = 0.6022, Val Loss = 12.8307\n",
            "    ⏹️ Early stopping at epoch 27\n",
            " Run 4 finished with best val loss: 11.5701\n",
            "Original Error Percentage (Test Dataset): 10.7707%\n",
            "Corrected Error Percentage (Test Dataset): 10.7954%\n",
            "   Run 5/5 ...      Epoch 0: Train Loss = 0.6178, Val Loss = 12.1615\n"
          ]
        },
        {
          "output_type": "stream",
          "name": "stderr",
          "text": [
            "<ipython-input-28-f2771d1cb762>:152: UserWarning: To copy construct from a tensor, it is recommended to use sourceTensor.clone().detach() or sourceTensor.clone().detach().requires_grad_(True), rather than torch.tensor(sourceTensor).\n",
            "  X_scaled_tensor = torch.tensor(combined_X, dtype=torch.float32).unsqueeze(1)\n"
          ]
        },
        {
          "output_type": "stream",
          "name": "stdout",
          "text": [
            "     Epoch 5: Train Loss = 0.6043, Val Loss = 13.2296\n",
            "     Epoch 10: Train Loss = 0.6038, Val Loss = 12.5799\n",
            "     Epoch 15: Train Loss = 0.6048, Val Loss = 13.4791\n",
            "     Epoch 20: Train Loss = 0.6008, Val Loss = 13.0588\n",
            "    ⏹️ Early stopping at epoch 20\n",
            " Run 5 finished with best val loss: 12.1615\n",
            "Original Error Percentage (Test Dataset): 10.7707%\n",
            "Corrected Error Percentage (Test Dataset): 10.9561%\n",
            " Finished configuration H=64, D=0.2, LR=0.001, B=16 → Avg Val Loss: 11.5227, Avg Accuracy: 10.7591%\n",
            "\n",
            " Running 81/108: H=64, D=0.2, LR=0.001, B=32\n",
            "   Run 1/5 ...      Epoch 0: Train Loss = 0.6042, Val Loss = 14.0114\n"
          ]
        },
        {
          "output_type": "stream",
          "name": "stderr",
          "text": [
            "<ipython-input-28-f2771d1cb762>:152: UserWarning: To copy construct from a tensor, it is recommended to use sourceTensor.clone().detach() or sourceTensor.clone().detach().requires_grad_(True), rather than torch.tensor(sourceTensor).\n",
            "  X_scaled_tensor = torch.tensor(combined_X, dtype=torch.float32).unsqueeze(1)\n"
          ]
        },
        {
          "output_type": "stream",
          "name": "stdout",
          "text": [
            "     Epoch 5: Train Loss = 0.6073, Val Loss = 11.8903\n",
            "     Epoch 10: Train Loss = 0.6024, Val Loss = 12.6632\n",
            "     Epoch 15: Train Loss = 0.6034, Val Loss = 12.2357\n",
            "     Epoch 20: Train Loss = 0.5990, Val Loss = 13.0989\n",
            "     Epoch 25: Train Loss = 0.6041, Val Loss = 13.5925\n",
            "    ⏹️ Early stopping at epoch 25\n",
            " Run 1 finished with best val loss: 11.8903\n",
            "Original Error Percentage (Test Dataset): 10.7707%\n",
            "Corrected Error Percentage (Test Dataset): 11.1783%\n",
            "   Run 2/5 ...      Epoch 0: Train Loss = 0.6189, Val Loss = 11.9861\n"
          ]
        },
        {
          "output_type": "stream",
          "name": "stderr",
          "text": [
            "<ipython-input-28-f2771d1cb762>:152: UserWarning: To copy construct from a tensor, it is recommended to use sourceTensor.clone().detach() or sourceTensor.clone().detach().requires_grad_(True), rather than torch.tensor(sourceTensor).\n",
            "  X_scaled_tensor = torch.tensor(combined_X, dtype=torch.float32).unsqueeze(1)\n"
          ]
        },
        {
          "output_type": "stream",
          "name": "stdout",
          "text": [
            "     Epoch 5: Train Loss = 0.6092, Val Loss = 11.6205\n",
            "     Epoch 10: Train Loss = 0.6021, Val Loss = 13.4809\n",
            "     Epoch 15: Train Loss = 0.6087, Val Loss = 12.2879\n",
            "     Epoch 20: Train Loss = 0.6039, Val Loss = 12.4884\n",
            "     Epoch 25: Train Loss = 0.5985, Val Loss = 12.2360\n",
            "    ⏹️ Early stopping at epoch 25\n",
            " Run 2 finished with best val loss: 11.6205\n",
            "Original Error Percentage (Test Dataset): 10.7707%\n",
            "Corrected Error Percentage (Test Dataset): 10.6648%\n",
            "   Run 3/5 ...      Epoch 0: Train Loss = 0.6225, Val Loss = 14.3982\n"
          ]
        },
        {
          "output_type": "stream",
          "name": "stderr",
          "text": [
            "<ipython-input-28-f2771d1cb762>:152: UserWarning: To copy construct from a tensor, it is recommended to use sourceTensor.clone().detach() or sourceTensor.clone().detach().requires_grad_(True), rather than torch.tensor(sourceTensor).\n",
            "  X_scaled_tensor = torch.tensor(combined_X, dtype=torch.float32).unsqueeze(1)\n"
          ]
        },
        {
          "output_type": "stream",
          "name": "stdout",
          "text": [
            "     Epoch 5: Train Loss = 0.6042, Val Loss = 13.7250\n",
            "     Epoch 10: Train Loss = 0.6076, Val Loss = 13.4207\n",
            "     Epoch 15: Train Loss = 0.6061, Val Loss = 13.9409\n",
            "     Epoch 20: Train Loss = 0.6034, Val Loss = 13.2893\n",
            "     Epoch 25: Train Loss = 0.6017, Val Loss = 13.7369\n",
            "     Epoch 30: Train Loss = 0.6062, Val Loss = 13.1404\n",
            "     Epoch 35: Train Loss = 0.6010, Val Loss = 13.5076\n",
            "     Epoch 40: Train Loss = 0.6004, Val Loss = 12.9186\n",
            "    ⏹️ Early stopping at epoch 44\n",
            " Run 3 finished with best val loss: 12.3803\n",
            "Original Error Percentage (Test Dataset): 10.7707%\n",
            "Corrected Error Percentage (Test Dataset): 10.8081%\n",
            "   Run 4/5 ...      Epoch 0: Train Loss = 0.6182, Val Loss = 11.9312\n"
          ]
        },
        {
          "output_type": "stream",
          "name": "stderr",
          "text": [
            "<ipython-input-28-f2771d1cb762>:152: UserWarning: To copy construct from a tensor, it is recommended to use sourceTensor.clone().detach() or sourceTensor.clone().detach().requires_grad_(True), rather than torch.tensor(sourceTensor).\n",
            "  X_scaled_tensor = torch.tensor(combined_X, dtype=torch.float32).unsqueeze(1)\n"
          ]
        },
        {
          "output_type": "stream",
          "name": "stdout",
          "text": [
            "     Epoch 5: Train Loss = 0.6059, Val Loss = 13.3004\n",
            "     Epoch 10: Train Loss = 0.6034, Val Loss = 13.1550\n",
            "     Epoch 15: Train Loss = 0.6037, Val Loss = 13.2010\n",
            "     Epoch 20: Train Loss = 0.6037, Val Loss = 13.0585\n",
            "    ⏹️ Early stopping at epoch 24\n",
            " Run 4 finished with best val loss: 11.8943\n",
            "Original Error Percentage (Test Dataset): 10.7707%\n",
            "Corrected Error Percentage (Test Dataset): 10.9900%\n",
            "   Run 5/5 ...      Epoch 0: Train Loss = 0.6463, Val Loss = 12.2636\n"
          ]
        },
        {
          "output_type": "stream",
          "name": "stderr",
          "text": [
            "<ipython-input-28-f2771d1cb762>:152: UserWarning: To copy construct from a tensor, it is recommended to use sourceTensor.clone().detach() or sourceTensor.clone().detach().requires_grad_(True), rather than torch.tensor(sourceTensor).\n",
            "  X_scaled_tensor = torch.tensor(combined_X, dtype=torch.float32).unsqueeze(1)\n"
          ]
        },
        {
          "output_type": "stream",
          "name": "stdout",
          "text": [
            "     Epoch 5: Train Loss = 0.6056, Val Loss = 12.7101\n",
            "     Epoch 10: Train Loss = 0.6068, Val Loss = 13.3295\n",
            "     Epoch 15: Train Loss = 0.6051, Val Loss = 12.7299\n",
            "     Epoch 20: Train Loss = 0.6043, Val Loss = 12.3422\n",
            "    ⏹️ Early stopping at epoch 20\n",
            " Run 5 finished with best val loss: 12.2636\n",
            "Original Error Percentage (Test Dataset): 10.7707%\n",
            "Corrected Error Percentage (Test Dataset): 10.7385%\n",
            " Finished configuration H=64, D=0.2, LR=0.001, B=32 → Avg Val Loss: 12.0098, Avg Accuracy: 10.8759%\n",
            "\n",
            " Running 82/108: H=128, D=0.0, LR=0.0001, B=8\n",
            "   Run 1/5 ... "
          ]
        },
        {
          "output_type": "stream",
          "name": "stderr",
          "text": [
            "<ipython-input-28-f2771d1cb762>:152: UserWarning: To copy construct from a tensor, it is recommended to use sourceTensor.clone().detach() or sourceTensor.clone().detach().requires_grad_(True), rather than torch.tensor(sourceTensor).\n",
            "  X_scaled_tensor = torch.tensor(combined_X, dtype=torch.float32).unsqueeze(1)\n"
          ]
        },
        {
          "output_type": "stream",
          "name": "stdout",
          "text": [
            "     Epoch 0: Train Loss = 0.6133, Val Loss = 12.1415\n",
            "     Epoch 5: Train Loss = 0.6019, Val Loss = 12.9963\n",
            "     Epoch 10: Train Loss = 0.6013, Val Loss = 13.0154\n",
            "     Epoch 15: Train Loss = 0.6022, Val Loss = 12.6299\n",
            "     Epoch 20: Train Loss = 0.6016, Val Loss = 12.7535\n",
            "    ⏹️ Early stopping at epoch 20\n",
            " Run 1 finished with best val loss: 12.1415\n",
            "Original Error Percentage (Test Dataset): 10.7707%\n",
            "Corrected Error Percentage (Test Dataset): 10.8602%\n",
            "   Run 2/5 ... "
          ]
        },
        {
          "output_type": "stream",
          "name": "stderr",
          "text": [
            "<ipython-input-28-f2771d1cb762>:152: UserWarning: To copy construct from a tensor, it is recommended to use sourceTensor.clone().detach() or sourceTensor.clone().detach().requires_grad_(True), rather than torch.tensor(sourceTensor).\n",
            "  X_scaled_tensor = torch.tensor(combined_X, dtype=torch.float32).unsqueeze(1)\n"
          ]
        },
        {
          "output_type": "stream",
          "name": "stdout",
          "text": [
            "     Epoch 0: Train Loss = 0.6151, Val Loss = 11.8821\n",
            "     Epoch 5: Train Loss = 0.6021, Val Loss = 12.9664\n",
            "     Epoch 10: Train Loss = 0.6019, Val Loss = 13.3307\n",
            "     Epoch 15: Train Loss = 0.6002, Val Loss = 12.7812\n",
            "     Epoch 20: Train Loss = 0.6016, Val Loss = 12.8926\n",
            "    ⏹️ Early stopping at epoch 20\n",
            " Run 2 finished with best val loss: 11.8821\n",
            "Original Error Percentage (Test Dataset): 10.7707%\n",
            "Corrected Error Percentage (Test Dataset): 10.9026%\n",
            "   Run 3/5 ... "
          ]
        },
        {
          "output_type": "stream",
          "name": "stderr",
          "text": [
            "<ipython-input-28-f2771d1cb762>:152: UserWarning: To copy construct from a tensor, it is recommended to use sourceTensor.clone().detach() or sourceTensor.clone().detach().requires_grad_(True), rather than torch.tensor(sourceTensor).\n",
            "  X_scaled_tensor = torch.tensor(combined_X, dtype=torch.float32).unsqueeze(1)\n"
          ]
        },
        {
          "output_type": "stream",
          "name": "stdout",
          "text": [
            "     Epoch 0: Train Loss = 0.6093, Val Loss = 12.7495\n",
            "     Epoch 5: Train Loss = 0.6028, Val Loss = 13.0475\n",
            "     Epoch 10: Train Loss = 0.6025, Val Loss = 12.6087\n",
            "     Epoch 15: Train Loss = 0.6012, Val Loss = 12.9477\n",
            "     Epoch 20: Train Loss = 0.6014, Val Loss = 12.9352\n",
            "     Epoch 25: Train Loss = 0.6004, Val Loss = 12.6028\n",
            "    ⏹️ Early stopping at epoch 28\n",
            " Run 3 finished with best val loss: 11.9198\n",
            "Original Error Percentage (Test Dataset): 10.7707%\n",
            "Corrected Error Percentage (Test Dataset): 10.9168%\n",
            "   Run 4/5 ... "
          ]
        },
        {
          "output_type": "stream",
          "name": "stderr",
          "text": [
            "<ipython-input-28-f2771d1cb762>:152: UserWarning: To copy construct from a tensor, it is recommended to use sourceTensor.clone().detach() or sourceTensor.clone().detach().requires_grad_(True), rather than torch.tensor(sourceTensor).\n",
            "  X_scaled_tensor = torch.tensor(combined_X, dtype=torch.float32).unsqueeze(1)\n"
          ]
        },
        {
          "output_type": "stream",
          "name": "stdout",
          "text": [
            "     Epoch 0: Train Loss = 0.6099, Val Loss = 15.1540\n",
            "     Epoch 5: Train Loss = 0.6028, Val Loss = 13.9705\n",
            "     Epoch 10: Train Loss = 0.6024, Val Loss = 13.3499\n",
            "     Epoch 15: Train Loss = 0.6021, Val Loss = 13.1046\n",
            "     Epoch 20: Train Loss = 0.6012, Val Loss = 13.1591\n",
            "     Epoch 25: Train Loss = 0.6009, Val Loss = 13.1258\n",
            "     Epoch 30: Train Loss = 0.6008, Val Loss = 12.4081\n",
            "     Epoch 35: Train Loss = 0.5997, Val Loss = 11.9929\n",
            "     Epoch 40: Train Loss = 0.6003, Val Loss = 13.0247\n",
            "     Epoch 45: Train Loss = 0.5995, Val Loss = 13.0215\n",
            "     Epoch 50: Train Loss = 0.6013, Val Loss = 12.7526\n",
            "     Epoch 55: Train Loss = 0.5994, Val Loss = 12.9285\n",
            "     Epoch 60: Train Loss = 0.5982, Val Loss = 12.5610\n",
            "     Epoch 65: Train Loss = 0.5992, Val Loss = 12.7399\n",
            "     Epoch 70: Train Loss = 0.5996, Val Loss = 12.6626\n",
            "    ⏹️ Early stopping at epoch 74\n",
            " Run 4 finished with best val loss: 11.8558\n",
            "Original Error Percentage (Test Dataset): 10.7707%\n",
            "Corrected Error Percentage (Test Dataset): 10.6261%\n",
            "   Run 5/5 ... "
          ]
        },
        {
          "output_type": "stream",
          "name": "stderr",
          "text": [
            "<ipython-input-28-f2771d1cb762>:152: UserWarning: To copy construct from a tensor, it is recommended to use sourceTensor.clone().detach() or sourceTensor.clone().detach().requires_grad_(True), rather than torch.tensor(sourceTensor).\n",
            "  X_scaled_tensor = torch.tensor(combined_X, dtype=torch.float32).unsqueeze(1)\n"
          ]
        },
        {
          "output_type": "stream",
          "name": "stdout",
          "text": [
            "     Epoch 0: Train Loss = 0.6132, Val Loss = 12.3430\n",
            "     Epoch 5: Train Loss = 0.6034, Val Loss = 13.3058\n",
            "     Epoch 10: Train Loss = 0.6018, Val Loss = 12.9725\n",
            "     Epoch 15: Train Loss = 0.6023, Val Loss = 12.9880\n",
            "     Epoch 20: Train Loss = 0.6016, Val Loss = 12.6182\n",
            "     Epoch 25: Train Loss = 0.6001, Val Loss = 12.6129\n",
            "     Epoch 30: Train Loss = 0.6016, Val Loss = 13.2262\n",
            "     Epoch 35: Train Loss = 0.6015, Val Loss = 12.1996\n",
            "     Epoch 40: Train Loss = 0.6014, Val Loss = 12.6160\n",
            "     Epoch 45: Train Loss = 0.6010, Val Loss = 12.7589\n",
            "     Epoch 50: Train Loss = 0.6009, Val Loss = 12.7774\n",
            "     Epoch 55: Train Loss = 0.6006, Val Loss = 12.5510\n",
            "    ⏹️ Early stopping at epoch 56\n",
            " Run 5 finished with best val loss: 11.7778\n",
            "Original Error Percentage (Test Dataset): 10.7707%\n",
            "Corrected Error Percentage (Test Dataset): 10.7813%\n",
            " Finished configuration H=128, D=0.0, LR=0.0001, B=8 → Avg Val Loss: 11.9154, Avg Accuracy: 10.8174%\n",
            "\n",
            " Running 83/108: H=128, D=0.0, LR=0.0001, B=16\n",
            "   Run 1/5 ...      Epoch 0: Train Loss = 0.6257, Val Loss = 11.1634\n"
          ]
        },
        {
          "output_type": "stream",
          "name": "stderr",
          "text": [
            "<ipython-input-28-f2771d1cb762>:152: UserWarning: To copy construct from a tensor, it is recommended to use sourceTensor.clone().detach() or sourceTensor.clone().detach().requires_grad_(True), rather than torch.tensor(sourceTensor).\n",
            "  X_scaled_tensor = torch.tensor(combined_X, dtype=torch.float32).unsqueeze(1)\n"
          ]
        },
        {
          "output_type": "stream",
          "name": "stdout",
          "text": [
            "     Epoch 5: Train Loss = 0.6018, Val Loss = 12.8563\n",
            "     Epoch 10: Train Loss = 0.6021, Val Loss = 13.1051\n",
            "     Epoch 15: Train Loss = 0.6010, Val Loss = 13.0681\n",
            "     Epoch 20: Train Loss = 0.6009, Val Loss = 13.3333\n",
            "    ⏹️ Early stopping at epoch 20\n",
            " Run 1 finished with best val loss: 11.1634\n",
            "Original Error Percentage (Test Dataset): 10.7707%\n",
            "Corrected Error Percentage (Test Dataset): 11.0938%\n",
            "   Run 2/5 ...      Epoch 0: Train Loss = 0.6204, Val Loss = 13.4628\n"
          ]
        },
        {
          "output_type": "stream",
          "name": "stderr",
          "text": [
            "<ipython-input-28-f2771d1cb762>:152: UserWarning: To copy construct from a tensor, it is recommended to use sourceTensor.clone().detach() or sourceTensor.clone().detach().requires_grad_(True), rather than torch.tensor(sourceTensor).\n",
            "  X_scaled_tensor = torch.tensor(combined_X, dtype=torch.float32).unsqueeze(1)\n"
          ]
        },
        {
          "output_type": "stream",
          "name": "stdout",
          "text": [
            "     Epoch 5: Train Loss = 0.6019, Val Loss = 13.2589\n",
            "     Epoch 10: Train Loss = 0.6009, Val Loss = 13.3477\n",
            "     Epoch 15: Train Loss = 0.6012, Val Loss = 13.0457\n",
            "     Epoch 20: Train Loss = 0.6009, Val Loss = 13.1080\n",
            "     Epoch 25: Train Loss = 0.6007, Val Loss = 13.1252\n",
            "     Epoch 30: Train Loss = 0.6012, Val Loss = 13.2834\n",
            "     Epoch 35: Train Loss = 0.6003, Val Loss = 13.4325\n",
            "     Epoch 40: Train Loss = 0.6006, Val Loss = 12.8350\n",
            "     Epoch 45: Train Loss = 0.6007, Val Loss = 12.5490\n",
            "     Epoch 50: Train Loss = 0.6006, Val Loss = 12.5162\n",
            "     Epoch 55: Train Loss = 0.6000, Val Loss = 12.6668\n",
            "     Epoch 60: Train Loss = 0.6006, Val Loss = 12.7265\n",
            "     Epoch 65: Train Loss = 0.6003, Val Loss = 13.4489\n",
            "     Epoch 70: Train Loss = 0.6003, Val Loss = 12.3047\n",
            "     Epoch 75: Train Loss = 0.5999, Val Loss = 12.7824\n",
            "     Epoch 80: Train Loss = 0.6007, Val Loss = 12.0445\n",
            "     Epoch 85: Train Loss = 0.5996, Val Loss = 12.5053\n",
            "     Epoch 90: Train Loss = 0.5981, Val Loss = 12.2149\n",
            "     Epoch 95: Train Loss = 0.5994, Val Loss = 12.5602\n",
            "     Epoch 100: Train Loss = 0.5991, Val Loss = 12.0879\n",
            "     Epoch 105: Train Loss = 0.5988, Val Loss = 12.6517\n",
            "     Epoch 110: Train Loss = 0.5999, Val Loss = 12.7667\n",
            "    ⏹️ Early stopping at epoch 113\n",
            " Run 2 finished with best val loss: 11.9912\n",
            "Original Error Percentage (Test Dataset): 10.7707%\n",
            "Corrected Error Percentage (Test Dataset): 10.5870%\n",
            "   Run 3/5 ... "
          ]
        },
        {
          "output_type": "stream",
          "name": "stderr",
          "text": [
            "<ipython-input-28-f2771d1cb762>:152: UserWarning: To copy construct from a tensor, it is recommended to use sourceTensor.clone().detach() or sourceTensor.clone().detach().requires_grad_(True), rather than torch.tensor(sourceTensor).\n",
            "  X_scaled_tensor = torch.tensor(combined_X, dtype=torch.float32).unsqueeze(1)\n"
          ]
        },
        {
          "output_type": "stream",
          "name": "stdout",
          "text": [
            "     Epoch 0: Train Loss = 0.6172, Val Loss = 12.4256\n",
            "     Epoch 5: Train Loss = 0.6020, Val Loss = 13.4882\n",
            "     Epoch 10: Train Loss = 0.6018, Val Loss = 13.2323\n",
            "     Epoch 15: Train Loss = 0.6008, Val Loss = 12.9556\n",
            "     Epoch 20: Train Loss = 0.6014, Val Loss = 13.3711\n",
            "     Epoch 25: Train Loss = 0.6007, Val Loss = 13.1730\n",
            "     Epoch 30: Train Loss = 0.6015, Val Loss = 12.3466\n",
            "     Epoch 35: Train Loss = 0.6001, Val Loss = 13.0524\n",
            "     Epoch 40: Train Loss = 0.6001, Val Loss = 12.4539\n",
            "     Epoch 45: Train Loss = 0.6008, Val Loss = 12.9805\n",
            "    ⏹️ Early stopping at epoch 47\n",
            " Run 3 finished with best val loss: 11.9875\n",
            "Original Error Percentage (Test Dataset): 10.7707%\n",
            "Corrected Error Percentage (Test Dataset): 10.8338%\n",
            "   Run 4/5 ...      Epoch 0: Train Loss = 0.6150, Val Loss = 12.2384\n"
          ]
        },
        {
          "output_type": "stream",
          "name": "stderr",
          "text": [
            "<ipython-input-28-f2771d1cb762>:152: UserWarning: To copy construct from a tensor, it is recommended to use sourceTensor.clone().detach() or sourceTensor.clone().detach().requires_grad_(True), rather than torch.tensor(sourceTensor).\n",
            "  X_scaled_tensor = torch.tensor(combined_X, dtype=torch.float32).unsqueeze(1)\n"
          ]
        },
        {
          "output_type": "stream",
          "name": "stdout",
          "text": [
            "     Epoch 5: Train Loss = 0.6024, Val Loss = 13.0880\n",
            "     Epoch 10: Train Loss = 0.6018, Val Loss = 13.1222\n",
            "     Epoch 15: Train Loss = 0.6017, Val Loss = 12.6729\n",
            "     Epoch 20: Train Loss = 0.6007, Val Loss = 12.8296\n",
            "     Epoch 25: Train Loss = 0.6012, Val Loss = 12.7617\n",
            "     Epoch 30: Train Loss = 0.6014, Val Loss = 12.2991\n",
            "     Epoch 35: Train Loss = 0.6009, Val Loss = 12.3810\n",
            "    ⏹️ Early stopping at epoch 36\n",
            " Run 4 finished with best val loss: 12.1808\n",
            "Original Error Percentage (Test Dataset): 10.7707%\n",
            "Corrected Error Percentage (Test Dataset): 10.7437%\n",
            "   Run 5/5 ... "
          ]
        },
        {
          "output_type": "stream",
          "name": "stderr",
          "text": [
            "<ipython-input-28-f2771d1cb762>:152: UserWarning: To copy construct from a tensor, it is recommended to use sourceTensor.clone().detach() or sourceTensor.clone().detach().requires_grad_(True), rather than torch.tensor(sourceTensor).\n",
            "  X_scaled_tensor = torch.tensor(combined_X, dtype=torch.float32).unsqueeze(1)\n"
          ]
        },
        {
          "output_type": "stream",
          "name": "stdout",
          "text": [
            "     Epoch 0: Train Loss = 0.6140, Val Loss = 13.2665\n",
            "     Epoch 5: Train Loss = 0.6025, Val Loss = 13.7479\n",
            "     Epoch 10: Train Loss = 0.6020, Val Loss = 13.2463\n",
            "     Epoch 15: Train Loss = 0.6015, Val Loss = 13.6085\n",
            "     Epoch 20: Train Loss = 0.6029, Val Loss = 13.3643\n",
            "     Epoch 25: Train Loss = 0.6008, Val Loss = 13.3903\n",
            "     Epoch 30: Train Loss = 0.6003, Val Loss = 13.0154\n",
            "     Epoch 35: Train Loss = 0.6010, Val Loss = 13.5645\n",
            "     Epoch 40: Train Loss = 0.5998, Val Loss = 13.0838\n",
            "     Epoch 45: Train Loss = 0.6006, Val Loss = 12.9644\n",
            "     Epoch 50: Train Loss = 0.6002, Val Loss = 12.7502\n",
            "     Epoch 55: Train Loss = 0.5997, Val Loss = 13.1105\n",
            "     Epoch 60: Train Loss = 0.5997, Val Loss = 12.9606\n",
            "     Epoch 65: Train Loss = 0.5991, Val Loss = 12.9213\n",
            "     Epoch 70: Train Loss = 0.5992, Val Loss = 12.4387\n",
            "     Epoch 75: Train Loss = 0.5991, Val Loss = 12.5044\n",
            "    ⏹️ Early stopping at epoch 79\n",
            " Run 5 finished with best val loss: 12.2506\n",
            "Original Error Percentage (Test Dataset): 10.7707%\n",
            "Corrected Error Percentage (Test Dataset): 10.5957%\n",
            " Finished configuration H=128, D=0.0, LR=0.0001, B=16 → Avg Val Loss: 11.9147, Avg Accuracy: 10.7708%\n",
            "\n",
            " Running 84/108: H=128, D=0.0, LR=0.0001, B=32\n",
            "   Run 1/5 ...      Epoch 0: Train Loss = 0.6129, Val Loss = 12.5830\n"
          ]
        },
        {
          "output_type": "stream",
          "name": "stderr",
          "text": [
            "<ipython-input-28-f2771d1cb762>:152: UserWarning: To copy construct from a tensor, it is recommended to use sourceTensor.clone().detach() or sourceTensor.clone().detach().requires_grad_(True), rather than torch.tensor(sourceTensor).\n",
            "  X_scaled_tensor = torch.tensor(combined_X, dtype=torch.float32).unsqueeze(1)\n"
          ]
        },
        {
          "output_type": "stream",
          "name": "stdout",
          "text": [
            "     Epoch 5: Train Loss = 0.6008, Val Loss = 13.2622\n",
            "     Epoch 10: Train Loss = 0.6001, Val Loss = 13.3657\n",
            "     Epoch 15: Train Loss = 0.6003, Val Loss = 13.3003\n",
            "     Epoch 20: Train Loss = 0.6001, Val Loss = 13.0801\n",
            "    ⏹️ Early stopping at epoch 21\n",
            " Run 1 finished with best val loss: 12.2303\n",
            "Original Error Percentage (Test Dataset): 10.7707%\n",
            "Corrected Error Percentage (Test Dataset): 11.0313%\n",
            "   Run 2/5 ... "
          ]
        },
        {
          "output_type": "stream",
          "name": "stderr",
          "text": [
            "<ipython-input-28-f2771d1cb762>:152: UserWarning: To copy construct from a tensor, it is recommended to use sourceTensor.clone().detach() or sourceTensor.clone().detach().requires_grad_(True), rather than torch.tensor(sourceTensor).\n",
            "  X_scaled_tensor = torch.tensor(combined_X, dtype=torch.float32).unsqueeze(1)\n"
          ]
        },
        {
          "output_type": "stream",
          "name": "stdout",
          "text": [
            "     Epoch 0: Train Loss = 0.6166, Val Loss = 13.4898\n",
            "     Epoch 5: Train Loss = 0.6011, Val Loss = 13.7796\n",
            "     Epoch 10: Train Loss = 0.6003, Val Loss = 13.4609\n",
            "     Epoch 15: Train Loss = 0.5998, Val Loss = 13.5028\n",
            "     Epoch 20: Train Loss = 0.5997, Val Loss = 13.4750\n",
            "     Epoch 25: Train Loss = 0.6000, Val Loss = 13.1500\n",
            "     Epoch 30: Train Loss = 0.5990, Val Loss = 12.9414\n",
            "     Epoch 35: Train Loss = 0.5999, Val Loss = 13.3726\n",
            "     Epoch 40: Train Loss = 0.5992, Val Loss = 12.7633\n",
            "     Epoch 45: Train Loss = 0.5987, Val Loss = 13.1338\n",
            "     Epoch 50: Train Loss = 0.5992, Val Loss = 12.4930\n",
            "     Epoch 55: Train Loss = 0.5982, Val Loss = 12.9184\n",
            "     Epoch 60: Train Loss = 0.5989, Val Loss = 12.5854\n",
            "     Epoch 65: Train Loss = 0.5980, Val Loss = 12.8033\n",
            "     Epoch 70: Train Loss = 0.5984, Val Loss = 12.6880\n",
            "     Epoch 75: Train Loss = 0.5978, Val Loss = 12.5152\n",
            "     Epoch 80: Train Loss = 0.5974, Val Loss = 12.8883\n",
            "     Epoch 85: Train Loss = 0.5976, Val Loss = 12.5364\n",
            "     Epoch 90: Train Loss = 0.5976, Val Loss = 12.2452\n",
            "    ⏹️ Early stopping at epoch 92\n",
            " Run 2 finished with best val loss: 12.0604\n",
            "Original Error Percentage (Test Dataset): 10.7707%\n",
            "Corrected Error Percentage (Test Dataset): 10.5613%\n",
            "   Run 3/5 ...      Epoch 0: Train Loss = 0.6314, Val Loss = 13.5533\n"
          ]
        },
        {
          "output_type": "stream",
          "name": "stderr",
          "text": [
            "<ipython-input-28-f2771d1cb762>:152: UserWarning: To copy construct from a tensor, it is recommended to use sourceTensor.clone().detach() or sourceTensor.clone().detach().requires_grad_(True), rather than torch.tensor(sourceTensor).\n",
            "  X_scaled_tensor = torch.tensor(combined_X, dtype=torch.float32).unsqueeze(1)\n"
          ]
        },
        {
          "output_type": "stream",
          "name": "stdout",
          "text": [
            "     Epoch 5: Train Loss = 0.6012, Val Loss = 13.7994\n",
            "     Epoch 10: Train Loss = 0.6013, Val Loss = 13.5197\n",
            "     Epoch 15: Train Loss = 0.6028, Val Loss = 12.8342\n",
            "     Epoch 20: Train Loss = 0.6007, Val Loss = 14.0544\n",
            "     Epoch 25: Train Loss = 0.6018, Val Loss = 12.9924\n",
            "     Epoch 30: Train Loss = 0.6003, Val Loss = 12.7833\n",
            "     Epoch 35: Train Loss = 0.6008, Val Loss = 12.7292\n",
            "     Epoch 40: Train Loss = 0.5999, Val Loss = 12.9941\n",
            "     Epoch 45: Train Loss = 0.6008, Val Loss = 12.1398\n",
            "     Epoch 50: Train Loss = 0.6005, Val Loss = 13.0794\n",
            "     Epoch 55: Train Loss = 0.6001, Val Loss = 13.2930\n",
            "     Epoch 60: Train Loss = 0.6019, Val Loss = 12.8328\n",
            "     Epoch 65: Train Loss = 0.6018, Val Loss = 13.1287\n",
            "    ⏹️ Early stopping at epoch 65\n",
            " Run 3 finished with best val loss: 12.1398\n",
            "Original Error Percentage (Test Dataset): 10.7707%\n",
            "Corrected Error Percentage (Test Dataset): 10.9633%\n",
            "   Run 4/5 ...      Epoch 0: Train Loss = 0.6126, Val Loss = 14.0168\n"
          ]
        },
        {
          "output_type": "stream",
          "name": "stderr",
          "text": [
            "<ipython-input-28-f2771d1cb762>:152: UserWarning: To copy construct from a tensor, it is recommended to use sourceTensor.clone().detach() or sourceTensor.clone().detach().requires_grad_(True), rather than torch.tensor(sourceTensor).\n",
            "  X_scaled_tensor = torch.tensor(combined_X, dtype=torch.float32).unsqueeze(1)\n"
          ]
        },
        {
          "output_type": "stream",
          "name": "stdout",
          "text": [
            "     Epoch 5: Train Loss = 0.6021, Val Loss = 13.3438\n",
            "     Epoch 10: Train Loss = 0.6013, Val Loss = 13.2720\n",
            "     Epoch 15: Train Loss = 0.6007, Val Loss = 13.2483\n",
            "     Epoch 20: Train Loss = 0.6005, Val Loss = 13.1319\n",
            "     Epoch 25: Train Loss = 0.6020, Val Loss = 13.1300\n",
            "     Epoch 30: Train Loss = 0.6012, Val Loss = 12.8795\n",
            "     Epoch 35: Train Loss = 0.6000, Val Loss = 13.1377\n",
            "     Epoch 40: Train Loss = 0.5996, Val Loss = 12.9623\n",
            "     Epoch 45: Train Loss = 0.6000, Val Loss = 13.0825\n",
            "    ⏹️ Early stopping at epoch 46\n",
            " Run 4 finished with best val loss: 12.4904\n",
            "Original Error Percentage (Test Dataset): 10.7707%\n",
            "Corrected Error Percentage (Test Dataset): 10.9291%\n",
            "   Run 5/5 ... "
          ]
        },
        {
          "output_type": "stream",
          "name": "stderr",
          "text": [
            "<ipython-input-28-f2771d1cb762>:152: UserWarning: To copy construct from a tensor, it is recommended to use sourceTensor.clone().detach() or sourceTensor.clone().detach().requires_grad_(True), rather than torch.tensor(sourceTensor).\n",
            "  X_scaled_tensor = torch.tensor(combined_X, dtype=torch.float32).unsqueeze(1)\n"
          ]
        },
        {
          "output_type": "stream",
          "name": "stdout",
          "text": [
            "     Epoch 0: Train Loss = 0.6116, Val Loss = 12.4400\n",
            "     Epoch 5: Train Loss = 0.6018, Val Loss = 13.4947\n",
            "     Epoch 10: Train Loss = 0.6012, Val Loss = 13.2839\n",
            "     Epoch 15: Train Loss = 0.6006, Val Loss = 13.2383\n",
            "     Epoch 20: Train Loss = 0.6012, Val Loss = 13.2301\n",
            "    ⏹️ Early stopping at epoch 20\n",
            " Run 5 finished with best val loss: 12.4400\n",
            "Original Error Percentage (Test Dataset): 10.7707%\n",
            "Corrected Error Percentage (Test Dataset): 11.0766%\n",
            " Finished configuration H=128, D=0.0, LR=0.0001, B=32 → Avg Val Loss: 12.2722, Avg Accuracy: 10.9123%\n",
            "\n",
            " Running 85/108: H=128, D=0.0, LR=0.0005, B=8\n",
            "   Run 1/5 ... "
          ]
        },
        {
          "output_type": "stream",
          "name": "stderr",
          "text": [
            "<ipython-input-28-f2771d1cb762>:152: UserWarning: To copy construct from a tensor, it is recommended to use sourceTensor.clone().detach() or sourceTensor.clone().detach().requires_grad_(True), rather than torch.tensor(sourceTensor).\n",
            "  X_scaled_tensor = torch.tensor(combined_X, dtype=torch.float32).unsqueeze(1)\n"
          ]
        },
        {
          "output_type": "stream",
          "name": "stdout",
          "text": [
            "     Epoch 0: Train Loss = 0.6109, Val Loss = 13.5989\n",
            "     Epoch 5: Train Loss = 0.6037, Val Loss = 13.0742\n",
            "     Epoch 10: Train Loss = 0.6025, Val Loss = 12.5029\n",
            "     Epoch 15: Train Loss = 0.6009, Val Loss = 11.7259\n",
            "     Epoch 20: Train Loss = 0.6008, Val Loss = 12.7997\n",
            "     Epoch 25: Train Loss = 0.6009, Val Loss = 13.1747\n",
            "     Epoch 30: Train Loss = 0.6004, Val Loss = 12.9053\n",
            "     Epoch 35: Train Loss = 0.6000, Val Loss = 12.4115\n",
            "    ⏹️ Early stopping at epoch 35\n",
            " Run 1 finished with best val loss: 11.7259\n",
            "Original Error Percentage (Test Dataset): 10.7707%\n",
            "Corrected Error Percentage (Test Dataset): 10.7128%\n",
            "   Run 2/5 ... "
          ]
        },
        {
          "output_type": "stream",
          "name": "stderr",
          "text": [
            "<ipython-input-28-f2771d1cb762>:152: UserWarning: To copy construct from a tensor, it is recommended to use sourceTensor.clone().detach() or sourceTensor.clone().detach().requires_grad_(True), rather than torch.tensor(sourceTensor).\n",
            "  X_scaled_tensor = torch.tensor(combined_X, dtype=torch.float32).unsqueeze(1)\n"
          ]
        },
        {
          "output_type": "stream",
          "name": "stdout",
          "text": [
            "     Epoch 0: Train Loss = 0.6124, Val Loss = 11.4804\n",
            "     Epoch 5: Train Loss = 0.6030, Val Loss = 12.2928\n",
            "     Epoch 10: Train Loss = 0.6041, Val Loss = 13.6055\n",
            "     Epoch 15: Train Loss = 0.6004, Val Loss = 14.7857\n",
            "     Epoch 20: Train Loss = 0.6008, Val Loss = 11.6239\n",
            "     Epoch 25: Train Loss = 0.6023, Val Loss = 13.0748\n",
            "     Epoch 30: Train Loss = 0.6020, Val Loss = 13.0803\n",
            "     Epoch 35: Train Loss = 0.5999, Val Loss = 11.6581\n",
            "    ⏹️ Early stopping at epoch 37\n",
            " Run 2 finished with best val loss: 11.0580\n",
            "Original Error Percentage (Test Dataset): 10.7707%\n",
            "Corrected Error Percentage (Test Dataset): 10.4008%\n",
            "   Run 3/5 ... "
          ]
        },
        {
          "output_type": "stream",
          "name": "stderr",
          "text": [
            "<ipython-input-28-f2771d1cb762>:152: UserWarning: To copy construct from a tensor, it is recommended to use sourceTensor.clone().detach() or sourceTensor.clone().detach().requires_grad_(True), rather than torch.tensor(sourceTensor).\n",
            "  X_scaled_tensor = torch.tensor(combined_X, dtype=torch.float32).unsqueeze(1)\n"
          ]
        },
        {
          "output_type": "stream",
          "name": "stdout",
          "text": [
            "     Epoch 0: Train Loss = 0.6163, Val Loss = 13.1420\n",
            "     Epoch 5: Train Loss = 0.6047, Val Loss = 13.2151\n",
            "     Epoch 10: Train Loss = 0.6025, Val Loss = 13.8914\n",
            "     Epoch 15: Train Loss = 0.6028, Val Loss = 12.3161\n",
            "     Epoch 20: Train Loss = 0.6018, Val Loss = 12.3653\n",
            "     Epoch 25: Train Loss = 0.6023, Val Loss = 12.1678\n",
            "     Epoch 30: Train Loss = 0.6018, Val Loss = 12.5759\n",
            "     Epoch 35: Train Loss = 0.6006, Val Loss = 12.4392\n",
            "     Epoch 40: Train Loss = 0.6010, Val Loss = 12.4955\n",
            "     Epoch 45: Train Loss = 0.6002, Val Loss = 12.7921\n",
            "     Epoch 50: Train Loss = 0.6021, Val Loss = 12.4790\n",
            "     Epoch 55: Train Loss = 0.5995, Val Loss = 12.6117\n",
            "     Epoch 60: Train Loss = 0.5991, Val Loss = 12.2810\n",
            "     Epoch 65: Train Loss = 0.5991, Val Loss = 12.4462\n",
            "    ⏹️ Early stopping at epoch 68\n",
            " Run 3 finished with best val loss: 11.5005\n",
            "Original Error Percentage (Test Dataset): 10.7707%\n",
            "Corrected Error Percentage (Test Dataset): 10.9030%\n",
            "   Run 4/5 ... "
          ]
        },
        {
          "output_type": "stream",
          "name": "stderr",
          "text": [
            "<ipython-input-28-f2771d1cb762>:152: UserWarning: To copy construct from a tensor, it is recommended to use sourceTensor.clone().detach() or sourceTensor.clone().detach().requires_grad_(True), rather than torch.tensor(sourceTensor).\n",
            "  X_scaled_tensor = torch.tensor(combined_X, dtype=torch.float32).unsqueeze(1)\n"
          ]
        },
        {
          "output_type": "stream",
          "name": "stdout",
          "text": [
            "     Epoch 0: Train Loss = 0.6124, Val Loss = 11.6210\n",
            "     Epoch 5: Train Loss = 0.6044, Val Loss = 13.4909\n",
            "     Epoch 10: Train Loss = 0.6034, Val Loss = 13.3121\n",
            "     Epoch 15: Train Loss = 0.6027, Val Loss = 13.8523\n",
            "     Epoch 20: Train Loss = 0.6039, Val Loss = 13.0809\n",
            "    ⏹️ Early stopping at epoch 20\n",
            " Run 4 finished with best val loss: 11.6210\n",
            "Original Error Percentage (Test Dataset): 10.7707%\n",
            "Corrected Error Percentage (Test Dataset): 11.0015%\n",
            "   Run 5/5 ... "
          ]
        },
        {
          "output_type": "stream",
          "name": "stderr",
          "text": [
            "<ipython-input-28-f2771d1cb762>:152: UserWarning: To copy construct from a tensor, it is recommended to use sourceTensor.clone().detach() or sourceTensor.clone().detach().requires_grad_(True), rather than torch.tensor(sourceTensor).\n",
            "  X_scaled_tensor = torch.tensor(combined_X, dtype=torch.float32).unsqueeze(1)\n"
          ]
        },
        {
          "output_type": "stream",
          "name": "stdout",
          "text": [
            "     Epoch 0: Train Loss = 0.6119, Val Loss = 14.3833\n",
            "     Epoch 5: Train Loss = 0.6040, Val Loss = 12.4994\n",
            "     Epoch 10: Train Loss = 0.6033, Val Loss = 13.4295\n",
            "     Epoch 15: Train Loss = 0.6015, Val Loss = 12.9920\n",
            "     Epoch 20: Train Loss = 0.6024, Val Loss = 12.6490\n",
            "     Epoch 25: Train Loss = 0.5993, Val Loss = 12.6889\n",
            "    ⏹️ Early stopping at epoch 28\n",
            " Run 5 finished with best val loss: 11.3121\n",
            "Original Error Percentage (Test Dataset): 10.7707%\n",
            "Corrected Error Percentage (Test Dataset): 10.7593%\n",
            " Finished configuration H=128, D=0.0, LR=0.0005, B=8 → Avg Val Loss: 11.4435, Avg Accuracy: 10.7555%\n",
            "\n",
            " Running 86/108: H=128, D=0.0, LR=0.0005, B=16\n",
            "   Run 1/5 ...      Epoch 0: Train Loss = 0.6141, Val Loss = 13.4167\n"
          ]
        },
        {
          "output_type": "stream",
          "name": "stderr",
          "text": [
            "<ipython-input-28-f2771d1cb762>:152: UserWarning: To copy construct from a tensor, it is recommended to use sourceTensor.clone().detach() or sourceTensor.clone().detach().requires_grad_(True), rather than torch.tensor(sourceTensor).\n",
            "  X_scaled_tensor = torch.tensor(combined_X, dtype=torch.float32).unsqueeze(1)\n"
          ]
        },
        {
          "output_type": "stream",
          "name": "stdout",
          "text": [
            "     Epoch 5: Train Loss = 0.6066, Val Loss = 13.2080\n",
            "     Epoch 10: Train Loss = 0.6022, Val Loss = 13.5488\n",
            "     Epoch 15: Train Loss = 0.6022, Val Loss = 12.8308\n",
            "     Epoch 20: Train Loss = 0.6020, Val Loss = 12.7408\n",
            "     Epoch 25: Train Loss = 0.6029, Val Loss = 13.2057\n",
            "    ⏹️ Early stopping at epoch 27\n",
            " Run 1 finished with best val loss: 12.1718\n",
            "Original Error Percentage (Test Dataset): 10.7707%\n",
            "Corrected Error Percentage (Test Dataset): 10.9997%\n",
            "   Run 2/5 ...      Epoch 0: Train Loss = 0.6113, Val Loss = 13.5579\n"
          ]
        },
        {
          "output_type": "stream",
          "name": "stderr",
          "text": [
            "<ipython-input-28-f2771d1cb762>:152: UserWarning: To copy construct from a tensor, it is recommended to use sourceTensor.clone().detach() or sourceTensor.clone().detach().requires_grad_(True), rather than torch.tensor(sourceTensor).\n",
            "  X_scaled_tensor = torch.tensor(combined_X, dtype=torch.float32).unsqueeze(1)\n"
          ]
        },
        {
          "output_type": "stream",
          "name": "stdout",
          "text": [
            "     Epoch 5: Train Loss = 0.6027, Val Loss = 14.5061\n",
            "     Epoch 10: Train Loss = 0.6035, Val Loss = 12.3727\n",
            "     Epoch 15: Train Loss = 0.6039, Val Loss = 12.8948\n",
            "     Epoch 20: Train Loss = 0.6010, Val Loss = 13.4361\n",
            "    ⏹️ Early stopping at epoch 23\n",
            " Run 2 finished with best val loss: 11.6676\n",
            "Original Error Percentage (Test Dataset): 10.7707%\n",
            "Corrected Error Percentage (Test Dataset): 11.0201%\n",
            "   Run 3/5 ...      Epoch 0: Train Loss = 0.6105, Val Loss = 10.6526\n"
          ]
        },
        {
          "output_type": "stream",
          "name": "stderr",
          "text": [
            "<ipython-input-28-f2771d1cb762>:152: UserWarning: To copy construct from a tensor, it is recommended to use sourceTensor.clone().detach() or sourceTensor.clone().detach().requires_grad_(True), rather than torch.tensor(sourceTensor).\n",
            "  X_scaled_tensor = torch.tensor(combined_X, dtype=torch.float32).unsqueeze(1)\n"
          ]
        },
        {
          "output_type": "stream",
          "name": "stdout",
          "text": [
            "     Epoch 5: Train Loss = 0.6034, Val Loss = 12.4750\n",
            "     Epoch 10: Train Loss = 0.6032, Val Loss = 12.0924\n",
            "     Epoch 15: Train Loss = 0.6025, Val Loss = 13.1781\n",
            "     Epoch 20: Train Loss = 0.6014, Val Loss = 12.4684\n",
            "    ⏹️ Early stopping at epoch 20\n",
            " Run 3 finished with best val loss: 10.6526\n",
            "Original Error Percentage (Test Dataset): 10.7707%\n",
            "Corrected Error Percentage (Test Dataset): 10.7622%\n",
            "   Run 4/5 ...      Epoch 0: Train Loss = 0.6098, Val Loss = 12.1709\n"
          ]
        },
        {
          "output_type": "stream",
          "name": "stderr",
          "text": [
            "<ipython-input-28-f2771d1cb762>:152: UserWarning: To copy construct from a tensor, it is recommended to use sourceTensor.clone().detach() or sourceTensor.clone().detach().requires_grad_(True), rather than torch.tensor(sourceTensor).\n",
            "  X_scaled_tensor = torch.tensor(combined_X, dtype=torch.float32).unsqueeze(1)\n"
          ]
        },
        {
          "output_type": "stream",
          "name": "stdout",
          "text": [
            "     Epoch 5: Train Loss = 0.6017, Val Loss = 11.4551\n",
            "     Epoch 10: Train Loss = 0.6044, Val Loss = 12.1496\n",
            "     Epoch 15: Train Loss = 0.6030, Val Loss = 13.3421\n",
            "     Epoch 20: Train Loss = 0.6027, Val Loss = 12.6081\n",
            "     Epoch 25: Train Loss = 0.6012, Val Loss = 12.7686\n",
            "    ⏹️ Early stopping at epoch 25\n",
            " Run 4 finished with best val loss: 11.4551\n",
            "Original Error Percentage (Test Dataset): 10.7707%\n",
            "Corrected Error Percentage (Test Dataset): 10.8030%\n",
            "   Run 5/5 ...      Epoch 0: Train Loss = 0.6093, Val Loss = 14.1531\n"
          ]
        },
        {
          "output_type": "stream",
          "name": "stderr",
          "text": [
            "<ipython-input-28-f2771d1cb762>:152: UserWarning: To copy construct from a tensor, it is recommended to use sourceTensor.clone().detach() or sourceTensor.clone().detach().requires_grad_(True), rather than torch.tensor(sourceTensor).\n",
            "  X_scaled_tensor = torch.tensor(combined_X, dtype=torch.float32).unsqueeze(1)\n"
          ]
        },
        {
          "output_type": "stream",
          "name": "stdout",
          "text": [
            "     Epoch 5: Train Loss = 0.6041, Val Loss = 13.1395\n",
            "     Epoch 10: Train Loss = 0.6055, Val Loss = 13.6237\n",
            "     Epoch 15: Train Loss = 0.6008, Val Loss = 12.6217\n",
            "     Epoch 20: Train Loss = 0.6014, Val Loss = 12.7796\n",
            "    ⏹️ Early stopping at epoch 23\n",
            " Run 5 finished with best val loss: 11.4162\n",
            "Original Error Percentage (Test Dataset): 10.7707%\n",
            "Corrected Error Percentage (Test Dataset): 11.0064%\n",
            " Finished configuration H=128, D=0.0, LR=0.0005, B=16 → Avg Val Loss: 11.4727, Avg Accuracy: 10.9183%\n",
            "\n",
            " Running 87/108: H=128, D=0.0, LR=0.0005, B=32\n",
            "   Run 1/5 ...      Epoch 0: Train Loss = 0.6093, Val Loss = 12.1266\n"
          ]
        },
        {
          "output_type": "stream",
          "name": "stderr",
          "text": [
            "<ipython-input-28-f2771d1cb762>:152: UserWarning: To copy construct from a tensor, it is recommended to use sourceTensor.clone().detach() or sourceTensor.clone().detach().requires_grad_(True), rather than torch.tensor(sourceTensor).\n",
            "  X_scaled_tensor = torch.tensor(combined_X, dtype=torch.float32).unsqueeze(1)\n"
          ]
        },
        {
          "output_type": "stream",
          "name": "stdout",
          "text": [
            "     Epoch 5: Train Loss = 0.6038, Val Loss = 13.6053\n",
            "     Epoch 10: Train Loss = 0.6033, Val Loss = 13.0171\n",
            "     Epoch 15: Train Loss = 0.6027, Val Loss = 13.0834\n",
            "     Epoch 20: Train Loss = 0.6010, Val Loss = 12.2240\n",
            "     Epoch 25: Train Loss = 0.6032, Val Loss = 13.5493\n",
            "     Epoch 30: Train Loss = 0.6008, Val Loss = 12.5514\n",
            "     Epoch 35: Train Loss = 0.6021, Val Loss = 12.3445\n",
            "     Epoch 40: Train Loss = 0.6012, Val Loss = 12.6306\n",
            "    ⏹️ Early stopping at epoch 41\n",
            " Run 1 finished with best val loss: 11.8462\n",
            "Original Error Percentage (Test Dataset): 10.7707%\n",
            "Corrected Error Percentage (Test Dataset): 10.8477%\n",
            "   Run 2/5 ... "
          ]
        },
        {
          "output_type": "stream",
          "name": "stderr",
          "text": [
            "<ipython-input-28-f2771d1cb762>:152: UserWarning: To copy construct from a tensor, it is recommended to use sourceTensor.clone().detach() or sourceTensor.clone().detach().requires_grad_(True), rather than torch.tensor(sourceTensor).\n",
            "  X_scaled_tensor = torch.tensor(combined_X, dtype=torch.float32).unsqueeze(1)\n"
          ]
        },
        {
          "output_type": "stream",
          "name": "stdout",
          "text": [
            "     Epoch 0: Train Loss = 0.6188, Val Loss = 12.7462\n",
            "     Epoch 5: Train Loss = 0.6028, Val Loss = 12.3431\n",
            "     Epoch 10: Train Loss = 0.6017, Val Loss = 12.0288\n",
            "     Epoch 15: Train Loss = 0.6017, Val Loss = 12.5637\n",
            "     Epoch 20: Train Loss = 0.6029, Val Loss = 12.3113\n",
            "     Epoch 25: Train Loss = 0.6014, Val Loss = 12.2381\n",
            "     Epoch 30: Train Loss = 0.6002, Val Loss = 13.0999\n",
            "     Epoch 35: Train Loss = 0.6013, Val Loss = 12.8711\n",
            "    ⏹️ Early stopping at epoch 36\n",
            " Run 2 finished with best val loss: 11.9829\n",
            "Original Error Percentage (Test Dataset): 10.7707%\n",
            "Corrected Error Percentage (Test Dataset): 10.8900%\n",
            "   Run 3/5 ...      Epoch 0: Train Loss = 0.6119, Val Loss = 13.2105\n"
          ]
        },
        {
          "output_type": "stream",
          "name": "stderr",
          "text": [
            "<ipython-input-28-f2771d1cb762>:152: UserWarning: To copy construct from a tensor, it is recommended to use sourceTensor.clone().detach() or sourceTensor.clone().detach().requires_grad_(True), rather than torch.tensor(sourceTensor).\n",
            "  X_scaled_tensor = torch.tensor(combined_X, dtype=torch.float32).unsqueeze(1)\n"
          ]
        },
        {
          "output_type": "stream",
          "name": "stdout",
          "text": [
            "     Epoch 5: Train Loss = 0.6089, Val Loss = 11.7309\n",
            "     Epoch 10: Train Loss = 0.6050, Val Loss = 13.0934\n",
            "     Epoch 15: Train Loss = 0.6022, Val Loss = 12.5380\n",
            "     Epoch 20: Train Loss = 0.6021, Val Loss = 13.5521\n",
            "     Epoch 25: Train Loss = 0.6027, Val Loss = 12.5832\n",
            "    ⏹️ Early stopping at epoch 25\n",
            " Run 3 finished with best val loss: 11.7309\n",
            "Original Error Percentage (Test Dataset): 10.7707%\n",
            "Corrected Error Percentage (Test Dataset): 10.7958%\n",
            "   Run 4/5 ...      Epoch 0: Train Loss = 0.6105, Val Loss = 12.9395\n"
          ]
        },
        {
          "output_type": "stream",
          "name": "stderr",
          "text": [
            "<ipython-input-28-f2771d1cb762>:152: UserWarning: To copy construct from a tensor, it is recommended to use sourceTensor.clone().detach() or sourceTensor.clone().detach().requires_grad_(True), rather than torch.tensor(sourceTensor).\n",
            "  X_scaled_tensor = torch.tensor(combined_X, dtype=torch.float32).unsqueeze(1)\n"
          ]
        },
        {
          "output_type": "stream",
          "name": "stdout",
          "text": [
            "     Epoch 5: Train Loss = 0.6056, Val Loss = 11.5822\n",
            "     Epoch 10: Train Loss = 0.6043, Val Loss = 12.3383\n",
            "     Epoch 15: Train Loss = 0.6011, Val Loss = 13.4934\n",
            "     Epoch 20: Train Loss = 0.6022, Val Loss = 11.9770\n",
            "    ⏹️ Early stopping at epoch 22\n",
            " Run 4 finished with best val loss: 10.8233\n",
            "Original Error Percentage (Test Dataset): 10.7707%\n",
            "Corrected Error Percentage (Test Dataset): 10.8644%\n",
            "   Run 5/5 ... "
          ]
        },
        {
          "output_type": "stream",
          "name": "stderr",
          "text": [
            "<ipython-input-28-f2771d1cb762>:152: UserWarning: To copy construct from a tensor, it is recommended to use sourceTensor.clone().detach() or sourceTensor.clone().detach().requires_grad_(True), rather than torch.tensor(sourceTensor).\n",
            "  X_scaled_tensor = torch.tensor(combined_X, dtype=torch.float32).unsqueeze(1)\n"
          ]
        },
        {
          "output_type": "stream",
          "name": "stdout",
          "text": [
            "     Epoch 0: Train Loss = 0.6139, Val Loss = 11.5350\n",
            "     Epoch 5: Train Loss = 0.6036, Val Loss = 13.9778\n",
            "     Epoch 10: Train Loss = 0.6105, Val Loss = 13.2967\n",
            "     Epoch 15: Train Loss = 0.6022, Val Loss = 13.8934\n",
            "     Epoch 20: Train Loss = 0.6011, Val Loss = 11.7015\n",
            "     Epoch 25: Train Loss = 0.6021, Val Loss = 12.4306\n",
            "     Epoch 30: Train Loss = 0.6019, Val Loss = 12.8278\n",
            "    ⏹️ Early stopping at epoch 33\n",
            " Run 5 finished with best val loss: 11.3267\n",
            "Original Error Percentage (Test Dataset): 10.7707%\n",
            "Corrected Error Percentage (Test Dataset): 10.8384%\n",
            " Finished configuration H=128, D=0.0, LR=0.0005, B=32 → Avg Val Loss: 11.5420, Avg Accuracy: 10.8473%\n",
            "\n",
            " Running 88/108: H=128, D=0.0, LR=0.001, B=8\n",
            "   Run 1/5 ... "
          ]
        },
        {
          "output_type": "stream",
          "name": "stderr",
          "text": [
            "<ipython-input-28-f2771d1cb762>:152: UserWarning: To copy construct from a tensor, it is recommended to use sourceTensor.clone().detach() or sourceTensor.clone().detach().requires_grad_(True), rather than torch.tensor(sourceTensor).\n",
            "  X_scaled_tensor = torch.tensor(combined_X, dtype=torch.float32).unsqueeze(1)\n"
          ]
        },
        {
          "output_type": "stream",
          "name": "stdout",
          "text": [
            "     Epoch 0: Train Loss = 0.6167, Val Loss = 16.5752\n",
            "     Epoch 5: Train Loss = 0.6052, Val Loss = 13.2471\n",
            "     Epoch 10: Train Loss = 0.6027, Val Loss = 13.1794\n",
            "     Epoch 15: Train Loss = 0.6030, Val Loss = 14.4690\n",
            "     Epoch 20: Train Loss = 0.6021, Val Loss = 12.7966\n",
            "    ⏹️ Early stopping at epoch 23\n",
            " Run 1 finished with best val loss: 11.1782\n",
            "Original Error Percentage (Test Dataset): 10.7707%\n",
            "Corrected Error Percentage (Test Dataset): 10.8840%\n",
            "   Run 2/5 ... "
          ]
        },
        {
          "output_type": "stream",
          "name": "stderr",
          "text": [
            "<ipython-input-28-f2771d1cb762>:152: UserWarning: To copy construct from a tensor, it is recommended to use sourceTensor.clone().detach() or sourceTensor.clone().detach().requires_grad_(True), rather than torch.tensor(sourceTensor).\n",
            "  X_scaled_tensor = torch.tensor(combined_X, dtype=torch.float32).unsqueeze(1)\n"
          ]
        },
        {
          "output_type": "stream",
          "name": "stdout",
          "text": [
            "     Epoch 0: Train Loss = 0.6130, Val Loss = 11.5482\n",
            "     Epoch 5: Train Loss = 0.6036, Val Loss = 12.9801\n",
            "     Epoch 10: Train Loss = 0.6034, Val Loss = 12.0740\n",
            "     Epoch 15: Train Loss = 0.6033, Val Loss = 12.6558\n",
            "     Epoch 20: Train Loss = 0.6017, Val Loss = 12.8849\n",
            "    ⏹️ Early stopping at epoch 20\n",
            " Run 2 finished with best val loss: 11.5482\n",
            "Original Error Percentage (Test Dataset): 10.7707%\n",
            "Corrected Error Percentage (Test Dataset): 10.8689%\n",
            "   Run 3/5 ... "
          ]
        },
        {
          "output_type": "stream",
          "name": "stderr",
          "text": [
            "<ipython-input-28-f2771d1cb762>:152: UserWarning: To copy construct from a tensor, it is recommended to use sourceTensor.clone().detach() or sourceTensor.clone().detach().requires_grad_(True), rather than torch.tensor(sourceTensor).\n",
            "  X_scaled_tensor = torch.tensor(combined_X, dtype=torch.float32).unsqueeze(1)\n"
          ]
        },
        {
          "output_type": "stream",
          "name": "stdout",
          "text": [
            "     Epoch 0: Train Loss = 0.6162, Val Loss = 10.9746\n",
            "     Epoch 5: Train Loss = 0.6044, Val Loss = 13.3499\n",
            "     Epoch 10: Train Loss = 0.6044, Val Loss = 12.6000\n",
            "     Epoch 15: Train Loss = 0.6027, Val Loss = 12.3513\n",
            "     Epoch 20: Train Loss = 0.6044, Val Loss = 12.5127\n",
            "    ⏹️ Early stopping at epoch 20\n",
            " Run 3 finished with best val loss: 10.9746\n",
            "Original Error Percentage (Test Dataset): 10.7707%\n",
            "Corrected Error Percentage (Test Dataset): 10.7611%\n",
            "   Run 4/5 ... "
          ]
        },
        {
          "output_type": "stream",
          "name": "stderr",
          "text": [
            "<ipython-input-28-f2771d1cb762>:152: UserWarning: To copy construct from a tensor, it is recommended to use sourceTensor.clone().detach() or sourceTensor.clone().detach().requires_grad_(True), rather than torch.tensor(sourceTensor).\n",
            "  X_scaled_tensor = torch.tensor(combined_X, dtype=torch.float32).unsqueeze(1)\n"
          ]
        },
        {
          "output_type": "stream",
          "name": "stdout",
          "text": [
            "     Epoch 0: Train Loss = 0.6169, Val Loss = 15.2765\n",
            "     Epoch 5: Train Loss = 0.6024, Val Loss = 15.1380\n",
            "     Epoch 10: Train Loss = 0.6039, Val Loss = 13.0589\n",
            "     Epoch 15: Train Loss = 0.6032, Val Loss = 13.4904\n",
            "     Epoch 20: Train Loss = 0.6031, Val Loss = 12.5113\n",
            "     Epoch 25: Train Loss = 0.6010, Val Loss = 12.1421\n",
            "     Epoch 30: Train Loss = 0.6008, Val Loss = 12.2608\n",
            "     Epoch 35: Train Loss = 0.6001, Val Loss = 13.0325\n",
            "    ⏹️ Early stopping at epoch 36\n",
            " Run 4 finished with best val loss: 11.8114\n",
            "Original Error Percentage (Test Dataset): 10.7707%\n",
            "Corrected Error Percentage (Test Dataset): 10.8563%\n",
            "   Run 5/5 ... "
          ]
        },
        {
          "output_type": "stream",
          "name": "stderr",
          "text": [
            "<ipython-input-28-f2771d1cb762>:152: UserWarning: To copy construct from a tensor, it is recommended to use sourceTensor.clone().detach() or sourceTensor.clone().detach().requires_grad_(True), rather than torch.tensor(sourceTensor).\n",
            "  X_scaled_tensor = torch.tensor(combined_X, dtype=torch.float32).unsqueeze(1)\n"
          ]
        },
        {
          "output_type": "stream",
          "name": "stdout",
          "text": [
            "     Epoch 0: Train Loss = 0.6114, Val Loss = 13.8727\n",
            "     Epoch 5: Train Loss = 0.6033, Val Loss = 13.5486\n",
            "     Epoch 10: Train Loss = 0.5994, Val Loss = 11.5904\n",
            "     Epoch 15: Train Loss = 0.6023, Val Loss = 12.7721\n",
            "     Epoch 20: Train Loss = 0.6023, Val Loss = 12.9106\n",
            "     Epoch 25: Train Loss = 0.6025, Val Loss = 11.9513\n",
            "     Epoch 30: Train Loss = 0.6016, Val Loss = 12.4924\n",
            "    ⏹️ Early stopping at epoch 30\n",
            " Run 5 finished with best val loss: 11.5904\n",
            "Original Error Percentage (Test Dataset): 10.7707%\n",
            "Corrected Error Percentage (Test Dataset): 10.7518%\n",
            " Finished configuration H=128, D=0.0, LR=0.001, B=8 → Avg Val Loss: 11.4206, Avg Accuracy: 10.8244%\n",
            "\n",
            " Running 89/108: H=128, D=0.0, LR=0.001, B=16\n",
            "   Run 1/5 ... "
          ]
        },
        {
          "output_type": "stream",
          "name": "stderr",
          "text": [
            "<ipython-input-28-f2771d1cb762>:152: UserWarning: To copy construct from a tensor, it is recommended to use sourceTensor.clone().detach() or sourceTensor.clone().detach().requires_grad_(True), rather than torch.tensor(sourceTensor).\n",
            "  X_scaled_tensor = torch.tensor(combined_X, dtype=torch.float32).unsqueeze(1)\n"
          ]
        },
        {
          "output_type": "stream",
          "name": "stdout",
          "text": [
            "     Epoch 0: Train Loss = 0.6146, Val Loss = 11.7458\n",
            "     Epoch 5: Train Loss = 0.6039, Val Loss = 14.2108\n",
            "     Epoch 10: Train Loss = 0.6020, Val Loss = 12.5516\n",
            "     Epoch 15: Train Loss = 0.6021, Val Loss = 12.1308\n",
            "     Epoch 20: Train Loss = 0.6009, Val Loss = 13.1255\n",
            "    ⏹️ Early stopping at epoch 20\n",
            " Run 1 finished with best val loss: 11.7458\n",
            "Original Error Percentage (Test Dataset): 10.7707%\n",
            "Corrected Error Percentage (Test Dataset): 10.9495%\n",
            "   Run 2/5 ...      Epoch 0: Train Loss = 0.6101, Val Loss = 15.3503\n"
          ]
        },
        {
          "output_type": "stream",
          "name": "stderr",
          "text": [
            "<ipython-input-28-f2771d1cb762>:152: UserWarning: To copy construct from a tensor, it is recommended to use sourceTensor.clone().detach() or sourceTensor.clone().detach().requires_grad_(True), rather than torch.tensor(sourceTensor).\n",
            "  X_scaled_tensor = torch.tensor(combined_X, dtype=torch.float32).unsqueeze(1)\n"
          ]
        },
        {
          "output_type": "stream",
          "name": "stdout",
          "text": [
            "     Epoch 5: Train Loss = 0.6074, Val Loss = 13.0835\n",
            "     Epoch 10: Train Loss = 0.6025, Val Loss = 13.7586\n",
            "     Epoch 15: Train Loss = 0.6017, Val Loss = 13.1778\n",
            "     Epoch 20: Train Loss = 0.6006, Val Loss = 12.6784\n",
            "     Epoch 25: Train Loss = 0.6006, Val Loss = 12.5678\n",
            "     Epoch 30: Train Loss = 0.5990, Val Loss = 12.8618\n",
            "     Epoch 35: Train Loss = 0.5990, Val Loss = 12.5151\n",
            "     Epoch 40: Train Loss = 0.6008, Val Loss = 11.9892\n",
            "     Epoch 45: Train Loss = 0.5985, Val Loss = 12.7031\n",
            "     Epoch 50: Train Loss = 0.5988, Val Loss = 12.6642\n",
            "     Epoch 55: Train Loss = 0.5985, Val Loss = 12.7472\n",
            "     Epoch 60: Train Loss = 0.5968, Val Loss = 13.1286\n",
            "     Epoch 65: Train Loss = 0.5987, Val Loss = 12.7856\n",
            "     Epoch 70: Train Loss = 0.5977, Val Loss = 12.6355\n",
            "     Epoch 75: Train Loss = 0.5986, Val Loss = 12.0258\n",
            "    ⏹️ Early stopping at epoch 79\n",
            " Run 2 finished with best val loss: 11.8675\n",
            "Original Error Percentage (Test Dataset): 10.7707%\n",
            "Corrected Error Percentage (Test Dataset): 10.7421%\n",
            "   Run 3/5 ...      Epoch 0: Train Loss = 0.6080, Val Loss = 10.3853\n"
          ]
        },
        {
          "output_type": "stream",
          "name": "stderr",
          "text": [
            "<ipython-input-28-f2771d1cb762>:152: UserWarning: To copy construct from a tensor, it is recommended to use sourceTensor.clone().detach() or sourceTensor.clone().detach().requires_grad_(True), rather than torch.tensor(sourceTensor).\n",
            "  X_scaled_tensor = torch.tensor(combined_X, dtype=torch.float32).unsqueeze(1)\n"
          ]
        },
        {
          "output_type": "stream",
          "name": "stdout",
          "text": [
            "     Epoch 5: Train Loss = 0.6025, Val Loss = 12.6882\n",
            "     Epoch 10: Train Loss = 0.6031, Val Loss = 11.8704\n",
            "     Epoch 15: Train Loss = 0.6031, Val Loss = 13.7193\n",
            "     Epoch 20: Train Loss = 0.6034, Val Loss = 13.1698\n",
            "    ⏹️ Early stopping at epoch 20\n",
            " Run 3 finished with best val loss: 10.3853\n",
            "Original Error Percentage (Test Dataset): 10.7707%\n",
            "Corrected Error Percentage (Test Dataset): 10.9779%\n",
            "   Run 4/5 ... "
          ]
        },
        {
          "output_type": "stream",
          "name": "stderr",
          "text": [
            "<ipython-input-28-f2771d1cb762>:152: UserWarning: To copy construct from a tensor, it is recommended to use sourceTensor.clone().detach() or sourceTensor.clone().detach().requires_grad_(True), rather than torch.tensor(sourceTensor).\n",
            "  X_scaled_tensor = torch.tensor(combined_X, dtype=torch.float32).unsqueeze(1)\n"
          ]
        },
        {
          "output_type": "stream",
          "name": "stdout",
          "text": [
            "     Epoch 0: Train Loss = 0.6150, Val Loss = 15.6736\n",
            "     Epoch 5: Train Loss = 0.6038, Val Loss = 13.1619\n",
            "     Epoch 10: Train Loss = 0.6030, Val Loss = 12.1337\n",
            "     Epoch 15: Train Loss = 0.6024, Val Loss = 12.4343\n",
            "     Epoch 20: Train Loss = 0.6036, Val Loss = 12.8568\n",
            "    ⏹️ Early stopping at epoch 22\n",
            " Run 4 finished with best val loss: 10.6514\n",
            "Original Error Percentage (Test Dataset): 10.7707%\n",
            "Corrected Error Percentage (Test Dataset): 10.6487%\n",
            "   Run 5/5 ...      Epoch 0: Train Loss = 0.6318, Val Loss = 12.6782\n"
          ]
        },
        {
          "output_type": "stream",
          "name": "stderr",
          "text": [
            "<ipython-input-28-f2771d1cb762>:152: UserWarning: To copy construct from a tensor, it is recommended to use sourceTensor.clone().detach() or sourceTensor.clone().detach().requires_grad_(True), rather than torch.tensor(sourceTensor).\n",
            "  X_scaled_tensor = torch.tensor(combined_X, dtype=torch.float32).unsqueeze(1)\n"
          ]
        },
        {
          "output_type": "stream",
          "name": "stdout",
          "text": [
            "     Epoch 5: Train Loss = 0.6101, Val Loss = 12.2589\n",
            "     Epoch 10: Train Loss = 0.6038, Val Loss = 12.7569\n",
            "     Epoch 15: Train Loss = 0.6025, Val Loss = 13.2400\n",
            "     Epoch 20: Train Loss = 0.6019, Val Loss = 12.3873\n",
            "     Epoch 25: Train Loss = 0.5995, Val Loss = 13.4653\n",
            "     Epoch 30: Train Loss = 0.5996, Val Loss = 13.8451\n",
            "    ⏹️ Early stopping at epoch 32\n",
            " Run 5 finished with best val loss: 11.4920\n",
            "Original Error Percentage (Test Dataset): 10.7707%\n",
            "Corrected Error Percentage (Test Dataset): 10.5803%\n",
            " Finished configuration H=128, D=0.0, LR=0.001, B=16 → Avg Val Loss: 11.2284, Avg Accuracy: 10.7797%\n",
            "\n",
            " Running 90/108: H=128, D=0.0, LR=0.001, B=32\n",
            "   Run 1/5 ...      Epoch 0: Train Loss = 0.6122, Val Loss = 15.8390\n"
          ]
        },
        {
          "output_type": "stream",
          "name": "stderr",
          "text": [
            "<ipython-input-28-f2771d1cb762>:152: UserWarning: To copy construct from a tensor, it is recommended to use sourceTensor.clone().detach() or sourceTensor.clone().detach().requires_grad_(True), rather than torch.tensor(sourceTensor).\n",
            "  X_scaled_tensor = torch.tensor(combined_X, dtype=torch.float32).unsqueeze(1)\n"
          ]
        },
        {
          "output_type": "stream",
          "name": "stdout",
          "text": [
            "     Epoch 5: Train Loss = 0.6064, Val Loss = 12.4423\n",
            "     Epoch 10: Train Loss = 0.6017, Val Loss = 12.6572\n",
            "     Epoch 15: Train Loss = 0.6019, Val Loss = 12.7751\n",
            "     Epoch 20: Train Loss = 0.6017, Val Loss = 12.7462\n",
            "    ⏹️ Early stopping at epoch 24\n",
            " Run 1 finished with best val loss: 10.5528\n",
            "Original Error Percentage (Test Dataset): 10.7707%\n",
            "Corrected Error Percentage (Test Dataset): 11.1764%\n",
            "   Run 2/5 ...      Epoch 0: Train Loss = 0.6095, Val Loss = 14.4602\n"
          ]
        },
        {
          "output_type": "stream",
          "name": "stderr",
          "text": [
            "<ipython-input-28-f2771d1cb762>:152: UserWarning: To copy construct from a tensor, it is recommended to use sourceTensor.clone().detach() or sourceTensor.clone().detach().requires_grad_(True), rather than torch.tensor(sourceTensor).\n",
            "  X_scaled_tensor = torch.tensor(combined_X, dtype=torch.float32).unsqueeze(1)\n"
          ]
        },
        {
          "output_type": "stream",
          "name": "stdout",
          "text": [
            "     Epoch 5: Train Loss = 0.6072, Val Loss = 12.0972\n",
            "     Epoch 10: Train Loss = 0.6047, Val Loss = 13.8939\n",
            "     Epoch 15: Train Loss = 0.6014, Val Loss = 12.1381\n",
            "     Epoch 20: Train Loss = 0.6015, Val Loss = 12.5757\n",
            "     Epoch 25: Train Loss = 0.6033, Val Loss = 12.7473\n",
            "     Epoch 30: Train Loss = 0.5993, Val Loss = 13.0949\n",
            "    ⏹️ Early stopping at epoch 32\n",
            " Run 2 finished with best val loss: 10.1484\n",
            "Original Error Percentage (Test Dataset): 10.7707%\n",
            "Corrected Error Percentage (Test Dataset): 10.9526%\n",
            "   Run 3/5 ... "
          ]
        },
        {
          "output_type": "stream",
          "name": "stderr",
          "text": [
            "<ipython-input-28-f2771d1cb762>:152: UserWarning: To copy construct from a tensor, it is recommended to use sourceTensor.clone().detach() or sourceTensor.clone().detach().requires_grad_(True), rather than torch.tensor(sourceTensor).\n",
            "  X_scaled_tensor = torch.tensor(combined_X, dtype=torch.float32).unsqueeze(1)\n"
          ]
        },
        {
          "output_type": "stream",
          "name": "stdout",
          "text": [
            "     Epoch 0: Train Loss = 0.6083, Val Loss = 16.5669\n",
            "     Epoch 5: Train Loss = 0.6035, Val Loss = 13.4568\n",
            "     Epoch 10: Train Loss = 0.6014, Val Loss = 12.2726\n",
            "     Epoch 15: Train Loss = 0.6010, Val Loss = 12.5179\n",
            "     Epoch 20: Train Loss = 0.6005, Val Loss = 12.9521\n",
            "     Epoch 25: Train Loss = 0.6003, Val Loss = 13.2013\n",
            "     Epoch 30: Train Loss = 0.5993, Val Loss = 12.8601\n",
            "    ⏹️ Early stopping at epoch 31\n",
            " Run 3 finished with best val loss: 12.0722\n",
            "Original Error Percentage (Test Dataset): 10.7707%\n",
            "Corrected Error Percentage (Test Dataset): 10.6639%\n",
            "   Run 4/5 ... "
          ]
        },
        {
          "output_type": "stream",
          "name": "stderr",
          "text": [
            "<ipython-input-28-f2771d1cb762>:152: UserWarning: To copy construct from a tensor, it is recommended to use sourceTensor.clone().detach() or sourceTensor.clone().detach().requires_grad_(True), rather than torch.tensor(sourceTensor).\n",
            "  X_scaled_tensor = torch.tensor(combined_X, dtype=torch.float32).unsqueeze(1)\n"
          ]
        },
        {
          "output_type": "stream",
          "name": "stdout",
          "text": [
            "     Epoch 0: Train Loss = 0.6074, Val Loss = 16.2758\n",
            "     Epoch 5: Train Loss = 0.6020, Val Loss = 13.0843\n",
            "     Epoch 10: Train Loss = 0.6029, Val Loss = 13.2123\n",
            "     Epoch 15: Train Loss = 0.6009, Val Loss = 12.9285\n",
            "     Epoch 20: Train Loss = 0.6204, Val Loss = 10.6547\n",
            "     Epoch 25: Train Loss = 0.6038, Val Loss = 13.3183\n",
            "     Epoch 30: Train Loss = 0.6008, Val Loss = 13.0283\n",
            "     Epoch 35: Train Loss = 0.6007, Val Loss = 12.9749\n",
            "     Epoch 40: Train Loss = 0.6023, Val Loss = 12.8738\n",
            "    ⏹️ Early stopping at epoch 40\n",
            " Run 4 finished with best val loss: 10.6547\n",
            "Original Error Percentage (Test Dataset): 10.7707%\n",
            "Corrected Error Percentage (Test Dataset): 10.9459%\n",
            "   Run 5/5 ...      Epoch 0: Train Loss = 0.6161, Val Loss = 15.4709\n"
          ]
        },
        {
          "output_type": "stream",
          "name": "stderr",
          "text": [
            "<ipython-input-28-f2771d1cb762>:152: UserWarning: To copy construct from a tensor, it is recommended to use sourceTensor.clone().detach() or sourceTensor.clone().detach().requires_grad_(True), rather than torch.tensor(sourceTensor).\n",
            "  X_scaled_tensor = torch.tensor(combined_X, dtype=torch.float32).unsqueeze(1)\n"
          ]
        },
        {
          "output_type": "stream",
          "name": "stdout",
          "text": [
            "     Epoch 5: Train Loss = 0.6092, Val Loss = 14.1015\n",
            "     Epoch 10: Train Loss = 0.6041, Val Loss = 13.9277\n",
            "     Epoch 15: Train Loss = 0.6022, Val Loss = 12.3762\n",
            "     Epoch 20: Train Loss = 0.6025, Val Loss = 13.1721\n",
            "    ⏹️ Early stopping at epoch 21\n",
            " Run 5 finished with best val loss: 11.3879\n",
            "Original Error Percentage (Test Dataset): 10.7707%\n",
            "Corrected Error Percentage (Test Dataset): 10.9117%\n",
            " Finished configuration H=128, D=0.0, LR=0.001, B=32 → Avg Val Loss: 10.9632, Avg Accuracy: 10.9301%\n",
            "\n",
            " Running 91/108: H=128, D=0.1, LR=0.0001, B=8\n",
            "   Run 1/5 ... "
          ]
        },
        {
          "output_type": "stream",
          "name": "stderr",
          "text": [
            "<ipython-input-28-f2771d1cb762>:152: UserWarning: To copy construct from a tensor, it is recommended to use sourceTensor.clone().detach() or sourceTensor.clone().detach().requires_grad_(True), rather than torch.tensor(sourceTensor).\n",
            "  X_scaled_tensor = torch.tensor(combined_X, dtype=torch.float32).unsqueeze(1)\n"
          ]
        },
        {
          "output_type": "stream",
          "name": "stdout",
          "text": [
            "     Epoch 0: Train Loss = 0.6186, Val Loss = 12.7181\n",
            "     Epoch 5: Train Loss = 0.6004, Val Loss = 13.8290\n",
            "     Epoch 10: Train Loss = 0.6013, Val Loss = 13.2561\n",
            "     Epoch 15: Train Loss = 0.6007, Val Loss = 13.3272\n",
            "     Epoch 20: Train Loss = 0.6019, Val Loss = 12.8872\n",
            "     Epoch 25: Train Loss = 0.6021, Val Loss = 13.0423\n",
            "     Epoch 30: Train Loss = 0.6011, Val Loss = 13.4846\n",
            "     Epoch 35: Train Loss = 0.6035, Val Loss = 12.1976\n",
            "    ⏹️ Early stopping at epoch 38\n",
            " Run 1 finished with best val loss: 11.8720\n",
            "Original Error Percentage (Test Dataset): 10.7707%\n",
            "Corrected Error Percentage (Test Dataset): 10.9819%\n",
            "   Run 2/5 ... "
          ]
        },
        {
          "output_type": "stream",
          "name": "stderr",
          "text": [
            "<ipython-input-28-f2771d1cb762>:152: UserWarning: To copy construct from a tensor, it is recommended to use sourceTensor.clone().detach() or sourceTensor.clone().detach().requires_grad_(True), rather than torch.tensor(sourceTensor).\n",
            "  X_scaled_tensor = torch.tensor(combined_X, dtype=torch.float32).unsqueeze(1)\n"
          ]
        },
        {
          "output_type": "stream",
          "name": "stdout",
          "text": [
            "     Epoch 0: Train Loss = 0.6144, Val Loss = 14.2888\n",
            "     Epoch 5: Train Loss = 0.6083, Val Loss = 13.8605\n",
            "     Epoch 10: Train Loss = 0.6053, Val Loss = 13.4500\n",
            "     Epoch 15: Train Loss = 0.6018, Val Loss = 13.9902\n",
            "     Epoch 20: Train Loss = 0.6053, Val Loss = 13.0991\n",
            "     Epoch 25: Train Loss = 0.6014, Val Loss = 12.7875\n",
            "     Epoch 30: Train Loss = 0.6059, Val Loss = 12.5357\n",
            "     Epoch 35: Train Loss = 0.6018, Val Loss = 12.8420\n",
            "     Epoch 40: Train Loss = 0.6017, Val Loss = 12.7599\n",
            "    ⏹️ Early stopping at epoch 42\n",
            " Run 2 finished with best val loss: 12.0896\n",
            "Original Error Percentage (Test Dataset): 10.7707%\n",
            "Corrected Error Percentage (Test Dataset): 10.9982%\n",
            "   Run 3/5 ... "
          ]
        },
        {
          "output_type": "stream",
          "name": "stderr",
          "text": [
            "<ipython-input-28-f2771d1cb762>:152: UserWarning: To copy construct from a tensor, it is recommended to use sourceTensor.clone().detach() or sourceTensor.clone().detach().requires_grad_(True), rather than torch.tensor(sourceTensor).\n",
            "  X_scaled_tensor = torch.tensor(combined_X, dtype=torch.float32).unsqueeze(1)\n"
          ]
        },
        {
          "output_type": "stream",
          "name": "stdout",
          "text": [
            "     Epoch 0: Train Loss = 0.6170, Val Loss = 13.4804\n",
            "     Epoch 5: Train Loss = 0.6032, Val Loss = 13.2778\n",
            "     Epoch 10: Train Loss = 0.6049, Val Loss = 13.7112\n",
            "     Epoch 15: Train Loss = 0.6046, Val Loss = 13.5500\n",
            "     Epoch 20: Train Loss = 0.6055, Val Loss = 12.8030\n",
            "     Epoch 25: Train Loss = 0.6019, Val Loss = 13.4881\n",
            "     Epoch 30: Train Loss = 0.6050, Val Loss = 12.7512\n",
            "     Epoch 35: Train Loss = 0.6016, Val Loss = 13.2354\n",
            "     Epoch 40: Train Loss = 0.6037, Val Loss = 13.1201\n",
            "    ⏹️ Early stopping at epoch 44\n",
            " Run 3 finished with best val loss: 12.5383\n",
            "Original Error Percentage (Test Dataset): 10.7707%\n",
            "Corrected Error Percentage (Test Dataset): 10.8165%\n",
            "   Run 4/5 ... "
          ]
        },
        {
          "output_type": "stream",
          "name": "stderr",
          "text": [
            "<ipython-input-28-f2771d1cb762>:152: UserWarning: To copy construct from a tensor, it is recommended to use sourceTensor.clone().detach() or sourceTensor.clone().detach().requires_grad_(True), rather than torch.tensor(sourceTensor).\n",
            "  X_scaled_tensor = torch.tensor(combined_X, dtype=torch.float32).unsqueeze(1)\n"
          ]
        },
        {
          "output_type": "stream",
          "name": "stdout",
          "text": [
            "     Epoch 0: Train Loss = 0.6204, Val Loss = 13.3241\n",
            "     Epoch 5: Train Loss = 0.6049, Val Loss = 12.1396\n",
            "     Epoch 10: Train Loss = 0.6029, Val Loss = 12.9417\n",
            "     Epoch 15: Train Loss = 0.6001, Val Loss = 12.1075\n",
            "     Epoch 20: Train Loss = 0.6039, Val Loss = 12.6432\n",
            "     Epoch 25: Train Loss = 0.6000, Val Loss = 12.5449\n",
            "    ⏹️ Early stopping at epoch 27\n",
            " Run 4 finished with best val loss: 11.8336\n",
            "Original Error Percentage (Test Dataset): 10.7707%\n",
            "Corrected Error Percentage (Test Dataset): 10.8733%\n",
            "   Run 5/5 ... "
          ]
        },
        {
          "output_type": "stream",
          "name": "stderr",
          "text": [
            "<ipython-input-28-f2771d1cb762>:152: UserWarning: To copy construct from a tensor, it is recommended to use sourceTensor.clone().detach() or sourceTensor.clone().detach().requires_grad_(True), rather than torch.tensor(sourceTensor).\n",
            "  X_scaled_tensor = torch.tensor(combined_X, dtype=torch.float32).unsqueeze(1)\n"
          ]
        },
        {
          "output_type": "stream",
          "name": "stdout",
          "text": [
            "     Epoch 0: Train Loss = 0.6185, Val Loss = 14.4829\n",
            "     Epoch 5: Train Loss = 0.6028, Val Loss = 13.5264\n",
            "     Epoch 10: Train Loss = 0.6051, Val Loss = 12.7720\n",
            "     Epoch 15: Train Loss = 0.6003, Val Loss = 13.1554\n",
            "     Epoch 20: Train Loss = 0.6057, Val Loss = 12.4913\n",
            "     Epoch 25: Train Loss = 0.6005, Val Loss = 13.0749\n",
            "     Epoch 30: Train Loss = 0.6061, Val Loss = 12.4701\n",
            "     Epoch 35: Train Loss = 0.6028, Val Loss = 13.1553\n",
            "    ⏹️ Early stopping at epoch 38\n",
            " Run 5 finished with best val loss: 12.4528\n",
            "Original Error Percentage (Test Dataset): 10.7707%\n",
            "Corrected Error Percentage (Test Dataset): 10.9911%\n",
            " Finished configuration H=128, D=0.1, LR=0.0001, B=8 → Avg Val Loss: 12.1573, Avg Accuracy: 10.9322%\n",
            "\n",
            " Running 92/108: H=128, D=0.1, LR=0.0001, B=16\n",
            "   Run 1/5 ...      Epoch 0: Train Loss = 0.6160, Val Loss = 12.6652\n"
          ]
        },
        {
          "output_type": "stream",
          "name": "stderr",
          "text": [
            "<ipython-input-28-f2771d1cb762>:152: UserWarning: To copy construct from a tensor, it is recommended to use sourceTensor.clone().detach() or sourceTensor.clone().detach().requires_grad_(True), rather than torch.tensor(sourceTensor).\n",
            "  X_scaled_tensor = torch.tensor(combined_X, dtype=torch.float32).unsqueeze(1)\n"
          ]
        },
        {
          "output_type": "stream",
          "name": "stdout",
          "text": [
            "     Epoch 5: Train Loss = 0.6041, Val Loss = 13.4805\n",
            "     Epoch 10: Train Loss = 0.6023, Val Loss = 13.7503\n",
            "     Epoch 15: Train Loss = 0.6060, Val Loss = 12.6387\n",
            "     Epoch 20: Train Loss = 0.6021, Val Loss = 12.9355\n",
            "     Epoch 25: Train Loss = 0.6056, Val Loss = 13.1123\n",
            "     Epoch 30: Train Loss = 0.6000, Val Loss = 13.1449\n",
            "    ⏹️ Early stopping at epoch 33\n",
            " Run 1 finished with best val loss: 12.0885\n",
            "Original Error Percentage (Test Dataset): 10.7707%\n",
            "Corrected Error Percentage (Test Dataset): 10.9012%\n",
            "   Run 2/5 ... "
          ]
        },
        {
          "output_type": "stream",
          "name": "stderr",
          "text": [
            "<ipython-input-28-f2771d1cb762>:152: UserWarning: To copy construct from a tensor, it is recommended to use sourceTensor.clone().detach() or sourceTensor.clone().detach().requires_grad_(True), rather than torch.tensor(sourceTensor).\n",
            "  X_scaled_tensor = torch.tensor(combined_X, dtype=torch.float32).unsqueeze(1)\n"
          ]
        },
        {
          "output_type": "stream",
          "name": "stdout",
          "text": [
            "     Epoch 0: Train Loss = 0.6516, Val Loss = 12.9055\n",
            "     Epoch 5: Train Loss = 0.6012, Val Loss = 13.4484\n",
            "     Epoch 10: Train Loss = 0.6108, Val Loss = 13.2613\n",
            "     Epoch 15: Train Loss = 0.6046, Val Loss = 13.3014\n",
            "     Epoch 20: Train Loss = 0.6058, Val Loss = 13.2896\n",
            "    ⏹️ Early stopping at epoch 20\n",
            " Run 2 finished with best val loss: 12.9055\n",
            "Original Error Percentage (Test Dataset): 10.7707%\n",
            "Corrected Error Percentage (Test Dataset): 11.0343%\n",
            "   Run 3/5 ...      Epoch 0: Train Loss = 0.6123, Val Loss = 12.4613\n"
          ]
        },
        {
          "output_type": "stream",
          "name": "stderr",
          "text": [
            "<ipython-input-28-f2771d1cb762>:152: UserWarning: To copy construct from a tensor, it is recommended to use sourceTensor.clone().detach() or sourceTensor.clone().detach().requires_grad_(True), rather than torch.tensor(sourceTensor).\n",
            "  X_scaled_tensor = torch.tensor(combined_X, dtype=torch.float32).unsqueeze(1)\n"
          ]
        },
        {
          "output_type": "stream",
          "name": "stdout",
          "text": [
            "     Epoch 5: Train Loss = 0.6020, Val Loss = 12.8207\n",
            "     Epoch 10: Train Loss = 0.6066, Val Loss = 13.2062\n",
            "     Epoch 15: Train Loss = 0.6029, Val Loss = 13.2718\n",
            "     Epoch 20: Train Loss = 0.6073, Val Loss = 12.6923\n",
            "    ⏹️ Early stopping at epoch 20\n",
            " Run 3 finished with best val loss: 12.4613\n",
            "Original Error Percentage (Test Dataset): 10.7707%\n",
            "Corrected Error Percentage (Test Dataset): 10.8589%\n",
            "   Run 4/5 ... "
          ]
        },
        {
          "output_type": "stream",
          "name": "stderr",
          "text": [
            "<ipython-input-28-f2771d1cb762>:152: UserWarning: To copy construct from a tensor, it is recommended to use sourceTensor.clone().detach() or sourceTensor.clone().detach().requires_grad_(True), rather than torch.tensor(sourceTensor).\n",
            "  X_scaled_tensor = torch.tensor(combined_X, dtype=torch.float32).unsqueeze(1)\n"
          ]
        },
        {
          "output_type": "stream",
          "name": "stdout",
          "text": [
            "     Epoch 0: Train Loss = 0.6154, Val Loss = 14.1217\n",
            "     Epoch 5: Train Loss = 0.6061, Val Loss = 13.5750\n",
            "     Epoch 10: Train Loss = 0.6039, Val Loss = 13.3108\n",
            "     Epoch 15: Train Loss = 0.6054, Val Loss = 13.0595\n",
            "     Epoch 20: Train Loss = 0.6064, Val Loss = 12.9650\n",
            "     Epoch 25: Train Loss = 0.6021, Val Loss = 13.2151\n",
            "     Epoch 30: Train Loss = 0.6023, Val Loss = 13.2124\n",
            "    ⏹️ Early stopping at epoch 33\n",
            " Run 4 finished with best val loss: 12.3691\n",
            "Original Error Percentage (Test Dataset): 10.7707%\n",
            "Corrected Error Percentage (Test Dataset): 10.8155%\n",
            "   Run 5/5 ...      Epoch 0: Train Loss = 0.6149, Val Loss = 11.3306\n"
          ]
        },
        {
          "output_type": "stream",
          "name": "stderr",
          "text": [
            "<ipython-input-28-f2771d1cb762>:152: UserWarning: To copy construct from a tensor, it is recommended to use sourceTensor.clone().detach() or sourceTensor.clone().detach().requires_grad_(True), rather than torch.tensor(sourceTensor).\n",
            "  X_scaled_tensor = torch.tensor(combined_X, dtype=torch.float32).unsqueeze(1)\n"
          ]
        },
        {
          "output_type": "stream",
          "name": "stdout",
          "text": [
            "     Epoch 5: Train Loss = 0.6021, Val Loss = 12.9918\n",
            "     Epoch 10: Train Loss = 0.6007, Val Loss = 13.2761\n",
            "     Epoch 15: Train Loss = 0.6030, Val Loss = 13.3870\n",
            "     Epoch 20: Train Loss = 0.6008, Val Loss = 13.6514\n",
            "    ⏹️ Early stopping at epoch 20\n",
            " Run 5 finished with best val loss: 11.3306\n",
            "Original Error Percentage (Test Dataset): 10.7707%\n",
            "Corrected Error Percentage (Test Dataset): 11.2379%\n",
            " Finished configuration H=128, D=0.1, LR=0.0001, B=16 → Avg Val Loss: 12.2310, Avg Accuracy: 10.9696%\n",
            "\n",
            " Running 93/108: H=128, D=0.1, LR=0.0001, B=32\n",
            "   Run 1/5 ...      Epoch 0: Train Loss = 0.6378, Val Loss = 10.7011\n"
          ]
        },
        {
          "output_type": "stream",
          "name": "stderr",
          "text": [
            "<ipython-input-28-f2771d1cb762>:152: UserWarning: To copy construct from a tensor, it is recommended to use sourceTensor.clone().detach() or sourceTensor.clone().detach().requires_grad_(True), rather than torch.tensor(sourceTensor).\n",
            "  X_scaled_tensor = torch.tensor(combined_X, dtype=torch.float32).unsqueeze(1)\n"
          ]
        },
        {
          "output_type": "stream",
          "name": "stdout",
          "text": [
            "     Epoch 5: Train Loss = 0.5989, Val Loss = 13.1467\n",
            "     Epoch 10: Train Loss = 0.6048, Val Loss = 12.0078\n",
            "     Epoch 15: Train Loss = 0.5981, Val Loss = 12.7114\n",
            "     Epoch 20: Train Loss = 0.6065, Val Loss = 13.0989\n",
            "    ⏹️ Early stopping at epoch 20\n",
            " Run 1 finished with best val loss: 10.7011\n",
            "Original Error Percentage (Test Dataset): 10.7707%\n",
            "Corrected Error Percentage (Test Dataset): 10.9918%\n",
            "   Run 2/5 ...      Epoch 0: Train Loss = 0.6182, Val Loss = 11.3024\n"
          ]
        },
        {
          "output_type": "stream",
          "name": "stderr",
          "text": [
            "<ipython-input-28-f2771d1cb762>:152: UserWarning: To copy construct from a tensor, it is recommended to use sourceTensor.clone().detach() or sourceTensor.clone().detach().requires_grad_(True), rather than torch.tensor(sourceTensor).\n",
            "  X_scaled_tensor = torch.tensor(combined_X, dtype=torch.float32).unsqueeze(1)\n"
          ]
        },
        {
          "output_type": "stream",
          "name": "stdout",
          "text": [
            "     Epoch 5: Train Loss = 0.6076, Val Loss = 13.1298\n",
            "     Epoch 10: Train Loss = 0.6008, Val Loss = 13.1299\n",
            "     Epoch 15: Train Loss = 0.6019, Val Loss = 12.6905\n",
            "     Epoch 20: Train Loss = 0.6045, Val Loss = 12.5942\n",
            "    ⏹️ Early stopping at epoch 20\n",
            " Run 2 finished with best val loss: 11.3024\n",
            "Original Error Percentage (Test Dataset): 10.7707%\n",
            "Corrected Error Percentage (Test Dataset): 10.8288%\n",
            "   Run 3/5 ...      Epoch 0: Train Loss = 0.6403, Val Loss = 10.4405\n"
          ]
        },
        {
          "output_type": "stream",
          "name": "stderr",
          "text": [
            "<ipython-input-28-f2771d1cb762>:152: UserWarning: To copy construct from a tensor, it is recommended to use sourceTensor.clone().detach() or sourceTensor.clone().detach().requires_grad_(True), rather than torch.tensor(sourceTensor).\n",
            "  X_scaled_tensor = torch.tensor(combined_X, dtype=torch.float32).unsqueeze(1)\n"
          ]
        },
        {
          "output_type": "stream",
          "name": "stdout",
          "text": [
            "     Epoch 5: Train Loss = 0.6079, Val Loss = 13.7102\n",
            "     Epoch 10: Train Loss = 0.6044, Val Loss = 12.9987\n",
            "     Epoch 15: Train Loss = 0.6069, Val Loss = 13.2978\n",
            "     Epoch 20: Train Loss = 0.6041, Val Loss = 13.3723\n",
            "    ⏹️ Early stopping at epoch 20\n",
            " Run 3 finished with best val loss: 10.4405\n",
            "Original Error Percentage (Test Dataset): 10.7707%\n",
            "Corrected Error Percentage (Test Dataset): 11.0705%\n",
            "   Run 4/5 ...      Epoch 0: Train Loss = 0.6140, Val Loss = 11.3847\n"
          ]
        },
        {
          "output_type": "stream",
          "name": "stderr",
          "text": [
            "<ipython-input-28-f2771d1cb762>:152: UserWarning: To copy construct from a tensor, it is recommended to use sourceTensor.clone().detach() or sourceTensor.clone().detach().requires_grad_(True), rather than torch.tensor(sourceTensor).\n",
            "  X_scaled_tensor = torch.tensor(combined_X, dtype=torch.float32).unsqueeze(1)\n"
          ]
        },
        {
          "output_type": "stream",
          "name": "stdout",
          "text": [
            "     Epoch 5: Train Loss = 0.6055, Val Loss = 13.1763\n",
            "     Epoch 10: Train Loss = 0.5995, Val Loss = 13.6335\n",
            "     Epoch 15: Train Loss = 0.6068, Val Loss = 12.9692\n",
            "     Epoch 20: Train Loss = 0.6012, Val Loss = 13.0061\n",
            "    ⏹️ Early stopping at epoch 20\n",
            " Run 4 finished with best val loss: 11.3847\n",
            "Original Error Percentage (Test Dataset): 10.7707%\n",
            "Corrected Error Percentage (Test Dataset): 10.9239%\n",
            "   Run 5/5 ...      Epoch 0: Train Loss = 0.6353, Val Loss = 12.1608\n"
          ]
        },
        {
          "output_type": "stream",
          "name": "stderr",
          "text": [
            "<ipython-input-28-f2771d1cb762>:152: UserWarning: To copy construct from a tensor, it is recommended to use sourceTensor.clone().detach() or sourceTensor.clone().detach().requires_grad_(True), rather than torch.tensor(sourceTensor).\n",
            "  X_scaled_tensor = torch.tensor(combined_X, dtype=torch.float32).unsqueeze(1)\n"
          ]
        },
        {
          "output_type": "stream",
          "name": "stdout",
          "text": [
            "     Epoch 5: Train Loss = 0.6043, Val Loss = 12.7816\n",
            "     Epoch 10: Train Loss = 0.6057, Val Loss = 12.9198\n",
            "     Epoch 15: Train Loss = 0.6053, Val Loss = 13.0383\n",
            "     Epoch 20: Train Loss = 0.6019, Val Loss = 13.9603\n",
            "    ⏹️ Early stopping at epoch 20\n",
            " Run 5 finished with best val loss: 12.1608\n",
            "Original Error Percentage (Test Dataset): 10.7707%\n",
            "Corrected Error Percentage (Test Dataset): 11.2689%\n",
            " Finished configuration H=128, D=0.1, LR=0.0001, B=32 → Avg Val Loss: 11.1979, Avg Accuracy: 11.0168%\n",
            "\n",
            " Running 94/108: H=128, D=0.1, LR=0.0005, B=8\n",
            "   Run 1/5 ... "
          ]
        },
        {
          "output_type": "stream",
          "name": "stderr",
          "text": [
            "<ipython-input-28-f2771d1cb762>:152: UserWarning: To copy construct from a tensor, it is recommended to use sourceTensor.clone().detach() or sourceTensor.clone().detach().requires_grad_(True), rather than torch.tensor(sourceTensor).\n",
            "  X_scaled_tensor = torch.tensor(combined_X, dtype=torch.float32).unsqueeze(1)\n"
          ]
        },
        {
          "output_type": "stream",
          "name": "stdout",
          "text": [
            "     Epoch 0: Train Loss = 0.6119, Val Loss = 15.3293\n",
            "     Epoch 5: Train Loss = 0.6071, Val Loss = 12.5440\n",
            "     Epoch 10: Train Loss = 0.6021, Val Loss = 12.8542\n",
            "     Epoch 15: Train Loss = 0.6037, Val Loss = 13.3041\n",
            "     Epoch 20: Train Loss = 0.6023, Val Loss = 12.2392\n",
            "    ⏹️ Early stopping at epoch 22\n",
            " Run 1 finished with best val loss: 10.6864\n",
            "Original Error Percentage (Test Dataset): 10.7707%\n",
            "Corrected Error Percentage (Test Dataset): 10.7843%\n",
            "   Run 2/5 ... "
          ]
        },
        {
          "output_type": "stream",
          "name": "stderr",
          "text": [
            "<ipython-input-28-f2771d1cb762>:152: UserWarning: To copy construct from a tensor, it is recommended to use sourceTensor.clone().detach() or sourceTensor.clone().detach().requires_grad_(True), rather than torch.tensor(sourceTensor).\n",
            "  X_scaled_tensor = torch.tensor(combined_X, dtype=torch.float32).unsqueeze(1)\n"
          ]
        },
        {
          "output_type": "stream",
          "name": "stdout",
          "text": [
            "     Epoch 0: Train Loss = 0.6165, Val Loss = 14.4972\n",
            "     Epoch 5: Train Loss = 0.6064, Val Loss = 12.3715\n",
            "     Epoch 10: Train Loss = 0.6059, Val Loss = 13.3205\n",
            "     Epoch 15: Train Loss = 0.6048, Val Loss = 13.1539\n",
            "     Epoch 20: Train Loss = 0.6048, Val Loss = 13.3470\n",
            "    ⏹️ Early stopping at epoch 22\n",
            " Run 2 finished with best val loss: 9.9923\n",
            "Original Error Percentage (Test Dataset): 10.7707%\n",
            "Corrected Error Percentage (Test Dataset): 10.9587%\n",
            "   Run 3/5 ... "
          ]
        },
        {
          "output_type": "stream",
          "name": "stderr",
          "text": [
            "<ipython-input-28-f2771d1cb762>:152: UserWarning: To copy construct from a tensor, it is recommended to use sourceTensor.clone().detach() or sourceTensor.clone().detach().requires_grad_(True), rather than torch.tensor(sourceTensor).\n",
            "  X_scaled_tensor = torch.tensor(combined_X, dtype=torch.float32).unsqueeze(1)\n"
          ]
        },
        {
          "output_type": "stream",
          "name": "stdout",
          "text": [
            "     Epoch 0: Train Loss = 0.6107, Val Loss = 14.3720\n",
            "     Epoch 5: Train Loss = 0.6040, Val Loss = 12.3454\n",
            "     Epoch 10: Train Loss = 0.6046, Val Loss = 11.4413\n",
            "     Epoch 15: Train Loss = 0.6015, Val Loss = 14.0297\n",
            "     Epoch 20: Train Loss = 0.6022, Val Loss = 13.8326\n",
            "     Epoch 25: Train Loss = 0.6033, Val Loss = 12.0429\n",
            "     Epoch 30: Train Loss = 0.5978, Val Loss = 13.5104\n",
            "     Epoch 35: Train Loss = 0.5981, Val Loss = 13.0668\n",
            "     Epoch 40: Train Loss = 0.6015, Val Loss = 12.8722\n",
            "    ⏹️ Early stopping at epoch 41\n",
            " Run 3 finished with best val loss: 11.2205\n",
            "Original Error Percentage (Test Dataset): 10.7707%\n",
            "Corrected Error Percentage (Test Dataset): 10.9179%\n",
            "   Run 4/5 ... "
          ]
        },
        {
          "output_type": "stream",
          "name": "stderr",
          "text": [
            "<ipython-input-28-f2771d1cb762>:152: UserWarning: To copy construct from a tensor, it is recommended to use sourceTensor.clone().detach() or sourceTensor.clone().detach().requires_grad_(True), rather than torch.tensor(sourceTensor).\n",
            "  X_scaled_tensor = torch.tensor(combined_X, dtype=torch.float32).unsqueeze(1)\n"
          ]
        },
        {
          "output_type": "stream",
          "name": "stdout",
          "text": [
            "     Epoch 0: Train Loss = 0.6117, Val Loss = 11.6477\n",
            "     Epoch 5: Train Loss = 0.6055, Val Loss = 15.1522\n",
            "     Epoch 10: Train Loss = 0.6064, Val Loss = 12.6295\n",
            "     Epoch 15: Train Loss = 0.6000, Val Loss = 13.1050\n",
            "     Epoch 20: Train Loss = 0.5996, Val Loss = 14.2796\n",
            "    ⏹️ Early stopping at epoch 24\n",
            " Run 4 finished with best val loss: 11.4086\n",
            "Original Error Percentage (Test Dataset): 10.7707%\n",
            "Corrected Error Percentage (Test Dataset): 10.8733%\n",
            "   Run 5/5 ... "
          ]
        },
        {
          "output_type": "stream",
          "name": "stderr",
          "text": [
            "<ipython-input-28-f2771d1cb762>:152: UserWarning: To copy construct from a tensor, it is recommended to use sourceTensor.clone().detach() or sourceTensor.clone().detach().requires_grad_(True), rather than torch.tensor(sourceTensor).\n",
            "  X_scaled_tensor = torch.tensor(combined_X, dtype=torch.float32).unsqueeze(1)\n"
          ]
        },
        {
          "output_type": "stream",
          "name": "stdout",
          "text": [
            "     Epoch 0: Train Loss = 0.6178, Val Loss = 10.8408\n",
            "     Epoch 5: Train Loss = 0.6133, Val Loss = 14.5983\n",
            "     Epoch 10: Train Loss = 0.6045, Val Loss = 12.6527\n",
            "     Epoch 15: Train Loss = 0.6010, Val Loss = 13.8207\n",
            "     Epoch 20: Train Loss = 0.6049, Val Loss = 12.7137\n",
            "    ⏹️ Early stopping at epoch 20\n",
            " Run 5 finished with best val loss: 10.8408\n",
            "Original Error Percentage (Test Dataset): 10.7707%\n",
            "Corrected Error Percentage (Test Dataset): 10.8237%\n",
            " Finished configuration H=128, D=0.1, LR=0.0005, B=8 → Avg Val Loss: 10.8297, Avg Accuracy: 10.8716%\n",
            "\n",
            " Running 95/108: H=128, D=0.1, LR=0.0005, B=16\n",
            "   Run 1/5 ...      Epoch 0: Train Loss = 0.6178, Val Loss = 12.7851\n"
          ]
        },
        {
          "output_type": "stream",
          "name": "stderr",
          "text": [
            "<ipython-input-28-f2771d1cb762>:152: UserWarning: To copy construct from a tensor, it is recommended to use sourceTensor.clone().detach() or sourceTensor.clone().detach().requires_grad_(True), rather than torch.tensor(sourceTensor).\n",
            "  X_scaled_tensor = torch.tensor(combined_X, dtype=torch.float32).unsqueeze(1)\n"
          ]
        },
        {
          "output_type": "stream",
          "name": "stdout",
          "text": [
            "     Epoch 5: Train Loss = 0.6053, Val Loss = 13.6347\n",
            "     Epoch 10: Train Loss = 0.6031, Val Loss = 12.7588\n",
            "     Epoch 15: Train Loss = 0.6033, Val Loss = 13.1894\n",
            "     Epoch 20: Train Loss = 0.6061, Val Loss = 12.8438\n",
            "     Epoch 25: Train Loss = 0.6035, Val Loss = 12.5553\n",
            "     Epoch 30: Train Loss = 0.6026, Val Loss = 12.3806\n",
            "     Epoch 35: Train Loss = 0.6030, Val Loss = 12.4970\n",
            "     Epoch 40: Train Loss = 0.6028, Val Loss = 12.1025\n",
            "     Epoch 45: Train Loss = 0.6025, Val Loss = 12.1735\n",
            "     Epoch 50: Train Loss = 0.6002, Val Loss = 12.4570\n",
            "     Epoch 55: Train Loss = 0.6010, Val Loss = 12.8078\n",
            "     Epoch 60: Train Loss = 0.6000, Val Loss = 12.5988\n",
            "     Epoch 65: Train Loss = 0.5997, Val Loss = 12.4600\n",
            "    ⏹️ Early stopping at epoch 66\n",
            " Run 1 finished with best val loss: 11.9583\n",
            "Original Error Percentage (Test Dataset): 10.7707%\n",
            "Corrected Error Percentage (Test Dataset): 10.7804%\n",
            "   Run 2/5 ... "
          ]
        },
        {
          "output_type": "stream",
          "name": "stderr",
          "text": [
            "<ipython-input-28-f2771d1cb762>:152: UserWarning: To copy construct from a tensor, it is recommended to use sourceTensor.clone().detach() or sourceTensor.clone().detach().requires_grad_(True), rather than torch.tensor(sourceTensor).\n",
            "  X_scaled_tensor = torch.tensor(combined_X, dtype=torch.float32).unsqueeze(1)\n"
          ]
        },
        {
          "output_type": "stream",
          "name": "stdout",
          "text": [
            "     Epoch 0: Train Loss = 0.6144, Val Loss = 13.5697\n",
            "     Epoch 5: Train Loss = 0.6095, Val Loss = 13.2430\n",
            "     Epoch 10: Train Loss = 0.6022, Val Loss = 13.5842\n",
            "     Epoch 15: Train Loss = 0.6062, Val Loss = 13.0596\n",
            "     Epoch 20: Train Loss = 0.6037, Val Loss = 11.8449\n",
            "     Epoch 25: Train Loss = 0.6046, Val Loss = 12.5528\n",
            "     Epoch 30: Train Loss = 0.6032, Val Loss = 12.6143\n",
            "     Epoch 35: Train Loss = 0.6036, Val Loss = 11.7124\n",
            "     Epoch 40: Train Loss = 0.5996, Val Loss = 12.3898\n",
            "     Epoch 45: Train Loss = 0.6018, Val Loss = 12.3678\n",
            "    ⏹️ Early stopping at epoch 46\n",
            " Run 2 finished with best val loss: 11.4186\n",
            "Original Error Percentage (Test Dataset): 10.7707%\n",
            "Corrected Error Percentage (Test Dataset): 10.5412%\n",
            "   Run 3/5 ... "
          ]
        },
        {
          "output_type": "stream",
          "name": "stderr",
          "text": [
            "<ipython-input-28-f2771d1cb762>:152: UserWarning: To copy construct from a tensor, it is recommended to use sourceTensor.clone().detach() or sourceTensor.clone().detach().requires_grad_(True), rather than torch.tensor(sourceTensor).\n",
            "  X_scaled_tensor = torch.tensor(combined_X, dtype=torch.float32).unsqueeze(1)\n"
          ]
        },
        {
          "output_type": "stream",
          "name": "stdout",
          "text": [
            "     Epoch 0: Train Loss = 0.6126, Val Loss = 12.3576\n",
            "     Epoch 5: Train Loss = 0.6076, Val Loss = 12.9124\n",
            "     Epoch 10: Train Loss = 0.6031, Val Loss = 12.6273\n",
            "     Epoch 15: Train Loss = 0.6043, Val Loss = 13.8292\n",
            "     Epoch 20: Train Loss = 0.6047, Val Loss = 12.8577\n",
            "    ⏹️ Early stopping at epoch 21\n",
            " Run 3 finished with best val loss: 12.1364\n",
            "Original Error Percentage (Test Dataset): 10.7707%\n",
            "Corrected Error Percentage (Test Dataset): 10.7188%\n",
            "   Run 4/5 ... "
          ]
        },
        {
          "output_type": "stream",
          "name": "stderr",
          "text": [
            "<ipython-input-28-f2771d1cb762>:152: UserWarning: To copy construct from a tensor, it is recommended to use sourceTensor.clone().detach() or sourceTensor.clone().detach().requires_grad_(True), rather than torch.tensor(sourceTensor).\n",
            "  X_scaled_tensor = torch.tensor(combined_X, dtype=torch.float32).unsqueeze(1)\n"
          ]
        },
        {
          "output_type": "stream",
          "name": "stdout",
          "text": [
            "     Epoch 0: Train Loss = 0.6104, Val Loss = 12.5931\n",
            "     Epoch 5: Train Loss = 0.6059, Val Loss = 12.8083\n",
            "     Epoch 10: Train Loss = 0.6035, Val Loss = 13.6137\n",
            "     Epoch 15: Train Loss = 0.6063, Val Loss = 12.8891\n",
            "     Epoch 20: Train Loss = 0.6044, Val Loss = 12.4481\n",
            "    ⏹️ Early stopping at epoch 23\n",
            " Run 4 finished with best val loss: 11.7206\n",
            "Original Error Percentage (Test Dataset): 10.7707%\n",
            "Corrected Error Percentage (Test Dataset): 10.9091%\n",
            "   Run 5/5 ...      Epoch 0: Train Loss = 0.6099, Val Loss = 11.9383\n"
          ]
        },
        {
          "output_type": "stream",
          "name": "stderr",
          "text": [
            "<ipython-input-28-f2771d1cb762>:152: UserWarning: To copy construct from a tensor, it is recommended to use sourceTensor.clone().detach() or sourceTensor.clone().detach().requires_grad_(True), rather than torch.tensor(sourceTensor).\n",
            "  X_scaled_tensor = torch.tensor(combined_X, dtype=torch.float32).unsqueeze(1)\n"
          ]
        },
        {
          "output_type": "stream",
          "name": "stdout",
          "text": [
            "     Epoch 5: Train Loss = 0.6052, Val Loss = 12.9306\n",
            "     Epoch 10: Train Loss = 0.5978, Val Loss = 14.2155\n",
            "     Epoch 15: Train Loss = 0.6072, Val Loss = 13.7078\n",
            "     Epoch 20: Train Loss = 0.6036, Val Loss = 12.9076\n",
            "    ⏹️ Early stopping at epoch 22\n",
            " Run 5 finished with best val loss: 11.1108\n",
            "Original Error Percentage (Test Dataset): 10.7707%\n",
            "Corrected Error Percentage (Test Dataset): 10.8639%\n",
            " Finished configuration H=128, D=0.1, LR=0.0005, B=16 → Avg Val Loss: 11.6689, Avg Accuracy: 10.7626%\n",
            "\n",
            " Running 96/108: H=128, D=0.1, LR=0.0005, B=32\n",
            "   Run 1/5 ...      Epoch 0: Train Loss = 0.6208, Val Loss = 14.0419\n"
          ]
        },
        {
          "output_type": "stream",
          "name": "stderr",
          "text": [
            "<ipython-input-28-f2771d1cb762>:152: UserWarning: To copy construct from a tensor, it is recommended to use sourceTensor.clone().detach() or sourceTensor.clone().detach().requires_grad_(True), rather than torch.tensor(sourceTensor).\n",
            "  X_scaled_tensor = torch.tensor(combined_X, dtype=torch.float32).unsqueeze(1)\n"
          ]
        },
        {
          "output_type": "stream",
          "name": "stdout",
          "text": [
            "     Epoch 5: Train Loss = 0.6037, Val Loss = 11.0240\n",
            "     Epoch 10: Train Loss = 0.6072, Val Loss = 13.3712\n",
            "     Epoch 15: Train Loss = 0.6031, Val Loss = 13.3245\n",
            "     Epoch 20: Train Loss = 0.6005, Val Loss = 13.1197\n",
            "     Epoch 25: Train Loss = 0.6029, Val Loss = 12.5716\n",
            "    ⏹️ Early stopping at epoch 25\n",
            " Run 1 finished with best val loss: 11.0240\n",
            "Original Error Percentage (Test Dataset): 10.7707%\n",
            "Corrected Error Percentage (Test Dataset): 10.7981%\n",
            "   Run 2/5 ...      Epoch 0: Train Loss = 0.6147, Val Loss = 14.4372\n"
          ]
        },
        {
          "output_type": "stream",
          "name": "stderr",
          "text": [
            "<ipython-input-28-f2771d1cb762>:152: UserWarning: To copy construct from a tensor, it is recommended to use sourceTensor.clone().detach() or sourceTensor.clone().detach().requires_grad_(True), rather than torch.tensor(sourceTensor).\n",
            "  X_scaled_tensor = torch.tensor(combined_X, dtype=torch.float32).unsqueeze(1)\n"
          ]
        },
        {
          "output_type": "stream",
          "name": "stdout",
          "text": [
            "     Epoch 5: Train Loss = 0.6041, Val Loss = 14.2199\n",
            "     Epoch 10: Train Loss = 0.6087, Val Loss = 13.0871\n",
            "     Epoch 15: Train Loss = 0.6024, Val Loss = 12.6274\n",
            "     Epoch 20: Train Loss = 0.6076, Val Loss = 12.7625\n",
            "    ⏹️ Early stopping at epoch 21\n",
            " Run 2 finished with best val loss: 11.9958\n",
            "Original Error Percentage (Test Dataset): 10.7707%\n",
            "Corrected Error Percentage (Test Dataset): 11.3069%\n",
            "   Run 3/5 ... "
          ]
        },
        {
          "output_type": "stream",
          "name": "stderr",
          "text": [
            "<ipython-input-28-f2771d1cb762>:152: UserWarning: To copy construct from a tensor, it is recommended to use sourceTensor.clone().detach() or sourceTensor.clone().detach().requires_grad_(True), rather than torch.tensor(sourceTensor).\n",
            "  X_scaled_tensor = torch.tensor(combined_X, dtype=torch.float32).unsqueeze(1)\n"
          ]
        },
        {
          "output_type": "stream",
          "name": "stdout",
          "text": [
            "     Epoch 0: Train Loss = 0.6100, Val Loss = 12.5111\n",
            "     Epoch 5: Train Loss = 0.6117, Val Loss = 14.0716\n",
            "     Epoch 10: Train Loss = 0.6184, Val Loss = 13.9701\n",
            "     Epoch 15: Train Loss = 0.6056, Val Loss = 12.4373\n",
            "     Epoch 20: Train Loss = 0.6038, Val Loss = 11.3054\n",
            "     Epoch 25: Train Loss = 0.6042, Val Loss = 12.5327\n",
            "     Epoch 30: Train Loss = 0.6020, Val Loss = 12.8231\n",
            "     Epoch 35: Train Loss = 0.6039, Val Loss = 12.3370\n",
            "     Epoch 40: Train Loss = 0.6005, Val Loss = 12.4917\n",
            "    ⏹️ Early stopping at epoch 40\n",
            " Run 3 finished with best val loss: 11.3054\n",
            "Original Error Percentage (Test Dataset): 10.7707%\n",
            "Corrected Error Percentage (Test Dataset): 10.7025%\n",
            "   Run 4/5 ...      Epoch 0: Train Loss = 0.6134, Val Loss = 12.4623\n"
          ]
        },
        {
          "output_type": "stream",
          "name": "stderr",
          "text": [
            "<ipython-input-28-f2771d1cb762>:152: UserWarning: To copy construct from a tensor, it is recommended to use sourceTensor.clone().detach() or sourceTensor.clone().detach().requires_grad_(True), rather than torch.tensor(sourceTensor).\n",
            "  X_scaled_tensor = torch.tensor(combined_X, dtype=torch.float32).unsqueeze(1)\n"
          ]
        },
        {
          "output_type": "stream",
          "name": "stdout",
          "text": [
            "     Epoch 5: Train Loss = 0.6105, Val Loss = 12.6773\n",
            "     Epoch 10: Train Loss = 0.6040, Val Loss = 13.2312\n",
            "     Epoch 15: Train Loss = 0.6036, Val Loss = 12.4799\n",
            "     Epoch 20: Train Loss = 0.6017, Val Loss = 12.7059\n",
            "    ⏹️ Early stopping at epoch 21\n",
            " Run 4 finished with best val loss: 12.0633\n",
            "Original Error Percentage (Test Dataset): 10.7707%\n",
            "Corrected Error Percentage (Test Dataset): 10.6217%\n",
            "   Run 5/5 ... "
          ]
        },
        {
          "output_type": "stream",
          "name": "stderr",
          "text": [
            "<ipython-input-28-f2771d1cb762>:152: UserWarning: To copy construct from a tensor, it is recommended to use sourceTensor.clone().detach() or sourceTensor.clone().detach().requires_grad_(True), rather than torch.tensor(sourceTensor).\n",
            "  X_scaled_tensor = torch.tensor(combined_X, dtype=torch.float32).unsqueeze(1)\n"
          ]
        },
        {
          "output_type": "stream",
          "name": "stdout",
          "text": [
            "     Epoch 0: Train Loss = 0.6183, Val Loss = 14.8969\n",
            "     Epoch 5: Train Loss = 0.6033, Val Loss = 13.8006\n",
            "     Epoch 10: Train Loss = 0.6050, Val Loss = 12.4315\n",
            "     Epoch 15: Train Loss = 0.6053, Val Loss = 12.9225\n",
            "     Epoch 20: Train Loss = 0.6076, Val Loss = 14.0024\n",
            "     Epoch 25: Train Loss = 0.6062, Val Loss = 13.7706\n",
            "     Epoch 30: Train Loss = 0.6022, Val Loss = 12.2714\n",
            "    ⏹️ Early stopping at epoch 33\n",
            " Run 5 finished with best val loss: 11.7889\n",
            "Original Error Percentage (Test Dataset): 10.7707%\n",
            "Corrected Error Percentage (Test Dataset): 10.5500%\n",
            " Finished configuration H=128, D=0.1, LR=0.0005, B=32 → Avg Val Loss: 11.6355, Avg Accuracy: 10.7958%\n",
            "\n",
            " Running 97/108: H=128, D=0.1, LR=0.001, B=8\n",
            "   Run 1/5 ... "
          ]
        },
        {
          "output_type": "stream",
          "name": "stderr",
          "text": [
            "<ipython-input-28-f2771d1cb762>:152: UserWarning: To copy construct from a tensor, it is recommended to use sourceTensor.clone().detach() or sourceTensor.clone().detach().requires_grad_(True), rather than torch.tensor(sourceTensor).\n",
            "  X_scaled_tensor = torch.tensor(combined_X, dtype=torch.float32).unsqueeze(1)\n"
          ]
        },
        {
          "output_type": "stream",
          "name": "stdout",
          "text": [
            "     Epoch 0: Train Loss = 0.6180, Val Loss = 10.5085\n",
            "     Epoch 5: Train Loss = 0.6097, Val Loss = 11.7772\n",
            "     Epoch 10: Train Loss = 0.6052, Val Loss = 13.9105\n",
            "     Epoch 15: Train Loss = 0.6064, Val Loss = 11.7828\n",
            "     Epoch 20: Train Loss = 0.6056, Val Loss = 12.0310\n",
            "    ⏹️ Early stopping at epoch 21\n",
            " Run 1 finished with best val loss: 9.1978\n",
            "Original Error Percentage (Test Dataset): 10.7707%\n",
            "Corrected Error Percentage (Test Dataset): 10.6609%\n",
            "   Run 2/5 ... "
          ]
        },
        {
          "output_type": "stream",
          "name": "stderr",
          "text": [
            "<ipython-input-28-f2771d1cb762>:152: UserWarning: To copy construct from a tensor, it is recommended to use sourceTensor.clone().detach() or sourceTensor.clone().detach().requires_grad_(True), rather than torch.tensor(sourceTensor).\n",
            "  X_scaled_tensor = torch.tensor(combined_X, dtype=torch.float32).unsqueeze(1)\n"
          ]
        },
        {
          "output_type": "stream",
          "name": "stdout",
          "text": [
            "     Epoch 0: Train Loss = 0.6157, Val Loss = 14.0577\n",
            "     Epoch 5: Train Loss = 0.6042, Val Loss = 14.2805\n",
            "     Epoch 10: Train Loss = 0.6003, Val Loss = 15.9672\n",
            "     Epoch 15: Train Loss = 0.6044, Val Loss = 12.2742\n",
            "     Epoch 20: Train Loss = 0.6020, Val Loss = 13.8371\n",
            "     Epoch 25: Train Loss = 0.6047, Val Loss = 12.6919\n",
            "     Epoch 30: Train Loss = 0.6025, Val Loss = 12.3454\n",
            "     Epoch 35: Train Loss = 0.6053, Val Loss = 11.6988\n",
            "     Epoch 40: Train Loss = 0.6048, Val Loss = 12.2926\n",
            "     Epoch 45: Train Loss = 0.6044, Val Loss = 11.8406\n",
            "     Epoch 50: Train Loss = 0.6024, Val Loss = 11.8640\n",
            "     Epoch 55: Train Loss = 0.5993, Val Loss = 12.0856\n",
            "     Epoch 60: Train Loss = 0.6000, Val Loss = 12.0298\n",
            "     Epoch 65: Train Loss = 0.6016, Val Loss = 12.1159\n",
            "     Epoch 70: Train Loss = 0.6003, Val Loss = 11.6927\n",
            "    ⏹️ Early stopping at epoch 73\n",
            " Run 2 finished with best val loss: 11.3100\n",
            "Original Error Percentage (Test Dataset): 10.7707%\n",
            "Corrected Error Percentage (Test Dataset): 10.7601%\n",
            "   Run 3/5 ... "
          ]
        },
        {
          "output_type": "stream",
          "name": "stderr",
          "text": [
            "<ipython-input-28-f2771d1cb762>:152: UserWarning: To copy construct from a tensor, it is recommended to use sourceTensor.clone().detach() or sourceTensor.clone().detach().requires_grad_(True), rather than torch.tensor(sourceTensor).\n",
            "  X_scaled_tensor = torch.tensor(combined_X, dtype=torch.float32).unsqueeze(1)\n"
          ]
        },
        {
          "output_type": "stream",
          "name": "stdout",
          "text": [
            "     Epoch 0: Train Loss = 0.6166, Val Loss = 12.8019\n",
            "     Epoch 5: Train Loss = 0.6066, Val Loss = 13.2849\n",
            "     Epoch 10: Train Loss = 0.6046, Val Loss = 12.4411\n",
            "     Epoch 15: Train Loss = 0.6065, Val Loss = 13.4243\n",
            "     Epoch 20: Train Loss = 0.6048, Val Loss = 11.9814\n",
            "     Epoch 25: Train Loss = 0.6044, Val Loss = 12.6242\n",
            "     Epoch 30: Train Loss = 0.6042, Val Loss = 11.7458\n",
            "     Epoch 35: Train Loss = 0.6002, Val Loss = 12.7259\n",
            "     Epoch 40: Train Loss = 0.5996, Val Loss = 12.8526\n",
            "    ⏹️ Early stopping at epoch 41\n",
            " Run 3 finished with best val loss: 11.5548\n",
            "Original Error Percentage (Test Dataset): 10.7707%\n",
            "Corrected Error Percentage (Test Dataset): 11.1091%\n",
            "   Run 4/5 ... "
          ]
        },
        {
          "output_type": "stream",
          "name": "stderr",
          "text": [
            "<ipython-input-28-f2771d1cb762>:152: UserWarning: To copy construct from a tensor, it is recommended to use sourceTensor.clone().detach() or sourceTensor.clone().detach().requires_grad_(True), rather than torch.tensor(sourceTensor).\n",
            "  X_scaled_tensor = torch.tensor(combined_X, dtype=torch.float32).unsqueeze(1)\n"
          ]
        },
        {
          "output_type": "stream",
          "name": "stdout",
          "text": [
            "     Epoch 0: Train Loss = 0.6177, Val Loss = 12.0887\n",
            "     Epoch 5: Train Loss = 0.6100, Val Loss = 12.4159\n",
            "     Epoch 10: Train Loss = 0.6054, Val Loss = 14.4368\n",
            "     Epoch 15: Train Loss = 0.6080, Val Loss = 11.8551\n",
            "     Epoch 20: Train Loss = 0.6080, Val Loss = 12.3825\n",
            "    ⏹️ Early stopping at epoch 22\n",
            " Run 4 finished with best val loss: 9.9293\n",
            "Original Error Percentage (Test Dataset): 10.7707%\n",
            "Corrected Error Percentage (Test Dataset): 10.5893%\n",
            "   Run 5/5 ... "
          ]
        },
        {
          "output_type": "stream",
          "name": "stderr",
          "text": [
            "<ipython-input-28-f2771d1cb762>:152: UserWarning: To copy construct from a tensor, it is recommended to use sourceTensor.clone().detach() or sourceTensor.clone().detach().requires_grad_(True), rather than torch.tensor(sourceTensor).\n",
            "  X_scaled_tensor = torch.tensor(combined_X, dtype=torch.float32).unsqueeze(1)\n"
          ]
        },
        {
          "output_type": "stream",
          "name": "stdout",
          "text": [
            "     Epoch 0: Train Loss = 0.6197, Val Loss = 12.8892\n",
            "     Epoch 5: Train Loss = 0.6024, Val Loss = 11.7257\n",
            "     Epoch 10: Train Loss = 0.6046, Val Loss = 12.9783\n",
            "     Epoch 15: Train Loss = 0.6038, Val Loss = 14.2302\n",
            "     Epoch 20: Train Loss = 0.6027, Val Loss = 12.7172\n",
            "     Epoch 25: Train Loss = 0.6046, Val Loss = 12.5633\n",
            "     Epoch 30: Train Loss = 0.6016, Val Loss = 13.1239\n",
            "     Epoch 35: Train Loss = 0.6015, Val Loss = 12.7026\n",
            "    ⏹️ Early stopping at epoch 39\n",
            " Run 5 finished with best val loss: 11.6435\n",
            "Original Error Percentage (Test Dataset): 10.7707%\n",
            "Corrected Error Percentage (Test Dataset): 10.4675%\n",
            " Finished configuration H=128, D=0.1, LR=0.001, B=8 → Avg Val Loss: 10.7271, Avg Accuracy: 10.7174%\n",
            "\n",
            " Running 98/108: H=128, D=0.1, LR=0.001, B=16\n",
            "   Run 1/5 ...      Epoch 0: Train Loss = 0.6073, Val Loss = 13.5620\n"
          ]
        },
        {
          "output_type": "stream",
          "name": "stderr",
          "text": [
            "<ipython-input-28-f2771d1cb762>:152: UserWarning: To copy construct from a tensor, it is recommended to use sourceTensor.clone().detach() or sourceTensor.clone().detach().requires_grad_(True), rather than torch.tensor(sourceTensor).\n",
            "  X_scaled_tensor = torch.tensor(combined_X, dtype=torch.float32).unsqueeze(1)\n"
          ]
        },
        {
          "output_type": "stream",
          "name": "stdout",
          "text": [
            "     Epoch 5: Train Loss = 0.6098, Val Loss = 12.2730\n",
            "     Epoch 10: Train Loss = 0.6040, Val Loss = 12.2478\n",
            "     Epoch 15: Train Loss = 0.6046, Val Loss = 13.0402\n",
            "     Epoch 20: Train Loss = 0.6030, Val Loss = 12.2323\n",
            "    ⏹️ Early stopping at epoch 24\n",
            " Run 1 finished with best val loss: 10.3252\n",
            "Original Error Percentage (Test Dataset): 10.7707%\n",
            "Corrected Error Percentage (Test Dataset): 10.8681%\n",
            "   Run 2/5 ...      Epoch 0: Train Loss = 0.6265, Val Loss = 10.7815\n"
          ]
        },
        {
          "output_type": "stream",
          "name": "stderr",
          "text": [
            "<ipython-input-28-f2771d1cb762>:152: UserWarning: To copy construct from a tensor, it is recommended to use sourceTensor.clone().detach() or sourceTensor.clone().detach().requires_grad_(True), rather than torch.tensor(sourceTensor).\n",
            "  X_scaled_tensor = torch.tensor(combined_X, dtype=torch.float32).unsqueeze(1)\n"
          ]
        },
        {
          "output_type": "stream",
          "name": "stdout",
          "text": [
            "     Epoch 5: Train Loss = 0.6046, Val Loss = 11.6166\n",
            "     Epoch 10: Train Loss = 0.6031, Val Loss = 13.2332\n",
            "     Epoch 15: Train Loss = 0.6048, Val Loss = 12.9591\n",
            "     Epoch 20: Train Loss = 0.6031, Val Loss = 12.6265\n",
            "    ⏹️ Early stopping at epoch 22\n",
            " Run 2 finished with best val loss: 10.3669\n",
            "Original Error Percentage (Test Dataset): 10.7707%\n",
            "Corrected Error Percentage (Test Dataset): 10.9877%\n",
            "   Run 3/5 ...      Epoch 0: Train Loss = 0.6183, Val Loss = 11.2752\n"
          ]
        },
        {
          "output_type": "stream",
          "name": "stderr",
          "text": [
            "<ipython-input-28-f2771d1cb762>:152: UserWarning: To copy construct from a tensor, it is recommended to use sourceTensor.clone().detach() or sourceTensor.clone().detach().requires_grad_(True), rather than torch.tensor(sourceTensor).\n",
            "  X_scaled_tensor = torch.tensor(combined_X, dtype=torch.float32).unsqueeze(1)\n"
          ]
        },
        {
          "output_type": "stream",
          "name": "stdout",
          "text": [
            "     Epoch 5: Train Loss = 0.6040, Val Loss = 14.1341\n",
            "     Epoch 10: Train Loss = 0.6033, Val Loss = 13.9419\n",
            "     Epoch 15: Train Loss = 0.6016, Val Loss = 12.5203\n",
            "     Epoch 20: Train Loss = 0.6019, Val Loss = 13.2266\n",
            "    ⏹️ Early stopping at epoch 20\n",
            " Run 3 finished with best val loss: 11.2752\n",
            "Original Error Percentage (Test Dataset): 10.7707%\n",
            "Corrected Error Percentage (Test Dataset): 11.0285%\n",
            "   Run 4/5 ...      Epoch 0: Train Loss = 0.6145, Val Loss = 14.6554\n"
          ]
        },
        {
          "output_type": "stream",
          "name": "stderr",
          "text": [
            "<ipython-input-28-f2771d1cb762>:152: UserWarning: To copy construct from a tensor, it is recommended to use sourceTensor.clone().detach() or sourceTensor.clone().detach().requires_grad_(True), rather than torch.tensor(sourceTensor).\n",
            "  X_scaled_tensor = torch.tensor(combined_X, dtype=torch.float32).unsqueeze(1)\n"
          ]
        },
        {
          "output_type": "stream",
          "name": "stdout",
          "text": [
            "     Epoch 5: Train Loss = 0.6047, Val Loss = 11.2276\n",
            "     Epoch 10: Train Loss = 0.6048, Val Loss = 10.9018\n",
            "     Epoch 15: Train Loss = 0.6048, Val Loss = 12.6155\n",
            "     Epoch 20: Train Loss = 0.6004, Val Loss = 11.9666\n",
            "     Epoch 25: Train Loss = 0.6010, Val Loss = 12.5254\n",
            "     Epoch 30: Train Loss = 0.6005, Val Loss = 12.7440\n",
            "    ⏹️ Early stopping at epoch 30\n",
            " Run 4 finished with best val loss: 10.9018\n",
            "Original Error Percentage (Test Dataset): 10.7707%\n",
            "Corrected Error Percentage (Test Dataset): 10.8492%\n",
            "   Run 5/5 ...      Epoch 0: Train Loss = 0.6289, Val Loss = 14.4097\n"
          ]
        },
        {
          "output_type": "stream",
          "name": "stderr",
          "text": [
            "<ipython-input-28-f2771d1cb762>:152: UserWarning: To copy construct from a tensor, it is recommended to use sourceTensor.clone().detach() or sourceTensor.clone().detach().requires_grad_(True), rather than torch.tensor(sourceTensor).\n",
            "  X_scaled_tensor = torch.tensor(combined_X, dtype=torch.float32).unsqueeze(1)\n"
          ]
        },
        {
          "output_type": "stream",
          "name": "stdout",
          "text": [
            "     Epoch 5: Train Loss = 0.6094, Val Loss = 11.3668\n",
            "     Epoch 10: Train Loss = 0.6073, Val Loss = 13.5099\n",
            "     Epoch 15: Train Loss = 0.6062, Val Loss = 13.0124\n",
            "     Epoch 20: Train Loss = 0.6024, Val Loss = 12.0916\n",
            "     Epoch 25: Train Loss = 0.6021, Val Loss = 12.1620\n",
            "    ⏹️ Early stopping at epoch 25\n",
            " Run 5 finished with best val loss: 11.3668\n",
            "Original Error Percentage (Test Dataset): 10.7707%\n",
            "Corrected Error Percentage (Test Dataset): 10.6468%\n",
            " Finished configuration H=128, D=0.1, LR=0.001, B=16 → Avg Val Loss: 10.8472, Avg Accuracy: 10.8760%\n",
            "\n",
            " Running 99/108: H=128, D=0.1, LR=0.001, B=32\n",
            "   Run 1/5 ...      Epoch 0: Train Loss = 0.6290, Val Loss = 16.1626\n"
          ]
        },
        {
          "output_type": "stream",
          "name": "stderr",
          "text": [
            "<ipython-input-28-f2771d1cb762>:152: UserWarning: To copy construct from a tensor, it is recommended to use sourceTensor.clone().detach() or sourceTensor.clone().detach().requires_grad_(True), rather than torch.tensor(sourceTensor).\n",
            "  X_scaled_tensor = torch.tensor(combined_X, dtype=torch.float32).unsqueeze(1)\n"
          ]
        },
        {
          "output_type": "stream",
          "name": "stdout",
          "text": [
            "     Epoch 5: Train Loss = 0.6012, Val Loss = 9.9645\n",
            "     Epoch 10: Train Loss = 0.5985, Val Loss = 12.1496\n",
            "     Epoch 15: Train Loss = 0.6030, Val Loss = 13.7189\n",
            "     Epoch 20: Train Loss = 0.6038, Val Loss = 12.3023\n",
            "     Epoch 25: Train Loss = 0.6049, Val Loss = 12.5818\n",
            "    ⏹️ Early stopping at epoch 25\n",
            " Run 1 finished with best val loss: 9.9645\n",
            "Original Error Percentage (Test Dataset): 10.7707%\n",
            "Corrected Error Percentage (Test Dataset): 10.8051%\n",
            "   Run 2/5 ...      Epoch 0: Train Loss = 0.6242, Val Loss = 12.0631\n"
          ]
        },
        {
          "output_type": "stream",
          "name": "stderr",
          "text": [
            "<ipython-input-28-f2771d1cb762>:152: UserWarning: To copy construct from a tensor, it is recommended to use sourceTensor.clone().detach() or sourceTensor.clone().detach().requires_grad_(True), rather than torch.tensor(sourceTensor).\n",
            "  X_scaled_tensor = torch.tensor(combined_X, dtype=torch.float32).unsqueeze(1)\n"
          ]
        },
        {
          "output_type": "stream",
          "name": "stdout",
          "text": [
            "     Epoch 5: Train Loss = 0.6096, Val Loss = 13.4099\n",
            "     Epoch 10: Train Loss = 0.6030, Val Loss = 11.3252\n",
            "     Epoch 15: Train Loss = 0.6015, Val Loss = 13.7473\n",
            "     Epoch 20: Train Loss = 0.5997, Val Loss = 13.2602\n",
            "     Epoch 25: Train Loss = 0.6030, Val Loss = 13.8093\n",
            "     Epoch 30: Train Loss = 0.6015, Val Loss = 13.2378\n",
            "     Epoch 35: Train Loss = 0.6029, Val Loss = 12.5710\n",
            "     Epoch 40: Train Loss = 0.6023, Val Loss = 12.6509\n",
            "    ⏹️ Early stopping at epoch 44\n",
            " Run 2 finished with best val loss: 9.6405\n",
            "Original Error Percentage (Test Dataset): 10.7707%\n",
            "Corrected Error Percentage (Test Dataset): 10.8598%\n",
            "   Run 3/5 ...      Epoch 0: Train Loss = 0.6152, Val Loss = 15.0011\n"
          ]
        },
        {
          "output_type": "stream",
          "name": "stderr",
          "text": [
            "<ipython-input-28-f2771d1cb762>:152: UserWarning: To copy construct from a tensor, it is recommended to use sourceTensor.clone().detach() or sourceTensor.clone().detach().requires_grad_(True), rather than torch.tensor(sourceTensor).\n",
            "  X_scaled_tensor = torch.tensor(combined_X, dtype=torch.float32).unsqueeze(1)\n"
          ]
        },
        {
          "output_type": "stream",
          "name": "stdout",
          "text": [
            "     Epoch 5: Train Loss = 0.6079, Val Loss = 12.4956\n",
            "     Epoch 10: Train Loss = 0.6025, Val Loss = 12.8370\n",
            "     Epoch 15: Train Loss = 0.6056, Val Loss = 12.7241\n",
            "     Epoch 20: Train Loss = 0.6029, Val Loss = 13.4937\n",
            "    ⏹️ Early stopping at epoch 21\n",
            " Run 3 finished with best val loss: 10.6538\n",
            "Original Error Percentage (Test Dataset): 10.7707%\n",
            "Corrected Error Percentage (Test Dataset): 10.8700%\n",
            "   Run 4/5 ... "
          ]
        },
        {
          "output_type": "stream",
          "name": "stderr",
          "text": [
            "<ipython-input-28-f2771d1cb762>:152: UserWarning: To copy construct from a tensor, it is recommended to use sourceTensor.clone().detach() or sourceTensor.clone().detach().requires_grad_(True), rather than torch.tensor(sourceTensor).\n",
            "  X_scaled_tensor = torch.tensor(combined_X, dtype=torch.float32).unsqueeze(1)\n"
          ]
        },
        {
          "output_type": "stream",
          "name": "stdout",
          "text": [
            "     Epoch 0: Train Loss = 0.6200, Val Loss = 11.8050\n",
            "     Epoch 5: Train Loss = 0.6061, Val Loss = 12.4181\n",
            "     Epoch 10: Train Loss = 0.6091, Val Loss = 13.3517\n",
            "     Epoch 15: Train Loss = 0.6013, Val Loss = 12.1851\n",
            "     Epoch 20: Train Loss = 0.6038, Val Loss = 12.7404\n",
            "    ⏹️ Early stopping at epoch 22\n",
            " Run 4 finished with best val loss: 10.9793\n",
            "Original Error Percentage (Test Dataset): 10.7707%\n",
            "Corrected Error Percentage (Test Dataset): 11.0931%\n",
            "   Run 5/5 ...      Epoch 0: Train Loss = 0.6168, Val Loss = 13.9854\n"
          ]
        },
        {
          "output_type": "stream",
          "name": "stderr",
          "text": [
            "<ipython-input-28-f2771d1cb762>:152: UserWarning: To copy construct from a tensor, it is recommended to use sourceTensor.clone().detach() or sourceTensor.clone().detach().requires_grad_(True), rather than torch.tensor(sourceTensor).\n",
            "  X_scaled_tensor = torch.tensor(combined_X, dtype=torch.float32).unsqueeze(1)\n"
          ]
        },
        {
          "output_type": "stream",
          "name": "stdout",
          "text": [
            "     Epoch 5: Train Loss = 0.6032, Val Loss = 13.3972\n",
            "     Epoch 10: Train Loss = 0.6042, Val Loss = 14.3525\n",
            "     Epoch 15: Train Loss = 0.6006, Val Loss = 13.5634\n",
            "     Epoch 20: Train Loss = 0.6072, Val Loss = 12.2696\n",
            "    ⏹️ Early stopping at epoch 21\n",
            " Run 5 finished with best val loss: 11.3922\n",
            "Original Error Percentage (Test Dataset): 10.7707%\n",
            "Corrected Error Percentage (Test Dataset): 11.1065%\n",
            " Finished configuration H=128, D=0.1, LR=0.001, B=32 → Avg Val Loss: 10.5261, Avg Accuracy: 10.9469%\n",
            "\n",
            " Running 100/108: H=128, D=0.2, LR=0.0001, B=8\n",
            "   Run 1/5 ... "
          ]
        },
        {
          "output_type": "stream",
          "name": "stderr",
          "text": [
            "<ipython-input-28-f2771d1cb762>:152: UserWarning: To copy construct from a tensor, it is recommended to use sourceTensor.clone().detach() or sourceTensor.clone().detach().requires_grad_(True), rather than torch.tensor(sourceTensor).\n",
            "  X_scaled_tensor = torch.tensor(combined_X, dtype=torch.float32).unsqueeze(1)\n"
          ]
        },
        {
          "output_type": "stream",
          "name": "stdout",
          "text": [
            "     Epoch 0: Train Loss = 0.6274, Val Loss = 12.6254\n",
            "     Epoch 5: Train Loss = 0.6040, Val Loss = 12.3466\n",
            "     Epoch 10: Train Loss = 0.6070, Val Loss = 13.7872\n",
            "     Epoch 15: Train Loss = 0.6088, Val Loss = 12.8604\n",
            "     Epoch 20: Train Loss = 0.6021, Val Loss = 12.4481\n",
            "     Epoch 25: Train Loss = 0.6012, Val Loss = 12.9474\n",
            "     Epoch 30: Train Loss = 0.6019, Val Loss = 13.2001\n",
            "    ⏹️ Early stopping at epoch 32\n",
            " Run 1 finished with best val loss: 11.8076\n",
            "Original Error Percentage (Test Dataset): 10.7707%\n",
            "Corrected Error Percentage (Test Dataset): 10.9183%\n",
            "   Run 2/5 ... "
          ]
        },
        {
          "output_type": "stream",
          "name": "stderr",
          "text": [
            "<ipython-input-28-f2771d1cb762>:152: UserWarning: To copy construct from a tensor, it is recommended to use sourceTensor.clone().detach() or sourceTensor.clone().detach().requires_grad_(True), rather than torch.tensor(sourceTensor).\n",
            "  X_scaled_tensor = torch.tensor(combined_X, dtype=torch.float32).unsqueeze(1)\n"
          ]
        },
        {
          "output_type": "stream",
          "name": "stdout",
          "text": [
            "     Epoch 0: Train Loss = 0.6191, Val Loss = 14.4757\n",
            "     Epoch 5: Train Loss = 0.6072, Val Loss = 13.7042\n",
            "     Epoch 10: Train Loss = 0.6050, Val Loss = 13.1445\n",
            "     Epoch 15: Train Loss = 0.6028, Val Loss = 12.2596\n",
            "     Epoch 20: Train Loss = 0.6094, Val Loss = 12.4383\n",
            "     Epoch 25: Train Loss = 0.6033, Val Loss = 12.1917\n",
            "     Epoch 30: Train Loss = 0.6066, Val Loss = 12.6762\n",
            "     Epoch 35: Train Loss = 0.6083, Val Loss = 12.2810\n",
            "    ⏹️ Early stopping at epoch 36\n",
            " Run 2 finished with best val loss: 11.6989\n",
            "Original Error Percentage (Test Dataset): 10.7707%\n",
            "Corrected Error Percentage (Test Dataset): 10.7585%\n",
            "   Run 3/5 ... "
          ]
        },
        {
          "output_type": "stream",
          "name": "stderr",
          "text": [
            "<ipython-input-28-f2771d1cb762>:152: UserWarning: To copy construct from a tensor, it is recommended to use sourceTensor.clone().detach() or sourceTensor.clone().detach().requires_grad_(True), rather than torch.tensor(sourceTensor).\n",
            "  X_scaled_tensor = torch.tensor(combined_X, dtype=torch.float32).unsqueeze(1)\n"
          ]
        },
        {
          "output_type": "stream",
          "name": "stdout",
          "text": [
            "     Epoch 0: Train Loss = 0.6325, Val Loss = 13.1191\n",
            "     Epoch 5: Train Loss = 0.6062, Val Loss = 13.6291\n",
            "     Epoch 10: Train Loss = 0.6160, Val Loss = 13.6995\n",
            "     Epoch 15: Train Loss = 0.5991, Val Loss = 13.3469\n",
            "     Epoch 20: Train Loss = 0.6051, Val Loss = 13.0361\n",
            "     Epoch 25: Train Loss = 0.6031, Val Loss = 12.7516\n",
            "     Epoch 30: Train Loss = 0.6049, Val Loss = 12.5172\n",
            "     Epoch 35: Train Loss = 0.5993, Val Loss = 13.5778\n",
            "     Epoch 40: Train Loss = 0.6036, Val Loss = 12.6605\n",
            "     Epoch 45: Train Loss = 0.6020, Val Loss = 12.3763\n",
            "     Epoch 50: Train Loss = 0.6009, Val Loss = 12.6572\n",
            "    ⏹️ Early stopping at epoch 51\n",
            " Run 3 finished with best val loss: 12.0524\n",
            "Original Error Percentage (Test Dataset): 10.7707%\n",
            "Corrected Error Percentage (Test Dataset): 10.7522%\n",
            "   Run 4/5 ... "
          ]
        },
        {
          "output_type": "stream",
          "name": "stderr",
          "text": [
            "<ipython-input-28-f2771d1cb762>:152: UserWarning: To copy construct from a tensor, it is recommended to use sourceTensor.clone().detach() or sourceTensor.clone().detach().requires_grad_(True), rather than torch.tensor(sourceTensor).\n",
            "  X_scaled_tensor = torch.tensor(combined_X, dtype=torch.float32).unsqueeze(1)\n"
          ]
        },
        {
          "output_type": "stream",
          "name": "stdout",
          "text": [
            "     Epoch 0: Train Loss = 0.6213, Val Loss = 12.9614\n",
            "     Epoch 5: Train Loss = 0.6064, Val Loss = 13.3930\n",
            "     Epoch 10: Train Loss = 0.6011, Val Loss = 13.4319\n",
            "     Epoch 15: Train Loss = 0.6045, Val Loss = 13.5547\n",
            "     Epoch 20: Train Loss = 0.6036, Val Loss = 13.3041\n",
            "     Epoch 25: Train Loss = 0.6029, Val Loss = 13.2207\n",
            "     Epoch 30: Train Loss = 0.6009, Val Loss = 12.9391\n",
            "     Epoch 35: Train Loss = 0.6034, Val Loss = 13.2826\n",
            "    ⏹️ Early stopping at epoch 37\n",
            " Run 4 finished with best val loss: 12.5894\n",
            "Original Error Percentage (Test Dataset): 10.7707%\n",
            "Corrected Error Percentage (Test Dataset): 10.9485%\n",
            "   Run 5/5 ... "
          ]
        },
        {
          "output_type": "stream",
          "name": "stderr",
          "text": [
            "<ipython-input-28-f2771d1cb762>:152: UserWarning: To copy construct from a tensor, it is recommended to use sourceTensor.clone().detach() or sourceTensor.clone().detach().requires_grad_(True), rather than torch.tensor(sourceTensor).\n",
            "  X_scaled_tensor = torch.tensor(combined_X, dtype=torch.float32).unsqueeze(1)\n"
          ]
        },
        {
          "output_type": "stream",
          "name": "stdout",
          "text": [
            "     Epoch 0: Train Loss = 0.6463, Val Loss = 13.2598\n",
            "     Epoch 5: Train Loss = 0.6068, Val Loss = 12.3742\n",
            "     Epoch 10: Train Loss = 0.6075, Val Loss = 13.3468\n",
            "     Epoch 15: Train Loss = 0.6068, Val Loss = 13.1047\n",
            "     Epoch 20: Train Loss = 0.6069, Val Loss = 12.9651\n",
            "     Epoch 25: Train Loss = 0.6105, Val Loss = 12.4771\n",
            "    ⏹️ Early stopping at epoch 25\n",
            " Run 5 finished with best val loss: 12.3742\n",
            "Original Error Percentage (Test Dataset): 10.7707%\n",
            "Corrected Error Percentage (Test Dataset): 10.7627%\n",
            " Finished configuration H=128, D=0.2, LR=0.0001, B=8 → Avg Val Loss: 12.1045, Avg Accuracy: 10.8280%\n",
            "\n",
            " Running 101/108: H=128, D=0.2, LR=0.0001, B=16\n",
            "   Run 1/5 ...      Epoch 0: Train Loss = 0.6386, Val Loss = 11.3720\n"
          ]
        },
        {
          "output_type": "stream",
          "name": "stderr",
          "text": [
            "<ipython-input-28-f2771d1cb762>:152: UserWarning: To copy construct from a tensor, it is recommended to use sourceTensor.clone().detach() or sourceTensor.clone().detach().requires_grad_(True), rather than torch.tensor(sourceTensor).\n",
            "  X_scaled_tensor = torch.tensor(combined_X, dtype=torch.float32).unsqueeze(1)\n"
          ]
        },
        {
          "output_type": "stream",
          "name": "stdout",
          "text": [
            "     Epoch 5: Train Loss = 0.6066, Val Loss = 12.6270\n",
            "     Epoch 10: Train Loss = 0.6142, Val Loss = 13.4346\n",
            "     Epoch 15: Train Loss = 0.6120, Val Loss = 13.8738\n",
            "     Epoch 20: Train Loss = 0.6100, Val Loss = 13.7771\n",
            "    ⏹️ Early stopping at epoch 20\n",
            " Run 1 finished with best val loss: 11.3720\n",
            "Original Error Percentage (Test Dataset): 10.7707%\n",
            "Corrected Error Percentage (Test Dataset): 11.1715%\n",
            "   Run 2/5 ...      Epoch 0: Train Loss = 0.6197, Val Loss = 12.3525\n"
          ]
        },
        {
          "output_type": "stream",
          "name": "stderr",
          "text": [
            "<ipython-input-28-f2771d1cb762>:152: UserWarning: To copy construct from a tensor, it is recommended to use sourceTensor.clone().detach() or sourceTensor.clone().detach().requires_grad_(True), rather than torch.tensor(sourceTensor).\n",
            "  X_scaled_tensor = torch.tensor(combined_X, dtype=torch.float32).unsqueeze(1)\n"
          ]
        },
        {
          "output_type": "stream",
          "name": "stdout",
          "text": [
            "     Epoch 5: Train Loss = 0.6107, Val Loss = 13.0658\n",
            "     Epoch 10: Train Loss = 0.6088, Val Loss = 13.1457\n",
            "     Epoch 15: Train Loss = 0.6068, Val Loss = 12.5625\n",
            "     Epoch 20: Train Loss = 0.5970, Val Loss = 13.0350\n",
            "    ⏹️ Early stopping at epoch 20\n",
            " Run 2 finished with best val loss: 12.3525\n",
            "Original Error Percentage (Test Dataset): 10.7707%\n",
            "Corrected Error Percentage (Test Dataset): 10.9274%\n",
            "   Run 3/5 ... "
          ]
        },
        {
          "output_type": "stream",
          "name": "stderr",
          "text": [
            "<ipython-input-28-f2771d1cb762>:152: UserWarning: To copy construct from a tensor, it is recommended to use sourceTensor.clone().detach() or sourceTensor.clone().detach().requires_grad_(True), rather than torch.tensor(sourceTensor).\n",
            "  X_scaled_tensor = torch.tensor(combined_X, dtype=torch.float32).unsqueeze(1)\n"
          ]
        },
        {
          "output_type": "stream",
          "name": "stdout",
          "text": [
            "     Epoch 0: Train Loss = 0.6196, Val Loss = 12.1140\n",
            "     Epoch 5: Train Loss = 0.6037, Val Loss = 13.4775\n",
            "     Epoch 10: Train Loss = 0.6085, Val Loss = 13.3699\n",
            "     Epoch 15: Train Loss = 0.6020, Val Loss = 13.0416\n",
            "     Epoch 20: Train Loss = 0.6020, Val Loss = 13.3611\n",
            "    ⏹️ Early stopping at epoch 20\n",
            " Run 3 finished with best val loss: 12.1140\n",
            "Original Error Percentage (Test Dataset): 10.7707%\n",
            "Corrected Error Percentage (Test Dataset): 11.0983%\n",
            "   Run 4/5 ...      Epoch 0: Train Loss = 0.6115, Val Loss = 13.2879\n"
          ]
        },
        {
          "output_type": "stream",
          "name": "stderr",
          "text": [
            "<ipython-input-28-f2771d1cb762>:152: UserWarning: To copy construct from a tensor, it is recommended to use sourceTensor.clone().detach() or sourceTensor.clone().detach().requires_grad_(True), rather than torch.tensor(sourceTensor).\n",
            "  X_scaled_tensor = torch.tensor(combined_X, dtype=torch.float32).unsqueeze(1)\n"
          ]
        },
        {
          "output_type": "stream",
          "name": "stdout",
          "text": [
            "     Epoch 5: Train Loss = 0.6106, Val Loss = 12.5793\n",
            "     Epoch 10: Train Loss = 0.6055, Val Loss = 12.9676\n",
            "     Epoch 15: Train Loss = 0.6055, Val Loss = 12.8775\n",
            "     Epoch 20: Train Loss = 0.6095, Val Loss = 12.8525\n",
            "     Epoch 25: Train Loss = 0.6054, Val Loss = 12.9625\n",
            "     Epoch 30: Train Loss = 0.6109, Val Loss = 12.8246\n",
            "     Epoch 35: Train Loss = 0.6056, Val Loss = 12.6628\n",
            "    ⏹️ Early stopping at epoch 39\n",
            " Run 4 finished with best val loss: 12.4818\n",
            "Original Error Percentage (Test Dataset): 10.7707%\n",
            "Corrected Error Percentage (Test Dataset): 10.8976%\n",
            "   Run 5/5 ... "
          ]
        },
        {
          "output_type": "stream",
          "name": "stderr",
          "text": [
            "<ipython-input-28-f2771d1cb762>:152: UserWarning: To copy construct from a tensor, it is recommended to use sourceTensor.clone().detach() or sourceTensor.clone().detach().requires_grad_(True), rather than torch.tensor(sourceTensor).\n",
            "  X_scaled_tensor = torch.tensor(combined_X, dtype=torch.float32).unsqueeze(1)\n"
          ]
        },
        {
          "output_type": "stream",
          "name": "stdout",
          "text": [
            "     Epoch 0: Train Loss = 0.6113, Val Loss = 13.2697\n",
            "     Epoch 5: Train Loss = 0.6041, Val Loss = 12.7743\n",
            "     Epoch 10: Train Loss = 0.6112, Val Loss = 12.8770\n",
            "     Epoch 15: Train Loss = 0.6007, Val Loss = 13.8320\n",
            "     Epoch 20: Train Loss = 0.6083, Val Loss = 13.4508\n",
            "     Epoch 25: Train Loss = 0.6019, Val Loss = 13.2904\n",
            "    ⏹️ Early stopping at epoch 25\n",
            " Run 5 finished with best val loss: 12.7743\n",
            "Original Error Percentage (Test Dataset): 10.7707%\n",
            "Corrected Error Percentage (Test Dataset): 11.0414%\n",
            " Finished configuration H=128, D=0.2, LR=0.0001, B=16 → Avg Val Loss: 12.2189, Avg Accuracy: 11.0272%\n",
            "\n",
            " Running 102/108: H=128, D=0.2, LR=0.0001, B=32\n",
            "   Run 1/5 ...      Epoch 0: Train Loss = 0.6314, Val Loss = 11.6677\n"
          ]
        },
        {
          "output_type": "stream",
          "name": "stderr",
          "text": [
            "<ipython-input-28-f2771d1cb762>:152: UserWarning: To copy construct from a tensor, it is recommended to use sourceTensor.clone().detach() or sourceTensor.clone().detach().requires_grad_(True), rather than torch.tensor(sourceTensor).\n",
            "  X_scaled_tensor = torch.tensor(combined_X, dtype=torch.float32).unsqueeze(1)\n"
          ]
        },
        {
          "output_type": "stream",
          "name": "stdout",
          "text": [
            "     Epoch 5: Train Loss = 0.6124, Val Loss = 14.5390\n",
            "     Epoch 10: Train Loss = 0.6063, Val Loss = 14.2079\n",
            "     Epoch 15: Train Loss = 0.6078, Val Loss = 13.7642\n",
            "     Epoch 20: Train Loss = 0.5998, Val Loss = 13.4766\n",
            "    ⏹️ Early stopping at epoch 20\n",
            " Run 1 finished with best val loss: 11.6677\n",
            "Original Error Percentage (Test Dataset): 10.7707%\n",
            "Corrected Error Percentage (Test Dataset): 11.1765%\n",
            "   Run 2/5 ...      Epoch 0: Train Loss = 0.6560, Val Loss = 14.7071\n"
          ]
        },
        {
          "output_type": "stream",
          "name": "stderr",
          "text": [
            "<ipython-input-28-f2771d1cb762>:152: UserWarning: To copy construct from a tensor, it is recommended to use sourceTensor.clone().detach() or sourceTensor.clone().detach().requires_grad_(True), rather than torch.tensor(sourceTensor).\n",
            "  X_scaled_tensor = torch.tensor(combined_X, dtype=torch.float32).unsqueeze(1)\n"
          ]
        },
        {
          "output_type": "stream",
          "name": "stdout",
          "text": [
            "     Epoch 5: Train Loss = 0.6118, Val Loss = 14.2286\n",
            "     Epoch 10: Train Loss = 0.6113, Val Loss = 14.0485\n",
            "     Epoch 15: Train Loss = 0.6025, Val Loss = 13.5160\n",
            "     Epoch 20: Train Loss = 0.6049, Val Loss = 13.0665\n",
            "     Epoch 25: Train Loss = 0.6077, Val Loss = 12.8724\n",
            "     Epoch 30: Train Loss = 0.6036, Val Loss = 12.8491\n",
            "     Epoch 35: Train Loss = 0.6069, Val Loss = 12.7874\n",
            "     Epoch 40: Train Loss = 0.6052, Val Loss = 12.8525\n",
            "     Epoch 45: Train Loss = 0.6030, Val Loss = 13.3551\n",
            "     Epoch 50: Train Loss = 0.6010, Val Loss = 12.9100\n",
            "     Epoch 55: Train Loss = 0.6023, Val Loss = 12.9818\n",
            "    ⏹️ Early stopping at epoch 58\n",
            " Run 2 finished with best val loss: 12.6470\n",
            "Original Error Percentage (Test Dataset): 10.7707%\n",
            "Corrected Error Percentage (Test Dataset): 10.8908%\n",
            "   Run 3/5 ...      Epoch 0: Train Loss = 0.6229, Val Loss = 14.2697\n"
          ]
        },
        {
          "output_type": "stream",
          "name": "stderr",
          "text": [
            "<ipython-input-28-f2771d1cb762>:152: UserWarning: To copy construct from a tensor, it is recommended to use sourceTensor.clone().detach() or sourceTensor.clone().detach().requires_grad_(True), rather than torch.tensor(sourceTensor).\n",
            "  X_scaled_tensor = torch.tensor(combined_X, dtype=torch.float32).unsqueeze(1)\n"
          ]
        },
        {
          "output_type": "stream",
          "name": "stdout",
          "text": [
            "     Epoch 5: Train Loss = 0.6155, Val Loss = 14.2461\n",
            "     Epoch 10: Train Loss = 0.6160, Val Loss = 13.7492\n",
            "     Epoch 15: Train Loss = 0.6005, Val Loss = 13.1195\n",
            "     Epoch 20: Train Loss = 0.6126, Val Loss = 13.2331\n",
            "     Epoch 25: Train Loss = 0.6017, Val Loss = 13.3929\n",
            "     Epoch 30: Train Loss = 0.6068, Val Loss = 13.3157\n",
            "     Epoch 35: Train Loss = 0.6063, Val Loss = 12.7375\n",
            "     Epoch 40: Train Loss = 0.6059, Val Loss = 12.7823\n",
            "     Epoch 45: Train Loss = 0.6049, Val Loss = 12.9733\n",
            "     Epoch 50: Train Loss = 0.6037, Val Loss = 12.8553\n",
            "     Epoch 55: Train Loss = 0.5987, Val Loss = 12.9343\n",
            "     Epoch 60: Train Loss = 0.6012, Val Loss = 13.1770\n",
            "    ⏹️ Early stopping at epoch 63\n",
            " Run 3 finished with best val loss: 12.5927\n",
            "Original Error Percentage (Test Dataset): 10.7707%\n",
            "Corrected Error Percentage (Test Dataset): 11.0652%\n",
            "   Run 4/5 ...      Epoch 0: Train Loss = 0.6228, Val Loss = 12.8949\n"
          ]
        },
        {
          "output_type": "stream",
          "name": "stderr",
          "text": [
            "<ipython-input-28-f2771d1cb762>:152: UserWarning: To copy construct from a tensor, it is recommended to use sourceTensor.clone().detach() or sourceTensor.clone().detach().requires_grad_(True), rather than torch.tensor(sourceTensor).\n",
            "  X_scaled_tensor = torch.tensor(combined_X, dtype=torch.float32).unsqueeze(1)\n"
          ]
        },
        {
          "output_type": "stream",
          "name": "stdout",
          "text": [
            "     Epoch 5: Train Loss = 0.6094, Val Loss = 13.7322\n",
            "     Epoch 10: Train Loss = 0.6135, Val Loss = 13.4097\n",
            "     Epoch 15: Train Loss = 0.6073, Val Loss = 13.1683\n",
            "     Epoch 20: Train Loss = 0.6065, Val Loss = 13.3776\n",
            "     Epoch 25: Train Loss = 0.6087, Val Loss = 13.4841\n",
            "     Epoch 30: Train Loss = 0.5996, Val Loss = 13.5935\n",
            "    ⏹️ Early stopping at epoch 33\n",
            " Run 4 finished with best val loss: 12.8779\n",
            "Original Error Percentage (Test Dataset): 10.7707%\n",
            "Corrected Error Percentage (Test Dataset): 11.0818%\n",
            "   Run 5/5 ...      Epoch 0: Train Loss = 0.6408, Val Loss = 11.3873\n"
          ]
        },
        {
          "output_type": "stream",
          "name": "stderr",
          "text": [
            "<ipython-input-28-f2771d1cb762>:152: UserWarning: To copy construct from a tensor, it is recommended to use sourceTensor.clone().detach() or sourceTensor.clone().detach().requires_grad_(True), rather than torch.tensor(sourceTensor).\n",
            "  X_scaled_tensor = torch.tensor(combined_X, dtype=torch.float32).unsqueeze(1)\n"
          ]
        },
        {
          "output_type": "stream",
          "name": "stdout",
          "text": [
            "     Epoch 5: Train Loss = 0.6054, Val Loss = 13.4060\n",
            "     Epoch 10: Train Loss = 0.6056, Val Loss = 12.9738\n",
            "     Epoch 15: Train Loss = 0.5995, Val Loss = 13.4702\n",
            "     Epoch 20: Train Loss = 0.6062, Val Loss = 13.4434\n",
            "    ⏹️ Early stopping at epoch 20\n",
            " Run 5 finished with best val loss: 11.3873\n",
            "Original Error Percentage (Test Dataset): 10.7707%\n",
            "Corrected Error Percentage (Test Dataset): 11.1701%\n",
            " Finished configuration H=128, D=0.2, LR=0.0001, B=32 → Avg Val Loss: 12.2345, Avg Accuracy: 11.0769%\n",
            "\n",
            " Running 103/108: H=128, D=0.2, LR=0.0005, B=8\n",
            "   Run 1/5 ... "
          ]
        },
        {
          "output_type": "stream",
          "name": "stderr",
          "text": [
            "<ipython-input-28-f2771d1cb762>:152: UserWarning: To copy construct from a tensor, it is recommended to use sourceTensor.clone().detach() or sourceTensor.clone().detach().requires_grad_(True), rather than torch.tensor(sourceTensor).\n",
            "  X_scaled_tensor = torch.tensor(combined_X, dtype=torch.float32).unsqueeze(1)\n"
          ]
        },
        {
          "output_type": "stream",
          "name": "stdout",
          "text": [
            "     Epoch 0: Train Loss = 0.6128, Val Loss = 11.8031\n",
            "     Epoch 5: Train Loss = 0.6041, Val Loss = 11.4243\n",
            "     Epoch 10: Train Loss = 0.6050, Val Loss = 12.5886\n",
            "     Epoch 15: Train Loss = 0.6050, Val Loss = 12.4958\n",
            "     Epoch 20: Train Loss = 0.6029, Val Loss = 13.3368\n",
            "     Epoch 25: Train Loss = 0.6013, Val Loss = 12.6206\n",
            "    ⏹️ Early stopping at epoch 25\n",
            " Run 1 finished with best val loss: 11.4243\n",
            "Original Error Percentage (Test Dataset): 10.7707%\n",
            "Corrected Error Percentage (Test Dataset): 10.7813%\n",
            "   Run 2/5 ... "
          ]
        },
        {
          "output_type": "stream",
          "name": "stderr",
          "text": [
            "<ipython-input-28-f2771d1cb762>:152: UserWarning: To copy construct from a tensor, it is recommended to use sourceTensor.clone().detach() or sourceTensor.clone().detach().requires_grad_(True), rather than torch.tensor(sourceTensor).\n",
            "  X_scaled_tensor = torch.tensor(combined_X, dtype=torch.float32).unsqueeze(1)\n"
          ]
        },
        {
          "output_type": "stream",
          "name": "stdout",
          "text": [
            "     Epoch 0: Train Loss = 0.6210, Val Loss = 14.0368\n",
            "     Epoch 5: Train Loss = 0.6067, Val Loss = 14.5837\n",
            "     Epoch 10: Train Loss = 0.6062, Val Loss = 12.5184\n",
            "     Epoch 15: Train Loss = 0.6054, Val Loss = 13.4908\n",
            "     Epoch 20: Train Loss = 0.6058, Val Loss = 12.3951\n",
            "    ⏹️ Early stopping at epoch 21\n",
            " Run 2 finished with best val loss: 10.7801\n",
            "Original Error Percentage (Test Dataset): 10.7707%\n",
            "Corrected Error Percentage (Test Dataset): 10.8598%\n",
            "   Run 3/5 ... "
          ]
        },
        {
          "output_type": "stream",
          "name": "stderr",
          "text": [
            "<ipython-input-28-f2771d1cb762>:152: UserWarning: To copy construct from a tensor, it is recommended to use sourceTensor.clone().detach() or sourceTensor.clone().detach().requires_grad_(True), rather than torch.tensor(sourceTensor).\n",
            "  X_scaled_tensor = torch.tensor(combined_X, dtype=torch.float32).unsqueeze(1)\n"
          ]
        },
        {
          "output_type": "stream",
          "name": "stdout",
          "text": [
            "     Epoch 0: Train Loss = 0.6194, Val Loss = 15.2185\n",
            "     Epoch 5: Train Loss = 0.6086, Val Loss = 11.9096\n",
            "     Epoch 10: Train Loss = 0.6046, Val Loss = 12.7543\n",
            "     Epoch 15: Train Loss = 0.6035, Val Loss = 12.4929\n",
            "     Epoch 20: Train Loss = 0.6052, Val Loss = 12.5050\n",
            "     Epoch 25: Train Loss = 0.6015, Val Loss = 13.9334\n",
            "     Epoch 30: Train Loss = 0.6052, Val Loss = 12.6115\n",
            "     Epoch 35: Train Loss = 0.6029, Val Loss = 12.1190\n",
            "    ⏹️ Early stopping at epoch 38\n",
            " Run 3 finished with best val loss: 11.7080\n",
            "Original Error Percentage (Test Dataset): 10.7707%\n",
            "Corrected Error Percentage (Test Dataset): 10.9625%\n",
            "   Run 4/5 ... "
          ]
        },
        {
          "output_type": "stream",
          "name": "stderr",
          "text": [
            "<ipython-input-28-f2771d1cb762>:152: UserWarning: To copy construct from a tensor, it is recommended to use sourceTensor.clone().detach() or sourceTensor.clone().detach().requires_grad_(True), rather than torch.tensor(sourceTensor).\n",
            "  X_scaled_tensor = torch.tensor(combined_X, dtype=torch.float32).unsqueeze(1)\n"
          ]
        },
        {
          "output_type": "stream",
          "name": "stdout",
          "text": [
            "     Epoch 0: Train Loss = 0.6211, Val Loss = 13.9919\n",
            "     Epoch 5: Train Loss = 0.6054, Val Loss = 13.4242\n",
            "     Epoch 10: Train Loss = 0.6055, Val Loss = 12.1792\n",
            "     Epoch 15: Train Loss = 0.6035, Val Loss = 12.7253\n",
            "     Epoch 20: Train Loss = 0.6028, Val Loss = 13.2453\n",
            "    ⏹️ Early stopping at epoch 22\n",
            " Run 4 finished with best val loss: 11.2052\n",
            "Original Error Percentage (Test Dataset): 10.7707%\n",
            "Corrected Error Percentage (Test Dataset): 10.6174%\n",
            "   Run 5/5 ... "
          ]
        },
        {
          "output_type": "stream",
          "name": "stderr",
          "text": [
            "<ipython-input-28-f2771d1cb762>:152: UserWarning: To copy construct from a tensor, it is recommended to use sourceTensor.clone().detach() or sourceTensor.clone().detach().requires_grad_(True), rather than torch.tensor(sourceTensor).\n",
            "  X_scaled_tensor = torch.tensor(combined_X, dtype=torch.float32).unsqueeze(1)\n"
          ]
        },
        {
          "output_type": "stream",
          "name": "stdout",
          "text": [
            "     Epoch 0: Train Loss = 0.6200, Val Loss = 11.3623\n",
            "     Epoch 5: Train Loss = 0.6083, Val Loss = 14.3908\n",
            "     Epoch 10: Train Loss = 0.6021, Val Loss = 11.9363\n",
            "     Epoch 15: Train Loss = 0.6061, Val Loss = 12.9222\n",
            "     Epoch 20: Train Loss = 0.6048, Val Loss = 12.0112\n",
            "     Epoch 25: Train Loss = 0.6037, Val Loss = 13.0145\n",
            "     Epoch 30: Train Loss = 0.6052, Val Loss = 13.0196\n",
            "    ⏹️ Early stopping at epoch 31\n",
            " Run 5 finished with best val loss: 11.0536\n",
            "Original Error Percentage (Test Dataset): 10.7707%\n",
            "Corrected Error Percentage (Test Dataset): 10.7013%\n",
            " Finished configuration H=128, D=0.2, LR=0.0005, B=8 → Avg Val Loss: 11.2342, Avg Accuracy: 10.7844%\n",
            "\n",
            " Running 104/108: H=128, D=0.2, LR=0.0005, B=16\n",
            "   Run 1/5 ...      Epoch 0: Train Loss = 0.6230, Val Loss = 12.9882\n"
          ]
        },
        {
          "output_type": "stream",
          "name": "stderr",
          "text": [
            "<ipython-input-28-f2771d1cb762>:152: UserWarning: To copy construct from a tensor, it is recommended to use sourceTensor.clone().detach() or sourceTensor.clone().detach().requires_grad_(True), rather than torch.tensor(sourceTensor).\n",
            "  X_scaled_tensor = torch.tensor(combined_X, dtype=torch.float32).unsqueeze(1)\n"
          ]
        },
        {
          "output_type": "stream",
          "name": "stdout",
          "text": [
            "     Epoch 5: Train Loss = 0.6094, Val Loss = 12.8640\n",
            "     Epoch 10: Train Loss = 0.6087, Val Loss = 13.8337\n",
            "     Epoch 15: Train Loss = 0.6070, Val Loss = 13.6455\n",
            "     Epoch 20: Train Loss = 0.6074, Val Loss = 12.2733\n",
            "    ⏹️ Early stopping at epoch 21\n",
            " Run 1 finished with best val loss: 11.3486\n",
            "Original Error Percentage (Test Dataset): 10.7707%\n",
            "Corrected Error Percentage (Test Dataset): 10.9531%\n",
            "   Run 2/5 ... "
          ]
        },
        {
          "output_type": "stream",
          "name": "stderr",
          "text": [
            "<ipython-input-28-f2771d1cb762>:152: UserWarning: To copy construct from a tensor, it is recommended to use sourceTensor.clone().detach() or sourceTensor.clone().detach().requires_grad_(True), rather than torch.tensor(sourceTensor).\n",
            "  X_scaled_tensor = torch.tensor(combined_X, dtype=torch.float32).unsqueeze(1)\n"
          ]
        },
        {
          "output_type": "stream",
          "name": "stdout",
          "text": [
            "     Epoch 0: Train Loss = 0.6127, Val Loss = 14.6607\n",
            "     Epoch 5: Train Loss = 0.6082, Val Loss = 11.7262\n",
            "     Epoch 10: Train Loss = 0.6080, Val Loss = 14.3917\n",
            "     Epoch 15: Train Loss = 0.6007, Val Loss = 14.0051\n",
            "     Epoch 20: Train Loss = 0.6006, Val Loss = 13.4833\n",
            "     Epoch 25: Train Loss = 0.6044, Val Loss = 13.4852\n",
            "    ⏹️ Early stopping at epoch 28\n",
            " Run 2 finished with best val loss: 11.1846\n",
            "Original Error Percentage (Test Dataset): 10.7707%\n",
            "Corrected Error Percentage (Test Dataset): 10.8416%\n",
            "   Run 3/5 ...      Epoch 0: Train Loss = 0.6116, Val Loss = 14.4418\n"
          ]
        },
        {
          "output_type": "stream",
          "name": "stderr",
          "text": [
            "<ipython-input-28-f2771d1cb762>:152: UserWarning: To copy construct from a tensor, it is recommended to use sourceTensor.clone().detach() or sourceTensor.clone().detach().requires_grad_(True), rather than torch.tensor(sourceTensor).\n",
            "  X_scaled_tensor = torch.tensor(combined_X, dtype=torch.float32).unsqueeze(1)\n"
          ]
        },
        {
          "output_type": "stream",
          "name": "stdout",
          "text": [
            "     Epoch 5: Train Loss = 0.6114, Val Loss = 13.1077\n",
            "     Epoch 10: Train Loss = 0.6040, Val Loss = 12.3699\n",
            "     Epoch 15: Train Loss = 0.6029, Val Loss = 12.6233\n",
            "     Epoch 20: Train Loss = 0.6018, Val Loss = 12.7095\n",
            "     Epoch 25: Train Loss = 0.6052, Val Loss = 12.6025\n",
            "     Epoch 30: Train Loss = 0.6018, Val Loss = 11.9234\n",
            "     Epoch 35: Train Loss = 0.6049, Val Loss = 11.7649\n",
            "     Epoch 40: Train Loss = 0.6006, Val Loss = 12.5258\n",
            "     Epoch 45: Train Loss = 0.6006, Val Loss = 12.9898\n",
            "     Epoch 50: Train Loss = 0.6011, Val Loss = 12.4530\n",
            "     Epoch 55: Train Loss = 0.6011, Val Loss = 12.8329\n",
            "     Epoch 60: Train Loss = 0.6017, Val Loss = 11.8965\n",
            "     Epoch 65: Train Loss = 0.5991, Val Loss = 12.8429\n",
            "     Epoch 70: Train Loss = 0.6055, Val Loss = 12.0383\n",
            "    ⏹️ Early stopping at epoch 71\n",
            " Run 3 finished with best val loss: 11.7414\n",
            "Original Error Percentage (Test Dataset): 10.7707%\n",
            "Corrected Error Percentage (Test Dataset): 10.5818%\n",
            "   Run 4/5 ...      Epoch 0: Train Loss = 0.6177, Val Loss = 14.1410\n"
          ]
        },
        {
          "output_type": "stream",
          "name": "stderr",
          "text": [
            "<ipython-input-28-f2771d1cb762>:152: UserWarning: To copy construct from a tensor, it is recommended to use sourceTensor.clone().detach() or sourceTensor.clone().detach().requires_grad_(True), rather than torch.tensor(sourceTensor).\n",
            "  X_scaled_tensor = torch.tensor(combined_X, dtype=torch.float32).unsqueeze(1)\n"
          ]
        },
        {
          "output_type": "stream",
          "name": "stdout",
          "text": [
            "     Epoch 5: Train Loss = 0.6077, Val Loss = 12.3032\n",
            "     Epoch 10: Train Loss = 0.6031, Val Loss = 12.2772\n",
            "     Epoch 15: Train Loss = 0.6030, Val Loss = 13.1615\n",
            "     Epoch 20: Train Loss = 0.6053, Val Loss = 12.4134\n",
            "     Epoch 25: Train Loss = 0.6053, Val Loss = 13.3467\n",
            "     Epoch 30: Train Loss = 0.6038, Val Loss = 12.2931\n",
            "     Epoch 35: Train Loss = 0.6053, Val Loss = 12.2848\n",
            "     Epoch 40: Train Loss = 0.5990, Val Loss = 10.4057\n",
            "     Epoch 45: Train Loss = 0.6050, Val Loss = 13.3669\n",
            "     Epoch 50: Train Loss = 0.6047, Val Loss = 12.5088\n",
            "     Epoch 55: Train Loss = 0.6050, Val Loss = 12.5880\n",
            "     Epoch 60: Train Loss = 0.5991, Val Loss = 12.9079\n",
            "    ⏹️ Early stopping at epoch 60\n",
            " Run 4 finished with best val loss: 10.4057\n",
            "Original Error Percentage (Test Dataset): 10.7707%\n",
            "Corrected Error Percentage (Test Dataset): 10.8316%\n",
            "   Run 5/5 ...      Epoch 0: Train Loss = 0.6247, Val Loss = 13.0058\n"
          ]
        },
        {
          "output_type": "stream",
          "name": "stderr",
          "text": [
            "<ipython-input-28-f2771d1cb762>:152: UserWarning: To copy construct from a tensor, it is recommended to use sourceTensor.clone().detach() or sourceTensor.clone().detach().requires_grad_(True), rather than torch.tensor(sourceTensor).\n",
            "  X_scaled_tensor = torch.tensor(combined_X, dtype=torch.float32).unsqueeze(1)\n"
          ]
        },
        {
          "output_type": "stream",
          "name": "stdout",
          "text": [
            "     Epoch 5: Train Loss = 0.6131, Val Loss = 13.5294\n",
            "     Epoch 10: Train Loss = 0.6075, Val Loss = 13.1196\n",
            "     Epoch 15: Train Loss = 0.6051, Val Loss = 12.7052\n",
            "     Epoch 20: Train Loss = 0.6085, Val Loss = 12.9718\n",
            "    ⏹️ Early stopping at epoch 21\n",
            " Run 5 finished with best val loss: 11.8018\n",
            "Original Error Percentage (Test Dataset): 10.7707%\n",
            "Corrected Error Percentage (Test Dataset): 11.0521%\n",
            " Finished configuration H=128, D=0.2, LR=0.0005, B=16 → Avg Val Loss: 11.2964, Avg Accuracy: 10.8520%\n",
            "\n",
            " Running 105/108: H=128, D=0.2, LR=0.0005, B=32\n",
            "   Run 1/5 ... "
          ]
        },
        {
          "output_type": "stream",
          "name": "stderr",
          "text": [
            "<ipython-input-28-f2771d1cb762>:152: UserWarning: To copy construct from a tensor, it is recommended to use sourceTensor.clone().detach() or sourceTensor.clone().detach().requires_grad_(True), rather than torch.tensor(sourceTensor).\n",
            "  X_scaled_tensor = torch.tensor(combined_X, dtype=torch.float32).unsqueeze(1)\n"
          ]
        },
        {
          "output_type": "stream",
          "name": "stdout",
          "text": [
            "     Epoch 0: Train Loss = 0.6185, Val Loss = 13.6102\n",
            "     Epoch 5: Train Loss = 0.6207, Val Loss = 11.8539\n",
            "     Epoch 10: Train Loss = 0.6097, Val Loss = 12.3625\n",
            "     Epoch 15: Train Loss = 0.6075, Val Loss = 12.5446\n",
            "     Epoch 20: Train Loss = 0.6018, Val Loss = 12.3057\n",
            "    ⏹️ Early stopping at epoch 24\n",
            " Run 1 finished with best val loss: 11.0115\n",
            "Original Error Percentage (Test Dataset): 10.7707%\n",
            "Corrected Error Percentage (Test Dataset): 10.5025%\n",
            "   Run 2/5 ...      Epoch 0: Train Loss = 0.6118, Val Loss = 13.0068\n"
          ]
        },
        {
          "output_type": "stream",
          "name": "stderr",
          "text": [
            "<ipython-input-28-f2771d1cb762>:152: UserWarning: To copy construct from a tensor, it is recommended to use sourceTensor.clone().detach() or sourceTensor.clone().detach().requires_grad_(True), rather than torch.tensor(sourceTensor).\n",
            "  X_scaled_tensor = torch.tensor(combined_X, dtype=torch.float32).unsqueeze(1)\n"
          ]
        },
        {
          "output_type": "stream",
          "name": "stdout",
          "text": [
            "     Epoch 5: Train Loss = 0.6090, Val Loss = 12.3278\n",
            "     Epoch 10: Train Loss = 0.6020, Val Loss = 12.9130\n",
            "     Epoch 15: Train Loss = 0.6088, Val Loss = 13.4749\n",
            "     Epoch 20: Train Loss = 0.6061, Val Loss = 12.7398\n",
            "    ⏹️ Early stopping at epoch 23\n",
            " Run 2 finished with best val loss: 11.4894\n",
            "Original Error Percentage (Test Dataset): 10.7707%\n",
            "Corrected Error Percentage (Test Dataset): 10.9073%\n",
            "   Run 3/5 ...      Epoch 0: Train Loss = 0.6256, Val Loss = 12.4752\n"
          ]
        },
        {
          "output_type": "stream",
          "name": "stderr",
          "text": [
            "<ipython-input-28-f2771d1cb762>:152: UserWarning: To copy construct from a tensor, it is recommended to use sourceTensor.clone().detach() or sourceTensor.clone().detach().requires_grad_(True), rather than torch.tensor(sourceTensor).\n",
            "  X_scaled_tensor = torch.tensor(combined_X, dtype=torch.float32).unsqueeze(1)\n"
          ]
        },
        {
          "output_type": "stream",
          "name": "stdout",
          "text": [
            "     Epoch 5: Train Loss = 0.6019, Val Loss = 12.2720\n",
            "     Epoch 10: Train Loss = 0.6070, Val Loss = 13.3443\n",
            "     Epoch 15: Train Loss = 0.6040, Val Loss = 13.6547\n",
            "     Epoch 20: Train Loss = 0.6094, Val Loss = 14.2230\n",
            "     Epoch 25: Train Loss = 0.6018, Val Loss = 13.4872\n",
            "    ⏹️ Early stopping at epoch 25\n",
            " Run 3 finished with best val loss: 12.2720\n",
            "Original Error Percentage (Test Dataset): 10.7707%\n",
            "Corrected Error Percentage (Test Dataset): 11.0842%\n",
            "   Run 4/5 ...      Epoch 0: Train Loss = 0.6149, Val Loss = 14.1634\n"
          ]
        },
        {
          "output_type": "stream",
          "name": "stderr",
          "text": [
            "<ipython-input-28-f2771d1cb762>:152: UserWarning: To copy construct from a tensor, it is recommended to use sourceTensor.clone().detach() or sourceTensor.clone().detach().requires_grad_(True), rather than torch.tensor(sourceTensor).\n",
            "  X_scaled_tensor = torch.tensor(combined_X, dtype=torch.float32).unsqueeze(1)\n"
          ]
        },
        {
          "output_type": "stream",
          "name": "stdout",
          "text": [
            "     Epoch 5: Train Loss = 0.6035, Val Loss = 13.0304\n",
            "     Epoch 10: Train Loss = 0.6011, Val Loss = 12.9299\n",
            "     Epoch 15: Train Loss = 0.6093, Val Loss = 13.0579\n",
            "     Epoch 20: Train Loss = 0.5952, Val Loss = 12.2066\n",
            "     Epoch 25: Train Loss = 0.6048, Val Loss = 12.5835\n",
            "     Epoch 30: Train Loss = 0.5977, Val Loss = 12.6862\n",
            "     Epoch 35: Train Loss = 0.6062, Val Loss = 11.9465\n",
            "     Epoch 40: Train Loss = 0.6016, Val Loss = 12.5799\n",
            "     Epoch 45: Train Loss = 0.6026, Val Loss = 13.0646\n",
            "     Epoch 50: Train Loss = 0.6008, Val Loss = 12.1501\n",
            "    ⏹️ Early stopping at epoch 53\n",
            " Run 4 finished with best val loss: 11.3155\n",
            "Original Error Percentage (Test Dataset): 10.7707%\n",
            "Corrected Error Percentage (Test Dataset): 10.6412%\n",
            "   Run 5/5 ...      Epoch 0: Train Loss = 0.6152, Val Loss = 12.7557\n"
          ]
        },
        {
          "output_type": "stream",
          "name": "stderr",
          "text": [
            "<ipython-input-28-f2771d1cb762>:152: UserWarning: To copy construct from a tensor, it is recommended to use sourceTensor.clone().detach() or sourceTensor.clone().detach().requires_grad_(True), rather than torch.tensor(sourceTensor).\n",
            "  X_scaled_tensor = torch.tensor(combined_X, dtype=torch.float32).unsqueeze(1)\n"
          ]
        },
        {
          "output_type": "stream",
          "name": "stdout",
          "text": [
            "     Epoch 5: Train Loss = 0.6117, Val Loss = 13.7279\n",
            "     Epoch 10: Train Loss = 0.6063, Val Loss = 13.9885\n",
            "     Epoch 15: Train Loss = 0.6050, Val Loss = 12.9165\n",
            "     Epoch 20: Train Loss = 0.6035, Val Loss = 12.6738\n",
            "    ⏹️ Early stopping at epoch 21\n",
            " Run 5 finished with best val loss: 12.3476\n",
            "Original Error Percentage (Test Dataset): 10.7707%\n",
            "Corrected Error Percentage (Test Dataset): 11.2070%\n",
            " Finished configuration H=128, D=0.2, LR=0.0005, B=32 → Avg Val Loss: 11.6872, Avg Accuracy: 10.8684%\n",
            "\n",
            " Running 106/108: H=128, D=0.2, LR=0.001, B=8\n",
            "   Run 1/5 ... "
          ]
        },
        {
          "output_type": "stream",
          "name": "stderr",
          "text": [
            "<ipython-input-28-f2771d1cb762>:152: UserWarning: To copy construct from a tensor, it is recommended to use sourceTensor.clone().detach() or sourceTensor.clone().detach().requires_grad_(True), rather than torch.tensor(sourceTensor).\n",
            "  X_scaled_tensor = torch.tensor(combined_X, dtype=torch.float32).unsqueeze(1)\n"
          ]
        },
        {
          "output_type": "stream",
          "name": "stdout",
          "text": [
            "     Epoch 0: Train Loss = 0.6336, Val Loss = 16.3477\n",
            "     Epoch 5: Train Loss = 0.6116, Val Loss = 12.0941\n",
            "     Epoch 10: Train Loss = 0.6054, Val Loss = 12.6482\n",
            "     Epoch 15: Train Loss = 0.6104, Val Loss = 11.1798\n",
            "     Epoch 20: Train Loss = 0.6083, Val Loss = 12.4919\n",
            "    ⏹️ Early stopping at epoch 24\n",
            " Run 1 finished with best val loss: 10.8076\n",
            "Original Error Percentage (Test Dataset): 10.7707%\n",
            "Corrected Error Percentage (Test Dataset): 10.5419%\n",
            "   Run 2/5 ... "
          ]
        },
        {
          "output_type": "stream",
          "name": "stderr",
          "text": [
            "<ipython-input-28-f2771d1cb762>:152: UserWarning: To copy construct from a tensor, it is recommended to use sourceTensor.clone().detach() or sourceTensor.clone().detach().requires_grad_(True), rather than torch.tensor(sourceTensor).\n",
            "  X_scaled_tensor = torch.tensor(combined_X, dtype=torch.float32).unsqueeze(1)\n"
          ]
        },
        {
          "output_type": "stream",
          "name": "stdout",
          "text": [
            "     Epoch 0: Train Loss = 0.6198, Val Loss = 13.5145\n",
            "     Epoch 5: Train Loss = 0.6066, Val Loss = 14.0091\n",
            "     Epoch 10: Train Loss = 0.6051, Val Loss = 12.9005\n",
            "     Epoch 15: Train Loss = 0.6068, Val Loss = 12.0987\n",
            "     Epoch 20: Train Loss = 0.6034, Val Loss = 12.4156\n",
            "     Epoch 25: Train Loss = 0.6051, Val Loss = 11.6307\n",
            "     Epoch 30: Train Loss = 0.6048, Val Loss = 11.6505\n",
            "     Epoch 35: Train Loss = 0.6067, Val Loss = 11.6920\n",
            "     Epoch 40: Train Loss = 0.6001, Val Loss = 12.9860\n",
            "     Epoch 45: Train Loss = 0.6020, Val Loss = 11.4229\n",
            "     Epoch 50: Train Loss = 0.6013, Val Loss = 11.9737\n",
            "     Epoch 55: Train Loss = 0.6016, Val Loss = 11.7010\n",
            "     Epoch 60: Train Loss = 0.5990, Val Loss = 12.1093\n",
            "     Epoch 65: Train Loss = 0.6034, Val Loss = 12.2786\n",
            "     Epoch 70: Train Loss = 0.6024, Val Loss = 11.9502\n",
            "     Epoch 75: Train Loss = 0.6049, Val Loss = 12.2006\n",
            "    ⏹️ Early stopping at epoch 76\n",
            " Run 2 finished with best val loss: 11.3907\n",
            "Original Error Percentage (Test Dataset): 10.7707%\n",
            "Corrected Error Percentage (Test Dataset): 10.8501%\n",
            "   Run 3/5 ... "
          ]
        },
        {
          "output_type": "stream",
          "name": "stderr",
          "text": [
            "<ipython-input-28-f2771d1cb762>:152: UserWarning: To copy construct from a tensor, it is recommended to use sourceTensor.clone().detach() or sourceTensor.clone().detach().requires_grad_(True), rather than torch.tensor(sourceTensor).\n",
            "  X_scaled_tensor = torch.tensor(combined_X, dtype=torch.float32).unsqueeze(1)\n"
          ]
        },
        {
          "output_type": "stream",
          "name": "stdout",
          "text": [
            "     Epoch 0: Train Loss = 0.6256, Val Loss = 12.5860\n",
            "     Epoch 5: Train Loss = 0.6057, Val Loss = 13.4089\n",
            "     Epoch 10: Train Loss = 0.6084, Val Loss = 12.2654\n",
            "     Epoch 15: Train Loss = 0.6069, Val Loss = 12.9685\n",
            "     Epoch 20: Train Loss = 0.6035, Val Loss = 13.2325\n",
            "     Epoch 25: Train Loss = 0.6082, Val Loss = 12.2827\n",
            "     Epoch 30: Train Loss = 0.6049, Val Loss = 12.0328\n",
            "    ⏹️ Early stopping at epoch 33\n",
            " Run 3 finished with best val loss: 11.2720\n",
            "Original Error Percentage (Test Dataset): 10.7707%\n",
            "Corrected Error Percentage (Test Dataset): 10.7185%\n",
            "   Run 4/5 ... "
          ]
        },
        {
          "output_type": "stream",
          "name": "stderr",
          "text": [
            "<ipython-input-28-f2771d1cb762>:152: UserWarning: To copy construct from a tensor, it is recommended to use sourceTensor.clone().detach() or sourceTensor.clone().detach().requires_grad_(True), rather than torch.tensor(sourceTensor).\n",
            "  X_scaled_tensor = torch.tensor(combined_X, dtype=torch.float32).unsqueeze(1)\n"
          ]
        },
        {
          "output_type": "stream",
          "name": "stdout",
          "text": [
            "     Epoch 0: Train Loss = 0.6229, Val Loss = 15.1008\n",
            "     Epoch 5: Train Loss = 0.6100, Val Loss = 14.6778\n",
            "     Epoch 10: Train Loss = 0.6112, Val Loss = 12.4389\n",
            "     Epoch 15: Train Loss = 0.6076, Val Loss = 13.6486\n",
            "     Epoch 20: Train Loss = 0.6052, Val Loss = 13.2903\n",
            "    ⏹️ Early stopping at epoch 23\n",
            " Run 4 finished with best val loss: 11.4024\n",
            "Original Error Percentage (Test Dataset): 10.7707%\n",
            "Corrected Error Percentage (Test Dataset): 11.2000%\n",
            "   Run 5/5 ... "
          ]
        },
        {
          "output_type": "stream",
          "name": "stderr",
          "text": [
            "<ipython-input-28-f2771d1cb762>:152: UserWarning: To copy construct from a tensor, it is recommended to use sourceTensor.clone().detach() or sourceTensor.clone().detach().requires_grad_(True), rather than torch.tensor(sourceTensor).\n",
            "  X_scaled_tensor = torch.tensor(combined_X, dtype=torch.float32).unsqueeze(1)\n"
          ]
        },
        {
          "output_type": "stream",
          "name": "stdout",
          "text": [
            "     Epoch 0: Train Loss = 0.6297, Val Loss = 14.5757\n",
            "     Epoch 5: Train Loss = 0.6128, Val Loss = 13.0697\n",
            "     Epoch 10: Train Loss = 0.6078, Val Loss = 12.7496\n",
            "     Epoch 15: Train Loss = 0.6068, Val Loss = 11.8791\n",
            "     Epoch 20: Train Loss = 0.6075, Val Loss = 12.9092\n",
            "    ⏹️ Early stopping at epoch 23\n",
            " Run 5 finished with best val loss: 11.5806\n",
            "Original Error Percentage (Test Dataset): 10.7707%\n",
            "Corrected Error Percentage (Test Dataset): 10.7533%\n",
            " Finished configuration H=128, D=0.2, LR=0.001, B=8 → Avg Val Loss: 11.2907, Avg Accuracy: 10.8128%\n",
            "\n",
            " Running 107/108: H=128, D=0.2, LR=0.001, B=16\n",
            "   Run 1/5 ...      Epoch 0: Train Loss = 0.6116, Val Loss = 11.0239\n"
          ]
        },
        {
          "output_type": "stream",
          "name": "stderr",
          "text": [
            "<ipython-input-28-f2771d1cb762>:152: UserWarning: To copy construct from a tensor, it is recommended to use sourceTensor.clone().detach() or sourceTensor.clone().detach().requires_grad_(True), rather than torch.tensor(sourceTensor).\n",
            "  X_scaled_tensor = torch.tensor(combined_X, dtype=torch.float32).unsqueeze(1)\n"
          ]
        },
        {
          "output_type": "stream",
          "name": "stdout",
          "text": [
            "     Epoch 5: Train Loss = 0.6067, Val Loss = 13.6792\n",
            "     Epoch 10: Train Loss = 0.6067, Val Loss = 13.3243\n",
            "     Epoch 15: Train Loss = 0.6058, Val Loss = 13.2250\n",
            "     Epoch 20: Train Loss = 0.6041, Val Loss = 13.3230\n",
            "    ⏹️ Early stopping at epoch 20\n",
            " Run 1 finished with best val loss: 11.0239\n",
            "Original Error Percentage (Test Dataset): 10.7707%\n",
            "Corrected Error Percentage (Test Dataset): 11.0899%\n",
            "   Run 2/5 ...      Epoch 0: Train Loss = 0.6211, Val Loss = 13.1854\n"
          ]
        },
        {
          "output_type": "stream",
          "name": "stderr",
          "text": [
            "<ipython-input-28-f2771d1cb762>:152: UserWarning: To copy construct from a tensor, it is recommended to use sourceTensor.clone().detach() or sourceTensor.clone().detach().requires_grad_(True), rather than torch.tensor(sourceTensor).\n",
            "  X_scaled_tensor = torch.tensor(combined_X, dtype=torch.float32).unsqueeze(1)\n"
          ]
        },
        {
          "output_type": "stream",
          "name": "stdout",
          "text": [
            "     Epoch 5: Train Loss = 0.6044, Val Loss = 12.5534\n",
            "     Epoch 10: Train Loss = 0.6058, Val Loss = 12.5669\n",
            "     Epoch 15: Train Loss = 0.6057, Val Loss = 12.3395\n",
            "     Epoch 20: Train Loss = 0.6031, Val Loss = 13.1577\n",
            "    ⏹️ Early stopping at epoch 21\n",
            " Run 2 finished with best val loss: 11.3796\n",
            "Original Error Percentage (Test Dataset): 10.7707%\n",
            "Corrected Error Percentage (Test Dataset): 10.8500%\n",
            "   Run 3/5 ... "
          ]
        },
        {
          "output_type": "stream",
          "name": "stderr",
          "text": [
            "<ipython-input-28-f2771d1cb762>:152: UserWarning: To copy construct from a tensor, it is recommended to use sourceTensor.clone().detach() or sourceTensor.clone().detach().requires_grad_(True), rather than torch.tensor(sourceTensor).\n",
            "  X_scaled_tensor = torch.tensor(combined_X, dtype=torch.float32).unsqueeze(1)\n"
          ]
        },
        {
          "output_type": "stream",
          "name": "stdout",
          "text": [
            "     Epoch 0: Train Loss = 0.6223, Val Loss = 14.1870\n",
            "     Epoch 5: Train Loss = 0.6073, Val Loss = 11.7729\n",
            "     Epoch 10: Train Loss = 0.6072, Val Loss = 12.9172\n",
            "     Epoch 15: Train Loss = 0.6041, Val Loss = 11.7345\n",
            "     Epoch 20: Train Loss = 0.6053, Val Loss = 12.2538\n",
            "     Epoch 25: Train Loss = 0.6013, Val Loss = 13.2732\n",
            "     Epoch 30: Train Loss = 0.6036, Val Loss = 13.0120\n",
            "     Epoch 35: Train Loss = 0.6100, Val Loss = 11.5158\n",
            "     Epoch 40: Train Loss = 0.6056, Val Loss = 12.6286\n",
            "     Epoch 45: Train Loss = 0.6045, Val Loss = 12.9045\n",
            "     Epoch 50: Train Loss = 0.5995, Val Loss = 12.8166\n",
            "     Epoch 55: Train Loss = 0.6031, Val Loss = 12.6372\n",
            "    ⏹️ Early stopping at epoch 55\n",
            " Run 3 finished with best val loss: 11.5158\n",
            "Original Error Percentage (Test Dataset): 10.7707%\n",
            "Corrected Error Percentage (Test Dataset): 10.8082%\n",
            "   Run 4/5 ...      Epoch 0: Train Loss = 0.6130, Val Loss = 12.4651\n"
          ]
        },
        {
          "output_type": "stream",
          "name": "stderr",
          "text": [
            "<ipython-input-28-f2771d1cb762>:152: UserWarning: To copy construct from a tensor, it is recommended to use sourceTensor.clone().detach() or sourceTensor.clone().detach().requires_grad_(True), rather than torch.tensor(sourceTensor).\n",
            "  X_scaled_tensor = torch.tensor(combined_X, dtype=torch.float32).unsqueeze(1)\n"
          ]
        },
        {
          "output_type": "stream",
          "name": "stdout",
          "text": [
            "     Epoch 5: Train Loss = 0.6061, Val Loss = 12.7748\n",
            "     Epoch 10: Train Loss = 0.6043, Val Loss = 12.7547\n",
            "     Epoch 15: Train Loss = 0.6042, Val Loss = 13.0950\n",
            "     Epoch 20: Train Loss = 0.6010, Val Loss = 12.8630\n",
            "     Epoch 25: Train Loss = 0.6078, Val Loss = 12.2273\n",
            "    ⏹️ Early stopping at epoch 27\n",
            " Run 4 finished with best val loss: 11.8139\n",
            "Original Error Percentage (Test Dataset): 10.7707%\n",
            "Corrected Error Percentage (Test Dataset): 10.6435%\n",
            "   Run 5/5 ...      Epoch 0: Train Loss = 0.6210, Val Loss = 13.8611\n"
          ]
        },
        {
          "output_type": "stream",
          "name": "stderr",
          "text": [
            "<ipython-input-28-f2771d1cb762>:152: UserWarning: To copy construct from a tensor, it is recommended to use sourceTensor.clone().detach() or sourceTensor.clone().detach().requires_grad_(True), rather than torch.tensor(sourceTensor).\n",
            "  X_scaled_tensor = torch.tensor(combined_X, dtype=torch.float32).unsqueeze(1)\n"
          ]
        },
        {
          "output_type": "stream",
          "name": "stdout",
          "text": [
            "     Epoch 5: Train Loss = 0.6059, Val Loss = 12.4641\n",
            "     Epoch 10: Train Loss = 0.6073, Val Loss = 11.5369\n",
            "     Epoch 15: Train Loss = 0.6047, Val Loss = 12.7664\n",
            "     Epoch 20: Train Loss = 0.6036, Val Loss = 11.6727\n",
            "     Epoch 25: Train Loss = 0.6045, Val Loss = 12.7565\n",
            "    ⏹️ Early stopping at epoch 28\n",
            " Run 5 finished with best val loss: 11.0860\n",
            "Original Error Percentage (Test Dataset): 10.7707%\n",
            "Corrected Error Percentage (Test Dataset): 11.0585%\n",
            " Finished configuration H=128, D=0.2, LR=0.001, B=16 → Avg Val Loss: 11.3638, Avg Accuracy: 10.8900%\n",
            "\n",
            " Running 108/108: H=128, D=0.2, LR=0.001, B=32\n",
            "   Run 1/5 ...      Epoch 0: Train Loss = 0.6143, Val Loss = 11.5630\n"
          ]
        },
        {
          "output_type": "stream",
          "name": "stderr",
          "text": [
            "<ipython-input-28-f2771d1cb762>:152: UserWarning: To copy construct from a tensor, it is recommended to use sourceTensor.clone().detach() or sourceTensor.clone().detach().requires_grad_(True), rather than torch.tensor(sourceTensor).\n",
            "  X_scaled_tensor = torch.tensor(combined_X, dtype=torch.float32).unsqueeze(1)\n"
          ]
        },
        {
          "output_type": "stream",
          "name": "stdout",
          "text": [
            "     Epoch 5: Train Loss = 0.6006, Val Loss = 14.1886\n",
            "     Epoch 10: Train Loss = 0.6110, Val Loss = 13.2282\n",
            "     Epoch 15: Train Loss = 0.6076, Val Loss = 12.5365\n",
            "     Epoch 20: Train Loss = 0.6057, Val Loss = 12.9266\n",
            "    ⏹️ Early stopping at epoch 23\n",
            " Run 1 finished with best val loss: 10.8734\n",
            "Original Error Percentage (Test Dataset): 10.7707%\n",
            "Corrected Error Percentage (Test Dataset): 10.7172%\n",
            "   Run 2/5 ...      Epoch 0: Train Loss = 0.6144, Val Loss = 13.5306\n"
          ]
        },
        {
          "output_type": "stream",
          "name": "stderr",
          "text": [
            "<ipython-input-28-f2771d1cb762>:152: UserWarning: To copy construct from a tensor, it is recommended to use sourceTensor.clone().detach() or sourceTensor.clone().detach().requires_grad_(True), rather than torch.tensor(sourceTensor).\n",
            "  X_scaled_tensor = torch.tensor(combined_X, dtype=torch.float32).unsqueeze(1)\n"
          ]
        },
        {
          "output_type": "stream",
          "name": "stdout",
          "text": [
            "     Epoch 5: Train Loss = 0.6095, Val Loss = 12.0587\n",
            "     Epoch 10: Train Loss = 0.6061, Val Loss = 13.9495\n",
            "     Epoch 15: Train Loss = 0.6028, Val Loss = 13.5036\n",
            "     Epoch 20: Train Loss = 0.6057, Val Loss = 13.4239\n",
            "    ⏹️ Early stopping at epoch 23\n",
            " Run 2 finished with best val loss: 11.5944\n",
            "Original Error Percentage (Test Dataset): 10.7707%\n",
            "Corrected Error Percentage (Test Dataset): 10.8362%\n",
            "   Run 3/5 ...      Epoch 0: Train Loss = 0.6286, Val Loss = 16.1048\n"
          ]
        },
        {
          "output_type": "stream",
          "name": "stderr",
          "text": [
            "<ipython-input-28-f2771d1cb762>:152: UserWarning: To copy construct from a tensor, it is recommended to use sourceTensor.clone().detach() or sourceTensor.clone().detach().requires_grad_(True), rather than torch.tensor(sourceTensor).\n",
            "  X_scaled_tensor = torch.tensor(combined_X, dtype=torch.float32).unsqueeze(1)\n"
          ]
        },
        {
          "output_type": "stream",
          "name": "stdout",
          "text": [
            "     Epoch 5: Train Loss = 0.6041, Val Loss = 10.7616\n",
            "     Epoch 10: Train Loss = 0.6055, Val Loss = 13.1967\n",
            "     Epoch 15: Train Loss = 0.6047, Val Loss = 13.1316\n",
            "     Epoch 20: Train Loss = 0.6083, Val Loss = 12.3108\n",
            "     Epoch 25: Train Loss = 0.6044, Val Loss = 12.6322\n",
            "    ⏹️ Early stopping at epoch 25\n",
            " Run 3 finished with best val loss: 10.7616\n",
            "Original Error Percentage (Test Dataset): 10.7707%\n",
            "Corrected Error Percentage (Test Dataset): 10.8535%\n",
            "   Run 4/5 ...      Epoch 0: Train Loss = 0.6206, Val Loss = 14.3811\n"
          ]
        },
        {
          "output_type": "stream",
          "name": "stderr",
          "text": [
            "<ipython-input-28-f2771d1cb762>:152: UserWarning: To copy construct from a tensor, it is recommended to use sourceTensor.clone().detach() or sourceTensor.clone().detach().requires_grad_(True), rather than torch.tensor(sourceTensor).\n",
            "  X_scaled_tensor = torch.tensor(combined_X, dtype=torch.float32).unsqueeze(1)\n"
          ]
        },
        {
          "output_type": "stream",
          "name": "stdout",
          "text": [
            "     Epoch 5: Train Loss = 0.6128, Val Loss = 13.1779\n",
            "     Epoch 10: Train Loss = 0.6010, Val Loss = 12.0422\n",
            "     Epoch 15: Train Loss = 0.6080, Val Loss = 12.2204\n",
            "     Epoch 20: Train Loss = 0.6071, Val Loss = 13.4165\n",
            "     Epoch 25: Train Loss = 0.6035, Val Loss = 12.9850\n",
            "     Epoch 30: Train Loss = 0.6046, Val Loss = 13.5578\n",
            "    ⏹️ Early stopping at epoch 34\n",
            " Run 4 finished with best val loss: 11.5521\n",
            "Original Error Percentage (Test Dataset): 10.7707%\n",
            "Corrected Error Percentage (Test Dataset): 10.9514%\n",
            "   Run 5/5 ...      Epoch 0: Train Loss = 0.6140, Val Loss = 12.1518\n"
          ]
        },
        {
          "output_type": "stream",
          "name": "stderr",
          "text": [
            "<ipython-input-28-f2771d1cb762>:152: UserWarning: To copy construct from a tensor, it is recommended to use sourceTensor.clone().detach() or sourceTensor.clone().detach().requires_grad_(True), rather than torch.tensor(sourceTensor).\n",
            "  X_scaled_tensor = torch.tensor(combined_X, dtype=torch.float32).unsqueeze(1)\n"
          ]
        },
        {
          "output_type": "stream",
          "name": "stdout",
          "text": [
            "     Epoch 5: Train Loss = 0.6085, Val Loss = 12.6985\n",
            "     Epoch 10: Train Loss = 0.6059, Val Loss = 12.7952\n",
            "     Epoch 15: Train Loss = 0.6068, Val Loss = 12.0696\n",
            "     Epoch 20: Train Loss = 0.6035, Val Loss = 13.1022\n",
            "     Epoch 25: Train Loss = 0.5995, Val Loss = 12.8698\n",
            "     Epoch 30: Train Loss = 0.5998, Val Loss = 13.0541\n",
            "    ⏹️ Early stopping at epoch 32\n",
            " Run 5 finished with best val loss: 11.2357\n",
            "Original Error Percentage (Test Dataset): 10.7707%\n",
            "Corrected Error Percentage (Test Dataset): 10.8538%\n",
            " Finished configuration H=128, D=0.2, LR=0.001, B=32 → Avg Val Loss: 11.2035, Avg Accuracy: 10.8424%\n",
            "\n",
            " Top 5 Hyperparameter Configurations:\n",
            " 1. {'hidden_size': 16, 'dropout_rate': 0.2, 'learning_rate': 0.0001, 'batch_size': 16, 'avg_val_loss': 8.640835914814186, 'avg_accuracy': 10.481745768244691}\n",
            " 2. {'hidden_size': 32, 'dropout_rate': 0.0, 'learning_rate': 0.0001, 'batch_size': 32, 'avg_val_loss': 9.440370643676435, 'avg_accuracy': 10.84956078415195}\n",
            " 3. {'hidden_size': 16, 'dropout_rate': 0.2, 'learning_rate': 0.0005, 'batch_size': 32, 'avg_val_loss': 9.7821670269144, 'avg_accuracy': 10.954461285244573}\n",
            " 4. {'hidden_size': 16, 'dropout_rate': 0.2, 'learning_rate': 0.0001, 'batch_size': 32, 'avg_val_loss': 9.900088383095333, 'avg_accuracy': 10.25655523263593}\n",
            " 5. {'hidden_size': 16, 'dropout_rate': 0.1, 'learning_rate': 0.0001, 'batch_size': 16, 'avg_val_loss': 10.180515376832187, 'avg_accuracy': 10.995538907785146}\n"
          ]
        },
        {
          "output_type": "stream",
          "name": "stderr",
          "text": [
            "<ipython-input-28-f2771d1cb762>:152: UserWarning: To copy construct from a tensor, it is recommended to use sourceTensor.clone().detach() or sourceTensor.clone().detach().requires_grad_(True), rather than torch.tensor(sourceTensor).\n",
            "  X_scaled_tensor = torch.tensor(combined_X, dtype=torch.float32).unsqueeze(1)\n"
          ]
        }
      ],
      "source": [
        "# Create DataLoader\n",
        "train_dataset = TensorDataset(X_train, y_train)\n",
        "val_dataset = TensorDataset(X_val, y_val)\n",
        "test_dataset = TensorDataset(X_test, y_test)\n",
        "train_loader = DataLoader(train_dataset, batch_size=16, shuffle=True)\n",
        "val_loader = DataLoader(val_dataset, batch_size=16, shuffle=False)\n",
        "test_loader = DataLoader(test_dataset, batch_size=16, shuffle=False)\n",
        "\n",
        "# # Define model\n",
        "# input_size = 1\n",
        "# hidden_size1 = 64\n",
        "# dropout_rate = 0.1\n",
        "# learning_rate = 0.0001\n",
        "# num_epochs = 500\n",
        "# patience = 30\n",
        "\n",
        "# bias_model = BiasPredictor(input_size=input_size, hidden_size1=hidden_size1, dropout_rate=dropout_rate).to(device)\n",
        "# criterion = nn.MSELoss()\n",
        "# optimizer = optim.Adam(bias_model.parameters(), lr=learning_rate)\n",
        "\n",
        "# # Train the model (don't need to save the model yet)\n",
        "# best_val_loss = np.inf\n",
        "# best_epoch = 0\n",
        "\n",
        "# for epoch in range(num_epochs):\n",
        "#     bias_model.train()\n",
        "#     train_loss = 0.0\n",
        "#     for X_batch, y_batch in train_loader:\n",
        "#         X_batch, y_batch = X_batch.to(device), y_batch.to(device)\n",
        "#         optimizer.zero_grad()\n",
        "#         outputs = bias_model(X_batch)\n",
        "#         loss = criterion(outputs, y_batch)\n",
        "#         loss.backward()\n",
        "#         optimizer.step()\n",
        "#         train_loss += loss.item() * X_batch.size(0)\n",
        "\n",
        "#     train_loss /= len(train_loader.dataset)\n",
        "\n",
        "#     bias_model.eval()\n",
        "#     val_loss = 0.0\n",
        "#     with torch.no_grad():\n",
        "#         for X_batch, y_batch in val_loader:\n",
        "#             X_batch, y_batch = X_batch.to(device), y_batch.to(device)\n",
        "#             outputs = bias_model(X_batch)\n",
        "#             loss = criterion(outputs, y_batch)\n",
        "#             val_loss += loss.item() * X_batch.size(0)\n",
        "\n",
        "#     val_loss /= len(val_loader.dataset)\n",
        "\n",
        "#     if val_loss < best_val_loss:\n",
        "#         best_val_loss = val_loss\n",
        "#         best_epoch = epoch\n",
        "#     elif epoch - best_epoch >= patience:\n",
        "#         print(f\"Stopping early at epoch {epoch}\")\n",
        "#         break\n",
        "\n",
        "#     print(f\"Epoch {epoch}, Train Loss: {train_loss:.4f}, Val Loss: {val_loss:.4f}\")\n",
        "\n",
        "\n",
        "import itertools\n",
        "import numpy as np\n",
        "import torch\n",
        "import torch.nn as nn\n",
        "import torch.optim as optim\n",
        "from torch.utils.data import DataLoader, TensorDataset\n",
        "\n",
        "# Define hyperparameter search space\n",
        "hidden_sizes = [16, 32, 64, 128]\n",
        "dropout_rates = [0.0, 0.1, 0.2]\n",
        "learning_rates = [0.0001, 0.0005, 0.001]\n",
        "batch_sizes = [8, 16, 32]\n",
        "\n",
        "# Total number of hyperparameter combinations\n",
        "total_combinations = len(hidden_sizes) * len(dropout_rates) * len(learning_rates) * len(batch_sizes)\n",
        "combination_counter = 0\n",
        "\n",
        "# Store results\n",
        "results = []\n",
        "\n",
        "# Iterate over all hyperparameter combinations\n",
        "for hidden_size, dropout_rate, learning_rate, batch_size in itertools.product(hidden_sizes, dropout_rates, learning_rates, batch_sizes):\n",
        "    combination_counter += 1\n",
        "    print(f\"\\n Running {combination_counter}/{total_combinations}: H={hidden_size}, D={dropout_rate}, LR={learning_rate}, B={batch_size}\")\n",
        "\n",
        "    val_losses = []\n",
        "    accuracies = []  # To track accuracies for each run\n",
        "    for run in range(5):  # Run each combination 5 times\n",
        "        print(f\"   Run {run + 1}/5 ...\", end=\" \", flush=True)\n",
        "\n",
        "        # Define DataLoaders with the current batch size\n",
        "        train_loader = DataLoader(train_dataset, batch_size=batch_size, shuffle=True)\n",
        "        val_loader = DataLoader(val_dataset, batch_size=batch_size, shuffle=False)\n",
        "\n",
        "        # Define the model\n",
        "        bias_model = BiasPredictor(input_size=1, hidden_size=hidden_size, dropout_rate=dropout_rate).to(device)\n",
        "        criterion = nn.MSELoss()\n",
        "        optimizer = optim.Adam(bias_model.parameters(), lr=learning_rate)\n",
        "\n",
        "        # Training setup\n",
        "        best_val_loss = np.inf\n",
        "        best_epoch = 0\n",
        "        patience = 20\n",
        "        num_epochs = 500\n",
        "\n",
        "        # Training loop\n",
        "        for epoch in range(num_epochs):\n",
        "            bias_model.train()\n",
        "            train_loss = 0.0\n",
        "            for X_batch, y_batch in train_loader:\n",
        "                X_batch, y_batch = X_batch.to(device), y_batch.to(device)\n",
        "                optimizer.zero_grad()\n",
        "                outputs = bias_model(X_batch)\n",
        "                loss = criterion(outputs, y_batch)\n",
        "                loss.backward()\n",
        "                optimizer.step()\n",
        "                train_loss += loss.item() * X_batch.size(0)\n",
        "\n",
        "            train_loss /= len(train_loader.dataset)\n",
        "\n",
        "            # Validation\n",
        "            bias_model.eval()\n",
        "            val_loss = 0.0\n",
        "            with torch.no_grad():\n",
        "                for X_batch, y_batch in val_loader:\n",
        "                    X_batch, y_batch = X_batch.to(device), y_batch.to(device)\n",
        "                    outputs = bias_model(X_batch)\n",
        "                    loss = criterion(outputs, y_batch)\n",
        "                    val_loss += loss.item() * X_batch.size(0)\n",
        "\n",
        "            val_loss /= len(val_loader.dataset)\n",
        "\n",
        "            # Print progress every 50 epochs\n",
        "            if epoch % 5 == 0:\n",
        "                print(f\"     Epoch {epoch}: Train Loss = {train_loss:.4f}, Val Loss = {val_loss:.4f}\")\n",
        "\n",
        "            # Early stopping\n",
        "            if val_loss < best_val_loss:\n",
        "                best_val_loss = val_loss\n",
        "                best_epoch = epoch\n",
        "            elif epoch - best_epoch >= patience:\n",
        "                print(f\"    ⏹️ Early stopping at epoch {epoch}\")\n",
        "                break  # Stop training if no improvement\n",
        "\n",
        "        val_losses.append(best_val_loss)  # Store best val loss for this run\n",
        "        print(f\" Run {run + 1} finished with best val loss: {best_val_loss:.4f}\")\n",
        "\n",
        "        # Evaluate accuracy after each run\n",
        "        combined_X = torch.cat((X_train, X_val, X_test), dim=0)\n",
        "        combined_y = torch.cat((y_train, y_val, y_test), dim=0)\n",
        "\n",
        "        # Convert combined_X to tensor and scale if necessary\n",
        "        X_scaled_tensor = torch.tensor(combined_X, dtype=torch.float32).unsqueeze(1)\n",
        "        bias_model.eval()\n",
        "        with torch.no_grad():\n",
        "            y_pred = bias_model(X_scaled_tensor.to(device)).cpu().numpy()\n",
        "\n",
        "        # Unscale outputs\n",
        "        outputs_unscaled = y_scaler.inverse_transform(y_pred.reshape(y_pred.shape[0], -1))\n",
        "\n",
        "        # Calculate error percentages\n",
        "        new_df[\"Bias_Pred\"] = outputs_unscaled\n",
        "        new_df[\"Corrected_LSTM_Pred\"] = new_df[\"LSTM_Pred\"] + new_df[\"Bias_Pred\"]\n",
        "\n",
        "        original_error_percent_test = np.mean(np.abs(new_df[\"Bias\"].iloc[train_size + val_size:]) / (np.abs(new_df[\"Target\"].iloc[train_size + val_size:]) + 1e-8)) * 100\n",
        "        corrected_error_percent_test = np.mean(np.abs(new_df[\"Target\"].iloc[train_size + val_size:] - new_df[\"Corrected_LSTM_Pred\"].iloc[train_size + val_size:]) / (np.abs(new_df[\"Target\"].iloc[train_size + val_size:]) + 1e-8)) * 100\n",
        "\n",
        "        print(f\"Original Error Percentage (Test Dataset): {original_error_percent_test:.4f}%\")\n",
        "        print(f\"Corrected Error Percentage (Test Dataset): {corrected_error_percent_test:.4f}%\")\n",
        "\n",
        "        # Store accuracy for this run\n",
        "        accuracies.append(corrected_error_percent_test)\n",
        "\n",
        "    # After all 5 trials, calculate the average accuracy\n",
        "    avg_val_loss = np.mean(val_losses)\n",
        "    avg_accuracy = np.mean(accuracies)  # Calculate the average error percentage over all runs\n",
        "\n",
        "    results.append({\n",
        "        \"hidden_size\": hidden_size,\n",
        "        \"dropout_rate\": dropout_rate,\n",
        "        \"learning_rate\": learning_rate,\n",
        "        \"batch_size\": batch_size,\n",
        "        \"avg_val_loss\": avg_val_loss,\n",
        "        \"avg_accuracy\": avg_accuracy\n",
        "    })\n",
        "\n",
        "    print(f\" Finished configuration H={hidden_size}, D={dropout_rate}, LR={learning_rate}, B={batch_size} → Avg Val Loss: {avg_val_loss:.4f}, Avg Accuracy: {avg_accuracy:.4f}%\")\n",
        "\n",
        "# Sort results by lowest validation loss\n",
        "results.sort(key=lambda x: x[\"avg_val_loss\"])\n",
        "\n",
        "# Print top 5 configurations\n",
        "print(\"\\n Top 5 Hyperparameter Configurations:\")\n",
        "for i, res in enumerate(results[:5]):\n",
        "    print(f\" {i+1}. {res}\")\n",
        "\n"
      ]
    }
  ],
  "metadata": {
    "colab": {
      "provenance": []
    },
    "kernelspec": {
      "display_name": "Python 3",
      "name": "python3"
    },
    "language_info": {
      "codemirror_mode": {
        "name": "ipython",
        "version": 3
      },
      "file_extension": ".py",
      "mimetype": "text/x-python",
      "name": "python",
      "nbconvert_exporter": "python",
      "pygments_lexer": "ipython3",
      "version": "3.9.7"
    }
  },
  "nbformat": 4,
  "nbformat_minor": 0
}