{
 "cells": [
  {
   "cell_type": "code",
   "execution_count": 261,
   "metadata": {},
   "outputs": [],
   "source": [
    "import os\n",
    "import numpy as np\n",
    "import pandas as pd\n",
    "import matplotlib.pyplot as plt\n",
    "from sklearn.model_selection import GridSearchCV, train_test_split\n",
    "from sklearn.preprocessing import StandardScaler, MinMaxScaler, RobustScaler\n",
    "import torch\n",
    "import torch.nn as nn\n",
    "import torch.optim as optim\n",
    "from torch.utils.data import DataLoader, TensorDataset\n",
    "from sklearn.base import BaseEstimator, RegressorMixin\n",
    "from sklearn.metrics import mean_squared_error\n",
    "\n"
   ]
  },
  {
   "cell_type": "code",
   "execution_count": 262,
   "metadata": {},
   "outputs": [],
   "source": [
    "device = torch.device(\"cuda\" if torch.cuda.is_available() else \"cpu\")"
   ]
  },
  {
   "cell_type": "code",
   "execution_count": 263,
   "metadata": {},
   "outputs": [],
   "source": [
    "class Encoder(nn.Module):\n",
    "    def __init__(self, input_dim, encoding_dim):\n",
    "        super(Encoder, self).__init__()\n",
    "        self.encoder = nn.Sequential(\n",
    "            nn.Linear(input_dim, 128),\n",
    "            nn.ReLU(),\n",
    "            nn.Dropout(0.2),\n",
    "            nn.Linear(128, 64),\n",
    "            nn.ReLU(),\n",
    "            nn.Dropout(0.2),\n",
    "            nn.Linear(64, encoding_dim)\n",
    "        )\n",
    "\n",
    "    def forward(self, x):\n",
    "        return self.encoder(x)\n",
    "\n",
    "class Decoder(nn.Module):\n",
    "    def __init__(self, encoding_dim, input_dim):\n",
    "        super(Decoder, self).__init__()\n",
    "        self.decoder = nn.Sequential(\n",
    "            nn.Linear(encoding_dim, 64),\n",
    "            nn.ReLU(),\n",
    "            nn.Dropout(0.2),\n",
    "            nn.Linear(64, 128),\n",
    "            nn.ReLU(),\n",
    "            nn.Dropout(0.2),\n",
    "            nn.Linear(128, input_dim)\n",
    "        )\n",
    "\n",
    "    def forward(self, x):\n",
    "        return self.decoder(x)\n",
    "    \n",
    "class Autoencoder(nn.Module):\n",
    "    def __init__(self, encoder, decoder):\n",
    "        super(Autoencoder, self).__init__()\n",
    "        self.encoder = encoder\n",
    "        self.decoder = decoder\n",
    "\n",
    "    def forward(self, x):\n",
    "        encoded = self.encoder(x)\n",
    "        decoded = self.decoder(encoded)\n",
    "        return decoded"
   ]
  },
  {
   "cell_type": "code",
   "execution_count": 264,
   "metadata": {},
   "outputs": [],
   "source": [
    "class ComplexLSTMModel(nn.Module):\n",
    "    def __init__(self, input_size, hidden_size, num_layers, dropout_rate):\n",
    "        super(ComplexLSTMModel, self).__init__()\n",
    "        # LSTM Layer: Bidirectional for richer context\n",
    "        self.lstm = nn.LSTM(input_size, hidden_size, num_layers, \n",
    "                            batch_first=True, dropout=dropout_rate, \n",
    "                            bidirectional=True)\n",
    "        # Fully connected layers for added complexity\n",
    "        self.fc1 = nn.Linear(hidden_size * 2, hidden_size)  # Bidirectional LSTM doubles hidden size\n",
    "        self.dropout1 = nn.Dropout(dropout_rate)\n",
    "        self.fc2 = nn.Linear(hidden_size, hidden_size // 2)\n",
    "        self.dropout2 = nn.Dropout(dropout_rate)\n",
    "        self.fc3 = nn.Linear(hidden_size // 2, 1)\n",
    "\n",
    "    def forward(self, x):\n",
    "        # LSTM expects input of shape (batch_size, sequence_length, input_size)\n",
    "        out, _ = self.lstm(x)\n",
    "        # Use the output of the last time step\n",
    "        out = out[:, -1, :]  # Shape: (batch_size, hidden_size * 2)\n",
    "        out = self.fc1(out)  # First fully connected layer\n",
    "        out = self.dropout1(out)\n",
    "        out = torch.relu(out)  # Nonlinear activation\n",
    "        out = self.fc2(out)  # Second fully connected layer\n",
    "        out = self.dropout2(out)\n",
    "        out = torch.relu(out)  # Nonlinear activation\n",
    "        out = self.fc3(out)  # Output layer\n",
    "        return out"
   ]
  },
  {
   "cell_type": "code",
   "execution_count": 265,
   "metadata": {},
   "outputs": [],
   "source": [
    "def create_sequences(data, target, seq_length):\n",
    "    X_seq, y_seq = [], []\n",
    "    for i in range(len(data) - seq_length):\n",
    "        X_seq.append(data[i:i + seq_length])\n",
    "        y_seq.append(target[i + seq_length])\n",
    "    return np.array(X_seq), np.array(y_seq)\n",
    "\n",
    "sequence_length = 25"
   ]
  },
  {
   "cell_type": "code",
   "execution_count": 266,
   "metadata": {},
   "outputs": [
    {
     "data": {
      "text/plain": [
       "(8020, 11)"
      ]
     },
     "execution_count": 266,
     "metadata": {},
     "output_type": "execute_result"
    }
   ],
   "source": [
    "df = pd.read_csv('SPY.csv')\n",
    "df.shape"
   ]
  },
  {
   "cell_type": "markdown",
   "metadata": {},
   "source": [
    "<span style=\"color: yellow; font-size: 40px;\">Original LSTM</span>"
   ]
  },
  {
   "cell_type": "code",
   "execution_count": 267,
   "metadata": {},
   "outputs": [
    {
     "name": "stdout",
     "output_type": "stream",
     "text": [
      "Earliest Date: 1993-01-29 00:00:00\n",
      "Latest Date: 2024-12-04 00:00:00\n"
     ]
    }
   ],
   "source": [
    "# Convert the \"Date\" column to datetime\n",
    "df[\"Date\"] = pd.to_datetime(df[\"Date\"], format='%Y/%m/%d')\n",
    "\n",
    "# Sort the data by date in ascending order\n",
    "df = df.sort_values(by=\"Date\")\n",
    "\n",
    "# Get the earliest and latest dates\n",
    "earliest_date = df[\"Date\"].min()\n",
    "latest_date = df[\"Date\"].max()\n",
    "\n",
    "print(\"Earliest Date:\", earliest_date)\n",
    "print(\"Latest Date:\", latest_date)"
   ]
  },
  {
   "cell_type": "code",
   "execution_count": 268,
   "metadata": {},
   "outputs": [],
   "source": [
    "if \"Target\" not in df.columns:\n",
    "    # df[\"Target\"] = (df[\"Close\"].shift(-1) > df[\"Close\"]).astype(int)\n",
    "    df[\"Target\"] = df[\"Close\"].shift(-1)\n",
    "\n",
    "df = df.dropna()\n"
   ]
  },
  {
   "cell_type": "code",
   "execution_count": 269,
   "metadata": {},
   "outputs": [],
   "source": [
    "dates = df[\"Date\"]\n",
    "X = df.drop(columns=[\"Date\", \"Target\"])\n",
    "y = df[\"Target\"]"
   ]
  },
  {
   "cell_type": "code",
   "execution_count": 270,
   "metadata": {},
   "outputs": [],
   "source": [
    "feature_columns = [\"Open\", \"High\", \"Low\", \"Close\", \"Volume\"]  \n",
    "\n",
    "scaler = RobustScaler()\n",
    "X_scaled = pd.DataFrame(scaler.fit_transform(X[feature_columns]), columns=feature_columns, index=X.index)\n",
    "\n",
    "X_seq, y_seq = create_sequences(X_scaled, y.values, sequence_length)\n",
    "\n",
    "# Split data\n",
    "X_train, X_temp, y_train, y_temp = train_test_split(X_seq, y_seq, test_size=0.2, random_state=42)\n",
    "X_val, X_test, y_val, y_test = train_test_split(X_temp, y_temp, test_size=0.5, random_state=42)"
   ]
  },
  {
   "cell_type": "code",
   "execution_count": 271,
   "metadata": {},
   "outputs": [],
   "source": [
    "\n",
    "# Convert to PyTorch tensors\n",
    "X_train_tensor = torch.tensor(X_train, dtype=torch.float32)\n",
    "y_train_tensor = torch.tensor(y_train, dtype=torch.float32)\n",
    "X_val_tensor = torch.tensor(X_val, dtype=torch.float32)\n",
    "y_val_tensor = torch.tensor(y_val, dtype=torch.float32)\n",
    "X_test_tensor = torch.tensor(X_test, dtype=torch.float32)\n",
    "y_test_tensor = torch.tensor(y_test, dtype=torch.float32)\n",
    "\n",
    "# Create DataLoaders\n",
    "train_dataset = TensorDataset(X_train_tensor, y_train_tensor)\n",
    "val_dataset = TensorDataset(X_val_tensor, y_val_tensor)\n",
    "test_dataset = TensorDataset(X_test_tensor, y_test_tensor)\n",
    "\n",
    "train_loader = DataLoader(train_dataset, batch_size=32, shuffle=True)\n",
    "val_loader = DataLoader(val_dataset, batch_size=32, shuffle=False)\n",
    "test_loader = DataLoader(test_dataset, batch_size=32, shuffle=False)\n"
   ]
  },
  {
   "cell_type": "code",
   "execution_count": 272,
   "metadata": {},
   "outputs": [
    {
     "name": "stderr",
     "output_type": "stream",
     "text": [
      "C:\\Users\\ROG\\AppData\\Local\\Temp/ipykernel_12348/1133383987.py:16: FutureWarning: You are using `torch.load` with `weights_only=False` (the current default value), which uses the default pickle module implicitly. It is possible to construct malicious pickle data which will execute arbitrary code during unpickling (See https://github.com/pytorch/pytorch/blob/main/SECURITY.md#untrusted-models for more details). In a future release, the default value for `weights_only` will be flipped to `True`. This limits the functions that could be executed during unpickling. Arbitrary objects will no longer be allowed to be loaded via this mode unless they are explicitly allowlisted by the user via `torch.serialization.add_safe_globals`. We recommend you start setting `weights_only=True` for any use case where you don't have full control of the loaded file. Please open an issue on GitHub for any issues related to this experimental feature.\n",
      "  original_lstm.load_state_dict(torch.load(LSTM_model_file))\n"
     ]
    }
   ],
   "source": [
    "# Hyperparameters\n",
    "input_size = X_train.shape[2]  # Number of features\n",
    "hidden_size = 32\n",
    "num_layers = 2\n",
    "dropout_rate = 0.3\n",
    "learning_rate = 0.01\n",
    "num_epochs = 100\n",
    "patience = 10\n",
    "\n",
    "# Initialize the LSTM model\n",
    "# model = LSTMModel(input_size=input_size, hidden_size=hidden_size, num_layers=num_layers, dropout_rate=dropout_rate)\n",
    "original_lstm = ComplexLSTMModel(input_size=input_size, hidden_size=hidden_size, num_layers=num_layers, dropout_rate=dropout_rate)\n",
    "\n",
    "LSTM_model_file = './models/best_lstm_model.pth'\n",
    "\n",
    "original_lstm.load_state_dict(torch.load(LSTM_model_file))\n",
    "\n",
    "# criterion = nn.MSELoss()\n",
    "\n",
    "# original_lstm.eval()\n",
    "# test_loss = 0.0\n",
    "# with torch.no_grad():\n",
    "#     for X_batch, y_batch in test_loader:\n",
    "#         outputs = original_lstm(X_batch)\n",
    "#         loss = criterion(outputs, y_batch)\n",
    "#         test_loss += loss.item() * X_batch.size(0)\n",
    "\n",
    "# test_loss /= len(test_loader.dataset)\n",
    "# print(f'Test Loss: {test_loss:.4f}')\n",
    "\n",
    "# # Calculate Mean Absolute Error (MAE)\n",
    "# test_mae = 0.0\n",
    "# with torch.no_grad():\n",
    "#     for X_batch, y_batch in test_loader:\n",
    "#         outputs = original_lstm(X_batch)\n",
    "#         mae = torch.mean(torch.abs(outputs - y_batch))\n",
    "#         test_mae += mae.item() * X_batch.size(0)\n",
    "\n",
    "# test_mae /= len(test_loader.dataset)\n",
    "# print(f'Test MAE: {test_mae:.4f}')\n",
    "\n",
    "original_lstm.eval()\n",
    "\n",
    "X_seq_tensor = torch.tensor(X_seq, dtype=torch.float32)\n",
    "y_seq_tensor = torch.tensor(y_seq, dtype=torch.float32)\n",
    "outputs = original_lstm(X_seq_tensor)\n",
    "\n"
   ]
  },
  {
   "cell_type": "code",
   "execution_count": 273,
   "metadata": {},
   "outputs": [
    {
     "name": "stdout",
     "output_type": "stream",
     "text": [
      "Average error percentage: 5.263708159327507\n",
      "Largest error percentage: 27.914804220199585\n",
      "Less than actual: 2704\n",
      "More than actual: 5290\n"
     ]
    }
   ],
   "source": [
    "error = 0\n",
    "largest_error = 0\n",
    "less_than_actual = 0\n",
    "more_than_actual = 0\n",
    "\n",
    "for true, pred in zip(y_seq, outputs):\n",
    "    percent = abs(true - pred) / true\n",
    "    if percent > largest_error:\n",
    "        largest_error = percent\n",
    "    error += percent\n",
    "    if pred < true:\n",
    "        less_than_actual += 1\n",
    "    else:\n",
    "        more_than_actual += 1\n",
    "error = error / len(y_seq)\n",
    "error = error.item()\n",
    "largest_error = largest_error.item()\n",
    "print(f\"Average error percentage: {error*100}\")\n",
    "print(f\"Largest error percentage: {largest_error*100}\")\n",
    "print(f\"Less than actual: {less_than_actual}\")\n",
    "print(f\"More than actual: {more_than_actual}\")\n"
   ]
  },
  {
   "cell_type": "code",
   "execution_count": 274,
   "metadata": {},
   "outputs": [
    {
     "data": {
      "image/png": "[encoded data removed]",
      "text/plain": [
       "<Figure size 864x432 with 1 Axes>"
      ]
     },
     "metadata": {
      "needs_background": "light"
     },
     "output_type": "display_data"
    }
   ],
   "source": [
    "plt.figure(figsize=(12, 6))\n",
    "plt.plot(y_seq, label='True Values')\n",
    "plt.plot(outputs.detach().numpy(), label='Predicted Values')\n",
    "plt.xlabel('Time')\n",
    "plt.ylabel('Value')\n",
    "plt.title('True vs Predicted Values')\n",
    "plt.legend()\n",
    "plt.show()"
   ]
  },
  {
   "cell_type": "markdown",
   "metadata": {},
   "source": [
    "<span style=\"color: yellow; font-size: 40px;\">Autoencoder</span>"
   ]
  },
  {
   "cell_type": "code",
   "execution_count": 275,
   "metadata": {},
   "outputs": [],
   "source": [
    "X = df\n",
    "\n",
    "scaler = StandardScaler()\n",
    "X_scaled = pd.DataFrame(scaler.fit_transform(X[feature_columns]), columns=feature_columns, index=X.index)"
   ]
  },
  {
   "cell_type": "code",
   "execution_count": 276,
   "metadata": {},
   "outputs": [],
   "source": [
    "X_train_val, X_test = train_test_split(X_scaled, test_size=0.2, random_state=42)\n",
    "X_train, X_val = train_test_split(X_train_val, test_size=0.25, random_state=42)"
   ]
  },
  {
   "cell_type": "code",
   "execution_count": 277,
   "metadata": {},
   "outputs": [],
   "source": [
    "X_train = X_train.values\n",
    "X_val = X_val.values\n",
    "X_test = X_test.values\n",
    "X_scaled = X_scaled.values"
   ]
  },
  {
   "cell_type": "code",
   "execution_count": 278,
   "metadata": {},
   "outputs": [],
   "source": [
    "input_dim = X_train.shape[1]\n",
    "encoding_dim = 8"
   ]
  },
  {
   "cell_type": "code",
   "execution_count": 279,
   "metadata": {},
   "outputs": [],
   "source": [
    "encoder_model_file = './models/encoder.pth'\n",
    "decoder_model_file = './models/decoder.pth'"
   ]
  },
  {
   "cell_type": "code",
   "execution_count": 280,
   "metadata": {},
   "outputs": [
    {
     "name": "stdout",
     "output_type": "stream",
     "text": [
      "Loading existing models...\n"
     ]
    },
    {
     "name": "stderr",
     "output_type": "stream",
     "text": [
      "C:\\Users\\ROG\\AppData\\Local\\Temp/ipykernel_12348/3102932148.py:5: FutureWarning: You are using `torch.load` with `weights_only=False` (the current default value), which uses the default pickle module implicitly. It is possible to construct malicious pickle data which will execute arbitrary code during unpickling (See https://github.com/pytorch/pytorch/blob/main/SECURITY.md#untrusted-models for more details). In a future release, the default value for `weights_only` will be flipped to `True`. This limits the functions that could be executed during unpickling. Arbitrary objects will no longer be allowed to be loaded via this mode unless they are explicitly allowlisted by the user via `torch.serialization.add_safe_globals`. We recommend you start setting `weights_only=True` for any use case where you don't have full control of the loaded file. Please open an issue on GitHub for any issues related to this experimental feature.\n",
      "  encoder.load_state_dict(torch.load(encoder_model_file))\n",
      "C:\\Users\\ROG\\AppData\\Local\\Temp/ipykernel_12348/3102932148.py:6: FutureWarning: You are using `torch.load` with `weights_only=False` (the current default value), which uses the default pickle module implicitly. It is possible to construct malicious pickle data which will execute arbitrary code during unpickling (See https://github.com/pytorch/pytorch/blob/main/SECURITY.md#untrusted-models for more details). In a future release, the default value for `weights_only` will be flipped to `True`. This limits the functions that could be executed during unpickling. Arbitrary objects will no longer be allowed to be loaded via this mode unless they are explicitly allowlisted by the user via `torch.serialization.add_safe_globals`. We recommend you start setting `weights_only=True` for any use case where you don't have full control of the loaded file. Please open an issue on GitHub for any issues related to this experimental feature.\n",
      "  decoder.load_state_dict(torch.load(decoder_model_file))\n"
     ]
    }
   ],
   "source": [
    "if os.path.exists(encoder_model_file) and os.path.exists(decoder_model_file):\n",
    "    print(\"Loading existing models...\")\n",
    "    encoder = Encoder(input_dim, encoding_dim).to(device)\n",
    "    decoder = Decoder(encoding_dim, input_dim).to(device)\n",
    "    encoder.load_state_dict(torch.load(encoder_model_file))\n",
    "    decoder.load_state_dict(torch.load(decoder_model_file))\n",
    "else:\n",
    "    print(\"Some models are missing\")\n",
    "    "
   ]
  },
  {
   "cell_type": "code",
   "execution_count": 281,
   "metadata": {},
   "outputs": [
    {
     "data": {
      "text/plain": [
       "Autoencoder(\n",
       "  (encoder): Encoder(\n",
       "    (encoder): Sequential(\n",
       "      (0): Linear(in_features=5, out_features=128, bias=True)\n",
       "      (1): ReLU()\n",
       "      (2): Dropout(p=0.2, inplace=False)\n",
       "      (3): Linear(in_features=128, out_features=64, bias=True)\n",
       "      (4): ReLU()\n",
       "      (5): Dropout(p=0.2, inplace=False)\n",
       "      (6): Linear(in_features=64, out_features=8, bias=True)\n",
       "    )\n",
       "  )\n",
       "  (decoder): Decoder(\n",
       "    (decoder): Sequential(\n",
       "      (0): Linear(in_features=8, out_features=64, bias=True)\n",
       "      (1): ReLU()\n",
       "      (2): Dropout(p=0.2, inplace=False)\n",
       "      (3): Linear(in_features=64, out_features=128, bias=True)\n",
       "      (4): ReLU()\n",
       "      (5): Dropout(p=0.2, inplace=False)\n",
       "      (6): Linear(in_features=128, out_features=5, bias=True)\n",
       "    )\n",
       "  )\n",
       ")"
      ]
     },
     "execution_count": 281,
     "metadata": {},
     "output_type": "execute_result"
    }
   ],
   "source": [
    "autoencoder = Autoencoder(encoder, decoder).to(device)\n",
    "autoencoder.eval()"
   ]
  },
  {
   "cell_type": "code",
   "execution_count": 282,
   "metadata": {},
   "outputs": [
    {
     "name": "stdout",
     "output_type": "stream",
     "text": [
      "Mean Squared Error (MSE): 0.000393898925208361\n",
      "Mean Absolute Error (MAE): 0.013584979295197346\n",
      "Reconstruction Error Percentage: 7.316429470988849\n"
     ]
    }
   ],
   "source": [
    "# Calculate reconstruction error on the train set\n",
    "with torch.no_grad():\n",
    "    reconstructed_test = autoencoder(torch.tensor(X_scaled, dtype=torch.float32).to(device)).cpu().numpy()\n",
    "\n",
    "# Calculate Mean Squared Error (MSE)\n",
    "mse = np.mean((X_scaled - reconstructed_test) ** 2)\n",
    "print(f'Mean Squared Error (MSE): {mse}')\n",
    "\n",
    "# Calculate Mean Absolute Error (MAE)\n",
    "mae = np.mean(np.abs(X_scaled - reconstructed_test))\n",
    "print(f'Mean Absolute Error (MAE): {mae}')\n",
    "\n",
    "reconstruction_error_percentage = (\n",
    "    np.mean(np.abs(X_scaled - reconstructed_test) / (np.abs(X_scaled) + 1e-8), axis=1) * 100\n",
    ")\n",
    "reconstruction_error_percentage_mean = np.mean(reconstruction_error_percentage)\n",
    "print(f'Reconstruction Error Percentage: {reconstruction_error_percentage_mean}')\n",
    "\n",
    "def calculate_index_error_percentage(index, X, reconstructed_X):\n",
    "    print(np.mean(np.abs(X[index] - reconstructed_X[index]) / (np.abs(X[index]) + 1e-8)) * 100)"
   ]
  },
  {
   "cell_type": "code",
   "execution_count": 283,
   "metadata": {},
   "outputs": [
    {
     "name": "stdout",
     "output_type": "stream",
     "text": [
      "Number of data points with reconstruction error percentage greater than the mean: 989\n"
     ]
    }
   ],
   "source": [
    "print(\"Number of data points with reconstruction error percentage greater than the mean:\", np.sum(reconstruction_error_percentage > reconstruction_error_percentage_mean))"
   ]
  },
  {
   "cell_type": "markdown",
   "metadata": {},
   "source": [
    "<span style=\"color: yellow; font-size: 40px;\">Improving the LSTM using the autoencoder</span>"
   ]
  },
  {
   "cell_type": "code",
   "execution_count": 284,
   "metadata": {},
   "outputs": [],
   "source": [
    "import torch.nn.functional as F"
   ]
  },
  {
   "cell_type": "code",
   "execution_count": 285,
   "metadata": {},
   "outputs": [
    {
     "data": {
      "text/plain": [
       "(7994, 1)"
      ]
     },
     "execution_count": 285,
     "metadata": {},
     "output_type": "execute_result"
    }
   ],
   "source": [
    "# Ensure outputs is detached from the computation graph and converted to numpy\n",
    "predicted_values = outputs.detach().numpy()\n",
    "\n",
    "predicted_values.shape"
   ]
  },
  {
   "cell_type": "code",
   "execution_count": 286,
   "metadata": {},
   "outputs": [],
   "source": [
    "# df['predictions'] = np.nan\n",
    "\n",
    "# # Assign the predicted values starting at index 24\n",
    "# df.loc[25:, 'predictions'] = predicted_values"
   ]
  },
  {
   "cell_type": "code",
   "execution_count": 287,
   "metadata": {},
   "outputs": [],
   "source": [
    "# convert reconstruction percentage to a separate dataframe\n",
    "new_df = pd.DataFrame(reconstruction_error_percentage, columns=['reconstruction_error_percentage'], index=df.index)"
   ]
  },
  {
   "cell_type": "code",
   "execution_count": 288,
   "metadata": {},
   "outputs": [],
   "source": [
    "new_df['target'] = df['Target']\n",
    "\n",
    "new_df['predictions'] = np.nan\n",
    "new_df.loc[25:, 'predictions'] = predicted_values"
   ]
  },
  {
   "cell_type": "code",
   "execution_count": 289,
   "metadata": {},
   "outputs": [],
   "source": [
    "new_df = new_df.dropna()"
   ]
  },
  {
   "cell_type": "code",
   "execution_count": 290,
   "metadata": {},
   "outputs": [],
   "source": [
    "new_df['bias'] = new_df['target'] - new_df['predictions']"
   ]
  },
  {
   "cell_type": "code",
   "execution_count": 291,
   "metadata": {},
   "outputs": [],
   "source": [
    "class BiasPredictor(nn.Module):\n",
    "    def __init__(self):\n",
    "        super(BiasPredictor, self).__init__()\n",
    "        self.fc1 = nn.Linear(1, 256)\n",
    "        self.dropout1 = nn.Dropout(0.3)\n",
    "        \n",
    "        self.fc2 = nn.Linear(256, 128)\n",
    "        self.dropout2 = nn.Dropout(0.3)\n",
    "        \n",
    "        self.fc3 = nn.Linear(128, 64)\n",
    "        self.dropout3 = nn.Dropout(0.3)\n",
    "        \n",
    "        self.fc4 = nn.Linear(64, 32)\n",
    "        self.dropout4 = nn.Dropout(0.3)\n",
    "        \n",
    "        self.fc5 = nn.Linear(32, 16)\n",
    "        self.fc6 = nn.Linear(16, 8)\n",
    "        self.fc7 = nn.Linear(8, 1)\n",
    "\n",
    "    def forward(self, x):\n",
    "        x = F.relu(self.fc1(x))\n",
    "        x = self.dropout1(x)\n",
    "        \n",
    "        x = F.relu(self.fc2(x))\n",
    "        x = self.dropout2(x)\n",
    "        \n",
    "        x = F.relu(self.fc3(x))\n",
    "        x = self.dropout3(x)\n",
    "        \n",
    "        x = F.relu(self.fc4(x))\n",
    "        x = self.dropout4(x)\n",
    "        \n",
    "        x = F.relu(self.fc5(x))\n",
    "        x = F.relu(self.fc6(x))\n",
    "        return self.fc7(x)"
   ]
  },
  {
   "cell_type": "code",
   "execution_count": 292,
   "metadata": {},
   "outputs": [],
   "source": [
    "def train_bias_predictor(features, target_bias, val_features, val_target_bias, epochs=1000, learning_rate=0.0001, patience=10):\n",
    "    model = BiasPredictor().to(device)\n",
    "    optimizer = optim.Adam(model.parameters(), lr=learning_rate)\n",
    "    criterion = nn.MSELoss()\n",
    "\n",
    "    best_val_loss = float('inf')  # Initialize the best validation loss\n",
    "    patience_counter = 0  # Counter for early stopping\n",
    "    best_model_state = None\n",
    "\n",
    "    for epoch in range(epochs):\n",
    "        # Training phase\n",
    "        model.train()\n",
    "        optimizer.zero_grad()\n",
    "        predictions = model(features).squeeze()\n",
    "        loss = criterion(predictions, target_bias)\n",
    "        loss.backward()\n",
    "        optimizer.step()\n",
    "\n",
    "        # Validation phase\n",
    "        model.eval()\n",
    "        with torch.no_grad():\n",
    "            val_predictions = model(val_features).squeeze()\n",
    "            val_loss = criterion(val_predictions, val_target_bias)\n",
    "\n",
    "        # Early stopping check\n",
    "        if val_loss < best_val_loss:\n",
    "            best_val_loss = val_loss\n",
    "            patience_counter = 0\n",
    "            best_model_state = model.state_dict()  # Save the best model state\n",
    "        else:\n",
    "            patience_counter += 1\n",
    "\n",
    "        # Print progress\n",
    "        if (epoch + 1) % 50 == 0:\n",
    "            print(f\"Epoch {epoch+1}/{epochs}, Loss: {loss.item():.4f}, Val Loss: {val_loss.item():.4f}\")\n",
    "\n",
    "        # Stop training if patience is exceeded\n",
    "        if patience_counter >= patience:\n",
    "            print(f\"Early stopping triggered at epoch {epoch+1}. Best Val Loss: {best_val_loss:.4f}\")\n",
    "            break\n",
    "\n",
    "    # Load the best model state before returning\n",
    "    if best_model_state is not None:\n",
    "        model.load_state_dict(best_model_state)\n",
    "\n",
    "    return model"
   ]
  },
  {
   "cell_type": "code",
   "execution_count": 293,
   "metadata": {},
   "outputs": [],
   "source": [
    "# X = new_df['reconstruction_error_percentage'].values.reshape(-1, 1)\n",
    "X = new_df\n",
    "y = new_df['bias'].values\n",
    "\n",
    "# train val test split\n",
    "X_train_val, X_test, y_train_val, y_test = train_test_split(X, y, test_size=0.2, random_state=42)\n",
    "X_train, X_val, y_train, y_val = train_test_split(X_train_val, y_train_val, test_size=0.25, random_state=42)"
   ]
  },
  {
   "cell_type": "code",
   "execution_count": 294,
   "metadata": {},
   "outputs": [
    {
     "name": "stderr",
     "output_type": "stream",
     "text": [
      "C:\\Users\\ROG\\AppData\\Local\\Temp/ipykernel_12348/2873719968.py:14: FutureWarning: You are using `torch.load` with `weights_only=False` (the current default value), which uses the default pickle module implicitly. It is possible to construct malicious pickle data which will execute arbitrary code during unpickling (See https://github.com/pytorch/pytorch/blob/main/SECURITY.md#untrusted-models for more details). In a future release, the default value for `weights_only` will be flipped to `True`. This limits the functions that could be executed during unpickling. Arbitrary objects will no longer be allowed to be loaded via this mode unless they are explicitly allowlisted by the user via `torch.serialization.add_safe_globals`. We recommend you start setting `weights_only=True` for any use case where you don't have full control of the loaded file. Please open an issue on GitHub for any issues related to this experimental feature.\n",
      "  bias_predictor.load_state_dict(torch.load(bias_predictor_path))\n"
     ]
    }
   ],
   "source": [
    "bias_predictor_path = './models/bias_predictor.pth'\n",
    "\n",
    "# X_train X_val and X_test are the dataframes that contains other columns. In the actual training process we just \n",
    "# want to use the reconstruction error percentage column, hence we will extract that column and convert it to a tensor\n",
    "\n",
    "if not os.path.exists(bias_predictor_path):\n",
    "    bias_predictor = train_bias_predictor(torch.tensor(X_train['reconstruction_error_percentage'].values.reshape(-1,1), dtype=torch.float32).to(device), \n",
    "                                          torch.tensor(y_train, dtype=torch.float32).to(device),\n",
    "                                          torch.tensor(X_val['reconstruction_error_percentage'].values.reshape(-1,1), dtype=torch.float32).to(device),\n",
    "                                          torch.tensor(y_val, dtype=torch.float32).to(device),\n",
    "                                          epochs=1000, learning_rate=0.0001, patience=30)\n",
    "else:\n",
    "    bias_predictor = BiasPredictor().to(device)\n",
    "    bias_predictor.load_state_dict(torch.load(bias_predictor_path))"
   ]
  },
  {
   "cell_type": "code",
   "execution_count": 295,
   "metadata": {},
   "outputs": [],
   "source": [
    "new_df['prediction_error_percentage'] = np.nan\n",
    "new_df['prediction_error_percentage'] = (abs(new_df['bias']) / new_df['target']) * 100"
   ]
  },
  {
   "cell_type": "code",
   "execution_count": 296,
   "metadata": {},
   "outputs": [],
   "source": [
    "features = torch.tensor(X_test['reconstruction_error_percentage'].values.reshape(-1,1), dtype=torch.float32).to(device)\n",
    "predictions = bias_predictor(features).squeeze().cpu().detach().numpy()\n",
    "# get a dataframe with predictions and y_test\n",
    "predictions_df = pd.DataFrame({'predictions': predictions, 'target': y_test})"
   ]
  },
  {
   "cell_type": "code",
   "execution_count": 297,
   "metadata": {},
   "outputs": [
    {
     "data": {
      "text/html": [
       "<div>\n",
       "<style scoped>\n",
       "    .dataframe tbody tr th:only-of-type {\n",
       "        vertical-align: middle;\n",
       "    }\n",
       "\n",
       "    .dataframe tbody tr th {\n",
       "        vertical-align: top;\n",
       "    }\n",
       "\n",
       "    .dataframe thead th {\n",
       "        text-align: right;\n",
       "    }\n",
       "</style>\n",
       "<table border=\"1\" class=\"dataframe\">\n",
       "  <thead>\n",
       "    <tr style=\"text-align: right;\">\n",
       "      <th></th>\n",
       "      <th>reconstruction_error_percentage</th>\n",
       "      <th>target</th>\n",
       "      <th>predictions</th>\n",
       "      <th>bias</th>\n",
       "      <th>prediction_error_percentage</th>\n",
       "    </tr>\n",
       "  </thead>\n",
       "  <tbody>\n",
       "    <tr>\n",
       "      <th>25</th>\n",
       "      <td>0.896283</td>\n",
       "      <td>25.536263</td>\n",
       "      <td>30.189331</td>\n",
       "      <td>-4.653069</td>\n",
       "      <td>18.221416</td>\n",
       "    </tr>\n",
       "    <tr>\n",
       "      <th>26</th>\n",
       "      <td>0.884764</td>\n",
       "      <td>25.588764</td>\n",
       "      <td>30.200800</td>\n",
       "      <td>-4.612036</td>\n",
       "      <td>18.023675</td>\n",
       "    </tr>\n",
       "    <tr>\n",
       "      <th>27</th>\n",
       "      <td>0.886637</td>\n",
       "      <td>25.518764</td>\n",
       "      <td>30.212198</td>\n",
       "      <td>-4.693434</td>\n",
       "      <td>18.392089</td>\n",
       "    </tr>\n",
       "    <tr>\n",
       "      <th>28</th>\n",
       "      <td>0.884935</td>\n",
       "      <td>25.256208</td>\n",
       "      <td>30.215326</td>\n",
       "      <td>-4.959118</td>\n",
       "      <td>19.635243</td>\n",
       "    </tr>\n",
       "    <tr>\n",
       "      <th>29</th>\n",
       "      <td>0.888870</td>\n",
       "      <td>25.378731</td>\n",
       "      <td>30.219229</td>\n",
       "      <td>-4.840498</td>\n",
       "      <td>19.073050</td>\n",
       "    </tr>\n",
       "    <tr>\n",
       "      <th>...</th>\n",
       "      <td>...</td>\n",
       "      <td>...</td>\n",
       "      <td>...</td>\n",
       "      <td>...</td>\n",
       "      <td>...</td>\n",
       "    </tr>\n",
       "    <tr>\n",
       "      <th>8014</th>\n",
       "      <td>3.770355</td>\n",
       "      <td>598.830017</td>\n",
       "      <td>602.812317</td>\n",
       "      <td>-3.982300</td>\n",
       "      <td>0.665013</td>\n",
       "    </tr>\n",
       "    <tr>\n",
       "      <th>8015</th>\n",
       "      <td>1.781509</td>\n",
       "      <td>602.549988</td>\n",
       "      <td>602.799622</td>\n",
       "      <td>-0.249634</td>\n",
       "      <td>0.041430</td>\n",
       "    </tr>\n",
       "    <tr>\n",
       "      <th>8016</th>\n",
       "      <td>1.437670</td>\n",
       "      <td>603.630005</td>\n",
       "      <td>603.611267</td>\n",
       "      <td>0.018738</td>\n",
       "      <td>0.003104</td>\n",
       "    </tr>\n",
       "    <tr>\n",
       "      <th>8017</th>\n",
       "      <td>1.594694</td>\n",
       "      <td>603.909973</td>\n",
       "      <td>604.112671</td>\n",
       "      <td>-0.202698</td>\n",
       "      <td>0.033564</td>\n",
       "    </tr>\n",
       "    <tr>\n",
       "      <th>8018</th>\n",
       "      <td>1.240919</td>\n",
       "      <td>607.659973</td>\n",
       "      <td>604.427124</td>\n",
       "      <td>3.232849</td>\n",
       "      <td>0.532016</td>\n",
       "    </tr>\n",
       "  </tbody>\n",
       "</table>\n",
       "<p>7994 rows × 5 columns</p>\n",
       "</div>"
      ],
      "text/plain": [
       "      reconstruction_error_percentage      target  predictions      bias  \\\n",
       "25                           0.896283   25.536263    30.189331 -4.653069   \n",
       "26                           0.884764   25.588764    30.200800 -4.612036   \n",
       "27                           0.886637   25.518764    30.212198 -4.693434   \n",
       "28                           0.884935   25.256208    30.215326 -4.959118   \n",
       "29                           0.888870   25.378731    30.219229 -4.840498   \n",
       "...                               ...         ...          ...       ...   \n",
       "8014                         3.770355  598.830017   602.812317 -3.982300   \n",
       "8015                         1.781509  602.549988   602.799622 -0.249634   \n",
       "8016                         1.437670  603.630005   603.611267  0.018738   \n",
       "8017                         1.594694  603.909973   604.112671 -0.202698   \n",
       "8018                         1.240919  607.659973   604.427124  3.232849   \n",
       "\n",
       "      prediction_error_percentage  \n",
       "25                      18.221416  \n",
       "26                      18.023675  \n",
       "27                      18.392089  \n",
       "28                      19.635243  \n",
       "29                      19.073050  \n",
       "...                           ...  \n",
       "8014                     0.665013  \n",
       "8015                     0.041430  \n",
       "8016                     0.003104  \n",
       "8017                     0.033564  \n",
       "8018                     0.532016  \n",
       "\n",
       "[7994 rows x 5 columns]"
      ]
     },
     "execution_count": 297,
     "metadata": {},
     "output_type": "execute_result"
    }
   ],
   "source": [
    "new_df"
   ]
  },
  {
   "cell_type": "code",
   "execution_count": 298,
   "metadata": {},
   "outputs": [],
   "source": [
    "X_test['predicted_bias'] = np.nan\n",
    "X_test['predicted_bias'] = predictions"
   ]
  },
  {
   "cell_type": "code",
   "execution_count": 299,
   "metadata": {},
   "outputs": [
    {
     "data": {
      "text/html": [
       "<div>\n",
       "<style scoped>\n",
       "    .dataframe tbody tr th:only-of-type {\n",
       "        vertical-align: middle;\n",
       "    }\n",
       "\n",
       "    .dataframe tbody tr th {\n",
       "        vertical-align: top;\n",
       "    }\n",
       "\n",
       "    .dataframe thead th {\n",
       "        text-align: right;\n",
       "    }\n",
       "</style>\n",
       "<table border=\"1\" class=\"dataframe\">\n",
       "  <thead>\n",
       "    <tr style=\"text-align: right;\">\n",
       "      <th></th>\n",
       "      <th>reconstruction_error_percentage</th>\n",
       "      <th>target</th>\n",
       "      <th>predictions</th>\n",
       "      <th>bias</th>\n",
       "      <th>predicted_bias</th>\n",
       "    </tr>\n",
       "  </thead>\n",
       "  <tbody>\n",
       "    <tr>\n",
       "      <th>5512</th>\n",
       "      <td>13.543988</td>\n",
       "      <td>173.354996</td>\n",
       "      <td>159.807968</td>\n",
       "      <td>13.547028</td>\n",
       "      <td>-0.264023</td>\n",
       "    </tr>\n",
       "    <tr>\n",
       "      <th>2602</th>\n",
       "      <td>1.237937</td>\n",
       "      <td>64.717033</td>\n",
       "      <td>72.199799</td>\n",
       "      <td>-7.482765</td>\n",
       "      <td>-2.305479</td>\n",
       "    </tr>\n",
       "    <tr>\n",
       "      <th>3717</th>\n",
       "      <td>4.863548</td>\n",
       "      <td>109.204933</td>\n",
       "      <td>116.526817</td>\n",
       "      <td>-7.321884</td>\n",
       "      <td>-0.525501</td>\n",
       "    </tr>\n",
       "    <tr>\n",
       "      <th>5943</th>\n",
       "      <td>9.320442</td>\n",
       "      <td>190.405441</td>\n",
       "      <td>189.690338</td>\n",
       "      <td>0.715103</td>\n",
       "      <td>-0.233667</td>\n",
       "    </tr>\n",
       "    <tr>\n",
       "      <th>7586</th>\n",
       "      <td>1.417345</td>\n",
       "      <td>382.015167</td>\n",
       "      <td>381.984253</td>\n",
       "      <td>0.030914</td>\n",
       "      <td>-1.884233</td>\n",
       "    </tr>\n",
       "    <tr>\n",
       "      <th>...</th>\n",
       "      <td>...</td>\n",
       "      <td>...</td>\n",
       "      <td>...</td>\n",
       "      <td>...</td>\n",
       "      <td>...</td>\n",
       "    </tr>\n",
       "    <tr>\n",
       "      <th>1104</th>\n",
       "      <td>0.637859</td>\n",
       "      <td>55.394333</td>\n",
       "      <td>60.121960</td>\n",
       "      <td>-4.727627</td>\n",
       "      <td>-3.219310</td>\n",
       "    </tr>\n",
       "    <tr>\n",
       "      <th>6597</th>\n",
       "      <td>3.553059</td>\n",
       "      <td>266.070496</td>\n",
       "      <td>261.179352</td>\n",
       "      <td>4.891144</td>\n",
       "      <td>-0.912078</td>\n",
       "    </tr>\n",
       "    <tr>\n",
       "      <th>1140</th>\n",
       "      <td>0.670563</td>\n",
       "      <td>59.038425</td>\n",
       "      <td>62.069733</td>\n",
       "      <td>-3.031307</td>\n",
       "      <td>-3.827935</td>\n",
       "    </tr>\n",
       "    <tr>\n",
       "      <th>4772</th>\n",
       "      <td>7.391907</td>\n",
       "      <td>102.384338</td>\n",
       "      <td>106.766327</td>\n",
       "      <td>-4.381989</td>\n",
       "      <td>-0.236776</td>\n",
       "    </tr>\n",
       "    <tr>\n",
       "      <th>6757</th>\n",
       "      <td>5.201589</td>\n",
       "      <td>290.954803</td>\n",
       "      <td>280.157318</td>\n",
       "      <td>10.797485</td>\n",
       "      <td>-0.357197</td>\n",
       "    </tr>\n",
       "  </tbody>\n",
       "</table>\n",
       "<p>1599 rows × 5 columns</p>\n",
       "</div>"
      ],
      "text/plain": [
       "      reconstruction_error_percentage      target  predictions       bias  \\\n",
       "5512                        13.543988  173.354996   159.807968  13.547028   \n",
       "2602                         1.237937   64.717033    72.199799  -7.482765   \n",
       "3717                         4.863548  109.204933   116.526817  -7.321884   \n",
       "5943                         9.320442  190.405441   189.690338   0.715103   \n",
       "7586                         1.417345  382.015167   381.984253   0.030914   \n",
       "...                               ...         ...          ...        ...   \n",
       "1104                         0.637859   55.394333    60.121960  -4.727627   \n",
       "6597                         3.553059  266.070496   261.179352   4.891144   \n",
       "1140                         0.670563   59.038425    62.069733  -3.031307   \n",
       "4772                         7.391907  102.384338   106.766327  -4.381989   \n",
       "6757                         5.201589  290.954803   280.157318  10.797485   \n",
       "\n",
       "      predicted_bias  \n",
       "5512       -0.264023  \n",
       "2602       -2.305479  \n",
       "3717       -0.525501  \n",
       "5943       -0.233667  \n",
       "7586       -1.884233  \n",
       "...              ...  \n",
       "1104       -3.219310  \n",
       "6597       -0.912078  \n",
       "1140       -3.827935  \n",
       "4772       -0.236776  \n",
       "6757       -0.357197  \n",
       "\n",
       "[1599 rows x 5 columns]"
      ]
     },
     "execution_count": 299,
     "metadata": {},
     "output_type": "execute_result"
    }
   ],
   "source": [
    "X_test"
   ]
  },
  {
   "cell_type": "code",
   "execution_count": 300,
   "metadata": {},
   "outputs": [],
   "source": [
    "X_test['new_predictions'] = X_test['predictions'] + X_test['predicted_bias']"
   ]
  },
  {
   "cell_type": "code",
   "execution_count": 301,
   "metadata": {},
   "outputs": [],
   "source": [
    "X_test['original_error_percentage'] = (abs(X_test['bias']) / X_test['target']) * 100\n",
    "X_test['new_error_percentage'] = (abs(X_test['target'] - X_test['new_predictions']) / X_test['target']) * 100"
   ]
  },
  {
   "cell_type": "code",
   "execution_count": 302,
   "metadata": {},
   "outputs": [
    {
     "data": {
      "text/html": [
       "<div>\n",
       "<style scoped>\n",
       "    .dataframe tbody tr th:only-of-type {\n",
       "        vertical-align: middle;\n",
       "    }\n",
       "\n",
       "    .dataframe tbody tr th {\n",
       "        vertical-align: top;\n",
       "    }\n",
       "\n",
       "    .dataframe thead th {\n",
       "        text-align: right;\n",
       "    }\n",
       "</style>\n",
       "<table border=\"1\" class=\"dataframe\">\n",
       "  <thead>\n",
       "    <tr style=\"text-align: right;\">\n",
       "      <th></th>\n",
       "      <th>reconstruction_error_percentage</th>\n",
       "      <th>target</th>\n",
       "      <th>predictions</th>\n",
       "      <th>bias</th>\n",
       "      <th>predicted_bias</th>\n",
       "      <th>new_predictions</th>\n",
       "      <th>original_error_percentage</th>\n",
       "      <th>new_error_percentage</th>\n",
       "    </tr>\n",
       "  </thead>\n",
       "  <tbody>\n",
       "    <tr>\n",
       "      <th>count</th>\n",
       "      <td>1599.000000</td>\n",
       "      <td>1599.000000</td>\n",
       "      <td>1599.000000</td>\n",
       "      <td>1599.000000</td>\n",
       "      <td>1599.000000</td>\n",
       "      <td>1599.000000</td>\n",
       "      <td>1599.000000</td>\n",
       "      <td>1599.000000</td>\n",
       "    </tr>\n",
       "    <tr>\n",
       "      <th>mean</th>\n",
       "      <td>8.945348</td>\n",
       "      <td>150.227941</td>\n",
       "      <td>152.098823</td>\n",
       "      <td>-1.870882</td>\n",
       "      <td>-1.748935</td>\n",
       "      <td>150.349888</td>\n",
       "      <td>5.393441</td>\n",
       "      <td>4.301307</td>\n",
       "    </tr>\n",
       "    <tr>\n",
       "      <th>std</th>\n",
       "      <td>119.733596</td>\n",
       "      <td>127.528666</td>\n",
       "      <td>128.335646</td>\n",
       "      <td>8.132307</td>\n",
       "      <td>1.067111</td>\n",
       "      <td>128.772264</td>\n",
       "      <td>4.885685</td>\n",
       "      <td>4.605802</td>\n",
       "    </tr>\n",
       "    <tr>\n",
       "      <th>min</th>\n",
       "      <td>0.301505</td>\n",
       "      <td>24.425903</td>\n",
       "      <td>30.152510</td>\n",
       "      <td>-53.426819</td>\n",
       "      <td>-5.344190</td>\n",
       "      <td>26.263754</td>\n",
       "      <td>0.001637</td>\n",
       "      <td>0.002000</td>\n",
       "    </tr>\n",
       "    <tr>\n",
       "      <th>25%</th>\n",
       "      <td>0.882345</td>\n",
       "      <td>70.081829</td>\n",
       "      <td>76.376514</td>\n",
       "      <td>-5.328647</td>\n",
       "      <td>-2.558269</td>\n",
       "      <td>74.034193</td>\n",
       "      <td>1.687993</td>\n",
       "      <td>1.585722</td>\n",
       "    </tr>\n",
       "    <tr>\n",
       "      <th>50%</th>\n",
       "      <td>2.133298</td>\n",
       "      <td>94.236443</td>\n",
       "      <td>94.972519</td>\n",
       "      <td>-2.516998</td>\n",
       "      <td>-1.899035</td>\n",
       "      <td>93.395638</td>\n",
       "      <td>3.797273</td>\n",
       "      <td>3.100224</td>\n",
       "    </tr>\n",
       "    <tr>\n",
       "      <th>75%</th>\n",
       "      <td>4.383407</td>\n",
       "      <td>189.500076</td>\n",
       "      <td>190.967796</td>\n",
       "      <td>1.674228</td>\n",
       "      <td>-0.700158</td>\n",
       "      <td>190.203516</td>\n",
       "      <td>7.630141</td>\n",
       "      <td>5.175701</td>\n",
       "    </tr>\n",
       "    <tr>\n",
       "      <th>max</th>\n",
       "      <td>4490.963057</td>\n",
       "      <td>603.909973</td>\n",
       "      <td>604.112671</td>\n",
       "      <td>36.173767</td>\n",
       "      <td>-0.203443</td>\n",
       "      <td>601.622487</td>\n",
       "      <td>23.538514</td>\n",
       "      <td>29.021486</td>\n",
       "    </tr>\n",
       "  </tbody>\n",
       "</table>\n",
       "</div>"
      ],
      "text/plain": [
       "       reconstruction_error_percentage       target  predictions         bias  \\\n",
       "count                      1599.000000  1599.000000  1599.000000  1599.000000   \n",
       "mean                          8.945348   150.227941   152.098823    -1.870882   \n",
       "std                         119.733596   127.528666   128.335646     8.132307   \n",
       "min                           0.301505    24.425903    30.152510   -53.426819   \n",
       "25%                           0.882345    70.081829    76.376514    -5.328647   \n",
       "50%                           2.133298    94.236443    94.972519    -2.516998   \n",
       "75%                           4.383407   189.500076   190.967796     1.674228   \n",
       "max                        4490.963057   603.909973   604.112671    36.173767   \n",
       "\n",
       "       predicted_bias  new_predictions  original_error_percentage  \\\n",
       "count     1599.000000      1599.000000                1599.000000   \n",
       "mean        -1.748935       150.349888                   5.393441   \n",
       "std          1.067111       128.772264                   4.885685   \n",
       "min         -5.344190        26.263754                   0.001637   \n",
       "25%         -2.558269        74.034193                   1.687993   \n",
       "50%         -1.899035        93.395638                   3.797273   \n",
       "75%         -0.700158       190.203516                   7.630141   \n",
       "max         -0.203443       601.622487                  23.538514   \n",
       "\n",
       "       new_error_percentage  \n",
       "count           1599.000000  \n",
       "mean               4.301307  \n",
       "std                4.605802  \n",
       "min                0.002000  \n",
       "25%                1.585722  \n",
       "50%                3.100224  \n",
       "75%                5.175701  \n",
       "max               29.021486  "
      ]
     },
     "execution_count": 302,
     "metadata": {},
     "output_type": "execute_result"
    }
   ],
   "source": [
    "X_test.describe()"
   ]
  },
  {
   "cell_type": "code",
   "execution_count": 303,
   "metadata": {},
   "outputs": [],
   "source": [
    "torch.save(bias_predictor.state_dict(), bias_predictor_path)"
   ]
  },
  {
   "cell_type": "code",
   "execution_count": null,
   "metadata": {},
   "outputs": [],
   "source": []
  }
 ],
 "metadata": {
  "kernelspec": {
   "display_name": "base",
   "language": "python",
   "name": "python3"
  },
  "language_info": {
   "codemirror_mode": {
    "name": "ipython",
    "version": 3
   },
   "file_extension": ".py",
   "mimetype": "text/x-python",
   "name": "python",
   "nbconvert_exporter": "python",
   "pygments_lexer": "ipython3",
   "version": "3.9.7"
  }
 },
 "nbformat": 4,
 "nbformat_minor": 2
}
