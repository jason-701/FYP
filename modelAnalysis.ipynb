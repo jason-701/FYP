{
 "cells": [
  {
   "cell_type": "code",
   "execution_count": 57,
   "metadata": {},
   "outputs": [],
   "source": [
    "import pandas as pd\n",
    "import numpy as np\n",
    "from sklearn.preprocessing import StandardScaler\n",
    "from sklearn.model_selection import train_test_split\n",
    "from tensorflow.keras.models import Model, Sequential, load_model\n",
    "from tensorflow.keras.layers import Dense, Input, LeakyReLU, BatchNormalization, Dropout\n",
    "from tensorflow.keras.optimizers import Adam\n",
    "from tensorflow.keras.callbacks import EarlyStopping\n",
    "from sklearn.metrics import mean_squared_error\n",
    "import matplotlib.pyplot as plt\n",
    "import seaborn as sns\n",
    "import torch.nn as nn\n",
    "import os"
   ]
  },
  {
   "cell_type": "code",
   "execution_count": 58,
   "metadata": {},
   "outputs": [],
   "source": [
    "# Read the CSV file\n",
    "df = pd.read_csv('diabetes_prediction_dataset.csv')"
   ]
  },
  {
   "cell_type": "code",
   "execution_count": 59,
   "metadata": {},
   "outputs": [
    {
     "name": "stdout",
     "output_type": "stream",
     "text": [
      "0    91500\n",
      "1     8500\n",
      "Name: diabetes, dtype: int64\n"
     ]
    }
   ],
   "source": [
    "df_encoded = pd.get_dummies(df, columns=['gender', 'smoking_history'], drop_first=True)\n",
    "testDF = df_encoded\n",
    "print(df_encoded['diabetes'].value_counts())"
   ]
  },
  {
   "cell_type": "code",
   "execution_count": 60,
   "metadata": {},
   "outputs": [],
   "source": [
    "testDF = testDF.sample(frac=1).reset_index(drop=True)\n",
    "x_unscaled = testDF.drop(['diabetes'], axis=1)\n",
    "y = testDF['diabetes']\n",
    "\n",
    "# Normalize the data\n",
    "numerical_columns = x_unscaled.select_dtypes(include=np.number).columns\n",
    "boolean_columns = x_unscaled.select_dtypes(include=bool).columns\n",
    "\n",
    "scaler = StandardScaler()\n",
    "temp = pd.DataFrame(scaler.fit_transform(x_unscaled[numerical_columns]), columns=numerical_columns)\n",
    "x_scaled = pd.concat([temp, x_unscaled[boolean_columns]], axis=1)\n",
    "x_train, x_test, y_train, y_test = train_test_split(x_scaled, y, test_size=0.2, random_state=42)"
   ]
  },
  {
   "cell_type": "markdown",
   "metadata": {},
   "source": [
    "## Testing the MLP Model"
   ]
  },
  {
   "cell_type": "code",
   "execution_count": 61,
   "metadata": {},
   "outputs": [
    {
     "name": "stdout",
     "output_type": "stream",
     "text": [
      "Using device: cuda\n",
      "Model loaded successfully.\n",
      "Root Mean Squared Error on Entire Dataset: 0.15907830453366034\n"
     ]
    },
    {
     "name": "stderr",
     "output_type": "stream",
     "text": [
      "C:\\Users\\ROG\\AppData\\Local\\Temp/ipykernel_11604/1622982404.py:39: FutureWarning: You are using `torch.load` with `weights_only=False` (the current default value), which uses the default pickle module implicitly. It is possible to construct malicious pickle data which will execute arbitrary code during unpickling (See https://github.com/pytorch/pytorch/blob/main/SECURITY.md#untrusted-models for more details). In a future release, the default value for `weights_only` will be flipped to `True`. This limits the functions that could be executed during unpickling. Arbitrary objects will no longer be allowed to be loaded via this mode unless they are explicitly allowlisted by the user via `torch.serialization.add_safe_globals`. We recommend you start setting `weights_only=True` for any use case where you don't have full control of the loaded file. Please open an issue on GitHub for any issues related to this experimental feature.\n",
      "  model.load_state_dict(torch.load(model_file))\n"
     ]
    },
    {
     "name": "stdout",
     "output_type": "stream",
     "text": [
      "Number of Correct Predictions: 96857\n",
      "Number of Wrong Predictions: 3143\n",
      "Accuracy: 0.9686\n",
      "Number of True Positives (1 predicted as 1): 5457\n",
      "Number of True Negatives (0 predicted as 0): 91400\n",
      "Number of False Positives (0 predicted as 1): 100\n",
      "Number of False Negatives (1 predicted as 0): 3043\n",
      "Test Loss: 0.0248\n",
      "Test MAE: 0.0515\n"
     ]
    }
   ],
   "source": [
    "import os\n",
    "import torch\n",
    "import torch.nn as nn\n",
    "import torch.optim as optim\n",
    "from torch.utils.data import DataLoader, TensorDataset\n",
    "import numpy as np\n",
    "from sklearn.metrics import mean_squared_error\n",
    "\n",
    "# Check if CUDA is available and print the device being used\n",
    "device = torch.device(\"cuda\" if torch.cuda.is_available() else \"cpu\")\n",
    "print(f\"Using device: {device}\")\n",
    "\n",
    "# Define the model\n",
    "class MLP(nn.Module):\n",
    "    def __init__(self, input_dim):\n",
    "        super(MLP, self).__init__()\n",
    "        self.model = nn.Sequential(\n",
    "            nn.Linear(input_dim, 128),\n",
    "            nn.ReLU(),\n",
    "            nn.Linear(128, 64),\n",
    "            nn.ReLU(),\n",
    "            nn.Linear(64, 32),\n",
    "            nn.ReLU(),\n",
    "            nn.Linear(32, 16),\n",
    "            nn.ReLU(),\n",
    "            nn.Linear(16, 1)\n",
    "        )\n",
    "\n",
    "    def forward(self, x):\n",
    "        return self.model(x)\n",
    "\n",
    "# Define input dimensions and load the model\n",
    "input_dim = x_scaled.shape[1]\n",
    "model = MLP(input_dim).to(device)\n",
    "\n",
    "# Load the saved model\n",
    "model_file = './models/mlp_model_resampled_0.1.pth'\n",
    "if os.path.exists(model_file):\n",
    "    model.load_state_dict(torch.load(model_file))\n",
    "    print(\"Model loaded successfully.\")\n",
    "else:\n",
    "    print(\"Model file does not exist.\")\n",
    "    raise FileNotFoundError(\"Model file not found.\")\n",
    "\n",
    "# Convert x_scaled to a torch tensor\n",
    "x_scaled_tensor = torch.tensor(x_scaled.values, dtype=torch.float32).to(device)\n",
    "\n",
    "# Make predictions on the entire dataset\n",
    "model.eval()\n",
    "with torch.no_grad():\n",
    "    y_pred = model(x_scaled_tensor).cpu().numpy()\n",
    "\n",
    "# Calculate the Mean Squared Error (MSE) on the entire dataset\n",
    "mse = mean_squared_error(y, y_pred)\n",
    "rmse = np.sqrt(mse)\n",
    "print(f'Root Mean Squared Error on Entire Dataset: {rmse}')\n",
    "\n",
    "# Convert y_pred to binary predictions\n",
    "y_pred_binary = np.where(y_pred >= 0.5, 1, 0)\n",
    "\n",
    "# Ensure y is a numpy array and reshape if necessary\n",
    "y_array = y.values if hasattr(y, 'values') else y\n",
    "if y_array.ndim > 1:\n",
    "    y_array = y_array.reshape(-1)\n",
    "\n",
    "# Ensure y_pred_binary is a 1-dimensional array\n",
    "if y_pred_binary.ndim > 1:\n",
    "    y_pred_binary = y_pred_binary.reshape(-1)\n",
    "\n",
    "# Compare y_pred_binary with y\n",
    "correct_predictions = np.sum(y_pred_binary == y_array)\n",
    "wrong_predictions = np.sum(y_pred_binary != y_array)\n",
    "\n",
    "# Track indices of wrong predictions\n",
    "wrong_prediction_indices = np.where(y_pred_binary != y_array)[0]\n",
    "\n",
    "# Calculate additional metrics\n",
    "true_positives = np.sum((y_pred_binary == 1) & (y_array == 1))\n",
    "true_negatives = np.sum((y_pred_binary == 0) & (y_array == 0))\n",
    "false_positives = np.sum((y_pred_binary == 1) & (y_array == 0))\n",
    "false_negatives = np.sum((y_pred_binary == 0) & (y_array == 1))\n",
    "\n",
    "print(f\"Number of Correct Predictions: {correct_predictions}\")\n",
    "print(f\"Number of Wrong Predictions: {wrong_predictions}\")\n",
    "print(f\"Accuracy: {correct_predictions / len(y_array):.4f}\")\n",
    "print(f\"Number of True Positives (1 predicted as 1): {true_positives}\")\n",
    "print(f\"Number of True Negatives (0 predicted as 0): {true_negatives}\")\n",
    "print(f\"Number of False Positives (0 predicted as 1): {false_positives}\")\n",
    "print(f\"Number of False Negatives (1 predicted as 0): {false_negatives}\")\n",
    "\n",
    "# Evaluate the model on the test set\n",
    "X_test_tensor = torch.tensor(x_test.values, dtype=torch.float32).to(device)\n",
    "y_test_tensor = torch.tensor(y_test.values, dtype=torch.float32).unsqueeze(1).to(device)\n",
    "\n",
    "# Create DataLoader for the test set\n",
    "test_dataset = TensorDataset(X_test_tensor, y_test_tensor)\n",
    "test_loader = DataLoader(test_dataset, batch_size=32, shuffle=False)\n",
    "\n",
    "# Evaluate the model\n",
    "model.eval()\n",
    "test_loss = 0.0\n",
    "with torch.no_grad():\n",
    "    for X_batch, y_batch in test_loader:\n",
    "        X_batch, y_batch = X_batch.to(device), y_batch.to(device)\n",
    "        outputs = model(X_batch)\n",
    "        loss = nn.MSELoss()(outputs, y_batch)\n",
    "        test_loss += loss.item() * X_batch.size(0)\n",
    "\n",
    "test_loss /= len(test_loader.dataset)\n",
    "print(f'Test Loss: {test_loss:.4f}')\n",
    "\n",
    "# Calculate Mean Absolute Error (MAE) on the test set\n",
    "test_mae = 0.0\n",
    "with torch.no_grad():\n",
    "    for X_batch, y_batch in test_loader:\n",
    "        X_batch, y_batch = X_batch.to(device), y_batch.to(device)\n",
    "        outputs = model(X_batch)\n",
    "        mae = torch.mean(torch.abs(outputs - y_batch))\n",
    "        test_mae += mae.item() * X_batch.size(0)\n",
    "\n",
    "test_mae /= len(test_loader.dataset)\n",
    "print(f'Test MAE: {test_mae:.4f}')"
   ]
  },
  {
   "cell_type": "code",
   "execution_count": 62,
   "metadata": {},
   "outputs": [
    {
     "name": "stdout",
     "output_type": "stream",
     "text": [
      "Indices of Wrong Predictions: [   13    66   144 ... 99890 99949 99959]\n"
     ]
    }
   ],
   "source": [
    "print(\"Indices of Wrong Predictions:\", wrong_prediction_indices)"
   ]
  },
  {
   "cell_type": "markdown",
   "metadata": {},
   "source": [
    "## Testing the autoencoder model"
   ]
  },
  {
   "cell_type": "code",
   "execution_count": 63,
   "metadata": {},
   "outputs": [
    {
     "name": "stdout",
     "output_type": "stream",
     "text": [
      "Using device: cuda\n",
      "Mean Squared Error (MSE): 0.03622413942227946\n",
      "Mean Absolute Error (MAE): 0.10511261285731881\n",
      "Reconstruction Error Percentage: 3.62%\n",
      "Number of samples with errors over 0.5%: 77103\n",
      "Number of samples with errors over 1.0%: 53323\n",
      "Number of samples with errors over 1.5%: 40608\n",
      "Number of samples with errors over 2.0%: 33296\n",
      "Number of samples with errors over 2.5%: 28399\n",
      "Number of samples with errors over 3.0%: 25023\n",
      "Number of samples with errors over 3.5%: 22351\n",
      "Number of samples with errors over 4.0%: 20160\n",
      "Number of samples with errors over 4.5%: 18390\n",
      "Number of samples with errors over 5.0%: 16910\n",
      "Number of samples with errors over 5.5%: 15581\n",
      "Number of samples with errors over 6.0%: 14431\n",
      "Number of samples with errors over 6.5%: 13365\n",
      "Number of samples with errors over 7.0%: 12415\n",
      "Number of samples with errors over 7.5%: 11538\n",
      "Number of samples with errors over 8.0%: 10773\n",
      "Number of samples with errors over 8.5%: 10087\n",
      "Number of samples with errors over 9.0%: 9480\n",
      "Number of samples with errors over 9.5%: 8897\n",
      "Number of samples with errors over 10.0%: 8357\n"
     ]
    },
    {
     "name": "stderr",
     "output_type": "stream",
     "text": [
      "C:\\Users\\ROG\\AppData\\Local\\Temp/ipykernel_11604/34568307.py:69: FutureWarning: You are using `torch.load` with `weights_only=False` (the current default value), which uses the default pickle module implicitly. It is possible to construct malicious pickle data which will execute arbitrary code during unpickling (See https://github.com/pytorch/pytorch/blob/main/SECURITY.md#untrusted-models for more details). In a future release, the default value for `weights_only` will be flipped to `True`. This limits the functions that could be executed during unpickling. Arbitrary objects will no longer be allowed to be loaded via this mode unless they are explicitly allowlisted by the user via `torch.serialization.add_safe_globals`. We recommend you start setting `weights_only=True` for any use case where you don't have full control of the loaded file. Please open an issue on GitHub for any issues related to this experimental feature.\n",
      "  encoder.load_state_dict(torch.load(encoder_model_file))\n",
      "C:\\Users\\ROG\\AppData\\Local\\Temp/ipykernel_11604/34568307.py:70: FutureWarning: You are using `torch.load` with `weights_only=False` (the current default value), which uses the default pickle module implicitly. It is possible to construct malicious pickle data which will execute arbitrary code during unpickling (See https://github.com/pytorch/pytorch/blob/main/SECURITY.md#untrusted-models for more details). In a future release, the default value for `weights_only` will be flipped to `True`. This limits the functions that could be executed during unpickling. Arbitrary objects will no longer be allowed to be loaded via this mode unless they are explicitly allowlisted by the user via `torch.serialization.add_safe_globals`. We recommend you start setting `weights_only=True` for any use case where you don't have full control of the loaded file. Please open an issue on GitHub for any issues related to this experimental feature.\n",
      "  decoder.load_state_dict(torch.load(decoder_model_file))\n"
     ]
    }
   ],
   "source": [
    "import os\n",
    "import numpy as np\n",
    "import torch\n",
    "import torch.nn as nn\n",
    "import matplotlib.pyplot as plt\n",
    "\n",
    "# Check if CUDA is available and print the device being used\n",
    "device = torch.device(\"cuda\" if torch.cuda.is_available() else \"cpu\")\n",
    "print(f\"Using device: {device}\")\n",
    "\n",
    "# Define the Encoder model\n",
    "class Encoder(nn.Module):\n",
    "    def __init__(self, input_dim, encoding_dim):\n",
    "        super(Encoder, self).__init__()\n",
    "        self.encoder = nn.Sequential(\n",
    "            nn.Linear(input_dim, 128),\n",
    "            nn.ReLU(),\n",
    "            nn.Dropout(0.2),\n",
    "            nn.Linear(128, 64),\n",
    "            nn.ReLU(),\n",
    "            nn.Dropout(0.2),\n",
    "            nn.Linear(64, encoding_dim)\n",
    "        )\n",
    "\n",
    "    def forward(self, x):\n",
    "        return self.encoder(x)\n",
    "\n",
    "# Define the Decoder model with reduced complexity and dropout\n",
    "class Decoder(nn.Module):\n",
    "    def __init__(self, encoding_dim, input_dim):\n",
    "        super(Decoder, self).__init__()\n",
    "        self.decoder = nn.Sequential(\n",
    "            nn.Linear(encoding_dim, 64),\n",
    "            nn.ReLU(),\n",
    "            nn.Dropout(0.2),\n",
    "            nn.Linear(64, 128),\n",
    "            nn.ReLU(),\n",
    "            nn.Dropout(0.2),\n",
    "            nn.Linear(128, input_dim)\n",
    "        )\n",
    "\n",
    "    def forward(self, x):\n",
    "        return self.decoder(x)\n",
    "\n",
    "# Define the Autoencoder model\n",
    "class Autoencoder(nn.Module):\n",
    "    def __init__(self, encoder, decoder):\n",
    "        super(Autoencoder, self).__init__()\n",
    "        self.encoder = encoder\n",
    "        self.decoder = decoder\n",
    "\n",
    "    def forward(self, x):\n",
    "        encoded = self.encoder(x)\n",
    "        decoded = self.decoder(encoded)\n",
    "        return decoded\n",
    "\n",
    "# Define input dimensions and encoding dimensions\n",
    "input_dim = x_scaled.shape[1]  # Set this to the number of features in your data\n",
    "encoding_dim = 8\n",
    "\n",
    "# Model file paths\n",
    "encoder_model_file = './models/encoder2.pth'\n",
    "decoder_model_file = './models/decoder2.pth'\n",
    "\n",
    "# Load the encoder and decoder models\n",
    "encoder = Encoder(input_dim, encoding_dim).to(device)\n",
    "decoder = Decoder(encoding_dim, input_dim).to(device)\n",
    "\n",
    "encoder.load_state_dict(torch.load(encoder_model_file))\n",
    "decoder.load_state_dict(torch.load(decoder_model_file))\n",
    "\n",
    "encoder.eval()\n",
    "decoder.eval()\n",
    "\n",
    "# Combine Encoder and Decoder to form the Autoencoder\n",
    "autoencoder = Autoencoder(encoder, decoder).to(device)\n",
    "autoencoder.eval()\n",
    "\n",
    "# Convert x_scaled to a torch tensor\n",
    "x_scaled = x_scaled.values \n",
    "x_scaled_tensor = torch.tensor(x_scaled, dtype=torch.float32).to(device)\n",
    "\n",
    "# Reconstruct x_scaled using the autoencoder\n",
    "with torch.no_grad():\n",
    "    x_reconstructed = autoencoder(x_scaled_tensor).cpu().numpy()\n",
    "\n",
    "# Calculate Mean Squared Error (MSE)\n",
    "mse = np.mean((x_scaled - x_reconstructed) ** 2)\n",
    "print(f'Mean Squared Error (MSE): {mse}')\n",
    "\n",
    "# Calculate Mean Absolute Error (MAE)\n",
    "mae = np.mean(np.abs(x_scaled - x_reconstructed))\n",
    "print(f'Mean Absolute Error (MAE): {mae}')\n",
    "\n",
    "# Calculate Reconstruction Error Percentage\n",
    "reconstruction_error = np.mean(np.square(x_scaled - x_reconstructed), axis=1)\n",
    "reconstruction_error_percentage = np.mean(reconstruction_error) * 100\n",
    "print(f'Reconstruction Error Percentage: {reconstruction_error_percentage:.2f}%')\n",
    "\n",
    "# Define thresholds in 0.5% intervals up to 10%\n",
    "thresholds = np.arange(0.5, 10.5, 0.5)\n",
    "\n",
    "# Store the number of samples with errors exceeding thresholds\n",
    "error_counts = {threshold: np.sum(reconstruction_error * 100 > threshold) for threshold in thresholds}\n",
    "\n",
    "# Print the number of samples with errors exceeding each threshold\n",
    "for threshold, count in error_counts.items():\n",
    "    print(f'Number of samples with errors over {threshold}%: {count}')"
   ]
  },
  {
   "cell_type": "code",
   "execution_count": 64,
   "metadata": {},
   "outputs": [
    {
     "name": "stdout",
     "output_type": "stream",
     "text": [
      "Number of overlapping indices: 1098\n",
      "Overlapping indices: [   66   144   271 ... 99715 99822 99890]\n"
     ]
    }
   ],
   "source": [
    "# Find indices with over 2.5% reconstruction error\n",
    "high_error_indices = np.where(reconstruction_error * 100 > 3.62)[0]\n",
    "\n",
    "# Find the overlap between wrong_prediction_indices and high_error_indices\n",
    "overlap_indices = np.intersect1d(wrong_prediction_indices, high_error_indices)\n",
    "\n",
    "print(f\"Number of overlapping indices: {len(overlap_indices)}\")\n",
    "print(\"Overlapping indices:\", overlap_indices)"
   ]
  },
  {
   "cell_type": "code",
   "execution_count": 65,
   "metadata": {},
   "outputs": [
    {
     "name": "stdout",
     "output_type": "stream",
     "text": [
      "Reconstruction Errors for Wrong Predictions: [0.1308244  0.16276507 0.12112382 ... 0.05148979 0.12033901 0.03831915]\n",
      "Mean Reconstruction Error for Wrong Predictions: 13.06%\n",
      "Standard Deviation of Reconstruction Error for Wrong Predictions: 13.76%\n",
      "Number of overlapping indices: 1098\n"
     ]
    },
    {
     "data": {
      "image/png": "[encoded data removed]",
      "text/plain": [
       "<Figure size 864x864 with 2 Axes>"
      ]
     },
     "metadata": {
      "needs_background": "light"
     },
     "output_type": "display_data"
    }
   ],
   "source": [
    "import numpy as np\n",
    "import matplotlib.pyplot as plt\n",
    "import torch\n",
    "\n",
    "# Assuming autoencoder is your trained model and x_scaled is your test data\n",
    "with torch.no_grad():\n",
    "    reconstructed_test = autoencoder(torch.tensor(x_scaled, dtype=torch.float32).to(device)).cpu().numpy()\n",
    "\n",
    "# Calculate reconstruction errors\n",
    "reconstruction_error = np.mean(np.square(x_scaled - reconstructed_test), axis=1)\n",
    "\n",
    "# Define the threshold for reconstruction error\n",
    "threshold = 3.62 / 100  # Convert percentage to a fraction\n",
    "\n",
    "# Identify indices with reconstruction error above the threshold\n",
    "high_error_indices = np.where(reconstruction_error > threshold)[0]\n",
    "\n",
    "# Assuming wrong_prediction_indices is already defined\n",
    "# Find the overlap between high error indices and wrong prediction indices\n",
    "overlap_indices = np.intersect1d(high_error_indices, wrong_prediction_indices)\n",
    "\n",
    "# Filter the reconstruction errors for the overlapping indices\n",
    "wrong_prediction_reconstruction_errors = reconstruction_error[overlap_indices]\n",
    "\n",
    "# Ensure that all filtered reconstruction errors are above the threshold\n",
    "assert np.all(wrong_prediction_reconstruction_errors > threshold), \"Some reconstruction errors are below the threshold\"\n",
    "\n",
    "# Print the reconstruction errors for the wrong prediction indices\n",
    "print(\"Reconstruction Errors for Wrong Predictions:\", wrong_prediction_reconstruction_errors)\n",
    "\n",
    "# Optionally, you can calculate some statistics like mean and standard deviation\n",
    "mean_error = np.mean(wrong_prediction_reconstruction_errors)\n",
    "std_error = np.std(wrong_prediction_reconstruction_errors)\n",
    "\n",
    "print(f\"Mean Reconstruction Error for Wrong Predictions: {mean_error * 100:.2f}%\")\n",
    "print(f\"Standard Deviation of Reconstruction Error for Wrong Predictions: {std_error * 100:.2f}%\")\n",
    "print(\"Number of overlapping indices:\", len(overlap_indices))\n",
    "\n",
    "# Plot the reconstruction errors for the wrong prediction indices\n",
    "plt.figure(figsize=(12, 12))\n",
    "\n",
    "# First subplot: Reconstruction errors for wrong prediction indices\n",
    "plt.subplot(2, 1, 1)\n",
    "plt.plot(overlap_indices, wrong_prediction_reconstruction_errors * 100, marker='o', linestyle='none')\n",
    "plt.title('Reconstruction Errors for Wrong Predictions')\n",
    "plt.xlabel('Data Point Index')\n",
    "plt.ylabel('Reconstruction Error (%)')\n",
    "plt.grid(True)\n",
    "\n",
    "# Second subplot: Distribution of reconstruction errors for wrong prediction indices\n",
    "plt.subplot(2, 1, 2)\n",
    "wrong_prediction_reconstruction_errors_percent = wrong_prediction_reconstruction_errors * 100\n",
    "bins = np.arange(0, 101, 1)  # From 0% to 100% in intervals of 1%\n",
    "plt.hist(wrong_prediction_reconstruction_errors_percent, bins=bins, edgecolor='black', alpha=0.7)\n",
    "plt.title('Distribution of Reconstruction Errors for Wrong Predictions')\n",
    "plt.xlabel('Reconstruction Error (%)')\n",
    "plt.ylabel('Frequency')\n",
    "plt.grid(True)\n",
    "\n",
    "plt.tight_layout()\n",
    "plt.show()"
   ]
  },
  {
   "cell_type": "code",
   "execution_count": null,
   "metadata": {},
   "outputs": [],
   "source": []
  }
 ],
 "metadata": {
  "kernelspec": {
   "display_name": "base",
   "language": "python",
   "name": "python3"
  },
  "language_info": {
   "codemirror_mode": {
    "name": "ipython",
    "version": 3
   },
   "file_extension": ".py",
   "mimetype": "text/x-python",
   "name": "python",
   "nbconvert_exporter": "python",
   "pygments_lexer": "ipython3",
   "version": "3.9.7"
  }
 },
 "nbformat": 4,
 "nbformat_minor": 2
}
