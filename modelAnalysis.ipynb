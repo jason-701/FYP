{
 "cells": [
  {
   "cell_type": "code",
   "execution_count": 55,
   "metadata": {},
   "outputs": [],
   "source": [
    "import pandas as pd\n",
    "import numpy as np\n",
    "from sklearn.preprocessing import StandardScaler\n",
    "from sklearn.model_selection import train_test_split\n",
    "from tensorflow.keras.models import Model, Sequential, load_model\n",
    "from tensorflow.keras.layers import Dense, Input, LeakyReLU, BatchNormalization, Dropout\n",
    "from tensorflow.keras.optimizers import Adam\n",
    "from tensorflow.keras.callbacks import EarlyStopping\n",
    "from sklearn.metrics import mean_squared_error\n",
    "import matplotlib.pyplot as plt\n",
    "import seaborn as sns\n",
    "import torch.nn as nn\n",
    "import os"
   ]
  },
  {
   "cell_type": "code",
   "execution_count": 56,
   "metadata": {},
   "outputs": [],
   "source": [
    "# Read the CSV file\n",
    "df = pd.read_csv('diabetes_prediction_dataset.csv')"
   ]
  },
  {
   "cell_type": "code",
   "execution_count": 57,
   "metadata": {},
   "outputs": [
    {
     "name": "stdout",
     "output_type": "stream",
     "text": [
      "0    91500\n",
      "1     8500\n",
      "Name: diabetes, dtype: int64\n"
     ]
    }
   ],
   "source": [
    "df_encoded = pd.get_dummies(df, columns=['gender', 'smoking_history'], drop_first=True)\n",
    "testDF = df_encoded\n",
    "print(df_encoded['diabetes'].value_counts())"
   ]
  },
  {
   "cell_type": "code",
   "execution_count": 58,
   "metadata": {},
   "outputs": [],
   "source": [
    "testDF = testDF.sample(frac=1).reset_index(drop=True)\n",
    "x_unscaled = testDF.drop(['diabetes'], axis=1)\n",
    "y = testDF['diabetes']\n",
    "\n",
    "# Normalize the data\n",
    "numerical_columns = x_unscaled.select_dtypes(include=np.number).columns\n",
    "boolean_columns = x_unscaled.select_dtypes(include=bool).columns\n",
    "\n",
    "scaler = StandardScaler()\n",
    "temp = pd.DataFrame(scaler.fit_transform(x_unscaled[numerical_columns]), columns=numerical_columns)\n",
    "x_scaled = pd.concat([temp, x_unscaled[boolean_columns]], axis=1)\n",
    "x_train, x_test, y_train, y_test = train_test_split(x_scaled, y, test_size=0.2, random_state=42)"
   ]
  },
  {
   "cell_type": "markdown",
   "metadata": {},
   "source": [
    "## Testing the MLP Model"
   ]
  },
  {
   "cell_type": "code",
   "execution_count": 59,
   "metadata": {},
   "outputs": [
    {
     "name": "stdout",
     "output_type": "stream",
     "text": [
      "Using device: cuda\n",
      "Model loaded successfully.\n",
      "Root Mean Squared Error on Entire Dataset: 0.15907830453366031\n",
      "Number of Correct Predictions: 96857\n",
      "Number of Wrong Predictions: 3143\n",
      "Number of True Positives (1 predicted as 1): 5457\n",
      "Number of True Negatives (0 predicted as 0): 91400\n",
      "Number of False Positives (0 predicted as 1): 100\n",
      "Number of False Negatives (1 predicted as 0): 3043\n"
     ]
    },
    {
     "name": "stderr",
     "output_type": "stream",
     "text": [
      "C:\\Users\\ROG\\AppData\\Local\\Temp/ipykernel_21640/422902904.py:39: FutureWarning: You are using `torch.load` with `weights_only=False` (the current default value), which uses the default pickle module implicitly. It is possible to construct malicious pickle data which will execute arbitrary code during unpickling (See https://github.com/pytorch/pytorch/blob/main/SECURITY.md#untrusted-models for more details). In a future release, the default value for `weights_only` will be flipped to `True`. This limits the functions that could be executed during unpickling. Arbitrary objects will no longer be allowed to be loaded via this mode unless they are explicitly allowlisted by the user via `torch.serialization.add_safe_globals`. We recommend you start setting `weights_only=True` for any use case where you don't have full control of the loaded file. Please open an issue on GitHub for any issues related to this experimental feature.\n",
      "  model.load_state_dict(torch.load(model_file))\n"
     ]
    },
    {
     "name": "stdout",
     "output_type": "stream",
     "text": [
      "Test Loss: 0.0244\n",
      "Test MAE: 0.0512\n"
     ]
    }
   ],
   "source": [
    "import os\n",
    "import torch\n",
    "import torch.nn as nn\n",
    "import torch.optim as optim\n",
    "from torch.utils.data import DataLoader, TensorDataset\n",
    "import numpy as np\n",
    "from sklearn.metrics import mean_squared_error\n",
    "\n",
    "# Check if CUDA is available and print the device being used\n",
    "device = torch.device(\"cuda\" if torch.cuda.is_available() else \"cpu\")\n",
    "print(f\"Using device: {device}\")\n",
    "\n",
    "# Define the model\n",
    "class MLP(nn.Module):\n",
    "    def __init__(self, input_dim):\n",
    "        super(MLP, self).__init__()\n",
    "        self.model = nn.Sequential(\n",
    "            nn.Linear(input_dim, 128),\n",
    "            nn.ReLU(),\n",
    "            nn.Linear(128, 64),\n",
    "            nn.ReLU(),\n",
    "            nn.Linear(64, 32),\n",
    "            nn.ReLU(),\n",
    "            nn.Linear(32, 16),\n",
    "            nn.ReLU(),\n",
    "            nn.Linear(16, 1)\n",
    "        )\n",
    "\n",
    "    def forward(self, x):\n",
    "        return self.model(x)\n",
    "\n",
    "# Define input dimensions and load the model\n",
    "input_dim = x_scaled.shape[1]\n",
    "model = MLP(input_dim).to(device)\n",
    "\n",
    "# Load the saved model\n",
    "model_file = './models/mlp_model_resampled_0.1.pth'\n",
    "if os.path.exists(model_file):\n",
    "    model.load_state_dict(torch.load(model_file))\n",
    "    print(\"Model loaded successfully.\")\n",
    "else:\n",
    "    print(\"Model file does not exist.\")\n",
    "    raise FileNotFoundError(\"Model file not found.\")\n",
    "\n",
    "# Convert x_scaled to a torch tensor\n",
    "x_scaled_tensor = torch.tensor(x_scaled.values, dtype=torch.float32).to(device)\n",
    "\n",
    "# Make predictions on the entire dataset\n",
    "model.eval()\n",
    "with torch.no_grad():\n",
    "    y_pred = model(x_scaled_tensor).cpu().numpy()\n",
    "\n",
    "# Calculate the Mean Squared Error (MSE) on the entire dataset\n",
    "mse = mean_squared_error(y, y_pred)\n",
    "rmse = np.sqrt(mse)\n",
    "print(f'Root Mean Squared Error on Entire Dataset: {rmse}')\n",
    "\n",
    "# Convert y_pred to binary predictions\n",
    "y_pred_binary = np.where(y_pred >= 0.5, 1, 0)\n",
    "\n",
    "# Ensure y is a numpy array and reshape if necessary\n",
    "y_array = y.values if hasattr(y, 'values') else y\n",
    "if y_array.ndim > 1:\n",
    "    y_array = y_array.reshape(-1)\n",
    "\n",
    "# Ensure y_pred_binary is a 1-dimensional array\n",
    "if y_pred_binary.ndim > 1:\n",
    "    y_pred_binary = y_pred_binary.reshape(-1)\n",
    "\n",
    "# Compare y_pred_binary with y\n",
    "correct_predictions = np.sum(y_pred_binary == y_array)\n",
    "wrong_predictions = np.sum(y_pred_binary != y_array)\n",
    "\n",
    "# Track indices of wrong predictions\n",
    "wrong_prediction_indices = np.where(y_pred_binary != y_array)[0]\n",
    "\n",
    "# Calculate additional metrics\n",
    "true_positives = np.sum((y_pred_binary == 1) & (y_array == 1))\n",
    "true_negatives = np.sum((y_pred_binary == 0) & (y_array == 0))\n",
    "false_positives = np.sum((y_pred_binary == 1) & (y_array == 0))\n",
    "false_negatives = np.sum((y_pred_binary == 0) & (y_array == 1))\n",
    "\n",
    "print(f\"Number of Correct Predictions: {correct_predictions}\")\n",
    "print(f\"Number of Wrong Predictions: {wrong_predictions}\")\n",
    "print(f\"Number of True Positives (1 predicted as 1): {true_positives}\")\n",
    "print(f\"Number of True Negatives (0 predicted as 0): {true_negatives}\")\n",
    "print(f\"Number of False Positives (0 predicted as 1): {false_positives}\")\n",
    "print(f\"Number of False Negatives (1 predicted as 0): {false_negatives}\")\n",
    "\n",
    "# Evaluate the model on the test set\n",
    "X_test_tensor = torch.tensor(x_test.values, dtype=torch.float32).to(device)\n",
    "y_test_tensor = torch.tensor(y_test.values, dtype=torch.float32).unsqueeze(1).to(device)\n",
    "\n",
    "# Create DataLoader for the test set\n",
    "test_dataset = TensorDataset(X_test_tensor, y_test_tensor)\n",
    "test_loader = DataLoader(test_dataset, batch_size=32, shuffle=False)\n",
    "\n",
    "# Evaluate the model\n",
    "model.eval()\n",
    "test_loss = 0.0\n",
    "with torch.no_grad():\n",
    "    for X_batch, y_batch in test_loader:\n",
    "        X_batch, y_batch = X_batch.to(device), y_batch.to(device)\n",
    "        outputs = model(X_batch)\n",
    "        loss = nn.MSELoss()(outputs, y_batch)\n",
    "        test_loss += loss.item() * X_batch.size(0)\n",
    "\n",
    "test_loss /= len(test_loader.dataset)\n",
    "print(f'Test Loss: {test_loss:.4f}')\n",
    "\n",
    "# Calculate Mean Absolute Error (MAE) on the test set\n",
    "test_mae = 0.0\n",
    "with torch.no_grad():\n",
    "    for X_batch, y_batch in test_loader:\n",
    "        X_batch, y_batch = X_batch.to(device), y_batch.to(device)\n",
    "        outputs = model(X_batch)\n",
    "        mae = torch.mean(torch.abs(outputs - y_batch))\n",
    "        test_mae += mae.item() * X_batch.size(0)\n",
    "\n",
    "test_mae /= len(test_loader.dataset)\n",
    "print(f'Test MAE: {test_mae:.4f}')"
   ]
  },
  {
   "cell_type": "code",
   "execution_count": 60,
   "metadata": {},
   "outputs": [
    {
     "name": "stdout",
     "output_type": "stream",
     "text": [
      "Indices of Wrong Predictions: [    1    44   126 ... 99985 99987 99997]\n"
     ]
    }
   ],
   "source": [
    "print(\"Indices of Wrong Predictions:\", wrong_prediction_indices)"
   ]
  },
  {
   "cell_type": "markdown",
   "metadata": {},
   "source": [
    "## Testing the autoencoder model"
   ]
  },
  {
   "cell_type": "code",
   "execution_count": 61,
   "metadata": {},
   "outputs": [
    {
     "name": "stdout",
     "output_type": "stream",
     "text": [
      "Using device: cuda\n",
      "Mean Squared Error (MSE): 0.0021021463193453918\n",
      "Mean Absolute Error (MAE): 0.022595331407216382\n",
      "Reconstruction Error Percentage: 0.21%\n",
      "Number of samples with errors over 1%: 764\n",
      "Number of samples with errors over 1.5%: 272\n",
      "Number of samples with errors over 2%: 120\n",
      "Number of samples with errors over 2.5%: 61\n",
      "Number of samples with errors over 3%: 41\n",
      "Number of samples with errors over 3.5%: 33\n",
      "Number of samples with errors over 4%: 29\n",
      "Number of samples with errors over 5%: 20\n"
     ]
    },
    {
     "name": "stderr",
     "output_type": "stream",
     "text": [
      "C:\\Users\\ROG\\AppData\\Local\\Temp/ipykernel_21640/2531132214.py:69: FutureWarning: You are using `torch.load` with `weights_only=False` (the current default value), which uses the default pickle module implicitly. It is possible to construct malicious pickle data which will execute arbitrary code during unpickling (See https://github.com/pytorch/pytorch/blob/main/SECURITY.md#untrusted-models for more details). In a future release, the default value for `weights_only` will be flipped to `True`. This limits the functions that could be executed during unpickling. Arbitrary objects will no longer be allowed to be loaded via this mode unless they are explicitly allowlisted by the user via `torch.serialization.add_safe_globals`. We recommend you start setting `weights_only=True` for any use case where you don't have full control of the loaded file. Please open an issue on GitHub for any issues related to this experimental feature.\n",
      "  encoder.load_state_dict(torch.load(encoder_model_file))\n",
      "C:\\Users\\ROG\\AppData\\Local\\Temp/ipykernel_21640/2531132214.py:70: FutureWarning: You are using `torch.load` with `weights_only=False` (the current default value), which uses the default pickle module implicitly. It is possible to construct malicious pickle data which will execute arbitrary code during unpickling (See https://github.com/pytorch/pytorch/blob/main/SECURITY.md#untrusted-models for more details). In a future release, the default value for `weights_only` will be flipped to `True`. This limits the functions that could be executed during unpickling. Arbitrary objects will no longer be allowed to be loaded via this mode unless they are explicitly allowlisted by the user via `torch.serialization.add_safe_globals`. We recommend you start setting `weights_only=True` for any use case where you don't have full control of the loaded file. Please open an issue on GitHub for any issues related to this experimental feature.\n",
      "  decoder.load_state_dict(torch.load(decoder_model_file))\n"
     ]
    },
    {
     "data": {
      "image/png": "[encoded data removed]",
      "text/plain": [
       "<Figure size 864x432 with 1 Axes>"
      ]
     },
     "metadata": {
      "needs_background": "light"
     },
     "output_type": "display_data"
    }
   ],
   "source": [
    "import os\n",
    "import numpy as np\n",
    "import torch\n",
    "import torch.nn as nn\n",
    "import matplotlib.pyplot as plt\n",
    "\n",
    "# Check if CUDA is available and print the device being used\n",
    "device = torch.device(\"cuda\" if torch.cuda.is_available() else \"cpu\")\n",
    "print(f\"Using device: {device}\")\n",
    "\n",
    "# Define the Encoder model\n",
    "class Encoder(nn.Module):\n",
    "    def __init__(self, input_dim, encoding_dim):\n",
    "        super(Encoder, self).__init__()\n",
    "        self.encoder = nn.Sequential(\n",
    "            nn.Linear(input_dim, 256),\n",
    "            nn.ReLU(),\n",
    "            nn.Linear(256, 128),\n",
    "            nn.ReLU(),\n",
    "            nn.Linear(128, 64),\n",
    "            nn.ReLU(),\n",
    "            nn.Linear(64, encoding_dim)\n",
    "        )\n",
    "\n",
    "    def forward(self, x):\n",
    "        return self.encoder(x)\n",
    "\n",
    "# Define the Decoder model with increased complexity\n",
    "class Decoder(nn.Module):\n",
    "    def __init__(self, encoding_dim, input_dim):\n",
    "        super(Decoder, self).__init__()\n",
    "        self.decoder = nn.Sequential(\n",
    "            nn.Linear(encoding_dim, 64),\n",
    "            nn.ReLU(),\n",
    "            nn.Linear(64, 128),\n",
    "            nn.ReLU(),\n",
    "            nn.Linear(128, 256),\n",
    "            nn.ReLU(),\n",
    "            nn.Linear(256, input_dim)\n",
    "        )\n",
    "\n",
    "    def forward(self, x):\n",
    "        return self.decoder(x)\n",
    "\n",
    "# Define the Autoencoder model\n",
    "class Autoencoder(nn.Module):\n",
    "    def __init__(self, encoder, decoder):\n",
    "        super(Autoencoder, self).__init__()\n",
    "        self.encoder = encoder\n",
    "        self.decoder = decoder\n",
    "\n",
    "    def forward(self, x):\n",
    "        encoded = self.encoder(x)\n",
    "        decoded = self.decoder(encoded)\n",
    "        return decoded\n",
    "\n",
    "# Define input dimensions and encoding dimensions\n",
    "input_dim = x_scaled.shape[1]  # Set this to the number of features in your data\n",
    "encoding_dim = 13\n",
    "\n",
    "# Model file paths\n",
    "encoder_model_file = './models/encoder.pth'\n",
    "decoder_model_file = './models/decoder.pth'\n",
    "\n",
    "# Load the encoder and decoder models\n",
    "encoder = Encoder(input_dim, encoding_dim).to(device)\n",
    "decoder = Decoder(encoding_dim, input_dim).to(device)\n",
    "\n",
    "encoder.load_state_dict(torch.load(encoder_model_file))\n",
    "decoder.load_state_dict(torch.load(decoder_model_file))\n",
    "\n",
    "encoder.eval()\n",
    "decoder.eval()\n",
    "\n",
    "# Combine Encoder and Decoder to form the Autoencoder\n",
    "autoencoder = Autoencoder(encoder, decoder).to(device)\n",
    "autoencoder.eval()\n",
    "\n",
    "# Convert x_scaled to a torch tensor\n",
    "x_scaled = x_scaled.values \n",
    "x_scaled_tensor = torch.tensor(x_scaled, dtype=torch.float32).to(device)\n",
    "\n",
    "# Reconstruct x_scaled using the autoencoder\n",
    "with torch.no_grad():\n",
    "    x_reconstructed = autoencoder(x_scaled_tensor).cpu().numpy()\n",
    "\n",
    "# Calculate Mean Squared Error (MSE)\n",
    "mse = np.mean((x_scaled - x_reconstructed) ** 2)\n",
    "print(f'Mean Squared Error (MSE): {mse}')\n",
    "\n",
    "# Calculate Mean Absolute Error (MAE)\n",
    "mae = np.mean(np.abs(x_scaled - x_reconstructed))\n",
    "print(f'Mean Absolute Error (MAE): {mae}')\n",
    "\n",
    "# Calculate Reconstruction Error Percentage\n",
    "reconstruction_error = np.mean(np.square(x_scaled - x_reconstructed), axis=1)\n",
    "reconstruction_error_percentage = np.mean(reconstruction_error) * 100\n",
    "print(f'Reconstruction Error Percentage: {reconstruction_error_percentage:.2f}%')\n",
    "\n",
    "# Define thresholds\n",
    "thresholds = [1, 1.5, 2, 2.5, 3, 3.5, 4, 5]\n",
    "\n",
    "# Store the number of samples with errors exceeding thresholds\n",
    "error_counts = {threshold: np.sum(reconstruction_error * 100 > threshold) for threshold in thresholds}\n",
    "\n",
    "# Print the number of samples with errors exceeding each threshold\n",
    "for threshold, count in error_counts.items():\n",
    "    print(f'Number of samples with errors over {threshold}%: {count}')\n",
    "\n",
    "# Plot the reconstruction error percentages for all data points\n",
    "plt.figure(figsize=(12, 6))\n",
    "plt.plot(reconstruction_error * 100, marker='o', linestyle='none')\n",
    "plt.title('Reconstruction Error Percentages for All Data Points')\n",
    "plt.xlabel('Data Point Index')\n",
    "plt.ylabel('Reconstruction Error Percentage')\n",
    "plt.ylim(0, 10)  # Scale the y-axis from 0 to 10\n",
    "plt.grid(True)\n",
    "plt.show()"
   ]
  },
  {
   "cell_type": "code",
   "execution_count": 62,
   "metadata": {},
   "outputs": [
    {
     "name": "stdout",
     "output_type": "stream",
     "text": [
      "Number of overlapping indices: 595\n",
      "Overlapping indices: [  235   400   614   658   712   850  1105  1113  1163  1253  1578  1666\n",
      "  1703  2130  2307  2417  2803  3140  3145  3436  3643  3729  4018  4100\n",
      "  4190  4858  5020  5031  5465  5484  5618  5754  5986  6269  6284  6321\n",
      "  6579  6944  7105  7221  7767  7836  7904  8026  8125  8318  8363  8485\n",
      "  8719  8720  8726  8730  8772  9081  9093  9454  9642 10127 10373 10957\n",
      " 11097 11182 11243 11418 11520 11556 11816 11899 12007 12398 12463 12607\n",
      " 12745 13032 13287 13459 13899 14248 14538 15195 15311 15618 15744 15751\n",
      " 16034 16127 16298 16389 16599 17047 17080 17085 17232 17539 17940 17958\n",
      " 18494 18557 18642 18862 18870 18928 19072 19119 19221 19246 19644 19819\n",
      " 19893 20579 20744 20764 20773 20829 20923 21243 21463 21493 21571 21957\n",
      " 21981 22230 22268 22378 22434 22494 22584 22763 23080 23330 23420 23532\n",
      " 23549 23984 24175 24221 24569 24714 25025 25135 25760 25799 25863 26182\n",
      " 26198 26339 26582 26655 27147 27947 28348 28373 28573 28738 28745 29087\n",
      " 29187 29309 29385 29409 29445 29507 29830 30217 30239 30427 30770 30791\n",
      " 30937 31089 31108 31369 31818 32073 32322 32449 32690 32768 32785 32921\n",
      " 33200 33429 33474 33701 33752 33823 33871 33987 34092 34130 34179 34272\n",
      " 34315 34498 34768 34813 35160 35282 35344 35486 35493 35569 35657 36001\n",
      " 36209 36290 36302 36439 36527 36739 37124 37161 37376 37716 37750 37841\n",
      " 38161 38477 38519 38718 38844 38878 38897 38967 39339 39516 39521 39527\n",
      " 39643 39676 39897 39898 40029 40143 40622 40785 40925 41317 41477 41519\n",
      " 41536 41712 41801 42090 42197 42318 42926 42933 43171 43304 43650 43864\n",
      " 43923 43990 44310 44459 45120 45258 45326 45542 45736 45922 46184 46299\n",
      " 46442 46608 46764 46770 46864 46924 47006 47142 47172 47450 47869 48034\n",
      " 48095 48111 48612 48676 48771 49030 49448 49773 49890 50206 50287 50289\n",
      " 50328 50363 50480 50591 50639 50662 50722 51594 51819 51920 52134 52333\n",
      " 52442 52476 52726 52791 52968 53184 53685 53694 54005 54033 54478 54534\n",
      " 54995 55156 55332 55451 55480 55914 56005 56733 56734 56746 56781 57169\n",
      " 57292 57446 57705 57835 57938 58070 58301 58332 58369 58885 58940 59159\n",
      " 59203 59210 59338 59768 59862 59956 60280 60412 60616 60823 60871 60960\n",
      " 61273 61309 61351 61462 61759 62174 62296 62553 62835 63626 63656 63759\n",
      " 63855 63884 64240 64264 64285 64322 64323 64720 64770 64822 64878 64889\n",
      " 64970 65174 65288 65332 65477 65671 65727 65963 66116 66181 66240 66464\n",
      " 66480 66532 66539 66576 66694 66714 66768 66931 67165 67168 67296 67441\n",
      " 67692 67736 67751 67830 67847 67919 67926 68224 68366 68391 68431 69225\n",
      " 69387 69459 69984 70074 70852 71189 71527 71568 71622 71757 71973 72421\n",
      " 72693 72899 73292 73308 73323 73543 73612 73627 73826 74026 74058 74150\n",
      " 74522 74997 75268 75536 75731 75772 76440 76474 76494 76631 76808 77054\n",
      " 77062 77270 77387 77560 77613 77734 77900 78081 78215 78440 78441 78762\n",
      " 79121 79301 79303 79399 79424 79436 79622 79662 79973 79988 80080 80300\n",
      " 80302 80337 80440 80638 81087 81239 81377 81453 81537 81600 81610 81724\n",
      " 81751 82028 82081 82280 82352 82473 82642 82645 82748 82852 82870 83089\n",
      " 83205 83716 83996 84050 84436 84567 85021 85058 85435 85753 85925 86607\n",
      " 86741 86970 87017 87442 87650 87931 88093 88269 88462 88921 89061 89136\n",
      " 89559 89650 89671 89752 89869 90000 90029 90071 90125 90282 90536 90601\n",
      " 90753 90842 90907 91048 91049 91546 92003 92070 92199 92343 92436 92618\n",
      " 92718 92769 92954 92976 93176 93277 93320 93515 93813 93874 93899 94129\n",
      " 94595 94637 94670 94771 94902 95119 95247 95352 95362 95788 95797 95825\n",
      " 95847 95906 95990 96334 96528 96539 96743 97124 97196 97260 97313 97376\n",
      " 97699 97725 97731 97934 97987 98144 98427 98563 98621 98672 98895 99016\n",
      " 99169 99509 99706 99740 99942 99962 99997]\n"
     ]
    }
   ],
   "source": [
    "# Find indices with over 2.5% reconstruction error\n",
    "high_error_indices = np.where(reconstruction_error * 100 > 0.21)[0]\n",
    "\n",
    "# Find the overlap between wrong_prediction_indices and high_error_indices\n",
    "overlap_indices = np.intersect1d(wrong_prediction_indices, high_error_indices)\n",
    "\n",
    "print(f\"Number of overlapping indices: {len(overlap_indices)}\")\n",
    "print(\"Overlapping indices:\", overlap_indices)"
   ]
  },
  {
   "cell_type": "code",
   "execution_count": 63,
   "metadata": {},
   "outputs": [
    {
     "name": "stdout",
     "output_type": "stream",
     "text": [
      "Reconstruction Errors for Wrong Predictions: [0.00134754 0.00125509 0.00050143 ... 0.00068941 0.00105297 0.00651119]\n",
      "Mean Reconstruction Error for Wrong Predictions: 0.0015411484500427641\n",
      "Standard Deviation of Reconstruction Error for Wrong Predictions: 0.002267851715088761\n"
     ]
    },
    {
     "data": {
      "image/png": "[encoded data removed]",
      "text/plain": [
       "<Figure size 864x432 with 1 Axes>"
      ]
     },
     "metadata": {
      "needs_background": "light"
     },
     "output_type": "display_data"
    }
   ],
   "source": [
    "# Filter the reconstruction errors for the wrong prediction indices\n",
    "wrong_prediction_reconstruction_errors = reconstruction_error[wrong_prediction_indices]\n",
    "\n",
    "# Print the reconstruction errors for the wrong prediction indices\n",
    "print(\"Reconstruction Errors for Wrong Predictions:\", wrong_prediction_reconstruction_errors)\n",
    "\n",
    "# Optionally, you can calculate some statistics like mean and standard deviation\n",
    "mean_error = np.mean(wrong_prediction_reconstruction_errors)\n",
    "std_error = np.std(wrong_prediction_reconstruction_errors)\n",
    "\n",
    "print(f\"Mean Reconstruction Error for Wrong Predictions: {mean_error}\")\n",
    "print(f\"Standard Deviation of Reconstruction Error for Wrong Predictions: {std_error}\")\n",
    "\n",
    "# Plot the reconstruction errors for the wrong prediction indices\n",
    "plt.figure(figsize=(12, 6))\n",
    "plt.plot(wrong_prediction_indices, wrong_prediction_reconstruction_errors, marker='o', linestyle='none')\n",
    "plt.title('Reconstruction Errors for Wrong Predictions')\n",
    "plt.xlabel('Data Point Index')\n",
    "plt.ylabel('Reconstruction Error')\n",
    "plt.grid(True)\n",
    "plt.show()"
   ]
  },
  {
   "cell_type": "code",
   "execution_count": null,
   "metadata": {},
   "outputs": [],
   "source": []
  },
  {
   "cell_type": "markdown",
   "metadata": {},
   "source": []
  }
 ],
 "metadata": {
  "kernelspec": {
   "display_name": "base",
   "language": "python",
   "name": "python3"
  },
  "language_info": {
   "codemirror_mode": {
    "name": "ipython",
    "version": 3
   },
   "file_extension": ".py",
   "mimetype": "text/x-python",
   "name": "python",
   "nbconvert_exporter": "python",
   "pygments_lexer": "ipython3",
   "version": "3.9.7"
  }
 },
 "nbformat": 4,
 "nbformat_minor": 2
}
