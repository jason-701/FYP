{
 "cells": [
  {
   "cell_type": "code",
   "execution_count": 20,
   "metadata": {},
   "outputs": [],
   "source": [
    "import pandas as pd\n",
    "from sklearn.preprocessing import StandardScaler\n",
    "from sklearn.model_selection import train_test_split\n",
    "import numpy as np\n",
    "from sklearn.metrics import mean_squared_error\n",
    "import matplotlib.pyplot as plt\n",
    "from imblearn.over_sampling import SMOTE\n",
    "import os\n"
   ]
  },
  {
   "cell_type": "code",
   "execution_count": 21,
   "metadata": {},
   "outputs": [
    {
     "name": "stdout",
     "output_type": "stream",
     "text": [
      "Index(['gender', 'age', 'hypertension', 'heart_disease', 'smoking_history',\n",
      "       'bmi', 'HbA1c_level', 'blood_glucose_level', 'diabetes'],\n",
      "      dtype='object')\n"
     ]
    }
   ],
   "source": [
    "\n",
    "# Read the CSV file\n",
    "df = pd.read_csv('diabetes_prediction_dataset.csv')\n",
    "print(df.columns)"
   ]
  },
  {
   "cell_type": "markdown",
   "metadata": {},
   "source": [
    "## <span style=\"color:red\">Preprocessing</span>"
   ]
  },
  {
   "cell_type": "code",
   "execution_count": 22,
   "metadata": {},
   "outputs": [
    {
     "name": "stdout",
     "output_type": "stream",
     "text": [
      "gender                 0\n",
      "age                    0\n",
      "hypertension           0\n",
      "heart_disease          0\n",
      "smoking_history        0\n",
      "bmi                    0\n",
      "HbA1c_level            0\n",
      "blood_glucose_level    0\n",
      "diabetes               0\n",
      "dtype: int64\n"
     ]
    }
   ],
   "source": [
    "null_counts = df.isnull().sum()\n",
    "print(null_counts)"
   ]
  },
  {
   "cell_type": "markdown",
   "metadata": {},
   "source": [
    "### <span style=\"color:yellow\">No columns have null values</span>"
   ]
  },
  {
   "cell_type": "code",
   "execution_count": 23,
   "metadata": {},
   "outputs": [
    {
     "name": "stdout",
     "output_type": "stream",
     "text": [
      "number of unique values in gender : 3\n",
      "number of unique values in age : 102\n",
      "number of unique values in hypertension : 2\n",
      "number of unique values in heart_disease : 2\n",
      "number of unique values in smoking_history : 6\n",
      "number of unique values in bmi : 4247\n",
      "number of unique values in HbA1c_level : 18\n",
      "number of unique values in blood_glucose_level : 18\n",
      "number of unique values in diabetes : 2\n"
     ]
    }
   ],
   "source": [
    "for i in df.columns:\n",
    "    print(\"number of unique values in\", i, \":\", df[i].nunique())"
   ]
  },
  {
   "cell_type": "markdown",
   "metadata": {},
   "source": [
    "### <span style=\"color:yellow\">One-hot encoding for gender and smoking_history</span>"
   ]
  },
  {
   "cell_type": "code",
   "execution_count": 24,
   "metadata": {},
   "outputs": [
    {
     "name": "stdout",
     "output_type": "stream",
     "text": [
      "    age  hypertension  heart_disease    bmi  HbA1c_level  blood_glucose_level  \\\n",
      "0  80.0             0              1  25.19          6.6                  140   \n",
      "1  54.0             0              0  27.32          6.6                   80   \n",
      "2  28.0             0              0  27.32          5.7                  158   \n",
      "3  36.0             0              0  23.45          5.0                  155   \n",
      "4  76.0             1              1  20.14          4.8                  155   \n",
      "\n",
      "   diabetes  gender_Male  gender_Other  smoking_history_current  \\\n",
      "0         0            0             0                        0   \n",
      "1         0            0             0                        0   \n",
      "2         0            1             0                        0   \n",
      "3         0            0             0                        1   \n",
      "4         0            1             0                        1   \n",
      "\n",
      "   smoking_history_ever  smoking_history_former  smoking_history_never  \\\n",
      "0                     0                       0                      1   \n",
      "1                     0                       0                      0   \n",
      "2                     0                       0                      1   \n",
      "3                     0                       0                      0   \n",
      "4                     0                       0                      0   \n",
      "\n",
      "   smoking_history_not current  \n",
      "0                            0  \n",
      "1                            0  \n",
      "2                            0  \n",
      "3                            0  \n",
      "4                            0  \n"
     ]
    }
   ],
   "source": [
    "df_encoded = pd.get_dummies(df, columns=['gender', 'smoking_history'], drop_first=True)\n",
    "print(df_encoded.head())"
   ]
  },
  {
   "cell_type": "markdown",
   "metadata": {},
   "source": [
    "### <span style=\"color:yellow\">Normalizing the data</span>"
   ]
  },
  {
   "cell_type": "code",
   "execution_count": 25,
   "metadata": {},
   "outputs": [
    {
     "name": "stdout",
     "output_type": "stream",
     "text": [
      "Index([], dtype='object')\n",
      "Index(['age', 'hypertension', 'heart_disease', 'bmi', 'HbA1c_level',\n",
      "       'blood_glucose_level', 'diabetes', 'gender_Male', 'gender_Other',\n",
      "       'smoking_history_current', 'smoking_history_ever',\n",
      "       'smoking_history_former', 'smoking_history_never',\n",
      "       'smoking_history_not current'],\n",
      "      dtype='object')\n"
     ]
    }
   ],
   "source": [
    "boolean_columns = df_encoded.select_dtypes(include=bool).columns\n",
    "numerical_columns = df_encoded.select_dtypes(include=np.number).columns\n",
    "print(boolean_columns)\n",
    "print(numerical_columns)"
   ]
  },
  {
   "cell_type": "code",
   "execution_count": 26,
   "metadata": {},
   "outputs": [
    {
     "name": "stdout",
     "output_type": "stream",
     "text": [
      "Resampled and Scaled DataFrame:\n",
      "        age  hypertension  heart_disease       bmi  HbA1c_level  \\\n",
      "0  1.692704     -0.284439       4.936379 -0.321056     1.001706   \n",
      "1  0.538006     -0.284439      -0.202578 -0.000116     1.001706   \n",
      "2 -0.616691     -0.284439      -0.202578 -0.000116     0.161108   \n",
      "3 -0.261399     -0.284439      -0.202578 -0.583232    -0.492690   \n",
      "4  1.515058      3.515687       4.936379 -1.081970    -0.679490   \n",
      "\n",
      "   blood_glucose_level  gender_Male  gender_Other  smoking_history_current  \\\n",
      "0             0.047704            0             0                        0   \n",
      "1            -1.426210            0             0                        0   \n",
      "2             0.489878            1             0                        0   \n",
      "3             0.416183            0             0                        1   \n",
      "4             0.416183            1             0                        1   \n",
      "\n",
      "   smoking_history_ever  smoking_history_former  smoking_history_never  \\\n",
      "0                     0                       0                      1   \n",
      "1                     0                       0                      0   \n",
      "2                     0                       0                      1   \n",
      "3                     0                       0                      0   \n",
      "4                     0                       0                      0   \n",
      "\n",
      "   smoking_history_not current  diabetes  \n",
      "0                            0         0  \n",
      "1                            0         0  \n",
      "2                            0         0  \n",
      "3                            0         0  \n",
      "4                            0         0  \n",
      "\n",
      "Class Distribution After Resampling:\n",
      "0    91500\n",
      "1     8500\n",
      "Name: diabetes, dtype: int64\n",
      "\n",
      "Class distribution before resampling:\n",
      "0    91500\n",
      "1     8500\n",
      "Name: diabetes, dtype: int64\n"
     ]
    }
   ],
   "source": [
    "# Separate features and target\n",
    "X = df_encoded.drop(columns=['diabetes'])\n",
    "y = df_encoded['diabetes']\n",
    "\n",
    "# Identify numerical, boolean, and one-hot encoded columns\n",
    "numerical_columns = X.select_dtypes(include=['float64', 'int64']).columns\n",
    "boolean_columns = X.select_dtypes(include=['bool']).columns\n",
    "one_hot_encoded_columns = X.columns.difference(numerical_columns.union(boolean_columns))\n",
    "\n",
    "# Resample the data using SMOTE\n",
    "# smote = SMOTE(random_state=42, sampling_strategy=0.10)\n",
    "\n",
    "# Nevermind let's not do the resampling for now\n",
    "X_resampled, y_resampled = X,y\n",
    "\n",
    "# Normalize the numerical features\n",
    "scaler = StandardScaler()\n",
    "X_resampled_numerical = pd.DataFrame(scaler.fit_transform(X_resampled[numerical_columns]), columns=numerical_columns)\n",
    "\n",
    "# Combine the normalized numerical features with the boolean and one-hot encoded features\n",
    "X_resampled_scaled = pd.concat([X_resampled_numerical, X_resampled[boolean_columns].reset_index(drop=True), X_resampled[one_hot_encoded_columns].reset_index(drop=True)], axis=1)\n",
    "\n",
    "# Add the target variable back to the DataFrame\n",
    "df_resampled_scaled = pd.concat([X_resampled_scaled, y_resampled.reset_index(drop=True)], axis=1)\n",
    "\n",
    "# Display the first few rows of the resampled and scaled DataFrame\n",
    "print(\"Resampled and Scaled DataFrame:\")\n",
    "print(df_resampled_scaled.head())\n",
    "\n",
    "# Check the class distribution after resampling\n",
    "print(\"\\nClass Distribution After Resampling:\")\n",
    "print(df_resampled_scaled['diabetes'].value_counts())\n",
    "\n",
    "print(\"\\nClass distribution before resampling:\")\n",
    "print(df['diabetes'].value_counts())"
   ]
  },
  {
   "cell_type": "markdown",
   "metadata": {},
   "source": [
    "### <span style=\"color:yellow\">Train test split</span>"
   ]
  },
  {
   "cell_type": "code",
   "execution_count": 27,
   "metadata": {},
   "outputs": [],
   "source": [
    "x = df_resampled_scaled.drop('diabetes', axis=1)\n",
    "y = df_resampled_scaled['diabetes']\n",
    "x_train, x_test, y_train, y_test = train_test_split(x, y, test_size=0.2, random_state=42)"
   ]
  },
  {
   "cell_type": "markdown",
   "metadata": {},
   "source": [
    "### <span style=\"color:yellow\">Training an MLP model</span>"
   ]
  },
  {
   "cell_type": "code",
   "execution_count": 28,
   "metadata": {},
   "outputs": [
    {
     "name": "stdout",
     "output_type": "stream",
     "text": [
      "Using device: cuda\n",
      "Model file does not exist. Training a new model...\n",
      "Epoch [1/50], Loss: 0.1227\n",
      "Validation Loss: 0.1052\n",
      "Epoch [2/50], Loss: 0.1011\n",
      "Validation Loss: 0.0971\n",
      "Epoch [3/50], Loss: 0.0949\n",
      "Validation Loss: 0.0915\n",
      "Epoch [4/50], Loss: 0.0890\n",
      "Validation Loss: 0.0872\n",
      "Epoch [5/50], Loss: 0.0862\n",
      "Validation Loss: 0.0868\n",
      "Epoch [6/50], Loss: 0.0843\n",
      "Validation Loss: 0.0842\n",
      "Epoch [7/50], Loss: 0.0837\n",
      "Validation Loss: 0.0825\n",
      "Epoch [8/50], Loss: 0.0829\n",
      "Validation Loss: 0.0830\n",
      "Epoch [9/50], Loss: 0.0823\n",
      "Validation Loss: 0.0825\n",
      "Epoch [10/50], Loss: 0.0821\n",
      "Validation Loss: 0.0863\n",
      "Early stopping triggered.\n",
      "Model trained and saved.\n",
      "Test Loss: 0.0863\n",
      "Test MAE: 0.0521\n",
      "Total Predictions: 20000\n",
      "Correct Predictions: 19385\n",
      "Incorrect Predictions: 615\n",
      "Prediction Accuracy: 0.9692\n"
     ]
    }
   ],
   "source": [
    "import os\n",
    "import torch\n",
    "import torch.nn as nn\n",
    "import torch.optim as optim\n",
    "from torch.utils.data import DataLoader, TensorDataset\n",
    "\n",
    "# Check if CUDA is available and print the device being used\n",
    "device = torch.device(\"cuda\" if torch.cuda.is_available() else \"cpu\")\n",
    "print(f\"Using device: {device}\")\n",
    "\n",
    "# Convert data to PyTorch tensors\n",
    "X_train_tensor = torch.tensor(x_train.values, dtype=torch.float32)\n",
    "y_train_tensor = torch.tensor(y_train.values, dtype=torch.float32).unsqueeze(1)\n",
    "X_test_tensor = torch.tensor(x_test.values, dtype=torch.float32)\n",
    "y_test_tensor = torch.tensor(y_test.values, dtype=torch.float32).unsqueeze(1)\n",
    "\n",
    "# Create DataLoader\n",
    "train_dataset = TensorDataset(X_train_tensor, y_train_tensor)\n",
    "test_dataset = TensorDataset(X_test_tensor, y_test_tensor)\n",
    "train_loader = DataLoader(train_dataset, batch_size=32, shuffle=True)\n",
    "test_loader = DataLoader(test_dataset, batch_size=32, shuffle=False)\n",
    "\n",
    "class MLP(nn.Module):\n",
    "    def __init__(self, input_dim):\n",
    "        super(MLP, self).__init__()\n",
    "        self.model = nn.Sequential(\n",
    "            nn.Linear(input_dim, 64),\n",
    "            nn.ReLU(),\n",
    "            nn.Linear(64, 32),\n",
    "            nn.ReLU(),\n",
    "            nn.Linear(32, 1),\n",
    "            nn.Sigmoid()  # Sigmoid for binary classification\n",
    "        )\n",
    "        \n",
    "    def forward(self, x):\n",
    "        return self.model(x)\n",
    "\n",
    "\n",
    "# Initialize the model, loss function, and optimizer\n",
    "input_dim = x_train.shape[1]\n",
    "model = MLP(input_dim).to(device)\n",
    "criterion = nn.BCELoss()\n",
    "optimizer = optim.Adam(model.parameters(), lr=0.001)\n",
    "\n",
    "# Define the path to the saved model file\n",
    "model_file = './models/mlp_model.pth'\n",
    "\n",
    "# Check if the model file exists\n",
    "if os.path.exists(model_file):\n",
    "    print(\"Model file exists. Loading the model...\")\n",
    "    model.load_state_dict(torch.load(model_file))\n",
    "else:\n",
    "    print(\"Model file does not exist. Training a new model...\")\n",
    "\n",
    "    # Train the model\n",
    "    num_epochs = 50\n",
    "    best_loss = float('inf')\n",
    "    patience = 3\n",
    "    patience_counter = 0\n",
    "\n",
    "    for epoch in range(num_epochs):\n",
    "        model.train()\n",
    "        running_loss = 0.0\n",
    "        for X_batch, y_batch in train_loader:\n",
    "            X_batch, y_batch = X_batch.to(device), y_batch.to(device)\n",
    "            \n",
    "            optimizer.zero_grad()\n",
    "            outputs = model(X_batch)\n",
    "            loss = criterion(outputs, y_batch)\n",
    "            loss.backward()\n",
    "            optimizer.step()\n",
    "            \n",
    "            running_loss += loss.item() * X_batch.size(0)\n",
    "        \n",
    "        epoch_loss = running_loss / len(train_loader.dataset)\n",
    "        print(f'Epoch [{epoch+1}/{num_epochs}], Loss: {epoch_loss:.4f}')\n",
    "\n",
    "        # Early stopping\n",
    "        model.eval()\n",
    "        val_loss = 0.0\n",
    "        with torch.no_grad():\n",
    "            for X_batch, y_batch in test_loader:\n",
    "                X_batch, y_batch = X_batch.to(device), y_batch.to(device)\n",
    "                outputs = model(X_batch)\n",
    "                loss = criterion(outputs, y_batch)\n",
    "                val_loss += loss.item() * X_batch.size(0)\n",
    "        \n",
    "        val_loss /= len(test_loader.dataset)\n",
    "        print(f'Validation Loss: {val_loss:.4f}')\n",
    "\n",
    "        if val_loss < best_loss:\n",
    "            best_loss = val_loss\n",
    "            patience_counter = 0\n",
    "        else:\n",
    "            patience_counter += 1\n",
    "            if patience_counter >= patience:\n",
    "                print(\"Early stopping triggered.\")\n",
    "                break\n",
    "\n",
    "    # Save the trained model after training is complete\n",
    "    torch.save(model.state_dict(), model_file)\n",
    "    print(\"Model trained and saved.\")\n",
    "\n",
    "# Evaluate the model\n",
    "model.eval()\n",
    "test_loss = 0.0\n",
    "with torch.no_grad():\n",
    "    for X_batch, y_batch in test_loader:\n",
    "        X_batch, y_batch = X_batch.to(device), y_batch.to(device)\n",
    "        outputs = model(X_batch)\n",
    "        loss = criterion(outputs, y_batch)\n",
    "        test_loss += loss.item() * X_batch.size(0)\n",
    "\n",
    "test_loss /= len(test_loader.dataset)\n",
    "print(f'Test Loss: {test_loss:.4f}')\n",
    "\n",
    "# Calculate Mean Absolute Error (MAE)\n",
    "test_mae = 0.0\n",
    "with torch.no_grad():\n",
    "    for X_batch, y_batch in test_loader:\n",
    "        X_batch, y_batch = X_batch.to(device), y_batch.to(device)\n",
    "        outputs = model(X_batch)\n",
    "        mae = torch.mean(torch.abs(outputs - y_batch))\n",
    "        test_mae += mae.item() * X_batch.size(0)\n",
    "\n",
    "test_mae /= len(test_loader.dataset)\n",
    "print(f'Test MAE: {test_mae:.4f}')\n",
    "\n",
    "# Calculate Prediction Accuracy\n",
    "correct_predictions = 0\n",
    "total_predictions = 0\n",
    "with torch.no_grad():\n",
    "    for X_batch, y_batch in test_loader:\n",
    "        X_batch, y_batch = X_batch.to(device), y_batch.to(device)\n",
    "        outputs = model(X_batch)  # Outputs are probabilities due to sigmoid\n",
    "        predictions = (outputs > 0.5).float()  # Convert probabilities to binary predictions\n",
    "        correct_predictions += torch.sum(predictions == y_batch).item()\n",
    "        total_predictions += y_batch.size(0)\n",
    "\n",
    "accuracy = correct_predictions / total_predictions\n",
    "print(\"Total Predictions:\", total_predictions)\n",
    "print(\"Correct Predictions:\", correct_predictions)\n",
    "print(\"Incorrect Predictions:\", total_predictions - correct_predictions)\n",
    "print(f'Prediction Accuracy: {accuracy:.4f}')\n"
   ]
  },
  {
   "cell_type": "code",
   "execution_count": null,
   "metadata": {},
   "outputs": [],
   "source": []
  }
 ],
 "metadata": {
  "kernelspec": {
   "display_name": "base",
   "language": "python",
   "name": "python3"
  },
  "language_info": {
   "codemirror_mode": {
    "name": "ipython",
    "version": 3
   },
   "file_extension": ".py",
   "mimetype": "text/x-python",
   "name": "python",
   "nbconvert_exporter": "python",
   "pygments_lexer": "ipython3",
   "version": "3.9.7"
  }
 },
 "nbformat": 4,
 "nbformat_minor": 2
}
